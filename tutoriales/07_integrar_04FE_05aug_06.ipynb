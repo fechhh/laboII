{
 "cells": [
  {
   "cell_type": "code",
   "execution_count": 1,
   "metadata": {},
   "outputs": [
    {
     "name": "stdout",
     "output_type": "stream",
     "text": [
      "Requirement already satisfied: tabulate in c:\\anaconda3\\envs\\ldi2_cuda\\lib\\site-packages (0.9.0)\n",
      "Note: you may need to restart the kernel to use updated packages.\n"
     ]
    }
   ],
   "source": [
    "%pip install tabulate"
   ]
  },
  {
   "cell_type": "code",
   "execution_count": 2,
   "metadata": {},
   "outputs": [
    {
     "name": "stderr",
     "output_type": "stream",
     "text": [
      "c:\\anaconda3\\envs\\ldi2_cuda\\Lib\\site-packages\\tqdm\\auto.py:21: TqdmWarning: IProgress not found. Please update jupyter and ipywidgets. See https://ipywidgets.readthedocs.io/en/stable/user_install.html\n",
      "  from .autonotebook import tqdm as notebook_tqdm\n"
     ]
    }
   ],
   "source": [
    "import numpy as np \n",
    "import pandas as pd\n",
    "import matplotlib.pyplot as plt\n",
    "\n",
    "from sklearn.metrics import accuracy_score, balanced_accuracy_score, f1_score, precision_score, recall_score, cohen_kappa_score\n",
    "from tabulate import tabulate  # For table formatting\n",
    "\n",
    "from plotly import express as px\n",
    "\n",
    "from utils import plot_confusion_matrix, get_artifact_filename\n",
    "\n",
    "import os\n",
    "\n",
    "from json import loads\n",
    "\n",
    "from joblib import load, dump\n",
    "\n",
    "import optuna\n",
    "from optuna.artifacts import FileSystemArtifactStore, upload_artifact"
   ]
  },
  {
   "cell_type": "code",
   "execution_count": 3,
   "metadata": {},
   "outputs": [],
   "source": [
    "# Paths\n",
    "BASE_DIR = '../'\n",
    "PATH_TO_TRAIN = os.path.join(BASE_DIR, \"input/petfinder-adoption-prediction/train/train.csv\")\n",
    "PATH_TO_MODELS = os.path.join(BASE_DIR, \"work/models\")\n",
    "PATH_TO_TEMP_FILES = os.path.join(BASE_DIR, \"work/optuna_temp_artifacts\")\n",
    "PATH_TO_OPTUNA_ARTIFACTS = os.path.join(BASE_DIR, \"work/optuna_artifacts\")"
   ]
  },
  {
   "cell_type": "markdown",
   "metadata": {},
   "source": [
    "## (0) Modelo Tabulares Base\n",
    "Variables originales del dataset, sin feature engineering."
   ]
  },
  {
   "cell_type": "code",
   "execution_count": 4,
   "metadata": {},
   "outputs": [
    {
     "name": "stderr",
     "output_type": "stream",
     "text": [
      "[I 2024-10-17 18:57:31,852] Using an existing study with name '04 - LGB Multiclass - Base' instead of creating a new one.\n"
     ]
    }
   ],
   "source": [
    "study_lgb_base = optuna.create_study(direction='maximize',\n",
    "                            storage=\"sqlite:///../work/db.sqlite3\",  # Specify the storage URL here.\n",
    "                            study_name=\"04 - LGB Multiclass - Base\",\n",
    "                            load_if_exists = True)\n",
    "\n",
    "# Get the artifact filename\n",
    "artifact_filename = get_artifact_filename(study_lgb_base,'test')\n",
    "\n",
    "# Combine the path and filename\n",
    "artifact_path = os.path.join(PATH_TO_OPTUNA_ARTIFACTS, artifact_filename)\n",
    "\n",
    "\n",
    "lgb_base_ds = load(artifact_path)"
   ]
  },
  {
   "cell_type": "code",
   "execution_count": 5,
   "metadata": {},
   "outputs": [
    {
     "data": {
      "application/vnd.plotly.v1+json": {
       "config": {
        "plotlyServerURL": "https://plot.ly"
       },
       "data": [
        {
         "type": "heatmap",
         "x": [
          0,
          1,
          2,
          3,
          4
         ],
         "y": [
          0,
          1,
          2,
          3,
          4
         ],
         "z": [
          [
           0,
           41.46341463414634,
           25.609756097560975,
           8.536585365853659,
           24.390243902439025
          ],
          [
           0,
           32.5242718446602,
           39.15857605177994,
           5.6634304207119746,
           22.653721682847898
          ],
          [
           0,
           19.950433705080545,
           42.37918215613383,
           8.550185873605948,
           29.120198265179674
          ],
          [
           0,
           16.56441717791411,
           36.963190184049076,
           14.877300613496933,
           31.595092024539877
          ],
          [
           0,
           9.404761904761905,
           20,
           5.952380952380952,
           64.64285714285715
          ]
         ]
        }
       ],
       "layout": {
        "annotations": [
         {
          "font": {
           "color": "white"
          },
          "showarrow": false,
          "text": "0.0 - 0",
          "x": 0,
          "xref": "x",
          "y": 0,
          "yref": "y"
         },
         {
          "font": {
           "color": "white"
          },
          "showarrow": false,
          "text": "41.5 - 34",
          "x": 1,
          "xref": "x",
          "y": 0,
          "yref": "y"
         },
         {
          "font": {
           "color": "white"
          },
          "showarrow": false,
          "text": "25.6 - 21",
          "x": 2,
          "xref": "x",
          "y": 0,
          "yref": "y"
         },
         {
          "font": {
           "color": "white"
          },
          "showarrow": false,
          "text": "8.5 - 7",
          "x": 3,
          "xref": "x",
          "y": 0,
          "yref": "y"
         },
         {
          "font": {
           "color": "white"
          },
          "showarrow": false,
          "text": "24.4 - 20",
          "x": 4,
          "xref": "x",
          "y": 0,
          "yref": "y"
         },
         {
          "font": {
           "color": "white"
          },
          "showarrow": false,
          "text": "0.0 - 0",
          "x": 0,
          "xref": "x",
          "y": 1,
          "yref": "y"
         },
         {
          "font": {
           "color": "white"
          },
          "showarrow": false,
          "text": "32.5 - 201",
          "x": 1,
          "xref": "x",
          "y": 1,
          "yref": "y"
         },
         {
          "font": {
           "color": "white"
          },
          "showarrow": false,
          "text": "39.2 - 242",
          "x": 2,
          "xref": "x",
          "y": 1,
          "yref": "y"
         },
         {
          "font": {
           "color": "white"
          },
          "showarrow": false,
          "text": "5.7 - 35",
          "x": 3,
          "xref": "x",
          "y": 1,
          "yref": "y"
         },
         {
          "font": {
           "color": "white"
          },
          "showarrow": false,
          "text": "22.7 - 140",
          "x": 4,
          "xref": "x",
          "y": 1,
          "yref": "y"
         },
         {
          "font": {
           "color": "white"
          },
          "showarrow": false,
          "text": "0.0 - 0",
          "x": 0,
          "xref": "x",
          "y": 2,
          "yref": "y"
         },
         {
          "font": {
           "color": "white"
          },
          "showarrow": false,
          "text": "20.0 - 161",
          "x": 1,
          "xref": "x",
          "y": 2,
          "yref": "y"
         },
         {
          "font": {
           "color": "white"
          },
          "showarrow": false,
          "text": "42.4 - 342",
          "x": 2,
          "xref": "x",
          "y": 2,
          "yref": "y"
         },
         {
          "font": {
           "color": "white"
          },
          "showarrow": false,
          "text": "8.6 - 69",
          "x": 3,
          "xref": "x",
          "y": 2,
          "yref": "y"
         },
         {
          "font": {
           "color": "white"
          },
          "showarrow": false,
          "text": "29.1 - 235",
          "x": 4,
          "xref": "x",
          "y": 2,
          "yref": "y"
         },
         {
          "font": {
           "color": "white"
          },
          "showarrow": false,
          "text": "0.0 - 0",
          "x": 0,
          "xref": "x",
          "y": 3,
          "yref": "y"
         },
         {
          "font": {
           "color": "white"
          },
          "showarrow": false,
          "text": "16.6 - 108",
          "x": 1,
          "xref": "x",
          "y": 3,
          "yref": "y"
         },
         {
          "font": {
           "color": "white"
          },
          "showarrow": false,
          "text": "37.0 - 241",
          "x": 2,
          "xref": "x",
          "y": 3,
          "yref": "y"
         },
         {
          "font": {
           "color": "white"
          },
          "showarrow": false,
          "text": "14.9 - 97",
          "x": 3,
          "xref": "x",
          "y": 3,
          "yref": "y"
         },
         {
          "font": {
           "color": "white"
          },
          "showarrow": false,
          "text": "31.6 - 206",
          "x": 4,
          "xref": "x",
          "y": 3,
          "yref": "y"
         },
         {
          "font": {
           "color": "white"
          },
          "showarrow": false,
          "text": "0.0 - 0",
          "x": 0,
          "xref": "x",
          "y": 4,
          "yref": "y"
         },
         {
          "font": {
           "color": "white"
          },
          "showarrow": false,
          "text": "9.4 - 79",
          "x": 1,
          "xref": "x",
          "y": 4,
          "yref": "y"
         },
         {
          "font": {
           "color": "white"
          },
          "showarrow": false,
          "text": "20.0 - 168",
          "x": 2,
          "xref": "x",
          "y": 4,
          "yref": "y"
         },
         {
          "font": {
           "color": "white"
          },
          "showarrow": false,
          "text": "6.0 - 50",
          "x": 3,
          "xref": "x",
          "y": 4,
          "yref": "y"
         },
         {
          "font": {
           "color": "white"
          },
          "showarrow": false,
          "text": "64.6 - 543",
          "x": 4,
          "xref": "x",
          "y": 4,
          "yref": "y"
         }
        ],
        "height": 800,
        "template": {
         "data": {
          "bar": [
           {
            "error_x": {
             "color": "#2a3f5f"
            },
            "error_y": {
             "color": "#2a3f5f"
            },
            "marker": {
             "line": {
              "color": "#E5ECF6",
              "width": 0.5
             },
             "pattern": {
              "fillmode": "overlay",
              "size": 10,
              "solidity": 0.2
             }
            },
            "type": "bar"
           }
          ],
          "barpolar": [
           {
            "marker": {
             "line": {
              "color": "#E5ECF6",
              "width": 0.5
             },
             "pattern": {
              "fillmode": "overlay",
              "size": 10,
              "solidity": 0.2
             }
            },
            "type": "barpolar"
           }
          ],
          "carpet": [
           {
            "aaxis": {
             "endlinecolor": "#2a3f5f",
             "gridcolor": "white",
             "linecolor": "white",
             "minorgridcolor": "white",
             "startlinecolor": "#2a3f5f"
            },
            "baxis": {
             "endlinecolor": "#2a3f5f",
             "gridcolor": "white",
             "linecolor": "white",
             "minorgridcolor": "white",
             "startlinecolor": "#2a3f5f"
            },
            "type": "carpet"
           }
          ],
          "choropleth": [
           {
            "colorbar": {
             "outlinewidth": 0,
             "ticks": ""
            },
            "type": "choropleth"
           }
          ],
          "contour": [
           {
            "colorbar": {
             "outlinewidth": 0,
             "ticks": ""
            },
            "colorscale": [
             [
              0,
              "#0d0887"
             ],
             [
              0.1111111111111111,
              "#46039f"
             ],
             [
              0.2222222222222222,
              "#7201a8"
             ],
             [
              0.3333333333333333,
              "#9c179e"
             ],
             [
              0.4444444444444444,
              "#bd3786"
             ],
             [
              0.5555555555555556,
              "#d8576b"
             ],
             [
              0.6666666666666666,
              "#ed7953"
             ],
             [
              0.7777777777777778,
              "#fb9f3a"
             ],
             [
              0.8888888888888888,
              "#fdca26"
             ],
             [
              1,
              "#f0f921"
             ]
            ],
            "type": "contour"
           }
          ],
          "contourcarpet": [
           {
            "colorbar": {
             "outlinewidth": 0,
             "ticks": ""
            },
            "type": "contourcarpet"
           }
          ],
          "heatmap": [
           {
            "colorbar": {
             "outlinewidth": 0,
             "ticks": ""
            },
            "colorscale": [
             [
              0,
              "#0d0887"
             ],
             [
              0.1111111111111111,
              "#46039f"
             ],
             [
              0.2222222222222222,
              "#7201a8"
             ],
             [
              0.3333333333333333,
              "#9c179e"
             ],
             [
              0.4444444444444444,
              "#bd3786"
             ],
             [
              0.5555555555555556,
              "#d8576b"
             ],
             [
              0.6666666666666666,
              "#ed7953"
             ],
             [
              0.7777777777777778,
              "#fb9f3a"
             ],
             [
              0.8888888888888888,
              "#fdca26"
             ],
             [
              1,
              "#f0f921"
             ]
            ],
            "type": "heatmap"
           }
          ],
          "heatmapgl": [
           {
            "colorbar": {
             "outlinewidth": 0,
             "ticks": ""
            },
            "colorscale": [
             [
              0,
              "#0d0887"
             ],
             [
              0.1111111111111111,
              "#46039f"
             ],
             [
              0.2222222222222222,
              "#7201a8"
             ],
             [
              0.3333333333333333,
              "#9c179e"
             ],
             [
              0.4444444444444444,
              "#bd3786"
             ],
             [
              0.5555555555555556,
              "#d8576b"
             ],
             [
              0.6666666666666666,
              "#ed7953"
             ],
             [
              0.7777777777777778,
              "#fb9f3a"
             ],
             [
              0.8888888888888888,
              "#fdca26"
             ],
             [
              1,
              "#f0f921"
             ]
            ],
            "type": "heatmapgl"
           }
          ],
          "histogram": [
           {
            "marker": {
             "pattern": {
              "fillmode": "overlay",
              "size": 10,
              "solidity": 0.2
             }
            },
            "type": "histogram"
           }
          ],
          "histogram2d": [
           {
            "colorbar": {
             "outlinewidth": 0,
             "ticks": ""
            },
            "colorscale": [
             [
              0,
              "#0d0887"
             ],
             [
              0.1111111111111111,
              "#46039f"
             ],
             [
              0.2222222222222222,
              "#7201a8"
             ],
             [
              0.3333333333333333,
              "#9c179e"
             ],
             [
              0.4444444444444444,
              "#bd3786"
             ],
             [
              0.5555555555555556,
              "#d8576b"
             ],
             [
              0.6666666666666666,
              "#ed7953"
             ],
             [
              0.7777777777777778,
              "#fb9f3a"
             ],
             [
              0.8888888888888888,
              "#fdca26"
             ],
             [
              1,
              "#f0f921"
             ]
            ],
            "type": "histogram2d"
           }
          ],
          "histogram2dcontour": [
           {
            "colorbar": {
             "outlinewidth": 0,
             "ticks": ""
            },
            "colorscale": [
             [
              0,
              "#0d0887"
             ],
             [
              0.1111111111111111,
              "#46039f"
             ],
             [
              0.2222222222222222,
              "#7201a8"
             ],
             [
              0.3333333333333333,
              "#9c179e"
             ],
             [
              0.4444444444444444,
              "#bd3786"
             ],
             [
              0.5555555555555556,
              "#d8576b"
             ],
             [
              0.6666666666666666,
              "#ed7953"
             ],
             [
              0.7777777777777778,
              "#fb9f3a"
             ],
             [
              0.8888888888888888,
              "#fdca26"
             ],
             [
              1,
              "#f0f921"
             ]
            ],
            "type": "histogram2dcontour"
           }
          ],
          "mesh3d": [
           {
            "colorbar": {
             "outlinewidth": 0,
             "ticks": ""
            },
            "type": "mesh3d"
           }
          ],
          "parcoords": [
           {
            "line": {
             "colorbar": {
              "outlinewidth": 0,
              "ticks": ""
             }
            },
            "type": "parcoords"
           }
          ],
          "pie": [
           {
            "automargin": true,
            "type": "pie"
           }
          ],
          "scatter": [
           {
            "fillpattern": {
             "fillmode": "overlay",
             "size": 10,
             "solidity": 0.2
            },
            "type": "scatter"
           }
          ],
          "scatter3d": [
           {
            "line": {
             "colorbar": {
              "outlinewidth": 0,
              "ticks": ""
             }
            },
            "marker": {
             "colorbar": {
              "outlinewidth": 0,
              "ticks": ""
             }
            },
            "type": "scatter3d"
           }
          ],
          "scattercarpet": [
           {
            "marker": {
             "colorbar": {
              "outlinewidth": 0,
              "ticks": ""
             }
            },
            "type": "scattercarpet"
           }
          ],
          "scattergeo": [
           {
            "marker": {
             "colorbar": {
              "outlinewidth": 0,
              "ticks": ""
             }
            },
            "type": "scattergeo"
           }
          ],
          "scattergl": [
           {
            "marker": {
             "colorbar": {
              "outlinewidth": 0,
              "ticks": ""
             }
            },
            "type": "scattergl"
           }
          ],
          "scattermapbox": [
           {
            "marker": {
             "colorbar": {
              "outlinewidth": 0,
              "ticks": ""
             }
            },
            "type": "scattermapbox"
           }
          ],
          "scatterpolar": [
           {
            "marker": {
             "colorbar": {
              "outlinewidth": 0,
              "ticks": ""
             }
            },
            "type": "scatterpolar"
           }
          ],
          "scatterpolargl": [
           {
            "marker": {
             "colorbar": {
              "outlinewidth": 0,
              "ticks": ""
             }
            },
            "type": "scatterpolargl"
           }
          ],
          "scatterternary": [
           {
            "marker": {
             "colorbar": {
              "outlinewidth": 0,
              "ticks": ""
             }
            },
            "type": "scatterternary"
           }
          ],
          "surface": [
           {
            "colorbar": {
             "outlinewidth": 0,
             "ticks": ""
            },
            "colorscale": [
             [
              0,
              "#0d0887"
             ],
             [
              0.1111111111111111,
              "#46039f"
             ],
             [
              0.2222222222222222,
              "#7201a8"
             ],
             [
              0.3333333333333333,
              "#9c179e"
             ],
             [
              0.4444444444444444,
              "#bd3786"
             ],
             [
              0.5555555555555556,
              "#d8576b"
             ],
             [
              0.6666666666666666,
              "#ed7953"
             ],
             [
              0.7777777777777778,
              "#fb9f3a"
             ],
             [
              0.8888888888888888,
              "#fdca26"
             ],
             [
              1,
              "#f0f921"
             ]
            ],
            "type": "surface"
           }
          ],
          "table": [
           {
            "cells": {
             "fill": {
              "color": "#EBF0F8"
             },
             "line": {
              "color": "white"
             }
            },
            "header": {
             "fill": {
              "color": "#C8D4E3"
             },
             "line": {
              "color": "white"
             }
            },
            "type": "table"
           }
          ]
         },
         "layout": {
          "annotationdefaults": {
           "arrowcolor": "#2a3f5f",
           "arrowhead": 0,
           "arrowwidth": 1
          },
          "autotypenumbers": "strict",
          "coloraxis": {
           "colorbar": {
            "outlinewidth": 0,
            "ticks": ""
           }
          },
          "colorscale": {
           "diverging": [
            [
             0,
             "#8e0152"
            ],
            [
             0.1,
             "#c51b7d"
            ],
            [
             0.2,
             "#de77ae"
            ],
            [
             0.3,
             "#f1b6da"
            ],
            [
             0.4,
             "#fde0ef"
            ],
            [
             0.5,
             "#f7f7f7"
            ],
            [
             0.6,
             "#e6f5d0"
            ],
            [
             0.7,
             "#b8e186"
            ],
            [
             0.8,
             "#7fbc41"
            ],
            [
             0.9,
             "#4d9221"
            ],
            [
             1,
             "#276419"
            ]
           ],
           "sequential": [
            [
             0,
             "#0d0887"
            ],
            [
             0.1111111111111111,
             "#46039f"
            ],
            [
             0.2222222222222222,
             "#7201a8"
            ],
            [
             0.3333333333333333,
             "#9c179e"
            ],
            [
             0.4444444444444444,
             "#bd3786"
            ],
            [
             0.5555555555555556,
             "#d8576b"
            ],
            [
             0.6666666666666666,
             "#ed7953"
            ],
            [
             0.7777777777777778,
             "#fb9f3a"
            ],
            [
             0.8888888888888888,
             "#fdca26"
            ],
            [
             1,
             "#f0f921"
            ]
           ],
           "sequentialminus": [
            [
             0,
             "#0d0887"
            ],
            [
             0.1111111111111111,
             "#46039f"
            ],
            [
             0.2222222222222222,
             "#7201a8"
            ],
            [
             0.3333333333333333,
             "#9c179e"
            ],
            [
             0.4444444444444444,
             "#bd3786"
            ],
            [
             0.5555555555555556,
             "#d8576b"
            ],
            [
             0.6666666666666666,
             "#ed7953"
            ],
            [
             0.7777777777777778,
             "#fb9f3a"
            ],
            [
             0.8888888888888888,
             "#fdca26"
            ],
            [
             1,
             "#f0f921"
            ]
           ]
          },
          "colorway": [
           "#636efa",
           "#EF553B",
           "#00cc96",
           "#ab63fa",
           "#FFA15A",
           "#19d3f3",
           "#FF6692",
           "#B6E880",
           "#FF97FF",
           "#FECB52"
          ],
          "font": {
           "color": "#2a3f5f"
          },
          "geo": {
           "bgcolor": "white",
           "lakecolor": "white",
           "landcolor": "#E5ECF6",
           "showlakes": true,
           "showland": true,
           "subunitcolor": "white"
          },
          "hoverlabel": {
           "align": "left"
          },
          "hovermode": "closest",
          "mapbox": {
           "style": "light"
          },
          "paper_bgcolor": "white",
          "plot_bgcolor": "#E5ECF6",
          "polar": {
           "angularaxis": {
            "gridcolor": "white",
            "linecolor": "white",
            "ticks": ""
           },
           "bgcolor": "#E5ECF6",
           "radialaxis": {
            "gridcolor": "white",
            "linecolor": "white",
            "ticks": ""
           }
          },
          "scene": {
           "xaxis": {
            "backgroundcolor": "#E5ECF6",
            "gridcolor": "white",
            "gridwidth": 2,
            "linecolor": "white",
            "showbackground": true,
            "ticks": "",
            "zerolinecolor": "white"
           },
           "yaxis": {
            "backgroundcolor": "#E5ECF6",
            "gridcolor": "white",
            "gridwidth": 2,
            "linecolor": "white",
            "showbackground": true,
            "ticks": "",
            "zerolinecolor": "white"
           },
           "zaxis": {
            "backgroundcolor": "#E5ECF6",
            "gridcolor": "white",
            "gridwidth": 2,
            "linecolor": "white",
            "showbackground": true,
            "ticks": "",
            "zerolinecolor": "white"
           }
          },
          "shapedefaults": {
           "line": {
            "color": "#2a3f5f"
           }
          },
          "ternary": {
           "aaxis": {
            "gridcolor": "white",
            "linecolor": "white",
            "ticks": ""
           },
           "baxis": {
            "gridcolor": "white",
            "linecolor": "white",
            "ticks": ""
           },
           "bgcolor": "#E5ECF6",
           "caxis": {
            "gridcolor": "white",
            "linecolor": "white",
            "ticks": ""
           }
          },
          "title": {
           "x": 0.05
          },
          "xaxis": {
           "automargin": true,
           "gridcolor": "white",
           "linecolor": "white",
           "ticks": "",
           "title": {
            "standoff": 15
           },
           "zerolinecolor": "white",
           "zerolinewidth": 2
          },
          "yaxis": {
           "automargin": true,
           "gridcolor": "white",
           "linecolor": "white",
           "ticks": "",
           "title": {
            "standoff": 15
           },
           "zerolinecolor": "white",
           "zerolinewidth": 2
          }
         }
        },
        "title": {
         "text": "LGB Base Model Kappa: 0.32601558372029604"
        },
        "width": 800,
        "xaxis": {
         "title": {
          "text": "Predicted value"
         }
        },
        "yaxis": {
         "title": {
          "text": "Real value"
         }
        }
       }
      }
     },
     "metadata": {},
     "output_type": "display_data"
    }
   ],
   "source": [
    "# Renombro algunas variables del dataset\n",
    "lgb_base_dataset = lgb_base_ds[['PetID', 'pred', 'AdoptionSpeed']].rename({'pred':'lgb_base_pred_score'},axis=1)\n",
    "\n",
    "# Creo las velocidades predichas por el modelo base\n",
    "lgb_base_dataset['lgb_base_pred'] = [r.argmax() for r in lgb_base_dataset['lgb_base_pred_score']]\n",
    "\n",
    "plot_confusion_matrix(lgb_base_dataset['AdoptionSpeed'],\n",
    "                      lgb_base_dataset['lgb_base_pred'], \n",
    "                    title = 'LGB Base Model Kappa: ' + str(cohen_kappa_score(lgb_base_dataset['AdoptionSpeed'],\n",
    "                                                                    lgb_base_dataset['lgb_base_pred'], \n",
    "                                                                    weights='quadratic')))"
   ]
  },
  {
   "cell_type": "markdown",
   "metadata": {},
   "source": [
    "## (1) Modelo Tabulares con FE\n",
    "Variables originales + nuevas variables creadas"
   ]
  },
  {
   "cell_type": "code",
   "execution_count": 6,
   "metadata": {},
   "outputs": [
    {
     "name": "stderr",
     "output_type": "stream",
     "text": [
      "[I 2024-10-17 18:57:32,364] Using an existing study with name '04 - LGB Multiclass - FE v4' instead of creating a new one.\n"
     ]
    },
    {
     "name": "stdout",
     "output_type": "stream",
     "text": [
      "af4eeddd-1a3b-40fe-b0c5-71d246b8737b\n",
      "True\n",
      "..\\work\\optuna_artifacts\\af4eeddd-1a3b-40fe-b0c5-71d246b8737b\n",
      "True\n"
     ]
    }
   ],
   "source": [
    "study_lgb = optuna.create_study(direction='maximize',\n",
    "                            storage=\"sqlite:///../work/db.sqlite3\",  # Specify the storage URL here.\n",
    "                            study_name=\"04 - LGB Multiclass - FE v4\",\n",
    "                            load_if_exists = True)\n",
    "\n",
    "# Get the artifact filename\n",
    "artifact_filename = get_artifact_filename(study_lgb,'test')\n",
    "print(artifact_filename)\n",
    "\n",
    "# Combine the path and filename\n",
    "artifact_path = os.path.join(PATH_TO_OPTUNA_ARTIFACTS, artifact_filename)\n",
    "\n",
    "print(os.path.exists(PATH_TO_OPTUNA_ARTIFACTS))\n",
    "print(os.path.normpath(artifact_path))\n",
    "print(os.path.exists(artifact_path))\n",
    "\n",
    "\n",
    "lgb_dataset = load(artifact_path)"
   ]
  },
  {
   "cell_type": "code",
   "execution_count": 7,
   "metadata": {},
   "outputs": [
    {
     "data": {
      "text/html": [
       "<div>\n",
       "<style scoped>\n",
       "    .dataframe tbody tr th:only-of-type {\n",
       "        vertical-align: middle;\n",
       "    }\n",
       "\n",
       "    .dataframe tbody tr th {\n",
       "        vertical-align: top;\n",
       "    }\n",
       "\n",
       "    .dataframe thead th {\n",
       "        text-align: right;\n",
       "    }\n",
       "</style>\n",
       "<table border=\"1\" class=\"dataframe\">\n",
       "  <thead>\n",
       "    <tr style=\"text-align: right;\">\n",
       "      <th></th>\n",
       "      <th>Type</th>\n",
       "      <th>Name</th>\n",
       "      <th>Age</th>\n",
       "      <th>Breed1</th>\n",
       "      <th>Breed2</th>\n",
       "      <th>Gender</th>\n",
       "      <th>Color1</th>\n",
       "      <th>Color2</th>\n",
       "      <th>Color3</th>\n",
       "      <th>MaturitySize</th>\n",
       "      <th>...</th>\n",
       "      <th>RescuerID_full_health_ratio</th>\n",
       "      <th>RescuerID_mean_description_length</th>\n",
       "      <th>RescuerID_dog_ratio</th>\n",
       "      <th>RescuerID_breed_specialization</th>\n",
       "      <th>prediction_class_0</th>\n",
       "      <th>prediction_class_1</th>\n",
       "      <th>prediction_class_2</th>\n",
       "      <th>prediction_class_3</th>\n",
       "      <th>prediction_class_4</th>\n",
       "      <th>pred</th>\n",
       "    </tr>\n",
       "  </thead>\n",
       "  <tbody>\n",
       "    <tr>\n",
       "      <th>14696</th>\n",
       "      <td>1</td>\n",
       "      <td>Dione &amp; Elora</td>\n",
       "      <td>1</td>\n",
       "      <td>307</td>\n",
       "      <td>307</td>\n",
       "      <td>2</td>\n",
       "      <td>1</td>\n",
       "      <td>0</td>\n",
       "      <td>0</td>\n",
       "      <td>2</td>\n",
       "      <td>...</td>\n",
       "      <td>0.0</td>\n",
       "      <td>148.90</td>\n",
       "      <td>1.00</td>\n",
       "      <td>1.00</td>\n",
       "      <td>0.002637</td>\n",
       "      <td>0.156636</td>\n",
       "      <td>0.266874</td>\n",
       "      <td>0.471452</td>\n",
       "      <td>0.102400</td>\n",
       "      <td>[0.048073917012569856, 0.6640418131498907, 2.7...</td>\n",
       "    </tr>\n",
       "    <tr>\n",
       "      <th>14823</th>\n",
       "      <td>1</td>\n",
       "      <td>Har-nee</td>\n",
       "      <td>24</td>\n",
       "      <td>103</td>\n",
       "      <td>307</td>\n",
       "      <td>2</td>\n",
       "      <td>1</td>\n",
       "      <td>2</td>\n",
       "      <td>4</td>\n",
       "      <td>2</td>\n",
       "      <td>...</td>\n",
       "      <td>0.0</td>\n",
       "      <td>838.00</td>\n",
       "      <td>1.00</td>\n",
       "      <td>1.00</td>\n",
       "      <td>0.016761</td>\n",
       "      <td>0.166559</td>\n",
       "      <td>0.207251</td>\n",
       "      <td>0.194078</td>\n",
       "      <td>0.415351</td>\n",
       "      <td>[0.10797798623303964, 1.3892475235353483, 1.40...</td>\n",
       "    </tr>\n",
       "    <tr>\n",
       "      <th>2838</th>\n",
       "      <td>1</td>\n",
       "      <td>The Gorgeous 5 Beauties</td>\n",
       "      <td>2</td>\n",
       "      <td>307</td>\n",
       "      <td>0</td>\n",
       "      <td>2</td>\n",
       "      <td>2</td>\n",
       "      <td>7</td>\n",
       "      <td>0</td>\n",
       "      <td>2</td>\n",
       "      <td>...</td>\n",
       "      <td>0.0</td>\n",
       "      <td>608.75</td>\n",
       "      <td>0.75</td>\n",
       "      <td>0.75</td>\n",
       "      <td>0.019105</td>\n",
       "      <td>0.204035</td>\n",
       "      <td>0.353514</td>\n",
       "      <td>0.259572</td>\n",
       "      <td>0.163773</td>\n",
       "      <td>[0.07731425046131762, 0.81667288617089, 1.8162...</td>\n",
       "    </tr>\n",
       "    <tr>\n",
       "      <th>1848</th>\n",
       "      <td>2</td>\n",
       "      <td>Mochi</td>\n",
       "      <td>1</td>\n",
       "      <td>265</td>\n",
       "      <td>0</td>\n",
       "      <td>1</td>\n",
       "      <td>2</td>\n",
       "      <td>0</td>\n",
       "      <td>0</td>\n",
       "      <td>1</td>\n",
       "      <td>...</td>\n",
       "      <td>0.0</td>\n",
       "      <td>1207.20</td>\n",
       "      <td>0.00</td>\n",
       "      <td>0.80</td>\n",
       "      <td>0.017194</td>\n",
       "      <td>0.299177</td>\n",
       "      <td>0.536504</td>\n",
       "      <td>0.100774</td>\n",
       "      <td>0.046351</td>\n",
       "      <td>[0.11554058802928632, 1.3834160895753955, 2.18...</td>\n",
       "    </tr>\n",
       "    <tr>\n",
       "      <th>669</th>\n",
       "      <td>2</td>\n",
       "      <td>Nala &amp; Peach</td>\n",
       "      <td>9</td>\n",
       "      <td>266</td>\n",
       "      <td>266</td>\n",
       "      <td>2</td>\n",
       "      <td>2</td>\n",
       "      <td>4</td>\n",
       "      <td>6</td>\n",
       "      <td>2</td>\n",
       "      <td>...</td>\n",
       "      <td>0.0</td>\n",
       "      <td>242.00</td>\n",
       "      <td>0.00</td>\n",
       "      <td>1.00</td>\n",
       "      <td>0.008867</td>\n",
       "      <td>0.044874</td>\n",
       "      <td>0.324296</td>\n",
       "      <td>0.202780</td>\n",
       "      <td>0.419182</td>\n",
       "      <td>[0.07624731761282272, 0.40313580904130275, 0.8...</td>\n",
       "    </tr>\n",
       "  </tbody>\n",
       "</table>\n",
       "<p>5 rows × 104 columns</p>\n",
       "</div>"
      ],
      "text/plain": [
       "       Type                     Name  Age  Breed1  Breed2  Gender  Color1  \\\n",
       "14696     1            Dione & Elora    1     307     307       2       1   \n",
       "14823     1                  Har-nee   24     103     307       2       1   \n",
       "2838      1  The Gorgeous 5 Beauties    2     307       0       2       2   \n",
       "1848      2                    Mochi    1     265       0       1       2   \n",
       "669       2             Nala & Peach    9     266     266       2       2   \n",
       "\n",
       "       Color2  Color3  MaturitySize  ...  RescuerID_full_health_ratio  \\\n",
       "14696       0       0             2  ...                          0.0   \n",
       "14823       2       4             2  ...                          0.0   \n",
       "2838        7       0             2  ...                          0.0   \n",
       "1848        0       0             1  ...                          0.0   \n",
       "669         4       6             2  ...                          0.0   \n",
       "\n",
       "       RescuerID_mean_description_length  RescuerID_dog_ratio  \\\n",
       "14696                             148.90                 1.00   \n",
       "14823                             838.00                 1.00   \n",
       "2838                              608.75                 0.75   \n",
       "1848                             1207.20                 0.00   \n",
       "669                               242.00                 0.00   \n",
       "\n",
       "       RescuerID_breed_specialization  prediction_class_0  prediction_class_1  \\\n",
       "14696                            1.00            0.002637            0.156636   \n",
       "14823                            1.00            0.016761            0.166559   \n",
       "2838                             0.75            0.019105            0.204035   \n",
       "1848                             0.80            0.017194            0.299177   \n",
       "669                              1.00            0.008867            0.044874   \n",
       "\n",
       "       prediction_class_2  prediction_class_3 prediction_class_4  \\\n",
       "14696            0.266874            0.471452           0.102400   \n",
       "14823            0.207251            0.194078           0.415351   \n",
       "2838             0.353514            0.259572           0.163773   \n",
       "1848             0.536504            0.100774           0.046351   \n",
       "669              0.324296            0.202780           0.419182   \n",
       "\n",
       "                                                    pred  \n",
       "14696  [0.048073917012569856, 0.6640418131498907, 2.7...  \n",
       "14823  [0.10797798623303964, 1.3892475235353483, 1.40...  \n",
       "2838   [0.07731425046131762, 0.81667288617089, 1.8162...  \n",
       "1848   [0.11554058802928632, 1.3834160895753955, 2.18...  \n",
       "669    [0.07624731761282272, 0.40313580904130275, 0.8...  \n",
       "\n",
       "[5 rows x 104 columns]"
      ]
     },
     "execution_count": 7,
     "metadata": {},
     "output_type": "execute_result"
    }
   ],
   "source": [
    "lgb_dataset.head()"
   ]
  },
  {
   "cell_type": "markdown",
   "metadata": {},
   "source": [
    "## (2) Modelo ResNet (imágenes)"
   ]
  },
  {
   "cell_type": "code",
   "execution_count": 8,
   "metadata": {},
   "outputs": [
    {
     "name": "stderr",
     "output_type": "stream",
     "text": [
      "[I 2024-10-17 18:57:32,469] Using an existing study with name '04 ResNet_5.0.1' instead of creating a new one.\n"
     ]
    }
   ],
   "source": [
    "MODEL_NAME = '04 ResNet'\n",
    "MODEL_VERSION = '5.0.1'\n",
    "\n",
    "study_resnet = optuna.create_study(direction='maximize',\n",
    "                            storage=\"sqlite:///../work/db.sqlite3\",  # Specify the storage URL here.\n",
    "                            study_name=f'{MODEL_NAME}_{MODEL_VERSION}',\n",
    "                            load_if_exists = True)\n",
    "\n",
    "resnet_dataset = load(os.path.join(PATH_TO_OPTUNA_ARTIFACTS,get_artifact_filename(study_resnet,'test')))"
   ]
  },
  {
   "cell_type": "code",
   "execution_count": 9,
   "metadata": {},
   "outputs": [
    {
     "data": {
      "text/html": [
       "<div>\n",
       "<style scoped>\n",
       "    .dataframe tbody tr th:only-of-type {\n",
       "        vertical-align: middle;\n",
       "    }\n",
       "\n",
       "    .dataframe tbody tr th {\n",
       "        vertical-align: top;\n",
       "    }\n",
       "\n",
       "    .dataframe thead th {\n",
       "        text-align: right;\n",
       "    }\n",
       "</style>\n",
       "<table border=\"1\" class=\"dataframe\">\n",
       "  <thead>\n",
       "    <tr style=\"text-align: right;\">\n",
       "      <th></th>\n",
       "      <th>PetID</th>\n",
       "      <th>pred</th>\n",
       "      <th>Type</th>\n",
       "      <th>Name</th>\n",
       "      <th>Age</th>\n",
       "      <th>Breed1</th>\n",
       "      <th>Breed2</th>\n",
       "      <th>Gender</th>\n",
       "      <th>Color1</th>\n",
       "      <th>Color2</th>\n",
       "      <th>...</th>\n",
       "      <th>Sterilized</th>\n",
       "      <th>Health</th>\n",
       "      <th>Quantity</th>\n",
       "      <th>Fee</th>\n",
       "      <th>State</th>\n",
       "      <th>RescuerID</th>\n",
       "      <th>VideoAmt</th>\n",
       "      <th>Description</th>\n",
       "      <th>PhotoAmt</th>\n",
       "      <th>AdoptionSpeed</th>\n",
       "    </tr>\n",
       "  </thead>\n",
       "  <tbody>\n",
       "    <tr>\n",
       "      <th>0</th>\n",
       "      <td>015da9e87</td>\n",
       "      <td>[-1.768325, 0.18485203, 0.74715734, 0.3766706,...</td>\n",
       "      <td>2</td>\n",
       "      <td>Adik Gebuk (Betina)</td>\n",
       "      <td>2</td>\n",
       "      <td>265</td>\n",
       "      <td>266</td>\n",
       "      <td>2</td>\n",
       "      <td>2</td>\n",
       "      <td>5</td>\n",
       "      <td>...</td>\n",
       "      <td>2</td>\n",
       "      <td>1</td>\n",
       "      <td>1</td>\n",
       "      <td>0</td>\n",
       "      <td>41326</td>\n",
       "      <td>d718a8deb57887c6ee18b757484273c8</td>\n",
       "      <td>0</td>\n",
       "      <td>Nama: Gebuk (Betina)- Adik beradik dengan Gebu...</td>\n",
       "      <td>5.0</td>\n",
       "      <td>0</td>\n",
       "    </tr>\n",
       "    <tr>\n",
       "      <th>1</th>\n",
       "      <td>022606901</td>\n",
       "      <td>[-3.3611686, -0.36317593, 0.7986378, 0.9519239...</td>\n",
       "      <td>1</td>\n",
       "      <td>NaN</td>\n",
       "      <td>3</td>\n",
       "      <td>141</td>\n",
       "      <td>307</td>\n",
       "      <td>1</td>\n",
       "      <td>1</td>\n",
       "      <td>0</td>\n",
       "      <td>...</td>\n",
       "      <td>2</td>\n",
       "      <td>1</td>\n",
       "      <td>1</td>\n",
       "      <td>0</td>\n",
       "      <td>41401</td>\n",
       "      <td>c4b8b921e00ba5dc19e793b81987f40f</td>\n",
       "      <td>1</td>\n",
       "      <td>Hi all =) My friend is currently looking for s...</td>\n",
       "      <td>5.0</td>\n",
       "      <td>0</td>\n",
       "    </tr>\n",
       "    <tr>\n",
       "      <th>2</th>\n",
       "      <td>02f89bdcb</td>\n",
       "      <td>[-3.027864, -0.031935632, 0.49349236, 0.814333...</td>\n",
       "      <td>1</td>\n",
       "      <td>Rex</td>\n",
       "      <td>72</td>\n",
       "      <td>141</td>\n",
       "      <td>0</td>\n",
       "      <td>1</td>\n",
       "      <td>5</td>\n",
       "      <td>0</td>\n",
       "      <td>...</td>\n",
       "      <td>2</td>\n",
       "      <td>1</td>\n",
       "      <td>1</td>\n",
       "      <td>0</td>\n",
       "      <td>41326</td>\n",
       "      <td>e76b700e2c869088979aa5efeb962dd7</td>\n",
       "      <td>0</td>\n",
       "      <td>Friendly and playful. Good watchdog because of...</td>\n",
       "      <td>3.0</td>\n",
       "      <td>0</td>\n",
       "    </tr>\n",
       "    <tr>\n",
       "      <th>3</th>\n",
       "      <td>0cf7fae9d</td>\n",
       "      <td>[-0.7027494, 1.0775297, 0.5501126, -0.03754511...</td>\n",
       "      <td>2</td>\n",
       "      <td>KITTENS - URGENT ADOPTION</td>\n",
       "      <td>1</td>\n",
       "      <td>266</td>\n",
       "      <td>0</td>\n",
       "      <td>3</td>\n",
       "      <td>1</td>\n",
       "      <td>2</td>\n",
       "      <td>...</td>\n",
       "      <td>2</td>\n",
       "      <td>1</td>\n",
       "      <td>4</td>\n",
       "      <td>0</td>\n",
       "      <td>41326</td>\n",
       "      <td>1eea485b01d14c668f33afa7c919646e</td>\n",
       "      <td>0</td>\n",
       "      <td>These 4 kittens need urgent adoption because t...</td>\n",
       "      <td>1.0</td>\n",
       "      <td>0</td>\n",
       "    </tr>\n",
       "    <tr>\n",
       "      <th>4</th>\n",
       "      <td>0e922caab</td>\n",
       "      <td>[-0.40759718, 1.3669151, 0.54109144, -0.100735...</td>\n",
       "      <td>1</td>\n",
       "      <td>Ha Ha (Toy Poodle)</td>\n",
       "      <td>12</td>\n",
       "      <td>179</td>\n",
       "      <td>0</td>\n",
       "      <td>1</td>\n",
       "      <td>2</td>\n",
       "      <td>0</td>\n",
       "      <td>...</td>\n",
       "      <td>2</td>\n",
       "      <td>1</td>\n",
       "      <td>1</td>\n",
       "      <td>300</td>\n",
       "      <td>41326</td>\n",
       "      <td>225d19c861c7c5d20a9c3ba1b2d37753</td>\n",
       "      <td>0</td>\n",
       "      <td>Ha Ha belongs to my friend who migrated to ano...</td>\n",
       "      <td>5.0</td>\n",
       "      <td>0</td>\n",
       "    </tr>\n",
       "  </tbody>\n",
       "</table>\n",
       "<p>5 rows × 25 columns</p>\n",
       "</div>"
      ],
      "text/plain": [
       "       PetID                                               pred  Type  \\\n",
       "0  015da9e87  [-1.768325, 0.18485203, 0.74715734, 0.3766706,...     2   \n",
       "1  022606901  [-3.3611686, -0.36317593, 0.7986378, 0.9519239...     1   \n",
       "2  02f89bdcb  [-3.027864, -0.031935632, 0.49349236, 0.814333...     1   \n",
       "3  0cf7fae9d  [-0.7027494, 1.0775297, 0.5501126, -0.03754511...     2   \n",
       "4  0e922caab  [-0.40759718, 1.3669151, 0.54109144, -0.100735...     1   \n",
       "\n",
       "                        Name  Age  Breed1  Breed2  Gender  Color1  Color2  \\\n",
       "0        Adik Gebuk (Betina)    2     265     266       2       2       5   \n",
       "1                        NaN    3     141     307       1       1       0   \n",
       "2                        Rex   72     141       0       1       5       0   \n",
       "3  KITTENS - URGENT ADOPTION    1     266       0       3       1       2   \n",
       "4         Ha Ha (Toy Poodle)   12     179       0       1       2       0   \n",
       "\n",
       "   ...  Sterilized  Health  Quantity  Fee  State  \\\n",
       "0  ...           2       1         1    0  41326   \n",
       "1  ...           2       1         1    0  41401   \n",
       "2  ...           2       1         1    0  41326   \n",
       "3  ...           2       1         4    0  41326   \n",
       "4  ...           2       1         1  300  41326   \n",
       "\n",
       "                          RescuerID  VideoAmt  \\\n",
       "0  d718a8deb57887c6ee18b757484273c8         0   \n",
       "1  c4b8b921e00ba5dc19e793b81987f40f         1   \n",
       "2  e76b700e2c869088979aa5efeb962dd7         0   \n",
       "3  1eea485b01d14c668f33afa7c919646e         0   \n",
       "4  225d19c861c7c5d20a9c3ba1b2d37753         0   \n",
       "\n",
       "                                         Description  PhotoAmt  AdoptionSpeed  \n",
       "0  Nama: Gebuk (Betina)- Adik beradik dengan Gebu...       5.0              0  \n",
       "1  Hi all =) My friend is currently looking for s...       5.0              0  \n",
       "2  Friendly and playful. Good watchdog because of...       3.0              0  \n",
       "3  These 4 kittens need urgent adoption because t...       1.0              0  \n",
       "4  Ha Ha belongs to my friend who migrated to ano...       5.0              0  \n",
       "\n",
       "[5 rows x 25 columns]"
      ]
     },
     "execution_count": 9,
     "metadata": {},
     "output_type": "execute_result"
    }
   ],
   "source": [
    "resnet_dataset.head()"
   ]
  },
  {
   "cell_type": "markdown",
   "metadata": {},
   "source": [
    "## (3) Modelo Bert (texto)"
   ]
  },
  {
   "cell_type": "code",
   "execution_count": 10,
   "metadata": {},
   "outputs": [
    {
     "name": "stderr",
     "output_type": "stream",
     "text": [
      "[I 2024-10-17 18:57:32,574] Using an existing study with name '06 Bert_4.0' instead of creating a new one.\n"
     ]
    }
   ],
   "source": [
    "MODEL_NAME = '06 Bert'\n",
    "MODEL_VERSION = '4.0'\n",
    "\n",
    "study_bert = optuna.create_study(direction='maximize',\n",
    "                            storage=\"sqlite:///../work/db.sqlite3\",  # Specify the storage URL here.\n",
    "                            study_name=f'{MODEL_NAME}_{MODEL_VERSION}',\n",
    "                            load_if_exists = True)\n",
    "\n",
    "bert_dataset = load(os.path.join(PATH_TO_OPTUNA_ARTIFACTS,get_artifact_filename(study_bert,'test')))"
   ]
  },
  {
   "cell_type": "code",
   "execution_count": 11,
   "metadata": {},
   "outputs": [
    {
     "data": {
      "text/html": [
       "<div>\n",
       "<style scoped>\n",
       "    .dataframe tbody tr th:only-of-type {\n",
       "        vertical-align: middle;\n",
       "    }\n",
       "\n",
       "    .dataframe tbody tr th {\n",
       "        vertical-align: top;\n",
       "    }\n",
       "\n",
       "    .dataframe thead th {\n",
       "        text-align: right;\n",
       "    }\n",
       "</style>\n",
       "<table border=\"1\" class=\"dataframe\">\n",
       "  <thead>\n",
       "    <tr style=\"text-align: right;\">\n",
       "      <th></th>\n",
       "      <th>PetID</th>\n",
       "      <th>pred</th>\n",
       "      <th>Type</th>\n",
       "      <th>Name</th>\n",
       "      <th>Age</th>\n",
       "      <th>Breed1</th>\n",
       "      <th>Breed2</th>\n",
       "      <th>Gender</th>\n",
       "      <th>Color1</th>\n",
       "      <th>Color2</th>\n",
       "      <th>...</th>\n",
       "      <th>Health</th>\n",
       "      <th>Quantity</th>\n",
       "      <th>Fee</th>\n",
       "      <th>State</th>\n",
       "      <th>RescuerID</th>\n",
       "      <th>VideoAmt</th>\n",
       "      <th>Description</th>\n",
       "      <th>PhotoAmt</th>\n",
       "      <th>AdoptionSpeed</th>\n",
       "      <th>labels</th>\n",
       "    </tr>\n",
       "  </thead>\n",
       "  <tbody>\n",
       "    <tr>\n",
       "      <th>0</th>\n",
       "      <td>8e76c8e39</td>\n",
       "      <td>[0.010217882, 0.002740395, 0.031425107, 0.1316...</td>\n",
       "      <td>2</td>\n",
       "      <td>Kali</td>\n",
       "      <td>3</td>\n",
       "      <td>264</td>\n",
       "      <td>0</td>\n",
       "      <td>2</td>\n",
       "      <td>1</td>\n",
       "      <td>2</td>\n",
       "      <td>...</td>\n",
       "      <td>1</td>\n",
       "      <td>1</td>\n",
       "      <td>50</td>\n",
       "      <td>41326</td>\n",
       "      <td>a9caef3f98e67bfac9093cca79e20b93</td>\n",
       "      <td>0</td>\n",
       "      <td>Kali is a super playful kitten who is on the g...</td>\n",
       "      <td>2.0</td>\n",
       "      <td>1</td>\n",
       "      <td>1</td>\n",
       "    </tr>\n",
       "    <tr>\n",
       "      <th>1</th>\n",
       "      <td>6436c1a59</td>\n",
       "      <td>[4.1448016e-05, 0.00016069962, 0.020254172, 0....</td>\n",
       "      <td>1</td>\n",
       "      <td>Godiva</td>\n",
       "      <td>12</td>\n",
       "      <td>307</td>\n",
       "      <td>0</td>\n",
       "      <td>2</td>\n",
       "      <td>2</td>\n",
       "      <td>7</td>\n",
       "      <td>...</td>\n",
       "      <td>1</td>\n",
       "      <td>1</td>\n",
       "      <td>0</td>\n",
       "      <td>41326</td>\n",
       "      <td>a042471e0f43f2cf707104a1a138a7df</td>\n",
       "      <td>0</td>\n",
       "      <td>Godiva was rescued in Serdang residential area...</td>\n",
       "      <td>7.0</td>\n",
       "      <td>2</td>\n",
       "      <td>2</td>\n",
       "    </tr>\n",
       "    <tr>\n",
       "      <th>2</th>\n",
       "      <td>988988d5b</td>\n",
       "      <td>[0.0031289272, 0.3546625, 0.34136075, 0.299003...</td>\n",
       "      <td>2</td>\n",
       "      <td>Cikenet</td>\n",
       "      <td>3</td>\n",
       "      <td>266</td>\n",
       "      <td>0</td>\n",
       "      <td>1</td>\n",
       "      <td>2</td>\n",
       "      <td>7</td>\n",
       "      <td>...</td>\n",
       "      <td>1</td>\n",
       "      <td>1</td>\n",
       "      <td>0</td>\n",
       "      <td>41401</td>\n",
       "      <td>b8853c71b981104f1ef126e51387b616</td>\n",
       "      <td>0</td>\n",
       "      <td>hello cikenets fans, i just wanna inform that ...</td>\n",
       "      <td>19.0</td>\n",
       "      <td>1</td>\n",
       "      <td>1</td>\n",
       "    </tr>\n",
       "    <tr>\n",
       "      <th>3</th>\n",
       "      <td>efbf1703a</td>\n",
       "      <td>[0.0038808198, 0.03597094, 0.05675837, 0.07370...</td>\n",
       "      <td>2</td>\n",
       "      <td>No Name</td>\n",
       "      <td>1</td>\n",
       "      <td>266</td>\n",
       "      <td>0</td>\n",
       "      <td>2</td>\n",
       "      <td>1</td>\n",
       "      <td>0</td>\n",
       "      <td>...</td>\n",
       "      <td>1</td>\n",
       "      <td>1</td>\n",
       "      <td>0</td>\n",
       "      <td>41326</td>\n",
       "      <td>2f846fb8f87a25678374e193559d83c9</td>\n",
       "      <td>0</td>\n",
       "      <td>Just saved this kitten from the street, but i ...</td>\n",
       "      <td>2.0</td>\n",
       "      <td>2</td>\n",
       "      <td>2</td>\n",
       "    </tr>\n",
       "    <tr>\n",
       "      <th>4</th>\n",
       "      <td>543130f60</td>\n",
       "      <td>[0.07851128, 0.016772442, 0.84724694, 0.053508...</td>\n",
       "      <td>1</td>\n",
       "      <td>BoiBoi</td>\n",
       "      <td>24</td>\n",
       "      <td>307</td>\n",
       "      <td>0</td>\n",
       "      <td>1</td>\n",
       "      <td>5</td>\n",
       "      <td>7</td>\n",
       "      <td>...</td>\n",
       "      <td>1</td>\n",
       "      <td>5</td>\n",
       "      <td>0</td>\n",
       "      <td>41326</td>\n",
       "      <td>2147467fcd35e7a3bc23b9edcffc5702</td>\n",
       "      <td>0</td>\n",
       "      <td>Boiboi is rescued by my daughter 2 years ago f...</td>\n",
       "      <td>1.0</td>\n",
       "      <td>4</td>\n",
       "      <td>4</td>\n",
       "    </tr>\n",
       "  </tbody>\n",
       "</table>\n",
       "<p>5 rows × 26 columns</p>\n",
       "</div>"
      ],
      "text/plain": [
       "       PetID                                               pred  Type  \\\n",
       "0  8e76c8e39  [0.010217882, 0.002740395, 0.031425107, 0.1316...     2   \n",
       "1  6436c1a59  [4.1448016e-05, 0.00016069962, 0.020254172, 0....     1   \n",
       "2  988988d5b  [0.0031289272, 0.3546625, 0.34136075, 0.299003...     2   \n",
       "3  efbf1703a  [0.0038808198, 0.03597094, 0.05675837, 0.07370...     2   \n",
       "4  543130f60  [0.07851128, 0.016772442, 0.84724694, 0.053508...     1   \n",
       "\n",
       "      Name  Age  Breed1  Breed2  Gender  Color1  Color2  ...  Health  \\\n",
       "0     Kali    3     264       0       2       1       2  ...       1   \n",
       "1   Godiva   12     307       0       2       2       7  ...       1   \n",
       "2  Cikenet    3     266       0       1       2       7  ...       1   \n",
       "3  No Name    1     266       0       2       1       0  ...       1   \n",
       "4   BoiBoi   24     307       0       1       5       7  ...       1   \n",
       "\n",
       "   Quantity  Fee  State                         RescuerID  VideoAmt  \\\n",
       "0         1   50  41326  a9caef3f98e67bfac9093cca79e20b93         0   \n",
       "1         1    0  41326  a042471e0f43f2cf707104a1a138a7df         0   \n",
       "2         1    0  41401  b8853c71b981104f1ef126e51387b616         0   \n",
       "3         1    0  41326  2f846fb8f87a25678374e193559d83c9         0   \n",
       "4         5    0  41326  2147467fcd35e7a3bc23b9edcffc5702         0   \n",
       "\n",
       "                                         Description  PhotoAmt  AdoptionSpeed  \\\n",
       "0  Kali is a super playful kitten who is on the g...       2.0              1   \n",
       "1  Godiva was rescued in Serdang residential area...       7.0              2   \n",
       "2  hello cikenets fans, i just wanna inform that ...      19.0              1   \n",
       "3  Just saved this kitten from the street, but i ...       2.0              2   \n",
       "4  Boiboi is rescued by my daughter 2 years ago f...       1.0              4   \n",
       "\n",
       "   labels  \n",
       "0       1  \n",
       "1       2  \n",
       "2       1  \n",
       "3       2  \n",
       "4       4  \n",
       "\n",
       "[5 rows x 26 columns]"
      ]
     },
     "execution_count": 11,
     "metadata": {},
     "output_type": "execute_result"
    }
   ],
   "source": [
    "bert_dataset.head()"
   ]
  },
  {
   "cell_type": "markdown",
   "metadata": {},
   "source": [
    "### Combino todos los resultados de los modelos en un unico df"
   ]
  },
  {
   "cell_type": "code",
   "execution_count": 12,
   "metadata": {},
   "outputs": [],
   "source": [
    "# Combino LGB con ResNet\n",
    "merged_datasets = lgb_dataset[['PetID', 'pred', 'AdoptionSpeed']].rename({'pred':'lgb_pred_score'},axis=1).merge(resnet_dataset[['PetID', 'pred']].rename({'pred':'resnet_pred_score'},axis=1),\n",
    "                  on='PetID', how='outer')\n",
    "# Combino el data set con Bert\n",
    "merged_datasets = merged_datasets.merge(bert_dataset[['PetID', 'pred']].rename({'pred':'bert_pred_score'},axis=1),\n",
    "                  on='PetID', how='outer')\n",
    "\n",
    "merged_datasets['resnet_pred_score'] = [np.zeros(5) if type(i) is float else  i for i in merged_datasets['resnet_pred_score'] ]\n",
    "merged_datasets['bert_pred_score'] = [np.zeros(5) if type(i) is float else  i for i in merged_datasets['bert_pred_score'] ]"
   ]
  },
  {
   "cell_type": "code",
   "execution_count": 13,
   "metadata": {},
   "outputs": [],
   "source": [
    "merged_datasets['blend_pred_score'] = [r['lgb_pred_score']+r['resnet_pred_score']+r['bert_pred_score'] for i,r in merged_datasets.iterrows()]\n",
    "\n",
    "merged_datasets['resnet_bert_pred_score'] = [r['resnet_pred_score']+r['bert_pred_score'] for i,r in merged_datasets.iterrows()]"
   ]
  },
  {
   "cell_type": "code",
   "execution_count": 14,
   "metadata": {},
   "outputs": [],
   "source": [
    "# Creo las velocidades predichas para cada modelo\n",
    "merged_datasets['lgb_pred'] = [r.argmax() for r in merged_datasets['lgb_pred_score']]\n",
    "merged_datasets['resnet_pred'] = [r.argmax() for r in merged_datasets['resnet_pred_score']]\n",
    "merged_datasets['bert_pred'] = [r.argmax() for r in merged_datasets['bert_pred_score']]\n",
    "\n",
    "# Creo la velocidad predicha para el modelo combinado\n",
    "merged_datasets['blended_pred'] = [r.argmax() for r in merged_datasets['blend_pred_score']]\n",
    "\n",
    "# Creo la velocidad predicha para el modelo Resnet+Bert\n",
    "merged_datasets['resnet_bert_pred'] = [r.argmax() for r in merged_datasets['resnet_bert_pred_score']]"
   ]
  },
  {
   "cell_type": "code",
   "execution_count": 15,
   "metadata": {},
   "outputs": [
    {
     "data": {
      "application/vnd.plotly.v1+json": {
       "config": {
        "plotlyServerURL": "https://plot.ly"
       },
       "data": [
        {
         "type": "heatmap",
         "x": [
          0,
          1,
          2,
          3,
          4
         ],
         "y": [
          0,
          1,
          2,
          3,
          4
         ],
         "z": [
          [
           7.317073170731707,
           48.78048780487805,
           18.29268292682927,
           7.317073170731707,
           18.29268292682927
          ],
          [
           0.6472491909385114,
           37.055016181229774,
           32.5242718446602,
           8.576051779935275,
           21.197411003236247
          ],
          [
           0,
           20.941759603469638,
           37.54646840148699,
           15.613382899628252,
           25.89838909541512
          ],
          [
           0.15337423312883436,
           15.184049079754603,
           30.52147239263804,
           29.601226993865033,
           24.539877300613497
          ],
          [
           0,
           11.547619047619047,
           11.666666666666666,
           4.642857142857143,
           72.14285714285714
          ]
         ]
        }
       ],
       "layout": {
        "annotations": [
         {
          "font": {
           "color": "white"
          },
          "showarrow": false,
          "text": "7.3 - 6",
          "x": 0,
          "xref": "x",
          "y": 0,
          "yref": "y"
         },
         {
          "font": {
           "color": "white"
          },
          "showarrow": false,
          "text": "48.8 - 40",
          "x": 1,
          "xref": "x",
          "y": 0,
          "yref": "y"
         },
         {
          "font": {
           "color": "white"
          },
          "showarrow": false,
          "text": "18.3 - 15",
          "x": 2,
          "xref": "x",
          "y": 0,
          "yref": "y"
         },
         {
          "font": {
           "color": "white"
          },
          "showarrow": false,
          "text": "7.3 - 6",
          "x": 3,
          "xref": "x",
          "y": 0,
          "yref": "y"
         },
         {
          "font": {
           "color": "white"
          },
          "showarrow": false,
          "text": "18.3 - 15",
          "x": 4,
          "xref": "x",
          "y": 0,
          "yref": "y"
         },
         {
          "font": {
           "color": "white"
          },
          "showarrow": false,
          "text": "0.6 - 4",
          "x": 0,
          "xref": "x",
          "y": 1,
          "yref": "y"
         },
         {
          "font": {
           "color": "white"
          },
          "showarrow": false,
          "text": "37.1 - 229",
          "x": 1,
          "xref": "x",
          "y": 1,
          "yref": "y"
         },
         {
          "font": {
           "color": "white"
          },
          "showarrow": false,
          "text": "32.5 - 201",
          "x": 2,
          "xref": "x",
          "y": 1,
          "yref": "y"
         },
         {
          "font": {
           "color": "white"
          },
          "showarrow": false,
          "text": "8.6 - 53",
          "x": 3,
          "xref": "x",
          "y": 1,
          "yref": "y"
         },
         {
          "font": {
           "color": "white"
          },
          "showarrow": false,
          "text": "21.2 - 131",
          "x": 4,
          "xref": "x",
          "y": 1,
          "yref": "y"
         },
         {
          "font": {
           "color": "white"
          },
          "showarrow": false,
          "text": "0.0 - 0",
          "x": 0,
          "xref": "x",
          "y": 2,
          "yref": "y"
         },
         {
          "font": {
           "color": "white"
          },
          "showarrow": false,
          "text": "20.9 - 169",
          "x": 1,
          "xref": "x",
          "y": 2,
          "yref": "y"
         },
         {
          "font": {
           "color": "white"
          },
          "showarrow": false,
          "text": "37.5 - 303",
          "x": 2,
          "xref": "x",
          "y": 2,
          "yref": "y"
         },
         {
          "font": {
           "color": "white"
          },
          "showarrow": false,
          "text": "15.6 - 126",
          "x": 3,
          "xref": "x",
          "y": 2,
          "yref": "y"
         },
         {
          "font": {
           "color": "white"
          },
          "showarrow": false,
          "text": "25.9 - 209",
          "x": 4,
          "xref": "x",
          "y": 2,
          "yref": "y"
         },
         {
          "font": {
           "color": "white"
          },
          "showarrow": false,
          "text": "0.2 - 1",
          "x": 0,
          "xref": "x",
          "y": 3,
          "yref": "y"
         },
         {
          "font": {
           "color": "white"
          },
          "showarrow": false,
          "text": "15.2 - 99",
          "x": 1,
          "xref": "x",
          "y": 3,
          "yref": "y"
         },
         {
          "font": {
           "color": "white"
          },
          "showarrow": false,
          "text": "30.5 - 199",
          "x": 2,
          "xref": "x",
          "y": 3,
          "yref": "y"
         },
         {
          "font": {
           "color": "white"
          },
          "showarrow": false,
          "text": "29.6 - 193",
          "x": 3,
          "xref": "x",
          "y": 3,
          "yref": "y"
         },
         {
          "font": {
           "color": "white"
          },
          "showarrow": false,
          "text": "24.5 - 160",
          "x": 4,
          "xref": "x",
          "y": 3,
          "yref": "y"
         },
         {
          "font": {
           "color": "white"
          },
          "showarrow": false,
          "text": "0.0 - 0",
          "x": 0,
          "xref": "x",
          "y": 4,
          "yref": "y"
         },
         {
          "font": {
           "color": "white"
          },
          "showarrow": false,
          "text": "11.5 - 97",
          "x": 1,
          "xref": "x",
          "y": 4,
          "yref": "y"
         },
         {
          "font": {
           "color": "white"
          },
          "showarrow": false,
          "text": "11.7 - 98",
          "x": 2,
          "xref": "x",
          "y": 4,
          "yref": "y"
         },
         {
          "font": {
           "color": "white"
          },
          "showarrow": false,
          "text": "4.6 - 39",
          "x": 3,
          "xref": "x",
          "y": 4,
          "yref": "y"
         },
         {
          "font": {
           "color": "white"
          },
          "showarrow": false,
          "text": "72.1 - 606",
          "x": 4,
          "xref": "x",
          "y": 4,
          "yref": "y"
         }
        ],
        "height": 800,
        "template": {
         "data": {
          "bar": [
           {
            "error_x": {
             "color": "#2a3f5f"
            },
            "error_y": {
             "color": "#2a3f5f"
            },
            "marker": {
             "line": {
              "color": "#E5ECF6",
              "width": 0.5
             },
             "pattern": {
              "fillmode": "overlay",
              "size": 10,
              "solidity": 0.2
             }
            },
            "type": "bar"
           }
          ],
          "barpolar": [
           {
            "marker": {
             "line": {
              "color": "#E5ECF6",
              "width": 0.5
             },
             "pattern": {
              "fillmode": "overlay",
              "size": 10,
              "solidity": 0.2
             }
            },
            "type": "barpolar"
           }
          ],
          "carpet": [
           {
            "aaxis": {
             "endlinecolor": "#2a3f5f",
             "gridcolor": "white",
             "linecolor": "white",
             "minorgridcolor": "white",
             "startlinecolor": "#2a3f5f"
            },
            "baxis": {
             "endlinecolor": "#2a3f5f",
             "gridcolor": "white",
             "linecolor": "white",
             "minorgridcolor": "white",
             "startlinecolor": "#2a3f5f"
            },
            "type": "carpet"
           }
          ],
          "choropleth": [
           {
            "colorbar": {
             "outlinewidth": 0,
             "ticks": ""
            },
            "type": "choropleth"
           }
          ],
          "contour": [
           {
            "colorbar": {
             "outlinewidth": 0,
             "ticks": ""
            },
            "colorscale": [
             [
              0,
              "#0d0887"
             ],
             [
              0.1111111111111111,
              "#46039f"
             ],
             [
              0.2222222222222222,
              "#7201a8"
             ],
             [
              0.3333333333333333,
              "#9c179e"
             ],
             [
              0.4444444444444444,
              "#bd3786"
             ],
             [
              0.5555555555555556,
              "#d8576b"
             ],
             [
              0.6666666666666666,
              "#ed7953"
             ],
             [
              0.7777777777777778,
              "#fb9f3a"
             ],
             [
              0.8888888888888888,
              "#fdca26"
             ],
             [
              1,
              "#f0f921"
             ]
            ],
            "type": "contour"
           }
          ],
          "contourcarpet": [
           {
            "colorbar": {
             "outlinewidth": 0,
             "ticks": ""
            },
            "type": "contourcarpet"
           }
          ],
          "heatmap": [
           {
            "colorbar": {
             "outlinewidth": 0,
             "ticks": ""
            },
            "colorscale": [
             [
              0,
              "#0d0887"
             ],
             [
              0.1111111111111111,
              "#46039f"
             ],
             [
              0.2222222222222222,
              "#7201a8"
             ],
             [
              0.3333333333333333,
              "#9c179e"
             ],
             [
              0.4444444444444444,
              "#bd3786"
             ],
             [
              0.5555555555555556,
              "#d8576b"
             ],
             [
              0.6666666666666666,
              "#ed7953"
             ],
             [
              0.7777777777777778,
              "#fb9f3a"
             ],
             [
              0.8888888888888888,
              "#fdca26"
             ],
             [
              1,
              "#f0f921"
             ]
            ],
            "type": "heatmap"
           }
          ],
          "heatmapgl": [
           {
            "colorbar": {
             "outlinewidth": 0,
             "ticks": ""
            },
            "colorscale": [
             [
              0,
              "#0d0887"
             ],
             [
              0.1111111111111111,
              "#46039f"
             ],
             [
              0.2222222222222222,
              "#7201a8"
             ],
             [
              0.3333333333333333,
              "#9c179e"
             ],
             [
              0.4444444444444444,
              "#bd3786"
             ],
             [
              0.5555555555555556,
              "#d8576b"
             ],
             [
              0.6666666666666666,
              "#ed7953"
             ],
             [
              0.7777777777777778,
              "#fb9f3a"
             ],
             [
              0.8888888888888888,
              "#fdca26"
             ],
             [
              1,
              "#f0f921"
             ]
            ],
            "type": "heatmapgl"
           }
          ],
          "histogram": [
           {
            "marker": {
             "pattern": {
              "fillmode": "overlay",
              "size": 10,
              "solidity": 0.2
             }
            },
            "type": "histogram"
           }
          ],
          "histogram2d": [
           {
            "colorbar": {
             "outlinewidth": 0,
             "ticks": ""
            },
            "colorscale": [
             [
              0,
              "#0d0887"
             ],
             [
              0.1111111111111111,
              "#46039f"
             ],
             [
              0.2222222222222222,
              "#7201a8"
             ],
             [
              0.3333333333333333,
              "#9c179e"
             ],
             [
              0.4444444444444444,
              "#bd3786"
             ],
             [
              0.5555555555555556,
              "#d8576b"
             ],
             [
              0.6666666666666666,
              "#ed7953"
             ],
             [
              0.7777777777777778,
              "#fb9f3a"
             ],
             [
              0.8888888888888888,
              "#fdca26"
             ],
             [
              1,
              "#f0f921"
             ]
            ],
            "type": "histogram2d"
           }
          ],
          "histogram2dcontour": [
           {
            "colorbar": {
             "outlinewidth": 0,
             "ticks": ""
            },
            "colorscale": [
             [
              0,
              "#0d0887"
             ],
             [
              0.1111111111111111,
              "#46039f"
             ],
             [
              0.2222222222222222,
              "#7201a8"
             ],
             [
              0.3333333333333333,
              "#9c179e"
             ],
             [
              0.4444444444444444,
              "#bd3786"
             ],
             [
              0.5555555555555556,
              "#d8576b"
             ],
             [
              0.6666666666666666,
              "#ed7953"
             ],
             [
              0.7777777777777778,
              "#fb9f3a"
             ],
             [
              0.8888888888888888,
              "#fdca26"
             ],
             [
              1,
              "#f0f921"
             ]
            ],
            "type": "histogram2dcontour"
           }
          ],
          "mesh3d": [
           {
            "colorbar": {
             "outlinewidth": 0,
             "ticks": ""
            },
            "type": "mesh3d"
           }
          ],
          "parcoords": [
           {
            "line": {
             "colorbar": {
              "outlinewidth": 0,
              "ticks": ""
             }
            },
            "type": "parcoords"
           }
          ],
          "pie": [
           {
            "automargin": true,
            "type": "pie"
           }
          ],
          "scatter": [
           {
            "fillpattern": {
             "fillmode": "overlay",
             "size": 10,
             "solidity": 0.2
            },
            "type": "scatter"
           }
          ],
          "scatter3d": [
           {
            "line": {
             "colorbar": {
              "outlinewidth": 0,
              "ticks": ""
             }
            },
            "marker": {
             "colorbar": {
              "outlinewidth": 0,
              "ticks": ""
             }
            },
            "type": "scatter3d"
           }
          ],
          "scattercarpet": [
           {
            "marker": {
             "colorbar": {
              "outlinewidth": 0,
              "ticks": ""
             }
            },
            "type": "scattercarpet"
           }
          ],
          "scattergeo": [
           {
            "marker": {
             "colorbar": {
              "outlinewidth": 0,
              "ticks": ""
             }
            },
            "type": "scattergeo"
           }
          ],
          "scattergl": [
           {
            "marker": {
             "colorbar": {
              "outlinewidth": 0,
              "ticks": ""
             }
            },
            "type": "scattergl"
           }
          ],
          "scattermapbox": [
           {
            "marker": {
             "colorbar": {
              "outlinewidth": 0,
              "ticks": ""
             }
            },
            "type": "scattermapbox"
           }
          ],
          "scatterpolar": [
           {
            "marker": {
             "colorbar": {
              "outlinewidth": 0,
              "ticks": ""
             }
            },
            "type": "scatterpolar"
           }
          ],
          "scatterpolargl": [
           {
            "marker": {
             "colorbar": {
              "outlinewidth": 0,
              "ticks": ""
             }
            },
            "type": "scatterpolargl"
           }
          ],
          "scatterternary": [
           {
            "marker": {
             "colorbar": {
              "outlinewidth": 0,
              "ticks": ""
             }
            },
            "type": "scatterternary"
           }
          ],
          "surface": [
           {
            "colorbar": {
             "outlinewidth": 0,
             "ticks": ""
            },
            "colorscale": [
             [
              0,
              "#0d0887"
             ],
             [
              0.1111111111111111,
              "#46039f"
             ],
             [
              0.2222222222222222,
              "#7201a8"
             ],
             [
              0.3333333333333333,
              "#9c179e"
             ],
             [
              0.4444444444444444,
              "#bd3786"
             ],
             [
              0.5555555555555556,
              "#d8576b"
             ],
             [
              0.6666666666666666,
              "#ed7953"
             ],
             [
              0.7777777777777778,
              "#fb9f3a"
             ],
             [
              0.8888888888888888,
              "#fdca26"
             ],
             [
              1,
              "#f0f921"
             ]
            ],
            "type": "surface"
           }
          ],
          "table": [
           {
            "cells": {
             "fill": {
              "color": "#EBF0F8"
             },
             "line": {
              "color": "white"
             }
            },
            "header": {
             "fill": {
              "color": "#C8D4E3"
             },
             "line": {
              "color": "white"
             }
            },
            "type": "table"
           }
          ]
         },
         "layout": {
          "annotationdefaults": {
           "arrowcolor": "#2a3f5f",
           "arrowhead": 0,
           "arrowwidth": 1
          },
          "autotypenumbers": "strict",
          "coloraxis": {
           "colorbar": {
            "outlinewidth": 0,
            "ticks": ""
           }
          },
          "colorscale": {
           "diverging": [
            [
             0,
             "#8e0152"
            ],
            [
             0.1,
             "#c51b7d"
            ],
            [
             0.2,
             "#de77ae"
            ],
            [
             0.3,
             "#f1b6da"
            ],
            [
             0.4,
             "#fde0ef"
            ],
            [
             0.5,
             "#f7f7f7"
            ],
            [
             0.6,
             "#e6f5d0"
            ],
            [
             0.7,
             "#b8e186"
            ],
            [
             0.8,
             "#7fbc41"
            ],
            [
             0.9,
             "#4d9221"
            ],
            [
             1,
             "#276419"
            ]
           ],
           "sequential": [
            [
             0,
             "#0d0887"
            ],
            [
             0.1111111111111111,
             "#46039f"
            ],
            [
             0.2222222222222222,
             "#7201a8"
            ],
            [
             0.3333333333333333,
             "#9c179e"
            ],
            [
             0.4444444444444444,
             "#bd3786"
            ],
            [
             0.5555555555555556,
             "#d8576b"
            ],
            [
             0.6666666666666666,
             "#ed7953"
            ],
            [
             0.7777777777777778,
             "#fb9f3a"
            ],
            [
             0.8888888888888888,
             "#fdca26"
            ],
            [
             1,
             "#f0f921"
            ]
           ],
           "sequentialminus": [
            [
             0,
             "#0d0887"
            ],
            [
             0.1111111111111111,
             "#46039f"
            ],
            [
             0.2222222222222222,
             "#7201a8"
            ],
            [
             0.3333333333333333,
             "#9c179e"
            ],
            [
             0.4444444444444444,
             "#bd3786"
            ],
            [
             0.5555555555555556,
             "#d8576b"
            ],
            [
             0.6666666666666666,
             "#ed7953"
            ],
            [
             0.7777777777777778,
             "#fb9f3a"
            ],
            [
             0.8888888888888888,
             "#fdca26"
            ],
            [
             1,
             "#f0f921"
            ]
           ]
          },
          "colorway": [
           "#636efa",
           "#EF553B",
           "#00cc96",
           "#ab63fa",
           "#FFA15A",
           "#19d3f3",
           "#FF6692",
           "#B6E880",
           "#FF97FF",
           "#FECB52"
          ],
          "font": {
           "color": "#2a3f5f"
          },
          "geo": {
           "bgcolor": "white",
           "lakecolor": "white",
           "landcolor": "#E5ECF6",
           "showlakes": true,
           "showland": true,
           "subunitcolor": "white"
          },
          "hoverlabel": {
           "align": "left"
          },
          "hovermode": "closest",
          "mapbox": {
           "style": "light"
          },
          "paper_bgcolor": "white",
          "plot_bgcolor": "#E5ECF6",
          "polar": {
           "angularaxis": {
            "gridcolor": "white",
            "linecolor": "white",
            "ticks": ""
           },
           "bgcolor": "#E5ECF6",
           "radialaxis": {
            "gridcolor": "white",
            "linecolor": "white",
            "ticks": ""
           }
          },
          "scene": {
           "xaxis": {
            "backgroundcolor": "#E5ECF6",
            "gridcolor": "white",
            "gridwidth": 2,
            "linecolor": "white",
            "showbackground": true,
            "ticks": "",
            "zerolinecolor": "white"
           },
           "yaxis": {
            "backgroundcolor": "#E5ECF6",
            "gridcolor": "white",
            "gridwidth": 2,
            "linecolor": "white",
            "showbackground": true,
            "ticks": "",
            "zerolinecolor": "white"
           },
           "zaxis": {
            "backgroundcolor": "#E5ECF6",
            "gridcolor": "white",
            "gridwidth": 2,
            "linecolor": "white",
            "showbackground": true,
            "ticks": "",
            "zerolinecolor": "white"
           }
          },
          "shapedefaults": {
           "line": {
            "color": "#2a3f5f"
           }
          },
          "ternary": {
           "aaxis": {
            "gridcolor": "white",
            "linecolor": "white",
            "ticks": ""
           },
           "baxis": {
            "gridcolor": "white",
            "linecolor": "white",
            "ticks": ""
           },
           "bgcolor": "#E5ECF6",
           "caxis": {
            "gridcolor": "white",
            "linecolor": "white",
            "ticks": ""
           }
          },
          "title": {
           "x": 0.05
          },
          "xaxis": {
           "automargin": true,
           "gridcolor": "white",
           "linecolor": "white",
           "ticks": "",
           "title": {
            "standoff": 15
           },
           "zerolinecolor": "white",
           "zerolinewidth": 2
          },
          "yaxis": {
           "automargin": true,
           "gridcolor": "white",
           "linecolor": "white",
           "ticks": "",
           "title": {
            "standoff": 15
           },
           "zerolinecolor": "white",
           "zerolinewidth": 2
          }
         }
        },
        "title": {
         "text": "LGB Model Kappa: 0.3871170454067032"
        },
        "width": 800,
        "xaxis": {
         "title": {
          "text": "Predicted value"
         }
        },
        "yaxis": {
         "title": {
          "text": "Real value"
         }
        }
       }
      }
     },
     "metadata": {},
     "output_type": "display_data"
    }
   ],
   "source": [
    "plot_confusion_matrix(merged_datasets['AdoptionSpeed'],\n",
    "                      merged_datasets['lgb_pred'], \n",
    "                    title = 'LGB Model Kappa: ' + str(cohen_kappa_score(merged_datasets['AdoptionSpeed'],\n",
    "                                                                    merged_datasets['lgb_pred'], \n",
    "                                                                    weights='quadratic')))"
   ]
  },
  {
   "cell_type": "code",
   "execution_count": 16,
   "metadata": {},
   "outputs": [
    {
     "data": {
      "application/vnd.plotly.v1+json": {
       "config": {
        "plotlyServerURL": "https://plot.ly"
       },
       "data": [
        {
         "type": "heatmap",
         "x": [
          0,
          1,
          2,
          3,
          4
         ],
         "y": [
          0,
          1,
          2,
          3,
          4
         ],
         "z": [
          [
           3.6585365853658534,
           47.5609756097561,
           28.04878048780488,
           3.6585365853658534,
           17.073170731707318
          ],
          [
           1.132686084142395,
           43.36569579288026,
           30.582524271844658,
           6.472491909385113,
           18.446601941747574
          ],
          [
           1.1152416356877324,
           33.08550185873606,
           28.25278810408922,
           10.161090458488228,
           27.385377942998762
          ],
          [
           1.687116564417178,
           26.68711656441718,
           28.834355828220858,
           14.11042944785276,
           28.680981595092025
          ],
          [
           4.523809523809524,
           17.738095238095237,
           19.523809523809526,
           9.523809523809524,
           48.69047619047619
          ]
         ]
        }
       ],
       "layout": {
        "annotations": [
         {
          "font": {
           "color": "white"
          },
          "showarrow": false,
          "text": "3.7 - 3",
          "x": 0,
          "xref": "x",
          "y": 0,
          "yref": "y"
         },
         {
          "font": {
           "color": "white"
          },
          "showarrow": false,
          "text": "47.6 - 39",
          "x": 1,
          "xref": "x",
          "y": 0,
          "yref": "y"
         },
         {
          "font": {
           "color": "white"
          },
          "showarrow": false,
          "text": "28.0 - 23",
          "x": 2,
          "xref": "x",
          "y": 0,
          "yref": "y"
         },
         {
          "font": {
           "color": "white"
          },
          "showarrow": false,
          "text": "3.7 - 3",
          "x": 3,
          "xref": "x",
          "y": 0,
          "yref": "y"
         },
         {
          "font": {
           "color": "white"
          },
          "showarrow": false,
          "text": "17.1 - 14",
          "x": 4,
          "xref": "x",
          "y": 0,
          "yref": "y"
         },
         {
          "font": {
           "color": "white"
          },
          "showarrow": false,
          "text": "1.1 - 7",
          "x": 0,
          "xref": "x",
          "y": 1,
          "yref": "y"
         },
         {
          "font": {
           "color": "white"
          },
          "showarrow": false,
          "text": "43.4 - 268",
          "x": 1,
          "xref": "x",
          "y": 1,
          "yref": "y"
         },
         {
          "font": {
           "color": "white"
          },
          "showarrow": false,
          "text": "30.6 - 189",
          "x": 2,
          "xref": "x",
          "y": 1,
          "yref": "y"
         },
         {
          "font": {
           "color": "white"
          },
          "showarrow": false,
          "text": "6.5 - 40",
          "x": 3,
          "xref": "x",
          "y": 1,
          "yref": "y"
         },
         {
          "font": {
           "color": "white"
          },
          "showarrow": false,
          "text": "18.4 - 114",
          "x": 4,
          "xref": "x",
          "y": 1,
          "yref": "y"
         },
         {
          "font": {
           "color": "white"
          },
          "showarrow": false,
          "text": "1.1 - 9",
          "x": 0,
          "xref": "x",
          "y": 2,
          "yref": "y"
         },
         {
          "font": {
           "color": "white"
          },
          "showarrow": false,
          "text": "33.1 - 267",
          "x": 1,
          "xref": "x",
          "y": 2,
          "yref": "y"
         },
         {
          "font": {
           "color": "white"
          },
          "showarrow": false,
          "text": "28.3 - 228",
          "x": 2,
          "xref": "x",
          "y": 2,
          "yref": "y"
         },
         {
          "font": {
           "color": "white"
          },
          "showarrow": false,
          "text": "10.2 - 82",
          "x": 3,
          "xref": "x",
          "y": 2,
          "yref": "y"
         },
         {
          "font": {
           "color": "white"
          },
          "showarrow": false,
          "text": "27.4 - 221",
          "x": 4,
          "xref": "x",
          "y": 2,
          "yref": "y"
         },
         {
          "font": {
           "color": "white"
          },
          "showarrow": false,
          "text": "1.7 - 11",
          "x": 0,
          "xref": "x",
          "y": 3,
          "yref": "y"
         },
         {
          "font": {
           "color": "white"
          },
          "showarrow": false,
          "text": "26.7 - 174",
          "x": 1,
          "xref": "x",
          "y": 3,
          "yref": "y"
         },
         {
          "font": {
           "color": "white"
          },
          "showarrow": false,
          "text": "28.8 - 188",
          "x": 2,
          "xref": "x",
          "y": 3,
          "yref": "y"
         },
         {
          "font": {
           "color": "white"
          },
          "showarrow": false,
          "text": "14.1 - 92",
          "x": 3,
          "xref": "x",
          "y": 3,
          "yref": "y"
         },
         {
          "font": {
           "color": "white"
          },
          "showarrow": false,
          "text": "28.7 - 187",
          "x": 4,
          "xref": "x",
          "y": 3,
          "yref": "y"
         },
         {
          "font": {
           "color": "white"
          },
          "showarrow": false,
          "text": "4.5 - 38",
          "x": 0,
          "xref": "x",
          "y": 4,
          "yref": "y"
         },
         {
          "font": {
           "color": "white"
          },
          "showarrow": false,
          "text": "17.7 - 149",
          "x": 1,
          "xref": "x",
          "y": 4,
          "yref": "y"
         },
         {
          "font": {
           "color": "white"
          },
          "showarrow": false,
          "text": "19.5 - 164",
          "x": 2,
          "xref": "x",
          "y": 4,
          "yref": "y"
         },
         {
          "font": {
           "color": "white"
          },
          "showarrow": false,
          "text": "9.5 - 80",
          "x": 3,
          "xref": "x",
          "y": 4,
          "yref": "y"
         },
         {
          "font": {
           "color": "white"
          },
          "showarrow": false,
          "text": "48.7 - 409",
          "x": 4,
          "xref": "x",
          "y": 4,
          "yref": "y"
         }
        ],
        "height": 800,
        "template": {
         "data": {
          "bar": [
           {
            "error_x": {
             "color": "#2a3f5f"
            },
            "error_y": {
             "color": "#2a3f5f"
            },
            "marker": {
             "line": {
              "color": "#E5ECF6",
              "width": 0.5
             },
             "pattern": {
              "fillmode": "overlay",
              "size": 10,
              "solidity": 0.2
             }
            },
            "type": "bar"
           }
          ],
          "barpolar": [
           {
            "marker": {
             "line": {
              "color": "#E5ECF6",
              "width": 0.5
             },
             "pattern": {
              "fillmode": "overlay",
              "size": 10,
              "solidity": 0.2
             }
            },
            "type": "barpolar"
           }
          ],
          "carpet": [
           {
            "aaxis": {
             "endlinecolor": "#2a3f5f",
             "gridcolor": "white",
             "linecolor": "white",
             "minorgridcolor": "white",
             "startlinecolor": "#2a3f5f"
            },
            "baxis": {
             "endlinecolor": "#2a3f5f",
             "gridcolor": "white",
             "linecolor": "white",
             "minorgridcolor": "white",
             "startlinecolor": "#2a3f5f"
            },
            "type": "carpet"
           }
          ],
          "choropleth": [
           {
            "colorbar": {
             "outlinewidth": 0,
             "ticks": ""
            },
            "type": "choropleth"
           }
          ],
          "contour": [
           {
            "colorbar": {
             "outlinewidth": 0,
             "ticks": ""
            },
            "colorscale": [
             [
              0,
              "#0d0887"
             ],
             [
              0.1111111111111111,
              "#46039f"
             ],
             [
              0.2222222222222222,
              "#7201a8"
             ],
             [
              0.3333333333333333,
              "#9c179e"
             ],
             [
              0.4444444444444444,
              "#bd3786"
             ],
             [
              0.5555555555555556,
              "#d8576b"
             ],
             [
              0.6666666666666666,
              "#ed7953"
             ],
             [
              0.7777777777777778,
              "#fb9f3a"
             ],
             [
              0.8888888888888888,
              "#fdca26"
             ],
             [
              1,
              "#f0f921"
             ]
            ],
            "type": "contour"
           }
          ],
          "contourcarpet": [
           {
            "colorbar": {
             "outlinewidth": 0,
             "ticks": ""
            },
            "type": "contourcarpet"
           }
          ],
          "heatmap": [
           {
            "colorbar": {
             "outlinewidth": 0,
             "ticks": ""
            },
            "colorscale": [
             [
              0,
              "#0d0887"
             ],
             [
              0.1111111111111111,
              "#46039f"
             ],
             [
              0.2222222222222222,
              "#7201a8"
             ],
             [
              0.3333333333333333,
              "#9c179e"
             ],
             [
              0.4444444444444444,
              "#bd3786"
             ],
             [
              0.5555555555555556,
              "#d8576b"
             ],
             [
              0.6666666666666666,
              "#ed7953"
             ],
             [
              0.7777777777777778,
              "#fb9f3a"
             ],
             [
              0.8888888888888888,
              "#fdca26"
             ],
             [
              1,
              "#f0f921"
             ]
            ],
            "type": "heatmap"
           }
          ],
          "heatmapgl": [
           {
            "colorbar": {
             "outlinewidth": 0,
             "ticks": ""
            },
            "colorscale": [
             [
              0,
              "#0d0887"
             ],
             [
              0.1111111111111111,
              "#46039f"
             ],
             [
              0.2222222222222222,
              "#7201a8"
             ],
             [
              0.3333333333333333,
              "#9c179e"
             ],
             [
              0.4444444444444444,
              "#bd3786"
             ],
             [
              0.5555555555555556,
              "#d8576b"
             ],
             [
              0.6666666666666666,
              "#ed7953"
             ],
             [
              0.7777777777777778,
              "#fb9f3a"
             ],
             [
              0.8888888888888888,
              "#fdca26"
             ],
             [
              1,
              "#f0f921"
             ]
            ],
            "type": "heatmapgl"
           }
          ],
          "histogram": [
           {
            "marker": {
             "pattern": {
              "fillmode": "overlay",
              "size": 10,
              "solidity": 0.2
             }
            },
            "type": "histogram"
           }
          ],
          "histogram2d": [
           {
            "colorbar": {
             "outlinewidth": 0,
             "ticks": ""
            },
            "colorscale": [
             [
              0,
              "#0d0887"
             ],
             [
              0.1111111111111111,
              "#46039f"
             ],
             [
              0.2222222222222222,
              "#7201a8"
             ],
             [
              0.3333333333333333,
              "#9c179e"
             ],
             [
              0.4444444444444444,
              "#bd3786"
             ],
             [
              0.5555555555555556,
              "#d8576b"
             ],
             [
              0.6666666666666666,
              "#ed7953"
             ],
             [
              0.7777777777777778,
              "#fb9f3a"
             ],
             [
              0.8888888888888888,
              "#fdca26"
             ],
             [
              1,
              "#f0f921"
             ]
            ],
            "type": "histogram2d"
           }
          ],
          "histogram2dcontour": [
           {
            "colorbar": {
             "outlinewidth": 0,
             "ticks": ""
            },
            "colorscale": [
             [
              0,
              "#0d0887"
             ],
             [
              0.1111111111111111,
              "#46039f"
             ],
             [
              0.2222222222222222,
              "#7201a8"
             ],
             [
              0.3333333333333333,
              "#9c179e"
             ],
             [
              0.4444444444444444,
              "#bd3786"
             ],
             [
              0.5555555555555556,
              "#d8576b"
             ],
             [
              0.6666666666666666,
              "#ed7953"
             ],
             [
              0.7777777777777778,
              "#fb9f3a"
             ],
             [
              0.8888888888888888,
              "#fdca26"
             ],
             [
              1,
              "#f0f921"
             ]
            ],
            "type": "histogram2dcontour"
           }
          ],
          "mesh3d": [
           {
            "colorbar": {
             "outlinewidth": 0,
             "ticks": ""
            },
            "type": "mesh3d"
           }
          ],
          "parcoords": [
           {
            "line": {
             "colorbar": {
              "outlinewidth": 0,
              "ticks": ""
             }
            },
            "type": "parcoords"
           }
          ],
          "pie": [
           {
            "automargin": true,
            "type": "pie"
           }
          ],
          "scatter": [
           {
            "fillpattern": {
             "fillmode": "overlay",
             "size": 10,
             "solidity": 0.2
            },
            "type": "scatter"
           }
          ],
          "scatter3d": [
           {
            "line": {
             "colorbar": {
              "outlinewidth": 0,
              "ticks": ""
             }
            },
            "marker": {
             "colorbar": {
              "outlinewidth": 0,
              "ticks": ""
             }
            },
            "type": "scatter3d"
           }
          ],
          "scattercarpet": [
           {
            "marker": {
             "colorbar": {
              "outlinewidth": 0,
              "ticks": ""
             }
            },
            "type": "scattercarpet"
           }
          ],
          "scattergeo": [
           {
            "marker": {
             "colorbar": {
              "outlinewidth": 0,
              "ticks": ""
             }
            },
            "type": "scattergeo"
           }
          ],
          "scattergl": [
           {
            "marker": {
             "colorbar": {
              "outlinewidth": 0,
              "ticks": ""
             }
            },
            "type": "scattergl"
           }
          ],
          "scattermapbox": [
           {
            "marker": {
             "colorbar": {
              "outlinewidth": 0,
              "ticks": ""
             }
            },
            "type": "scattermapbox"
           }
          ],
          "scatterpolar": [
           {
            "marker": {
             "colorbar": {
              "outlinewidth": 0,
              "ticks": ""
             }
            },
            "type": "scatterpolar"
           }
          ],
          "scatterpolargl": [
           {
            "marker": {
             "colorbar": {
              "outlinewidth": 0,
              "ticks": ""
             }
            },
            "type": "scatterpolargl"
           }
          ],
          "scatterternary": [
           {
            "marker": {
             "colorbar": {
              "outlinewidth": 0,
              "ticks": ""
             }
            },
            "type": "scatterternary"
           }
          ],
          "surface": [
           {
            "colorbar": {
             "outlinewidth": 0,
             "ticks": ""
            },
            "colorscale": [
             [
              0,
              "#0d0887"
             ],
             [
              0.1111111111111111,
              "#46039f"
             ],
             [
              0.2222222222222222,
              "#7201a8"
             ],
             [
              0.3333333333333333,
              "#9c179e"
             ],
             [
              0.4444444444444444,
              "#bd3786"
             ],
             [
              0.5555555555555556,
              "#d8576b"
             ],
             [
              0.6666666666666666,
              "#ed7953"
             ],
             [
              0.7777777777777778,
              "#fb9f3a"
             ],
             [
              0.8888888888888888,
              "#fdca26"
             ],
             [
              1,
              "#f0f921"
             ]
            ],
            "type": "surface"
           }
          ],
          "table": [
           {
            "cells": {
             "fill": {
              "color": "#EBF0F8"
             },
             "line": {
              "color": "white"
             }
            },
            "header": {
             "fill": {
              "color": "#C8D4E3"
             },
             "line": {
              "color": "white"
             }
            },
            "type": "table"
           }
          ]
         },
         "layout": {
          "annotationdefaults": {
           "arrowcolor": "#2a3f5f",
           "arrowhead": 0,
           "arrowwidth": 1
          },
          "autotypenumbers": "strict",
          "coloraxis": {
           "colorbar": {
            "outlinewidth": 0,
            "ticks": ""
           }
          },
          "colorscale": {
           "diverging": [
            [
             0,
             "#8e0152"
            ],
            [
             0.1,
             "#c51b7d"
            ],
            [
             0.2,
             "#de77ae"
            ],
            [
             0.3,
             "#f1b6da"
            ],
            [
             0.4,
             "#fde0ef"
            ],
            [
             0.5,
             "#f7f7f7"
            ],
            [
             0.6,
             "#e6f5d0"
            ],
            [
             0.7,
             "#b8e186"
            ],
            [
             0.8,
             "#7fbc41"
            ],
            [
             0.9,
             "#4d9221"
            ],
            [
             1,
             "#276419"
            ]
           ],
           "sequential": [
            [
             0,
             "#0d0887"
            ],
            [
             0.1111111111111111,
             "#46039f"
            ],
            [
             0.2222222222222222,
             "#7201a8"
            ],
            [
             0.3333333333333333,
             "#9c179e"
            ],
            [
             0.4444444444444444,
             "#bd3786"
            ],
            [
             0.5555555555555556,
             "#d8576b"
            ],
            [
             0.6666666666666666,
             "#ed7953"
            ],
            [
             0.7777777777777778,
             "#fb9f3a"
            ],
            [
             0.8888888888888888,
             "#fdca26"
            ],
            [
             1,
             "#f0f921"
            ]
           ],
           "sequentialminus": [
            [
             0,
             "#0d0887"
            ],
            [
             0.1111111111111111,
             "#46039f"
            ],
            [
             0.2222222222222222,
             "#7201a8"
            ],
            [
             0.3333333333333333,
             "#9c179e"
            ],
            [
             0.4444444444444444,
             "#bd3786"
            ],
            [
             0.5555555555555556,
             "#d8576b"
            ],
            [
             0.6666666666666666,
             "#ed7953"
            ],
            [
             0.7777777777777778,
             "#fb9f3a"
            ],
            [
             0.8888888888888888,
             "#fdca26"
            ],
            [
             1,
             "#f0f921"
            ]
           ]
          },
          "colorway": [
           "#636efa",
           "#EF553B",
           "#00cc96",
           "#ab63fa",
           "#FFA15A",
           "#19d3f3",
           "#FF6692",
           "#B6E880",
           "#FF97FF",
           "#FECB52"
          ],
          "font": {
           "color": "#2a3f5f"
          },
          "geo": {
           "bgcolor": "white",
           "lakecolor": "white",
           "landcolor": "#E5ECF6",
           "showlakes": true,
           "showland": true,
           "subunitcolor": "white"
          },
          "hoverlabel": {
           "align": "left"
          },
          "hovermode": "closest",
          "mapbox": {
           "style": "light"
          },
          "paper_bgcolor": "white",
          "plot_bgcolor": "#E5ECF6",
          "polar": {
           "angularaxis": {
            "gridcolor": "white",
            "linecolor": "white",
            "ticks": ""
           },
           "bgcolor": "#E5ECF6",
           "radialaxis": {
            "gridcolor": "white",
            "linecolor": "white",
            "ticks": ""
           }
          },
          "scene": {
           "xaxis": {
            "backgroundcolor": "#E5ECF6",
            "gridcolor": "white",
            "gridwidth": 2,
            "linecolor": "white",
            "showbackground": true,
            "ticks": "",
            "zerolinecolor": "white"
           },
           "yaxis": {
            "backgroundcolor": "#E5ECF6",
            "gridcolor": "white",
            "gridwidth": 2,
            "linecolor": "white",
            "showbackground": true,
            "ticks": "",
            "zerolinecolor": "white"
           },
           "zaxis": {
            "backgroundcolor": "#E5ECF6",
            "gridcolor": "white",
            "gridwidth": 2,
            "linecolor": "white",
            "showbackground": true,
            "ticks": "",
            "zerolinecolor": "white"
           }
          },
          "shapedefaults": {
           "line": {
            "color": "#2a3f5f"
           }
          },
          "ternary": {
           "aaxis": {
            "gridcolor": "white",
            "linecolor": "white",
            "ticks": ""
           },
           "baxis": {
            "gridcolor": "white",
            "linecolor": "white",
            "ticks": ""
           },
           "bgcolor": "#E5ECF6",
           "caxis": {
            "gridcolor": "white",
            "linecolor": "white",
            "ticks": ""
           }
          },
          "title": {
           "x": 0.05
          },
          "xaxis": {
           "automargin": true,
           "gridcolor": "white",
           "linecolor": "white",
           "ticks": "",
           "title": {
            "standoff": 15
           },
           "zerolinecolor": "white",
           "zerolinewidth": 2
          },
          "yaxis": {
           "automargin": true,
           "gridcolor": "white",
           "linecolor": "white",
           "ticks": "",
           "title": {
            "standoff": 15
           },
           "zerolinecolor": "white",
           "zerolinewidth": 2
          }
         }
        },
        "title": {
         "text": "Resnet Model Kappa: 0.23561244440023743"
        },
        "width": 800,
        "xaxis": {
         "title": {
          "text": "Predicted value"
         }
        },
        "yaxis": {
         "title": {
          "text": "Real value"
         }
        }
       }
      }
     },
     "metadata": {},
     "output_type": "display_data"
    }
   ],
   "source": [
    "plot_confusion_matrix(merged_datasets['AdoptionSpeed'],\n",
    "                      merged_datasets['resnet_pred'], \n",
    "                    title = 'Resnet Model Kappa: ' + str(cohen_kappa_score(merged_datasets['AdoptionSpeed'],\n",
    "                                                                    merged_datasets['resnet_pred'], \n",
    "                                                                    weights='quadratic')))\n",
    "\n"
   ]
  },
  {
   "cell_type": "code",
   "execution_count": 17,
   "metadata": {},
   "outputs": [
    {
     "data": {
      "application/vnd.plotly.v1+json": {
       "config": {
        "plotlyServerURL": "https://plot.ly"
       },
       "data": [
        {
         "type": "heatmap",
         "x": [
          0,
          1,
          2,
          3,
          4
         ],
         "y": [
          0,
          1,
          2,
          3,
          4
         ],
         "z": [
          [
           15.853658536585366,
           21.951219512195124,
           23.170731707317074,
           17.073170731707318,
           21.951219512195124
          ],
          [
           3.074433656957929,
           24.271844660194176,
           28.155339805825243,
           20.06472491909385,
           24.433656957928804
          ],
          [
           2.6022304832713754,
           18.339529120198264,
           33.33333333333333,
           26.889714993804215,
           18.83519206939281
          ],
          [
           1.5337423312883436,
           13.190184049079754,
           28.987730061349694,
           34.66257668711656,
           21.625766871165645
          ],
          [
           2.0238095238095237,
           10.357142857142858,
           19.523809523809526,
           21.071428571428573,
           47.023809523809526
          ]
         ]
        }
       ],
       "layout": {
        "annotations": [
         {
          "font": {
           "color": "white"
          },
          "showarrow": false,
          "text": "15.9 - 13",
          "x": 0,
          "xref": "x",
          "y": 0,
          "yref": "y"
         },
         {
          "font": {
           "color": "white"
          },
          "showarrow": false,
          "text": "22.0 - 18",
          "x": 1,
          "xref": "x",
          "y": 0,
          "yref": "y"
         },
         {
          "font": {
           "color": "white"
          },
          "showarrow": false,
          "text": "23.2 - 19",
          "x": 2,
          "xref": "x",
          "y": 0,
          "yref": "y"
         },
         {
          "font": {
           "color": "white"
          },
          "showarrow": false,
          "text": "17.1 - 14",
          "x": 3,
          "xref": "x",
          "y": 0,
          "yref": "y"
         },
         {
          "font": {
           "color": "white"
          },
          "showarrow": false,
          "text": "22.0 - 18",
          "x": 4,
          "xref": "x",
          "y": 0,
          "yref": "y"
         },
         {
          "font": {
           "color": "white"
          },
          "showarrow": false,
          "text": "3.1 - 19",
          "x": 0,
          "xref": "x",
          "y": 1,
          "yref": "y"
         },
         {
          "font": {
           "color": "white"
          },
          "showarrow": false,
          "text": "24.3 - 150",
          "x": 1,
          "xref": "x",
          "y": 1,
          "yref": "y"
         },
         {
          "font": {
           "color": "white"
          },
          "showarrow": false,
          "text": "28.2 - 174",
          "x": 2,
          "xref": "x",
          "y": 1,
          "yref": "y"
         },
         {
          "font": {
           "color": "white"
          },
          "showarrow": false,
          "text": "20.1 - 124",
          "x": 3,
          "xref": "x",
          "y": 1,
          "yref": "y"
         },
         {
          "font": {
           "color": "white"
          },
          "showarrow": false,
          "text": "24.4 - 151",
          "x": 4,
          "xref": "x",
          "y": 1,
          "yref": "y"
         },
         {
          "font": {
           "color": "white"
          },
          "showarrow": false,
          "text": "2.6 - 21",
          "x": 0,
          "xref": "x",
          "y": 2,
          "yref": "y"
         },
         {
          "font": {
           "color": "white"
          },
          "showarrow": false,
          "text": "18.3 - 148",
          "x": 1,
          "xref": "x",
          "y": 2,
          "yref": "y"
         },
         {
          "font": {
           "color": "white"
          },
          "showarrow": false,
          "text": "33.3 - 269",
          "x": 2,
          "xref": "x",
          "y": 2,
          "yref": "y"
         },
         {
          "font": {
           "color": "white"
          },
          "showarrow": false,
          "text": "26.9 - 217",
          "x": 3,
          "xref": "x",
          "y": 2,
          "yref": "y"
         },
         {
          "font": {
           "color": "white"
          },
          "showarrow": false,
          "text": "18.8 - 152",
          "x": 4,
          "xref": "x",
          "y": 2,
          "yref": "y"
         },
         {
          "font": {
           "color": "white"
          },
          "showarrow": false,
          "text": "1.5 - 10",
          "x": 0,
          "xref": "x",
          "y": 3,
          "yref": "y"
         },
         {
          "font": {
           "color": "white"
          },
          "showarrow": false,
          "text": "13.2 - 86",
          "x": 1,
          "xref": "x",
          "y": 3,
          "yref": "y"
         },
         {
          "font": {
           "color": "white"
          },
          "showarrow": false,
          "text": "29.0 - 189",
          "x": 2,
          "xref": "x",
          "y": 3,
          "yref": "y"
         },
         {
          "font": {
           "color": "white"
          },
          "showarrow": false,
          "text": "34.7 - 226",
          "x": 3,
          "xref": "x",
          "y": 3,
          "yref": "y"
         },
         {
          "font": {
           "color": "white"
          },
          "showarrow": false,
          "text": "21.6 - 141",
          "x": 4,
          "xref": "x",
          "y": 3,
          "yref": "y"
         },
         {
          "font": {
           "color": "white"
          },
          "showarrow": false,
          "text": "2.0 - 17",
          "x": 0,
          "xref": "x",
          "y": 4,
          "yref": "y"
         },
         {
          "font": {
           "color": "white"
          },
          "showarrow": false,
          "text": "10.4 - 87",
          "x": 1,
          "xref": "x",
          "y": 4,
          "yref": "y"
         },
         {
          "font": {
           "color": "white"
          },
          "showarrow": false,
          "text": "19.5 - 164",
          "x": 2,
          "xref": "x",
          "y": 4,
          "yref": "y"
         },
         {
          "font": {
           "color": "white"
          },
          "showarrow": false,
          "text": "21.1 - 177",
          "x": 3,
          "xref": "x",
          "y": 4,
          "yref": "y"
         },
         {
          "font": {
           "color": "white"
          },
          "showarrow": false,
          "text": "47.0 - 395",
          "x": 4,
          "xref": "x",
          "y": 4,
          "yref": "y"
         }
        ],
        "height": 800,
        "template": {
         "data": {
          "bar": [
           {
            "error_x": {
             "color": "#2a3f5f"
            },
            "error_y": {
             "color": "#2a3f5f"
            },
            "marker": {
             "line": {
              "color": "#E5ECF6",
              "width": 0.5
             },
             "pattern": {
              "fillmode": "overlay",
              "size": 10,
              "solidity": 0.2
             }
            },
            "type": "bar"
           }
          ],
          "barpolar": [
           {
            "marker": {
             "line": {
              "color": "#E5ECF6",
              "width": 0.5
             },
             "pattern": {
              "fillmode": "overlay",
              "size": 10,
              "solidity": 0.2
             }
            },
            "type": "barpolar"
           }
          ],
          "carpet": [
           {
            "aaxis": {
             "endlinecolor": "#2a3f5f",
             "gridcolor": "white",
             "linecolor": "white",
             "minorgridcolor": "white",
             "startlinecolor": "#2a3f5f"
            },
            "baxis": {
             "endlinecolor": "#2a3f5f",
             "gridcolor": "white",
             "linecolor": "white",
             "minorgridcolor": "white",
             "startlinecolor": "#2a3f5f"
            },
            "type": "carpet"
           }
          ],
          "choropleth": [
           {
            "colorbar": {
             "outlinewidth": 0,
             "ticks": ""
            },
            "type": "choropleth"
           }
          ],
          "contour": [
           {
            "colorbar": {
             "outlinewidth": 0,
             "ticks": ""
            },
            "colorscale": [
             [
              0,
              "#0d0887"
             ],
             [
              0.1111111111111111,
              "#46039f"
             ],
             [
              0.2222222222222222,
              "#7201a8"
             ],
             [
              0.3333333333333333,
              "#9c179e"
             ],
             [
              0.4444444444444444,
              "#bd3786"
             ],
             [
              0.5555555555555556,
              "#d8576b"
             ],
             [
              0.6666666666666666,
              "#ed7953"
             ],
             [
              0.7777777777777778,
              "#fb9f3a"
             ],
             [
              0.8888888888888888,
              "#fdca26"
             ],
             [
              1,
              "#f0f921"
             ]
            ],
            "type": "contour"
           }
          ],
          "contourcarpet": [
           {
            "colorbar": {
             "outlinewidth": 0,
             "ticks": ""
            },
            "type": "contourcarpet"
           }
          ],
          "heatmap": [
           {
            "colorbar": {
             "outlinewidth": 0,
             "ticks": ""
            },
            "colorscale": [
             [
              0,
              "#0d0887"
             ],
             [
              0.1111111111111111,
              "#46039f"
             ],
             [
              0.2222222222222222,
              "#7201a8"
             ],
             [
              0.3333333333333333,
              "#9c179e"
             ],
             [
              0.4444444444444444,
              "#bd3786"
             ],
             [
              0.5555555555555556,
              "#d8576b"
             ],
             [
              0.6666666666666666,
              "#ed7953"
             ],
             [
              0.7777777777777778,
              "#fb9f3a"
             ],
             [
              0.8888888888888888,
              "#fdca26"
             ],
             [
              1,
              "#f0f921"
             ]
            ],
            "type": "heatmap"
           }
          ],
          "heatmapgl": [
           {
            "colorbar": {
             "outlinewidth": 0,
             "ticks": ""
            },
            "colorscale": [
             [
              0,
              "#0d0887"
             ],
             [
              0.1111111111111111,
              "#46039f"
             ],
             [
              0.2222222222222222,
              "#7201a8"
             ],
             [
              0.3333333333333333,
              "#9c179e"
             ],
             [
              0.4444444444444444,
              "#bd3786"
             ],
             [
              0.5555555555555556,
              "#d8576b"
             ],
             [
              0.6666666666666666,
              "#ed7953"
             ],
             [
              0.7777777777777778,
              "#fb9f3a"
             ],
             [
              0.8888888888888888,
              "#fdca26"
             ],
             [
              1,
              "#f0f921"
             ]
            ],
            "type": "heatmapgl"
           }
          ],
          "histogram": [
           {
            "marker": {
             "pattern": {
              "fillmode": "overlay",
              "size": 10,
              "solidity": 0.2
             }
            },
            "type": "histogram"
           }
          ],
          "histogram2d": [
           {
            "colorbar": {
             "outlinewidth": 0,
             "ticks": ""
            },
            "colorscale": [
             [
              0,
              "#0d0887"
             ],
             [
              0.1111111111111111,
              "#46039f"
             ],
             [
              0.2222222222222222,
              "#7201a8"
             ],
             [
              0.3333333333333333,
              "#9c179e"
             ],
             [
              0.4444444444444444,
              "#bd3786"
             ],
             [
              0.5555555555555556,
              "#d8576b"
             ],
             [
              0.6666666666666666,
              "#ed7953"
             ],
             [
              0.7777777777777778,
              "#fb9f3a"
             ],
             [
              0.8888888888888888,
              "#fdca26"
             ],
             [
              1,
              "#f0f921"
             ]
            ],
            "type": "histogram2d"
           }
          ],
          "histogram2dcontour": [
           {
            "colorbar": {
             "outlinewidth": 0,
             "ticks": ""
            },
            "colorscale": [
             [
              0,
              "#0d0887"
             ],
             [
              0.1111111111111111,
              "#46039f"
             ],
             [
              0.2222222222222222,
              "#7201a8"
             ],
             [
              0.3333333333333333,
              "#9c179e"
             ],
             [
              0.4444444444444444,
              "#bd3786"
             ],
             [
              0.5555555555555556,
              "#d8576b"
             ],
             [
              0.6666666666666666,
              "#ed7953"
             ],
             [
              0.7777777777777778,
              "#fb9f3a"
             ],
             [
              0.8888888888888888,
              "#fdca26"
             ],
             [
              1,
              "#f0f921"
             ]
            ],
            "type": "histogram2dcontour"
           }
          ],
          "mesh3d": [
           {
            "colorbar": {
             "outlinewidth": 0,
             "ticks": ""
            },
            "type": "mesh3d"
           }
          ],
          "parcoords": [
           {
            "line": {
             "colorbar": {
              "outlinewidth": 0,
              "ticks": ""
             }
            },
            "type": "parcoords"
           }
          ],
          "pie": [
           {
            "automargin": true,
            "type": "pie"
           }
          ],
          "scatter": [
           {
            "fillpattern": {
             "fillmode": "overlay",
             "size": 10,
             "solidity": 0.2
            },
            "type": "scatter"
           }
          ],
          "scatter3d": [
           {
            "line": {
             "colorbar": {
              "outlinewidth": 0,
              "ticks": ""
             }
            },
            "marker": {
             "colorbar": {
              "outlinewidth": 0,
              "ticks": ""
             }
            },
            "type": "scatter3d"
           }
          ],
          "scattercarpet": [
           {
            "marker": {
             "colorbar": {
              "outlinewidth": 0,
              "ticks": ""
             }
            },
            "type": "scattercarpet"
           }
          ],
          "scattergeo": [
           {
            "marker": {
             "colorbar": {
              "outlinewidth": 0,
              "ticks": ""
             }
            },
            "type": "scattergeo"
           }
          ],
          "scattergl": [
           {
            "marker": {
             "colorbar": {
              "outlinewidth": 0,
              "ticks": ""
             }
            },
            "type": "scattergl"
           }
          ],
          "scattermapbox": [
           {
            "marker": {
             "colorbar": {
              "outlinewidth": 0,
              "ticks": ""
             }
            },
            "type": "scattermapbox"
           }
          ],
          "scatterpolar": [
           {
            "marker": {
             "colorbar": {
              "outlinewidth": 0,
              "ticks": ""
             }
            },
            "type": "scatterpolar"
           }
          ],
          "scatterpolargl": [
           {
            "marker": {
             "colorbar": {
              "outlinewidth": 0,
              "ticks": ""
             }
            },
            "type": "scatterpolargl"
           }
          ],
          "scatterternary": [
           {
            "marker": {
             "colorbar": {
              "outlinewidth": 0,
              "ticks": ""
             }
            },
            "type": "scatterternary"
           }
          ],
          "surface": [
           {
            "colorbar": {
             "outlinewidth": 0,
             "ticks": ""
            },
            "colorscale": [
             [
              0,
              "#0d0887"
             ],
             [
              0.1111111111111111,
              "#46039f"
             ],
             [
              0.2222222222222222,
              "#7201a8"
             ],
             [
              0.3333333333333333,
              "#9c179e"
             ],
             [
              0.4444444444444444,
              "#bd3786"
             ],
             [
              0.5555555555555556,
              "#d8576b"
             ],
             [
              0.6666666666666666,
              "#ed7953"
             ],
             [
              0.7777777777777778,
              "#fb9f3a"
             ],
             [
              0.8888888888888888,
              "#fdca26"
             ],
             [
              1,
              "#f0f921"
             ]
            ],
            "type": "surface"
           }
          ],
          "table": [
           {
            "cells": {
             "fill": {
              "color": "#EBF0F8"
             },
             "line": {
              "color": "white"
             }
            },
            "header": {
             "fill": {
              "color": "#C8D4E3"
             },
             "line": {
              "color": "white"
             }
            },
            "type": "table"
           }
          ]
         },
         "layout": {
          "annotationdefaults": {
           "arrowcolor": "#2a3f5f",
           "arrowhead": 0,
           "arrowwidth": 1
          },
          "autotypenumbers": "strict",
          "coloraxis": {
           "colorbar": {
            "outlinewidth": 0,
            "ticks": ""
           }
          },
          "colorscale": {
           "diverging": [
            [
             0,
             "#8e0152"
            ],
            [
             0.1,
             "#c51b7d"
            ],
            [
             0.2,
             "#de77ae"
            ],
            [
             0.3,
             "#f1b6da"
            ],
            [
             0.4,
             "#fde0ef"
            ],
            [
             0.5,
             "#f7f7f7"
            ],
            [
             0.6,
             "#e6f5d0"
            ],
            [
             0.7,
             "#b8e186"
            ],
            [
             0.8,
             "#7fbc41"
            ],
            [
             0.9,
             "#4d9221"
            ],
            [
             1,
             "#276419"
            ]
           ],
           "sequential": [
            [
             0,
             "#0d0887"
            ],
            [
             0.1111111111111111,
             "#46039f"
            ],
            [
             0.2222222222222222,
             "#7201a8"
            ],
            [
             0.3333333333333333,
             "#9c179e"
            ],
            [
             0.4444444444444444,
             "#bd3786"
            ],
            [
             0.5555555555555556,
             "#d8576b"
            ],
            [
             0.6666666666666666,
             "#ed7953"
            ],
            [
             0.7777777777777778,
             "#fb9f3a"
            ],
            [
             0.8888888888888888,
             "#fdca26"
            ],
            [
             1,
             "#f0f921"
            ]
           ],
           "sequentialminus": [
            [
             0,
             "#0d0887"
            ],
            [
             0.1111111111111111,
             "#46039f"
            ],
            [
             0.2222222222222222,
             "#7201a8"
            ],
            [
             0.3333333333333333,
             "#9c179e"
            ],
            [
             0.4444444444444444,
             "#bd3786"
            ],
            [
             0.5555555555555556,
             "#d8576b"
            ],
            [
             0.6666666666666666,
             "#ed7953"
            ],
            [
             0.7777777777777778,
             "#fb9f3a"
            ],
            [
             0.8888888888888888,
             "#fdca26"
            ],
            [
             1,
             "#f0f921"
            ]
           ]
          },
          "colorway": [
           "#636efa",
           "#EF553B",
           "#00cc96",
           "#ab63fa",
           "#FFA15A",
           "#19d3f3",
           "#FF6692",
           "#B6E880",
           "#FF97FF",
           "#FECB52"
          ],
          "font": {
           "color": "#2a3f5f"
          },
          "geo": {
           "bgcolor": "white",
           "lakecolor": "white",
           "landcolor": "#E5ECF6",
           "showlakes": true,
           "showland": true,
           "subunitcolor": "white"
          },
          "hoverlabel": {
           "align": "left"
          },
          "hovermode": "closest",
          "mapbox": {
           "style": "light"
          },
          "paper_bgcolor": "white",
          "plot_bgcolor": "#E5ECF6",
          "polar": {
           "angularaxis": {
            "gridcolor": "white",
            "linecolor": "white",
            "ticks": ""
           },
           "bgcolor": "#E5ECF6",
           "radialaxis": {
            "gridcolor": "white",
            "linecolor": "white",
            "ticks": ""
           }
          },
          "scene": {
           "xaxis": {
            "backgroundcolor": "#E5ECF6",
            "gridcolor": "white",
            "gridwidth": 2,
            "linecolor": "white",
            "showbackground": true,
            "ticks": "",
            "zerolinecolor": "white"
           },
           "yaxis": {
            "backgroundcolor": "#E5ECF6",
            "gridcolor": "white",
            "gridwidth": 2,
            "linecolor": "white",
            "showbackground": true,
            "ticks": "",
            "zerolinecolor": "white"
           },
           "zaxis": {
            "backgroundcolor": "#E5ECF6",
            "gridcolor": "white",
            "gridwidth": 2,
            "linecolor": "white",
            "showbackground": true,
            "ticks": "",
            "zerolinecolor": "white"
           }
          },
          "shapedefaults": {
           "line": {
            "color": "#2a3f5f"
           }
          },
          "ternary": {
           "aaxis": {
            "gridcolor": "white",
            "linecolor": "white",
            "ticks": ""
           },
           "baxis": {
            "gridcolor": "white",
            "linecolor": "white",
            "ticks": ""
           },
           "bgcolor": "#E5ECF6",
           "caxis": {
            "gridcolor": "white",
            "linecolor": "white",
            "ticks": ""
           }
          },
          "title": {
           "x": 0.05
          },
          "xaxis": {
           "automargin": true,
           "gridcolor": "white",
           "linecolor": "white",
           "ticks": "",
           "title": {
            "standoff": 15
           },
           "zerolinecolor": "white",
           "zerolinewidth": 2
          },
          "yaxis": {
           "automargin": true,
           "gridcolor": "white",
           "linecolor": "white",
           "ticks": "",
           "title": {
            "standoff": 15
           },
           "zerolinecolor": "white",
           "zerolinewidth": 2
          }
         }
        },
        "title": {
         "text": "Bert Model Kappa: 0.2235337033650281"
        },
        "width": 800,
        "xaxis": {
         "title": {
          "text": "Predicted value"
         }
        },
        "yaxis": {
         "title": {
          "text": "Real value"
         }
        }
       }
      }
     },
     "metadata": {},
     "output_type": "display_data"
    }
   ],
   "source": [
    "plot_confusion_matrix(merged_datasets['AdoptionSpeed'],\n",
    "                      merged_datasets['bert_pred'], \n",
    "                    title = 'Bert Model Kappa: ' + str(cohen_kappa_score(merged_datasets['AdoptionSpeed'],\n",
    "                                                                    merged_datasets['bert_pred'], \n",
    "                                                                    weights='quadratic')))\n"
   ]
  },
  {
   "cell_type": "code",
   "execution_count": 18,
   "metadata": {},
   "outputs": [
    {
     "data": {
      "application/vnd.plotly.v1+json": {
       "config": {
        "plotlyServerURL": "https://plot.ly"
       },
       "data": [
        {
         "type": "heatmap",
         "x": [
          0,
          1,
          2,
          3,
          4
         ],
         "y": [
          0,
          1,
          2,
          3,
          4
         ],
         "z": [
          [
           2.4390243902439024,
           45.1219512195122,
           23.170731707317074,
           7.317073170731707,
           21.951219512195124
          ],
          [
           0,
           38.51132686084142,
           35.11326860841424,
           7.443365695792881,
           18.932038834951456
          ],
          [
           0,
           19.206939281288722,
           41.01610904584882,
           15.117719950433706,
           24.65923172242875
          ],
          [
           0,
           15.030674846625766,
           32.515337423312886,
           26.226993865030675,
           26.226993865030675
          ],
          [
           0,
           8.69047619047619,
           14.047619047619047,
           4.880952380952381,
           72.38095238095238
          ]
         ]
        }
       ],
       "layout": {
        "annotations": [
         {
          "font": {
           "color": "white"
          },
          "showarrow": false,
          "text": "2.4 - 2",
          "x": 0,
          "xref": "x",
          "y": 0,
          "yref": "y"
         },
         {
          "font": {
           "color": "white"
          },
          "showarrow": false,
          "text": "45.1 - 37",
          "x": 1,
          "xref": "x",
          "y": 0,
          "yref": "y"
         },
         {
          "font": {
           "color": "white"
          },
          "showarrow": false,
          "text": "23.2 - 19",
          "x": 2,
          "xref": "x",
          "y": 0,
          "yref": "y"
         },
         {
          "font": {
           "color": "white"
          },
          "showarrow": false,
          "text": "7.3 - 6",
          "x": 3,
          "xref": "x",
          "y": 0,
          "yref": "y"
         },
         {
          "font": {
           "color": "white"
          },
          "showarrow": false,
          "text": "22.0 - 18",
          "x": 4,
          "xref": "x",
          "y": 0,
          "yref": "y"
         },
         {
          "font": {
           "color": "white"
          },
          "showarrow": false,
          "text": "0.0 - 0",
          "x": 0,
          "xref": "x",
          "y": 1,
          "yref": "y"
         },
         {
          "font": {
           "color": "white"
          },
          "showarrow": false,
          "text": "38.5 - 238",
          "x": 1,
          "xref": "x",
          "y": 1,
          "yref": "y"
         },
         {
          "font": {
           "color": "white"
          },
          "showarrow": false,
          "text": "35.1 - 217",
          "x": 2,
          "xref": "x",
          "y": 1,
          "yref": "y"
         },
         {
          "font": {
           "color": "white"
          },
          "showarrow": false,
          "text": "7.4 - 46",
          "x": 3,
          "xref": "x",
          "y": 1,
          "yref": "y"
         },
         {
          "font": {
           "color": "white"
          },
          "showarrow": false,
          "text": "18.9 - 117",
          "x": 4,
          "xref": "x",
          "y": 1,
          "yref": "y"
         },
         {
          "font": {
           "color": "white"
          },
          "showarrow": false,
          "text": "0.0 - 0",
          "x": 0,
          "xref": "x",
          "y": 2,
          "yref": "y"
         },
         {
          "font": {
           "color": "white"
          },
          "showarrow": false,
          "text": "19.2 - 155",
          "x": 1,
          "xref": "x",
          "y": 2,
          "yref": "y"
         },
         {
          "font": {
           "color": "white"
          },
          "showarrow": false,
          "text": "41.0 - 331",
          "x": 2,
          "xref": "x",
          "y": 2,
          "yref": "y"
         },
         {
          "font": {
           "color": "white"
          },
          "showarrow": false,
          "text": "15.1 - 122",
          "x": 3,
          "xref": "x",
          "y": 2,
          "yref": "y"
         },
         {
          "font": {
           "color": "white"
          },
          "showarrow": false,
          "text": "24.7 - 199",
          "x": 4,
          "xref": "x",
          "y": 2,
          "yref": "y"
         },
         {
          "font": {
           "color": "white"
          },
          "showarrow": false,
          "text": "0.0 - 0",
          "x": 0,
          "xref": "x",
          "y": 3,
          "yref": "y"
         },
         {
          "font": {
           "color": "white"
          },
          "showarrow": false,
          "text": "15.0 - 98",
          "x": 1,
          "xref": "x",
          "y": 3,
          "yref": "y"
         },
         {
          "font": {
           "color": "white"
          },
          "showarrow": false,
          "text": "32.5 - 212",
          "x": 2,
          "xref": "x",
          "y": 3,
          "yref": "y"
         },
         {
          "font": {
           "color": "white"
          },
          "showarrow": false,
          "text": "26.2 - 171",
          "x": 3,
          "xref": "x",
          "y": 3,
          "yref": "y"
         },
         {
          "font": {
           "color": "white"
          },
          "showarrow": false,
          "text": "26.2 - 171",
          "x": 4,
          "xref": "x",
          "y": 3,
          "yref": "y"
         },
         {
          "font": {
           "color": "white"
          },
          "showarrow": false,
          "text": "0.0 - 0",
          "x": 0,
          "xref": "x",
          "y": 4,
          "yref": "y"
         },
         {
          "font": {
           "color": "white"
          },
          "showarrow": false,
          "text": "8.7 - 73",
          "x": 1,
          "xref": "x",
          "y": 4,
          "yref": "y"
         },
         {
          "font": {
           "color": "white"
          },
          "showarrow": false,
          "text": "14.0 - 118",
          "x": 2,
          "xref": "x",
          "y": 4,
          "yref": "y"
         },
         {
          "font": {
           "color": "white"
          },
          "showarrow": false,
          "text": "4.9 - 41",
          "x": 3,
          "xref": "x",
          "y": 4,
          "yref": "y"
         },
         {
          "font": {
           "color": "white"
          },
          "showarrow": false,
          "text": "72.4 - 608",
          "x": 4,
          "xref": "x",
          "y": 4,
          "yref": "y"
         }
        ],
        "height": 800,
        "template": {
         "data": {
          "bar": [
           {
            "error_x": {
             "color": "#2a3f5f"
            },
            "error_y": {
             "color": "#2a3f5f"
            },
            "marker": {
             "line": {
              "color": "#E5ECF6",
              "width": 0.5
             },
             "pattern": {
              "fillmode": "overlay",
              "size": 10,
              "solidity": 0.2
             }
            },
            "type": "bar"
           }
          ],
          "barpolar": [
           {
            "marker": {
             "line": {
              "color": "#E5ECF6",
              "width": 0.5
             },
             "pattern": {
              "fillmode": "overlay",
              "size": 10,
              "solidity": 0.2
             }
            },
            "type": "barpolar"
           }
          ],
          "carpet": [
           {
            "aaxis": {
             "endlinecolor": "#2a3f5f",
             "gridcolor": "white",
             "linecolor": "white",
             "minorgridcolor": "white",
             "startlinecolor": "#2a3f5f"
            },
            "baxis": {
             "endlinecolor": "#2a3f5f",
             "gridcolor": "white",
             "linecolor": "white",
             "minorgridcolor": "white",
             "startlinecolor": "#2a3f5f"
            },
            "type": "carpet"
           }
          ],
          "choropleth": [
           {
            "colorbar": {
             "outlinewidth": 0,
             "ticks": ""
            },
            "type": "choropleth"
           }
          ],
          "contour": [
           {
            "colorbar": {
             "outlinewidth": 0,
             "ticks": ""
            },
            "colorscale": [
             [
              0,
              "#0d0887"
             ],
             [
              0.1111111111111111,
              "#46039f"
             ],
             [
              0.2222222222222222,
              "#7201a8"
             ],
             [
              0.3333333333333333,
              "#9c179e"
             ],
             [
              0.4444444444444444,
              "#bd3786"
             ],
             [
              0.5555555555555556,
              "#d8576b"
             ],
             [
              0.6666666666666666,
              "#ed7953"
             ],
             [
              0.7777777777777778,
              "#fb9f3a"
             ],
             [
              0.8888888888888888,
              "#fdca26"
             ],
             [
              1,
              "#f0f921"
             ]
            ],
            "type": "contour"
           }
          ],
          "contourcarpet": [
           {
            "colorbar": {
             "outlinewidth": 0,
             "ticks": ""
            },
            "type": "contourcarpet"
           }
          ],
          "heatmap": [
           {
            "colorbar": {
             "outlinewidth": 0,
             "ticks": ""
            },
            "colorscale": [
             [
              0,
              "#0d0887"
             ],
             [
              0.1111111111111111,
              "#46039f"
             ],
             [
              0.2222222222222222,
              "#7201a8"
             ],
             [
              0.3333333333333333,
              "#9c179e"
             ],
             [
              0.4444444444444444,
              "#bd3786"
             ],
             [
              0.5555555555555556,
              "#d8576b"
             ],
             [
              0.6666666666666666,
              "#ed7953"
             ],
             [
              0.7777777777777778,
              "#fb9f3a"
             ],
             [
              0.8888888888888888,
              "#fdca26"
             ],
             [
              1,
              "#f0f921"
             ]
            ],
            "type": "heatmap"
           }
          ],
          "heatmapgl": [
           {
            "colorbar": {
             "outlinewidth": 0,
             "ticks": ""
            },
            "colorscale": [
             [
              0,
              "#0d0887"
             ],
             [
              0.1111111111111111,
              "#46039f"
             ],
             [
              0.2222222222222222,
              "#7201a8"
             ],
             [
              0.3333333333333333,
              "#9c179e"
             ],
             [
              0.4444444444444444,
              "#bd3786"
             ],
             [
              0.5555555555555556,
              "#d8576b"
             ],
             [
              0.6666666666666666,
              "#ed7953"
             ],
             [
              0.7777777777777778,
              "#fb9f3a"
             ],
             [
              0.8888888888888888,
              "#fdca26"
             ],
             [
              1,
              "#f0f921"
             ]
            ],
            "type": "heatmapgl"
           }
          ],
          "histogram": [
           {
            "marker": {
             "pattern": {
              "fillmode": "overlay",
              "size": 10,
              "solidity": 0.2
             }
            },
            "type": "histogram"
           }
          ],
          "histogram2d": [
           {
            "colorbar": {
             "outlinewidth": 0,
             "ticks": ""
            },
            "colorscale": [
             [
              0,
              "#0d0887"
             ],
             [
              0.1111111111111111,
              "#46039f"
             ],
             [
              0.2222222222222222,
              "#7201a8"
             ],
             [
              0.3333333333333333,
              "#9c179e"
             ],
             [
              0.4444444444444444,
              "#bd3786"
             ],
             [
              0.5555555555555556,
              "#d8576b"
             ],
             [
              0.6666666666666666,
              "#ed7953"
             ],
             [
              0.7777777777777778,
              "#fb9f3a"
             ],
             [
              0.8888888888888888,
              "#fdca26"
             ],
             [
              1,
              "#f0f921"
             ]
            ],
            "type": "histogram2d"
           }
          ],
          "histogram2dcontour": [
           {
            "colorbar": {
             "outlinewidth": 0,
             "ticks": ""
            },
            "colorscale": [
             [
              0,
              "#0d0887"
             ],
             [
              0.1111111111111111,
              "#46039f"
             ],
             [
              0.2222222222222222,
              "#7201a8"
             ],
             [
              0.3333333333333333,
              "#9c179e"
             ],
             [
              0.4444444444444444,
              "#bd3786"
             ],
             [
              0.5555555555555556,
              "#d8576b"
             ],
             [
              0.6666666666666666,
              "#ed7953"
             ],
             [
              0.7777777777777778,
              "#fb9f3a"
             ],
             [
              0.8888888888888888,
              "#fdca26"
             ],
             [
              1,
              "#f0f921"
             ]
            ],
            "type": "histogram2dcontour"
           }
          ],
          "mesh3d": [
           {
            "colorbar": {
             "outlinewidth": 0,
             "ticks": ""
            },
            "type": "mesh3d"
           }
          ],
          "parcoords": [
           {
            "line": {
             "colorbar": {
              "outlinewidth": 0,
              "ticks": ""
             }
            },
            "type": "parcoords"
           }
          ],
          "pie": [
           {
            "automargin": true,
            "type": "pie"
           }
          ],
          "scatter": [
           {
            "fillpattern": {
             "fillmode": "overlay",
             "size": 10,
             "solidity": 0.2
            },
            "type": "scatter"
           }
          ],
          "scatter3d": [
           {
            "line": {
             "colorbar": {
              "outlinewidth": 0,
              "ticks": ""
             }
            },
            "marker": {
             "colorbar": {
              "outlinewidth": 0,
              "ticks": ""
             }
            },
            "type": "scatter3d"
           }
          ],
          "scattercarpet": [
           {
            "marker": {
             "colorbar": {
              "outlinewidth": 0,
              "ticks": ""
             }
            },
            "type": "scattercarpet"
           }
          ],
          "scattergeo": [
           {
            "marker": {
             "colorbar": {
              "outlinewidth": 0,
              "ticks": ""
             }
            },
            "type": "scattergeo"
           }
          ],
          "scattergl": [
           {
            "marker": {
             "colorbar": {
              "outlinewidth": 0,
              "ticks": ""
             }
            },
            "type": "scattergl"
           }
          ],
          "scattermapbox": [
           {
            "marker": {
             "colorbar": {
              "outlinewidth": 0,
              "ticks": ""
             }
            },
            "type": "scattermapbox"
           }
          ],
          "scatterpolar": [
           {
            "marker": {
             "colorbar": {
              "outlinewidth": 0,
              "ticks": ""
             }
            },
            "type": "scatterpolar"
           }
          ],
          "scatterpolargl": [
           {
            "marker": {
             "colorbar": {
              "outlinewidth": 0,
              "ticks": ""
             }
            },
            "type": "scatterpolargl"
           }
          ],
          "scatterternary": [
           {
            "marker": {
             "colorbar": {
              "outlinewidth": 0,
              "ticks": ""
             }
            },
            "type": "scatterternary"
           }
          ],
          "surface": [
           {
            "colorbar": {
             "outlinewidth": 0,
             "ticks": ""
            },
            "colorscale": [
             [
              0,
              "#0d0887"
             ],
             [
              0.1111111111111111,
              "#46039f"
             ],
             [
              0.2222222222222222,
              "#7201a8"
             ],
             [
              0.3333333333333333,
              "#9c179e"
             ],
             [
              0.4444444444444444,
              "#bd3786"
             ],
             [
              0.5555555555555556,
              "#d8576b"
             ],
             [
              0.6666666666666666,
              "#ed7953"
             ],
             [
              0.7777777777777778,
              "#fb9f3a"
             ],
             [
              0.8888888888888888,
              "#fdca26"
             ],
             [
              1,
              "#f0f921"
             ]
            ],
            "type": "surface"
           }
          ],
          "table": [
           {
            "cells": {
             "fill": {
              "color": "#EBF0F8"
             },
             "line": {
              "color": "white"
             }
            },
            "header": {
             "fill": {
              "color": "#C8D4E3"
             },
             "line": {
              "color": "white"
             }
            },
            "type": "table"
           }
          ]
         },
         "layout": {
          "annotationdefaults": {
           "arrowcolor": "#2a3f5f",
           "arrowhead": 0,
           "arrowwidth": 1
          },
          "autotypenumbers": "strict",
          "coloraxis": {
           "colorbar": {
            "outlinewidth": 0,
            "ticks": ""
           }
          },
          "colorscale": {
           "diverging": [
            [
             0,
             "#8e0152"
            ],
            [
             0.1,
             "#c51b7d"
            ],
            [
             0.2,
             "#de77ae"
            ],
            [
             0.3,
             "#f1b6da"
            ],
            [
             0.4,
             "#fde0ef"
            ],
            [
             0.5,
             "#f7f7f7"
            ],
            [
             0.6,
             "#e6f5d0"
            ],
            [
             0.7,
             "#b8e186"
            ],
            [
             0.8,
             "#7fbc41"
            ],
            [
             0.9,
             "#4d9221"
            ],
            [
             1,
             "#276419"
            ]
           ],
           "sequential": [
            [
             0,
             "#0d0887"
            ],
            [
             0.1111111111111111,
             "#46039f"
            ],
            [
             0.2222222222222222,
             "#7201a8"
            ],
            [
             0.3333333333333333,
             "#9c179e"
            ],
            [
             0.4444444444444444,
             "#bd3786"
            ],
            [
             0.5555555555555556,
             "#d8576b"
            ],
            [
             0.6666666666666666,
             "#ed7953"
            ],
            [
             0.7777777777777778,
             "#fb9f3a"
            ],
            [
             0.8888888888888888,
             "#fdca26"
            ],
            [
             1,
             "#f0f921"
            ]
           ],
           "sequentialminus": [
            [
             0,
             "#0d0887"
            ],
            [
             0.1111111111111111,
             "#46039f"
            ],
            [
             0.2222222222222222,
             "#7201a8"
            ],
            [
             0.3333333333333333,
             "#9c179e"
            ],
            [
             0.4444444444444444,
             "#bd3786"
            ],
            [
             0.5555555555555556,
             "#d8576b"
            ],
            [
             0.6666666666666666,
             "#ed7953"
            ],
            [
             0.7777777777777778,
             "#fb9f3a"
            ],
            [
             0.8888888888888888,
             "#fdca26"
            ],
            [
             1,
             "#f0f921"
            ]
           ]
          },
          "colorway": [
           "#636efa",
           "#EF553B",
           "#00cc96",
           "#ab63fa",
           "#FFA15A",
           "#19d3f3",
           "#FF6692",
           "#B6E880",
           "#FF97FF",
           "#FECB52"
          ],
          "font": {
           "color": "#2a3f5f"
          },
          "geo": {
           "bgcolor": "white",
           "lakecolor": "white",
           "landcolor": "#E5ECF6",
           "showlakes": true,
           "showland": true,
           "subunitcolor": "white"
          },
          "hoverlabel": {
           "align": "left"
          },
          "hovermode": "closest",
          "mapbox": {
           "style": "light"
          },
          "paper_bgcolor": "white",
          "plot_bgcolor": "#E5ECF6",
          "polar": {
           "angularaxis": {
            "gridcolor": "white",
            "linecolor": "white",
            "ticks": ""
           },
           "bgcolor": "#E5ECF6",
           "radialaxis": {
            "gridcolor": "white",
            "linecolor": "white",
            "ticks": ""
           }
          },
          "scene": {
           "xaxis": {
            "backgroundcolor": "#E5ECF6",
            "gridcolor": "white",
            "gridwidth": 2,
            "linecolor": "white",
            "showbackground": true,
            "ticks": "",
            "zerolinecolor": "white"
           },
           "yaxis": {
            "backgroundcolor": "#E5ECF6",
            "gridcolor": "white",
            "gridwidth": 2,
            "linecolor": "white",
            "showbackground": true,
            "ticks": "",
            "zerolinecolor": "white"
           },
           "zaxis": {
            "backgroundcolor": "#E5ECF6",
            "gridcolor": "white",
            "gridwidth": 2,
            "linecolor": "white",
            "showbackground": true,
            "ticks": "",
            "zerolinecolor": "white"
           }
          },
          "shapedefaults": {
           "line": {
            "color": "#2a3f5f"
           }
          },
          "ternary": {
           "aaxis": {
            "gridcolor": "white",
            "linecolor": "white",
            "ticks": ""
           },
           "baxis": {
            "gridcolor": "white",
            "linecolor": "white",
            "ticks": ""
           },
           "bgcolor": "#E5ECF6",
           "caxis": {
            "gridcolor": "white",
            "linecolor": "white",
            "ticks": ""
           }
          },
          "title": {
           "x": 0.05
          },
          "xaxis": {
           "automargin": true,
           "gridcolor": "white",
           "linecolor": "white",
           "ticks": "",
           "title": {
            "standoff": 15
           },
           "zerolinecolor": "white",
           "zerolinewidth": 2
          },
          "yaxis": {
           "automargin": true,
           "gridcolor": "white",
           "linecolor": "white",
           "ticks": "",
           "title": {
            "standoff": 15
           },
           "zerolinecolor": "white",
           "zerolinewidth": 2
          }
         }
        },
        "title": {
         "text": "Blended Model Kappa: 0.40855241155998934"
        },
        "width": 800,
        "xaxis": {
         "title": {
          "text": "Predicted value"
         }
        },
        "yaxis": {
         "title": {
          "text": "Real value"
         }
        }
       }
      }
     },
     "metadata": {},
     "output_type": "display_data"
    }
   ],
   "source": [
    "plot_confusion_matrix(merged_datasets['AdoptionSpeed'],\n",
    "                      merged_datasets['blended_pred'], \n",
    "                    title = 'Blended Model Kappa: ' + str(cohen_kappa_score(merged_datasets['AdoptionSpeed'],\n",
    "                                                                    merged_datasets['blended_pred'], \n",
    "                                                                    weights='quadratic')))\n"
   ]
  },
  {
   "cell_type": "code",
   "execution_count": 44,
   "metadata": {},
   "outputs": [
    {
     "name": "stdout",
     "output_type": "stream",
     "text": [
      "Metric                      base_lgbm_pred    lgb_pred    resnet_pred    bert_pred    blended_pred\n",
      "------------------------  ----------------  ----------  -------------  -----------  --------------\n",
      "Quadratic Weighted Kappa            0.3260      0.3871         0.2356       0.2235          0.4086\n",
      "F1 Score                            0.2499      0.4310         0.3212       0.3496          0.4323\n",
      "Accuracy                            0.2684      0.4458         0.3334       0.3511          0.4502\n",
      "Close Accuracy                      0.0653      0.7586         0.6799       0.7122          0.7686\n"
     ]
    }
   ],
   "source": [
    "# Creamos metricas para comparar los modelos\n",
    "\n",
    "# Define the true labels\n",
    "true_labels = merged_datasets['AdoptionSpeed']\n",
    "\n",
    "# Define the prediction columns\n",
    "prediction_columns = ['lgb_pred', 'resnet_pred', 'bert_pred', 'blended_pred']\n",
    "\n",
    "# Initialize dictionaries to store metrics for each prediction column\n",
    "accuracy_dict = {}\n",
    "f1_dict = {}\n",
    "precision_dict = {}\n",
    "kappa_dict = {}\n",
    "caccuracy_dict = {}\n",
    "\n",
    "# Definir la métrica personalizada segun cercania (+- 1)\n",
    "def close_accuracy(true_labels, predictions):\n",
    "    \"\"\"\n",
    "    Calcula la métrica de 'cercanía' donde se considera aceptable una predicción si está a ±1 del valor correcto.\n",
    "    \"\"\"\n",
    "    close_preds = np.abs(true_labels - predictions) <= 1  # Verifica si la predicción está a ±1 del valor real\n",
    "    return np.mean(close_preds)  # Calcula el porcentaje de predicciones aceptables\n",
    "\n",
    "# Calculate metrics for each prediction column\n",
    "for pred_col in prediction_columns:\n",
    "    predictions = merged_datasets[pred_col]\n",
    "    \n",
    "    # Compute metrics\n",
    "    accuracy_dict[pred_col] = accuracy_score(true_labels, predictions)\n",
    "    f1_dict[pred_col] = f1_score(true_labels, predictions, average='weighted')\n",
    "\n",
    "    # Metrica especial de \"cercania\"\n",
    "    caccuracy_dict[pred_col] = close_accuracy(true_labels, predictions)    \n",
    "    \n",
    "    # Quadratic Weighted Kappa\n",
    "    kappa_dict[pred_col] = cohen_kappa_score(true_labels, predictions, weights='quadratic')\n",
    "\n",
    "# Agrego el base LGBM model\n",
    "base_lgbm_predictions = lgb_base_dataset['lgb_base_pred']\n",
    "\n",
    "# Compute metrics for base LGBM model\n",
    "accuracy_dict['base_lgbm_pred'] = accuracy_score(true_labels, base_lgbm_predictions)\n",
    "f1_dict['base_lgbm_pred'] = f1_score(true_labels, base_lgbm_predictions, average='weighted')\n",
    "caccuracy_dict['base_lgbm_pred'] = close_accuracy(true_labels, base_lgbm_predictions)\n",
    "kappa_dict['base_lgbm_pred'] = cohen_kappa_score(lgb_base_dataset['AdoptionSpeed'],\n",
    "                                                                    lgb_base_dataset['lgb_base_pred'], \n",
    "                                                                    weights='quadratic')\n",
    "\n",
    "# Insert the base LGBM model at the first position in the prediction_columns list\n",
    "prediction_columns.insert(0, 'base_lgbm_pred')\n",
    "\n",
    "# Create a table with the results\n",
    "table_data = [\n",
    "    ['Quadratic Weighted Kappa', *[kappa_dict[col] for col in prediction_columns]],\n",
    "    ['F1 Score', *[f1_dict[col] for col in prediction_columns]],\n",
    "    ['Accuracy', *[accuracy_dict[col] for col in prediction_columns]],\n",
    "    ['Close Accuracy', *[caccuracy_dict[col] for col in prediction_columns]]\n",
    "]\n",
    "\n",
    "# Display the table\n",
    "headers = ['Metric'] + prediction_columns\n",
    "print(tabulate(table_data, headers=headers, floatfmt=\".4f\"))"
   ]
  },
  {
   "cell_type": "code",
   "execution_count": 46,
   "metadata": {},
   "outputs": [
    {
     "data": {
      "image/png": "[encoded data removed]",
      "text/plain": [
       "<Figure size 800x600 with 1 Axes>"
      ]
     },
     "metadata": {},
     "output_type": "display_data"
    }
   ],
   "source": [
    "# Grafico con los Kappa cuadraticos de cada modelo\n",
    "\n",
    "# Define a mapping for the display names of the models\n",
    "model_names = {\n",
    "    'base_lgbm_pred': 'Base LGBM',\n",
    "    'lgb_pred': 'LightGBM',\n",
    "    'resnet_pred': 'ResNet',\n",
    "    'bert_pred': 'BERT',\n",
    "    'blended_pred': 'Blended Model'\n",
    "}\n",
    "\n",
    "# Replace the column names in prediction_columns with the display names\n",
    "renamed_columns = [model_names.get(col, col) for col in prediction_columns]\n",
    "\n",
    "# Extract the Quadratic Weighted Kappa values\n",
    "kappa_values = table_data[0][1:]  # The first row (excluding 'Metric') contains the Kappa values\n",
    "\n",
    "# Normalize kappa values to map colors (between 0 and 1)\n",
    "norm = plt.Normalize(0, 0.5)\n",
    "\n",
    "# Get a colormap (e.g., 'Blues', 'Greens', 'Oranges', etc.)\n",
    "cmap = plt.get_cmap('Blues')  # You can choose 'Blues', 'Greens', 'Oranges', etc.\n",
    "\n",
    "# Generate colors based on kappa values\n",
    "colors = cmap(norm(kappa_values))\n",
    "\n",
    "# Plotting the bar chart with intensity-based colors\n",
    "plt.figure(figsize=(8, 6))\n",
    "plt.bar(renamed_columns, kappa_values, color=colors)\n",
    "\n",
    "# Add title and labels\n",
    "plt.title('Métrica Kappa por modelo')\n",
    "plt.xlabel('Modelo')\n",
    "plt.ylabel('Quadratic Weighted Kappa')\n",
    "plt.ylim(0, 0.5)\n",
    "\n",
    "# Display the values on top of each bar\n",
    "for i, value in enumerate(kappa_values):\n",
    "    plt.text(i, value + 0.02, f'{value:.4f}', ha='center')\n",
    "\n",
    "# Show the chart\n",
    "plt.show()\n"
   ]
  }
 ],
 "metadata": {
  "kernelspec": {
   "display_name": "ldi2_cuda",
   "language": "python",
   "name": "python3"
  },
  "language_info": {
   "codemirror_mode": {
    "name": "ipython",
    "version": 3
   },
   "file_extension": ".py",
   "mimetype": "text/x-python",
   "name": "python",
   "nbconvert_exporter": "python",
   "pygments_lexer": "ipython3",
   "version": "3.12.6"
  }
 },
 "nbformat": 4,
 "nbformat_minor": 2
}
