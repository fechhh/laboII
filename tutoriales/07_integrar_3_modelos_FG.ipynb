{
 "cells": [
  {
   "cell_type": "code",
   "execution_count": 23,
   "metadata": {},
   "outputs": [],
   "source": [
    "import numpy as np \n",
    "import pandas as pd \n",
    "\n",
    "from sklearn.metrics import cohen_kappa_score, accuracy_score,balanced_accuracy_score\n",
    "\n",
    "from plotly import express as px\n",
    "\n",
    "from utils import plot_confusion_matrix, get_artifact_filename\n",
    "\n",
    "import os\n",
    "\n",
    "from json import loads\n",
    "\n",
    "from joblib import load, dump\n",
    "\n",
    "import optuna\n",
    "from optuna.artifacts import FileSystemArtifactStore, upload_artifact"
   ]
  },
  {
   "cell_type": "code",
   "execution_count": 24,
   "metadata": {},
   "outputs": [],
   "source": [
    "# Paths\n",
    "BASE_DIR = '../'\n",
    "PATH_TO_TRAIN = os.path.join(BASE_DIR, \"input/petfinder-adoption-prediction/train/train.csv\")\n",
    "PATH_TO_MODELS = os.path.join(BASE_DIR, \"work/models\")\n",
    "PATH_TO_TEMP_FILES = os.path.join(BASE_DIR, \"work/optuna_temp_artifacts\")\n",
    "PATH_TO_OPTUNA_ARTIFACTS = os.path.join(BASE_DIR, \"work/optuna_artifacts\")"
   ]
  },
  {
   "cell_type": "code",
   "execution_count": 25,
   "metadata": {},
   "outputs": [
    {
     "name": "stderr",
     "output_type": "stream",
     "text": [
      "[I 2024-09-26 20:18:39,496] Using an existing study with name '04 - LGB Multiclass CV' instead of creating a new one.\n"
     ]
    },
    {
     "name": "stdout",
     "output_type": "stream",
     "text": [
      "True\n",
      "..\\work\\optuna_artifacts\\21d06fa3-67b0-4098-9421-a6e6c4a03e55\n",
      "True\n"
     ]
    }
   ],
   "source": [
    "study_lgb = optuna.create_study(direction='maximize',\n",
    "                            storage=\"sqlite:///../work/db.sqlite3\",  # Specify the storage URL here.\n",
    "                            study_name=\"04 - LGB Multiclass CV\",\n",
    "                            load_if_exists = True)\n",
    "\n",
    "# Get the artifact filename\n",
    "artifact_filename = get_artifact_filename(study_lgb,'test')\n",
    "\n",
    "# Combine the path and filename\n",
    "artifact_path = os.path.join(PATH_TO_OPTUNA_ARTIFACTS, artifact_filename)\n",
    "\n",
    "print(os.path.exists(PATH_TO_OPTUNA_ARTIFACTS))\n",
    "print(os.path.normpath(artifact_path))\n",
    "print(os.path.exists(artifact_path))\n",
    "\n",
    "lgb_dataset = load(artifact_path)"
   ]
  },
  {
   "cell_type": "code",
   "execution_count": 26,
   "metadata": {},
   "outputs": [
    {
     "data": {
      "text/html": [
       "<div>\n",
       "<style scoped>\n",
       "    .dataframe tbody tr th:only-of-type {\n",
       "        vertical-align: middle;\n",
       "    }\n",
       "\n",
       "    .dataframe tbody tr th {\n",
       "        vertical-align: top;\n",
       "    }\n",
       "\n",
       "    .dataframe thead th {\n",
       "        text-align: right;\n",
       "    }\n",
       "</style>\n",
       "<table border=\"1\" class=\"dataframe\">\n",
       "  <thead>\n",
       "    <tr style=\"text-align: right;\">\n",
       "      <th></th>\n",
       "      <th>Type</th>\n",
       "      <th>Name</th>\n",
       "      <th>Age</th>\n",
       "      <th>Breed1</th>\n",
       "      <th>Breed2</th>\n",
       "      <th>Gender</th>\n",
       "      <th>Color1</th>\n",
       "      <th>Color2</th>\n",
       "      <th>Color3</th>\n",
       "      <th>MaturitySize</th>\n",
       "      <th>...</th>\n",
       "      <th>RescuerID_Word_Count</th>\n",
       "      <th>MaturitySize_FurLength</th>\n",
       "      <th>PhotoAmt_FurLength</th>\n",
       "      <th>VideoAmt_FurLength</th>\n",
       "      <th>prediction_class_0</th>\n",
       "      <th>prediction_class_1</th>\n",
       "      <th>prediction_class_2</th>\n",
       "      <th>prediction_class_3</th>\n",
       "      <th>prediction_class_4</th>\n",
       "      <th>pred</th>\n",
       "    </tr>\n",
       "  </thead>\n",
       "  <tbody>\n",
       "    <tr>\n",
       "      <th>14696</th>\n",
       "      <td>1</td>\n",
       "      <td>Dione &amp; Elora</td>\n",
       "      <td>1</td>\n",
       "      <td>307</td>\n",
       "      <td>307</td>\n",
       "      <td>2</td>\n",
       "      <td>1</td>\n",
       "      <td>0</td>\n",
       "      <td>0</td>\n",
       "      <td>2</td>\n",
       "      <td>...</td>\n",
       "      <td>1</td>\n",
       "      <td>4</td>\n",
       "      <td>18.0</td>\n",
       "      <td>0</td>\n",
       "      <td>0.002637</td>\n",
       "      <td>0.156636</td>\n",
       "      <td>0.266874</td>\n",
       "      <td>0.471452</td>\n",
       "      <td>0.102400</td>\n",
       "      <td>[0.04676390591402284, 0.7782228425274123, 2.32...</td>\n",
       "    </tr>\n",
       "    <tr>\n",
       "      <th>14823</th>\n",
       "      <td>1</td>\n",
       "      <td>Har-nee</td>\n",
       "      <td>24</td>\n",
       "      <td>103</td>\n",
       "      <td>307</td>\n",
       "      <td>2</td>\n",
       "      <td>1</td>\n",
       "      <td>2</td>\n",
       "      <td>4</td>\n",
       "      <td>2</td>\n",
       "      <td>...</td>\n",
       "      <td>1</td>\n",
       "      <td>2</td>\n",
       "      <td>2.0</td>\n",
       "      <td>0</td>\n",
       "      <td>0.016761</td>\n",
       "      <td>0.166559</td>\n",
       "      <td>0.207251</td>\n",
       "      <td>0.194078</td>\n",
       "      <td>0.415351</td>\n",
       "      <td>[0.07834690950229141, 1.1501783068876406, 1.02...</td>\n",
       "    </tr>\n",
       "    <tr>\n",
       "      <th>2838</th>\n",
       "      <td>1</td>\n",
       "      <td>The Gorgeous 5 Beauties</td>\n",
       "      <td>2</td>\n",
       "      <td>307</td>\n",
       "      <td>0</td>\n",
       "      <td>2</td>\n",
       "      <td>2</td>\n",
       "      <td>7</td>\n",
       "      <td>0</td>\n",
       "      <td>2</td>\n",
       "      <td>...</td>\n",
       "      <td>1</td>\n",
       "      <td>2</td>\n",
       "      <td>5.0</td>\n",
       "      <td>0</td>\n",
       "      <td>0.019105</td>\n",
       "      <td>0.204035</td>\n",
       "      <td>0.353514</td>\n",
       "      <td>0.259572</td>\n",
       "      <td>0.163773</td>\n",
       "      <td>[0.06196509584556729, 0.7925215856085531, 1.49...</td>\n",
       "    </tr>\n",
       "    <tr>\n",
       "      <th>1848</th>\n",
       "      <td>2</td>\n",
       "      <td>Mochi</td>\n",
       "      <td>1</td>\n",
       "      <td>265</td>\n",
       "      <td>0</td>\n",
       "      <td>1</td>\n",
       "      <td>2</td>\n",
       "      <td>0</td>\n",
       "      <td>0</td>\n",
       "      <td>1</td>\n",
       "      <td>...</td>\n",
       "      <td>1</td>\n",
       "      <td>2</td>\n",
       "      <td>12.0</td>\n",
       "      <td>4</td>\n",
       "      <td>0.017194</td>\n",
       "      <td>0.299177</td>\n",
       "      <td>0.536504</td>\n",
       "      <td>0.100774</td>\n",
       "      <td>0.046351</td>\n",
       "      <td>[0.1143038921277312, 1.1889348421776806, 2.182...</td>\n",
       "    </tr>\n",
       "    <tr>\n",
       "      <th>669</th>\n",
       "      <td>2</td>\n",
       "      <td>Nala &amp; Peach</td>\n",
       "      <td>9</td>\n",
       "      <td>266</td>\n",
       "      <td>266</td>\n",
       "      <td>2</td>\n",
       "      <td>2</td>\n",
       "      <td>4</td>\n",
       "      <td>6</td>\n",
       "      <td>2</td>\n",
       "      <td>...</td>\n",
       "      <td>1</td>\n",
       "      <td>2</td>\n",
       "      <td>8.0</td>\n",
       "      <td>0</td>\n",
       "      <td>0.008867</td>\n",
       "      <td>0.044874</td>\n",
       "      <td>0.324296</td>\n",
       "      <td>0.202780</td>\n",
       "      <td>0.419182</td>\n",
       "      <td>[0.10835417602341627, 0.7268431636301831, 1.12...</td>\n",
       "    </tr>\n",
       "    <tr>\n",
       "      <th>...</th>\n",
       "      <td>...</td>\n",
       "      <td>...</td>\n",
       "      <td>...</td>\n",
       "      <td>...</td>\n",
       "      <td>...</td>\n",
       "      <td>...</td>\n",
       "      <td>...</td>\n",
       "      <td>...</td>\n",
       "      <td>...</td>\n",
       "      <td>...</td>\n",
       "      <td>...</td>\n",
       "      <td>...</td>\n",
       "      <td>...</td>\n",
       "      <td>...</td>\n",
       "      <td>...</td>\n",
       "      <td>...</td>\n",
       "      <td>...</td>\n",
       "      <td>...</td>\n",
       "      <td>...</td>\n",
       "      <td>...</td>\n",
       "      <td>...</td>\n",
       "    </tr>\n",
       "    <tr>\n",
       "      <th>996</th>\n",
       "      <td>2</td>\n",
       "      <td>Anak Nanya</td>\n",
       "      <td>8</td>\n",
       "      <td>266</td>\n",
       "      <td>0</td>\n",
       "      <td>3</td>\n",
       "      <td>1</td>\n",
       "      <td>2</td>\n",
       "      <td>0</td>\n",
       "      <td>2</td>\n",
       "      <td>...</td>\n",
       "      <td>1</td>\n",
       "      <td>2</td>\n",
       "      <td>14.0</td>\n",
       "      <td>0</td>\n",
       "      <td>0.001659</td>\n",
       "      <td>0.028627</td>\n",
       "      <td>0.243163</td>\n",
       "      <td>0.213709</td>\n",
       "      <td>0.512842</td>\n",
       "      <td>[0.03783643627609431, 0.535025556894434, 0.909...</td>\n",
       "    </tr>\n",
       "    <tr>\n",
       "      <th>12222</th>\n",
       "      <td>1</td>\n",
       "      <td>Poor Baby</td>\n",
       "      <td>3</td>\n",
       "      <td>307</td>\n",
       "      <td>0</td>\n",
       "      <td>1</td>\n",
       "      <td>5</td>\n",
       "      <td>0</td>\n",
       "      <td>0</td>\n",
       "      <td>2</td>\n",
       "      <td>...</td>\n",
       "      <td>1</td>\n",
       "      <td>2</td>\n",
       "      <td>2.0</td>\n",
       "      <td>0</td>\n",
       "      <td>0.012552</td>\n",
       "      <td>0.302023</td>\n",
       "      <td>0.289652</td>\n",
       "      <td>0.160641</td>\n",
       "      <td>0.235132</td>\n",
       "      <td>[0.05345929047926969, 1.3894126384434298, 1.36...</td>\n",
       "    </tr>\n",
       "    <tr>\n",
       "      <th>10538</th>\n",
       "      <td>2</td>\n",
       "      <td>No Name</td>\n",
       "      <td>1</td>\n",
       "      <td>265</td>\n",
       "      <td>0</td>\n",
       "      <td>2</td>\n",
       "      <td>1</td>\n",
       "      <td>6</td>\n",
       "      <td>0</td>\n",
       "      <td>1</td>\n",
       "      <td>...</td>\n",
       "      <td>1</td>\n",
       "      <td>2</td>\n",
       "      <td>4.0</td>\n",
       "      <td>0</td>\n",
       "      <td>0.020152</td>\n",
       "      <td>0.481700</td>\n",
       "      <td>0.305483</td>\n",
       "      <td>0.129244</td>\n",
       "      <td>0.063421</td>\n",
       "      <td>[0.08351152798647285, 2.268266953473084, 1.472...</td>\n",
       "    </tr>\n",
       "    <tr>\n",
       "      <th>11062</th>\n",
       "      <td>1</td>\n",
       "      <td>Pipi</td>\n",
       "      <td>1</td>\n",
       "      <td>307</td>\n",
       "      <td>0</td>\n",
       "      <td>2</td>\n",
       "      <td>1</td>\n",
       "      <td>5</td>\n",
       "      <td>7</td>\n",
       "      <td>2</td>\n",
       "      <td>...</td>\n",
       "      <td>1</td>\n",
       "      <td>2</td>\n",
       "      <td>1.0</td>\n",
       "      <td>0</td>\n",
       "      <td>0.019263</td>\n",
       "      <td>0.177707</td>\n",
       "      <td>0.265056</td>\n",
       "      <td>0.190629</td>\n",
       "      <td>0.347345</td>\n",
       "      <td>[0.14612655333264096, 0.6855164303520578, 1.23...</td>\n",
       "    </tr>\n",
       "    <tr>\n",
       "      <th>4858</th>\n",
       "      <td>2</td>\n",
       "      <td>Anya The Manja</td>\n",
       "      <td>19</td>\n",
       "      <td>265</td>\n",
       "      <td>0</td>\n",
       "      <td>2</td>\n",
       "      <td>1</td>\n",
       "      <td>7</td>\n",
       "      <td>0</td>\n",
       "      <td>2</td>\n",
       "      <td>...</td>\n",
       "      <td>1</td>\n",
       "      <td>4</td>\n",
       "      <td>4.0</td>\n",
       "      <td>0</td>\n",
       "      <td>0.016750</td>\n",
       "      <td>0.112098</td>\n",
       "      <td>0.192194</td>\n",
       "      <td>0.169003</td>\n",
       "      <td>0.509956</td>\n",
       "      <td>[0.1068225718752819, 0.3792243557481392, 0.473...</td>\n",
       "    </tr>\n",
       "  </tbody>\n",
       "</table>\n",
       "<p>2999 rows × 54 columns</p>\n",
       "</div>"
      ],
      "text/plain": [
       "       Type                     Name  Age  Breed1  Breed2  Gender  Color1  \\\n",
       "14696     1            Dione & Elora    1     307     307       2       1   \n",
       "14823     1                  Har-nee   24     103     307       2       1   \n",
       "2838      1  The Gorgeous 5 Beauties    2     307       0       2       2   \n",
       "1848      2                    Mochi    1     265       0       1       2   \n",
       "669       2             Nala & Peach    9     266     266       2       2   \n",
       "...     ...                      ...  ...     ...     ...     ...     ...   \n",
       "996       2               Anak Nanya    8     266       0       3       1   \n",
       "12222     1                Poor Baby    3     307       0       1       5   \n",
       "10538     2                  No Name    1     265       0       2       1   \n",
       "11062     1                     Pipi    1     307       0       2       1   \n",
       "4858      2           Anya The Manja   19     265       0       2       1   \n",
       "\n",
       "       Color2  Color3  MaturitySize  ...  RescuerID_Word_Count  \\\n",
       "14696       0       0             2  ...                     1   \n",
       "14823       2       4             2  ...                     1   \n",
       "2838        7       0             2  ...                     1   \n",
       "1848        0       0             1  ...                     1   \n",
       "669         4       6             2  ...                     1   \n",
       "...       ...     ...           ...  ...                   ...   \n",
       "996         2       0             2  ...                     1   \n",
       "12222       0       0             2  ...                     1   \n",
       "10538       6       0             1  ...                     1   \n",
       "11062       5       7             2  ...                     1   \n",
       "4858        7       0             2  ...                     1   \n",
       "\n",
       "       MaturitySize_FurLength  PhotoAmt_FurLength  VideoAmt_FurLength  \\\n",
       "14696                       4                18.0                   0   \n",
       "14823                       2                 2.0                   0   \n",
       "2838                        2                 5.0                   0   \n",
       "1848                        2                12.0                   4   \n",
       "669                         2                 8.0                   0   \n",
       "...                       ...                 ...                 ...   \n",
       "996                         2                14.0                   0   \n",
       "12222                       2                 2.0                   0   \n",
       "10538                       2                 4.0                   0   \n",
       "11062                       2                 1.0                   0   \n",
       "4858                        4                 4.0                   0   \n",
       "\n",
       "      prediction_class_0  prediction_class_1  prediction_class_2  \\\n",
       "14696           0.002637            0.156636            0.266874   \n",
       "14823           0.016761            0.166559            0.207251   \n",
       "2838            0.019105            0.204035            0.353514   \n",
       "1848            0.017194            0.299177            0.536504   \n",
       "669             0.008867            0.044874            0.324296   \n",
       "...                  ...                 ...                 ...   \n",
       "996             0.001659            0.028627            0.243163   \n",
       "12222           0.012552            0.302023            0.289652   \n",
       "10538           0.020152            0.481700            0.305483   \n",
       "11062           0.019263            0.177707            0.265056   \n",
       "4858            0.016750            0.112098            0.192194   \n",
       "\n",
       "       prediction_class_3 prediction_class_4  \\\n",
       "14696            0.471452           0.102400   \n",
       "14823            0.194078           0.415351   \n",
       "2838             0.259572           0.163773   \n",
       "1848             0.100774           0.046351   \n",
       "669              0.202780           0.419182   \n",
       "...                   ...                ...   \n",
       "996              0.213709           0.512842   \n",
       "12222            0.160641           0.235132   \n",
       "10538            0.129244           0.063421   \n",
       "11062            0.190629           0.347345   \n",
       "4858             0.169003           0.509956   \n",
       "\n",
       "                                                    pred  \n",
       "14696  [0.04676390591402284, 0.7782228425274123, 2.32...  \n",
       "14823  [0.07834690950229141, 1.1501783068876406, 1.02...  \n",
       "2838   [0.06196509584556729, 0.7925215856085531, 1.49...  \n",
       "1848   [0.1143038921277312, 1.1889348421776806, 2.182...  \n",
       "669    [0.10835417602341627, 0.7268431636301831, 1.12...  \n",
       "...                                                  ...  \n",
       "996    [0.03783643627609431, 0.535025556894434, 0.909...  \n",
       "12222  [0.05345929047926969, 1.3894126384434298, 1.36...  \n",
       "10538  [0.08351152798647285, 2.268266953473084, 1.472...  \n",
       "11062  [0.14612655333264096, 0.6855164303520578, 1.23...  \n",
       "4858   [0.1068225718752819, 0.3792243557481392, 0.473...  \n",
       "\n",
       "[2999 rows x 54 columns]"
      ]
     },
     "execution_count": 26,
     "metadata": {},
     "output_type": "execute_result"
    }
   ],
   "source": [
    "lgb_dataset"
   ]
  },
  {
   "cell_type": "code",
   "execution_count": 27,
   "metadata": {},
   "outputs": [
    {
     "name": "stderr",
     "output_type": "stream",
     "text": [
      "[I 2024-09-26 20:18:39,596] Using an existing study with name '04 ResNet_5.0.1' instead of creating a new one.\n"
     ]
    }
   ],
   "source": [
    "MODEL_NAME = '04 ResNet'\n",
    "MODEL_VERSION = '5.0.1'\n",
    "\n",
    "study_resnet = optuna.create_study(direction='maximize',\n",
    "                            storage=\"sqlite:///../work/db.sqlite3\",  # Specify the storage URL here.\n",
    "                            study_name=f'{MODEL_NAME}_{MODEL_VERSION}',\n",
    "                            load_if_exists = True)\n",
    "\n",
    "resnet_dataset = load(os.path.join(PATH_TO_OPTUNA_ARTIFACTS,get_artifact_filename(study_resnet,'test')))"
   ]
  },
  {
   "cell_type": "code",
   "execution_count": 28,
   "metadata": {},
   "outputs": [
    {
     "data": {
      "text/html": [
       "<div>\n",
       "<style scoped>\n",
       "    .dataframe tbody tr th:only-of-type {\n",
       "        vertical-align: middle;\n",
       "    }\n",
       "\n",
       "    .dataframe tbody tr th {\n",
       "        vertical-align: top;\n",
       "    }\n",
       "\n",
       "    .dataframe thead th {\n",
       "        text-align: right;\n",
       "    }\n",
       "</style>\n",
       "<table border=\"1\" class=\"dataframe\">\n",
       "  <thead>\n",
       "    <tr style=\"text-align: right;\">\n",
       "      <th></th>\n",
       "      <th>PetID</th>\n",
       "      <th>pred</th>\n",
       "      <th>Type</th>\n",
       "      <th>Name</th>\n",
       "      <th>Age</th>\n",
       "      <th>Breed1</th>\n",
       "      <th>Breed2</th>\n",
       "      <th>Gender</th>\n",
       "      <th>Color1</th>\n",
       "      <th>Color2</th>\n",
       "      <th>...</th>\n",
       "      <th>Sterilized</th>\n",
       "      <th>Health</th>\n",
       "      <th>Quantity</th>\n",
       "      <th>Fee</th>\n",
       "      <th>State</th>\n",
       "      <th>RescuerID</th>\n",
       "      <th>VideoAmt</th>\n",
       "      <th>Description</th>\n",
       "      <th>PhotoAmt</th>\n",
       "      <th>AdoptionSpeed</th>\n",
       "    </tr>\n",
       "  </thead>\n",
       "  <tbody>\n",
       "    <tr>\n",
       "      <th>0</th>\n",
       "      <td>015da9e87</td>\n",
       "      <td>[-1.768325, 0.18485203, 0.74715734, 0.3766706,...</td>\n",
       "      <td>2</td>\n",
       "      <td>Adik Gebuk (Betina)</td>\n",
       "      <td>2</td>\n",
       "      <td>265</td>\n",
       "      <td>266</td>\n",
       "      <td>2</td>\n",
       "      <td>2</td>\n",
       "      <td>5</td>\n",
       "      <td>...</td>\n",
       "      <td>2</td>\n",
       "      <td>1</td>\n",
       "      <td>1</td>\n",
       "      <td>0</td>\n",
       "      <td>41326</td>\n",
       "      <td>d718a8deb57887c6ee18b757484273c8</td>\n",
       "      <td>0</td>\n",
       "      <td>Nama: Gebuk (Betina)- Adik beradik dengan Gebu...</td>\n",
       "      <td>5.0</td>\n",
       "      <td>0</td>\n",
       "    </tr>\n",
       "    <tr>\n",
       "      <th>1</th>\n",
       "      <td>022606901</td>\n",
       "      <td>[-3.3611686, -0.36317593, 0.7986378, 0.9519239...</td>\n",
       "      <td>1</td>\n",
       "      <td>NaN</td>\n",
       "      <td>3</td>\n",
       "      <td>141</td>\n",
       "      <td>307</td>\n",
       "      <td>1</td>\n",
       "      <td>1</td>\n",
       "      <td>0</td>\n",
       "      <td>...</td>\n",
       "      <td>2</td>\n",
       "      <td>1</td>\n",
       "      <td>1</td>\n",
       "      <td>0</td>\n",
       "      <td>41401</td>\n",
       "      <td>c4b8b921e00ba5dc19e793b81987f40f</td>\n",
       "      <td>1</td>\n",
       "      <td>Hi all =) My friend is currently looking for s...</td>\n",
       "      <td>5.0</td>\n",
       "      <td>0</td>\n",
       "    </tr>\n",
       "    <tr>\n",
       "      <th>2</th>\n",
       "      <td>02f89bdcb</td>\n",
       "      <td>[-3.027864, -0.031935632, 0.49349236, 0.814333...</td>\n",
       "      <td>1</td>\n",
       "      <td>Rex</td>\n",
       "      <td>72</td>\n",
       "      <td>141</td>\n",
       "      <td>0</td>\n",
       "      <td>1</td>\n",
       "      <td>5</td>\n",
       "      <td>0</td>\n",
       "      <td>...</td>\n",
       "      <td>2</td>\n",
       "      <td>1</td>\n",
       "      <td>1</td>\n",
       "      <td>0</td>\n",
       "      <td>41326</td>\n",
       "      <td>e76b700e2c869088979aa5efeb962dd7</td>\n",
       "      <td>0</td>\n",
       "      <td>Friendly and playful. Good watchdog because of...</td>\n",
       "      <td>3.0</td>\n",
       "      <td>0</td>\n",
       "    </tr>\n",
       "    <tr>\n",
       "      <th>3</th>\n",
       "      <td>0cf7fae9d</td>\n",
       "      <td>[-0.7027494, 1.0775297, 0.5501126, -0.03754511...</td>\n",
       "      <td>2</td>\n",
       "      <td>KITTENS - URGENT ADOPTION</td>\n",
       "      <td>1</td>\n",
       "      <td>266</td>\n",
       "      <td>0</td>\n",
       "      <td>3</td>\n",
       "      <td>1</td>\n",
       "      <td>2</td>\n",
       "      <td>...</td>\n",
       "      <td>2</td>\n",
       "      <td>1</td>\n",
       "      <td>4</td>\n",
       "      <td>0</td>\n",
       "      <td>41326</td>\n",
       "      <td>1eea485b01d14c668f33afa7c919646e</td>\n",
       "      <td>0</td>\n",
       "      <td>These 4 kittens need urgent adoption because t...</td>\n",
       "      <td>1.0</td>\n",
       "      <td>0</td>\n",
       "    </tr>\n",
       "    <tr>\n",
       "      <th>4</th>\n",
       "      <td>0e922caab</td>\n",
       "      <td>[-0.40759718, 1.3669151, 0.54109144, -0.100735...</td>\n",
       "      <td>1</td>\n",
       "      <td>Ha Ha (Toy Poodle)</td>\n",
       "      <td>12</td>\n",
       "      <td>179</td>\n",
       "      <td>0</td>\n",
       "      <td>1</td>\n",
       "      <td>2</td>\n",
       "      <td>0</td>\n",
       "      <td>...</td>\n",
       "      <td>2</td>\n",
       "      <td>1</td>\n",
       "      <td>1</td>\n",
       "      <td>300</td>\n",
       "      <td>41326</td>\n",
       "      <td>225d19c861c7c5d20a9c3ba1b2d37753</td>\n",
       "      <td>0</td>\n",
       "      <td>Ha Ha belongs to my friend who migrated to ano...</td>\n",
       "      <td>5.0</td>\n",
       "      <td>0</td>\n",
       "    </tr>\n",
       "    <tr>\n",
       "      <th>...</th>\n",
       "      <td>...</td>\n",
       "      <td>...</td>\n",
       "      <td>...</td>\n",
       "      <td>...</td>\n",
       "      <td>...</td>\n",
       "      <td>...</td>\n",
       "      <td>...</td>\n",
       "      <td>...</td>\n",
       "      <td>...</td>\n",
       "      <td>...</td>\n",
       "      <td>...</td>\n",
       "      <td>...</td>\n",
       "      <td>...</td>\n",
       "      <td>...</td>\n",
       "      <td>...</td>\n",
       "      <td>...</td>\n",
       "      <td>...</td>\n",
       "      <td>...</td>\n",
       "      <td>...</td>\n",
       "      <td>...</td>\n",
       "      <td>...</td>\n",
       "    </tr>\n",
       "    <tr>\n",
       "      <th>2926</th>\n",
       "      <td>ff2cf88a0</td>\n",
       "      <td>[-2.749919, 0.43670714, 0.6319917, 0.4132462, ...</td>\n",
       "      <td>1</td>\n",
       "      <td>JACKSON</td>\n",
       "      <td>12</td>\n",
       "      <td>307</td>\n",
       "      <td>0</td>\n",
       "      <td>1</td>\n",
       "      <td>2</td>\n",
       "      <td>0</td>\n",
       "      <td>...</td>\n",
       "      <td>1</td>\n",
       "      <td>1</td>\n",
       "      <td>1</td>\n",
       "      <td>0</td>\n",
       "      <td>41326</td>\n",
       "      <td>2266840747a7440f9f3453e31b384df5</td>\n",
       "      <td>0</td>\n",
       "      <td>Meet Jackson. He's a eye catcher and always re...</td>\n",
       "      <td>2.0</td>\n",
       "      <td>4</td>\n",
       "    </tr>\n",
       "    <tr>\n",
       "      <th>2927</th>\n",
       "      <td>ff498c903</td>\n",
       "      <td>[-2.8062663, -0.027764872, 0.2817769, 0.746720...</td>\n",
       "      <td>1</td>\n",
       "      <td>Lady</td>\n",
       "      <td>63</td>\n",
       "      <td>189</td>\n",
       "      <td>307</td>\n",
       "      <td>2</td>\n",
       "      <td>1</td>\n",
       "      <td>2</td>\n",
       "      <td>...</td>\n",
       "      <td>1</td>\n",
       "      <td>1</td>\n",
       "      <td>1</td>\n",
       "      <td>0</td>\n",
       "      <td>41326</td>\n",
       "      <td>03806ca295ace12b7463f4ed036cbb0e</td>\n",
       "      <td>0</td>\n",
       "      <td>Lady was an abandoned dog last time after she ...</td>\n",
       "      <td>5.0</td>\n",
       "      <td>4</td>\n",
       "    </tr>\n",
       "    <tr>\n",
       "      <th>2928</th>\n",
       "      <td>ff50c6171</td>\n",
       "      <td>[-2.5004535, -0.5100352, 1.0119576, 0.9822008,...</td>\n",
       "      <td>2</td>\n",
       "      <td>Gari</td>\n",
       "      <td>4</td>\n",
       "      <td>247</td>\n",
       "      <td>0</td>\n",
       "      <td>2</td>\n",
       "      <td>1</td>\n",
       "      <td>2</td>\n",
       "      <td>...</td>\n",
       "      <td>2</td>\n",
       "      <td>1</td>\n",
       "      <td>1</td>\n",
       "      <td>50</td>\n",
       "      <td>41326</td>\n",
       "      <td>2ca58d9cdf6107e7169985db6562bc3e</td>\n",
       "      <td>0</td>\n",
       "      <td>House kitten. Malaysian friend gave to me. but...</td>\n",
       "      <td>5.0</td>\n",
       "      <td>4</td>\n",
       "    </tr>\n",
       "    <tr>\n",
       "      <th>2929</th>\n",
       "      <td>ff5e30380</td>\n",
       "      <td>[-1.654369, 0.3078812, 0.6037669, 0.3708694, 0...</td>\n",
       "      <td>2</td>\n",
       "      <td>Fa Meow</td>\n",
       "      <td>4</td>\n",
       "      <td>254</td>\n",
       "      <td>0</td>\n",
       "      <td>2</td>\n",
       "      <td>1</td>\n",
       "      <td>3</td>\n",
       "      <td>...</td>\n",
       "      <td>1</td>\n",
       "      <td>1</td>\n",
       "      <td>1</td>\n",
       "      <td>100</td>\n",
       "      <td>41401</td>\n",
       "      <td>1faf0ae111772205cf2f28b3ecea3276</td>\n",
       "      <td>0</td>\n",
       "      <td>Long haired like persian cat, friendly, fast r...</td>\n",
       "      <td>5.0</td>\n",
       "      <td>4</td>\n",
       "    </tr>\n",
       "    <tr>\n",
       "      <th>2930</th>\n",
       "      <td>ffa5c6c35</td>\n",
       "      <td>[-2.103117, -0.09383805, 0.33343247, 0.3467521...</td>\n",
       "      <td>2</td>\n",
       "      <td>Leo / Siput</td>\n",
       "      <td>12</td>\n",
       "      <td>283</td>\n",
       "      <td>0</td>\n",
       "      <td>2</td>\n",
       "      <td>2</td>\n",
       "      <td>5</td>\n",
       "      <td>...</td>\n",
       "      <td>1</td>\n",
       "      <td>1</td>\n",
       "      <td>1</td>\n",
       "      <td>0</td>\n",
       "      <td>41401</td>\n",
       "      <td>c82b80185266b0dfeefd5a933d688995</td>\n",
       "      <td>0</td>\n",
       "      <td>Very playful</td>\n",
       "      <td>1.0</td>\n",
       "      <td>4</td>\n",
       "    </tr>\n",
       "  </tbody>\n",
       "</table>\n",
       "<p>2931 rows × 25 columns</p>\n",
       "</div>"
      ],
      "text/plain": [
       "          PetID                                               pred  Type  \\\n",
       "0     015da9e87  [-1.768325, 0.18485203, 0.74715734, 0.3766706,...     2   \n",
       "1     022606901  [-3.3611686, -0.36317593, 0.7986378, 0.9519239...     1   \n",
       "2     02f89bdcb  [-3.027864, -0.031935632, 0.49349236, 0.814333...     1   \n",
       "3     0cf7fae9d  [-0.7027494, 1.0775297, 0.5501126, -0.03754511...     2   \n",
       "4     0e922caab  [-0.40759718, 1.3669151, 0.54109144, -0.100735...     1   \n",
       "...         ...                                                ...   ...   \n",
       "2926  ff2cf88a0  [-2.749919, 0.43670714, 0.6319917, 0.4132462, ...     1   \n",
       "2927  ff498c903  [-2.8062663, -0.027764872, 0.2817769, 0.746720...     1   \n",
       "2928  ff50c6171  [-2.5004535, -0.5100352, 1.0119576, 0.9822008,...     2   \n",
       "2929  ff5e30380  [-1.654369, 0.3078812, 0.6037669, 0.3708694, 0...     2   \n",
       "2930  ffa5c6c35  [-2.103117, -0.09383805, 0.33343247, 0.3467521...     2   \n",
       "\n",
       "                           Name  Age  Breed1  Breed2  Gender  Color1  Color2  \\\n",
       "0           Adik Gebuk (Betina)    2     265     266       2       2       5   \n",
       "1                           NaN    3     141     307       1       1       0   \n",
       "2                           Rex   72     141       0       1       5       0   \n",
       "3     KITTENS - URGENT ADOPTION    1     266       0       3       1       2   \n",
       "4            Ha Ha (Toy Poodle)   12     179       0       1       2       0   \n",
       "...                         ...  ...     ...     ...     ...     ...     ...   \n",
       "2926                    JACKSON   12     307       0       1       2       0   \n",
       "2927                       Lady   63     189     307       2       1       2   \n",
       "2928                       Gari    4     247       0       2       1       2   \n",
       "2929                    Fa Meow    4     254       0       2       1       3   \n",
       "2930                Leo / Siput   12     283       0       2       2       5   \n",
       "\n",
       "      ...  Sterilized  Health  Quantity  Fee  State  \\\n",
       "0     ...           2       1         1    0  41326   \n",
       "1     ...           2       1         1    0  41401   \n",
       "2     ...           2       1         1    0  41326   \n",
       "3     ...           2       1         4    0  41326   \n",
       "4     ...           2       1         1  300  41326   \n",
       "...   ...         ...     ...       ...  ...    ...   \n",
       "2926  ...           1       1         1    0  41326   \n",
       "2927  ...           1       1         1    0  41326   \n",
       "2928  ...           2       1         1   50  41326   \n",
       "2929  ...           1       1         1  100  41401   \n",
       "2930  ...           1       1         1    0  41401   \n",
       "\n",
       "                             RescuerID  VideoAmt  \\\n",
       "0     d718a8deb57887c6ee18b757484273c8         0   \n",
       "1     c4b8b921e00ba5dc19e793b81987f40f         1   \n",
       "2     e76b700e2c869088979aa5efeb962dd7         0   \n",
       "3     1eea485b01d14c668f33afa7c919646e         0   \n",
       "4     225d19c861c7c5d20a9c3ba1b2d37753         0   \n",
       "...                                ...       ...   \n",
       "2926  2266840747a7440f9f3453e31b384df5         0   \n",
       "2927  03806ca295ace12b7463f4ed036cbb0e         0   \n",
       "2928  2ca58d9cdf6107e7169985db6562bc3e         0   \n",
       "2929  1faf0ae111772205cf2f28b3ecea3276         0   \n",
       "2930  c82b80185266b0dfeefd5a933d688995         0   \n",
       "\n",
       "                                            Description  PhotoAmt  \\\n",
       "0     Nama: Gebuk (Betina)- Adik beradik dengan Gebu...       5.0   \n",
       "1     Hi all =) My friend is currently looking for s...       5.0   \n",
       "2     Friendly and playful. Good watchdog because of...       3.0   \n",
       "3     These 4 kittens need urgent adoption because t...       1.0   \n",
       "4     Ha Ha belongs to my friend who migrated to ano...       5.0   \n",
       "...                                                 ...       ...   \n",
       "2926  Meet Jackson. He's a eye catcher and always re...       2.0   \n",
       "2927  Lady was an abandoned dog last time after she ...       5.0   \n",
       "2928  House kitten. Malaysian friend gave to me. but...       5.0   \n",
       "2929  Long haired like persian cat, friendly, fast r...       5.0   \n",
       "2930                                       Very playful       1.0   \n",
       "\n",
       "      AdoptionSpeed  \n",
       "0                 0  \n",
       "1                 0  \n",
       "2                 0  \n",
       "3                 0  \n",
       "4                 0  \n",
       "...             ...  \n",
       "2926              4  \n",
       "2927              4  \n",
       "2928              4  \n",
       "2929              4  \n",
       "2930              4  \n",
       "\n",
       "[2931 rows x 25 columns]"
      ]
     },
     "execution_count": 28,
     "metadata": {},
     "output_type": "execute_result"
    }
   ],
   "source": [
    "resnet_dataset"
   ]
  },
  {
   "cell_type": "code",
   "execution_count": 29,
   "metadata": {},
   "outputs": [
    {
     "name": "stderr",
     "output_type": "stream",
     "text": [
      "[I 2024-09-26 20:18:39,698] Using an existing study with name '06 Bert_1.0' instead of creating a new one.\n"
     ]
    }
   ],
   "source": [
    "MODEL_NAME = '06 Bert'\n",
    "MODEL_VERSION = '1.0'\n",
    "\n",
    "study_bert = optuna.create_study(direction='maximize',\n",
    "                            storage=\"sqlite:///../work/db.sqlite3\",  # Specify the storage URL here.\n",
    "                            study_name=f'{MODEL_NAME}_{MODEL_VERSION}',\n",
    "                            load_if_exists = True)\n",
    "\n",
    "bert_dataset = load(os.path.join(PATH_TO_OPTUNA_ARTIFACTS,get_artifact_filename(study_bert,'test')))"
   ]
  },
  {
   "cell_type": "code",
   "execution_count": 30,
   "metadata": {},
   "outputs": [
    {
     "data": {
      "text/html": [
       "<div>\n",
       "<style scoped>\n",
       "    .dataframe tbody tr th:only-of-type {\n",
       "        vertical-align: middle;\n",
       "    }\n",
       "\n",
       "    .dataframe tbody tr th {\n",
       "        vertical-align: top;\n",
       "    }\n",
       "\n",
       "    .dataframe thead th {\n",
       "        text-align: right;\n",
       "    }\n",
       "</style>\n",
       "<table border=\"1\" class=\"dataframe\">\n",
       "  <thead>\n",
       "    <tr style=\"text-align: right;\">\n",
       "      <th></th>\n",
       "      <th>PetID</th>\n",
       "      <th>pred</th>\n",
       "      <th>Type</th>\n",
       "      <th>Name</th>\n",
       "      <th>Age</th>\n",
       "      <th>Breed1</th>\n",
       "      <th>Breed2</th>\n",
       "      <th>Gender</th>\n",
       "      <th>Color1</th>\n",
       "      <th>Color2</th>\n",
       "      <th>...</th>\n",
       "      <th>Health</th>\n",
       "      <th>Quantity</th>\n",
       "      <th>Fee</th>\n",
       "      <th>State</th>\n",
       "      <th>RescuerID</th>\n",
       "      <th>VideoAmt</th>\n",
       "      <th>Description</th>\n",
       "      <th>PhotoAmt</th>\n",
       "      <th>AdoptionSpeed</th>\n",
       "      <th>labels</th>\n",
       "    </tr>\n",
       "  </thead>\n",
       "  <tbody>\n",
       "    <tr>\n",
       "      <th>0</th>\n",
       "      <td>8e76c8e39</td>\n",
       "      <td>[2.7906992e-05, 9.001282e-05, 8.072176e-05, 0....</td>\n",
       "      <td>2</td>\n",
       "      <td>Kali</td>\n",
       "      <td>3</td>\n",
       "      <td>264</td>\n",
       "      <td>0</td>\n",
       "      <td>2</td>\n",
       "      <td>1</td>\n",
       "      <td>2</td>\n",
       "      <td>...</td>\n",
       "      <td>1</td>\n",
       "      <td>1</td>\n",
       "      <td>50</td>\n",
       "      <td>41326</td>\n",
       "      <td>a9caef3f98e67bfac9093cca79e20b93</td>\n",
       "      <td>0</td>\n",
       "      <td>Kali is a super playful kitten who is on the g...</td>\n",
       "      <td>2.0</td>\n",
       "      <td>1</td>\n",
       "      <td>1</td>\n",
       "    </tr>\n",
       "    <tr>\n",
       "      <th>1</th>\n",
       "      <td>6436c1a59</td>\n",
       "      <td>[1.4993968e-06, 5.01486e-05, 0.025264408, 0.95...</td>\n",
       "      <td>1</td>\n",
       "      <td>Godiva</td>\n",
       "      <td>12</td>\n",
       "      <td>307</td>\n",
       "      <td>0</td>\n",
       "      <td>2</td>\n",
       "      <td>2</td>\n",
       "      <td>7</td>\n",
       "      <td>...</td>\n",
       "      <td>1</td>\n",
       "      <td>1</td>\n",
       "      <td>0</td>\n",
       "      <td>41326</td>\n",
       "      <td>a042471e0f43f2cf707104a1a138a7df</td>\n",
       "      <td>0</td>\n",
       "      <td>Godiva was rescued in Serdang residential area...</td>\n",
       "      <td>7.0</td>\n",
       "      <td>2</td>\n",
       "      <td>2</td>\n",
       "    </tr>\n",
       "    <tr>\n",
       "      <th>2</th>\n",
       "      <td>988988d5b</td>\n",
       "      <td>[4.6921297e-05, 0.0028261796, 0.02537138, 0.82...</td>\n",
       "      <td>2</td>\n",
       "      <td>Cikenet</td>\n",
       "      <td>3</td>\n",
       "      <td>266</td>\n",
       "      <td>0</td>\n",
       "      <td>1</td>\n",
       "      <td>2</td>\n",
       "      <td>7</td>\n",
       "      <td>...</td>\n",
       "      <td>1</td>\n",
       "      <td>1</td>\n",
       "      <td>0</td>\n",
       "      <td>41401</td>\n",
       "      <td>b8853c71b981104f1ef126e51387b616</td>\n",
       "      <td>0</td>\n",
       "      <td>hello cikenets fans, i just wanna inform that ...</td>\n",
       "      <td>19.0</td>\n",
       "      <td>1</td>\n",
       "      <td>1</td>\n",
       "    </tr>\n",
       "    <tr>\n",
       "      <th>3</th>\n",
       "      <td>efbf1703a</td>\n",
       "      <td>[0.012783979, 0.02724774, 0.036614597, 0.60610...</td>\n",
       "      <td>2</td>\n",
       "      <td>No Name</td>\n",
       "      <td>1</td>\n",
       "      <td>266</td>\n",
       "      <td>0</td>\n",
       "      <td>2</td>\n",
       "      <td>1</td>\n",
       "      <td>0</td>\n",
       "      <td>...</td>\n",
       "      <td>1</td>\n",
       "      <td>1</td>\n",
       "      <td>0</td>\n",
       "      <td>41326</td>\n",
       "      <td>2f846fb8f87a25678374e193559d83c9</td>\n",
       "      <td>0</td>\n",
       "      <td>Just saved this kitten from the street, but i ...</td>\n",
       "      <td>2.0</td>\n",
       "      <td>2</td>\n",
       "      <td>2</td>\n",
       "    </tr>\n",
       "    <tr>\n",
       "      <th>4</th>\n",
       "      <td>543130f60</td>\n",
       "      <td>[0.0019985973, 0.60652685, 0.19785205, 0.19212...</td>\n",
       "      <td>1</td>\n",
       "      <td>BoiBoi</td>\n",
       "      <td>24</td>\n",
       "      <td>307</td>\n",
       "      <td>0</td>\n",
       "      <td>1</td>\n",
       "      <td>5</td>\n",
       "      <td>7</td>\n",
       "      <td>...</td>\n",
       "      <td>1</td>\n",
       "      <td>5</td>\n",
       "      <td>0</td>\n",
       "      <td>41326</td>\n",
       "      <td>2147467fcd35e7a3bc23b9edcffc5702</td>\n",
       "      <td>0</td>\n",
       "      <td>Boiboi is rescued by my daughter 2 years ago f...</td>\n",
       "      <td>1.0</td>\n",
       "      <td>4</td>\n",
       "      <td>4</td>\n",
       "    </tr>\n",
       "    <tr>\n",
       "      <th>...</th>\n",
       "      <td>...</td>\n",
       "      <td>...</td>\n",
       "      <td>...</td>\n",
       "      <td>...</td>\n",
       "      <td>...</td>\n",
       "      <td>...</td>\n",
       "      <td>...</td>\n",
       "      <td>...</td>\n",
       "      <td>...</td>\n",
       "      <td>...</td>\n",
       "      <td>...</td>\n",
       "      <td>...</td>\n",
       "      <td>...</td>\n",
       "      <td>...</td>\n",
       "      <td>...</td>\n",
       "      <td>...</td>\n",
       "      <td>...</td>\n",
       "      <td>...</td>\n",
       "      <td>...</td>\n",
       "      <td>...</td>\n",
       "      <td>...</td>\n",
       "    </tr>\n",
       "    <tr>\n",
       "      <th>2991</th>\n",
       "      <td>23874f644</td>\n",
       "      <td>[8.4333085e-05, 0.0070316195, 0.16397795, 0.08...</td>\n",
       "      <td>1</td>\n",
       "      <td>Patch</td>\n",
       "      <td>8</td>\n",
       "      <td>307</td>\n",
       "      <td>0</td>\n",
       "      <td>2</td>\n",
       "      <td>2</td>\n",
       "      <td>7</td>\n",
       "      <td>...</td>\n",
       "      <td>1</td>\n",
       "      <td>1</td>\n",
       "      <td>0</td>\n",
       "      <td>41326</td>\n",
       "      <td>001e42763024f9d4abe31e79472b1827</td>\n",
       "      <td>0</td>\n",
       "      <td>Patch is for free adoption. If you want to ado...</td>\n",
       "      <td>2.0</td>\n",
       "      <td>3</td>\n",
       "      <td>3</td>\n",
       "    </tr>\n",
       "    <tr>\n",
       "      <th>2992</th>\n",
       "      <td>e7f7066b6</td>\n",
       "      <td>[0.00018277224, 0.0021219593, 0.00016068382, 0...</td>\n",
       "      <td>1</td>\n",
       "      <td>Terry</td>\n",
       "      <td>24</td>\n",
       "      <td>179</td>\n",
       "      <td>307</td>\n",
       "      <td>1</td>\n",
       "      <td>2</td>\n",
       "      <td>3</td>\n",
       "      <td>...</td>\n",
       "      <td>1</td>\n",
       "      <td>1</td>\n",
       "      <td>0</td>\n",
       "      <td>41326</td>\n",
       "      <td>719987dce7aeb027fdfa91b480800199</td>\n",
       "      <td>0</td>\n",
       "      <td>been at my place for a while..am hoping to fin...</td>\n",
       "      <td>0.0</td>\n",
       "      <td>4</td>\n",
       "      <td>4</td>\n",
       "    </tr>\n",
       "    <tr>\n",
       "      <th>2993</th>\n",
       "      <td>36e7f8d83</td>\n",
       "      <td>[1.43493735e-05, 0.0006955583, 0.022373617, 0....</td>\n",
       "      <td>2</td>\n",
       "      <td>Pets + Strays : BlueEyed BlackWhite</td>\n",
       "      <td>1</td>\n",
       "      <td>266</td>\n",
       "      <td>0</td>\n",
       "      <td>2</td>\n",
       "      <td>5</td>\n",
       "      <td>6</td>\n",
       "      <td>...</td>\n",
       "      <td>1</td>\n",
       "      <td>1</td>\n",
       "      <td>0</td>\n",
       "      <td>41401</td>\n",
       "      <td>90569c3f7cb0af35cba5dac82c0ac9d7</td>\n",
       "      <td>0</td>\n",
       "      <td>1 month old white + grey kitten for adoption n...</td>\n",
       "      <td>1.0</td>\n",
       "      <td>3</td>\n",
       "      <td>3</td>\n",
       "    </tr>\n",
       "    <tr>\n",
       "      <th>2994</th>\n",
       "      <td>4d163b731</td>\n",
       "      <td>[0.00037809374, 0.11163858, 0.026053337, 0.162...</td>\n",
       "      <td>1</td>\n",
       "      <td>Snowy</td>\n",
       "      <td>6</td>\n",
       "      <td>195</td>\n",
       "      <td>0</td>\n",
       "      <td>2</td>\n",
       "      <td>1</td>\n",
       "      <td>7</td>\n",
       "      <td>...</td>\n",
       "      <td>1</td>\n",
       "      <td>1</td>\n",
       "      <td>0</td>\n",
       "      <td>41401</td>\n",
       "      <td>79309f4027f2fedb4349a298c69fe56f</td>\n",
       "      <td>0</td>\n",
       "      <td>ooooo</td>\n",
       "      <td>1.0</td>\n",
       "      <td>0</td>\n",
       "      <td>0</td>\n",
       "    </tr>\n",
       "    <tr>\n",
       "      <th>2995</th>\n",
       "      <td>a01ab5b30</td>\n",
       "      <td>[0.005898213, 0.018553412, 0.8259738, 0.125261...</td>\n",
       "      <td>2</td>\n",
       "      <td>Serato &amp; Eddie</td>\n",
       "      <td>60</td>\n",
       "      <td>265</td>\n",
       "      <td>264</td>\n",
       "      <td>3</td>\n",
       "      <td>1</td>\n",
       "      <td>4</td>\n",
       "      <td>...</td>\n",
       "      <td>1</td>\n",
       "      <td>2</td>\n",
       "      <td>0</td>\n",
       "      <td>41326</td>\n",
       "      <td>1d5096c4a5e159a3b750c5cfcf6ceabf</td>\n",
       "      <td>0</td>\n",
       "      <td>Serato(female cat- 3 color) is 4 years old and...</td>\n",
       "      <td>3.0</td>\n",
       "      <td>4</td>\n",
       "      <td>4</td>\n",
       "    </tr>\n",
       "  </tbody>\n",
       "</table>\n",
       "<p>2996 rows × 26 columns</p>\n",
       "</div>"
      ],
      "text/plain": [
       "          PetID                                               pred  Type  \\\n",
       "0     8e76c8e39  [2.7906992e-05, 9.001282e-05, 8.072176e-05, 0....     2   \n",
       "1     6436c1a59  [1.4993968e-06, 5.01486e-05, 0.025264408, 0.95...     1   \n",
       "2     988988d5b  [4.6921297e-05, 0.0028261796, 0.02537138, 0.82...     2   \n",
       "3     efbf1703a  [0.012783979, 0.02724774, 0.036614597, 0.60610...     2   \n",
       "4     543130f60  [0.0019985973, 0.60652685, 0.19785205, 0.19212...     1   \n",
       "...         ...                                                ...   ...   \n",
       "2991  23874f644  [8.4333085e-05, 0.0070316195, 0.16397795, 0.08...     1   \n",
       "2992  e7f7066b6  [0.00018277224, 0.0021219593, 0.00016068382, 0...     1   \n",
       "2993  36e7f8d83  [1.43493735e-05, 0.0006955583, 0.022373617, 0....     2   \n",
       "2994  4d163b731  [0.00037809374, 0.11163858, 0.026053337, 0.162...     1   \n",
       "2995  a01ab5b30  [0.005898213, 0.018553412, 0.8259738, 0.125261...     2   \n",
       "\n",
       "                                     Name  Age  Breed1  Breed2  Gender  \\\n",
       "0                                    Kali    3     264       0       2   \n",
       "1                                  Godiva   12     307       0       2   \n",
       "2                                 Cikenet    3     266       0       1   \n",
       "3                                 No Name    1     266       0       2   \n",
       "4                                  BoiBoi   24     307       0       1   \n",
       "...                                   ...  ...     ...     ...     ...   \n",
       "2991                                Patch    8     307       0       2   \n",
       "2992                                Terry   24     179     307       1   \n",
       "2993  Pets + Strays : BlueEyed BlackWhite    1     266       0       2   \n",
       "2994                                Snowy    6     195       0       2   \n",
       "2995                       Serato & Eddie   60     265     264       3   \n",
       "\n",
       "      Color1  Color2  ...  Health  Quantity  Fee  State  \\\n",
       "0          1       2  ...       1         1   50  41326   \n",
       "1          2       7  ...       1         1    0  41326   \n",
       "2          2       7  ...       1         1    0  41401   \n",
       "3          1       0  ...       1         1    0  41326   \n",
       "4          5       7  ...       1         5    0  41326   \n",
       "...      ...     ...  ...     ...       ...  ...    ...   \n",
       "2991       2       7  ...       1         1    0  41326   \n",
       "2992       2       3  ...       1         1    0  41326   \n",
       "2993       5       6  ...       1         1    0  41401   \n",
       "2994       1       7  ...       1         1    0  41401   \n",
       "2995       1       4  ...       1         2    0  41326   \n",
       "\n",
       "                             RescuerID  VideoAmt  \\\n",
       "0     a9caef3f98e67bfac9093cca79e20b93         0   \n",
       "1     a042471e0f43f2cf707104a1a138a7df         0   \n",
       "2     b8853c71b981104f1ef126e51387b616         0   \n",
       "3     2f846fb8f87a25678374e193559d83c9         0   \n",
       "4     2147467fcd35e7a3bc23b9edcffc5702         0   \n",
       "...                                ...       ...   \n",
       "2991  001e42763024f9d4abe31e79472b1827         0   \n",
       "2992  719987dce7aeb027fdfa91b480800199         0   \n",
       "2993  90569c3f7cb0af35cba5dac82c0ac9d7         0   \n",
       "2994  79309f4027f2fedb4349a298c69fe56f         0   \n",
       "2995  1d5096c4a5e159a3b750c5cfcf6ceabf         0   \n",
       "\n",
       "                                            Description  PhotoAmt  \\\n",
       "0     Kali is a super playful kitten who is on the g...       2.0   \n",
       "1     Godiva was rescued in Serdang residential area...       7.0   \n",
       "2     hello cikenets fans, i just wanna inform that ...      19.0   \n",
       "3     Just saved this kitten from the street, but i ...       2.0   \n",
       "4     Boiboi is rescued by my daughter 2 years ago f...       1.0   \n",
       "...                                                 ...       ...   \n",
       "2991  Patch is for free adoption. If you want to ado...       2.0   \n",
       "2992  been at my place for a while..am hoping to fin...       0.0   \n",
       "2993  1 month old white + grey kitten for adoption n...       1.0   \n",
       "2994                                              ooooo       1.0   \n",
       "2995  Serato(female cat- 3 color) is 4 years old and...       3.0   \n",
       "\n",
       "      AdoptionSpeed  labels  \n",
       "0                 1       1  \n",
       "1                 2       2  \n",
       "2                 1       1  \n",
       "3                 2       2  \n",
       "4                 4       4  \n",
       "...             ...     ...  \n",
       "2991              3       3  \n",
       "2992              4       4  \n",
       "2993              3       3  \n",
       "2994              0       0  \n",
       "2995              4       4  \n",
       "\n",
       "[2996 rows x 26 columns]"
      ]
     },
     "execution_count": 30,
     "metadata": {},
     "output_type": "execute_result"
    }
   ],
   "source": [
    "bert_dataset"
   ]
  },
  {
   "cell_type": "code",
   "execution_count": 31,
   "metadata": {},
   "outputs": [],
   "source": [
    "merged_datasets = lgb_dataset[['PetID', 'pred', 'AdoptionSpeed']].rename({'pred':'lgb_pred_score'},axis=1).merge(resnet_dataset[['PetID', 'pred']].rename({'pred':'resnet_pred_score'},axis=1),\n",
    "                  on='PetID', how='outer')\n",
    "merged_datasets = merged_datasets.merge(bert_dataset[['PetID', 'pred']].rename({'pred':'bert_pred_score'},axis=1),\n",
    "                  on='PetID', how='outer')\n",
    "\n",
    "merged_datasets['resnet_pred_score'] = [np.zeros(5) if type(i) is float else  i for i in merged_datasets['resnet_pred_score'] ]\n",
    "merged_datasets['bert_pred_score'] = [np.zeros(5) if type(i) is float else  i for i in merged_datasets['bert_pred_score'] ]"
   ]
  },
  {
   "cell_type": "code",
   "execution_count": 32,
   "metadata": {},
   "outputs": [],
   "source": [
    "merged_datasets['blend_pred_score'] = [r['lgb_pred_score']+r['resnet_pred_score']+r['bert_pred_score'] for i,r in merged_datasets.iterrows()]"
   ]
  },
  {
   "cell_type": "code",
   "execution_count": 33,
   "metadata": {},
   "outputs": [],
   "source": [
    "merged_datasets['lgb_pred'] = [r.argmax() for r in merged_datasets['lgb_pred_score']]\n",
    "merged_datasets['resnet_pred'] = [r.argmax() for r in merged_datasets['resnet_pred_score']]\n",
    "merged_datasets['bert_pred'] = [r.argmax() for r in merged_datasets['bert_pred_score']]\n",
    "\n",
    "merged_datasets['blended_pred'] = [r.argmax() for r in merged_datasets['blend_pred_score']]"
   ]
  },
  {
   "cell_type": "code",
   "execution_count": 34,
   "metadata": {},
   "outputs": [
    {
     "data": {
      "application/vnd.plotly.v1+json": {
       "config": {
        "plotlyServerURL": "https://plot.ly"
       },
       "data": [
        {
         "type": "heatmap",
         "x": [
          0,
          1,
          2,
          3,
          4
         ],
         "y": [
          0,
          1,
          2,
          3,
          4
         ],
         "z": [
          [
           6.097560975609756,
           42.68292682926829,
           21.951219512195124,
           6.097560975609756,
           23.170731707317074
          ],
          [
           0.3236245954692557,
           34.78964401294498,
           34.627831715210355,
           7.443365695792881,
           22.815533980582526
          ],
          [
           0,
           18.21561338289963,
           41.01610904584882,
           11.771995043370508,
           28.99628252788104
          ],
          [
           0.15337423312883436,
           13.803680981595093,
           35.42944785276074,
           22.392638036809817,
           28.22085889570552
          ],
          [
           0,
           10.119047619047619,
           16.071428571428573,
           4.523809523809524,
           69.28571428571428
          ]
         ]
        }
       ],
       "layout": {
        "annotations": [
         {
          "font": {
           "color": "white"
          },
          "showarrow": false,
          "text": "6.1 - 5",
          "x": 0,
          "xref": "x",
          "y": 0,
          "yref": "y"
         },
         {
          "font": {
           "color": "white"
          },
          "showarrow": false,
          "text": "42.7 - 35",
          "x": 1,
          "xref": "x",
          "y": 0,
          "yref": "y"
         },
         {
          "font": {
           "color": "white"
          },
          "showarrow": false,
          "text": "22.0 - 18",
          "x": 2,
          "xref": "x",
          "y": 0,
          "yref": "y"
         },
         {
          "font": {
           "color": "white"
          },
          "showarrow": false,
          "text": "6.1 - 5",
          "x": 3,
          "xref": "x",
          "y": 0,
          "yref": "y"
         },
         {
          "font": {
           "color": "white"
          },
          "showarrow": false,
          "text": "23.2 - 19",
          "x": 4,
          "xref": "x",
          "y": 0,
          "yref": "y"
         },
         {
          "font": {
           "color": "white"
          },
          "showarrow": false,
          "text": "0.3 - 2",
          "x": 0,
          "xref": "x",
          "y": 1,
          "yref": "y"
         },
         {
          "font": {
           "color": "white"
          },
          "showarrow": false,
          "text": "34.8 - 215",
          "x": 1,
          "xref": "x",
          "y": 1,
          "yref": "y"
         },
         {
          "font": {
           "color": "white"
          },
          "showarrow": false,
          "text": "34.6 - 214",
          "x": 2,
          "xref": "x",
          "y": 1,
          "yref": "y"
         },
         {
          "font": {
           "color": "white"
          },
          "showarrow": false,
          "text": "7.4 - 46",
          "x": 3,
          "xref": "x",
          "y": 1,
          "yref": "y"
         },
         {
          "font": {
           "color": "white"
          },
          "showarrow": false,
          "text": "22.8 - 141",
          "x": 4,
          "xref": "x",
          "y": 1,
          "yref": "y"
         },
         {
          "font": {
           "color": "white"
          },
          "showarrow": false,
          "text": "0.0 - 0",
          "x": 0,
          "xref": "x",
          "y": 2,
          "yref": "y"
         },
         {
          "font": {
           "color": "white"
          },
          "showarrow": false,
          "text": "18.2 - 147",
          "x": 1,
          "xref": "x",
          "y": 2,
          "yref": "y"
         },
         {
          "font": {
           "color": "white"
          },
          "showarrow": false,
          "text": "41.0 - 331",
          "x": 2,
          "xref": "x",
          "y": 2,
          "yref": "y"
         },
         {
          "font": {
           "color": "white"
          },
          "showarrow": false,
          "text": "11.8 - 95",
          "x": 3,
          "xref": "x",
          "y": 2,
          "yref": "y"
         },
         {
          "font": {
           "color": "white"
          },
          "showarrow": false,
          "text": "29.0 - 234",
          "x": 4,
          "xref": "x",
          "y": 2,
          "yref": "y"
         },
         {
          "font": {
           "color": "white"
          },
          "showarrow": false,
          "text": "0.2 - 1",
          "x": 0,
          "xref": "x",
          "y": 3,
          "yref": "y"
         },
         {
          "font": {
           "color": "white"
          },
          "showarrow": false,
          "text": "13.8 - 90",
          "x": 1,
          "xref": "x",
          "y": 3,
          "yref": "y"
         },
         {
          "font": {
           "color": "white"
          },
          "showarrow": false,
          "text": "35.4 - 231",
          "x": 2,
          "xref": "x",
          "y": 3,
          "yref": "y"
         },
         {
          "font": {
           "color": "white"
          },
          "showarrow": false,
          "text": "22.4 - 146",
          "x": 3,
          "xref": "x",
          "y": 3,
          "yref": "y"
         },
         {
          "font": {
           "color": "white"
          },
          "showarrow": false,
          "text": "28.2 - 184",
          "x": 4,
          "xref": "x",
          "y": 3,
          "yref": "y"
         },
         {
          "font": {
           "color": "white"
          },
          "showarrow": false,
          "text": "0.0 - 0",
          "x": 0,
          "xref": "x",
          "y": 4,
          "yref": "y"
         },
         {
          "font": {
           "color": "white"
          },
          "showarrow": false,
          "text": "10.1 - 85",
          "x": 1,
          "xref": "x",
          "y": 4,
          "yref": "y"
         },
         {
          "font": {
           "color": "white"
          },
          "showarrow": false,
          "text": "16.1 - 135",
          "x": 2,
          "xref": "x",
          "y": 4,
          "yref": "y"
         },
         {
          "font": {
           "color": "white"
          },
          "showarrow": false,
          "text": "4.5 - 38",
          "x": 3,
          "xref": "x",
          "y": 4,
          "yref": "y"
         },
         {
          "font": {
           "color": "white"
          },
          "showarrow": false,
          "text": "69.3 - 582",
          "x": 4,
          "xref": "x",
          "y": 4,
          "yref": "y"
         }
        ],
        "height": 800,
        "template": {
         "data": {
          "bar": [
           {
            "error_x": {
             "color": "#2a3f5f"
            },
            "error_y": {
             "color": "#2a3f5f"
            },
            "marker": {
             "line": {
              "color": "#E5ECF6",
              "width": 0.5
             },
             "pattern": {
              "fillmode": "overlay",
              "size": 10,
              "solidity": 0.2
             }
            },
            "type": "bar"
           }
          ],
          "barpolar": [
           {
            "marker": {
             "line": {
              "color": "#E5ECF6",
              "width": 0.5
             },
             "pattern": {
              "fillmode": "overlay",
              "size": 10,
              "solidity": 0.2
             }
            },
            "type": "barpolar"
           }
          ],
          "carpet": [
           {
            "aaxis": {
             "endlinecolor": "#2a3f5f",
             "gridcolor": "white",
             "linecolor": "white",
             "minorgridcolor": "white",
             "startlinecolor": "#2a3f5f"
            },
            "baxis": {
             "endlinecolor": "#2a3f5f",
             "gridcolor": "white",
             "linecolor": "white",
             "minorgridcolor": "white",
             "startlinecolor": "#2a3f5f"
            },
            "type": "carpet"
           }
          ],
          "choropleth": [
           {
            "colorbar": {
             "outlinewidth": 0,
             "ticks": ""
            },
            "type": "choropleth"
           }
          ],
          "contour": [
           {
            "colorbar": {
             "outlinewidth": 0,
             "ticks": ""
            },
            "colorscale": [
             [
              0,
              "#0d0887"
             ],
             [
              0.1111111111111111,
              "#46039f"
             ],
             [
              0.2222222222222222,
              "#7201a8"
             ],
             [
              0.3333333333333333,
              "#9c179e"
             ],
             [
              0.4444444444444444,
              "#bd3786"
             ],
             [
              0.5555555555555556,
              "#d8576b"
             ],
             [
              0.6666666666666666,
              "#ed7953"
             ],
             [
              0.7777777777777778,
              "#fb9f3a"
             ],
             [
              0.8888888888888888,
              "#fdca26"
             ],
             [
              1,
              "#f0f921"
             ]
            ],
            "type": "contour"
           }
          ],
          "contourcarpet": [
           {
            "colorbar": {
             "outlinewidth": 0,
             "ticks": ""
            },
            "type": "contourcarpet"
           }
          ],
          "heatmap": [
           {
            "colorbar": {
             "outlinewidth": 0,
             "ticks": ""
            },
            "colorscale": [
             [
              0,
              "#0d0887"
             ],
             [
              0.1111111111111111,
              "#46039f"
             ],
             [
              0.2222222222222222,
              "#7201a8"
             ],
             [
              0.3333333333333333,
              "#9c179e"
             ],
             [
              0.4444444444444444,
              "#bd3786"
             ],
             [
              0.5555555555555556,
              "#d8576b"
             ],
             [
              0.6666666666666666,
              "#ed7953"
             ],
             [
              0.7777777777777778,
              "#fb9f3a"
             ],
             [
              0.8888888888888888,
              "#fdca26"
             ],
             [
              1,
              "#f0f921"
             ]
            ],
            "type": "heatmap"
           }
          ],
          "heatmapgl": [
           {
            "colorbar": {
             "outlinewidth": 0,
             "ticks": ""
            },
            "colorscale": [
             [
              0,
              "#0d0887"
             ],
             [
              0.1111111111111111,
              "#46039f"
             ],
             [
              0.2222222222222222,
              "#7201a8"
             ],
             [
              0.3333333333333333,
              "#9c179e"
             ],
             [
              0.4444444444444444,
              "#bd3786"
             ],
             [
              0.5555555555555556,
              "#d8576b"
             ],
             [
              0.6666666666666666,
              "#ed7953"
             ],
             [
              0.7777777777777778,
              "#fb9f3a"
             ],
             [
              0.8888888888888888,
              "#fdca26"
             ],
             [
              1,
              "#f0f921"
             ]
            ],
            "type": "heatmapgl"
           }
          ],
          "histogram": [
           {
            "marker": {
             "pattern": {
              "fillmode": "overlay",
              "size": 10,
              "solidity": 0.2
             }
            },
            "type": "histogram"
           }
          ],
          "histogram2d": [
           {
            "colorbar": {
             "outlinewidth": 0,
             "ticks": ""
            },
            "colorscale": [
             [
              0,
              "#0d0887"
             ],
             [
              0.1111111111111111,
              "#46039f"
             ],
             [
              0.2222222222222222,
              "#7201a8"
             ],
             [
              0.3333333333333333,
              "#9c179e"
             ],
             [
              0.4444444444444444,
              "#bd3786"
             ],
             [
              0.5555555555555556,
              "#d8576b"
             ],
             [
              0.6666666666666666,
              "#ed7953"
             ],
             [
              0.7777777777777778,
              "#fb9f3a"
             ],
             [
              0.8888888888888888,
              "#fdca26"
             ],
             [
              1,
              "#f0f921"
             ]
            ],
            "type": "histogram2d"
           }
          ],
          "histogram2dcontour": [
           {
            "colorbar": {
             "outlinewidth": 0,
             "ticks": ""
            },
            "colorscale": [
             [
              0,
              "#0d0887"
             ],
             [
              0.1111111111111111,
              "#46039f"
             ],
             [
              0.2222222222222222,
              "#7201a8"
             ],
             [
              0.3333333333333333,
              "#9c179e"
             ],
             [
              0.4444444444444444,
              "#bd3786"
             ],
             [
              0.5555555555555556,
              "#d8576b"
             ],
             [
              0.6666666666666666,
              "#ed7953"
             ],
             [
              0.7777777777777778,
              "#fb9f3a"
             ],
             [
              0.8888888888888888,
              "#fdca26"
             ],
             [
              1,
              "#f0f921"
             ]
            ],
            "type": "histogram2dcontour"
           }
          ],
          "mesh3d": [
           {
            "colorbar": {
             "outlinewidth": 0,
             "ticks": ""
            },
            "type": "mesh3d"
           }
          ],
          "parcoords": [
           {
            "line": {
             "colorbar": {
              "outlinewidth": 0,
              "ticks": ""
             }
            },
            "type": "parcoords"
           }
          ],
          "pie": [
           {
            "automargin": true,
            "type": "pie"
           }
          ],
          "scatter": [
           {
            "fillpattern": {
             "fillmode": "overlay",
             "size": 10,
             "solidity": 0.2
            },
            "type": "scatter"
           }
          ],
          "scatter3d": [
           {
            "line": {
             "colorbar": {
              "outlinewidth": 0,
              "ticks": ""
             }
            },
            "marker": {
             "colorbar": {
              "outlinewidth": 0,
              "ticks": ""
             }
            },
            "type": "scatter3d"
           }
          ],
          "scattercarpet": [
           {
            "marker": {
             "colorbar": {
              "outlinewidth": 0,
              "ticks": ""
             }
            },
            "type": "scattercarpet"
           }
          ],
          "scattergeo": [
           {
            "marker": {
             "colorbar": {
              "outlinewidth": 0,
              "ticks": ""
             }
            },
            "type": "scattergeo"
           }
          ],
          "scattergl": [
           {
            "marker": {
             "colorbar": {
              "outlinewidth": 0,
              "ticks": ""
             }
            },
            "type": "scattergl"
           }
          ],
          "scattermapbox": [
           {
            "marker": {
             "colorbar": {
              "outlinewidth": 0,
              "ticks": ""
             }
            },
            "type": "scattermapbox"
           }
          ],
          "scatterpolar": [
           {
            "marker": {
             "colorbar": {
              "outlinewidth": 0,
              "ticks": ""
             }
            },
            "type": "scatterpolar"
           }
          ],
          "scatterpolargl": [
           {
            "marker": {
             "colorbar": {
              "outlinewidth": 0,
              "ticks": ""
             }
            },
            "type": "scatterpolargl"
           }
          ],
          "scatterternary": [
           {
            "marker": {
             "colorbar": {
              "outlinewidth": 0,
              "ticks": ""
             }
            },
            "type": "scatterternary"
           }
          ],
          "surface": [
           {
            "colorbar": {
             "outlinewidth": 0,
             "ticks": ""
            },
            "colorscale": [
             [
              0,
              "#0d0887"
             ],
             [
              0.1111111111111111,
              "#46039f"
             ],
             [
              0.2222222222222222,
              "#7201a8"
             ],
             [
              0.3333333333333333,
              "#9c179e"
             ],
             [
              0.4444444444444444,
              "#bd3786"
             ],
             [
              0.5555555555555556,
              "#d8576b"
             ],
             [
              0.6666666666666666,
              "#ed7953"
             ],
             [
              0.7777777777777778,
              "#fb9f3a"
             ],
             [
              0.8888888888888888,
              "#fdca26"
             ],
             [
              1,
              "#f0f921"
             ]
            ],
            "type": "surface"
           }
          ],
          "table": [
           {
            "cells": {
             "fill": {
              "color": "#EBF0F8"
             },
             "line": {
              "color": "white"
             }
            },
            "header": {
             "fill": {
              "color": "#C8D4E3"
             },
             "line": {
              "color": "white"
             }
            },
            "type": "table"
           }
          ]
         },
         "layout": {
          "annotationdefaults": {
           "arrowcolor": "#2a3f5f",
           "arrowhead": 0,
           "arrowwidth": 1
          },
          "autotypenumbers": "strict",
          "coloraxis": {
           "colorbar": {
            "outlinewidth": 0,
            "ticks": ""
           }
          },
          "colorscale": {
           "diverging": [
            [
             0,
             "#8e0152"
            ],
            [
             0.1,
             "#c51b7d"
            ],
            [
             0.2,
             "#de77ae"
            ],
            [
             0.3,
             "#f1b6da"
            ],
            [
             0.4,
             "#fde0ef"
            ],
            [
             0.5,
             "#f7f7f7"
            ],
            [
             0.6,
             "#e6f5d0"
            ],
            [
             0.7,
             "#b8e186"
            ],
            [
             0.8,
             "#7fbc41"
            ],
            [
             0.9,
             "#4d9221"
            ],
            [
             1,
             "#276419"
            ]
           ],
           "sequential": [
            [
             0,
             "#0d0887"
            ],
            [
             0.1111111111111111,
             "#46039f"
            ],
            [
             0.2222222222222222,
             "#7201a8"
            ],
            [
             0.3333333333333333,
             "#9c179e"
            ],
            [
             0.4444444444444444,
             "#bd3786"
            ],
            [
             0.5555555555555556,
             "#d8576b"
            ],
            [
             0.6666666666666666,
             "#ed7953"
            ],
            [
             0.7777777777777778,
             "#fb9f3a"
            ],
            [
             0.8888888888888888,
             "#fdca26"
            ],
            [
             1,
             "#f0f921"
            ]
           ],
           "sequentialminus": [
            [
             0,
             "#0d0887"
            ],
            [
             0.1111111111111111,
             "#46039f"
            ],
            [
             0.2222222222222222,
             "#7201a8"
            ],
            [
             0.3333333333333333,
             "#9c179e"
            ],
            [
             0.4444444444444444,
             "#bd3786"
            ],
            [
             0.5555555555555556,
             "#d8576b"
            ],
            [
             0.6666666666666666,
             "#ed7953"
            ],
            [
             0.7777777777777778,
             "#fb9f3a"
            ],
            [
             0.8888888888888888,
             "#fdca26"
            ],
            [
             1,
             "#f0f921"
            ]
           ]
          },
          "colorway": [
           "#636efa",
           "#EF553B",
           "#00cc96",
           "#ab63fa",
           "#FFA15A",
           "#19d3f3",
           "#FF6692",
           "#B6E880",
           "#FF97FF",
           "#FECB52"
          ],
          "font": {
           "color": "#2a3f5f"
          },
          "geo": {
           "bgcolor": "white",
           "lakecolor": "white",
           "landcolor": "#E5ECF6",
           "showlakes": true,
           "showland": true,
           "subunitcolor": "white"
          },
          "hoverlabel": {
           "align": "left"
          },
          "hovermode": "closest",
          "mapbox": {
           "style": "light"
          },
          "paper_bgcolor": "white",
          "plot_bgcolor": "#E5ECF6",
          "polar": {
           "angularaxis": {
            "gridcolor": "white",
            "linecolor": "white",
            "ticks": ""
           },
           "bgcolor": "#E5ECF6",
           "radialaxis": {
            "gridcolor": "white",
            "linecolor": "white",
            "ticks": ""
           }
          },
          "scene": {
           "xaxis": {
            "backgroundcolor": "#E5ECF6",
            "gridcolor": "white",
            "gridwidth": 2,
            "linecolor": "white",
            "showbackground": true,
            "ticks": "",
            "zerolinecolor": "white"
           },
           "yaxis": {
            "backgroundcolor": "#E5ECF6",
            "gridcolor": "white",
            "gridwidth": 2,
            "linecolor": "white",
            "showbackground": true,
            "ticks": "",
            "zerolinecolor": "white"
           },
           "zaxis": {
            "backgroundcolor": "#E5ECF6",
            "gridcolor": "white",
            "gridwidth": 2,
            "linecolor": "white",
            "showbackground": true,
            "ticks": "",
            "zerolinecolor": "white"
           }
          },
          "shapedefaults": {
           "line": {
            "color": "#2a3f5f"
           }
          },
          "ternary": {
           "aaxis": {
            "gridcolor": "white",
            "linecolor": "white",
            "ticks": ""
           },
           "baxis": {
            "gridcolor": "white",
            "linecolor": "white",
            "ticks": ""
           },
           "bgcolor": "#E5ECF6",
           "caxis": {
            "gridcolor": "white",
            "linecolor": "white",
            "ticks": ""
           }
          },
          "title": {
           "x": 0.05
          },
          "xaxis": {
           "automargin": true,
           "gridcolor": "white",
           "linecolor": "white",
           "ticks": "",
           "title": {
            "standoff": 15
           },
           "zerolinecolor": "white",
           "zerolinewidth": 2
          },
          "yaxis": {
           "automargin": true,
           "gridcolor": "white",
           "linecolor": "white",
           "ticks": "",
           "title": {
            "standoff": 15
           },
           "zerolinecolor": "white",
           "zerolinewidth": 2
          }
         }
        },
        "title": {
         "text": "LGB Model Kappa: 0.3536142274198013"
        },
        "width": 800,
        "xaxis": {
         "title": {
          "text": "Predicted value"
         }
        },
        "yaxis": {
         "title": {
          "text": "Real value"
         }
        }
       }
      }
     },
     "metadata": {},
     "output_type": "display_data"
    }
   ],
   "source": [
    "plot_confusion_matrix(merged_datasets['AdoptionSpeed'],\n",
    "                      merged_datasets['lgb_pred'], \n",
    "                    title = 'LGB Model Kappa: ' + str(cohen_kappa_score(merged_datasets['AdoptionSpeed'],\n",
    "                                                                    merged_datasets['lgb_pred'], \n",
    "                                                                    weights='quadratic')))"
   ]
  },
  {
   "cell_type": "code",
   "execution_count": 35,
   "metadata": {},
   "outputs": [
    {
     "data": {
      "application/vnd.plotly.v1+json": {
       "config": {
        "plotlyServerURL": "https://plot.ly"
       },
       "data": [
        {
         "type": "heatmap",
         "x": [
          0,
          1,
          2,
          3,
          4
         ],
         "y": [
          0,
          1,
          2,
          3,
          4
         ],
         "z": [
          [
           3.6585365853658534,
           47.5609756097561,
           28.04878048780488,
           3.6585365853658534,
           17.073170731707318
          ],
          [
           1.132686084142395,
           43.36569579288026,
           30.582524271844658,
           6.472491909385113,
           18.446601941747574
          ],
          [
           1.1152416356877324,
           33.08550185873606,
           28.25278810408922,
           10.161090458488228,
           27.385377942998762
          ],
          [
           1.687116564417178,
           26.68711656441718,
           28.834355828220858,
           14.11042944785276,
           28.680981595092025
          ],
          [
           4.523809523809524,
           17.738095238095237,
           19.523809523809526,
           9.523809523809524,
           48.69047619047619
          ]
         ]
        }
       ],
       "layout": {
        "annotations": [
         {
          "font": {
           "color": "white"
          },
          "showarrow": false,
          "text": "3.7 - 3",
          "x": 0,
          "xref": "x",
          "y": 0,
          "yref": "y"
         },
         {
          "font": {
           "color": "white"
          },
          "showarrow": false,
          "text": "47.6 - 39",
          "x": 1,
          "xref": "x",
          "y": 0,
          "yref": "y"
         },
         {
          "font": {
           "color": "white"
          },
          "showarrow": false,
          "text": "28.0 - 23",
          "x": 2,
          "xref": "x",
          "y": 0,
          "yref": "y"
         },
         {
          "font": {
           "color": "white"
          },
          "showarrow": false,
          "text": "3.7 - 3",
          "x": 3,
          "xref": "x",
          "y": 0,
          "yref": "y"
         },
         {
          "font": {
           "color": "white"
          },
          "showarrow": false,
          "text": "17.1 - 14",
          "x": 4,
          "xref": "x",
          "y": 0,
          "yref": "y"
         },
         {
          "font": {
           "color": "white"
          },
          "showarrow": false,
          "text": "1.1 - 7",
          "x": 0,
          "xref": "x",
          "y": 1,
          "yref": "y"
         },
         {
          "font": {
           "color": "white"
          },
          "showarrow": false,
          "text": "43.4 - 268",
          "x": 1,
          "xref": "x",
          "y": 1,
          "yref": "y"
         },
         {
          "font": {
           "color": "white"
          },
          "showarrow": false,
          "text": "30.6 - 189",
          "x": 2,
          "xref": "x",
          "y": 1,
          "yref": "y"
         },
         {
          "font": {
           "color": "white"
          },
          "showarrow": false,
          "text": "6.5 - 40",
          "x": 3,
          "xref": "x",
          "y": 1,
          "yref": "y"
         },
         {
          "font": {
           "color": "white"
          },
          "showarrow": false,
          "text": "18.4 - 114",
          "x": 4,
          "xref": "x",
          "y": 1,
          "yref": "y"
         },
         {
          "font": {
           "color": "white"
          },
          "showarrow": false,
          "text": "1.1 - 9",
          "x": 0,
          "xref": "x",
          "y": 2,
          "yref": "y"
         },
         {
          "font": {
           "color": "white"
          },
          "showarrow": false,
          "text": "33.1 - 267",
          "x": 1,
          "xref": "x",
          "y": 2,
          "yref": "y"
         },
         {
          "font": {
           "color": "white"
          },
          "showarrow": false,
          "text": "28.3 - 228",
          "x": 2,
          "xref": "x",
          "y": 2,
          "yref": "y"
         },
         {
          "font": {
           "color": "white"
          },
          "showarrow": false,
          "text": "10.2 - 82",
          "x": 3,
          "xref": "x",
          "y": 2,
          "yref": "y"
         },
         {
          "font": {
           "color": "white"
          },
          "showarrow": false,
          "text": "27.4 - 221",
          "x": 4,
          "xref": "x",
          "y": 2,
          "yref": "y"
         },
         {
          "font": {
           "color": "white"
          },
          "showarrow": false,
          "text": "1.7 - 11",
          "x": 0,
          "xref": "x",
          "y": 3,
          "yref": "y"
         },
         {
          "font": {
           "color": "white"
          },
          "showarrow": false,
          "text": "26.7 - 174",
          "x": 1,
          "xref": "x",
          "y": 3,
          "yref": "y"
         },
         {
          "font": {
           "color": "white"
          },
          "showarrow": false,
          "text": "28.8 - 188",
          "x": 2,
          "xref": "x",
          "y": 3,
          "yref": "y"
         },
         {
          "font": {
           "color": "white"
          },
          "showarrow": false,
          "text": "14.1 - 92",
          "x": 3,
          "xref": "x",
          "y": 3,
          "yref": "y"
         },
         {
          "font": {
           "color": "white"
          },
          "showarrow": false,
          "text": "28.7 - 187",
          "x": 4,
          "xref": "x",
          "y": 3,
          "yref": "y"
         },
         {
          "font": {
           "color": "white"
          },
          "showarrow": false,
          "text": "4.5 - 38",
          "x": 0,
          "xref": "x",
          "y": 4,
          "yref": "y"
         },
         {
          "font": {
           "color": "white"
          },
          "showarrow": false,
          "text": "17.7 - 149",
          "x": 1,
          "xref": "x",
          "y": 4,
          "yref": "y"
         },
         {
          "font": {
           "color": "white"
          },
          "showarrow": false,
          "text": "19.5 - 164",
          "x": 2,
          "xref": "x",
          "y": 4,
          "yref": "y"
         },
         {
          "font": {
           "color": "white"
          },
          "showarrow": false,
          "text": "9.5 - 80",
          "x": 3,
          "xref": "x",
          "y": 4,
          "yref": "y"
         },
         {
          "font": {
           "color": "white"
          },
          "showarrow": false,
          "text": "48.7 - 409",
          "x": 4,
          "xref": "x",
          "y": 4,
          "yref": "y"
         }
        ],
        "height": 800,
        "template": {
         "data": {
          "bar": [
           {
            "error_x": {
             "color": "#2a3f5f"
            },
            "error_y": {
             "color": "#2a3f5f"
            },
            "marker": {
             "line": {
              "color": "#E5ECF6",
              "width": 0.5
             },
             "pattern": {
              "fillmode": "overlay",
              "size": 10,
              "solidity": 0.2
             }
            },
            "type": "bar"
           }
          ],
          "barpolar": [
           {
            "marker": {
             "line": {
              "color": "#E5ECF6",
              "width": 0.5
             },
             "pattern": {
              "fillmode": "overlay",
              "size": 10,
              "solidity": 0.2
             }
            },
            "type": "barpolar"
           }
          ],
          "carpet": [
           {
            "aaxis": {
             "endlinecolor": "#2a3f5f",
             "gridcolor": "white",
             "linecolor": "white",
             "minorgridcolor": "white",
             "startlinecolor": "#2a3f5f"
            },
            "baxis": {
             "endlinecolor": "#2a3f5f",
             "gridcolor": "white",
             "linecolor": "white",
             "minorgridcolor": "white",
             "startlinecolor": "#2a3f5f"
            },
            "type": "carpet"
           }
          ],
          "choropleth": [
           {
            "colorbar": {
             "outlinewidth": 0,
             "ticks": ""
            },
            "type": "choropleth"
           }
          ],
          "contour": [
           {
            "colorbar": {
             "outlinewidth": 0,
             "ticks": ""
            },
            "colorscale": [
             [
              0,
              "#0d0887"
             ],
             [
              0.1111111111111111,
              "#46039f"
             ],
             [
              0.2222222222222222,
              "#7201a8"
             ],
             [
              0.3333333333333333,
              "#9c179e"
             ],
             [
              0.4444444444444444,
              "#bd3786"
             ],
             [
              0.5555555555555556,
              "#d8576b"
             ],
             [
              0.6666666666666666,
              "#ed7953"
             ],
             [
              0.7777777777777778,
              "#fb9f3a"
             ],
             [
              0.8888888888888888,
              "#fdca26"
             ],
             [
              1,
              "#f0f921"
             ]
            ],
            "type": "contour"
           }
          ],
          "contourcarpet": [
           {
            "colorbar": {
             "outlinewidth": 0,
             "ticks": ""
            },
            "type": "contourcarpet"
           }
          ],
          "heatmap": [
           {
            "colorbar": {
             "outlinewidth": 0,
             "ticks": ""
            },
            "colorscale": [
             [
              0,
              "#0d0887"
             ],
             [
              0.1111111111111111,
              "#46039f"
             ],
             [
              0.2222222222222222,
              "#7201a8"
             ],
             [
              0.3333333333333333,
              "#9c179e"
             ],
             [
              0.4444444444444444,
              "#bd3786"
             ],
             [
              0.5555555555555556,
              "#d8576b"
             ],
             [
              0.6666666666666666,
              "#ed7953"
             ],
             [
              0.7777777777777778,
              "#fb9f3a"
             ],
             [
              0.8888888888888888,
              "#fdca26"
             ],
             [
              1,
              "#f0f921"
             ]
            ],
            "type": "heatmap"
           }
          ],
          "heatmapgl": [
           {
            "colorbar": {
             "outlinewidth": 0,
             "ticks": ""
            },
            "colorscale": [
             [
              0,
              "#0d0887"
             ],
             [
              0.1111111111111111,
              "#46039f"
             ],
             [
              0.2222222222222222,
              "#7201a8"
             ],
             [
              0.3333333333333333,
              "#9c179e"
             ],
             [
              0.4444444444444444,
              "#bd3786"
             ],
             [
              0.5555555555555556,
              "#d8576b"
             ],
             [
              0.6666666666666666,
              "#ed7953"
             ],
             [
              0.7777777777777778,
              "#fb9f3a"
             ],
             [
              0.8888888888888888,
              "#fdca26"
             ],
             [
              1,
              "#f0f921"
             ]
            ],
            "type": "heatmapgl"
           }
          ],
          "histogram": [
           {
            "marker": {
             "pattern": {
              "fillmode": "overlay",
              "size": 10,
              "solidity": 0.2
             }
            },
            "type": "histogram"
           }
          ],
          "histogram2d": [
           {
            "colorbar": {
             "outlinewidth": 0,
             "ticks": ""
            },
            "colorscale": [
             [
              0,
              "#0d0887"
             ],
             [
              0.1111111111111111,
              "#46039f"
             ],
             [
              0.2222222222222222,
              "#7201a8"
             ],
             [
              0.3333333333333333,
              "#9c179e"
             ],
             [
              0.4444444444444444,
              "#bd3786"
             ],
             [
              0.5555555555555556,
              "#d8576b"
             ],
             [
              0.6666666666666666,
              "#ed7953"
             ],
             [
              0.7777777777777778,
              "#fb9f3a"
             ],
             [
              0.8888888888888888,
              "#fdca26"
             ],
             [
              1,
              "#f0f921"
             ]
            ],
            "type": "histogram2d"
           }
          ],
          "histogram2dcontour": [
           {
            "colorbar": {
             "outlinewidth": 0,
             "ticks": ""
            },
            "colorscale": [
             [
              0,
              "#0d0887"
             ],
             [
              0.1111111111111111,
              "#46039f"
             ],
             [
              0.2222222222222222,
              "#7201a8"
             ],
             [
              0.3333333333333333,
              "#9c179e"
             ],
             [
              0.4444444444444444,
              "#bd3786"
             ],
             [
              0.5555555555555556,
              "#d8576b"
             ],
             [
              0.6666666666666666,
              "#ed7953"
             ],
             [
              0.7777777777777778,
              "#fb9f3a"
             ],
             [
              0.8888888888888888,
              "#fdca26"
             ],
             [
              1,
              "#f0f921"
             ]
            ],
            "type": "histogram2dcontour"
           }
          ],
          "mesh3d": [
           {
            "colorbar": {
             "outlinewidth": 0,
             "ticks": ""
            },
            "type": "mesh3d"
           }
          ],
          "parcoords": [
           {
            "line": {
             "colorbar": {
              "outlinewidth": 0,
              "ticks": ""
             }
            },
            "type": "parcoords"
           }
          ],
          "pie": [
           {
            "automargin": true,
            "type": "pie"
           }
          ],
          "scatter": [
           {
            "fillpattern": {
             "fillmode": "overlay",
             "size": 10,
             "solidity": 0.2
            },
            "type": "scatter"
           }
          ],
          "scatter3d": [
           {
            "line": {
             "colorbar": {
              "outlinewidth": 0,
              "ticks": ""
             }
            },
            "marker": {
             "colorbar": {
              "outlinewidth": 0,
              "ticks": ""
             }
            },
            "type": "scatter3d"
           }
          ],
          "scattercarpet": [
           {
            "marker": {
             "colorbar": {
              "outlinewidth": 0,
              "ticks": ""
             }
            },
            "type": "scattercarpet"
           }
          ],
          "scattergeo": [
           {
            "marker": {
             "colorbar": {
              "outlinewidth": 0,
              "ticks": ""
             }
            },
            "type": "scattergeo"
           }
          ],
          "scattergl": [
           {
            "marker": {
             "colorbar": {
              "outlinewidth": 0,
              "ticks": ""
             }
            },
            "type": "scattergl"
           }
          ],
          "scattermapbox": [
           {
            "marker": {
             "colorbar": {
              "outlinewidth": 0,
              "ticks": ""
             }
            },
            "type": "scattermapbox"
           }
          ],
          "scatterpolar": [
           {
            "marker": {
             "colorbar": {
              "outlinewidth": 0,
              "ticks": ""
             }
            },
            "type": "scatterpolar"
           }
          ],
          "scatterpolargl": [
           {
            "marker": {
             "colorbar": {
              "outlinewidth": 0,
              "ticks": ""
             }
            },
            "type": "scatterpolargl"
           }
          ],
          "scatterternary": [
           {
            "marker": {
             "colorbar": {
              "outlinewidth": 0,
              "ticks": ""
             }
            },
            "type": "scatterternary"
           }
          ],
          "surface": [
           {
            "colorbar": {
             "outlinewidth": 0,
             "ticks": ""
            },
            "colorscale": [
             [
              0,
              "#0d0887"
             ],
             [
              0.1111111111111111,
              "#46039f"
             ],
             [
              0.2222222222222222,
              "#7201a8"
             ],
             [
              0.3333333333333333,
              "#9c179e"
             ],
             [
              0.4444444444444444,
              "#bd3786"
             ],
             [
              0.5555555555555556,
              "#d8576b"
             ],
             [
              0.6666666666666666,
              "#ed7953"
             ],
             [
              0.7777777777777778,
              "#fb9f3a"
             ],
             [
              0.8888888888888888,
              "#fdca26"
             ],
             [
              1,
              "#f0f921"
             ]
            ],
            "type": "surface"
           }
          ],
          "table": [
           {
            "cells": {
             "fill": {
              "color": "#EBF0F8"
             },
             "line": {
              "color": "white"
             }
            },
            "header": {
             "fill": {
              "color": "#C8D4E3"
             },
             "line": {
              "color": "white"
             }
            },
            "type": "table"
           }
          ]
         },
         "layout": {
          "annotationdefaults": {
           "arrowcolor": "#2a3f5f",
           "arrowhead": 0,
           "arrowwidth": 1
          },
          "autotypenumbers": "strict",
          "coloraxis": {
           "colorbar": {
            "outlinewidth": 0,
            "ticks": ""
           }
          },
          "colorscale": {
           "diverging": [
            [
             0,
             "#8e0152"
            ],
            [
             0.1,
             "#c51b7d"
            ],
            [
             0.2,
             "#de77ae"
            ],
            [
             0.3,
             "#f1b6da"
            ],
            [
             0.4,
             "#fde0ef"
            ],
            [
             0.5,
             "#f7f7f7"
            ],
            [
             0.6,
             "#e6f5d0"
            ],
            [
             0.7,
             "#b8e186"
            ],
            [
             0.8,
             "#7fbc41"
            ],
            [
             0.9,
             "#4d9221"
            ],
            [
             1,
             "#276419"
            ]
           ],
           "sequential": [
            [
             0,
             "#0d0887"
            ],
            [
             0.1111111111111111,
             "#46039f"
            ],
            [
             0.2222222222222222,
             "#7201a8"
            ],
            [
             0.3333333333333333,
             "#9c179e"
            ],
            [
             0.4444444444444444,
             "#bd3786"
            ],
            [
             0.5555555555555556,
             "#d8576b"
            ],
            [
             0.6666666666666666,
             "#ed7953"
            ],
            [
             0.7777777777777778,
             "#fb9f3a"
            ],
            [
             0.8888888888888888,
             "#fdca26"
            ],
            [
             1,
             "#f0f921"
            ]
           ],
           "sequentialminus": [
            [
             0,
             "#0d0887"
            ],
            [
             0.1111111111111111,
             "#46039f"
            ],
            [
             0.2222222222222222,
             "#7201a8"
            ],
            [
             0.3333333333333333,
             "#9c179e"
            ],
            [
             0.4444444444444444,
             "#bd3786"
            ],
            [
             0.5555555555555556,
             "#d8576b"
            ],
            [
             0.6666666666666666,
             "#ed7953"
            ],
            [
             0.7777777777777778,
             "#fb9f3a"
            ],
            [
             0.8888888888888888,
             "#fdca26"
            ],
            [
             1,
             "#f0f921"
            ]
           ]
          },
          "colorway": [
           "#636efa",
           "#EF553B",
           "#00cc96",
           "#ab63fa",
           "#FFA15A",
           "#19d3f3",
           "#FF6692",
           "#B6E880",
           "#FF97FF",
           "#FECB52"
          ],
          "font": {
           "color": "#2a3f5f"
          },
          "geo": {
           "bgcolor": "white",
           "lakecolor": "white",
           "landcolor": "#E5ECF6",
           "showlakes": true,
           "showland": true,
           "subunitcolor": "white"
          },
          "hoverlabel": {
           "align": "left"
          },
          "hovermode": "closest",
          "mapbox": {
           "style": "light"
          },
          "paper_bgcolor": "white",
          "plot_bgcolor": "#E5ECF6",
          "polar": {
           "angularaxis": {
            "gridcolor": "white",
            "linecolor": "white",
            "ticks": ""
           },
           "bgcolor": "#E5ECF6",
           "radialaxis": {
            "gridcolor": "white",
            "linecolor": "white",
            "ticks": ""
           }
          },
          "scene": {
           "xaxis": {
            "backgroundcolor": "#E5ECF6",
            "gridcolor": "white",
            "gridwidth": 2,
            "linecolor": "white",
            "showbackground": true,
            "ticks": "",
            "zerolinecolor": "white"
           },
           "yaxis": {
            "backgroundcolor": "#E5ECF6",
            "gridcolor": "white",
            "gridwidth": 2,
            "linecolor": "white",
            "showbackground": true,
            "ticks": "",
            "zerolinecolor": "white"
           },
           "zaxis": {
            "backgroundcolor": "#E5ECF6",
            "gridcolor": "white",
            "gridwidth": 2,
            "linecolor": "white",
            "showbackground": true,
            "ticks": "",
            "zerolinecolor": "white"
           }
          },
          "shapedefaults": {
           "line": {
            "color": "#2a3f5f"
           }
          },
          "ternary": {
           "aaxis": {
            "gridcolor": "white",
            "linecolor": "white",
            "ticks": ""
           },
           "baxis": {
            "gridcolor": "white",
            "linecolor": "white",
            "ticks": ""
           },
           "bgcolor": "#E5ECF6",
           "caxis": {
            "gridcolor": "white",
            "linecolor": "white",
            "ticks": ""
           }
          },
          "title": {
           "x": 0.05
          },
          "xaxis": {
           "automargin": true,
           "gridcolor": "white",
           "linecolor": "white",
           "ticks": "",
           "title": {
            "standoff": 15
           },
           "zerolinecolor": "white",
           "zerolinewidth": 2
          },
          "yaxis": {
           "automargin": true,
           "gridcolor": "white",
           "linecolor": "white",
           "ticks": "",
           "title": {
            "standoff": 15
           },
           "zerolinecolor": "white",
           "zerolinewidth": 2
          }
         }
        },
        "title": {
         "text": "Resnet Model Kappa: 0.23561244440023743"
        },
        "width": 800,
        "xaxis": {
         "title": {
          "text": "Predicted value"
         }
        },
        "yaxis": {
         "title": {
          "text": "Real value"
         }
        }
       }
      }
     },
     "metadata": {},
     "output_type": "display_data"
    }
   ],
   "source": [
    "plot_confusion_matrix(merged_datasets['AdoptionSpeed'],\n",
    "                      merged_datasets['resnet_pred'], \n",
    "                    title = 'Resnet Model Kappa: ' + str(cohen_kappa_score(merged_datasets['AdoptionSpeed'],\n",
    "                                                                    merged_datasets['resnet_pred'], \n",
    "                                                                    weights='quadratic')))\n",
    "\n"
   ]
  },
  {
   "cell_type": "code",
   "execution_count": 36,
   "metadata": {},
   "outputs": [
    {
     "data": {
      "application/vnd.plotly.v1+json": {
       "config": {
        "plotlyServerURL": "https://plot.ly"
       },
       "data": [
        {
         "type": "heatmap",
         "x": [
          0,
          1,
          2,
          3,
          4
         ],
         "y": [
          0,
          1,
          2,
          3,
          4
         ],
         "z": [
          [
           12.195121951219512,
           20.73170731707317,
           17.073170731707318,
           21.951219512195124,
           28.04878048780488
          ],
          [
           1.9417475728155338,
           25.88996763754045,
           25.88996763754045,
           24.59546925566343,
           21.68284789644013
          ],
          [
           0.7434944237918215,
           19.82651796778191,
           35.687732342007436,
           25.27881040892193,
           18.463444857496903
          ],
          [
           1.5337423312883436,
           15.184049079754603,
           28.22085889570552,
           36.34969325153374,
           18.711656441717793
          ],
          [
           1.3095238095238095,
           9.761904761904763,
           18.095238095238095,
           25.238095238095237,
           45.595238095238095
          ]
         ]
        }
       ],
       "layout": {
        "annotations": [
         {
          "font": {
           "color": "white"
          },
          "showarrow": false,
          "text": "12.2 - 10",
          "x": 0,
          "xref": "x",
          "y": 0,
          "yref": "y"
         },
         {
          "font": {
           "color": "white"
          },
          "showarrow": false,
          "text": "20.7 - 17",
          "x": 1,
          "xref": "x",
          "y": 0,
          "yref": "y"
         },
         {
          "font": {
           "color": "white"
          },
          "showarrow": false,
          "text": "17.1 - 14",
          "x": 2,
          "xref": "x",
          "y": 0,
          "yref": "y"
         },
         {
          "font": {
           "color": "white"
          },
          "showarrow": false,
          "text": "22.0 - 18",
          "x": 3,
          "xref": "x",
          "y": 0,
          "yref": "y"
         },
         {
          "font": {
           "color": "white"
          },
          "showarrow": false,
          "text": "28.0 - 23",
          "x": 4,
          "xref": "x",
          "y": 0,
          "yref": "y"
         },
         {
          "font": {
           "color": "white"
          },
          "showarrow": false,
          "text": "1.9 - 12",
          "x": 0,
          "xref": "x",
          "y": 1,
          "yref": "y"
         },
         {
          "font": {
           "color": "white"
          },
          "showarrow": false,
          "text": "25.9 - 160",
          "x": 1,
          "xref": "x",
          "y": 1,
          "yref": "y"
         },
         {
          "font": {
           "color": "white"
          },
          "showarrow": false,
          "text": "25.9 - 160",
          "x": 2,
          "xref": "x",
          "y": 1,
          "yref": "y"
         },
         {
          "font": {
           "color": "white"
          },
          "showarrow": false,
          "text": "24.6 - 152",
          "x": 3,
          "xref": "x",
          "y": 1,
          "yref": "y"
         },
         {
          "font": {
           "color": "white"
          },
          "showarrow": false,
          "text": "21.7 - 134",
          "x": 4,
          "xref": "x",
          "y": 1,
          "yref": "y"
         },
         {
          "font": {
           "color": "white"
          },
          "showarrow": false,
          "text": "0.7 - 6",
          "x": 0,
          "xref": "x",
          "y": 2,
          "yref": "y"
         },
         {
          "font": {
           "color": "white"
          },
          "showarrow": false,
          "text": "19.8 - 160",
          "x": 1,
          "xref": "x",
          "y": 2,
          "yref": "y"
         },
         {
          "font": {
           "color": "white"
          },
          "showarrow": false,
          "text": "35.7 - 288",
          "x": 2,
          "xref": "x",
          "y": 2,
          "yref": "y"
         },
         {
          "font": {
           "color": "white"
          },
          "showarrow": false,
          "text": "25.3 - 204",
          "x": 3,
          "xref": "x",
          "y": 2,
          "yref": "y"
         },
         {
          "font": {
           "color": "white"
          },
          "showarrow": false,
          "text": "18.5 - 149",
          "x": 4,
          "xref": "x",
          "y": 2,
          "yref": "y"
         },
         {
          "font": {
           "color": "white"
          },
          "showarrow": false,
          "text": "1.5 - 10",
          "x": 0,
          "xref": "x",
          "y": 3,
          "yref": "y"
         },
         {
          "font": {
           "color": "white"
          },
          "showarrow": false,
          "text": "15.2 - 99",
          "x": 1,
          "xref": "x",
          "y": 3,
          "yref": "y"
         },
         {
          "font": {
           "color": "white"
          },
          "showarrow": false,
          "text": "28.2 - 184",
          "x": 2,
          "xref": "x",
          "y": 3,
          "yref": "y"
         },
         {
          "font": {
           "color": "white"
          },
          "showarrow": false,
          "text": "36.3 - 237",
          "x": 3,
          "xref": "x",
          "y": 3,
          "yref": "y"
         },
         {
          "font": {
           "color": "white"
          },
          "showarrow": false,
          "text": "18.7 - 122",
          "x": 4,
          "xref": "x",
          "y": 3,
          "yref": "y"
         },
         {
          "font": {
           "color": "white"
          },
          "showarrow": false,
          "text": "1.3 - 11",
          "x": 0,
          "xref": "x",
          "y": 4,
          "yref": "y"
         },
         {
          "font": {
           "color": "white"
          },
          "showarrow": false,
          "text": "9.8 - 82",
          "x": 1,
          "xref": "x",
          "y": 4,
          "yref": "y"
         },
         {
          "font": {
           "color": "white"
          },
          "showarrow": false,
          "text": "18.1 - 152",
          "x": 2,
          "xref": "x",
          "y": 4,
          "yref": "y"
         },
         {
          "font": {
           "color": "white"
          },
          "showarrow": false,
          "text": "25.2 - 212",
          "x": 3,
          "xref": "x",
          "y": 4,
          "yref": "y"
         },
         {
          "font": {
           "color": "white"
          },
          "showarrow": false,
          "text": "45.6 - 383",
          "x": 4,
          "xref": "x",
          "y": 4,
          "yref": "y"
         }
        ],
        "height": 800,
        "template": {
         "data": {
          "bar": [
           {
            "error_x": {
             "color": "#2a3f5f"
            },
            "error_y": {
             "color": "#2a3f5f"
            },
            "marker": {
             "line": {
              "color": "#E5ECF6",
              "width": 0.5
             },
             "pattern": {
              "fillmode": "overlay",
              "size": 10,
              "solidity": 0.2
             }
            },
            "type": "bar"
           }
          ],
          "barpolar": [
           {
            "marker": {
             "line": {
              "color": "#E5ECF6",
              "width": 0.5
             },
             "pattern": {
              "fillmode": "overlay",
              "size": 10,
              "solidity": 0.2
             }
            },
            "type": "barpolar"
           }
          ],
          "carpet": [
           {
            "aaxis": {
             "endlinecolor": "#2a3f5f",
             "gridcolor": "white",
             "linecolor": "white",
             "minorgridcolor": "white",
             "startlinecolor": "#2a3f5f"
            },
            "baxis": {
             "endlinecolor": "#2a3f5f",
             "gridcolor": "white",
             "linecolor": "white",
             "minorgridcolor": "white",
             "startlinecolor": "#2a3f5f"
            },
            "type": "carpet"
           }
          ],
          "choropleth": [
           {
            "colorbar": {
             "outlinewidth": 0,
             "ticks": ""
            },
            "type": "choropleth"
           }
          ],
          "contour": [
           {
            "colorbar": {
             "outlinewidth": 0,
             "ticks": ""
            },
            "colorscale": [
             [
              0,
              "#0d0887"
             ],
             [
              0.1111111111111111,
              "#46039f"
             ],
             [
              0.2222222222222222,
              "#7201a8"
             ],
             [
              0.3333333333333333,
              "#9c179e"
             ],
             [
              0.4444444444444444,
              "#bd3786"
             ],
             [
              0.5555555555555556,
              "#d8576b"
             ],
             [
              0.6666666666666666,
              "#ed7953"
             ],
             [
              0.7777777777777778,
              "#fb9f3a"
             ],
             [
              0.8888888888888888,
              "#fdca26"
             ],
             [
              1,
              "#f0f921"
             ]
            ],
            "type": "contour"
           }
          ],
          "contourcarpet": [
           {
            "colorbar": {
             "outlinewidth": 0,
             "ticks": ""
            },
            "type": "contourcarpet"
           }
          ],
          "heatmap": [
           {
            "colorbar": {
             "outlinewidth": 0,
             "ticks": ""
            },
            "colorscale": [
             [
              0,
              "#0d0887"
             ],
             [
              0.1111111111111111,
              "#46039f"
             ],
             [
              0.2222222222222222,
              "#7201a8"
             ],
             [
              0.3333333333333333,
              "#9c179e"
             ],
             [
              0.4444444444444444,
              "#bd3786"
             ],
             [
              0.5555555555555556,
              "#d8576b"
             ],
             [
              0.6666666666666666,
              "#ed7953"
             ],
             [
              0.7777777777777778,
              "#fb9f3a"
             ],
             [
              0.8888888888888888,
              "#fdca26"
             ],
             [
              1,
              "#f0f921"
             ]
            ],
            "type": "heatmap"
           }
          ],
          "heatmapgl": [
           {
            "colorbar": {
             "outlinewidth": 0,
             "ticks": ""
            },
            "colorscale": [
             [
              0,
              "#0d0887"
             ],
             [
              0.1111111111111111,
              "#46039f"
             ],
             [
              0.2222222222222222,
              "#7201a8"
             ],
             [
              0.3333333333333333,
              "#9c179e"
             ],
             [
              0.4444444444444444,
              "#bd3786"
             ],
             [
              0.5555555555555556,
              "#d8576b"
             ],
             [
              0.6666666666666666,
              "#ed7953"
             ],
             [
              0.7777777777777778,
              "#fb9f3a"
             ],
             [
              0.8888888888888888,
              "#fdca26"
             ],
             [
              1,
              "#f0f921"
             ]
            ],
            "type": "heatmapgl"
           }
          ],
          "histogram": [
           {
            "marker": {
             "pattern": {
              "fillmode": "overlay",
              "size": 10,
              "solidity": 0.2
             }
            },
            "type": "histogram"
           }
          ],
          "histogram2d": [
           {
            "colorbar": {
             "outlinewidth": 0,
             "ticks": ""
            },
            "colorscale": [
             [
              0,
              "#0d0887"
             ],
             [
              0.1111111111111111,
              "#46039f"
             ],
             [
              0.2222222222222222,
              "#7201a8"
             ],
             [
              0.3333333333333333,
              "#9c179e"
             ],
             [
              0.4444444444444444,
              "#bd3786"
             ],
             [
              0.5555555555555556,
              "#d8576b"
             ],
             [
              0.6666666666666666,
              "#ed7953"
             ],
             [
              0.7777777777777778,
              "#fb9f3a"
             ],
             [
              0.8888888888888888,
              "#fdca26"
             ],
             [
              1,
              "#f0f921"
             ]
            ],
            "type": "histogram2d"
           }
          ],
          "histogram2dcontour": [
           {
            "colorbar": {
             "outlinewidth": 0,
             "ticks": ""
            },
            "colorscale": [
             [
              0,
              "#0d0887"
             ],
             [
              0.1111111111111111,
              "#46039f"
             ],
             [
              0.2222222222222222,
              "#7201a8"
             ],
             [
              0.3333333333333333,
              "#9c179e"
             ],
             [
              0.4444444444444444,
              "#bd3786"
             ],
             [
              0.5555555555555556,
              "#d8576b"
             ],
             [
              0.6666666666666666,
              "#ed7953"
             ],
             [
              0.7777777777777778,
              "#fb9f3a"
             ],
             [
              0.8888888888888888,
              "#fdca26"
             ],
             [
              1,
              "#f0f921"
             ]
            ],
            "type": "histogram2dcontour"
           }
          ],
          "mesh3d": [
           {
            "colorbar": {
             "outlinewidth": 0,
             "ticks": ""
            },
            "type": "mesh3d"
           }
          ],
          "parcoords": [
           {
            "line": {
             "colorbar": {
              "outlinewidth": 0,
              "ticks": ""
             }
            },
            "type": "parcoords"
           }
          ],
          "pie": [
           {
            "automargin": true,
            "type": "pie"
           }
          ],
          "scatter": [
           {
            "fillpattern": {
             "fillmode": "overlay",
             "size": 10,
             "solidity": 0.2
            },
            "type": "scatter"
           }
          ],
          "scatter3d": [
           {
            "line": {
             "colorbar": {
              "outlinewidth": 0,
              "ticks": ""
             }
            },
            "marker": {
             "colorbar": {
              "outlinewidth": 0,
              "ticks": ""
             }
            },
            "type": "scatter3d"
           }
          ],
          "scattercarpet": [
           {
            "marker": {
             "colorbar": {
              "outlinewidth": 0,
              "ticks": ""
             }
            },
            "type": "scattercarpet"
           }
          ],
          "scattergeo": [
           {
            "marker": {
             "colorbar": {
              "outlinewidth": 0,
              "ticks": ""
             }
            },
            "type": "scattergeo"
           }
          ],
          "scattergl": [
           {
            "marker": {
             "colorbar": {
              "outlinewidth": 0,
              "ticks": ""
             }
            },
            "type": "scattergl"
           }
          ],
          "scattermapbox": [
           {
            "marker": {
             "colorbar": {
              "outlinewidth": 0,
              "ticks": ""
             }
            },
            "type": "scattermapbox"
           }
          ],
          "scatterpolar": [
           {
            "marker": {
             "colorbar": {
              "outlinewidth": 0,
              "ticks": ""
             }
            },
            "type": "scatterpolar"
           }
          ],
          "scatterpolargl": [
           {
            "marker": {
             "colorbar": {
              "outlinewidth": 0,
              "ticks": ""
             }
            },
            "type": "scatterpolargl"
           }
          ],
          "scatterternary": [
           {
            "marker": {
             "colorbar": {
              "outlinewidth": 0,
              "ticks": ""
             }
            },
            "type": "scatterternary"
           }
          ],
          "surface": [
           {
            "colorbar": {
             "outlinewidth": 0,
             "ticks": ""
            },
            "colorscale": [
             [
              0,
              "#0d0887"
             ],
             [
              0.1111111111111111,
              "#46039f"
             ],
             [
              0.2222222222222222,
              "#7201a8"
             ],
             [
              0.3333333333333333,
              "#9c179e"
             ],
             [
              0.4444444444444444,
              "#bd3786"
             ],
             [
              0.5555555555555556,
              "#d8576b"
             ],
             [
              0.6666666666666666,
              "#ed7953"
             ],
             [
              0.7777777777777778,
              "#fb9f3a"
             ],
             [
              0.8888888888888888,
              "#fdca26"
             ],
             [
              1,
              "#f0f921"
             ]
            ],
            "type": "surface"
           }
          ],
          "table": [
           {
            "cells": {
             "fill": {
              "color": "#EBF0F8"
             },
             "line": {
              "color": "white"
             }
            },
            "header": {
             "fill": {
              "color": "#C8D4E3"
             },
             "line": {
              "color": "white"
             }
            },
            "type": "table"
           }
          ]
         },
         "layout": {
          "annotationdefaults": {
           "arrowcolor": "#2a3f5f",
           "arrowhead": 0,
           "arrowwidth": 1
          },
          "autotypenumbers": "strict",
          "coloraxis": {
           "colorbar": {
            "outlinewidth": 0,
            "ticks": ""
           }
          },
          "colorscale": {
           "diverging": [
            [
             0,
             "#8e0152"
            ],
            [
             0.1,
             "#c51b7d"
            ],
            [
             0.2,
             "#de77ae"
            ],
            [
             0.3,
             "#f1b6da"
            ],
            [
             0.4,
             "#fde0ef"
            ],
            [
             0.5,
             "#f7f7f7"
            ],
            [
             0.6,
             "#e6f5d0"
            ],
            [
             0.7,
             "#b8e186"
            ],
            [
             0.8,
             "#7fbc41"
            ],
            [
             0.9,
             "#4d9221"
            ],
            [
             1,
             "#276419"
            ]
           ],
           "sequential": [
            [
             0,
             "#0d0887"
            ],
            [
             0.1111111111111111,
             "#46039f"
            ],
            [
             0.2222222222222222,
             "#7201a8"
            ],
            [
             0.3333333333333333,
             "#9c179e"
            ],
            [
             0.4444444444444444,
             "#bd3786"
            ],
            [
             0.5555555555555556,
             "#d8576b"
            ],
            [
             0.6666666666666666,
             "#ed7953"
            ],
            [
             0.7777777777777778,
             "#fb9f3a"
            ],
            [
             0.8888888888888888,
             "#fdca26"
            ],
            [
             1,
             "#f0f921"
            ]
           ],
           "sequentialminus": [
            [
             0,
             "#0d0887"
            ],
            [
             0.1111111111111111,
             "#46039f"
            ],
            [
             0.2222222222222222,
             "#7201a8"
            ],
            [
             0.3333333333333333,
             "#9c179e"
            ],
            [
             0.4444444444444444,
             "#bd3786"
            ],
            [
             0.5555555555555556,
             "#d8576b"
            ],
            [
             0.6666666666666666,
             "#ed7953"
            ],
            [
             0.7777777777777778,
             "#fb9f3a"
            ],
            [
             0.8888888888888888,
             "#fdca26"
            ],
            [
             1,
             "#f0f921"
            ]
           ]
          },
          "colorway": [
           "#636efa",
           "#EF553B",
           "#00cc96",
           "#ab63fa",
           "#FFA15A",
           "#19d3f3",
           "#FF6692",
           "#B6E880",
           "#FF97FF",
           "#FECB52"
          ],
          "font": {
           "color": "#2a3f5f"
          },
          "geo": {
           "bgcolor": "white",
           "lakecolor": "white",
           "landcolor": "#E5ECF6",
           "showlakes": true,
           "showland": true,
           "subunitcolor": "white"
          },
          "hoverlabel": {
           "align": "left"
          },
          "hovermode": "closest",
          "mapbox": {
           "style": "light"
          },
          "paper_bgcolor": "white",
          "plot_bgcolor": "#E5ECF6",
          "polar": {
           "angularaxis": {
            "gridcolor": "white",
            "linecolor": "white",
            "ticks": ""
           },
           "bgcolor": "#E5ECF6",
           "radialaxis": {
            "gridcolor": "white",
            "linecolor": "white",
            "ticks": ""
           }
          },
          "scene": {
           "xaxis": {
            "backgroundcolor": "#E5ECF6",
            "gridcolor": "white",
            "gridwidth": 2,
            "linecolor": "white",
            "showbackground": true,
            "ticks": "",
            "zerolinecolor": "white"
           },
           "yaxis": {
            "backgroundcolor": "#E5ECF6",
            "gridcolor": "white",
            "gridwidth": 2,
            "linecolor": "white",
            "showbackground": true,
            "ticks": "",
            "zerolinecolor": "white"
           },
           "zaxis": {
            "backgroundcolor": "#E5ECF6",
            "gridcolor": "white",
            "gridwidth": 2,
            "linecolor": "white",
            "showbackground": true,
            "ticks": "",
            "zerolinecolor": "white"
           }
          },
          "shapedefaults": {
           "line": {
            "color": "#2a3f5f"
           }
          },
          "ternary": {
           "aaxis": {
            "gridcolor": "white",
            "linecolor": "white",
            "ticks": ""
           },
           "baxis": {
            "gridcolor": "white",
            "linecolor": "white",
            "ticks": ""
           },
           "bgcolor": "#E5ECF6",
           "caxis": {
            "gridcolor": "white",
            "linecolor": "white",
            "ticks": ""
           }
          },
          "title": {
           "x": 0.05
          },
          "xaxis": {
           "automargin": true,
           "gridcolor": "white",
           "linecolor": "white",
           "ticks": "",
           "title": {
            "standoff": 15
           },
           "zerolinecolor": "white",
           "zerolinewidth": 2
          },
          "yaxis": {
           "automargin": true,
           "gridcolor": "white",
           "linecolor": "white",
           "ticks": "",
           "title": {
            "standoff": 15
           },
           "zerolinecolor": "white",
           "zerolinewidth": 2
          }
         }
        },
        "title": {
         "text": "Bert Model Kappa: 0.2228992451617664"
        },
        "width": 800,
        "xaxis": {
         "title": {
          "text": "Predicted value"
         }
        },
        "yaxis": {
         "title": {
          "text": "Real value"
         }
        }
       }
      }
     },
     "metadata": {},
     "output_type": "display_data"
    }
   ],
   "source": [
    "plot_confusion_matrix(merged_datasets['AdoptionSpeed'],\n",
    "                      merged_datasets['bert_pred'], \n",
    "                    title = 'Bert Model Kappa: ' + str(cohen_kappa_score(merged_datasets['AdoptionSpeed'],\n",
    "                                                                    merged_datasets['bert_pred'], \n",
    "                                                                    weights='quadratic')))\n"
   ]
  },
  {
   "cell_type": "code",
   "execution_count": 37,
   "metadata": {},
   "outputs": [
    {
     "data": {
      "application/vnd.plotly.v1+json": {
       "config": {
        "plotlyServerURL": "https://plot.ly"
       },
       "data": [
        {
         "type": "heatmap",
         "x": [
          0,
          1,
          2,
          3,
          4
         ],
         "y": [
          0,
          1,
          2,
          3,
          4
         ],
         "z": [
          [
           2.4390243902439024,
           51.21951219512195,
           17.073170731707318,
           6.097560975609756,
           23.170731707317074
          ],
          [
           0.16181229773462785,
           36.89320388349515,
           33.980582524271846,
           10.194174757281553,
           18.77022653721683
          ],
          [
           0,
           20.44609665427509,
           41.63568773234201,
           13.382899628252787,
           24.53531598513011
          ],
          [
           0.15337423312883436,
           15.030674846625766,
           33.895705521472394,
           25.153374233128833,
           25.766871165644172
          ],
          [
           0,
           10.476190476190476,
           14.285714285714285,
           5.476190476190476,
           69.76190476190476
          ]
         ]
        }
       ],
       "layout": {
        "annotations": [
         {
          "font": {
           "color": "white"
          },
          "showarrow": false,
          "text": "2.4 - 2",
          "x": 0,
          "xref": "x",
          "y": 0,
          "yref": "y"
         },
         {
          "font": {
           "color": "white"
          },
          "showarrow": false,
          "text": "51.2 - 42",
          "x": 1,
          "xref": "x",
          "y": 0,
          "yref": "y"
         },
         {
          "font": {
           "color": "white"
          },
          "showarrow": false,
          "text": "17.1 - 14",
          "x": 2,
          "xref": "x",
          "y": 0,
          "yref": "y"
         },
         {
          "font": {
           "color": "white"
          },
          "showarrow": false,
          "text": "6.1 - 5",
          "x": 3,
          "xref": "x",
          "y": 0,
          "yref": "y"
         },
         {
          "font": {
           "color": "white"
          },
          "showarrow": false,
          "text": "23.2 - 19",
          "x": 4,
          "xref": "x",
          "y": 0,
          "yref": "y"
         },
         {
          "font": {
           "color": "white"
          },
          "showarrow": false,
          "text": "0.2 - 1",
          "x": 0,
          "xref": "x",
          "y": 1,
          "yref": "y"
         },
         {
          "font": {
           "color": "white"
          },
          "showarrow": false,
          "text": "36.9 - 228",
          "x": 1,
          "xref": "x",
          "y": 1,
          "yref": "y"
         },
         {
          "font": {
           "color": "white"
          },
          "showarrow": false,
          "text": "34.0 - 210",
          "x": 2,
          "xref": "x",
          "y": 1,
          "yref": "y"
         },
         {
          "font": {
           "color": "white"
          },
          "showarrow": false,
          "text": "10.2 - 63",
          "x": 3,
          "xref": "x",
          "y": 1,
          "yref": "y"
         },
         {
          "font": {
           "color": "white"
          },
          "showarrow": false,
          "text": "18.8 - 116",
          "x": 4,
          "xref": "x",
          "y": 1,
          "yref": "y"
         },
         {
          "font": {
           "color": "white"
          },
          "showarrow": false,
          "text": "0.0 - 0",
          "x": 0,
          "xref": "x",
          "y": 2,
          "yref": "y"
         },
         {
          "font": {
           "color": "white"
          },
          "showarrow": false,
          "text": "20.4 - 165",
          "x": 1,
          "xref": "x",
          "y": 2,
          "yref": "y"
         },
         {
          "font": {
           "color": "white"
          },
          "showarrow": false,
          "text": "41.6 - 336",
          "x": 2,
          "xref": "x",
          "y": 2,
          "yref": "y"
         },
         {
          "font": {
           "color": "white"
          },
          "showarrow": false,
          "text": "13.4 - 108",
          "x": 3,
          "xref": "x",
          "y": 2,
          "yref": "y"
         },
         {
          "font": {
           "color": "white"
          },
          "showarrow": false,
          "text": "24.5 - 198",
          "x": 4,
          "xref": "x",
          "y": 2,
          "yref": "y"
         },
         {
          "font": {
           "color": "white"
          },
          "showarrow": false,
          "text": "0.2 - 1",
          "x": 0,
          "xref": "x",
          "y": 3,
          "yref": "y"
         },
         {
          "font": {
           "color": "white"
          },
          "showarrow": false,
          "text": "15.0 - 98",
          "x": 1,
          "xref": "x",
          "y": 3,
          "yref": "y"
         },
         {
          "font": {
           "color": "white"
          },
          "showarrow": false,
          "text": "33.9 - 221",
          "x": 2,
          "xref": "x",
          "y": 3,
          "yref": "y"
         },
         {
          "font": {
           "color": "white"
          },
          "showarrow": false,
          "text": "25.2 - 164",
          "x": 3,
          "xref": "x",
          "y": 3,
          "yref": "y"
         },
         {
          "font": {
           "color": "white"
          },
          "showarrow": false,
          "text": "25.8 - 168",
          "x": 4,
          "xref": "x",
          "y": 3,
          "yref": "y"
         },
         {
          "font": {
           "color": "white"
          },
          "showarrow": false,
          "text": "0.0 - 0",
          "x": 0,
          "xref": "x",
          "y": 4,
          "yref": "y"
         },
         {
          "font": {
           "color": "white"
          },
          "showarrow": false,
          "text": "10.5 - 88",
          "x": 1,
          "xref": "x",
          "y": 4,
          "yref": "y"
         },
         {
          "font": {
           "color": "white"
          },
          "showarrow": false,
          "text": "14.3 - 120",
          "x": 2,
          "xref": "x",
          "y": 4,
          "yref": "y"
         },
         {
          "font": {
           "color": "white"
          },
          "showarrow": false,
          "text": "5.5 - 46",
          "x": 3,
          "xref": "x",
          "y": 4,
          "yref": "y"
         },
         {
          "font": {
           "color": "white"
          },
          "showarrow": false,
          "text": "69.8 - 586",
          "x": 4,
          "xref": "x",
          "y": 4,
          "yref": "y"
         }
        ],
        "height": 800,
        "template": {
         "data": {
          "bar": [
           {
            "error_x": {
             "color": "#2a3f5f"
            },
            "error_y": {
             "color": "#2a3f5f"
            },
            "marker": {
             "line": {
              "color": "#E5ECF6",
              "width": 0.5
             },
             "pattern": {
              "fillmode": "overlay",
              "size": 10,
              "solidity": 0.2
             }
            },
            "type": "bar"
           }
          ],
          "barpolar": [
           {
            "marker": {
             "line": {
              "color": "#E5ECF6",
              "width": 0.5
             },
             "pattern": {
              "fillmode": "overlay",
              "size": 10,
              "solidity": 0.2
             }
            },
            "type": "barpolar"
           }
          ],
          "carpet": [
           {
            "aaxis": {
             "endlinecolor": "#2a3f5f",
             "gridcolor": "white",
             "linecolor": "white",
             "minorgridcolor": "white",
             "startlinecolor": "#2a3f5f"
            },
            "baxis": {
             "endlinecolor": "#2a3f5f",
             "gridcolor": "white",
             "linecolor": "white",
             "minorgridcolor": "white",
             "startlinecolor": "#2a3f5f"
            },
            "type": "carpet"
           }
          ],
          "choropleth": [
           {
            "colorbar": {
             "outlinewidth": 0,
             "ticks": ""
            },
            "type": "choropleth"
           }
          ],
          "contour": [
           {
            "colorbar": {
             "outlinewidth": 0,
             "ticks": ""
            },
            "colorscale": [
             [
              0,
              "#0d0887"
             ],
             [
              0.1111111111111111,
              "#46039f"
             ],
             [
              0.2222222222222222,
              "#7201a8"
             ],
             [
              0.3333333333333333,
              "#9c179e"
             ],
             [
              0.4444444444444444,
              "#bd3786"
             ],
             [
              0.5555555555555556,
              "#d8576b"
             ],
             [
              0.6666666666666666,
              "#ed7953"
             ],
             [
              0.7777777777777778,
              "#fb9f3a"
             ],
             [
              0.8888888888888888,
              "#fdca26"
             ],
             [
              1,
              "#f0f921"
             ]
            ],
            "type": "contour"
           }
          ],
          "contourcarpet": [
           {
            "colorbar": {
             "outlinewidth": 0,
             "ticks": ""
            },
            "type": "contourcarpet"
           }
          ],
          "heatmap": [
           {
            "colorbar": {
             "outlinewidth": 0,
             "ticks": ""
            },
            "colorscale": [
             [
              0,
              "#0d0887"
             ],
             [
              0.1111111111111111,
              "#46039f"
             ],
             [
              0.2222222222222222,
              "#7201a8"
             ],
             [
              0.3333333333333333,
              "#9c179e"
             ],
             [
              0.4444444444444444,
              "#bd3786"
             ],
             [
              0.5555555555555556,
              "#d8576b"
             ],
             [
              0.6666666666666666,
              "#ed7953"
             ],
             [
              0.7777777777777778,
              "#fb9f3a"
             ],
             [
              0.8888888888888888,
              "#fdca26"
             ],
             [
              1,
              "#f0f921"
             ]
            ],
            "type": "heatmap"
           }
          ],
          "heatmapgl": [
           {
            "colorbar": {
             "outlinewidth": 0,
             "ticks": ""
            },
            "colorscale": [
             [
              0,
              "#0d0887"
             ],
             [
              0.1111111111111111,
              "#46039f"
             ],
             [
              0.2222222222222222,
              "#7201a8"
             ],
             [
              0.3333333333333333,
              "#9c179e"
             ],
             [
              0.4444444444444444,
              "#bd3786"
             ],
             [
              0.5555555555555556,
              "#d8576b"
             ],
             [
              0.6666666666666666,
              "#ed7953"
             ],
             [
              0.7777777777777778,
              "#fb9f3a"
             ],
             [
              0.8888888888888888,
              "#fdca26"
             ],
             [
              1,
              "#f0f921"
             ]
            ],
            "type": "heatmapgl"
           }
          ],
          "histogram": [
           {
            "marker": {
             "pattern": {
              "fillmode": "overlay",
              "size": 10,
              "solidity": 0.2
             }
            },
            "type": "histogram"
           }
          ],
          "histogram2d": [
           {
            "colorbar": {
             "outlinewidth": 0,
             "ticks": ""
            },
            "colorscale": [
             [
              0,
              "#0d0887"
             ],
             [
              0.1111111111111111,
              "#46039f"
             ],
             [
              0.2222222222222222,
              "#7201a8"
             ],
             [
              0.3333333333333333,
              "#9c179e"
             ],
             [
              0.4444444444444444,
              "#bd3786"
             ],
             [
              0.5555555555555556,
              "#d8576b"
             ],
             [
              0.6666666666666666,
              "#ed7953"
             ],
             [
              0.7777777777777778,
              "#fb9f3a"
             ],
             [
              0.8888888888888888,
              "#fdca26"
             ],
             [
              1,
              "#f0f921"
             ]
            ],
            "type": "histogram2d"
           }
          ],
          "histogram2dcontour": [
           {
            "colorbar": {
             "outlinewidth": 0,
             "ticks": ""
            },
            "colorscale": [
             [
              0,
              "#0d0887"
             ],
             [
              0.1111111111111111,
              "#46039f"
             ],
             [
              0.2222222222222222,
              "#7201a8"
             ],
             [
              0.3333333333333333,
              "#9c179e"
             ],
             [
              0.4444444444444444,
              "#bd3786"
             ],
             [
              0.5555555555555556,
              "#d8576b"
             ],
             [
              0.6666666666666666,
              "#ed7953"
             ],
             [
              0.7777777777777778,
              "#fb9f3a"
             ],
             [
              0.8888888888888888,
              "#fdca26"
             ],
             [
              1,
              "#f0f921"
             ]
            ],
            "type": "histogram2dcontour"
           }
          ],
          "mesh3d": [
           {
            "colorbar": {
             "outlinewidth": 0,
             "ticks": ""
            },
            "type": "mesh3d"
           }
          ],
          "parcoords": [
           {
            "line": {
             "colorbar": {
              "outlinewidth": 0,
              "ticks": ""
             }
            },
            "type": "parcoords"
           }
          ],
          "pie": [
           {
            "automargin": true,
            "type": "pie"
           }
          ],
          "scatter": [
           {
            "fillpattern": {
             "fillmode": "overlay",
             "size": 10,
             "solidity": 0.2
            },
            "type": "scatter"
           }
          ],
          "scatter3d": [
           {
            "line": {
             "colorbar": {
              "outlinewidth": 0,
              "ticks": ""
             }
            },
            "marker": {
             "colorbar": {
              "outlinewidth": 0,
              "ticks": ""
             }
            },
            "type": "scatter3d"
           }
          ],
          "scattercarpet": [
           {
            "marker": {
             "colorbar": {
              "outlinewidth": 0,
              "ticks": ""
             }
            },
            "type": "scattercarpet"
           }
          ],
          "scattergeo": [
           {
            "marker": {
             "colorbar": {
              "outlinewidth": 0,
              "ticks": ""
             }
            },
            "type": "scattergeo"
           }
          ],
          "scattergl": [
           {
            "marker": {
             "colorbar": {
              "outlinewidth": 0,
              "ticks": ""
             }
            },
            "type": "scattergl"
           }
          ],
          "scattermapbox": [
           {
            "marker": {
             "colorbar": {
              "outlinewidth": 0,
              "ticks": ""
             }
            },
            "type": "scattermapbox"
           }
          ],
          "scatterpolar": [
           {
            "marker": {
             "colorbar": {
              "outlinewidth": 0,
              "ticks": ""
             }
            },
            "type": "scatterpolar"
           }
          ],
          "scatterpolargl": [
           {
            "marker": {
             "colorbar": {
              "outlinewidth": 0,
              "ticks": ""
             }
            },
            "type": "scatterpolargl"
           }
          ],
          "scatterternary": [
           {
            "marker": {
             "colorbar": {
              "outlinewidth": 0,
              "ticks": ""
             }
            },
            "type": "scatterternary"
           }
          ],
          "surface": [
           {
            "colorbar": {
             "outlinewidth": 0,
             "ticks": ""
            },
            "colorscale": [
             [
              0,
              "#0d0887"
             ],
             [
              0.1111111111111111,
              "#46039f"
             ],
             [
              0.2222222222222222,
              "#7201a8"
             ],
             [
              0.3333333333333333,
              "#9c179e"
             ],
             [
              0.4444444444444444,
              "#bd3786"
             ],
             [
              0.5555555555555556,
              "#d8576b"
             ],
             [
              0.6666666666666666,
              "#ed7953"
             ],
             [
              0.7777777777777778,
              "#fb9f3a"
             ],
             [
              0.8888888888888888,
              "#fdca26"
             ],
             [
              1,
              "#f0f921"
             ]
            ],
            "type": "surface"
           }
          ],
          "table": [
           {
            "cells": {
             "fill": {
              "color": "#EBF0F8"
             },
             "line": {
              "color": "white"
             }
            },
            "header": {
             "fill": {
              "color": "#C8D4E3"
             },
             "line": {
              "color": "white"
             }
            },
            "type": "table"
           }
          ]
         },
         "layout": {
          "annotationdefaults": {
           "arrowcolor": "#2a3f5f",
           "arrowhead": 0,
           "arrowwidth": 1
          },
          "autotypenumbers": "strict",
          "coloraxis": {
           "colorbar": {
            "outlinewidth": 0,
            "ticks": ""
           }
          },
          "colorscale": {
           "diverging": [
            [
             0,
             "#8e0152"
            ],
            [
             0.1,
             "#c51b7d"
            ],
            [
             0.2,
             "#de77ae"
            ],
            [
             0.3,
             "#f1b6da"
            ],
            [
             0.4,
             "#fde0ef"
            ],
            [
             0.5,
             "#f7f7f7"
            ],
            [
             0.6,
             "#e6f5d0"
            ],
            [
             0.7,
             "#b8e186"
            ],
            [
             0.8,
             "#7fbc41"
            ],
            [
             0.9,
             "#4d9221"
            ],
            [
             1,
             "#276419"
            ]
           ],
           "sequential": [
            [
             0,
             "#0d0887"
            ],
            [
             0.1111111111111111,
             "#46039f"
            ],
            [
             0.2222222222222222,
             "#7201a8"
            ],
            [
             0.3333333333333333,
             "#9c179e"
            ],
            [
             0.4444444444444444,
             "#bd3786"
            ],
            [
             0.5555555555555556,
             "#d8576b"
            ],
            [
             0.6666666666666666,
             "#ed7953"
            ],
            [
             0.7777777777777778,
             "#fb9f3a"
            ],
            [
             0.8888888888888888,
             "#fdca26"
            ],
            [
             1,
             "#f0f921"
            ]
           ],
           "sequentialminus": [
            [
             0,
             "#0d0887"
            ],
            [
             0.1111111111111111,
             "#46039f"
            ],
            [
             0.2222222222222222,
             "#7201a8"
            ],
            [
             0.3333333333333333,
             "#9c179e"
            ],
            [
             0.4444444444444444,
             "#bd3786"
            ],
            [
             0.5555555555555556,
             "#d8576b"
            ],
            [
             0.6666666666666666,
             "#ed7953"
            ],
            [
             0.7777777777777778,
             "#fb9f3a"
            ],
            [
             0.8888888888888888,
             "#fdca26"
            ],
            [
             1,
             "#f0f921"
            ]
           ]
          },
          "colorway": [
           "#636efa",
           "#EF553B",
           "#00cc96",
           "#ab63fa",
           "#FFA15A",
           "#19d3f3",
           "#FF6692",
           "#B6E880",
           "#FF97FF",
           "#FECB52"
          ],
          "font": {
           "color": "#2a3f5f"
          },
          "geo": {
           "bgcolor": "white",
           "lakecolor": "white",
           "landcolor": "#E5ECF6",
           "showlakes": true,
           "showland": true,
           "subunitcolor": "white"
          },
          "hoverlabel": {
           "align": "left"
          },
          "hovermode": "closest",
          "mapbox": {
           "style": "light"
          },
          "paper_bgcolor": "white",
          "plot_bgcolor": "#E5ECF6",
          "polar": {
           "angularaxis": {
            "gridcolor": "white",
            "linecolor": "white",
            "ticks": ""
           },
           "bgcolor": "#E5ECF6",
           "radialaxis": {
            "gridcolor": "white",
            "linecolor": "white",
            "ticks": ""
           }
          },
          "scene": {
           "xaxis": {
            "backgroundcolor": "#E5ECF6",
            "gridcolor": "white",
            "gridwidth": 2,
            "linecolor": "white",
            "showbackground": true,
            "ticks": "",
            "zerolinecolor": "white"
           },
           "yaxis": {
            "backgroundcolor": "#E5ECF6",
            "gridcolor": "white",
            "gridwidth": 2,
            "linecolor": "white",
            "showbackground": true,
            "ticks": "",
            "zerolinecolor": "white"
           },
           "zaxis": {
            "backgroundcolor": "#E5ECF6",
            "gridcolor": "white",
            "gridwidth": 2,
            "linecolor": "white",
            "showbackground": true,
            "ticks": "",
            "zerolinecolor": "white"
           }
          },
          "shapedefaults": {
           "line": {
            "color": "#2a3f5f"
           }
          },
          "ternary": {
           "aaxis": {
            "gridcolor": "white",
            "linecolor": "white",
            "ticks": ""
           },
           "baxis": {
            "gridcolor": "white",
            "linecolor": "white",
            "ticks": ""
           },
           "bgcolor": "#E5ECF6",
           "caxis": {
            "gridcolor": "white",
            "linecolor": "white",
            "ticks": ""
           }
          },
          "title": {
           "x": 0.05
          },
          "xaxis": {
           "automargin": true,
           "gridcolor": "white",
           "linecolor": "white",
           "ticks": "",
           "title": {
            "standoff": 15
           },
           "zerolinecolor": "white",
           "zerolinewidth": 2
          },
          "yaxis": {
           "automargin": true,
           "gridcolor": "white",
           "linecolor": "white",
           "ticks": "",
           "title": {
            "standoff": 15
           },
           "zerolinecolor": "white",
           "zerolinewidth": 2
          }
         }
        },
        "title": {
         "text": "Blended Model Kappa: 0.3847330259080515"
        },
        "width": 800,
        "xaxis": {
         "title": {
          "text": "Predicted value"
         }
        },
        "yaxis": {
         "title": {
          "text": "Real value"
         }
        }
       }
      }
     },
     "metadata": {},
     "output_type": "display_data"
    }
   ],
   "source": [
    "plot_confusion_matrix(merged_datasets['AdoptionSpeed'],\n",
    "                      merged_datasets['blended_pred'], \n",
    "                    title = 'Blended Model Kappa: ' + str(cohen_kappa_score(merged_datasets['AdoptionSpeed'],\n",
    "                                                                    merged_datasets['blended_pred'], \n",
    "                                                                    weights='quadratic')))\n"
   ]
  },
  {
   "cell_type": "code",
   "execution_count": null,
   "metadata": {},
   "outputs": [],
   "source": []
  }
 ],
 "metadata": {
  "kernelspec": {
   "display_name": "exp-tomi-2RV3BUvH-py3.10",
   "language": "python",
   "name": "python3"
  },
  "language_info": {
   "codemirror_mode": {
    "name": "ipython",
    "version": 3
   },
   "file_extension": ".py",
   "mimetype": "text/x-python",
   "name": "python",
   "nbconvert_exporter": "python",
   "pygments_lexer": "ipython3",
   "version": "3.12.6"
  }
 },
 "nbformat": 4,
 "nbformat_minor": 2
}
