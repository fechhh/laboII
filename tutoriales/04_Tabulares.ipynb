{
 "cells": [
  {
   "cell_type": "markdown",
   "metadata": {},
   "source": [
    "## Modelo datos estructurados\n",
    "Este notebook desarrolla un primer modelo para resolver el problema de Petfinder. Empezamos haciendo un modelo inicial muy simple para ver la viabilidad de resolver el problema. Luego analizamos como se comporta la métrica kappa propuesta y vemos la matriz de confusión. Finalmente hacemos una optimizacin de hiperparametros evaluando con train/test y otra validando con 5 fold CV y testeando en el 20% de los datos"
   ]
  },
  {
   "cell_type": "code",
   "execution_count": 40,
   "metadata": {},
   "outputs": [],
   "source": [
    "#Import de librerias basicas tablas y matrices\n",
    "import numpy as np \n",
    "import pandas as pd \n",
    "\n",
    "#Gradient Boosting\n",
    "import lightgbm as lgb\n",
    "\n",
    "#Funciones auxiliares sklearn\n",
    "from sklearn.model_selection import train_test_split, StratifiedKFold #Split y cross Validation\n",
    "from sklearn.metrics import cohen_kappa_score, accuracy_score, balanced_accuracy_score #Metricas\n",
    "from sklearn.utils import shuffle \n",
    "\n",
    "#Visualizacióon\n",
    "from plotly import express as px\n",
    "\n",
    "#Plot de matriz de confusion normalizada en actuals\n",
    "from utils import plot_confusion_matrix\n",
    "\n",
    "import os\n",
    "\n",
    "#Optimizacion de hiperparametros\n",
    "import optuna\n",
    "from optuna.artifacts import FileSystemArtifactStore, upload_artifact\n",
    "\n",
    "#Guardado de objetos en archivos joblib\n",
    "from joblib import load, dump\n"
   ]
  },
  {
   "cell_type": "code",
   "execution_count": 41,
   "metadata": {},
   "outputs": [],
   "source": [
    "# Paths para acceso archivos\n",
    "#Este notebook asume la siguiente estructura de carpetas a partir de la ubicacion de base_dir \n",
    "#(dos niveles arriba de la carpeta donde se ejecuta el notebook). \n",
    "# /UA_MDM_LDI_II/\n",
    "# /UA_MDM_LDI_II/input\n",
    "# /UA_MDM_LDI_II/input/petfinder-adoption-prediction/            <- Aca deben ir todos los archivos de datos de la competencia \n",
    "# /UA_MDM_LDI_II/tutoriales/                       <- Aca deben poner los notebooks y scripts que les compartimos\n",
    "# /UA_MDM_LDI_II/work/                             <- Resultados de notebooks iran dentro de esta carpeta en subcarpetas\n",
    "# /UA_MDM_LDI_II/work/models/                     <- Modelos entrenados en archivos joblibs\n",
    "# /UA_MDM_LDI_II/work/optuna_temp_artifacts/      <- Archivos que queremos dejar como artefacto de un trial de optuna (optuna los copiara a la carpeta de abajo)\n",
    "# /UA_MDM_LDI_II/work/optuna_artifacts/           <- Archivos con artefactos que sibimos a optuna\n",
    "\n",
    "#Subimos dos niveles para quedar en la carpeta que contiene input y UA_MDM_LDI_II\n",
    "BASE_DIR = '../'\n",
    "\n",
    "#Datos de entrenamiento \n",
    "PATH_TO_TRAIN = os.path.join(BASE_DIR, \"input/petfinder-adoption-prediction/train/train.csv\")\n",
    "\n",
    "#Salida de modelos entrenados\n",
    "PATH_TO_MODELS = os.path.join(BASE_DIR, \"work/models\")\n",
    "\n",
    "#Artefactos a subir a optuna\n",
    "PATH_TO_TEMP_FILES = os.path.join(BASE_DIR, \"work/optuna_temp_artifacts\")\n",
    "\n",
    "#Artefactos que optuna gestiona\n",
    "PATH_TO_OPTUNA_ARTIFACTS = os.path.join(BASE_DIR, \"work/optuna_artifacts\")\n",
    "\n",
    "\n",
    "SEED = 42 #Semilla de procesos aleatorios (para poder replicar exactamente al volver a correr un modelo)\n",
    "TEST_SIZE = 0.2 #Facción para train/test= split"
   ]
  },
  {
   "cell_type": "code",
   "execution_count": 42,
   "metadata": {},
   "outputs": [],
   "source": [
    "# Datos Tabulares\n",
    "dataset = pd.read_csv(PATH_TO_TRAIN)"
   ]
  },
  {
   "cell_type": "code",
   "execution_count": 43,
   "metadata": {},
   "outputs": [
    {
     "data": {
      "text/plain": [
       "Index(['Type', 'Name', 'Age', 'Breed1', 'Breed2', 'Gender', 'Color1', 'Color2',\n",
       "       'Color3', 'MaturitySize', 'FurLength', 'Vaccinated', 'Dewormed',\n",
       "       'Sterilized', 'Health', 'Quantity', 'Fee', 'State', 'RescuerID',\n",
       "       'VideoAmt', 'Description', 'PetID', 'PhotoAmt', 'AdoptionSpeed'],\n",
       "      dtype='object')"
      ]
     },
     "execution_count": 43,
     "metadata": {},
     "output_type": "execute_result"
    }
   ],
   "source": [
    "#Columnas del dataset\n",
    "dataset.columns"
   ]
  },
  {
   "cell_type": "code",
   "execution_count": 44,
   "metadata": {},
   "outputs": [],
   "source": [
    "#Separo un 20% para test estratificado opr target\n",
    "train, test = train_test_split(dataset,\n",
    "                               test_size = TEST_SIZE,\n",
    "                               random_state = SEED,\n",
    "                               stratify = dataset.AdoptionSpeed)"
   ]
  },
  {
   "cell_type": "code",
   "execution_count": 45,
   "metadata": {},
   "outputs": [],
   "source": [
    "#Armo listas con features de texto y numericas\n",
    "char_feats = [f for f in dataset.columns if dataset[f].dtype=='O']\n",
    "numeric_feats = [f for f in dataset.columns if dataset[f].dtype!='O']"
   ]
  },
  {
   "cell_type": "code",
   "execution_count": 46,
   "metadata": {},
   "outputs": [
    {
     "data": {
      "text/plain": [
       "['Type',\n",
       " 'Age',\n",
       " 'Breed1',\n",
       " 'Breed2',\n",
       " 'Gender',\n",
       " 'Color1',\n",
       " 'Color2',\n",
       " 'Color3',\n",
       " 'MaturitySize',\n",
       " 'FurLength',\n",
       " 'Vaccinated',\n",
       " 'Dewormed',\n",
       " 'Sterilized',\n",
       " 'Health',\n",
       " 'Quantity',\n",
       " 'Fee',\n",
       " 'State',\n",
       " 'VideoAmt',\n",
       " 'PhotoAmt',\n",
       " 'AdoptionSpeed']"
      ]
     },
     "execution_count": 46,
     "metadata": {},
     "output_type": "execute_result"
    }
   ],
   "source": [
    "#Lista de features numericas\n",
    "numeric_feats"
   ]
  },
  {
   "cell_type": "code",
   "execution_count": 47,
   "metadata": {},
   "outputs": [],
   "source": [
    "\n",
    "#Defino features a usar en un primer modelo de prueba\n",
    "features = ['Type',\n",
    " 'Age',\n",
    " 'Breed1',\n",
    " 'Breed2',\n",
    " 'Gender',\n",
    " 'Color1',\n",
    " 'Color2',\n",
    " 'Color3',\n",
    " 'MaturitySize',\n",
    " 'FurLength',\n",
    " 'Vaccinated',\n",
    " 'Dewormed',\n",
    " 'Sterilized',\n",
    " 'Health',\n",
    " 'Quantity',\n",
    " 'Fee',\n",
    " 'State',\n",
    " 'VideoAmt',\n",
    " 'PhotoAmt']\n",
    "\n",
    "label = 'AdoptionSpeed'"
   ]
  },
  {
   "cell_type": "code",
   "execution_count": 48,
   "metadata": {},
   "outputs": [],
   "source": [
    "#Genero dataframes de train y test con sus respectivos targets\n",
    "X_train = train[features]\n",
    "y_train = train[label]\n",
    "\n",
    "X_test = test[features]\n",
    "y_test = test[label]"
   ]
  },
  {
   "cell_type": "code",
   "execution_count": 49,
   "metadata": {},
   "outputs": [
    {
     "name": "stdout",
     "output_type": "stream",
     "text": [
      "[LightGBM] [Info] Auto-choosing row-wise multi-threading, the overhead of testing was 0.000985 seconds.\n",
      "You can set `force_row_wise=true` to remove the overhead.\n",
      "And if memory is not enough, you can set `force_col_wise=true`.\n",
      "[LightGBM] [Info] Total Bins 438\n",
      "[LightGBM] [Info] Number of data points in the train set: 11994, number of used features: 19\n",
      "[LightGBM] [Info] Start training from score -3.599148\n",
      "[LightGBM] [Info] Start training from score -1.579379\n",
      "[LightGBM] [Info] Start training from score -1.311924\n",
      "[LightGBM] [Info] Start training from score -1.526206\n",
      "[LightGBM] [Info] Start training from score -1.273359\n"
     ]
    }
   ],
   "source": [
    "#Entreno un modelo inicial sin modificar hiperparametros. Solamente especifico el numero de clases y el tipo de modelo como clasificacoión\n",
    "lgb_params = params = {\n",
    "                        'objective': 'multiclass',\n",
    "                        'num_class': len(y_train.unique())\n",
    "                        }\n",
    "\n",
    "\n",
    "#genero el objeto Dataset que debo pasarle a lightgbm para que entrene\n",
    "lgb_train_dataset = lgb.Dataset(data=X_train,\n",
    "                                label=y_train)\n",
    "\n",
    "#entreno el modelo con los parametros por defecto\n",
    "lgb_model = lgb.train(lgb_params,\n",
    "                      lgb_train_dataset)"
   ]
  },
  {
   "cell_type": "code",
   "execution_count": 50,
   "metadata": {},
   "outputs": [
    {
     "data": {
      "text/plain": [
       "0.31327315052086113"
      ]
     },
     "execution_count": 50,
     "metadata": {},
     "output_type": "execute_result"
    }
   ],
   "source": [
    "#Obtengo las predicciones sobre el set de test. El modelo me da una lista de probabilidades para cada clase y tomo la clase con mayor probabilidad con la funcion argmax\n",
    "y_pred = lgb_model.predict(X_test).argmax(axis=1)\n",
    "\n",
    "#Calculo el Kappa\n",
    "cohen_kappa_score(y_test,y_pred, weights = 'quadratic')"
   ]
  },
  {
   "cell_type": "code",
   "execution_count": 51,
   "metadata": {},
   "outputs": [
    {
     "data": {
      "application/vnd.plotly.v1+json": {
       "config": {
        "plotlyServerURL": "https://plot.ly"
       },
       "data": [
        {
         "type": "heatmap",
         "x": [
          0,
          1,
          2,
          3,
          4
         ],
         "y": [
          0,
          1,
          2,
          3,
          4
         ],
         "z": [
          [
           6.097560975609756,
           39.02439024390244,
           26.82926829268293,
           10.975609756097562,
           17.073170731707318
          ],
          [
           0.3236245954692557,
           35.11326860841424,
           36.084142394822,
           7.605177993527508,
           20.87378640776699
          ],
          [
           0,
           24.411400247831473,
           36.926889714993806,
           11.400247831474598,
           27.261462205700127
          ],
          [
           0,
           17.94478527607362,
           34.20245398773007,
           18.55828220858896,
           29.29447852760736
          ],
          [
           0.4761904761904762,
           11.666666666666666,
           21.071428571428573,
           7.261904761904763,
           59.523809523809526
          ]
         ]
        }
       ],
       "layout": {
        "annotations": [
         {
          "font": {
           "color": "white"
          },
          "showarrow": false,
          "text": "6.1 - 5",
          "x": 0,
          "xref": "x",
          "y": 0,
          "yref": "y"
         },
         {
          "font": {
           "color": "white"
          },
          "showarrow": false,
          "text": "39.0 - 32",
          "x": 1,
          "xref": "x",
          "y": 0,
          "yref": "y"
         },
         {
          "font": {
           "color": "white"
          },
          "showarrow": false,
          "text": "26.8 - 22",
          "x": 2,
          "xref": "x",
          "y": 0,
          "yref": "y"
         },
         {
          "font": {
           "color": "white"
          },
          "showarrow": false,
          "text": "11.0 - 9",
          "x": 3,
          "xref": "x",
          "y": 0,
          "yref": "y"
         },
         {
          "font": {
           "color": "white"
          },
          "showarrow": false,
          "text": "17.1 - 14",
          "x": 4,
          "xref": "x",
          "y": 0,
          "yref": "y"
         },
         {
          "font": {
           "color": "white"
          },
          "showarrow": false,
          "text": "0.3 - 2",
          "x": 0,
          "xref": "x",
          "y": 1,
          "yref": "y"
         },
         {
          "font": {
           "color": "white"
          },
          "showarrow": false,
          "text": "35.1 - 217",
          "x": 1,
          "xref": "x",
          "y": 1,
          "yref": "y"
         },
         {
          "font": {
           "color": "white"
          },
          "showarrow": false,
          "text": "36.1 - 223",
          "x": 2,
          "xref": "x",
          "y": 1,
          "yref": "y"
         },
         {
          "font": {
           "color": "white"
          },
          "showarrow": false,
          "text": "7.6 - 47",
          "x": 3,
          "xref": "x",
          "y": 1,
          "yref": "y"
         },
         {
          "font": {
           "color": "white"
          },
          "showarrow": false,
          "text": "20.9 - 129",
          "x": 4,
          "xref": "x",
          "y": 1,
          "yref": "y"
         },
         {
          "font": {
           "color": "white"
          },
          "showarrow": false,
          "text": "0.0 - 0",
          "x": 0,
          "xref": "x",
          "y": 2,
          "yref": "y"
         },
         {
          "font": {
           "color": "white"
          },
          "showarrow": false,
          "text": "24.4 - 197",
          "x": 1,
          "xref": "x",
          "y": 2,
          "yref": "y"
         },
         {
          "font": {
           "color": "white"
          },
          "showarrow": false,
          "text": "36.9 - 298",
          "x": 2,
          "xref": "x",
          "y": 2,
          "yref": "y"
         },
         {
          "font": {
           "color": "white"
          },
          "showarrow": false,
          "text": "11.4 - 92",
          "x": 3,
          "xref": "x",
          "y": 2,
          "yref": "y"
         },
         {
          "font": {
           "color": "white"
          },
          "showarrow": false,
          "text": "27.3 - 220",
          "x": 4,
          "xref": "x",
          "y": 2,
          "yref": "y"
         },
         {
          "font": {
           "color": "white"
          },
          "showarrow": false,
          "text": "0.0 - 0",
          "x": 0,
          "xref": "x",
          "y": 3,
          "yref": "y"
         },
         {
          "font": {
           "color": "white"
          },
          "showarrow": false,
          "text": "17.9 - 117",
          "x": 1,
          "xref": "x",
          "y": 3,
          "yref": "y"
         },
         {
          "font": {
           "color": "white"
          },
          "showarrow": false,
          "text": "34.2 - 223",
          "x": 2,
          "xref": "x",
          "y": 3,
          "yref": "y"
         },
         {
          "font": {
           "color": "white"
          },
          "showarrow": false,
          "text": "18.6 - 121",
          "x": 3,
          "xref": "x",
          "y": 3,
          "yref": "y"
         },
         {
          "font": {
           "color": "white"
          },
          "showarrow": false,
          "text": "29.3 - 191",
          "x": 4,
          "xref": "x",
          "y": 3,
          "yref": "y"
         },
         {
          "font": {
           "color": "white"
          },
          "showarrow": false,
          "text": "0.5 - 4",
          "x": 0,
          "xref": "x",
          "y": 4,
          "yref": "y"
         },
         {
          "font": {
           "color": "white"
          },
          "showarrow": false,
          "text": "11.7 - 98",
          "x": 1,
          "xref": "x",
          "y": 4,
          "yref": "y"
         },
         {
          "font": {
           "color": "white"
          },
          "showarrow": false,
          "text": "21.1 - 177",
          "x": 2,
          "xref": "x",
          "y": 4,
          "yref": "y"
         },
         {
          "font": {
           "color": "white"
          },
          "showarrow": false,
          "text": "7.3 - 61",
          "x": 3,
          "xref": "x",
          "y": 4,
          "yref": "y"
         },
         {
          "font": {
           "color": "white"
          },
          "showarrow": false,
          "text": "59.5 - 500",
          "x": 4,
          "xref": "x",
          "y": 4,
          "yref": "y"
         }
        ],
        "height": 800,
        "template": {
         "data": {
          "bar": [
           {
            "error_x": {
             "color": "#2a3f5f"
            },
            "error_y": {
             "color": "#2a3f5f"
            },
            "marker": {
             "line": {
              "color": "#E5ECF6",
              "width": 0.5
             },
             "pattern": {
              "fillmode": "overlay",
              "size": 10,
              "solidity": 0.2
             }
            },
            "type": "bar"
           }
          ],
          "barpolar": [
           {
            "marker": {
             "line": {
              "color": "#E5ECF6",
              "width": 0.5
             },
             "pattern": {
              "fillmode": "overlay",
              "size": 10,
              "solidity": 0.2
             }
            },
            "type": "barpolar"
           }
          ],
          "carpet": [
           {
            "aaxis": {
             "endlinecolor": "#2a3f5f",
             "gridcolor": "white",
             "linecolor": "white",
             "minorgridcolor": "white",
             "startlinecolor": "#2a3f5f"
            },
            "baxis": {
             "endlinecolor": "#2a3f5f",
             "gridcolor": "white",
             "linecolor": "white",
             "minorgridcolor": "white",
             "startlinecolor": "#2a3f5f"
            },
            "type": "carpet"
           }
          ],
          "choropleth": [
           {
            "colorbar": {
             "outlinewidth": 0,
             "ticks": ""
            },
            "type": "choropleth"
           }
          ],
          "contour": [
           {
            "colorbar": {
             "outlinewidth": 0,
             "ticks": ""
            },
            "colorscale": [
             [
              0,
              "#0d0887"
             ],
             [
              0.1111111111111111,
              "#46039f"
             ],
             [
              0.2222222222222222,
              "#7201a8"
             ],
             [
              0.3333333333333333,
              "#9c179e"
             ],
             [
              0.4444444444444444,
              "#bd3786"
             ],
             [
              0.5555555555555556,
              "#d8576b"
             ],
             [
              0.6666666666666666,
              "#ed7953"
             ],
             [
              0.7777777777777778,
              "#fb9f3a"
             ],
             [
              0.8888888888888888,
              "#fdca26"
             ],
             [
              1,
              "#f0f921"
             ]
            ],
            "type": "contour"
           }
          ],
          "contourcarpet": [
           {
            "colorbar": {
             "outlinewidth": 0,
             "ticks": ""
            },
            "type": "contourcarpet"
           }
          ],
          "heatmap": [
           {
            "colorbar": {
             "outlinewidth": 0,
             "ticks": ""
            },
            "colorscale": [
             [
              0,
              "#0d0887"
             ],
             [
              0.1111111111111111,
              "#46039f"
             ],
             [
              0.2222222222222222,
              "#7201a8"
             ],
             [
              0.3333333333333333,
              "#9c179e"
             ],
             [
              0.4444444444444444,
              "#bd3786"
             ],
             [
              0.5555555555555556,
              "#d8576b"
             ],
             [
              0.6666666666666666,
              "#ed7953"
             ],
             [
              0.7777777777777778,
              "#fb9f3a"
             ],
             [
              0.8888888888888888,
              "#fdca26"
             ],
             [
              1,
              "#f0f921"
             ]
            ],
            "type": "heatmap"
           }
          ],
          "heatmapgl": [
           {
            "colorbar": {
             "outlinewidth": 0,
             "ticks": ""
            },
            "colorscale": [
             [
              0,
              "#0d0887"
             ],
             [
              0.1111111111111111,
              "#46039f"
             ],
             [
              0.2222222222222222,
              "#7201a8"
             ],
             [
              0.3333333333333333,
              "#9c179e"
             ],
             [
              0.4444444444444444,
              "#bd3786"
             ],
             [
              0.5555555555555556,
              "#d8576b"
             ],
             [
              0.6666666666666666,
              "#ed7953"
             ],
             [
              0.7777777777777778,
              "#fb9f3a"
             ],
             [
              0.8888888888888888,
              "#fdca26"
             ],
             [
              1,
              "#f0f921"
             ]
            ],
            "type": "heatmapgl"
           }
          ],
          "histogram": [
           {
            "marker": {
             "pattern": {
              "fillmode": "overlay",
              "size": 10,
              "solidity": 0.2
             }
            },
            "type": "histogram"
           }
          ],
          "histogram2d": [
           {
            "colorbar": {
             "outlinewidth": 0,
             "ticks": ""
            },
            "colorscale": [
             [
              0,
              "#0d0887"
             ],
             [
              0.1111111111111111,
              "#46039f"
             ],
             [
              0.2222222222222222,
              "#7201a8"
             ],
             [
              0.3333333333333333,
              "#9c179e"
             ],
             [
              0.4444444444444444,
              "#bd3786"
             ],
             [
              0.5555555555555556,
              "#d8576b"
             ],
             [
              0.6666666666666666,
              "#ed7953"
             ],
             [
              0.7777777777777778,
              "#fb9f3a"
             ],
             [
              0.8888888888888888,
              "#fdca26"
             ],
             [
              1,
              "#f0f921"
             ]
            ],
            "type": "histogram2d"
           }
          ],
          "histogram2dcontour": [
           {
            "colorbar": {
             "outlinewidth": 0,
             "ticks": ""
            },
            "colorscale": [
             [
              0,
              "#0d0887"
             ],
             [
              0.1111111111111111,
              "#46039f"
             ],
             [
              0.2222222222222222,
              "#7201a8"
             ],
             [
              0.3333333333333333,
              "#9c179e"
             ],
             [
              0.4444444444444444,
              "#bd3786"
             ],
             [
              0.5555555555555556,
              "#d8576b"
             ],
             [
              0.6666666666666666,
              "#ed7953"
             ],
             [
              0.7777777777777778,
              "#fb9f3a"
             ],
             [
              0.8888888888888888,
              "#fdca26"
             ],
             [
              1,
              "#f0f921"
             ]
            ],
            "type": "histogram2dcontour"
           }
          ],
          "mesh3d": [
           {
            "colorbar": {
             "outlinewidth": 0,
             "ticks": ""
            },
            "type": "mesh3d"
           }
          ],
          "parcoords": [
           {
            "line": {
             "colorbar": {
              "outlinewidth": 0,
              "ticks": ""
             }
            },
            "type": "parcoords"
           }
          ],
          "pie": [
           {
            "automargin": true,
            "type": "pie"
           }
          ],
          "scatter": [
           {
            "fillpattern": {
             "fillmode": "overlay",
             "size": 10,
             "solidity": 0.2
            },
            "type": "scatter"
           }
          ],
          "scatter3d": [
           {
            "line": {
             "colorbar": {
              "outlinewidth": 0,
              "ticks": ""
             }
            },
            "marker": {
             "colorbar": {
              "outlinewidth": 0,
              "ticks": ""
             }
            },
            "type": "scatter3d"
           }
          ],
          "scattercarpet": [
           {
            "marker": {
             "colorbar": {
              "outlinewidth": 0,
              "ticks": ""
             }
            },
            "type": "scattercarpet"
           }
          ],
          "scattergeo": [
           {
            "marker": {
             "colorbar": {
              "outlinewidth": 0,
              "ticks": ""
             }
            },
            "type": "scattergeo"
           }
          ],
          "scattergl": [
           {
            "marker": {
             "colorbar": {
              "outlinewidth": 0,
              "ticks": ""
             }
            },
            "type": "scattergl"
           }
          ],
          "scattermapbox": [
           {
            "marker": {
             "colorbar": {
              "outlinewidth": 0,
              "ticks": ""
             }
            },
            "type": "scattermapbox"
           }
          ],
          "scatterpolar": [
           {
            "marker": {
             "colorbar": {
              "outlinewidth": 0,
              "ticks": ""
             }
            },
            "type": "scatterpolar"
           }
          ],
          "scatterpolargl": [
           {
            "marker": {
             "colorbar": {
              "outlinewidth": 0,
              "ticks": ""
             }
            },
            "type": "scatterpolargl"
           }
          ],
          "scatterternary": [
           {
            "marker": {
             "colorbar": {
              "outlinewidth": 0,
              "ticks": ""
             }
            },
            "type": "scatterternary"
           }
          ],
          "surface": [
           {
            "colorbar": {
             "outlinewidth": 0,
             "ticks": ""
            },
            "colorscale": [
             [
              0,
              "#0d0887"
             ],
             [
              0.1111111111111111,
              "#46039f"
             ],
             [
              0.2222222222222222,
              "#7201a8"
             ],
             [
              0.3333333333333333,
              "#9c179e"
             ],
             [
              0.4444444444444444,
              "#bd3786"
             ],
             [
              0.5555555555555556,
              "#d8576b"
             ],
             [
              0.6666666666666666,
              "#ed7953"
             ],
             [
              0.7777777777777778,
              "#fb9f3a"
             ],
             [
              0.8888888888888888,
              "#fdca26"
             ],
             [
              1,
              "#f0f921"
             ]
            ],
            "type": "surface"
           }
          ],
          "table": [
           {
            "cells": {
             "fill": {
              "color": "#EBF0F8"
             },
             "line": {
              "color": "white"
             }
            },
            "header": {
             "fill": {
              "color": "#C8D4E3"
             },
             "line": {
              "color": "white"
             }
            },
            "type": "table"
           }
          ]
         },
         "layout": {
          "annotationdefaults": {
           "arrowcolor": "#2a3f5f",
           "arrowhead": 0,
           "arrowwidth": 1
          },
          "autotypenumbers": "strict",
          "coloraxis": {
           "colorbar": {
            "outlinewidth": 0,
            "ticks": ""
           }
          },
          "colorscale": {
           "diverging": [
            [
             0,
             "#8e0152"
            ],
            [
             0.1,
             "#c51b7d"
            ],
            [
             0.2,
             "#de77ae"
            ],
            [
             0.3,
             "#f1b6da"
            ],
            [
             0.4,
             "#fde0ef"
            ],
            [
             0.5,
             "#f7f7f7"
            ],
            [
             0.6,
             "#e6f5d0"
            ],
            [
             0.7,
             "#b8e186"
            ],
            [
             0.8,
             "#7fbc41"
            ],
            [
             0.9,
             "#4d9221"
            ],
            [
             1,
             "#276419"
            ]
           ],
           "sequential": [
            [
             0,
             "#0d0887"
            ],
            [
             0.1111111111111111,
             "#46039f"
            ],
            [
             0.2222222222222222,
             "#7201a8"
            ],
            [
             0.3333333333333333,
             "#9c179e"
            ],
            [
             0.4444444444444444,
             "#bd3786"
            ],
            [
             0.5555555555555556,
             "#d8576b"
            ],
            [
             0.6666666666666666,
             "#ed7953"
            ],
            [
             0.7777777777777778,
             "#fb9f3a"
            ],
            [
             0.8888888888888888,
             "#fdca26"
            ],
            [
             1,
             "#f0f921"
            ]
           ],
           "sequentialminus": [
            [
             0,
             "#0d0887"
            ],
            [
             0.1111111111111111,
             "#46039f"
            ],
            [
             0.2222222222222222,
             "#7201a8"
            ],
            [
             0.3333333333333333,
             "#9c179e"
            ],
            [
             0.4444444444444444,
             "#bd3786"
            ],
            [
             0.5555555555555556,
             "#d8576b"
            ],
            [
             0.6666666666666666,
             "#ed7953"
            ],
            [
             0.7777777777777778,
             "#fb9f3a"
            ],
            [
             0.8888888888888888,
             "#fdca26"
            ],
            [
             1,
             "#f0f921"
            ]
           ]
          },
          "colorway": [
           "#636efa",
           "#EF553B",
           "#00cc96",
           "#ab63fa",
           "#FFA15A",
           "#19d3f3",
           "#FF6692",
           "#B6E880",
           "#FF97FF",
           "#FECB52"
          ],
          "font": {
           "color": "#2a3f5f"
          },
          "geo": {
           "bgcolor": "white",
           "lakecolor": "white",
           "landcolor": "#E5ECF6",
           "showlakes": true,
           "showland": true,
           "subunitcolor": "white"
          },
          "hoverlabel": {
           "align": "left"
          },
          "hovermode": "closest",
          "mapbox": {
           "style": "light"
          },
          "paper_bgcolor": "white",
          "plot_bgcolor": "#E5ECF6",
          "polar": {
           "angularaxis": {
            "gridcolor": "white",
            "linecolor": "white",
            "ticks": ""
           },
           "bgcolor": "#E5ECF6",
           "radialaxis": {
            "gridcolor": "white",
            "linecolor": "white",
            "ticks": ""
           }
          },
          "scene": {
           "xaxis": {
            "backgroundcolor": "#E5ECF6",
            "gridcolor": "white",
            "gridwidth": 2,
            "linecolor": "white",
            "showbackground": true,
            "ticks": "",
            "zerolinecolor": "white"
           },
           "yaxis": {
            "backgroundcolor": "#E5ECF6",
            "gridcolor": "white",
            "gridwidth": 2,
            "linecolor": "white",
            "showbackground": true,
            "ticks": "",
            "zerolinecolor": "white"
           },
           "zaxis": {
            "backgroundcolor": "#E5ECF6",
            "gridcolor": "white",
            "gridwidth": 2,
            "linecolor": "white",
            "showbackground": true,
            "ticks": "",
            "zerolinecolor": "white"
           }
          },
          "shapedefaults": {
           "line": {
            "color": "#2a3f5f"
           }
          },
          "ternary": {
           "aaxis": {
            "gridcolor": "white",
            "linecolor": "white",
            "ticks": ""
           },
           "baxis": {
            "gridcolor": "white",
            "linecolor": "white",
            "ticks": ""
           },
           "bgcolor": "#E5ECF6",
           "caxis": {
            "gridcolor": "white",
            "linecolor": "white",
            "ticks": ""
           }
          },
          "title": {
           "x": 0.05
          },
          "xaxis": {
           "automargin": true,
           "gridcolor": "white",
           "linecolor": "white",
           "ticks": "",
           "title": {
            "standoff": 15
           },
           "zerolinecolor": "white",
           "zerolinewidth": 2
          },
          "yaxis": {
           "automargin": true,
           "gridcolor": "white",
           "linecolor": "white",
           "ticks": "",
           "title": {
            "standoff": 15
           },
           "zerolinecolor": "white",
           "zerolinewidth": 2
          }
         }
        },
        "title": {
         "text": "Conf Matrix"
        },
        "width": 800,
        "xaxis": {
         "title": {
          "text": "Predicted value"
         }
        },
        "yaxis": {
         "title": {
          "text": "Real value"
         }
        }
       }
      },
      "text/html": [
       "<div>                            <div id=\"683c770d-d78b-4638-8ff3-cbaf3e5e44a5\" class=\"plotly-graph-div\" style=\"height:800px; width:800px;\"></div>            <script type=\"text/javascript\">                require([\"plotly\"], function(Plotly) {                    window.PLOTLYENV=window.PLOTLYENV || {};                                    if (document.getElementById(\"683c770d-d78b-4638-8ff3-cbaf3e5e44a5\")) {                    Plotly.newPlot(                        \"683c770d-d78b-4638-8ff3-cbaf3e5e44a5\",                        [{\"x\":[0,1,2,3,4],\"y\":[0,1,2,3,4],\"z\":[[6.097560975609756,39.02439024390244,26.82926829268293,10.975609756097562,17.073170731707318],[0.3236245954692557,35.11326860841424,36.084142394822,7.605177993527508,20.87378640776699],[0.0,24.411400247831473,36.926889714993806,11.400247831474598,27.261462205700127],[0.0,17.94478527607362,34.20245398773007,18.55828220858896,29.29447852760736],[0.4761904761904762,11.666666666666666,21.071428571428573,7.261904761904763,59.523809523809526]],\"type\":\"heatmap\"}],                        {\"annotations\":[{\"font\":{\"color\":\"white\"},\"showarrow\":false,\"text\":\"6.1 - 5\",\"x\":0,\"xref\":\"x\",\"y\":0,\"yref\":\"y\"},{\"font\":{\"color\":\"white\"},\"showarrow\":false,\"text\":\"39.0 - 32\",\"x\":1,\"xref\":\"x\",\"y\":0,\"yref\":\"y\"},{\"font\":{\"color\":\"white\"},\"showarrow\":false,\"text\":\"26.8 - 22\",\"x\":2,\"xref\":\"x\",\"y\":0,\"yref\":\"y\"},{\"font\":{\"color\":\"white\"},\"showarrow\":false,\"text\":\"11.0 - 9\",\"x\":3,\"xref\":\"x\",\"y\":0,\"yref\":\"y\"},{\"font\":{\"color\":\"white\"},\"showarrow\":false,\"text\":\"17.1 - 14\",\"x\":4,\"xref\":\"x\",\"y\":0,\"yref\":\"y\"},{\"font\":{\"color\":\"white\"},\"showarrow\":false,\"text\":\"0.3 - 2\",\"x\":0,\"xref\":\"x\",\"y\":1,\"yref\":\"y\"},{\"font\":{\"color\":\"white\"},\"showarrow\":false,\"text\":\"35.1 - 217\",\"x\":1,\"xref\":\"x\",\"y\":1,\"yref\":\"y\"},{\"font\":{\"color\":\"white\"},\"showarrow\":false,\"text\":\"36.1 - 223\",\"x\":2,\"xref\":\"x\",\"y\":1,\"yref\":\"y\"},{\"font\":{\"color\":\"white\"},\"showarrow\":false,\"text\":\"7.6 - 47\",\"x\":3,\"xref\":\"x\",\"y\":1,\"yref\":\"y\"},{\"font\":{\"color\":\"white\"},\"showarrow\":false,\"text\":\"20.9 - 129\",\"x\":4,\"xref\":\"x\",\"y\":1,\"yref\":\"y\"},{\"font\":{\"color\":\"white\"},\"showarrow\":false,\"text\":\"0.0 - 0\",\"x\":0,\"xref\":\"x\",\"y\":2,\"yref\":\"y\"},{\"font\":{\"color\":\"white\"},\"showarrow\":false,\"text\":\"24.4 - 197\",\"x\":1,\"xref\":\"x\",\"y\":2,\"yref\":\"y\"},{\"font\":{\"color\":\"white\"},\"showarrow\":false,\"text\":\"36.9 - 298\",\"x\":2,\"xref\":\"x\",\"y\":2,\"yref\":\"y\"},{\"font\":{\"color\":\"white\"},\"showarrow\":false,\"text\":\"11.4 - 92\",\"x\":3,\"xref\":\"x\",\"y\":2,\"yref\":\"y\"},{\"font\":{\"color\":\"white\"},\"showarrow\":false,\"text\":\"27.3 - 220\",\"x\":4,\"xref\":\"x\",\"y\":2,\"yref\":\"y\"},{\"font\":{\"color\":\"white\"},\"showarrow\":false,\"text\":\"0.0 - 0\",\"x\":0,\"xref\":\"x\",\"y\":3,\"yref\":\"y\"},{\"font\":{\"color\":\"white\"},\"showarrow\":false,\"text\":\"17.9 - 117\",\"x\":1,\"xref\":\"x\",\"y\":3,\"yref\":\"y\"},{\"font\":{\"color\":\"white\"},\"showarrow\":false,\"text\":\"34.2 - 223\",\"x\":2,\"xref\":\"x\",\"y\":3,\"yref\":\"y\"},{\"font\":{\"color\":\"white\"},\"showarrow\":false,\"text\":\"18.6 - 121\",\"x\":3,\"xref\":\"x\",\"y\":3,\"yref\":\"y\"},{\"font\":{\"color\":\"white\"},\"showarrow\":false,\"text\":\"29.3 - 191\",\"x\":4,\"xref\":\"x\",\"y\":3,\"yref\":\"y\"},{\"font\":{\"color\":\"white\"},\"showarrow\":false,\"text\":\"0.5 - 4\",\"x\":0,\"xref\":\"x\",\"y\":4,\"yref\":\"y\"},{\"font\":{\"color\":\"white\"},\"showarrow\":false,\"text\":\"11.7 - 98\",\"x\":1,\"xref\":\"x\",\"y\":4,\"yref\":\"y\"},{\"font\":{\"color\":\"white\"},\"showarrow\":false,\"text\":\"21.1 - 177\",\"x\":2,\"xref\":\"x\",\"y\":4,\"yref\":\"y\"},{\"font\":{\"color\":\"white\"},\"showarrow\":false,\"text\":\"7.3 - 61\",\"x\":3,\"xref\":\"x\",\"y\":4,\"yref\":\"y\"},{\"font\":{\"color\":\"white\"},\"showarrow\":false,\"text\":\"59.5 - 500\",\"x\":4,\"xref\":\"x\",\"y\":4,\"yref\":\"y\"}],\"height\":800,\"title\":{\"text\":\"Conf Matrix\"},\"width\":800,\"xaxis\":{\"title\":{\"text\":\"Predicted value\"}},\"yaxis\":{\"title\":{\"text\":\"Real value\"}},\"template\":{\"data\":{\"histogram2dcontour\":[{\"type\":\"histogram2dcontour\",\"colorbar\":{\"outlinewidth\":0,\"ticks\":\"\"},\"colorscale\":[[0.0,\"#0d0887\"],[0.1111111111111111,\"#46039f\"],[0.2222222222222222,\"#7201a8\"],[0.3333333333333333,\"#9c179e\"],[0.4444444444444444,\"#bd3786\"],[0.5555555555555556,\"#d8576b\"],[0.6666666666666666,\"#ed7953\"],[0.7777777777777778,\"#fb9f3a\"],[0.8888888888888888,\"#fdca26\"],[1.0,\"#f0f921\"]]}],\"choropleth\":[{\"type\":\"choropleth\",\"colorbar\":{\"outlinewidth\":0,\"ticks\":\"\"}}],\"histogram2d\":[{\"type\":\"histogram2d\",\"colorbar\":{\"outlinewidth\":0,\"ticks\":\"\"},\"colorscale\":[[0.0,\"#0d0887\"],[0.1111111111111111,\"#46039f\"],[0.2222222222222222,\"#7201a8\"],[0.3333333333333333,\"#9c179e\"],[0.4444444444444444,\"#bd3786\"],[0.5555555555555556,\"#d8576b\"],[0.6666666666666666,\"#ed7953\"],[0.7777777777777778,\"#fb9f3a\"],[0.8888888888888888,\"#fdca26\"],[1.0,\"#f0f921\"]]}],\"heatmap\":[{\"type\":\"heatmap\",\"colorbar\":{\"outlinewidth\":0,\"ticks\":\"\"},\"colorscale\":[[0.0,\"#0d0887\"],[0.1111111111111111,\"#46039f\"],[0.2222222222222222,\"#7201a8\"],[0.3333333333333333,\"#9c179e\"],[0.4444444444444444,\"#bd3786\"],[0.5555555555555556,\"#d8576b\"],[0.6666666666666666,\"#ed7953\"],[0.7777777777777778,\"#fb9f3a\"],[0.8888888888888888,\"#fdca26\"],[1.0,\"#f0f921\"]]}],\"heatmapgl\":[{\"type\":\"heatmapgl\",\"colorbar\":{\"outlinewidth\":0,\"ticks\":\"\"},\"colorscale\":[[0.0,\"#0d0887\"],[0.1111111111111111,\"#46039f\"],[0.2222222222222222,\"#7201a8\"],[0.3333333333333333,\"#9c179e\"],[0.4444444444444444,\"#bd3786\"],[0.5555555555555556,\"#d8576b\"],[0.6666666666666666,\"#ed7953\"],[0.7777777777777778,\"#fb9f3a\"],[0.8888888888888888,\"#fdca26\"],[1.0,\"#f0f921\"]]}],\"contourcarpet\":[{\"type\":\"contourcarpet\",\"colorbar\":{\"outlinewidth\":0,\"ticks\":\"\"}}],\"contour\":[{\"type\":\"contour\",\"colorbar\":{\"outlinewidth\":0,\"ticks\":\"\"},\"colorscale\":[[0.0,\"#0d0887\"],[0.1111111111111111,\"#46039f\"],[0.2222222222222222,\"#7201a8\"],[0.3333333333333333,\"#9c179e\"],[0.4444444444444444,\"#bd3786\"],[0.5555555555555556,\"#d8576b\"],[0.6666666666666666,\"#ed7953\"],[0.7777777777777778,\"#fb9f3a\"],[0.8888888888888888,\"#fdca26\"],[1.0,\"#f0f921\"]]}],\"surface\":[{\"type\":\"surface\",\"colorbar\":{\"outlinewidth\":0,\"ticks\":\"\"},\"colorscale\":[[0.0,\"#0d0887\"],[0.1111111111111111,\"#46039f\"],[0.2222222222222222,\"#7201a8\"],[0.3333333333333333,\"#9c179e\"],[0.4444444444444444,\"#bd3786\"],[0.5555555555555556,\"#d8576b\"],[0.6666666666666666,\"#ed7953\"],[0.7777777777777778,\"#fb9f3a\"],[0.8888888888888888,\"#fdca26\"],[1.0,\"#f0f921\"]]}],\"mesh3d\":[{\"type\":\"mesh3d\",\"colorbar\":{\"outlinewidth\":0,\"ticks\":\"\"}}],\"scatter\":[{\"fillpattern\":{\"fillmode\":\"overlay\",\"size\":10,\"solidity\":0.2},\"type\":\"scatter\"}],\"parcoords\":[{\"type\":\"parcoords\",\"line\":{\"colorbar\":{\"outlinewidth\":0,\"ticks\":\"\"}}}],\"scatterpolargl\":[{\"type\":\"scatterpolargl\",\"marker\":{\"colorbar\":{\"outlinewidth\":0,\"ticks\":\"\"}}}],\"bar\":[{\"error_x\":{\"color\":\"#2a3f5f\"},\"error_y\":{\"color\":\"#2a3f5f\"},\"marker\":{\"line\":{\"color\":\"#E5ECF6\",\"width\":0.5},\"pattern\":{\"fillmode\":\"overlay\",\"size\":10,\"solidity\":0.2}},\"type\":\"bar\"}],\"scattergeo\":[{\"type\":\"scattergeo\",\"marker\":{\"colorbar\":{\"outlinewidth\":0,\"ticks\":\"\"}}}],\"scatterpolar\":[{\"type\":\"scatterpolar\",\"marker\":{\"colorbar\":{\"outlinewidth\":0,\"ticks\":\"\"}}}],\"histogram\":[{\"marker\":{\"pattern\":{\"fillmode\":\"overlay\",\"size\":10,\"solidity\":0.2}},\"type\":\"histogram\"}],\"scattergl\":[{\"type\":\"scattergl\",\"marker\":{\"colorbar\":{\"outlinewidth\":0,\"ticks\":\"\"}}}],\"scatter3d\":[{\"type\":\"scatter3d\",\"line\":{\"colorbar\":{\"outlinewidth\":0,\"ticks\":\"\"}},\"marker\":{\"colorbar\":{\"outlinewidth\":0,\"ticks\":\"\"}}}],\"scattermapbox\":[{\"type\":\"scattermapbox\",\"marker\":{\"colorbar\":{\"outlinewidth\":0,\"ticks\":\"\"}}}],\"scatterternary\":[{\"type\":\"scatterternary\",\"marker\":{\"colorbar\":{\"outlinewidth\":0,\"ticks\":\"\"}}}],\"scattercarpet\":[{\"type\":\"scattercarpet\",\"marker\":{\"colorbar\":{\"outlinewidth\":0,\"ticks\":\"\"}}}],\"carpet\":[{\"aaxis\":{\"endlinecolor\":\"#2a3f5f\",\"gridcolor\":\"white\",\"linecolor\":\"white\",\"minorgridcolor\":\"white\",\"startlinecolor\":\"#2a3f5f\"},\"baxis\":{\"endlinecolor\":\"#2a3f5f\",\"gridcolor\":\"white\",\"linecolor\":\"white\",\"minorgridcolor\":\"white\",\"startlinecolor\":\"#2a3f5f\"},\"type\":\"carpet\"}],\"table\":[{\"cells\":{\"fill\":{\"color\":\"#EBF0F8\"},\"line\":{\"color\":\"white\"}},\"header\":{\"fill\":{\"color\":\"#C8D4E3\"},\"line\":{\"color\":\"white\"}},\"type\":\"table\"}],\"barpolar\":[{\"marker\":{\"line\":{\"color\":\"#E5ECF6\",\"width\":0.5},\"pattern\":{\"fillmode\":\"overlay\",\"size\":10,\"solidity\":0.2}},\"type\":\"barpolar\"}],\"pie\":[{\"automargin\":true,\"type\":\"pie\"}]},\"layout\":{\"autotypenumbers\":\"strict\",\"colorway\":[\"#636efa\",\"#EF553B\",\"#00cc96\",\"#ab63fa\",\"#FFA15A\",\"#19d3f3\",\"#FF6692\",\"#B6E880\",\"#FF97FF\",\"#FECB52\"],\"font\":{\"color\":\"#2a3f5f\"},\"hovermode\":\"closest\",\"hoverlabel\":{\"align\":\"left\"},\"paper_bgcolor\":\"white\",\"plot_bgcolor\":\"#E5ECF6\",\"polar\":{\"bgcolor\":\"#E5ECF6\",\"angularaxis\":{\"gridcolor\":\"white\",\"linecolor\":\"white\",\"ticks\":\"\"},\"radialaxis\":{\"gridcolor\":\"white\",\"linecolor\":\"white\",\"ticks\":\"\"}},\"ternary\":{\"bgcolor\":\"#E5ECF6\",\"aaxis\":{\"gridcolor\":\"white\",\"linecolor\":\"white\",\"ticks\":\"\"},\"baxis\":{\"gridcolor\":\"white\",\"linecolor\":\"white\",\"ticks\":\"\"},\"caxis\":{\"gridcolor\":\"white\",\"linecolor\":\"white\",\"ticks\":\"\"}},\"coloraxis\":{\"colorbar\":{\"outlinewidth\":0,\"ticks\":\"\"}},\"colorscale\":{\"sequential\":[[0.0,\"#0d0887\"],[0.1111111111111111,\"#46039f\"],[0.2222222222222222,\"#7201a8\"],[0.3333333333333333,\"#9c179e\"],[0.4444444444444444,\"#bd3786\"],[0.5555555555555556,\"#d8576b\"],[0.6666666666666666,\"#ed7953\"],[0.7777777777777778,\"#fb9f3a\"],[0.8888888888888888,\"#fdca26\"],[1.0,\"#f0f921\"]],\"sequentialminus\":[[0.0,\"#0d0887\"],[0.1111111111111111,\"#46039f\"],[0.2222222222222222,\"#7201a8\"],[0.3333333333333333,\"#9c179e\"],[0.4444444444444444,\"#bd3786\"],[0.5555555555555556,\"#d8576b\"],[0.6666666666666666,\"#ed7953\"],[0.7777777777777778,\"#fb9f3a\"],[0.8888888888888888,\"#fdca26\"],[1.0,\"#f0f921\"]],\"diverging\":[[0,\"#8e0152\"],[0.1,\"#c51b7d\"],[0.2,\"#de77ae\"],[0.3,\"#f1b6da\"],[0.4,\"#fde0ef\"],[0.5,\"#f7f7f7\"],[0.6,\"#e6f5d0\"],[0.7,\"#b8e186\"],[0.8,\"#7fbc41\"],[0.9,\"#4d9221\"],[1,\"#276419\"]]},\"xaxis\":{\"gridcolor\":\"white\",\"linecolor\":\"white\",\"ticks\":\"\",\"title\":{\"standoff\":15},\"zerolinecolor\":\"white\",\"automargin\":true,\"zerolinewidth\":2},\"yaxis\":{\"gridcolor\":\"white\",\"linecolor\":\"white\",\"ticks\":\"\",\"title\":{\"standoff\":15},\"zerolinecolor\":\"white\",\"automargin\":true,\"zerolinewidth\":2},\"scene\":{\"xaxis\":{\"backgroundcolor\":\"#E5ECF6\",\"gridcolor\":\"white\",\"linecolor\":\"white\",\"showbackground\":true,\"ticks\":\"\",\"zerolinecolor\":\"white\",\"gridwidth\":2},\"yaxis\":{\"backgroundcolor\":\"#E5ECF6\",\"gridcolor\":\"white\",\"linecolor\":\"white\",\"showbackground\":true,\"ticks\":\"\",\"zerolinecolor\":\"white\",\"gridwidth\":2},\"zaxis\":{\"backgroundcolor\":\"#E5ECF6\",\"gridcolor\":\"white\",\"linecolor\":\"white\",\"showbackground\":true,\"ticks\":\"\",\"zerolinecolor\":\"white\",\"gridwidth\":2}},\"shapedefaults\":{\"line\":{\"color\":\"#2a3f5f\"}},\"annotationdefaults\":{\"arrowcolor\":\"#2a3f5f\",\"arrowhead\":0,\"arrowwidth\":1},\"geo\":{\"bgcolor\":\"white\",\"landcolor\":\"#E5ECF6\",\"subunitcolor\":\"white\",\"showland\":true,\"showlakes\":true,\"lakecolor\":\"white\"},\"title\":{\"x\":0.05},\"mapbox\":{\"style\":\"light\"}}}},                        {\"responsive\": true}                    ).then(function(){\n",
       "                            \n",
       "var gd = document.getElementById('683c770d-d78b-4638-8ff3-cbaf3e5e44a5');\n",
       "var x = new MutationObserver(function (mutations, observer) {{\n",
       "        var display = window.getComputedStyle(gd).display;\n",
       "        if (!display || display === 'none') {{\n",
       "            console.log([gd, 'removed!']);\n",
       "            Plotly.purge(gd);\n",
       "            observer.disconnect();\n",
       "        }}\n",
       "}});\n",
       "\n",
       "// Listen for the removal of the full notebook cells\n",
       "var notebookContainer = gd.closest('#notebook-container');\n",
       "if (notebookContainer) {{\n",
       "    x.observe(notebookContainer, {childList: true});\n",
       "}}\n",
       "\n",
       "// Listen for the clearing of the current output cell\n",
       "var outputEl = gd.closest('.output');\n",
       "if (outputEl) {{\n",
       "    x.observe(outputEl, {childList: true});\n",
       "}}\n",
       "\n",
       "                        })                };                });            </script>        </div>"
      ]
     },
     "metadata": {},
     "output_type": "display_data"
    }
   ],
   "source": [
    "#Muestro la matriz de confusión\n",
    "display(plot_confusion_matrix(y_test,y_pred))"
   ]
  },
  {
   "cell_type": "code",
   "execution_count": 52,
   "metadata": {},
   "outputs": [
    {
     "data": {
      "text/plain": [
       "1.0"
      ]
     },
     "execution_count": 52,
     "metadata": {},
     "output_type": "execute_result"
    }
   ],
   "source": [
    "#Vamos a ponewr en perspectiva el score de Kappa\n",
    "\n",
    "\n",
    "#Cual es el score perfecto? Evaluo la clase real contra si misma. Es decir, el caso en que el modelo establece todas las clases en su valor real\n",
    "cohen_kappa_score(y_test,y_test, weights = 'quadratic')"
   ]
  },
  {
   "cell_type": "code",
   "execution_count": 53,
   "metadata": {},
   "outputs": [
    {
     "data": {
      "application/vnd.plotly.v1+json": {
       "config": {
        "plotlyServerURL": "https://plot.ly"
       },
       "data": [
        {
         "type": "heatmap",
         "x": [
          0,
          1,
          2,
          3,
          4
         ],
         "y": [
          0,
          1,
          2,
          3,
          4
         ],
         "z": [
          [
           100,
           0,
           0,
           0,
           0
          ],
          [
           0,
           100,
           0,
           0,
           0
          ],
          [
           0,
           0,
           100,
           0,
           0
          ],
          [
           0,
           0,
           0,
           100,
           0
          ],
          [
           0,
           0,
           0,
           0,
           100
          ]
         ]
        }
       ],
       "layout": {
        "annotations": [
         {
          "font": {
           "color": "white"
          },
          "showarrow": false,
          "text": "100.0 - 82",
          "x": 0,
          "xref": "x",
          "y": 0,
          "yref": "y"
         },
         {
          "font": {
           "color": "white"
          },
          "showarrow": false,
          "text": "0.0 - 0",
          "x": 1,
          "xref": "x",
          "y": 0,
          "yref": "y"
         },
         {
          "font": {
           "color": "white"
          },
          "showarrow": false,
          "text": "0.0 - 0",
          "x": 2,
          "xref": "x",
          "y": 0,
          "yref": "y"
         },
         {
          "font": {
           "color": "white"
          },
          "showarrow": false,
          "text": "0.0 - 0",
          "x": 3,
          "xref": "x",
          "y": 0,
          "yref": "y"
         },
         {
          "font": {
           "color": "white"
          },
          "showarrow": false,
          "text": "0.0 - 0",
          "x": 4,
          "xref": "x",
          "y": 0,
          "yref": "y"
         },
         {
          "font": {
           "color": "white"
          },
          "showarrow": false,
          "text": "0.0 - 0",
          "x": 0,
          "xref": "x",
          "y": 1,
          "yref": "y"
         },
         {
          "font": {
           "color": "white"
          },
          "showarrow": false,
          "text": "100.0 - 618",
          "x": 1,
          "xref": "x",
          "y": 1,
          "yref": "y"
         },
         {
          "font": {
           "color": "white"
          },
          "showarrow": false,
          "text": "0.0 - 0",
          "x": 2,
          "xref": "x",
          "y": 1,
          "yref": "y"
         },
         {
          "font": {
           "color": "white"
          },
          "showarrow": false,
          "text": "0.0 - 0",
          "x": 3,
          "xref": "x",
          "y": 1,
          "yref": "y"
         },
         {
          "font": {
           "color": "white"
          },
          "showarrow": false,
          "text": "0.0 - 0",
          "x": 4,
          "xref": "x",
          "y": 1,
          "yref": "y"
         },
         {
          "font": {
           "color": "white"
          },
          "showarrow": false,
          "text": "0.0 - 0",
          "x": 0,
          "xref": "x",
          "y": 2,
          "yref": "y"
         },
         {
          "font": {
           "color": "white"
          },
          "showarrow": false,
          "text": "0.0 - 0",
          "x": 1,
          "xref": "x",
          "y": 2,
          "yref": "y"
         },
         {
          "font": {
           "color": "white"
          },
          "showarrow": false,
          "text": "100.0 - 807",
          "x": 2,
          "xref": "x",
          "y": 2,
          "yref": "y"
         },
         {
          "font": {
           "color": "white"
          },
          "showarrow": false,
          "text": "0.0 - 0",
          "x": 3,
          "xref": "x",
          "y": 2,
          "yref": "y"
         },
         {
          "font": {
           "color": "white"
          },
          "showarrow": false,
          "text": "0.0 - 0",
          "x": 4,
          "xref": "x",
          "y": 2,
          "yref": "y"
         },
         {
          "font": {
           "color": "white"
          },
          "showarrow": false,
          "text": "0.0 - 0",
          "x": 0,
          "xref": "x",
          "y": 3,
          "yref": "y"
         },
         {
          "font": {
           "color": "white"
          },
          "showarrow": false,
          "text": "0.0 - 0",
          "x": 1,
          "xref": "x",
          "y": 3,
          "yref": "y"
         },
         {
          "font": {
           "color": "white"
          },
          "showarrow": false,
          "text": "0.0 - 0",
          "x": 2,
          "xref": "x",
          "y": 3,
          "yref": "y"
         },
         {
          "font": {
           "color": "white"
          },
          "showarrow": false,
          "text": "100.0 - 652",
          "x": 3,
          "xref": "x",
          "y": 3,
          "yref": "y"
         },
         {
          "font": {
           "color": "white"
          },
          "showarrow": false,
          "text": "0.0 - 0",
          "x": 4,
          "xref": "x",
          "y": 3,
          "yref": "y"
         },
         {
          "font": {
           "color": "white"
          },
          "showarrow": false,
          "text": "0.0 - 0",
          "x": 0,
          "xref": "x",
          "y": 4,
          "yref": "y"
         },
         {
          "font": {
           "color": "white"
          },
          "showarrow": false,
          "text": "0.0 - 0",
          "x": 1,
          "xref": "x",
          "y": 4,
          "yref": "y"
         },
         {
          "font": {
           "color": "white"
          },
          "showarrow": false,
          "text": "0.0 - 0",
          "x": 2,
          "xref": "x",
          "y": 4,
          "yref": "y"
         },
         {
          "font": {
           "color": "white"
          },
          "showarrow": false,
          "text": "0.0 - 0",
          "x": 3,
          "xref": "x",
          "y": 4,
          "yref": "y"
         },
         {
          "font": {
           "color": "white"
          },
          "showarrow": false,
          "text": "100.0 - 840",
          "x": 4,
          "xref": "x",
          "y": 4,
          "yref": "y"
         }
        ],
        "height": 800,
        "template": {
         "data": {
          "bar": [
           {
            "error_x": {
             "color": "#2a3f5f"
            },
            "error_y": {
             "color": "#2a3f5f"
            },
            "marker": {
             "line": {
              "color": "#E5ECF6",
              "width": 0.5
             },
             "pattern": {
              "fillmode": "overlay",
              "size": 10,
              "solidity": 0.2
             }
            },
            "type": "bar"
           }
          ],
          "barpolar": [
           {
            "marker": {
             "line": {
              "color": "#E5ECF6",
              "width": 0.5
             },
             "pattern": {
              "fillmode": "overlay",
              "size": 10,
              "solidity": 0.2
             }
            },
            "type": "barpolar"
           }
          ],
          "carpet": [
           {
            "aaxis": {
             "endlinecolor": "#2a3f5f",
             "gridcolor": "white",
             "linecolor": "white",
             "minorgridcolor": "white",
             "startlinecolor": "#2a3f5f"
            },
            "baxis": {
             "endlinecolor": "#2a3f5f",
             "gridcolor": "white",
             "linecolor": "white",
             "minorgridcolor": "white",
             "startlinecolor": "#2a3f5f"
            },
            "type": "carpet"
           }
          ],
          "choropleth": [
           {
            "colorbar": {
             "outlinewidth": 0,
             "ticks": ""
            },
            "type": "choropleth"
           }
          ],
          "contour": [
           {
            "colorbar": {
             "outlinewidth": 0,
             "ticks": ""
            },
            "colorscale": [
             [
              0,
              "#0d0887"
             ],
             [
              0.1111111111111111,
              "#46039f"
             ],
             [
              0.2222222222222222,
              "#7201a8"
             ],
             [
              0.3333333333333333,
              "#9c179e"
             ],
             [
              0.4444444444444444,
              "#bd3786"
             ],
             [
              0.5555555555555556,
              "#d8576b"
             ],
             [
              0.6666666666666666,
              "#ed7953"
             ],
             [
              0.7777777777777778,
              "#fb9f3a"
             ],
             [
              0.8888888888888888,
              "#fdca26"
             ],
             [
              1,
              "#f0f921"
             ]
            ],
            "type": "contour"
           }
          ],
          "contourcarpet": [
           {
            "colorbar": {
             "outlinewidth": 0,
             "ticks": ""
            },
            "type": "contourcarpet"
           }
          ],
          "heatmap": [
           {
            "colorbar": {
             "outlinewidth": 0,
             "ticks": ""
            },
            "colorscale": [
             [
              0,
              "#0d0887"
             ],
             [
              0.1111111111111111,
              "#46039f"
             ],
             [
              0.2222222222222222,
              "#7201a8"
             ],
             [
              0.3333333333333333,
              "#9c179e"
             ],
             [
              0.4444444444444444,
              "#bd3786"
             ],
             [
              0.5555555555555556,
              "#d8576b"
             ],
             [
              0.6666666666666666,
              "#ed7953"
             ],
             [
              0.7777777777777778,
              "#fb9f3a"
             ],
             [
              0.8888888888888888,
              "#fdca26"
             ],
             [
              1,
              "#f0f921"
             ]
            ],
            "type": "heatmap"
           }
          ],
          "heatmapgl": [
           {
            "colorbar": {
             "outlinewidth": 0,
             "ticks": ""
            },
            "colorscale": [
             [
              0,
              "#0d0887"
             ],
             [
              0.1111111111111111,
              "#46039f"
             ],
             [
              0.2222222222222222,
              "#7201a8"
             ],
             [
              0.3333333333333333,
              "#9c179e"
             ],
             [
              0.4444444444444444,
              "#bd3786"
             ],
             [
              0.5555555555555556,
              "#d8576b"
             ],
             [
              0.6666666666666666,
              "#ed7953"
             ],
             [
              0.7777777777777778,
              "#fb9f3a"
             ],
             [
              0.8888888888888888,
              "#fdca26"
             ],
             [
              1,
              "#f0f921"
             ]
            ],
            "type": "heatmapgl"
           }
          ],
          "histogram": [
           {
            "marker": {
             "pattern": {
              "fillmode": "overlay",
              "size": 10,
              "solidity": 0.2
             }
            },
            "type": "histogram"
           }
          ],
          "histogram2d": [
           {
            "colorbar": {
             "outlinewidth": 0,
             "ticks": ""
            },
            "colorscale": [
             [
              0,
              "#0d0887"
             ],
             [
              0.1111111111111111,
              "#46039f"
             ],
             [
              0.2222222222222222,
              "#7201a8"
             ],
             [
              0.3333333333333333,
              "#9c179e"
             ],
             [
              0.4444444444444444,
              "#bd3786"
             ],
             [
              0.5555555555555556,
              "#d8576b"
             ],
             [
              0.6666666666666666,
              "#ed7953"
             ],
             [
              0.7777777777777778,
              "#fb9f3a"
             ],
             [
              0.8888888888888888,
              "#fdca26"
             ],
             [
              1,
              "#f0f921"
             ]
            ],
            "type": "histogram2d"
           }
          ],
          "histogram2dcontour": [
           {
            "colorbar": {
             "outlinewidth": 0,
             "ticks": ""
            },
            "colorscale": [
             [
              0,
              "#0d0887"
             ],
             [
              0.1111111111111111,
              "#46039f"
             ],
             [
              0.2222222222222222,
              "#7201a8"
             ],
             [
              0.3333333333333333,
              "#9c179e"
             ],
             [
              0.4444444444444444,
              "#bd3786"
             ],
             [
              0.5555555555555556,
              "#d8576b"
             ],
             [
              0.6666666666666666,
              "#ed7953"
             ],
             [
              0.7777777777777778,
              "#fb9f3a"
             ],
             [
              0.8888888888888888,
              "#fdca26"
             ],
             [
              1,
              "#f0f921"
             ]
            ],
            "type": "histogram2dcontour"
           }
          ],
          "mesh3d": [
           {
            "colorbar": {
             "outlinewidth": 0,
             "ticks": ""
            },
            "type": "mesh3d"
           }
          ],
          "parcoords": [
           {
            "line": {
             "colorbar": {
              "outlinewidth": 0,
              "ticks": ""
             }
            },
            "type": "parcoords"
           }
          ],
          "pie": [
           {
            "automargin": true,
            "type": "pie"
           }
          ],
          "scatter": [
           {
            "fillpattern": {
             "fillmode": "overlay",
             "size": 10,
             "solidity": 0.2
            },
            "type": "scatter"
           }
          ],
          "scatter3d": [
           {
            "line": {
             "colorbar": {
              "outlinewidth": 0,
              "ticks": ""
             }
            },
            "marker": {
             "colorbar": {
              "outlinewidth": 0,
              "ticks": ""
             }
            },
            "type": "scatter3d"
           }
          ],
          "scattercarpet": [
           {
            "marker": {
             "colorbar": {
              "outlinewidth": 0,
              "ticks": ""
             }
            },
            "type": "scattercarpet"
           }
          ],
          "scattergeo": [
           {
            "marker": {
             "colorbar": {
              "outlinewidth": 0,
              "ticks": ""
             }
            },
            "type": "scattergeo"
           }
          ],
          "scattergl": [
           {
            "marker": {
             "colorbar": {
              "outlinewidth": 0,
              "ticks": ""
             }
            },
            "type": "scattergl"
           }
          ],
          "scattermapbox": [
           {
            "marker": {
             "colorbar": {
              "outlinewidth": 0,
              "ticks": ""
             }
            },
            "type": "scattermapbox"
           }
          ],
          "scatterpolar": [
           {
            "marker": {
             "colorbar": {
              "outlinewidth": 0,
              "ticks": ""
             }
            },
            "type": "scatterpolar"
           }
          ],
          "scatterpolargl": [
           {
            "marker": {
             "colorbar": {
              "outlinewidth": 0,
              "ticks": ""
             }
            },
            "type": "scatterpolargl"
           }
          ],
          "scatterternary": [
           {
            "marker": {
             "colorbar": {
              "outlinewidth": 0,
              "ticks": ""
             }
            },
            "type": "scatterternary"
           }
          ],
          "surface": [
           {
            "colorbar": {
             "outlinewidth": 0,
             "ticks": ""
            },
            "colorscale": [
             [
              0,
              "#0d0887"
             ],
             [
              0.1111111111111111,
              "#46039f"
             ],
             [
              0.2222222222222222,
              "#7201a8"
             ],
             [
              0.3333333333333333,
              "#9c179e"
             ],
             [
              0.4444444444444444,
              "#bd3786"
             ],
             [
              0.5555555555555556,
              "#d8576b"
             ],
             [
              0.6666666666666666,
              "#ed7953"
             ],
             [
              0.7777777777777778,
              "#fb9f3a"
             ],
             [
              0.8888888888888888,
              "#fdca26"
             ],
             [
              1,
              "#f0f921"
             ]
            ],
            "type": "surface"
           }
          ],
          "table": [
           {
            "cells": {
             "fill": {
              "color": "#EBF0F8"
             },
             "line": {
              "color": "white"
             }
            },
            "header": {
             "fill": {
              "color": "#C8D4E3"
             },
             "line": {
              "color": "white"
             }
            },
            "type": "table"
           }
          ]
         },
         "layout": {
          "annotationdefaults": {
           "arrowcolor": "#2a3f5f",
           "arrowhead": 0,
           "arrowwidth": 1
          },
          "autotypenumbers": "strict",
          "coloraxis": {
           "colorbar": {
            "outlinewidth": 0,
            "ticks": ""
           }
          },
          "colorscale": {
           "diverging": [
            [
             0,
             "#8e0152"
            ],
            [
             0.1,
             "#c51b7d"
            ],
            [
             0.2,
             "#de77ae"
            ],
            [
             0.3,
             "#f1b6da"
            ],
            [
             0.4,
             "#fde0ef"
            ],
            [
             0.5,
             "#f7f7f7"
            ],
            [
             0.6,
             "#e6f5d0"
            ],
            [
             0.7,
             "#b8e186"
            ],
            [
             0.8,
             "#7fbc41"
            ],
            [
             0.9,
             "#4d9221"
            ],
            [
             1,
             "#276419"
            ]
           ],
           "sequential": [
            [
             0,
             "#0d0887"
            ],
            [
             0.1111111111111111,
             "#46039f"
            ],
            [
             0.2222222222222222,
             "#7201a8"
            ],
            [
             0.3333333333333333,
             "#9c179e"
            ],
            [
             0.4444444444444444,
             "#bd3786"
            ],
            [
             0.5555555555555556,
             "#d8576b"
            ],
            [
             0.6666666666666666,
             "#ed7953"
            ],
            [
             0.7777777777777778,
             "#fb9f3a"
            ],
            [
             0.8888888888888888,
             "#fdca26"
            ],
            [
             1,
             "#f0f921"
            ]
           ],
           "sequentialminus": [
            [
             0,
             "#0d0887"
            ],
            [
             0.1111111111111111,
             "#46039f"
            ],
            [
             0.2222222222222222,
             "#7201a8"
            ],
            [
             0.3333333333333333,
             "#9c179e"
            ],
            [
             0.4444444444444444,
             "#bd3786"
            ],
            [
             0.5555555555555556,
             "#d8576b"
            ],
            [
             0.6666666666666666,
             "#ed7953"
            ],
            [
             0.7777777777777778,
             "#fb9f3a"
            ],
            [
             0.8888888888888888,
             "#fdca26"
            ],
            [
             1,
             "#f0f921"
            ]
           ]
          },
          "colorway": [
           "#636efa",
           "#EF553B",
           "#00cc96",
           "#ab63fa",
           "#FFA15A",
           "#19d3f3",
           "#FF6692",
           "#B6E880",
           "#FF97FF",
           "#FECB52"
          ],
          "font": {
           "color": "#2a3f5f"
          },
          "geo": {
           "bgcolor": "white",
           "lakecolor": "white",
           "landcolor": "#E5ECF6",
           "showlakes": true,
           "showland": true,
           "subunitcolor": "white"
          },
          "hoverlabel": {
           "align": "left"
          },
          "hovermode": "closest",
          "mapbox": {
           "style": "light"
          },
          "paper_bgcolor": "white",
          "plot_bgcolor": "#E5ECF6",
          "polar": {
           "angularaxis": {
            "gridcolor": "white",
            "linecolor": "white",
            "ticks": ""
           },
           "bgcolor": "#E5ECF6",
           "radialaxis": {
            "gridcolor": "white",
            "linecolor": "white",
            "ticks": ""
           }
          },
          "scene": {
           "xaxis": {
            "backgroundcolor": "#E5ECF6",
            "gridcolor": "white",
            "gridwidth": 2,
            "linecolor": "white",
            "showbackground": true,
            "ticks": "",
            "zerolinecolor": "white"
           },
           "yaxis": {
            "backgroundcolor": "#E5ECF6",
            "gridcolor": "white",
            "gridwidth": 2,
            "linecolor": "white",
            "showbackground": true,
            "ticks": "",
            "zerolinecolor": "white"
           },
           "zaxis": {
            "backgroundcolor": "#E5ECF6",
            "gridcolor": "white",
            "gridwidth": 2,
            "linecolor": "white",
            "showbackground": true,
            "ticks": "",
            "zerolinecolor": "white"
           }
          },
          "shapedefaults": {
           "line": {
            "color": "#2a3f5f"
           }
          },
          "ternary": {
           "aaxis": {
            "gridcolor": "white",
            "linecolor": "white",
            "ticks": ""
           },
           "baxis": {
            "gridcolor": "white",
            "linecolor": "white",
            "ticks": ""
           },
           "bgcolor": "#E5ECF6",
           "caxis": {
            "gridcolor": "white",
            "linecolor": "white",
            "ticks": ""
           }
          },
          "title": {
           "x": 0.05
          },
          "xaxis": {
           "automargin": true,
           "gridcolor": "white",
           "linecolor": "white",
           "ticks": "",
           "title": {
            "standoff": 15
           },
           "zerolinecolor": "white",
           "zerolinewidth": 2
          },
          "yaxis": {
           "automargin": true,
           "gridcolor": "white",
           "linecolor": "white",
           "ticks": "",
           "title": {
            "standoff": 15
           },
           "zerolinecolor": "white",
           "zerolinewidth": 2
          }
         }
        },
        "title": {
         "text": "Conf Matrix"
        },
        "width": 800,
        "xaxis": {
         "title": {
          "text": "Predicted value"
         }
        },
        "yaxis": {
         "title": {
          "text": "Real value"
         }
        }
       }
      },
      "text/html": [
       "<div>                            <div id=\"2d36162c-ed16-421b-9d9c-76339ca9f6da\" class=\"plotly-graph-div\" style=\"height:800px; width:800px;\"></div>            <script type=\"text/javascript\">                require([\"plotly\"], function(Plotly) {                    window.PLOTLYENV=window.PLOTLYENV || {};                                    if (document.getElementById(\"2d36162c-ed16-421b-9d9c-76339ca9f6da\")) {                    Plotly.newPlot(                        \"2d36162c-ed16-421b-9d9c-76339ca9f6da\",                        [{\"x\":[0,1,2,3,4],\"y\":[0,1,2,3,4],\"z\":[[100.0,0.0,0.0,0.0,0.0],[0.0,100.0,0.0,0.0,0.0],[0.0,0.0,100.0,0.0,0.0],[0.0,0.0,0.0,100.0,0.0],[0.0,0.0,0.0,0.0,100.0]],\"type\":\"heatmap\"}],                        {\"annotations\":[{\"font\":{\"color\":\"white\"},\"showarrow\":false,\"text\":\"100.0 - 82\",\"x\":0,\"xref\":\"x\",\"y\":0,\"yref\":\"y\"},{\"font\":{\"color\":\"white\"},\"showarrow\":false,\"text\":\"0.0 - 0\",\"x\":1,\"xref\":\"x\",\"y\":0,\"yref\":\"y\"},{\"font\":{\"color\":\"white\"},\"showarrow\":false,\"text\":\"0.0 - 0\",\"x\":2,\"xref\":\"x\",\"y\":0,\"yref\":\"y\"},{\"font\":{\"color\":\"white\"},\"showarrow\":false,\"text\":\"0.0 - 0\",\"x\":3,\"xref\":\"x\",\"y\":0,\"yref\":\"y\"},{\"font\":{\"color\":\"white\"},\"showarrow\":false,\"text\":\"0.0 - 0\",\"x\":4,\"xref\":\"x\",\"y\":0,\"yref\":\"y\"},{\"font\":{\"color\":\"white\"},\"showarrow\":false,\"text\":\"0.0 - 0\",\"x\":0,\"xref\":\"x\",\"y\":1,\"yref\":\"y\"},{\"font\":{\"color\":\"white\"},\"showarrow\":false,\"text\":\"100.0 - 618\",\"x\":1,\"xref\":\"x\",\"y\":1,\"yref\":\"y\"},{\"font\":{\"color\":\"white\"},\"showarrow\":false,\"text\":\"0.0 - 0\",\"x\":2,\"xref\":\"x\",\"y\":1,\"yref\":\"y\"},{\"font\":{\"color\":\"white\"},\"showarrow\":false,\"text\":\"0.0 - 0\",\"x\":3,\"xref\":\"x\",\"y\":1,\"yref\":\"y\"},{\"font\":{\"color\":\"white\"},\"showarrow\":false,\"text\":\"0.0 - 0\",\"x\":4,\"xref\":\"x\",\"y\":1,\"yref\":\"y\"},{\"font\":{\"color\":\"white\"},\"showarrow\":false,\"text\":\"0.0 - 0\",\"x\":0,\"xref\":\"x\",\"y\":2,\"yref\":\"y\"},{\"font\":{\"color\":\"white\"},\"showarrow\":false,\"text\":\"0.0 - 0\",\"x\":1,\"xref\":\"x\",\"y\":2,\"yref\":\"y\"},{\"font\":{\"color\":\"white\"},\"showarrow\":false,\"text\":\"100.0 - 807\",\"x\":2,\"xref\":\"x\",\"y\":2,\"yref\":\"y\"},{\"font\":{\"color\":\"white\"},\"showarrow\":false,\"text\":\"0.0 - 0\",\"x\":3,\"xref\":\"x\",\"y\":2,\"yref\":\"y\"},{\"font\":{\"color\":\"white\"},\"showarrow\":false,\"text\":\"0.0 - 0\",\"x\":4,\"xref\":\"x\",\"y\":2,\"yref\":\"y\"},{\"font\":{\"color\":\"white\"},\"showarrow\":false,\"text\":\"0.0 - 0\",\"x\":0,\"xref\":\"x\",\"y\":3,\"yref\":\"y\"},{\"font\":{\"color\":\"white\"},\"showarrow\":false,\"text\":\"0.0 - 0\",\"x\":1,\"xref\":\"x\",\"y\":3,\"yref\":\"y\"},{\"font\":{\"color\":\"white\"},\"showarrow\":false,\"text\":\"0.0 - 0\",\"x\":2,\"xref\":\"x\",\"y\":3,\"yref\":\"y\"},{\"font\":{\"color\":\"white\"},\"showarrow\":false,\"text\":\"100.0 - 652\",\"x\":3,\"xref\":\"x\",\"y\":3,\"yref\":\"y\"},{\"font\":{\"color\":\"white\"},\"showarrow\":false,\"text\":\"0.0 - 0\",\"x\":4,\"xref\":\"x\",\"y\":3,\"yref\":\"y\"},{\"font\":{\"color\":\"white\"},\"showarrow\":false,\"text\":\"0.0 - 0\",\"x\":0,\"xref\":\"x\",\"y\":4,\"yref\":\"y\"},{\"font\":{\"color\":\"white\"},\"showarrow\":false,\"text\":\"0.0 - 0\",\"x\":1,\"xref\":\"x\",\"y\":4,\"yref\":\"y\"},{\"font\":{\"color\":\"white\"},\"showarrow\":false,\"text\":\"0.0 - 0\",\"x\":2,\"xref\":\"x\",\"y\":4,\"yref\":\"y\"},{\"font\":{\"color\":\"white\"},\"showarrow\":false,\"text\":\"0.0 - 0\",\"x\":3,\"xref\":\"x\",\"y\":4,\"yref\":\"y\"},{\"font\":{\"color\":\"white\"},\"showarrow\":false,\"text\":\"100.0 - 840\",\"x\":4,\"xref\":\"x\",\"y\":4,\"yref\":\"y\"}],\"height\":800,\"title\":{\"text\":\"Conf Matrix\"},\"width\":800,\"xaxis\":{\"title\":{\"text\":\"Predicted value\"}},\"yaxis\":{\"title\":{\"text\":\"Real value\"}},\"template\":{\"data\":{\"histogram2dcontour\":[{\"type\":\"histogram2dcontour\",\"colorbar\":{\"outlinewidth\":0,\"ticks\":\"\"},\"colorscale\":[[0.0,\"#0d0887\"],[0.1111111111111111,\"#46039f\"],[0.2222222222222222,\"#7201a8\"],[0.3333333333333333,\"#9c179e\"],[0.4444444444444444,\"#bd3786\"],[0.5555555555555556,\"#d8576b\"],[0.6666666666666666,\"#ed7953\"],[0.7777777777777778,\"#fb9f3a\"],[0.8888888888888888,\"#fdca26\"],[1.0,\"#f0f921\"]]}],\"choropleth\":[{\"type\":\"choropleth\",\"colorbar\":{\"outlinewidth\":0,\"ticks\":\"\"}}],\"histogram2d\":[{\"type\":\"histogram2d\",\"colorbar\":{\"outlinewidth\":0,\"ticks\":\"\"},\"colorscale\":[[0.0,\"#0d0887\"],[0.1111111111111111,\"#46039f\"],[0.2222222222222222,\"#7201a8\"],[0.3333333333333333,\"#9c179e\"],[0.4444444444444444,\"#bd3786\"],[0.5555555555555556,\"#d8576b\"],[0.6666666666666666,\"#ed7953\"],[0.7777777777777778,\"#fb9f3a\"],[0.8888888888888888,\"#fdca26\"],[1.0,\"#f0f921\"]]}],\"heatmap\":[{\"type\":\"heatmap\",\"colorbar\":{\"outlinewidth\":0,\"ticks\":\"\"},\"colorscale\":[[0.0,\"#0d0887\"],[0.1111111111111111,\"#46039f\"],[0.2222222222222222,\"#7201a8\"],[0.3333333333333333,\"#9c179e\"],[0.4444444444444444,\"#bd3786\"],[0.5555555555555556,\"#d8576b\"],[0.6666666666666666,\"#ed7953\"],[0.7777777777777778,\"#fb9f3a\"],[0.8888888888888888,\"#fdca26\"],[1.0,\"#f0f921\"]]}],\"heatmapgl\":[{\"type\":\"heatmapgl\",\"colorbar\":{\"outlinewidth\":0,\"ticks\":\"\"},\"colorscale\":[[0.0,\"#0d0887\"],[0.1111111111111111,\"#46039f\"],[0.2222222222222222,\"#7201a8\"],[0.3333333333333333,\"#9c179e\"],[0.4444444444444444,\"#bd3786\"],[0.5555555555555556,\"#d8576b\"],[0.6666666666666666,\"#ed7953\"],[0.7777777777777778,\"#fb9f3a\"],[0.8888888888888888,\"#fdca26\"],[1.0,\"#f0f921\"]]}],\"contourcarpet\":[{\"type\":\"contourcarpet\",\"colorbar\":{\"outlinewidth\":0,\"ticks\":\"\"}}],\"contour\":[{\"type\":\"contour\",\"colorbar\":{\"outlinewidth\":0,\"ticks\":\"\"},\"colorscale\":[[0.0,\"#0d0887\"],[0.1111111111111111,\"#46039f\"],[0.2222222222222222,\"#7201a8\"],[0.3333333333333333,\"#9c179e\"],[0.4444444444444444,\"#bd3786\"],[0.5555555555555556,\"#d8576b\"],[0.6666666666666666,\"#ed7953\"],[0.7777777777777778,\"#fb9f3a\"],[0.8888888888888888,\"#fdca26\"],[1.0,\"#f0f921\"]]}],\"surface\":[{\"type\":\"surface\",\"colorbar\":{\"outlinewidth\":0,\"ticks\":\"\"},\"colorscale\":[[0.0,\"#0d0887\"],[0.1111111111111111,\"#46039f\"],[0.2222222222222222,\"#7201a8\"],[0.3333333333333333,\"#9c179e\"],[0.4444444444444444,\"#bd3786\"],[0.5555555555555556,\"#d8576b\"],[0.6666666666666666,\"#ed7953\"],[0.7777777777777778,\"#fb9f3a\"],[0.8888888888888888,\"#fdca26\"],[1.0,\"#f0f921\"]]}],\"mesh3d\":[{\"type\":\"mesh3d\",\"colorbar\":{\"outlinewidth\":0,\"ticks\":\"\"}}],\"scatter\":[{\"fillpattern\":{\"fillmode\":\"overlay\",\"size\":10,\"solidity\":0.2},\"type\":\"scatter\"}],\"parcoords\":[{\"type\":\"parcoords\",\"line\":{\"colorbar\":{\"outlinewidth\":0,\"ticks\":\"\"}}}],\"scatterpolargl\":[{\"type\":\"scatterpolargl\",\"marker\":{\"colorbar\":{\"outlinewidth\":0,\"ticks\":\"\"}}}],\"bar\":[{\"error_x\":{\"color\":\"#2a3f5f\"},\"error_y\":{\"color\":\"#2a3f5f\"},\"marker\":{\"line\":{\"color\":\"#E5ECF6\",\"width\":0.5},\"pattern\":{\"fillmode\":\"overlay\",\"size\":10,\"solidity\":0.2}},\"type\":\"bar\"}],\"scattergeo\":[{\"type\":\"scattergeo\",\"marker\":{\"colorbar\":{\"outlinewidth\":0,\"ticks\":\"\"}}}],\"scatterpolar\":[{\"type\":\"scatterpolar\",\"marker\":{\"colorbar\":{\"outlinewidth\":0,\"ticks\":\"\"}}}],\"histogram\":[{\"marker\":{\"pattern\":{\"fillmode\":\"overlay\",\"size\":10,\"solidity\":0.2}},\"type\":\"histogram\"}],\"scattergl\":[{\"type\":\"scattergl\",\"marker\":{\"colorbar\":{\"outlinewidth\":0,\"ticks\":\"\"}}}],\"scatter3d\":[{\"type\":\"scatter3d\",\"line\":{\"colorbar\":{\"outlinewidth\":0,\"ticks\":\"\"}},\"marker\":{\"colorbar\":{\"outlinewidth\":0,\"ticks\":\"\"}}}],\"scattermapbox\":[{\"type\":\"scattermapbox\",\"marker\":{\"colorbar\":{\"outlinewidth\":0,\"ticks\":\"\"}}}],\"scatterternary\":[{\"type\":\"scatterternary\",\"marker\":{\"colorbar\":{\"outlinewidth\":0,\"ticks\":\"\"}}}],\"scattercarpet\":[{\"type\":\"scattercarpet\",\"marker\":{\"colorbar\":{\"outlinewidth\":0,\"ticks\":\"\"}}}],\"carpet\":[{\"aaxis\":{\"endlinecolor\":\"#2a3f5f\",\"gridcolor\":\"white\",\"linecolor\":\"white\",\"minorgridcolor\":\"white\",\"startlinecolor\":\"#2a3f5f\"},\"baxis\":{\"endlinecolor\":\"#2a3f5f\",\"gridcolor\":\"white\",\"linecolor\":\"white\",\"minorgridcolor\":\"white\",\"startlinecolor\":\"#2a3f5f\"},\"type\":\"carpet\"}],\"table\":[{\"cells\":{\"fill\":{\"color\":\"#EBF0F8\"},\"line\":{\"color\":\"white\"}},\"header\":{\"fill\":{\"color\":\"#C8D4E3\"},\"line\":{\"color\":\"white\"}},\"type\":\"table\"}],\"barpolar\":[{\"marker\":{\"line\":{\"color\":\"#E5ECF6\",\"width\":0.5},\"pattern\":{\"fillmode\":\"overlay\",\"size\":10,\"solidity\":0.2}},\"type\":\"barpolar\"}],\"pie\":[{\"automargin\":true,\"type\":\"pie\"}]},\"layout\":{\"autotypenumbers\":\"strict\",\"colorway\":[\"#636efa\",\"#EF553B\",\"#00cc96\",\"#ab63fa\",\"#FFA15A\",\"#19d3f3\",\"#FF6692\",\"#B6E880\",\"#FF97FF\",\"#FECB52\"],\"font\":{\"color\":\"#2a3f5f\"},\"hovermode\":\"closest\",\"hoverlabel\":{\"align\":\"left\"},\"paper_bgcolor\":\"white\",\"plot_bgcolor\":\"#E5ECF6\",\"polar\":{\"bgcolor\":\"#E5ECF6\",\"angularaxis\":{\"gridcolor\":\"white\",\"linecolor\":\"white\",\"ticks\":\"\"},\"radialaxis\":{\"gridcolor\":\"white\",\"linecolor\":\"white\",\"ticks\":\"\"}},\"ternary\":{\"bgcolor\":\"#E5ECF6\",\"aaxis\":{\"gridcolor\":\"white\",\"linecolor\":\"white\",\"ticks\":\"\"},\"baxis\":{\"gridcolor\":\"white\",\"linecolor\":\"white\",\"ticks\":\"\"},\"caxis\":{\"gridcolor\":\"white\",\"linecolor\":\"white\",\"ticks\":\"\"}},\"coloraxis\":{\"colorbar\":{\"outlinewidth\":0,\"ticks\":\"\"}},\"colorscale\":{\"sequential\":[[0.0,\"#0d0887\"],[0.1111111111111111,\"#46039f\"],[0.2222222222222222,\"#7201a8\"],[0.3333333333333333,\"#9c179e\"],[0.4444444444444444,\"#bd3786\"],[0.5555555555555556,\"#d8576b\"],[0.6666666666666666,\"#ed7953\"],[0.7777777777777778,\"#fb9f3a\"],[0.8888888888888888,\"#fdca26\"],[1.0,\"#f0f921\"]],\"sequentialminus\":[[0.0,\"#0d0887\"],[0.1111111111111111,\"#46039f\"],[0.2222222222222222,\"#7201a8\"],[0.3333333333333333,\"#9c179e\"],[0.4444444444444444,\"#bd3786\"],[0.5555555555555556,\"#d8576b\"],[0.6666666666666666,\"#ed7953\"],[0.7777777777777778,\"#fb9f3a\"],[0.8888888888888888,\"#fdca26\"],[1.0,\"#f0f921\"]],\"diverging\":[[0,\"#8e0152\"],[0.1,\"#c51b7d\"],[0.2,\"#de77ae\"],[0.3,\"#f1b6da\"],[0.4,\"#fde0ef\"],[0.5,\"#f7f7f7\"],[0.6,\"#e6f5d0\"],[0.7,\"#b8e186\"],[0.8,\"#7fbc41\"],[0.9,\"#4d9221\"],[1,\"#276419\"]]},\"xaxis\":{\"gridcolor\":\"white\",\"linecolor\":\"white\",\"ticks\":\"\",\"title\":{\"standoff\":15},\"zerolinecolor\":\"white\",\"automargin\":true,\"zerolinewidth\":2},\"yaxis\":{\"gridcolor\":\"white\",\"linecolor\":\"white\",\"ticks\":\"\",\"title\":{\"standoff\":15},\"zerolinecolor\":\"white\",\"automargin\":true,\"zerolinewidth\":2},\"scene\":{\"xaxis\":{\"backgroundcolor\":\"#E5ECF6\",\"gridcolor\":\"white\",\"linecolor\":\"white\",\"showbackground\":true,\"ticks\":\"\",\"zerolinecolor\":\"white\",\"gridwidth\":2},\"yaxis\":{\"backgroundcolor\":\"#E5ECF6\",\"gridcolor\":\"white\",\"linecolor\":\"white\",\"showbackground\":true,\"ticks\":\"\",\"zerolinecolor\":\"white\",\"gridwidth\":2},\"zaxis\":{\"backgroundcolor\":\"#E5ECF6\",\"gridcolor\":\"white\",\"linecolor\":\"white\",\"showbackground\":true,\"ticks\":\"\",\"zerolinecolor\":\"white\",\"gridwidth\":2}},\"shapedefaults\":{\"line\":{\"color\":\"#2a3f5f\"}},\"annotationdefaults\":{\"arrowcolor\":\"#2a3f5f\",\"arrowhead\":0,\"arrowwidth\":1},\"geo\":{\"bgcolor\":\"white\",\"landcolor\":\"#E5ECF6\",\"subunitcolor\":\"white\",\"showland\":true,\"showlakes\":true,\"lakecolor\":\"white\"},\"title\":{\"x\":0.05},\"mapbox\":{\"style\":\"light\"}}}},                        {\"responsive\": true}                    ).then(function(){\n",
       "                            \n",
       "var gd = document.getElementById('2d36162c-ed16-421b-9d9c-76339ca9f6da');\n",
       "var x = new MutationObserver(function (mutations, observer) {{\n",
       "        var display = window.getComputedStyle(gd).display;\n",
       "        if (!display || display === 'none') {{\n",
       "            console.log([gd, 'removed!']);\n",
       "            Plotly.purge(gd);\n",
       "            observer.disconnect();\n",
       "        }}\n",
       "}});\n",
       "\n",
       "// Listen for the removal of the full notebook cells\n",
       "var notebookContainer = gd.closest('#notebook-container');\n",
       "if (notebookContainer) {{\n",
       "    x.observe(notebookContainer, {childList: true});\n",
       "}}\n",
       "\n",
       "// Listen for the clearing of the current output cell\n",
       "var outputEl = gd.closest('.output');\n",
       "if (outputEl) {{\n",
       "    x.observe(outputEl, {childList: true});\n",
       "}}\n",
       "\n",
       "                        })                };                });            </script>        </div>"
      ]
     },
     "metadata": {},
     "output_type": "display_data"
    }
   ],
   "source": [
    "#Como se veria la matriz de confusión\n",
    "display(plot_confusion_matrix(y_test,y_test))"
   ]
  },
  {
   "cell_type": "code",
   "execution_count": 54,
   "metadata": {},
   "outputs": [],
   "source": [
    "#Vamos a ver como se comporta kappa si hafgo una predicción al azar (respetando las proporciones de cada clase)\n",
    "y_shuffled = shuffle(y_test,\n",
    "                     random_state = 42)\n",
    "\n",
    "\n",
    "#Genero diccionarios para cambiar algunas predicicones reales por una prediccion cercana y_cerca y una lejana y_lejos a la real \n",
    "# ejemplo: la real se 0 voy a estimar 1 para la cercana y 4 para la lejana\n",
    "dict_map_cerca = {0:1,\n",
    "                  1:2,\n",
    "                  2:3,\n",
    "                  3:4,\n",
    "                  4:3}\n",
    "\n",
    "dict_map_lejos = {0:4,\n",
    "                  1:4,\n",
    "                  2:0,\n",
    "                  3:0,\n",
    "                  4:0}\n",
    "\n",
    "y_cerca = [dict_map_cerca[i] for i in y_test]\n",
    "\n",
    "y_lejos = [dict_map_lejos[i] for i in y_test]\n"
   ]
  },
  {
   "cell_type": "code",
   "execution_count": 55,
   "metadata": {},
   "outputs": [],
   "source": [
    "\n",
    "#Vamos a simular que la probabilidad de tener la prediccion real en casa muestra varia de 0 a 100. \n",
    "#Genero una numero aleatorio para cada muestra\n",
    "random_list =  np.random.rand(len(y_test))\n",
    "\n",
    "#inicializo un dataframe de resultados vacio\n",
    "kappa_progression = pd.DataFrame()\n",
    "\n",
    "#La variable i tiene un umbral para ir variando la cantidad de aciertos desde 0% a 100%\n",
    "for i in range(101):\n",
    "\n",
    "    #Genero la prediccion para i% de aciertos donde cuando no acierto me quedo con una prediccion al azar (podria ser la \"correcta\" pero solo por azar)\n",
    "    y_simulado = [y_test.iloc[sample] if random_list[sample]<i/100 else y_shuffled.iloc[sample] for sample in range(len(y_test))]\n",
    "\n",
    "    #Genero la prediccion para i% de aciertos donde cuando no acierto me quedo con una prediccion cercana o lejana a la correcta\n",
    "    y_simulado_cerca = [y_test.iloc[sample] if random_list[sample]<i/100 else y_cerca[sample] for sample in range(len(y_test))]\n",
    "    y_simulado_lejos = [y_test.iloc[sample] if random_list[sample]<i/100 else y_lejos[sample] for sample in range(len(y_test))]\n",
    "\n",
    "\n",
    "    #Grabo los resultados en un dataframe para cada i% de aciertos\n",
    "    kappa_progression = pd.concat([kappa_progression,\n",
    "                                   pd.DataFrame({'Conocidos':[i],\n",
    "                                                'kappa':cohen_kappa_score(y_test,\n",
    "                                                                        y_simulado,\n",
    "                                                                        weights = 'quadratic'),\n",
    "                                                'kappa_cerca':cohen_kappa_score(y_test,\n",
    "                                                                        y_simulado_cerca,\n",
    "                                                                        weights = 'quadratic'),\n",
    "                                                'kappa_lejos':cohen_kappa_score(y_test,\n",
    "                                                                        y_simulado_lejos,\n",
    "                                                                        weights = 'quadratic'),                                                                        \n",
    "                                                'accuracy':accuracy_score(y_test,\n",
    "                                                                        y_simulado),\n",
    "                                                'balanced_accuracy':balanced_accuracy_score(y_test,\n",
    "                                                                        y_simulado),\n",
    "                                                                        })],\n",
    "                ignore_index=True)"
   ]
  },
  {
   "cell_type": "code",
   "execution_count": 56,
   "metadata": {},
   "outputs": [
    {
     "data": {
      "application/vnd.plotly.v1+json": {
       "config": {
        "plotlyServerURL": "https://plot.ly"
       },
       "data": [
        {
         "hovertemplate": "variable=kappa<br>Conocidos=%{x}<br>value=%{y}<extra></extra>",
         "legendgroup": "kappa",
         "line": {
          "color": "#636efa",
          "dash": "solid"
         },
         "marker": {
          "symbol": "circle"
         },
         "mode": "lines",
         "name": "kappa",
         "orientation": "v",
         "showlegend": true,
         "type": "scatter",
         "x": [
          0,
          1,
          2,
          3,
          4,
          5,
          6,
          7,
          8,
          9,
          10,
          11,
          12,
          13,
          14,
          15,
          16,
          17,
          18,
          19,
          20,
          21,
          22,
          23,
          24,
          25,
          26,
          27,
          28,
          29,
          30,
          31,
          32,
          33,
          34,
          35,
          36,
          37,
          38,
          39,
          40,
          41,
          42,
          43,
          44,
          45,
          46,
          47,
          48,
          49,
          50,
          51,
          52,
          53,
          54,
          55,
          56,
          57,
          58,
          59,
          60,
          61,
          62,
          63,
          64,
          65,
          66,
          67,
          68,
          69,
          70,
          71,
          72,
          73,
          74,
          75,
          76,
          77,
          78,
          79,
          80,
          81,
          82,
          83,
          84,
          85,
          86,
          87,
          88,
          89,
          90,
          91,
          92,
          93,
          94,
          95,
          96,
          97,
          98,
          99,
          100
         ],
         "xaxis": "x",
         "y": [
          -0.0084438812302563,
          -0.002900941843459348,
          0.007264801099784335,
          0.015260794246774845,
          0.027888602387006967,
          0.03779689713172374,
          0.05090713452130424,
          0.05796268531899951,
          0.0658604395343465,
          0.07183544294934097,
          0.08093306782205956,
          0.09035000499655255,
          0.10780377156519327,
          0.12539735281873976,
          0.14246647669542312,
          0.15362199464779913,
          0.16102865684776035,
          0.16946915483315728,
          0.17868209882382835,
          0.19184458401673554,
          0.2009493510277841,
          0.20709562234679424,
          0.21488012071580442,
          0.22863655006888528,
          0.2429511742297924,
          0.25205035469331016,
          0.2630515817681488,
          0.2767351761053787,
          0.28324436665674524,
          0.29564509694918073,
          0.3034497602674887,
          0.31435828196052784,
          0.32380653873240084,
          0.3343189019816376,
          0.34541097056671344,
          0.35873954656235674,
          0.365946609847963,
          0.3802436531608646,
          0.3917025976150833,
          0.4041308603261705,
          0.4111427795792354,
          0.4229597263385926,
          0.43412692389447916,
          0.44830031082215727,
          0.45982816695354845,
          0.46912632183345726,
          0.4812202779156336,
          0.49198139168190225,
          0.49403758156823796,
          0.50443684972425,
          0.513057388335295,
          0.5215378548698708,
          0.530230654935348,
          0.5420044696090557,
          0.5500715345064611,
          0.5550344433972731,
          0.5669311287591083,
          0.5768575122697323,
          0.5826085258623623,
          0.590923170950833,
          0.5989681452891226,
          0.6101991687847906,
          0.6189814083741434,
          0.6279611911728196,
          0.6406349603240363,
          0.6481783942493149,
          0.6578772160861532,
          0.6689999848291242,
          0.6762638654146835,
          0.6855583128704006,
          0.6970606772957533,
          0.7031475924648896,
          0.7094714792480086,
          0.7165532161498627,
          0.72721921273299,
          0.735570191941435,
          0.746193910007924,
          0.7596912958648874,
          0.7684232648886378,
          0.7829745954714808,
          0.7968263900148358,
          0.8047228771228451,
          0.8170487814035885,
          0.8278195907168772,
          0.8356855109421233,
          0.8474892361972579,
          0.8571127692055365,
          0.8668059178112265,
          0.873695798862755,
          0.8836334285767655,
          0.8968658223965356,
          0.9116817840675537,
          0.9167954842249209,
          0.9269873822238922,
          0.937656833629432,
          0.9474698036034263,
          0.9576702502033188,
          0.970275936502836,
          0.9861570805799316,
          0.9951877202301967,
          1
         ],
         "yaxis": "y"
        },
        {
         "hovertemplate": "variable=kappa_cerca<br>Conocidos=%{x}<br>value=%{y}<extra></extra>",
         "legendgroup": "kappa_cerca",
         "line": {
          "color": "#EF553B",
          "dash": "solid"
         },
         "marker": {
          "symbol": "circle"
         },
         "mode": "lines",
         "name": "kappa_cerca",
         "orientation": "v",
         "showlegend": true,
         "type": "scatter",
         "x": [
          0,
          1,
          2,
          3,
          4,
          5,
          6,
          7,
          8,
          9,
          10,
          11,
          12,
          13,
          14,
          15,
          16,
          17,
          18,
          19,
          20,
          21,
          22,
          23,
          24,
          25,
          26,
          27,
          28,
          29,
          30,
          31,
          32,
          33,
          34,
          35,
          36,
          37,
          38,
          39,
          40,
          41,
          42,
          43,
          44,
          45,
          46,
          47,
          48,
          49,
          50,
          51,
          52,
          53,
          54,
          55,
          56,
          57,
          58,
          59,
          60,
          61,
          62,
          63,
          64,
          65,
          66,
          67,
          68,
          69,
          70,
          71,
          72,
          73,
          74,
          75,
          76,
          77,
          78,
          79,
          80,
          81,
          82,
          83,
          84,
          85,
          86,
          87,
          88,
          89,
          90,
          91,
          92,
          93,
          94,
          95,
          96,
          97,
          98,
          99,
          100
         ],
         "xaxis": "x",
         "y": [
          0.5261777791943391,
          0.53219559597452,
          0.5387099034458096,
          0.5450648578432353,
          0.5528041440349976,
          0.5584649904100004,
          0.565502971084962,
          0.5706400348297542,
          0.5747914805256268,
          0.58050708856619,
          0.5860131899506316,
          0.5912722793309997,
          0.5982776384674764,
          0.6052696193115619,
          0.6121857663537289,
          0.6177625027436837,
          0.6234232259284511,
          0.626987189553991,
          0.631870211438333,
          0.63798311698778,
          0.64496705544399,
          0.6495754521403205,
          0.653648785266292,
          0.661381701849888,
          0.6682637427953397,
          0.6728272958189031,
          0.6785102587868905,
          0.6857252349792193,
          0.6900675729035022,
          0.6957524705451231,
          0.7010323090391781,
          0.7059358010901217,
          0.7107867176989622,
          0.7160240750442035,
          0.7213234047887487,
          0.7272577773921158,
          0.7310083584394,
          0.7355913347632193,
          0.7403021078272041,
          0.7471132952966912,
          0.7512775147390066,
          0.7564054341055961,
          0.7608169689101479,
          0.7663428787196218,
          0.7706882686603411,
          0.7745328511610308,
          0.7789442939644761,
          0.784784491745162,
          0.787844257874355,
          0.7924440936422223,
          0.7967245072919446,
          0.8017694818454277,
          0.8056178359605644,
          0.8102900747447148,
          0.8143884703582096,
          0.817641448354548,
          0.8229777559719229,
          0.8273706469180778,
          0.8301224545864017,
          0.833771912830845,
          0.8375015658070321,
          0.8421837015303547,
          0.8473421001677033,
          0.851606124252331,
          0.855577505494665,
          0.8586929664949996,
          0.8633012679419769,
          0.8675185346543167,
          0.8710141489424459,
          0.8758343445676365,
          0.8799140518757328,
          0.8831398807681456,
          0.8862359338909112,
          0.8905494638007583,
          0.8953365277108153,
          0.8991951231652316,
          0.9036788054830738,
          0.909155415221922,
          0.9136513289439363,
          0.9179590370599512,
          0.9226671756048943,
          0.9269455025419009,
          0.930420192937851,
          0.9351920933888104,
          0.9381868952401262,
          0.9424888265927219,
          0.946394187058633,
          0.9495912674140685,
          0.9537927938654577,
          0.9577805048336324,
          0.9622682939033406,
          0.9672559899446475,
          0.9697779709865179,
          0.9746710452632464,
          0.9781671831354758,
          0.9817366551117229,
          0.9854049766158428,
          0.9892102289928401,
          0.992990871878125,
          0.9967483840002969,
          1
         ],
         "yaxis": "y"
        },
        {
         "hovertemplate": "variable=kappa_lejos<br>Conocidos=%{x}<br>value=%{y}<extra></extra>",
         "legendgroup": "kappa_lejos",
         "line": {
          "color": "#00cc96",
          "dash": "solid"
         },
         "marker": {
          "symbol": "circle"
         },
         "mode": "lines",
         "name": "kappa_lejos",
         "orientation": "v",
         "showlegend": true,
         "type": "scatter",
         "x": [
          0,
          1,
          2,
          3,
          4,
          5,
          6,
          7,
          8,
          9,
          10,
          11,
          12,
          13,
          14,
          15,
          16,
          17,
          18,
          19,
          20,
          21,
          22,
          23,
          24,
          25,
          26,
          27,
          28,
          29,
          30,
          31,
          32,
          33,
          34,
          35,
          36,
          37,
          38,
          39,
          40,
          41,
          42,
          43,
          44,
          45,
          46,
          47,
          48,
          49,
          50,
          51,
          52,
          53,
          54,
          55,
          56,
          57,
          58,
          59,
          60,
          61,
          62,
          63,
          64,
          65,
          66,
          67,
          68,
          69,
          70,
          71,
          72,
          73,
          74,
          75,
          76,
          77,
          78,
          79,
          80,
          81,
          82,
          83,
          84,
          85,
          86,
          87,
          88,
          89,
          90,
          91,
          92,
          93,
          94,
          95,
          96,
          97,
          98,
          99,
          100
         ],
         "xaxis": "x",
         "y": [
          -0.45165018440277804,
          -0.4501671950232722,
          -0.44309091601311934,
          -0.43845242858111244,
          -0.4284724491571552,
          -0.42466598166824854,
          -0.4165882630454283,
          -0.41289796055991856,
          -0.4086812031230036,
          -0.40190976563887393,
          -0.3949476265567684,
          -0.3895695828916428,
          -0.37951462388734725,
          -0.36827110445155053,
          -0.3594923221069517,
          -0.3526370825931304,
          -0.3487684154236832,
          -0.34432690681197253,
          -0.3369901152913948,
          -0.3265593230823638,
          -0.3162874693348423,
          -0.30966733619543896,
          -0.30652102764871914,
          -0.2954999987046014,
          -0.2840923185613127,
          -0.27847794127617265,
          -0.270202805024641,
          -0.26055753552014327,
          -0.2548616630752436,
          -0.24379834264383304,
          -0.2351563422984837,
          -0.2282951397179318,
          -0.22189672701468854,
          -0.2105762614744342,
          -0.20252719240083072,
          -0.187874642678294,
          -0.17983199970898833,
          -0.16949663437009077,
          -0.16087982664763834,
          -0.1482145841526894,
          -0.14236962182609414,
          -0.130723134781489,
          -0.12082972101916001,
          -0.10780454505273251,
          -0.097949712058919,
          -0.08836336831599834,
          -0.08010317145066037,
          -0.06225353365681152,
          -0.0563800399010117,
          -0.04459047056369858,
          -0.0354774127198314,
          -0.0228434296773099,
          -0.010667834271827603,
          0.0019746218512218805,
          0.013082951767995676,
          0.02075793601059328,
          0.03794442161909306,
          0.052458536202722006,
          0.058431601892923624,
          0.06577564133739988,
          0.07378100339940707,
          0.08727564486365724,
          0.10471422047718404,
          0.11973782089673601,
          0.13567249606830645,
          0.14628796313000492,
          0.16536757245983758,
          0.18359619416851325,
          0.19807739645241784,
          0.21634074325635522,
          0.23431932870915784,
          0.246383990305735,
          0.2596584227975548,
          0.2818024634117555,
          0.3004661703224414,
          0.3184189090984587,
          0.33996290219398506,
          0.36383910604015146,
          0.38242159489939853,
          0.4068167340892581,
          0.433076776038258,
          0.45429443951093795,
          0.47698948544323627,
          0.5064655251537568,
          0.5241070125096614,
          0.5500801158771537,
          0.5729190474338134,
          0.5924348994216071,
          0.6198696830108932,
          0.6487275891299761,
          0.6802674593307123,
          0.7240254112742346,
          0.7451006712280288,
          0.7832616973800356,
          0.8132044017633255,
          0.8410639193474179,
          0.8675862623461127,
          0.8979511048975167,
          0.934346008882829,
          0.9664694155400775,
          1
         ],
         "yaxis": "y"
        },
        {
         "hovertemplate": "variable=accuracy<br>Conocidos=%{x}<br>value=%{y}<extra></extra>",
         "legendgroup": "accuracy",
         "line": {
          "color": "#ab63fa",
          "dash": "solid"
         },
         "marker": {
          "symbol": "circle"
         },
         "mode": "lines",
         "name": "accuracy",
         "orientation": "v",
         "showlegend": true,
         "type": "scatter",
         "x": [
          0,
          1,
          2,
          3,
          4,
          5,
          6,
          7,
          8,
          9,
          10,
          11,
          12,
          13,
          14,
          15,
          16,
          17,
          18,
          19,
          20,
          21,
          22,
          23,
          24,
          25,
          26,
          27,
          28,
          29,
          30,
          31,
          32,
          33,
          34,
          35,
          36,
          37,
          38,
          39,
          40,
          41,
          42,
          43,
          44,
          45,
          46,
          47,
          48,
          49,
          50,
          51,
          52,
          53,
          54,
          55,
          56,
          57,
          58,
          59,
          60,
          61,
          62,
          63,
          64,
          65,
          66,
          67,
          68,
          69,
          70,
          71,
          72,
          73,
          74,
          75,
          76,
          77,
          78,
          79,
          80,
          81,
          82,
          83,
          84,
          85,
          86,
          87,
          88,
          89,
          90,
          91,
          92,
          93,
          94,
          95,
          96,
          97,
          98,
          99,
          100
         ],
         "xaxis": "x",
         "y": [
          0.24141380460153383,
          0.2494164721573858,
          0.25641880626875624,
          0.26475491830610204,
          0.2717572524174725,
          0.2804268089363121,
          0.2874291430476826,
          0.294431477159053,
          0.2994331443814605,
          0.3064354784928309,
          0.3127709236412137,
          0.320106702234078,
          0.32877625875291766,
          0.33811270423474493,
          0.3474491497165722,
          0.3541180393464488,
          0.3624541513837946,
          0.3677892630876959,
          0.3737912637545849,
          0.3824608202734245,
          0.3911303767922641,
          0.3967989329776592,
          0.40280093364454816,
          0.4144714904968323,
          0.42480826942314104,
          0.432810936978993,
          0.4411470490163388,
          0.45248416138712905,
          0.4574858286095365,
          0.4661553851283761,
          0.4734911637212404,
          0.4818272757585862,
          0.48882960986995666,
          0.49549849949983327,
          0.5055018339446482,
          0.5141713904634878,
          0.5185061687229077,
          0.5271757252417473,
          0.5358452817605869,
          0.5468489496498833,
          0.5538512837612537,
          0.5618539513171057,
          0.5695231743914638,
          0.5768589529843281,
          0.5841947315771924,
          0.5901967322440813,
          0.5978659553184394,
          0.6068689563187729,
          0.6108702900966989,
          0.6195398466155385,
          0.6262087362454152,
          0.6348782927642548,
          0.6408802934311437,
          0.648216072024008,
          0.6555518506168723,
          0.6612204068022675,
          0.6708902967655885,
          0.6775591863954652,
          0.6825608536178727,
          0.6888962987662555,
          0.695565188396132,
          0.7029009669889963,
          0.7125708569523175,
          0.7205735245081694,
          0.727242414138046,
          0.7325775258419474,
          0.7389129709903302,
          0.745248416138713,
          0.750916972324108,
          0.7599199733244415,
          0.766588862954318,
          0.7729243081027009,
          0.7779259753251083,
          0.7849283094364788,
          0.7929309769923307,
          0.8002667555851951,
          0.8096032010670223,
          0.8209403134378126,
          0.8289429809936646,
          0.837945981993998,
          0.8479493164388129,
          0.8552850950316773,
          0.8626208736245415,
          0.8706235411803934,
          0.8759586528842948,
          0.8849616538846282,
          0.8929643214404802,
          0.8996332110703568,
          0.9073024341447149,
          0.9139713237745916,
          0.9219739913304434,
          0.9313104368122708,
          0.9349783261087029,
          0.9443147715905301,
          0.9516505501833945,
          0.9583194398132711,
          0.9669889963321107,
          0.9759919973324441,
          0.9849949983327776,
          0.9933311103701233,
          1
         ],
         "yaxis": "y"
        },
        {
         "hovertemplate": "variable=balanced_accuracy<br>Conocidos=%{x}<br>value=%{y}<extra></extra>",
         "legendgroup": "balanced_accuracy",
         "line": {
          "color": "#FFA15A",
          "dash": "solid"
         },
         "marker": {
          "symbol": "circle"
         },
         "mode": "lines",
         "name": "balanced_accuracy",
         "orientation": "v",
         "showlegend": true,
         "type": "scatter",
         "x": [
          0,
          1,
          2,
          3,
          4,
          5,
          6,
          7,
          8,
          9,
          10,
          11,
          12,
          13,
          14,
          15,
          16,
          17,
          18,
          19,
          20,
          21,
          22,
          23,
          24,
          25,
          26,
          27,
          28,
          29,
          30,
          31,
          32,
          33,
          34,
          35,
          36,
          37,
          38,
          39,
          40,
          41,
          42,
          43,
          44,
          45,
          46,
          47,
          48,
          49,
          50,
          51,
          52,
          53,
          54,
          55,
          56,
          57,
          58,
          59,
          60,
          61,
          62,
          63,
          64,
          65,
          66,
          67,
          68,
          69,
          70,
          71,
          72,
          73,
          74,
          75,
          76,
          77,
          78,
          79,
          80,
          81,
          82,
          83,
          84,
          85,
          86,
          87,
          88,
          89,
          90,
          91,
          92,
          93,
          94,
          95,
          96,
          97,
          98,
          99,
          100
         ],
         "xaxis": "x",
         "y": [
          0.19781671101270798,
          0.20448739772086277,
          0.21450548679465772,
          0.22351733595538792,
          0.23161105599480852,
          0.2387722129645729,
          0.2490442937666974,
          0.2569229670237966,
          0.2608683180780198,
          0.26703572187794145,
          0.2767374953213155,
          0.2847758743518455,
          0.29643465479243136,
          0.31274979691112237,
          0.3224001386652663,
          0.32782485860803445,
          0.3345179446332952,
          0.34093722104750157,
          0.3478495640671101,
          0.3596385110713113,
          0.3671280052578009,
          0.3718481757227855,
          0.37692687175297857,
          0.39318407935556776,
          0.4040675752284747,
          0.41294228700521884,
          0.41981926389817026,
          0.43332453839052565,
          0.4396839181740944,
          0.45115736011451324,
          0.45721504946280084,
          0.463947580006718,
          0.46964220024088005,
          0.4755463440694692,
          0.4838561054395997,
          0.4932018150049494,
          0.49671042010163846,
          0.5081572496763437,
          0.5195225938699437,
          0.5330535010890355,
          0.5409321743461346,
          0.5478067239676324,
          0.558573020086475,
          0.5690663199974834,
          0.5794695470022003,
          0.5867829244429652,
          0.5930715691366386,
          0.6028444574953592,
          0.6061370361707497,
          0.6156297884289261,
          0.6212055950407901,
          0.6284313612624481,
          0.6356325969801253,
          0.64596717075668,
          0.6520094316082325,
          0.6568065439054052,
          0.6667441616528026,
          0.6769380220626016,
          0.6832831220607511,
          0.6885184279479343,
          0.6939314644490759,
          0.6997074009920045,
          0.7076669254009522,
          0.7141418882337699,
          0.7260936025121121,
          0.7327597307619386,
          0.7379801077250348,
          0.7452821322244823,
          0.7500023026894669,
          0.7576300829712586,
          0.7694891279995172,
          0.7765663694801415,
          0.7848377857177901,
          0.7950157496373546,
          0.8018774671059097,
          0.8081722720533154,
          0.8181017702690261,
          0.8270847561299709,
          0.833667317136959,
          0.8433981646332308,
          0.8540240927950385,
          0.8599542119235032,
          0.8658382462132505,
          0.8768426375701882,
          0.8811199018239064,
          0.8904102703803656,
          0.8971935983842562,
          0.902902667476176,
          0.911367076588761,
          0.9165644171689131,
          0.9227238749379485,
          0.9346442986450517,
          0.9397163199394528,
          0.9476496999761862,
          0.9534774136180653,
          0.959075788619374,
          0.9665089621579958,
          0.9739840074867274,
          0.985551098316207,
          0.9945966997353605,
          1
         ],
         "yaxis": "y"
        }
       ],
       "layout": {
        "legend": {
         "title": {
          "text": "variable"
         },
         "tracegroupgap": 0
        },
        "margin": {
         "t": 60
        },
        "template": {
         "data": {
          "bar": [
           {
            "error_x": {
             "color": "#2a3f5f"
            },
            "error_y": {
             "color": "#2a3f5f"
            },
            "marker": {
             "line": {
              "color": "#E5ECF6",
              "width": 0.5
             },
             "pattern": {
              "fillmode": "overlay",
              "size": 10,
              "solidity": 0.2
             }
            },
            "type": "bar"
           }
          ],
          "barpolar": [
           {
            "marker": {
             "line": {
              "color": "#E5ECF6",
              "width": 0.5
             },
             "pattern": {
              "fillmode": "overlay",
              "size": 10,
              "solidity": 0.2
             }
            },
            "type": "barpolar"
           }
          ],
          "carpet": [
           {
            "aaxis": {
             "endlinecolor": "#2a3f5f",
             "gridcolor": "white",
             "linecolor": "white",
             "minorgridcolor": "white",
             "startlinecolor": "#2a3f5f"
            },
            "baxis": {
             "endlinecolor": "#2a3f5f",
             "gridcolor": "white",
             "linecolor": "white",
             "minorgridcolor": "white",
             "startlinecolor": "#2a3f5f"
            },
            "type": "carpet"
           }
          ],
          "choropleth": [
           {
            "colorbar": {
             "outlinewidth": 0,
             "ticks": ""
            },
            "type": "choropleth"
           }
          ],
          "contour": [
           {
            "colorbar": {
             "outlinewidth": 0,
             "ticks": ""
            },
            "colorscale": [
             [
              0,
              "#0d0887"
             ],
             [
              0.1111111111111111,
              "#46039f"
             ],
             [
              0.2222222222222222,
              "#7201a8"
             ],
             [
              0.3333333333333333,
              "#9c179e"
             ],
             [
              0.4444444444444444,
              "#bd3786"
             ],
             [
              0.5555555555555556,
              "#d8576b"
             ],
             [
              0.6666666666666666,
              "#ed7953"
             ],
             [
              0.7777777777777778,
              "#fb9f3a"
             ],
             [
              0.8888888888888888,
              "#fdca26"
             ],
             [
              1,
              "#f0f921"
             ]
            ],
            "type": "contour"
           }
          ],
          "contourcarpet": [
           {
            "colorbar": {
             "outlinewidth": 0,
             "ticks": ""
            },
            "type": "contourcarpet"
           }
          ],
          "heatmap": [
           {
            "colorbar": {
             "outlinewidth": 0,
             "ticks": ""
            },
            "colorscale": [
             [
              0,
              "#0d0887"
             ],
             [
              0.1111111111111111,
              "#46039f"
             ],
             [
              0.2222222222222222,
              "#7201a8"
             ],
             [
              0.3333333333333333,
              "#9c179e"
             ],
             [
              0.4444444444444444,
              "#bd3786"
             ],
             [
              0.5555555555555556,
              "#d8576b"
             ],
             [
              0.6666666666666666,
              "#ed7953"
             ],
             [
              0.7777777777777778,
              "#fb9f3a"
             ],
             [
              0.8888888888888888,
              "#fdca26"
             ],
             [
              1,
              "#f0f921"
             ]
            ],
            "type": "heatmap"
           }
          ],
          "heatmapgl": [
           {
            "colorbar": {
             "outlinewidth": 0,
             "ticks": ""
            },
            "colorscale": [
             [
              0,
              "#0d0887"
             ],
             [
              0.1111111111111111,
              "#46039f"
             ],
             [
              0.2222222222222222,
              "#7201a8"
             ],
             [
              0.3333333333333333,
              "#9c179e"
             ],
             [
              0.4444444444444444,
              "#bd3786"
             ],
             [
              0.5555555555555556,
              "#d8576b"
             ],
             [
              0.6666666666666666,
              "#ed7953"
             ],
             [
              0.7777777777777778,
              "#fb9f3a"
             ],
             [
              0.8888888888888888,
              "#fdca26"
             ],
             [
              1,
              "#f0f921"
             ]
            ],
            "type": "heatmapgl"
           }
          ],
          "histogram": [
           {
            "marker": {
             "pattern": {
              "fillmode": "overlay",
              "size": 10,
              "solidity": 0.2
             }
            },
            "type": "histogram"
           }
          ],
          "histogram2d": [
           {
            "colorbar": {
             "outlinewidth": 0,
             "ticks": ""
            },
            "colorscale": [
             [
              0,
              "#0d0887"
             ],
             [
              0.1111111111111111,
              "#46039f"
             ],
             [
              0.2222222222222222,
              "#7201a8"
             ],
             [
              0.3333333333333333,
              "#9c179e"
             ],
             [
              0.4444444444444444,
              "#bd3786"
             ],
             [
              0.5555555555555556,
              "#d8576b"
             ],
             [
              0.6666666666666666,
              "#ed7953"
             ],
             [
              0.7777777777777778,
              "#fb9f3a"
             ],
             [
              0.8888888888888888,
              "#fdca26"
             ],
             [
              1,
              "#f0f921"
             ]
            ],
            "type": "histogram2d"
           }
          ],
          "histogram2dcontour": [
           {
            "colorbar": {
             "outlinewidth": 0,
             "ticks": ""
            },
            "colorscale": [
             [
              0,
              "#0d0887"
             ],
             [
              0.1111111111111111,
              "#46039f"
             ],
             [
              0.2222222222222222,
              "#7201a8"
             ],
             [
              0.3333333333333333,
              "#9c179e"
             ],
             [
              0.4444444444444444,
              "#bd3786"
             ],
             [
              0.5555555555555556,
              "#d8576b"
             ],
             [
              0.6666666666666666,
              "#ed7953"
             ],
             [
              0.7777777777777778,
              "#fb9f3a"
             ],
             [
              0.8888888888888888,
              "#fdca26"
             ],
             [
              1,
              "#f0f921"
             ]
            ],
            "type": "histogram2dcontour"
           }
          ],
          "mesh3d": [
           {
            "colorbar": {
             "outlinewidth": 0,
             "ticks": ""
            },
            "type": "mesh3d"
           }
          ],
          "parcoords": [
           {
            "line": {
             "colorbar": {
              "outlinewidth": 0,
              "ticks": ""
             }
            },
            "type": "parcoords"
           }
          ],
          "pie": [
           {
            "automargin": true,
            "type": "pie"
           }
          ],
          "scatter": [
           {
            "fillpattern": {
             "fillmode": "overlay",
             "size": 10,
             "solidity": 0.2
            },
            "type": "scatter"
           }
          ],
          "scatter3d": [
           {
            "line": {
             "colorbar": {
              "outlinewidth": 0,
              "ticks": ""
             }
            },
            "marker": {
             "colorbar": {
              "outlinewidth": 0,
              "ticks": ""
             }
            },
            "type": "scatter3d"
           }
          ],
          "scattercarpet": [
           {
            "marker": {
             "colorbar": {
              "outlinewidth": 0,
              "ticks": ""
             }
            },
            "type": "scattercarpet"
           }
          ],
          "scattergeo": [
           {
            "marker": {
             "colorbar": {
              "outlinewidth": 0,
              "ticks": ""
             }
            },
            "type": "scattergeo"
           }
          ],
          "scattergl": [
           {
            "marker": {
             "colorbar": {
              "outlinewidth": 0,
              "ticks": ""
             }
            },
            "type": "scattergl"
           }
          ],
          "scattermapbox": [
           {
            "marker": {
             "colorbar": {
              "outlinewidth": 0,
              "ticks": ""
             }
            },
            "type": "scattermapbox"
           }
          ],
          "scatterpolar": [
           {
            "marker": {
             "colorbar": {
              "outlinewidth": 0,
              "ticks": ""
             }
            },
            "type": "scatterpolar"
           }
          ],
          "scatterpolargl": [
           {
            "marker": {
             "colorbar": {
              "outlinewidth": 0,
              "ticks": ""
             }
            },
            "type": "scatterpolargl"
           }
          ],
          "scatterternary": [
           {
            "marker": {
             "colorbar": {
              "outlinewidth": 0,
              "ticks": ""
             }
            },
            "type": "scatterternary"
           }
          ],
          "surface": [
           {
            "colorbar": {
             "outlinewidth": 0,
             "ticks": ""
            },
            "colorscale": [
             [
              0,
              "#0d0887"
             ],
             [
              0.1111111111111111,
              "#46039f"
             ],
             [
              0.2222222222222222,
              "#7201a8"
             ],
             [
              0.3333333333333333,
              "#9c179e"
             ],
             [
              0.4444444444444444,
              "#bd3786"
             ],
             [
              0.5555555555555556,
              "#d8576b"
             ],
             [
              0.6666666666666666,
              "#ed7953"
             ],
             [
              0.7777777777777778,
              "#fb9f3a"
             ],
             [
              0.8888888888888888,
              "#fdca26"
             ],
             [
              1,
              "#f0f921"
             ]
            ],
            "type": "surface"
           }
          ],
          "table": [
           {
            "cells": {
             "fill": {
              "color": "#EBF0F8"
             },
             "line": {
              "color": "white"
             }
            },
            "header": {
             "fill": {
              "color": "#C8D4E3"
             },
             "line": {
              "color": "white"
             }
            },
            "type": "table"
           }
          ]
         },
         "layout": {
          "annotationdefaults": {
           "arrowcolor": "#2a3f5f",
           "arrowhead": 0,
           "arrowwidth": 1
          },
          "autotypenumbers": "strict",
          "coloraxis": {
           "colorbar": {
            "outlinewidth": 0,
            "ticks": ""
           }
          },
          "colorscale": {
           "diverging": [
            [
             0,
             "#8e0152"
            ],
            [
             0.1,
             "#c51b7d"
            ],
            [
             0.2,
             "#de77ae"
            ],
            [
             0.3,
             "#f1b6da"
            ],
            [
             0.4,
             "#fde0ef"
            ],
            [
             0.5,
             "#f7f7f7"
            ],
            [
             0.6,
             "#e6f5d0"
            ],
            [
             0.7,
             "#b8e186"
            ],
            [
             0.8,
             "#7fbc41"
            ],
            [
             0.9,
             "#4d9221"
            ],
            [
             1,
             "#276419"
            ]
           ],
           "sequential": [
            [
             0,
             "#0d0887"
            ],
            [
             0.1111111111111111,
             "#46039f"
            ],
            [
             0.2222222222222222,
             "#7201a8"
            ],
            [
             0.3333333333333333,
             "#9c179e"
            ],
            [
             0.4444444444444444,
             "#bd3786"
            ],
            [
             0.5555555555555556,
             "#d8576b"
            ],
            [
             0.6666666666666666,
             "#ed7953"
            ],
            [
             0.7777777777777778,
             "#fb9f3a"
            ],
            [
             0.8888888888888888,
             "#fdca26"
            ],
            [
             1,
             "#f0f921"
            ]
           ],
           "sequentialminus": [
            [
             0,
             "#0d0887"
            ],
            [
             0.1111111111111111,
             "#46039f"
            ],
            [
             0.2222222222222222,
             "#7201a8"
            ],
            [
             0.3333333333333333,
             "#9c179e"
            ],
            [
             0.4444444444444444,
             "#bd3786"
            ],
            [
             0.5555555555555556,
             "#d8576b"
            ],
            [
             0.6666666666666666,
             "#ed7953"
            ],
            [
             0.7777777777777778,
             "#fb9f3a"
            ],
            [
             0.8888888888888888,
             "#fdca26"
            ],
            [
             1,
             "#f0f921"
            ]
           ]
          },
          "colorway": [
           "#636efa",
           "#EF553B",
           "#00cc96",
           "#ab63fa",
           "#FFA15A",
           "#19d3f3",
           "#FF6692",
           "#B6E880",
           "#FF97FF",
           "#FECB52"
          ],
          "font": {
           "color": "#2a3f5f"
          },
          "geo": {
           "bgcolor": "white",
           "lakecolor": "white",
           "landcolor": "#E5ECF6",
           "showlakes": true,
           "showland": true,
           "subunitcolor": "white"
          },
          "hoverlabel": {
           "align": "left"
          },
          "hovermode": "closest",
          "mapbox": {
           "style": "light"
          },
          "paper_bgcolor": "white",
          "plot_bgcolor": "#E5ECF6",
          "polar": {
           "angularaxis": {
            "gridcolor": "white",
            "linecolor": "white",
            "ticks": ""
           },
           "bgcolor": "#E5ECF6",
           "radialaxis": {
            "gridcolor": "white",
            "linecolor": "white",
            "ticks": ""
           }
          },
          "scene": {
           "xaxis": {
            "backgroundcolor": "#E5ECF6",
            "gridcolor": "white",
            "gridwidth": 2,
            "linecolor": "white",
            "showbackground": true,
            "ticks": "",
            "zerolinecolor": "white"
           },
           "yaxis": {
            "backgroundcolor": "#E5ECF6",
            "gridcolor": "white",
            "gridwidth": 2,
            "linecolor": "white",
            "showbackground": true,
            "ticks": "",
            "zerolinecolor": "white"
           },
           "zaxis": {
            "backgroundcolor": "#E5ECF6",
            "gridcolor": "white",
            "gridwidth": 2,
            "linecolor": "white",
            "showbackground": true,
            "ticks": "",
            "zerolinecolor": "white"
           }
          },
          "shapedefaults": {
           "line": {
            "color": "#2a3f5f"
           }
          },
          "ternary": {
           "aaxis": {
            "gridcolor": "white",
            "linecolor": "white",
            "ticks": ""
           },
           "baxis": {
            "gridcolor": "white",
            "linecolor": "white",
            "ticks": ""
           },
           "bgcolor": "#E5ECF6",
           "caxis": {
            "gridcolor": "white",
            "linecolor": "white",
            "ticks": ""
           }
          },
          "title": {
           "x": 0.05
          },
          "xaxis": {
           "automargin": true,
           "gridcolor": "white",
           "linecolor": "white",
           "ticks": "",
           "title": {
            "standoff": 15
           },
           "zerolinecolor": "white",
           "zerolinewidth": 2
          },
          "yaxis": {
           "automargin": true,
           "gridcolor": "white",
           "linecolor": "white",
           "ticks": "",
           "title": {
            "standoff": 15
           },
           "zerolinecolor": "white",
           "zerolinewidth": 2
          }
         }
        },
        "xaxis": {
         "anchor": "y",
         "domain": [
          0,
          1
         ],
         "title": {
          "text": "Conocidos"
         }
        },
        "yaxis": {
         "anchor": "x",
         "domain": [
          0,
          1
         ],
         "title": {
          "text": "value"
         }
        }
       }
      },
      "text/html": [
       "<div>                            <div id=\"3731954b-b770-45f2-958c-7dc4d17c105e\" class=\"plotly-graph-div\" style=\"height:525px; width:100%;\"></div>            <script type=\"text/javascript\">                require([\"plotly\"], function(Plotly) {                    window.PLOTLYENV=window.PLOTLYENV || {};                                    if (document.getElementById(\"3731954b-b770-45f2-958c-7dc4d17c105e\")) {                    Plotly.newPlot(                        \"3731954b-b770-45f2-958c-7dc4d17c105e\",                        [{\"hovertemplate\":\"variable=kappa\\u003cbr\\u003eConocidos=%{x}\\u003cbr\\u003evalue=%{y}\\u003cextra\\u003e\\u003c\\u002fextra\\u003e\",\"legendgroup\":\"kappa\",\"line\":{\"color\":\"#636efa\",\"dash\":\"solid\"},\"marker\":{\"symbol\":\"circle\"},\"mode\":\"lines\",\"name\":\"kappa\",\"orientation\":\"v\",\"showlegend\":true,\"x\":[0,1,2,3,4,5,6,7,8,9,10,11,12,13,14,15,16,17,18,19,20,21,22,23,24,25,26,27,28,29,30,31,32,33,34,35,36,37,38,39,40,41,42,43,44,45,46,47,48,49,50,51,52,53,54,55,56,57,58,59,60,61,62,63,64,65,66,67,68,69,70,71,72,73,74,75,76,77,78,79,80,81,82,83,84,85,86,87,88,89,90,91,92,93,94,95,96,97,98,99,100],\"xaxis\":\"x\",\"y\":[-0.0084438812302563,-0.002900941843459348,0.007264801099784335,0.015260794246774845,0.027888602387006967,0.03779689713172374,0.05090713452130424,0.05796268531899951,0.0658604395343465,0.07183544294934097,0.08093306782205956,0.09035000499655255,0.10780377156519327,0.12539735281873976,0.14246647669542312,0.15362199464779913,0.16102865684776035,0.16946915483315728,0.17868209882382835,0.19184458401673554,0.2009493510277841,0.20709562234679424,0.21488012071580442,0.22863655006888528,0.2429511742297924,0.25205035469331016,0.2630515817681488,0.2767351761053787,0.28324436665674524,0.29564509694918073,0.3034497602674887,0.31435828196052784,0.32380653873240084,0.3343189019816376,0.34541097056671344,0.35873954656235674,0.365946609847963,0.3802436531608646,0.3917025976150833,0.4041308603261705,0.4111427795792354,0.4229597263385926,0.43412692389447916,0.44830031082215727,0.45982816695354845,0.46912632183345726,0.4812202779156336,0.49198139168190225,0.49403758156823796,0.50443684972425,0.513057388335295,0.5215378548698708,0.530230654935348,0.5420044696090557,0.5500715345064611,0.5550344433972731,0.5669311287591083,0.5768575122697323,0.5826085258623623,0.590923170950833,0.5989681452891226,0.6101991687847906,0.6189814083741434,0.6279611911728196,0.6406349603240363,0.6481783942493149,0.6578772160861532,0.6689999848291242,0.6762638654146835,0.6855583128704006,0.6970606772957533,0.7031475924648896,0.7094714792480086,0.7165532161498627,0.72721921273299,0.735570191941435,0.746193910007924,0.7596912958648874,0.7684232648886378,0.7829745954714808,0.7968263900148358,0.8047228771228451,0.8170487814035885,0.8278195907168772,0.8356855109421233,0.8474892361972579,0.8571127692055365,0.8668059178112265,0.873695798862755,0.8836334285767655,0.8968658223965356,0.9116817840675537,0.9167954842249209,0.9269873822238922,0.937656833629432,0.9474698036034263,0.9576702502033188,0.970275936502836,0.9861570805799316,0.9951877202301967,1.0],\"yaxis\":\"y\",\"type\":\"scatter\"},{\"hovertemplate\":\"variable=kappa_cerca\\u003cbr\\u003eConocidos=%{x}\\u003cbr\\u003evalue=%{y}\\u003cextra\\u003e\\u003c\\u002fextra\\u003e\",\"legendgroup\":\"kappa_cerca\",\"line\":{\"color\":\"#EF553B\",\"dash\":\"solid\"},\"marker\":{\"symbol\":\"circle\"},\"mode\":\"lines\",\"name\":\"kappa_cerca\",\"orientation\":\"v\",\"showlegend\":true,\"x\":[0,1,2,3,4,5,6,7,8,9,10,11,12,13,14,15,16,17,18,19,20,21,22,23,24,25,26,27,28,29,30,31,32,33,34,35,36,37,38,39,40,41,42,43,44,45,46,47,48,49,50,51,52,53,54,55,56,57,58,59,60,61,62,63,64,65,66,67,68,69,70,71,72,73,74,75,76,77,78,79,80,81,82,83,84,85,86,87,88,89,90,91,92,93,94,95,96,97,98,99,100],\"xaxis\":\"x\",\"y\":[0.5261777791943391,0.53219559597452,0.5387099034458096,0.5450648578432353,0.5528041440349976,0.5584649904100004,0.565502971084962,0.5706400348297542,0.5747914805256268,0.58050708856619,0.5860131899506316,0.5912722793309997,0.5982776384674764,0.6052696193115619,0.6121857663537289,0.6177625027436837,0.6234232259284511,0.626987189553991,0.631870211438333,0.63798311698778,0.64496705544399,0.6495754521403205,0.653648785266292,0.661381701849888,0.6682637427953397,0.6728272958189031,0.6785102587868905,0.6857252349792193,0.6900675729035022,0.6957524705451231,0.7010323090391781,0.7059358010901217,0.7107867176989622,0.7160240750442035,0.7213234047887487,0.7272577773921158,0.7310083584394,0.7355913347632193,0.7403021078272041,0.7471132952966912,0.7512775147390066,0.7564054341055961,0.7608169689101479,0.7663428787196218,0.7706882686603411,0.7745328511610308,0.7789442939644761,0.784784491745162,0.787844257874355,0.7924440936422223,0.7967245072919446,0.8017694818454277,0.8056178359605644,0.8102900747447148,0.8143884703582096,0.817641448354548,0.8229777559719229,0.8273706469180778,0.8301224545864017,0.833771912830845,0.8375015658070321,0.8421837015303547,0.8473421001677033,0.851606124252331,0.855577505494665,0.8586929664949996,0.8633012679419769,0.8675185346543167,0.8710141489424459,0.8758343445676365,0.8799140518757328,0.8831398807681456,0.8862359338909112,0.8905494638007583,0.8953365277108153,0.8991951231652316,0.9036788054830738,0.909155415221922,0.9136513289439363,0.9179590370599512,0.9226671756048943,0.9269455025419009,0.930420192937851,0.9351920933888104,0.9381868952401262,0.9424888265927219,0.946394187058633,0.9495912674140685,0.9537927938654577,0.9577805048336324,0.9622682939033406,0.9672559899446475,0.9697779709865179,0.9746710452632464,0.9781671831354758,0.9817366551117229,0.9854049766158428,0.9892102289928401,0.992990871878125,0.9967483840002969,1.0],\"yaxis\":\"y\",\"type\":\"scatter\"},{\"hovertemplate\":\"variable=kappa_lejos\\u003cbr\\u003eConocidos=%{x}\\u003cbr\\u003evalue=%{y}\\u003cextra\\u003e\\u003c\\u002fextra\\u003e\",\"legendgroup\":\"kappa_lejos\",\"line\":{\"color\":\"#00cc96\",\"dash\":\"solid\"},\"marker\":{\"symbol\":\"circle\"},\"mode\":\"lines\",\"name\":\"kappa_lejos\",\"orientation\":\"v\",\"showlegend\":true,\"x\":[0,1,2,3,4,5,6,7,8,9,10,11,12,13,14,15,16,17,18,19,20,21,22,23,24,25,26,27,28,29,30,31,32,33,34,35,36,37,38,39,40,41,42,43,44,45,46,47,48,49,50,51,52,53,54,55,56,57,58,59,60,61,62,63,64,65,66,67,68,69,70,71,72,73,74,75,76,77,78,79,80,81,82,83,84,85,86,87,88,89,90,91,92,93,94,95,96,97,98,99,100],\"xaxis\":\"x\",\"y\":[-0.45165018440277804,-0.4501671950232722,-0.44309091601311934,-0.43845242858111244,-0.4284724491571552,-0.42466598166824854,-0.4165882630454283,-0.41289796055991856,-0.4086812031230036,-0.40190976563887393,-0.3949476265567684,-0.3895695828916428,-0.37951462388734725,-0.36827110445155053,-0.3594923221069517,-0.3526370825931304,-0.3487684154236832,-0.34432690681197253,-0.3369901152913948,-0.3265593230823638,-0.3162874693348423,-0.30966733619543896,-0.30652102764871914,-0.2954999987046014,-0.2840923185613127,-0.27847794127617265,-0.270202805024641,-0.26055753552014327,-0.2548616630752436,-0.24379834264383304,-0.2351563422984837,-0.2282951397179318,-0.22189672701468854,-0.2105762614744342,-0.20252719240083072,-0.187874642678294,-0.17983199970898833,-0.16949663437009077,-0.16087982664763834,-0.1482145841526894,-0.14236962182609414,-0.130723134781489,-0.12082972101916001,-0.10780454505273251,-0.097949712058919,-0.08836336831599834,-0.08010317145066037,-0.06225353365681152,-0.0563800399010117,-0.04459047056369858,-0.0354774127198314,-0.0228434296773099,-0.010667834271827603,0.0019746218512218805,0.013082951767995676,0.02075793601059328,0.03794442161909306,0.052458536202722006,0.058431601892923624,0.06577564133739988,0.07378100339940707,0.08727564486365724,0.10471422047718404,0.11973782089673601,0.13567249606830645,0.14628796313000492,0.16536757245983758,0.18359619416851325,0.19807739645241784,0.21634074325635522,0.23431932870915784,0.246383990305735,0.2596584227975548,0.2818024634117555,0.3004661703224414,0.3184189090984587,0.33996290219398506,0.36383910604015146,0.38242159489939853,0.4068167340892581,0.433076776038258,0.45429443951093795,0.47698948544323627,0.5064655251537568,0.5241070125096614,0.5500801158771537,0.5729190474338134,0.5924348994216071,0.6198696830108932,0.6487275891299761,0.6802674593307123,0.7240254112742346,0.7451006712280288,0.7832616973800356,0.8132044017633255,0.8410639193474179,0.8675862623461127,0.8979511048975167,0.934346008882829,0.9664694155400775,1.0],\"yaxis\":\"y\",\"type\":\"scatter\"},{\"hovertemplate\":\"variable=accuracy\\u003cbr\\u003eConocidos=%{x}\\u003cbr\\u003evalue=%{y}\\u003cextra\\u003e\\u003c\\u002fextra\\u003e\",\"legendgroup\":\"accuracy\",\"line\":{\"color\":\"#ab63fa\",\"dash\":\"solid\"},\"marker\":{\"symbol\":\"circle\"},\"mode\":\"lines\",\"name\":\"accuracy\",\"orientation\":\"v\",\"showlegend\":true,\"x\":[0,1,2,3,4,5,6,7,8,9,10,11,12,13,14,15,16,17,18,19,20,21,22,23,24,25,26,27,28,29,30,31,32,33,34,35,36,37,38,39,40,41,42,43,44,45,46,47,48,49,50,51,52,53,54,55,56,57,58,59,60,61,62,63,64,65,66,67,68,69,70,71,72,73,74,75,76,77,78,79,80,81,82,83,84,85,86,87,88,89,90,91,92,93,94,95,96,97,98,99,100],\"xaxis\":\"x\",\"y\":[0.24141380460153383,0.2494164721573858,0.25641880626875624,0.26475491830610204,0.2717572524174725,0.2804268089363121,0.2874291430476826,0.294431477159053,0.2994331443814605,0.3064354784928309,0.3127709236412137,0.320106702234078,0.32877625875291766,0.33811270423474493,0.3474491497165722,0.3541180393464488,0.3624541513837946,0.3677892630876959,0.3737912637545849,0.3824608202734245,0.3911303767922641,0.3967989329776592,0.40280093364454816,0.4144714904968323,0.42480826942314104,0.432810936978993,0.4411470490163388,0.45248416138712905,0.4574858286095365,0.4661553851283761,0.4734911637212404,0.4818272757585862,0.48882960986995666,0.49549849949983327,0.5055018339446482,0.5141713904634878,0.5185061687229077,0.5271757252417473,0.5358452817605869,0.5468489496498833,0.5538512837612537,0.5618539513171057,0.5695231743914638,0.5768589529843281,0.5841947315771924,0.5901967322440813,0.5978659553184394,0.6068689563187729,0.6108702900966989,0.6195398466155385,0.6262087362454152,0.6348782927642548,0.6408802934311437,0.648216072024008,0.6555518506168723,0.6612204068022675,0.6708902967655885,0.6775591863954652,0.6825608536178727,0.6888962987662555,0.695565188396132,0.7029009669889963,0.7125708569523175,0.7205735245081694,0.727242414138046,0.7325775258419474,0.7389129709903302,0.745248416138713,0.750916972324108,0.7599199733244415,0.766588862954318,0.7729243081027009,0.7779259753251083,0.7849283094364788,0.7929309769923307,0.8002667555851951,0.8096032010670223,0.8209403134378126,0.8289429809936646,0.837945981993998,0.8479493164388129,0.8552850950316773,0.8626208736245415,0.8706235411803934,0.8759586528842948,0.8849616538846282,0.8929643214404802,0.8996332110703568,0.9073024341447149,0.9139713237745916,0.9219739913304434,0.9313104368122708,0.9349783261087029,0.9443147715905301,0.9516505501833945,0.9583194398132711,0.9669889963321107,0.9759919973324441,0.9849949983327776,0.9933311103701233,1.0],\"yaxis\":\"y\",\"type\":\"scatter\"},{\"hovertemplate\":\"variable=balanced_accuracy\\u003cbr\\u003eConocidos=%{x}\\u003cbr\\u003evalue=%{y}\\u003cextra\\u003e\\u003c\\u002fextra\\u003e\",\"legendgroup\":\"balanced_accuracy\",\"line\":{\"color\":\"#FFA15A\",\"dash\":\"solid\"},\"marker\":{\"symbol\":\"circle\"},\"mode\":\"lines\",\"name\":\"balanced_accuracy\",\"orientation\":\"v\",\"showlegend\":true,\"x\":[0,1,2,3,4,5,6,7,8,9,10,11,12,13,14,15,16,17,18,19,20,21,22,23,24,25,26,27,28,29,30,31,32,33,34,35,36,37,38,39,40,41,42,43,44,45,46,47,48,49,50,51,52,53,54,55,56,57,58,59,60,61,62,63,64,65,66,67,68,69,70,71,72,73,74,75,76,77,78,79,80,81,82,83,84,85,86,87,88,89,90,91,92,93,94,95,96,97,98,99,100],\"xaxis\":\"x\",\"y\":[0.19781671101270798,0.20448739772086277,0.21450548679465772,0.22351733595538792,0.23161105599480852,0.2387722129645729,0.2490442937666974,0.2569229670237966,0.2608683180780198,0.26703572187794145,0.2767374953213155,0.2847758743518455,0.29643465479243136,0.31274979691112237,0.3224001386652663,0.32782485860803445,0.3345179446332952,0.34093722104750157,0.3478495640671101,0.3596385110713113,0.3671280052578009,0.3718481757227855,0.37692687175297857,0.39318407935556776,0.4040675752284747,0.41294228700521884,0.41981926389817026,0.43332453839052565,0.4396839181740944,0.45115736011451324,0.45721504946280084,0.463947580006718,0.46964220024088005,0.4755463440694692,0.4838561054395997,0.4932018150049494,0.49671042010163846,0.5081572496763437,0.5195225938699437,0.5330535010890355,0.5409321743461346,0.5478067239676324,0.558573020086475,0.5690663199974834,0.5794695470022003,0.5867829244429652,0.5930715691366386,0.6028444574953592,0.6061370361707497,0.6156297884289261,0.6212055950407901,0.6284313612624481,0.6356325969801253,0.64596717075668,0.6520094316082325,0.6568065439054052,0.6667441616528026,0.6769380220626016,0.6832831220607511,0.6885184279479343,0.6939314644490759,0.6997074009920045,0.7076669254009522,0.7141418882337699,0.7260936025121121,0.7327597307619386,0.7379801077250348,0.7452821322244823,0.7500023026894669,0.7576300829712586,0.7694891279995172,0.7765663694801415,0.7848377857177901,0.7950157496373546,0.8018774671059097,0.8081722720533154,0.8181017702690261,0.8270847561299709,0.833667317136959,0.8433981646332308,0.8540240927950385,0.8599542119235032,0.8658382462132505,0.8768426375701882,0.8811199018239064,0.8904102703803656,0.8971935983842562,0.902902667476176,0.911367076588761,0.9165644171689131,0.9227238749379485,0.9346442986450517,0.9397163199394528,0.9476496999761862,0.9534774136180653,0.959075788619374,0.9665089621579958,0.9739840074867274,0.985551098316207,0.9945966997353605,1.0],\"yaxis\":\"y\",\"type\":\"scatter\"}],                        {\"template\":{\"data\":{\"histogram2dcontour\":[{\"type\":\"histogram2dcontour\",\"colorbar\":{\"outlinewidth\":0,\"ticks\":\"\"},\"colorscale\":[[0.0,\"#0d0887\"],[0.1111111111111111,\"#46039f\"],[0.2222222222222222,\"#7201a8\"],[0.3333333333333333,\"#9c179e\"],[0.4444444444444444,\"#bd3786\"],[0.5555555555555556,\"#d8576b\"],[0.6666666666666666,\"#ed7953\"],[0.7777777777777778,\"#fb9f3a\"],[0.8888888888888888,\"#fdca26\"],[1.0,\"#f0f921\"]]}],\"choropleth\":[{\"type\":\"choropleth\",\"colorbar\":{\"outlinewidth\":0,\"ticks\":\"\"}}],\"histogram2d\":[{\"type\":\"histogram2d\",\"colorbar\":{\"outlinewidth\":0,\"ticks\":\"\"},\"colorscale\":[[0.0,\"#0d0887\"],[0.1111111111111111,\"#46039f\"],[0.2222222222222222,\"#7201a8\"],[0.3333333333333333,\"#9c179e\"],[0.4444444444444444,\"#bd3786\"],[0.5555555555555556,\"#d8576b\"],[0.6666666666666666,\"#ed7953\"],[0.7777777777777778,\"#fb9f3a\"],[0.8888888888888888,\"#fdca26\"],[1.0,\"#f0f921\"]]}],\"heatmap\":[{\"type\":\"heatmap\",\"colorbar\":{\"outlinewidth\":0,\"ticks\":\"\"},\"colorscale\":[[0.0,\"#0d0887\"],[0.1111111111111111,\"#46039f\"],[0.2222222222222222,\"#7201a8\"],[0.3333333333333333,\"#9c179e\"],[0.4444444444444444,\"#bd3786\"],[0.5555555555555556,\"#d8576b\"],[0.6666666666666666,\"#ed7953\"],[0.7777777777777778,\"#fb9f3a\"],[0.8888888888888888,\"#fdca26\"],[1.0,\"#f0f921\"]]}],\"heatmapgl\":[{\"type\":\"heatmapgl\",\"colorbar\":{\"outlinewidth\":0,\"ticks\":\"\"},\"colorscale\":[[0.0,\"#0d0887\"],[0.1111111111111111,\"#46039f\"],[0.2222222222222222,\"#7201a8\"],[0.3333333333333333,\"#9c179e\"],[0.4444444444444444,\"#bd3786\"],[0.5555555555555556,\"#d8576b\"],[0.6666666666666666,\"#ed7953\"],[0.7777777777777778,\"#fb9f3a\"],[0.8888888888888888,\"#fdca26\"],[1.0,\"#f0f921\"]]}],\"contourcarpet\":[{\"type\":\"contourcarpet\",\"colorbar\":{\"outlinewidth\":0,\"ticks\":\"\"}}],\"contour\":[{\"type\":\"contour\",\"colorbar\":{\"outlinewidth\":0,\"ticks\":\"\"},\"colorscale\":[[0.0,\"#0d0887\"],[0.1111111111111111,\"#46039f\"],[0.2222222222222222,\"#7201a8\"],[0.3333333333333333,\"#9c179e\"],[0.4444444444444444,\"#bd3786\"],[0.5555555555555556,\"#d8576b\"],[0.6666666666666666,\"#ed7953\"],[0.7777777777777778,\"#fb9f3a\"],[0.8888888888888888,\"#fdca26\"],[1.0,\"#f0f921\"]]}],\"surface\":[{\"type\":\"surface\",\"colorbar\":{\"outlinewidth\":0,\"ticks\":\"\"},\"colorscale\":[[0.0,\"#0d0887\"],[0.1111111111111111,\"#46039f\"],[0.2222222222222222,\"#7201a8\"],[0.3333333333333333,\"#9c179e\"],[0.4444444444444444,\"#bd3786\"],[0.5555555555555556,\"#d8576b\"],[0.6666666666666666,\"#ed7953\"],[0.7777777777777778,\"#fb9f3a\"],[0.8888888888888888,\"#fdca26\"],[1.0,\"#f0f921\"]]}],\"mesh3d\":[{\"type\":\"mesh3d\",\"colorbar\":{\"outlinewidth\":0,\"ticks\":\"\"}}],\"scatter\":[{\"fillpattern\":{\"fillmode\":\"overlay\",\"size\":10,\"solidity\":0.2},\"type\":\"scatter\"}],\"parcoords\":[{\"type\":\"parcoords\",\"line\":{\"colorbar\":{\"outlinewidth\":0,\"ticks\":\"\"}}}],\"scatterpolargl\":[{\"type\":\"scatterpolargl\",\"marker\":{\"colorbar\":{\"outlinewidth\":0,\"ticks\":\"\"}}}],\"bar\":[{\"error_x\":{\"color\":\"#2a3f5f\"},\"error_y\":{\"color\":\"#2a3f5f\"},\"marker\":{\"line\":{\"color\":\"#E5ECF6\",\"width\":0.5},\"pattern\":{\"fillmode\":\"overlay\",\"size\":10,\"solidity\":0.2}},\"type\":\"bar\"}],\"scattergeo\":[{\"type\":\"scattergeo\",\"marker\":{\"colorbar\":{\"outlinewidth\":0,\"ticks\":\"\"}}}],\"scatterpolar\":[{\"type\":\"scatterpolar\",\"marker\":{\"colorbar\":{\"outlinewidth\":0,\"ticks\":\"\"}}}],\"histogram\":[{\"marker\":{\"pattern\":{\"fillmode\":\"overlay\",\"size\":10,\"solidity\":0.2}},\"type\":\"histogram\"}],\"scattergl\":[{\"type\":\"scattergl\",\"marker\":{\"colorbar\":{\"outlinewidth\":0,\"ticks\":\"\"}}}],\"scatter3d\":[{\"type\":\"scatter3d\",\"line\":{\"colorbar\":{\"outlinewidth\":0,\"ticks\":\"\"}},\"marker\":{\"colorbar\":{\"outlinewidth\":0,\"ticks\":\"\"}}}],\"scattermapbox\":[{\"type\":\"scattermapbox\",\"marker\":{\"colorbar\":{\"outlinewidth\":0,\"ticks\":\"\"}}}],\"scatterternary\":[{\"type\":\"scatterternary\",\"marker\":{\"colorbar\":{\"outlinewidth\":0,\"ticks\":\"\"}}}],\"scattercarpet\":[{\"type\":\"scattercarpet\",\"marker\":{\"colorbar\":{\"outlinewidth\":0,\"ticks\":\"\"}}}],\"carpet\":[{\"aaxis\":{\"endlinecolor\":\"#2a3f5f\",\"gridcolor\":\"white\",\"linecolor\":\"white\",\"minorgridcolor\":\"white\",\"startlinecolor\":\"#2a3f5f\"},\"baxis\":{\"endlinecolor\":\"#2a3f5f\",\"gridcolor\":\"white\",\"linecolor\":\"white\",\"minorgridcolor\":\"white\",\"startlinecolor\":\"#2a3f5f\"},\"type\":\"carpet\"}],\"table\":[{\"cells\":{\"fill\":{\"color\":\"#EBF0F8\"},\"line\":{\"color\":\"white\"}},\"header\":{\"fill\":{\"color\":\"#C8D4E3\"},\"line\":{\"color\":\"white\"}},\"type\":\"table\"}],\"barpolar\":[{\"marker\":{\"line\":{\"color\":\"#E5ECF6\",\"width\":0.5},\"pattern\":{\"fillmode\":\"overlay\",\"size\":10,\"solidity\":0.2}},\"type\":\"barpolar\"}],\"pie\":[{\"automargin\":true,\"type\":\"pie\"}]},\"layout\":{\"autotypenumbers\":\"strict\",\"colorway\":[\"#636efa\",\"#EF553B\",\"#00cc96\",\"#ab63fa\",\"#FFA15A\",\"#19d3f3\",\"#FF6692\",\"#B6E880\",\"#FF97FF\",\"#FECB52\"],\"font\":{\"color\":\"#2a3f5f\"},\"hovermode\":\"closest\",\"hoverlabel\":{\"align\":\"left\"},\"paper_bgcolor\":\"white\",\"plot_bgcolor\":\"#E5ECF6\",\"polar\":{\"bgcolor\":\"#E5ECF6\",\"angularaxis\":{\"gridcolor\":\"white\",\"linecolor\":\"white\",\"ticks\":\"\"},\"radialaxis\":{\"gridcolor\":\"white\",\"linecolor\":\"white\",\"ticks\":\"\"}},\"ternary\":{\"bgcolor\":\"#E5ECF6\",\"aaxis\":{\"gridcolor\":\"white\",\"linecolor\":\"white\",\"ticks\":\"\"},\"baxis\":{\"gridcolor\":\"white\",\"linecolor\":\"white\",\"ticks\":\"\"},\"caxis\":{\"gridcolor\":\"white\",\"linecolor\":\"white\",\"ticks\":\"\"}},\"coloraxis\":{\"colorbar\":{\"outlinewidth\":0,\"ticks\":\"\"}},\"colorscale\":{\"sequential\":[[0.0,\"#0d0887\"],[0.1111111111111111,\"#46039f\"],[0.2222222222222222,\"#7201a8\"],[0.3333333333333333,\"#9c179e\"],[0.4444444444444444,\"#bd3786\"],[0.5555555555555556,\"#d8576b\"],[0.6666666666666666,\"#ed7953\"],[0.7777777777777778,\"#fb9f3a\"],[0.8888888888888888,\"#fdca26\"],[1.0,\"#f0f921\"]],\"sequentialminus\":[[0.0,\"#0d0887\"],[0.1111111111111111,\"#46039f\"],[0.2222222222222222,\"#7201a8\"],[0.3333333333333333,\"#9c179e\"],[0.4444444444444444,\"#bd3786\"],[0.5555555555555556,\"#d8576b\"],[0.6666666666666666,\"#ed7953\"],[0.7777777777777778,\"#fb9f3a\"],[0.8888888888888888,\"#fdca26\"],[1.0,\"#f0f921\"]],\"diverging\":[[0,\"#8e0152\"],[0.1,\"#c51b7d\"],[0.2,\"#de77ae\"],[0.3,\"#f1b6da\"],[0.4,\"#fde0ef\"],[0.5,\"#f7f7f7\"],[0.6,\"#e6f5d0\"],[0.7,\"#b8e186\"],[0.8,\"#7fbc41\"],[0.9,\"#4d9221\"],[1,\"#276419\"]]},\"xaxis\":{\"gridcolor\":\"white\",\"linecolor\":\"white\",\"ticks\":\"\",\"title\":{\"standoff\":15},\"zerolinecolor\":\"white\",\"automargin\":true,\"zerolinewidth\":2},\"yaxis\":{\"gridcolor\":\"white\",\"linecolor\":\"white\",\"ticks\":\"\",\"title\":{\"standoff\":15},\"zerolinecolor\":\"white\",\"automargin\":true,\"zerolinewidth\":2},\"scene\":{\"xaxis\":{\"backgroundcolor\":\"#E5ECF6\",\"gridcolor\":\"white\",\"linecolor\":\"white\",\"showbackground\":true,\"ticks\":\"\",\"zerolinecolor\":\"white\",\"gridwidth\":2},\"yaxis\":{\"backgroundcolor\":\"#E5ECF6\",\"gridcolor\":\"white\",\"linecolor\":\"white\",\"showbackground\":true,\"ticks\":\"\",\"zerolinecolor\":\"white\",\"gridwidth\":2},\"zaxis\":{\"backgroundcolor\":\"#E5ECF6\",\"gridcolor\":\"white\",\"linecolor\":\"white\",\"showbackground\":true,\"ticks\":\"\",\"zerolinecolor\":\"white\",\"gridwidth\":2}},\"shapedefaults\":{\"line\":{\"color\":\"#2a3f5f\"}},\"annotationdefaults\":{\"arrowcolor\":\"#2a3f5f\",\"arrowhead\":0,\"arrowwidth\":1},\"geo\":{\"bgcolor\":\"white\",\"landcolor\":\"#E5ECF6\",\"subunitcolor\":\"white\",\"showland\":true,\"showlakes\":true,\"lakecolor\":\"white\"},\"title\":{\"x\":0.05},\"mapbox\":{\"style\":\"light\"}}},\"xaxis\":{\"anchor\":\"y\",\"domain\":[0.0,1.0],\"title\":{\"text\":\"Conocidos\"}},\"yaxis\":{\"anchor\":\"x\",\"domain\":[0.0,1.0],\"title\":{\"text\":\"value\"}},\"legend\":{\"title\":{\"text\":\"variable\"},\"tracegroupgap\":0},\"margin\":{\"t\":60}},                        {\"responsive\": true}                    ).then(function(){\n",
       "                            \n",
       "var gd = document.getElementById('3731954b-b770-45f2-958c-7dc4d17c105e');\n",
       "var x = new MutationObserver(function (mutations, observer) {{\n",
       "        var display = window.getComputedStyle(gd).display;\n",
       "        if (!display || display === 'none') {{\n",
       "            console.log([gd, 'removed!']);\n",
       "            Plotly.purge(gd);\n",
       "            observer.disconnect();\n",
       "        }}\n",
       "}});\n",
       "\n",
       "// Listen for the removal of the full notebook cells\n",
       "var notebookContainer = gd.closest('#notebook-container');\n",
       "if (notebookContainer) {{\n",
       "    x.observe(notebookContainer, {childList: true});\n",
       "}}\n",
       "\n",
       "// Listen for the clearing of the current output cell\n",
       "var outputEl = gd.closest('.output');\n",
       "if (outputEl) {{\n",
       "    x.observe(outputEl, {childList: true});\n",
       "}}\n",
       "\n",
       "                        })                };                });            </script>        </div>"
      ]
     },
     "metadata": {},
     "output_type": "display_data"
    }
   ],
   "source": [
    "#Grafico el comportamiento de la métrica a medida que incremento los aciertos. Tambien muestro lor resultados de otras metricas como Accuracy y Balanced Accuracy\n",
    "px.line(kappa_progression,x='Conocidos',y=['kappa',\n",
    "                                           'kappa_cerca',\n",
    "                                           'kappa_lejos',\n",
    "                                           'accuracy',\n",
    "                                           'balanced_accuracy'])"
   ]
  },
  {
   "cell_type": "code",
   "execution_count": 57,
   "metadata": {},
   "outputs": [
    {
     "data": {
      "application/vnd.plotly.v1+json": {
       "config": {
        "plotlyServerURL": "https://plot.ly"
       },
       "data": [
        {
         "type": "heatmap",
         "x": [
          0,
          1,
          2,
          3,
          4
         ],
         "y": [
          0,
          1,
          2,
          3,
          4
         ],
         "z": [
          [
           58.536585365853654,
           41.46341463414634,
           0,
           0,
           0
          ],
          [
           0,
           50.323624595469255,
           49.676375404530745,
           0,
           0
          ],
          [
           0,
           0,
           52.29244114002478,
           47.70755885997522,
           0
          ],
          [
           0,
           0,
           0,
           50.920245398773,
           49.079754601226995
          ],
          [
           0,
           0,
           0,
           52.261904761904766,
           47.73809523809524
          ]
         ]
        }
       ],
       "layout": {
        "annotations": [
         {
          "font": {
           "color": "white"
          },
          "showarrow": false,
          "text": "58.5 - 48",
          "x": 0,
          "xref": "x",
          "y": 0,
          "yref": "y"
         },
         {
          "font": {
           "color": "white"
          },
          "showarrow": false,
          "text": "41.5 - 34",
          "x": 1,
          "xref": "x",
          "y": 0,
          "yref": "y"
         },
         {
          "font": {
           "color": "white"
          },
          "showarrow": false,
          "text": "0.0 - 0",
          "x": 2,
          "xref": "x",
          "y": 0,
          "yref": "y"
         },
         {
          "font": {
           "color": "white"
          },
          "showarrow": false,
          "text": "0.0 - 0",
          "x": 3,
          "xref": "x",
          "y": 0,
          "yref": "y"
         },
         {
          "font": {
           "color": "white"
          },
          "showarrow": false,
          "text": "0.0 - 0",
          "x": 4,
          "xref": "x",
          "y": 0,
          "yref": "y"
         },
         {
          "font": {
           "color": "white"
          },
          "showarrow": false,
          "text": "0.0 - 0",
          "x": 0,
          "xref": "x",
          "y": 1,
          "yref": "y"
         },
         {
          "font": {
           "color": "white"
          },
          "showarrow": false,
          "text": "50.3 - 311",
          "x": 1,
          "xref": "x",
          "y": 1,
          "yref": "y"
         },
         {
          "font": {
           "color": "white"
          },
          "showarrow": false,
          "text": "49.7 - 307",
          "x": 2,
          "xref": "x",
          "y": 1,
          "yref": "y"
         },
         {
          "font": {
           "color": "white"
          },
          "showarrow": false,
          "text": "0.0 - 0",
          "x": 3,
          "xref": "x",
          "y": 1,
          "yref": "y"
         },
         {
          "font": {
           "color": "white"
          },
          "showarrow": false,
          "text": "0.0 - 0",
          "x": 4,
          "xref": "x",
          "y": 1,
          "yref": "y"
         },
         {
          "font": {
           "color": "white"
          },
          "showarrow": false,
          "text": "0.0 - 0",
          "x": 0,
          "xref": "x",
          "y": 2,
          "yref": "y"
         },
         {
          "font": {
           "color": "white"
          },
          "showarrow": false,
          "text": "0.0 - 0",
          "x": 1,
          "xref": "x",
          "y": 2,
          "yref": "y"
         },
         {
          "font": {
           "color": "white"
          },
          "showarrow": false,
          "text": "52.3 - 422",
          "x": 2,
          "xref": "x",
          "y": 2,
          "yref": "y"
         },
         {
          "font": {
           "color": "white"
          },
          "showarrow": false,
          "text": "47.7 - 385",
          "x": 3,
          "xref": "x",
          "y": 2,
          "yref": "y"
         },
         {
          "font": {
           "color": "white"
          },
          "showarrow": false,
          "text": "0.0 - 0",
          "x": 4,
          "xref": "x",
          "y": 2,
          "yref": "y"
         },
         {
          "font": {
           "color": "white"
          },
          "showarrow": false,
          "text": "0.0 - 0",
          "x": 0,
          "xref": "x",
          "y": 3,
          "yref": "y"
         },
         {
          "font": {
           "color": "white"
          },
          "showarrow": false,
          "text": "0.0 - 0",
          "x": 1,
          "xref": "x",
          "y": 3,
          "yref": "y"
         },
         {
          "font": {
           "color": "white"
          },
          "showarrow": false,
          "text": "0.0 - 0",
          "x": 2,
          "xref": "x",
          "y": 3,
          "yref": "y"
         },
         {
          "font": {
           "color": "white"
          },
          "showarrow": false,
          "text": "50.9 - 332",
          "x": 3,
          "xref": "x",
          "y": 3,
          "yref": "y"
         },
         {
          "font": {
           "color": "white"
          },
          "showarrow": false,
          "text": "49.1 - 320",
          "x": 4,
          "xref": "x",
          "y": 3,
          "yref": "y"
         },
         {
          "font": {
           "color": "white"
          },
          "showarrow": false,
          "text": "0.0 - 0",
          "x": 0,
          "xref": "x",
          "y": 4,
          "yref": "y"
         },
         {
          "font": {
           "color": "white"
          },
          "showarrow": false,
          "text": "0.0 - 0",
          "x": 1,
          "xref": "x",
          "y": 4,
          "yref": "y"
         },
         {
          "font": {
           "color": "white"
          },
          "showarrow": false,
          "text": "0.0 - 0",
          "x": 2,
          "xref": "x",
          "y": 4,
          "yref": "y"
         },
         {
          "font": {
           "color": "white"
          },
          "showarrow": false,
          "text": "52.3 - 439",
          "x": 3,
          "xref": "x",
          "y": 4,
          "yref": "y"
         },
         {
          "font": {
           "color": "white"
          },
          "showarrow": false,
          "text": "47.7 - 401",
          "x": 4,
          "xref": "x",
          "y": 4,
          "yref": "y"
         }
        ],
        "height": 800,
        "template": {
         "data": {
          "bar": [
           {
            "error_x": {
             "color": "#2a3f5f"
            },
            "error_y": {
             "color": "#2a3f5f"
            },
            "marker": {
             "line": {
              "color": "#E5ECF6",
              "width": 0.5
             },
             "pattern": {
              "fillmode": "overlay",
              "size": 10,
              "solidity": 0.2
             }
            },
            "type": "bar"
           }
          ],
          "barpolar": [
           {
            "marker": {
             "line": {
              "color": "#E5ECF6",
              "width": 0.5
             },
             "pattern": {
              "fillmode": "overlay",
              "size": 10,
              "solidity": 0.2
             }
            },
            "type": "barpolar"
           }
          ],
          "carpet": [
           {
            "aaxis": {
             "endlinecolor": "#2a3f5f",
             "gridcolor": "white",
             "linecolor": "white",
             "minorgridcolor": "white",
             "startlinecolor": "#2a3f5f"
            },
            "baxis": {
             "endlinecolor": "#2a3f5f",
             "gridcolor": "white",
             "linecolor": "white",
             "minorgridcolor": "white",
             "startlinecolor": "#2a3f5f"
            },
            "type": "carpet"
           }
          ],
          "choropleth": [
           {
            "colorbar": {
             "outlinewidth": 0,
             "ticks": ""
            },
            "type": "choropleth"
           }
          ],
          "contour": [
           {
            "colorbar": {
             "outlinewidth": 0,
             "ticks": ""
            },
            "colorscale": [
             [
              0,
              "#0d0887"
             ],
             [
              0.1111111111111111,
              "#46039f"
             ],
             [
              0.2222222222222222,
              "#7201a8"
             ],
             [
              0.3333333333333333,
              "#9c179e"
             ],
             [
              0.4444444444444444,
              "#bd3786"
             ],
             [
              0.5555555555555556,
              "#d8576b"
             ],
             [
              0.6666666666666666,
              "#ed7953"
             ],
             [
              0.7777777777777778,
              "#fb9f3a"
             ],
             [
              0.8888888888888888,
              "#fdca26"
             ],
             [
              1,
              "#f0f921"
             ]
            ],
            "type": "contour"
           }
          ],
          "contourcarpet": [
           {
            "colorbar": {
             "outlinewidth": 0,
             "ticks": ""
            },
            "type": "contourcarpet"
           }
          ],
          "heatmap": [
           {
            "colorbar": {
             "outlinewidth": 0,
             "ticks": ""
            },
            "colorscale": [
             [
              0,
              "#0d0887"
             ],
             [
              0.1111111111111111,
              "#46039f"
             ],
             [
              0.2222222222222222,
              "#7201a8"
             ],
             [
              0.3333333333333333,
              "#9c179e"
             ],
             [
              0.4444444444444444,
              "#bd3786"
             ],
             [
              0.5555555555555556,
              "#d8576b"
             ],
             [
              0.6666666666666666,
              "#ed7953"
             ],
             [
              0.7777777777777778,
              "#fb9f3a"
             ],
             [
              0.8888888888888888,
              "#fdca26"
             ],
             [
              1,
              "#f0f921"
             ]
            ],
            "type": "heatmap"
           }
          ],
          "heatmapgl": [
           {
            "colorbar": {
             "outlinewidth": 0,
             "ticks": ""
            },
            "colorscale": [
             [
              0,
              "#0d0887"
             ],
             [
              0.1111111111111111,
              "#46039f"
             ],
             [
              0.2222222222222222,
              "#7201a8"
             ],
             [
              0.3333333333333333,
              "#9c179e"
             ],
             [
              0.4444444444444444,
              "#bd3786"
             ],
             [
              0.5555555555555556,
              "#d8576b"
             ],
             [
              0.6666666666666666,
              "#ed7953"
             ],
             [
              0.7777777777777778,
              "#fb9f3a"
             ],
             [
              0.8888888888888888,
              "#fdca26"
             ],
             [
              1,
              "#f0f921"
             ]
            ],
            "type": "heatmapgl"
           }
          ],
          "histogram": [
           {
            "marker": {
             "pattern": {
              "fillmode": "overlay",
              "size": 10,
              "solidity": 0.2
             }
            },
            "type": "histogram"
           }
          ],
          "histogram2d": [
           {
            "colorbar": {
             "outlinewidth": 0,
             "ticks": ""
            },
            "colorscale": [
             [
              0,
              "#0d0887"
             ],
             [
              0.1111111111111111,
              "#46039f"
             ],
             [
              0.2222222222222222,
              "#7201a8"
             ],
             [
              0.3333333333333333,
              "#9c179e"
             ],
             [
              0.4444444444444444,
              "#bd3786"
             ],
             [
              0.5555555555555556,
              "#d8576b"
             ],
             [
              0.6666666666666666,
              "#ed7953"
             ],
             [
              0.7777777777777778,
              "#fb9f3a"
             ],
             [
              0.8888888888888888,
              "#fdca26"
             ],
             [
              1,
              "#f0f921"
             ]
            ],
            "type": "histogram2d"
           }
          ],
          "histogram2dcontour": [
           {
            "colorbar": {
             "outlinewidth": 0,
             "ticks": ""
            },
            "colorscale": [
             [
              0,
              "#0d0887"
             ],
             [
              0.1111111111111111,
              "#46039f"
             ],
             [
              0.2222222222222222,
              "#7201a8"
             ],
             [
              0.3333333333333333,
              "#9c179e"
             ],
             [
              0.4444444444444444,
              "#bd3786"
             ],
             [
              0.5555555555555556,
              "#d8576b"
             ],
             [
              0.6666666666666666,
              "#ed7953"
             ],
             [
              0.7777777777777778,
              "#fb9f3a"
             ],
             [
              0.8888888888888888,
              "#fdca26"
             ],
             [
              1,
              "#f0f921"
             ]
            ],
            "type": "histogram2dcontour"
           }
          ],
          "mesh3d": [
           {
            "colorbar": {
             "outlinewidth": 0,
             "ticks": ""
            },
            "type": "mesh3d"
           }
          ],
          "parcoords": [
           {
            "line": {
             "colorbar": {
              "outlinewidth": 0,
              "ticks": ""
             }
            },
            "type": "parcoords"
           }
          ],
          "pie": [
           {
            "automargin": true,
            "type": "pie"
           }
          ],
          "scatter": [
           {
            "fillpattern": {
             "fillmode": "overlay",
             "size": 10,
             "solidity": 0.2
            },
            "type": "scatter"
           }
          ],
          "scatter3d": [
           {
            "line": {
             "colorbar": {
              "outlinewidth": 0,
              "ticks": ""
             }
            },
            "marker": {
             "colorbar": {
              "outlinewidth": 0,
              "ticks": ""
             }
            },
            "type": "scatter3d"
           }
          ],
          "scattercarpet": [
           {
            "marker": {
             "colorbar": {
              "outlinewidth": 0,
              "ticks": ""
             }
            },
            "type": "scattercarpet"
           }
          ],
          "scattergeo": [
           {
            "marker": {
             "colorbar": {
              "outlinewidth": 0,
              "ticks": ""
             }
            },
            "type": "scattergeo"
           }
          ],
          "scattergl": [
           {
            "marker": {
             "colorbar": {
              "outlinewidth": 0,
              "ticks": ""
             }
            },
            "type": "scattergl"
           }
          ],
          "scattermapbox": [
           {
            "marker": {
             "colorbar": {
              "outlinewidth": 0,
              "ticks": ""
             }
            },
            "type": "scattermapbox"
           }
          ],
          "scatterpolar": [
           {
            "marker": {
             "colorbar": {
              "outlinewidth": 0,
              "ticks": ""
             }
            },
            "type": "scatterpolar"
           }
          ],
          "scatterpolargl": [
           {
            "marker": {
             "colorbar": {
              "outlinewidth": 0,
              "ticks": ""
             }
            },
            "type": "scatterpolargl"
           }
          ],
          "scatterternary": [
           {
            "marker": {
             "colorbar": {
              "outlinewidth": 0,
              "ticks": ""
             }
            },
            "type": "scatterternary"
           }
          ],
          "surface": [
           {
            "colorbar": {
             "outlinewidth": 0,
             "ticks": ""
            },
            "colorscale": [
             [
              0,
              "#0d0887"
             ],
             [
              0.1111111111111111,
              "#46039f"
             ],
             [
              0.2222222222222222,
              "#7201a8"
             ],
             [
              0.3333333333333333,
              "#9c179e"
             ],
             [
              0.4444444444444444,
              "#bd3786"
             ],
             [
              0.5555555555555556,
              "#d8576b"
             ],
             [
              0.6666666666666666,
              "#ed7953"
             ],
             [
              0.7777777777777778,
              "#fb9f3a"
             ],
             [
              0.8888888888888888,
              "#fdca26"
             ],
             [
              1,
              "#f0f921"
             ]
            ],
            "type": "surface"
           }
          ],
          "table": [
           {
            "cells": {
             "fill": {
              "color": "#EBF0F8"
             },
             "line": {
              "color": "white"
             }
            },
            "header": {
             "fill": {
              "color": "#C8D4E3"
             },
             "line": {
              "color": "white"
             }
            },
            "type": "table"
           }
          ]
         },
         "layout": {
          "annotationdefaults": {
           "arrowcolor": "#2a3f5f",
           "arrowhead": 0,
           "arrowwidth": 1
          },
          "autotypenumbers": "strict",
          "coloraxis": {
           "colorbar": {
            "outlinewidth": 0,
            "ticks": ""
           }
          },
          "colorscale": {
           "diverging": [
            [
             0,
             "#8e0152"
            ],
            [
             0.1,
             "#c51b7d"
            ],
            [
             0.2,
             "#de77ae"
            ],
            [
             0.3,
             "#f1b6da"
            ],
            [
             0.4,
             "#fde0ef"
            ],
            [
             0.5,
             "#f7f7f7"
            ],
            [
             0.6,
             "#e6f5d0"
            ],
            [
             0.7,
             "#b8e186"
            ],
            [
             0.8,
             "#7fbc41"
            ],
            [
             0.9,
             "#4d9221"
            ],
            [
             1,
             "#276419"
            ]
           ],
           "sequential": [
            [
             0,
             "#0d0887"
            ],
            [
             0.1111111111111111,
             "#46039f"
            ],
            [
             0.2222222222222222,
             "#7201a8"
            ],
            [
             0.3333333333333333,
             "#9c179e"
            ],
            [
             0.4444444444444444,
             "#bd3786"
            ],
            [
             0.5555555555555556,
             "#d8576b"
            ],
            [
             0.6666666666666666,
             "#ed7953"
            ],
            [
             0.7777777777777778,
             "#fb9f3a"
            ],
            [
             0.8888888888888888,
             "#fdca26"
            ],
            [
             1,
             "#f0f921"
            ]
           ],
           "sequentialminus": [
            [
             0,
             "#0d0887"
            ],
            [
             0.1111111111111111,
             "#46039f"
            ],
            [
             0.2222222222222222,
             "#7201a8"
            ],
            [
             0.3333333333333333,
             "#9c179e"
            ],
            [
             0.4444444444444444,
             "#bd3786"
            ],
            [
             0.5555555555555556,
             "#d8576b"
            ],
            [
             0.6666666666666666,
             "#ed7953"
            ],
            [
             0.7777777777777778,
             "#fb9f3a"
            ],
            [
             0.8888888888888888,
             "#fdca26"
            ],
            [
             1,
             "#f0f921"
            ]
           ]
          },
          "colorway": [
           "#636efa",
           "#EF553B",
           "#00cc96",
           "#ab63fa",
           "#FFA15A",
           "#19d3f3",
           "#FF6692",
           "#B6E880",
           "#FF97FF",
           "#FECB52"
          ],
          "font": {
           "color": "#2a3f5f"
          },
          "geo": {
           "bgcolor": "white",
           "lakecolor": "white",
           "landcolor": "#E5ECF6",
           "showlakes": true,
           "showland": true,
           "subunitcolor": "white"
          },
          "hoverlabel": {
           "align": "left"
          },
          "hovermode": "closest",
          "mapbox": {
           "style": "light"
          },
          "paper_bgcolor": "white",
          "plot_bgcolor": "#E5ECF6",
          "polar": {
           "angularaxis": {
            "gridcolor": "white",
            "linecolor": "white",
            "ticks": ""
           },
           "bgcolor": "#E5ECF6",
           "radialaxis": {
            "gridcolor": "white",
            "linecolor": "white",
            "ticks": ""
           }
          },
          "scene": {
           "xaxis": {
            "backgroundcolor": "#E5ECF6",
            "gridcolor": "white",
            "gridwidth": 2,
            "linecolor": "white",
            "showbackground": true,
            "ticks": "",
            "zerolinecolor": "white"
           },
           "yaxis": {
            "backgroundcolor": "#E5ECF6",
            "gridcolor": "white",
            "gridwidth": 2,
            "linecolor": "white",
            "showbackground": true,
            "ticks": "",
            "zerolinecolor": "white"
           },
           "zaxis": {
            "backgroundcolor": "#E5ECF6",
            "gridcolor": "white",
            "gridwidth": 2,
            "linecolor": "white",
            "showbackground": true,
            "ticks": "",
            "zerolinecolor": "white"
           }
          },
          "shapedefaults": {
           "line": {
            "color": "#2a3f5f"
           }
          },
          "ternary": {
           "aaxis": {
            "gridcolor": "white",
            "linecolor": "white",
            "ticks": ""
           },
           "baxis": {
            "gridcolor": "white",
            "linecolor": "white",
            "ticks": ""
           },
           "bgcolor": "#E5ECF6",
           "caxis": {
            "gridcolor": "white",
            "linecolor": "white",
            "ticks": ""
           }
          },
          "title": {
           "x": 0.05
          },
          "xaxis": {
           "automargin": true,
           "gridcolor": "white",
           "linecolor": "white",
           "ticks": "",
           "title": {
            "standoff": 15
           },
           "zerolinecolor": "white",
           "zerolinewidth": 2
          },
          "yaxis": {
           "automargin": true,
           "gridcolor": "white",
           "linecolor": "white",
           "ticks": "",
           "title": {
            "standoff": 15
           },
           "zerolinecolor": "white",
           "zerolinewidth": 2
          }
         }
        },
        "title": {
         "text": "Kappa 0.7967245072919446"
        },
        "width": 800,
        "xaxis": {
         "title": {
          "text": "Predicted value"
         }
        },
        "yaxis": {
         "title": {
          "text": "Real value"
         }
        }
       }
      },
      "text/html": [
       "<div>                            <div id=\"ee47833e-254d-4f0a-aec3-c5b2c212679c\" class=\"plotly-graph-div\" style=\"height:800px; width:800px;\"></div>            <script type=\"text/javascript\">                require([\"plotly\"], function(Plotly) {                    window.PLOTLYENV=window.PLOTLYENV || {};                                    if (document.getElementById(\"ee47833e-254d-4f0a-aec3-c5b2c212679c\")) {                    Plotly.newPlot(                        \"ee47833e-254d-4f0a-aec3-c5b2c212679c\",                        [{\"x\":[0,1,2,3,4],\"y\":[0,1,2,3,4],\"z\":[[58.536585365853654,41.46341463414634,0.0,0.0,0.0],[0.0,50.323624595469255,49.676375404530745,0.0,0.0],[0.0,0.0,52.29244114002478,47.70755885997522,0.0],[0.0,0.0,0.0,50.920245398773,49.079754601226995],[0.0,0.0,0.0,52.261904761904766,47.73809523809524]],\"type\":\"heatmap\"}],                        {\"annotations\":[{\"font\":{\"color\":\"white\"},\"showarrow\":false,\"text\":\"58.5 - 48\",\"x\":0,\"xref\":\"x\",\"y\":0,\"yref\":\"y\"},{\"font\":{\"color\":\"white\"},\"showarrow\":false,\"text\":\"41.5 - 34\",\"x\":1,\"xref\":\"x\",\"y\":0,\"yref\":\"y\"},{\"font\":{\"color\":\"white\"},\"showarrow\":false,\"text\":\"0.0 - 0\",\"x\":2,\"xref\":\"x\",\"y\":0,\"yref\":\"y\"},{\"font\":{\"color\":\"white\"},\"showarrow\":false,\"text\":\"0.0 - 0\",\"x\":3,\"xref\":\"x\",\"y\":0,\"yref\":\"y\"},{\"font\":{\"color\":\"white\"},\"showarrow\":false,\"text\":\"0.0 - 0\",\"x\":4,\"xref\":\"x\",\"y\":0,\"yref\":\"y\"},{\"font\":{\"color\":\"white\"},\"showarrow\":false,\"text\":\"0.0 - 0\",\"x\":0,\"xref\":\"x\",\"y\":1,\"yref\":\"y\"},{\"font\":{\"color\":\"white\"},\"showarrow\":false,\"text\":\"50.3 - 311\",\"x\":1,\"xref\":\"x\",\"y\":1,\"yref\":\"y\"},{\"font\":{\"color\":\"white\"},\"showarrow\":false,\"text\":\"49.7 - 307\",\"x\":2,\"xref\":\"x\",\"y\":1,\"yref\":\"y\"},{\"font\":{\"color\":\"white\"},\"showarrow\":false,\"text\":\"0.0 - 0\",\"x\":3,\"xref\":\"x\",\"y\":1,\"yref\":\"y\"},{\"font\":{\"color\":\"white\"},\"showarrow\":false,\"text\":\"0.0 - 0\",\"x\":4,\"xref\":\"x\",\"y\":1,\"yref\":\"y\"},{\"font\":{\"color\":\"white\"},\"showarrow\":false,\"text\":\"0.0 - 0\",\"x\":0,\"xref\":\"x\",\"y\":2,\"yref\":\"y\"},{\"font\":{\"color\":\"white\"},\"showarrow\":false,\"text\":\"0.0 - 0\",\"x\":1,\"xref\":\"x\",\"y\":2,\"yref\":\"y\"},{\"font\":{\"color\":\"white\"},\"showarrow\":false,\"text\":\"52.3 - 422\",\"x\":2,\"xref\":\"x\",\"y\":2,\"yref\":\"y\"},{\"font\":{\"color\":\"white\"},\"showarrow\":false,\"text\":\"47.7 - 385\",\"x\":3,\"xref\":\"x\",\"y\":2,\"yref\":\"y\"},{\"font\":{\"color\":\"white\"},\"showarrow\":false,\"text\":\"0.0 - 0\",\"x\":4,\"xref\":\"x\",\"y\":2,\"yref\":\"y\"},{\"font\":{\"color\":\"white\"},\"showarrow\":false,\"text\":\"0.0 - 0\",\"x\":0,\"xref\":\"x\",\"y\":3,\"yref\":\"y\"},{\"font\":{\"color\":\"white\"},\"showarrow\":false,\"text\":\"0.0 - 0\",\"x\":1,\"xref\":\"x\",\"y\":3,\"yref\":\"y\"},{\"font\":{\"color\":\"white\"},\"showarrow\":false,\"text\":\"0.0 - 0\",\"x\":2,\"xref\":\"x\",\"y\":3,\"yref\":\"y\"},{\"font\":{\"color\":\"white\"},\"showarrow\":false,\"text\":\"50.9 - 332\",\"x\":3,\"xref\":\"x\",\"y\":3,\"yref\":\"y\"},{\"font\":{\"color\":\"white\"},\"showarrow\":false,\"text\":\"49.1 - 320\",\"x\":4,\"xref\":\"x\",\"y\":3,\"yref\":\"y\"},{\"font\":{\"color\":\"white\"},\"showarrow\":false,\"text\":\"0.0 - 0\",\"x\":0,\"xref\":\"x\",\"y\":4,\"yref\":\"y\"},{\"font\":{\"color\":\"white\"},\"showarrow\":false,\"text\":\"0.0 - 0\",\"x\":1,\"xref\":\"x\",\"y\":4,\"yref\":\"y\"},{\"font\":{\"color\":\"white\"},\"showarrow\":false,\"text\":\"0.0 - 0\",\"x\":2,\"xref\":\"x\",\"y\":4,\"yref\":\"y\"},{\"font\":{\"color\":\"white\"},\"showarrow\":false,\"text\":\"52.3 - 439\",\"x\":3,\"xref\":\"x\",\"y\":4,\"yref\":\"y\"},{\"font\":{\"color\":\"white\"},\"showarrow\":false,\"text\":\"47.7 - 401\",\"x\":4,\"xref\":\"x\",\"y\":4,\"yref\":\"y\"}],\"height\":800,\"title\":{\"text\":\"Kappa 0.7967245072919446\"},\"width\":800,\"xaxis\":{\"title\":{\"text\":\"Predicted value\"}},\"yaxis\":{\"title\":{\"text\":\"Real value\"}},\"template\":{\"data\":{\"histogram2dcontour\":[{\"type\":\"histogram2dcontour\",\"colorbar\":{\"outlinewidth\":0,\"ticks\":\"\"},\"colorscale\":[[0.0,\"#0d0887\"],[0.1111111111111111,\"#46039f\"],[0.2222222222222222,\"#7201a8\"],[0.3333333333333333,\"#9c179e\"],[0.4444444444444444,\"#bd3786\"],[0.5555555555555556,\"#d8576b\"],[0.6666666666666666,\"#ed7953\"],[0.7777777777777778,\"#fb9f3a\"],[0.8888888888888888,\"#fdca26\"],[1.0,\"#f0f921\"]]}],\"choropleth\":[{\"type\":\"choropleth\",\"colorbar\":{\"outlinewidth\":0,\"ticks\":\"\"}}],\"histogram2d\":[{\"type\":\"histogram2d\",\"colorbar\":{\"outlinewidth\":0,\"ticks\":\"\"},\"colorscale\":[[0.0,\"#0d0887\"],[0.1111111111111111,\"#46039f\"],[0.2222222222222222,\"#7201a8\"],[0.3333333333333333,\"#9c179e\"],[0.4444444444444444,\"#bd3786\"],[0.5555555555555556,\"#d8576b\"],[0.6666666666666666,\"#ed7953\"],[0.7777777777777778,\"#fb9f3a\"],[0.8888888888888888,\"#fdca26\"],[1.0,\"#f0f921\"]]}],\"heatmap\":[{\"type\":\"heatmap\",\"colorbar\":{\"outlinewidth\":0,\"ticks\":\"\"},\"colorscale\":[[0.0,\"#0d0887\"],[0.1111111111111111,\"#46039f\"],[0.2222222222222222,\"#7201a8\"],[0.3333333333333333,\"#9c179e\"],[0.4444444444444444,\"#bd3786\"],[0.5555555555555556,\"#d8576b\"],[0.6666666666666666,\"#ed7953\"],[0.7777777777777778,\"#fb9f3a\"],[0.8888888888888888,\"#fdca26\"],[1.0,\"#f0f921\"]]}],\"heatmapgl\":[{\"type\":\"heatmapgl\",\"colorbar\":{\"outlinewidth\":0,\"ticks\":\"\"},\"colorscale\":[[0.0,\"#0d0887\"],[0.1111111111111111,\"#46039f\"],[0.2222222222222222,\"#7201a8\"],[0.3333333333333333,\"#9c179e\"],[0.4444444444444444,\"#bd3786\"],[0.5555555555555556,\"#d8576b\"],[0.6666666666666666,\"#ed7953\"],[0.7777777777777778,\"#fb9f3a\"],[0.8888888888888888,\"#fdca26\"],[1.0,\"#f0f921\"]]}],\"contourcarpet\":[{\"type\":\"contourcarpet\",\"colorbar\":{\"outlinewidth\":0,\"ticks\":\"\"}}],\"contour\":[{\"type\":\"contour\",\"colorbar\":{\"outlinewidth\":0,\"ticks\":\"\"},\"colorscale\":[[0.0,\"#0d0887\"],[0.1111111111111111,\"#46039f\"],[0.2222222222222222,\"#7201a8\"],[0.3333333333333333,\"#9c179e\"],[0.4444444444444444,\"#bd3786\"],[0.5555555555555556,\"#d8576b\"],[0.6666666666666666,\"#ed7953\"],[0.7777777777777778,\"#fb9f3a\"],[0.8888888888888888,\"#fdca26\"],[1.0,\"#f0f921\"]]}],\"surface\":[{\"type\":\"surface\",\"colorbar\":{\"outlinewidth\":0,\"ticks\":\"\"},\"colorscale\":[[0.0,\"#0d0887\"],[0.1111111111111111,\"#46039f\"],[0.2222222222222222,\"#7201a8\"],[0.3333333333333333,\"#9c179e\"],[0.4444444444444444,\"#bd3786\"],[0.5555555555555556,\"#d8576b\"],[0.6666666666666666,\"#ed7953\"],[0.7777777777777778,\"#fb9f3a\"],[0.8888888888888888,\"#fdca26\"],[1.0,\"#f0f921\"]]}],\"mesh3d\":[{\"type\":\"mesh3d\",\"colorbar\":{\"outlinewidth\":0,\"ticks\":\"\"}}],\"scatter\":[{\"fillpattern\":{\"fillmode\":\"overlay\",\"size\":10,\"solidity\":0.2},\"type\":\"scatter\"}],\"parcoords\":[{\"type\":\"parcoords\",\"line\":{\"colorbar\":{\"outlinewidth\":0,\"ticks\":\"\"}}}],\"scatterpolargl\":[{\"type\":\"scatterpolargl\",\"marker\":{\"colorbar\":{\"outlinewidth\":0,\"ticks\":\"\"}}}],\"bar\":[{\"error_x\":{\"color\":\"#2a3f5f\"},\"error_y\":{\"color\":\"#2a3f5f\"},\"marker\":{\"line\":{\"color\":\"#E5ECF6\",\"width\":0.5},\"pattern\":{\"fillmode\":\"overlay\",\"size\":10,\"solidity\":0.2}},\"type\":\"bar\"}],\"scattergeo\":[{\"type\":\"scattergeo\",\"marker\":{\"colorbar\":{\"outlinewidth\":0,\"ticks\":\"\"}}}],\"scatterpolar\":[{\"type\":\"scatterpolar\",\"marker\":{\"colorbar\":{\"outlinewidth\":0,\"ticks\":\"\"}}}],\"histogram\":[{\"marker\":{\"pattern\":{\"fillmode\":\"overlay\",\"size\":10,\"solidity\":0.2}},\"type\":\"histogram\"}],\"scattergl\":[{\"type\":\"scattergl\",\"marker\":{\"colorbar\":{\"outlinewidth\":0,\"ticks\":\"\"}}}],\"scatter3d\":[{\"type\":\"scatter3d\",\"line\":{\"colorbar\":{\"outlinewidth\":0,\"ticks\":\"\"}},\"marker\":{\"colorbar\":{\"outlinewidth\":0,\"ticks\":\"\"}}}],\"scattermapbox\":[{\"type\":\"scattermapbox\",\"marker\":{\"colorbar\":{\"outlinewidth\":0,\"ticks\":\"\"}}}],\"scatterternary\":[{\"type\":\"scatterternary\",\"marker\":{\"colorbar\":{\"outlinewidth\":0,\"ticks\":\"\"}}}],\"scattercarpet\":[{\"type\":\"scattercarpet\",\"marker\":{\"colorbar\":{\"outlinewidth\":0,\"ticks\":\"\"}}}],\"carpet\":[{\"aaxis\":{\"endlinecolor\":\"#2a3f5f\",\"gridcolor\":\"white\",\"linecolor\":\"white\",\"minorgridcolor\":\"white\",\"startlinecolor\":\"#2a3f5f\"},\"baxis\":{\"endlinecolor\":\"#2a3f5f\",\"gridcolor\":\"white\",\"linecolor\":\"white\",\"minorgridcolor\":\"white\",\"startlinecolor\":\"#2a3f5f\"},\"type\":\"carpet\"}],\"table\":[{\"cells\":{\"fill\":{\"color\":\"#EBF0F8\"},\"line\":{\"color\":\"white\"}},\"header\":{\"fill\":{\"color\":\"#C8D4E3\"},\"line\":{\"color\":\"white\"}},\"type\":\"table\"}],\"barpolar\":[{\"marker\":{\"line\":{\"color\":\"#E5ECF6\",\"width\":0.5},\"pattern\":{\"fillmode\":\"overlay\",\"size\":10,\"solidity\":0.2}},\"type\":\"barpolar\"}],\"pie\":[{\"automargin\":true,\"type\":\"pie\"}]},\"layout\":{\"autotypenumbers\":\"strict\",\"colorway\":[\"#636efa\",\"#EF553B\",\"#00cc96\",\"#ab63fa\",\"#FFA15A\",\"#19d3f3\",\"#FF6692\",\"#B6E880\",\"#FF97FF\",\"#FECB52\"],\"font\":{\"color\":\"#2a3f5f\"},\"hovermode\":\"closest\",\"hoverlabel\":{\"align\":\"left\"},\"paper_bgcolor\":\"white\",\"plot_bgcolor\":\"#E5ECF6\",\"polar\":{\"bgcolor\":\"#E5ECF6\",\"angularaxis\":{\"gridcolor\":\"white\",\"linecolor\":\"white\",\"ticks\":\"\"},\"radialaxis\":{\"gridcolor\":\"white\",\"linecolor\":\"white\",\"ticks\":\"\"}},\"ternary\":{\"bgcolor\":\"#E5ECF6\",\"aaxis\":{\"gridcolor\":\"white\",\"linecolor\":\"white\",\"ticks\":\"\"},\"baxis\":{\"gridcolor\":\"white\",\"linecolor\":\"white\",\"ticks\":\"\"},\"caxis\":{\"gridcolor\":\"white\",\"linecolor\":\"white\",\"ticks\":\"\"}},\"coloraxis\":{\"colorbar\":{\"outlinewidth\":0,\"ticks\":\"\"}},\"colorscale\":{\"sequential\":[[0.0,\"#0d0887\"],[0.1111111111111111,\"#46039f\"],[0.2222222222222222,\"#7201a8\"],[0.3333333333333333,\"#9c179e\"],[0.4444444444444444,\"#bd3786\"],[0.5555555555555556,\"#d8576b\"],[0.6666666666666666,\"#ed7953\"],[0.7777777777777778,\"#fb9f3a\"],[0.8888888888888888,\"#fdca26\"],[1.0,\"#f0f921\"]],\"sequentialminus\":[[0.0,\"#0d0887\"],[0.1111111111111111,\"#46039f\"],[0.2222222222222222,\"#7201a8\"],[0.3333333333333333,\"#9c179e\"],[0.4444444444444444,\"#bd3786\"],[0.5555555555555556,\"#d8576b\"],[0.6666666666666666,\"#ed7953\"],[0.7777777777777778,\"#fb9f3a\"],[0.8888888888888888,\"#fdca26\"],[1.0,\"#f0f921\"]],\"diverging\":[[0,\"#8e0152\"],[0.1,\"#c51b7d\"],[0.2,\"#de77ae\"],[0.3,\"#f1b6da\"],[0.4,\"#fde0ef\"],[0.5,\"#f7f7f7\"],[0.6,\"#e6f5d0\"],[0.7,\"#b8e186\"],[0.8,\"#7fbc41\"],[0.9,\"#4d9221\"],[1,\"#276419\"]]},\"xaxis\":{\"gridcolor\":\"white\",\"linecolor\":\"white\",\"ticks\":\"\",\"title\":{\"standoff\":15},\"zerolinecolor\":\"white\",\"automargin\":true,\"zerolinewidth\":2},\"yaxis\":{\"gridcolor\":\"white\",\"linecolor\":\"white\",\"ticks\":\"\",\"title\":{\"standoff\":15},\"zerolinecolor\":\"white\",\"automargin\":true,\"zerolinewidth\":2},\"scene\":{\"xaxis\":{\"backgroundcolor\":\"#E5ECF6\",\"gridcolor\":\"white\",\"linecolor\":\"white\",\"showbackground\":true,\"ticks\":\"\",\"zerolinecolor\":\"white\",\"gridwidth\":2},\"yaxis\":{\"backgroundcolor\":\"#E5ECF6\",\"gridcolor\":\"white\",\"linecolor\":\"white\",\"showbackground\":true,\"ticks\":\"\",\"zerolinecolor\":\"white\",\"gridwidth\":2},\"zaxis\":{\"backgroundcolor\":\"#E5ECF6\",\"gridcolor\":\"white\",\"linecolor\":\"white\",\"showbackground\":true,\"ticks\":\"\",\"zerolinecolor\":\"white\",\"gridwidth\":2}},\"shapedefaults\":{\"line\":{\"color\":\"#2a3f5f\"}},\"annotationdefaults\":{\"arrowcolor\":\"#2a3f5f\",\"arrowhead\":0,\"arrowwidth\":1},\"geo\":{\"bgcolor\":\"white\",\"landcolor\":\"#E5ECF6\",\"subunitcolor\":\"white\",\"showland\":true,\"showlakes\":true,\"lakecolor\":\"white\"},\"title\":{\"x\":0.05},\"mapbox\":{\"style\":\"light\"}}}},                        {\"responsive\": true}                    ).then(function(){\n",
       "                            \n",
       "var gd = document.getElementById('ee47833e-254d-4f0a-aec3-c5b2c212679c');\n",
       "var x = new MutationObserver(function (mutations, observer) {{\n",
       "        var display = window.getComputedStyle(gd).display;\n",
       "        if (!display || display === 'none') {{\n",
       "            console.log([gd, 'removed!']);\n",
       "            Plotly.purge(gd);\n",
       "            observer.disconnect();\n",
       "        }}\n",
       "}});\n",
       "\n",
       "// Listen for the removal of the full notebook cells\n",
       "var notebookContainer = gd.closest('#notebook-container');\n",
       "if (notebookContainer) {{\n",
       "    x.observe(notebookContainer, {childList: true});\n",
       "}}\n",
       "\n",
       "// Listen for the clearing of the current output cell\n",
       "var outputEl = gd.closest('.output');\n",
       "if (outputEl) {{\n",
       "    x.observe(outputEl, {childList: true});\n",
       "}}\n",
       "\n",
       "                        })                };                });            </script>        </div>"
      ]
     },
     "metadata": {},
     "output_type": "display_data"
    }
   ],
   "source": [
    "\n",
    "#A modo de ejemplo muestro kappa y matriz de confusion para 50% de aciertos donde los errores quedan cerca de la clase correcta\n",
    "y_simulado_cerca = [y_test.iloc[sample] if random_list[sample]<50/100 else y_cerca[sample] for sample in range(len(y_test))]\n",
    "\n",
    "display(plot_confusion_matrix(y_test,y_simulado_cerca, \n",
    "                              title = \"Kappa \" + str(cohen_kappa_score(y_test,y_simulado_cerca, weights = 'quadratic'))))\n",
    "\n"
   ]
  },
  {
   "cell_type": "code",
   "execution_count": 58,
   "metadata": {},
   "outputs": [
    {
     "data": {
      "application/vnd.plotly.v1+json": {
       "config": {
        "plotlyServerURL": "https://plot.ly"
       },
       "data": [
        {
         "type": "heatmap",
         "x": [
          0,
          1,
          2,
          3,
          4
         ],
         "y": [
          0,
          1,
          2,
          3,
          4
         ],
         "z": [
          [
           58.536585365853654,
           0,
           0,
           0,
           41.46341463414634
          ],
          [
           0,
           50.323624595469255,
           0,
           0,
           49.676375404530745
          ],
          [
           47.70755885997522,
           0,
           52.29244114002478,
           0,
           0
          ],
          [
           49.079754601226995,
           0,
           0,
           50.920245398773,
           0
          ],
          [
           52.261904761904766,
           0,
           0,
           0,
           47.73809523809524
          ]
         ]
        }
       ],
       "layout": {
        "annotations": [
         {
          "font": {
           "color": "white"
          },
          "showarrow": false,
          "text": "58.5 - 48",
          "x": 0,
          "xref": "x",
          "y": 0,
          "yref": "y"
         },
         {
          "font": {
           "color": "white"
          },
          "showarrow": false,
          "text": "0.0 - 0",
          "x": 1,
          "xref": "x",
          "y": 0,
          "yref": "y"
         },
         {
          "font": {
           "color": "white"
          },
          "showarrow": false,
          "text": "0.0 - 0",
          "x": 2,
          "xref": "x",
          "y": 0,
          "yref": "y"
         },
         {
          "font": {
           "color": "white"
          },
          "showarrow": false,
          "text": "0.0 - 0",
          "x": 3,
          "xref": "x",
          "y": 0,
          "yref": "y"
         },
         {
          "font": {
           "color": "white"
          },
          "showarrow": false,
          "text": "41.5 - 34",
          "x": 4,
          "xref": "x",
          "y": 0,
          "yref": "y"
         },
         {
          "font": {
           "color": "white"
          },
          "showarrow": false,
          "text": "0.0 - 0",
          "x": 0,
          "xref": "x",
          "y": 1,
          "yref": "y"
         },
         {
          "font": {
           "color": "white"
          },
          "showarrow": false,
          "text": "50.3 - 311",
          "x": 1,
          "xref": "x",
          "y": 1,
          "yref": "y"
         },
         {
          "font": {
           "color": "white"
          },
          "showarrow": false,
          "text": "0.0 - 0",
          "x": 2,
          "xref": "x",
          "y": 1,
          "yref": "y"
         },
         {
          "font": {
           "color": "white"
          },
          "showarrow": false,
          "text": "0.0 - 0",
          "x": 3,
          "xref": "x",
          "y": 1,
          "yref": "y"
         },
         {
          "font": {
           "color": "white"
          },
          "showarrow": false,
          "text": "49.7 - 307",
          "x": 4,
          "xref": "x",
          "y": 1,
          "yref": "y"
         },
         {
          "font": {
           "color": "white"
          },
          "showarrow": false,
          "text": "47.7 - 385",
          "x": 0,
          "xref": "x",
          "y": 2,
          "yref": "y"
         },
         {
          "font": {
           "color": "white"
          },
          "showarrow": false,
          "text": "0.0 - 0",
          "x": 1,
          "xref": "x",
          "y": 2,
          "yref": "y"
         },
         {
          "font": {
           "color": "white"
          },
          "showarrow": false,
          "text": "52.3 - 422",
          "x": 2,
          "xref": "x",
          "y": 2,
          "yref": "y"
         },
         {
          "font": {
           "color": "white"
          },
          "showarrow": false,
          "text": "0.0 - 0",
          "x": 3,
          "xref": "x",
          "y": 2,
          "yref": "y"
         },
         {
          "font": {
           "color": "white"
          },
          "showarrow": false,
          "text": "0.0 - 0",
          "x": 4,
          "xref": "x",
          "y": 2,
          "yref": "y"
         },
         {
          "font": {
           "color": "white"
          },
          "showarrow": false,
          "text": "49.1 - 320",
          "x": 0,
          "xref": "x",
          "y": 3,
          "yref": "y"
         },
         {
          "font": {
           "color": "white"
          },
          "showarrow": false,
          "text": "0.0 - 0",
          "x": 1,
          "xref": "x",
          "y": 3,
          "yref": "y"
         },
         {
          "font": {
           "color": "white"
          },
          "showarrow": false,
          "text": "0.0 - 0",
          "x": 2,
          "xref": "x",
          "y": 3,
          "yref": "y"
         },
         {
          "font": {
           "color": "white"
          },
          "showarrow": false,
          "text": "50.9 - 332",
          "x": 3,
          "xref": "x",
          "y": 3,
          "yref": "y"
         },
         {
          "font": {
           "color": "white"
          },
          "showarrow": false,
          "text": "0.0 - 0",
          "x": 4,
          "xref": "x",
          "y": 3,
          "yref": "y"
         },
         {
          "font": {
           "color": "white"
          },
          "showarrow": false,
          "text": "52.3 - 439",
          "x": 0,
          "xref": "x",
          "y": 4,
          "yref": "y"
         },
         {
          "font": {
           "color": "white"
          },
          "showarrow": false,
          "text": "0.0 - 0",
          "x": 1,
          "xref": "x",
          "y": 4,
          "yref": "y"
         },
         {
          "font": {
           "color": "white"
          },
          "showarrow": false,
          "text": "0.0 - 0",
          "x": 2,
          "xref": "x",
          "y": 4,
          "yref": "y"
         },
         {
          "font": {
           "color": "white"
          },
          "showarrow": false,
          "text": "0.0 - 0",
          "x": 3,
          "xref": "x",
          "y": 4,
          "yref": "y"
         },
         {
          "font": {
           "color": "white"
          },
          "showarrow": false,
          "text": "47.7 - 401",
          "x": 4,
          "xref": "x",
          "y": 4,
          "yref": "y"
         }
        ],
        "height": 800,
        "template": {
         "data": {
          "bar": [
           {
            "error_x": {
             "color": "#2a3f5f"
            },
            "error_y": {
             "color": "#2a3f5f"
            },
            "marker": {
             "line": {
              "color": "#E5ECF6",
              "width": 0.5
             },
             "pattern": {
              "fillmode": "overlay",
              "size": 10,
              "solidity": 0.2
             }
            },
            "type": "bar"
           }
          ],
          "barpolar": [
           {
            "marker": {
             "line": {
              "color": "#E5ECF6",
              "width": 0.5
             },
             "pattern": {
              "fillmode": "overlay",
              "size": 10,
              "solidity": 0.2
             }
            },
            "type": "barpolar"
           }
          ],
          "carpet": [
           {
            "aaxis": {
             "endlinecolor": "#2a3f5f",
             "gridcolor": "white",
             "linecolor": "white",
             "minorgridcolor": "white",
             "startlinecolor": "#2a3f5f"
            },
            "baxis": {
             "endlinecolor": "#2a3f5f",
             "gridcolor": "white",
             "linecolor": "white",
             "minorgridcolor": "white",
             "startlinecolor": "#2a3f5f"
            },
            "type": "carpet"
           }
          ],
          "choropleth": [
           {
            "colorbar": {
             "outlinewidth": 0,
             "ticks": ""
            },
            "type": "choropleth"
           }
          ],
          "contour": [
           {
            "colorbar": {
             "outlinewidth": 0,
             "ticks": ""
            },
            "colorscale": [
             [
              0,
              "#0d0887"
             ],
             [
              0.1111111111111111,
              "#46039f"
             ],
             [
              0.2222222222222222,
              "#7201a8"
             ],
             [
              0.3333333333333333,
              "#9c179e"
             ],
             [
              0.4444444444444444,
              "#bd3786"
             ],
             [
              0.5555555555555556,
              "#d8576b"
             ],
             [
              0.6666666666666666,
              "#ed7953"
             ],
             [
              0.7777777777777778,
              "#fb9f3a"
             ],
             [
              0.8888888888888888,
              "#fdca26"
             ],
             [
              1,
              "#f0f921"
             ]
            ],
            "type": "contour"
           }
          ],
          "contourcarpet": [
           {
            "colorbar": {
             "outlinewidth": 0,
             "ticks": ""
            },
            "type": "contourcarpet"
           }
          ],
          "heatmap": [
           {
            "colorbar": {
             "outlinewidth": 0,
             "ticks": ""
            },
            "colorscale": [
             [
              0,
              "#0d0887"
             ],
             [
              0.1111111111111111,
              "#46039f"
             ],
             [
              0.2222222222222222,
              "#7201a8"
             ],
             [
              0.3333333333333333,
              "#9c179e"
             ],
             [
              0.4444444444444444,
              "#bd3786"
             ],
             [
              0.5555555555555556,
              "#d8576b"
             ],
             [
              0.6666666666666666,
              "#ed7953"
             ],
             [
              0.7777777777777778,
              "#fb9f3a"
             ],
             [
              0.8888888888888888,
              "#fdca26"
             ],
             [
              1,
              "#f0f921"
             ]
            ],
            "type": "heatmap"
           }
          ],
          "heatmapgl": [
           {
            "colorbar": {
             "outlinewidth": 0,
             "ticks": ""
            },
            "colorscale": [
             [
              0,
              "#0d0887"
             ],
             [
              0.1111111111111111,
              "#46039f"
             ],
             [
              0.2222222222222222,
              "#7201a8"
             ],
             [
              0.3333333333333333,
              "#9c179e"
             ],
             [
              0.4444444444444444,
              "#bd3786"
             ],
             [
              0.5555555555555556,
              "#d8576b"
             ],
             [
              0.6666666666666666,
              "#ed7953"
             ],
             [
              0.7777777777777778,
              "#fb9f3a"
             ],
             [
              0.8888888888888888,
              "#fdca26"
             ],
             [
              1,
              "#f0f921"
             ]
            ],
            "type": "heatmapgl"
           }
          ],
          "histogram": [
           {
            "marker": {
             "pattern": {
              "fillmode": "overlay",
              "size": 10,
              "solidity": 0.2
             }
            },
            "type": "histogram"
           }
          ],
          "histogram2d": [
           {
            "colorbar": {
             "outlinewidth": 0,
             "ticks": ""
            },
            "colorscale": [
             [
              0,
              "#0d0887"
             ],
             [
              0.1111111111111111,
              "#46039f"
             ],
             [
              0.2222222222222222,
              "#7201a8"
             ],
             [
              0.3333333333333333,
              "#9c179e"
             ],
             [
              0.4444444444444444,
              "#bd3786"
             ],
             [
              0.5555555555555556,
              "#d8576b"
             ],
             [
              0.6666666666666666,
              "#ed7953"
             ],
             [
              0.7777777777777778,
              "#fb9f3a"
             ],
             [
              0.8888888888888888,
              "#fdca26"
             ],
             [
              1,
              "#f0f921"
             ]
            ],
            "type": "histogram2d"
           }
          ],
          "histogram2dcontour": [
           {
            "colorbar": {
             "outlinewidth": 0,
             "ticks": ""
            },
            "colorscale": [
             [
              0,
              "#0d0887"
             ],
             [
              0.1111111111111111,
              "#46039f"
             ],
             [
              0.2222222222222222,
              "#7201a8"
             ],
             [
              0.3333333333333333,
              "#9c179e"
             ],
             [
              0.4444444444444444,
              "#bd3786"
             ],
             [
              0.5555555555555556,
              "#d8576b"
             ],
             [
              0.6666666666666666,
              "#ed7953"
             ],
             [
              0.7777777777777778,
              "#fb9f3a"
             ],
             [
              0.8888888888888888,
              "#fdca26"
             ],
             [
              1,
              "#f0f921"
             ]
            ],
            "type": "histogram2dcontour"
           }
          ],
          "mesh3d": [
           {
            "colorbar": {
             "outlinewidth": 0,
             "ticks": ""
            },
            "type": "mesh3d"
           }
          ],
          "parcoords": [
           {
            "line": {
             "colorbar": {
              "outlinewidth": 0,
              "ticks": ""
             }
            },
            "type": "parcoords"
           }
          ],
          "pie": [
           {
            "automargin": true,
            "type": "pie"
           }
          ],
          "scatter": [
           {
            "fillpattern": {
             "fillmode": "overlay",
             "size": 10,
             "solidity": 0.2
            },
            "type": "scatter"
           }
          ],
          "scatter3d": [
           {
            "line": {
             "colorbar": {
              "outlinewidth": 0,
              "ticks": ""
             }
            },
            "marker": {
             "colorbar": {
              "outlinewidth": 0,
              "ticks": ""
             }
            },
            "type": "scatter3d"
           }
          ],
          "scattercarpet": [
           {
            "marker": {
             "colorbar": {
              "outlinewidth": 0,
              "ticks": ""
             }
            },
            "type": "scattercarpet"
           }
          ],
          "scattergeo": [
           {
            "marker": {
             "colorbar": {
              "outlinewidth": 0,
              "ticks": ""
             }
            },
            "type": "scattergeo"
           }
          ],
          "scattergl": [
           {
            "marker": {
             "colorbar": {
              "outlinewidth": 0,
              "ticks": ""
             }
            },
            "type": "scattergl"
           }
          ],
          "scattermapbox": [
           {
            "marker": {
             "colorbar": {
              "outlinewidth": 0,
              "ticks": ""
             }
            },
            "type": "scattermapbox"
           }
          ],
          "scatterpolar": [
           {
            "marker": {
             "colorbar": {
              "outlinewidth": 0,
              "ticks": ""
             }
            },
            "type": "scatterpolar"
           }
          ],
          "scatterpolargl": [
           {
            "marker": {
             "colorbar": {
              "outlinewidth": 0,
              "ticks": ""
             }
            },
            "type": "scatterpolargl"
           }
          ],
          "scatterternary": [
           {
            "marker": {
             "colorbar": {
              "outlinewidth": 0,
              "ticks": ""
             }
            },
            "type": "scatterternary"
           }
          ],
          "surface": [
           {
            "colorbar": {
             "outlinewidth": 0,
             "ticks": ""
            },
            "colorscale": [
             [
              0,
              "#0d0887"
             ],
             [
              0.1111111111111111,
              "#46039f"
             ],
             [
              0.2222222222222222,
              "#7201a8"
             ],
             [
              0.3333333333333333,
              "#9c179e"
             ],
             [
              0.4444444444444444,
              "#bd3786"
             ],
             [
              0.5555555555555556,
              "#d8576b"
             ],
             [
              0.6666666666666666,
              "#ed7953"
             ],
             [
              0.7777777777777778,
              "#fb9f3a"
             ],
             [
              0.8888888888888888,
              "#fdca26"
             ],
             [
              1,
              "#f0f921"
             ]
            ],
            "type": "surface"
           }
          ],
          "table": [
           {
            "cells": {
             "fill": {
              "color": "#EBF0F8"
             },
             "line": {
              "color": "white"
             }
            },
            "header": {
             "fill": {
              "color": "#C8D4E3"
             },
             "line": {
              "color": "white"
             }
            },
            "type": "table"
           }
          ]
         },
         "layout": {
          "annotationdefaults": {
           "arrowcolor": "#2a3f5f",
           "arrowhead": 0,
           "arrowwidth": 1
          },
          "autotypenumbers": "strict",
          "coloraxis": {
           "colorbar": {
            "outlinewidth": 0,
            "ticks": ""
           }
          },
          "colorscale": {
           "diverging": [
            [
             0,
             "#8e0152"
            ],
            [
             0.1,
             "#c51b7d"
            ],
            [
             0.2,
             "#de77ae"
            ],
            [
             0.3,
             "#f1b6da"
            ],
            [
             0.4,
             "#fde0ef"
            ],
            [
             0.5,
             "#f7f7f7"
            ],
            [
             0.6,
             "#e6f5d0"
            ],
            [
             0.7,
             "#b8e186"
            ],
            [
             0.8,
             "#7fbc41"
            ],
            [
             0.9,
             "#4d9221"
            ],
            [
             1,
             "#276419"
            ]
           ],
           "sequential": [
            [
             0,
             "#0d0887"
            ],
            [
             0.1111111111111111,
             "#46039f"
            ],
            [
             0.2222222222222222,
             "#7201a8"
            ],
            [
             0.3333333333333333,
             "#9c179e"
            ],
            [
             0.4444444444444444,
             "#bd3786"
            ],
            [
             0.5555555555555556,
             "#d8576b"
            ],
            [
             0.6666666666666666,
             "#ed7953"
            ],
            [
             0.7777777777777778,
             "#fb9f3a"
            ],
            [
             0.8888888888888888,
             "#fdca26"
            ],
            [
             1,
             "#f0f921"
            ]
           ],
           "sequentialminus": [
            [
             0,
             "#0d0887"
            ],
            [
             0.1111111111111111,
             "#46039f"
            ],
            [
             0.2222222222222222,
             "#7201a8"
            ],
            [
             0.3333333333333333,
             "#9c179e"
            ],
            [
             0.4444444444444444,
             "#bd3786"
            ],
            [
             0.5555555555555556,
             "#d8576b"
            ],
            [
             0.6666666666666666,
             "#ed7953"
            ],
            [
             0.7777777777777778,
             "#fb9f3a"
            ],
            [
             0.8888888888888888,
             "#fdca26"
            ],
            [
             1,
             "#f0f921"
            ]
           ]
          },
          "colorway": [
           "#636efa",
           "#EF553B",
           "#00cc96",
           "#ab63fa",
           "#FFA15A",
           "#19d3f3",
           "#FF6692",
           "#B6E880",
           "#FF97FF",
           "#FECB52"
          ],
          "font": {
           "color": "#2a3f5f"
          },
          "geo": {
           "bgcolor": "white",
           "lakecolor": "white",
           "landcolor": "#E5ECF6",
           "showlakes": true,
           "showland": true,
           "subunitcolor": "white"
          },
          "hoverlabel": {
           "align": "left"
          },
          "hovermode": "closest",
          "mapbox": {
           "style": "light"
          },
          "paper_bgcolor": "white",
          "plot_bgcolor": "#E5ECF6",
          "polar": {
           "angularaxis": {
            "gridcolor": "white",
            "linecolor": "white",
            "ticks": ""
           },
           "bgcolor": "#E5ECF6",
           "radialaxis": {
            "gridcolor": "white",
            "linecolor": "white",
            "ticks": ""
           }
          },
          "scene": {
           "xaxis": {
            "backgroundcolor": "#E5ECF6",
            "gridcolor": "white",
            "gridwidth": 2,
            "linecolor": "white",
            "showbackground": true,
            "ticks": "",
            "zerolinecolor": "white"
           },
           "yaxis": {
            "backgroundcolor": "#E5ECF6",
            "gridcolor": "white",
            "gridwidth": 2,
            "linecolor": "white",
            "showbackground": true,
            "ticks": "",
            "zerolinecolor": "white"
           },
           "zaxis": {
            "backgroundcolor": "#E5ECF6",
            "gridcolor": "white",
            "gridwidth": 2,
            "linecolor": "white",
            "showbackground": true,
            "ticks": "",
            "zerolinecolor": "white"
           }
          },
          "shapedefaults": {
           "line": {
            "color": "#2a3f5f"
           }
          },
          "ternary": {
           "aaxis": {
            "gridcolor": "white",
            "linecolor": "white",
            "ticks": ""
           },
           "baxis": {
            "gridcolor": "white",
            "linecolor": "white",
            "ticks": ""
           },
           "bgcolor": "#E5ECF6",
           "caxis": {
            "gridcolor": "white",
            "linecolor": "white",
            "ticks": ""
           }
          },
          "title": {
           "x": 0.05
          },
          "xaxis": {
           "automargin": true,
           "gridcolor": "white",
           "linecolor": "white",
           "ticks": "",
           "title": {
            "standoff": 15
           },
           "zerolinecolor": "white",
           "zerolinewidth": 2
          },
          "yaxis": {
           "automargin": true,
           "gridcolor": "white",
           "linecolor": "white",
           "ticks": "",
           "title": {
            "standoff": 15
           },
           "zerolinecolor": "white",
           "zerolinewidth": 2
          }
         }
        },
        "title": {
         "text": "Kappa -0.0354774127198314"
        },
        "width": 800,
        "xaxis": {
         "title": {
          "text": "Predicted value"
         }
        },
        "yaxis": {
         "title": {
          "text": "Real value"
         }
        }
       }
      },
      "text/html": [
       "<div>                            <div id=\"7d25e108-6167-48ca-98f0-2e7ab91d8bda\" class=\"plotly-graph-div\" style=\"height:800px; width:800px;\"></div>            <script type=\"text/javascript\">                require([\"plotly\"], function(Plotly) {                    window.PLOTLYENV=window.PLOTLYENV || {};                                    if (document.getElementById(\"7d25e108-6167-48ca-98f0-2e7ab91d8bda\")) {                    Plotly.newPlot(                        \"7d25e108-6167-48ca-98f0-2e7ab91d8bda\",                        [{\"x\":[0,1,2,3,4],\"y\":[0,1,2,3,4],\"z\":[[58.536585365853654,0.0,0.0,0.0,41.46341463414634],[0.0,50.323624595469255,0.0,0.0,49.676375404530745],[47.70755885997522,0.0,52.29244114002478,0.0,0.0],[49.079754601226995,0.0,0.0,50.920245398773,0.0],[52.261904761904766,0.0,0.0,0.0,47.73809523809524]],\"type\":\"heatmap\"}],                        {\"annotations\":[{\"font\":{\"color\":\"white\"},\"showarrow\":false,\"text\":\"58.5 - 48\",\"x\":0,\"xref\":\"x\",\"y\":0,\"yref\":\"y\"},{\"font\":{\"color\":\"white\"},\"showarrow\":false,\"text\":\"0.0 - 0\",\"x\":1,\"xref\":\"x\",\"y\":0,\"yref\":\"y\"},{\"font\":{\"color\":\"white\"},\"showarrow\":false,\"text\":\"0.0 - 0\",\"x\":2,\"xref\":\"x\",\"y\":0,\"yref\":\"y\"},{\"font\":{\"color\":\"white\"},\"showarrow\":false,\"text\":\"0.0 - 0\",\"x\":3,\"xref\":\"x\",\"y\":0,\"yref\":\"y\"},{\"font\":{\"color\":\"white\"},\"showarrow\":false,\"text\":\"41.5 - 34\",\"x\":4,\"xref\":\"x\",\"y\":0,\"yref\":\"y\"},{\"font\":{\"color\":\"white\"},\"showarrow\":false,\"text\":\"0.0 - 0\",\"x\":0,\"xref\":\"x\",\"y\":1,\"yref\":\"y\"},{\"font\":{\"color\":\"white\"},\"showarrow\":false,\"text\":\"50.3 - 311\",\"x\":1,\"xref\":\"x\",\"y\":1,\"yref\":\"y\"},{\"font\":{\"color\":\"white\"},\"showarrow\":false,\"text\":\"0.0 - 0\",\"x\":2,\"xref\":\"x\",\"y\":1,\"yref\":\"y\"},{\"font\":{\"color\":\"white\"},\"showarrow\":false,\"text\":\"0.0 - 0\",\"x\":3,\"xref\":\"x\",\"y\":1,\"yref\":\"y\"},{\"font\":{\"color\":\"white\"},\"showarrow\":false,\"text\":\"49.7 - 307\",\"x\":4,\"xref\":\"x\",\"y\":1,\"yref\":\"y\"},{\"font\":{\"color\":\"white\"},\"showarrow\":false,\"text\":\"47.7 - 385\",\"x\":0,\"xref\":\"x\",\"y\":2,\"yref\":\"y\"},{\"font\":{\"color\":\"white\"},\"showarrow\":false,\"text\":\"0.0 - 0\",\"x\":1,\"xref\":\"x\",\"y\":2,\"yref\":\"y\"},{\"font\":{\"color\":\"white\"},\"showarrow\":false,\"text\":\"52.3 - 422\",\"x\":2,\"xref\":\"x\",\"y\":2,\"yref\":\"y\"},{\"font\":{\"color\":\"white\"},\"showarrow\":false,\"text\":\"0.0 - 0\",\"x\":3,\"xref\":\"x\",\"y\":2,\"yref\":\"y\"},{\"font\":{\"color\":\"white\"},\"showarrow\":false,\"text\":\"0.0 - 0\",\"x\":4,\"xref\":\"x\",\"y\":2,\"yref\":\"y\"},{\"font\":{\"color\":\"white\"},\"showarrow\":false,\"text\":\"49.1 - 320\",\"x\":0,\"xref\":\"x\",\"y\":3,\"yref\":\"y\"},{\"font\":{\"color\":\"white\"},\"showarrow\":false,\"text\":\"0.0 - 0\",\"x\":1,\"xref\":\"x\",\"y\":3,\"yref\":\"y\"},{\"font\":{\"color\":\"white\"},\"showarrow\":false,\"text\":\"0.0 - 0\",\"x\":2,\"xref\":\"x\",\"y\":3,\"yref\":\"y\"},{\"font\":{\"color\":\"white\"},\"showarrow\":false,\"text\":\"50.9 - 332\",\"x\":3,\"xref\":\"x\",\"y\":3,\"yref\":\"y\"},{\"font\":{\"color\":\"white\"},\"showarrow\":false,\"text\":\"0.0 - 0\",\"x\":4,\"xref\":\"x\",\"y\":3,\"yref\":\"y\"},{\"font\":{\"color\":\"white\"},\"showarrow\":false,\"text\":\"52.3 - 439\",\"x\":0,\"xref\":\"x\",\"y\":4,\"yref\":\"y\"},{\"font\":{\"color\":\"white\"},\"showarrow\":false,\"text\":\"0.0 - 0\",\"x\":1,\"xref\":\"x\",\"y\":4,\"yref\":\"y\"},{\"font\":{\"color\":\"white\"},\"showarrow\":false,\"text\":\"0.0 - 0\",\"x\":2,\"xref\":\"x\",\"y\":4,\"yref\":\"y\"},{\"font\":{\"color\":\"white\"},\"showarrow\":false,\"text\":\"0.0 - 0\",\"x\":3,\"xref\":\"x\",\"y\":4,\"yref\":\"y\"},{\"font\":{\"color\":\"white\"},\"showarrow\":false,\"text\":\"47.7 - 401\",\"x\":4,\"xref\":\"x\",\"y\":4,\"yref\":\"y\"}],\"height\":800,\"title\":{\"text\":\"Kappa -0.0354774127198314\"},\"width\":800,\"xaxis\":{\"title\":{\"text\":\"Predicted value\"}},\"yaxis\":{\"title\":{\"text\":\"Real value\"}},\"template\":{\"data\":{\"histogram2dcontour\":[{\"type\":\"histogram2dcontour\",\"colorbar\":{\"outlinewidth\":0,\"ticks\":\"\"},\"colorscale\":[[0.0,\"#0d0887\"],[0.1111111111111111,\"#46039f\"],[0.2222222222222222,\"#7201a8\"],[0.3333333333333333,\"#9c179e\"],[0.4444444444444444,\"#bd3786\"],[0.5555555555555556,\"#d8576b\"],[0.6666666666666666,\"#ed7953\"],[0.7777777777777778,\"#fb9f3a\"],[0.8888888888888888,\"#fdca26\"],[1.0,\"#f0f921\"]]}],\"choropleth\":[{\"type\":\"choropleth\",\"colorbar\":{\"outlinewidth\":0,\"ticks\":\"\"}}],\"histogram2d\":[{\"type\":\"histogram2d\",\"colorbar\":{\"outlinewidth\":0,\"ticks\":\"\"},\"colorscale\":[[0.0,\"#0d0887\"],[0.1111111111111111,\"#46039f\"],[0.2222222222222222,\"#7201a8\"],[0.3333333333333333,\"#9c179e\"],[0.4444444444444444,\"#bd3786\"],[0.5555555555555556,\"#d8576b\"],[0.6666666666666666,\"#ed7953\"],[0.7777777777777778,\"#fb9f3a\"],[0.8888888888888888,\"#fdca26\"],[1.0,\"#f0f921\"]]}],\"heatmap\":[{\"type\":\"heatmap\",\"colorbar\":{\"outlinewidth\":0,\"ticks\":\"\"},\"colorscale\":[[0.0,\"#0d0887\"],[0.1111111111111111,\"#46039f\"],[0.2222222222222222,\"#7201a8\"],[0.3333333333333333,\"#9c179e\"],[0.4444444444444444,\"#bd3786\"],[0.5555555555555556,\"#d8576b\"],[0.6666666666666666,\"#ed7953\"],[0.7777777777777778,\"#fb9f3a\"],[0.8888888888888888,\"#fdca26\"],[1.0,\"#f0f921\"]]}],\"heatmapgl\":[{\"type\":\"heatmapgl\",\"colorbar\":{\"outlinewidth\":0,\"ticks\":\"\"},\"colorscale\":[[0.0,\"#0d0887\"],[0.1111111111111111,\"#46039f\"],[0.2222222222222222,\"#7201a8\"],[0.3333333333333333,\"#9c179e\"],[0.4444444444444444,\"#bd3786\"],[0.5555555555555556,\"#d8576b\"],[0.6666666666666666,\"#ed7953\"],[0.7777777777777778,\"#fb9f3a\"],[0.8888888888888888,\"#fdca26\"],[1.0,\"#f0f921\"]]}],\"contourcarpet\":[{\"type\":\"contourcarpet\",\"colorbar\":{\"outlinewidth\":0,\"ticks\":\"\"}}],\"contour\":[{\"type\":\"contour\",\"colorbar\":{\"outlinewidth\":0,\"ticks\":\"\"},\"colorscale\":[[0.0,\"#0d0887\"],[0.1111111111111111,\"#46039f\"],[0.2222222222222222,\"#7201a8\"],[0.3333333333333333,\"#9c179e\"],[0.4444444444444444,\"#bd3786\"],[0.5555555555555556,\"#d8576b\"],[0.6666666666666666,\"#ed7953\"],[0.7777777777777778,\"#fb9f3a\"],[0.8888888888888888,\"#fdca26\"],[1.0,\"#f0f921\"]]}],\"surface\":[{\"type\":\"surface\",\"colorbar\":{\"outlinewidth\":0,\"ticks\":\"\"},\"colorscale\":[[0.0,\"#0d0887\"],[0.1111111111111111,\"#46039f\"],[0.2222222222222222,\"#7201a8\"],[0.3333333333333333,\"#9c179e\"],[0.4444444444444444,\"#bd3786\"],[0.5555555555555556,\"#d8576b\"],[0.6666666666666666,\"#ed7953\"],[0.7777777777777778,\"#fb9f3a\"],[0.8888888888888888,\"#fdca26\"],[1.0,\"#f0f921\"]]}],\"mesh3d\":[{\"type\":\"mesh3d\",\"colorbar\":{\"outlinewidth\":0,\"ticks\":\"\"}}],\"scatter\":[{\"fillpattern\":{\"fillmode\":\"overlay\",\"size\":10,\"solidity\":0.2},\"type\":\"scatter\"}],\"parcoords\":[{\"type\":\"parcoords\",\"line\":{\"colorbar\":{\"outlinewidth\":0,\"ticks\":\"\"}}}],\"scatterpolargl\":[{\"type\":\"scatterpolargl\",\"marker\":{\"colorbar\":{\"outlinewidth\":0,\"ticks\":\"\"}}}],\"bar\":[{\"error_x\":{\"color\":\"#2a3f5f\"},\"error_y\":{\"color\":\"#2a3f5f\"},\"marker\":{\"line\":{\"color\":\"#E5ECF6\",\"width\":0.5},\"pattern\":{\"fillmode\":\"overlay\",\"size\":10,\"solidity\":0.2}},\"type\":\"bar\"}],\"scattergeo\":[{\"type\":\"scattergeo\",\"marker\":{\"colorbar\":{\"outlinewidth\":0,\"ticks\":\"\"}}}],\"scatterpolar\":[{\"type\":\"scatterpolar\",\"marker\":{\"colorbar\":{\"outlinewidth\":0,\"ticks\":\"\"}}}],\"histogram\":[{\"marker\":{\"pattern\":{\"fillmode\":\"overlay\",\"size\":10,\"solidity\":0.2}},\"type\":\"histogram\"}],\"scattergl\":[{\"type\":\"scattergl\",\"marker\":{\"colorbar\":{\"outlinewidth\":0,\"ticks\":\"\"}}}],\"scatter3d\":[{\"type\":\"scatter3d\",\"line\":{\"colorbar\":{\"outlinewidth\":0,\"ticks\":\"\"}},\"marker\":{\"colorbar\":{\"outlinewidth\":0,\"ticks\":\"\"}}}],\"scattermapbox\":[{\"type\":\"scattermapbox\",\"marker\":{\"colorbar\":{\"outlinewidth\":0,\"ticks\":\"\"}}}],\"scatterternary\":[{\"type\":\"scatterternary\",\"marker\":{\"colorbar\":{\"outlinewidth\":0,\"ticks\":\"\"}}}],\"scattercarpet\":[{\"type\":\"scattercarpet\",\"marker\":{\"colorbar\":{\"outlinewidth\":0,\"ticks\":\"\"}}}],\"carpet\":[{\"aaxis\":{\"endlinecolor\":\"#2a3f5f\",\"gridcolor\":\"white\",\"linecolor\":\"white\",\"minorgridcolor\":\"white\",\"startlinecolor\":\"#2a3f5f\"},\"baxis\":{\"endlinecolor\":\"#2a3f5f\",\"gridcolor\":\"white\",\"linecolor\":\"white\",\"minorgridcolor\":\"white\",\"startlinecolor\":\"#2a3f5f\"},\"type\":\"carpet\"}],\"table\":[{\"cells\":{\"fill\":{\"color\":\"#EBF0F8\"},\"line\":{\"color\":\"white\"}},\"header\":{\"fill\":{\"color\":\"#C8D4E3\"},\"line\":{\"color\":\"white\"}},\"type\":\"table\"}],\"barpolar\":[{\"marker\":{\"line\":{\"color\":\"#E5ECF6\",\"width\":0.5},\"pattern\":{\"fillmode\":\"overlay\",\"size\":10,\"solidity\":0.2}},\"type\":\"barpolar\"}],\"pie\":[{\"automargin\":true,\"type\":\"pie\"}]},\"layout\":{\"autotypenumbers\":\"strict\",\"colorway\":[\"#636efa\",\"#EF553B\",\"#00cc96\",\"#ab63fa\",\"#FFA15A\",\"#19d3f3\",\"#FF6692\",\"#B6E880\",\"#FF97FF\",\"#FECB52\"],\"font\":{\"color\":\"#2a3f5f\"},\"hovermode\":\"closest\",\"hoverlabel\":{\"align\":\"left\"},\"paper_bgcolor\":\"white\",\"plot_bgcolor\":\"#E5ECF6\",\"polar\":{\"bgcolor\":\"#E5ECF6\",\"angularaxis\":{\"gridcolor\":\"white\",\"linecolor\":\"white\",\"ticks\":\"\"},\"radialaxis\":{\"gridcolor\":\"white\",\"linecolor\":\"white\",\"ticks\":\"\"}},\"ternary\":{\"bgcolor\":\"#E5ECF6\",\"aaxis\":{\"gridcolor\":\"white\",\"linecolor\":\"white\",\"ticks\":\"\"},\"baxis\":{\"gridcolor\":\"white\",\"linecolor\":\"white\",\"ticks\":\"\"},\"caxis\":{\"gridcolor\":\"white\",\"linecolor\":\"white\",\"ticks\":\"\"}},\"coloraxis\":{\"colorbar\":{\"outlinewidth\":0,\"ticks\":\"\"}},\"colorscale\":{\"sequential\":[[0.0,\"#0d0887\"],[0.1111111111111111,\"#46039f\"],[0.2222222222222222,\"#7201a8\"],[0.3333333333333333,\"#9c179e\"],[0.4444444444444444,\"#bd3786\"],[0.5555555555555556,\"#d8576b\"],[0.6666666666666666,\"#ed7953\"],[0.7777777777777778,\"#fb9f3a\"],[0.8888888888888888,\"#fdca26\"],[1.0,\"#f0f921\"]],\"sequentialminus\":[[0.0,\"#0d0887\"],[0.1111111111111111,\"#46039f\"],[0.2222222222222222,\"#7201a8\"],[0.3333333333333333,\"#9c179e\"],[0.4444444444444444,\"#bd3786\"],[0.5555555555555556,\"#d8576b\"],[0.6666666666666666,\"#ed7953\"],[0.7777777777777778,\"#fb9f3a\"],[0.8888888888888888,\"#fdca26\"],[1.0,\"#f0f921\"]],\"diverging\":[[0,\"#8e0152\"],[0.1,\"#c51b7d\"],[0.2,\"#de77ae\"],[0.3,\"#f1b6da\"],[0.4,\"#fde0ef\"],[0.5,\"#f7f7f7\"],[0.6,\"#e6f5d0\"],[0.7,\"#b8e186\"],[0.8,\"#7fbc41\"],[0.9,\"#4d9221\"],[1,\"#276419\"]]},\"xaxis\":{\"gridcolor\":\"white\",\"linecolor\":\"white\",\"ticks\":\"\",\"title\":{\"standoff\":15},\"zerolinecolor\":\"white\",\"automargin\":true,\"zerolinewidth\":2},\"yaxis\":{\"gridcolor\":\"white\",\"linecolor\":\"white\",\"ticks\":\"\",\"title\":{\"standoff\":15},\"zerolinecolor\":\"white\",\"automargin\":true,\"zerolinewidth\":2},\"scene\":{\"xaxis\":{\"backgroundcolor\":\"#E5ECF6\",\"gridcolor\":\"white\",\"linecolor\":\"white\",\"showbackground\":true,\"ticks\":\"\",\"zerolinecolor\":\"white\",\"gridwidth\":2},\"yaxis\":{\"backgroundcolor\":\"#E5ECF6\",\"gridcolor\":\"white\",\"linecolor\":\"white\",\"showbackground\":true,\"ticks\":\"\",\"zerolinecolor\":\"white\",\"gridwidth\":2},\"zaxis\":{\"backgroundcolor\":\"#E5ECF6\",\"gridcolor\":\"white\",\"linecolor\":\"white\",\"showbackground\":true,\"ticks\":\"\",\"zerolinecolor\":\"white\",\"gridwidth\":2}},\"shapedefaults\":{\"line\":{\"color\":\"#2a3f5f\"}},\"annotationdefaults\":{\"arrowcolor\":\"#2a3f5f\",\"arrowhead\":0,\"arrowwidth\":1},\"geo\":{\"bgcolor\":\"white\",\"landcolor\":\"#E5ECF6\",\"subunitcolor\":\"white\",\"showland\":true,\"showlakes\":true,\"lakecolor\":\"white\"},\"title\":{\"x\":0.05},\"mapbox\":{\"style\":\"light\"}}}},                        {\"responsive\": true}                    ).then(function(){\n",
       "                            \n",
       "var gd = document.getElementById('7d25e108-6167-48ca-98f0-2e7ab91d8bda');\n",
       "var x = new MutationObserver(function (mutations, observer) {{\n",
       "        var display = window.getComputedStyle(gd).display;\n",
       "        if (!display || display === 'none') {{\n",
       "            console.log([gd, 'removed!']);\n",
       "            Plotly.purge(gd);\n",
       "            observer.disconnect();\n",
       "        }}\n",
       "}});\n",
       "\n",
       "// Listen for the removal of the full notebook cells\n",
       "var notebookContainer = gd.closest('#notebook-container');\n",
       "if (notebookContainer) {{\n",
       "    x.observe(notebookContainer, {childList: true});\n",
       "}}\n",
       "\n",
       "// Listen for the clearing of the current output cell\n",
       "var outputEl = gd.closest('.output');\n",
       "if (outputEl) {{\n",
       "    x.observe(outputEl, {childList: true});\n",
       "}}\n",
       "\n",
       "                        })                };                });            </script>        </div>"
      ]
     },
     "metadata": {},
     "output_type": "display_data"
    }
   ],
   "source": [
    "\n",
    "#A modo de ejemplo muestro kappa y matriz de confusion para 50% de aciertos donde los errores quedan lejos de la clase correcta\n",
    "y_simulado_lejos = [y_test.iloc[sample] if random_list[sample]<50/100 else y_lejos[sample] for sample in range(len(y_test))]\n",
    "\n",
    "display(plot_confusion_matrix(y_test,y_simulado_lejos, \n",
    "                              title = \"Kappa \" + str(cohen_kappa_score(y_test,y_simulado_lejos, weights = 'quadratic'))))\n"
   ]
  },
  {
   "cell_type": "code",
   "execution_count": 59,
   "metadata": {},
   "outputs": [
    {
     "name": "stdout",
     "output_type": "stream",
     "text": [
      "[LightGBM] [Info] Number of positive: 328, number of negative: 11666\n",
      "[LightGBM] [Info] Number of positive: 2472, number of negative: 9522\n",
      "[LightGBM] [Info] Number of positive: 3230, number of negative: 8764\n",
      "[LightGBM] [Info] Number of positive: 2607, number of negative: 9387\n",
      "[LightGBM] [Info] Number of positive: 3357, number of negative: 8637\n",
      "[LightGBM] [Info] Auto-choosing row-wise multi-threading, the overhead of testing was 0.000619 seconds.\n",
      "You can set `force_row_wise=true` to remove the overhead.\n",
      "And if memory is not enough, you can set `force_col_wise=true`.\n",
      "[LightGBM] [Info] Total Bins 438\n",
      "[LightGBM] [Info] Number of data points in the train set: 11994, number of used features: 19\n",
      "[LightGBM] [Info] [binary:BoostFromScore]: pavg=0.027347 -> initscore=-3.571420\n",
      "[LightGBM] [Info] Start training from score -3.571420\n",
      "[LightGBM] [Info] [binary:BoostFromScore]: pavg=0.206103 -> initscore=-1.348577\n",
      "[LightGBM] [Info] Start training from score -1.348577\n",
      "[LightGBM] [Info] [binary:BoostFromScore]: pavg=0.269301 -> initscore=-0.998170\n",
      "[LightGBM] [Info] Start training from score -0.998170\n",
      "[LightGBM] [Info] [binary:BoostFromScore]: pavg=0.217359 -> initscore=-1.281126\n",
      "[LightGBM] [Info] Start training from score -1.281126\n",
      "[LightGBM] [Info] [binary:BoostFromScore]: pavg=0.279890 -> initscore=-0.945008\n",
      "[LightGBM] [Info] Start training from score -0.945008\n"
     ]
    }
   ],
   "source": [
    "#Pruebo un modelo alternativo donde en vez de usar la version multiclass real de lightGBM utilizo One vs All\n",
    "\n",
    "lgb_params = params = {\n",
    "                        'objective': 'multiclassova',\n",
    "                        'num_class': len(y_train.unique())\n",
    "                        }\n",
    "\n",
    "\n",
    "lgb_train_dataset = lgb.Dataset(data=X_train,\n",
    "                                label=y_train)\n",
    "\n",
    "\n",
    "lgb_model = lgb.train(lgb_params,\n",
    "                      lgb_train_dataset)"
   ]
  },
  {
   "cell_type": "code",
   "execution_count": 60,
   "metadata": {},
   "outputs": [
    {
     "data": {
      "application/vnd.plotly.v1+json": {
       "config": {
        "plotlyServerURL": "https://plot.ly"
       },
       "data": [
        {
         "type": "heatmap",
         "x": [
          0,
          1,
          2,
          3,
          4
         ],
         "y": [
          0,
          1,
          2,
          3,
          4
         ],
         "z": [
          [
           7.317073170731707,
           39.02439024390244,
           28.04878048780488,
           7.317073170731707,
           18.29268292682927
          ],
          [
           0.48543689320388345,
           32.847896440129446,
           37.37864077669903,
           7.766990291262135,
           21.521035598705502
          ],
          [
           0.12391573729863693,
           21.437422552664188,
           38.53779429987608,
           11.152416356877323,
           28.74845105328377
          ],
          [
           0.4601226993865031,
           16.87116564417178,
           33.58895705521473,
           19.32515337423313,
           29.754601226993866
          ],
          [
           0.11904761904761905,
           9.047619047619047,
           21.785714285714285,
           6.190476190476191,
           62.857142857142854
          ]
         ]
        }
       ],
       "layout": {
        "annotations": [
         {
          "font": {
           "color": "white"
          },
          "showarrow": false,
          "text": "7.3 - 6",
          "x": 0,
          "xref": "x",
          "y": 0,
          "yref": "y"
         },
         {
          "font": {
           "color": "white"
          },
          "showarrow": false,
          "text": "39.0 - 32",
          "x": 1,
          "xref": "x",
          "y": 0,
          "yref": "y"
         },
         {
          "font": {
           "color": "white"
          },
          "showarrow": false,
          "text": "28.0 - 23",
          "x": 2,
          "xref": "x",
          "y": 0,
          "yref": "y"
         },
         {
          "font": {
           "color": "white"
          },
          "showarrow": false,
          "text": "7.3 - 6",
          "x": 3,
          "xref": "x",
          "y": 0,
          "yref": "y"
         },
         {
          "font": {
           "color": "white"
          },
          "showarrow": false,
          "text": "18.3 - 15",
          "x": 4,
          "xref": "x",
          "y": 0,
          "yref": "y"
         },
         {
          "font": {
           "color": "white"
          },
          "showarrow": false,
          "text": "0.5 - 3",
          "x": 0,
          "xref": "x",
          "y": 1,
          "yref": "y"
         },
         {
          "font": {
           "color": "white"
          },
          "showarrow": false,
          "text": "32.8 - 203",
          "x": 1,
          "xref": "x",
          "y": 1,
          "yref": "y"
         },
         {
          "font": {
           "color": "white"
          },
          "showarrow": false,
          "text": "37.4 - 231",
          "x": 2,
          "xref": "x",
          "y": 1,
          "yref": "y"
         },
         {
          "font": {
           "color": "white"
          },
          "showarrow": false,
          "text": "7.8 - 48",
          "x": 3,
          "xref": "x",
          "y": 1,
          "yref": "y"
         },
         {
          "font": {
           "color": "white"
          },
          "showarrow": false,
          "text": "21.5 - 133",
          "x": 4,
          "xref": "x",
          "y": 1,
          "yref": "y"
         },
         {
          "font": {
           "color": "white"
          },
          "showarrow": false,
          "text": "0.1 - 1",
          "x": 0,
          "xref": "x",
          "y": 2,
          "yref": "y"
         },
         {
          "font": {
           "color": "white"
          },
          "showarrow": false,
          "text": "21.4 - 173",
          "x": 1,
          "xref": "x",
          "y": 2,
          "yref": "y"
         },
         {
          "font": {
           "color": "white"
          },
          "showarrow": false,
          "text": "38.5 - 311",
          "x": 2,
          "xref": "x",
          "y": 2,
          "yref": "y"
         },
         {
          "font": {
           "color": "white"
          },
          "showarrow": false,
          "text": "11.2 - 90",
          "x": 3,
          "xref": "x",
          "y": 2,
          "yref": "y"
         },
         {
          "font": {
           "color": "white"
          },
          "showarrow": false,
          "text": "28.7 - 232",
          "x": 4,
          "xref": "x",
          "y": 2,
          "yref": "y"
         },
         {
          "font": {
           "color": "white"
          },
          "showarrow": false,
          "text": "0.5 - 3",
          "x": 0,
          "xref": "x",
          "y": 3,
          "yref": "y"
         },
         {
          "font": {
           "color": "white"
          },
          "showarrow": false,
          "text": "16.9 - 110",
          "x": 1,
          "xref": "x",
          "y": 3,
          "yref": "y"
         },
         {
          "font": {
           "color": "white"
          },
          "showarrow": false,
          "text": "33.6 - 219",
          "x": 2,
          "xref": "x",
          "y": 3,
          "yref": "y"
         },
         {
          "font": {
           "color": "white"
          },
          "showarrow": false,
          "text": "19.3 - 126",
          "x": 3,
          "xref": "x",
          "y": 3,
          "yref": "y"
         },
         {
          "font": {
           "color": "white"
          },
          "showarrow": false,
          "text": "29.8 - 194",
          "x": 4,
          "xref": "x",
          "y": 3,
          "yref": "y"
         },
         {
          "font": {
           "color": "white"
          },
          "showarrow": false,
          "text": "0.1 - 1",
          "x": 0,
          "xref": "x",
          "y": 4,
          "yref": "y"
         },
         {
          "font": {
           "color": "white"
          },
          "showarrow": false,
          "text": "9.0 - 76",
          "x": 1,
          "xref": "x",
          "y": 4,
          "yref": "y"
         },
         {
          "font": {
           "color": "white"
          },
          "showarrow": false,
          "text": "21.8 - 183",
          "x": 2,
          "xref": "x",
          "y": 4,
          "yref": "y"
         },
         {
          "font": {
           "color": "white"
          },
          "showarrow": false,
          "text": "6.2 - 52",
          "x": 3,
          "xref": "x",
          "y": 4,
          "yref": "y"
         },
         {
          "font": {
           "color": "white"
          },
          "showarrow": false,
          "text": "62.9 - 528",
          "x": 4,
          "xref": "x",
          "y": 4,
          "yref": "y"
         }
        ],
        "height": 800,
        "template": {
         "data": {
          "bar": [
           {
            "error_x": {
             "color": "#2a3f5f"
            },
            "error_y": {
             "color": "#2a3f5f"
            },
            "marker": {
             "line": {
              "color": "#E5ECF6",
              "width": 0.5
             },
             "pattern": {
              "fillmode": "overlay",
              "size": 10,
              "solidity": 0.2
             }
            },
            "type": "bar"
           }
          ],
          "barpolar": [
           {
            "marker": {
             "line": {
              "color": "#E5ECF6",
              "width": 0.5
             },
             "pattern": {
              "fillmode": "overlay",
              "size": 10,
              "solidity": 0.2
             }
            },
            "type": "barpolar"
           }
          ],
          "carpet": [
           {
            "aaxis": {
             "endlinecolor": "#2a3f5f",
             "gridcolor": "white",
             "linecolor": "white",
             "minorgridcolor": "white",
             "startlinecolor": "#2a3f5f"
            },
            "baxis": {
             "endlinecolor": "#2a3f5f",
             "gridcolor": "white",
             "linecolor": "white",
             "minorgridcolor": "white",
             "startlinecolor": "#2a3f5f"
            },
            "type": "carpet"
           }
          ],
          "choropleth": [
           {
            "colorbar": {
             "outlinewidth": 0,
             "ticks": ""
            },
            "type": "choropleth"
           }
          ],
          "contour": [
           {
            "colorbar": {
             "outlinewidth": 0,
             "ticks": ""
            },
            "colorscale": [
             [
              0,
              "#0d0887"
             ],
             [
              0.1111111111111111,
              "#46039f"
             ],
             [
              0.2222222222222222,
              "#7201a8"
             ],
             [
              0.3333333333333333,
              "#9c179e"
             ],
             [
              0.4444444444444444,
              "#bd3786"
             ],
             [
              0.5555555555555556,
              "#d8576b"
             ],
             [
              0.6666666666666666,
              "#ed7953"
             ],
             [
              0.7777777777777778,
              "#fb9f3a"
             ],
             [
              0.8888888888888888,
              "#fdca26"
             ],
             [
              1,
              "#f0f921"
             ]
            ],
            "type": "contour"
           }
          ],
          "contourcarpet": [
           {
            "colorbar": {
             "outlinewidth": 0,
             "ticks": ""
            },
            "type": "contourcarpet"
           }
          ],
          "heatmap": [
           {
            "colorbar": {
             "outlinewidth": 0,
             "ticks": ""
            },
            "colorscale": [
             [
              0,
              "#0d0887"
             ],
             [
              0.1111111111111111,
              "#46039f"
             ],
             [
              0.2222222222222222,
              "#7201a8"
             ],
             [
              0.3333333333333333,
              "#9c179e"
             ],
             [
              0.4444444444444444,
              "#bd3786"
             ],
             [
              0.5555555555555556,
              "#d8576b"
             ],
             [
              0.6666666666666666,
              "#ed7953"
             ],
             [
              0.7777777777777778,
              "#fb9f3a"
             ],
             [
              0.8888888888888888,
              "#fdca26"
             ],
             [
              1,
              "#f0f921"
             ]
            ],
            "type": "heatmap"
           }
          ],
          "heatmapgl": [
           {
            "colorbar": {
             "outlinewidth": 0,
             "ticks": ""
            },
            "colorscale": [
             [
              0,
              "#0d0887"
             ],
             [
              0.1111111111111111,
              "#46039f"
             ],
             [
              0.2222222222222222,
              "#7201a8"
             ],
             [
              0.3333333333333333,
              "#9c179e"
             ],
             [
              0.4444444444444444,
              "#bd3786"
             ],
             [
              0.5555555555555556,
              "#d8576b"
             ],
             [
              0.6666666666666666,
              "#ed7953"
             ],
             [
              0.7777777777777778,
              "#fb9f3a"
             ],
             [
              0.8888888888888888,
              "#fdca26"
             ],
             [
              1,
              "#f0f921"
             ]
            ],
            "type": "heatmapgl"
           }
          ],
          "histogram": [
           {
            "marker": {
             "pattern": {
              "fillmode": "overlay",
              "size": 10,
              "solidity": 0.2
             }
            },
            "type": "histogram"
           }
          ],
          "histogram2d": [
           {
            "colorbar": {
             "outlinewidth": 0,
             "ticks": ""
            },
            "colorscale": [
             [
              0,
              "#0d0887"
             ],
             [
              0.1111111111111111,
              "#46039f"
             ],
             [
              0.2222222222222222,
              "#7201a8"
             ],
             [
              0.3333333333333333,
              "#9c179e"
             ],
             [
              0.4444444444444444,
              "#bd3786"
             ],
             [
              0.5555555555555556,
              "#d8576b"
             ],
             [
              0.6666666666666666,
              "#ed7953"
             ],
             [
              0.7777777777777778,
              "#fb9f3a"
             ],
             [
              0.8888888888888888,
              "#fdca26"
             ],
             [
              1,
              "#f0f921"
             ]
            ],
            "type": "histogram2d"
           }
          ],
          "histogram2dcontour": [
           {
            "colorbar": {
             "outlinewidth": 0,
             "ticks": ""
            },
            "colorscale": [
             [
              0,
              "#0d0887"
             ],
             [
              0.1111111111111111,
              "#46039f"
             ],
             [
              0.2222222222222222,
              "#7201a8"
             ],
             [
              0.3333333333333333,
              "#9c179e"
             ],
             [
              0.4444444444444444,
              "#bd3786"
             ],
             [
              0.5555555555555556,
              "#d8576b"
             ],
             [
              0.6666666666666666,
              "#ed7953"
             ],
             [
              0.7777777777777778,
              "#fb9f3a"
             ],
             [
              0.8888888888888888,
              "#fdca26"
             ],
             [
              1,
              "#f0f921"
             ]
            ],
            "type": "histogram2dcontour"
           }
          ],
          "mesh3d": [
           {
            "colorbar": {
             "outlinewidth": 0,
             "ticks": ""
            },
            "type": "mesh3d"
           }
          ],
          "parcoords": [
           {
            "line": {
             "colorbar": {
              "outlinewidth": 0,
              "ticks": ""
             }
            },
            "type": "parcoords"
           }
          ],
          "pie": [
           {
            "automargin": true,
            "type": "pie"
           }
          ],
          "scatter": [
           {
            "fillpattern": {
             "fillmode": "overlay",
             "size": 10,
             "solidity": 0.2
            },
            "type": "scatter"
           }
          ],
          "scatter3d": [
           {
            "line": {
             "colorbar": {
              "outlinewidth": 0,
              "ticks": ""
             }
            },
            "marker": {
             "colorbar": {
              "outlinewidth": 0,
              "ticks": ""
             }
            },
            "type": "scatter3d"
           }
          ],
          "scattercarpet": [
           {
            "marker": {
             "colorbar": {
              "outlinewidth": 0,
              "ticks": ""
             }
            },
            "type": "scattercarpet"
           }
          ],
          "scattergeo": [
           {
            "marker": {
             "colorbar": {
              "outlinewidth": 0,
              "ticks": ""
             }
            },
            "type": "scattergeo"
           }
          ],
          "scattergl": [
           {
            "marker": {
             "colorbar": {
              "outlinewidth": 0,
              "ticks": ""
             }
            },
            "type": "scattergl"
           }
          ],
          "scattermapbox": [
           {
            "marker": {
             "colorbar": {
              "outlinewidth": 0,
              "ticks": ""
             }
            },
            "type": "scattermapbox"
           }
          ],
          "scatterpolar": [
           {
            "marker": {
             "colorbar": {
              "outlinewidth": 0,
              "ticks": ""
             }
            },
            "type": "scatterpolar"
           }
          ],
          "scatterpolargl": [
           {
            "marker": {
             "colorbar": {
              "outlinewidth": 0,
              "ticks": ""
             }
            },
            "type": "scatterpolargl"
           }
          ],
          "scatterternary": [
           {
            "marker": {
             "colorbar": {
              "outlinewidth": 0,
              "ticks": ""
             }
            },
            "type": "scatterternary"
           }
          ],
          "surface": [
           {
            "colorbar": {
             "outlinewidth": 0,
             "ticks": ""
            },
            "colorscale": [
             [
              0,
              "#0d0887"
             ],
             [
              0.1111111111111111,
              "#46039f"
             ],
             [
              0.2222222222222222,
              "#7201a8"
             ],
             [
              0.3333333333333333,
              "#9c179e"
             ],
             [
              0.4444444444444444,
              "#bd3786"
             ],
             [
              0.5555555555555556,
              "#d8576b"
             ],
             [
              0.6666666666666666,
              "#ed7953"
             ],
             [
              0.7777777777777778,
              "#fb9f3a"
             ],
             [
              0.8888888888888888,
              "#fdca26"
             ],
             [
              1,
              "#f0f921"
             ]
            ],
            "type": "surface"
           }
          ],
          "table": [
           {
            "cells": {
             "fill": {
              "color": "#EBF0F8"
             },
             "line": {
              "color": "white"
             }
            },
            "header": {
             "fill": {
              "color": "#C8D4E3"
             },
             "line": {
              "color": "white"
             }
            },
            "type": "table"
           }
          ]
         },
         "layout": {
          "annotationdefaults": {
           "arrowcolor": "#2a3f5f",
           "arrowhead": 0,
           "arrowwidth": 1
          },
          "autotypenumbers": "strict",
          "coloraxis": {
           "colorbar": {
            "outlinewidth": 0,
            "ticks": ""
           }
          },
          "colorscale": {
           "diverging": [
            [
             0,
             "#8e0152"
            ],
            [
             0.1,
             "#c51b7d"
            ],
            [
             0.2,
             "#de77ae"
            ],
            [
             0.3,
             "#f1b6da"
            ],
            [
             0.4,
             "#fde0ef"
            ],
            [
             0.5,
             "#f7f7f7"
            ],
            [
             0.6,
             "#e6f5d0"
            ],
            [
             0.7,
             "#b8e186"
            ],
            [
             0.8,
             "#7fbc41"
            ],
            [
             0.9,
             "#4d9221"
            ],
            [
             1,
             "#276419"
            ]
           ],
           "sequential": [
            [
             0,
             "#0d0887"
            ],
            [
             0.1111111111111111,
             "#46039f"
            ],
            [
             0.2222222222222222,
             "#7201a8"
            ],
            [
             0.3333333333333333,
             "#9c179e"
            ],
            [
             0.4444444444444444,
             "#bd3786"
            ],
            [
             0.5555555555555556,
             "#d8576b"
            ],
            [
             0.6666666666666666,
             "#ed7953"
            ],
            [
             0.7777777777777778,
             "#fb9f3a"
            ],
            [
             0.8888888888888888,
             "#fdca26"
            ],
            [
             1,
             "#f0f921"
            ]
           ],
           "sequentialminus": [
            [
             0,
             "#0d0887"
            ],
            [
             0.1111111111111111,
             "#46039f"
            ],
            [
             0.2222222222222222,
             "#7201a8"
            ],
            [
             0.3333333333333333,
             "#9c179e"
            ],
            [
             0.4444444444444444,
             "#bd3786"
            ],
            [
             0.5555555555555556,
             "#d8576b"
            ],
            [
             0.6666666666666666,
             "#ed7953"
            ],
            [
             0.7777777777777778,
             "#fb9f3a"
            ],
            [
             0.8888888888888888,
             "#fdca26"
            ],
            [
             1,
             "#f0f921"
            ]
           ]
          },
          "colorway": [
           "#636efa",
           "#EF553B",
           "#00cc96",
           "#ab63fa",
           "#FFA15A",
           "#19d3f3",
           "#FF6692",
           "#B6E880",
           "#FF97FF",
           "#FECB52"
          ],
          "font": {
           "color": "#2a3f5f"
          },
          "geo": {
           "bgcolor": "white",
           "lakecolor": "white",
           "landcolor": "#E5ECF6",
           "showlakes": true,
           "showland": true,
           "subunitcolor": "white"
          },
          "hoverlabel": {
           "align": "left"
          },
          "hovermode": "closest",
          "mapbox": {
           "style": "light"
          },
          "paper_bgcolor": "white",
          "plot_bgcolor": "#E5ECF6",
          "polar": {
           "angularaxis": {
            "gridcolor": "white",
            "linecolor": "white",
            "ticks": ""
           },
           "bgcolor": "#E5ECF6",
           "radialaxis": {
            "gridcolor": "white",
            "linecolor": "white",
            "ticks": ""
           }
          },
          "scene": {
           "xaxis": {
            "backgroundcolor": "#E5ECF6",
            "gridcolor": "white",
            "gridwidth": 2,
            "linecolor": "white",
            "showbackground": true,
            "ticks": "",
            "zerolinecolor": "white"
           },
           "yaxis": {
            "backgroundcolor": "#E5ECF6",
            "gridcolor": "white",
            "gridwidth": 2,
            "linecolor": "white",
            "showbackground": true,
            "ticks": "",
            "zerolinecolor": "white"
           },
           "zaxis": {
            "backgroundcolor": "#E5ECF6",
            "gridcolor": "white",
            "gridwidth": 2,
            "linecolor": "white",
            "showbackground": true,
            "ticks": "",
            "zerolinecolor": "white"
           }
          },
          "shapedefaults": {
           "line": {
            "color": "#2a3f5f"
           }
          },
          "ternary": {
           "aaxis": {
            "gridcolor": "white",
            "linecolor": "white",
            "ticks": ""
           },
           "baxis": {
            "gridcolor": "white",
            "linecolor": "white",
            "ticks": ""
           },
           "bgcolor": "#E5ECF6",
           "caxis": {
            "gridcolor": "white",
            "linecolor": "white",
            "ticks": ""
           }
          },
          "title": {
           "x": 0.05
          },
          "xaxis": {
           "automargin": true,
           "gridcolor": "white",
           "linecolor": "white",
           "ticks": "",
           "title": {
            "standoff": 15
           },
           "zerolinecolor": "white",
           "zerolinewidth": 2
          },
          "yaxis": {
           "automargin": true,
           "gridcolor": "white",
           "linecolor": "white",
           "ticks": "",
           "title": {
            "standoff": 15
           },
           "zerolinecolor": "white",
           "zerolinewidth": 2
          }
         }
        },
        "title": {
         "text": "Conf Matrix"
        },
        "width": 800,
        "xaxis": {
         "title": {
          "text": "Predicted value"
         }
        },
        "yaxis": {
         "title": {
          "text": "Real value"
         }
        }
       }
      },
      "text/html": [
       "<div>                            <div id=\"beb111d4-b1c3-4330-aee7-3f460536216b\" class=\"plotly-graph-div\" style=\"height:800px; width:800px;\"></div>            <script type=\"text/javascript\">                require([\"plotly\"], function(Plotly) {                    window.PLOTLYENV=window.PLOTLYENV || {};                                    if (document.getElementById(\"beb111d4-b1c3-4330-aee7-3f460536216b\")) {                    Plotly.newPlot(                        \"beb111d4-b1c3-4330-aee7-3f460536216b\",                        [{\"x\":[0,1,2,3,4],\"y\":[0,1,2,3,4],\"z\":[[7.317073170731707,39.02439024390244,28.04878048780488,7.317073170731707,18.29268292682927],[0.48543689320388345,32.847896440129446,37.37864077669903,7.766990291262135,21.521035598705502],[0.12391573729863693,21.437422552664188,38.53779429987608,11.152416356877323,28.74845105328377],[0.4601226993865031,16.87116564417178,33.58895705521473,19.32515337423313,29.754601226993866],[0.11904761904761905,9.047619047619047,21.785714285714285,6.190476190476191,62.857142857142854]],\"type\":\"heatmap\"}],                        {\"annotations\":[{\"font\":{\"color\":\"white\"},\"showarrow\":false,\"text\":\"7.3 - 6\",\"x\":0,\"xref\":\"x\",\"y\":0,\"yref\":\"y\"},{\"font\":{\"color\":\"white\"},\"showarrow\":false,\"text\":\"39.0 - 32\",\"x\":1,\"xref\":\"x\",\"y\":0,\"yref\":\"y\"},{\"font\":{\"color\":\"white\"},\"showarrow\":false,\"text\":\"28.0 - 23\",\"x\":2,\"xref\":\"x\",\"y\":0,\"yref\":\"y\"},{\"font\":{\"color\":\"white\"},\"showarrow\":false,\"text\":\"7.3 - 6\",\"x\":3,\"xref\":\"x\",\"y\":0,\"yref\":\"y\"},{\"font\":{\"color\":\"white\"},\"showarrow\":false,\"text\":\"18.3 - 15\",\"x\":4,\"xref\":\"x\",\"y\":0,\"yref\":\"y\"},{\"font\":{\"color\":\"white\"},\"showarrow\":false,\"text\":\"0.5 - 3\",\"x\":0,\"xref\":\"x\",\"y\":1,\"yref\":\"y\"},{\"font\":{\"color\":\"white\"},\"showarrow\":false,\"text\":\"32.8 - 203\",\"x\":1,\"xref\":\"x\",\"y\":1,\"yref\":\"y\"},{\"font\":{\"color\":\"white\"},\"showarrow\":false,\"text\":\"37.4 - 231\",\"x\":2,\"xref\":\"x\",\"y\":1,\"yref\":\"y\"},{\"font\":{\"color\":\"white\"},\"showarrow\":false,\"text\":\"7.8 - 48\",\"x\":3,\"xref\":\"x\",\"y\":1,\"yref\":\"y\"},{\"font\":{\"color\":\"white\"},\"showarrow\":false,\"text\":\"21.5 - 133\",\"x\":4,\"xref\":\"x\",\"y\":1,\"yref\":\"y\"},{\"font\":{\"color\":\"white\"},\"showarrow\":false,\"text\":\"0.1 - 1\",\"x\":0,\"xref\":\"x\",\"y\":2,\"yref\":\"y\"},{\"font\":{\"color\":\"white\"},\"showarrow\":false,\"text\":\"21.4 - 173\",\"x\":1,\"xref\":\"x\",\"y\":2,\"yref\":\"y\"},{\"font\":{\"color\":\"white\"},\"showarrow\":false,\"text\":\"38.5 - 311\",\"x\":2,\"xref\":\"x\",\"y\":2,\"yref\":\"y\"},{\"font\":{\"color\":\"white\"},\"showarrow\":false,\"text\":\"11.2 - 90\",\"x\":3,\"xref\":\"x\",\"y\":2,\"yref\":\"y\"},{\"font\":{\"color\":\"white\"},\"showarrow\":false,\"text\":\"28.7 - 232\",\"x\":4,\"xref\":\"x\",\"y\":2,\"yref\":\"y\"},{\"font\":{\"color\":\"white\"},\"showarrow\":false,\"text\":\"0.5 - 3\",\"x\":0,\"xref\":\"x\",\"y\":3,\"yref\":\"y\"},{\"font\":{\"color\":\"white\"},\"showarrow\":false,\"text\":\"16.9 - 110\",\"x\":1,\"xref\":\"x\",\"y\":3,\"yref\":\"y\"},{\"font\":{\"color\":\"white\"},\"showarrow\":false,\"text\":\"33.6 - 219\",\"x\":2,\"xref\":\"x\",\"y\":3,\"yref\":\"y\"},{\"font\":{\"color\":\"white\"},\"showarrow\":false,\"text\":\"19.3 - 126\",\"x\":3,\"xref\":\"x\",\"y\":3,\"yref\":\"y\"},{\"font\":{\"color\":\"white\"},\"showarrow\":false,\"text\":\"29.8 - 194\",\"x\":4,\"xref\":\"x\",\"y\":3,\"yref\":\"y\"},{\"font\":{\"color\":\"white\"},\"showarrow\":false,\"text\":\"0.1 - 1\",\"x\":0,\"xref\":\"x\",\"y\":4,\"yref\":\"y\"},{\"font\":{\"color\":\"white\"},\"showarrow\":false,\"text\":\"9.0 - 76\",\"x\":1,\"xref\":\"x\",\"y\":4,\"yref\":\"y\"},{\"font\":{\"color\":\"white\"},\"showarrow\":false,\"text\":\"21.8 - 183\",\"x\":2,\"xref\":\"x\",\"y\":4,\"yref\":\"y\"},{\"font\":{\"color\":\"white\"},\"showarrow\":false,\"text\":\"6.2 - 52\",\"x\":3,\"xref\":\"x\",\"y\":4,\"yref\":\"y\"},{\"font\":{\"color\":\"white\"},\"showarrow\":false,\"text\":\"62.9 - 528\",\"x\":4,\"xref\":\"x\",\"y\":4,\"yref\":\"y\"}],\"height\":800,\"title\":{\"text\":\"Conf Matrix\"},\"width\":800,\"xaxis\":{\"title\":{\"text\":\"Predicted value\"}},\"yaxis\":{\"title\":{\"text\":\"Real value\"}},\"template\":{\"data\":{\"histogram2dcontour\":[{\"type\":\"histogram2dcontour\",\"colorbar\":{\"outlinewidth\":0,\"ticks\":\"\"},\"colorscale\":[[0.0,\"#0d0887\"],[0.1111111111111111,\"#46039f\"],[0.2222222222222222,\"#7201a8\"],[0.3333333333333333,\"#9c179e\"],[0.4444444444444444,\"#bd3786\"],[0.5555555555555556,\"#d8576b\"],[0.6666666666666666,\"#ed7953\"],[0.7777777777777778,\"#fb9f3a\"],[0.8888888888888888,\"#fdca26\"],[1.0,\"#f0f921\"]]}],\"choropleth\":[{\"type\":\"choropleth\",\"colorbar\":{\"outlinewidth\":0,\"ticks\":\"\"}}],\"histogram2d\":[{\"type\":\"histogram2d\",\"colorbar\":{\"outlinewidth\":0,\"ticks\":\"\"},\"colorscale\":[[0.0,\"#0d0887\"],[0.1111111111111111,\"#46039f\"],[0.2222222222222222,\"#7201a8\"],[0.3333333333333333,\"#9c179e\"],[0.4444444444444444,\"#bd3786\"],[0.5555555555555556,\"#d8576b\"],[0.6666666666666666,\"#ed7953\"],[0.7777777777777778,\"#fb9f3a\"],[0.8888888888888888,\"#fdca26\"],[1.0,\"#f0f921\"]]}],\"heatmap\":[{\"type\":\"heatmap\",\"colorbar\":{\"outlinewidth\":0,\"ticks\":\"\"},\"colorscale\":[[0.0,\"#0d0887\"],[0.1111111111111111,\"#46039f\"],[0.2222222222222222,\"#7201a8\"],[0.3333333333333333,\"#9c179e\"],[0.4444444444444444,\"#bd3786\"],[0.5555555555555556,\"#d8576b\"],[0.6666666666666666,\"#ed7953\"],[0.7777777777777778,\"#fb9f3a\"],[0.8888888888888888,\"#fdca26\"],[1.0,\"#f0f921\"]]}],\"heatmapgl\":[{\"type\":\"heatmapgl\",\"colorbar\":{\"outlinewidth\":0,\"ticks\":\"\"},\"colorscale\":[[0.0,\"#0d0887\"],[0.1111111111111111,\"#46039f\"],[0.2222222222222222,\"#7201a8\"],[0.3333333333333333,\"#9c179e\"],[0.4444444444444444,\"#bd3786\"],[0.5555555555555556,\"#d8576b\"],[0.6666666666666666,\"#ed7953\"],[0.7777777777777778,\"#fb9f3a\"],[0.8888888888888888,\"#fdca26\"],[1.0,\"#f0f921\"]]}],\"contourcarpet\":[{\"type\":\"contourcarpet\",\"colorbar\":{\"outlinewidth\":0,\"ticks\":\"\"}}],\"contour\":[{\"type\":\"contour\",\"colorbar\":{\"outlinewidth\":0,\"ticks\":\"\"},\"colorscale\":[[0.0,\"#0d0887\"],[0.1111111111111111,\"#46039f\"],[0.2222222222222222,\"#7201a8\"],[0.3333333333333333,\"#9c179e\"],[0.4444444444444444,\"#bd3786\"],[0.5555555555555556,\"#d8576b\"],[0.6666666666666666,\"#ed7953\"],[0.7777777777777778,\"#fb9f3a\"],[0.8888888888888888,\"#fdca26\"],[1.0,\"#f0f921\"]]}],\"surface\":[{\"type\":\"surface\",\"colorbar\":{\"outlinewidth\":0,\"ticks\":\"\"},\"colorscale\":[[0.0,\"#0d0887\"],[0.1111111111111111,\"#46039f\"],[0.2222222222222222,\"#7201a8\"],[0.3333333333333333,\"#9c179e\"],[0.4444444444444444,\"#bd3786\"],[0.5555555555555556,\"#d8576b\"],[0.6666666666666666,\"#ed7953\"],[0.7777777777777778,\"#fb9f3a\"],[0.8888888888888888,\"#fdca26\"],[1.0,\"#f0f921\"]]}],\"mesh3d\":[{\"type\":\"mesh3d\",\"colorbar\":{\"outlinewidth\":0,\"ticks\":\"\"}}],\"scatter\":[{\"fillpattern\":{\"fillmode\":\"overlay\",\"size\":10,\"solidity\":0.2},\"type\":\"scatter\"}],\"parcoords\":[{\"type\":\"parcoords\",\"line\":{\"colorbar\":{\"outlinewidth\":0,\"ticks\":\"\"}}}],\"scatterpolargl\":[{\"type\":\"scatterpolargl\",\"marker\":{\"colorbar\":{\"outlinewidth\":0,\"ticks\":\"\"}}}],\"bar\":[{\"error_x\":{\"color\":\"#2a3f5f\"},\"error_y\":{\"color\":\"#2a3f5f\"},\"marker\":{\"line\":{\"color\":\"#E5ECF6\",\"width\":0.5},\"pattern\":{\"fillmode\":\"overlay\",\"size\":10,\"solidity\":0.2}},\"type\":\"bar\"}],\"scattergeo\":[{\"type\":\"scattergeo\",\"marker\":{\"colorbar\":{\"outlinewidth\":0,\"ticks\":\"\"}}}],\"scatterpolar\":[{\"type\":\"scatterpolar\",\"marker\":{\"colorbar\":{\"outlinewidth\":0,\"ticks\":\"\"}}}],\"histogram\":[{\"marker\":{\"pattern\":{\"fillmode\":\"overlay\",\"size\":10,\"solidity\":0.2}},\"type\":\"histogram\"}],\"scattergl\":[{\"type\":\"scattergl\",\"marker\":{\"colorbar\":{\"outlinewidth\":0,\"ticks\":\"\"}}}],\"scatter3d\":[{\"type\":\"scatter3d\",\"line\":{\"colorbar\":{\"outlinewidth\":0,\"ticks\":\"\"}},\"marker\":{\"colorbar\":{\"outlinewidth\":0,\"ticks\":\"\"}}}],\"scattermapbox\":[{\"type\":\"scattermapbox\",\"marker\":{\"colorbar\":{\"outlinewidth\":0,\"ticks\":\"\"}}}],\"scatterternary\":[{\"type\":\"scatterternary\",\"marker\":{\"colorbar\":{\"outlinewidth\":0,\"ticks\":\"\"}}}],\"scattercarpet\":[{\"type\":\"scattercarpet\",\"marker\":{\"colorbar\":{\"outlinewidth\":0,\"ticks\":\"\"}}}],\"carpet\":[{\"aaxis\":{\"endlinecolor\":\"#2a3f5f\",\"gridcolor\":\"white\",\"linecolor\":\"white\",\"minorgridcolor\":\"white\",\"startlinecolor\":\"#2a3f5f\"},\"baxis\":{\"endlinecolor\":\"#2a3f5f\",\"gridcolor\":\"white\",\"linecolor\":\"white\",\"minorgridcolor\":\"white\",\"startlinecolor\":\"#2a3f5f\"},\"type\":\"carpet\"}],\"table\":[{\"cells\":{\"fill\":{\"color\":\"#EBF0F8\"},\"line\":{\"color\":\"white\"}},\"header\":{\"fill\":{\"color\":\"#C8D4E3\"},\"line\":{\"color\":\"white\"}},\"type\":\"table\"}],\"barpolar\":[{\"marker\":{\"line\":{\"color\":\"#E5ECF6\",\"width\":0.5},\"pattern\":{\"fillmode\":\"overlay\",\"size\":10,\"solidity\":0.2}},\"type\":\"barpolar\"}],\"pie\":[{\"automargin\":true,\"type\":\"pie\"}]},\"layout\":{\"autotypenumbers\":\"strict\",\"colorway\":[\"#636efa\",\"#EF553B\",\"#00cc96\",\"#ab63fa\",\"#FFA15A\",\"#19d3f3\",\"#FF6692\",\"#B6E880\",\"#FF97FF\",\"#FECB52\"],\"font\":{\"color\":\"#2a3f5f\"},\"hovermode\":\"closest\",\"hoverlabel\":{\"align\":\"left\"},\"paper_bgcolor\":\"white\",\"plot_bgcolor\":\"#E5ECF6\",\"polar\":{\"bgcolor\":\"#E5ECF6\",\"angularaxis\":{\"gridcolor\":\"white\",\"linecolor\":\"white\",\"ticks\":\"\"},\"radialaxis\":{\"gridcolor\":\"white\",\"linecolor\":\"white\",\"ticks\":\"\"}},\"ternary\":{\"bgcolor\":\"#E5ECF6\",\"aaxis\":{\"gridcolor\":\"white\",\"linecolor\":\"white\",\"ticks\":\"\"},\"baxis\":{\"gridcolor\":\"white\",\"linecolor\":\"white\",\"ticks\":\"\"},\"caxis\":{\"gridcolor\":\"white\",\"linecolor\":\"white\",\"ticks\":\"\"}},\"coloraxis\":{\"colorbar\":{\"outlinewidth\":0,\"ticks\":\"\"}},\"colorscale\":{\"sequential\":[[0.0,\"#0d0887\"],[0.1111111111111111,\"#46039f\"],[0.2222222222222222,\"#7201a8\"],[0.3333333333333333,\"#9c179e\"],[0.4444444444444444,\"#bd3786\"],[0.5555555555555556,\"#d8576b\"],[0.6666666666666666,\"#ed7953\"],[0.7777777777777778,\"#fb9f3a\"],[0.8888888888888888,\"#fdca26\"],[1.0,\"#f0f921\"]],\"sequentialminus\":[[0.0,\"#0d0887\"],[0.1111111111111111,\"#46039f\"],[0.2222222222222222,\"#7201a8\"],[0.3333333333333333,\"#9c179e\"],[0.4444444444444444,\"#bd3786\"],[0.5555555555555556,\"#d8576b\"],[0.6666666666666666,\"#ed7953\"],[0.7777777777777778,\"#fb9f3a\"],[0.8888888888888888,\"#fdca26\"],[1.0,\"#f0f921\"]],\"diverging\":[[0,\"#8e0152\"],[0.1,\"#c51b7d\"],[0.2,\"#de77ae\"],[0.3,\"#f1b6da\"],[0.4,\"#fde0ef\"],[0.5,\"#f7f7f7\"],[0.6,\"#e6f5d0\"],[0.7,\"#b8e186\"],[0.8,\"#7fbc41\"],[0.9,\"#4d9221\"],[1,\"#276419\"]]},\"xaxis\":{\"gridcolor\":\"white\",\"linecolor\":\"white\",\"ticks\":\"\",\"title\":{\"standoff\":15},\"zerolinecolor\":\"white\",\"automargin\":true,\"zerolinewidth\":2},\"yaxis\":{\"gridcolor\":\"white\",\"linecolor\":\"white\",\"ticks\":\"\",\"title\":{\"standoff\":15},\"zerolinecolor\":\"white\",\"automargin\":true,\"zerolinewidth\":2},\"scene\":{\"xaxis\":{\"backgroundcolor\":\"#E5ECF6\",\"gridcolor\":\"white\",\"linecolor\":\"white\",\"showbackground\":true,\"ticks\":\"\",\"zerolinecolor\":\"white\",\"gridwidth\":2},\"yaxis\":{\"backgroundcolor\":\"#E5ECF6\",\"gridcolor\":\"white\",\"linecolor\":\"white\",\"showbackground\":true,\"ticks\":\"\",\"zerolinecolor\":\"white\",\"gridwidth\":2},\"zaxis\":{\"backgroundcolor\":\"#E5ECF6\",\"gridcolor\":\"white\",\"linecolor\":\"white\",\"showbackground\":true,\"ticks\":\"\",\"zerolinecolor\":\"white\",\"gridwidth\":2}},\"shapedefaults\":{\"line\":{\"color\":\"#2a3f5f\"}},\"annotationdefaults\":{\"arrowcolor\":\"#2a3f5f\",\"arrowhead\":0,\"arrowwidth\":1},\"geo\":{\"bgcolor\":\"white\",\"landcolor\":\"#E5ECF6\",\"subunitcolor\":\"white\",\"showland\":true,\"showlakes\":true,\"lakecolor\":\"white\"},\"title\":{\"x\":0.05},\"mapbox\":{\"style\":\"light\"}}}},                        {\"responsive\": true}                    ).then(function(){\n",
       "                            \n",
       "var gd = document.getElementById('beb111d4-b1c3-4330-aee7-3f460536216b');\n",
       "var x = new MutationObserver(function (mutations, observer) {{\n",
       "        var display = window.getComputedStyle(gd).display;\n",
       "        if (!display || display === 'none') {{\n",
       "            console.log([gd, 'removed!']);\n",
       "            Plotly.purge(gd);\n",
       "            observer.disconnect();\n",
       "        }}\n",
       "}});\n",
       "\n",
       "// Listen for the removal of the full notebook cells\n",
       "var notebookContainer = gd.closest('#notebook-container');\n",
       "if (notebookContainer) {{\n",
       "    x.observe(notebookContainer, {childList: true});\n",
       "}}\n",
       "\n",
       "// Listen for the clearing of the current output cell\n",
       "var outputEl = gd.closest('.output');\n",
       "if (outputEl) {{\n",
       "    x.observe(outputEl, {childList: true});\n",
       "}}\n",
       "\n",
       "                        })                };                });            </script>        </div>"
      ]
     },
     "metadata": {},
     "output_type": "display_data"
    },
    {
     "data": {
      "text/plain": [
       "{'kappa': 0.33093403829656054,\n",
       " 'accuracy': 0.3914638212737579,\n",
       " 'balanced_accuracy': 0.32177012028422647}"
      ]
     },
     "execution_count": 60,
     "metadata": {},
     "output_type": "execute_result"
    }
   ],
   "source": [
    "#MAtriz de confusion y Kappa dfe OVA\n",
    "y_pred = lgb_model.predict(X_test).argmax(axis=1)\n",
    "\n",
    "display(plot_confusion_matrix(y_test,y_pred))\n",
    "\n",
    "{'kappa':cohen_kappa_score(y_test,\n",
    "                y_pred,\n",
    "                weights = 'quadratic'),\n",
    " 'accuracy':accuracy_score(y_test,y_pred),\n",
    " 'balanced_accuracy':balanced_accuracy_score(y_test,y_pred)}\n",
    "\n",
    "\n"
   ]
  },
  {
   "cell_type": "markdown",
   "metadata": {},
   "source": [
    "## Optimizacion de hiperparametros modelo train/test"
   ]
  },
  {
   "cell_type": "code",
   "execution_count": 61,
   "metadata": {},
   "outputs": [],
   "source": [
    "\n",
    "#Funcion que vamos a optimizar. Optuna requiere que usemos el objeto trial para generar los parametros a optimizar\n",
    "def lgb_objective(trial):\n",
    "    #PArametros para LightGBM\n",
    "    lgb_params = {      \n",
    "                        #PArametros fijos\n",
    "                        'objective': 'multiclass',\n",
    "                        'verbosity':-1,\n",
    "                        'num_class': len(y_train.unique()),\n",
    "                        #Hiperparametros a optimizar utilizando suggest_float o suggest_int segun el tipo de dato\n",
    "                        #Se indica el nombre del parametro, valor minimo, valor maximo \n",
    "                        #en elgunos casos el parametro log=True para parametros que requieren buscar en esa escala\n",
    "                        'lambda_l1': trial.suggest_float('lambda_l1', 1e-8, 10.0, log=True),\n",
    "                        'lambda_l2': trial.suggest_float('lambda_l2', 1e-8, 10.0, log=True),\n",
    "                        'num_leaves': trial.suggest_int('num_leaves', 2, 256),\n",
    "                        'feature_fraction': trial.suggest_float('feature_fraction', 0.4, 1.0),\n",
    "                        'bagging_fraction': trial.suggest_float('bagging_fraction', 0.4, 1.0),\n",
    "                        'bagging_freq': trial.suggest_int('bagging_freq', 1, 7),\n",
    "                        'min_child_samples': trial.suggest_int('min_child_samples', 5, 100),\n",
    "                        } \n",
    "\n",
    "    #Genero objeto dataset de entrenamiento\n",
    "    lgb_train_dataset = lgb.Dataset(data=X_train,\n",
    "                                    label=y_train)\n",
    "\n",
    "    #ajuste de modelo\n",
    "    lgb_model = lgb.train(lgb_params,\n",
    "                        lgb_train_dataset)\n",
    "    \n",
    "    #Devuelvo el score en test\n",
    "    return(cohen_kappa_score(y_test,lgb_model.predict(X_test).argmax(axis=1),\n",
    "                             weights = 'quadratic'))"
   ]
  },
  {
   "cell_type": "code",
   "execution_count": 62,
   "metadata": {},
   "outputs": [
    {
     "name": "stderr",
     "output_type": "stream",
     "text": [
      "[I 2024-08-02 13:03:40,415] A new study created in RDB with name: 04 - LGB Multiclass\n",
      "[I 2024-08-02 13:03:41,465] Trial 0 finished with value: 0.3113055358919413 and parameters: {'lambda_l1': 1.287684229960314e-08, 'lambda_l2': 0.000917417532564477, 'num_leaves': 58, 'feature_fraction': 0.8835848000287382, 'bagging_fraction': 0.7008010358810595, 'bagging_freq': 5, 'min_child_samples': 33}. Best is trial 0 with value: 0.3113055358919413.\n",
      "[I 2024-08-02 13:03:42,931] Trial 1 finished with value: 0.3114799147322188 and parameters: {'lambda_l1': 0.06811504667267383, 'lambda_l2': 7.346778755943341, 'num_leaves': 187, 'feature_fraction': 0.4509187707209752, 'bagging_fraction': 0.7147516717447706, 'bagging_freq': 7, 'min_child_samples': 36}. Best is trial 1 with value: 0.3114799147322188.\n",
      "[I 2024-08-02 13:03:43,620] Trial 2 finished with value: 0.32090241045261503 and parameters: {'lambda_l1': 7.058495984329294, 'lambda_l2': 0.18585936114418689, 'num_leaves': 170, 'feature_fraction': 0.7072816151577108, 'bagging_fraction': 0.7884680535832709, 'bagging_freq': 2, 'min_child_samples': 43}. Best is trial 2 with value: 0.32090241045261503.\n",
      "[I 2024-08-02 13:03:45,462] Trial 3 finished with value: 0.3145738819595101 and parameters: {'lambda_l1': 3.881921509338279e-07, 'lambda_l2': 1.5323363440112994, 'num_leaves': 137, 'feature_fraction': 0.4490517732296661, 'bagging_fraction': 0.8483219043249465, 'bagging_freq': 5, 'min_child_samples': 35}. Best is trial 2 with value: 0.32090241045261503.\n",
      "[I 2024-08-02 13:03:47,675] Trial 4 finished with value: 0.3179934151209085 and parameters: {'lambda_l1': 4.035003115160984e-08, 'lambda_l2': 5.9804561597029824e-05, 'num_leaves': 196, 'feature_fraction': 0.4582623980991447, 'bagging_fraction': 0.7747742505946514, 'bagging_freq': 2, 'min_child_samples': 31}. Best is trial 2 with value: 0.32090241045261503.\n",
      "[I 2024-08-02 13:03:48,572] Trial 5 finished with value: 0.31930378387871294 and parameters: {'lambda_l1': 2.1376491857462634, 'lambda_l2': 2.2097560454752876, 'num_leaves': 240, 'feature_fraction': 0.45797335358500546, 'bagging_fraction': 0.9333213025105498, 'bagging_freq': 3, 'min_child_samples': 75}. Best is trial 2 with value: 0.32090241045261503.\n",
      "[I 2024-08-02 13:03:49,992] Trial 6 finished with value: 0.31581985709963833 and parameters: {'lambda_l1': 0.00887081043653694, 'lambda_l2': 3.898863833369294e-07, 'num_leaves': 92, 'feature_fraction': 0.6725036765848611, 'bagging_fraction': 0.9524573607491469, 'bagging_freq': 6, 'min_child_samples': 41}. Best is trial 2 with value: 0.32090241045261503.\n",
      "[I 2024-08-02 13:03:50,266] Trial 7 finished with value: 0.30631494345439236 and parameters: {'lambda_l1': 1.321116527308565, 'lambda_l2': 6.172854025855945e-05, 'num_leaves': 6, 'feature_fraction': 0.5900499856515783, 'bagging_fraction': 0.6331234725854914, 'bagging_freq': 6, 'min_child_samples': 64}. Best is trial 2 with value: 0.32090241045261503.\n",
      "[I 2024-08-02 13:03:51,283] Trial 8 finished with value: 0.32221542216698495 and parameters: {'lambda_l1': 0.108487706573258, 'lambda_l2': 4.992290154757242e-06, 'num_leaves': 63, 'feature_fraction': 0.7500199239056231, 'bagging_fraction': 0.7325421742373518, 'bagging_freq': 1, 'min_child_samples': 98}. Best is trial 8 with value: 0.32221542216698495.\n",
      "[I 2024-08-02 13:03:51,968] Trial 9 finished with value: 0.3286990954756125 and parameters: {'lambda_l1': 0.000271860456149141, 'lambda_l2': 6.856309904023626e-05, 'num_leaves': 35, 'feature_fraction': 0.5013227039092737, 'bagging_fraction': 0.8705876649734602, 'bagging_freq': 5, 'min_child_samples': 11}. Best is trial 9 with value: 0.3286990954756125.\n",
      "[I 2024-08-02 13:03:52,226] Trial 10 finished with value: 0.3051748087169458 and parameters: {'lambda_l1': 3.720075537369735e-05, 'lambda_l2': 3.454652839528155e-08, 'num_leaves': 4, 'feature_fraction': 0.5821658688804932, 'bagging_fraction': 0.4748101474151619, 'bagging_freq': 4, 'min_child_samples': 6}. Best is trial 9 with value: 0.3286990954756125.\n",
      "[I 2024-08-02 13:03:53,058] Trial 11 finished with value: 0.31015626554944464 and parameters: {'lambda_l1': 0.00013247676118496632, 'lambda_l2': 2.83449501276844e-06, 'num_leaves': 64, 'feature_fraction': 0.8206015332039331, 'bagging_fraction': 0.5550131420251793, 'bagging_freq': 1, 'min_child_samples': 97}. Best is trial 9 with value: 0.3286990954756125.\n",
      "[I 2024-08-02 13:03:53,844] Trial 12 finished with value: 0.31411239213775777 and parameters: {'lambda_l1': 0.005228288038440338, 'lambda_l2': 0.0032991067040495643, 'num_leaves': 48, 'feature_fraction': 0.7615046898058981, 'bagging_fraction': 0.8554805421622924, 'bagging_freq': 4, 'min_child_samples': 6}. Best is trial 9 with value: 0.3286990954756125.\n",
      "[I 2024-08-02 13:03:54,843] Trial 13 finished with value: 0.3087774441474014 and parameters: {'lambda_l1': 5.796367882825675e-06, 'lambda_l2': 3.7759818917143867e-06, 'num_leaves': 110, 'feature_fraction': 0.9998393640758837, 'bagging_fraction': 0.6414224125603051, 'bagging_freq': 1, 'min_child_samples': 98}. Best is trial 9 with value: 0.3286990954756125.\n",
      "[I 2024-08-02 13:03:55,562] Trial 14 finished with value: 0.30308935304269435 and parameters: {'lambda_l1': 0.0020398117553381808, 'lambda_l2': 0.02006593118603299, 'num_leaves': 28, 'feature_fraction': 0.5841435760522109, 'bagging_fraction': 0.9975189478535195, 'bagging_freq': 3, 'min_child_samples': 80}. Best is trial 9 with value: 0.3286990954756125.\n",
      "[I 2024-08-02 13:03:56,866] Trial 15 finished with value: 0.3104574743189753 and parameters: {'lambda_l1': 0.15646784335905595, 'lambda_l2': 2.1720838087928113e-05, 'num_leaves': 87, 'feature_fraction': 0.860831546252752, 'bagging_fraction': 0.8691332265173581, 'bagging_freq': 5, 'min_child_samples': 57}. Best is trial 9 with value: 0.3286990954756125.\n",
      "[I 2024-08-02 13:03:57,611] Trial 16 finished with value: 0.33336958564014185 and parameters: {'lambda_l1': 8.44530099857105e-06, 'lambda_l2': 4.8230304778397696e-08, 'num_leaves': 36, 'feature_fraction': 0.648341494867756, 'bagging_fraction': 0.7475464759878697, 'bagging_freq': 3, 'min_child_samples': 18}. Best is trial 16 with value: 0.33336958564014185.\n",
      "[I 2024-08-02 13:03:59,385] Trial 17 finished with value: 0.2993901205071623 and parameters: {'lambda_l1': 3.9548041672049525e-06, 'lambda_l2': 1.1598130830710363e-08, 'num_leaves': 130, 'feature_fraction': 0.5329327504586574, 'bagging_fraction': 0.6200662853478647, 'bagging_freq': 3, 'min_child_samples': 19}. Best is trial 16 with value: 0.33336958564014185.\n",
      "[I 2024-08-02 13:03:59,984] Trial 18 finished with value: 0.2997744528269768 and parameters: {'lambda_l1': 0.00023707177628626232, 'lambda_l2': 1.8070088077194068e-07, 'num_leaves': 27, 'feature_fraction': 0.642771434071014, 'bagging_fraction': 0.41740345337182444, 'bagging_freq': 4, 'min_child_samples': 18}. Best is trial 16 with value: 0.33336958564014185.\n",
      "[I 2024-08-02 13:04:00,721] Trial 19 finished with value: 0.30967130145007815 and parameters: {'lambda_l1': 9.977968073278058e-06, 'lambda_l2': 4.873974402192572e-07, 'num_leaves': 33, 'feature_fraction': 0.539218010552078, 'bagging_fraction': 0.8293781490584856, 'bagging_freq': 7, 'min_child_samples': 20}. Best is trial 16 with value: 0.33336958564014185.\n",
      "[I 2024-08-02 13:04:02,032] Trial 20 finished with value: 0.3093746843237435 and parameters: {'lambda_l1': 4.7229332842772036e-07, 'lambda_l2': 0.000338296578520583, 'num_leaves': 89, 'feature_fraction': 0.40650203119796213, 'bagging_fraction': 0.7761551107371762, 'bagging_freq': 6, 'min_child_samples': 20}. Best is trial 16 with value: 0.33336958564014185.\n",
      "[I 2024-08-02 13:04:03,129] Trial 21 finished with value: 0.31438776895235776 and parameters: {'lambda_l1': 0.0007756471279977768, 'lambda_l2': 7.996826618909582e-06, 'num_leaves': 67, 'feature_fraction': 0.7357567506767293, 'bagging_fraction': 0.733926815033815, 'bagging_freq': 2, 'min_child_samples': 86}. Best is trial 16 with value: 0.33336958564014185.\n",
      "[I 2024-08-02 13:04:03,950] Trial 22 finished with value: 0.3068084026746065 and parameters: {'lambda_l1': 0.05938913860096846, 'lambda_l2': 1.0376282152599907e-07, 'num_leaves': 43, 'feature_fraction': 0.7861975761796123, 'bagging_fraction': 0.907805719018651, 'bagging_freq': 1, 'min_child_samples': 65}. Best is trial 16 with value: 0.33336958564014185.\n",
      "[I 2024-08-02 13:04:04,663] Trial 23 finished with value: 0.32715548901770597 and parameters: {'lambda_l1': 0.0001449174991904945, 'lambda_l2': 1.1607704908954822e-06, 'num_leaves': 15, 'feature_fraction': 0.6446996896861727, 'bagging_fraction': 0.673549801929721, 'bagging_freq': 2, 'min_child_samples': 50}. Best is trial 16 with value: 0.33336958564014185.\n",
      "[I 2024-08-02 13:04:04,930] Trial 24 finished with value: 0.31322586316554224 and parameters: {'lambda_l1': 5.42317350928384e-05, 'lambda_l2': 1.0566634074399135e-06, 'num_leaves': 4, 'feature_fraction': 0.626848499352012, 'bagging_fraction': 0.588496577899374, 'bagging_freq': 3, 'min_child_samples': 10}. Best is trial 16 with value: 0.33336958564014185.\n",
      "[I 2024-08-02 13:04:05,480] Trial 25 finished with value: 0.3136636851350555 and parameters: {'lambda_l1': 1.1827637731010293e-06, 'lambda_l2': 4.7804552618286035e-08, 'num_leaves': 19, 'feature_fraction': 0.5149922625754589, 'bagging_fraction': 0.6661061665505155, 'bagging_freq': 2, 'min_child_samples': 50}. Best is trial 16 with value: 0.33336958564014185.\n",
      "[I 2024-08-02 13:04:07,008] Trial 26 finished with value: 0.3109507352757389 and parameters: {'lambda_l1': 2.8725103370628677e-05, 'lambda_l2': 6.485490994094859e-05, 'num_leaves': 107, 'feature_fraction': 0.6962729045309929, 'bagging_fraction': 0.5529203448570471, 'bagging_freq': 4, 'min_child_samples': 27}. Best is trial 16 with value: 0.33336958564014185.\n",
      "[I 2024-08-02 13:04:09,184] Trial 27 finished with value: 0.32217378594588464 and parameters: {'lambda_l1': 0.0007629875822356546, 'lambda_l2': 9.413391631890163e-07, 'num_leaves': 155, 'feature_fraction': 0.6423117328403739, 'bagging_fraction': 0.8104981587385556, 'bagging_freq': 3, 'min_child_samples': 14}. Best is trial 16 with value: 0.33336958564014185.\n",
      "[I 2024-08-02 13:04:10,699] Trial 28 finished with value: 0.3176095265275919 and parameters: {'lambda_l1': 0.012346767862978603, 'lambda_l2': 0.003993705277089436, 'num_leaves': 76, 'feature_fraction': 0.4970481457400051, 'bagging_fraction': 0.8874774255809524, 'bagging_freq': 5, 'min_child_samples': 27}. Best is trial 16 with value: 0.33336958564014185.\n",
      "[I 2024-08-02 13:04:11,718] Trial 29 finished with value: 0.31630348379104634 and parameters: {'lambda_l1': 0.0001224174698149078, 'lambda_l2': 1.8030219677504432e-08, 'num_leaves': 47, 'feature_fraction': 0.9595534686493927, 'bagging_fraction': 0.6829349964495078, 'bagging_freq': 4, 'min_child_samples': 47}. Best is trial 16 with value: 0.33336958564014185.\n",
      "[I 2024-08-02 13:04:12,282] Trial 30 finished with value: 0.3210115550731232 and parameters: {'lambda_l1': 1.3304243906145018e-06, 'lambda_l2': 0.0006454204403385306, 'num_leaves': 22, 'feature_fraction': 0.6132967173019889, 'bagging_fraction': 0.7512565284697034, 'bagging_freq': 2, 'min_child_samples': 56}. Best is trial 16 with value: 0.33336958564014185.\n",
      "[I 2024-08-02 13:04:13,357] Trial 31 finished with value: 0.3138215105079747 and parameters: {'lambda_l1': 0.0007180214513523789, 'lambda_l2': 9.346311992881818e-06, 'num_leaves': 60, 'feature_fraction': 0.7914095210120898, 'bagging_fraction': 0.702810498761879, 'bagging_freq': 2, 'min_child_samples': 64}. Best is trial 16 with value: 0.33336958564014185.\n",
      "[I 2024-08-02 13:04:15,702] Trial 32 finished with value: 0.31989371875518 and parameters: {'lambda_l1': 1.1920112208939615e-07, 'lambda_l2': 1.7993340889894788e-06, 'num_leaves': 41, 'feature_fraction': 0.7237828100071264, 'bagging_fraction': 0.741293937876339, 'bagging_freq': 1, 'min_child_samples': 92}. Best is trial 16 with value: 0.33336958564014185.\n",
      "[I 2024-08-02 13:04:16,783] Trial 33 finished with value: 0.2997677773074108 and parameters: {'lambda_l1': 0.025571020243449087, 'lambda_l2': 1.8480342136468073e-07, 'num_leaves': 54, 'feature_fraction': 0.6909721970910033, 'bagging_fraction': 0.7064187446156827, 'bagging_freq': 1, 'min_child_samples': 71}. Best is trial 16 with value: 0.33336958564014185.\n",
      "[I 2024-08-02 13:04:17,210] Trial 34 finished with value: 0.3326189209601629 and parameters: {'lambda_l1': 1.4734500206521053e-05, 'lambda_l2': 0.00017648992462814293, 'num_leaves': 16, 'feature_fraction': 0.898013758110769, 'bagging_fraction': 0.8222207689041472, 'bagging_freq': 2, 'min_child_samples': 40}. Best is trial 16 with value: 0.33336958564014185.\n",
      "[I 2024-08-02 13:04:17,658] Trial 35 finished with value: 0.3159902489823534 and parameters: {'lambda_l1': 1.3398119447236264e-05, 'lambda_l2': 0.00013064760453803905, 'num_leaves': 15, 'feature_fraction': 0.8787865508060285, 'bagging_fraction': 0.7937713175372014, 'bagging_freq': 2, 'min_child_samples': 38}. Best is trial 16 with value: 0.33336958564014185.\n",
      "[I 2024-08-02 13:04:20,302] Trial 36 finished with value: 0.3029958497823666 and parameters: {'lambda_l1': 1.0833127999830351e-08, 'lambda_l2': 0.0026619771103641413, 'num_leaves': 223, 'feature_fraction': 0.8283818521324505, 'bagging_fraction': 0.8231175638991417, 'bagging_freq': 3, 'min_child_samples': 30}. Best is trial 16 with value: 0.33336958564014185.\n",
      "[I 2024-08-02 13:04:21,051] Trial 37 finished with value: 0.31519186087935047 and parameters: {'lambda_l1': 2.5089284513892267e-06, 'lambda_l2': 2.9020120101238243e-05, 'num_leaves': 35, 'feature_fraction': 0.9165802459685628, 'bagging_fraction': 0.9182413779227071, 'bagging_freq': 2, 'min_child_samples': 45}. Best is trial 16 with value: 0.33336958564014185.\n",
      "[I 2024-08-02 13:04:21,490] Trial 38 finished with value: 0.3186764677503069 and parameters: {'lambda_l1': 6.593247841248552e-05, 'lambda_l2': 0.03283305536153872, 'num_leaves': 15, 'feature_fraction': 0.40961909131592494, 'bagging_fraction': 0.9503932794859714, 'bagging_freq': 5, 'min_child_samples': 35}. Best is trial 16 with value: 0.33336958564014185.\n",
      "[I 2024-08-02 13:04:23,115] Trial 39 finished with value: 0.3121787925704378 and parameters: {'lambda_l1': 1.5088430952060147e-05, 'lambda_l2': 0.0002479475542570331, 'num_leaves': 110, 'feature_fraction': 0.5537816332111479, 'bagging_fraction': 0.7621325471790468, 'bagging_freq': 6, 'min_child_samples': 25}. Best is trial 16 with value: 0.33336958564014185.\n",
      "[I 2024-08-02 13:04:25,154] Trial 40 finished with value: 0.3086621992292776 and parameters: {'lambda_l1': 7.942294118203203e-08, 'lambda_l2': 0.18470417855114057, 'num_leaves': 149, 'feature_fraction': 0.4802190961784034, 'bagging_fraction': 0.9966400153494759, 'bagging_freq': 3, 'min_child_samples': 40}. Best is trial 16 with value: 0.33336958564014185.\n",
      "[I 2024-08-02 13:04:26,429] Trial 41 finished with value: 0.31246059405552395 and parameters: {'lambda_l1': 0.0003312546304349493, 'lambda_l2': 8.426817911189212e-06, 'num_leaves': 75, 'feature_fraction': 0.6564672571475173, 'bagging_fraction': 0.7268749240664583, 'bagging_freq': 1, 'min_child_samples': 53}. Best is trial 16 with value: 0.33336958564014185.\n",
      "[I 2024-08-02 13:04:26,751] Trial 42 finished with value: 0.3101737235583757 and parameters: {'lambda_l1': 0.3543133916722933, 'lambda_l2': 2.4997970108051366e-05, 'num_leaves': 5, 'feature_fraction': 0.7601567001764449, 'bagging_fraction': 0.7963386664083283, 'bagging_freq': 2, 'min_child_samples': 10}. Best is trial 16 with value: 0.33336958564014185.\n",
      "[I 2024-08-02 13:04:27,477] Trial 43 finished with value: 0.3120259957574182 and parameters: {'lambda_l1': 0.0021549488002881273, 'lambda_l2': 4.701055542985618e-07, 'num_leaves': 38, 'feature_fraction': 0.9179779395723231, 'bagging_fraction': 0.6695124245086972, 'bagging_freq': 1, 'min_child_samples': 60}. Best is trial 16 with value: 0.33336958564014185.\n",
      "[I 2024-08-02 13:04:27,984] Trial 44 finished with value: 0.31579722765129525 and parameters: {'lambda_l1': 2.4775619872894234e-05, 'lambda_l2': 4.84806666010226e-06, 'num_leaves': 17, 'feature_fraction': 0.6740512189920824, 'bagging_fraction': 0.88318535854316, 'bagging_freq': 2, 'min_child_samples': 71}. Best is trial 16 with value: 0.33336958564014185.\n",
      "[I 2024-08-02 13:04:28,955] Trial 45 finished with value: 0.3209860714811803 and parameters: {'lambda_l1': 0.002977470233416108, 'lambda_l2': 0.0014061578623828636, 'num_leaves': 57, 'feature_fraction': 0.5610732161671534, 'bagging_fraction': 0.826715747269053, 'bagging_freq': 3, 'min_child_samples': 13}. Best is trial 16 with value: 0.33336958564014185.\n",
      "[I 2024-08-02 13:04:30,732] Trial 46 finished with value: 0.29256811543190275 and parameters: {'lambda_l1': 0.0001498614826866471, 'lambda_l2': 0.00010495056613843874, 'num_leaves': 256, 'feature_fraction': 0.6158434389431359, 'bagging_fraction': 0.759173025345807, 'bagging_freq': 2, 'min_child_samples': 49}. Best is trial 16 with value: 0.33336958564014185.\n",
      "[I 2024-08-02 13:04:31,908] Trial 47 finished with value: 0.3134510388994288 and parameters: {'lambda_l1': 2.0886716209331078, 'lambda_l2': 1.8000070748262162e-05, 'num_leaves': 73, 'feature_fraction': 0.8439974638327474, 'bagging_fraction': 0.8492832490439369, 'bagging_freq': 1, 'min_child_samples': 43}. Best is trial 16 with value: 0.33336958564014185.\n",
      "[I 2024-08-02 13:04:32,487] Trial 48 finished with value: 0.32979690932507855 and parameters: {'lambda_l1': 6.573900874068132e-06, 'lambda_l2': 6.49730944487004e-08, 'num_leaves': 29, 'feature_fraction': 0.7180612141524771, 'bagging_fraction': 0.6060398225763968, 'bagging_freq': 5, 'min_child_samples': 33}. Best is trial 16 with value: 0.33336958564014185.\n",
      "[I 2024-08-02 13:04:33,965] Trial 49 finished with value: 0.31153140360939446 and parameters: {'lambda_l1': 6.57153002286739e-06, 'lambda_l2': 5.198168218384046e-08, 'num_leaves': 187, 'feature_fraction': 0.44699355995351375, 'bagging_fraction': 0.524983817737913, 'bagging_freq': 5, 'min_child_samples': 32}. Best is trial 16 with value: 0.33336958564014185.\n",
      "[I 2024-08-02 13:04:34,659] Trial 50 finished with value: 0.308979285861279 and parameters: {'lambda_l1': 2.436642625669074e-06, 'lambda_l2': 2.3603137232644167e-08, 'num_leaves': 28, 'feature_fraction': 0.5990492387254044, 'bagging_fraction': 0.6145518403348743, 'bagging_freq': 6, 'min_child_samples': 38}. Best is trial 16 with value: 0.33336958564014185.\n",
      "[I 2024-08-02 13:04:35,074] Trial 51 finished with value: 0.3051593464883682 and parameters: {'lambda_l1': 4.642385850483606e-07, 'lambda_l2': 2.0125531686571027e-06, 'num_leaves': 13, 'feature_fraction': 0.7297087935813397, 'bagging_fraction': 0.6452415069714162, 'bagging_freq': 4, 'min_child_samples': 24}. Best is trial 16 with value: 0.33336958564014185.\n",
      "[I 2024-08-02 13:04:35,927] Trial 52 finished with value: 0.3187941394765236 and parameters: {'lambda_l1': 9.008917900970782e-05, 'lambda_l2': 1.3275703875195398e-07, 'num_leaves': 46, 'feature_fraction': 0.7600261691601083, 'bagging_fraction': 0.5742845120033435, 'bagging_freq': 5, 'min_child_samples': 15}. Best is trial 16 with value: 0.33336958564014185.\n",
      "[I 2024-08-02 13:04:36,617] Trial 53 finished with value: 0.3128502986342808 and parameters: {'lambda_l1': 0.0002765642817936994, 'lambda_l2': 3.449566808947673e-07, 'num_leaves': 32, 'feature_fraction': 0.7936195139862572, 'bagging_fraction': 0.6906697441507497, 'bagging_freq': 6, 'min_child_samples': 5}. Best is trial 16 with value: 0.33336958564014185.\n",
      "[I 2024-08-02 13:04:37,585] Trial 54 finished with value: 0.31831346738778465 and parameters: {'lambda_l1': 2.757884136380696e-05, 'lambda_l2': 7.075556581519246e-08, 'num_leaves': 53, 'feature_fraction': 0.7108027896872791, 'bagging_fraction': 0.6570333884447532, 'bagging_freq': 5, 'min_child_samples': 23}. Best is trial 16 with value: 0.33336958564014185.\n",
      "[I 2024-08-02 13:04:39,028] Trial 55 finished with value: 0.3211665443948172 and parameters: {'lambda_l1': 6.398750017506048e-06, 'lambda_l2': 1.3034312390142834e-08, 'num_leaves': 97, 'feature_fraction': 0.6678272567789126, 'bagging_fraction': 0.6148625244607758, 'bagging_freq': 7, 'min_child_samples': 30}. Best is trial 16 with value: 0.33336958564014185.\n",
      "[I 2024-08-02 13:04:39,674] Trial 56 finished with value: 0.3238913245993733 and parameters: {'lambda_l1': 1.0994961965855943e-06, 'lambda_l2': 8.198273654969151e-07, 'num_leaves': 26, 'feature_fraction': 0.995797267699374, 'bagging_fraction': 0.7839663900822573, 'bagging_freq': 4, 'min_child_samples': 10}. Best is trial 16 with value: 0.33336958564014185.\n",
      "[I 2024-08-02 13:04:40,248] Trial 57 finished with value: 0.3232581322617525 and parameters: {'lambda_l1': 2.405153784055366e-07, 'lambda_l2': 6.902350222573452e-07, 'num_leaves': 24, 'feature_fraction': 0.9939963699601448, 'bagging_fraction': 0.7766845204233096, 'bagging_freq': 4, 'min_child_samples': 10}. Best is trial 16 with value: 0.33336958564014185.\n",
      "[I 2024-08-02 13:04:40,533] Trial 58 finished with value: 0.3174527594401556 and parameters: {'lambda_l1': 9.795825760210215e-07, 'lambda_l2': 2.6575110497182715e-07, 'num_leaves': 4, 'feature_fraction': 0.9583271958028313, 'bagging_fraction': 0.8593912768669378, 'bagging_freq': 4, 'min_child_samples': 8}. Best is trial 16 with value: 0.33336958564014185.\n",
      "[I 2024-08-02 13:04:40,879] Trial 59 finished with value: 0.316189748308506 and parameters: {'lambda_l1': 4.008339156027354e-06, 'lambda_l2': 3.213720181013366e-08, 'num_leaves': 10, 'feature_fraction': 0.9235739663840372, 'bagging_fraction': 0.505046233025834, 'bagging_freq': 3, 'min_child_samples': 15}. Best is trial 16 with value: 0.33336958564014185.\n",
      "[I 2024-08-02 13:04:41,646] Trial 60 finished with value: 0.3230455115354739 and parameters: {'lambda_l1': 5.3932736941436434e-05, 'lambda_l2': 9.532741338766864e-08, 'num_leaves': 35, 'feature_fraction': 0.9724460881313592, 'bagging_fraction': 0.7235503023993195, 'bagging_freq': 5, 'min_child_samples': 17}. Best is trial 16 with value: 0.33336958564014185.\n",
      "[I 2024-08-02 13:04:42,200] Trial 61 finished with value: 0.32325461611612094 and parameters: {'lambda_l1': 6.198644985336289e-08, 'lambda_l2': 8.030234063186194e-07, 'num_leaves': 24, 'feature_fraction': 0.976958545432352, 'bagging_fraction': 0.7832965582211845, 'bagging_freq': 4, 'min_child_samples': 21}. Best is trial 16 with value: 0.33336958564014185.\n",
      "[I 2024-08-02 13:04:42,781] Trial 62 finished with value: 0.3218353776554469 and parameters: {'lambda_l1': 6.822067212651941e-07, 'lambda_l2': 9.514184216029352e-07, 'num_leaves': 24, 'feature_fraction': 0.943137187919657, 'bagging_fraction': 0.8372564626588311, 'bagging_freq': 4, 'min_child_samples': 11}. Best is trial 16 with value: 0.33336958564014185.\n",
      "[I 2024-08-02 13:04:43,634] Trial 63 finished with value: 0.33254009962158226 and parameters: {'lambda_l1': 1.997392749053732e-06, 'lambda_l2': 3.0953075962343616e-06, 'num_leaves': 47, 'feature_fraction': 0.982702601389857, 'bagging_fraction': 0.809507591319623, 'bagging_freq': 4, 'min_child_samples': 8}. Best is trial 16 with value: 0.33336958564014185.\n",
      "[I 2024-08-02 13:04:44,470] Trial 64 finished with value: 0.3415763622864584 and parameters: {'lambda_l1': 2.1410262924502463e-07, 'lambda_l2': 2.663799341229046e-06, 'num_leaves': 45, 'feature_fraction': 0.9065919030733158, 'bagging_fraction': 0.8013681974342899, 'bagging_freq': 3, 'min_child_samples': 5}. Best is trial 64 with value: 0.3415763622864584.\n",
      "[I 2024-08-02 13:04:45,602] Trial 65 finished with value: 0.3279710816221878 and parameters: {'lambda_l1': 2.2940849502925347e-08, 'lambda_l2': 2.4457159866541787e-06, 'num_leaves': 66, 'feature_fraction': 0.8900685165593945, 'bagging_fraction': 0.8808273410870624, 'bagging_freq': 3, 'min_child_samples': 7}. Best is trial 64 with value: 0.3415763622864584.\n",
      "[I 2024-08-02 13:04:46,692] Trial 66 finished with value: 0.32463210491518035 and parameters: {'lambda_l1': 3.2513821625124045e-07, 'lambda_l2': 1.2982693041332842e-05, 'num_leaves': 63, 'feature_fraction': 0.8965416688776263, 'bagging_fraction': 0.8095487795521016, 'bagging_freq': 3, 'min_child_samples': 5}. Best is trial 64 with value: 0.3415763622864584.\n",
      "[I 2024-08-02 13:04:47,608] Trial 67 finished with value: 0.33007223034152144 and parameters: {'lambda_l1': 2.5437817508871465e-08, 'lambda_l2': 3.946555998688941e-05, 'num_leaves': 51, 'feature_fraction': 0.8578230526284338, 'bagging_fraction': 0.887668083441672, 'bagging_freq': 3, 'min_child_samples': 7}. Best is trial 64 with value: 0.3415763622864584.\n",
      "[I 2024-08-02 13:04:48,873] Trial 68 finished with value: 0.3098719604123701 and parameters: {'lambda_l1': 3.289067966029778e-08, 'lambda_l2': 5.589185035573528e-05, 'num_leaves': 82, 'feature_fraction': 0.8705893488088856, 'bagging_fraction': 0.8652124553370067, 'bagging_freq': 3, 'min_child_samples': 17}. Best is trial 64 with value: 0.3415763622864584.\n",
      "[I 2024-08-02 13:04:49,820] Trial 69 finished with value: 0.3232001221979832 and parameters: {'lambda_l1': 1.0624658521920326e-07, 'lambda_l2': 0.0003740869254981812, 'num_leaves': 51, 'feature_fraction': 0.8546081649199196, 'bagging_fraction': 0.9377283620557583, 'bagging_freq': 5, 'min_child_samples': 14}. Best is trial 64 with value: 0.3415763622864584.\n",
      "[I 2024-08-02 13:04:50,671] Trial 70 finished with value: 0.3195199985315518 and parameters: {'lambda_l1': 2.2974899159121597e-07, 'lambda_l2': 0.00010400565697012502, 'num_leaves': 44, 'feature_fraction': 0.8117840548129727, 'bagging_fraction': 0.9004672527071079, 'bagging_freq': 4, 'min_child_samples': 8}. Best is trial 64 with value: 0.3415763622864584.\n",
      "[I 2024-08-02 13:04:51,775] Trial 71 finished with value: 0.31926698046424706 and parameters: {'lambda_l1': 2.947357534745366e-08, 'lambda_l2': 4.362238451390437e-05, 'num_leaves': 65, 'feature_fraction': 0.8947505147179533, 'bagging_fraction': 0.8780872008247287, 'bagging_freq': 3, 'min_child_samples': 7}. Best is trial 64 with value: 0.3415763622864584.\n",
      "[I 2024-08-02 13:04:52,487] Trial 72 finished with value: 0.3276888321011302 and parameters: {'lambda_l1': 1.883271446597278e-08, 'lambda_l2': 3.051060327097287e-06, 'num_leaves': 38, 'feature_fraction': 0.9332461060856329, 'bagging_fraction': 0.8106132674052245, 'bagging_freq': 3, 'min_child_samples': 13}. Best is trial 64 with value: 0.3415763622864584.\n",
      "[I 2024-08-02 13:04:53,449] Trial 73 finished with value: 0.3230872374482159 and parameters: {'lambda_l1': 1.6174511722964124e-07, 'lambda_l2': 9.806192559520904, 'num_leaves': 56, 'feature_fraction': 0.9005652627146248, 'bagging_fraction': 0.8437791626668798, 'bagging_freq': 3, 'min_child_samples': 21}. Best is trial 64 with value: 0.3415763622864584.\n",
      "[I 2024-08-02 13:04:54,251] Trial 74 finished with value: 0.3168142863719712 and parameters: {'lambda_l1': 2.24167998752032e-06, 'lambda_l2': 4.739295325150435e-06, 'num_leaves': 47, 'feature_fraction': 0.8771876841368365, 'bagging_fraction': 0.9138844988176952, 'bagging_freq': 3, 'min_child_samples': 5}. Best is trial 64 with value: 0.3415763622864584.\n",
      "[I 2024-08-02 13:04:55,973] Trial 75 finished with value: 0.30798433447007123 and parameters: {'lambda_l1': 1.1232571132768524e-05, 'lambda_l2': 1.854922295373822e-06, 'num_leaves': 123, 'feature_fraction': 0.83843837410236, 'bagging_fraction': 0.9643056234493508, 'bagging_freq': 3, 'min_child_samples': 8}. Best is trial 64 with value: 0.3415763622864584.\n",
      "[I 2024-08-02 13:04:57,058] Trial 76 finished with value: 0.31881941565742744 and parameters: {'lambda_l1': 4.0285986946556595e-08, 'lambda_l2': 0.00016609463376663242, 'num_leaves': 69, 'feature_fraction': 0.8127736853212706, 'bagging_fraction': 0.8993853317301141, 'bagging_freq': 4, 'min_child_samples': 18}. Best is trial 64 with value: 0.3415763622864584.\n",
      "[I 2024-08-02 13:04:58,240] Trial 77 finished with value: 0.31700666039543934 and parameters: {'lambda_l1': 6.174644771487571e-08, 'lambda_l2': 0.0008757358617941066, 'num_leaves': 80, 'feature_fraction': 0.9508779744900492, 'bagging_fraction': 0.8205353418777163, 'bagging_freq': 5, 'min_child_samples': 12}. Best is trial 64 with value: 0.3415763622864584.\n",
      "[I 2024-08-02 13:04:58,947] Trial 78 finished with value: 0.3143988045279763 and parameters: {'lambda_l1': 2.4383660492129616e-08, 'lambda_l2': 0.0004787780889108443, 'num_leaves': 41, 'feature_fraction': 0.9064622064487493, 'bagging_fraction': 0.44243468880467973, 'bagging_freq': 3, 'min_child_samples': 16}. Best is trial 64 with value: 0.3415763622864584.\n",
      "[I 2024-08-02 13:05:00,365] Trial 79 finished with value: 0.3241866910515391 and parameters: {'lambda_l1': 1.0513392913284513e-08, 'lambda_l2': 3.703187657926144e-05, 'num_leaves': 100, 'feature_fraction': 0.8620000802975469, 'bagging_fraction': 0.8788297099978012, 'bagging_freq': 2, 'min_child_samples': 8}. Best is trial 64 with value: 0.3415763622864584.\n",
      "[I 2024-08-02 13:05:01,016] Trial 80 finished with value: 0.32211196898742445 and parameters: {'lambda_l1': 1.6030466208782549e-06, 'lambda_l2': 8.11673455049115e-06, 'num_leaves': 31, 'feature_fraction': 0.9374550321707665, 'bagging_fraction': 0.7423061513194388, 'bagging_freq': 6, 'min_child_samples': 27}. Best is trial 64 with value: 0.3415763622864584.\n",
      "[I 2024-08-02 13:05:01,716] Trial 81 finished with value: 0.31748926935570254 and parameters: {'lambda_l1': 2.210737677998924e-08, 'lambda_l2': 2.678803073185166e-06, 'num_leaves': 38, 'feature_fraction': 0.8878238895066208, 'bagging_fraction': 0.8091515887392637, 'bagging_freq': 3, 'min_child_samples': 12}. Best is trial 64 with value: 0.3415763622864584.\n",
      "[I 2024-08-02 13:05:02,526] Trial 82 finished with value: 0.33606201432848193 and parameters: {'lambda_l1': 1.9421222667436677e-08, 'lambda_l2': 1.6501729711720692e-05, 'num_leaves': 50, 'feature_fraction': 0.9392969234937444, 'bagging_fraction': 0.8034068976590116, 'bagging_freq': 3, 'min_child_samples': 13}. Best is trial 64 with value: 0.3415763622864584.\n",
      "[I 2024-08-02 13:05:03,515] Trial 83 finished with value: 0.31474936613417337 and parameters: {'lambda_l1': 1.5918819869602124e-08, 'lambda_l2': 1.5665299478248075e-05, 'num_leaves': 60, 'feature_fraction': 0.968148531104438, 'bagging_fraction': 0.7656316857967298, 'bagging_freq': 3, 'min_child_samples': 7}. Best is trial 64 with value: 0.3415763622864584.\n",
      "[I 2024-08-02 13:05:04,334] Trial 84 finished with value: 0.3339759741922369 and parameters: {'lambda_l1': 1.8888440861271662e-05, 'lambda_l2': 6.28474753663854e-05, 'num_leaves': 49, 'feature_fraction': 0.926865448192373, 'bagging_fraction': 0.8391445842592438, 'bagging_freq': 4, 'min_child_samples': 10}. Best is trial 64 with value: 0.3415763622864584.\n",
      "[I 2024-08-02 13:05:05,207] Trial 85 finished with value: 0.3172791176939973 and parameters: {'lambda_l1': 1.5497596403135832e-05, 'lambda_l2': 0.00018509664659213155, 'num_leaves': 50, 'feature_fraction': 0.9257646884288796, 'bagging_fraction': 0.8609537367704074, 'bagging_freq': 4, 'min_child_samples': 20}. Best is trial 64 with value: 0.3415763622864584.\n",
      "[I 2024-08-02 13:05:05,825] Trial 86 finished with value: 0.31862696260756573 and parameters: {'lambda_l1': 4.530410800416676e-06, 'lambda_l2': 7.460737828773421e-05, 'num_leaves': 31, 'feature_fraction': 0.9129013628071211, 'bagging_fraction': 0.8015185013530924, 'bagging_freq': 4, 'min_child_samples': 10}. Best is trial 64 with value: 0.3415763622864584.\n",
      "[I 2024-08-02 13:05:06,270] Trial 87 finished with value: 0.3201599927742914 and parameters: {'lambda_l1': 1.7334484575365955e-05, 'lambda_l2': 2.6644498239586e-05, 'num_leaves': 18, 'feature_fraction': 0.9848759467233734, 'bagging_fraction': 0.8346189957113632, 'bagging_freq': 5, 'min_child_samples': 22}. Best is trial 64 with value: 0.3415763622864584.\n",
      "[I 2024-08-02 13:05:06,638] Trial 88 finished with value: 0.3302177726802622 and parameters: {'lambda_l1': 7.813443507091957e-06, 'lambda_l2': 9.573573565963047e-05, 'num_leaves': 11, 'feature_fraction': 0.9593197125339308, 'bagging_fraction': 0.8521576191115227, 'bagging_freq': 4, 'min_child_samples': 34}. Best is trial 64 with value: 0.3415763622864584.\n",
      "[I 2024-08-02 13:05:07,018] Trial 89 finished with value: 0.3179997289498404 and parameters: {'lambda_l1': 3.9111411577520226e-05, 'lambda_l2': 0.0014056109394244897, 'num_leaves': 7, 'feature_fraction': 0.9489362023605539, 'bagging_fraction': 0.8452391004272004, 'bagging_freq': 4, 'min_child_samples': 35}. Best is trial 64 with value: 0.3415763622864584.\n",
      "[I 2024-08-02 13:05:07,483] Trial 90 finished with value: 0.33131728908504976 and parameters: {'lambda_l1': 8.127597064268833e-06, 'lambda_l2': 1.2391173728566925e-05, 'num_leaves': 20, 'feature_fraction': 0.9583767751150899, 'bagging_fraction': 0.7931274488156971, 'bagging_freq': 4, 'min_child_samples': 28}. Best is trial 64 with value: 0.3415763622864584.\n",
      "[I 2024-08-02 13:05:07,861] Trial 91 finished with value: 0.3194090458793599 and parameters: {'lambda_l1': 1.02126004859037e-05, 'lambda_l2': 0.0002464868267794417, 'num_leaves': 11, 'feature_fraction': 0.9807366903542409, 'bagging_fraction': 0.7484898793134817, 'bagging_freq': 4, 'min_child_samples': 28}. Best is trial 64 with value: 0.3415763622864584.\n",
      "[I 2024-08-02 13:05:08,099] Trial 92 finished with value: 0.269951409164329 and parameters: {'lambda_l1': 8.3256354524148e-06, 'lambda_l2': 8.357473980143677e-05, 'num_leaves': 2, 'feature_fraction': 0.9625412356701448, 'bagging_fraction': 0.7917217297577985, 'bagging_freq': 4, 'min_child_samples': 41}. Best is trial 64 with value: 0.3415763622864584.\n",
      "[I 2024-08-02 13:05:08,608] Trial 93 finished with value: 0.33116770481308433 and parameters: {'lambda_l1': 3.0364483885501297e-06, 'lambda_l2': 1.3439765275531124e-05, 'num_leaves': 21, 'feature_fraction': 0.9352329710541253, 'bagging_fraction': 0.7730483469497856, 'bagging_freq': 4, 'min_child_samples': 34}. Best is trial 64 with value: 0.3415763622864584.\n",
      "[I 2024-08-02 13:05:09,149] Trial 94 finished with value: 0.3254083835448084 and parameters: {'lambda_l1': 3.2089503872171456e-06, 'lambda_l2': 1.0398644754440182e-05, 'num_leaves': 21, 'feature_fraction': 0.9348243660183232, 'bagging_fraction': 0.7679275470503599, 'bagging_freq': 4, 'min_child_samples': 37}. Best is trial 64 with value: 0.3415763622864584.\n",
      "[I 2024-08-02 13:05:10,478] Trial 95 finished with value: 0.315264265250239 and parameters: {'lambda_l1': 1.8193701266387293e-06, 'lambda_l2': 5.202378060079584e-06, 'num_leaves': 42, 'feature_fraction': 0.9492028432662719, 'bagging_fraction': 0.8266027628019869, 'bagging_freq': 4, 'min_child_samples': 33}. Best is trial 64 with value: 0.3415763622864584.\n",
      "[I 2024-08-02 13:05:11,155] Trial 96 finished with value: 0.32371649409206504 and parameters: {'lambda_l1': 8.316746440352528e-07, 'lambda_l2': 2.1133312777211638e-05, 'num_leaves': 17, 'feature_fraction': 0.9239129533253427, 'bagging_fraction': 0.7151339612610891, 'bagging_freq': 4, 'min_child_samples': 25}. Best is trial 64 with value: 0.3415763622864584.\n",
      "[I 2024-08-02 13:05:11,555] Trial 97 finished with value: 0.31826290496099685 and parameters: {'lambda_l1': 3.579634611141402e-06, 'lambda_l2': 4.2802688768881517e-05, 'num_leaves': 9, 'feature_fraction': 0.9070914553466985, 'bagging_fraction': 0.7960259058287887, 'bagging_freq': 2, 'min_child_samples': 31}. Best is trial 64 with value: 0.3415763622864584.\n",
      "[I 2024-08-02 13:05:14,760] Trial 98 finished with value: 0.30159628612925504 and parameters: {'lambda_l1': 2.1103116485489512e-05, 'lambda_l2': 5.855581157734738e-06, 'num_leaves': 206, 'feature_fraction': 0.9863580164872818, 'bagging_fraction': 0.7794009750609674, 'bagging_freq': 4, 'min_child_samples': 39}. Best is trial 64 with value: 0.3415763622864584.\n",
      "[I 2024-08-02 13:05:15,869] Trial 99 finished with value: 0.3130940541609487 and parameters: {'lambda_l1': 5.441349048748962e-07, 'lambda_l2': 1.3702666223718871e-05, 'num_leaves': 55, 'feature_fraction': 0.9609051248268821, 'bagging_fraction': 0.8204908143955396, 'bagging_freq': 4, 'min_child_samples': 43}. Best is trial 64 with value: 0.3415763622864584.\n"
     ]
    }
   ],
   "source": [
    "#Defino el estudio a optimizar\n",
    "study = optuna.create_study(direction='maximize', #buscamos maximizar la metrica\n",
    "                            storage=\"sqlite:///../work/db.sqlite3\",  # Specify the storage URL here.\n",
    "                            study_name=\"04 - LGB Multiclass\", #nombre del experimento\n",
    "                            load_if_exists=True) #continuar si ya existe\n",
    "\n",
    "#Corremos 100 trials para buscar mejores parametros\n",
    "study.optimize(lgb_objective, n_trials=100)"
   ]
  },
  {
   "cell_type": "code",
   "execution_count": 63,
   "metadata": {},
   "outputs": [
    {
     "data": {
      "text/plain": [
       "{'lambda_l1': 2.1410262924502463e-07,\n",
       " 'lambda_l2': 2.663799341229046e-06,\n",
       " 'num_leaves': 45,\n",
       " 'feature_fraction': 0.9065919030733158,\n",
       " 'bagging_fraction': 0.8013681974342899,\n",
       " 'bagging_freq': 3,\n",
       " 'min_child_samples': 5}"
      ]
     },
     "execution_count": 63,
     "metadata": {},
     "output_type": "execute_result"
    }
   ],
   "source": [
    "#Obtenemos mejor resultado\n",
    "study.best_params"
   ]
  },
  {
   "cell_type": "code",
   "execution_count": 64,
   "metadata": {},
   "outputs": [
    {
     "data": {
      "application/vnd.plotly.v1+json": {
       "config": {
        "plotlyServerURL": "https://plot.ly"
       },
       "data": [
        {
         "type": "heatmap",
         "x": [
          0,
          1,
          2,
          3,
          4
         ],
         "y": [
          0,
          1,
          2,
          3,
          4
         ],
         "z": [
          [
           4.878048780487805,
           37.80487804878049,
           35.36585365853659,
           7.317073170731707,
           14.634146341463413
          ],
          [
           0.8090614886731391,
           34.14239482200647,
           37.86407766990291,
           7.766990291262135,
           19.41747572815534
          ],
          [
           0.12391573729863693,
           23.172242874845107,
           37.67038413878562,
           12.391573729863694,
           26.64188351920694
          ],
          [
           0.6134969325153374,
           15.950920245398773,
           34.8159509202454,
           20.552147239263803,
           28.067484662576685
          ],
          [
           0.35714285714285715,
           10.595238095238095,
           19.642857142857142,
           7.738095238095238,
           61.66666666666667
          ]
         ]
        }
       ],
       "layout": {
        "annotations": [
         {
          "font": {
           "color": "white"
          },
          "showarrow": false,
          "text": "4.9 - 4",
          "x": 0,
          "xref": "x",
          "y": 0,
          "yref": "y"
         },
         {
          "font": {
           "color": "white"
          },
          "showarrow": false,
          "text": "37.8 - 31",
          "x": 1,
          "xref": "x",
          "y": 0,
          "yref": "y"
         },
         {
          "font": {
           "color": "white"
          },
          "showarrow": false,
          "text": "35.4 - 29",
          "x": 2,
          "xref": "x",
          "y": 0,
          "yref": "y"
         },
         {
          "font": {
           "color": "white"
          },
          "showarrow": false,
          "text": "7.3 - 6",
          "x": 3,
          "xref": "x",
          "y": 0,
          "yref": "y"
         },
         {
          "font": {
           "color": "white"
          },
          "showarrow": false,
          "text": "14.6 - 12",
          "x": 4,
          "xref": "x",
          "y": 0,
          "yref": "y"
         },
         {
          "font": {
           "color": "white"
          },
          "showarrow": false,
          "text": "0.8 - 5",
          "x": 0,
          "xref": "x",
          "y": 1,
          "yref": "y"
         },
         {
          "font": {
           "color": "white"
          },
          "showarrow": false,
          "text": "34.1 - 211",
          "x": 1,
          "xref": "x",
          "y": 1,
          "yref": "y"
         },
         {
          "font": {
           "color": "white"
          },
          "showarrow": false,
          "text": "37.9 - 234",
          "x": 2,
          "xref": "x",
          "y": 1,
          "yref": "y"
         },
         {
          "font": {
           "color": "white"
          },
          "showarrow": false,
          "text": "7.8 - 48",
          "x": 3,
          "xref": "x",
          "y": 1,
          "yref": "y"
         },
         {
          "font": {
           "color": "white"
          },
          "showarrow": false,
          "text": "19.4 - 120",
          "x": 4,
          "xref": "x",
          "y": 1,
          "yref": "y"
         },
         {
          "font": {
           "color": "white"
          },
          "showarrow": false,
          "text": "0.1 - 1",
          "x": 0,
          "xref": "x",
          "y": 2,
          "yref": "y"
         },
         {
          "font": {
           "color": "white"
          },
          "showarrow": false,
          "text": "23.2 - 187",
          "x": 1,
          "xref": "x",
          "y": 2,
          "yref": "y"
         },
         {
          "font": {
           "color": "white"
          },
          "showarrow": false,
          "text": "37.7 - 304",
          "x": 2,
          "xref": "x",
          "y": 2,
          "yref": "y"
         },
         {
          "font": {
           "color": "white"
          },
          "showarrow": false,
          "text": "12.4 - 100",
          "x": 3,
          "xref": "x",
          "y": 2,
          "yref": "y"
         },
         {
          "font": {
           "color": "white"
          },
          "showarrow": false,
          "text": "26.6 - 215",
          "x": 4,
          "xref": "x",
          "y": 2,
          "yref": "y"
         },
         {
          "font": {
           "color": "white"
          },
          "showarrow": false,
          "text": "0.6 - 4",
          "x": 0,
          "xref": "x",
          "y": 3,
          "yref": "y"
         },
         {
          "font": {
           "color": "white"
          },
          "showarrow": false,
          "text": "16.0 - 104",
          "x": 1,
          "xref": "x",
          "y": 3,
          "yref": "y"
         },
         {
          "font": {
           "color": "white"
          },
          "showarrow": false,
          "text": "34.8 - 227",
          "x": 2,
          "xref": "x",
          "y": 3,
          "yref": "y"
         },
         {
          "font": {
           "color": "white"
          },
          "showarrow": false,
          "text": "20.6 - 134",
          "x": 3,
          "xref": "x",
          "y": 3,
          "yref": "y"
         },
         {
          "font": {
           "color": "white"
          },
          "showarrow": false,
          "text": "28.1 - 183",
          "x": 4,
          "xref": "x",
          "y": 3,
          "yref": "y"
         },
         {
          "font": {
           "color": "white"
          },
          "showarrow": false,
          "text": "0.4 - 3",
          "x": 0,
          "xref": "x",
          "y": 4,
          "yref": "y"
         },
         {
          "font": {
           "color": "white"
          },
          "showarrow": false,
          "text": "10.6 - 89",
          "x": 1,
          "xref": "x",
          "y": 4,
          "yref": "y"
         },
         {
          "font": {
           "color": "white"
          },
          "showarrow": false,
          "text": "19.6 - 165",
          "x": 2,
          "xref": "x",
          "y": 4,
          "yref": "y"
         },
         {
          "font": {
           "color": "white"
          },
          "showarrow": false,
          "text": "7.7 - 65",
          "x": 3,
          "xref": "x",
          "y": 4,
          "yref": "y"
         },
         {
          "font": {
           "color": "white"
          },
          "showarrow": false,
          "text": "61.7 - 518",
          "x": 4,
          "xref": "x",
          "y": 4,
          "yref": "y"
         }
        ],
        "height": 800,
        "template": {
         "data": {
          "bar": [
           {
            "error_x": {
             "color": "#2a3f5f"
            },
            "error_y": {
             "color": "#2a3f5f"
            },
            "marker": {
             "line": {
              "color": "#E5ECF6",
              "width": 0.5
             },
             "pattern": {
              "fillmode": "overlay",
              "size": 10,
              "solidity": 0.2
             }
            },
            "type": "bar"
           }
          ],
          "barpolar": [
           {
            "marker": {
             "line": {
              "color": "#E5ECF6",
              "width": 0.5
             },
             "pattern": {
              "fillmode": "overlay",
              "size": 10,
              "solidity": 0.2
             }
            },
            "type": "barpolar"
           }
          ],
          "carpet": [
           {
            "aaxis": {
             "endlinecolor": "#2a3f5f",
             "gridcolor": "white",
             "linecolor": "white",
             "minorgridcolor": "white",
             "startlinecolor": "#2a3f5f"
            },
            "baxis": {
             "endlinecolor": "#2a3f5f",
             "gridcolor": "white",
             "linecolor": "white",
             "minorgridcolor": "white",
             "startlinecolor": "#2a3f5f"
            },
            "type": "carpet"
           }
          ],
          "choropleth": [
           {
            "colorbar": {
             "outlinewidth": 0,
             "ticks": ""
            },
            "type": "choropleth"
           }
          ],
          "contour": [
           {
            "colorbar": {
             "outlinewidth": 0,
             "ticks": ""
            },
            "colorscale": [
             [
              0,
              "#0d0887"
             ],
             [
              0.1111111111111111,
              "#46039f"
             ],
             [
              0.2222222222222222,
              "#7201a8"
             ],
             [
              0.3333333333333333,
              "#9c179e"
             ],
             [
              0.4444444444444444,
              "#bd3786"
             ],
             [
              0.5555555555555556,
              "#d8576b"
             ],
             [
              0.6666666666666666,
              "#ed7953"
             ],
             [
              0.7777777777777778,
              "#fb9f3a"
             ],
             [
              0.8888888888888888,
              "#fdca26"
             ],
             [
              1,
              "#f0f921"
             ]
            ],
            "type": "contour"
           }
          ],
          "contourcarpet": [
           {
            "colorbar": {
             "outlinewidth": 0,
             "ticks": ""
            },
            "type": "contourcarpet"
           }
          ],
          "heatmap": [
           {
            "colorbar": {
             "outlinewidth": 0,
             "ticks": ""
            },
            "colorscale": [
             [
              0,
              "#0d0887"
             ],
             [
              0.1111111111111111,
              "#46039f"
             ],
             [
              0.2222222222222222,
              "#7201a8"
             ],
             [
              0.3333333333333333,
              "#9c179e"
             ],
             [
              0.4444444444444444,
              "#bd3786"
             ],
             [
              0.5555555555555556,
              "#d8576b"
             ],
             [
              0.6666666666666666,
              "#ed7953"
             ],
             [
              0.7777777777777778,
              "#fb9f3a"
             ],
             [
              0.8888888888888888,
              "#fdca26"
             ],
             [
              1,
              "#f0f921"
             ]
            ],
            "type": "heatmap"
           }
          ],
          "heatmapgl": [
           {
            "colorbar": {
             "outlinewidth": 0,
             "ticks": ""
            },
            "colorscale": [
             [
              0,
              "#0d0887"
             ],
             [
              0.1111111111111111,
              "#46039f"
             ],
             [
              0.2222222222222222,
              "#7201a8"
             ],
             [
              0.3333333333333333,
              "#9c179e"
             ],
             [
              0.4444444444444444,
              "#bd3786"
             ],
             [
              0.5555555555555556,
              "#d8576b"
             ],
             [
              0.6666666666666666,
              "#ed7953"
             ],
             [
              0.7777777777777778,
              "#fb9f3a"
             ],
             [
              0.8888888888888888,
              "#fdca26"
             ],
             [
              1,
              "#f0f921"
             ]
            ],
            "type": "heatmapgl"
           }
          ],
          "histogram": [
           {
            "marker": {
             "pattern": {
              "fillmode": "overlay",
              "size": 10,
              "solidity": 0.2
             }
            },
            "type": "histogram"
           }
          ],
          "histogram2d": [
           {
            "colorbar": {
             "outlinewidth": 0,
             "ticks": ""
            },
            "colorscale": [
             [
              0,
              "#0d0887"
             ],
             [
              0.1111111111111111,
              "#46039f"
             ],
             [
              0.2222222222222222,
              "#7201a8"
             ],
             [
              0.3333333333333333,
              "#9c179e"
             ],
             [
              0.4444444444444444,
              "#bd3786"
             ],
             [
              0.5555555555555556,
              "#d8576b"
             ],
             [
              0.6666666666666666,
              "#ed7953"
             ],
             [
              0.7777777777777778,
              "#fb9f3a"
             ],
             [
              0.8888888888888888,
              "#fdca26"
             ],
             [
              1,
              "#f0f921"
             ]
            ],
            "type": "histogram2d"
           }
          ],
          "histogram2dcontour": [
           {
            "colorbar": {
             "outlinewidth": 0,
             "ticks": ""
            },
            "colorscale": [
             [
              0,
              "#0d0887"
             ],
             [
              0.1111111111111111,
              "#46039f"
             ],
             [
              0.2222222222222222,
              "#7201a8"
             ],
             [
              0.3333333333333333,
              "#9c179e"
             ],
             [
              0.4444444444444444,
              "#bd3786"
             ],
             [
              0.5555555555555556,
              "#d8576b"
             ],
             [
              0.6666666666666666,
              "#ed7953"
             ],
             [
              0.7777777777777778,
              "#fb9f3a"
             ],
             [
              0.8888888888888888,
              "#fdca26"
             ],
             [
              1,
              "#f0f921"
             ]
            ],
            "type": "histogram2dcontour"
           }
          ],
          "mesh3d": [
           {
            "colorbar": {
             "outlinewidth": 0,
             "ticks": ""
            },
            "type": "mesh3d"
           }
          ],
          "parcoords": [
           {
            "line": {
             "colorbar": {
              "outlinewidth": 0,
              "ticks": ""
             }
            },
            "type": "parcoords"
           }
          ],
          "pie": [
           {
            "automargin": true,
            "type": "pie"
           }
          ],
          "scatter": [
           {
            "fillpattern": {
             "fillmode": "overlay",
             "size": 10,
             "solidity": 0.2
            },
            "type": "scatter"
           }
          ],
          "scatter3d": [
           {
            "line": {
             "colorbar": {
              "outlinewidth": 0,
              "ticks": ""
             }
            },
            "marker": {
             "colorbar": {
              "outlinewidth": 0,
              "ticks": ""
             }
            },
            "type": "scatter3d"
           }
          ],
          "scattercarpet": [
           {
            "marker": {
             "colorbar": {
              "outlinewidth": 0,
              "ticks": ""
             }
            },
            "type": "scattercarpet"
           }
          ],
          "scattergeo": [
           {
            "marker": {
             "colorbar": {
              "outlinewidth": 0,
              "ticks": ""
             }
            },
            "type": "scattergeo"
           }
          ],
          "scattergl": [
           {
            "marker": {
             "colorbar": {
              "outlinewidth": 0,
              "ticks": ""
             }
            },
            "type": "scattergl"
           }
          ],
          "scattermapbox": [
           {
            "marker": {
             "colorbar": {
              "outlinewidth": 0,
              "ticks": ""
             }
            },
            "type": "scattermapbox"
           }
          ],
          "scatterpolar": [
           {
            "marker": {
             "colorbar": {
              "outlinewidth": 0,
              "ticks": ""
             }
            },
            "type": "scatterpolar"
           }
          ],
          "scatterpolargl": [
           {
            "marker": {
             "colorbar": {
              "outlinewidth": 0,
              "ticks": ""
             }
            },
            "type": "scatterpolargl"
           }
          ],
          "scatterternary": [
           {
            "marker": {
             "colorbar": {
              "outlinewidth": 0,
              "ticks": ""
             }
            },
            "type": "scatterternary"
           }
          ],
          "surface": [
           {
            "colorbar": {
             "outlinewidth": 0,
             "ticks": ""
            },
            "colorscale": [
             [
              0,
              "#0d0887"
             ],
             [
              0.1111111111111111,
              "#46039f"
             ],
             [
              0.2222222222222222,
              "#7201a8"
             ],
             [
              0.3333333333333333,
              "#9c179e"
             ],
             [
              0.4444444444444444,
              "#bd3786"
             ],
             [
              0.5555555555555556,
              "#d8576b"
             ],
             [
              0.6666666666666666,
              "#ed7953"
             ],
             [
              0.7777777777777778,
              "#fb9f3a"
             ],
             [
              0.8888888888888888,
              "#fdca26"
             ],
             [
              1,
              "#f0f921"
             ]
            ],
            "type": "surface"
           }
          ],
          "table": [
           {
            "cells": {
             "fill": {
              "color": "#EBF0F8"
             },
             "line": {
              "color": "white"
             }
            },
            "header": {
             "fill": {
              "color": "#C8D4E3"
             },
             "line": {
              "color": "white"
             }
            },
            "type": "table"
           }
          ]
         },
         "layout": {
          "annotationdefaults": {
           "arrowcolor": "#2a3f5f",
           "arrowhead": 0,
           "arrowwidth": 1
          },
          "autotypenumbers": "strict",
          "coloraxis": {
           "colorbar": {
            "outlinewidth": 0,
            "ticks": ""
           }
          },
          "colorscale": {
           "diverging": [
            [
             0,
             "#8e0152"
            ],
            [
             0.1,
             "#c51b7d"
            ],
            [
             0.2,
             "#de77ae"
            ],
            [
             0.3,
             "#f1b6da"
            ],
            [
             0.4,
             "#fde0ef"
            ],
            [
             0.5,
             "#f7f7f7"
            ],
            [
             0.6,
             "#e6f5d0"
            ],
            [
             0.7,
             "#b8e186"
            ],
            [
             0.8,
             "#7fbc41"
            ],
            [
             0.9,
             "#4d9221"
            ],
            [
             1,
             "#276419"
            ]
           ],
           "sequential": [
            [
             0,
             "#0d0887"
            ],
            [
             0.1111111111111111,
             "#46039f"
            ],
            [
             0.2222222222222222,
             "#7201a8"
            ],
            [
             0.3333333333333333,
             "#9c179e"
            ],
            [
             0.4444444444444444,
             "#bd3786"
            ],
            [
             0.5555555555555556,
             "#d8576b"
            ],
            [
             0.6666666666666666,
             "#ed7953"
            ],
            [
             0.7777777777777778,
             "#fb9f3a"
            ],
            [
             0.8888888888888888,
             "#fdca26"
            ],
            [
             1,
             "#f0f921"
            ]
           ],
           "sequentialminus": [
            [
             0,
             "#0d0887"
            ],
            [
             0.1111111111111111,
             "#46039f"
            ],
            [
             0.2222222222222222,
             "#7201a8"
            ],
            [
             0.3333333333333333,
             "#9c179e"
            ],
            [
             0.4444444444444444,
             "#bd3786"
            ],
            [
             0.5555555555555556,
             "#d8576b"
            ],
            [
             0.6666666666666666,
             "#ed7953"
            ],
            [
             0.7777777777777778,
             "#fb9f3a"
            ],
            [
             0.8888888888888888,
             "#fdca26"
            ],
            [
             1,
             "#f0f921"
            ]
           ]
          },
          "colorway": [
           "#636efa",
           "#EF553B",
           "#00cc96",
           "#ab63fa",
           "#FFA15A",
           "#19d3f3",
           "#FF6692",
           "#B6E880",
           "#FF97FF",
           "#FECB52"
          ],
          "font": {
           "color": "#2a3f5f"
          },
          "geo": {
           "bgcolor": "white",
           "lakecolor": "white",
           "landcolor": "#E5ECF6",
           "showlakes": true,
           "showland": true,
           "subunitcolor": "white"
          },
          "hoverlabel": {
           "align": "left"
          },
          "hovermode": "closest",
          "mapbox": {
           "style": "light"
          },
          "paper_bgcolor": "white",
          "plot_bgcolor": "#E5ECF6",
          "polar": {
           "angularaxis": {
            "gridcolor": "white",
            "linecolor": "white",
            "ticks": ""
           },
           "bgcolor": "#E5ECF6",
           "radialaxis": {
            "gridcolor": "white",
            "linecolor": "white",
            "ticks": ""
           }
          },
          "scene": {
           "xaxis": {
            "backgroundcolor": "#E5ECF6",
            "gridcolor": "white",
            "gridwidth": 2,
            "linecolor": "white",
            "showbackground": true,
            "ticks": "",
            "zerolinecolor": "white"
           },
           "yaxis": {
            "backgroundcolor": "#E5ECF6",
            "gridcolor": "white",
            "gridwidth": 2,
            "linecolor": "white",
            "showbackground": true,
            "ticks": "",
            "zerolinecolor": "white"
           },
           "zaxis": {
            "backgroundcolor": "#E5ECF6",
            "gridcolor": "white",
            "gridwidth": 2,
            "linecolor": "white",
            "showbackground": true,
            "ticks": "",
            "zerolinecolor": "white"
           }
          },
          "shapedefaults": {
           "line": {
            "color": "#2a3f5f"
           }
          },
          "ternary": {
           "aaxis": {
            "gridcolor": "white",
            "linecolor": "white",
            "ticks": ""
           },
           "baxis": {
            "gridcolor": "white",
            "linecolor": "white",
            "ticks": ""
           },
           "bgcolor": "#E5ECF6",
           "caxis": {
            "gridcolor": "white",
            "linecolor": "white",
            "ticks": ""
           }
          },
          "title": {
           "x": 0.05
          },
          "xaxis": {
           "automargin": true,
           "gridcolor": "white",
           "linecolor": "white",
           "ticks": "",
           "title": {
            "standoff": 15
           },
           "zerolinecolor": "white",
           "zerolinewidth": 2
          },
          "yaxis": {
           "automargin": true,
           "gridcolor": "white",
           "linecolor": "white",
           "ticks": "",
           "title": {
            "standoff": 15
           },
           "zerolinecolor": "white",
           "zerolinewidth": 2
          }
         }
        },
        "title": {
         "text": "Conf Matrix"
        },
        "width": 800,
        "xaxis": {
         "title": {
          "text": "Predicted value"
         }
        },
        "yaxis": {
         "title": {
          "text": "Real value"
         }
        }
       }
      },
      "text/html": [
       "<div>                            <div id=\"566097fa-d566-4500-9ecc-8dfecb78f278\" class=\"plotly-graph-div\" style=\"height:800px; width:800px;\"></div>            <script type=\"text/javascript\">                require([\"plotly\"], function(Plotly) {                    window.PLOTLYENV=window.PLOTLYENV || {};                                    if (document.getElementById(\"566097fa-d566-4500-9ecc-8dfecb78f278\")) {                    Plotly.newPlot(                        \"566097fa-d566-4500-9ecc-8dfecb78f278\",                        [{\"x\":[0,1,2,3,4],\"y\":[0,1,2,3,4],\"z\":[[4.878048780487805,37.80487804878049,35.36585365853659,7.317073170731707,14.634146341463413],[0.8090614886731391,34.14239482200647,37.86407766990291,7.766990291262135,19.41747572815534],[0.12391573729863693,23.172242874845107,37.67038413878562,12.391573729863694,26.64188351920694],[0.6134969325153374,15.950920245398773,34.8159509202454,20.552147239263803,28.067484662576685],[0.35714285714285715,10.595238095238095,19.642857142857142,7.738095238095238,61.66666666666667]],\"type\":\"heatmap\"}],                        {\"annotations\":[{\"font\":{\"color\":\"white\"},\"showarrow\":false,\"text\":\"4.9 - 4\",\"x\":0,\"xref\":\"x\",\"y\":0,\"yref\":\"y\"},{\"font\":{\"color\":\"white\"},\"showarrow\":false,\"text\":\"37.8 - 31\",\"x\":1,\"xref\":\"x\",\"y\":0,\"yref\":\"y\"},{\"font\":{\"color\":\"white\"},\"showarrow\":false,\"text\":\"35.4 - 29\",\"x\":2,\"xref\":\"x\",\"y\":0,\"yref\":\"y\"},{\"font\":{\"color\":\"white\"},\"showarrow\":false,\"text\":\"7.3 - 6\",\"x\":3,\"xref\":\"x\",\"y\":0,\"yref\":\"y\"},{\"font\":{\"color\":\"white\"},\"showarrow\":false,\"text\":\"14.6 - 12\",\"x\":4,\"xref\":\"x\",\"y\":0,\"yref\":\"y\"},{\"font\":{\"color\":\"white\"},\"showarrow\":false,\"text\":\"0.8 - 5\",\"x\":0,\"xref\":\"x\",\"y\":1,\"yref\":\"y\"},{\"font\":{\"color\":\"white\"},\"showarrow\":false,\"text\":\"34.1 - 211\",\"x\":1,\"xref\":\"x\",\"y\":1,\"yref\":\"y\"},{\"font\":{\"color\":\"white\"},\"showarrow\":false,\"text\":\"37.9 - 234\",\"x\":2,\"xref\":\"x\",\"y\":1,\"yref\":\"y\"},{\"font\":{\"color\":\"white\"},\"showarrow\":false,\"text\":\"7.8 - 48\",\"x\":3,\"xref\":\"x\",\"y\":1,\"yref\":\"y\"},{\"font\":{\"color\":\"white\"},\"showarrow\":false,\"text\":\"19.4 - 120\",\"x\":4,\"xref\":\"x\",\"y\":1,\"yref\":\"y\"},{\"font\":{\"color\":\"white\"},\"showarrow\":false,\"text\":\"0.1 - 1\",\"x\":0,\"xref\":\"x\",\"y\":2,\"yref\":\"y\"},{\"font\":{\"color\":\"white\"},\"showarrow\":false,\"text\":\"23.2 - 187\",\"x\":1,\"xref\":\"x\",\"y\":2,\"yref\":\"y\"},{\"font\":{\"color\":\"white\"},\"showarrow\":false,\"text\":\"37.7 - 304\",\"x\":2,\"xref\":\"x\",\"y\":2,\"yref\":\"y\"},{\"font\":{\"color\":\"white\"},\"showarrow\":false,\"text\":\"12.4 - 100\",\"x\":3,\"xref\":\"x\",\"y\":2,\"yref\":\"y\"},{\"font\":{\"color\":\"white\"},\"showarrow\":false,\"text\":\"26.6 - 215\",\"x\":4,\"xref\":\"x\",\"y\":2,\"yref\":\"y\"},{\"font\":{\"color\":\"white\"},\"showarrow\":false,\"text\":\"0.6 - 4\",\"x\":0,\"xref\":\"x\",\"y\":3,\"yref\":\"y\"},{\"font\":{\"color\":\"white\"},\"showarrow\":false,\"text\":\"16.0 - 104\",\"x\":1,\"xref\":\"x\",\"y\":3,\"yref\":\"y\"},{\"font\":{\"color\":\"white\"},\"showarrow\":false,\"text\":\"34.8 - 227\",\"x\":2,\"xref\":\"x\",\"y\":3,\"yref\":\"y\"},{\"font\":{\"color\":\"white\"},\"showarrow\":false,\"text\":\"20.6 - 134\",\"x\":3,\"xref\":\"x\",\"y\":3,\"yref\":\"y\"},{\"font\":{\"color\":\"white\"},\"showarrow\":false,\"text\":\"28.1 - 183\",\"x\":4,\"xref\":\"x\",\"y\":3,\"yref\":\"y\"},{\"font\":{\"color\":\"white\"},\"showarrow\":false,\"text\":\"0.4 - 3\",\"x\":0,\"xref\":\"x\",\"y\":4,\"yref\":\"y\"},{\"font\":{\"color\":\"white\"},\"showarrow\":false,\"text\":\"10.6 - 89\",\"x\":1,\"xref\":\"x\",\"y\":4,\"yref\":\"y\"},{\"font\":{\"color\":\"white\"},\"showarrow\":false,\"text\":\"19.6 - 165\",\"x\":2,\"xref\":\"x\",\"y\":4,\"yref\":\"y\"},{\"font\":{\"color\":\"white\"},\"showarrow\":false,\"text\":\"7.7 - 65\",\"x\":3,\"xref\":\"x\",\"y\":4,\"yref\":\"y\"},{\"font\":{\"color\":\"white\"},\"showarrow\":false,\"text\":\"61.7 - 518\",\"x\":4,\"xref\":\"x\",\"y\":4,\"yref\":\"y\"}],\"height\":800,\"title\":{\"text\":\"Conf Matrix\"},\"width\":800,\"xaxis\":{\"title\":{\"text\":\"Predicted value\"}},\"yaxis\":{\"title\":{\"text\":\"Real value\"}},\"template\":{\"data\":{\"histogram2dcontour\":[{\"type\":\"histogram2dcontour\",\"colorbar\":{\"outlinewidth\":0,\"ticks\":\"\"},\"colorscale\":[[0.0,\"#0d0887\"],[0.1111111111111111,\"#46039f\"],[0.2222222222222222,\"#7201a8\"],[0.3333333333333333,\"#9c179e\"],[0.4444444444444444,\"#bd3786\"],[0.5555555555555556,\"#d8576b\"],[0.6666666666666666,\"#ed7953\"],[0.7777777777777778,\"#fb9f3a\"],[0.8888888888888888,\"#fdca26\"],[1.0,\"#f0f921\"]]}],\"choropleth\":[{\"type\":\"choropleth\",\"colorbar\":{\"outlinewidth\":0,\"ticks\":\"\"}}],\"histogram2d\":[{\"type\":\"histogram2d\",\"colorbar\":{\"outlinewidth\":0,\"ticks\":\"\"},\"colorscale\":[[0.0,\"#0d0887\"],[0.1111111111111111,\"#46039f\"],[0.2222222222222222,\"#7201a8\"],[0.3333333333333333,\"#9c179e\"],[0.4444444444444444,\"#bd3786\"],[0.5555555555555556,\"#d8576b\"],[0.6666666666666666,\"#ed7953\"],[0.7777777777777778,\"#fb9f3a\"],[0.8888888888888888,\"#fdca26\"],[1.0,\"#f0f921\"]]}],\"heatmap\":[{\"type\":\"heatmap\",\"colorbar\":{\"outlinewidth\":0,\"ticks\":\"\"},\"colorscale\":[[0.0,\"#0d0887\"],[0.1111111111111111,\"#46039f\"],[0.2222222222222222,\"#7201a8\"],[0.3333333333333333,\"#9c179e\"],[0.4444444444444444,\"#bd3786\"],[0.5555555555555556,\"#d8576b\"],[0.6666666666666666,\"#ed7953\"],[0.7777777777777778,\"#fb9f3a\"],[0.8888888888888888,\"#fdca26\"],[1.0,\"#f0f921\"]]}],\"heatmapgl\":[{\"type\":\"heatmapgl\",\"colorbar\":{\"outlinewidth\":0,\"ticks\":\"\"},\"colorscale\":[[0.0,\"#0d0887\"],[0.1111111111111111,\"#46039f\"],[0.2222222222222222,\"#7201a8\"],[0.3333333333333333,\"#9c179e\"],[0.4444444444444444,\"#bd3786\"],[0.5555555555555556,\"#d8576b\"],[0.6666666666666666,\"#ed7953\"],[0.7777777777777778,\"#fb9f3a\"],[0.8888888888888888,\"#fdca26\"],[1.0,\"#f0f921\"]]}],\"contourcarpet\":[{\"type\":\"contourcarpet\",\"colorbar\":{\"outlinewidth\":0,\"ticks\":\"\"}}],\"contour\":[{\"type\":\"contour\",\"colorbar\":{\"outlinewidth\":0,\"ticks\":\"\"},\"colorscale\":[[0.0,\"#0d0887\"],[0.1111111111111111,\"#46039f\"],[0.2222222222222222,\"#7201a8\"],[0.3333333333333333,\"#9c179e\"],[0.4444444444444444,\"#bd3786\"],[0.5555555555555556,\"#d8576b\"],[0.6666666666666666,\"#ed7953\"],[0.7777777777777778,\"#fb9f3a\"],[0.8888888888888888,\"#fdca26\"],[1.0,\"#f0f921\"]]}],\"surface\":[{\"type\":\"surface\",\"colorbar\":{\"outlinewidth\":0,\"ticks\":\"\"},\"colorscale\":[[0.0,\"#0d0887\"],[0.1111111111111111,\"#46039f\"],[0.2222222222222222,\"#7201a8\"],[0.3333333333333333,\"#9c179e\"],[0.4444444444444444,\"#bd3786\"],[0.5555555555555556,\"#d8576b\"],[0.6666666666666666,\"#ed7953\"],[0.7777777777777778,\"#fb9f3a\"],[0.8888888888888888,\"#fdca26\"],[1.0,\"#f0f921\"]]}],\"mesh3d\":[{\"type\":\"mesh3d\",\"colorbar\":{\"outlinewidth\":0,\"ticks\":\"\"}}],\"scatter\":[{\"fillpattern\":{\"fillmode\":\"overlay\",\"size\":10,\"solidity\":0.2},\"type\":\"scatter\"}],\"parcoords\":[{\"type\":\"parcoords\",\"line\":{\"colorbar\":{\"outlinewidth\":0,\"ticks\":\"\"}}}],\"scatterpolargl\":[{\"type\":\"scatterpolargl\",\"marker\":{\"colorbar\":{\"outlinewidth\":0,\"ticks\":\"\"}}}],\"bar\":[{\"error_x\":{\"color\":\"#2a3f5f\"},\"error_y\":{\"color\":\"#2a3f5f\"},\"marker\":{\"line\":{\"color\":\"#E5ECF6\",\"width\":0.5},\"pattern\":{\"fillmode\":\"overlay\",\"size\":10,\"solidity\":0.2}},\"type\":\"bar\"}],\"scattergeo\":[{\"type\":\"scattergeo\",\"marker\":{\"colorbar\":{\"outlinewidth\":0,\"ticks\":\"\"}}}],\"scatterpolar\":[{\"type\":\"scatterpolar\",\"marker\":{\"colorbar\":{\"outlinewidth\":0,\"ticks\":\"\"}}}],\"histogram\":[{\"marker\":{\"pattern\":{\"fillmode\":\"overlay\",\"size\":10,\"solidity\":0.2}},\"type\":\"histogram\"}],\"scattergl\":[{\"type\":\"scattergl\",\"marker\":{\"colorbar\":{\"outlinewidth\":0,\"ticks\":\"\"}}}],\"scatter3d\":[{\"type\":\"scatter3d\",\"line\":{\"colorbar\":{\"outlinewidth\":0,\"ticks\":\"\"}},\"marker\":{\"colorbar\":{\"outlinewidth\":0,\"ticks\":\"\"}}}],\"scattermapbox\":[{\"type\":\"scattermapbox\",\"marker\":{\"colorbar\":{\"outlinewidth\":0,\"ticks\":\"\"}}}],\"scatterternary\":[{\"type\":\"scatterternary\",\"marker\":{\"colorbar\":{\"outlinewidth\":0,\"ticks\":\"\"}}}],\"scattercarpet\":[{\"type\":\"scattercarpet\",\"marker\":{\"colorbar\":{\"outlinewidth\":0,\"ticks\":\"\"}}}],\"carpet\":[{\"aaxis\":{\"endlinecolor\":\"#2a3f5f\",\"gridcolor\":\"white\",\"linecolor\":\"white\",\"minorgridcolor\":\"white\",\"startlinecolor\":\"#2a3f5f\"},\"baxis\":{\"endlinecolor\":\"#2a3f5f\",\"gridcolor\":\"white\",\"linecolor\":\"white\",\"minorgridcolor\":\"white\",\"startlinecolor\":\"#2a3f5f\"},\"type\":\"carpet\"}],\"table\":[{\"cells\":{\"fill\":{\"color\":\"#EBF0F8\"},\"line\":{\"color\":\"white\"}},\"header\":{\"fill\":{\"color\":\"#C8D4E3\"},\"line\":{\"color\":\"white\"}},\"type\":\"table\"}],\"barpolar\":[{\"marker\":{\"line\":{\"color\":\"#E5ECF6\",\"width\":0.5},\"pattern\":{\"fillmode\":\"overlay\",\"size\":10,\"solidity\":0.2}},\"type\":\"barpolar\"}],\"pie\":[{\"automargin\":true,\"type\":\"pie\"}]},\"layout\":{\"autotypenumbers\":\"strict\",\"colorway\":[\"#636efa\",\"#EF553B\",\"#00cc96\",\"#ab63fa\",\"#FFA15A\",\"#19d3f3\",\"#FF6692\",\"#B6E880\",\"#FF97FF\",\"#FECB52\"],\"font\":{\"color\":\"#2a3f5f\"},\"hovermode\":\"closest\",\"hoverlabel\":{\"align\":\"left\"},\"paper_bgcolor\":\"white\",\"plot_bgcolor\":\"#E5ECF6\",\"polar\":{\"bgcolor\":\"#E5ECF6\",\"angularaxis\":{\"gridcolor\":\"white\",\"linecolor\":\"white\",\"ticks\":\"\"},\"radialaxis\":{\"gridcolor\":\"white\",\"linecolor\":\"white\",\"ticks\":\"\"}},\"ternary\":{\"bgcolor\":\"#E5ECF6\",\"aaxis\":{\"gridcolor\":\"white\",\"linecolor\":\"white\",\"ticks\":\"\"},\"baxis\":{\"gridcolor\":\"white\",\"linecolor\":\"white\",\"ticks\":\"\"},\"caxis\":{\"gridcolor\":\"white\",\"linecolor\":\"white\",\"ticks\":\"\"}},\"coloraxis\":{\"colorbar\":{\"outlinewidth\":0,\"ticks\":\"\"}},\"colorscale\":{\"sequential\":[[0.0,\"#0d0887\"],[0.1111111111111111,\"#46039f\"],[0.2222222222222222,\"#7201a8\"],[0.3333333333333333,\"#9c179e\"],[0.4444444444444444,\"#bd3786\"],[0.5555555555555556,\"#d8576b\"],[0.6666666666666666,\"#ed7953\"],[0.7777777777777778,\"#fb9f3a\"],[0.8888888888888888,\"#fdca26\"],[1.0,\"#f0f921\"]],\"sequentialminus\":[[0.0,\"#0d0887\"],[0.1111111111111111,\"#46039f\"],[0.2222222222222222,\"#7201a8\"],[0.3333333333333333,\"#9c179e\"],[0.4444444444444444,\"#bd3786\"],[0.5555555555555556,\"#d8576b\"],[0.6666666666666666,\"#ed7953\"],[0.7777777777777778,\"#fb9f3a\"],[0.8888888888888888,\"#fdca26\"],[1.0,\"#f0f921\"]],\"diverging\":[[0,\"#8e0152\"],[0.1,\"#c51b7d\"],[0.2,\"#de77ae\"],[0.3,\"#f1b6da\"],[0.4,\"#fde0ef\"],[0.5,\"#f7f7f7\"],[0.6,\"#e6f5d0\"],[0.7,\"#b8e186\"],[0.8,\"#7fbc41\"],[0.9,\"#4d9221\"],[1,\"#276419\"]]},\"xaxis\":{\"gridcolor\":\"white\",\"linecolor\":\"white\",\"ticks\":\"\",\"title\":{\"standoff\":15},\"zerolinecolor\":\"white\",\"automargin\":true,\"zerolinewidth\":2},\"yaxis\":{\"gridcolor\":\"white\",\"linecolor\":\"white\",\"ticks\":\"\",\"title\":{\"standoff\":15},\"zerolinecolor\":\"white\",\"automargin\":true,\"zerolinewidth\":2},\"scene\":{\"xaxis\":{\"backgroundcolor\":\"#E5ECF6\",\"gridcolor\":\"white\",\"linecolor\":\"white\",\"showbackground\":true,\"ticks\":\"\",\"zerolinecolor\":\"white\",\"gridwidth\":2},\"yaxis\":{\"backgroundcolor\":\"#E5ECF6\",\"gridcolor\":\"white\",\"linecolor\":\"white\",\"showbackground\":true,\"ticks\":\"\",\"zerolinecolor\":\"white\",\"gridwidth\":2},\"zaxis\":{\"backgroundcolor\":\"#E5ECF6\",\"gridcolor\":\"white\",\"linecolor\":\"white\",\"showbackground\":true,\"ticks\":\"\",\"zerolinecolor\":\"white\",\"gridwidth\":2}},\"shapedefaults\":{\"line\":{\"color\":\"#2a3f5f\"}},\"annotationdefaults\":{\"arrowcolor\":\"#2a3f5f\",\"arrowhead\":0,\"arrowwidth\":1},\"geo\":{\"bgcolor\":\"white\",\"landcolor\":\"#E5ECF6\",\"subunitcolor\":\"white\",\"showland\":true,\"showlakes\":true,\"lakecolor\":\"white\"},\"title\":{\"x\":0.05},\"mapbox\":{\"style\":\"light\"}}}},                        {\"responsive\": true}                    ).then(function(){\n",
       "                            \n",
       "var gd = document.getElementById('566097fa-d566-4500-9ecc-8dfecb78f278');\n",
       "var x = new MutationObserver(function (mutations, observer) {{\n",
       "        var display = window.getComputedStyle(gd).display;\n",
       "        if (!display || display === 'none') {{\n",
       "            console.log([gd, 'removed!']);\n",
       "            Plotly.purge(gd);\n",
       "            observer.disconnect();\n",
       "        }}\n",
       "}});\n",
       "\n",
       "// Listen for the removal of the full notebook cells\n",
       "var notebookContainer = gd.closest('#notebook-container');\n",
       "if (notebookContainer) {{\n",
       "    x.observe(notebookContainer, {childList: true});\n",
       "}}\n",
       "\n",
       "// Listen for the clearing of the current output cell\n",
       "var outputEl = gd.closest('.output');\n",
       "if (outputEl) {{\n",
       "    x.observe(outputEl, {childList: true});\n",
       "}}\n",
       "\n",
       "                        })                };                });            </script>        </div>"
      ]
     },
     "metadata": {},
     "output_type": "display_data"
    },
    {
     "data": {
      "text/plain": [
       "0.3415763622864584"
      ]
     },
     "execution_count": 64,
     "metadata": {},
     "output_type": "execute_result"
    }
   ],
   "source": [
    "#Vamos a replicar el resultado de la optimizacion reentrenando el modelo con el mejor conjunto de hiperparametros\n",
    "#Generamos parametros incluyendo los fijos y la mejor solución que encontro optuna\n",
    "lgb_params =  {      \n",
    "                        'objective': 'multiclass',\n",
    "                        'verbosity':-1,\n",
    "                        'num_class': len(y_train.unique())} | study.best_params\n",
    "\n",
    "lgb_train_dataset = lgb.Dataset(data=X_train,\n",
    "                                label=y_train)\n",
    "\n",
    "\n",
    "#Entreno\n",
    "lgb_model = lgb.train(lgb_params,\n",
    "                    lgb_train_dataset)\n",
    "\n",
    "#Muestro matriz de confusion y kappa\n",
    "display(plot_confusion_matrix(y_test,lgb_model.predict(X_test).argmax(axis=1)))\n",
    "\n",
    "cohen_kappa_score(y_test,lgb_model.predict(X_test).argmax(axis=1),\n",
    "                             weights = 'quadratic')\n"
   ]
  },
  {
   "cell_type": "markdown",
   "metadata": {},
   "source": [
    "## Modelo con cross validation y conjunto de test"
   ]
  },
  {
   "cell_type": "code",
   "execution_count": 65,
   "metadata": {},
   "outputs": [],
   "source": [
    "#Genero una metrica para que lightGBM haga la evaluación y pueda hacer early_stopping en el cross validation\n",
    "def lgb_custom_metric_kappa(dy_pred, dy_true):\n",
    "    metric_name = 'kappa'\n",
    "    value = cohen_kappa_score(dy_true.get_label(),dy_pred.argmax(axis=1),weights = 'quadratic')\n",
    "    is_higher_better = True\n",
    "    return(metric_name, value, is_higher_better)\n",
    "\n",
    "#Funcion objetivo a optimizar. En este caso vamos a hacer 5fold cv sobre el conjunto de train. \n",
    "# El score de CV es el objetivo a optimizar. Ademas vamos a usar los 5 modelos del CV para estimar el conjunto de test,\n",
    "# registraremos en optuna las predicciones, matriz de confusion y el score en test.\n",
    "# CV Score -> Se usa para determinar el rendimiento de los hiperparametros con precision \n",
    "# Test Score -> Nos permite testear que esta todo OK, no use (ni debo usar) esos datos para nada en el entrenamiento \n",
    "# o la optimizacion de hiperparametros\n",
    "\n",
    "def cv_es_lgb_objective(trial):\n",
    "\n",
    "    #PArametros para LightGBM\n",
    "    lgb_params = {      \n",
    "                        #PArametros fijos\n",
    "                        'objective': 'multiclass',\n",
    "                        'verbosity':-1,\n",
    "                        'num_class': len(y_train.unique()),\n",
    "                        #Hiperparametros a optimizar utilizando suggest_float o suggest_int segun el tipo de dato\n",
    "                        #Se indica el nombre del parametro, valor minimo, valor maximo \n",
    "                        #en elgunos casos el parametro log=True para parametros que requieren buscar en esa escala\n",
    "                        'lambda_l1': trial.suggest_float('lambda_l1', 1e-8, 10.0, log=True),\n",
    "                        'lambda_l2': trial.suggest_float('lambda_l2', 1e-8, 10.0, log=True),\n",
    "                        'num_leaves': trial.suggest_int('num_leaves', 2, 256),\n",
    "                        'feature_fraction': trial.suggest_float('feature_fraction', 0.4, 1.0),\n",
    "                        'bagging_fraction': trial.suggest_float('bagging_fraction', 0.4, 1.0),\n",
    "                        'bagging_freq': trial.suggest_int('bagging_freq', 1, 7),\n",
    "                        'min_child_samples': trial.suggest_int('min_child_samples', 5, 100),\n",
    "                        } \n",
    "\n",
    "    #Voy a generar estimaciones de los 5 modelos del CV sobre los datos test y los acumulo en la matriz scores_ensemble\n",
    "    scores_ensemble = np.zeros((len(y_test),len(y_train.unique())))\n",
    "\n",
    "    #Score del 5 fold CV inicializado en 0\n",
    "    score_folds = 0\n",
    "\n",
    "    #Numero de splits del CV\n",
    "    n_splits = 5\n",
    "\n",
    "    #Objeto para hacer el split estratificado de CV\n",
    "    skf = StratifiedKFold(n_splits=n_splits)\n",
    "\n",
    "    for i, (if_index, oof_index) in enumerate(skf.split(X_train, y_train)):\n",
    "        \n",
    "        #Dataset in fold (donde entreno) \n",
    "        lgb_if_dataset = lgb.Dataset(data=X_train.iloc[if_index],\n",
    "                                        label=y_train.iloc[if_index],\n",
    "                                        free_raw_data=False)\n",
    "        \n",
    "        #Dataset Out of fold (donde mido la performance del CV)\n",
    "        lgb_oof_dataset = lgb.Dataset(data=X_train.iloc[oof_index],\n",
    "                                        label=y_train.iloc[oof_index],\n",
    "                                        free_raw_data=False)\n",
    "\n",
    "        #Entreno el modelo\n",
    "        lgb_model = lgb.train(lgb_params,\n",
    "                                lgb_if_dataset,\n",
    "                                valid_sets=lgb_oof_dataset,\n",
    "                                callbacks=[lgb.early_stopping(10, verbose=False)],\n",
    "                                feval = lgb_custom_metric_kappa\n",
    "                                )\n",
    "        \n",
    "        #Acumulo los scores (probabilidades) de cada clase para cada uno de los modelos que determino en los folds\n",
    "        #Se predice el 20% de los datos que separe para tes y no uso para entrenar en ningun fold\n",
    "        scores_ensemble = scores_ensemble + lgb_model.predict(X_test)\n",
    "        \n",
    "        #Score del fold (registros de dataset train que en este fold quedan out of fold)\n",
    "        score_folds = score_folds + cohen_kappa_score(y_train.iloc[oof_index], \n",
    "                                                            lgb_model.predict(X_train.iloc[oof_index]).argmax(axis=1),weights = 'quadratic')/n_splits\n",
    "\n",
    "\n",
    "    #Guardo prediccion del trial sobre el conjunto de test\n",
    "    # Genero nombre de archivo\n",
    "    predicted_filename = os.path.join(PATH_TO_TEMP_FILES,f'test_{trial.study.study_name}_{trial.number}.joblib')\n",
    "    # Copia del dataset para guardar la prediccion\n",
    "    predicted_df = test.copy()\n",
    "    # Genero columna pred con predicciones sumadas de los 5 folds\n",
    "    predicted_df['pred'] = [scores_ensemble[p,:] for p in range(scores_ensemble.shape[0])]\n",
    "    # Grabo dataframe en temp_artifacts\n",
    "    dump(predicted_df, predicted_filename)\n",
    "    # Indico a optuna que asocie el archivo generado al trial\n",
    "    upload_artifact(trial, predicted_filename, artifact_store)    \n",
    "\n",
    "    #Grabo natriz de confusion\n",
    "    #Nombre de archivo\n",
    "    cm_filename = os.path.join(PATH_TO_TEMP_FILES,f'cm_{trial.study.study_name}_{trial.number}.jpg')\n",
    "    #Grabo archivo\n",
    "    plot_confusion_matrix(y_test,scores_ensemble.argmax(axis=1)).write_image(cm_filename)\n",
    "    #Asocio al trial\n",
    "    upload_artifact(trial, cm_filename, artifact_store)\n",
    "\n",
    "    #Determino score en conjunto de test y asocio como metrica adicional en optuna\n",
    "    test_score = cohen_kappa_score(y_test,scores_ensemble.argmax(axis=1),weights = 'quadratic')\n",
    "    trial.set_user_attr(\"test_score\", test_score)\n",
    "\n",
    "    #Devuelvo score del 5fold cv a optuna para que optimice en base a eso\n",
    "    return(score_folds)"
   ]
  },
  {
   "cell_type": "code",
   "execution_count": 66,
   "metadata": {},
   "outputs": [
    {
     "name": "stderr",
     "output_type": "stream",
     "text": [
      "/tmp/ipykernel_1676490/1746730829.py:2: ExperimentalWarning:\n",
      "\n",
      "FileSystemArtifactStore is experimental (supported from v3.3.0). The interface can change in the future.\n",
      "\n",
      "[I 2024-08-02 13:05:16,893] Using an existing study with name '04 - LGB Multiclass CV' instead of creating a new one.\n",
      "/tmp/ipykernel_1676490/4150719641.py:86: ExperimentalWarning:\n",
      "\n",
      "upload_artifact is experimental (supported from v3.3.0). The interface can change in the future.\n",
      "\n",
      "/tmp/ipykernel_1676490/4150719641.py:94: ExperimentalWarning:\n",
      "\n",
      "upload_artifact is experimental (supported from v3.3.0). The interface can change in the future.\n",
      "\n",
      "[I 2024-08-02 13:05:20,732] Trial 100 finished with value: 0.3549139075329161 and parameters: {'lambda_l1': 0.0001897277187661874, 'lambda_l2': 1.4021584262609095e-06, 'num_leaves': 120, 'feature_fraction': 0.5236891001973748, 'bagging_fraction': 0.9846236076763902, 'bagging_freq': 1, 'min_child_samples': 97}. Best is trial 13 with value: 0.3643421193421892.\n",
      "/tmp/ipykernel_1676490/4150719641.py:86: ExperimentalWarning:\n",
      "\n",
      "upload_artifact is experimental (supported from v3.3.0). The interface can change in the future.\n",
      "\n",
      "/tmp/ipykernel_1676490/4150719641.py:94: ExperimentalWarning:\n",
      "\n",
      "upload_artifact is experimental (supported from v3.3.0). The interface can change in the future.\n",
      "\n",
      "[I 2024-08-02 13:05:24,805] Trial 101 finished with value: 0.3539731475639772 and parameters: {'lambda_l1': 0.0005620573282861866, 'lambda_l2': 4.4357277522329647e-07, 'num_leaves': 57, 'feature_fraction': 0.566335260543971, 'bagging_fraction': 0.9508293914822212, 'bagging_freq': 1, 'min_child_samples': 93}. Best is trial 13 with value: 0.3643421193421892.\n",
      "/tmp/ipykernel_1676490/4150719641.py:86: ExperimentalWarning:\n",
      "\n",
      "upload_artifact is experimental (supported from v3.3.0). The interface can change in the future.\n",
      "\n",
      "/tmp/ipykernel_1676490/4150719641.py:94: ExperimentalWarning:\n",
      "\n",
      "upload_artifact is experimental (supported from v3.3.0). The interface can change in the future.\n",
      "\n",
      "[I 2024-08-02 13:05:29,016] Trial 102 finished with value: 0.35589514564707037 and parameters: {'lambda_l1': 0.0019542512366052603, 'lambda_l2': 7.546272813064257e-07, 'num_leaves': 68, 'feature_fraction': 0.5536543330592207, 'bagging_fraction': 0.9231358840443041, 'bagging_freq': 1, 'min_child_samples': 100}. Best is trial 13 with value: 0.3643421193421892.\n",
      "/tmp/ipykernel_1676490/4150719641.py:86: ExperimentalWarning:\n",
      "\n",
      "upload_artifact is experimental (supported from v3.3.0). The interface can change in the future.\n",
      "\n",
      "/tmp/ipykernel_1676490/4150719641.py:94: ExperimentalWarning:\n",
      "\n",
      "upload_artifact is experimental (supported from v3.3.0). The interface can change in the future.\n",
      "\n",
      "[I 2024-08-02 13:05:32,334] Trial 103 finished with value: 0.3505762307060748 and parameters: {'lambda_l1': 0.00010914282965326226, 'lambda_l2': 1.2792800985268052e-07, 'num_leaves': 90, 'feature_fraction': 0.5823737331902981, 'bagging_fraction': 0.6442148625603392, 'bagging_freq': 1, 'min_child_samples': 88}. Best is trial 13 with value: 0.3643421193421892.\n",
      "/tmp/ipykernel_1676490/4150719641.py:86: ExperimentalWarning:\n",
      "\n",
      "upload_artifact is experimental (supported from v3.3.0). The interface can change in the future.\n",
      "\n",
      "/tmp/ipykernel_1676490/4150719641.py:94: ExperimentalWarning:\n",
      "\n",
      "upload_artifact is experimental (supported from v3.3.0). The interface can change in the future.\n",
      "\n",
      "[I 2024-08-02 13:05:35,662] Trial 104 finished with value: 0.3573617945993525 and parameters: {'lambda_l1': 0.0011384516517613838, 'lambda_l2': 5.061516626293327e-06, 'num_leaves': 37, 'feature_fraction': 0.5273226978076442, 'bagging_fraction': 0.8661477463408218, 'bagging_freq': 1, 'min_child_samples': 98}. Best is trial 13 with value: 0.3643421193421892.\n",
      "/tmp/ipykernel_1676490/4150719641.py:86: ExperimentalWarning:\n",
      "\n",
      "upload_artifact is experimental (supported from v3.3.0). The interface can change in the future.\n",
      "\n",
      "/tmp/ipykernel_1676490/4150719641.py:94: ExperimentalWarning:\n",
      "\n",
      "upload_artifact is experimental (supported from v3.3.0). The interface can change in the future.\n",
      "\n",
      "[I 2024-08-02 13:05:39,385] Trial 105 finished with value: 0.3599074615510331 and parameters: {'lambda_l1': 0.005668483515513713, 'lambda_l2': 1.3852153882065376e-06, 'num_leaves': 80, 'feature_fraction': 0.5356109161764376, 'bagging_fraction': 0.8814110181628546, 'bagging_freq': 1, 'min_child_samples': 58}. Best is trial 13 with value: 0.3643421193421892.\n",
      "/tmp/ipykernel_1676490/4150719641.py:86: ExperimentalWarning:\n",
      "\n",
      "upload_artifact is experimental (supported from v3.3.0). The interface can change in the future.\n",
      "\n",
      "/tmp/ipykernel_1676490/4150719641.py:94: ExperimentalWarning:\n",
      "\n",
      "upload_artifact is experimental (supported from v3.3.0). The interface can change in the future.\n",
      "\n",
      "[I 2024-08-02 13:05:42,717] Trial 106 finished with value: 0.35265484432605126 and parameters: {'lambda_l1': 0.00028682762739473216, 'lambda_l2': 3.276011997710762e-07, 'num_leaves': 108, 'feature_fraction': 0.7091108613422193, 'bagging_fraction': 0.743651936326243, 'bagging_freq': 2, 'min_child_samples': 92}. Best is trial 13 with value: 0.3643421193421892.\n",
      "/tmp/ipykernel_1676490/4150719641.py:86: ExperimentalWarning:\n",
      "\n",
      "upload_artifact is experimental (supported from v3.3.0). The interface can change in the future.\n",
      "\n",
      "/tmp/ipykernel_1676490/4150719641.py:94: ExperimentalWarning:\n",
      "\n",
      "upload_artifact is experimental (supported from v3.3.0). The interface can change in the future.\n",
      "\n",
      "[I 2024-08-02 13:05:45,966] Trial 107 finished with value: 0.33662843761061023 and parameters: {'lambda_l1': 6.304940509861137e-05, 'lambda_l2': 1.1549058462870313e-05, 'num_leaves': 4, 'feature_fraction': 0.5129408467183769, 'bagging_fraction': 0.9647489487791445, 'bagging_freq': 3, 'min_child_samples': 34}. Best is trial 13 with value: 0.3643421193421892.\n",
      "/tmp/ipykernel_1676490/4150719641.py:86: ExperimentalWarning:\n",
      "\n",
      "upload_artifact is experimental (supported from v3.3.0). The interface can change in the future.\n",
      "\n",
      "/tmp/ipykernel_1676490/4150719641.py:94: ExperimentalWarning:\n",
      "\n",
      "upload_artifact is experimental (supported from v3.3.0). The interface can change in the future.\n",
      "\n",
      "[I 2024-08-02 13:05:49,738] Trial 108 finished with value: 0.3574403278031598 and parameters: {'lambda_l1': 0.008507232550847376, 'lambda_l2': 0.016523910247637278, 'num_leaves': 217, 'feature_fraction': 0.5547146296926204, 'bagging_fraction': 0.7959625964099393, 'bagging_freq': 2, 'min_child_samples': 94}. Best is trial 13 with value: 0.3643421193421892.\n",
      "/tmp/ipykernel_1676490/4150719641.py:86: ExperimentalWarning:\n",
      "\n",
      "upload_artifact is experimental (supported from v3.3.0). The interface can change in the future.\n",
      "\n",
      "/tmp/ipykernel_1676490/4150719641.py:94: ExperimentalWarning:\n",
      "\n",
      "upload_artifact is experimental (supported from v3.3.0). The interface can change in the future.\n",
      "\n",
      "[I 2024-08-02 13:05:52,190] Trial 109 finished with value: 0.35068512080039416 and parameters: {'lambda_l1': 0.002317562379116, 'lambda_l2': 3.0311286731691885e-05, 'num_leaves': 23, 'feature_fraction': 0.7840388928041295, 'bagging_fraction': 0.6213738574720706, 'bagging_freq': 1, 'min_child_samples': 96}. Best is trial 13 with value: 0.3643421193421892.\n",
      "/tmp/ipykernel_1676490/4150719641.py:86: ExperimentalWarning:\n",
      "\n",
      "upload_artifact is experimental (supported from v3.3.0). The interface can change in the future.\n",
      "\n",
      "/tmp/ipykernel_1676490/4150719641.py:94: ExperimentalWarning:\n",
      "\n",
      "upload_artifact is experimental (supported from v3.3.0). The interface can change in the future.\n",
      "\n",
      "[I 2024-08-02 13:05:57,669] Trial 110 finished with value: 0.3553257965855758 and parameters: {'lambda_l1': 0.00013740397960376543, 'lambda_l2': 2.627169541804597e-06, 'num_leaves': 206, 'feature_fraction': 0.5750667240746375, 'bagging_fraction': 0.7680340792033183, 'bagging_freq': 3, 'min_child_samples': 89}. Best is trial 13 with value: 0.3643421193421892.\n",
      "/tmp/ipykernel_1676490/4150719641.py:86: ExperimentalWarning:\n",
      "\n",
      "upload_artifact is experimental (supported from v3.3.0). The interface can change in the future.\n",
      "\n",
      "/tmp/ipykernel_1676490/4150719641.py:94: ExperimentalWarning:\n",
      "\n",
      "upload_artifact is experimental (supported from v3.3.0). The interface can change in the future.\n",
      "\n",
      "[I 2024-08-02 13:06:06,039] Trial 111 finished with value: 0.35021747999688946 and parameters: {'lambda_l1': 0.005907656672185359, 'lambda_l2': 1.6238944169390145e-06, 'num_leaves': 184, 'feature_fraction': 0.5368571247902841, 'bagging_fraction': 0.836276781346725, 'bagging_freq': 1, 'min_child_samples': 15}. Best is trial 13 with value: 0.3643421193421892.\n",
      "/tmp/ipykernel_1676490/4150719641.py:86: ExperimentalWarning:\n",
      "\n",
      "upload_artifact is experimental (supported from v3.3.0). The interface can change in the future.\n",
      "\n",
      "/tmp/ipykernel_1676490/4150719641.py:94: ExperimentalWarning:\n",
      "\n",
      "upload_artifact is experimental (supported from v3.3.0). The interface can change in the future.\n",
      "\n",
      "[I 2024-08-02 13:06:10,959] Trial 112 finished with value: 0.35044436022799896 and parameters: {'lambda_l1': 0.016909153385069247, 'lambda_l2': 6.35436651631194e-07, 'num_leaves': 77, 'feature_fraction': 0.49285190666884254, 'bagging_fraction': 0.8759042433740525, 'bagging_freq': 1, 'min_child_samples': 51}. Best is trial 13 with value: 0.3643421193421892.\n",
      "/tmp/ipykernel_1676490/4150719641.py:86: ExperimentalWarning:\n",
      "\n",
      "upload_artifact is experimental (supported from v3.3.0). The interface can change in the future.\n",
      "\n",
      "/tmp/ipykernel_1676490/4150719641.py:94: ExperimentalWarning:\n",
      "\n",
      "upload_artifact is experimental (supported from v3.3.0). The interface can change in the future.\n",
      "\n",
      "[I 2024-08-02 13:06:16,111] Trial 113 finished with value: 0.3518989771695187 and parameters: {'lambda_l1': 0.004967174002811998, 'lambda_l2': 5.547334033285854e-06, 'num_leaves': 82, 'feature_fraction': 0.8596435978902436, 'bagging_fraction': 0.8840440728375717, 'bagging_freq': 6, 'min_child_samples': 91}. Best is trial 13 with value: 0.3643421193421892.\n",
      "/tmp/ipykernel_1676490/4150719641.py:86: ExperimentalWarning:\n",
      "\n",
      "upload_artifact is experimental (supported from v3.3.0). The interface can change in the future.\n",
      "\n",
      "/tmp/ipykernel_1676490/4150719641.py:94: ExperimentalWarning:\n",
      "\n",
      "upload_artifact is experimental (supported from v3.3.0). The interface can change in the future.\n",
      "\n",
      "[I 2024-08-02 13:06:20,533] Trial 114 finished with value: 0.35671916978438684 and parameters: {'lambda_l1': 0.0005884462889119132, 'lambda_l2': 1.059420933941987e-06, 'num_leaves': 194, 'feature_fraction': 0.5195830406891182, 'bagging_fraction': 0.5893082705229218, 'bagging_freq': 1, 'min_child_samples': 56}. Best is trial 13 with value: 0.3643421193421892.\n",
      "/tmp/ipykernel_1676490/4150719641.py:86: ExperimentalWarning:\n",
      "\n",
      "upload_artifact is experimental (supported from v3.3.0). The interface can change in the future.\n",
      "\n",
      "/tmp/ipykernel_1676490/4150719641.py:94: ExperimentalWarning:\n",
      "\n",
      "upload_artifact is experimental (supported from v3.3.0). The interface can change in the future.\n",
      "\n",
      "[I 2024-08-02 13:06:24,902] Trial 115 finished with value: 0.35129111503086097 and parameters: {'lambda_l1': 0.0013156553955640912, 'lambda_l2': 3.3500589399906835e-06, 'num_leaves': 89, 'feature_fraction': 0.5424551041272302, 'bagging_fraction': 0.932215643485176, 'bagging_freq': 1, 'min_child_samples': 45}. Best is trial 13 with value: 0.3643421193421892.\n",
      "/tmp/ipykernel_1676490/4150719641.py:86: ExperimentalWarning:\n",
      "\n",
      "upload_artifact is experimental (supported from v3.3.0). The interface can change in the future.\n",
      "\n",
      "/tmp/ipykernel_1676490/4150719641.py:94: ExperimentalWarning:\n",
      "\n",
      "upload_artifact is experimental (supported from v3.3.0). The interface can change in the future.\n",
      "\n",
      "[I 2024-08-02 13:06:29,193] Trial 116 finished with value: 0.35857819137825864 and parameters: {'lambda_l1': 0.04067174328357799, 'lambda_l2': 1.9904494501097992e-05, 'num_leaves': 52, 'feature_fraction': 0.5041927772772314, 'bagging_fraction': 0.661851714452645, 'bagging_freq': 1, 'min_child_samples': 62}. Best is trial 13 with value: 0.3643421193421892.\n",
      "/tmp/ipykernel_1676490/4150719641.py:86: ExperimentalWarning:\n",
      "\n",
      "upload_artifact is experimental (supported from v3.3.0). The interface can change in the future.\n",
      "\n",
      "/tmp/ipykernel_1676490/4150719641.py:94: ExperimentalWarning:\n",
      "\n",
      "upload_artifact is experimental (supported from v3.3.0). The interface can change in the future.\n",
      "\n",
      "[I 2024-08-02 13:06:32,854] Trial 117 finished with value: 0.3572899592044213 and parameters: {'lambda_l1': 0.08283339476729268, 'lambda_l2': 0.0025503581126710036, 'num_leaves': 176, 'feature_fraction': 0.47466856694697357, 'bagging_fraction': 0.6353788256178241, 'bagging_freq': 2, 'min_child_samples': 48}. Best is trial 13 with value: 0.3643421193421892.\n",
      "/tmp/ipykernel_1676490/4150719641.py:86: ExperimentalWarning:\n",
      "\n",
      "upload_artifact is experimental (supported from v3.3.0). The interface can change in the future.\n",
      "\n",
      "/tmp/ipykernel_1676490/4150719641.py:94: ExperimentalWarning:\n",
      "\n",
      "upload_artifact is experimental (supported from v3.3.0). The interface can change in the future.\n",
      "\n",
      "[I 2024-08-02 13:06:36,333] Trial 118 finished with value: 0.35466531576742405 and parameters: {'lambda_l1': 0.021136353760750008, 'lambda_l2': 1.6879910932699683e-07, 'num_leaves': 63, 'feature_fraction': 0.5568091148110268, 'bagging_fraction': 0.6846648138915641, 'bagging_freq': 2, 'min_child_samples': 58}. Best is trial 13 with value: 0.3643421193421892.\n",
      "/tmp/ipykernel_1676490/4150719641.py:86: ExperimentalWarning:\n",
      "\n",
      "upload_artifact is experimental (supported from v3.3.0). The interface can change in the future.\n",
      "\n",
      "/tmp/ipykernel_1676490/4150719641.py:94: ExperimentalWarning:\n",
      "\n",
      "upload_artifact is experimental (supported from v3.3.0). The interface can change in the future.\n",
      "\n",
      "[I 2024-08-02 13:06:40,312] Trial 119 finished with value: 0.3564635557965534 and parameters: {'lambda_l1': 0.008735037900373702, 'lambda_l2': 0.00547383000247145, 'num_leaves': 103, 'feature_fraction': 0.5352691446931818, 'bagging_fraction': 0.9734453186550189, 'bagging_freq': 2, 'min_child_samples': 86}. Best is trial 13 with value: 0.3643421193421892.\n",
      "/tmp/ipykernel_1676490/4150719641.py:86: ExperimentalWarning:\n",
      "\n",
      "upload_artifact is experimental (supported from v3.3.0). The interface can change in the future.\n",
      "\n",
      "/tmp/ipykernel_1676490/4150719641.py:94: ExperimentalWarning:\n",
      "\n",
      "upload_artifact is experimental (supported from v3.3.0). The interface can change in the future.\n",
      "\n",
      "[I 2024-08-02 13:06:43,528] Trial 120 finished with value: 0.3489350842134276 and parameters: {'lambda_l1': 5.43221223866118e-08, 'lambda_l2': 3.411866969201382e-08, 'num_leaves': 75, 'feature_fraction': 0.6620572462096234, 'bagging_fraction': 0.6530438272902912, 'bagging_freq': 5, 'min_child_samples': 59}. Best is trial 13 with value: 0.3643421193421892.\n",
      "/tmp/ipykernel_1676490/4150719641.py:86: ExperimentalWarning:\n",
      "\n",
      "upload_artifact is experimental (supported from v3.3.0). The interface can change in the future.\n",
      "\n",
      "/tmp/ipykernel_1676490/4150719641.py:94: ExperimentalWarning:\n",
      "\n",
      "upload_artifact is experimental (supported from v3.3.0). The interface can change in the future.\n",
      "\n",
      "[I 2024-08-02 13:06:46,845] Trial 121 finished with value: 0.3534432513494964 and parameters: {'lambda_l1': 2.5906949842721114, 'lambda_l2': 0.7557821882932636, 'num_leaves': 132, 'feature_fraction': 0.512315332236068, 'bagging_fraction': 0.8233112028736463, 'bagging_freq': 2, 'min_child_samples': 65}. Best is trial 13 with value: 0.3643421193421892.\n",
      "/tmp/ipykernel_1676490/4150719641.py:86: ExperimentalWarning:\n",
      "\n",
      "upload_artifact is experimental (supported from v3.3.0). The interface can change in the future.\n",
      "\n",
      "/tmp/ipykernel_1676490/4150719641.py:94: ExperimentalWarning:\n",
      "\n",
      "upload_artifact is experimental (supported from v3.3.0). The interface can change in the future.\n",
      "\n",
      "[I 2024-08-02 13:06:50,468] Trial 122 finished with value: 0.3513800741451024 and parameters: {'lambda_l1': 0.000928979505430539, 'lambda_l2': 0.1471354583014046, 'num_leaves': 127, 'feature_fraction': 0.48388516005256793, 'bagging_fraction': 0.8380810038626549, 'bagging_freq': 1, 'min_child_samples': 79}. Best is trial 13 with value: 0.3643421193421892.\n",
      "/tmp/ipykernel_1676490/4150719641.py:86: ExperimentalWarning:\n",
      "\n",
      "upload_artifact is experimental (supported from v3.3.0). The interface can change in the future.\n",
      "\n",
      "/tmp/ipykernel_1676490/4150719641.py:94: ExperimentalWarning:\n",
      "\n",
      "upload_artifact is experimental (supported from v3.3.0). The interface can change in the future.\n",
      "\n",
      "[I 2024-08-02 13:06:54,735] Trial 123 finished with value: 0.3516529908733489 and parameters: {'lambda_l1': 2.5503832436644473e-05, 'lambda_l2': 2.9808887077825967, 'num_leaves': 199, 'feature_fraction': 0.49008277303488823, 'bagging_fraction': 0.9972708343681572, 'bagging_freq': 2, 'min_child_samples': 84}. Best is trial 13 with value: 0.3643421193421892.\n",
      "/tmp/ipykernel_1676490/4150719641.py:86: ExperimentalWarning:\n",
      "\n",
      "upload_artifact is experimental (supported from v3.3.0). The interface can change in the future.\n",
      "\n",
      "/tmp/ipykernel_1676490/4150719641.py:94: ExperimentalWarning:\n",
      "\n",
      "upload_artifact is experimental (supported from v3.3.0). The interface can change in the future.\n",
      "\n",
      "[I 2024-08-02 13:06:59,405] Trial 124 finished with value: 0.35280325065858037 and parameters: {'lambda_l1': 1.4440517379422484e-06, 'lambda_l2': 0.03971553348348345, 'num_leaves': 189, 'feature_fraction': 0.46231829166971466, 'bagging_fraction': 0.8128229377920926, 'bagging_freq': 2, 'min_child_samples': 81}. Best is trial 13 with value: 0.3643421193421892.\n",
      "/tmp/ipykernel_1676490/4150719641.py:86: ExperimentalWarning:\n",
      "\n",
      "upload_artifact is experimental (supported from v3.3.0). The interface can change in the future.\n",
      "\n",
      "/tmp/ipykernel_1676490/4150719641.py:94: ExperimentalWarning:\n",
      "\n",
      "upload_artifact is experimental (supported from v3.3.0). The interface can change in the future.\n",
      "\n",
      "[I 2024-08-02 13:07:03,417] Trial 125 finished with value: 0.3622998535199094 and parameters: {'lambda_l1': 0.0003804996451106522, 'lambda_l2': 7.702245678961465e-06, 'num_leaves': 71, 'feature_fraction': 0.5213093705197287, 'bagging_fraction': 0.8040244259803675, 'bagging_freq': 2, 'min_child_samples': 88}. Best is trial 13 with value: 0.3643421193421892.\n",
      "/tmp/ipykernel_1676490/4150719641.py:86: ExperimentalWarning:\n",
      "\n",
      "upload_artifact is experimental (supported from v3.3.0). The interface can change in the future.\n",
      "\n",
      "/tmp/ipykernel_1676490/4150719641.py:94: ExperimentalWarning:\n",
      "\n",
      "upload_artifact is experimental (supported from v3.3.0). The interface can change in the future.\n",
      "\n",
      "[I 2024-08-02 13:07:06,863] Trial 126 finished with value: 0.354216577705289 and parameters: {'lambda_l1': 0.0003486359257291182, 'lambda_l2': 1.4565052804964062e-06, 'num_leaves': 71, 'feature_fraction': 0.5670669038635716, 'bagging_fraction': 0.7857307505863167, 'bagging_freq': 3, 'min_child_samples': 88}. Best is trial 13 with value: 0.3643421193421892.\n",
      "/tmp/ipykernel_1676490/4150719641.py:86: ExperimentalWarning:\n",
      "\n",
      "upload_artifact is experimental (supported from v3.3.0). The interface can change in the future.\n",
      "\n",
      "/tmp/ipykernel_1676490/4150719641.py:94: ExperimentalWarning:\n",
      "\n",
      "upload_artifact is experimental (supported from v3.3.0). The interface can change in the future.\n",
      "\n",
      "[I 2024-08-02 13:07:09,810] Trial 127 finished with value: 0.3495994551110754 and parameters: {'lambda_l1': 0.0018570575108675185, 'lambda_l2': 8.786508819686629e-06, 'num_leaves': 63, 'feature_fraction': 0.9892049878903573, 'bagging_fraction': 0.8546361213494414, 'bagging_freq': 1, 'min_child_samples': 98}. Best is trial 13 with value: 0.3643421193421892.\n",
      "/tmp/ipykernel_1676490/4150719641.py:86: ExperimentalWarning:\n",
      "\n",
      "upload_artifact is experimental (supported from v3.3.0). The interface can change in the future.\n",
      "\n",
      "/tmp/ipykernel_1676490/4150719641.py:94: ExperimentalWarning:\n",
      "\n",
      "upload_artifact is experimental (supported from v3.3.0). The interface can change in the future.\n",
      "\n",
      "[I 2024-08-02 13:07:13,439] Trial 128 finished with value: 0.3535549979712868 and parameters: {'lambda_l1': 0.003033284980055374, 'lambda_l2': 3.830218720504313e-06, 'num_leaves': 84, 'feature_fraction': 0.5266092731216384, 'bagging_fraction': 0.8626395001078593, 'bagging_freq': 2, 'min_child_samples': 94}. Best is trial 13 with value: 0.3643421193421892.\n",
      "/tmp/ipykernel_1676490/4150719641.py:86: ExperimentalWarning:\n",
      "\n",
      "upload_artifact is experimental (supported from v3.3.0). The interface can change in the future.\n",
      "\n",
      "/tmp/ipykernel_1676490/4150719641.py:94: ExperimentalWarning:\n",
      "\n",
      "upload_artifact is experimental (supported from v3.3.0). The interface can change in the future.\n",
      "\n",
      "[I 2024-08-02 13:07:17,820] Trial 129 finished with value: 0.35161971530540864 and parameters: {'lambda_l1': 0.0006385163304108638, 'lambda_l2': 8.726208006611883e-05, 'num_leaves': 99, 'feature_fraction': 0.5933299339179391, 'bagging_fraction': 0.6969155980891419, 'bagging_freq': 3, 'min_child_samples': 91}. Best is trial 13 with value: 0.3643421193421892.\n",
      "/tmp/ipykernel_1676490/4150719641.py:86: ExperimentalWarning:\n",
      "\n",
      "upload_artifact is experimental (supported from v3.3.0). The interface can change in the future.\n",
      "\n",
      "/tmp/ipykernel_1676490/4150719641.py:94: ExperimentalWarning:\n",
      "\n",
      "upload_artifact is experimental (supported from v3.3.0). The interface can change in the future.\n",
      "\n",
      "[I 2024-08-02 13:07:21,721] Trial 130 finished with value: 0.3510328702472812 and parameters: {'lambda_l1': 0.011368035674114275, 'lambda_l2': 4.1757387193968894e-07, 'num_leaves': 58, 'feature_fraction': 0.5452941295462869, 'bagging_fraction': 0.6169572642968958, 'bagging_freq': 1, 'min_child_samples': 87}. Best is trial 13 with value: 0.3643421193421892.\n",
      "/tmp/ipykernel_1676490/4150719641.py:86: ExperimentalWarning:\n",
      "\n",
      "upload_artifact is experimental (supported from v3.3.0). The interface can change in the future.\n",
      "\n",
      "/tmp/ipykernel_1676490/4150719641.py:94: ExperimentalWarning:\n",
      "\n",
      "upload_artifact is experimental (supported from v3.3.0). The interface can change in the future.\n",
      "\n",
      "[I 2024-08-02 13:07:25,775] Trial 131 finished with value: 0.35845599350636415 and parameters: {'lambda_l1': 0.000350374910128807, 'lambda_l2': 0.00019807805920161534, 'num_leaves': 80, 'feature_fraction': 0.49958003695236686, 'bagging_fraction': 0.8042347791557635, 'bagging_freq': 2, 'min_child_samples': 75}. Best is trial 13 with value: 0.3643421193421892.\n",
      "/tmp/ipykernel_1676490/4150719641.py:86: ExperimentalWarning:\n",
      "\n",
      "upload_artifact is experimental (supported from v3.3.0). The interface can change in the future.\n",
      "\n",
      "/tmp/ipykernel_1676490/4150719641.py:94: ExperimentalWarning:\n",
      "\n",
      "upload_artifact is experimental (supported from v3.3.0). The interface can change in the future.\n",
      "\n",
      "[I 2024-08-02 13:07:29,458] Trial 132 finished with value: 0.3621831016230721 and parameters: {'lambda_l1': 0.004173358382862363, 'lambda_l2': 0.0005931635122455391, 'num_leaves': 151, 'feature_fraction': 0.5176193856138691, 'bagging_fraction': 0.719086434262469, 'bagging_freq': 2, 'min_child_samples': 84}. Best is trial 13 with value: 0.3643421193421892.\n",
      "/tmp/ipykernel_1676490/4150719641.py:86: ExperimentalWarning:\n",
      "\n",
      "upload_artifact is experimental (supported from v3.3.0). The interface can change in the future.\n",
      "\n",
      "/tmp/ipykernel_1676490/4150719641.py:94: ExperimentalWarning:\n",
      "\n",
      "upload_artifact is experimental (supported from v3.3.0). The interface can change in the future.\n",
      "\n",
      "[I 2024-08-02 13:07:33,273] Trial 133 finished with value: 0.3604776429021984 and parameters: {'lambda_l1': 3.8298520811538595e-07, 'lambda_l2': 0.0014810469941667688, 'num_leaves': 49, 'feature_fraction': 0.5155021487180994, 'bagging_fraction': 0.8457190282490146, 'bagging_freq': 2, 'min_child_samples': 90}. Best is trial 13 with value: 0.3643421193421892.\n",
      "/tmp/ipykernel_1676490/4150719641.py:86: ExperimentalWarning:\n",
      "\n",
      "upload_artifact is experimental (supported from v3.3.0). The interface can change in the future.\n",
      "\n",
      "/tmp/ipykernel_1676490/4150719641.py:94: ExperimentalWarning:\n",
      "\n",
      "upload_artifact is experimental (supported from v3.3.0). The interface can change in the future.\n",
      "\n",
      "[I 2024-08-02 13:07:37,157] Trial 134 finished with value: 0.35601292182890226 and parameters: {'lambda_l1': 2.8480725229939518e-08, 'lambda_l2': 0.001382182013213775, 'num_leaves': 51, 'feature_fraction': 0.5149754408837496, 'bagging_fraction': 0.8311030197192354, 'bagging_freq': 2, 'min_child_samples': 90}. Best is trial 13 with value: 0.3643421193421892.\n",
      "/tmp/ipykernel_1676490/4150719641.py:86: ExperimentalWarning:\n",
      "\n",
      "upload_artifact is experimental (supported from v3.3.0). The interface can change in the future.\n",
      "\n",
      "/tmp/ipykernel_1676490/4150719641.py:94: ExperimentalWarning:\n",
      "\n",
      "upload_artifact is experimental (supported from v3.3.0). The interface can change in the future.\n",
      "\n",
      "[I 2024-08-02 13:07:40,689] Trial 135 finished with value: 0.3565614620849306 and parameters: {'lambda_l1': 2.875933208837696e-07, 'lambda_l2': 0.0006012982843091165, 'num_leaves': 44, 'feature_fraction': 0.522143828958801, 'bagging_fraction': 0.7259596296089412, 'bagging_freq': 2, 'min_child_samples': 84}. Best is trial 13 with value: 0.3643421193421892.\n",
      "/tmp/ipykernel_1676490/4150719641.py:86: ExperimentalWarning:\n",
      "\n",
      "upload_artifact is experimental (supported from v3.3.0). The interface can change in the future.\n",
      "\n",
      "/tmp/ipykernel_1676490/4150719641.py:94: ExperimentalWarning:\n",
      "\n",
      "upload_artifact is experimental (supported from v3.3.0). The interface can change in the future.\n",
      "\n",
      "[I 2024-08-02 13:07:44,136] Trial 136 finished with value: 0.35442451799404684 and parameters: {'lambda_l1': 5.434016161244365e-06, 'lambda_l2': 0.0019938445852582397, 'num_leaves': 152, 'feature_fraction': 0.5022084691978845, 'bagging_fraction': 0.8472301830572554, 'bagging_freq': 2, 'min_child_samples': 95}. Best is trial 13 with value: 0.3643421193421892.\n",
      "/tmp/ipykernel_1676490/4150719641.py:86: ExperimentalWarning:\n",
      "\n",
      "upload_artifact is experimental (supported from v3.3.0). The interface can change in the future.\n",
      "\n",
      "/tmp/ipykernel_1676490/4150719641.py:94: ExperimentalWarning:\n",
      "\n",
      "upload_artifact is experimental (supported from v3.3.0). The interface can change in the future.\n",
      "\n",
      "[I 2024-08-02 13:07:47,767] Trial 137 finished with value: 0.35248138878692525 and parameters: {'lambda_l1': 5.202677057610431e-08, 'lambda_l2': 0.003271322224976941, 'num_leaves': 33, 'feature_fraction': 0.47761118867222974, 'bagging_fraction': 0.710859260300689, 'bagging_freq': 2, 'min_child_samples': 92}. Best is trial 13 with value: 0.3643421193421892.\n",
      "/tmp/ipykernel_1676490/4150719641.py:86: ExperimentalWarning:\n",
      "\n",
      "upload_artifact is experimental (supported from v3.3.0). The interface can change in the future.\n",
      "\n",
      "/tmp/ipykernel_1676490/4150719641.py:94: ExperimentalWarning:\n",
      "\n",
      "upload_artifact is experimental (supported from v3.3.0). The interface can change in the future.\n",
      "\n",
      "[I 2024-08-02 13:07:51,062] Trial 138 finished with value: 0.361593271542576 and parameters: {'lambda_l1': 7.494433790552107e-07, 'lambda_l2': 0.007983531820413307, 'num_leaves': 171, 'feature_fraction': 0.5489680173563712, 'bagging_fraction': 0.6697160341285335, 'bagging_freq': 2, 'min_child_samples': 86}. Best is trial 13 with value: 0.3643421193421892.\n",
      "/tmp/ipykernel_1676490/4150719641.py:86: ExperimentalWarning:\n",
      "\n",
      "upload_artifact is experimental (supported from v3.3.0). The interface can change in the future.\n",
      "\n",
      "/tmp/ipykernel_1676490/4150719641.py:94: ExperimentalWarning:\n",
      "\n",
      "upload_artifact is experimental (supported from v3.3.0). The interface can change in the future.\n",
      "\n",
      "[I 2024-08-02 13:07:54,168] Trial 139 finished with value: 0.34828836068955243 and parameters: {'lambda_l1': 8.593626141772602e-07, 'lambda_l2': 0.013651073418017481, 'num_leaves': 168, 'feature_fraction': 0.5576700326382397, 'bagging_fraction': 0.6420175973547817, 'bagging_freq': 3, 'min_child_samples': 87}. Best is trial 13 with value: 0.3643421193421892.\n",
      "/tmp/ipykernel_1676490/4150719641.py:86: ExperimentalWarning:\n",
      "\n",
      "upload_artifact is experimental (supported from v3.3.0). The interface can change in the future.\n",
      "\n",
      "/tmp/ipykernel_1676490/4150719641.py:94: ExperimentalWarning:\n",
      "\n",
      "upload_artifact is experimental (supported from v3.3.0). The interface can change in the future.\n",
      "\n",
      "[I 2024-08-02 13:07:57,561] Trial 140 finished with value: 0.3469030144736496 and parameters: {'lambda_l1': 1.841379808984601e-08, 'lambda_l2': 0.008500602933879279, 'num_leaves': 157, 'feature_fraction': 0.5790613975100164, 'bagging_fraction': 0.6819296048135299, 'bagging_freq': 2, 'min_child_samples': 85}. Best is trial 13 with value: 0.3643421193421892.\n",
      "/tmp/ipykernel_1676490/4150719641.py:86: ExperimentalWarning:\n",
      "\n",
      "upload_artifact is experimental (supported from v3.3.0). The interface can change in the future.\n",
      "\n",
      "/tmp/ipykernel_1676490/4150719641.py:94: ExperimentalWarning:\n",
      "\n",
      "upload_artifact is experimental (supported from v3.3.0). The interface can change in the future.\n",
      "\n",
      "[I 2024-08-02 13:08:01,260] Trial 141 finished with value: 0.35818852188555284 and parameters: {'lambda_l1': 2.2528170203072405e-07, 'lambda_l2': 0.006468227682419964, 'num_leaves': 173, 'feature_fraction': 0.5479219190016263, 'bagging_fraction': 0.6621470106488379, 'bagging_freq': 2, 'min_child_samples': 90}. Best is trial 13 with value: 0.3643421193421892.\n",
      "/tmp/ipykernel_1676490/4150719641.py:86: ExperimentalWarning:\n",
      "\n",
      "upload_artifact is experimental (supported from v3.3.0). The interface can change in the future.\n",
      "\n",
      "/tmp/ipykernel_1676490/4150719641.py:94: ExperimentalWarning:\n",
      "\n",
      "upload_artifact is experimental (supported from v3.3.0). The interface can change in the future.\n",
      "\n",
      "[I 2024-08-02 13:08:05,076] Trial 142 finished with value: 0.3623904092343262 and parameters: {'lambda_l1': 1.1519149443864511e-07, 'lambda_l2': 0.0007089879303258555, 'num_leaves': 162, 'feature_fraction': 0.5294059885922366, 'bagging_fraction': 0.6023676024218758, 'bagging_freq': 2, 'min_child_samples': 88}. Best is trial 13 with value: 0.3643421193421892.\n",
      "/tmp/ipykernel_1676490/4150719641.py:86: ExperimentalWarning:\n",
      "\n",
      "upload_artifact is experimental (supported from v3.3.0). The interface can change in the future.\n",
      "\n",
      "/tmp/ipykernel_1676490/4150719641.py:94: ExperimentalWarning:\n",
      "\n",
      "upload_artifact is experimental (supported from v3.3.0). The interface can change in the future.\n",
      "\n",
      "[I 2024-08-02 13:08:11,918] Trial 143 finished with value: 0.35666831393946025 and parameters: {'lambda_l1': 1.124118370288018e-07, 'lambda_l2': 0.029918060700669335, 'num_leaves': 162, 'feature_fraction': 0.5318360653730024, 'bagging_fraction': 0.6715609784183489, 'bagging_freq': 2, 'min_child_samples': 96}. Best is trial 13 with value: 0.3643421193421892.\n",
      "/tmp/ipykernel_1676490/4150719641.py:86: ExperimentalWarning:\n",
      "\n",
      "upload_artifact is experimental (supported from v3.3.0). The interface can change in the future.\n",
      "\n",
      "/tmp/ipykernel_1676490/4150719641.py:94: ExperimentalWarning:\n",
      "\n",
      "upload_artifact is experimental (supported from v3.3.0). The interface can change in the future.\n",
      "\n",
      "[I 2024-08-02 13:08:17,904] Trial 144 finished with value: 0.3519685131906618 and parameters: {'lambda_l1': 0.0010816824758842587, 'lambda_l2': 0.001035801117793045, 'num_leaves': 184, 'feature_fraction': 0.5662405713056433, 'bagging_fraction': 0.5605442377070343, 'bagging_freq': 2, 'min_child_samples': 83}. Best is trial 13 with value: 0.3643421193421892.\n",
      "/tmp/ipykernel_1676490/4150719641.py:86: ExperimentalWarning:\n",
      "\n",
      "upload_artifact is experimental (supported from v3.3.0). The interface can change in the future.\n",
      "\n",
      "/tmp/ipykernel_1676490/4150719641.py:94: ExperimentalWarning:\n",
      "\n",
      "upload_artifact is experimental (supported from v3.3.0). The interface can change in the future.\n",
      "\n",
      "[I 2024-08-02 13:08:23,531] Trial 145 finished with value: 0.3491216153760246 and parameters: {'lambda_l1': 7.38990109557269e-08, 'lambda_l2': 0.00023788040712625287, 'num_leaves': 142, 'feature_fraction': 0.540714870560055, 'bagging_fraction': 0.649955090543755, 'bagging_freq': 3, 'min_child_samples': 88}. Best is trial 13 with value: 0.3643421193421892.\n",
      "/tmp/ipykernel_1676490/4150719641.py:86: ExperimentalWarning:\n",
      "\n",
      "upload_artifact is experimental (supported from v3.3.0). The interface can change in the future.\n",
      "\n",
      "/tmp/ipykernel_1676490/4150719641.py:94: ExperimentalWarning:\n",
      "\n",
      "upload_artifact is experimental (supported from v3.3.0). The interface can change in the future.\n",
      "\n",
      "[I 2024-08-02 13:08:28,867] Trial 146 finished with value: 0.3548877861732689 and parameters: {'lambda_l1': 1.842552646785512e-08, 'lambda_l2': 0.00038151949021993147, 'num_leaves': 147, 'feature_fraction': 0.5067815756519816, 'bagging_fraction': 0.6057687865975948, 'bagging_freq': 2, 'min_child_samples': 93}. Best is trial 13 with value: 0.3643421193421892.\n",
      "/tmp/ipykernel_1676490/4150719641.py:86: ExperimentalWarning:\n",
      "\n",
      "upload_artifact is experimental (supported from v3.3.0). The interface can change in the future.\n",
      "\n",
      "/tmp/ipykernel_1676490/4150719641.py:94: ExperimentalWarning:\n",
      "\n",
      "upload_artifact is experimental (supported from v3.3.0). The interface can change in the future.\n",
      "\n",
      "[I 2024-08-02 13:08:36,485] Trial 147 finished with value: 0.36006819506245624 and parameters: {'lambda_l1': 1.313863214653972e-07, 'lambda_l2': 2.6549191246056765e-06, 'num_leaves': 168, 'feature_fraction': 0.5254160872434461, 'bagging_fraction': 0.6971247750240916, 'bagging_freq': 2, 'min_child_samples': 86}. Best is trial 13 with value: 0.3643421193421892.\n",
      "/tmp/ipykernel_1676490/4150719641.py:86: ExperimentalWarning:\n",
      "\n",
      "upload_artifact is experimental (supported from v3.3.0). The interface can change in the future.\n",
      "\n",
      "/tmp/ipykernel_1676490/4150719641.py:94: ExperimentalWarning:\n",
      "\n",
      "upload_artifact is experimental (supported from v3.3.0). The interface can change in the future.\n",
      "\n",
      "[I 2024-08-02 13:08:40,399] Trial 148 finished with value: 0.3581836223020989 and parameters: {'lambda_l1': 0.003285109689510838, 'lambda_l2': 0.004776784770028898, 'num_leaves': 178, 'feature_fraction': 0.49403483976769236, 'bagging_fraction': 0.5905066142033666, 'bagging_freq': 2, 'min_child_samples': 81}. Best is trial 13 with value: 0.3643421193421892.\n",
      "/tmp/ipykernel_1676490/4150719641.py:86: ExperimentalWarning:\n",
      "\n",
      "upload_artifact is experimental (supported from v3.3.0). The interface can change in the future.\n",
      "\n",
      "/tmp/ipykernel_1676490/4150719641.py:94: ExperimentalWarning:\n",
      "\n",
      "upload_artifact is experimental (supported from v3.3.0). The interface can change in the future.\n",
      "\n",
      "[I 2024-08-02 13:08:47,733] Trial 149 finished with value: 0.34828235753165165 and parameters: {'lambda_l1': 1.0099242818417601e-08, 'lambda_l2': 0.0006985186417541347, 'num_leaves': 174, 'feature_fraction': 0.5529065362546716, 'bagging_fraction': 0.6243272456220219, 'bagging_freq': 3, 'min_child_samples': 93}. Best is trial 13 with value: 0.3643421193421892.\n",
      "/tmp/ipykernel_1676490/4150719641.py:86: ExperimentalWarning:\n",
      "\n",
      "upload_artifact is experimental (supported from v3.3.0). The interface can change in the future.\n",
      "\n",
      "/tmp/ipykernel_1676490/4150719641.py:94: ExperimentalWarning:\n",
      "\n",
      "upload_artifact is experimental (supported from v3.3.0). The interface can change in the future.\n",
      "\n",
      "[I 2024-08-02 13:08:51,224] Trial 150 finished with value: 0.34869678431089374 and parameters: {'lambda_l1': 0.0020391148573664446, 'lambda_l2': 7.230049196654532e-06, 'num_leaves': 160, 'feature_fraction': 0.5287723163811386, 'bagging_fraction': 0.5725451991968045, 'bagging_freq': 3, 'min_child_samples': 100}. Best is trial 13 with value: 0.3643421193421892.\n",
      "/tmp/ipykernel_1676490/4150719641.py:86: ExperimentalWarning:\n",
      "\n",
      "upload_artifact is experimental (supported from v3.3.0). The interface can change in the future.\n",
      "\n",
      "/tmp/ipykernel_1676490/4150719641.py:94: ExperimentalWarning:\n",
      "\n",
      "upload_artifact is experimental (supported from v3.3.0). The interface can change in the future.\n",
      "\n",
      "[I 2024-08-02 13:09:11,001] Trial 151 finished with value: 0.3565470280880685 and parameters: {'lambda_l1': 3.774497453259323e-07, 'lambda_l2': 0.0016749500950184568, 'num_leaves': 181, 'feature_fraction': 0.5148692062763627, 'bagging_fraction': 0.8420086216161571, 'bagging_freq': 2, 'min_child_samples': 89}. Best is trial 13 with value: 0.3643421193421892.\n",
      "/tmp/ipykernel_1676490/4150719641.py:86: ExperimentalWarning:\n",
      "\n",
      "upload_artifact is experimental (supported from v3.3.0). The interface can change in the future.\n",
      "\n",
      "/tmp/ipykernel_1676490/4150719641.py:94: ExperimentalWarning:\n",
      "\n",
      "upload_artifact is experimental (supported from v3.3.0). The interface can change in the future.\n",
      "\n",
      "[I 2024-08-02 13:09:29,025] Trial 152 finished with value: 0.3602456703837778 and parameters: {'lambda_l1': 0.00022266492288138912, 'lambda_l2': 0.0012769779654352878, 'num_leaves': 49, 'feature_fraction': 0.5090898876585837, 'bagging_fraction': 0.8211271738780831, 'bagging_freq': 2, 'min_child_samples': 90}. Best is trial 13 with value: 0.3643421193421892.\n",
      "/tmp/ipykernel_1676490/4150719641.py:86: ExperimentalWarning:\n",
      "\n",
      "upload_artifact is experimental (supported from v3.3.0). The interface can change in the future.\n",
      "\n",
      "/tmp/ipykernel_1676490/4150719641.py:94: ExperimentalWarning:\n",
      "\n",
      "upload_artifact is experimental (supported from v3.3.0). The interface can change in the future.\n",
      "\n",
      "[I 2024-08-02 13:09:38,122] Trial 153 finished with value: 0.3559895759249164 and parameters: {'lambda_l1': 1.8366725742830508e-06, 'lambda_l2': 0.0031495403668473964, 'num_leaves': 166, 'feature_fraction': 0.5429048008556457, 'bagging_fraction': 0.8025800792268097, 'bagging_freq': 2, 'min_child_samples': 98}. Best is trial 13 with value: 0.3643421193421892.\n",
      "/tmp/ipykernel_1676490/4150719641.py:86: ExperimentalWarning:\n",
      "\n",
      "upload_artifact is experimental (supported from v3.3.0). The interface can change in the future.\n",
      "\n",
      "/tmp/ipykernel_1676490/4150719641.py:94: ExperimentalWarning:\n",
      "\n",
      "upload_artifact is experimental (supported from v3.3.0). The interface can change in the future.\n",
      "\n",
      "[I 2024-08-02 13:09:47,844] Trial 154 finished with value: 0.35652926176317246 and parameters: {'lambda_l1': 1.8054258427128107e-07, 'lambda_l2': 0.00044814291771904746, 'num_leaves': 37, 'feature_fraction': 0.5181242635602629, 'bagging_fraction': 0.8950998575214223, 'bagging_freq': 2, 'min_child_samples': 92}. Best is trial 13 with value: 0.3643421193421892.\n",
      "/tmp/ipykernel_1676490/4150719641.py:86: ExperimentalWarning:\n",
      "\n",
      "upload_artifact is experimental (supported from v3.3.0). The interface can change in the future.\n",
      "\n",
      "/tmp/ipykernel_1676490/4150719641.py:94: ExperimentalWarning:\n",
      "\n",
      "upload_artifact is experimental (supported from v3.3.0). The interface can change in the future.\n",
      "\n",
      "[I 2024-08-02 13:10:05,696] Trial 155 finished with value: 0.3597092324517407 and parameters: {'lambda_l1': 8.677689342144892e-07, 'lambda_l2': 8.020041786219429e-07, 'num_leaves': 154, 'feature_fraction': 0.4822430271289687, 'bagging_fraction': 0.7752261509416704, 'bagging_freq': 2, 'min_child_samples': 86}. Best is trial 13 with value: 0.3643421193421892.\n",
      "/tmp/ipykernel_1676490/4150719641.py:86: ExperimentalWarning:\n",
      "\n",
      "upload_artifact is experimental (supported from v3.3.0). The interface can change in the future.\n",
      "\n",
      "/tmp/ipykernel_1676490/4150719641.py:94: ExperimentalWarning:\n",
      "\n",
      "upload_artifact is experimental (supported from v3.3.0). The interface can change in the future.\n",
      "\n",
      "[I 2024-08-02 13:10:26,208] Trial 156 finished with value: 0.35921877120724677 and parameters: {'lambda_l1': 0.000522958978870322, 'lambda_l2': 0.010245159935494163, 'num_leaves': 196, 'feature_fraction': 0.49392185440803976, 'bagging_fraction': 0.6745594323001105, 'bagging_freq': 2, 'min_child_samples': 88}. Best is trial 13 with value: 0.3643421193421892.\n",
      "/tmp/ipykernel_1676490/4150719641.py:86: ExperimentalWarning:\n",
      "\n",
      "upload_artifact is experimental (supported from v3.3.0). The interface can change in the future.\n",
      "\n",
      "/tmp/ipykernel_1676490/4150719641.py:94: ExperimentalWarning:\n",
      "\n",
      "upload_artifact is experimental (supported from v3.3.0). The interface can change in the future.\n",
      "\n",
      "[I 2024-08-02 13:10:39,629] Trial 157 finished with value: 0.36385910425843226 and parameters: {'lambda_l1': 4.892030450456336e-07, 'lambda_l2': 0.006494368049306099, 'num_leaves': 170, 'feature_fraction': 0.5350383524493763, 'bagging_fraction': 0.8309289283555541, 'bagging_freq': 2, 'min_child_samples': 83}. Best is trial 13 with value: 0.3643421193421892.\n",
      "/tmp/ipykernel_1676490/4150719641.py:86: ExperimentalWarning:\n",
      "\n",
      "upload_artifact is experimental (supported from v3.3.0). The interface can change in the future.\n",
      "\n",
      "/tmp/ipykernel_1676490/4150719641.py:94: ExperimentalWarning:\n",
      "\n",
      "upload_artifact is experimental (supported from v3.3.0). The interface can change in the future.\n",
      "\n",
      "[I 2024-08-02 13:10:52,022] Trial 158 finished with value: 0.36146805712727836 and parameters: {'lambda_l1': 0.0047930436486299105, 'lambda_l2': 0.006562769687533736, 'num_leaves': 172, 'feature_fraction': 0.5720290952933209, 'bagging_fraction': 0.6390554398315458, 'bagging_freq': 1, 'min_child_samples': 78}. Best is trial 13 with value: 0.3643421193421892.\n",
      "/tmp/ipykernel_1676490/4150719641.py:86: ExperimentalWarning:\n",
      "\n",
      "upload_artifact is experimental (supported from v3.3.0). The interface can change in the future.\n",
      "\n",
      "/tmp/ipykernel_1676490/4150719641.py:94: ExperimentalWarning:\n",
      "\n",
      "upload_artifact is experimental (supported from v3.3.0). The interface can change in the future.\n",
      "\n",
      "[I 2024-08-02 13:11:13,539] Trial 159 finished with value: 0.35853205291433893 and parameters: {'lambda_l1': 0.004172952640595763, 'lambda_l2': 0.006192523959614145, 'num_leaves': 172, 'feature_fraction': 0.5629106312747219, 'bagging_fraction': 0.5993409325554688, 'bagging_freq': 1, 'min_child_samples': 78}. Best is trial 13 with value: 0.3643421193421892.\n",
      "/tmp/ipykernel_1676490/4150719641.py:86: ExperimentalWarning:\n",
      "\n",
      "upload_artifact is experimental (supported from v3.3.0). The interface can change in the future.\n",
      "\n",
      "/tmp/ipykernel_1676490/4150719641.py:94: ExperimentalWarning:\n",
      "\n",
      "upload_artifact is experimental (supported from v3.3.0). The interface can change in the future.\n",
      "\n",
      "[I 2024-08-02 13:11:31,002] Trial 160 finished with value: 0.35598576683306776 and parameters: {'lambda_l1': 0.006898184497526082, 'lambda_l2': 0.02404879136725845, 'num_leaves': 164, 'feature_fraction': 0.5369960482466334, 'bagging_fraction': 0.6114315148368704, 'bagging_freq': 1, 'min_child_samples': 82}. Best is trial 13 with value: 0.3643421193421892.\n",
      "/tmp/ipykernel_1676490/4150719641.py:86: ExperimentalWarning:\n",
      "\n",
      "upload_artifact is experimental (supported from v3.3.0). The interface can change in the future.\n",
      "\n",
      "/tmp/ipykernel_1676490/4150719641.py:94: ExperimentalWarning:\n",
      "\n",
      "upload_artifact is experimental (supported from v3.3.0). The interface can change in the future.\n",
      "\n",
      "[I 2024-08-02 13:11:40,674] Trial 161 finished with value: 0.35195041686366857 and parameters: {'lambda_l1': 2.8931343746673237e-06, 'lambda_l2': 0.007339695296110782, 'num_leaves': 137, 'feature_fraction': 0.5754920453948327, 'bagging_fraction': 0.6374954024527831, 'bagging_freq': 1, 'min_child_samples': 84}. Best is trial 13 with value: 0.3643421193421892.\n",
      "/tmp/ipykernel_1676490/4150719641.py:86: ExperimentalWarning:\n",
      "\n",
      "upload_artifact is experimental (supported from v3.3.0). The interface can change in the future.\n",
      "\n",
      "/tmp/ipykernel_1676490/4150719641.py:94: ExperimentalWarning:\n",
      "\n",
      "upload_artifact is experimental (supported from v3.3.0). The interface can change in the future.\n",
      "\n",
      "[I 2024-08-02 13:11:52,507] Trial 162 finished with value: 0.35821440370185476 and parameters: {'lambda_l1': 0.0015036991013307839, 'lambda_l2': 0.013268418237549344, 'num_leaves': 172, 'feature_fraction': 0.5912963570844648, 'bagging_fraction': 0.6575802963567199, 'bagging_freq': 1, 'min_child_samples': 77}. Best is trial 13 with value: 0.3643421193421892.\n",
      "/tmp/ipykernel_1676490/4150719641.py:86: ExperimentalWarning:\n",
      "\n",
      "upload_artifact is experimental (supported from v3.3.0). The interface can change in the future.\n",
      "\n",
      "/tmp/ipykernel_1676490/4150719641.py:94: ExperimentalWarning:\n",
      "\n",
      "upload_artifact is experimental (supported from v3.3.0). The interface can change in the future.\n",
      "\n",
      "[I 2024-08-02 13:12:05,722] Trial 163 finished with value: 0.3427729006119774 and parameters: {'lambda_l1': 0.010910085011014578, 'lambda_l2': 0.004267105271802466, 'num_leaves': 161, 'feature_fraction': 0.5506628218581637, 'bagging_fraction': 0.4055079382804261, 'bagging_freq': 1, 'min_child_samples': 83}. Best is trial 13 with value: 0.3643421193421892.\n",
      "/tmp/ipykernel_1676490/4150719641.py:86: ExperimentalWarning:\n",
      "\n",
      "upload_artifact is experimental (supported from v3.3.0). The interface can change in the future.\n",
      "\n",
      "/tmp/ipykernel_1676490/4150719641.py:94: ExperimentalWarning:\n",
      "\n",
      "upload_artifact is experimental (supported from v3.3.0). The interface can change in the future.\n",
      "\n",
      "[I 2024-08-02 13:12:34,035] Trial 164 finished with value: 0.35020853668396035 and parameters: {'lambda_l1': 0.0008552192859548174, 'lambda_l2': 0.002342809045676143, 'num_leaves': 183, 'feature_fraction': 0.5365652861631328, 'bagging_fraction': 0.6902813891928854, 'bagging_freq': 1, 'min_child_samples': 41}. Best is trial 13 with value: 0.3643421193421892.\n",
      "/tmp/ipykernel_1676490/4150719641.py:86: ExperimentalWarning:\n",
      "\n",
      "upload_artifact is experimental (supported from v3.3.0). The interface can change in the future.\n",
      "\n",
      "/tmp/ipykernel_1676490/4150719641.py:94: ExperimentalWarning:\n",
      "\n",
      "upload_artifact is experimental (supported from v3.3.0). The interface can change in the future.\n",
      "\n",
      "[I 2024-08-02 13:12:43,031] Trial 165 finished with value: 0.3520574629933316 and parameters: {'lambda_l1': 0.025602308409663408, 'lambda_l2': 0.01556253280678816, 'num_leaves': 187, 'feature_fraction': 0.5603357434653236, 'bagging_fraction': 0.6312595996623345, 'bagging_freq': 2, 'min_child_samples': 80}. Best is trial 13 with value: 0.3643421193421892.\n",
      "/tmp/ipykernel_1676490/4150719641.py:86: ExperimentalWarning:\n",
      "\n",
      "upload_artifact is experimental (supported from v3.3.0). The interface can change in the future.\n",
      "\n",
      "/tmp/ipykernel_1676490/4150719641.py:94: ExperimentalWarning:\n",
      "\n",
      "upload_artifact is experimental (supported from v3.3.0). The interface can change in the future.\n",
      "\n",
      "[I 2024-08-02 13:12:57,113] Trial 166 finished with value: 0.3566547297591901 and parameters: {'lambda_l1': 0.0027422745382600817, 'lambda_l2': 1.9507301265772077e-06, 'num_leaves': 94, 'feature_fraction': 0.5267929043156928, 'bagging_fraction': 0.790456646738539, 'bagging_freq': 3, 'min_child_samples': 85}. Best is trial 13 with value: 0.3643421193421892.\n",
      "/tmp/ipykernel_1676490/4150719641.py:86: ExperimentalWarning:\n",
      "\n",
      "upload_artifact is experimental (supported from v3.3.0). The interface can change in the future.\n",
      "\n",
      "/tmp/ipykernel_1676490/4150719641.py:94: ExperimentalWarning:\n",
      "\n",
      "upload_artifact is experimental (supported from v3.3.0). The interface can change in the future.\n",
      "\n",
      "[I 2024-08-02 13:13:14,495] Trial 167 finished with value: 0.34851204313867645 and parameters: {'lambda_l1': 0.014324059757716286, 'lambda_l2': 5.104257705224622e-07, 'num_leaves': 149, 'feature_fraction': 0.6106906414420933, 'bagging_fraction': 0.7547414061169049, 'bagging_freq': 1, 'min_child_samples': 73}. Best is trial 13 with value: 0.3643421193421892.\n",
      "/tmp/ipykernel_1676490/4150719641.py:86: ExperimentalWarning:\n",
      "\n",
      "upload_artifact is experimental (supported from v3.3.0). The interface can change in the future.\n",
      "\n",
      "/tmp/ipykernel_1676490/4150719641.py:94: ExperimentalWarning:\n",
      "\n",
      "upload_artifact is experimental (supported from v3.3.0). The interface can change in the future.\n",
      "\n",
      "[I 2024-08-02 13:13:44,490] Trial 168 finished with value: 0.3599541345748851 and parameters: {'lambda_l1': 0.004420965956882513, 'lambda_l2': 1.0043809760148177e-06, 'num_leaves': 177, 'feature_fraction': 0.5038936589642526, 'bagging_fraction': 0.666255484873879, 'bagging_freq': 2, 'min_child_samples': 31}. Best is trial 13 with value: 0.3643421193421892.\n",
      "/tmp/ipykernel_1676490/4150719641.py:86: ExperimentalWarning:\n",
      "\n",
      "upload_artifact is experimental (supported from v3.3.0). The interface can change in the future.\n",
      "\n",
      "/tmp/ipykernel_1676490/4150719641.py:94: ExperimentalWarning:\n",
      "\n",
      "upload_artifact is experimental (supported from v3.3.0). The interface can change in the future.\n",
      "\n",
      "[I 2024-08-02 13:13:58,020] Trial 169 finished with value: 0.3507012494339139 and parameters: {'lambda_l1': 0.00014893584089717285, 'lambda_l2': 0.04927635451049268, 'num_leaves': 170, 'feature_fraction': 0.5719100705813102, 'bagging_fraction': 0.867404229532672, 'bagging_freq': 2, 'min_child_samples': 95}. Best is trial 13 with value: 0.3643421193421892.\n",
      "/tmp/ipykernel_1676490/4150719641.py:86: ExperimentalWarning:\n",
      "\n",
      "upload_artifact is experimental (supported from v3.3.0). The interface can change in the future.\n",
      "\n",
      "/tmp/ipykernel_1676490/4150719641.py:94: ExperimentalWarning:\n",
      "\n",
      "upload_artifact is experimental (supported from v3.3.0). The interface can change in the future.\n",
      "\n",
      "[I 2024-08-02 13:14:18,445] Trial 170 finished with value: 0.3535171591844914 and parameters: {'lambda_l1': 0.0014320652876203485, 'lambda_l2': 8.343624789980429e-05, 'num_leaves': 180, 'feature_fraction': 0.5469492885521696, 'bagging_fraction': 0.619357149079102, 'bagging_freq': 1, 'min_child_samples': 53}. Best is trial 13 with value: 0.3643421193421892.\n",
      "/tmp/ipykernel_1676490/4150719641.py:86: ExperimentalWarning:\n",
      "\n",
      "upload_artifact is experimental (supported from v3.3.0). The interface can change in the future.\n",
      "\n",
      "/tmp/ipykernel_1676490/4150719641.py:94: ExperimentalWarning:\n",
      "\n",
      "upload_artifact is experimental (supported from v3.3.0). The interface can change in the future.\n",
      "\n",
      "[I 2024-08-02 13:14:35,980] Trial 171 finished with value: 0.3619711156785702 and parameters: {'lambda_l1': 5.667793231650197e-07, 'lambda_l2': 0.0008985216412834235, 'num_leaves': 44, 'feature_fraction': 0.5203816976952247, 'bagging_fraction': 0.8258877188714546, 'bagging_freq': 2, 'min_child_samples': 89}. Best is trial 13 with value: 0.3643421193421892.\n",
      "/tmp/ipykernel_1676490/4150719641.py:86: ExperimentalWarning:\n",
      "\n",
      "upload_artifact is experimental (supported from v3.3.0). The interface can change in the future.\n",
      "\n",
      "/tmp/ipykernel_1676490/4150719641.py:94: ExperimentalWarning:\n",
      "\n",
      "upload_artifact is experimental (supported from v3.3.0). The interface can change in the future.\n",
      "\n",
      "[I 2024-08-02 13:14:46,502] Trial 172 finished with value: 0.3586182644574511 and parameters: {'lambda_l1': 1.0150433432395231e-06, 'lambda_l2': 0.0007874654711883844, 'num_leaves': 27, 'feature_fraction': 0.5233557389577551, 'bagging_fraction': 0.8274094780958778, 'bagging_freq': 2, 'min_child_samples': 87}. Best is trial 13 with value: 0.3643421193421892.\n",
      "/tmp/ipykernel_1676490/4150719641.py:86: ExperimentalWarning:\n",
      "\n",
      "upload_artifact is experimental (supported from v3.3.0). The interface can change in the future.\n",
      "\n",
      "/tmp/ipykernel_1676490/4150719641.py:94: ExperimentalWarning:\n",
      "\n",
      "upload_artifact is experimental (supported from v3.3.0). The interface can change in the future.\n",
      "\n",
      "[I 2024-08-02 13:14:57,657] Trial 173 finished with value: 0.3604571310263951 and parameters: {'lambda_l1': 4.8207715887674795e-08, 'lambda_l2': 0.00016500481399099752, 'num_leaves': 55, 'feature_fraction': 0.5339330990062947, 'bagging_fraction': 0.8232415297768612, 'bagging_freq': 2, 'min_child_samples': 89}. Best is trial 13 with value: 0.3643421193421892.\n",
      "/tmp/ipykernel_1676490/4150719641.py:86: ExperimentalWarning:\n",
      "\n",
      "upload_artifact is experimental (supported from v3.3.0). The interface can change in the future.\n",
      "\n",
      "/tmp/ipykernel_1676490/4150719641.py:94: ExperimentalWarning:\n",
      "\n",
      "upload_artifact is experimental (supported from v3.3.0). The interface can change in the future.\n",
      "\n",
      "[I 2024-08-02 13:15:19,901] Trial 174 finished with value: 0.3603158207911944 and parameters: {'lambda_l1': 4.910536501924423e-07, 'lambda_l2': 4.267355343873587e-05, 'num_leaves': 190, 'feature_fraction': 0.5071086632938284, 'bagging_fraction': 0.833351009951597, 'bagging_freq': 2, 'min_child_samples': 91}. Best is trial 13 with value: 0.3643421193421892.\n",
      "/tmp/ipykernel_1676490/4150719641.py:86: ExperimentalWarning:\n",
      "\n",
      "upload_artifact is experimental (supported from v3.3.0). The interface can change in the future.\n",
      "\n",
      "/tmp/ipykernel_1676490/4150719641.py:94: ExperimentalWarning:\n",
      "\n",
      "upload_artifact is experimental (supported from v3.3.0). The interface can change in the future.\n",
      "\n",
      "[I 2024-08-02 13:15:37,639] Trial 175 finished with value: 0.35979195936848046 and parameters: {'lambda_l1': 0.007591662367179391, 'lambda_l2': 2.683165623155918e-07, 'num_leaves': 116, 'feature_fraction': 0.5469551320807348, 'bagging_fraction': 0.6414276097584327, 'bagging_freq': 2, 'min_child_samples': 86}. Best is trial 13 with value: 0.3643421193421892.\n",
      "/tmp/ipykernel_1676490/4150719641.py:86: ExperimentalWarning:\n",
      "\n",
      "upload_artifact is experimental (supported from v3.3.0). The interface can change in the future.\n",
      "\n",
      "/tmp/ipykernel_1676490/4150719641.py:94: ExperimentalWarning:\n",
      "\n",
      "upload_artifact is experimental (supported from v3.3.0). The interface can change in the future.\n",
      "\n",
      "[I 2024-08-02 13:15:51,667] Trial 176 finished with value: 0.36039522791245004 and parameters: {'lambda_l1': 6.539693579608745e-07, 'lambda_l2': 0.008862077085170138, 'num_leaves': 61, 'feature_fraction': 0.5193400399505829, 'bagging_fraction': 0.8118016761820566, 'bagging_freq': 2, 'min_child_samples': 38}. Best is trial 13 with value: 0.3643421193421892.\n",
      "/tmp/ipykernel_1676490/4150719641.py:86: ExperimentalWarning:\n",
      "\n",
      "upload_artifact is experimental (supported from v3.3.0). The interface can change in the future.\n",
      "\n",
      "/tmp/ipykernel_1676490/4150719641.py:94: ExperimentalWarning:\n",
      "\n",
      "upload_artifact is experimental (supported from v3.3.0). The interface can change in the future.\n",
      "\n",
      "[I 2024-08-02 13:15:59,596] Trial 177 finished with value: 0.3524625250397848 and parameters: {'lambda_l1': 4.0590338420463015e-06, 'lambda_l2': 0.0033937623642949152, 'num_leaves': 43, 'feature_fraction': 0.49027565384929467, 'bagging_fraction': 0.8555586664499973, 'bagging_freq': 4, 'min_child_samples': 93}. Best is trial 13 with value: 0.3643421193421892.\n",
      "/tmp/ipykernel_1676490/4150719641.py:86: ExperimentalWarning:\n",
      "\n",
      "upload_artifact is experimental (supported from v3.3.0). The interface can change in the future.\n",
      "\n",
      "/tmp/ipykernel_1676490/4150719641.py:94: ExperimentalWarning:\n",
      "\n",
      "upload_artifact is experimental (supported from v3.3.0). The interface can change in the future.\n",
      "\n",
      "[I 2024-08-02 13:16:21,244] Trial 178 finished with value: 0.3537675148090017 and parameters: {'lambda_l1': 1.5149516442185075e-05, 'lambda_l2': 4.077117795975335e-06, 'num_leaves': 165, 'feature_fraction': 0.5583446244604041, 'bagging_fraction': 0.7167385986931074, 'bagging_freq': 2, 'min_child_samples': 80}. Best is trial 13 with value: 0.3643421193421892.\n",
      "/tmp/ipykernel_1676490/4150719641.py:86: ExperimentalWarning:\n",
      "\n",
      "upload_artifact is experimental (supported from v3.3.0). The interface can change in the future.\n",
      "\n",
      "/tmp/ipykernel_1676490/4150719641.py:94: ExperimentalWarning:\n",
      "\n",
      "upload_artifact is experimental (supported from v3.3.0). The interface can change in the future.\n",
      "\n",
      "[I 2024-08-02 13:16:37,507] Trial 179 finished with value: 0.35396588020040887 and parameters: {'lambda_l1': 0.002354863261798276, 'lambda_l2': 0.0196036317198055, 'num_leaves': 157, 'feature_fraction': 0.5850675920496389, 'bagging_fraction': 0.6551915003564179, 'bagging_freq': 1, 'min_child_samples': 96}. Best is trial 13 with value: 0.3643421193421892.\n",
      "/tmp/ipykernel_1676490/4150719641.py:86: ExperimentalWarning:\n",
      "\n",
      "upload_artifact is experimental (supported from v3.3.0). The interface can change in the future.\n",
      "\n",
      "/tmp/ipykernel_1676490/4150719641.py:94: ExperimentalWarning:\n",
      "\n",
      "upload_artifact is experimental (supported from v3.3.0). The interface can change in the future.\n",
      "\n",
      "[I 2024-08-02 13:16:55,263] Trial 180 finished with value: 0.3605771875157598 and parameters: {'lambda_l1': 0.0003977694702350375, 'lambda_l2': 0.005377302178793206, 'num_leaves': 176, 'feature_fraction': 0.4671972405278858, 'bagging_fraction': 0.8139029823645827, 'bagging_freq': 3, 'min_child_samples': 83}. Best is trial 13 with value: 0.3643421193421892.\n",
      "/tmp/ipykernel_1676490/4150719641.py:86: ExperimentalWarning:\n",
      "\n",
      "upload_artifact is experimental (supported from v3.3.0). The interface can change in the future.\n",
      "\n",
      "/tmp/ipykernel_1676490/4150719641.py:94: ExperimentalWarning:\n",
      "\n",
      "upload_artifact is experimental (supported from v3.3.0). The interface can change in the future.\n",
      "\n",
      "[I 2024-08-02 13:17:10,189] Trial 181 finished with value: 0.3510726163098189 and parameters: {'lambda_l1': 0.0004595855444863547, 'lambda_l2': 0.004818315350570523, 'num_leaves': 175, 'feature_fraction': 0.43633524094753684, 'bagging_fraction': 0.8030760987158074, 'bagging_freq': 3, 'min_child_samples': 83}. Best is trial 13 with value: 0.3643421193421892.\n",
      "/tmp/ipykernel_1676490/4150719641.py:86: ExperimentalWarning:\n",
      "\n",
      "upload_artifact is experimental (supported from v3.3.0). The interface can change in the future.\n",
      "\n",
      "/tmp/ipykernel_1676490/4150719641.py:94: ExperimentalWarning:\n",
      "\n",
      "upload_artifact is experimental (supported from v3.3.0). The interface can change in the future.\n",
      "\n",
      "[I 2024-08-02 13:17:32,907] Trial 182 finished with value: 0.3501357909456847 and parameters: {'lambda_l1': 0.0003170354328996998, 'lambda_l2': 0.0024399993871154282, 'num_leaves': 169, 'feature_fraction': 0.4763312187873604, 'bagging_fraction': 0.8378278429423249, 'bagging_freq': 3, 'min_child_samples': 84}. Best is trial 13 with value: 0.3643421193421892.\n",
      "/tmp/ipykernel_1676490/4150719641.py:86: ExperimentalWarning:\n",
      "\n",
      "upload_artifact is experimental (supported from v3.3.0). The interface can change in the future.\n",
      "\n",
      "/tmp/ipykernel_1676490/4150719641.py:94: ExperimentalWarning:\n",
      "\n",
      "upload_artifact is experimental (supported from v3.3.0). The interface can change in the future.\n",
      "\n",
      "[I 2024-08-02 13:17:54,903] Trial 183 finished with value: 0.3561078217677903 and parameters: {'lambda_l1': 0.0007638914851452825, 'lambda_l2': 0.007786736857302476, 'num_leaves': 70, 'feature_fraction': 0.45397899269336384, 'bagging_fraction': 0.8160352592204825, 'bagging_freq': 3, 'min_child_samples': 88}. Best is trial 13 with value: 0.3643421193421892.\n",
      "/tmp/ipykernel_1676490/4150719641.py:86: ExperimentalWarning:\n",
      "\n",
      "upload_artifact is experimental (supported from v3.3.0). The interface can change in the future.\n",
      "\n",
      "/tmp/ipykernel_1676490/4150719641.py:94: ExperimentalWarning:\n",
      "\n",
      "upload_artifact is experimental (supported from v3.3.0). The interface can change in the future.\n",
      "\n",
      "[I 2024-08-02 13:18:05,263] Trial 184 finished with value: 0.34864738176768517 and parameters: {'lambda_l1': 8.713375677437698e-05, 'lambda_l2': 0.0003543269260313162, 'num_leaves': 176, 'feature_fraction': 0.5059989073184417, 'bagging_fraction': 0.6736500152973712, 'bagging_freq': 3, 'min_child_samples': 82}. Best is trial 13 with value: 0.3643421193421892.\n",
      "/tmp/ipykernel_1676490/4150719641.py:86: ExperimentalWarning:\n",
      "\n",
      "upload_artifact is experimental (supported from v3.3.0). The interface can change in the future.\n",
      "\n",
      "/tmp/ipykernel_1676490/4150719641.py:94: ExperimentalWarning:\n",
      "\n",
      "upload_artifact is experimental (supported from v3.3.0). The interface can change in the future.\n",
      "\n",
      "[I 2024-08-02 13:18:24,562] Trial 185 finished with value: 0.3499429293160249 and parameters: {'lambda_l1': 0.0012304581445540686, 'lambda_l2': 0.012415865898578345, 'num_leaves': 164, 'feature_fraction': 0.46747467026432776, 'bagging_fraction': 0.8129337382618729, 'bagging_freq': 4, 'min_child_samples': 86}. Best is trial 13 with value: 0.3643421193421892.\n",
      "/tmp/ipykernel_1676490/4150719641.py:86: ExperimentalWarning:\n",
      "\n",
      "upload_artifact is experimental (supported from v3.3.0). The interface can change in the future.\n",
      "\n",
      "/tmp/ipykernel_1676490/4150719641.py:94: ExperimentalWarning:\n",
      "\n",
      "upload_artifact is experimental (supported from v3.3.0). The interface can change in the future.\n",
      "\n",
      "[I 2024-08-02 13:18:47,679] Trial 186 finished with value: 0.3615748287366941 and parameters: {'lambda_l1': 2.5390533255057595e-07, 'lambda_l2': 1.849024221520041e-06, 'num_leaves': 185, 'feature_fraction': 0.5312903346832649, 'bagging_fraction': 0.7935115177541853, 'bagging_freq': 2, 'min_child_samples': 78}. Best is trial 13 with value: 0.3643421193421892.\n",
      "/tmp/ipykernel_1676490/4150719641.py:86: ExperimentalWarning:\n",
      "\n",
      "upload_artifact is experimental (supported from v3.3.0). The interface can change in the future.\n",
      "\n",
      "/tmp/ipykernel_1676490/4150719641.py:94: ExperimentalWarning:\n",
      "\n",
      "upload_artifact is experimental (supported from v3.3.0). The interface can change in the future.\n",
      "\n",
      "[I 2024-08-02 13:19:03,281] Trial 187 finished with value: 0.35324899681352295 and parameters: {'lambda_l1': 2.1844406270194005e-07, 'lambda_l2': 1.8850833596906949e-06, 'num_leaves': 191, 'feature_fraction': 0.5307461374392992, 'bagging_fraction': 0.778259048518098, 'bagging_freq': 2, 'min_child_samples': 78}. Best is trial 13 with value: 0.3643421193421892.\n",
      "/tmp/ipykernel_1676490/4150719641.py:86: ExperimentalWarning:\n",
      "\n",
      "upload_artifact is experimental (supported from v3.3.0). The interface can change in the future.\n",
      "\n",
      "/tmp/ipykernel_1676490/4150719641.py:94: ExperimentalWarning:\n",
      "\n",
      "upload_artifact is experimental (supported from v3.3.0). The interface can change in the future.\n",
      "\n",
      "[I 2024-08-02 13:19:18,911] Trial 188 finished with value: 0.36141910156605767 and parameters: {'lambda_l1': 5.179905861828572e-07, 'lambda_l2': 3.1140873169433145e-06, 'num_leaves': 185, 'feature_fraction': 0.5405815141273147, 'bagging_fraction': 0.7949455532579448, 'bagging_freq': 2, 'min_child_samples': 76}. Best is trial 13 with value: 0.3643421193421892.\n",
      "/tmp/ipykernel_1676490/4150719641.py:86: ExperimentalWarning:\n",
      "\n",
      "upload_artifact is experimental (supported from v3.3.0). The interface can change in the future.\n",
      "\n",
      "/tmp/ipykernel_1676490/4150719641.py:94: ExperimentalWarning:\n",
      "\n",
      "upload_artifact is experimental (supported from v3.3.0). The interface can change in the future.\n",
      "\n",
      "[I 2024-08-02 13:19:24,627] Trial 189 finished with value: 0.35961187959493157 and parameters: {'lambda_l1': 4.59774964599636e-07, 'lambda_l2': 2.7646902602057407e-06, 'num_leaves': 184, 'feature_fraction': 0.5199216492602168, 'bagging_fraction': 0.7823944711431214, 'bagging_freq': 2, 'min_child_samples': 75}. Best is trial 13 with value: 0.3643421193421892.\n",
      "/tmp/ipykernel_1676490/4150719641.py:86: ExperimentalWarning:\n",
      "\n",
      "upload_artifact is experimental (supported from v3.3.0). The interface can change in the future.\n",
      "\n",
      "/tmp/ipykernel_1676490/4150719641.py:94: ExperimentalWarning:\n",
      "\n",
      "upload_artifact is experimental (supported from v3.3.0). The interface can change in the future.\n",
      "\n",
      "[I 2024-08-02 13:19:28,381] Trial 190 finished with value: 0.3565830276872305 and parameters: {'lambda_l1': 2.835348484084271e-07, 'lambda_l2': 1.1270256470193443e-06, 'num_leaves': 202, 'feature_fraction': 0.5384137091049273, 'bagging_fraction': 0.7671127913227047, 'bagging_freq': 2, 'min_child_samples': 71}. Best is trial 13 with value: 0.3643421193421892.\n",
      "/tmp/ipykernel_1676490/4150719641.py:86: ExperimentalWarning:\n",
      "\n",
      "upload_artifact is experimental (supported from v3.3.0). The interface can change in the future.\n",
      "\n",
      "/tmp/ipykernel_1676490/4150719641.py:94: ExperimentalWarning:\n",
      "\n",
      "upload_artifact is experimental (supported from v3.3.0). The interface can change in the future.\n",
      "\n",
      "[I 2024-08-02 13:19:32,118] Trial 191 finished with value: 0.35848368228483407 and parameters: {'lambda_l1': 1.482538799770959e-06, 'lambda_l2': 1.1908620477708127e-05, 'num_leaves': 181, 'feature_fraction': 0.5464229675865864, 'bagging_fraction': 0.7929502781690573, 'bagging_freq': 2, 'min_child_samples': 73}. Best is trial 13 with value: 0.3643421193421892.\n",
      "/tmp/ipykernel_1676490/4150719641.py:86: ExperimentalWarning:\n",
      "\n",
      "upload_artifact is experimental (supported from v3.3.0). The interface can change in the future.\n",
      "\n",
      "/tmp/ipykernel_1676490/4150719641.py:94: ExperimentalWarning:\n",
      "\n",
      "upload_artifact is experimental (supported from v3.3.0). The interface can change in the future.\n",
      "\n",
      "[I 2024-08-02 13:19:36,745] Trial 192 finished with value: 0.3575363917761956 and parameters: {'lambda_l1': 3.4108327081841285e-07, 'lambda_l2': 6.588678765446488e-07, 'num_leaves': 88, 'feature_fraction': 0.5681011628261053, 'bagging_fraction': 0.8328911302395068, 'bagging_freq': 2, 'min_child_samples': 25}. Best is trial 13 with value: 0.3643421193421892.\n",
      "/tmp/ipykernel_1676490/4150719641.py:86: ExperimentalWarning:\n",
      "\n",
      "upload_artifact is experimental (supported from v3.3.0). The interface can change in the future.\n",
      "\n",
      "/tmp/ipykernel_1676490/4150719641.py:94: ExperimentalWarning:\n",
      "\n",
      "upload_artifact is experimental (supported from v3.3.0). The interface can change in the future.\n",
      "\n",
      "[I 2024-08-02 13:19:40,969] Trial 193 finished with value: 0.3604860391896181 and parameters: {'lambda_l1': 9.320912043002262e-08, 'lambda_l2': 6.507516465387556e-06, 'num_leaves': 194, 'feature_fraction': 0.5261549931663657, 'bagging_fraction': 0.7967984553975579, 'bagging_freq': 2, 'min_child_samples': 79}. Best is trial 13 with value: 0.3643421193421892.\n",
      "/tmp/ipykernel_1676490/4150719641.py:86: ExperimentalWarning:\n",
      "\n",
      "upload_artifact is experimental (supported from v3.3.0). The interface can change in the future.\n",
      "\n",
      "/tmp/ipykernel_1676490/4150719641.py:94: ExperimentalWarning:\n",
      "\n",
      "upload_artifact is experimental (supported from v3.3.0). The interface can change in the future.\n",
      "\n",
      "[I 2024-08-02 13:19:45,840] Trial 194 finished with value: 0.3618889725029693 and parameters: {'lambda_l1': 7.225524607439395e-07, 'lambda_l2': 3.953754813676989e-06, 'num_leaves': 188, 'feature_fraction': 0.5521825626550851, 'bagging_fraction': 0.8434426258226655, 'bagging_freq': 2, 'min_child_samples': 76}. Best is trial 13 with value: 0.3643421193421892.\n",
      "/tmp/ipykernel_1676490/4150719641.py:86: ExperimentalWarning:\n",
      "\n",
      "upload_artifact is experimental (supported from v3.3.0). The interface can change in the future.\n",
      "\n",
      "/tmp/ipykernel_1676490/4150719641.py:94: ExperimentalWarning:\n",
      "\n",
      "upload_artifact is experimental (supported from v3.3.0). The interface can change in the future.\n",
      "\n",
      "[I 2024-08-02 13:19:49,311] Trial 195 finished with value: 0.3547264228062567 and parameters: {'lambda_l1': 6.968349792235613e-07, 'lambda_l2': 3.4388564543006645e-06, 'num_leaves': 189, 'feature_fraction': 0.5531196395981922, 'bagging_fraction': 0.8261780444229063, 'bagging_freq': 2, 'min_child_samples': 76}. Best is trial 13 with value: 0.3643421193421892.\n",
      "/tmp/ipykernel_1676490/4150719641.py:86: ExperimentalWarning:\n",
      "\n",
      "upload_artifact is experimental (supported from v3.3.0). The interface can change in the future.\n",
      "\n",
      "/tmp/ipykernel_1676490/4150719641.py:94: ExperimentalWarning:\n",
      "\n",
      "upload_artifact is experimental (supported from v3.3.0). The interface can change in the future.\n",
      "\n",
      "[I 2024-08-02 13:19:53,000] Trial 196 finished with value: 0.3587621615347155 and parameters: {'lambda_l1': 5.368829251493391e-07, 'lambda_l2': 1.4399540936366018e-06, 'num_leaves': 199, 'feature_fraction': 0.5124606518843907, 'bagging_fraction': 0.6307333081761329, 'bagging_freq': 2, 'min_child_samples': 74}. Best is trial 13 with value: 0.3643421193421892.\n",
      "/tmp/ipykernel_1676490/4150719641.py:86: ExperimentalWarning:\n",
      "\n",
      "upload_artifact is experimental (supported from v3.3.0). The interface can change in the future.\n",
      "\n",
      "/tmp/ipykernel_1676490/4150719641.py:94: ExperimentalWarning:\n",
      "\n",
      "upload_artifact is experimental (supported from v3.3.0). The interface can change in the future.\n",
      "\n",
      "[I 2024-08-02 13:19:57,136] Trial 197 finished with value: 0.3560650697987433 and parameters: {'lambda_l1': 8.355656283935499e-07, 'lambda_l2': 4.299671971148266e-06, 'num_leaves': 185, 'feature_fraction': 0.5382341521763085, 'bagging_fraction': 0.8472388126451311, 'bagging_freq': 2, 'min_child_samples': 76}. Best is trial 13 with value: 0.3643421193421892.\n",
      "/tmp/ipykernel_1676490/4150719641.py:86: ExperimentalWarning:\n",
      "\n",
      "upload_artifact is experimental (supported from v3.3.0). The interface can change in the future.\n",
      "\n",
      "/tmp/ipykernel_1676490/4150719641.py:94: ExperimentalWarning:\n",
      "\n",
      "upload_artifact is experimental (supported from v3.3.0). The interface can change in the future.\n",
      "\n",
      "[I 2024-08-02 13:20:00,829] Trial 198 finished with value: 0.35831491211975286 and parameters: {'lambda_l1': 1.378941307144945e-07, 'lambda_l2': 2.059246602970808e-06, 'num_leaves': 181, 'feature_fraction': 0.5315398481901386, 'bagging_fraction': 0.6499002203720747, 'bagging_freq': 2, 'min_child_samples': 79}. Best is trial 13 with value: 0.3643421193421892.\n",
      "/tmp/ipykernel_1676490/4150719641.py:86: ExperimentalWarning:\n",
      "\n",
      "upload_artifact is experimental (supported from v3.3.0). The interface can change in the future.\n",
      "\n",
      "/tmp/ipykernel_1676490/4150719641.py:94: ExperimentalWarning:\n",
      "\n",
      "upload_artifact is experimental (supported from v3.3.0). The interface can change in the future.\n",
      "\n",
      "[I 2024-08-02 13:20:05,043] Trial 199 finished with value: 0.3566154663644846 and parameters: {'lambda_l1': 2.662980083260183e-07, 'lambda_l2': 7.495506976484153e-07, 'num_leaves': 206, 'feature_fraction': 0.4961567309290726, 'bagging_fraction': 0.7045228804661033, 'bagging_freq': 1, 'min_child_samples': 81}. Best is trial 13 with value: 0.3643421193421892.\n"
     ]
    }
   ],
   "source": [
    "#Inicio el store de artefactos (archivos) de optuna\n",
    "artifact_store = FileSystemArtifactStore(base_path=PATH_TO_OPTUNA_ARTIFACTS)\n",
    "\n",
    "#Genero estudio\n",
    "study = optuna.create_study(direction='maximize',\n",
    "                            storage=\"sqlite:///../work/db.sqlite3\",  # Specify the storage URL here.\n",
    "                            study_name=\"04 - LGB Multiclass CV\",\n",
    "                            load_if_exists = True)\n",
    "#Corro la optimizacion\n",
    "study.optimize(cv_es_lgb_objective, n_trials=100)"
   ]
  },
  {
   "cell_type": "markdown",
   "metadata": {},
   "source": [
    "Para ver el optuna dashboard tengo que correr este comando en la terminal"
   ]
  },
  {
   "cell_type": "code",
   "execution_count": null,
   "metadata": {},
   "outputs": [],
   "source": [
    "!optuna-dashboard sqlite:///../work/db.sqlite3 --artifact-dir ../work/optuna_artifacts --port 8081"
   ]
  }
 ],
 "metadata": {
  "kernelspec": {
   "display_name": "ldi2",
   "language": "python",
   "name": "python3"
  },
  "language_info": {
   "codemirror_mode": {
    "name": "ipython",
    "version": 3
   },
   "file_extension": ".py",
   "mimetype": "text/x-python",
   "name": "python",
   "nbconvert_exporter": "python",
   "pygments_lexer": "ipython3",
   "version": "3.11.6"
  }
 },
 "nbformat": 4,
 "nbformat_minor": 2
}
