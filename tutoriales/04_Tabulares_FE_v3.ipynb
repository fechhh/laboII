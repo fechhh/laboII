{
 "cells": [
  {
   "cell_type": "markdown",
   "metadata": {},
   "source": [
    "# Modelo datos estructurados\n",
    "\n",
    "Este notebook desarrolla un modelo para resolver el problema de Petfinder. El proceso incluye los siguientes pasos:\n",
    "\n",
    "1. Realizamos Feature Engineering para preparar y optimizar nuestras variables.\n",
    "2. Desarrollamos un modelo inicial para evaluar la viabilidad de resolver el problema utilizando los datos tabulares.\n",
    "3. Analizamos el comportamiento de la métrica kappa propuesta y examinamos la matriz de confusión.\n",
    "4. Llevamos a cabo una optimización de hiperparámetros utilizando dos enfoques:\n",
    "   - Evaluación con train/test\n",
    "   - Validación con 5-fold CV y prueba en el 20% de los datos\n",
    "\n",
    "Este enfoque nos permitirá construir un modelo basado en datos tabulares y evaluar su rendimiento de cara a las futuras etapas."
   ]
  },
  {
   "cell_type": "markdown",
   "metadata": {},
   "source": [
    "## Importamos librerias"
   ]
  },
  {
   "cell_type": "code",
   "execution_count": 120,
   "metadata": {},
   "outputs": [],
   "source": [
    "#Import de librerias basicas tablas y matrices\n",
    "import numpy as np \n",
    "import pandas as pd \n",
    "\n",
    "#Gradient Boosting\n",
    "import lightgbm as lgb\n",
    "\n",
    "#Funciones auxiliares sklearn\n",
    "from sklearn.preprocessing import MinMaxScaler\n",
    "from sklearn.model_selection import train_test_split, StratifiedKFold #Split y cross Validation\n",
    "from sklearn.metrics import cohen_kappa_score, accuracy_score, balanced_accuracy_score #Metricas\n",
    "from sklearn.preprocessing import OneHotEncoder\n",
    "\n",
    "# from sklearn.utils import shuffle \n",
    "\n",
    "#Visualizacióon\n",
    "from plotly import express as px\n",
    "\n",
    "#Plot de matriz de confusion normalizada en actuals\n",
    "from utils import plot_confusion_matrix\n",
    "\n",
    "import os\n",
    "\n",
    "#Optimizacion de hiperparametros\n",
    "import optuna\n",
    "from optuna.artifacts import FileSystemArtifactStore, upload_artifact\n",
    "\n",
    "#Guardado de objetos en archivos joblib\n",
    "from joblib import load, dump\n",
    "\n",
    "\n",
    "#Graficos y otras\n",
    "import matplotlib.pyplot as plt\n",
    "import seaborn as sns\n",
    "import matplotlib.pyplot as plt\n",
    "import textwrap\n"
   ]
  },
  {
   "cell_type": "markdown",
   "metadata": {},
   "source": [
    "## Estructura de archivos\n",
    "Esto es de suma importancia para que el procedimineto se lleve adelante de manera adecuada"
   ]
  },
  {
   "cell_type": "code",
   "execution_count": 122,
   "metadata": {},
   "outputs": [],
   "source": [
    "# Paths para acceso archivos\n",
    "#Este notebook asume la siguiente estructura de carpetas a partir de la ubicacion de base_dir \n",
    "#(dos niveles arriba de la carpeta donde se ejecuta el notebook). \n",
    "# /UA_MDM_LDI_II/\n",
    "# /UA_MDM_LDI_II/input\n",
    "# /UA_MDM_LDI_II/input/petfinder-adoption-prediction/            <- Aca deben ir todos los archivos de datos de la competencia \n",
    "# /UA_MDM_LDI_II/tutoriales/                       <- Aca deben poner los notebooks y scripts que les compartimos\n",
    "# /UA_MDM_LDI_II/work/                             <- Resultados de notebooks iran dentro de esta carpeta en subcarpetas\n",
    "# /UA_MDM_LDI_II/work/models/                     <- Modelos entrenados en archivos joblibs\n",
    "# /UA_MDM_LDI_II/work/optuna_temp_artifacts/      <- Archivos que queremos dejar como artefacto de un trial de optuna (optuna los copiara a la carpeta de abajo)\n",
    "# /UA_MDM_LDI_II/work/optuna_artifacts/           <- Archivos con artefactos que sibimos a optuna\n",
    "\n",
    "#Subimos dos niveles para quedar en la carpeta que contiene input y UA_MDM_LDI_II\n",
    "BASE_DIR = '../'\n",
    "\n",
    "#Datos de entrenamiento \n",
    "PATH_TO_TRAIN = os.path.join(BASE_DIR, \"input/petfinder-adoption-prediction/train/train.csv\")\n",
    "\n",
    "#Salida de modelos entrenados\n",
    "PATH_TO_MODELS = os.path.join(BASE_DIR, \"work/models\")\n",
    "\n",
    "#Artefactos a subir a optuna\n",
    "PATH_TO_TEMP_FILES = os.path.join(BASE_DIR, \"work/optuna_temp_artifacts\")\n",
    "\n",
    "#Artefactos que optuna gestiona\n",
    "PATH_TO_OPTUNA_ARTIFACTS = os.path.join(BASE_DIR, \"work/optuna_artifacts\")\n",
    "\n",
    "\n",
    "SEED = 42 #Semilla de procesos aleatorios (para poder replicar exactamente al volver a correr un modelo)\n",
    "TEST_SIZE = 0.2 #Facción para train/test= split \n",
    "\n",
    "#PONER CUALQUIER SEMILLLA Y 20% DEL DATASTE USAMOS"
   ]
  },
  {
   "cell_type": "markdown",
   "metadata": {},
   "source": [
    "## Lectura del dataset\n",
    "Lectura del dataset tabular y primeros analisis de los datos"
   ]
  },
  {
   "cell_type": "code",
   "execution_count": 124,
   "metadata": {},
   "outputs": [],
   "source": [
    "# Datos Tabulares\n",
    "dataset = pd.read_csv(PATH_TO_TRAIN)"
   ]
  },
  {
   "cell_type": "code",
   "execution_count": 125,
   "metadata": {},
   "outputs": [
    {
     "data": {
      "text/plain": [
       "Index(['Type', 'Name', 'Age', 'Breed1', 'Breed2', 'Gender', 'Color1', 'Color2',\n",
       "       'Color3', 'MaturitySize', 'FurLength', 'Vaccinated', 'Dewormed',\n",
       "       'Sterilized', 'Health', 'Quantity', 'Fee', 'State', 'RescuerID',\n",
       "       'VideoAmt', 'Description', 'PetID', 'PhotoAmt', 'AdoptionSpeed'],\n",
       "      dtype='object')"
      ]
     },
     "execution_count": 125,
     "metadata": {},
     "output_type": "execute_result"
    }
   ],
   "source": [
    "#Columnas del dataset\n",
    "dataset.columns"
   ]
  },
  {
   "cell_type": "code",
   "execution_count": 126,
   "metadata": {},
   "outputs": [
    {
     "data": {
      "text/html": [
       "<div>\n",
       "<style scoped>\n",
       "    .dataframe tbody tr th:only-of-type {\n",
       "        vertical-align: middle;\n",
       "    }\n",
       "\n",
       "    .dataframe tbody tr th {\n",
       "        vertical-align: top;\n",
       "    }\n",
       "\n",
       "    .dataframe thead th {\n",
       "        text-align: right;\n",
       "    }\n",
       "</style>\n",
       "<table border=\"1\" class=\"dataframe\">\n",
       "  <thead>\n",
       "    <tr style=\"text-align: right;\">\n",
       "      <th></th>\n",
       "      <th>Type</th>\n",
       "      <th>Name</th>\n",
       "      <th>Age</th>\n",
       "      <th>Breed1</th>\n",
       "      <th>Breed2</th>\n",
       "      <th>Gender</th>\n",
       "      <th>Color1</th>\n",
       "      <th>Color2</th>\n",
       "      <th>Color3</th>\n",
       "      <th>MaturitySize</th>\n",
       "      <th>...</th>\n",
       "      <th>Health</th>\n",
       "      <th>Quantity</th>\n",
       "      <th>Fee</th>\n",
       "      <th>State</th>\n",
       "      <th>RescuerID</th>\n",
       "      <th>VideoAmt</th>\n",
       "      <th>Description</th>\n",
       "      <th>PetID</th>\n",
       "      <th>PhotoAmt</th>\n",
       "      <th>AdoptionSpeed</th>\n",
       "    </tr>\n",
       "  </thead>\n",
       "  <tbody>\n",
       "    <tr>\n",
       "      <th>0</th>\n",
       "      <td>2</td>\n",
       "      <td>Nibble</td>\n",
       "      <td>3</td>\n",
       "      <td>299</td>\n",
       "      <td>0</td>\n",
       "      <td>1</td>\n",
       "      <td>1</td>\n",
       "      <td>7</td>\n",
       "      <td>0</td>\n",
       "      <td>1</td>\n",
       "      <td>...</td>\n",
       "      <td>1</td>\n",
       "      <td>1</td>\n",
       "      <td>100</td>\n",
       "      <td>41326</td>\n",
       "      <td>8480853f516546f6cf33aa88cd76c379</td>\n",
       "      <td>0</td>\n",
       "      <td>Nibble is a 3+ month old ball of cuteness. He ...</td>\n",
       "      <td>86e1089a3</td>\n",
       "      <td>1.0</td>\n",
       "      <td>2</td>\n",
       "    </tr>\n",
       "    <tr>\n",
       "      <th>1</th>\n",
       "      <td>2</td>\n",
       "      <td>No Name Yet</td>\n",
       "      <td>1</td>\n",
       "      <td>265</td>\n",
       "      <td>0</td>\n",
       "      <td>1</td>\n",
       "      <td>1</td>\n",
       "      <td>2</td>\n",
       "      <td>0</td>\n",
       "      <td>2</td>\n",
       "      <td>...</td>\n",
       "      <td>1</td>\n",
       "      <td>1</td>\n",
       "      <td>0</td>\n",
       "      <td>41401</td>\n",
       "      <td>3082c7125d8fb66f7dd4bff4192c8b14</td>\n",
       "      <td>0</td>\n",
       "      <td>I just found it alone yesterday near my apartm...</td>\n",
       "      <td>6296e909a</td>\n",
       "      <td>2.0</td>\n",
       "      <td>0</td>\n",
       "    </tr>\n",
       "    <tr>\n",
       "      <th>2</th>\n",
       "      <td>1</td>\n",
       "      <td>Brisco</td>\n",
       "      <td>1</td>\n",
       "      <td>307</td>\n",
       "      <td>0</td>\n",
       "      <td>1</td>\n",
       "      <td>2</td>\n",
       "      <td>7</td>\n",
       "      <td>0</td>\n",
       "      <td>2</td>\n",
       "      <td>...</td>\n",
       "      <td>1</td>\n",
       "      <td>1</td>\n",
       "      <td>0</td>\n",
       "      <td>41326</td>\n",
       "      <td>fa90fa5b1ee11c86938398b60abc32cb</td>\n",
       "      <td>0</td>\n",
       "      <td>Their pregnant mother was dumped by her irresp...</td>\n",
       "      <td>3422e4906</td>\n",
       "      <td>7.0</td>\n",
       "      <td>3</td>\n",
       "    </tr>\n",
       "    <tr>\n",
       "      <th>3</th>\n",
       "      <td>1</td>\n",
       "      <td>Miko</td>\n",
       "      <td>4</td>\n",
       "      <td>307</td>\n",
       "      <td>0</td>\n",
       "      <td>2</td>\n",
       "      <td>1</td>\n",
       "      <td>2</td>\n",
       "      <td>0</td>\n",
       "      <td>2</td>\n",
       "      <td>...</td>\n",
       "      <td>1</td>\n",
       "      <td>1</td>\n",
       "      <td>150</td>\n",
       "      <td>41401</td>\n",
       "      <td>9238e4f44c71a75282e62f7136c6b240</td>\n",
       "      <td>0</td>\n",
       "      <td>Good guard dog, very alert, active, obedience ...</td>\n",
       "      <td>5842f1ff5</td>\n",
       "      <td>8.0</td>\n",
       "      <td>2</td>\n",
       "    </tr>\n",
       "    <tr>\n",
       "      <th>4</th>\n",
       "      <td>1</td>\n",
       "      <td>Hunter</td>\n",
       "      <td>1</td>\n",
       "      <td>307</td>\n",
       "      <td>0</td>\n",
       "      <td>1</td>\n",
       "      <td>1</td>\n",
       "      <td>0</td>\n",
       "      <td>0</td>\n",
       "      <td>2</td>\n",
       "      <td>...</td>\n",
       "      <td>1</td>\n",
       "      <td>1</td>\n",
       "      <td>0</td>\n",
       "      <td>41326</td>\n",
       "      <td>95481e953f8aed9ec3d16fc4509537e8</td>\n",
       "      <td>0</td>\n",
       "      <td>This handsome yet cute boy is up for adoption....</td>\n",
       "      <td>850a43f90</td>\n",
       "      <td>3.0</td>\n",
       "      <td>2</td>\n",
       "    </tr>\n",
       "  </tbody>\n",
       "</table>\n",
       "<p>5 rows × 24 columns</p>\n",
       "</div>"
      ],
      "text/plain": [
       "   Type         Name  Age  Breed1  Breed2  Gender  Color1  Color2  Color3  \\\n",
       "0     2       Nibble    3     299       0       1       1       7       0   \n",
       "1     2  No Name Yet    1     265       0       1       1       2       0   \n",
       "2     1       Brisco    1     307       0       1       2       7       0   \n",
       "3     1         Miko    4     307       0       2       1       2       0   \n",
       "4     1       Hunter    1     307       0       1       1       0       0   \n",
       "\n",
       "   MaturitySize  ...  Health  Quantity  Fee  State  \\\n",
       "0             1  ...       1         1  100  41326   \n",
       "1             2  ...       1         1    0  41401   \n",
       "2             2  ...       1         1    0  41326   \n",
       "3             2  ...       1         1  150  41401   \n",
       "4             2  ...       1         1    0  41326   \n",
       "\n",
       "                          RescuerID  VideoAmt  \\\n",
       "0  8480853f516546f6cf33aa88cd76c379         0   \n",
       "1  3082c7125d8fb66f7dd4bff4192c8b14         0   \n",
       "2  fa90fa5b1ee11c86938398b60abc32cb         0   \n",
       "3  9238e4f44c71a75282e62f7136c6b240         0   \n",
       "4  95481e953f8aed9ec3d16fc4509537e8         0   \n",
       "\n",
       "                                         Description      PetID PhotoAmt  \\\n",
       "0  Nibble is a 3+ month old ball of cuteness. He ...  86e1089a3      1.0   \n",
       "1  I just found it alone yesterday near my apartm...  6296e909a      2.0   \n",
       "2  Their pregnant mother was dumped by her irresp...  3422e4906      7.0   \n",
       "3  Good guard dog, very alert, active, obedience ...  5842f1ff5      8.0   \n",
       "4  This handsome yet cute boy is up for adoption....  850a43f90      3.0   \n",
       "\n",
       "   AdoptionSpeed  \n",
       "0              2  \n",
       "1              0  \n",
       "2              3  \n",
       "3              2  \n",
       "4              2  \n",
       "\n",
       "[5 rows x 24 columns]"
      ]
     },
     "execution_count": 126,
     "metadata": {},
     "output_type": "execute_result"
    }
   ],
   "source": [
    "dataset.head()"
   ]
  },
  {
   "cell_type": "markdown",
   "metadata": {},
   "source": [
    "## FEATURE ENGINEERING\n",
    "\n",
    "En esta sección, nos enfocaremos en el proceso de Feature Engineering. Este paso implica la creación, modificación y selección de características (features) en nuestro conjunto de datos con el objetivo de:\n",
    "\n",
    "1. Mejorar el rendimiento predictivo de nuestro modelo.\n",
    "2. Extraer información más relevante de los datos existentes.\n",
    "3. Crear nuevas variables que capturen relaciones importantes no evidentes en los datos.\n",
    "\n",
    "Evaluaremos el impacto de estas modificaciones comparando el rendimiento del modelo con y sin las nuevas características para evaluar de esta forma cuanto aporta el FE a la mejora final del modelo."
   ]
  },
  {
   "cell_type": "code",
   "execution_count": 127,
   "metadata": {},
   "outputs": [
    {
     "data": {
      "text/plain": [
       "Type                0\n",
       "Name             1265\n",
       "Age                 0\n",
       "Breed1              0\n",
       "Breed2              0\n",
       "Gender              0\n",
       "Color1              0\n",
       "Color2              0\n",
       "Color3              0\n",
       "MaturitySize        0\n",
       "FurLength           0\n",
       "Vaccinated          0\n",
       "Dewormed            0\n",
       "Sterilized          0\n",
       "Health              0\n",
       "Quantity            0\n",
       "Fee                 0\n",
       "State               0\n",
       "RescuerID           0\n",
       "VideoAmt            0\n",
       "Description        13\n",
       "PetID               0\n",
       "PhotoAmt            0\n",
       "AdoptionSpeed       0\n",
       "dtype: int64"
      ]
     },
     "execution_count": 127,
     "metadata": {},
     "output_type": "execute_result"
    }
   ],
   "source": [
    "#Imputar datos faltantes en Nombre\n",
    "dataset.isnull().sum()"
   ]
  },
  {
   "cell_type": "code",
   "execution_count": 128,
   "metadata": {},
   "outputs": [],
   "source": [
    "def feature_engineering(dataset):\n",
    "    # Categorizacion de la edad\n",
    "    bins = [0, 12, 60, float('inf')]\n",
    "    labels = [1, 2, 3]  # 1='puppy' 2='adult' 3='senior'\n",
    "    dataset['AgeCategory'] = pd.cut(dataset['Age'], bins, labels=labels, right=False) #Categoriza la edad en 3 grupos\n",
    "\n",
    "    # Combinacion de raza\n",
    "    dataset['Breed'] = dataset.apply(lambda row: 2 if row['Breed2'] != 0 else 1, axis=1)#Crea una variable que indica si la mascota es de raza pura o no\n",
    "\n",
    "    # Color\n",
    "    dataset['IsMultiColored'] = dataset.apply(lambda row: 1 if row['Color2'] != 0 or row['Color3'] != 0 else 0, axis=1)\n",
    "\n",
    "    # Nombre\n",
    "    dataset['Name'].fillna('No Name Yet', inplace=True) # Rellenar valores faltantes\n",
    "    dataset['Name'] = dataset['Name'].replace('', 'No Name Yet') # Rellenar valores vacios\n",
    "    dataset['Name'] = dataset['Name'].apply(lambda x: 'No Name Yet' if len(str(x)) < 3 else x) # Tratar nombres con 2 caracteres o menos como sin nombre\n",
    "    dataset['name_code'] = dataset['Name'].apply(lambda x: 1 if x != 'No Name Yet' else 0) # Variable que indica si la mascota tiene nombre\n",
    "    dataset['Is_Genuine_Name'] = ((dataset['Name'] != 'No Name Yet') & (dataset['Quantity'] > 1)).astype(int) # Variable que indica si el nombre es genuino teniendo en cuenta la cantidad de mascotas asociadas a un solo nombre\n",
    "    \n",
    "    # logaritmo a variables numericas puede ayudar a normalizar las distribuciones\n",
    "    dataset['Age_log'] = np.log1p(dataset['Age']) \n",
    "    dataset['PhotoAmt_log'] = np.log1p(dataset['PhotoAmt'])\n",
    "    dataset['VideoAmt_log'] = np.log1p(dataset['VideoAmt'])\n",
    "    dataset['Fee_log'] = np.log1p(dataset['Fee'])\n",
    "\n",
    "    # intersecciones y agregaciones por genero\n",
    "    dataset['Gender_Age_mean'] = dataset.groupby('Gender')['Age'].transform('mean') # Edad promedio por genero\n",
    "    dataset['Gender_Fee_mean'] = dataset.groupby('Gender')['Fee'].transform('mean') # Tarifa promedio por genero\n",
    "    dataset['Gender_PhotoAmt_mean'] = dataset.groupby('Gender')['PhotoAmt'].transform('mean') # Cantidad de fotos promedio por genero\n",
    "    dataset['Gender_VideoAmt_mean'] = dataset.groupby('Gender')['VideoAmt'].transform('mean') # Cantidad de videos promedio por genero\n",
    "\n",
    "    # intersecciones y agregaciones por raza (Breed1 indicando la raza principal)\n",
    "    dataset['Breed_Age_mean'] = dataset.groupby('Breed1')['Age'].transform('mean') # Edad promedio por raza\n",
    "    dataset['Breed_Fee_mean'] = dataset.groupby('Breed1')['Fee'].transform('mean') # Tarifa promedio por raza\n",
    "    dataset['Breed_PhotoAmt_mean'] = dataset.groupby('Breed1')['PhotoAmt'].transform('mean') # Cantidad de fotos promedio por raza\n",
    "    dataset['Breed_VideoAmt_mean'] = dataset.groupby('Breed1')['VideoAmt'].transform('mean') # Cantidad de videos promedio por raza \n",
    "    \n",
    "    # intersecciones y agregaciones por genero y raza\n",
    "    dataset['Gender_Breed_Age_mean'] = dataset.groupby(['Gender', 'Breed1'])['Age'].transform('mean') # Edad promedio por genero y raza\n",
    "    dataset['Gender_Breed_Fee_mean'] = dataset.groupby(['Gender', 'Breed1'])['Fee'].transform('mean') # Tarifa promedio por genero y raza\n",
    "    dataset['Gender_Breed_PhotoAmt_mean'] = dataset.groupby(['Gender', 'Breed1'])['PhotoAmt'].transform('mean') # Cantidad de fotos promedio por genero y raza\n",
    "    dataset['Gender_Breed_VideoAmt_mean'] = dataset.groupby(['Gender', 'Breed1'])['VideoAmt'].transform('mean') # Cantidad de videos promedio por genero y raza\n",
    "    \n",
    "    # Ratios o diferencias entre variables\n",
    "    dataset['Age_to_Gender_mean_ratio'] = dataset['Age'] / dataset['Gender_Age_mean'] # Razon entre la edad de la mascota y la edad promedio por genero\n",
    "    dataset['Fee_to_Gender_mean_ratio'] = dataset['Fee'] / dataset['Gender_Fee_mean'] # Razon entre la tarifa de la mascota y la tarifa promedio por genero\n",
    "    dataset['Age_to_Breed_mean_ratio'] = dataset['Age'] / dataset['Breed_Age_mean'] # Razon entre la edad de la mascota y la edad promedio por raza\n",
    "    dataset['Fee_to_Breed_mean_ratio'] = dataset['Fee'] / dataset['Breed_Fee_mean'] # Razon entre la tarifa de la mascota y la tarifa promedio por raza\n",
    "    \n",
    "    # Interacciones entre variables\n",
    "    dataset['Age_Fee_interaction'] = dataset['Age'] * dataset['Fee'] # Interaccion entre la edad y la tarifa\n",
    "    dataset['PhotoAmt_VideoAmt_interaction'] = dataset['PhotoAmt'] * dataset['VideoAmt'] # Interaccion entre la cantidad de fotos y videos\n",
    "    \n",
    "    # logaritmo de nuevas variables\n",
    "    dataset['Gender_Fee_mean_log'] = np.log1p(dataset['Gender_Fee_mean'])\n",
    "    dataset['Breed_Fee_mean_log'] = np.log1p(dataset['Breed_Fee_mean'])\n",
    "    dataset['Gender_Breed_Fee_mean_log'] = np.log1p(dataset['Gender_Breed_Fee_mean'])\n",
    "    \n",
    "    # intereaciones adicionales\n",
    "    dataset['Age_PhotoAmt_Fee_interaction'] = dataset['Age'] * dataset['PhotoAmt'] * dataset['Fee']\n",
    "    dataset['Age_VideoAmt_Fee_interaction'] = dataset['Age'] * dataset['VideoAmt'] * dataset['Fee']\n",
    "\n",
    "    # Interacciones entre variables\n",
    "    dataset['Age_PhotoAmt'] = dataset['Age'] * dataset['PhotoAmt'] # Interaccion entre la edad y la cantidad de fotos\n",
    "    dataset['Age_VideoAmt'] = dataset['Age'] * dataset['VideoAmt'] # Interaccion entre la edad y la cantidad de videos\n",
    "    dataset['Photo_Video_Ratio'] = dataset['PhotoAmt'] / (dataset['VideoAmt'] + 1) # Ratio entre PhotoAmt y VideoAmt\n",
    "    dataset['Fee_Age_Ratio'] = dataset['Fee'] / (dataset['Age'] + 1) # Ratio entre Fee y Age\n",
    "    dataset['MaturitySize_FurLength'] = dataset['MaturitySize'] * dataset['FurLength'] #interacion entre MaturitySize y FurLength\n",
    "    dataset['PhotoAmt_FurLength'] = dataset['PhotoAmt'] * dataset['FurLength'] # interaccion entre PhotoAmt y FurLength\n",
    "    dataset['VideoAmt_FurLength'] = dataset['VideoAmt'] * dataset['FurLength'] # interaccion entre VideoAmt y FurLength\n",
    "    \n",
    "    # mas agregaciones\n",
    "    dataset['Breed1_mean_Age'] = dataset.groupby('Breed1')['Age'].transform('mean') # Edad promedio por raza\n",
    "    dataset['Breed1_mean_PhotoAmt'] = dataset.groupby('Breed1')['PhotoAmt'].transform('mean') # Cantidad de fotos promedio por raza\n",
    "    dataset['RescuerID_count'] = dataset.groupby('RescuerID')['RescuerID'].transform('count') # Cantidad de mascotas por RescuerID\n",
    "\n",
    "    # Nuevas variables asociadas al texto\n",
    "    dataset[\"description_word_count\"] = dataset[\"Description\"].apply(lambda x: len(str(x).split()) if pd.notnull(x) else 0) # Cantidad de palabras en la descripcion\n",
    "    dataset['Description_Length'] = dataset['Description'].apply(lambda x: len(x) if isinstance(x, str) else 0) # Longitud de la descripcion\n",
    "    dataset['Name_Length'] = dataset['Name'].apply(len) # Longitud del nombre\n",
    "    dataset['Name_Word_Count'] = dataset['Name'].apply(lambda x: len(x.split())) # Cantidad de palabras en el nombre\n",
    "    dataset['Name_Length_Category'] = dataset['Name'].apply(lambda x: 0 if len(x) < 5 else 1) # Categorizacion de la longitud del nombre\n",
    "\n",
    "    # SALUD:\n",
    "    # condicion simple\n",
    "    dataset['Health_vac'] = np.where(dataset['Vaccinated'] == 1, 1, 0)\n",
    "    dataset['Health_dew'] = np.where(dataset['Dewormed'] == 1, 1, 0)\n",
    "    dataset['Health_ster'] = np.where(dataset['Sterilized'] == 1, 1, 0)\n",
    "    # condiciones dobles\n",
    "    dataset['Health_vac_dew'] = np.where((dataset['Vaccinated'] == 1) & (dataset['Dewormed'] == 1), 1, 0)\n",
    "    dataset['Health_vac_ster'] = np.where((dataset['Vaccinated'] == 1) & (dataset['Sterilized'] == 1), 1, 0)\n",
    "    dataset['Health_dew_ster'] = np.where((dataset['Dewormed'] == 1) & (dataset['Sterilized'] == 1), 1, 0)\n",
    "    # Todas las combinaciones (salud completa)\n",
    "    dataset['Health_full'] = np.where((dataset['Vaccinated'] == 1) & (dataset['Dewormed'] == 1) & (dataset['Sterilized'] == 1), 1, 0)\n",
    "    # Condicion simple inversa \n",
    "    dataset['Health_not_vac'] = np.where(dataset['Vaccinated'] == 2, 1, 0)\n",
    "    dataset['Health_not_dew'] = np.where(dataset['Dewormed'] == 2, 1, 0)\n",
    "    dataset['Health_not_ster'] = np.where(dataset['Sterilized'] == 2, 1, 0)\n",
    "    # Condiciones dobles inversas\n",
    "    dataset['Health_not_vac_dew'] = np.where((dataset['Vaccinated'] == 2) & (dataset['Dewormed'] == 2), 1, 0)\n",
    "    dataset['Health_not_vac_ster'] = np.where((dataset['Vaccinated'] == 2) & (dataset['Sterilized'] == 2), 1, 0)\n",
    "    dataset['Health_not_dew_ster'] = np.where((dataset['Dewormed'] == 2) & (dataset['Sterilized'] == 2), 1, 0)\n",
    "    # Todas las combinaciones inversas (salud nula)\n",
    "    dataset['Health_none'] = np.where((dataset['Vaccinated'] == 2) & (dataset['Dewormed'] == 2) & (dataset['Sterilized'] == 2), 1, 0)\n",
    "    \n",
    "    # FE adicionales asociados a rescuerID\n",
    "    dataset['RescuerID_mean_Age'] = dataset.groupby('RescuerID')['Age'].transform('mean')# Promedio de edades de mascotas para cada rescatista\n",
    "    dataset['RescuerID_std_Age'] = dataset.groupby('RescuerID')['Age'].transform('std')# Desviacion estandar de edades de mascotas para cada rescatista\n",
    "    dataset['RescuerID_mean_Fee'] = dataset.groupby('RescuerID')['Fee'].transform('mean')# Promedio de tarifas para cada rescatista\n",
    "    dataset['RescuerID_std_Fee'] = dataset.groupby('RescuerID')['Fee'].transform('std')# Desviacion estandar de tarifas para cada rescatista\n",
    "    dataset['RescuerID_mean_PhotoAmt'] = dataset.groupby('RescuerID')['PhotoAmt'].transform('mean')# Promedio de fotos por mascota para cada rescatista\n",
    "    dataset['RescuerID_mean_VideoAmt'] = dataset.groupby('RescuerID')['VideoAmt'].transform('mean')# Promedio de videos por mascota para cada rescatista\n",
    "    dataset['RescuerID_name_ratio'] = dataset.groupby('RescuerID')['name_code'].transform('mean')# Porcentaje de mascotas con nombre para cada rescatista\n",
    "    dataset['RescuerID_most_common_breed'] = dataset.groupby('RescuerID')['Breed1'].transform(lambda x: x.value_counts().index[0])# Raza mas comun para cada rescatista\n",
    "    dataset['RescuerID_young_ratio'] = dataset.groupby('RescuerID')['AgeCategory'].transform(lambda x: (x == 1).mean())# Porcentaje de mascotas cachorras para cada rescatista\n",
    "    dataset['RescuerID_full_health_ratio'] = dataset.groupby('RescuerID')['Health_full'].transform('mean')# Porcentaje de mascotas con salud completa (vacunado, desparasitado y esterilizado) para cada rescatista\n",
    "    dataset['RescuerID_mean_description_length'] = dataset.groupby('RescuerID')['Description_Length'].transform('mean')# Longitud promedio de descripciones para cada rescatista\n",
    "    dataset['RescuerID_dog_ratio'] = dataset.groupby('RescuerID')['Type'].transform(lambda x: (x == 1).mean()) #Perro vs gato ratio para cada rescatista\n",
    "    dataset['RescuerID_breed_specialization'] = dataset.groupby('RescuerID')['Breed1'].transform(lambda x: x.value_counts().iloc[0] / len(x)) # Especializacion en raza para cada rescatista\n",
    "    \n",
    "    return dataset"
   ]
  },
  {
   "cell_type": "code",
   "execution_count": 129,
   "metadata": {},
   "outputs": [
    {
     "name": "stderr",
     "output_type": "stream",
     "text": [
      "C:\\Users\\Miner\\AppData\\Local\\Temp\\ipykernel_2764\\2023535862.py:15: FutureWarning:\n",
      "\n",
      "A value is trying to be set on a copy of a DataFrame or Series through chained assignment using an inplace method.\n",
      "The behavior will change in pandas 3.0. This inplace method will never work because the intermediate object on which we are setting values always behaves as a copy.\n",
      "\n",
      "For example, when doing 'df[col].method(value, inplace=True)', try using 'df.method({col: value}, inplace=True)' or df[col] = df[col].method(value) instead, to perform the operation inplace on the original object.\n",
      "\n",
      "\n",
      "\n"
     ]
    },
    {
     "data": {
      "text/html": [
       "<div>\n",
       "<style scoped>\n",
       "    .dataframe tbody tr th:only-of-type {\n",
       "        vertical-align: middle;\n",
       "    }\n",
       "\n",
       "    .dataframe tbody tr th {\n",
       "        vertical-align: top;\n",
       "    }\n",
       "\n",
       "    .dataframe thead th {\n",
       "        text-align: right;\n",
       "    }\n",
       "</style>\n",
       "<table border=\"1\" class=\"dataframe\">\n",
       "  <thead>\n",
       "    <tr style=\"text-align: right;\">\n",
       "      <th></th>\n",
       "      <th>Type</th>\n",
       "      <th>Name</th>\n",
       "      <th>Age</th>\n",
       "      <th>Breed1</th>\n",
       "      <th>Breed2</th>\n",
       "      <th>Gender</th>\n",
       "      <th>Color1</th>\n",
       "      <th>Color2</th>\n",
       "      <th>Color3</th>\n",
       "      <th>MaturitySize</th>\n",
       "      <th>...</th>\n",
       "      <th>RescuerID_std_Fee</th>\n",
       "      <th>RescuerID_mean_PhotoAmt</th>\n",
       "      <th>RescuerID_mean_VideoAmt</th>\n",
       "      <th>RescuerID_name_ratio</th>\n",
       "      <th>RescuerID_most_common_breed</th>\n",
       "      <th>RescuerID_young_ratio</th>\n",
       "      <th>RescuerID_full_health_ratio</th>\n",
       "      <th>RescuerID_mean_description_length</th>\n",
       "      <th>RescuerID_dog_ratio</th>\n",
       "      <th>RescuerID_breed_specialization</th>\n",
       "    </tr>\n",
       "  </thead>\n",
       "  <tbody>\n",
       "    <tr>\n",
       "      <th>0</th>\n",
       "      <td>2</td>\n",
       "      <td>Nibble</td>\n",
       "      <td>3</td>\n",
       "      <td>299</td>\n",
       "      <td>0</td>\n",
       "      <td>1</td>\n",
       "      <td>1</td>\n",
       "      <td>7</td>\n",
       "      <td>0</td>\n",
       "      <td>1</td>\n",
       "      <td>...</td>\n",
       "      <td>51.754917</td>\n",
       "      <td>1.500000</td>\n",
       "      <td>0.000000</td>\n",
       "      <td>1.000000</td>\n",
       "      <td>276</td>\n",
       "      <td>0.750000</td>\n",
       "      <td>0.000000</td>\n",
       "      <td>434.250000</td>\n",
       "      <td>0.000000</td>\n",
       "      <td>0.375000</td>\n",
       "    </tr>\n",
       "    <tr>\n",
       "      <th>1</th>\n",
       "      <td>2</td>\n",
       "      <td>No Name Yet</td>\n",
       "      <td>1</td>\n",
       "      <td>265</td>\n",
       "      <td>0</td>\n",
       "      <td>1</td>\n",
       "      <td>1</td>\n",
       "      <td>2</td>\n",
       "      <td>0</td>\n",
       "      <td>2</td>\n",
       "      <td>...</td>\n",
       "      <td>NaN</td>\n",
       "      <td>2.000000</td>\n",
       "      <td>0.000000</td>\n",
       "      <td>0.000000</td>\n",
       "      <td>265</td>\n",
       "      <td>1.000000</td>\n",
       "      <td>0.000000</td>\n",
       "      <td>118.000000</td>\n",
       "      <td>0.000000</td>\n",
       "      <td>1.000000</td>\n",
       "    </tr>\n",
       "    <tr>\n",
       "      <th>2</th>\n",
       "      <td>1</td>\n",
       "      <td>Brisco</td>\n",
       "      <td>1</td>\n",
       "      <td>307</td>\n",
       "      <td>0</td>\n",
       "      <td>1</td>\n",
       "      <td>2</td>\n",
       "      <td>7</td>\n",
       "      <td>0</td>\n",
       "      <td>2</td>\n",
       "      <td>...</td>\n",
       "      <td>14.927688</td>\n",
       "      <td>3.572985</td>\n",
       "      <td>0.010893</td>\n",
       "      <td>0.986928</td>\n",
       "      <td>307</td>\n",
       "      <td>0.941176</td>\n",
       "      <td>0.106754</td>\n",
       "      <td>174.178649</td>\n",
       "      <td>0.991285</td>\n",
       "      <td>0.684096</td>\n",
       "    </tr>\n",
       "    <tr>\n",
       "      <th>3</th>\n",
       "      <td>1</td>\n",
       "      <td>Miko</td>\n",
       "      <td>4</td>\n",
       "      <td>307</td>\n",
       "      <td>0</td>\n",
       "      <td>2</td>\n",
       "      <td>1</td>\n",
       "      <td>2</td>\n",
       "      <td>0</td>\n",
       "      <td>2</td>\n",
       "      <td>...</td>\n",
       "      <td>70.101967</td>\n",
       "      <td>9.500000</td>\n",
       "      <td>0.020000</td>\n",
       "      <td>1.000000</td>\n",
       "      <td>307</td>\n",
       "      <td>0.820000</td>\n",
       "      <td>0.280000</td>\n",
       "      <td>426.180000</td>\n",
       "      <td>0.820000</td>\n",
       "      <td>0.760000</td>\n",
       "    </tr>\n",
       "    <tr>\n",
       "      <th>4</th>\n",
       "      <td>1</td>\n",
       "      <td>Hunter</td>\n",
       "      <td>1</td>\n",
       "      <td>307</td>\n",
       "      <td>0</td>\n",
       "      <td>1</td>\n",
       "      <td>1</td>\n",
       "      <td>0</td>\n",
       "      <td>0</td>\n",
       "      <td>2</td>\n",
       "      <td>...</td>\n",
       "      <td>0.000000</td>\n",
       "      <td>2.305970</td>\n",
       "      <td>0.007463</td>\n",
       "      <td>1.000000</td>\n",
       "      <td>307</td>\n",
       "      <td>0.895522</td>\n",
       "      <td>0.044776</td>\n",
       "      <td>242.029851</td>\n",
       "      <td>0.970149</td>\n",
       "      <td>0.895522</td>\n",
       "    </tr>\n",
       "  </tbody>\n",
       "</table>\n",
       "<p>5 rows × 98 columns</p>\n",
       "</div>"
      ],
      "text/plain": [
       "   Type         Name  Age  Breed1  Breed2  Gender  Color1  Color2  Color3  \\\n",
       "0     2       Nibble    3     299       0       1       1       7       0   \n",
       "1     2  No Name Yet    1     265       0       1       1       2       0   \n",
       "2     1       Brisco    1     307       0       1       2       7       0   \n",
       "3     1         Miko    4     307       0       2       1       2       0   \n",
       "4     1       Hunter    1     307       0       1       1       0       0   \n",
       "\n",
       "   MaturitySize  ...  RescuerID_std_Fee  RescuerID_mean_PhotoAmt  \\\n",
       "0             1  ...          51.754917                 1.500000   \n",
       "1             2  ...                NaN                 2.000000   \n",
       "2             2  ...          14.927688                 3.572985   \n",
       "3             2  ...          70.101967                 9.500000   \n",
       "4             2  ...           0.000000                 2.305970   \n",
       "\n",
       "   RescuerID_mean_VideoAmt  RescuerID_name_ratio  RescuerID_most_common_breed  \\\n",
       "0                 0.000000              1.000000                          276   \n",
       "1                 0.000000              0.000000                          265   \n",
       "2                 0.010893              0.986928                          307   \n",
       "3                 0.020000              1.000000                          307   \n",
       "4                 0.007463              1.000000                          307   \n",
       "\n",
       "   RescuerID_young_ratio  RescuerID_full_health_ratio  \\\n",
       "0               0.750000                     0.000000   \n",
       "1               1.000000                     0.000000   \n",
       "2               0.941176                     0.106754   \n",
       "3               0.820000                     0.280000   \n",
       "4               0.895522                     0.044776   \n",
       "\n",
       "   RescuerID_mean_description_length RescuerID_dog_ratio  \\\n",
       "0                         434.250000            0.000000   \n",
       "1                         118.000000            0.000000   \n",
       "2                         174.178649            0.991285   \n",
       "3                         426.180000            0.820000   \n",
       "4                         242.029851            0.970149   \n",
       "\n",
       "   RescuerID_breed_specialization  \n",
       "0                        0.375000  \n",
       "1                        1.000000  \n",
       "2                        0.684096  \n",
       "3                        0.760000  \n",
       "4                        0.895522  \n",
       "\n",
       "[5 rows x 98 columns]"
      ]
     },
     "execution_count": 129,
     "metadata": {},
     "output_type": "execute_result"
    }
   ],
   "source": [
    "feature_engineering(dataset)\n",
    "dataset.head()"
   ]
  },
  {
   "cell_type": "code",
   "execution_count": 130,
   "metadata": {},
   "outputs": [
    {
     "name": "stdout",
     "output_type": "stream",
     "text": [
      "Variables numéricas: ['Type', 'Age', 'Breed1', 'Breed2', 'Gender', 'Color1', 'Color2', 'Color3', 'MaturitySize', 'FurLength', 'Vaccinated', 'Dewormed', 'Sterilized', 'Health', 'Quantity', 'Fee', 'State', 'VideoAmt', 'PhotoAmt', 'AdoptionSpeed', 'Breed', 'IsMultiColored', 'name_code', 'Is_Genuine_Name', 'Age_log', 'PhotoAmt_log', 'VideoAmt_log', 'Fee_log', 'Gender_Age_mean', 'Gender_Fee_mean', 'Gender_PhotoAmt_mean', 'Gender_VideoAmt_mean', 'Breed_Age_mean', 'Breed_Fee_mean', 'Breed_PhotoAmt_mean', 'Breed_VideoAmt_mean', 'Gender_Breed_Age_mean', 'Gender_Breed_Fee_mean', 'Gender_Breed_PhotoAmt_mean', 'Gender_Breed_VideoAmt_mean', 'Age_to_Gender_mean_ratio', 'Fee_to_Gender_mean_ratio', 'Age_to_Breed_mean_ratio', 'Fee_to_Breed_mean_ratio', 'Age_Fee_interaction', 'PhotoAmt_VideoAmt_interaction', 'Gender_Fee_mean_log', 'Breed_Fee_mean_log', 'Gender_Breed_Fee_mean_log', 'Age_PhotoAmt_Fee_interaction', 'Age_VideoAmt_Fee_interaction', 'Age_PhotoAmt', 'Age_VideoAmt', 'Photo_Video_Ratio', 'Fee_Age_Ratio', 'MaturitySize_FurLength', 'PhotoAmt_FurLength', 'VideoAmt_FurLength', 'Breed1_mean_Age', 'Breed1_mean_PhotoAmt', 'RescuerID_count', 'description_word_count', 'Description_Length', 'Name_Length', 'Name_Word_Count', 'Name_Length_Category', 'Health_vac', 'Health_dew', 'Health_ster', 'Health_vac_dew', 'Health_vac_ster', 'Health_dew_ster', 'Health_full', 'Health_not_vac', 'Health_not_dew', 'Health_not_ster', 'Health_not_vac_dew', 'Health_not_vac_ster', 'Health_not_dew_ster', 'Health_none', 'RescuerID_mean_Age', 'RescuerID_std_Age', 'RescuerID_mean_Fee', 'RescuerID_std_Fee', 'RescuerID_mean_PhotoAmt', 'RescuerID_mean_VideoAmt', 'RescuerID_name_ratio', 'RescuerID_most_common_breed', 'RescuerID_young_ratio', 'RescuerID_full_health_ratio', 'RescuerID_mean_description_length', 'RescuerID_dog_ratio', 'RescuerID_breed_specialization']\n",
      "Variables categóricas: ['Name', 'RescuerID', 'Description', 'PetID', 'AgeCategory']\n"
     ]
    }
   ],
   "source": [
    "# Listar variables numéricas\n",
    "numeric_features = dataset.select_dtypes(include=['number']).columns.tolist()\n",
    "print(\"Variables numéricas:\", numeric_features)\n",
    "\n",
    "# Listar variables categóricas\n",
    "categorical_features = dataset.select_dtypes(include=['object', 'category']).columns.tolist()\n",
    "print(\"Variables categóricas:\", categorical_features)"
   ]
  },
  {
   "cell_type": "code",
   "execution_count": 131,
   "metadata": {},
   "outputs": [],
   "source": [
    "#Este fragmento de código define una función add_new_variables_with_lgbm que agrega nuevas variables a un conjunto de datos utilizando un modelo de LightGBM. Aquí está el desglose paso a paso:\n",
    "#En principio descartamos esta funcion ya que la misma produce un overfitting en el modelo\n",
    "def add_new_variables_with_lgbm(dataset):\n",
    "    # Selección de características numéricas y categóricas:\n",
    "    numeric_features = ['Age', 'VideoAmt', 'PhotoAmt', 'AgeCategory', 'IsMultiColored', 'name_code','Age_log', 'PhotoAmt_log', 'VideoAmt_log', 'Age_PhotoAmt', 'Age_VideoAmt', 'Breed1_mean_Age', 'Breed1_mean_PhotoAmt']\n",
    "    categorical_features = ['Type', 'Breed1', 'Breed2', 'Gender', 'Color1', 'Color2', 'Color3']\n",
    "\n",
    "    # Codificación de características categóricas:\n",
    "    encoded_features = pd.get_dummies(dataset[categorical_features], columns=categorical_features, prefix=categorical_features)\n",
    "\n",
    "    # Concatenación de características numéricas y codificadas:\n",
    "    processed_dataset = pd.concat([dataset[numeric_features], encoded_features], axis=1)\n",
    "\n",
    "    # Creación del conjunto de datos de entrenamiento:\n",
    "    target = dataset['AdoptionSpeed']\n",
    "    train_data = lgb.Dataset(processed_dataset, label=target, params={'verbose': -1})\n",
    "\n",
    "    # Definición de parámetros de LightGBM\n",
    "    lgb_params = {\n",
    "        'objective': 'multiclass',\n",
    "        'num_class': 5,  \n",
    "        'metric': 'multi_logloss',\n",
    "        'boosting_type': 'gbdt',\n",
    "    }\n",
    "\n",
    "    # Entrenamiento del modelo LightGBM:\n",
    "    model = lgb.train(lgb_params, train_data)\n",
    "\n",
    "    # Obtención de predicciones para cada muestra:\n",
    "    predictions = model.predict(processed_dataset)\n",
    "\n",
    "    # Adición de nuevas variables basadas en las predicciones:\n",
    "    for class_num in range(5):  \n",
    "        dataset[f'prediction_class_{class_num}'] = predictions[:, class_num]\n",
    "\n",
    "    return dataset\n",
    "\n",
    "# Llamada a la función con el DataFrame:\n",
    "df_with_new_variables = add_new_variables_with_lgbm(dataset.copy())  # Usar dataset.copy() para evitar modificar el DataFrame original"
   ]
  },
  {
   "cell_type": "code",
   "execution_count": 132,
   "metadata": {},
   "outputs": [
    {
     "data": {
      "text/html": [
       "<div>\n",
       "<style scoped>\n",
       "    .dataframe tbody tr th:only-of-type {\n",
       "        vertical-align: middle;\n",
       "    }\n",
       "\n",
       "    .dataframe tbody tr th {\n",
       "        vertical-align: top;\n",
       "    }\n",
       "\n",
       "    .dataframe thead th {\n",
       "        text-align: right;\n",
       "    }\n",
       "</style>\n",
       "<table border=\"1\" class=\"dataframe\">\n",
       "  <thead>\n",
       "    <tr style=\"text-align: right;\">\n",
       "      <th></th>\n",
       "      <th>Type</th>\n",
       "      <th>Name</th>\n",
       "      <th>Age</th>\n",
       "      <th>Breed1</th>\n",
       "      <th>Breed2</th>\n",
       "      <th>Gender</th>\n",
       "      <th>Color1</th>\n",
       "      <th>Color2</th>\n",
       "      <th>Color3</th>\n",
       "      <th>MaturitySize</th>\n",
       "      <th>...</th>\n",
       "      <th>RescuerID_young_ratio</th>\n",
       "      <th>RescuerID_full_health_ratio</th>\n",
       "      <th>RescuerID_mean_description_length</th>\n",
       "      <th>RescuerID_dog_ratio</th>\n",
       "      <th>RescuerID_breed_specialization</th>\n",
       "      <th>prediction_class_0</th>\n",
       "      <th>prediction_class_1</th>\n",
       "      <th>prediction_class_2</th>\n",
       "      <th>prediction_class_3</th>\n",
       "      <th>prediction_class_4</th>\n",
       "    </tr>\n",
       "  </thead>\n",
       "  <tbody>\n",
       "    <tr>\n",
       "      <th>0</th>\n",
       "      <td>2</td>\n",
       "      <td>Nibble</td>\n",
       "      <td>3</td>\n",
       "      <td>299</td>\n",
       "      <td>0</td>\n",
       "      <td>1</td>\n",
       "      <td>1</td>\n",
       "      <td>7</td>\n",
       "      <td>0</td>\n",
       "      <td>1</td>\n",
       "      <td>...</td>\n",
       "      <td>0.750000</td>\n",
       "      <td>0.000000</td>\n",
       "      <td>434.250000</td>\n",
       "      <td>0.000000</td>\n",
       "      <td>0.375000</td>\n",
       "      <td>0.031812</td>\n",
       "      <td>0.266726</td>\n",
       "      <td>0.309360</td>\n",
       "      <td>0.192574</td>\n",
       "      <td>0.199528</td>\n",
       "    </tr>\n",
       "    <tr>\n",
       "      <th>1</th>\n",
       "      <td>2</td>\n",
       "      <td>No Name Yet</td>\n",
       "      <td>1</td>\n",
       "      <td>265</td>\n",
       "      <td>0</td>\n",
       "      <td>1</td>\n",
       "      <td>1</td>\n",
       "      <td>2</td>\n",
       "      <td>0</td>\n",
       "      <td>2</td>\n",
       "      <td>...</td>\n",
       "      <td>1.000000</td>\n",
       "      <td>0.000000</td>\n",
       "      <td>118.000000</td>\n",
       "      <td>0.000000</td>\n",
       "      <td>1.000000</td>\n",
       "      <td>0.107394</td>\n",
       "      <td>0.302479</td>\n",
       "      <td>0.279231</td>\n",
       "      <td>0.129347</td>\n",
       "      <td>0.181548</td>\n",
       "    </tr>\n",
       "    <tr>\n",
       "      <th>2</th>\n",
       "      <td>1</td>\n",
       "      <td>Brisco</td>\n",
       "      <td>1</td>\n",
       "      <td>307</td>\n",
       "      <td>0</td>\n",
       "      <td>1</td>\n",
       "      <td>2</td>\n",
       "      <td>7</td>\n",
       "      <td>0</td>\n",
       "      <td>2</td>\n",
       "      <td>...</td>\n",
       "      <td>0.941176</td>\n",
       "      <td>0.106754</td>\n",
       "      <td>174.178649</td>\n",
       "      <td>0.991285</td>\n",
       "      <td>0.684096</td>\n",
       "      <td>0.010582</td>\n",
       "      <td>0.239320</td>\n",
       "      <td>0.369112</td>\n",
       "      <td>0.320883</td>\n",
       "      <td>0.060103</td>\n",
       "    </tr>\n",
       "    <tr>\n",
       "      <th>3</th>\n",
       "      <td>1</td>\n",
       "      <td>Miko</td>\n",
       "      <td>4</td>\n",
       "      <td>307</td>\n",
       "      <td>0</td>\n",
       "      <td>2</td>\n",
       "      <td>1</td>\n",
       "      <td>2</td>\n",
       "      <td>0</td>\n",
       "      <td>2</td>\n",
       "      <td>...</td>\n",
       "      <td>0.820000</td>\n",
       "      <td>0.280000</td>\n",
       "      <td>426.180000</td>\n",
       "      <td>0.820000</td>\n",
       "      <td>0.760000</td>\n",
       "      <td>0.002984</td>\n",
       "      <td>0.088127</td>\n",
       "      <td>0.219885</td>\n",
       "      <td>0.391229</td>\n",
       "      <td>0.297774</td>\n",
       "    </tr>\n",
       "    <tr>\n",
       "      <th>4</th>\n",
       "      <td>1</td>\n",
       "      <td>Hunter</td>\n",
       "      <td>1</td>\n",
       "      <td>307</td>\n",
       "      <td>0</td>\n",
       "      <td>1</td>\n",
       "      <td>1</td>\n",
       "      <td>0</td>\n",
       "      <td>0</td>\n",
       "      <td>2</td>\n",
       "      <td>...</td>\n",
       "      <td>0.895522</td>\n",
       "      <td>0.044776</td>\n",
       "      <td>242.029851</td>\n",
       "      <td>0.970149</td>\n",
       "      <td>0.895522</td>\n",
       "      <td>0.005832</td>\n",
       "      <td>0.352999</td>\n",
       "      <td>0.347447</td>\n",
       "      <td>0.198967</td>\n",
       "      <td>0.094755</td>\n",
       "    </tr>\n",
       "    <tr>\n",
       "      <th>...</th>\n",
       "      <td>...</td>\n",
       "      <td>...</td>\n",
       "      <td>...</td>\n",
       "      <td>...</td>\n",
       "      <td>...</td>\n",
       "      <td>...</td>\n",
       "      <td>...</td>\n",
       "      <td>...</td>\n",
       "      <td>...</td>\n",
       "      <td>...</td>\n",
       "      <td>...</td>\n",
       "      <td>...</td>\n",
       "      <td>...</td>\n",
       "      <td>...</td>\n",
       "      <td>...</td>\n",
       "      <td>...</td>\n",
       "      <td>...</td>\n",
       "      <td>...</td>\n",
       "      <td>...</td>\n",
       "      <td>...</td>\n",
       "      <td>...</td>\n",
       "    </tr>\n",
       "    <tr>\n",
       "      <th>14988</th>\n",
       "      <td>2</td>\n",
       "      <td>No Name Yet</td>\n",
       "      <td>2</td>\n",
       "      <td>266</td>\n",
       "      <td>0</td>\n",
       "      <td>3</td>\n",
       "      <td>1</td>\n",
       "      <td>0</td>\n",
       "      <td>0</td>\n",
       "      <td>2</td>\n",
       "      <td>...</td>\n",
       "      <td>1.000000</td>\n",
       "      <td>0.000000</td>\n",
       "      <td>396.500000</td>\n",
       "      <td>0.000000</td>\n",
       "      <td>0.500000</td>\n",
       "      <td>0.008049</td>\n",
       "      <td>0.256520</td>\n",
       "      <td>0.238949</td>\n",
       "      <td>0.222162</td>\n",
       "      <td>0.274319</td>\n",
       "    </tr>\n",
       "    <tr>\n",
       "      <th>14989</th>\n",
       "      <td>2</td>\n",
       "      <td>Serato &amp; Eddie</td>\n",
       "      <td>60</td>\n",
       "      <td>265</td>\n",
       "      <td>264</td>\n",
       "      <td>3</td>\n",
       "      <td>1</td>\n",
       "      <td>4</td>\n",
       "      <td>7</td>\n",
       "      <td>2</td>\n",
       "      <td>...</td>\n",
       "      <td>0.000000</td>\n",
       "      <td>1.000000</td>\n",
       "      <td>142.000000</td>\n",
       "      <td>0.000000</td>\n",
       "      <td>0.666667</td>\n",
       "      <td>0.001065</td>\n",
       "      <td>0.057035</td>\n",
       "      <td>0.256470</td>\n",
       "      <td>0.193212</td>\n",
       "      <td>0.492219</td>\n",
       "    </tr>\n",
       "    <tr>\n",
       "      <th>14990</th>\n",
       "      <td>2</td>\n",
       "      <td>Monkies</td>\n",
       "      <td>2</td>\n",
       "      <td>265</td>\n",
       "      <td>266</td>\n",
       "      <td>3</td>\n",
       "      <td>5</td>\n",
       "      <td>6</td>\n",
       "      <td>7</td>\n",
       "      <td>3</td>\n",
       "      <td>...</td>\n",
       "      <td>0.578947</td>\n",
       "      <td>0.526316</td>\n",
       "      <td>211.210526</td>\n",
       "      <td>0.263158</td>\n",
       "      <td>0.315789</td>\n",
       "      <td>0.020654</td>\n",
       "      <td>0.374353</td>\n",
       "      <td>0.228038</td>\n",
       "      <td>0.208278</td>\n",
       "      <td>0.168676</td>\n",
       "    </tr>\n",
       "    <tr>\n",
       "      <th>14991</th>\n",
       "      <td>2</td>\n",
       "      <td>Ms Daym</td>\n",
       "      <td>9</td>\n",
       "      <td>266</td>\n",
       "      <td>0</td>\n",
       "      <td>2</td>\n",
       "      <td>4</td>\n",
       "      <td>7</td>\n",
       "      <td>0</td>\n",
       "      <td>1</td>\n",
       "      <td>...</td>\n",
       "      <td>1.000000</td>\n",
       "      <td>0.200000</td>\n",
       "      <td>266.800000</td>\n",
       "      <td>0.000000</td>\n",
       "      <td>0.600000</td>\n",
       "      <td>0.018798</td>\n",
       "      <td>0.117444</td>\n",
       "      <td>0.133822</td>\n",
       "      <td>0.187787</td>\n",
       "      <td>0.542149</td>\n",
       "    </tr>\n",
       "    <tr>\n",
       "      <th>14992</th>\n",
       "      <td>1</td>\n",
       "      <td>Fili</td>\n",
       "      <td>1</td>\n",
       "      <td>307</td>\n",
       "      <td>307</td>\n",
       "      <td>1</td>\n",
       "      <td>2</td>\n",
       "      <td>0</td>\n",
       "      <td>0</td>\n",
       "      <td>2</td>\n",
       "      <td>...</td>\n",
       "      <td>1.000000</td>\n",
       "      <td>0.000000</td>\n",
       "      <td>107.833333</td>\n",
       "      <td>1.000000</td>\n",
       "      <td>1.000000</td>\n",
       "      <td>0.014631</td>\n",
       "      <td>0.182720</td>\n",
       "      <td>0.357892</td>\n",
       "      <td>0.329507</td>\n",
       "      <td>0.115249</td>\n",
       "    </tr>\n",
       "  </tbody>\n",
       "</table>\n",
       "<p>14993 rows × 103 columns</p>\n",
       "</div>"
      ],
      "text/plain": [
       "       Type            Name  Age  Breed1  Breed2  Gender  Color1  Color2  \\\n",
       "0         2          Nibble    3     299       0       1       1       7   \n",
       "1         2     No Name Yet    1     265       0       1       1       2   \n",
       "2         1          Brisco    1     307       0       1       2       7   \n",
       "3         1            Miko    4     307       0       2       1       2   \n",
       "4         1          Hunter    1     307       0       1       1       0   \n",
       "...     ...             ...  ...     ...     ...     ...     ...     ...   \n",
       "14988     2     No Name Yet    2     266       0       3       1       0   \n",
       "14989     2  Serato & Eddie   60     265     264       3       1       4   \n",
       "14990     2         Monkies    2     265     266       3       5       6   \n",
       "14991     2         Ms Daym    9     266       0       2       4       7   \n",
       "14992     1            Fili    1     307     307       1       2       0   \n",
       "\n",
       "       Color3  MaturitySize  ...  RescuerID_young_ratio  \\\n",
       "0           0             1  ...               0.750000   \n",
       "1           0             2  ...               1.000000   \n",
       "2           0             2  ...               0.941176   \n",
       "3           0             2  ...               0.820000   \n",
       "4           0             2  ...               0.895522   \n",
       "...       ...           ...  ...                    ...   \n",
       "14988       0             2  ...               1.000000   \n",
       "14989       7             2  ...               0.000000   \n",
       "14990       7             3  ...               0.578947   \n",
       "14991       0             1  ...               1.000000   \n",
       "14992       0             2  ...               1.000000   \n",
       "\n",
       "       RescuerID_full_health_ratio  RescuerID_mean_description_length  \\\n",
       "0                         0.000000                         434.250000   \n",
       "1                         0.000000                         118.000000   \n",
       "2                         0.106754                         174.178649   \n",
       "3                         0.280000                         426.180000   \n",
       "4                         0.044776                         242.029851   \n",
       "...                            ...                                ...   \n",
       "14988                     0.000000                         396.500000   \n",
       "14989                     1.000000                         142.000000   \n",
       "14990                     0.526316                         211.210526   \n",
       "14991                     0.200000                         266.800000   \n",
       "14992                     0.000000                         107.833333   \n",
       "\n",
       "       RescuerID_dog_ratio  RescuerID_breed_specialization  \\\n",
       "0                 0.000000                        0.375000   \n",
       "1                 0.000000                        1.000000   \n",
       "2                 0.991285                        0.684096   \n",
       "3                 0.820000                        0.760000   \n",
       "4                 0.970149                        0.895522   \n",
       "...                    ...                             ...   \n",
       "14988             0.000000                        0.500000   \n",
       "14989             0.000000                        0.666667   \n",
       "14990             0.263158                        0.315789   \n",
       "14991             0.000000                        0.600000   \n",
       "14992             1.000000                        1.000000   \n",
       "\n",
       "       prediction_class_0  prediction_class_1  prediction_class_2  \\\n",
       "0                0.031812            0.266726            0.309360   \n",
       "1                0.107394            0.302479            0.279231   \n",
       "2                0.010582            0.239320            0.369112   \n",
       "3                0.002984            0.088127            0.219885   \n",
       "4                0.005832            0.352999            0.347447   \n",
       "...                   ...                 ...                 ...   \n",
       "14988            0.008049            0.256520            0.238949   \n",
       "14989            0.001065            0.057035            0.256470   \n",
       "14990            0.020654            0.374353            0.228038   \n",
       "14991            0.018798            0.117444            0.133822   \n",
       "14992            0.014631            0.182720            0.357892   \n",
       "\n",
       "      prediction_class_3  prediction_class_4  \n",
       "0               0.192574            0.199528  \n",
       "1               0.129347            0.181548  \n",
       "2               0.320883            0.060103  \n",
       "3               0.391229            0.297774  \n",
       "4               0.198967            0.094755  \n",
       "...                  ...                 ...  \n",
       "14988           0.222162            0.274319  \n",
       "14989           0.193212            0.492219  \n",
       "14990           0.208278            0.168676  \n",
       "14991           0.187787            0.542149  \n",
       "14992           0.329507            0.115249  \n",
       "\n",
       "[14993 rows x 103 columns]"
      ]
     },
     "execution_count": 132,
     "metadata": {},
     "output_type": "execute_result"
    }
   ],
   "source": [
    "df_with_new_variables"
   ]
  },
  {
   "cell_type": "code",
   "execution_count": 133,
   "metadata": {},
   "outputs": [],
   "source": [
    "#finalmente renombramos el dataset para seguir adelante con el modelado\n",
    "dataset=df_with_new_variables"
   ]
  },
  {
   "cell_type": "markdown",
   "metadata": {},
   "source": [
    "## Modelado con LightGBM\n",
    "\n",
    "A continuación, se detallan los pasos para implementar un modelo LightGBM (Light Gradient Boosting Machine).\n",
    "\n",
    "### Pasos del proceso:\n",
    "\n",
    "1. **Preparación de datos**\n",
    "   - División del conjunto de datos en entrenamiento y prueba\n",
    "   - Definición de características (features) y variable objetivo\n",
    "\n",
    "2. **Configuración inicial del modelo**\n",
    "   - Establecimiento de hiperparámetros base\n",
    "   - Creación del conjunto de datos LightGBM\n",
    "\n",
    "3. **Entrenamiento del modelo base**\n",
    "   - Ajuste del modelo con los parámetros iniciales\n",
    "   - Evaluación preliminar del rendimiento\n",
    "\n",
    "4. **Optimización de hiperparámetros**\n",
    "   - Implementación de búsqueda de hiperparámetros (Bayesiana)\n",
    "   - Validación cruzada para evaluar la robustez del modelo\n",
    "\n",
    "5. **Entrenamiento del modelo final**\n",
    "   - Ajuste del modelo con los hiperparámetros optimizados\n",
    "   - Evaluación en el conjunto de prueba\n",
    "\n",
    "6. **Análisis de resultados**\n",
    "   - Métricas de rendimiento (Kappa)\n",
    "   - Importancia de características\n",
    "\n"
   ]
  },
  {
   "cell_type": "code",
   "execution_count": 134,
   "metadata": {},
   "outputs": [],
   "source": [
    "\n",
    "#Separo un 20% para test estratificado por target manteniendo su proporcion\n",
    "train, test = train_test_split(dataset,\n",
    "                               test_size = TEST_SIZE,\n",
    "                               random_state = SEED,\n",
    "                               stratify = dataset.AdoptionSpeed)"
   ]
  },
  {
   "cell_type": "code",
   "execution_count": 135,
   "metadata": {},
   "outputs": [],
   "source": [
    "#Armo listas con features de texto y numericas\n",
    "char_feats = [f for f in dataset.columns if dataset[f].dtype=='O']\n",
    "numeric_feats = [f for f in dataset.columns if dataset[f].dtype!='O']"
   ]
  },
  {
   "cell_type": "code",
   "execution_count": 136,
   "metadata": {},
   "outputs": [
    {
     "data": {
      "text/plain": [
       "['Type',\n",
       " 'Age',\n",
       " 'Breed1',\n",
       " 'Breed2',\n",
       " 'Gender',\n",
       " 'Color1',\n",
       " 'Color2',\n",
       " 'Color3',\n",
       " 'MaturitySize',\n",
       " 'FurLength',\n",
       " 'Vaccinated',\n",
       " 'Dewormed',\n",
       " 'Sterilized',\n",
       " 'Health',\n",
       " 'Quantity',\n",
       " 'Fee',\n",
       " 'State',\n",
       " 'VideoAmt',\n",
       " 'PhotoAmt',\n",
       " 'AdoptionSpeed',\n",
       " 'AgeCategory',\n",
       " 'Breed',\n",
       " 'IsMultiColored',\n",
       " 'name_code',\n",
       " 'Is_Genuine_Name',\n",
       " 'Age_log',\n",
       " 'PhotoAmt_log',\n",
       " 'VideoAmt_log',\n",
       " 'Fee_log',\n",
       " 'Gender_Age_mean',\n",
       " 'Gender_Fee_mean',\n",
       " 'Gender_PhotoAmt_mean',\n",
       " 'Gender_VideoAmt_mean',\n",
       " 'Breed_Age_mean',\n",
       " 'Breed_Fee_mean',\n",
       " 'Breed_PhotoAmt_mean',\n",
       " 'Breed_VideoAmt_mean',\n",
       " 'Gender_Breed_Age_mean',\n",
       " 'Gender_Breed_Fee_mean',\n",
       " 'Gender_Breed_PhotoAmt_mean',\n",
       " 'Gender_Breed_VideoAmt_mean',\n",
       " 'Age_to_Gender_mean_ratio',\n",
       " 'Fee_to_Gender_mean_ratio',\n",
       " 'Age_to_Breed_mean_ratio',\n",
       " 'Fee_to_Breed_mean_ratio',\n",
       " 'Age_Fee_interaction',\n",
       " 'PhotoAmt_VideoAmt_interaction',\n",
       " 'Gender_Fee_mean_log',\n",
       " 'Breed_Fee_mean_log',\n",
       " 'Gender_Breed_Fee_mean_log',\n",
       " 'Age_PhotoAmt_Fee_interaction',\n",
       " 'Age_VideoAmt_Fee_interaction',\n",
       " 'Age_PhotoAmt',\n",
       " 'Age_VideoAmt',\n",
       " 'Photo_Video_Ratio',\n",
       " 'Fee_Age_Ratio',\n",
       " 'MaturitySize_FurLength',\n",
       " 'PhotoAmt_FurLength',\n",
       " 'VideoAmt_FurLength',\n",
       " 'Breed1_mean_Age',\n",
       " 'Breed1_mean_PhotoAmt',\n",
       " 'RescuerID_count',\n",
       " 'description_word_count',\n",
       " 'Description_Length',\n",
       " 'Name_Length',\n",
       " 'Name_Word_Count',\n",
       " 'Name_Length_Category',\n",
       " 'Health_vac',\n",
       " 'Health_dew',\n",
       " 'Health_ster',\n",
       " 'Health_vac_dew',\n",
       " 'Health_vac_ster',\n",
       " 'Health_dew_ster',\n",
       " 'Health_full',\n",
       " 'Health_not_vac',\n",
       " 'Health_not_dew',\n",
       " 'Health_not_ster',\n",
       " 'Health_not_vac_dew',\n",
       " 'Health_not_vac_ster',\n",
       " 'Health_not_dew_ster',\n",
       " 'Health_none',\n",
       " 'RescuerID_mean_Age',\n",
       " 'RescuerID_std_Age',\n",
       " 'RescuerID_mean_Fee',\n",
       " 'RescuerID_std_Fee',\n",
       " 'RescuerID_mean_PhotoAmt',\n",
       " 'RescuerID_mean_VideoAmt',\n",
       " 'RescuerID_name_ratio',\n",
       " 'RescuerID_most_common_breed',\n",
       " 'RescuerID_young_ratio',\n",
       " 'RescuerID_full_health_ratio',\n",
       " 'RescuerID_mean_description_length',\n",
       " 'RescuerID_dog_ratio',\n",
       " 'RescuerID_breed_specialization',\n",
       " 'prediction_class_0',\n",
       " 'prediction_class_1',\n",
       " 'prediction_class_2',\n",
       " 'prediction_class_3',\n",
       " 'prediction_class_4']"
      ]
     },
     "execution_count": 136,
     "metadata": {},
     "output_type": "execute_result"
    }
   ],
   "source": [
    "#Lista de features numericas\n",
    "numeric_feats"
   ]
  },
  {
   "cell_type": "code",
   "execution_count": 137,
   "metadata": {},
   "outputs": [],
   "source": [
    "\n",
    "#Defino features a usar en un primer modelo de prueba\n",
    "features = ['Type',\n",
    " 'Age',\n",
    " 'Breed1',\n",
    " 'Breed2',\n",
    " 'Gender',\n",
    " 'Color1',\n",
    " 'Color2',\n",
    " 'Color3',\n",
    " 'MaturitySize',\n",
    " 'FurLength',\n",
    " 'Vaccinated',\n",
    " 'Dewormed',\n",
    " 'Sterilized',\n",
    " 'Health',\n",
    " 'Quantity',\n",
    " 'Fee',\n",
    " 'State',\n",
    " 'VideoAmt',\n",
    " 'PhotoAmt',\n",
    " #'AdoptionSpeed', #variable target\n",
    " 'AgeCategory',\n",
    " 'Breed',\n",
    " 'IsMultiColored',\n",
    " 'name_code',\n",
    " 'Is_Genuine_Name',\n",
    " 'Age_log',\n",
    " 'PhotoAmt_log',\n",
    " 'VideoAmt_log',\n",
    " 'Fee_log',\n",
    " 'Gender_Age_mean',\n",
    " 'Gender_Fee_mean',\n",
    " 'Gender_PhotoAmt_mean',\n",
    " 'Gender_VideoAmt_mean',\n",
    " 'Breed_Age_mean',\n",
    " 'Breed_Fee_mean',\n",
    " 'Breed_PhotoAmt_mean',\n",
    " 'Breed_VideoAmt_mean',\n",
    " 'Gender_Breed_Age_mean',\n",
    " 'Gender_Breed_Fee_mean',\n",
    " 'Gender_Breed_PhotoAmt_mean',\n",
    " 'Gender_Breed_VideoAmt_mean',\n",
    " 'Age_to_Gender_mean_ratio',\n",
    " 'Fee_to_Gender_mean_ratio',\n",
    " 'Age_to_Breed_mean_ratio',\n",
    " 'Fee_to_Breed_mean_ratio',\n",
    " 'Age_Fee_interaction',\n",
    " 'PhotoAmt_VideoAmt_interaction',\n",
    " 'Gender_Fee_mean_log',\n",
    " 'Breed_Fee_mean_log',\n",
    " 'Gender_Breed_Fee_mean_log',\n",
    " 'Age_PhotoAmt_Fee_interaction',\n",
    " 'Age_VideoAmt_Fee_interaction',\n",
    " 'Age_PhotoAmt',\n",
    " 'Age_VideoAmt',\n",
    " 'Photo_Video_Ratio',\n",
    " 'Fee_Age_Ratio',\n",
    " 'MaturitySize_FurLength',\n",
    " 'PhotoAmt_FurLength',\n",
    " 'VideoAmt_FurLength',\n",
    " 'Breed1_mean_Age',\n",
    " 'Breed1_mean_PhotoAmt',\n",
    " 'RescuerID_count',\n",
    " 'description_word_count',\n",
    " 'Description_Length',\n",
    " 'Name_Length',\n",
    " 'Name_Word_Count',\n",
    " 'Name_Length_Category',\n",
    " 'Health_vac',\n",
    " 'Health_dew',\n",
    " 'Health_ster',\n",
    " 'Health_vac_dew',\n",
    " 'Health_vac_ster',\n",
    " 'Health_dew_ster',\n",
    " 'Health_full',\n",
    " 'Health_not_vac',\n",
    " 'Health_not_dew',\n",
    " 'Health_not_ster',\n",
    " 'Health_not_vac_dew',\n",
    " 'Health_not_vac_ster',\n",
    " 'Health_not_dew_ster',\n",
    " 'Health_none',\n",
    "# 'prediction_class_0', #variables generadas por el modelo lgbm que generan overfitting\n",
    "# 'prediction_class_1', #variables generadas por el modelo lgbm que generan overfitting\n",
    "# 'prediction_class_2', #variables generadas por el modelo lgbm que generan overfitting\n",
    "# 'prediction_class_3', #variables generadas por el modelo lgbm que generan overfitting\n",
    "# 'prediction_class_4', #variables generadas por el modelo lgbm que generan overfitting\n",
    " 'RescuerID_mean_Age',\n",
    " 'RescuerID_std_Age',\n",
    " 'RescuerID_mean_Fee',\n",
    " 'RescuerID_std_Fee',\n",
    " 'RescuerID_mean_PhotoAmt',\n",
    " 'RescuerID_mean_VideoAmt',\n",
    " 'RescuerID_name_ratio',\n",
    " 'RescuerID_most_common_breed',\n",
    " 'RescuerID_young_ratio',\n",
    " 'RescuerID_full_health_ratio',\n",
    " 'RescuerID_mean_description_length',\n",
    " 'RescuerID_dog_ratio',\n",
    " 'RescuerID_breed_specialization']\n",
    "\n",
    "label = 'AdoptionSpeed'"
   ]
  },
  {
   "cell_type": "code",
   "execution_count": 138,
   "metadata": {},
   "outputs": [
    {
     "data": {
      "text/html": [
       "<div>\n",
       "<style scoped>\n",
       "    .dataframe tbody tr th:only-of-type {\n",
       "        vertical-align: middle;\n",
       "    }\n",
       "\n",
       "    .dataframe tbody tr th {\n",
       "        vertical-align: top;\n",
       "    }\n",
       "\n",
       "    .dataframe thead th {\n",
       "        text-align: right;\n",
       "    }\n",
       "</style>\n",
       "<table border=\"1\" class=\"dataframe\">\n",
       "  <thead>\n",
       "    <tr style=\"text-align: right;\">\n",
       "      <th></th>\n",
       "      <th>Type</th>\n",
       "      <th>Name</th>\n",
       "      <th>Age</th>\n",
       "      <th>Breed1</th>\n",
       "      <th>Breed2</th>\n",
       "      <th>Gender</th>\n",
       "      <th>Color1</th>\n",
       "      <th>Color2</th>\n",
       "      <th>Color3</th>\n",
       "      <th>MaturitySize</th>\n",
       "      <th>...</th>\n",
       "      <th>RescuerID_young_ratio</th>\n",
       "      <th>RescuerID_full_health_ratio</th>\n",
       "      <th>RescuerID_mean_description_length</th>\n",
       "      <th>RescuerID_dog_ratio</th>\n",
       "      <th>RescuerID_breed_specialization</th>\n",
       "      <th>prediction_class_0</th>\n",
       "      <th>prediction_class_1</th>\n",
       "      <th>prediction_class_2</th>\n",
       "      <th>prediction_class_3</th>\n",
       "      <th>prediction_class_4</th>\n",
       "    </tr>\n",
       "  </thead>\n",
       "  <tbody>\n",
       "    <tr>\n",
       "      <th>10070</th>\n",
       "      <td>1</td>\n",
       "      <td>The Adorable Trio</td>\n",
       "      <td>2</td>\n",
       "      <td>307</td>\n",
       "      <td>307</td>\n",
       "      <td>1</td>\n",
       "      <td>1</td>\n",
       "      <td>0</td>\n",
       "      <td>0</td>\n",
       "      <td>2</td>\n",
       "      <td>...</td>\n",
       "      <td>1.000000</td>\n",
       "      <td>0.000000</td>\n",
       "      <td>355.500000</td>\n",
       "      <td>1.000000</td>\n",
       "      <td>1.000000</td>\n",
       "      <td>0.001885</td>\n",
       "      <td>0.170123</td>\n",
       "      <td>0.289597</td>\n",
       "      <td>0.437599</td>\n",
       "      <td>0.100796</td>\n",
       "    </tr>\n",
       "    <tr>\n",
       "      <th>13397</th>\n",
       "      <td>1</td>\n",
       "      <td>Perky</td>\n",
       "      <td>12</td>\n",
       "      <td>307</td>\n",
       "      <td>0</td>\n",
       "      <td>2</td>\n",
       "      <td>2</td>\n",
       "      <td>0</td>\n",
       "      <td>0</td>\n",
       "      <td>1</td>\n",
       "      <td>...</td>\n",
       "      <td>0.595238</td>\n",
       "      <td>0.357143</td>\n",
       "      <td>140.166667</td>\n",
       "      <td>0.547619</td>\n",
       "      <td>0.404762</td>\n",
       "      <td>0.011571</td>\n",
       "      <td>0.048002</td>\n",
       "      <td>0.134361</td>\n",
       "      <td>0.175689</td>\n",
       "      <td>0.630378</td>\n",
       "    </tr>\n",
       "    <tr>\n",
       "      <th>14656</th>\n",
       "      <td>1</td>\n",
       "      <td>Bernard Boy</td>\n",
       "      <td>2</td>\n",
       "      <td>307</td>\n",
       "      <td>307</td>\n",
       "      <td>1</td>\n",
       "      <td>1</td>\n",
       "      <td>2</td>\n",
       "      <td>7</td>\n",
       "      <td>2</td>\n",
       "      <td>...</td>\n",
       "      <td>0.948718</td>\n",
       "      <td>0.102564</td>\n",
       "      <td>407.564103</td>\n",
       "      <td>0.948718</td>\n",
       "      <td>0.897436</td>\n",
       "      <td>0.026304</td>\n",
       "      <td>0.239736</td>\n",
       "      <td>0.240985</td>\n",
       "      <td>0.205415</td>\n",
       "      <td>0.287560</td>\n",
       "    </tr>\n",
       "    <tr>\n",
       "      <th>5596</th>\n",
       "      <td>1</td>\n",
       "      <td>Oreo 1</td>\n",
       "      <td>2</td>\n",
       "      <td>307</td>\n",
       "      <td>307</td>\n",
       "      <td>1</td>\n",
       "      <td>3</td>\n",
       "      <td>0</td>\n",
       "      <td>0</td>\n",
       "      <td>2</td>\n",
       "      <td>...</td>\n",
       "      <td>0.916667</td>\n",
       "      <td>0.057018</td>\n",
       "      <td>14.271930</td>\n",
       "      <td>1.000000</td>\n",
       "      <td>0.916667</td>\n",
       "      <td>0.018985</td>\n",
       "      <td>0.243919</td>\n",
       "      <td>0.328265</td>\n",
       "      <td>0.205692</td>\n",
       "      <td>0.203139</td>\n",
       "    </tr>\n",
       "    <tr>\n",
       "      <th>13463</th>\n",
       "      <td>2</td>\n",
       "      <td>Anak Kucing</td>\n",
       "      <td>4</td>\n",
       "      <td>265</td>\n",
       "      <td>0</td>\n",
       "      <td>3</td>\n",
       "      <td>1</td>\n",
       "      <td>2</td>\n",
       "      <td>0</td>\n",
       "      <td>2</td>\n",
       "      <td>...</td>\n",
       "      <td>1.000000</td>\n",
       "      <td>0.000000</td>\n",
       "      <td>20.000000</td>\n",
       "      <td>0.000000</td>\n",
       "      <td>1.000000</td>\n",
       "      <td>0.014580</td>\n",
       "      <td>0.147369</td>\n",
       "      <td>0.203512</td>\n",
       "      <td>0.169689</td>\n",
       "      <td>0.464850</td>\n",
       "    </tr>\n",
       "    <tr>\n",
       "      <th>...</th>\n",
       "      <td>...</td>\n",
       "      <td>...</td>\n",
       "      <td>...</td>\n",
       "      <td>...</td>\n",
       "      <td>...</td>\n",
       "      <td>...</td>\n",
       "      <td>...</td>\n",
       "      <td>...</td>\n",
       "      <td>...</td>\n",
       "      <td>...</td>\n",
       "      <td>...</td>\n",
       "      <td>...</td>\n",
       "      <td>...</td>\n",
       "      <td>...</td>\n",
       "      <td>...</td>\n",
       "      <td>...</td>\n",
       "      <td>...</td>\n",
       "      <td>...</td>\n",
       "      <td>...</td>\n",
       "      <td>...</td>\n",
       "      <td>...</td>\n",
       "    </tr>\n",
       "    <tr>\n",
       "      <th>9981</th>\n",
       "      <td>2</td>\n",
       "      <td>Maxine</td>\n",
       "      <td>8</td>\n",
       "      <td>265</td>\n",
       "      <td>299</td>\n",
       "      <td>2</td>\n",
       "      <td>1</td>\n",
       "      <td>2</td>\n",
       "      <td>0</td>\n",
       "      <td>2</td>\n",
       "      <td>...</td>\n",
       "      <td>1.000000</td>\n",
       "      <td>0.000000</td>\n",
       "      <td>340.000000</td>\n",
       "      <td>0.000000</td>\n",
       "      <td>1.000000</td>\n",
       "      <td>0.007974</td>\n",
       "      <td>0.136583</td>\n",
       "      <td>0.281517</td>\n",
       "      <td>0.129443</td>\n",
       "      <td>0.444483</td>\n",
       "    </tr>\n",
       "    <tr>\n",
       "      <th>10249</th>\n",
       "      <td>1</td>\n",
       "      <td>Browny</td>\n",
       "      <td>2</td>\n",
       "      <td>307</td>\n",
       "      <td>0</td>\n",
       "      <td>2</td>\n",
       "      <td>6</td>\n",
       "      <td>7</td>\n",
       "      <td>0</td>\n",
       "      <td>1</td>\n",
       "      <td>...</td>\n",
       "      <td>1.000000</td>\n",
       "      <td>0.000000</td>\n",
       "      <td>313.000000</td>\n",
       "      <td>1.000000</td>\n",
       "      <td>1.000000</td>\n",
       "      <td>0.027136</td>\n",
       "      <td>0.136330</td>\n",
       "      <td>0.394384</td>\n",
       "      <td>0.228442</td>\n",
       "      <td>0.213708</td>\n",
       "    </tr>\n",
       "    <tr>\n",
       "      <th>12468</th>\n",
       "      <td>1</td>\n",
       "      <td>Midnight</td>\n",
       "      <td>2</td>\n",
       "      <td>307</td>\n",
       "      <td>307</td>\n",
       "      <td>1</td>\n",
       "      <td>1</td>\n",
       "      <td>0</td>\n",
       "      <td>0</td>\n",
       "      <td>2</td>\n",
       "      <td>...</td>\n",
       "      <td>1.000000</td>\n",
       "      <td>0.000000</td>\n",
       "      <td>283.000000</td>\n",
       "      <td>1.000000</td>\n",
       "      <td>1.000000</td>\n",
       "      <td>0.020529</td>\n",
       "      <td>0.236156</td>\n",
       "      <td>0.360093</td>\n",
       "      <td>0.190832</td>\n",
       "      <td>0.192389</td>\n",
       "    </tr>\n",
       "    <tr>\n",
       "      <th>1081</th>\n",
       "      <td>1</td>\n",
       "      <td>Boxer</td>\n",
       "      <td>2</td>\n",
       "      <td>307</td>\n",
       "      <td>307</td>\n",
       "      <td>1</td>\n",
       "      <td>1</td>\n",
       "      <td>2</td>\n",
       "      <td>7</td>\n",
       "      <td>2</td>\n",
       "      <td>...</td>\n",
       "      <td>0.895522</td>\n",
       "      <td>0.044776</td>\n",
       "      <td>242.029851</td>\n",
       "      <td>0.970149</td>\n",
       "      <td>0.895522</td>\n",
       "      <td>0.024043</td>\n",
       "      <td>0.195601</td>\n",
       "      <td>0.406971</td>\n",
       "      <td>0.158275</td>\n",
       "      <td>0.215110</td>\n",
       "    </tr>\n",
       "    <tr>\n",
       "      <th>6952</th>\n",
       "      <td>2</td>\n",
       "      <td>JINGGA</td>\n",
       "      <td>30</td>\n",
       "      <td>299</td>\n",
       "      <td>266</td>\n",
       "      <td>1</td>\n",
       "      <td>3</td>\n",
       "      <td>4</td>\n",
       "      <td>5</td>\n",
       "      <td>2</td>\n",
       "      <td>...</td>\n",
       "      <td>0.000000</td>\n",
       "      <td>1.000000</td>\n",
       "      <td>347.000000</td>\n",
       "      <td>0.000000</td>\n",
       "      <td>1.000000</td>\n",
       "      <td>0.014134</td>\n",
       "      <td>0.042237</td>\n",
       "      <td>0.180159</td>\n",
       "      <td>0.472731</td>\n",
       "      <td>0.290739</td>\n",
       "    </tr>\n",
       "  </tbody>\n",
       "</table>\n",
       "<p>11994 rows × 103 columns</p>\n",
       "</div>"
      ],
      "text/plain": [
       "       Type               Name  Age  Breed1  Breed2  Gender  Color1  Color2  \\\n",
       "10070     1  The Adorable Trio    2     307     307       1       1       0   \n",
       "13397     1              Perky   12     307       0       2       2       0   \n",
       "14656     1        Bernard Boy    2     307     307       1       1       2   \n",
       "5596      1             Oreo 1    2     307     307       1       3       0   \n",
       "13463     2        Anak Kucing    4     265       0       3       1       2   \n",
       "...     ...                ...  ...     ...     ...     ...     ...     ...   \n",
       "9981      2             Maxine    8     265     299       2       1       2   \n",
       "10249     1             Browny    2     307       0       2       6       7   \n",
       "12468     1           Midnight    2     307     307       1       1       0   \n",
       "1081      1              Boxer    2     307     307       1       1       2   \n",
       "6952      2             JINGGA   30     299     266       1       3       4   \n",
       "\n",
       "       Color3  MaturitySize  ...  RescuerID_young_ratio  \\\n",
       "10070       0             2  ...               1.000000   \n",
       "13397       0             1  ...               0.595238   \n",
       "14656       7             2  ...               0.948718   \n",
       "5596        0             2  ...               0.916667   \n",
       "13463       0             2  ...               1.000000   \n",
       "...       ...           ...  ...                    ...   \n",
       "9981        0             2  ...               1.000000   \n",
       "10249       0             1  ...               1.000000   \n",
       "12468       0             2  ...               1.000000   \n",
       "1081        7             2  ...               0.895522   \n",
       "6952        5             2  ...               0.000000   \n",
       "\n",
       "       RescuerID_full_health_ratio  RescuerID_mean_description_length  \\\n",
       "10070                     0.000000                         355.500000   \n",
       "13397                     0.357143                         140.166667   \n",
       "14656                     0.102564                         407.564103   \n",
       "5596                      0.057018                          14.271930   \n",
       "13463                     0.000000                          20.000000   \n",
       "...                            ...                                ...   \n",
       "9981                      0.000000                         340.000000   \n",
       "10249                     0.000000                         313.000000   \n",
       "12468                     0.000000                         283.000000   \n",
       "1081                      0.044776                         242.029851   \n",
       "6952                      1.000000                         347.000000   \n",
       "\n",
       "       RescuerID_dog_ratio  RescuerID_breed_specialization  \\\n",
       "10070             1.000000                        1.000000   \n",
       "13397             0.547619                        0.404762   \n",
       "14656             0.948718                        0.897436   \n",
       "5596              1.000000                        0.916667   \n",
       "13463             0.000000                        1.000000   \n",
       "...                    ...                             ...   \n",
       "9981              0.000000                        1.000000   \n",
       "10249             1.000000                        1.000000   \n",
       "12468             1.000000                        1.000000   \n",
       "1081              0.970149                        0.895522   \n",
       "6952              0.000000                        1.000000   \n",
       "\n",
       "       prediction_class_0  prediction_class_1  prediction_class_2  \\\n",
       "10070            0.001885            0.170123            0.289597   \n",
       "13397            0.011571            0.048002            0.134361   \n",
       "14656            0.026304            0.239736            0.240985   \n",
       "5596             0.018985            0.243919            0.328265   \n",
       "13463            0.014580            0.147369            0.203512   \n",
       "...                   ...                 ...                 ...   \n",
       "9981             0.007974            0.136583            0.281517   \n",
       "10249            0.027136            0.136330            0.394384   \n",
       "12468            0.020529            0.236156            0.360093   \n",
       "1081             0.024043            0.195601            0.406971   \n",
       "6952             0.014134            0.042237            0.180159   \n",
       "\n",
       "      prediction_class_3  prediction_class_4  \n",
       "10070           0.437599            0.100796  \n",
       "13397           0.175689            0.630378  \n",
       "14656           0.205415            0.287560  \n",
       "5596            0.205692            0.203139  \n",
       "13463           0.169689            0.464850  \n",
       "...                  ...                 ...  \n",
       "9981            0.129443            0.444483  \n",
       "10249           0.228442            0.213708  \n",
       "12468           0.190832            0.192389  \n",
       "1081            0.158275            0.215110  \n",
       "6952            0.472731            0.290739  \n",
       "\n",
       "[11994 rows x 103 columns]"
      ]
     },
     "execution_count": 138,
     "metadata": {},
     "output_type": "execute_result"
    }
   ],
   "source": [
    "train"
   ]
  },
  {
   "cell_type": "code",
   "execution_count": 139,
   "metadata": {},
   "outputs": [],
   "source": [
    "#Genero dataframes de train y test con sus respectivos targets\n",
    "X_train = train[features]\n",
    "y_train = train[label]\n",
    "\n",
    "X_test = test[features]\n",
    "y_test = test[label]"
   ]
  },
  {
   "cell_type": "code",
   "execution_count": 140,
   "metadata": {},
   "outputs": [],
   "source": [
    "#Entreno un modelo inicial sin modificar hiperparametros. Solamente especifico el numero de clases y el tipo de modelo como clasificacoión\n",
    "#HACEMOS LGBM POR DEFECTO COMO VIENE\n",
    "lgb_params = params = {\n",
    "                        'objective': 'multiclass',# el objetivo es clasificacion multiclase\n",
    "                        'num_class': len(y_train.unique())\n",
    "                        }\n",
    "\n",
    "\n",
    "#genero el objeto Dataset que debo pasarle a lightgbm para que entrene\n",
    "lgb_train_dataset = lgb.Dataset(data=X_train,\n",
    "                                label=y_train)\n",
    "\n",
    "#entreno el modelo con los parametros por defecto\n",
    "lgb_model = lgb.train(lgb_params,\n",
    "                      lgb_train_dataset)"
   ]
  },
  {
   "cell_type": "code",
   "execution_count": 141,
   "metadata": {},
   "outputs": [
    {
     "data": {
      "text/plain": [
       "0.38566734481467446"
      ]
     },
     "execution_count": 141,
     "metadata": {},
     "output_type": "execute_result"
    }
   ],
   "source": [
    "#Obtengo las predicciones sobre el set de test. El modelo me da una lista de probabilidades para cada clase y tomo la clase con mayor probabilidad con la funcion argmax\n",
    "y_pred = lgb_model.predict(X_test).argmax(axis=1)# argmax me da la clase con mayor probabilidad\n",
    "\n",
    "#Calculo el Kappa\n",
    "cohen_kappa_score(y_test,y_pred, weights = 'quadratic')\n",
    "\n",
    "#RECORDAR QUE AL SER UN MULTICLASE EL PREDICT ME TRAE 5 COLUMNAS ( PROBABILIDAD DEL MODELO A CADA UNA DE LAS CLASES )\n",
    "\n",
    "\n"
   ]
  },
  {
   "cell_type": "code",
   "execution_count": 142,
   "metadata": {},
   "outputs": [
    {
     "data": {
      "application/vnd.plotly.v1+json": {
       "config": {
        "plotlyServerURL": "https://plot.ly"
       },
       "data": [
        {
         "type": "heatmap",
         "x": [
          0,
          1,
          2,
          3,
          4
         ],
         "y": [
          0,
          1,
          2,
          3,
          4
         ],
         "z": [
          [
           10.975609756097562,
           39.02439024390244,
           20.73170731707317,
           10.975609756097562,
           18.29268292682927
          ],
          [
           1.4563106796116505,
           36.73139158576052,
           31.3915857605178,
           10.032362459546926,
           20.388349514563107
          ],
          [
           0.49566294919454773,
           21.313506815365553,
           38.78562577447336,
           14.869888475836431,
           24.53531598513011
          ],
          [
           0.15337423312883436,
           13.496932515337424,
           32.515337423312886,
           29.754601226993866,
           24.079754601226995
          ],
          [
           0.35714285714285715,
           11.071428571428571,
           12.5,
           5.714285714285714,
           70.35714285714286
          ]
         ]
        }
       ],
       "layout": {
        "annotations": [
         {
          "font": {
           "color": "white"
          },
          "showarrow": false,
          "text": "11.0 - 9",
          "x": 0,
          "xref": "x",
          "y": 0,
          "yref": "y"
         },
         {
          "font": {
           "color": "white"
          },
          "showarrow": false,
          "text": "39.0 - 32",
          "x": 1,
          "xref": "x",
          "y": 0,
          "yref": "y"
         },
         {
          "font": {
           "color": "white"
          },
          "showarrow": false,
          "text": "20.7 - 17",
          "x": 2,
          "xref": "x",
          "y": 0,
          "yref": "y"
         },
         {
          "font": {
           "color": "white"
          },
          "showarrow": false,
          "text": "11.0 - 9",
          "x": 3,
          "xref": "x",
          "y": 0,
          "yref": "y"
         },
         {
          "font": {
           "color": "white"
          },
          "showarrow": false,
          "text": "18.3 - 15",
          "x": 4,
          "xref": "x",
          "y": 0,
          "yref": "y"
         },
         {
          "font": {
           "color": "white"
          },
          "showarrow": false,
          "text": "1.5 - 9",
          "x": 0,
          "xref": "x",
          "y": 1,
          "yref": "y"
         },
         {
          "font": {
           "color": "white"
          },
          "showarrow": false,
          "text": "36.7 - 227",
          "x": 1,
          "xref": "x",
          "y": 1,
          "yref": "y"
         },
         {
          "font": {
           "color": "white"
          },
          "showarrow": false,
          "text": "31.4 - 194",
          "x": 2,
          "xref": "x",
          "y": 1,
          "yref": "y"
         },
         {
          "font": {
           "color": "white"
          },
          "showarrow": false,
          "text": "10.0 - 62",
          "x": 3,
          "xref": "x",
          "y": 1,
          "yref": "y"
         },
         {
          "font": {
           "color": "white"
          },
          "showarrow": false,
          "text": "20.4 - 126",
          "x": 4,
          "xref": "x",
          "y": 1,
          "yref": "y"
         },
         {
          "font": {
           "color": "white"
          },
          "showarrow": false,
          "text": "0.5 - 4",
          "x": 0,
          "xref": "x",
          "y": 2,
          "yref": "y"
         },
         {
          "font": {
           "color": "white"
          },
          "showarrow": false,
          "text": "21.3 - 172",
          "x": 1,
          "xref": "x",
          "y": 2,
          "yref": "y"
         },
         {
          "font": {
           "color": "white"
          },
          "showarrow": false,
          "text": "38.8 - 313",
          "x": 2,
          "xref": "x",
          "y": 2,
          "yref": "y"
         },
         {
          "font": {
           "color": "white"
          },
          "showarrow": false,
          "text": "14.9 - 120",
          "x": 3,
          "xref": "x",
          "y": 2,
          "yref": "y"
         },
         {
          "font": {
           "color": "white"
          },
          "showarrow": false,
          "text": "24.5 - 198",
          "x": 4,
          "xref": "x",
          "y": 2,
          "yref": "y"
         },
         {
          "font": {
           "color": "white"
          },
          "showarrow": false,
          "text": "0.2 - 1",
          "x": 0,
          "xref": "x",
          "y": 3,
          "yref": "y"
         },
         {
          "font": {
           "color": "white"
          },
          "showarrow": false,
          "text": "13.5 - 88",
          "x": 1,
          "xref": "x",
          "y": 3,
          "yref": "y"
         },
         {
          "font": {
           "color": "white"
          },
          "showarrow": false,
          "text": "32.5 - 212",
          "x": 2,
          "xref": "x",
          "y": 3,
          "yref": "y"
         },
         {
          "font": {
           "color": "white"
          },
          "showarrow": false,
          "text": "29.8 - 194",
          "x": 3,
          "xref": "x",
          "y": 3,
          "yref": "y"
         },
         {
          "font": {
           "color": "white"
          },
          "showarrow": false,
          "text": "24.1 - 157",
          "x": 4,
          "xref": "x",
          "y": 3,
          "yref": "y"
         },
         {
          "font": {
           "color": "white"
          },
          "showarrow": false,
          "text": "0.4 - 3",
          "x": 0,
          "xref": "x",
          "y": 4,
          "yref": "y"
         },
         {
          "font": {
           "color": "white"
          },
          "showarrow": false,
          "text": "11.1 - 93",
          "x": 1,
          "xref": "x",
          "y": 4,
          "yref": "y"
         },
         {
          "font": {
           "color": "white"
          },
          "showarrow": false,
          "text": "12.5 - 105",
          "x": 2,
          "xref": "x",
          "y": 4,
          "yref": "y"
         },
         {
          "font": {
           "color": "white"
          },
          "showarrow": false,
          "text": "5.7 - 48",
          "x": 3,
          "xref": "x",
          "y": 4,
          "yref": "y"
         },
         {
          "font": {
           "color": "white"
          },
          "showarrow": false,
          "text": "70.4 - 591",
          "x": 4,
          "xref": "x",
          "y": 4,
          "yref": "y"
         }
        ],
        "height": 800,
        "template": {
         "data": {
          "bar": [
           {
            "error_x": {
             "color": "#2a3f5f"
            },
            "error_y": {
             "color": "#2a3f5f"
            },
            "marker": {
             "line": {
              "color": "#E5ECF6",
              "width": 0.5
             },
             "pattern": {
              "fillmode": "overlay",
              "size": 10,
              "solidity": 0.2
             }
            },
            "type": "bar"
           }
          ],
          "barpolar": [
           {
            "marker": {
             "line": {
              "color": "#E5ECF6",
              "width": 0.5
             },
             "pattern": {
              "fillmode": "overlay",
              "size": 10,
              "solidity": 0.2
             }
            },
            "type": "barpolar"
           }
          ],
          "carpet": [
           {
            "aaxis": {
             "endlinecolor": "#2a3f5f",
             "gridcolor": "white",
             "linecolor": "white",
             "minorgridcolor": "white",
             "startlinecolor": "#2a3f5f"
            },
            "baxis": {
             "endlinecolor": "#2a3f5f",
             "gridcolor": "white",
             "linecolor": "white",
             "minorgridcolor": "white",
             "startlinecolor": "#2a3f5f"
            },
            "type": "carpet"
           }
          ],
          "choropleth": [
           {
            "colorbar": {
             "outlinewidth": 0,
             "ticks": ""
            },
            "type": "choropleth"
           }
          ],
          "contour": [
           {
            "colorbar": {
             "outlinewidth": 0,
             "ticks": ""
            },
            "colorscale": [
             [
              0,
              "#0d0887"
             ],
             [
              0.1111111111111111,
              "#46039f"
             ],
             [
              0.2222222222222222,
              "#7201a8"
             ],
             [
              0.3333333333333333,
              "#9c179e"
             ],
             [
              0.4444444444444444,
              "#bd3786"
             ],
             [
              0.5555555555555556,
              "#d8576b"
             ],
             [
              0.6666666666666666,
              "#ed7953"
             ],
             [
              0.7777777777777778,
              "#fb9f3a"
             ],
             [
              0.8888888888888888,
              "#fdca26"
             ],
             [
              1,
              "#f0f921"
             ]
            ],
            "type": "contour"
           }
          ],
          "contourcarpet": [
           {
            "colorbar": {
             "outlinewidth": 0,
             "ticks": ""
            },
            "type": "contourcarpet"
           }
          ],
          "heatmap": [
           {
            "colorbar": {
             "outlinewidth": 0,
             "ticks": ""
            },
            "colorscale": [
             [
              0,
              "#0d0887"
             ],
             [
              0.1111111111111111,
              "#46039f"
             ],
             [
              0.2222222222222222,
              "#7201a8"
             ],
             [
              0.3333333333333333,
              "#9c179e"
             ],
             [
              0.4444444444444444,
              "#bd3786"
             ],
             [
              0.5555555555555556,
              "#d8576b"
             ],
             [
              0.6666666666666666,
              "#ed7953"
             ],
             [
              0.7777777777777778,
              "#fb9f3a"
             ],
             [
              0.8888888888888888,
              "#fdca26"
             ],
             [
              1,
              "#f0f921"
             ]
            ],
            "type": "heatmap"
           }
          ],
          "heatmapgl": [
           {
            "colorbar": {
             "outlinewidth": 0,
             "ticks": ""
            },
            "colorscale": [
             [
              0,
              "#0d0887"
             ],
             [
              0.1111111111111111,
              "#46039f"
             ],
             [
              0.2222222222222222,
              "#7201a8"
             ],
             [
              0.3333333333333333,
              "#9c179e"
             ],
             [
              0.4444444444444444,
              "#bd3786"
             ],
             [
              0.5555555555555556,
              "#d8576b"
             ],
             [
              0.6666666666666666,
              "#ed7953"
             ],
             [
              0.7777777777777778,
              "#fb9f3a"
             ],
             [
              0.8888888888888888,
              "#fdca26"
             ],
             [
              1,
              "#f0f921"
             ]
            ],
            "type": "heatmapgl"
           }
          ],
          "histogram": [
           {
            "marker": {
             "pattern": {
              "fillmode": "overlay",
              "size": 10,
              "solidity": 0.2
             }
            },
            "type": "histogram"
           }
          ],
          "histogram2d": [
           {
            "colorbar": {
             "outlinewidth": 0,
             "ticks": ""
            },
            "colorscale": [
             [
              0,
              "#0d0887"
             ],
             [
              0.1111111111111111,
              "#46039f"
             ],
             [
              0.2222222222222222,
              "#7201a8"
             ],
             [
              0.3333333333333333,
              "#9c179e"
             ],
             [
              0.4444444444444444,
              "#bd3786"
             ],
             [
              0.5555555555555556,
              "#d8576b"
             ],
             [
              0.6666666666666666,
              "#ed7953"
             ],
             [
              0.7777777777777778,
              "#fb9f3a"
             ],
             [
              0.8888888888888888,
              "#fdca26"
             ],
             [
              1,
              "#f0f921"
             ]
            ],
            "type": "histogram2d"
           }
          ],
          "histogram2dcontour": [
           {
            "colorbar": {
             "outlinewidth": 0,
             "ticks": ""
            },
            "colorscale": [
             [
              0,
              "#0d0887"
             ],
             [
              0.1111111111111111,
              "#46039f"
             ],
             [
              0.2222222222222222,
              "#7201a8"
             ],
             [
              0.3333333333333333,
              "#9c179e"
             ],
             [
              0.4444444444444444,
              "#bd3786"
             ],
             [
              0.5555555555555556,
              "#d8576b"
             ],
             [
              0.6666666666666666,
              "#ed7953"
             ],
             [
              0.7777777777777778,
              "#fb9f3a"
             ],
             [
              0.8888888888888888,
              "#fdca26"
             ],
             [
              1,
              "#f0f921"
             ]
            ],
            "type": "histogram2dcontour"
           }
          ],
          "mesh3d": [
           {
            "colorbar": {
             "outlinewidth": 0,
             "ticks": ""
            },
            "type": "mesh3d"
           }
          ],
          "parcoords": [
           {
            "line": {
             "colorbar": {
              "outlinewidth": 0,
              "ticks": ""
             }
            },
            "type": "parcoords"
           }
          ],
          "pie": [
           {
            "automargin": true,
            "type": "pie"
           }
          ],
          "scatter": [
           {
            "fillpattern": {
             "fillmode": "overlay",
             "size": 10,
             "solidity": 0.2
            },
            "type": "scatter"
           }
          ],
          "scatter3d": [
           {
            "line": {
             "colorbar": {
              "outlinewidth": 0,
              "ticks": ""
             }
            },
            "marker": {
             "colorbar": {
              "outlinewidth": 0,
              "ticks": ""
             }
            },
            "type": "scatter3d"
           }
          ],
          "scattercarpet": [
           {
            "marker": {
             "colorbar": {
              "outlinewidth": 0,
              "ticks": ""
             }
            },
            "type": "scattercarpet"
           }
          ],
          "scattergeo": [
           {
            "marker": {
             "colorbar": {
              "outlinewidth": 0,
              "ticks": ""
             }
            },
            "type": "scattergeo"
           }
          ],
          "scattergl": [
           {
            "marker": {
             "colorbar": {
              "outlinewidth": 0,
              "ticks": ""
             }
            },
            "type": "scattergl"
           }
          ],
          "scattermapbox": [
           {
            "marker": {
             "colorbar": {
              "outlinewidth": 0,
              "ticks": ""
             }
            },
            "type": "scattermapbox"
           }
          ],
          "scatterpolar": [
           {
            "marker": {
             "colorbar": {
              "outlinewidth": 0,
              "ticks": ""
             }
            },
            "type": "scatterpolar"
           }
          ],
          "scatterpolargl": [
           {
            "marker": {
             "colorbar": {
              "outlinewidth": 0,
              "ticks": ""
             }
            },
            "type": "scatterpolargl"
           }
          ],
          "scatterternary": [
           {
            "marker": {
             "colorbar": {
              "outlinewidth": 0,
              "ticks": ""
             }
            },
            "type": "scatterternary"
           }
          ],
          "surface": [
           {
            "colorbar": {
             "outlinewidth": 0,
             "ticks": ""
            },
            "colorscale": [
             [
              0,
              "#0d0887"
             ],
             [
              0.1111111111111111,
              "#46039f"
             ],
             [
              0.2222222222222222,
              "#7201a8"
             ],
             [
              0.3333333333333333,
              "#9c179e"
             ],
             [
              0.4444444444444444,
              "#bd3786"
             ],
             [
              0.5555555555555556,
              "#d8576b"
             ],
             [
              0.6666666666666666,
              "#ed7953"
             ],
             [
              0.7777777777777778,
              "#fb9f3a"
             ],
             [
              0.8888888888888888,
              "#fdca26"
             ],
             [
              1,
              "#f0f921"
             ]
            ],
            "type": "surface"
           }
          ],
          "table": [
           {
            "cells": {
             "fill": {
              "color": "#EBF0F8"
             },
             "line": {
              "color": "white"
             }
            },
            "header": {
             "fill": {
              "color": "#C8D4E3"
             },
             "line": {
              "color": "white"
             }
            },
            "type": "table"
           }
          ]
         },
         "layout": {
          "annotationdefaults": {
           "arrowcolor": "#2a3f5f",
           "arrowhead": 0,
           "arrowwidth": 1
          },
          "autotypenumbers": "strict",
          "coloraxis": {
           "colorbar": {
            "outlinewidth": 0,
            "ticks": ""
           }
          },
          "colorscale": {
           "diverging": [
            [
             0,
             "#8e0152"
            ],
            [
             0.1,
             "#c51b7d"
            ],
            [
             0.2,
             "#de77ae"
            ],
            [
             0.3,
             "#f1b6da"
            ],
            [
             0.4,
             "#fde0ef"
            ],
            [
             0.5,
             "#f7f7f7"
            ],
            [
             0.6,
             "#e6f5d0"
            ],
            [
             0.7,
             "#b8e186"
            ],
            [
             0.8,
             "#7fbc41"
            ],
            [
             0.9,
             "#4d9221"
            ],
            [
             1,
             "#276419"
            ]
           ],
           "sequential": [
            [
             0,
             "#0d0887"
            ],
            [
             0.1111111111111111,
             "#46039f"
            ],
            [
             0.2222222222222222,
             "#7201a8"
            ],
            [
             0.3333333333333333,
             "#9c179e"
            ],
            [
             0.4444444444444444,
             "#bd3786"
            ],
            [
             0.5555555555555556,
             "#d8576b"
            ],
            [
             0.6666666666666666,
             "#ed7953"
            ],
            [
             0.7777777777777778,
             "#fb9f3a"
            ],
            [
             0.8888888888888888,
             "#fdca26"
            ],
            [
             1,
             "#f0f921"
            ]
           ],
           "sequentialminus": [
            [
             0,
             "#0d0887"
            ],
            [
             0.1111111111111111,
             "#46039f"
            ],
            [
             0.2222222222222222,
             "#7201a8"
            ],
            [
             0.3333333333333333,
             "#9c179e"
            ],
            [
             0.4444444444444444,
             "#bd3786"
            ],
            [
             0.5555555555555556,
             "#d8576b"
            ],
            [
             0.6666666666666666,
             "#ed7953"
            ],
            [
             0.7777777777777778,
             "#fb9f3a"
            ],
            [
             0.8888888888888888,
             "#fdca26"
            ],
            [
             1,
             "#f0f921"
            ]
           ]
          },
          "colorway": [
           "#636efa",
           "#EF553B",
           "#00cc96",
           "#ab63fa",
           "#FFA15A",
           "#19d3f3",
           "#FF6692",
           "#B6E880",
           "#FF97FF",
           "#FECB52"
          ],
          "font": {
           "color": "#2a3f5f"
          },
          "geo": {
           "bgcolor": "white",
           "lakecolor": "white",
           "landcolor": "#E5ECF6",
           "showlakes": true,
           "showland": true,
           "subunitcolor": "white"
          },
          "hoverlabel": {
           "align": "left"
          },
          "hovermode": "closest",
          "mapbox": {
           "style": "light"
          },
          "paper_bgcolor": "white",
          "plot_bgcolor": "#E5ECF6",
          "polar": {
           "angularaxis": {
            "gridcolor": "white",
            "linecolor": "white",
            "ticks": ""
           },
           "bgcolor": "#E5ECF6",
           "radialaxis": {
            "gridcolor": "white",
            "linecolor": "white",
            "ticks": ""
           }
          },
          "scene": {
           "xaxis": {
            "backgroundcolor": "#E5ECF6",
            "gridcolor": "white",
            "gridwidth": 2,
            "linecolor": "white",
            "showbackground": true,
            "ticks": "",
            "zerolinecolor": "white"
           },
           "yaxis": {
            "backgroundcolor": "#E5ECF6",
            "gridcolor": "white",
            "gridwidth": 2,
            "linecolor": "white",
            "showbackground": true,
            "ticks": "",
            "zerolinecolor": "white"
           },
           "zaxis": {
            "backgroundcolor": "#E5ECF6",
            "gridcolor": "white",
            "gridwidth": 2,
            "linecolor": "white",
            "showbackground": true,
            "ticks": "",
            "zerolinecolor": "white"
           }
          },
          "shapedefaults": {
           "line": {
            "color": "#2a3f5f"
           }
          },
          "ternary": {
           "aaxis": {
            "gridcolor": "white",
            "linecolor": "white",
            "ticks": ""
           },
           "baxis": {
            "gridcolor": "white",
            "linecolor": "white",
            "ticks": ""
           },
           "bgcolor": "#E5ECF6",
           "caxis": {
            "gridcolor": "white",
            "linecolor": "white",
            "ticks": ""
           }
          },
          "title": {
           "x": 0.05
          },
          "xaxis": {
           "automargin": true,
           "gridcolor": "white",
           "linecolor": "white",
           "ticks": "",
           "title": {
            "standoff": 15
           },
           "zerolinecolor": "white",
           "zerolinewidth": 2
          },
          "yaxis": {
           "automargin": true,
           "gridcolor": "white",
           "linecolor": "white",
           "ticks": "",
           "title": {
            "standoff": 15
           },
           "zerolinecolor": "white",
           "zerolinewidth": 2
          }
         }
        },
        "title": {
         "text": "Conf Matrix"
        },
        "width": 800,
        "xaxis": {
         "title": {
          "text": "Predicted value"
         }
        },
        "yaxis": {
         "title": {
          "text": "Real value"
         }
        }
       }
      }
     },
     "metadata": {},
     "output_type": "display_data"
    }
   ],
   "source": [
    "#Muestro la matriz de confusión\n",
    "display(plot_confusion_matrix(y_test,y_pred))\n",
    "#SI OBTENGO UNA DIAGONAL MUY FUERTE AMARILLA ES PQ PREDIJO BIEN EL MODELO "
   ]
  },
  {
   "cell_type": "code",
   "execution_count": 143,
   "metadata": {},
   "outputs": [],
   "source": [
    "#SIMULACIONES"
   ]
  },
  {
   "cell_type": "code",
   "execution_count": 144,
   "metadata": {},
   "outputs": [],
   "source": [
    "#Pruebo un modelo alternativo donde en vez de usar la version multiclass real de lightGBM utilizo One vs All\n",
    "\n",
    "lgb_params = params = {\n",
    "                        'objective': 'multiclassova', # el objetivo es clasificacion multiclase y ademas a diferencia de multiclassova, se entrena un clasificador binario por cada clase, es decir, elige una clase y el resto de las clases\n",
    "                        'num_class': len(y_train.unique())\n",
    "                        }\n",
    "\n",
    "\n",
    "lgb_train_dataset = lgb.Dataset(data=X_train,\n",
    "                                label=y_train)\n",
    "\n",
    "\n",
    "lgb_model = lgb.train(lgb_params,\n",
    "                      lgb_train_dataset)"
   ]
  },
  {
   "cell_type": "code",
   "execution_count": 145,
   "metadata": {},
   "outputs": [
    {
     "data": {
      "application/vnd.plotly.v1+json": {
       "config": {
        "plotlyServerURL": "https://plot.ly"
       },
       "data": [
        {
         "type": "heatmap",
         "x": [
          0,
          1,
          2,
          3,
          4
         ],
         "y": [
          0,
          1,
          2,
          3,
          4
         ],
         "z": [
          [
           9.75609756097561,
           43.90243902439025,
           18.29268292682927,
           8.536585365853659,
           19.51219512195122
          ],
          [
           0.8090614886731391,
           35.92233009708738,
           31.715210355987054,
           9.70873786407767,
           21.844660194174757
          ],
          [
           0.12391573729863693,
           23.172242874845107,
           36.30731102850062,
           14.12639405204461,
           26.270136307311027
          ],
          [
           0,
           15.337423312883436,
           32.82208588957055,
           26.533742331288344,
           25.306748466257666
          ],
          [
           0.35714285714285715,
           10.595238095238095,
           11.547619047619047,
           5.595238095238096,
           71.9047619047619
          ]
         ]
        }
       ],
       "layout": {
        "annotations": [
         {
          "font": {
           "color": "white"
          },
          "showarrow": false,
          "text": "9.8 - 8",
          "x": 0,
          "xref": "x",
          "y": 0,
          "yref": "y"
         },
         {
          "font": {
           "color": "white"
          },
          "showarrow": false,
          "text": "43.9 - 36",
          "x": 1,
          "xref": "x",
          "y": 0,
          "yref": "y"
         },
         {
          "font": {
           "color": "white"
          },
          "showarrow": false,
          "text": "18.3 - 15",
          "x": 2,
          "xref": "x",
          "y": 0,
          "yref": "y"
         },
         {
          "font": {
           "color": "white"
          },
          "showarrow": false,
          "text": "8.5 - 7",
          "x": 3,
          "xref": "x",
          "y": 0,
          "yref": "y"
         },
         {
          "font": {
           "color": "white"
          },
          "showarrow": false,
          "text": "19.5 - 16",
          "x": 4,
          "xref": "x",
          "y": 0,
          "yref": "y"
         },
         {
          "font": {
           "color": "white"
          },
          "showarrow": false,
          "text": "0.8 - 5",
          "x": 0,
          "xref": "x",
          "y": 1,
          "yref": "y"
         },
         {
          "font": {
           "color": "white"
          },
          "showarrow": false,
          "text": "35.9 - 222",
          "x": 1,
          "xref": "x",
          "y": 1,
          "yref": "y"
         },
         {
          "font": {
           "color": "white"
          },
          "showarrow": false,
          "text": "31.7 - 196",
          "x": 2,
          "xref": "x",
          "y": 1,
          "yref": "y"
         },
         {
          "font": {
           "color": "white"
          },
          "showarrow": false,
          "text": "9.7 - 60",
          "x": 3,
          "xref": "x",
          "y": 1,
          "yref": "y"
         },
         {
          "font": {
           "color": "white"
          },
          "showarrow": false,
          "text": "21.8 - 135",
          "x": 4,
          "xref": "x",
          "y": 1,
          "yref": "y"
         },
         {
          "font": {
           "color": "white"
          },
          "showarrow": false,
          "text": "0.1 - 1",
          "x": 0,
          "xref": "x",
          "y": 2,
          "yref": "y"
         },
         {
          "font": {
           "color": "white"
          },
          "showarrow": false,
          "text": "23.2 - 187",
          "x": 1,
          "xref": "x",
          "y": 2,
          "yref": "y"
         },
         {
          "font": {
           "color": "white"
          },
          "showarrow": false,
          "text": "36.3 - 293",
          "x": 2,
          "xref": "x",
          "y": 2,
          "yref": "y"
         },
         {
          "font": {
           "color": "white"
          },
          "showarrow": false,
          "text": "14.1 - 114",
          "x": 3,
          "xref": "x",
          "y": 2,
          "yref": "y"
         },
         {
          "font": {
           "color": "white"
          },
          "showarrow": false,
          "text": "26.3 - 212",
          "x": 4,
          "xref": "x",
          "y": 2,
          "yref": "y"
         },
         {
          "font": {
           "color": "white"
          },
          "showarrow": false,
          "text": "0.0 - 0",
          "x": 0,
          "xref": "x",
          "y": 3,
          "yref": "y"
         },
         {
          "font": {
           "color": "white"
          },
          "showarrow": false,
          "text": "15.3 - 100",
          "x": 1,
          "xref": "x",
          "y": 3,
          "yref": "y"
         },
         {
          "font": {
           "color": "white"
          },
          "showarrow": false,
          "text": "32.8 - 214",
          "x": 2,
          "xref": "x",
          "y": 3,
          "yref": "y"
         },
         {
          "font": {
           "color": "white"
          },
          "showarrow": false,
          "text": "26.5 - 173",
          "x": 3,
          "xref": "x",
          "y": 3,
          "yref": "y"
         },
         {
          "font": {
           "color": "white"
          },
          "showarrow": false,
          "text": "25.3 - 165",
          "x": 4,
          "xref": "x",
          "y": 3,
          "yref": "y"
         },
         {
          "font": {
           "color": "white"
          },
          "showarrow": false,
          "text": "0.4 - 3",
          "x": 0,
          "xref": "x",
          "y": 4,
          "yref": "y"
         },
         {
          "font": {
           "color": "white"
          },
          "showarrow": false,
          "text": "10.6 - 89",
          "x": 1,
          "xref": "x",
          "y": 4,
          "yref": "y"
         },
         {
          "font": {
           "color": "white"
          },
          "showarrow": false,
          "text": "11.5 - 97",
          "x": 2,
          "xref": "x",
          "y": 4,
          "yref": "y"
         },
         {
          "font": {
           "color": "white"
          },
          "showarrow": false,
          "text": "5.6 - 47",
          "x": 3,
          "xref": "x",
          "y": 4,
          "yref": "y"
         },
         {
          "font": {
           "color": "white"
          },
          "showarrow": false,
          "text": "71.9 - 604",
          "x": 4,
          "xref": "x",
          "y": 4,
          "yref": "y"
         }
        ],
        "height": 800,
        "template": {
         "data": {
          "bar": [
           {
            "error_x": {
             "color": "#2a3f5f"
            },
            "error_y": {
             "color": "#2a3f5f"
            },
            "marker": {
             "line": {
              "color": "#E5ECF6",
              "width": 0.5
             },
             "pattern": {
              "fillmode": "overlay",
              "size": 10,
              "solidity": 0.2
             }
            },
            "type": "bar"
           }
          ],
          "barpolar": [
           {
            "marker": {
             "line": {
              "color": "#E5ECF6",
              "width": 0.5
             },
             "pattern": {
              "fillmode": "overlay",
              "size": 10,
              "solidity": 0.2
             }
            },
            "type": "barpolar"
           }
          ],
          "carpet": [
           {
            "aaxis": {
             "endlinecolor": "#2a3f5f",
             "gridcolor": "white",
             "linecolor": "white",
             "minorgridcolor": "white",
             "startlinecolor": "#2a3f5f"
            },
            "baxis": {
             "endlinecolor": "#2a3f5f",
             "gridcolor": "white",
             "linecolor": "white",
             "minorgridcolor": "white",
             "startlinecolor": "#2a3f5f"
            },
            "type": "carpet"
           }
          ],
          "choropleth": [
           {
            "colorbar": {
             "outlinewidth": 0,
             "ticks": ""
            },
            "type": "choropleth"
           }
          ],
          "contour": [
           {
            "colorbar": {
             "outlinewidth": 0,
             "ticks": ""
            },
            "colorscale": [
             [
              0,
              "#0d0887"
             ],
             [
              0.1111111111111111,
              "#46039f"
             ],
             [
              0.2222222222222222,
              "#7201a8"
             ],
             [
              0.3333333333333333,
              "#9c179e"
             ],
             [
              0.4444444444444444,
              "#bd3786"
             ],
             [
              0.5555555555555556,
              "#d8576b"
             ],
             [
              0.6666666666666666,
              "#ed7953"
             ],
             [
              0.7777777777777778,
              "#fb9f3a"
             ],
             [
              0.8888888888888888,
              "#fdca26"
             ],
             [
              1,
              "#f0f921"
             ]
            ],
            "type": "contour"
           }
          ],
          "contourcarpet": [
           {
            "colorbar": {
             "outlinewidth": 0,
             "ticks": ""
            },
            "type": "contourcarpet"
           }
          ],
          "heatmap": [
           {
            "colorbar": {
             "outlinewidth": 0,
             "ticks": ""
            },
            "colorscale": [
             [
              0,
              "#0d0887"
             ],
             [
              0.1111111111111111,
              "#46039f"
             ],
             [
              0.2222222222222222,
              "#7201a8"
             ],
             [
              0.3333333333333333,
              "#9c179e"
             ],
             [
              0.4444444444444444,
              "#bd3786"
             ],
             [
              0.5555555555555556,
              "#d8576b"
             ],
             [
              0.6666666666666666,
              "#ed7953"
             ],
             [
              0.7777777777777778,
              "#fb9f3a"
             ],
             [
              0.8888888888888888,
              "#fdca26"
             ],
             [
              1,
              "#f0f921"
             ]
            ],
            "type": "heatmap"
           }
          ],
          "heatmapgl": [
           {
            "colorbar": {
             "outlinewidth": 0,
             "ticks": ""
            },
            "colorscale": [
             [
              0,
              "#0d0887"
             ],
             [
              0.1111111111111111,
              "#46039f"
             ],
             [
              0.2222222222222222,
              "#7201a8"
             ],
             [
              0.3333333333333333,
              "#9c179e"
             ],
             [
              0.4444444444444444,
              "#bd3786"
             ],
             [
              0.5555555555555556,
              "#d8576b"
             ],
             [
              0.6666666666666666,
              "#ed7953"
             ],
             [
              0.7777777777777778,
              "#fb9f3a"
             ],
             [
              0.8888888888888888,
              "#fdca26"
             ],
             [
              1,
              "#f0f921"
             ]
            ],
            "type": "heatmapgl"
           }
          ],
          "histogram": [
           {
            "marker": {
             "pattern": {
              "fillmode": "overlay",
              "size": 10,
              "solidity": 0.2
             }
            },
            "type": "histogram"
           }
          ],
          "histogram2d": [
           {
            "colorbar": {
             "outlinewidth": 0,
             "ticks": ""
            },
            "colorscale": [
             [
              0,
              "#0d0887"
             ],
             [
              0.1111111111111111,
              "#46039f"
             ],
             [
              0.2222222222222222,
              "#7201a8"
             ],
             [
              0.3333333333333333,
              "#9c179e"
             ],
             [
              0.4444444444444444,
              "#bd3786"
             ],
             [
              0.5555555555555556,
              "#d8576b"
             ],
             [
              0.6666666666666666,
              "#ed7953"
             ],
             [
              0.7777777777777778,
              "#fb9f3a"
             ],
             [
              0.8888888888888888,
              "#fdca26"
             ],
             [
              1,
              "#f0f921"
             ]
            ],
            "type": "histogram2d"
           }
          ],
          "histogram2dcontour": [
           {
            "colorbar": {
             "outlinewidth": 0,
             "ticks": ""
            },
            "colorscale": [
             [
              0,
              "#0d0887"
             ],
             [
              0.1111111111111111,
              "#46039f"
             ],
             [
              0.2222222222222222,
              "#7201a8"
             ],
             [
              0.3333333333333333,
              "#9c179e"
             ],
             [
              0.4444444444444444,
              "#bd3786"
             ],
             [
              0.5555555555555556,
              "#d8576b"
             ],
             [
              0.6666666666666666,
              "#ed7953"
             ],
             [
              0.7777777777777778,
              "#fb9f3a"
             ],
             [
              0.8888888888888888,
              "#fdca26"
             ],
             [
              1,
              "#f0f921"
             ]
            ],
            "type": "histogram2dcontour"
           }
          ],
          "mesh3d": [
           {
            "colorbar": {
             "outlinewidth": 0,
             "ticks": ""
            },
            "type": "mesh3d"
           }
          ],
          "parcoords": [
           {
            "line": {
             "colorbar": {
              "outlinewidth": 0,
              "ticks": ""
             }
            },
            "type": "parcoords"
           }
          ],
          "pie": [
           {
            "automargin": true,
            "type": "pie"
           }
          ],
          "scatter": [
           {
            "fillpattern": {
             "fillmode": "overlay",
             "size": 10,
             "solidity": 0.2
            },
            "type": "scatter"
           }
          ],
          "scatter3d": [
           {
            "line": {
             "colorbar": {
              "outlinewidth": 0,
              "ticks": ""
             }
            },
            "marker": {
             "colorbar": {
              "outlinewidth": 0,
              "ticks": ""
             }
            },
            "type": "scatter3d"
           }
          ],
          "scattercarpet": [
           {
            "marker": {
             "colorbar": {
              "outlinewidth": 0,
              "ticks": ""
             }
            },
            "type": "scattercarpet"
           }
          ],
          "scattergeo": [
           {
            "marker": {
             "colorbar": {
              "outlinewidth": 0,
              "ticks": ""
             }
            },
            "type": "scattergeo"
           }
          ],
          "scattergl": [
           {
            "marker": {
             "colorbar": {
              "outlinewidth": 0,
              "ticks": ""
             }
            },
            "type": "scattergl"
           }
          ],
          "scattermapbox": [
           {
            "marker": {
             "colorbar": {
              "outlinewidth": 0,
              "ticks": ""
             }
            },
            "type": "scattermapbox"
           }
          ],
          "scatterpolar": [
           {
            "marker": {
             "colorbar": {
              "outlinewidth": 0,
              "ticks": ""
             }
            },
            "type": "scatterpolar"
           }
          ],
          "scatterpolargl": [
           {
            "marker": {
             "colorbar": {
              "outlinewidth": 0,
              "ticks": ""
             }
            },
            "type": "scatterpolargl"
           }
          ],
          "scatterternary": [
           {
            "marker": {
             "colorbar": {
              "outlinewidth": 0,
              "ticks": ""
             }
            },
            "type": "scatterternary"
           }
          ],
          "surface": [
           {
            "colorbar": {
             "outlinewidth": 0,
             "ticks": ""
            },
            "colorscale": [
             [
              0,
              "#0d0887"
             ],
             [
              0.1111111111111111,
              "#46039f"
             ],
             [
              0.2222222222222222,
              "#7201a8"
             ],
             [
              0.3333333333333333,
              "#9c179e"
             ],
             [
              0.4444444444444444,
              "#bd3786"
             ],
             [
              0.5555555555555556,
              "#d8576b"
             ],
             [
              0.6666666666666666,
              "#ed7953"
             ],
             [
              0.7777777777777778,
              "#fb9f3a"
             ],
             [
              0.8888888888888888,
              "#fdca26"
             ],
             [
              1,
              "#f0f921"
             ]
            ],
            "type": "surface"
           }
          ],
          "table": [
           {
            "cells": {
             "fill": {
              "color": "#EBF0F8"
             },
             "line": {
              "color": "white"
             }
            },
            "header": {
             "fill": {
              "color": "#C8D4E3"
             },
             "line": {
              "color": "white"
             }
            },
            "type": "table"
           }
          ]
         },
         "layout": {
          "annotationdefaults": {
           "arrowcolor": "#2a3f5f",
           "arrowhead": 0,
           "arrowwidth": 1
          },
          "autotypenumbers": "strict",
          "coloraxis": {
           "colorbar": {
            "outlinewidth": 0,
            "ticks": ""
           }
          },
          "colorscale": {
           "diverging": [
            [
             0,
             "#8e0152"
            ],
            [
             0.1,
             "#c51b7d"
            ],
            [
             0.2,
             "#de77ae"
            ],
            [
             0.3,
             "#f1b6da"
            ],
            [
             0.4,
             "#fde0ef"
            ],
            [
             0.5,
             "#f7f7f7"
            ],
            [
             0.6,
             "#e6f5d0"
            ],
            [
             0.7,
             "#b8e186"
            ],
            [
             0.8,
             "#7fbc41"
            ],
            [
             0.9,
             "#4d9221"
            ],
            [
             1,
             "#276419"
            ]
           ],
           "sequential": [
            [
             0,
             "#0d0887"
            ],
            [
             0.1111111111111111,
             "#46039f"
            ],
            [
             0.2222222222222222,
             "#7201a8"
            ],
            [
             0.3333333333333333,
             "#9c179e"
            ],
            [
             0.4444444444444444,
             "#bd3786"
            ],
            [
             0.5555555555555556,
             "#d8576b"
            ],
            [
             0.6666666666666666,
             "#ed7953"
            ],
            [
             0.7777777777777778,
             "#fb9f3a"
            ],
            [
             0.8888888888888888,
             "#fdca26"
            ],
            [
             1,
             "#f0f921"
            ]
           ],
           "sequentialminus": [
            [
             0,
             "#0d0887"
            ],
            [
             0.1111111111111111,
             "#46039f"
            ],
            [
             0.2222222222222222,
             "#7201a8"
            ],
            [
             0.3333333333333333,
             "#9c179e"
            ],
            [
             0.4444444444444444,
             "#bd3786"
            ],
            [
             0.5555555555555556,
             "#d8576b"
            ],
            [
             0.6666666666666666,
             "#ed7953"
            ],
            [
             0.7777777777777778,
             "#fb9f3a"
            ],
            [
             0.8888888888888888,
             "#fdca26"
            ],
            [
             1,
             "#f0f921"
            ]
           ]
          },
          "colorway": [
           "#636efa",
           "#EF553B",
           "#00cc96",
           "#ab63fa",
           "#FFA15A",
           "#19d3f3",
           "#FF6692",
           "#B6E880",
           "#FF97FF",
           "#FECB52"
          ],
          "font": {
           "color": "#2a3f5f"
          },
          "geo": {
           "bgcolor": "white",
           "lakecolor": "white",
           "landcolor": "#E5ECF6",
           "showlakes": true,
           "showland": true,
           "subunitcolor": "white"
          },
          "hoverlabel": {
           "align": "left"
          },
          "hovermode": "closest",
          "mapbox": {
           "style": "light"
          },
          "paper_bgcolor": "white",
          "plot_bgcolor": "#E5ECF6",
          "polar": {
           "angularaxis": {
            "gridcolor": "white",
            "linecolor": "white",
            "ticks": ""
           },
           "bgcolor": "#E5ECF6",
           "radialaxis": {
            "gridcolor": "white",
            "linecolor": "white",
            "ticks": ""
           }
          },
          "scene": {
           "xaxis": {
            "backgroundcolor": "#E5ECF6",
            "gridcolor": "white",
            "gridwidth": 2,
            "linecolor": "white",
            "showbackground": true,
            "ticks": "",
            "zerolinecolor": "white"
           },
           "yaxis": {
            "backgroundcolor": "#E5ECF6",
            "gridcolor": "white",
            "gridwidth": 2,
            "linecolor": "white",
            "showbackground": true,
            "ticks": "",
            "zerolinecolor": "white"
           },
           "zaxis": {
            "backgroundcolor": "#E5ECF6",
            "gridcolor": "white",
            "gridwidth": 2,
            "linecolor": "white",
            "showbackground": true,
            "ticks": "",
            "zerolinecolor": "white"
           }
          },
          "shapedefaults": {
           "line": {
            "color": "#2a3f5f"
           }
          },
          "ternary": {
           "aaxis": {
            "gridcolor": "white",
            "linecolor": "white",
            "ticks": ""
           },
           "baxis": {
            "gridcolor": "white",
            "linecolor": "white",
            "ticks": ""
           },
           "bgcolor": "#E5ECF6",
           "caxis": {
            "gridcolor": "white",
            "linecolor": "white",
            "ticks": ""
           }
          },
          "title": {
           "x": 0.05
          },
          "xaxis": {
           "automargin": true,
           "gridcolor": "white",
           "linecolor": "white",
           "ticks": "",
           "title": {
            "standoff": 15
           },
           "zerolinecolor": "white",
           "zerolinewidth": 2
          },
          "yaxis": {
           "automargin": true,
           "gridcolor": "white",
           "linecolor": "white",
           "ticks": "",
           "title": {
            "standoff": 15
           },
           "zerolinecolor": "white",
           "zerolinewidth": 2
          }
         }
        },
        "title": {
         "text": "Conf Matrix"
        },
        "width": 800,
        "xaxis": {
         "title": {
          "text": "Predicted value"
         }
        },
        "yaxis": {
         "title": {
          "text": "Real value"
         }
        }
       }
      }
     },
     "metadata": {},
     "output_type": "display_data"
    },
    {
     "data": {
      "text/plain": [
       "{'kappa': 0.37980551372109306,\n",
       " 'accuracy': 0.43347782594198064,\n",
       " 'balanced_accuracy': 0.3608484858452277}"
      ]
     },
     "execution_count": 145,
     "metadata": {},
     "output_type": "execute_result"
    }
   ],
   "source": [
    "#MAtriz de confusion y Kappa para el modelo One vs All\n",
    "y_pred = lgb_model.predict(X_test).argmax(axis=1)\n",
    "\n",
    "display(plot_confusion_matrix(y_test,y_pred))\n",
    "\n",
    "{'kappa':cohen_kappa_score(y_test,\n",
    "                y_pred,\n",
    "                weights = 'quadratic'),\n",
    " 'accuracy':accuracy_score(y_test,y_pred),\n",
    " 'balanced_accuracy':balanced_accuracy_score(y_test,y_pred)}\n",
    "\n",
    "\n"
   ]
  },
  {
   "cell_type": "code",
   "execution_count": 146,
   "metadata": {},
   "outputs": [],
   "source": [
    "#USAR MULTINOVA MEJORA KAPPA OSEA MI MODELO SE ACERCA MAS AL ORIG"
   ]
  },
  {
   "cell_type": "markdown",
   "metadata": {},
   "source": [
    "## Optimizacion de hiperparametros modelo train/test"
   ]
  },
  {
   "cell_type": "code",
   "execution_count": 148,
   "metadata": {},
   "outputs": [],
   "source": [
    "\n",
    "#Funcion que vamos a optimizar. Optuna requiere que usemos el objeto trial para generar los parametros a optimizar\n",
    "def lgb_objective(trial):\n",
    "    #PArametros para LightGBM\n",
    "    lgb_params = {      \n",
    "                        #PArametros fijos\n",
    "                        'objective': 'multiclass',\n",
    "                        'verbosity':-1,\n",
    "                        'num_class': len(y_train.unique()),\n",
    "                        #Hiperparametros a optimizar utilizando suggest_float o suggest_int segun el tipo de dato\n",
    "                        #Se indica el nombre del parametro, valor minimo, valor maximo \n",
    "                        #en elgunos casos el parametro log=True para parametros que requieren buscar en esa escala\n",
    "                        'lambda_l1': trial.suggest_float('lambda_l1', 1e-8, 10.0, log=True),\n",
    "                        'lambda_l2': trial.suggest_float('lambda_l2', 1e-8, 10.0, log=True),\n",
    "                        'num_leaves': trial.suggest_int('num_leaves', 2, 256),\n",
    "                        'feature_fraction': trial.suggest_float('feature_fraction', 0.4, 1.0),\n",
    "                        'bagging_fraction': trial.suggest_float('bagging_fraction', 0.4, 1.0),\n",
    "                        'bagging_freq': trial.suggest_int('bagging_freq', 1, 7),\n",
    "                        'min_child_samples': trial.suggest_int('min_child_samples', 5, 100),\n",
    "                        } \n",
    "\n",
    "    #Genero objeto dataset de entrenamiento\n",
    "    lgb_train_dataset = lgb.Dataset(data=X_train,\n",
    "                                    label=y_train)\n",
    "\n",
    "    #ajuste de modelo\n",
    "    lgb_model = lgb.train(lgb_params,\n",
    "                        lgb_train_dataset)\n",
    "    \n",
    "    #Devuelvo el score en test\n",
    "    return(cohen_kappa_score(y_test,lgb_model.predict(X_test).argmax(axis=1),\n",
    "                             weights = 'quadratic'))"
   ]
  },
  {
   "cell_type": "code",
   "execution_count": 149,
   "metadata": {},
   "outputs": [
    {
     "name": "stderr",
     "output_type": "stream",
     "text": [
      "[I 2024-10-16 18:34:16,892] A new study created in RDB with name: 04 - LGB Multiclass - FE v3\n",
      "[I 2024-10-16 18:34:20,259] Trial 0 finished with value: 0.369218159215587 and parameters: {'lambda_l1': 0.014244218594160047, 'lambda_l2': 1.9852580443180624e-07, 'num_leaves': 112, 'feature_fraction': 0.5476658341632241, 'bagging_fraction': 0.4002112577256796, 'bagging_freq': 6, 'min_child_samples': 19}. Best is trial 0 with value: 0.369218159215587.\n",
      "[I 2024-10-16 18:34:22,706] Trial 1 finished with value: 0.4003474570993899 and parameters: {'lambda_l1': 0.08501636873147998, 'lambda_l2': 0.014663320197448421, 'num_leaves': 55, 'feature_fraction': 0.7445690157374945, 'bagging_fraction': 0.9992690888768904, 'bagging_freq': 6, 'min_child_samples': 21}. Best is trial 1 with value: 0.4003474570993899.\n",
      "[I 2024-10-16 18:34:25,290] Trial 2 finished with value: 0.3991130305388433 and parameters: {'lambda_l1': 1.4184458412750501e-05, 'lambda_l2': 1.449287804103567e-06, 'num_leaves': 53, 'feature_fraction': 0.8731711306348948, 'bagging_fraction': 0.8872284497409295, 'bagging_freq': 4, 'min_child_samples': 84}. Best is trial 1 with value: 0.4003474570993899.\n",
      "[I 2024-10-16 18:34:32,529] Trial 3 finished with value: 0.3837271944683568 and parameters: {'lambda_l1': 0.23900544189077305, 'lambda_l2': 0.17951715276500133, 'num_leaves': 243, 'feature_fraction': 0.7735338265956371, 'bagging_fraction': 0.9733589527880533, 'bagging_freq': 3, 'min_child_samples': 7}. Best is trial 1 with value: 0.4003474570993899.\n",
      "[I 2024-10-16 18:34:34,643] Trial 4 finished with value: 0.3759594709971389 and parameters: {'lambda_l1': 9.640262172772623e-08, 'lambda_l2': 5.949604279123835e-06, 'num_leaves': 125, 'feature_fraction': 0.6392322696387525, 'bagging_fraction': 0.5515939475142774, 'bagging_freq': 5, 'min_child_samples': 81}. Best is trial 1 with value: 0.4003474570993899.\n",
      "[I 2024-10-16 18:34:36,809] Trial 5 finished with value: 0.3860243552728515 and parameters: {'lambda_l1': 4.637392062311867e-06, 'lambda_l2': 1.8881185384569735e-08, 'num_leaves': 53, 'feature_fraction': 0.49928875138636086, 'bagging_fraction': 0.4376658885106794, 'bagging_freq': 6, 'min_child_samples': 35}. Best is trial 1 with value: 0.4003474570993899.\n",
      "[I 2024-10-16 18:34:39,030] Trial 6 finished with value: 0.3776098581892916 and parameters: {'lambda_l1': 1.1421248046543757e-05, 'lambda_l2': 2.0576802766314033e-07, 'num_leaves': 82, 'feature_fraction': 0.4121695279547089, 'bagging_fraction': 0.5272488546995543, 'bagging_freq': 6, 'min_child_samples': 58}. Best is trial 1 with value: 0.4003474570993899.\n",
      "[I 2024-10-16 18:34:40,214] Trial 7 finished with value: 0.3878710655125609 and parameters: {'lambda_l1': 0.01866935736400367, 'lambda_l2': 0.0029827016352405185, 'num_leaves': 13, 'feature_fraction': 0.5681764690494304, 'bagging_fraction': 0.6847979652352469, 'bagging_freq': 3, 'min_child_samples': 19}. Best is trial 1 with value: 0.4003474570993899.\n",
      "[I 2024-10-16 18:34:43,952] Trial 8 finished with value: 0.3813098634944876 and parameters: {'lambda_l1': 0.21328091838689045, 'lambda_l2': 0.003916939479441978, 'num_leaves': 213, 'feature_fraction': 0.5792412626503067, 'bagging_fraction': 0.9779644660603801, 'bagging_freq': 3, 'min_child_samples': 78}. Best is trial 1 with value: 0.4003474570993899.\n",
      "[I 2024-10-16 18:34:48,640] Trial 9 finished with value: 0.3669033961551448 and parameters: {'lambda_l1': 1.6871307331884183e-08, 'lambda_l2': 9.390817373194388e-08, 'num_leaves': 132, 'feature_fraction': 0.846954659017245, 'bagging_fraction': 0.9310309607232073, 'bagging_freq': 3, 'min_child_samples': 26}. Best is trial 1 with value: 0.4003474570993899.\n",
      "[I 2024-10-16 18:34:51,123] Trial 10 finished with value: 0.3814241794619522 and parameters: {'lambda_l1': 7.435181563875559, 'lambda_l2': 5.219239367393558, 'num_leaves': 176, 'feature_fraction': 0.9777197709642704, 'bagging_fraction': 0.8037907302506528, 'bagging_freq': 1, 'min_child_samples': 47}. Best is trial 1 with value: 0.4003474570993899.\n",
      "[I 2024-10-16 18:34:52,268] Trial 11 finished with value: 0.37335992959314734 and parameters: {'lambda_l1': 0.00031912184665174086, 'lambda_l2': 5.7794130381247325e-05, 'num_leaves': 15, 'feature_fraction': 0.8840585981428624, 'bagging_fraction': 0.8277982855637643, 'bagging_freq': 7, 'min_child_samples': 100}. Best is trial 1 with value: 0.4003474570993899.\n",
      "[I 2024-10-16 18:34:54,845] Trial 12 finished with value: 0.37476038053159344 and parameters: {'lambda_l1': 0.00025580575974393054, 'lambda_l2': 2.1778889365369846e-05, 'num_leaves': 60, 'feature_fraction': 0.7301905338256209, 'bagging_fraction': 0.8616278425952105, 'bagging_freq': 4, 'min_child_samples': 63}. Best is trial 1 with value: 0.4003474570993899.\n",
      "[I 2024-10-16 18:34:57,275] Trial 13 finished with value: 0.37447658584064414 and parameters: {'lambda_l1': 0.00024315669196946712, 'lambda_l2': 0.0022618606863926264, 'num_leaves': 52, 'feature_fraction': 0.8314691349741167, 'bagging_fraction': 0.73341684844322, 'bagging_freq': 5, 'min_child_samples': 99}. Best is trial 1 with value: 0.4003474570993899.\n",
      "[I 2024-10-16 18:35:00,779] Trial 14 finished with value: 0.38834138278693264 and parameters: {'lambda_l1': 2.7893070693558684e-06, 'lambda_l2': 0.045414026593171675, 'num_leaves': 89, 'feature_fraction': 0.9581072851875098, 'bagging_fraction': 0.8940991462557759, 'bagging_freq': 7, 'min_child_samples': 41}. Best is trial 1 with value: 0.4003474570993899.\n",
      "[I 2024-10-16 18:35:01,812] Trial 15 finished with value: 0.3756475610944858 and parameters: {'lambda_l1': 0.0037448990185515695, 'lambda_l2': 2.4441068378059317e-06, 'num_leaves': 10, 'feature_fraction': 0.6649485033010357, 'bagging_fraction': 0.9980828068817559, 'bagging_freq': 1, 'min_child_samples': 72}. Best is trial 1 with value: 0.4003474570993899.\n",
      "[I 2024-10-16 18:35:04,824] Trial 16 finished with value: 0.3745327291609625 and parameters: {'lambda_l1': 7.239209402656482, 'lambda_l2': 0.0003846335434978441, 'num_leaves': 150, 'feature_fraction': 0.769639909001519, 'bagging_fraction': 0.7288463977381974, 'bagging_freq': 4, 'min_child_samples': 5}. Best is trial 1 with value: 0.4003474570993899.\n",
      "[I 2024-10-16 18:35:06,692] Trial 17 finished with value: 0.37462358079152946 and parameters: {'lambda_l1': 4.2059757586321317e-07, 'lambda_l2': 0.9594911583896888, 'num_leaves': 38, 'feature_fraction': 0.9043645674005529, 'bagging_fraction': 0.9054746446693495, 'bagging_freq': 5, 'min_child_samples': 67}. Best is trial 1 with value: 0.4003474570993899.\n",
      "[I 2024-10-16 18:35:09,435] Trial 18 finished with value: 0.3992477363579988 and parameters: {'lambda_l1': 4.943484834344725e-05, 'lambda_l2': 0.029532996260409568, 'num_leaves': 91, 'feature_fraction': 0.7957973588247925, 'bagging_fraction': 0.7809993989657789, 'bagging_freq': 2, 'min_child_samples': 86}. Best is trial 1 with value: 0.4003474570993899.\n",
      "[I 2024-10-16 18:35:11,840] Trial 19 finished with value: 0.38952280187384425 and parameters: {'lambda_l1': 0.3440284718993371, 'lambda_l2': 0.03740968091386408, 'num_leaves': 94, 'feature_fraction': 0.6983771293461415, 'bagging_fraction': 0.646482538463816, 'bagging_freq': 2, 'min_child_samples': 52}. Best is trial 1 with value: 0.4003474570993899.\n",
      "[I 2024-10-16 18:35:16,390] Trial 20 finished with value: 0.4141371000291618 and parameters: {'lambda_l1': 0.0020597396810837438, 'lambda_l2': 0.01730591154771041, 'num_leaves': 167, 'feature_fraction': 0.7873678876045663, 'bagging_fraction': 0.7820604928105453, 'bagging_freq': 2, 'min_child_samples': 30}. Best is trial 20 with value: 0.4141371000291618.\n",
      "[I 2024-10-16 18:35:20,891] Trial 21 finished with value: 0.4048922956722111 and parameters: {'lambda_l1': 0.0018502962099489508, 'lambda_l2': 0.028278912428610158, 'num_leaves': 166, 'feature_fraction': 0.8018318053103027, 'bagging_fraction': 0.7916151741765057, 'bagging_freq': 2, 'min_child_samples': 32}. Best is trial 20 with value: 0.4141371000291618.\n",
      "[I 2024-10-16 18:35:24,257] Trial 22 finished with value: 0.3725455400549259 and parameters: {'lambda_l1': 0.0031115084798900125, 'lambda_l2': 0.3626518530870069, 'num_leaves': 174, 'feature_fraction': 0.7493702009705777, 'bagging_fraction': 0.5804213019994762, 'bagging_freq': 2, 'min_child_samples': 31}. Best is trial 20 with value: 0.4141371000291618.\n",
      "[I 2024-10-16 18:35:28,866] Trial 23 finished with value: 0.3803845920017115 and parameters: {'lambda_l1': 0.023411087003862994, 'lambda_l2': 0.0006274030041419453, 'num_leaves': 189, 'feature_fraction': 0.814779893022669, 'bagging_fraction': 0.7701130704002316, 'bagging_freq': 1, 'min_child_samples': 17}. Best is trial 20 with value: 0.4141371000291618.\n",
      "[I 2024-10-16 18:35:32,208] Trial 24 finished with value: 0.3870375577832985 and parameters: {'lambda_l1': 0.0018477475886261778, 'lambda_l2': 0.012018374568826906, 'num_leaves': 155, 'feature_fraction': 0.6991304982828679, 'bagging_fraction': 0.6667137274917542, 'bagging_freq': 2, 'min_child_samples': 40}. Best is trial 20 with value: 0.4141371000291618.\n",
      "[I 2024-10-16 18:35:35,941] Trial 25 finished with value: 0.3863192028301141 and parameters: {'lambda_l1': 0.8530957281743595, 'lambda_l2': 4.1460641475246245, 'num_leaves': 208, 'feature_fraction': 0.9284779032603199, 'bagging_fraction': 0.6280826701337687, 'bagging_freq': 2, 'min_child_samples': 26}. Best is trial 20 with value: 0.4141371000291618.\n",
      "[I 2024-10-16 18:35:39,808] Trial 26 finished with value: 0.40941327368027625 and parameters: {'lambda_l1': 0.05341914484820467, 'lambda_l2': 0.1840604837026416, 'num_leaves': 147, 'feature_fraction': 0.6398240943034722, 'bagging_fraction': 0.7361064154780638, 'bagging_freq': 1, 'min_child_samples': 14}. Best is trial 20 with value: 0.4141371000291618.\n",
      "[I 2024-10-16 18:35:43,780] Trial 27 finished with value: 0.3914241642674885 and parameters: {'lambda_l1': 0.0009162764736387899, 'lambda_l2': 0.20486074574326954, 'num_leaves': 153, 'feature_fraction': 0.6229186922279918, 'bagging_fraction': 0.7405673845630869, 'bagging_freq': 1, 'min_child_samples': 9}. Best is trial 20 with value: 0.4141371000291618.\n",
      "[I 2024-10-16 18:35:47,965] Trial 28 finished with value: 0.3945031519833877 and parameters: {'lambda_l1': 0.05043847860913156, 'lambda_l2': 1.2331722349211973, 'num_leaves': 208, 'feature_fraction': 0.4954987398471402, 'bagging_fraction': 0.8215854178450137, 'bagging_freq': 1, 'min_child_samples': 33}. Best is trial 20 with value: 0.4141371000291618.\n",
      "[I 2024-10-16 18:35:51,476] Trial 29 finished with value: 0.381766224194771 and parameters: {'lambda_l1': 0.004072572580162113, 'lambda_l2': 0.0001015071023616249, 'num_leaves': 120, 'feature_fraction': 0.6148766172161317, 'bagging_fraction': 0.6099327763597313, 'bagging_freq': 2, 'min_child_samples': 15}. Best is trial 20 with value: 0.4141371000291618.\n",
      "[I 2024-10-16 18:35:55,149] Trial 30 finished with value: 0.38667454188738426 and parameters: {'lambda_l1': 7.730579763957469e-05, 'lambda_l2': 0.10707456824976308, 'num_leaves': 250, 'feature_fraction': 0.6826433871229888, 'bagging_fraction': 0.6994180203721435, 'bagging_freq': 3, 'min_child_samples': 45}. Best is trial 20 with value: 0.4141371000291618.\n",
      "[I 2024-10-16 18:35:58,841] Trial 31 finished with value: 0.3836626628554973 and parameters: {'lambda_l1': 0.060250048476062606, 'lambda_l2': 0.008668696776775833, 'num_leaves': 139, 'feature_fraction': 0.7227173861615254, 'bagging_fraction': 0.8514302385504449, 'bagging_freq': 1, 'min_child_samples': 25}. Best is trial 20 with value: 0.4141371000291618.\n",
      "[I 2024-10-16 18:36:02,944] Trial 32 finished with value: 0.39344944344103105 and parameters: {'lambda_l1': 1.6954792255849955, 'lambda_l2': 0.0013738893540347203, 'num_leaves': 175, 'feature_fraction': 0.8012244058979122, 'bagging_fraction': 0.9421252578818575, 'bagging_freq': 2, 'min_child_samples': 14}. Best is trial 20 with value: 0.4141371000291618.\n",
      "[I 2024-10-16 18:36:06,530] Trial 33 finished with value: 0.3896882217410833 and parameters: {'lambda_l1': 0.006724972743008659, 'lambda_l2': 0.01652135084793698, 'num_leaves': 108, 'feature_fraction': 0.8608543979488631, 'bagging_fraction': 0.7687183606704524, 'bagging_freq': 5, 'min_child_samples': 22}. Best is trial 20 with value: 0.4141371000291618.\n",
      "[I 2024-10-16 18:36:11,415] Trial 34 finished with value: 0.37806962814771783 and parameters: {'lambda_l1': 0.0797195787258218, 'lambda_l2': 0.681150020714325, 'num_leaves': 164, 'feature_fraction': 0.7620813147380439, 'bagging_fraction': 0.8528315051414901, 'bagging_freq': 4, 'min_child_samples': 11}. Best is trial 20 with value: 0.4141371000291618.\n",
      "[I 2024-10-16 18:36:16,087] Trial 35 finished with value: 0.3783790151746338 and parameters: {'lambda_l1': 0.0009285011644717833, 'lambda_l2': 0.10317127554445406, 'num_leaves': 196, 'feature_fraction': 0.6555158266307037, 'bagging_fraction': 0.7145394643536642, 'bagging_freq': 6, 'min_child_samples': 27}. Best is trial 20 with value: 0.4141371000291618.\n",
      "[I 2024-10-16 18:36:19,372] Trial 36 finished with value: 0.35718311000345315 and parameters: {'lambda_l1': 0.01252354726549224, 'lambda_l2': 0.008284596611315703, 'num_leaves': 231, 'feature_fraction': 0.7277931929319091, 'bagging_fraction': 0.4977152938041498, 'bagging_freq': 3, 'min_child_samples': 37}. Best is trial 20 with value: 0.4141371000291618.\n",
      "[I 2024-10-16 18:36:22,590] Trial 37 finished with value: 0.3870566496701304 and parameters: {'lambda_l1': 0.18039510001477344, 'lambda_l2': 0.0617262799325977, 'num_leaves': 112, 'feature_fraction': 0.5097559948262009, 'bagging_fraction': 0.7955639353583095, 'bagging_freq': 7, 'min_child_samples': 31}. Best is trial 20 with value: 0.4141371000291618.\n",
      "[I 2024-10-16 18:36:26,222] Trial 38 finished with value: 0.3971894585771085 and parameters: {'lambda_l1': 0.9092757519639894, 'lambda_l2': 0.0008698205070568562, 'num_leaves': 143, 'feature_fraction': 0.6014888191294672, 'bagging_fraction': 0.9386644189024348, 'bagging_freq': 1, 'min_child_samples': 20}. Best is trial 20 with value: 0.4141371000291618.\n",
      "[I 2024-10-16 18:36:30,762] Trial 39 finished with value: 0.38186163810802665 and parameters: {'lambda_l1': 0.0198199373458438, 'lambda_l2': 2.004166958985796, 'num_leaves': 228, 'feature_fraction': 0.7956732489465392, 'bagging_fraction': 0.40590035738156893, 'bagging_freq': 3, 'min_child_samples': 10}. Best is trial 20 with value: 0.4141371000291618.\n",
      "[I 2024-10-16 18:36:33,348] Trial 40 finished with value: 0.3895756761221758 and parameters: {'lambda_l1': 0.0007448111280274048, 'lambda_l2': 0.3221471762119115, 'num_leaves': 69, 'feature_fraction': 0.8456625068442328, 'bagging_fraction': 0.6743628371637064, 'bagging_freq': 2, 'min_child_samples': 50}. Best is trial 20 with value: 0.4141371000291618.\n",
      "[I 2024-10-16 18:36:34,896] Trial 41 finished with value: 0.38643637001255715 and parameters: {'lambda_l1': 4.4297571251961295e-05, 'lambda_l2': 0.02588771647652147, 'num_leaves': 33, 'feature_fraction': 0.7892708186842363, 'bagging_fraction': 0.7509553560161646, 'bagging_freq': 2, 'min_child_samples': 86}. Best is trial 20 with value: 0.4141371000291618.\n",
      "[I 2024-10-16 18:36:37,681] Trial 42 finished with value: 0.3844339169712818 and parameters: {'lambda_l1': 5.453232738683882e-05, 'lambda_l2': 0.004100720671785854, 'num_leaves': 99, 'feature_fraction': 0.7632229498054187, 'bagging_fraction': 0.7838019112012863, 'bagging_freq': 2, 'min_child_samples': 90}. Best is trial 20 with value: 0.4141371000291618.\n",
      "[I 2024-10-16 18:36:41,358] Trial 43 finished with value: 0.3917071364308913 and parameters: {'lambda_l1': 2.2559915888567476e-06, 'lambda_l2': 0.14897422182424117, 'num_leaves': 127, 'feature_fraction': 0.8211852010130474, 'bagging_fraction': 0.8206098282947203, 'bagging_freq': 3, 'min_child_samples': 56}. Best is trial 20 with value: 0.4141371000291618.\n",
      "[I 2024-10-16 18:36:44,217] Trial 44 finished with value: 0.39122603727577676 and parameters: {'lambda_l1': 1.350687796603087e-05, 'lambda_l2': 0.00019204637736101624, 'num_leaves': 82, 'feature_fraction': 0.889379447297651, 'bagging_fraction': 0.8726114982759355, 'bagging_freq': 1, 'min_child_samples': 39}. Best is trial 20 with value: 0.4141371000291618.\n",
      "[I 2024-10-16 18:36:49,039] Trial 45 finished with value: 0.39991996264923624 and parameters: {'lambda_l1': 0.0001856974363696818, 'lambda_l2': 0.004645242142293816, 'num_leaves': 187, 'feature_fraction': 0.7363703496767511, 'bagging_fraction': 0.706277914791734, 'bagging_freq': 6, 'min_child_samples': 29}. Best is trial 20 with value: 0.4141371000291618.\n",
      "[I 2024-10-16 18:36:53,855] Trial 46 finished with value: 0.38169025816348134 and parameters: {'lambda_l1': 0.009917646521987017, 'lambda_l2': 0.007579193552230805, 'num_leaves': 189, 'feature_fraction': 0.7354449094586507, 'bagging_fraction': 0.6845678851336024, 'bagging_freq': 6, 'min_child_samples': 23}. Best is trial 20 with value: 0.4141371000291618.\n",
      "[I 2024-10-16 18:36:57,591] Trial 47 finished with value: 0.3948842648321629 and parameters: {'lambda_l1': 0.00020355627407720356, 'lambda_l2': 0.0021494167118371187, 'num_leaves': 161, 'feature_fraction': 0.669688841678085, 'bagging_fraction': 0.6002977567958735, 'bagging_freq': 6, 'min_child_samples': 29}. Best is trial 20 with value: 0.4141371000291618.\n",
      "[I 2024-10-16 18:37:00,878] Trial 48 finished with value: 0.3922756918017204 and parameters: {'lambda_l1': 0.03401681535963242, 'lambda_l2': 2.1797060881092006e-05, 'num_leaves': 171, 'feature_fraction': 0.5356516768692051, 'bagging_fraction': 0.6503075090216777, 'bagging_freq': 7, 'min_child_samples': 44}. Best is trial 20 with value: 0.4141371000291618.\n",
      "[I 2024-10-16 18:37:05,032] Trial 49 finished with value: 0.39794963699980257 and parameters: {'lambda_l1': 0.10885120145352466, 'lambda_l2': 0.05598948040833562, 'num_leaves': 192, 'feature_fraction': 0.6483763504999337, 'bagging_fraction': 0.7087810066376403, 'bagging_freq': 6, 'min_child_samples': 35}. Best is trial 20 with value: 0.4141371000291618.\n",
      "[I 2024-10-16 18:37:08,923] Trial 50 finished with value: 0.3925693490915938 and parameters: {'lambda_l1': 0.0006172101022152724, 'lambda_l2': 0.006055410576774871, 'num_leaves': 138, 'feature_fraction': 0.7185100556309869, 'bagging_fraction': 0.7596006907545356, 'bagging_freq': 4, 'min_child_samples': 18}. Best is trial 20 with value: 0.4141371000291618.\n",
      "[I 2024-10-16 18:37:11,960] Trial 51 finished with value: 0.37082571531120445 and parameters: {'lambda_l1': 0.00013882424243603662, 'lambda_l2': 0.01938763777303619, 'num_leaves': 70, 'feature_fraction': 0.7935670190641595, 'bagging_fraction': 0.8015624184877967, 'bagging_freq': 5, 'min_child_samples': 13}. Best is trial 20 with value: 0.4141371000291618.\n",
      "[I 2024-10-16 18:37:14,617] Trial 52 finished with value: 0.38750663436555666 and parameters: {'lambda_l1': 3.1359198135763936e-05, 'lambda_l2': 0.03209755655201462, 'num_leaves': 183, 'feature_fraction': 0.8374363036974468, 'bagging_fraction': 0.8367052089594174, 'bagging_freq': 1, 'min_child_samples': 94}. Best is trial 20 with value: 0.4141371000291618.\n",
      "[I 2024-10-16 18:37:16,626] Trial 53 finished with value: 0.37678108580676417 and parameters: {'lambda_l1': 7.393721748076643e-06, 'lambda_l2': 0.40074928273656657, 'num_leaves': 44, 'feature_fraction': 0.7499519336913102, 'bagging_fraction': 0.7208212719187344, 'bagging_freq': 6, 'min_child_samples': 63}. Best is trial 20 with value: 0.4141371000291618.\n",
      "[I 2024-10-16 18:37:22,394] Trial 54 finished with value: 0.41114334134396746 and parameters: {'lambda_l1': 0.002644865393722134, 'lambda_l2': 0.002862572415859016, 'num_leaves': 201, 'feature_fraction': 0.778072457368427, 'bagging_fraction': 0.9653632721731724, 'bagging_freq': 5, 'min_child_samples': 5}. Best is trial 20 with value: 0.4141371000291618.\n",
      "[I 2024-10-16 18:37:27,811] Trial 55 finished with value: 0.4134111294873003 and parameters: {'lambda_l1': 0.002050271796838774, 'lambda_l2': 0.0022142685070388546, 'num_leaves': 200, 'feature_fraction': 0.6872233455380693, 'bagging_fraction': 0.9806181909210947, 'bagging_freq': 5, 'min_child_samples': 7}. Best is trial 20 with value: 0.4141371000291618.\n",
      "[I 2024-10-16 18:37:33,743] Trial 56 finished with value: 0.3870713155713098 and parameters: {'lambda_l1': 0.0014592525136581922, 'lambda_l2': 0.0014010436960817916, 'num_leaves': 204, 'feature_fraction': 0.6820498589022193, 'bagging_fraction': 0.9644041170792006, 'bagging_freq': 5, 'min_child_samples': 7}. Best is trial 20 with value: 0.4141371000291618.\n",
      "[I 2024-10-16 18:37:38,087] Trial 57 finished with value: 0.3916960847910601 and parameters: {'lambda_l1': 0.006552834818319436, 'lambda_l2': 1.0252145342379538e-08, 'num_leaves': 164, 'feature_fraction': 0.400442061172156, 'bagging_fraction': 0.9875658903557232, 'bagging_freq': 5, 'min_child_samples': 6}. Best is trial 20 with value: 0.4141371000291618.\n",
      "[I 2024-10-16 18:37:43,444] Trial 58 finished with value: 0.39509130395386993 and parameters: {'lambda_l1': 0.00044323932350125053, 'lambda_l2': 0.0002939386465809409, 'num_leaves': 216, 'feature_fraction': 0.63502807045275, 'bagging_fraction': 0.9524981931832858, 'bagging_freq': 4, 'min_child_samples': 17}. Best is trial 20 with value: 0.4141371000291618.\n",
      "[I 2024-10-16 18:37:48,711] Trial 59 finished with value: 0.3934412370158199 and parameters: {'lambda_l1': 0.0021300537630462605, 'lambda_l2': 0.0026291782042501257, 'num_leaves': 217, 'feature_fraction': 0.7106556819556249, 'bagging_fraction': 0.9025342729802271, 'bagging_freq': 5, 'min_child_samples': 21}. Best is trial 20 with value: 0.4141371000291618.\n",
      "[I 2024-10-16 18:37:54,279] Trial 60 finished with value: 0.4095390498546577 and parameters: {'lambda_l1': 0.003852799094802413, 'lambda_l2': 1.7198397114196702e-07, 'num_leaves': 200, 'feature_fraction': 0.5895303892649761, 'bagging_fraction': 0.9236718836544877, 'bagging_freq': 4, 'min_child_samples': 5}. Best is trial 20 with value: 0.4141371000291618.\n",
      "[I 2024-10-16 18:38:00,531] Trial 61 finished with value: 0.3982493116207315 and parameters: {'lambda_l1': 0.004384175242016216, 'lambda_l2': 6.344028713493286e-07, 'num_leaves': 230, 'feature_fraction': 0.5801327269146945, 'bagging_fraction': 0.925115189100119, 'bagging_freq': 4, 'min_child_samples': 11}. Best is trial 20 with value: 0.4141371000291618.\n",
      "[I 2024-10-16 18:38:06,274] Trial 62 finished with value: 0.38241851727585685 and parameters: {'lambda_l1': 0.03361072339638193, 'lambda_l2': 1.4829368754744692e-07, 'num_leaves': 201, 'feature_fraction': 0.4485577287165097, 'bagging_fraction': 0.9792279572463132, 'bagging_freq': 5, 'min_child_samples': 5}. Best is trial 20 with value: 0.4141371000291618.\n",
      "[I 2024-10-16 18:38:10,891] Trial 63 finished with value: 0.38704820948416885 and parameters: {'lambda_l1': 0.4390094236643495, 'lambda_l2': 4.91624758162946e-08, 'num_leaves': 150, 'feature_fraction': 0.7744561811371596, 'bagging_fraction': 0.99802104579781, 'bagging_freq': 4, 'min_child_samples': 15}. Best is trial 20 with value: 0.4141371000291618.\n",
      "[I 2024-10-16 18:38:16,607] Trial 64 finished with value: 0.406556900485899 and parameters: {'lambda_l1': 0.002049335353214906, 'lambda_l2': 0.012301123646182632, 'num_leaves': 223, 'feature_fraction': 0.5965028558376044, 'bagging_fraction': 0.9199930480233369, 'bagging_freq': 3, 'min_child_samples': 9}. Best is trial 20 with value: 0.4141371000291618.\n",
      "[I 2024-10-16 18:38:21,965] Trial 65 finished with value: 0.4062268281318805 and parameters: {'lambda_l1': 0.0019653702925370694, 'lambda_l2': 6.699552749573353e-06, 'num_leaves': 224, 'feature_fraction': 0.6150880425113041, 'bagging_fraction': 0.8794643563835767, 'bagging_freq': 3, 'min_child_samples': 8}. Best is trial 20 with value: 0.4141371000291618.\n",
      "[I 2024-10-16 18:38:28,314] Trial 66 finished with value: 0.39367328261679757 and parameters: {'lambda_l1': 0.008114964527065649, 'lambda_l2': 5.562146908587743e-07, 'num_leaves': 239, 'feature_fraction': 0.5568190615760037, 'bagging_fraction': 0.9219782217408795, 'bagging_freq': 3, 'min_child_samples': 9}. Best is trial 20 with value: 0.4141371000291618.\n",
      "[I 2024-10-16 18:38:34,729] Trial 67 finished with value: 0.4075713481317983 and parameters: {'lambda_l1': 0.0012798861303712303, 'lambda_l2': 6.064845528242589e-06, 'num_leaves': 251, 'feature_fraction': 0.5757716003399745, 'bagging_fraction': 0.874400733747039, 'bagging_freq': 3, 'min_child_samples': 8}. Best is trial 20 with value: 0.4141371000291618.\n",
      "[I 2024-10-16 18:38:40,411] Trial 68 finished with value: 0.39068295324121893 and parameters: {'lambda_l1': 0.0037278633200213155, 'lambda_l2': 3.237487217185576e-05, 'num_leaves': 250, 'feature_fraction': 0.5870116748803667, 'bagging_fraction': 0.908070718674828, 'bagging_freq': 4, 'min_child_samples': 13}. Best is trial 20 with value: 0.4141371000291618.\n",
      "[I 2024-10-16 18:38:47,575] Trial 69 finished with value: 0.38522023381862003 and parameters: {'lambda_l1': 0.0010568142459289659, 'lambda_l2': 5.467719617395012e-06, 'num_leaves': 240, 'feature_fraction': 0.5282898768558006, 'bagging_fraction': 0.9560061330427078, 'bagging_freq': 4, 'min_child_samples': 5}. Best is trial 20 with value: 0.4141371000291618.\n",
      "[I 2024-10-16 18:38:52,017] Trial 70 finished with value: 0.3895098485845453 and parameters: {'lambda_l1': 0.0003807748651629228, 'lambda_l2': 9.73297084441817, 'num_leaves': 179, 'feature_fraction': 0.6015640809106554, 'bagging_fraction': 0.8832705715803476, 'bagging_freq': 3, 'min_child_samples': 12}. Best is trial 20 with value: 0.4141371000291618.\n",
      "[I 2024-10-16 18:38:57,947] Trial 71 finished with value: 0.3920006530118719 and parameters: {'lambda_l1': 0.0022937608084609568, 'lambda_l2': 7.721810567228668e-06, 'num_leaves': 221, 'feature_fraction': 0.6290104129320166, 'bagging_fraction': 0.8818581435029723, 'bagging_freq': 3, 'min_child_samples': 9}. Best is trial 20 with value: 0.4141371000291618.\n",
      "[I 2024-10-16 18:39:03,975] Trial 72 finished with value: 0.40080258612879516 and parameters: {'lambda_l1': 0.016108930220887, 'lambda_l2': 5.5646388331677765e-08, 'num_leaves': 224, 'feature_fraction': 0.6054242835332906, 'bagging_fraction': 0.9172982948049874, 'bagging_freq': 3, 'min_child_samples': 8}. Best is trial 20 with value: 0.4141371000291618.\n",
      "[I 2024-10-16 18:39:11,275] Trial 73 finished with value: 0.386761149332555 and parameters: {'lambda_l1': 0.0014027399374084806, 'lambda_l2': 5.164487718083025e-07, 'num_leaves': 254, 'feature_fraction': 0.570111401448908, 'bagging_fraction': 0.968558101057068, 'bagging_freq': 3, 'min_child_samples': 15}. Best is trial 20 with value: 0.4141371000291618.\n",
      "[I 2024-10-16 18:39:17,822] Trial 74 finished with value: 0.3980785451079243 and parameters: {'lambda_l1': 0.00010636669489269717, 'lambda_l2': 1.6640078716344852e-06, 'num_leaves': 210, 'feature_fraction': 0.5450979181135053, 'bagging_fraction': 0.8657527624179274, 'bagging_freq': 4, 'min_child_samples': 5}. Best is trial 20 with value: 0.4141371000291618.\n",
      "[I 2024-10-16 18:39:22,791] Trial 75 finished with value: 0.39001036818351353 and parameters: {'lambda_l1': 0.0005254797846875741, 'lambda_l2': 8.15410008007077e-05, 'num_leaves': 197, 'feature_fraction': 0.6428918468237534, 'bagging_fraction': 0.9405768013397368, 'bagging_freq': 5, 'min_child_samples': 18}. Best is trial 20 with value: 0.4141371000291618.\n",
      "[I 2024-10-16 18:39:28,756] Trial 76 finished with value: 0.39133070095377054 and parameters: {'lambda_l1': 0.004441709787661992, 'lambda_l2': 0.00041364871158524236, 'num_leaves': 245, 'feature_fraction': 0.6861479103252726, 'bagging_fraction': 0.9027051954234546, 'bagging_freq': 2, 'min_child_samples': 8}. Best is trial 20 with value: 0.4141371000291618.\n",
      "[I 2024-10-16 18:39:34,529] Trial 77 finished with value: 0.3855712529618214 and parameters: {'lambda_l1': 0.0023494518459470245, 'lambda_l2': 0.0009917674854895493, 'num_leaves': 237, 'feature_fraction': 0.5894190565997605, 'bagging_fraction': 0.8454968690566346, 'bagging_freq': 3, 'min_child_samples': 12}. Best is trial 20 with value: 0.4141371000291618.\n",
      "[I 2024-10-16 18:39:39,678] Trial 78 finished with value: 0.3991192946044143 and parameters: {'lambda_l1': 0.008492476406916808, 'lambda_l2': 0.0001504737283379194, 'num_leaves': 233, 'feature_fraction': 0.6179227204082695, 'bagging_fraction': 0.8930349273782682, 'bagging_freq': 3, 'min_child_samples': 16}. Best is trial 20 with value: 0.4141371000291618.\n",
      "[I 2024-10-16 18:39:44,744] Trial 79 finished with value: 0.3975094740575944 and parameters: {'lambda_l1': 0.02652678040314548, 'lambda_l2': 8.704483483653375e-06, 'num_leaves': 222, 'feature_fraction': 0.6592462252022833, 'bagging_fraction': 0.9516091673880294, 'bagging_freq': 2, 'min_child_samples': 24}. Best is trial 20 with value: 0.4141371000291618.\n",
      "[I 2024-10-16 18:39:49,667] Trial 80 finished with value: 0.3942524670524895 and parameters: {'lambda_l1': 0.0002987290577662792, 'lambda_l2': 0.01133795151428404, 'num_leaves': 213, 'feature_fraction': 0.4834793863573482, 'bagging_fraction': 0.8175176852434409, 'bagging_freq': 4, 'min_child_samples': 11}. Best is trial 20 with value: 0.4141371000291618.\n",
      "[I 2024-10-16 18:39:54,647] Trial 81 finished with value: 0.39150485950009983 and parameters: {'lambda_l1': 0.00116675399465683, 'lambda_l2': 3.950580906725041e-06, 'num_leaves': 201, 'feature_fraction': 0.5670978051401163, 'bagging_fraction': 0.9344070561622689, 'bagging_freq': 2, 'min_child_samples': 7}. Best is trial 20 with value: 0.4141371000291618.\n",
      "[I 2024-10-16 18:39:59,544] Trial 82 finished with value: 0.3944895746235618 and parameters: {'lambda_l1': 0.005207997972017402, 'lambda_l2': 0.06869861053209525, 'num_leaves': 170, 'feature_fraction': 0.8622070074656092, 'bagging_fraction': 0.7357345727835944, 'bagging_freq': 1, 'min_child_samples': 20}. Best is trial 20 with value: 0.4141371000291618.\n",
      "[I 2024-10-16 18:40:04,352] Trial 83 finished with value: 0.39617915894239364 and parameters: {'lambda_l1': 0.0026307429357268182, 'lambda_l2': 0.017863371367062404, 'num_leaves': 182, 'feature_fraction': 0.6126774480616693, 'bagging_fraction': 0.8688518670171068, 'bagging_freq': 3, 'min_child_samples': 10}. Best is trial 20 with value: 0.4141371000291618.\n",
      "[I 2024-10-16 18:40:09,451] Trial 84 finished with value: 0.3852612058136543 and parameters: {'lambda_l1': 0.012397230157210342, 'lambda_l2': 9.79783736485919e-07, 'num_leaves': 156, 'feature_fraction': 0.8174944586114111, 'bagging_fraction': 0.7881311479123926, 'bagging_freq': 2, 'min_child_samples': 14}. Best is trial 20 with value: 0.4141371000291618.\n",
      "[I 2024-10-16 18:40:13,328] Trial 85 finished with value: 0.3782971726928137 and parameters: {'lambda_l1': 0.0005381092766641818, 'lambda_l2': 0.0032518002008470664, 'num_leaves': 120, 'feature_fraction': 0.7038475850777477, 'bagging_fraction': 0.8096789011794001, 'bagging_freq': 3, 'min_child_samples': 7}. Best is trial 20 with value: 0.4141371000291618.\n",
      "[I 2024-10-16 18:40:17,776] Trial 86 finished with value: 0.4063785167074362 and parameters: {'lambda_l1': 0.0007250262413265457, 'lambda_l2': 3.363168139899639e-07, 'num_leaves': 144, 'feature_fraction': 0.6724683443262508, 'bagging_fraction': 0.9793482442365955, 'bagging_freq': 2, 'min_child_samples': 5}. Best is trial 20 with value: 0.4141371000291618.\n",
      "[I 2024-10-16 18:40:24,073] Trial 87 finished with value: 0.4003645972562334 and parameters: {'lambda_l1': 0.000780992304230293, 'lambda_l2': 4.5838008762237113e-08, 'num_leaves': 206, 'feature_fraction': 0.63612260179121, 'bagging_fraction': 0.9795289887381802, 'bagging_freq': 1, 'min_child_samples': 5}. Best is trial 20 with value: 0.4141371000291618.\n",
      "[I 2024-10-16 18:40:28,348] Trial 88 finished with value: 0.4033639643873612 and parameters: {'lambda_l1': 0.139741867171551, 'lambda_l2': 1.9932525684270693e-06, 'num_leaves': 136, 'feature_fraction': 0.6911903146211322, 'bagging_fraction': 0.9996011457830929, 'bagging_freq': 3, 'min_child_samples': 9}. Best is trial 20 with value: 0.4141371000291618.\n",
      "[I 2024-10-16 18:40:32,846] Trial 89 finished with value: 0.3970917863407274 and parameters: {'lambda_l1': 2.0533668748872334e-08, 'lambda_l2': 2.844665535193921e-07, 'num_leaves': 145, 'feature_fraction': 0.6659463888337573, 'bagging_fraction': 0.9636323710319802, 'bagging_freq': 5, 'min_child_samples': 13}. Best is trial 20 with value: 0.4141371000291618.\n",
      "[I 2024-10-16 18:40:36,682] Trial 90 finished with value: 0.3872142582393101 and parameters: {'lambda_l1': 0.0015834227412498674, 'lambda_l2': 1.0126923330195448e-07, 'num_leaves': 193, 'feature_fraction': 0.5220102018485139, 'bagging_fraction': 0.9854315809109421, 'bagging_freq': 2, 'min_child_samples': 74}. Best is trial 20 with value: 0.4141371000291618.\n",
      "[I 2024-10-16 18:40:41,933] Trial 91 finished with value: 0.39170595464013247 and parameters: {'lambda_l1': 0.00293920654084304, 'lambda_l2': 0.0016125616427276341, 'num_leaves': 167, 'feature_fraction': 0.7753222346728457, 'bagging_fraction': 0.7447055854377829, 'bagging_freq': 2, 'min_child_samples': 7}. Best is trial 20 with value: 0.4141371000291618.\n",
      "[I 2024-10-16 18:40:46,166] Trial 92 finished with value: 0.4024545797088859 and parameters: {'lambda_l1': 0.0008271368812870235, 'lambda_l2': 2.6179280739142528e-08, 'num_leaves': 147, 'feature_fraction': 0.6750285379075164, 'bagging_fraction': 0.9122186241097964, 'bagging_freq': 2, 'min_child_samples': 10}. Best is trial 20 with value: 0.4141371000291618.\n",
      "[I 2024-10-16 18:40:49,763] Trial 93 finished with value: 0.39440174883712187 and parameters: {'lambda_l1': 0.00021197401851977607, 'lambda_l2': 2.3462091824598915e-07, 'num_leaves': 130, 'feature_fraction': 0.6516098235536147, 'bagging_fraction': 0.7730335733696131, 'bagging_freq': 1, 'min_child_samples': 19}. Best is trial 20 with value: 0.4141371000291618.\n",
      "[I 2024-10-16 18:40:54,796] Trial 94 finished with value: 0.39335511647158083 and parameters: {'lambda_l1': 0.05926917552975587, 'lambda_l2': 0.2354568326377534, 'num_leaves': 159, 'feature_fraction': 0.5932070219992663, 'bagging_fraction': 0.9456916802567877, 'bagging_freq': 2, 'min_child_samples': 11}. Best is trial 20 with value: 0.4141371000291618.\n",
      "[I 2024-10-16 18:40:59,710] Trial 95 finished with value: 0.3912004914833912 and parameters: {'lambda_l1': 0.0014379183005520837, 'lambda_l2': 0.0006486170133650408, 'num_leaves': 186, 'feature_fraction': 0.6269667303670377, 'bagging_fraction': 0.8450697453520358, 'bagging_freq': 2, 'min_child_samples': 16}. Best is trial 20 with value: 0.4141371000291618.\n",
      "[I 2024-10-16 18:41:04,922] Trial 96 finished with value: 0.3909781667401091 and parameters: {'lambda_l1': 0.006632380298738489, 'lambda_l2': 0.025962723701877504, 'num_leaves': 176, 'feature_fraction': 0.5744558905715204, 'bagging_fraction': 0.928421931942988, 'bagging_freq': 4, 'min_child_samples': 5}. Best is trial 20 with value: 0.4141371000291618.\n",
      "[I 2024-10-16 18:41:08,112] Trial 97 finished with value: 0.38410350990381037 and parameters: {'lambda_l1': 4.338459611889517, 'lambda_l2': 0.103916758296139, 'num_leaves': 200, 'feature_fraction': 0.557671746790784, 'bagging_fraction': 0.9683081102861609, 'bagging_freq': 5, 'min_child_samples': 43}. Best is trial 20 with value: 0.4141371000291618.\n",
      "[I 2024-10-16 18:41:12,554] Trial 98 finished with value: 0.379030857573714 and parameters: {'lambda_l1': 0.0003000914673773192, 'lambda_l2': 1.3413150274630254e-05, 'num_leaves': 226, 'feature_fraction': 0.7524723279806749, 'bagging_fraction': 0.8804617555304796, 'bagging_freq': 3, 'min_child_samples': 47}. Best is trial 20 with value: 0.4141371000291618.\n",
      "[I 2024-10-16 18:41:17,653] Trial 99 finished with value: 0.39410241551705083 and parameters: {'lambda_l1': 0.011253576679519291, 'lambda_l2': 0.005899767300270316, 'num_leaves': 212, 'feature_fraction': 0.8086337564514653, 'bagging_fraction': 0.759484302003005, 'bagging_freq': 1, 'min_child_samples': 22}. Best is trial 20 with value: 0.4141371000291618.\n"
     ]
    }
   ],
   "source": [
    "#Defino el estudio a optimizar\n",
    "study = optuna.create_study(direction='maximize', #buscamos maximizar la metrica\n",
    "                            storage=\"sqlite:///../work/db.sqlite3\",  # Specify the storage URL here.\n",
    "                            study_name=\"04 - LGB Multiclass - FE v3\", #nombre del experimento\n",
    "                            load_if_exists=True) #continuar si ya existe\n",
    "\n",
    "#Corremos 100 trials para buscar mejores parametros\n",
    "study.optimize(lgb_objective, n_trials=100)"
   ]
  },
  {
   "cell_type": "code",
   "execution_count": 152,
   "metadata": {},
   "outputs": [
    {
     "data": {
      "text/plain": [
       "{'lambda_l1': 0.0020597396810837438,\n",
       " 'lambda_l2': 0.01730591154771041,\n",
       " 'num_leaves': 167,\n",
       " 'feature_fraction': 0.7873678876045663,\n",
       " 'bagging_fraction': 0.7820604928105453,\n",
       " 'bagging_freq': 2,\n",
       " 'min_child_samples': 30}"
      ]
     },
     "execution_count": 152,
     "metadata": {},
     "output_type": "execute_result"
    }
   ],
   "source": [
    "#Obtenemos mejor resultado\n",
    "study.best_params"
   ]
  },
  {
   "cell_type": "code",
   "execution_count": 153,
   "metadata": {},
   "outputs": [
    {
     "data": {
      "application/vnd.plotly.v1+json": {
       "config": {
        "plotlyServerURL": "https://plot.ly"
       },
       "data": [
        {
         "type": "heatmap",
         "x": [
          0,
          1,
          2,
          3,
          4
         ],
         "y": [
          0,
          1,
          2,
          3,
          4
         ],
         "z": [
          [
           14.634146341463413,
           37.80487804878049,
           17.073170731707318,
           7.317073170731707,
           23.170731707317074
          ],
          [
           0.48543689320388345,
           39.967637540453076,
           28.964401294498384,
           13.268608414239482,
           17.313915857605178
          ],
          [
           0.24783147459727387,
           20.44609665427509,
           39.15737298636927,
           18.95910780669145,
           21.189591078066915
          ],
          [
           0,
           12.883435582822086,
           30.214723926380366,
           35.58282208588957,
           21.319018404907975
          ],
          [
           0,
           10.119047619047619,
           12.261904761904761,
           7.738095238095238,
           69.88095238095238
          ]
         ]
        }
       ],
       "layout": {
        "annotations": [
         {
          "font": {
           "color": "white"
          },
          "showarrow": false,
          "text": "14.6 - 12",
          "x": 0,
          "xref": "x",
          "y": 0,
          "yref": "y"
         },
         {
          "font": {
           "color": "white"
          },
          "showarrow": false,
          "text": "37.8 - 31",
          "x": 1,
          "xref": "x",
          "y": 0,
          "yref": "y"
         },
         {
          "font": {
           "color": "white"
          },
          "showarrow": false,
          "text": "17.1 - 14",
          "x": 2,
          "xref": "x",
          "y": 0,
          "yref": "y"
         },
         {
          "font": {
           "color": "white"
          },
          "showarrow": false,
          "text": "7.3 - 6",
          "x": 3,
          "xref": "x",
          "y": 0,
          "yref": "y"
         },
         {
          "font": {
           "color": "white"
          },
          "showarrow": false,
          "text": "23.2 - 19",
          "x": 4,
          "xref": "x",
          "y": 0,
          "yref": "y"
         },
         {
          "font": {
           "color": "white"
          },
          "showarrow": false,
          "text": "0.5 - 3",
          "x": 0,
          "xref": "x",
          "y": 1,
          "yref": "y"
         },
         {
          "font": {
           "color": "white"
          },
          "showarrow": false,
          "text": "40.0 - 247",
          "x": 1,
          "xref": "x",
          "y": 1,
          "yref": "y"
         },
         {
          "font": {
           "color": "white"
          },
          "showarrow": false,
          "text": "29.0 - 179",
          "x": 2,
          "xref": "x",
          "y": 1,
          "yref": "y"
         },
         {
          "font": {
           "color": "white"
          },
          "showarrow": false,
          "text": "13.3 - 82",
          "x": 3,
          "xref": "x",
          "y": 1,
          "yref": "y"
         },
         {
          "font": {
           "color": "white"
          },
          "showarrow": false,
          "text": "17.3 - 107",
          "x": 4,
          "xref": "x",
          "y": 1,
          "yref": "y"
         },
         {
          "font": {
           "color": "white"
          },
          "showarrow": false,
          "text": "0.2 - 2",
          "x": 0,
          "xref": "x",
          "y": 2,
          "yref": "y"
         },
         {
          "font": {
           "color": "white"
          },
          "showarrow": false,
          "text": "20.4 - 165",
          "x": 1,
          "xref": "x",
          "y": 2,
          "yref": "y"
         },
         {
          "font": {
           "color": "white"
          },
          "showarrow": false,
          "text": "39.2 - 316",
          "x": 2,
          "xref": "x",
          "y": 2,
          "yref": "y"
         },
         {
          "font": {
           "color": "white"
          },
          "showarrow": false,
          "text": "19.0 - 153",
          "x": 3,
          "xref": "x",
          "y": 2,
          "yref": "y"
         },
         {
          "font": {
           "color": "white"
          },
          "showarrow": false,
          "text": "21.2 - 171",
          "x": 4,
          "xref": "x",
          "y": 2,
          "yref": "y"
         },
         {
          "font": {
           "color": "white"
          },
          "showarrow": false,
          "text": "0.0 - 0",
          "x": 0,
          "xref": "x",
          "y": 3,
          "yref": "y"
         },
         {
          "font": {
           "color": "white"
          },
          "showarrow": false,
          "text": "12.9 - 84",
          "x": 1,
          "xref": "x",
          "y": 3,
          "yref": "y"
         },
         {
          "font": {
           "color": "white"
          },
          "showarrow": false,
          "text": "30.2 - 197",
          "x": 2,
          "xref": "x",
          "y": 3,
          "yref": "y"
         },
         {
          "font": {
           "color": "white"
          },
          "showarrow": false,
          "text": "35.6 - 232",
          "x": 3,
          "xref": "x",
          "y": 3,
          "yref": "y"
         },
         {
          "font": {
           "color": "white"
          },
          "showarrow": false,
          "text": "21.3 - 139",
          "x": 4,
          "xref": "x",
          "y": 3,
          "yref": "y"
         },
         {
          "font": {
           "color": "white"
          },
          "showarrow": false,
          "text": "0.0 - 0",
          "x": 0,
          "xref": "x",
          "y": 4,
          "yref": "y"
         },
         {
          "font": {
           "color": "white"
          },
          "showarrow": false,
          "text": "10.1 - 85",
          "x": 1,
          "xref": "x",
          "y": 4,
          "yref": "y"
         },
         {
          "font": {
           "color": "white"
          },
          "showarrow": false,
          "text": "12.3 - 103",
          "x": 2,
          "xref": "x",
          "y": 4,
          "yref": "y"
         },
         {
          "font": {
           "color": "white"
          },
          "showarrow": false,
          "text": "7.7 - 65",
          "x": 3,
          "xref": "x",
          "y": 4,
          "yref": "y"
         },
         {
          "font": {
           "color": "white"
          },
          "showarrow": false,
          "text": "69.9 - 587",
          "x": 4,
          "xref": "x",
          "y": 4,
          "yref": "y"
         }
        ],
        "height": 800,
        "template": {
         "data": {
          "bar": [
           {
            "error_x": {
             "color": "#2a3f5f"
            },
            "error_y": {
             "color": "#2a3f5f"
            },
            "marker": {
             "line": {
              "color": "#E5ECF6",
              "width": 0.5
             },
             "pattern": {
              "fillmode": "overlay",
              "size": 10,
              "solidity": 0.2
             }
            },
            "type": "bar"
           }
          ],
          "barpolar": [
           {
            "marker": {
             "line": {
              "color": "#E5ECF6",
              "width": 0.5
             },
             "pattern": {
              "fillmode": "overlay",
              "size": 10,
              "solidity": 0.2
             }
            },
            "type": "barpolar"
           }
          ],
          "carpet": [
           {
            "aaxis": {
             "endlinecolor": "#2a3f5f",
             "gridcolor": "white",
             "linecolor": "white",
             "minorgridcolor": "white",
             "startlinecolor": "#2a3f5f"
            },
            "baxis": {
             "endlinecolor": "#2a3f5f",
             "gridcolor": "white",
             "linecolor": "white",
             "minorgridcolor": "white",
             "startlinecolor": "#2a3f5f"
            },
            "type": "carpet"
           }
          ],
          "choropleth": [
           {
            "colorbar": {
             "outlinewidth": 0,
             "ticks": ""
            },
            "type": "choropleth"
           }
          ],
          "contour": [
           {
            "colorbar": {
             "outlinewidth": 0,
             "ticks": ""
            },
            "colorscale": [
             [
              0,
              "#0d0887"
             ],
             [
              0.1111111111111111,
              "#46039f"
             ],
             [
              0.2222222222222222,
              "#7201a8"
             ],
             [
              0.3333333333333333,
              "#9c179e"
             ],
             [
              0.4444444444444444,
              "#bd3786"
             ],
             [
              0.5555555555555556,
              "#d8576b"
             ],
             [
              0.6666666666666666,
              "#ed7953"
             ],
             [
              0.7777777777777778,
              "#fb9f3a"
             ],
             [
              0.8888888888888888,
              "#fdca26"
             ],
             [
              1,
              "#f0f921"
             ]
            ],
            "type": "contour"
           }
          ],
          "contourcarpet": [
           {
            "colorbar": {
             "outlinewidth": 0,
             "ticks": ""
            },
            "type": "contourcarpet"
           }
          ],
          "heatmap": [
           {
            "colorbar": {
             "outlinewidth": 0,
             "ticks": ""
            },
            "colorscale": [
             [
              0,
              "#0d0887"
             ],
             [
              0.1111111111111111,
              "#46039f"
             ],
             [
              0.2222222222222222,
              "#7201a8"
             ],
             [
              0.3333333333333333,
              "#9c179e"
             ],
             [
              0.4444444444444444,
              "#bd3786"
             ],
             [
              0.5555555555555556,
              "#d8576b"
             ],
             [
              0.6666666666666666,
              "#ed7953"
             ],
             [
              0.7777777777777778,
              "#fb9f3a"
             ],
             [
              0.8888888888888888,
              "#fdca26"
             ],
             [
              1,
              "#f0f921"
             ]
            ],
            "type": "heatmap"
           }
          ],
          "heatmapgl": [
           {
            "colorbar": {
             "outlinewidth": 0,
             "ticks": ""
            },
            "colorscale": [
             [
              0,
              "#0d0887"
             ],
             [
              0.1111111111111111,
              "#46039f"
             ],
             [
              0.2222222222222222,
              "#7201a8"
             ],
             [
              0.3333333333333333,
              "#9c179e"
             ],
             [
              0.4444444444444444,
              "#bd3786"
             ],
             [
              0.5555555555555556,
              "#d8576b"
             ],
             [
              0.6666666666666666,
              "#ed7953"
             ],
             [
              0.7777777777777778,
              "#fb9f3a"
             ],
             [
              0.8888888888888888,
              "#fdca26"
             ],
             [
              1,
              "#f0f921"
             ]
            ],
            "type": "heatmapgl"
           }
          ],
          "histogram": [
           {
            "marker": {
             "pattern": {
              "fillmode": "overlay",
              "size": 10,
              "solidity": 0.2
             }
            },
            "type": "histogram"
           }
          ],
          "histogram2d": [
           {
            "colorbar": {
             "outlinewidth": 0,
             "ticks": ""
            },
            "colorscale": [
             [
              0,
              "#0d0887"
             ],
             [
              0.1111111111111111,
              "#46039f"
             ],
             [
              0.2222222222222222,
              "#7201a8"
             ],
             [
              0.3333333333333333,
              "#9c179e"
             ],
             [
              0.4444444444444444,
              "#bd3786"
             ],
             [
              0.5555555555555556,
              "#d8576b"
             ],
             [
              0.6666666666666666,
              "#ed7953"
             ],
             [
              0.7777777777777778,
              "#fb9f3a"
             ],
             [
              0.8888888888888888,
              "#fdca26"
             ],
             [
              1,
              "#f0f921"
             ]
            ],
            "type": "histogram2d"
           }
          ],
          "histogram2dcontour": [
           {
            "colorbar": {
             "outlinewidth": 0,
             "ticks": ""
            },
            "colorscale": [
             [
              0,
              "#0d0887"
             ],
             [
              0.1111111111111111,
              "#46039f"
             ],
             [
              0.2222222222222222,
              "#7201a8"
             ],
             [
              0.3333333333333333,
              "#9c179e"
             ],
             [
              0.4444444444444444,
              "#bd3786"
             ],
             [
              0.5555555555555556,
              "#d8576b"
             ],
             [
              0.6666666666666666,
              "#ed7953"
             ],
             [
              0.7777777777777778,
              "#fb9f3a"
             ],
             [
              0.8888888888888888,
              "#fdca26"
             ],
             [
              1,
              "#f0f921"
             ]
            ],
            "type": "histogram2dcontour"
           }
          ],
          "mesh3d": [
           {
            "colorbar": {
             "outlinewidth": 0,
             "ticks": ""
            },
            "type": "mesh3d"
           }
          ],
          "parcoords": [
           {
            "line": {
             "colorbar": {
              "outlinewidth": 0,
              "ticks": ""
             }
            },
            "type": "parcoords"
           }
          ],
          "pie": [
           {
            "automargin": true,
            "type": "pie"
           }
          ],
          "scatter": [
           {
            "fillpattern": {
             "fillmode": "overlay",
             "size": 10,
             "solidity": 0.2
            },
            "type": "scatter"
           }
          ],
          "scatter3d": [
           {
            "line": {
             "colorbar": {
              "outlinewidth": 0,
              "ticks": ""
             }
            },
            "marker": {
             "colorbar": {
              "outlinewidth": 0,
              "ticks": ""
             }
            },
            "type": "scatter3d"
           }
          ],
          "scattercarpet": [
           {
            "marker": {
             "colorbar": {
              "outlinewidth": 0,
              "ticks": ""
             }
            },
            "type": "scattercarpet"
           }
          ],
          "scattergeo": [
           {
            "marker": {
             "colorbar": {
              "outlinewidth": 0,
              "ticks": ""
             }
            },
            "type": "scattergeo"
           }
          ],
          "scattergl": [
           {
            "marker": {
             "colorbar": {
              "outlinewidth": 0,
              "ticks": ""
             }
            },
            "type": "scattergl"
           }
          ],
          "scattermapbox": [
           {
            "marker": {
             "colorbar": {
              "outlinewidth": 0,
              "ticks": ""
             }
            },
            "type": "scattermapbox"
           }
          ],
          "scatterpolar": [
           {
            "marker": {
             "colorbar": {
              "outlinewidth": 0,
              "ticks": ""
             }
            },
            "type": "scatterpolar"
           }
          ],
          "scatterpolargl": [
           {
            "marker": {
             "colorbar": {
              "outlinewidth": 0,
              "ticks": ""
             }
            },
            "type": "scatterpolargl"
           }
          ],
          "scatterternary": [
           {
            "marker": {
             "colorbar": {
              "outlinewidth": 0,
              "ticks": ""
             }
            },
            "type": "scatterternary"
           }
          ],
          "surface": [
           {
            "colorbar": {
             "outlinewidth": 0,
             "ticks": ""
            },
            "colorscale": [
             [
              0,
              "#0d0887"
             ],
             [
              0.1111111111111111,
              "#46039f"
             ],
             [
              0.2222222222222222,
              "#7201a8"
             ],
             [
              0.3333333333333333,
              "#9c179e"
             ],
             [
              0.4444444444444444,
              "#bd3786"
             ],
             [
              0.5555555555555556,
              "#d8576b"
             ],
             [
              0.6666666666666666,
              "#ed7953"
             ],
             [
              0.7777777777777778,
              "#fb9f3a"
             ],
             [
              0.8888888888888888,
              "#fdca26"
             ],
             [
              1,
              "#f0f921"
             ]
            ],
            "type": "surface"
           }
          ],
          "table": [
           {
            "cells": {
             "fill": {
              "color": "#EBF0F8"
             },
             "line": {
              "color": "white"
             }
            },
            "header": {
             "fill": {
              "color": "#C8D4E3"
             },
             "line": {
              "color": "white"
             }
            },
            "type": "table"
           }
          ]
         },
         "layout": {
          "annotationdefaults": {
           "arrowcolor": "#2a3f5f",
           "arrowhead": 0,
           "arrowwidth": 1
          },
          "autotypenumbers": "strict",
          "coloraxis": {
           "colorbar": {
            "outlinewidth": 0,
            "ticks": ""
           }
          },
          "colorscale": {
           "diverging": [
            [
             0,
             "#8e0152"
            ],
            [
             0.1,
             "#c51b7d"
            ],
            [
             0.2,
             "#de77ae"
            ],
            [
             0.3,
             "#f1b6da"
            ],
            [
             0.4,
             "#fde0ef"
            ],
            [
             0.5,
             "#f7f7f7"
            ],
            [
             0.6,
             "#e6f5d0"
            ],
            [
             0.7,
             "#b8e186"
            ],
            [
             0.8,
             "#7fbc41"
            ],
            [
             0.9,
             "#4d9221"
            ],
            [
             1,
             "#276419"
            ]
           ],
           "sequential": [
            [
             0,
             "#0d0887"
            ],
            [
             0.1111111111111111,
             "#46039f"
            ],
            [
             0.2222222222222222,
             "#7201a8"
            ],
            [
             0.3333333333333333,
             "#9c179e"
            ],
            [
             0.4444444444444444,
             "#bd3786"
            ],
            [
             0.5555555555555556,
             "#d8576b"
            ],
            [
             0.6666666666666666,
             "#ed7953"
            ],
            [
             0.7777777777777778,
             "#fb9f3a"
            ],
            [
             0.8888888888888888,
             "#fdca26"
            ],
            [
             1,
             "#f0f921"
            ]
           ],
           "sequentialminus": [
            [
             0,
             "#0d0887"
            ],
            [
             0.1111111111111111,
             "#46039f"
            ],
            [
             0.2222222222222222,
             "#7201a8"
            ],
            [
             0.3333333333333333,
             "#9c179e"
            ],
            [
             0.4444444444444444,
             "#bd3786"
            ],
            [
             0.5555555555555556,
             "#d8576b"
            ],
            [
             0.6666666666666666,
             "#ed7953"
            ],
            [
             0.7777777777777778,
             "#fb9f3a"
            ],
            [
             0.8888888888888888,
             "#fdca26"
            ],
            [
             1,
             "#f0f921"
            ]
           ]
          },
          "colorway": [
           "#636efa",
           "#EF553B",
           "#00cc96",
           "#ab63fa",
           "#FFA15A",
           "#19d3f3",
           "#FF6692",
           "#B6E880",
           "#FF97FF",
           "#FECB52"
          ],
          "font": {
           "color": "#2a3f5f"
          },
          "geo": {
           "bgcolor": "white",
           "lakecolor": "white",
           "landcolor": "#E5ECF6",
           "showlakes": true,
           "showland": true,
           "subunitcolor": "white"
          },
          "hoverlabel": {
           "align": "left"
          },
          "hovermode": "closest",
          "mapbox": {
           "style": "light"
          },
          "paper_bgcolor": "white",
          "plot_bgcolor": "#E5ECF6",
          "polar": {
           "angularaxis": {
            "gridcolor": "white",
            "linecolor": "white",
            "ticks": ""
           },
           "bgcolor": "#E5ECF6",
           "radialaxis": {
            "gridcolor": "white",
            "linecolor": "white",
            "ticks": ""
           }
          },
          "scene": {
           "xaxis": {
            "backgroundcolor": "#E5ECF6",
            "gridcolor": "white",
            "gridwidth": 2,
            "linecolor": "white",
            "showbackground": true,
            "ticks": "",
            "zerolinecolor": "white"
           },
           "yaxis": {
            "backgroundcolor": "#E5ECF6",
            "gridcolor": "white",
            "gridwidth": 2,
            "linecolor": "white",
            "showbackground": true,
            "ticks": "",
            "zerolinecolor": "white"
           },
           "zaxis": {
            "backgroundcolor": "#E5ECF6",
            "gridcolor": "white",
            "gridwidth": 2,
            "linecolor": "white",
            "showbackground": true,
            "ticks": "",
            "zerolinecolor": "white"
           }
          },
          "shapedefaults": {
           "line": {
            "color": "#2a3f5f"
           }
          },
          "ternary": {
           "aaxis": {
            "gridcolor": "white",
            "linecolor": "white",
            "ticks": ""
           },
           "baxis": {
            "gridcolor": "white",
            "linecolor": "white",
            "ticks": ""
           },
           "bgcolor": "#E5ECF6",
           "caxis": {
            "gridcolor": "white",
            "linecolor": "white",
            "ticks": ""
           }
          },
          "title": {
           "x": 0.05
          },
          "xaxis": {
           "automargin": true,
           "gridcolor": "white",
           "linecolor": "white",
           "ticks": "",
           "title": {
            "standoff": 15
           },
           "zerolinecolor": "white",
           "zerolinewidth": 2
          },
          "yaxis": {
           "automargin": true,
           "gridcolor": "white",
           "linecolor": "white",
           "ticks": "",
           "title": {
            "standoff": 15
           },
           "zerolinecolor": "white",
           "zerolinewidth": 2
          }
         }
        },
        "title": {
         "text": "Conf Matrix"
        },
        "width": 800,
        "xaxis": {
         "title": {
          "text": "Predicted value"
         }
        },
        "yaxis": {
         "title": {
          "text": "Real value"
         }
        }
       }
      }
     },
     "metadata": {},
     "output_type": "display_data"
    },
    {
     "data": {
      "text/plain": [
       "0.4141371000291618"
      ]
     },
     "execution_count": 153,
     "metadata": {},
     "output_type": "execute_result"
    }
   ],
   "source": [
    "#Vamos a replicar el resultado de la optimizacion reentrenando el modelo con el mejor conjunto de hiperparametros\n",
    "#Generamos parametros incluyendo los fijos y la mejor solución que encontro optuna\n",
    "lgb_params = {\n",
    "    'objective': 'multiclass',\n",
    "    'verbosity': -1,\n",
    "    'num_class': len(y_train.unique())\n",
    "}\n",
    "\n",
    "# Update lgb_params with study.best_params\n",
    "lgb_params.update(study.best_params)\n",
    "\n",
    "lgb_train_dataset = lgb.Dataset(data=X_train,\n",
    "                                label=y_train)\n",
    "\n",
    "\n",
    "#Entreno\n",
    "lgb_model = lgb.train(lgb_params,\n",
    "                    lgb_train_dataset)\n",
    "\n",
    "#Muestro matriz de confusion y kappa\n",
    "display(plot_confusion_matrix(y_test,lgb_model.predict(X_test).argmax(axis=1)))\n",
    "\n",
    "cohen_kappa_score(y_test,lgb_model.predict(X_test).argmax(axis=1),\n",
    "                             weights = 'quadratic')\n"
   ]
  },
  {
   "cell_type": "markdown",
   "metadata": {},
   "source": [
    "A partir de optuna (optimizacion bayesiana) podemos guardar los resultados de la optimizacion en un archivo para luego cargarlos y reutilizarlos"
   ]
  },
  {
   "cell_type": "markdown",
   "metadata": {},
   "source": [
    "### Feature importance\n",
    "Listamos las features mas importantes tomadas por el modelo:"
   ]
  },
  {
   "cell_type": "code",
   "execution_count": 156,
   "metadata": {},
   "outputs": [
    {
     "data": {
      "image/png": "[encoded data removed]",
      "text/plain": [
       "<Figure size 1200x3720 with 1 Axes>"
      ]
     },
     "metadata": {},
     "output_type": "display_data"
    }
   ],
   "source": [
    "\n",
    "# Configurar visualizaciones\n",
    "sns.set(style=\"whitegrid\")\n",
    "# Obtener la importancia de las características\n",
    "importance = lgb_model.feature_importance(importance_type='gain')\n",
    "feature_names = X_train.columns\n",
    "\n",
    "# Crear un DataFrame para mostrar las importancias\n",
    "feature_importance_df = pd.DataFrame({'feature': feature_names, 'importance': importance})\n",
    "\n",
    "# Ordenar el DataFrame por importancia\n",
    "feature_importance_df = feature_importance_df.sort_values(by='importance', ascending=False)\n",
    "\n",
    "# Función para envolver el texto\n",
    "def wrap_labels(label, max_width=20):\n",
    "    return '\\n'.join(textwrap.wrap(label, max_width))\n",
    "\n",
    "# Aplicar la función de envoltura a las etiquetas de características\n",
    "feature_importance_df['wrapped_feature'] = feature_importance_df['feature'].apply(wrap_labels)\n",
    "\n",
    "# Crear la figura y los ejes\n",
    "fig, ax = plt.subplots(figsize=(12, len(feature_importance_df) * 0.4))\n",
    "\n",
    "# Crear el gráfico de barras horizontales\n",
    "bars = ax.barh(feature_importance_df['wrapped_feature'], feature_importance_df['importance'])\n",
    "\n",
    "# Configurar el título y las etiquetas\n",
    "ax.set_title('Importancia de las Características')\n",
    "ax.set_xlabel('Importancia')\n",
    "ax.set_ylabel('Características')\n",
    "\n",
    "# Ajustar el espacio entre las etiquetas del eje y\n",
    "plt.subplots_adjust(left=0.3)\n",
    "\n",
    "# Invertir el orden del eje y para que la característica más importante esté arriba\n",
    "ax.invert_yaxis()\n",
    "\n",
    "# Ajustar los márgenes\n",
    "plt.tight_layout()\n",
    "\n",
    "# Mostrar el gráfico\n",
    "plt.show()"
   ]
  },
  {
   "cell_type": "markdown",
   "metadata": {},
   "source": [
    "## Predecir en archivo test.csv\n",
    "Podemos ahora utilizar el archivo de test para validar el modelo y preparar una prediccion para utilizar en la competencia de Kaggle"
   ]
  },
  {
   "cell_type": "code",
   "execution_count": 1,
   "metadata": {},
   "outputs": [],
   "source": [
    "# PATH_TO_TEST = \"....\" #Definir...\n",
    "\n",
    "# df_test = pd.read_csv(PATH_TO_TEST)\n",
    "# #df_test.head()\n",
    "\n",
    "# #FEATURE ENGINEERING\n",
    "# #Nuevas variables \n",
    "# dataset=feature_engineering(df_test)\n",
    "\n",
    "# #predict\n",
    "# df_predict_test=lgb_model.predict(dataset[features]).argmax(axis=1)\n",
    "\n",
    "# # check distribucion\n",
    "# pd.Series(df_predict_test).value_counts(normalize=True)\n",
    "\n",
    "# # Guardar predicciones en un archivo CSV\n",
    "# dataset['AdoptionSpeed'] = df_predict_test\n",
    "\n",
    "# # Guardar el archivo CSV para la competencia de Kaggle\n",
    "# dataset[['PetID', 'AdoptionSpeed']].to_csv('submission.csv', index=False)\n"
   ]
  },
  {
   "cell_type": "markdown",
   "metadata": {},
   "source": [
    "## Modelo con cross validation y conjunto de test"
   ]
  },
  {
   "cell_type": "code",
   "execution_count": 41,
   "metadata": {},
   "outputs": [],
   "source": [
    "#Genero una metrica para que lightGBM haga la evaluación y pueda hacer early_stopping en el cross validation\n",
    "def lgb_custom_metric_kappa(dy_pred, dy_true):\n",
    "    metric_name = 'kappa'\n",
    "    value = cohen_kappa_score(dy_true.get_label(),dy_pred.argmax(axis=1),weights = 'quadratic')\n",
    "    is_higher_better = True\n",
    "    return(metric_name, value, is_higher_better)\n",
    "\n",
    "#Funcion objetivo a optimizar. En este caso vamos a hacer 5fold cv sobre el conjunto de train. \n",
    "# El score de CV es el objetivo a optimizar. Ademas vamos a usar los 5 modelos del CV para estimar el conjunto de test,\n",
    "# registraremos en optuna las predicciones, matriz de confusion y el score en test.\n",
    "# CV Score -> Se usa para determinar el rendimiento de los hiperparametros con precision \n",
    "# Test Score -> Nos permite testear que esta todo OK, no use (ni debo usar) esos datos para nada en el entrenamiento \n",
    "# o la optimizacion de hiperparametros\n",
    "\n",
    "def cv_es_lgb_objective(trial):\n",
    "\n",
    "    #PArametros para LightGBM\n",
    "    lgb_params = {      \n",
    "                        #PArametros fijos\n",
    "                        'objective': 'multiclass',\n",
    "                        'verbosity':-1,\n",
    "                        'num_class': len(y_train.unique()),\n",
    "                        #Hiperparametros a optimizar utilizando suggest_float o suggest_int segun el tipo de dato\n",
    "                        #Se indica el nombre del parametro, valor minimo, valor maximo \n",
    "                        #en elgunos casos el parametro log=True para parametros que requieren buscar en esa escala\n",
    "                        'lambda_l1': trial.suggest_float('lambda_l1', 1e-8, 10.0, log=True),\n",
    "                        'lambda_l2': trial.suggest_float('lambda_l2', 1e-8, 10.0, log=True),\n",
    "                        'num_leaves': trial.suggest_int('num_leaves', 2, 256),\n",
    "                        'feature_fraction': trial.suggest_float('feature_fraction', 0.4, 1.0),\n",
    "                        'bagging_fraction': trial.suggest_float('bagging_fraction', 0.4, 1.0),\n",
    "                        'bagging_freq': trial.suggest_int('bagging_freq', 1, 7),\n",
    "                        'min_child_samples': trial.suggest_int('min_child_samples', 5, 100),\n",
    "                        } \n",
    "\n",
    "    #Voy a generar estimaciones de los 5 modelos del CV sobre los datos test y los acumulo en la matriz scores_ensemble\n",
    "    scores_ensemble = np.zeros((len(y_test),len(y_train.unique())))\n",
    "\n",
    "    #Score del 5 fold CV inicializado en 0\n",
    "    score_folds = 0\n",
    "\n",
    "    #Numero de splits del CV\n",
    "    n_splits = 5\n",
    "\n",
    "    #Objeto para hacer el split estratificado de CV\n",
    "    skf = StratifiedKFold(n_splits=n_splits)\n",
    "\n",
    "    for i, (if_index, oof_index) in enumerate(skf.split(X_train, y_train)):\n",
    "        \n",
    "        #Dataset in fold (donde entreno) \n",
    "        lgb_if_dataset = lgb.Dataset(data=X_train.iloc[if_index],\n",
    "                                        label=y_train.iloc[if_index],\n",
    "                                        free_raw_data=False)\n",
    "        \n",
    "        #Dataset Out of fold (donde mido la performance del CV)\n",
    "        lgb_oof_dataset = lgb.Dataset(data=X_train.iloc[oof_index],\n",
    "                                        label=y_train.iloc[oof_index],\n",
    "                                        free_raw_data=False)\n",
    "\n",
    "        #Entreno el modelo\n",
    "        lgb_model = lgb.train(lgb_params,\n",
    "                                lgb_if_dataset,\n",
    "                                valid_sets=lgb_oof_dataset,\n",
    "                                callbacks=[lgb.early_stopping(10, verbose=False)],\n",
    "                                feval = lgb_custom_metric_kappa\n",
    "                                )\n",
    "        \n",
    "        #Acumulo los scores (probabilidades) de cada clase para cada uno de los modelos que determino en los folds\n",
    "        #Se predice el 20% de los datos que separe para tes y no uso para entrenar en ningun fold\n",
    "        scores_ensemble = scores_ensemble + lgb_model.predict(X_test)\n",
    "        \n",
    "        #Score del fold (registros de dataset train que en este fold quedan out of fold)\n",
    "        score_folds = score_folds + cohen_kappa_score(y_train.iloc[oof_index], \n",
    "                                                            lgb_model.predict(X_train.iloc[oof_index]).argmax(axis=1),weights = 'quadratic')/n_splits\n",
    "\n",
    "\n",
    "    #Guardo prediccion del trial sobre el conjunto de test\n",
    "    # Genero nombre de archivo\n",
    "    predicted_filename = os.path.join(PATH_TO_TEMP_FILES,f'test_{trial.study.study_name}_{trial.number}.joblib')\n",
    "    # Copia del dataset para guardar la prediccion\n",
    "    predicted_df = test.copy()\n",
    "    # Genero columna pred con predicciones sumadas de los 5 folds\n",
    "    predicted_df['pred'] = [scores_ensemble[p,:] for p in range(scores_ensemble.shape[0])]\n",
    "    # Grabo dataframe en temp_artifacts\n",
    "    dump(predicted_df, predicted_filename)\n",
    "    # Indico a optuna que asocie el archivo generado al trial\n",
    "    upload_artifact(trial, predicted_filename, artifact_store)    \n",
    "\n",
    "    #Grabo natriz de confusion\n",
    "    #Nombre de archivo\n",
    "    cm_filename = os.path.join(PATH_TO_TEMP_FILES,f'cm_{trial.study.study_name}_{trial.number}.jpg')\n",
    "    #Grabo archivo\n",
    "    plot_confusion_matrix(y_test,scores_ensemble.argmax(axis=1)).write_image(cm_filename)\n",
    "    #Asocio al trial\n",
    "    upload_artifact(trial, cm_filename, artifact_store)\n",
    "\n",
    "    #Determino score en conjunto de test y asocio como metrica adicional en optuna\n",
    "    test_score = cohen_kappa_score(y_test,scores_ensemble.argmax(axis=1),weights = 'quadratic')\n",
    "    trial.set_user_attr(\"test_score\", test_score)\n",
    "\n",
    "    #Devuelvo score del 5fold cv a optuna para que optimice en base a eso\n",
    "    return(score_folds)"
   ]
  },
  {
   "cell_type": "code",
   "execution_count": 42,
   "metadata": {},
   "outputs": [
    {
     "name": "stderr",
     "output_type": "stream",
     "text": [
      "<ipython-input-42-3ba8469af45f>:2: ExperimentalWarning:\n",
      "\n",
      "FileSystemArtifactStore is experimental (supported from v3.3.0). The interface can change in the future.\n",
      "\n",
      "[I 2024-09-14 12:14:58,409] Using an existing study with name '04 - LGB Multiclass CV' instead of creating a new one.\n",
      "<ipython-input-41-1c6539846d38>:86: ExperimentalWarning:\n",
      "\n",
      "upload_artifact is experimental (supported from v3.3.0). The interface can change in the future.\n",
      "\n",
      "<ipython-input-41-1c6539846d38>:94: ExperimentalWarning:\n",
      "\n",
      "upload_artifact is experimental (supported from v3.3.0). The interface can change in the future.\n",
      "\n",
      "[I 2024-09-14 12:15:22,817] Trial 671 finished with value: 0.37184665533691497 and parameters: {'lambda_l1': 0.5388084648637167, 'lambda_l2': 1.2860602375541024, 'num_leaves': 6, 'feature_fraction': 0.41325944952074783, 'bagging_fraction': 0.43724914537542203, 'bagging_freq': 1, 'min_child_samples': 26}. Best is trial 45 with value: 1.0.\n",
      "<ipython-input-41-1c6539846d38>:86: ExperimentalWarning:\n",
      "\n",
      "upload_artifact is experimental (supported from v3.3.0). The interface can change in the future.\n",
      "\n",
      "<ipython-input-41-1c6539846d38>:94: ExperimentalWarning:\n",
      "\n",
      "upload_artifact is experimental (supported from v3.3.0). The interface can change in the future.\n",
      "\n",
      "[I 2024-09-14 12:15:44,437] Trial 672 finished with value: 0.37944240224134085 and parameters: {'lambda_l1': 0.1041542763394242, 'lambda_l2': 9.89000085254391, 'num_leaves': 36, 'feature_fraction': 0.5388438057950949, 'bagging_fraction': 0.5170858244980071, 'bagging_freq': 4, 'min_child_samples': 20}. Best is trial 45 with value: 1.0.\n",
      "<ipython-input-41-1c6539846d38>:86: ExperimentalWarning:\n",
      "\n",
      "upload_artifact is experimental (supported from v3.3.0). The interface can change in the future.\n",
      "\n",
      "<ipython-input-41-1c6539846d38>:94: ExperimentalWarning:\n",
      "\n",
      "upload_artifact is experimental (supported from v3.3.0). The interface can change in the future.\n",
      "\n",
      "[I 2024-09-14 12:16:00,755] Trial 673 finished with value: 0.370011497324414 and parameters: {'lambda_l1': 1.2574944107966286, 'lambda_l2': 0.25715177193853467, 'num_leaves': 23, 'feature_fraction': 0.49985578900092725, 'bagging_fraction': 0.4826146292200366, 'bagging_freq': 2, 'min_child_samples': 42}. Best is trial 45 with value: 1.0.\n",
      "<ipython-input-41-1c6539846d38>:86: ExperimentalWarning:\n",
      "\n",
      "upload_artifact is experimental (supported from v3.3.0). The interface can change in the future.\n",
      "\n",
      "<ipython-input-41-1c6539846d38>:94: ExperimentalWarning:\n",
      "\n",
      "upload_artifact is experimental (supported from v3.3.0). The interface can change in the future.\n",
      "\n",
      "[I 2024-09-14 12:16:12,945] Trial 674 finished with value: 0.3706921114484172 and parameters: {'lambda_l1': 0.21873260667972091, 'lambda_l2': 0.7556178293371519, 'num_leaves': 30, 'feature_fraction': 0.44636096624849814, 'bagging_fraction': 0.5050228955067734, 'bagging_freq': 1, 'min_child_samples': 23}. Best is trial 45 with value: 1.0.\n",
      "<ipython-input-41-1c6539846d38>:86: ExperimentalWarning:\n",
      "\n",
      "upload_artifact is experimental (supported from v3.3.0). The interface can change in the future.\n",
      "\n",
      "<ipython-input-41-1c6539846d38>:94: ExperimentalWarning:\n",
      "\n",
      "upload_artifact is experimental (supported from v3.3.0). The interface can change in the future.\n",
      "\n",
      "[I 2024-09-14 12:16:21,799] Trial 675 finished with value: 0.36603200818908627 and parameters: {'lambda_l1': 1.8714460907521338, 'lambda_l2': 4.029127984330919, 'num_leaves': 19, 'feature_fraction': 0.6277217942990468, 'bagging_fraction': 0.5458467707652714, 'bagging_freq': 1, 'min_child_samples': 18}. Best is trial 45 with value: 1.0.\n",
      "<ipython-input-41-1c6539846d38>:86: ExperimentalWarning:\n",
      "\n",
      "upload_artifact is experimental (supported from v3.3.0). The interface can change in the future.\n",
      "\n",
      "<ipython-input-41-1c6539846d38>:94: ExperimentalWarning:\n",
      "\n",
      "upload_artifact is experimental (supported from v3.3.0). The interface can change in the future.\n",
      "\n",
      "[I 2024-09-14 12:16:31,826] Trial 676 finished with value: 0.37029558075776164 and parameters: {'lambda_l1': 0.8729211988116184, 'lambda_l2': 2.136927202672512, 'num_leaves': 11, 'feature_fraction': 0.5720101075984878, 'bagging_fraction': 0.4608640631718933, 'bagging_freq': 1, 'min_child_samples': 30}. Best is trial 45 with value: 1.0.\n",
      "<ipython-input-41-1c6539846d38>:86: ExperimentalWarning:\n",
      "\n",
      "upload_artifact is experimental (supported from v3.3.0). The interface can change in the future.\n",
      "\n",
      "<ipython-input-41-1c6539846d38>:94: ExperimentalWarning:\n",
      "\n",
      "upload_artifact is experimental (supported from v3.3.0). The interface can change in the future.\n",
      "\n",
      "[I 2024-09-14 12:16:41,553] Trial 677 finished with value: 0.3728987634656271 and parameters: {'lambda_l1': 1.5612341071558955e-05, 'lambda_l2': 5.585567663325325, 'num_leaves': 27, 'feature_fraction': 0.5138448061555233, 'bagging_fraction': 0.41807459126565066, 'bagging_freq': 2, 'min_child_samples': 12}. Best is trial 45 with value: 1.0.\n",
      "<ipython-input-41-1c6539846d38>:86: ExperimentalWarning:\n",
      "\n",
      "upload_artifact is experimental (supported from v3.3.0). The interface can change in the future.\n",
      "\n",
      "<ipython-input-41-1c6539846d38>:94: ExperimentalWarning:\n",
      "\n",
      "upload_artifact is experimental (supported from v3.3.0). The interface can change in the future.\n",
      "\n",
      "[I 2024-09-14 12:16:53,043] Trial 678 finished with value: 0.37361644070059935 and parameters: {'lambda_l1': 0.4616418232398271, 'lambda_l2': 9.945118341492808, 'num_leaves': 16, 'feature_fraction': 0.5296279065159489, 'bagging_fraction': 0.49506252769974046, 'bagging_freq': 1, 'min_child_samples': 62}. Best is trial 45 with value: 1.0.\n",
      "<ipython-input-41-1c6539846d38>:86: ExperimentalWarning:\n",
      "\n",
      "upload_artifact is experimental (supported from v3.3.0). The interface can change in the future.\n",
      "\n",
      "<ipython-input-41-1c6539846d38>:94: ExperimentalWarning:\n",
      "\n",
      "upload_artifact is experimental (supported from v3.3.0). The interface can change in the future.\n",
      "\n",
      "[I 2024-09-14 12:17:06,217] Trial 679 finished with value: 0.3740204260555109 and parameters: {'lambda_l1': 0.04110628770542293, 'lambda_l2': 1.610169979933303, 'num_leaves': 22, 'feature_fraction': 0.6472234480647029, 'bagging_fraction': 0.4508174024099707, 'bagging_freq': 2, 'min_child_samples': 21}. Best is trial 45 with value: 1.0.\n",
      "<ipython-input-41-1c6539846d38>:86: ExperimentalWarning:\n",
      "\n",
      "upload_artifact is experimental (supported from v3.3.0). The interface can change in the future.\n",
      "\n",
      "<ipython-input-41-1c6539846d38>:94: ExperimentalWarning:\n",
      "\n",
      "upload_artifact is experimental (supported from v3.3.0). The interface can change in the future.\n",
      "\n",
      "[I 2024-09-14 12:17:15,953] Trial 680 finished with value: 0.3743981793283867 and parameters: {'lambda_l1': 4.241751006466162, 'lambda_l2': 0.5744672477601354, 'num_leaves': 33, 'feature_fraction': 0.4862526556679877, 'bagging_fraction': 0.4694139774787128, 'bagging_freq': 1, 'min_child_samples': 16}. Best is trial 45 with value: 1.0.\n",
      "<ipython-input-41-1c6539846d38>:86: ExperimentalWarning:\n",
      "\n",
      "upload_artifact is experimental (supported from v3.3.0). The interface can change in the future.\n",
      "\n",
      "<ipython-input-41-1c6539846d38>:94: ExperimentalWarning:\n",
      "\n",
      "upload_artifact is experimental (supported from v3.3.0). The interface can change in the future.\n",
      "\n",
      "[I 2024-09-14 12:17:23,104] Trial 681 finished with value: 0.3538534576114616 and parameters: {'lambda_l1': 9.897817183335784, 'lambda_l2': 3.259318884768476, 'num_leaves': 8, 'feature_fraction': 0.7846702465805349, 'bagging_fraction': 0.4829416370965596, 'bagging_freq': 2, 'min_child_samples': 27}. Best is trial 45 with value: 1.0.\n",
      "<ipython-input-41-1c6539846d38>:86: ExperimentalWarning:\n",
      "\n",
      "upload_artifact is experimental (supported from v3.3.0). The interface can change in the future.\n",
      "\n",
      "<ipython-input-41-1c6539846d38>:94: ExperimentalWarning:\n",
      "\n",
      "upload_artifact is experimental (supported from v3.3.0). The interface can change in the future.\n",
      "\n",
      "[I 2024-09-14 12:17:33,005] Trial 682 finished with value: 0.378990016724862 and parameters: {'lambda_l1': 0.006872439842206118, 'lambda_l2': 6.223523306469346, 'num_leaves': 39, 'feature_fraction': 0.46708402663109, 'bagging_fraction': 0.5091219663658567, 'bagging_freq': 1, 'min_child_samples': 35}. Best is trial 45 with value: 1.0.\n",
      "<ipython-input-41-1c6539846d38>:86: ExperimentalWarning:\n",
      "\n",
      "upload_artifact is experimental (supported from v3.3.0). The interface can change in the future.\n",
      "\n",
      "<ipython-input-41-1c6539846d38>:94: ExperimentalWarning:\n",
      "\n",
      "upload_artifact is experimental (supported from v3.3.0). The interface can change in the future.\n",
      "\n",
      "[I 2024-09-14 12:17:45,537] Trial 683 finished with value: 0.36689076553549826 and parameters: {'lambda_l1': 0.0013580725374938581, 'lambda_l2': 2.563698207107245, 'num_leaves': 27, 'feature_fraction': 0.5085968047004129, 'bagging_fraction': 0.4341068344247367, 'bagging_freq': 2, 'min_child_samples': 25}. Best is trial 45 with value: 1.0.\n",
      "<ipython-input-41-1c6539846d38>:86: ExperimentalWarning:\n",
      "\n",
      "upload_artifact is experimental (supported from v3.3.0). The interface can change in the future.\n",
      "\n",
      "<ipython-input-41-1c6539846d38>:94: ExperimentalWarning:\n",
      "\n",
      "upload_artifact is experimental (supported from v3.3.0). The interface can change in the future.\n",
      "\n",
      "[I 2024-09-14 12:18:08,852] Trial 684 finished with value: 0.30678753028572814 and parameters: {'lambda_l1': 0.6407630206619745, 'lambda_l2': 4.228761834703414, 'num_leaves': 2, 'feature_fraction': 0.5515597651436844, 'bagging_fraction': 0.5354147459545924, 'bagging_freq': 5, 'min_child_samples': 7}. Best is trial 45 with value: 1.0.\n",
      "<ipython-input-41-1c6539846d38>:86: ExperimentalWarning:\n",
      "\n",
      "upload_artifact is experimental (supported from v3.3.0). The interface can change in the future.\n",
      "\n",
      "<ipython-input-41-1c6539846d38>:94: ExperimentalWarning:\n",
      "\n",
      "upload_artifact is experimental (supported from v3.3.0). The interface can change in the future.\n",
      "\n",
      "[I 2024-09-14 12:18:22,355] Trial 685 finished with value: 0.37706969230087484 and parameters: {'lambda_l1': 0.3261507336045377, 'lambda_l2': 6.358581322446577, 'num_leaves': 15, 'feature_fraction': 0.528896459751159, 'bagging_fraction': 0.5231434406773876, 'bagging_freq': 1, 'min_child_samples': 78}. Best is trial 45 with value: 1.0.\n",
      "<ipython-input-41-1c6539846d38>:86: ExperimentalWarning:\n",
      "\n",
      "upload_artifact is experimental (supported from v3.3.0). The interface can change in the future.\n",
      "\n",
      "<ipython-input-41-1c6539846d38>:94: ExperimentalWarning:\n",
      "\n",
      "upload_artifact is experimental (supported from v3.3.0). The interface can change in the future.\n",
      "\n",
      "[I 2024-09-14 12:18:32,733] Trial 686 finished with value: 0.37958458891393887 and parameters: {'lambda_l1': 0.08461112662209991, 'lambda_l2': 1.1007666693721299, 'num_leaves': 20, 'feature_fraction': 0.47665356954362603, 'bagging_fraction': 0.5626278984304268, 'bagging_freq': 1, 'min_child_samples': 10}. Best is trial 45 with value: 1.0.\n",
      "<ipython-input-41-1c6539846d38>:86: ExperimentalWarning:\n",
      "\n",
      "upload_artifact is experimental (supported from v3.3.0). The interface can change in the future.\n",
      "\n",
      "<ipython-input-41-1c6539846d38>:94: ExperimentalWarning:\n",
      "\n",
      "upload_artifact is experimental (supported from v3.3.0). The interface can change in the future.\n",
      "\n",
      "[I 2024-09-14 12:19:03,569] Trial 687 finished with value: 0.3658742278043944 and parameters: {'lambda_l1': 0.16083087193250217, 'lambda_l2': 2.1017055447089215, 'num_leaves': 53, 'feature_fraction': 0.4580584375859023, 'bagging_fraction': 0.49805393725728647, 'bagging_freq': 2, 'min_child_samples': 97}. Best is trial 45 with value: 1.0.\n",
      "<ipython-input-41-1c6539846d38>:86: ExperimentalWarning:\n",
      "\n",
      "upload_artifact is experimental (supported from v3.3.0). The interface can change in the future.\n",
      "\n",
      "<ipython-input-41-1c6539846d38>:94: ExperimentalWarning:\n",
      "\n",
      "upload_artifact is experimental (supported from v3.3.0). The interface can change in the future.\n",
      "\n",
      "[I 2024-09-14 12:19:24,644] Trial 688 finished with value: 0.37335172373006176 and parameters: {'lambda_l1': 0.06270609505669851, 'lambda_l2': 4.462482642742153, 'num_leaves': 130, 'feature_fraction': 0.8663881798191213, 'bagging_fraction': 0.4580761317057502, 'bagging_freq': 3, 'min_child_samples': 19}. Best is trial 45 with value: 1.0.\n",
      "<ipython-input-41-1c6539846d38>:86: ExperimentalWarning:\n",
      "\n",
      "upload_artifact is experimental (supported from v3.3.0). The interface can change in the future.\n",
      "\n",
      "<ipython-input-41-1c6539846d38>:94: ExperimentalWarning:\n",
      "\n",
      "upload_artifact is experimental (supported from v3.3.0). The interface can change in the future.\n",
      "\n",
      "[I 2024-09-14 12:19:35,733] Trial 689 finished with value: 0.37811113973432153 and parameters: {'lambda_l1': 1.238652844209064, 'lambda_l2': 6.74373335718465, 'num_leaves': 23, 'feature_fraction': 0.44128470543799597, 'bagging_fraction': 0.44700196965318467, 'bagging_freq': 1, 'min_child_samples': 31}. Best is trial 45 with value: 1.0.\n",
      "<ipython-input-41-1c6539846d38>:86: ExperimentalWarning:\n",
      "\n",
      "upload_artifact is experimental (supported from v3.3.0). The interface can change in the future.\n",
      "\n",
      "<ipython-input-41-1c6539846d38>:94: ExperimentalWarning:\n",
      "\n",
      "upload_artifact is experimental (supported from v3.3.0). The interface can change in the future.\n",
      "\n",
      "[I 2024-09-14 12:19:43,673] Trial 690 finished with value: 0.3704213089579743 and parameters: {'lambda_l1': 0.47565147571841937, 'lambda_l2': 3.6844139456558587, 'num_leaves': 13, 'feature_fraction': 0.6886520036776705, 'bagging_fraction': 0.40933279546979007, 'bagging_freq': 6, 'min_child_samples': 22}. Best is trial 45 with value: 1.0.\n",
      "<ipython-input-41-1c6539846d38>:86: ExperimentalWarning:\n",
      "\n",
      "upload_artifact is experimental (supported from v3.3.0). The interface can change in the future.\n",
      "\n",
      "<ipython-input-41-1c6539846d38>:94: ExperimentalWarning:\n",
      "\n",
      "upload_artifact is experimental (supported from v3.3.0). The interface can change in the future.\n",
      "\n",
      "[I 2024-09-14 12:19:55,509] Trial 691 finished with value: 0.3766327915152795 and parameters: {'lambda_l1': 2.6820411690788957, 'lambda_l2': 1.7454366297022785, 'num_leaves': 28, 'feature_fraction': 0.9568494352541717, 'bagging_fraction': 0.47819859635727213, 'bagging_freq': 1, 'min_child_samples': 14}. Best is trial 45 with value: 1.0.\n",
      "<ipython-input-41-1c6539846d38>:86: ExperimentalWarning:\n",
      "\n",
      "upload_artifact is experimental (supported from v3.3.0). The interface can change in the future.\n",
      "\n",
      "<ipython-input-41-1c6539846d38>:94: ExperimentalWarning:\n",
      "\n",
      "upload_artifact is experimental (supported from v3.3.0). The interface can change in the future.\n",
      "\n",
      "[I 2024-09-14 12:20:05,122] Trial 692 finished with value: 0.37519227104269914 and parameters: {'lambda_l1': 0.21019336887175213, 'lambda_l2': 1.9807164510688994e-08, 'num_leaves': 19, 'feature_fraction': 0.49631234537761953, 'bagging_fraction': 0.5518124579825183, 'bagging_freq': 2, 'min_child_samples': 28}. Best is trial 45 with value: 1.0.\n",
      "<ipython-input-41-1c6539846d38>:86: ExperimentalWarning:\n",
      "\n",
      "upload_artifact is experimental (supported from v3.3.0). The interface can change in the future.\n",
      "\n",
      "<ipython-input-41-1c6539846d38>:94: ExperimentalWarning:\n",
      "\n",
      "upload_artifact is experimental (supported from v3.3.0). The interface can change in the future.\n",
      "\n",
      "[I 2024-09-14 12:20:20,110] Trial 693 finished with value: 0.3712701565906339 and parameters: {'lambda_l1': 5.55996099037297, 'lambda_l2': 6.8714086224787545, 'num_leaves': 33, 'feature_fraction': 0.6002941270332512, 'bagging_fraction': 0.46549455024489295, 'bagging_freq': 1, 'min_child_samples': 9}. Best is trial 45 with value: 1.0.\n",
      "<ipython-input-41-1c6539846d38>:86: ExperimentalWarning:\n",
      "\n",
      "upload_artifact is experimental (supported from v3.3.0). The interface can change in the future.\n",
      "\n",
      "<ipython-input-41-1c6539846d38>:94: ExperimentalWarning:\n",
      "\n",
      "upload_artifact is experimental (supported from v3.3.0). The interface can change in the future.\n",
      "\n",
      "[I 2024-09-14 12:20:36,442] Trial 694 finished with value: 0.37742723146852464 and parameters: {'lambda_l1': 0.12384597983479692, 'lambda_l2': 0.37516016919873796, 'num_leaves': 42, 'feature_fraction': 0.5139802132152741, 'bagging_fraction': 0.516223285115676, 'bagging_freq': 2, 'min_child_samples': 24}. Best is trial 45 with value: 1.0.\n",
      "<ipython-input-41-1c6539846d38>:86: ExperimentalWarning:\n",
      "\n",
      "upload_artifact is experimental (supported from v3.3.0). The interface can change in the future.\n",
      "\n",
      "<ipython-input-41-1c6539846d38>:94: ExperimentalWarning:\n",
      "\n",
      "upload_artifact is experimental (supported from v3.3.0). The interface can change in the future.\n",
      "\n",
      "[I 2024-09-14 12:20:49,336] Trial 695 finished with value: 0.366681316901774 and parameters: {'lambda_l1': 0.7512502264876374, 'lambda_l2': 0.0002009717685668321, 'num_leaves': 9, 'feature_fraction': 0.5480944831593951, 'bagging_fraction': 0.4359443391006309, 'bagging_freq': 1, 'min_child_samples': 33}. Best is trial 45 with value: 1.0.\n",
      "<ipython-input-41-1c6539846d38>:86: ExperimentalWarning:\n",
      "\n",
      "upload_artifact is experimental (supported from v3.3.0). The interface can change in the future.\n",
      "\n",
      "<ipython-input-41-1c6539846d38>:94: ExperimentalWarning:\n",
      "\n",
      "upload_artifact is experimental (supported from v3.3.0). The interface can change in the future.\n",
      "\n",
      "[I 2024-09-14 12:21:00,198] Trial 696 finished with value: 0.3709976109540036 and parameters: {'lambda_l1': 0.2979776035458832, 'lambda_l2': 2.8186037474932903, 'num_leaves': 24, 'feature_fraction': 0.4338689506897002, 'bagging_fraction': 0.5011007750284795, 'bagging_freq': 2, 'min_child_samples': 12}. Best is trial 45 with value: 1.0.\n",
      "<ipython-input-41-1c6539846d38>:86: ExperimentalWarning:\n",
      "\n",
      "upload_artifact is experimental (supported from v3.3.0). The interface can change in the future.\n",
      "\n",
      "<ipython-input-41-1c6539846d38>:94: ExperimentalWarning:\n",
      "\n",
      "upload_artifact is experimental (supported from v3.3.0). The interface can change in the future.\n",
      "\n",
      "[I 2024-09-14 12:21:13,362] Trial 697 finished with value: 0.37494537267471545 and parameters: {'lambda_l1': 1.0345306929342253, 'lambda_l2': 0.8625134305841368, 'num_leaves': 15, 'feature_fraction': 0.5368326475874929, 'bagging_fraction': 0.48816463575537605, 'bagging_freq': 1, 'min_child_samples': 16}. Best is trial 45 with value: 1.0.\n",
      "<ipython-input-41-1c6539846d38>:86: ExperimentalWarning:\n",
      "\n",
      "upload_artifact is experimental (supported from v3.3.0). The interface can change in the future.\n",
      "\n",
      "<ipython-input-41-1c6539846d38>:94: ExperimentalWarning:\n",
      "\n",
      "upload_artifact is experimental (supported from v3.3.0). The interface can change in the future.\n",
      "\n",
      "[I 2024-09-14 12:21:24,953] Trial 698 finished with value: 0.3744663614945527 and parameters: {'lambda_l1': 0.030254270543282478, 'lambda_l2': 0.006763068960475917, 'num_leaves': 30, 'feature_fraction': 0.5620977786207645, 'bagging_fraction': 0.4211228059542813, 'bagging_freq': 1, 'min_child_samples': 19}. Best is trial 45 with value: 1.0.\n",
      "<ipython-input-41-1c6539846d38>:86: ExperimentalWarning:\n",
      "\n",
      "upload_artifact is experimental (supported from v3.3.0). The interface can change in the future.\n",
      "\n",
      "<ipython-input-41-1c6539846d38>:94: ExperimentalWarning:\n",
      "\n",
      "upload_artifact is experimental (supported from v3.3.0). The interface can change in the future.\n",
      "\n",
      "[I 2024-09-14 12:21:34,149] Trial 699 finished with value: 0.3639734023005613 and parameters: {'lambda_l1': 0.4091658441995381, 'lambda_l2': 9.752873073852035, 'num_leaves': 37, 'feature_fraction': 0.42135242265798983, 'bagging_fraction': 0.47241688423821987, 'bagging_freq': 2, 'min_child_samples': 21}. Best is trial 45 with value: 1.0.\n",
      "<ipython-input-41-1c6539846d38>:86: ExperimentalWarning:\n",
      "\n",
      "upload_artifact is experimental (supported from v3.3.0). The interface can change in the future.\n",
      "\n",
      "<ipython-input-41-1c6539846d38>:94: ExperimentalWarning:\n",
      "\n",
      "upload_artifact is experimental (supported from v3.3.0). The interface can change in the future.\n",
      "\n",
      "[I 2024-09-14 12:21:43,616] Trial 700 finished with value: 0.36686054031911264 and parameters: {'lambda_l1': 1.8591222742870623, 'lambda_l2': 9.968411670725072, 'num_leaves': 19, 'feature_fraction': 0.5207737713302628, 'bagging_fraction': 0.5866037887920188, 'bagging_freq': 1, 'min_child_samples': 26}. Best is trial 45 with value: 1.0.\n",
      "<ipython-input-41-1c6539846d38>:86: ExperimentalWarning:\n",
      "\n",
      "upload_artifact is experimental (supported from v3.3.0). The interface can change in the future.\n",
      "\n",
      "<ipython-input-41-1c6539846d38>:94: ExperimentalWarning:\n",
      "\n",
      "upload_artifact is experimental (supported from v3.3.0). The interface can change in the future.\n",
      "\n",
      "[I 2024-09-14 12:21:55,054] Trial 701 finished with value: 0.3682922350460882 and parameters: {'lambda_l1': 0.07444026505566008, 'lambda_l2': 4.476628434511698, 'num_leaves': 11, 'feature_fraction': 0.4922533200634301, 'bagging_fraction': 0.4539616161005002, 'bagging_freq': 1, 'min_child_samples': 29}. Best is trial 45 with value: 1.0.\n",
      "<ipython-input-41-1c6539846d38>:86: ExperimentalWarning:\n",
      "\n",
      "upload_artifact is experimental (supported from v3.3.0). The interface can change in the future.\n",
      "\n",
      "<ipython-input-41-1c6539846d38>:94: ExperimentalWarning:\n",
      "\n",
      "upload_artifact is experimental (supported from v3.3.0). The interface can change in the future.\n",
      "\n",
      "[I 2024-09-14 12:22:05,572] Trial 702 finished with value: 0.3696467025153337 and parameters: {'lambda_l1': 4.095703368062076, 'lambda_l2': 1.4082607226294706, 'num_leaves': 25, 'feature_fraction': 0.4756108208574146, 'bagging_fraction': 0.443069459406884, 'bagging_freq': 2, 'min_child_samples': 8}. Best is trial 45 with value: 1.0.\n",
      "<ipython-input-41-1c6539846d38>:86: ExperimentalWarning:\n",
      "\n",
      "upload_artifact is experimental (supported from v3.3.0). The interface can change in the future.\n",
      "\n",
      "<ipython-input-41-1c6539846d38>:94: ExperimentalWarning:\n",
      "\n",
      "upload_artifact is experimental (supported from v3.3.0). The interface can change in the future.\n",
      "\n",
      "[I 2024-09-14 12:22:18,081] Trial 703 finished with value: 0.3766521062430287 and parameters: {'lambda_l1': 0.22097617040267417, 'lambda_l2': 2.8073749700653288, 'num_leaves': 18, 'feature_fraction': 0.46177220144643505, 'bagging_fraction': 0.5255539678805433, 'bagging_freq': 1, 'min_child_samples': 38}. Best is trial 45 with value: 1.0.\n",
      "<ipython-input-41-1c6539846d38>:86: ExperimentalWarning:\n",
      "\n",
      "upload_artifact is experimental (supported from v3.3.0). The interface can change in the future.\n",
      "\n",
      "<ipython-input-41-1c6539846d38>:94: ExperimentalWarning:\n",
      "\n",
      "upload_artifact is experimental (supported from v3.3.0). The interface can change in the future.\n",
      "\n",
      "[I 2024-09-14 12:22:33,579] Trial 704 finished with value: 0.37488031515948805 and parameters: {'lambda_l1': 0.6179208067819627, 'lambda_l2': 5.110245731800951, 'num_leaves': 29, 'feature_fraction': 0.5052453997828961, 'bagging_fraction': 0.5428290137169265, 'bagging_freq': 2, 'min_child_samples': 23}. Best is trial 45 with value: 1.0.\n",
      "<ipython-input-41-1c6539846d38>:86: ExperimentalWarning:\n",
      "\n",
      "upload_artifact is experimental (supported from v3.3.0). The interface can change in the future.\n",
      "\n",
      "<ipython-input-41-1c6539846d38>:94: ExperimentalWarning:\n",
      "\n",
      "upload_artifact is experimental (supported from v3.3.0). The interface can change in the future.\n",
      "\n",
      "[I 2024-09-14 12:22:42,982] Trial 705 finished with value: 0.35745231042126063 and parameters: {'lambda_l1': 0.11406305841871187, 'lambda_l2': 3.500919926610116e-05, 'num_leaves': 6, 'feature_fraction': 0.8020856026251988, 'bagging_fraction': 0.5087878224890429, 'bagging_freq': 3, 'min_child_samples': 13}. Best is trial 45 with value: 1.0.\n",
      "<ipython-input-41-1c6539846d38>:86: ExperimentalWarning:\n",
      "\n",
      "upload_artifact is experimental (supported from v3.3.0). The interface can change in the future.\n",
      "\n",
      "<ipython-input-41-1c6539846d38>:94: ExperimentalWarning:\n",
      "\n",
      "upload_artifact is experimental (supported from v3.3.0). The interface can change in the future.\n",
      "\n",
      "[I 2024-09-14 12:22:52,865] Trial 706 finished with value: 0.3770130814739661 and parameters: {'lambda_l1': 0.3947904377446709, 'lambda_l2': 2.1714668796114998, 'num_leaves': 23, 'feature_fraction': 0.586406921831872, 'bagging_fraction': 0.4865228886231513, 'bagging_freq': 4, 'min_child_samples': 17}. Best is trial 45 with value: 1.0.\n",
      "<ipython-input-41-1c6539846d38>:86: ExperimentalWarning:\n",
      "\n",
      "upload_artifact is experimental (supported from v3.3.0). The interface can change in the future.\n",
      "\n",
      "<ipython-input-41-1c6539846d38>:94: ExperimentalWarning:\n",
      "\n",
      "upload_artifact is experimental (supported from v3.3.0). The interface can change in the future.\n",
      "\n",
      "[I 2024-09-14 12:23:03,252] Trial 707 finished with value: 0.3734332933250608 and parameters: {'lambda_l1': 0.17039574793190243, 'lambda_l2': 0.5819395584096009, 'num_leaves': 57, 'feature_fraction': 0.5245956095997443, 'bagging_fraction': 0.4643194392995362, 'bagging_freq': 7, 'min_child_samples': 11}. Best is trial 45 with value: 1.0.\n",
      "<ipython-input-41-1c6539846d38>:86: ExperimentalWarning:\n",
      "\n",
      "upload_artifact is experimental (supported from v3.3.0). The interface can change in the future.\n",
      "\n",
      "<ipython-input-41-1c6539846d38>:94: ExperimentalWarning:\n",
      "\n",
      "upload_artifact is experimental (supported from v3.3.0). The interface can change in the future.\n",
      "\n",
      "[I 2024-09-14 12:23:14,544] Trial 708 finished with value: 0.36935832266471624 and parameters: {'lambda_l1': 6.840544317073392, 'lambda_l2': 9.405725055917079e-06, 'num_leaves': 47, 'feature_fraction': 0.450323929197474, 'bagging_fraction': 0.4950924442869415, 'bagging_freq': 1, 'min_child_samples': 15}. Best is trial 45 with value: 1.0.\n",
      "<ipython-input-41-1c6539846d38>:86: ExperimentalWarning:\n",
      "\n",
      "upload_artifact is experimental (supported from v3.3.0). The interface can change in the future.\n",
      "\n",
      "<ipython-input-41-1c6539846d38>:94: ExperimentalWarning:\n",
      "\n",
      "upload_artifact is experimental (supported from v3.3.0). The interface can change in the future.\n",
      "\n",
      "[I 2024-09-14 12:23:22,933] Trial 709 finished with value: 0.3700433552738892 and parameters: {'lambda_l1': 0.9953189954771098, 'lambda_l2': 6.773410084534689, 'num_leaves': 35, 'feature_fraction': 0.573975895947927, 'bagging_fraction': 0.5294741200672222, 'bagging_freq': 2, 'min_child_samples': 25}. Best is trial 45 with value: 1.0.\n",
      "<ipython-input-41-1c6539846d38>:86: ExperimentalWarning:\n",
      "\n",
      "upload_artifact is experimental (supported from v3.3.0). The interface can change in the future.\n",
      "\n",
      "<ipython-input-41-1c6539846d38>:94: ExperimentalWarning:\n",
      "\n",
      "upload_artifact is experimental (supported from v3.3.0). The interface can change in the future.\n",
      "\n",
      "[I 2024-09-14 12:23:31,295] Trial 710 finished with value: 0.363483843864714 and parameters: {'lambda_l1': 0.2614339686129634, 'lambda_l2': 3.6030793961075283, 'num_leaves': 13, 'feature_fraction': 0.5004596602921643, 'bagging_fraction': 0.42764924967317336, 'bagging_freq': 1, 'min_child_samples': 35}. Best is trial 45 with value: 1.0.\n",
      "<ipython-input-41-1c6539846d38>:86: ExperimentalWarning:\n",
      "\n",
      "upload_artifact is experimental (supported from v3.3.0). The interface can change in the future.\n",
      "\n",
      "<ipython-input-41-1c6539846d38>:94: ExperimentalWarning:\n",
      "\n",
      "upload_artifact is experimental (supported from v3.3.0). The interface can change in the future.\n",
      "\n",
      "[I 2024-09-14 12:23:41,440] Trial 711 finished with value: 0.3798504756455305 and parameters: {'lambda_l1': 0.6164862631277482, 'lambda_l2': 1.2661157408072987, 'num_leaves': 20, 'feature_fraction': 0.5339676374977952, 'bagging_fraction': 0.47435072250661187, 'bagging_freq': 1, 'min_child_samples': 20}. Best is trial 45 with value: 1.0.\n",
      "<ipython-input-41-1c6539846d38>:86: ExperimentalWarning:\n",
      "\n",
      "upload_artifact is experimental (supported from v3.3.0). The interface can change in the future.\n",
      "\n",
      "<ipython-input-41-1c6539846d38>:94: ExperimentalWarning:\n",
      "\n",
      "upload_artifact is experimental (supported from v3.3.0). The interface can change in the future.\n",
      "\n",
      "[I 2024-09-14 12:23:51,281] Trial 712 finished with value: 0.36841631351508375 and parameters: {'lambda_l1': 2.727365801654113, 'lambda_l2': 5.115097423358315, 'num_leaves': 26, 'feature_fraction': 0.4865419456129514, 'bagging_fraction': 0.40057968697442053, 'bagging_freq': 2, 'min_child_samples': 32}. Best is trial 45 with value: 1.0.\n",
      "<ipython-input-41-1c6539846d38>:86: ExperimentalWarning:\n",
      "\n",
      "upload_artifact is experimental (supported from v3.3.0). The interface can change in the future.\n",
      "\n",
      "<ipython-input-41-1c6539846d38>:94: ExperimentalWarning:\n",
      "\n",
      "upload_artifact is experimental (supported from v3.3.0). The interface can change in the future.\n",
      "\n",
      "[I 2024-09-14 12:24:01,434] Trial 713 finished with value: 0.3695811609876945 and parameters: {'lambda_l1': 0.06487709970929334, 'lambda_l2': 6.926114283459005, 'num_leaves': 96, 'feature_fraction': 0.65841454552551, 'bagging_fraction': 0.5161434920555642, 'bagging_freq': 1, 'min_child_samples': 22}. Best is trial 45 with value: 1.0.\n",
      "<ipython-input-41-1c6539846d38>:86: ExperimentalWarning:\n",
      "\n",
      "upload_artifact is experimental (supported from v3.3.0). The interface can change in the future.\n",
      "\n",
      "<ipython-input-41-1c6539846d38>:94: ExperimentalWarning:\n",
      "\n",
      "upload_artifact is experimental (supported from v3.3.0). The interface can change in the future.\n",
      "\n",
      "[I 2024-09-14 12:24:27,550] Trial 714 finished with value: 0.36587209694498857 and parameters: {'lambda_l1': 1.428960645099751, 'lambda_l2': 3.358251151421022, 'num_leaves': 6, 'feature_fraction': 0.4078831151259098, 'bagging_fraction': 0.44960731922707486, 'bagging_freq': 1, 'min_child_samples': 5}. Best is trial 45 with value: 1.0.\n",
      "<ipython-input-41-1c6539846d38>:86: ExperimentalWarning:\n",
      "\n",
      "upload_artifact is experimental (supported from v3.3.0). The interface can change in the future.\n",
      "\n",
      "<ipython-input-41-1c6539846d38>:94: ExperimentalWarning:\n",
      "\n",
      "upload_artifact is experimental (supported from v3.3.0). The interface can change in the future.\n",
      "\n",
      "[I 2024-09-14 12:24:37,853] Trial 715 finished with value: 0.369728827839901 and parameters: {'lambda_l1': 0.3724782537371251, 'lambda_l2': 1.877703221945949, 'num_leaves': 16, 'feature_fraction': 0.5100586981898846, 'bagging_fraction': 0.5713109495887554, 'bagging_freq': 3, 'min_child_samples': 10}. Best is trial 45 with value: 1.0.\n",
      "<ipython-input-41-1c6539846d38>:86: ExperimentalWarning:\n",
      "\n",
      "upload_artifact is experimental (supported from v3.3.0). The interface can change in the future.\n",
      "\n",
      "<ipython-input-41-1c6539846d38>:94: ExperimentalWarning:\n",
      "\n",
      "upload_artifact is experimental (supported from v3.3.0). The interface can change in the future.\n",
      "\n",
      "[I 2024-09-14 12:24:50,037] Trial 716 finished with value: 0.37694093252431726 and parameters: {'lambda_l1': 0.11716186426943449, 'lambda_l2': 9.921275483471279, 'num_leaves': 29, 'feature_fraction': 0.5454721474927241, 'bagging_fraction': 0.43512204865322984, 'bagging_freq': 1, 'min_child_samples': 29}. Best is trial 45 with value: 1.0.\n",
      "<ipython-input-41-1c6539846d38>:86: ExperimentalWarning:\n",
      "\n",
      "upload_artifact is experimental (supported from v3.3.0). The interface can change in the future.\n",
      "\n",
      "<ipython-input-41-1c6539846d38>:94: ExperimentalWarning:\n",
      "\n",
      "upload_artifact is experimental (supported from v3.3.0). The interface can change in the future.\n",
      "\n",
      "[I 2024-09-14 12:25:08,849] Trial 717 finished with value: 0.3792178551156761 and parameters: {'lambda_l1': 4.672883597255203, 'lambda_l2': 0.19155879353031874, 'num_leaves': 83, 'feature_fraction': 0.6099590023039976, 'bagging_fraction': 0.5021939563561543, 'bagging_freq': 2, 'min_child_samples': 18}. Best is trial 45 with value: 1.0.\n",
      "<ipython-input-41-1c6539846d38>:86: ExperimentalWarning:\n",
      "\n",
      "upload_artifact is experimental (supported from v3.3.0). The interface can change in the future.\n",
      "\n",
      "<ipython-input-41-1c6539846d38>:94: ExperimentalWarning:\n",
      "\n",
      "upload_artifact is experimental (supported from v3.3.0). The interface can change in the future.\n",
      "\n",
      "[I 2024-09-14 12:25:21,663] Trial 718 finished with value: 0.3720980746244086 and parameters: {'lambda_l1': 0.7929057535594377, 'lambda_l2': 2.650749211617944, 'num_leaves': 77, 'feature_fraction': 0.4765551001362705, 'bagging_fraction': 0.4834379356096667, 'bagging_freq': 2, 'min_child_samples': 14}. Best is trial 45 with value: 1.0.\n",
      "<ipython-input-41-1c6539846d38>:86: ExperimentalWarning:\n",
      "\n",
      "upload_artifact is experimental (supported from v3.3.0). The interface can change in the future.\n",
      "\n",
      "<ipython-input-41-1c6539846d38>:94: ExperimentalWarning:\n",
      "\n",
      "upload_artifact is experimental (supported from v3.3.0). The interface can change in the future.\n",
      "\n",
      "[I 2024-09-14 12:25:33,432] Trial 719 finished with value: 0.3793900896479452 and parameters: {'lambda_l1': 0.25467129097671104, 'lambda_l2': 0.9093835559836608, 'num_leaves': 22, 'feature_fraction': 0.42912268476681836, 'bagging_fraction': 0.4537018952446587, 'bagging_freq': 1, 'min_child_samples': 7}. Best is trial 45 with value: 1.0.\n",
      "<ipython-input-41-1c6539846d38>:86: ExperimentalWarning:\n",
      "\n",
      "upload_artifact is experimental (supported from v3.3.0). The interface can change in the future.\n",
      "\n",
      "<ipython-input-41-1c6539846d38>:94: ExperimentalWarning:\n",
      "\n",
      "upload_artifact is experimental (supported from v3.3.0). The interface can change in the future.\n",
      "\n",
      "[I 2024-09-14 12:25:44,278] Trial 720 finished with value: 0.3736492955944174 and parameters: {'lambda_l1': 0.4742805038485132, 'lambda_l2': 4.9280618560045, 'num_leaves': 12, 'feature_fraction': 0.5651128983886206, 'bagging_fraction': 0.4656961196848495, 'bagging_freq': 1, 'min_child_samples': 24}. Best is trial 45 with value: 1.0.\n",
      "<ipython-input-41-1c6539846d38>:86: ExperimentalWarning:\n",
      "\n",
      "upload_artifact is experimental (supported from v3.3.0). The interface can change in the future.\n",
      "\n",
      "<ipython-input-41-1c6539846d38>:94: ExperimentalWarning:\n",
      "\n",
      "upload_artifact is experimental (supported from v3.3.0). The interface can change in the future.\n",
      "\n",
      "[I 2024-09-14 12:25:57,233] Trial 721 finished with value: 0.3761393705228022 and parameters: {'lambda_l1': 0.05480525764717459, 'lambda_l2': 9.980187727416556, 'num_leaves': 33, 'feature_fraction': 0.5184570966054656, 'bagging_fraction': 0.8356602857898507, 'bagging_freq': 2, 'min_child_samples': 21}. Best is trial 45 with value: 1.0.\n",
      "[W 2024-09-14 12:26:03,933] Trial 722 failed with parameters: {'lambda_l1': 0.0245876020870771, 'lambda_l2': 3.771767665072203, 'num_leaves': 42, 'feature_fraction': 0.4948428440858416, 'bagging_fraction': 0.531405158301949, 'bagging_freq': 6, 'min_child_samples': 40} because of the following error: KeyboardInterrupt().\n",
      "Traceback (most recent call last):\n",
      "  File \"c:\\Users\\s1093678\\Anaconda3\\lib\\site-packages\\optuna\\study\\_optimize.py\", line 196, in _run_trial\n",
      "    value_or_values = func(trial)\n",
      "  File \"<ipython-input-41-1c6539846d38>\", line 60, in cv_es_lgb_objective\n",
      "    lgb_model = lgb.train(lgb_params,\n",
      "  File \"c:\\Users\\s1093678\\Anaconda3\\lib\\site-packages\\lightgbm\\engine.py\", line 314, in train\n",
      "    evaluation_result_list.extend(booster.eval_valid(feval))\n",
      "  File \"c:\\Users\\s1093678\\Anaconda3\\lib\\site-packages\\lightgbm\\basic.py\", line 4423, in eval_valid\n",
      "    return [\n",
      "  File \"c:\\Users\\s1093678\\Anaconda3\\lib\\site-packages\\lightgbm\\basic.py\", line 4426, in <listcomp>\n",
      "    for item in self.__inner_eval(self.name_valid_sets[i - 1], i, feval)\n",
      "  File \"c:\\Users\\s1093678\\Anaconda3\\lib\\site-packages\\lightgbm\\basic.py\", line 5187, in __inner_eval\n",
      "    feval_ret = eval_function(self.__inner_predict(data_idx), cur_data)\n",
      "  File \"<ipython-input-41-1c6539846d38>\", line 4, in lgb_custom_metric_kappa\n",
      "    value = cohen_kappa_score(dy_true.get_label(),dy_pred.argmax(axis=1),weights = 'quadratic')\n",
      "  File \"c:\\Users\\s1093678\\Anaconda3\\lib\\site-packages\\sklearn\\utils\\validation.py\", line 63, in inner_f\n",
      "    return f(*args, **kwargs)\n",
      "  File \"c:\\Users\\s1093678\\Anaconda3\\lib\\site-packages\\sklearn\\metrics\\_classification.py\", line 618, in cohen_kappa_score\n",
      "    confusion = confusion_matrix(y1, y2, labels=labels,\n",
      "  File \"c:\\Users\\s1093678\\Anaconda3\\lib\\site-packages\\sklearn\\utils\\validation.py\", line 63, in inner_f\n",
      "    return f(*args, **kwargs)\n",
      "  File \"c:\\Users\\s1093678\\Anaconda3\\lib\\site-packages\\sklearn\\metrics\\_classification.py\", line 330, in confusion_matrix\n",
      "    ind = np.logical_and(y_pred < n_labels, y_true < n_labels)\n",
      "KeyboardInterrupt\n",
      "[W 2024-09-14 12:26:03,947] Trial 722 failed with value None.\n"
     ]
    },
    {
     "ename": "KeyboardInterrupt",
     "evalue": "",
     "output_type": "error",
     "traceback": [
      "\u001b[1;31m---------------------------------------------------------------------------\u001b[0m",
      "\u001b[1;31mKeyboardInterrupt\u001b[0m                         Traceback (most recent call last)",
      "\u001b[1;32m<ipython-input-42-3ba8469af45f>\u001b[0m in \u001b[0;36m<module>\u001b[1;34m\u001b[0m\n\u001b[0;32m      8\u001b[0m                             load_if_exists = True)\n\u001b[0;32m      9\u001b[0m \u001b[1;31m#Corro la optimizacion\u001b[0m\u001b[1;33m\u001b[0m\u001b[1;33m\u001b[0m\u001b[1;33m\u001b[0m\u001b[0m\n\u001b[1;32m---> 10\u001b[1;33m \u001b[0mstudy\u001b[0m\u001b[1;33m.\u001b[0m\u001b[0moptimize\u001b[0m\u001b[1;33m(\u001b[0m\u001b[0mcv_es_lgb_objective\u001b[0m\u001b[1;33m,\u001b[0m \u001b[0mn_trials\u001b[0m\u001b[1;33m=\u001b[0m\u001b[1;36m100\u001b[0m\u001b[1;33m)\u001b[0m\u001b[1;33m\u001b[0m\u001b[1;33m\u001b[0m\u001b[0m\n\u001b[0m",
      "\u001b[1;32mc:\\Users\\s1093678\\Anaconda3\\lib\\site-packages\\optuna\\study\\study.py\u001b[0m in \u001b[0;36moptimize\u001b[1;34m(self, func, n_trials, timeout, n_jobs, catch, callbacks, gc_after_trial, show_progress_bar)\u001b[0m\n\u001b[0;32m    449\u001b[0m                 \u001b[0mIf\u001b[0m \u001b[0mnested\u001b[0m \u001b[0minvocation\u001b[0m \u001b[0mof\u001b[0m \u001b[0mthis\u001b[0m \u001b[0mmethod\u001b[0m \u001b[0moccurs\u001b[0m\u001b[1;33m.\u001b[0m\u001b[1;33m\u001b[0m\u001b[1;33m\u001b[0m\u001b[0m\n\u001b[0;32m    450\u001b[0m         \"\"\"\n\u001b[1;32m--> 451\u001b[1;33m         _optimize(\n\u001b[0m\u001b[0;32m    452\u001b[0m             \u001b[0mstudy\u001b[0m\u001b[1;33m=\u001b[0m\u001b[0mself\u001b[0m\u001b[1;33m,\u001b[0m\u001b[1;33m\u001b[0m\u001b[1;33m\u001b[0m\u001b[0m\n\u001b[0;32m    453\u001b[0m             \u001b[0mfunc\u001b[0m\u001b[1;33m=\u001b[0m\u001b[0mfunc\u001b[0m\u001b[1;33m,\u001b[0m\u001b[1;33m\u001b[0m\u001b[1;33m\u001b[0m\u001b[0m\n",
      "\u001b[1;32mc:\\Users\\s1093678\\Anaconda3\\lib\\site-packages\\optuna\\study\\_optimize.py\u001b[0m in \u001b[0;36m_optimize\u001b[1;34m(study, func, n_trials, timeout, n_jobs, catch, callbacks, gc_after_trial, show_progress_bar)\u001b[0m\n\u001b[0;32m     60\u001b[0m     \u001b[1;32mtry\u001b[0m\u001b[1;33m:\u001b[0m\u001b[1;33m\u001b[0m\u001b[1;33m\u001b[0m\u001b[0m\n\u001b[0;32m     61\u001b[0m         \u001b[1;32mif\u001b[0m \u001b[0mn_jobs\u001b[0m \u001b[1;33m==\u001b[0m \u001b[1;36m1\u001b[0m\u001b[1;33m:\u001b[0m\u001b[1;33m\u001b[0m\u001b[1;33m\u001b[0m\u001b[0m\n\u001b[1;32m---> 62\u001b[1;33m             _optimize_sequential(\n\u001b[0m\u001b[0;32m     63\u001b[0m                 \u001b[0mstudy\u001b[0m\u001b[1;33m,\u001b[0m\u001b[1;33m\u001b[0m\u001b[1;33m\u001b[0m\u001b[0m\n\u001b[0;32m     64\u001b[0m                 \u001b[0mfunc\u001b[0m\u001b[1;33m,\u001b[0m\u001b[1;33m\u001b[0m\u001b[1;33m\u001b[0m\u001b[0m\n",
      "\u001b[1;32mc:\\Users\\s1093678\\Anaconda3\\lib\\site-packages\\optuna\\study\\_optimize.py\u001b[0m in \u001b[0;36m_optimize_sequential\u001b[1;34m(study, func, n_trials, timeout, catch, callbacks, gc_after_trial, reseed_sampler_rng, time_start, progress_bar)\u001b[0m\n\u001b[0;32m    157\u001b[0m \u001b[1;33m\u001b[0m\u001b[0m\n\u001b[0;32m    158\u001b[0m         \u001b[1;32mtry\u001b[0m\u001b[1;33m:\u001b[0m\u001b[1;33m\u001b[0m\u001b[1;33m\u001b[0m\u001b[0m\n\u001b[1;32m--> 159\u001b[1;33m             \u001b[0mfrozen_trial\u001b[0m \u001b[1;33m=\u001b[0m \u001b[0m_run_trial\u001b[0m\u001b[1;33m(\u001b[0m\u001b[0mstudy\u001b[0m\u001b[1;33m,\u001b[0m \u001b[0mfunc\u001b[0m\u001b[1;33m,\u001b[0m \u001b[0mcatch\u001b[0m\u001b[1;33m)\u001b[0m\u001b[1;33m\u001b[0m\u001b[1;33m\u001b[0m\u001b[0m\n\u001b[0m\u001b[0;32m    160\u001b[0m         \u001b[1;32mfinally\u001b[0m\u001b[1;33m:\u001b[0m\u001b[1;33m\u001b[0m\u001b[1;33m\u001b[0m\u001b[0m\n\u001b[0;32m    161\u001b[0m             \u001b[1;31m# The following line mitigates memory problems that can be occurred in some\u001b[0m\u001b[1;33m\u001b[0m\u001b[1;33m\u001b[0m\u001b[1;33m\u001b[0m\u001b[0m\n",
      "\u001b[1;32mc:\\Users\\s1093678\\Anaconda3\\lib\\site-packages\\optuna\\study\\_optimize.py\u001b[0m in \u001b[0;36m_run_trial\u001b[1;34m(study, func, catch)\u001b[0m\n\u001b[0;32m    245\u001b[0m         \u001b[1;32mand\u001b[0m \u001b[1;32mnot\u001b[0m \u001b[0misinstance\u001b[0m\u001b[1;33m(\u001b[0m\u001b[0mfunc_err\u001b[0m\u001b[1;33m,\u001b[0m \u001b[0mcatch\u001b[0m\u001b[1;33m)\u001b[0m\u001b[1;33m\u001b[0m\u001b[1;33m\u001b[0m\u001b[0m\n\u001b[0;32m    246\u001b[0m     ):\n\u001b[1;32m--> 247\u001b[1;33m         \u001b[1;32mraise\u001b[0m \u001b[0mfunc_err\u001b[0m\u001b[1;33m\u001b[0m\u001b[1;33m\u001b[0m\u001b[0m\n\u001b[0m\u001b[0;32m    248\u001b[0m     \u001b[1;32mreturn\u001b[0m \u001b[0mfrozen_trial\u001b[0m\u001b[1;33m\u001b[0m\u001b[1;33m\u001b[0m\u001b[0m\n\u001b[0;32m    249\u001b[0m \u001b[1;33m\u001b[0m\u001b[0m\n",
      "\u001b[1;32mc:\\Users\\s1093678\\Anaconda3\\lib\\site-packages\\optuna\\study\\_optimize.py\u001b[0m in \u001b[0;36m_run_trial\u001b[1;34m(study, func, catch)\u001b[0m\n\u001b[0;32m    194\u001b[0m     \u001b[1;32mwith\u001b[0m \u001b[0mget_heartbeat_thread\u001b[0m\u001b[1;33m(\u001b[0m\u001b[0mtrial\u001b[0m\u001b[1;33m.\u001b[0m\u001b[0m_trial_id\u001b[0m\u001b[1;33m,\u001b[0m \u001b[0mstudy\u001b[0m\u001b[1;33m.\u001b[0m\u001b[0m_storage\u001b[0m\u001b[1;33m)\u001b[0m\u001b[1;33m:\u001b[0m\u001b[1;33m\u001b[0m\u001b[1;33m\u001b[0m\u001b[0m\n\u001b[0;32m    195\u001b[0m         \u001b[1;32mtry\u001b[0m\u001b[1;33m:\u001b[0m\u001b[1;33m\u001b[0m\u001b[1;33m\u001b[0m\u001b[0m\n\u001b[1;32m--> 196\u001b[1;33m             \u001b[0mvalue_or_values\u001b[0m \u001b[1;33m=\u001b[0m \u001b[0mfunc\u001b[0m\u001b[1;33m(\u001b[0m\u001b[0mtrial\u001b[0m\u001b[1;33m)\u001b[0m\u001b[1;33m\u001b[0m\u001b[1;33m\u001b[0m\u001b[0m\n\u001b[0m\u001b[0;32m    197\u001b[0m         \u001b[1;32mexcept\u001b[0m \u001b[0mexceptions\u001b[0m\u001b[1;33m.\u001b[0m\u001b[0mTrialPruned\u001b[0m \u001b[1;32mas\u001b[0m \u001b[0me\u001b[0m\u001b[1;33m:\u001b[0m\u001b[1;33m\u001b[0m\u001b[1;33m\u001b[0m\u001b[0m\n\u001b[0;32m    198\u001b[0m             \u001b[1;31m# TODO(mamu): Handle multi-objective cases.\u001b[0m\u001b[1;33m\u001b[0m\u001b[1;33m\u001b[0m\u001b[1;33m\u001b[0m\u001b[0m\n",
      "\u001b[1;32m<ipython-input-41-1c6539846d38>\u001b[0m in \u001b[0;36mcv_es_lgb_objective\u001b[1;34m(trial)\u001b[0m\n\u001b[0;32m     58\u001b[0m \u001b[1;33m\u001b[0m\u001b[0m\n\u001b[0;32m     59\u001b[0m         \u001b[1;31m#Entreno el modelo\u001b[0m\u001b[1;33m\u001b[0m\u001b[1;33m\u001b[0m\u001b[1;33m\u001b[0m\u001b[0m\n\u001b[1;32m---> 60\u001b[1;33m         lgb_model = lgb.train(lgb_params,\n\u001b[0m\u001b[0;32m     61\u001b[0m                                 \u001b[0mlgb_if_dataset\u001b[0m\u001b[1;33m,\u001b[0m\u001b[1;33m\u001b[0m\u001b[1;33m\u001b[0m\u001b[0m\n\u001b[0;32m     62\u001b[0m                                 \u001b[0mvalid_sets\u001b[0m\u001b[1;33m=\u001b[0m\u001b[0mlgb_oof_dataset\u001b[0m\u001b[1;33m,\u001b[0m\u001b[1;33m\u001b[0m\u001b[1;33m\u001b[0m\u001b[0m\n",
      "\u001b[1;32mc:\\Users\\s1093678\\Anaconda3\\lib\\site-packages\\lightgbm\\engine.py\u001b[0m in \u001b[0;36mtrain\u001b[1;34m(params, train_set, num_boost_round, valid_sets, valid_names, feval, init_model, feature_name, categorical_feature, keep_training_booster, callbacks)\u001b[0m\n\u001b[0;32m    312\u001b[0m             \u001b[1;32mif\u001b[0m \u001b[0mis_valid_contain_train\u001b[0m\u001b[1;33m:\u001b[0m\u001b[1;33m\u001b[0m\u001b[1;33m\u001b[0m\u001b[0m\n\u001b[0;32m    313\u001b[0m                 \u001b[0mevaluation_result_list\u001b[0m\u001b[1;33m.\u001b[0m\u001b[0mextend\u001b[0m\u001b[1;33m(\u001b[0m\u001b[0mbooster\u001b[0m\u001b[1;33m.\u001b[0m\u001b[0meval_train\u001b[0m\u001b[1;33m(\u001b[0m\u001b[0mfeval\u001b[0m\u001b[1;33m)\u001b[0m\u001b[1;33m)\u001b[0m\u001b[1;33m\u001b[0m\u001b[1;33m\u001b[0m\u001b[0m\n\u001b[1;32m--> 314\u001b[1;33m             \u001b[0mevaluation_result_list\u001b[0m\u001b[1;33m.\u001b[0m\u001b[0mextend\u001b[0m\u001b[1;33m(\u001b[0m\u001b[0mbooster\u001b[0m\u001b[1;33m.\u001b[0m\u001b[0meval_valid\u001b[0m\u001b[1;33m(\u001b[0m\u001b[0mfeval\u001b[0m\u001b[1;33m)\u001b[0m\u001b[1;33m)\u001b[0m\u001b[1;33m\u001b[0m\u001b[1;33m\u001b[0m\u001b[0m\n\u001b[0m\u001b[0;32m    315\u001b[0m         \u001b[1;32mtry\u001b[0m\u001b[1;33m:\u001b[0m\u001b[1;33m\u001b[0m\u001b[1;33m\u001b[0m\u001b[0m\n\u001b[0;32m    316\u001b[0m             \u001b[1;32mfor\u001b[0m \u001b[0mcb\u001b[0m \u001b[1;32min\u001b[0m \u001b[0mcallbacks_after_iter\u001b[0m\u001b[1;33m:\u001b[0m\u001b[1;33m\u001b[0m\u001b[1;33m\u001b[0m\u001b[0m\n",
      "\u001b[1;32mc:\\Users\\s1093678\\Anaconda3\\lib\\site-packages\\lightgbm\\basic.py\u001b[0m in \u001b[0;36meval_valid\u001b[1;34m(self, feval)\u001b[0m\n\u001b[0;32m   4421\u001b[0m             \u001b[0mList\u001b[0m \u001b[1;32mwith\u001b[0m \u001b[1;33m(\u001b[0m\u001b[0mvalidation_dataset_name\u001b[0m\u001b[1;33m,\u001b[0m \u001b[0meval_name\u001b[0m\u001b[1;33m,\u001b[0m \u001b[0meval_result\u001b[0m\u001b[1;33m,\u001b[0m \u001b[0mis_higher_better\u001b[0m\u001b[1;33m)\u001b[0m \u001b[0mtuples\u001b[0m\u001b[1;33m.\u001b[0m\u001b[1;33m\u001b[0m\u001b[1;33m\u001b[0m\u001b[0m\n\u001b[0;32m   4422\u001b[0m         \"\"\"\n\u001b[1;32m-> 4423\u001b[1;33m         return [\n\u001b[0m\u001b[0;32m   4424\u001b[0m             \u001b[0mitem\u001b[0m\u001b[1;33m\u001b[0m\u001b[1;33m\u001b[0m\u001b[0m\n\u001b[0;32m   4425\u001b[0m             \u001b[1;32mfor\u001b[0m \u001b[0mi\u001b[0m \u001b[1;32min\u001b[0m \u001b[0mrange\u001b[0m\u001b[1;33m(\u001b[0m\u001b[1;36m1\u001b[0m\u001b[1;33m,\u001b[0m \u001b[0mself\u001b[0m\u001b[1;33m.\u001b[0m\u001b[0m__num_dataset\u001b[0m\u001b[1;33m)\u001b[0m\u001b[1;33m\u001b[0m\u001b[1;33m\u001b[0m\u001b[0m\n",
      "\u001b[1;32mc:\\Users\\s1093678\\Anaconda3\\lib\\site-packages\\lightgbm\\basic.py\u001b[0m in \u001b[0;36m<listcomp>\u001b[1;34m(.0)\u001b[0m\n\u001b[0;32m   4424\u001b[0m             \u001b[0mitem\u001b[0m\u001b[1;33m\u001b[0m\u001b[1;33m\u001b[0m\u001b[0m\n\u001b[0;32m   4425\u001b[0m             \u001b[1;32mfor\u001b[0m \u001b[0mi\u001b[0m \u001b[1;32min\u001b[0m \u001b[0mrange\u001b[0m\u001b[1;33m(\u001b[0m\u001b[1;36m1\u001b[0m\u001b[1;33m,\u001b[0m \u001b[0mself\u001b[0m\u001b[1;33m.\u001b[0m\u001b[0m__num_dataset\u001b[0m\u001b[1;33m)\u001b[0m\u001b[1;33m\u001b[0m\u001b[1;33m\u001b[0m\u001b[0m\n\u001b[1;32m-> 4426\u001b[1;33m             \u001b[1;32mfor\u001b[0m \u001b[0mitem\u001b[0m \u001b[1;32min\u001b[0m \u001b[0mself\u001b[0m\u001b[1;33m.\u001b[0m\u001b[0m__inner_eval\u001b[0m\u001b[1;33m(\u001b[0m\u001b[0mself\u001b[0m\u001b[1;33m.\u001b[0m\u001b[0mname_valid_sets\u001b[0m\u001b[1;33m[\u001b[0m\u001b[0mi\u001b[0m \u001b[1;33m-\u001b[0m \u001b[1;36m1\u001b[0m\u001b[1;33m]\u001b[0m\u001b[1;33m,\u001b[0m \u001b[0mi\u001b[0m\u001b[1;33m,\u001b[0m \u001b[0mfeval\u001b[0m\u001b[1;33m)\u001b[0m\u001b[1;33m\u001b[0m\u001b[1;33m\u001b[0m\u001b[0m\n\u001b[0m\u001b[0;32m   4427\u001b[0m         ]\n\u001b[0;32m   4428\u001b[0m \u001b[1;33m\u001b[0m\u001b[0m\n",
      "\u001b[1;32mc:\\Users\\s1093678\\Anaconda3\\lib\\site-packages\\lightgbm\\basic.py\u001b[0m in \u001b[0;36m__inner_eval\u001b[1;34m(self, data_name, data_idx, feval)\u001b[0m\n\u001b[0;32m   5185\u001b[0m                 \u001b[1;32mif\u001b[0m \u001b[0meval_function\u001b[0m \u001b[1;32mis\u001b[0m \u001b[1;32mNone\u001b[0m\u001b[1;33m:\u001b[0m\u001b[1;33m\u001b[0m\u001b[1;33m\u001b[0m\u001b[0m\n\u001b[0;32m   5186\u001b[0m                     \u001b[1;32mcontinue\u001b[0m\u001b[1;33m\u001b[0m\u001b[1;33m\u001b[0m\u001b[0m\n\u001b[1;32m-> 5187\u001b[1;33m                 \u001b[0mfeval_ret\u001b[0m \u001b[1;33m=\u001b[0m \u001b[0meval_function\u001b[0m\u001b[1;33m(\u001b[0m\u001b[0mself\u001b[0m\u001b[1;33m.\u001b[0m\u001b[0m__inner_predict\u001b[0m\u001b[1;33m(\u001b[0m\u001b[0mdata_idx\u001b[0m\u001b[1;33m)\u001b[0m\u001b[1;33m,\u001b[0m \u001b[0mcur_data\u001b[0m\u001b[1;33m)\u001b[0m\u001b[1;33m\u001b[0m\u001b[1;33m\u001b[0m\u001b[0m\n\u001b[0m\u001b[0;32m   5188\u001b[0m                 \u001b[1;32mif\u001b[0m \u001b[0misinstance\u001b[0m\u001b[1;33m(\u001b[0m\u001b[0mfeval_ret\u001b[0m\u001b[1;33m,\u001b[0m \u001b[0mlist\u001b[0m\u001b[1;33m)\u001b[0m\u001b[1;33m:\u001b[0m\u001b[1;33m\u001b[0m\u001b[1;33m\u001b[0m\u001b[0m\n\u001b[0;32m   5189\u001b[0m                     \u001b[1;32mfor\u001b[0m \u001b[0meval_name\u001b[0m\u001b[1;33m,\u001b[0m \u001b[0mval\u001b[0m\u001b[1;33m,\u001b[0m \u001b[0mis_higher_better\u001b[0m \u001b[1;32min\u001b[0m \u001b[0mfeval_ret\u001b[0m\u001b[1;33m:\u001b[0m\u001b[1;33m\u001b[0m\u001b[1;33m\u001b[0m\u001b[0m\n",
      "\u001b[1;32m<ipython-input-41-1c6539846d38>\u001b[0m in \u001b[0;36mlgb_custom_metric_kappa\u001b[1;34m(dy_pred, dy_true)\u001b[0m\n\u001b[0;32m      2\u001b[0m \u001b[1;32mdef\u001b[0m \u001b[0mlgb_custom_metric_kappa\u001b[0m\u001b[1;33m(\u001b[0m\u001b[0mdy_pred\u001b[0m\u001b[1;33m,\u001b[0m \u001b[0mdy_true\u001b[0m\u001b[1;33m)\u001b[0m\u001b[1;33m:\u001b[0m\u001b[1;33m\u001b[0m\u001b[1;33m\u001b[0m\u001b[0m\n\u001b[0;32m      3\u001b[0m     \u001b[0mmetric_name\u001b[0m \u001b[1;33m=\u001b[0m \u001b[1;34m'kappa'\u001b[0m\u001b[1;33m\u001b[0m\u001b[1;33m\u001b[0m\u001b[0m\n\u001b[1;32m----> 4\u001b[1;33m     \u001b[0mvalue\u001b[0m \u001b[1;33m=\u001b[0m \u001b[0mcohen_kappa_score\u001b[0m\u001b[1;33m(\u001b[0m\u001b[0mdy_true\u001b[0m\u001b[1;33m.\u001b[0m\u001b[0mget_label\u001b[0m\u001b[1;33m(\u001b[0m\u001b[1;33m)\u001b[0m\u001b[1;33m,\u001b[0m\u001b[0mdy_pred\u001b[0m\u001b[1;33m.\u001b[0m\u001b[0margmax\u001b[0m\u001b[1;33m(\u001b[0m\u001b[0maxis\u001b[0m\u001b[1;33m=\u001b[0m\u001b[1;36m1\u001b[0m\u001b[1;33m)\u001b[0m\u001b[1;33m,\u001b[0m\u001b[0mweights\u001b[0m \u001b[1;33m=\u001b[0m \u001b[1;34m'quadratic'\u001b[0m\u001b[1;33m)\u001b[0m\u001b[1;33m\u001b[0m\u001b[1;33m\u001b[0m\u001b[0m\n\u001b[0m\u001b[0;32m      5\u001b[0m     \u001b[0mis_higher_better\u001b[0m \u001b[1;33m=\u001b[0m \u001b[1;32mTrue\u001b[0m\u001b[1;33m\u001b[0m\u001b[1;33m\u001b[0m\u001b[0m\n\u001b[0;32m      6\u001b[0m     \u001b[1;32mreturn\u001b[0m\u001b[1;33m(\u001b[0m\u001b[0mmetric_name\u001b[0m\u001b[1;33m,\u001b[0m \u001b[0mvalue\u001b[0m\u001b[1;33m,\u001b[0m \u001b[0mis_higher_better\u001b[0m\u001b[1;33m)\u001b[0m\u001b[1;33m\u001b[0m\u001b[1;33m\u001b[0m\u001b[0m\n",
      "\u001b[1;32mc:\\Users\\s1093678\\Anaconda3\\lib\\site-packages\\sklearn\\utils\\validation.py\u001b[0m in \u001b[0;36minner_f\u001b[1;34m(*args, **kwargs)\u001b[0m\n\u001b[0;32m     61\u001b[0m             \u001b[0mextra_args\u001b[0m \u001b[1;33m=\u001b[0m \u001b[0mlen\u001b[0m\u001b[1;33m(\u001b[0m\u001b[0margs\u001b[0m\u001b[1;33m)\u001b[0m \u001b[1;33m-\u001b[0m \u001b[0mlen\u001b[0m\u001b[1;33m(\u001b[0m\u001b[0mall_args\u001b[0m\u001b[1;33m)\u001b[0m\u001b[1;33m\u001b[0m\u001b[1;33m\u001b[0m\u001b[0m\n\u001b[0;32m     62\u001b[0m             \u001b[1;32mif\u001b[0m \u001b[0mextra_args\u001b[0m \u001b[1;33m<=\u001b[0m \u001b[1;36m0\u001b[0m\u001b[1;33m:\u001b[0m\u001b[1;33m\u001b[0m\u001b[1;33m\u001b[0m\u001b[0m\n\u001b[1;32m---> 63\u001b[1;33m                 \u001b[1;32mreturn\u001b[0m \u001b[0mf\u001b[0m\u001b[1;33m(\u001b[0m\u001b[1;33m*\u001b[0m\u001b[0margs\u001b[0m\u001b[1;33m,\u001b[0m \u001b[1;33m**\u001b[0m\u001b[0mkwargs\u001b[0m\u001b[1;33m)\u001b[0m\u001b[1;33m\u001b[0m\u001b[1;33m\u001b[0m\u001b[0m\n\u001b[0m\u001b[0;32m     64\u001b[0m \u001b[1;33m\u001b[0m\u001b[0m\n\u001b[0;32m     65\u001b[0m             \u001b[1;31m# extra_args > 0\u001b[0m\u001b[1;33m\u001b[0m\u001b[1;33m\u001b[0m\u001b[1;33m\u001b[0m\u001b[0m\n",
      "\u001b[1;32mc:\\Users\\s1093678\\Anaconda3\\lib\\site-packages\\sklearn\\metrics\\_classification.py\u001b[0m in \u001b[0;36mcohen_kappa_score\u001b[1;34m(y1, y2, labels, weights, sample_weight)\u001b[0m\n\u001b[0;32m    616\u001b[0m             \u001b[1;33m<\u001b[0m\u001b[0mhttps\u001b[0m\u001b[1;33m:\u001b[0m\u001b[1;33m//\u001b[0m\u001b[0men\u001b[0m\u001b[1;33m.\u001b[0m\u001b[0mwikipedia\u001b[0m\u001b[1;33m.\u001b[0m\u001b[0morg\u001b[0m\u001b[1;33m/\u001b[0m\u001b[0mwiki\u001b[0m\u001b[1;33m/\u001b[0m\u001b[0mCohen\u001b[0m\u001b[1;33m%\u001b[0m\u001b[1;36m27\u001b[0m\u001b[0ms_kappa\u001b[0m\u001b[1;33m>\u001b[0m\u001b[0;31m`\u001b[0m\u001b[0m_\u001b[0m\u001b[1;33m.\u001b[0m\u001b[1;33m\u001b[0m\u001b[1;33m\u001b[0m\u001b[0m\n\u001b[0;32m    617\u001b[0m     \"\"\"\n\u001b[1;32m--> 618\u001b[1;33m     confusion = confusion_matrix(y1, y2, labels=labels,\n\u001b[0m\u001b[0;32m    619\u001b[0m                                  sample_weight=sample_weight)\n\u001b[0;32m    620\u001b[0m     \u001b[0mn_classes\u001b[0m \u001b[1;33m=\u001b[0m \u001b[0mconfusion\u001b[0m\u001b[1;33m.\u001b[0m\u001b[0mshape\u001b[0m\u001b[1;33m[\u001b[0m\u001b[1;36m0\u001b[0m\u001b[1;33m]\u001b[0m\u001b[1;33m\u001b[0m\u001b[1;33m\u001b[0m\u001b[0m\n",
      "\u001b[1;32mc:\\Users\\s1093678\\Anaconda3\\lib\\site-packages\\sklearn\\utils\\validation.py\u001b[0m in \u001b[0;36minner_f\u001b[1;34m(*args, **kwargs)\u001b[0m\n\u001b[0;32m     61\u001b[0m             \u001b[0mextra_args\u001b[0m \u001b[1;33m=\u001b[0m \u001b[0mlen\u001b[0m\u001b[1;33m(\u001b[0m\u001b[0margs\u001b[0m\u001b[1;33m)\u001b[0m \u001b[1;33m-\u001b[0m \u001b[0mlen\u001b[0m\u001b[1;33m(\u001b[0m\u001b[0mall_args\u001b[0m\u001b[1;33m)\u001b[0m\u001b[1;33m\u001b[0m\u001b[1;33m\u001b[0m\u001b[0m\n\u001b[0;32m     62\u001b[0m             \u001b[1;32mif\u001b[0m \u001b[0mextra_args\u001b[0m \u001b[1;33m<=\u001b[0m \u001b[1;36m0\u001b[0m\u001b[1;33m:\u001b[0m\u001b[1;33m\u001b[0m\u001b[1;33m\u001b[0m\u001b[0m\n\u001b[1;32m---> 63\u001b[1;33m                 \u001b[1;32mreturn\u001b[0m \u001b[0mf\u001b[0m\u001b[1;33m(\u001b[0m\u001b[1;33m*\u001b[0m\u001b[0margs\u001b[0m\u001b[1;33m,\u001b[0m \u001b[1;33m**\u001b[0m\u001b[0mkwargs\u001b[0m\u001b[1;33m)\u001b[0m\u001b[1;33m\u001b[0m\u001b[1;33m\u001b[0m\u001b[0m\n\u001b[0m\u001b[0;32m     64\u001b[0m \u001b[1;33m\u001b[0m\u001b[0m\n\u001b[0;32m     65\u001b[0m             \u001b[1;31m# extra_args > 0\u001b[0m\u001b[1;33m\u001b[0m\u001b[1;33m\u001b[0m\u001b[1;33m\u001b[0m\u001b[0m\n",
      "\u001b[1;32mc:\\Users\\s1093678\\Anaconda3\\lib\\site-packages\\sklearn\\metrics\\_classification.py\u001b[0m in \u001b[0;36mconfusion_matrix\u001b[1;34m(y_true, y_pred, labels, sample_weight, normalize)\u001b[0m\n\u001b[0;32m    328\u001b[0m \u001b[1;33m\u001b[0m\u001b[0m\n\u001b[0;32m    329\u001b[0m     \u001b[1;31m# intersect y_pred, y_true with labels, eliminate items not in labels\u001b[0m\u001b[1;33m\u001b[0m\u001b[1;33m\u001b[0m\u001b[1;33m\u001b[0m\u001b[0m\n\u001b[1;32m--> 330\u001b[1;33m     \u001b[0mind\u001b[0m \u001b[1;33m=\u001b[0m \u001b[0mnp\u001b[0m\u001b[1;33m.\u001b[0m\u001b[0mlogical_and\u001b[0m\u001b[1;33m(\u001b[0m\u001b[0my_pred\u001b[0m \u001b[1;33m<\u001b[0m \u001b[0mn_labels\u001b[0m\u001b[1;33m,\u001b[0m \u001b[0my_true\u001b[0m \u001b[1;33m<\u001b[0m \u001b[0mn_labels\u001b[0m\u001b[1;33m)\u001b[0m\u001b[1;33m\u001b[0m\u001b[1;33m\u001b[0m\u001b[0m\n\u001b[0m\u001b[0;32m    331\u001b[0m     \u001b[0my_pred\u001b[0m \u001b[1;33m=\u001b[0m \u001b[0my_pred\u001b[0m\u001b[1;33m[\u001b[0m\u001b[0mind\u001b[0m\u001b[1;33m]\u001b[0m\u001b[1;33m\u001b[0m\u001b[1;33m\u001b[0m\u001b[0m\n\u001b[0;32m    332\u001b[0m     \u001b[0my_true\u001b[0m \u001b[1;33m=\u001b[0m \u001b[0my_true\u001b[0m\u001b[1;33m[\u001b[0m\u001b[0mind\u001b[0m\u001b[1;33m]\u001b[0m\u001b[1;33m\u001b[0m\u001b[1;33m\u001b[0m\u001b[0m\n",
      "\u001b[1;31mKeyboardInterrupt\u001b[0m: "
     ]
    }
   ],
   "source": [
    "#Inicio el store de artefactos (archivos) de optuna\n",
    "artifact_store = FileSystemArtifactStore(base_path=PATH_TO_OPTUNA_ARTIFACTS)\n",
    "\n",
    "#Genero estudio\n",
    "study = optuna.create_study(direction='maximize',\n",
    "                            storage=\"sqlite:///../work/db.sqlite3\",  # Specify the storage URL here.\n",
    "                            study_name=\"04 - LGB Multiclass - FE v3\", #nombre del experimento\n",
    "                            load_if_exists = True)\n",
    "#Corro la optimizacion\n",
    "study.optimize(cv_es_lgb_objective, n_trials=100)"
   ]
  }
 ],
 "metadata": {
  "kernelspec": {
   "display_name": "ldi2_cuda",
   "language": "python",
   "name": "python3"
  },
  "language_info": {
   "codemirror_mode": {
    "name": "ipython",
    "version": 3
   },
   "file_extension": ".py",
   "mimetype": "text/x-python",
   "name": "python",
   "nbconvert_exporter": "python",
   "pygments_lexer": "ipython3",
   "version": "3.12.5"
  }
 },
 "nbformat": 4,
 "nbformat_minor": 2
}
