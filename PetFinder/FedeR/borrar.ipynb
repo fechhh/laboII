{
 "cells": [
  {
   "cell_type": "markdown",
   "metadata": {},
   "source": [
    "## Modelo datos estructurados\n",
    "Este notebook desarrolla un primer modelo para resolver el problema de Petfinder. Empezamos haciendo un modelo inicial muy simple para ver la viabilidad de resolver el problema. Luego analizamos como se comporta la métrica kappa propuesta y vemos la matriz de confusión. Finalmente hacemos una optimizacin de hiperparametros evaluando con train/test y otra validando con 5 fold CV y testeando en el 20% de los datos"
   ]
  },
  {
   "cell_type": "code",
   "execution_count": 3,
   "metadata": {},
   "outputs": [],
   "source": [
    "#Import de librerias basicas tablas y matrices\n",
    "import numpy as np \n",
    "import pandas as pd \n",
    "\n",
    "#Gradient Boosting\n",
    "import lightgbm as lgb\n",
    "\n",
    "#Funciones auxiliares sklearn\n",
    "from sklearn.model_selection import train_test_split, StratifiedKFold #Split y cross Validation\n",
    "from sklearn.metrics import cohen_kappa_score, accuracy_score, balanced_accuracy_score #Metricas\n",
    "# from sklearn.utils import shuffle \n",
    "\n",
    "#Visualizacióon\n",
    "from plotly import express as px\n",
    "\n",
    "#Plot de matriz de confusion normalizada en actuals\n",
    "from utils import plot_confusion_matrix\n",
    "\n",
    "import os\n",
    "\n",
    "#Optimizacion de hiperparametros\n",
    "import optuna\n",
    "from optuna.artifacts import FileSystemArtifactStore, upload_artifact\n",
    "\n",
    "#Guardado de objetos en archivos joblib\n",
    "from joblib import load, dump\n"
   ]
  },
  {
   "cell_type": "code",
   "execution_count": 2,
   "metadata": {},
   "outputs": [],
   "source": [
    "#PONER LA ESTRUCUTRA DE CARPETAS COMO SE VE AQUI ABAJO !!!"
   ]
  },
  {
   "cell_type": "code",
   "execution_count": 4,
   "metadata": {},
   "outputs": [],
   "source": [
    "# Paths para acceso archivos\n",
    "#Este notebook asume la siguiente estructura de carpetas a partir de la ubicacion de base_dir \n",
    "#(dos niveles arriba de la carpeta donde se ejecuta el notebook). \n",
    "# /UA_MDM_LDI_II/\n",
    "# /UA_MDM_LDI_II/input\n",
    "# /UA_MDM_LDI_II/input/petfinder-adoption-prediction/            <- Aca deben ir todos los archivos de datos de la competencia \n",
    "# /UA_MDM_LDI_II/tutoriales/                       <- Aca deben poner los notebooks y scripts que les compartimos\n",
    "# /UA_MDM_LDI_II/work/                             <- Resultados de notebooks iran dentro de esta carpeta en subcarpetas\n",
    "# /UA_MDM_LDI_II/work/models/                     <- Modelos entrenados en archivos joblibs\n",
    "# /UA_MDM_LDI_II/work/optuna_temp_artifacts/      <- Archivos que queremos dejar como artefacto de un trial de optuna (optuna los copiara a la carpeta de abajo)\n",
    "# /UA_MDM_LDI_II/work/optuna_artifacts/           <- Archivos con artefactos que sibimos a optuna\n",
    "\n",
    "#Subimos dos niveles para quedar en la carpeta que contiene input y UA_MDM_LDI_II\n",
    "BASE_DIR = ''\n",
    "\n",
    "#Datos de entrenamiento \n",
    "PATH_TO_TRAIN = os.path.join(BASE_DIR, \"input/petfinder-adoption-prediction/train/train.csv\")\n",
    "\n",
    "#Salida de modelos entrenados\n",
    "PATH_TO_MODELS = os.path.join(BASE_DIR, \"work/models\")\n",
    "\n",
    "#Artefactos a subir a optuna\n",
    "PATH_TO_TEMP_FILES = os.path.join(BASE_DIR, \"work/optuna_temp_artifacts\")\n",
    "\n",
    "#Artefactos que optuna gestiona\n",
    "PATH_TO_OPTUNA_ARTIFACTS = os.path.join(BASE_DIR, \"work/optuna_artifacts\")\n",
    "\n",
    "\n",
    "SEED = 42 #Semilla de procesos aleatorios (para poder replicar exactamente al volver a correr un modelo)\n",
    "TEST_SIZE = 0.2 #Facción para train/test= split \n",
    "\n",
    "#PONER CUALQUIER SEMILLLA Y 20% DEL DATASTE USAMOS"
   ]
  },
  {
   "cell_type": "code",
   "execution_count": 4,
   "metadata": {},
   "outputs": [],
   "source": [
    "#NUESTRO TODO ES TRAIN ... ENTONCES EN BASE A ESE DATASET HACEMOS TRAIN Y TEST"
   ]
  },
  {
   "cell_type": "code",
   "execution_count": 5,
   "metadata": {},
   "outputs": [],
   "source": [
    "# Datos Tabulares\n",
    "dataset = pd.read_csv(PATH_TO_TRAIN)"
   ]
  },
  {
   "cell_type": "code",
   "execution_count": 6,
   "metadata": {},
   "outputs": [
    {
     "data": {
      "text/plain": [
       "Index(['Type', 'Name', 'Age', 'Breed1', 'Breed2', 'Gender', 'Color1', 'Color2',\n",
       "       'Color3', 'MaturitySize', 'FurLength', 'Vaccinated', 'Dewormed',\n",
       "       'Sterilized', 'Health', 'Quantity', 'Fee', 'State', 'RescuerID',\n",
       "       'VideoAmt', 'Description', 'PetID', 'PhotoAmt', 'AdoptionSpeed'],\n",
       "      dtype='object')"
      ]
     },
     "execution_count": 6,
     "metadata": {},
     "output_type": "execute_result"
    }
   ],
   "source": [
    "#Columnas del dataset\n",
    "dataset.columns"
   ]
  },
  {
   "cell_type": "code",
   "execution_count": 6,
   "metadata": {},
   "outputs": [],
   "source": [
    "\n",
    "#Separo un 20% para test estratificado opr target\n",
    "#PERO MANTENEMOS LA PROPORCION\n",
    "train, test = train_test_split(dataset,\n",
    "                               test_size = TEST_SIZE,\n",
    "                               random_state = SEED,\n",
    "                               stratify = dataset.AdoptionSpeed)"
   ]
  },
  {
   "cell_type": "code",
   "execution_count": 7,
   "metadata": {},
   "outputs": [],
   "source": [
    "#Armo listas con features de texto y numericas\n",
    "char_feats = [f for f in dataset.columns if dataset[f].dtype=='O']\n",
    "numeric_feats = [f for f in dataset.columns if dataset[f].dtype!='O']"
   ]
  },
  {
   "cell_type": "code",
   "execution_count": 8,
   "metadata": {},
   "outputs": [
    {
     "data": {
      "text/plain": [
       "['Type',\n",
       " 'Age',\n",
       " 'Breed1',\n",
       " 'Breed2',\n",
       " 'Gender',\n",
       " 'Color1',\n",
       " 'Color2',\n",
       " 'Color3',\n",
       " 'MaturitySize',\n",
       " 'FurLength',\n",
       " 'Vaccinated',\n",
       " 'Dewormed',\n",
       " 'Sterilized',\n",
       " 'Health',\n",
       " 'Quantity',\n",
       " 'Fee',\n",
       " 'State',\n",
       " 'VideoAmt',\n",
       " 'PhotoAmt',\n",
       " 'AdoptionSpeed']"
      ]
     },
     "execution_count": 8,
     "metadata": {},
     "output_type": "execute_result"
    }
   ],
   "source": [
    "#Lista de features numericas\n",
    "#ESTE EJEMPLO SE HACE SOLO CON VARIABLES NUMERICAS\n",
    "numeric_feats"
   ]
  },
  {
   "cell_type": "code",
   "execution_count": 9,
   "metadata": {},
   "outputs": [],
   "source": [
    "\n",
    "#Defino features a usar en un primer modelo de prueba\n",
    "features = ['Type',\n",
    " 'Age',\n",
    " 'Breed1',\n",
    " 'Breed2',\n",
    " 'Gender',\n",
    " 'Color1',\n",
    " 'Color2',\n",
    " 'Color3',\n",
    " 'MaturitySize',\n",
    " 'FurLength',\n",
    " 'Vaccinated',\n",
    " 'Dewormed',\n",
    " 'Sterilized',\n",
    " 'Health',\n",
    " 'Quantity',\n",
    " 'Fee',\n",
    " 'State',\n",
    " 'VideoAmt',\n",
    " 'PhotoAmt']\n",
    "\n",
    "label = 'AdoptionSpeed'"
   ]
  },
  {
   "cell_type": "code",
   "execution_count": 10,
   "metadata": {},
   "outputs": [],
   "source": [
    "#Genero dataframes de train y test con sus respectivos targets\n",
    "X_train = train[features]\n",
    "y_train = train[label]\n",
    "\n",
    "X_test = test[features]\n",
    "y_test = test[label]"
   ]
  },
  {
   "cell_type": "code",
   "execution_count": 12,
   "metadata": {},
   "outputs": [
    {
     "name": "stdout",
     "output_type": "stream",
     "text": [
      "[LightGBM] [Info] Auto-choosing row-wise multi-threading, the overhead of testing was 0.003147 seconds.\n",
      "You can set `force_row_wise=true` to remove the overhead.\n",
      "And if memory is not enough, you can set `force_col_wise=true`.\n",
      "[LightGBM] [Info] Total Bins 438\n",
      "[LightGBM] [Info] Number of data points in the train set: 11994, number of used features: 19\n",
      "[LightGBM] [Info] Start training from score -3.599148\n",
      "[LightGBM] [Info] Start training from score -1.579379\n",
      "[LightGBM] [Info] Start training from score -1.311924\n",
      "[LightGBM] [Info] Start training from score -1.526206\n",
      "[LightGBM] [Info] Start training from score -1.273359\n"
     ]
    }
   ],
   "source": [
    "#Entreno un modelo inicial sin modificar hiperparametros. Solamente especifico el numero de clases y el tipo de modelo como clasificacoión\n",
    "#HACEMOS LGBM POR DEFECTO COMO VIENE\n",
    "lgb_params = params = {\n",
    "                        'objective': 'multiclass',#EL PROBLEMA ES UNA MULTICPLASE \n",
    "                        'num_class': len(y_train.unique())\n",
    "                        }\n",
    "\n",
    "\n",
    "#genero el objeto Dataset que debo pasarle a lightgbm para que entrene\n",
    "lgb_train_dataset = lgb.Dataset(data=X_train,\n",
    "                                label=y_train)\n",
    "\n",
    "#entreno el modelo con los parametros por defecto\n",
    "lgb_model = lgb.train(lgb_params,\n",
    "                      lgb_train_dataset)"
   ]
  },
  {
   "cell_type": "code",
   "execution_count": 13,
   "metadata": {},
   "outputs": [
    {
     "data": {
      "text/plain": [
       "0.31327315052086113"
      ]
     },
     "execution_count": 13,
     "metadata": {},
     "output_type": "execute_result"
    }
   ],
   "source": [
    "#Obtengo las predicciones sobre el set de test. El modelo me da una lista de probabilidades para cada clase y tomo la clase con mayor probabilidad con la funcion argmax\n",
    "y_pred = lgb_model.predict(X_test).argmax(axis=1)#CON ARGMAX OBTENGO LA PREDICCION MAS GRANDE DE LAS CATEGORIAS OSEA LA GANADORA\n",
    "\n",
    "#Calculo el Kappa\n",
    "cohen_kappa_score(y_test,y_pred, weights = 'quadratic')\n",
    "#MI MODELO DA UN 0.31 DE SCORE \n",
    "#RECORDAR QUE AL SER UN MULTICLASE EL PREDICT ME TRAE 5 COLUMNAS ( PROBABILIDAD DEL MODELO A CADA UNA DE LAS CLASES )\n",
    "\n",
    "\n"
   ]
  },
  {
   "cell_type": "code",
   "execution_count": 14,
   "metadata": {},
   "outputs": [
    {
     "data": {
      "application/vnd.plotly.v1+json": {
       "config": {
        "plotlyServerURL": "https://plot.ly"
       },
       "data": [
        {
         "type": "heatmap",
         "x": [
          0,
          1,
          2,
          3,
          4
         ],
         "y": [
          0,
          1,
          2,
          3,
          4
         ],
         "z": [
          [
           6.097560975609756,
           39.02439024390244,
           26.82926829268293,
           10.975609756097562,
           17.073170731707318
          ],
          [
           0.3236245954692557,
           35.11326860841424,
           36.084142394822,
           7.605177993527508,
           20.87378640776699
          ],
          [
           0,
           24.411400247831473,
           36.926889714993806,
           11.400247831474598,
           27.261462205700127
          ],
          [
           0,
           17.94478527607362,
           34.20245398773007,
           18.55828220858896,
           29.29447852760736
          ],
          [
           0.4761904761904762,
           11.666666666666666,
           21.071428571428573,
           7.261904761904763,
           59.523809523809526
          ]
         ]
        }
       ],
       "layout": {
        "annotations": [
         {
          "font": {
           "color": "white"
          },
          "showarrow": false,
          "text": "6.1 - 5",
          "x": 0,
          "xref": "x",
          "y": 0,
          "yref": "y"
         },
         {
          "font": {
           "color": "white"
          },
          "showarrow": false,
          "text": "39.0 - 32",
          "x": 1,
          "xref": "x",
          "y": 0,
          "yref": "y"
         },
         {
          "font": {
           "color": "white"
          },
          "showarrow": false,
          "text": "26.8 - 22",
          "x": 2,
          "xref": "x",
          "y": 0,
          "yref": "y"
         },
         {
          "font": {
           "color": "white"
          },
          "showarrow": false,
          "text": "11.0 - 9",
          "x": 3,
          "xref": "x",
          "y": 0,
          "yref": "y"
         },
         {
          "font": {
           "color": "white"
          },
          "showarrow": false,
          "text": "17.1 - 14",
          "x": 4,
          "xref": "x",
          "y": 0,
          "yref": "y"
         },
         {
          "font": {
           "color": "white"
          },
          "showarrow": false,
          "text": "0.3 - 2",
          "x": 0,
          "xref": "x",
          "y": 1,
          "yref": "y"
         },
         {
          "font": {
           "color": "white"
          },
          "showarrow": false,
          "text": "35.1 - 217",
          "x": 1,
          "xref": "x",
          "y": 1,
          "yref": "y"
         },
         {
          "font": {
           "color": "white"
          },
          "showarrow": false,
          "text": "36.1 - 223",
          "x": 2,
          "xref": "x",
          "y": 1,
          "yref": "y"
         },
         {
          "font": {
           "color": "white"
          },
          "showarrow": false,
          "text": "7.6 - 47",
          "x": 3,
          "xref": "x",
          "y": 1,
          "yref": "y"
         },
         {
          "font": {
           "color": "white"
          },
          "showarrow": false,
          "text": "20.9 - 129",
          "x": 4,
          "xref": "x",
          "y": 1,
          "yref": "y"
         },
         {
          "font": {
           "color": "white"
          },
          "showarrow": false,
          "text": "0.0 - 0",
          "x": 0,
          "xref": "x",
          "y": 2,
          "yref": "y"
         },
         {
          "font": {
           "color": "white"
          },
          "showarrow": false,
          "text": "24.4 - 197",
          "x": 1,
          "xref": "x",
          "y": 2,
          "yref": "y"
         },
         {
          "font": {
           "color": "white"
          },
          "showarrow": false,
          "text": "36.9 - 298",
          "x": 2,
          "xref": "x",
          "y": 2,
          "yref": "y"
         },
         {
          "font": {
           "color": "white"
          },
          "showarrow": false,
          "text": "11.4 - 92",
          "x": 3,
          "xref": "x",
          "y": 2,
          "yref": "y"
         },
         {
          "font": {
           "color": "white"
          },
          "showarrow": false,
          "text": "27.3 - 220",
          "x": 4,
          "xref": "x",
          "y": 2,
          "yref": "y"
         },
         {
          "font": {
           "color": "white"
          },
          "showarrow": false,
          "text": "0.0 - 0",
          "x": 0,
          "xref": "x",
          "y": 3,
          "yref": "y"
         },
         {
          "font": {
           "color": "white"
          },
          "showarrow": false,
          "text": "17.9 - 117",
          "x": 1,
          "xref": "x",
          "y": 3,
          "yref": "y"
         },
         {
          "font": {
           "color": "white"
          },
          "showarrow": false,
          "text": "34.2 - 223",
          "x": 2,
          "xref": "x",
          "y": 3,
          "yref": "y"
         },
         {
          "font": {
           "color": "white"
          },
          "showarrow": false,
          "text": "18.6 - 121",
          "x": 3,
          "xref": "x",
          "y": 3,
          "yref": "y"
         },
         {
          "font": {
           "color": "white"
          },
          "showarrow": false,
          "text": "29.3 - 191",
          "x": 4,
          "xref": "x",
          "y": 3,
          "yref": "y"
         },
         {
          "font": {
           "color": "white"
          },
          "showarrow": false,
          "text": "0.5 - 4",
          "x": 0,
          "xref": "x",
          "y": 4,
          "yref": "y"
         },
         {
          "font": {
           "color": "white"
          },
          "showarrow": false,
          "text": "11.7 - 98",
          "x": 1,
          "xref": "x",
          "y": 4,
          "yref": "y"
         },
         {
          "font": {
           "color": "white"
          },
          "showarrow": false,
          "text": "21.1 - 177",
          "x": 2,
          "xref": "x",
          "y": 4,
          "yref": "y"
         },
         {
          "font": {
           "color": "white"
          },
          "showarrow": false,
          "text": "7.3 - 61",
          "x": 3,
          "xref": "x",
          "y": 4,
          "yref": "y"
         },
         {
          "font": {
           "color": "white"
          },
          "showarrow": false,
          "text": "59.5 - 500",
          "x": 4,
          "xref": "x",
          "y": 4,
          "yref": "y"
         }
        ],
        "height": 800,
        "template": {
         "data": {
          "bar": [
           {
            "error_x": {
             "color": "#2a3f5f"
            },
            "error_y": {
             "color": "#2a3f5f"
            },
            "marker": {
             "line": {
              "color": "#E5ECF6",
              "width": 0.5
             },
             "pattern": {
              "fillmode": "overlay",
              "size": 10,
              "solidity": 0.2
             }
            },
            "type": "bar"
           }
          ],
          "barpolar": [
           {
            "marker": {
             "line": {
              "color": "#E5ECF6",
              "width": 0.5
             },
             "pattern": {
              "fillmode": "overlay",
              "size": 10,
              "solidity": 0.2
             }
            },
            "type": "barpolar"
           }
          ],
          "carpet": [
           {
            "aaxis": {
             "endlinecolor": "#2a3f5f",
             "gridcolor": "white",
             "linecolor": "white",
             "minorgridcolor": "white",
             "startlinecolor": "#2a3f5f"
            },
            "baxis": {
             "endlinecolor": "#2a3f5f",
             "gridcolor": "white",
             "linecolor": "white",
             "minorgridcolor": "white",
             "startlinecolor": "#2a3f5f"
            },
            "type": "carpet"
           }
          ],
          "choropleth": [
           {
            "colorbar": {
             "outlinewidth": 0,
             "ticks": ""
            },
            "type": "choropleth"
           }
          ],
          "contour": [
           {
            "colorbar": {
             "outlinewidth": 0,
             "ticks": ""
            },
            "colorscale": [
             [
              0,
              "#0d0887"
             ],
             [
              0.1111111111111111,
              "#46039f"
             ],
             [
              0.2222222222222222,
              "#7201a8"
             ],
             [
              0.3333333333333333,
              "#9c179e"
             ],
             [
              0.4444444444444444,
              "#bd3786"
             ],
             [
              0.5555555555555556,
              "#d8576b"
             ],
             [
              0.6666666666666666,
              "#ed7953"
             ],
             [
              0.7777777777777778,
              "#fb9f3a"
             ],
             [
              0.8888888888888888,
              "#fdca26"
             ],
             [
              1,
              "#f0f921"
             ]
            ],
            "type": "contour"
           }
          ],
          "contourcarpet": [
           {
            "colorbar": {
             "outlinewidth": 0,
             "ticks": ""
            },
            "type": "contourcarpet"
           }
          ],
          "heatmap": [
           {
            "colorbar": {
             "outlinewidth": 0,
             "ticks": ""
            },
            "colorscale": [
             [
              0,
              "#0d0887"
             ],
             [
              0.1111111111111111,
              "#46039f"
             ],
             [
              0.2222222222222222,
              "#7201a8"
             ],
             [
              0.3333333333333333,
              "#9c179e"
             ],
             [
              0.4444444444444444,
              "#bd3786"
             ],
             [
              0.5555555555555556,
              "#d8576b"
             ],
             [
              0.6666666666666666,
              "#ed7953"
             ],
             [
              0.7777777777777778,
              "#fb9f3a"
             ],
             [
              0.8888888888888888,
              "#fdca26"
             ],
             [
              1,
              "#f0f921"
             ]
            ],
            "type": "heatmap"
           }
          ],
          "heatmapgl": [
           {
            "colorbar": {
             "outlinewidth": 0,
             "ticks": ""
            },
            "colorscale": [
             [
              0,
              "#0d0887"
             ],
             [
              0.1111111111111111,
              "#46039f"
             ],
             [
              0.2222222222222222,
              "#7201a8"
             ],
             [
              0.3333333333333333,
              "#9c179e"
             ],
             [
              0.4444444444444444,
              "#bd3786"
             ],
             [
              0.5555555555555556,
              "#d8576b"
             ],
             [
              0.6666666666666666,
              "#ed7953"
             ],
             [
              0.7777777777777778,
              "#fb9f3a"
             ],
             [
              0.8888888888888888,
              "#fdca26"
             ],
             [
              1,
              "#f0f921"
             ]
            ],
            "type": "heatmapgl"
           }
          ],
          "histogram": [
           {
            "marker": {
             "pattern": {
              "fillmode": "overlay",
              "size": 10,
              "solidity": 0.2
             }
            },
            "type": "histogram"
           }
          ],
          "histogram2d": [
           {
            "colorbar": {
             "outlinewidth": 0,
             "ticks": ""
            },
            "colorscale": [
             [
              0,
              "#0d0887"
             ],
             [
              0.1111111111111111,
              "#46039f"
             ],
             [
              0.2222222222222222,
              "#7201a8"
             ],
             [
              0.3333333333333333,
              "#9c179e"
             ],
             [
              0.4444444444444444,
              "#bd3786"
             ],
             [
              0.5555555555555556,
              "#d8576b"
             ],
             [
              0.6666666666666666,
              "#ed7953"
             ],
             [
              0.7777777777777778,
              "#fb9f3a"
             ],
             [
              0.8888888888888888,
              "#fdca26"
             ],
             [
              1,
              "#f0f921"
             ]
            ],
            "type": "histogram2d"
           }
          ],
          "histogram2dcontour": [
           {
            "colorbar": {
             "outlinewidth": 0,
             "ticks": ""
            },
            "colorscale": [
             [
              0,
              "#0d0887"
             ],
             [
              0.1111111111111111,
              "#46039f"
             ],
             [
              0.2222222222222222,
              "#7201a8"
             ],
             [
              0.3333333333333333,
              "#9c179e"
             ],
             [
              0.4444444444444444,
              "#bd3786"
             ],
             [
              0.5555555555555556,
              "#d8576b"
             ],
             [
              0.6666666666666666,
              "#ed7953"
             ],
             [
              0.7777777777777778,
              "#fb9f3a"
             ],
             [
              0.8888888888888888,
              "#fdca26"
             ],
             [
              1,
              "#f0f921"
             ]
            ],
            "type": "histogram2dcontour"
           }
          ],
          "mesh3d": [
           {
            "colorbar": {
             "outlinewidth": 0,
             "ticks": ""
            },
            "type": "mesh3d"
           }
          ],
          "parcoords": [
           {
            "line": {
             "colorbar": {
              "outlinewidth": 0,
              "ticks": ""
             }
            },
            "type": "parcoords"
           }
          ],
          "pie": [
           {
            "automargin": true,
            "type": "pie"
           }
          ],
          "scatter": [
           {
            "fillpattern": {
             "fillmode": "overlay",
             "size": 10,
             "solidity": 0.2
            },
            "type": "scatter"
           }
          ],
          "scatter3d": [
           {
            "line": {
             "colorbar": {
              "outlinewidth": 0,
              "ticks": ""
             }
            },
            "marker": {
             "colorbar": {
              "outlinewidth": 0,
              "ticks": ""
             }
            },
            "type": "scatter3d"
           }
          ],
          "scattercarpet": [
           {
            "marker": {
             "colorbar": {
              "outlinewidth": 0,
              "ticks": ""
             }
            },
            "type": "scattercarpet"
           }
          ],
          "scattergeo": [
           {
            "marker": {
             "colorbar": {
              "outlinewidth": 0,
              "ticks": ""
             }
            },
            "type": "scattergeo"
           }
          ],
          "scattergl": [
           {
            "marker": {
             "colorbar": {
              "outlinewidth": 0,
              "ticks": ""
             }
            },
            "type": "scattergl"
           }
          ],
          "scattermapbox": [
           {
            "marker": {
             "colorbar": {
              "outlinewidth": 0,
              "ticks": ""
             }
            },
            "type": "scattermapbox"
           }
          ],
          "scatterpolar": [
           {
            "marker": {
             "colorbar": {
              "outlinewidth": 0,
              "ticks": ""
             }
            },
            "type": "scatterpolar"
           }
          ],
          "scatterpolargl": [
           {
            "marker": {
             "colorbar": {
              "outlinewidth": 0,
              "ticks": ""
             }
            },
            "type": "scatterpolargl"
           }
          ],
          "scatterternary": [
           {
            "marker": {
             "colorbar": {
              "outlinewidth": 0,
              "ticks": ""
             }
            },
            "type": "scatterternary"
           }
          ],
          "surface": [
           {
            "colorbar": {
             "outlinewidth": 0,
             "ticks": ""
            },
            "colorscale": [
             [
              0,
              "#0d0887"
             ],
             [
              0.1111111111111111,
              "#46039f"
             ],
             [
              0.2222222222222222,
              "#7201a8"
             ],
             [
              0.3333333333333333,
              "#9c179e"
             ],
             [
              0.4444444444444444,
              "#bd3786"
             ],
             [
              0.5555555555555556,
              "#d8576b"
             ],
             [
              0.6666666666666666,
              "#ed7953"
             ],
             [
              0.7777777777777778,
              "#fb9f3a"
             ],
             [
              0.8888888888888888,
              "#fdca26"
             ],
             [
              1,
              "#f0f921"
             ]
            ],
            "type": "surface"
           }
          ],
          "table": [
           {
            "cells": {
             "fill": {
              "color": "#EBF0F8"
             },
             "line": {
              "color": "white"
             }
            },
            "header": {
             "fill": {
              "color": "#C8D4E3"
             },
             "line": {
              "color": "white"
             }
            },
            "type": "table"
           }
          ]
         },
         "layout": {
          "annotationdefaults": {
           "arrowcolor": "#2a3f5f",
           "arrowhead": 0,
           "arrowwidth": 1
          },
          "autotypenumbers": "strict",
          "coloraxis": {
           "colorbar": {
            "outlinewidth": 0,
            "ticks": ""
           }
          },
          "colorscale": {
           "diverging": [
            [
             0,
             "#8e0152"
            ],
            [
             0.1,
             "#c51b7d"
            ],
            [
             0.2,
             "#de77ae"
            ],
            [
             0.3,
             "#f1b6da"
            ],
            [
             0.4,
             "#fde0ef"
            ],
            [
             0.5,
             "#f7f7f7"
            ],
            [
             0.6,
             "#e6f5d0"
            ],
            [
             0.7,
             "#b8e186"
            ],
            [
             0.8,
             "#7fbc41"
            ],
            [
             0.9,
             "#4d9221"
            ],
            [
             1,
             "#276419"
            ]
           ],
           "sequential": [
            [
             0,
             "#0d0887"
            ],
            [
             0.1111111111111111,
             "#46039f"
            ],
            [
             0.2222222222222222,
             "#7201a8"
            ],
            [
             0.3333333333333333,
             "#9c179e"
            ],
            [
             0.4444444444444444,
             "#bd3786"
            ],
            [
             0.5555555555555556,
             "#d8576b"
            ],
            [
             0.6666666666666666,
             "#ed7953"
            ],
            [
             0.7777777777777778,
             "#fb9f3a"
            ],
            [
             0.8888888888888888,
             "#fdca26"
            ],
            [
             1,
             "#f0f921"
            ]
           ],
           "sequentialminus": [
            [
             0,
             "#0d0887"
            ],
            [
             0.1111111111111111,
             "#46039f"
            ],
            [
             0.2222222222222222,
             "#7201a8"
            ],
            [
             0.3333333333333333,
             "#9c179e"
            ],
            [
             0.4444444444444444,
             "#bd3786"
            ],
            [
             0.5555555555555556,
             "#d8576b"
            ],
            [
             0.6666666666666666,
             "#ed7953"
            ],
            [
             0.7777777777777778,
             "#fb9f3a"
            ],
            [
             0.8888888888888888,
             "#fdca26"
            ],
            [
             1,
             "#f0f921"
            ]
           ]
          },
          "colorway": [
           "#636efa",
           "#EF553B",
           "#00cc96",
           "#ab63fa",
           "#FFA15A",
           "#19d3f3",
           "#FF6692",
           "#B6E880",
           "#FF97FF",
           "#FECB52"
          ],
          "font": {
           "color": "#2a3f5f"
          },
          "geo": {
           "bgcolor": "white",
           "lakecolor": "white",
           "landcolor": "#E5ECF6",
           "showlakes": true,
           "showland": true,
           "subunitcolor": "white"
          },
          "hoverlabel": {
           "align": "left"
          },
          "hovermode": "closest",
          "mapbox": {
           "style": "light"
          },
          "paper_bgcolor": "white",
          "plot_bgcolor": "#E5ECF6",
          "polar": {
           "angularaxis": {
            "gridcolor": "white",
            "linecolor": "white",
            "ticks": ""
           },
           "bgcolor": "#E5ECF6",
           "radialaxis": {
            "gridcolor": "white",
            "linecolor": "white",
            "ticks": ""
           }
          },
          "scene": {
           "xaxis": {
            "backgroundcolor": "#E5ECF6",
            "gridcolor": "white",
            "gridwidth": 2,
            "linecolor": "white",
            "showbackground": true,
            "ticks": "",
            "zerolinecolor": "white"
           },
           "yaxis": {
            "backgroundcolor": "#E5ECF6",
            "gridcolor": "white",
            "gridwidth": 2,
            "linecolor": "white",
            "showbackground": true,
            "ticks": "",
            "zerolinecolor": "white"
           },
           "zaxis": {
            "backgroundcolor": "#E5ECF6",
            "gridcolor": "white",
            "gridwidth": 2,
            "linecolor": "white",
            "showbackground": true,
            "ticks": "",
            "zerolinecolor": "white"
           }
          },
          "shapedefaults": {
           "line": {
            "color": "#2a3f5f"
           }
          },
          "ternary": {
           "aaxis": {
            "gridcolor": "white",
            "linecolor": "white",
            "ticks": ""
           },
           "baxis": {
            "gridcolor": "white",
            "linecolor": "white",
            "ticks": ""
           },
           "bgcolor": "#E5ECF6",
           "caxis": {
            "gridcolor": "white",
            "linecolor": "white",
            "ticks": ""
           }
          },
          "title": {
           "x": 0.05
          },
          "xaxis": {
           "automargin": true,
           "gridcolor": "white",
           "linecolor": "white",
           "ticks": "",
           "title": {
            "standoff": 15
           },
           "zerolinecolor": "white",
           "zerolinewidth": 2
          },
          "yaxis": {
           "automargin": true,
           "gridcolor": "white",
           "linecolor": "white",
           "ticks": "",
           "title": {
            "standoff": 15
           },
           "zerolinecolor": "white",
           "zerolinewidth": 2
          }
         }
        },
        "title": {
         "text": "Conf Matrix"
        },
        "width": 800,
        "xaxis": {
         "title": {
          "text": "Predicted value"
         }
        },
        "yaxis": {
         "title": {
          "text": "Real value"
         }
        }
       }
      }
     },
     "metadata": {},
     "output_type": "display_data"
    }
   ],
   "source": [
    "#Muestro la matriz de confusión\n",
    "display(plot_confusion_matrix(y_test,y_pred))\n",
    "#SI OBTENGO UNA DIAGONAL MUY FUERTE AMARILLA ES PQ PREDIJO BIEN EL MODELO "
   ]
  },
  {
   "cell_type": "code",
   "execution_count": 15,
   "metadata": {},
   "outputs": [
    {
     "data": {
      "text/plain": [
       "1.0"
      ]
     },
     "execution_count": 15,
     "metadata": {},
     "output_type": "execute_result"
    }
   ],
   "source": [
    "#Vamos a ponewr en perspectiva el score de Kappa\n",
    "\n",
    "\n",
    "#Cual es el score perfecto? Evaluo la clase real contra si misma. Es decir, el caso en que el modelo establece todas las clases en su valor real\n",
    "cohen_kappa_score(y_test,y_test, weights = 'quadratic')"
   ]
  },
  {
   "cell_type": "code",
   "execution_count": 16,
   "metadata": {},
   "outputs": [
    {
     "data": {
      "application/vnd.plotly.v1+json": {
       "config": {
        "plotlyServerURL": "https://plot.ly"
       },
       "data": [
        {
         "type": "heatmap",
         "x": [
          0,
          1,
          2,
          3,
          4
         ],
         "y": [
          0,
          1,
          2,
          3,
          4
         ],
         "z": [
          [
           100,
           0,
           0,
           0,
           0
          ],
          [
           0,
           100,
           0,
           0,
           0
          ],
          [
           0,
           0,
           100,
           0,
           0
          ],
          [
           0,
           0,
           0,
           100,
           0
          ],
          [
           0,
           0,
           0,
           0,
           100
          ]
         ]
        }
       ],
       "layout": {
        "annotations": [
         {
          "font": {
           "color": "white"
          },
          "showarrow": false,
          "text": "100.0 - 82",
          "x": 0,
          "xref": "x",
          "y": 0,
          "yref": "y"
         },
         {
          "font": {
           "color": "white"
          },
          "showarrow": false,
          "text": "0.0 - 0",
          "x": 1,
          "xref": "x",
          "y": 0,
          "yref": "y"
         },
         {
          "font": {
           "color": "white"
          },
          "showarrow": false,
          "text": "0.0 - 0",
          "x": 2,
          "xref": "x",
          "y": 0,
          "yref": "y"
         },
         {
          "font": {
           "color": "white"
          },
          "showarrow": false,
          "text": "0.0 - 0",
          "x": 3,
          "xref": "x",
          "y": 0,
          "yref": "y"
         },
         {
          "font": {
           "color": "white"
          },
          "showarrow": false,
          "text": "0.0 - 0",
          "x": 4,
          "xref": "x",
          "y": 0,
          "yref": "y"
         },
         {
          "font": {
           "color": "white"
          },
          "showarrow": false,
          "text": "0.0 - 0",
          "x": 0,
          "xref": "x",
          "y": 1,
          "yref": "y"
         },
         {
          "font": {
           "color": "white"
          },
          "showarrow": false,
          "text": "100.0 - 618",
          "x": 1,
          "xref": "x",
          "y": 1,
          "yref": "y"
         },
         {
          "font": {
           "color": "white"
          },
          "showarrow": false,
          "text": "0.0 - 0",
          "x": 2,
          "xref": "x",
          "y": 1,
          "yref": "y"
         },
         {
          "font": {
           "color": "white"
          },
          "showarrow": false,
          "text": "0.0 - 0",
          "x": 3,
          "xref": "x",
          "y": 1,
          "yref": "y"
         },
         {
          "font": {
           "color": "white"
          },
          "showarrow": false,
          "text": "0.0 - 0",
          "x": 4,
          "xref": "x",
          "y": 1,
          "yref": "y"
         },
         {
          "font": {
           "color": "white"
          },
          "showarrow": false,
          "text": "0.0 - 0",
          "x": 0,
          "xref": "x",
          "y": 2,
          "yref": "y"
         },
         {
          "font": {
           "color": "white"
          },
          "showarrow": false,
          "text": "0.0 - 0",
          "x": 1,
          "xref": "x",
          "y": 2,
          "yref": "y"
         },
         {
          "font": {
           "color": "white"
          },
          "showarrow": false,
          "text": "100.0 - 807",
          "x": 2,
          "xref": "x",
          "y": 2,
          "yref": "y"
         },
         {
          "font": {
           "color": "white"
          },
          "showarrow": false,
          "text": "0.0 - 0",
          "x": 3,
          "xref": "x",
          "y": 2,
          "yref": "y"
         },
         {
          "font": {
           "color": "white"
          },
          "showarrow": false,
          "text": "0.0 - 0",
          "x": 4,
          "xref": "x",
          "y": 2,
          "yref": "y"
         },
         {
          "font": {
           "color": "white"
          },
          "showarrow": false,
          "text": "0.0 - 0",
          "x": 0,
          "xref": "x",
          "y": 3,
          "yref": "y"
         },
         {
          "font": {
           "color": "white"
          },
          "showarrow": false,
          "text": "0.0 - 0",
          "x": 1,
          "xref": "x",
          "y": 3,
          "yref": "y"
         },
         {
          "font": {
           "color": "white"
          },
          "showarrow": false,
          "text": "0.0 - 0",
          "x": 2,
          "xref": "x",
          "y": 3,
          "yref": "y"
         },
         {
          "font": {
           "color": "white"
          },
          "showarrow": false,
          "text": "100.0 - 652",
          "x": 3,
          "xref": "x",
          "y": 3,
          "yref": "y"
         },
         {
          "font": {
           "color": "white"
          },
          "showarrow": false,
          "text": "0.0 - 0",
          "x": 4,
          "xref": "x",
          "y": 3,
          "yref": "y"
         },
         {
          "font": {
           "color": "white"
          },
          "showarrow": false,
          "text": "0.0 - 0",
          "x": 0,
          "xref": "x",
          "y": 4,
          "yref": "y"
         },
         {
          "font": {
           "color": "white"
          },
          "showarrow": false,
          "text": "0.0 - 0",
          "x": 1,
          "xref": "x",
          "y": 4,
          "yref": "y"
         },
         {
          "font": {
           "color": "white"
          },
          "showarrow": false,
          "text": "0.0 - 0",
          "x": 2,
          "xref": "x",
          "y": 4,
          "yref": "y"
         },
         {
          "font": {
           "color": "white"
          },
          "showarrow": false,
          "text": "0.0 - 0",
          "x": 3,
          "xref": "x",
          "y": 4,
          "yref": "y"
         },
         {
          "font": {
           "color": "white"
          },
          "showarrow": false,
          "text": "100.0 - 840",
          "x": 4,
          "xref": "x",
          "y": 4,
          "yref": "y"
         }
        ],
        "height": 800,
        "template": {
         "data": {
          "bar": [
           {
            "error_x": {
             "color": "#2a3f5f"
            },
            "error_y": {
             "color": "#2a3f5f"
            },
            "marker": {
             "line": {
              "color": "#E5ECF6",
              "width": 0.5
             },
             "pattern": {
              "fillmode": "overlay",
              "size": 10,
              "solidity": 0.2
             }
            },
            "type": "bar"
           }
          ],
          "barpolar": [
           {
            "marker": {
             "line": {
              "color": "#E5ECF6",
              "width": 0.5
             },
             "pattern": {
              "fillmode": "overlay",
              "size": 10,
              "solidity": 0.2
             }
            },
            "type": "barpolar"
           }
          ],
          "carpet": [
           {
            "aaxis": {
             "endlinecolor": "#2a3f5f",
             "gridcolor": "white",
             "linecolor": "white",
             "minorgridcolor": "white",
             "startlinecolor": "#2a3f5f"
            },
            "baxis": {
             "endlinecolor": "#2a3f5f",
             "gridcolor": "white",
             "linecolor": "white",
             "minorgridcolor": "white",
             "startlinecolor": "#2a3f5f"
            },
            "type": "carpet"
           }
          ],
          "choropleth": [
           {
            "colorbar": {
             "outlinewidth": 0,
             "ticks": ""
            },
            "type": "choropleth"
           }
          ],
          "contour": [
           {
            "colorbar": {
             "outlinewidth": 0,
             "ticks": ""
            },
            "colorscale": [
             [
              0,
              "#0d0887"
             ],
             [
              0.1111111111111111,
              "#46039f"
             ],
             [
              0.2222222222222222,
              "#7201a8"
             ],
             [
              0.3333333333333333,
              "#9c179e"
             ],
             [
              0.4444444444444444,
              "#bd3786"
             ],
             [
              0.5555555555555556,
              "#d8576b"
             ],
             [
              0.6666666666666666,
              "#ed7953"
             ],
             [
              0.7777777777777778,
              "#fb9f3a"
             ],
             [
              0.8888888888888888,
              "#fdca26"
             ],
             [
              1,
              "#f0f921"
             ]
            ],
            "type": "contour"
           }
          ],
          "contourcarpet": [
           {
            "colorbar": {
             "outlinewidth": 0,
             "ticks": ""
            },
            "type": "contourcarpet"
           }
          ],
          "heatmap": [
           {
            "colorbar": {
             "outlinewidth": 0,
             "ticks": ""
            },
            "colorscale": [
             [
              0,
              "#0d0887"
             ],
             [
              0.1111111111111111,
              "#46039f"
             ],
             [
              0.2222222222222222,
              "#7201a8"
             ],
             [
              0.3333333333333333,
              "#9c179e"
             ],
             [
              0.4444444444444444,
              "#bd3786"
             ],
             [
              0.5555555555555556,
              "#d8576b"
             ],
             [
              0.6666666666666666,
              "#ed7953"
             ],
             [
              0.7777777777777778,
              "#fb9f3a"
             ],
             [
              0.8888888888888888,
              "#fdca26"
             ],
             [
              1,
              "#f0f921"
             ]
            ],
            "type": "heatmap"
           }
          ],
          "heatmapgl": [
           {
            "colorbar": {
             "outlinewidth": 0,
             "ticks": ""
            },
            "colorscale": [
             [
              0,
              "#0d0887"
             ],
             [
              0.1111111111111111,
              "#46039f"
             ],
             [
              0.2222222222222222,
              "#7201a8"
             ],
             [
              0.3333333333333333,
              "#9c179e"
             ],
             [
              0.4444444444444444,
              "#bd3786"
             ],
             [
              0.5555555555555556,
              "#d8576b"
             ],
             [
              0.6666666666666666,
              "#ed7953"
             ],
             [
              0.7777777777777778,
              "#fb9f3a"
             ],
             [
              0.8888888888888888,
              "#fdca26"
             ],
             [
              1,
              "#f0f921"
             ]
            ],
            "type": "heatmapgl"
           }
          ],
          "histogram": [
           {
            "marker": {
             "pattern": {
              "fillmode": "overlay",
              "size": 10,
              "solidity": 0.2
             }
            },
            "type": "histogram"
           }
          ],
          "histogram2d": [
           {
            "colorbar": {
             "outlinewidth": 0,
             "ticks": ""
            },
            "colorscale": [
             [
              0,
              "#0d0887"
             ],
             [
              0.1111111111111111,
              "#46039f"
             ],
             [
              0.2222222222222222,
              "#7201a8"
             ],
             [
              0.3333333333333333,
              "#9c179e"
             ],
             [
              0.4444444444444444,
              "#bd3786"
             ],
             [
              0.5555555555555556,
              "#d8576b"
             ],
             [
              0.6666666666666666,
              "#ed7953"
             ],
             [
              0.7777777777777778,
              "#fb9f3a"
             ],
             [
              0.8888888888888888,
              "#fdca26"
             ],
             [
              1,
              "#f0f921"
             ]
            ],
            "type": "histogram2d"
           }
          ],
          "histogram2dcontour": [
           {
            "colorbar": {
             "outlinewidth": 0,
             "ticks": ""
            },
            "colorscale": [
             [
              0,
              "#0d0887"
             ],
             [
              0.1111111111111111,
              "#46039f"
             ],
             [
              0.2222222222222222,
              "#7201a8"
             ],
             [
              0.3333333333333333,
              "#9c179e"
             ],
             [
              0.4444444444444444,
              "#bd3786"
             ],
             [
              0.5555555555555556,
              "#d8576b"
             ],
             [
              0.6666666666666666,
              "#ed7953"
             ],
             [
              0.7777777777777778,
              "#fb9f3a"
             ],
             [
              0.8888888888888888,
              "#fdca26"
             ],
             [
              1,
              "#f0f921"
             ]
            ],
            "type": "histogram2dcontour"
           }
          ],
          "mesh3d": [
           {
            "colorbar": {
             "outlinewidth": 0,
             "ticks": ""
            },
            "type": "mesh3d"
           }
          ],
          "parcoords": [
           {
            "line": {
             "colorbar": {
              "outlinewidth": 0,
              "ticks": ""
             }
            },
            "type": "parcoords"
           }
          ],
          "pie": [
           {
            "automargin": true,
            "type": "pie"
           }
          ],
          "scatter": [
           {
            "fillpattern": {
             "fillmode": "overlay",
             "size": 10,
             "solidity": 0.2
            },
            "type": "scatter"
           }
          ],
          "scatter3d": [
           {
            "line": {
             "colorbar": {
              "outlinewidth": 0,
              "ticks": ""
             }
            },
            "marker": {
             "colorbar": {
              "outlinewidth": 0,
              "ticks": ""
             }
            },
            "type": "scatter3d"
           }
          ],
          "scattercarpet": [
           {
            "marker": {
             "colorbar": {
              "outlinewidth": 0,
              "ticks": ""
             }
            },
            "type": "scattercarpet"
           }
          ],
          "scattergeo": [
           {
            "marker": {
             "colorbar": {
              "outlinewidth": 0,
              "ticks": ""
             }
            },
            "type": "scattergeo"
           }
          ],
          "scattergl": [
           {
            "marker": {
             "colorbar": {
              "outlinewidth": 0,
              "ticks": ""
             }
            },
            "type": "scattergl"
           }
          ],
          "scattermapbox": [
           {
            "marker": {
             "colorbar": {
              "outlinewidth": 0,
              "ticks": ""
             }
            },
            "type": "scattermapbox"
           }
          ],
          "scatterpolar": [
           {
            "marker": {
             "colorbar": {
              "outlinewidth": 0,
              "ticks": ""
             }
            },
            "type": "scatterpolar"
           }
          ],
          "scatterpolargl": [
           {
            "marker": {
             "colorbar": {
              "outlinewidth": 0,
              "ticks": ""
             }
            },
            "type": "scatterpolargl"
           }
          ],
          "scatterternary": [
           {
            "marker": {
             "colorbar": {
              "outlinewidth": 0,
              "ticks": ""
             }
            },
            "type": "scatterternary"
           }
          ],
          "surface": [
           {
            "colorbar": {
             "outlinewidth": 0,
             "ticks": ""
            },
            "colorscale": [
             [
              0,
              "#0d0887"
             ],
             [
              0.1111111111111111,
              "#46039f"
             ],
             [
              0.2222222222222222,
              "#7201a8"
             ],
             [
              0.3333333333333333,
              "#9c179e"
             ],
             [
              0.4444444444444444,
              "#bd3786"
             ],
             [
              0.5555555555555556,
              "#d8576b"
             ],
             [
              0.6666666666666666,
              "#ed7953"
             ],
             [
              0.7777777777777778,
              "#fb9f3a"
             ],
             [
              0.8888888888888888,
              "#fdca26"
             ],
             [
              1,
              "#f0f921"
             ]
            ],
            "type": "surface"
           }
          ],
          "table": [
           {
            "cells": {
             "fill": {
              "color": "#EBF0F8"
             },
             "line": {
              "color": "white"
             }
            },
            "header": {
             "fill": {
              "color": "#C8D4E3"
             },
             "line": {
              "color": "white"
             }
            },
            "type": "table"
           }
          ]
         },
         "layout": {
          "annotationdefaults": {
           "arrowcolor": "#2a3f5f",
           "arrowhead": 0,
           "arrowwidth": 1
          },
          "autotypenumbers": "strict",
          "coloraxis": {
           "colorbar": {
            "outlinewidth": 0,
            "ticks": ""
           }
          },
          "colorscale": {
           "diverging": [
            [
             0,
             "#8e0152"
            ],
            [
             0.1,
             "#c51b7d"
            ],
            [
             0.2,
             "#de77ae"
            ],
            [
             0.3,
             "#f1b6da"
            ],
            [
             0.4,
             "#fde0ef"
            ],
            [
             0.5,
             "#f7f7f7"
            ],
            [
             0.6,
             "#e6f5d0"
            ],
            [
             0.7,
             "#b8e186"
            ],
            [
             0.8,
             "#7fbc41"
            ],
            [
             0.9,
             "#4d9221"
            ],
            [
             1,
             "#276419"
            ]
           ],
           "sequential": [
            [
             0,
             "#0d0887"
            ],
            [
             0.1111111111111111,
             "#46039f"
            ],
            [
             0.2222222222222222,
             "#7201a8"
            ],
            [
             0.3333333333333333,
             "#9c179e"
            ],
            [
             0.4444444444444444,
             "#bd3786"
            ],
            [
             0.5555555555555556,
             "#d8576b"
            ],
            [
             0.6666666666666666,
             "#ed7953"
            ],
            [
             0.7777777777777778,
             "#fb9f3a"
            ],
            [
             0.8888888888888888,
             "#fdca26"
            ],
            [
             1,
             "#f0f921"
            ]
           ],
           "sequentialminus": [
            [
             0,
             "#0d0887"
            ],
            [
             0.1111111111111111,
             "#46039f"
            ],
            [
             0.2222222222222222,
             "#7201a8"
            ],
            [
             0.3333333333333333,
             "#9c179e"
            ],
            [
             0.4444444444444444,
             "#bd3786"
            ],
            [
             0.5555555555555556,
             "#d8576b"
            ],
            [
             0.6666666666666666,
             "#ed7953"
            ],
            [
             0.7777777777777778,
             "#fb9f3a"
            ],
            [
             0.8888888888888888,
             "#fdca26"
            ],
            [
             1,
             "#f0f921"
            ]
           ]
          },
          "colorway": [
           "#636efa",
           "#EF553B",
           "#00cc96",
           "#ab63fa",
           "#FFA15A",
           "#19d3f3",
           "#FF6692",
           "#B6E880",
           "#FF97FF",
           "#FECB52"
          ],
          "font": {
           "color": "#2a3f5f"
          },
          "geo": {
           "bgcolor": "white",
           "lakecolor": "white",
           "landcolor": "#E5ECF6",
           "showlakes": true,
           "showland": true,
           "subunitcolor": "white"
          },
          "hoverlabel": {
           "align": "left"
          },
          "hovermode": "closest",
          "mapbox": {
           "style": "light"
          },
          "paper_bgcolor": "white",
          "plot_bgcolor": "#E5ECF6",
          "polar": {
           "angularaxis": {
            "gridcolor": "white",
            "linecolor": "white",
            "ticks": ""
           },
           "bgcolor": "#E5ECF6",
           "radialaxis": {
            "gridcolor": "white",
            "linecolor": "white",
            "ticks": ""
           }
          },
          "scene": {
           "xaxis": {
            "backgroundcolor": "#E5ECF6",
            "gridcolor": "white",
            "gridwidth": 2,
            "linecolor": "white",
            "showbackground": true,
            "ticks": "",
            "zerolinecolor": "white"
           },
           "yaxis": {
            "backgroundcolor": "#E5ECF6",
            "gridcolor": "white",
            "gridwidth": 2,
            "linecolor": "white",
            "showbackground": true,
            "ticks": "",
            "zerolinecolor": "white"
           },
           "zaxis": {
            "backgroundcolor": "#E5ECF6",
            "gridcolor": "white",
            "gridwidth": 2,
            "linecolor": "white",
            "showbackground": true,
            "ticks": "",
            "zerolinecolor": "white"
           }
          },
          "shapedefaults": {
           "line": {
            "color": "#2a3f5f"
           }
          },
          "ternary": {
           "aaxis": {
            "gridcolor": "white",
            "linecolor": "white",
            "ticks": ""
           },
           "baxis": {
            "gridcolor": "white",
            "linecolor": "white",
            "ticks": ""
           },
           "bgcolor": "#E5ECF6",
           "caxis": {
            "gridcolor": "white",
            "linecolor": "white",
            "ticks": ""
           }
          },
          "title": {
           "x": 0.05
          },
          "xaxis": {
           "automargin": true,
           "gridcolor": "white",
           "linecolor": "white",
           "ticks": "",
           "title": {
            "standoff": 15
           },
           "zerolinecolor": "white",
           "zerolinewidth": 2
          },
          "yaxis": {
           "automargin": true,
           "gridcolor": "white",
           "linecolor": "white",
           "ticks": "",
           "title": {
            "standoff": 15
           },
           "zerolinecolor": "white",
           "zerolinewidth": 2
          }
         }
        },
        "title": {
         "text": "Conf Matrix"
        },
        "width": 800,
        "xaxis": {
         "title": {
          "text": "Predicted value"
         }
        },
        "yaxis": {
         "title": {
          "text": "Real value"
         }
        }
       }
      }
     },
     "metadata": {},
     "output_type": "display_data"
    }
   ],
   "source": [
    "#Como se veria la matriz de confusión PERO ESTA ES LA PERFECTA\n",
    "display(plot_confusion_matrix(y_test,y_test))"
   ]
  },
  {
   "cell_type": "code",
   "execution_count": 17,
   "metadata": {},
   "outputs": [],
   "source": [
    "#SIMULACIONES"
   ]
  },
  {
   "cell_type": "code",
   "execution_count": 19,
   "metadata": {},
   "outputs": [
    {
     "ename": "NameError",
     "evalue": "name 'shuffle' is not defined",
     "output_type": "error",
     "traceback": [
      "\u001b[1;31m---------------------------------------------------------------------------\u001b[0m",
      "\u001b[1;31mNameError\u001b[0m                                 Traceback (most recent call last)",
      "\u001b[1;32m<ipython-input-19-de692828395d>\u001b[0m in \u001b[0;36m<module>\u001b[1;34m\u001b[0m\n\u001b[0;32m      1\u001b[0m \u001b[1;31m#Vamos a ver como se comporta kappa si hafgo una predicción al azar (respetando las proporciones de cada clase)\u001b[0m\u001b[1;33m\u001b[0m\u001b[1;33m\u001b[0m\u001b[1;33m\u001b[0m\u001b[0m\n\u001b[1;32m----> 2\u001b[1;33m y_shuffled = shuffle(y_test,\n\u001b[0m\u001b[0;32m      3\u001b[0m                      random_state = 42)\n\u001b[0;32m      4\u001b[0m \u001b[1;33m\u001b[0m\u001b[0m\n\u001b[0;32m      5\u001b[0m \u001b[1;33m\u001b[0m\u001b[0m\n",
      "\u001b[1;31mNameError\u001b[0m: name 'shuffle' is not defined"
     ]
    }
   ],
   "source": [
    "#Vamos a ver como se comporta kappa si hafgo una predicción al azar (respetando las proporciones de cada clase)\n",
    "y_shuffled = shuffle(y_test,\n",
    "                     random_state = 42)\n",
    "\n",
    "\n",
    "#Genero diccionarios para cambiar algunas predicicones reales por una prediccion cercana y_cerca y una lejana y_lejos a la real \n",
    "# ejemplo: la real se 0 voy a estimar 1 para la cercana y 4 para la lejana\n",
    "dict_map_cerca = {0:1,\n",
    "                  1:2,\n",
    "                  2:3,\n",
    "                  3:4,\n",
    "                  4:3}\n",
    "\n",
    "dict_map_lejos = {0:4,\n",
    "                  1:4,\n",
    "                  2:0,\n",
    "                  3:0,\n",
    "                  4:0}\n",
    "\n",
    "y_cerca = [dict_map_cerca[i] for i in y_test]\n",
    "\n",
    "y_lejos = [dict_map_lejos[i] for i in y_test]\n",
    "\n",
    "#ESTO ES UNA SIMULACION PARA VER COMO SE VERIA UN MODELO QUE ESTA CERQIITA DE LA PREDICCION REAL VS UNO QUE PREDICE COMO EL OGT\n"
   ]
  },
  {
   "cell_type": "code",
   "execution_count": 20,
   "metadata": {},
   "outputs": [
    {
     "ename": "NameError",
     "evalue": "name 'y_shuffled' is not defined",
     "output_type": "error",
     "traceback": [
      "\u001b[1;31m---------------------------------------------------------------------------\u001b[0m",
      "\u001b[1;31mNameError\u001b[0m                                 Traceback (most recent call last)",
      "\u001b[1;32m<ipython-input-20-b327b0c2e859>\u001b[0m in \u001b[0;36m<module>\u001b[1;34m\u001b[0m\n\u001b[0;32m     10\u001b[0m \u001b[1;33m\u001b[0m\u001b[0m\n\u001b[0;32m     11\u001b[0m     \u001b[1;31m#Genero la prediccion para i% de aciertos donde cuando no acierto me quedo con una prediccion al azar (podria ser la \"correcta\" pero solo por azar)\u001b[0m\u001b[1;33m\u001b[0m\u001b[1;33m\u001b[0m\u001b[1;33m\u001b[0m\u001b[0m\n\u001b[1;32m---> 12\u001b[1;33m     \u001b[0my_simulado\u001b[0m \u001b[1;33m=\u001b[0m \u001b[1;33m[\u001b[0m\u001b[0my_test\u001b[0m\u001b[1;33m.\u001b[0m\u001b[0miloc\u001b[0m\u001b[1;33m[\u001b[0m\u001b[0msample\u001b[0m\u001b[1;33m]\u001b[0m \u001b[1;32mif\u001b[0m \u001b[0mrandom_list\u001b[0m\u001b[1;33m[\u001b[0m\u001b[0msample\u001b[0m\u001b[1;33m]\u001b[0m\u001b[1;33m<\u001b[0m\u001b[0mi\u001b[0m\u001b[1;33m/\u001b[0m\u001b[1;36m100\u001b[0m \u001b[1;32melse\u001b[0m \u001b[0my_shuffled\u001b[0m\u001b[1;33m.\u001b[0m\u001b[0miloc\u001b[0m\u001b[1;33m[\u001b[0m\u001b[0msample\u001b[0m\u001b[1;33m]\u001b[0m \u001b[1;32mfor\u001b[0m \u001b[0msample\u001b[0m \u001b[1;32min\u001b[0m \u001b[0mrange\u001b[0m\u001b[1;33m(\u001b[0m\u001b[0mlen\u001b[0m\u001b[1;33m(\u001b[0m\u001b[0my_test\u001b[0m\u001b[1;33m)\u001b[0m\u001b[1;33m)\u001b[0m\u001b[1;33m]\u001b[0m\u001b[1;33m\u001b[0m\u001b[1;33m\u001b[0m\u001b[0m\n\u001b[0m\u001b[0;32m     13\u001b[0m \u001b[1;33m\u001b[0m\u001b[0m\n\u001b[0;32m     14\u001b[0m     \u001b[1;31m#Genero la prediccion para i% de aciertos donde cuando no acierto me quedo con una prediccion cercana o lejana a la correcta\u001b[0m\u001b[1;33m\u001b[0m\u001b[1;33m\u001b[0m\u001b[1;33m\u001b[0m\u001b[0m\n",
      "\u001b[1;32m<ipython-input-20-b327b0c2e859>\u001b[0m in \u001b[0;36m<listcomp>\u001b[1;34m(.0)\u001b[0m\n\u001b[0;32m     10\u001b[0m \u001b[1;33m\u001b[0m\u001b[0m\n\u001b[0;32m     11\u001b[0m     \u001b[1;31m#Genero la prediccion para i% de aciertos donde cuando no acierto me quedo con una prediccion al azar (podria ser la \"correcta\" pero solo por azar)\u001b[0m\u001b[1;33m\u001b[0m\u001b[1;33m\u001b[0m\u001b[1;33m\u001b[0m\u001b[0m\n\u001b[1;32m---> 12\u001b[1;33m     \u001b[0my_simulado\u001b[0m \u001b[1;33m=\u001b[0m \u001b[1;33m[\u001b[0m\u001b[0my_test\u001b[0m\u001b[1;33m.\u001b[0m\u001b[0miloc\u001b[0m\u001b[1;33m[\u001b[0m\u001b[0msample\u001b[0m\u001b[1;33m]\u001b[0m \u001b[1;32mif\u001b[0m \u001b[0mrandom_list\u001b[0m\u001b[1;33m[\u001b[0m\u001b[0msample\u001b[0m\u001b[1;33m]\u001b[0m\u001b[1;33m<\u001b[0m\u001b[0mi\u001b[0m\u001b[1;33m/\u001b[0m\u001b[1;36m100\u001b[0m \u001b[1;32melse\u001b[0m \u001b[0my_shuffled\u001b[0m\u001b[1;33m.\u001b[0m\u001b[0miloc\u001b[0m\u001b[1;33m[\u001b[0m\u001b[0msample\u001b[0m\u001b[1;33m]\u001b[0m \u001b[1;32mfor\u001b[0m \u001b[0msample\u001b[0m \u001b[1;32min\u001b[0m \u001b[0mrange\u001b[0m\u001b[1;33m(\u001b[0m\u001b[0mlen\u001b[0m\u001b[1;33m(\u001b[0m\u001b[0my_test\u001b[0m\u001b[1;33m)\u001b[0m\u001b[1;33m)\u001b[0m\u001b[1;33m]\u001b[0m\u001b[1;33m\u001b[0m\u001b[1;33m\u001b[0m\u001b[0m\n\u001b[0m\u001b[0;32m     13\u001b[0m \u001b[1;33m\u001b[0m\u001b[0m\n\u001b[0;32m     14\u001b[0m     \u001b[1;31m#Genero la prediccion para i% de aciertos donde cuando no acierto me quedo con una prediccion cercana o lejana a la correcta\u001b[0m\u001b[1;33m\u001b[0m\u001b[1;33m\u001b[0m\u001b[1;33m\u001b[0m\u001b[0m\n",
      "\u001b[1;31mNameError\u001b[0m: name 'y_shuffled' is not defined"
     ]
    }
   ],
   "source": [
    "\n",
    "#Vamos a simular que la probabilidad de tener la prediccion real en casa muestra varia de 0 a 100. \n",
    "#Genero una numero aleatorio para cada muestra\n",
    "random_list =  np.random.rand(len(y_test))\n",
    "\n",
    "#inicializo un dataframe de resultados vacio\n",
    "kappa_progression = pd.DataFrame()\n",
    "\n",
    "#La variable i tiene un umbral para ir variando la cantidad de aciertos desde 0% a 100%\n",
    "for i in range(101):\n",
    "\n",
    "    #Genero la prediccion para i% de aciertos donde cuando no acierto me quedo con una prediccion al azar (podria ser la \"correcta\" pero solo por azar)\n",
    "    y_simulado = [y_test.iloc[sample] if random_list[sample]<i/100 else y_shuffled.iloc[sample] for sample in range(len(y_test))]\n",
    "\n",
    "    #Genero la prediccion para i% de aciertos donde cuando no acierto me quedo con una prediccion cercana o lejana a la correcta\n",
    "    y_simulado_cerca = [y_test.iloc[sample] if random_list[sample]<i/100 else y_cerca[sample] for sample in range(len(y_test))]\n",
    "    y_simulado_lejos = [y_test.iloc[sample] if random_list[sample]<i/100 else y_lejos[sample] for sample in range(len(y_test))]\n",
    "\n",
    "\n",
    "    #Grabo los resultados en un dataframe para cada i% de aciertos\n",
    "    kappa_progression = pd.concat([kappa_progression,\n",
    "                                   pd.DataFrame({'Conocidos':[i],\n",
    "                                                'kappa':cohen_kappa_score(y_test,\n",
    "                                                                        y_simulado,\n",
    "                                                                        weights = 'quadratic'),\n",
    "                                                'kappa_cerca':cohen_kappa_score(y_test,\n",
    "                                                                        y_simulado_cerca,\n",
    "                                                                        weights = 'quadratic'),\n",
    "                                                'kappa_lejos':cohen_kappa_score(y_test,\n",
    "                                                                        y_simulado_lejos,\n",
    "                                                                        weights = 'quadratic'),                                                                        \n",
    "                                                'accuracy':accuracy_score(y_test,\n",
    "                                                                        y_simulado),\n",
    "                                                'balanced_accuracy':balanced_accuracy_score(y_test,\n",
    "                                                                        y_simulado),\n",
    "                                                                        })],\n",
    "                ignore_index=True)"
   ]
  },
  {
   "cell_type": "code",
   "execution_count": 21,
   "metadata": {},
   "outputs": [
    {
     "ename": "ValueError",
     "evalue": "Value of 'x' is not the name of a column in 'data_frame'. Expected one of [] but received: Conocidos",
     "output_type": "error",
     "traceback": [
      "\u001b[1;31m---------------------------------------------------------------------------\u001b[0m",
      "\u001b[1;31mValueError\u001b[0m                                Traceback (most recent call last)",
      "\u001b[1;32m<ipython-input-21-9ca219bd729f>\u001b[0m in \u001b[0;36m<module>\u001b[1;34m\u001b[0m\n\u001b[0;32m      1\u001b[0m \u001b[1;31m#Grafico el comportamiento de la métrica a medida que incremento los aciertos. Tambien muestro lor resultados de otras metricas como Accuracy y Balanced Accuracy\u001b[0m\u001b[1;33m\u001b[0m\u001b[1;33m\u001b[0m\u001b[1;33m\u001b[0m\u001b[0m\n\u001b[1;32m----> 2\u001b[1;33m px.line(kappa_progression,x='Conocidos',y=['kappa',\n\u001b[0m\u001b[0;32m      3\u001b[0m                                            \u001b[1;34m'kappa_cerca'\u001b[0m\u001b[1;33m,\u001b[0m\u001b[1;33m\u001b[0m\u001b[1;33m\u001b[0m\u001b[0m\n\u001b[0;32m      4\u001b[0m                                            \u001b[1;34m'kappa_lejos'\u001b[0m\u001b[1;33m,\u001b[0m\u001b[1;33m\u001b[0m\u001b[1;33m\u001b[0m\u001b[0m\n\u001b[0;32m      5\u001b[0m                                            \u001b[1;34m'accuracy'\u001b[0m\u001b[1;33m,\u001b[0m\u001b[1;33m\u001b[0m\u001b[1;33m\u001b[0m\u001b[0m\n",
      "\u001b[1;32mc:\\Users\\s1093678\\Anaconda3\\lib\\site-packages\\plotly\\express\\_chart_types.py\u001b[0m in \u001b[0;36mline\u001b[1;34m(data_frame, x, y, line_group, color, line_dash, symbol, hover_name, hover_data, custom_data, text, facet_row, facet_col, facet_col_wrap, facet_row_spacing, facet_col_spacing, error_x, error_x_minus, error_y, error_y_minus, animation_frame, animation_group, category_orders, labels, orientation, color_discrete_sequence, color_discrete_map, line_dash_sequence, line_dash_map, symbol_sequence, symbol_map, markers, log_x, log_y, range_x, range_y, line_shape, render_mode, title, template, width, height)\u001b[0m\n\u001b[0;32m    262\u001b[0m     \u001b[0ma\u001b[0m \u001b[0mpolyline\u001b[0m \u001b[0mmark\u001b[0m \u001b[1;32min\u001b[0m \u001b[1;36m2\u001b[0m\u001b[0mD\u001b[0m \u001b[0mspace\u001b[0m\u001b[1;33m.\u001b[0m\u001b[1;33m\u001b[0m\u001b[1;33m\u001b[0m\u001b[0m\n\u001b[0;32m    263\u001b[0m     \"\"\"\n\u001b[1;32m--> 264\u001b[1;33m     \u001b[1;32mreturn\u001b[0m \u001b[0mmake_figure\u001b[0m\u001b[1;33m(\u001b[0m\u001b[0margs\u001b[0m\u001b[1;33m=\u001b[0m\u001b[0mlocals\u001b[0m\u001b[1;33m(\u001b[0m\u001b[1;33m)\u001b[0m\u001b[1;33m,\u001b[0m \u001b[0mconstructor\u001b[0m\u001b[1;33m=\u001b[0m\u001b[0mgo\u001b[0m\u001b[1;33m.\u001b[0m\u001b[0mScatter\u001b[0m\u001b[1;33m)\u001b[0m\u001b[1;33m\u001b[0m\u001b[1;33m\u001b[0m\u001b[0m\n\u001b[0m\u001b[0;32m    265\u001b[0m \u001b[1;33m\u001b[0m\u001b[0m\n\u001b[0;32m    266\u001b[0m \u001b[1;33m\u001b[0m\u001b[0m\n",
      "\u001b[1;32mc:\\Users\\s1093678\\Anaconda3\\lib\\site-packages\\plotly\\express\\_core.py\u001b[0m in \u001b[0;36mmake_figure\u001b[1;34m(args, constructor, trace_patch, layout_patch)\u001b[0m\n\u001b[0;32m   2088\u001b[0m     \u001b[0mapply_default_cascade\u001b[0m\u001b[1;33m(\u001b[0m\u001b[0margs\u001b[0m\u001b[1;33m)\u001b[0m\u001b[1;33m\u001b[0m\u001b[1;33m\u001b[0m\u001b[0m\n\u001b[0;32m   2089\u001b[0m \u001b[1;33m\u001b[0m\u001b[0m\n\u001b[1;32m-> 2090\u001b[1;33m     \u001b[0margs\u001b[0m \u001b[1;33m=\u001b[0m \u001b[0mbuild_dataframe\u001b[0m\u001b[1;33m(\u001b[0m\u001b[0margs\u001b[0m\u001b[1;33m,\u001b[0m \u001b[0mconstructor\u001b[0m\u001b[1;33m)\u001b[0m\u001b[1;33m\u001b[0m\u001b[1;33m\u001b[0m\u001b[0m\n\u001b[0m\u001b[0;32m   2091\u001b[0m     \u001b[1;32mif\u001b[0m \u001b[0mconstructor\u001b[0m \u001b[1;32min\u001b[0m \u001b[1;33m[\u001b[0m\u001b[0mgo\u001b[0m\u001b[1;33m.\u001b[0m\u001b[0mTreemap\u001b[0m\u001b[1;33m,\u001b[0m \u001b[0mgo\u001b[0m\u001b[1;33m.\u001b[0m\u001b[0mSunburst\u001b[0m\u001b[1;33m,\u001b[0m \u001b[0mgo\u001b[0m\u001b[1;33m.\u001b[0m\u001b[0mIcicle\u001b[0m\u001b[1;33m]\u001b[0m \u001b[1;32mand\u001b[0m \u001b[0margs\u001b[0m\u001b[1;33m[\u001b[0m\u001b[1;34m\"path\"\u001b[0m\u001b[1;33m]\u001b[0m \u001b[1;32mis\u001b[0m \u001b[1;32mnot\u001b[0m \u001b[1;32mNone\u001b[0m\u001b[1;33m:\u001b[0m\u001b[1;33m\u001b[0m\u001b[1;33m\u001b[0m\u001b[0m\n\u001b[0;32m   2092\u001b[0m         \u001b[0margs\u001b[0m \u001b[1;33m=\u001b[0m \u001b[0mprocess_dataframe_hierarchy\u001b[0m\u001b[1;33m(\u001b[0m\u001b[0margs\u001b[0m\u001b[1;33m)\u001b[0m\u001b[1;33m\u001b[0m\u001b[1;33m\u001b[0m\u001b[0m\n",
      "\u001b[1;32mc:\\Users\\s1093678\\Anaconda3\\lib\\site-packages\\plotly\\express\\_core.py\u001b[0m in \u001b[0;36mbuild_dataframe\u001b[1;34m(args, constructor)\u001b[0m\n\u001b[0;32m   1490\u001b[0m     \u001b[1;31m# now that things have been prepped, we do the systematic rewriting of `args`\u001b[0m\u001b[1;33m\u001b[0m\u001b[1;33m\u001b[0m\u001b[1;33m\u001b[0m\u001b[0m\n\u001b[0;32m   1491\u001b[0m \u001b[1;33m\u001b[0m\u001b[0m\n\u001b[1;32m-> 1492\u001b[1;33m     df_output, wide_id_vars = process_args_into_dataframe(\n\u001b[0m\u001b[0;32m   1493\u001b[0m         \u001b[0margs\u001b[0m\u001b[1;33m,\u001b[0m \u001b[0mwide_mode\u001b[0m\u001b[1;33m,\u001b[0m \u001b[0mvar_name\u001b[0m\u001b[1;33m,\u001b[0m \u001b[0mvalue_name\u001b[0m\u001b[1;33m\u001b[0m\u001b[1;33m\u001b[0m\u001b[0m\n\u001b[0;32m   1494\u001b[0m     )\n",
      "\u001b[1;32mc:\\Users\\s1093678\\Anaconda3\\lib\\site-packages\\plotly\\express\\_core.py\u001b[0m in \u001b[0;36mprocess_args_into_dataframe\u001b[1;34m(args, wide_mode, var_name, value_name)\u001b[0m\n\u001b[0;32m   1211\u001b[0m                         \u001b[1;32mif\u001b[0m \u001b[0margument\u001b[0m \u001b[1;33m==\u001b[0m \u001b[1;34m\"index\"\u001b[0m\u001b[1;33m:\u001b[0m\u001b[1;33m\u001b[0m\u001b[1;33m\u001b[0m\u001b[0m\n\u001b[0;32m   1212\u001b[0m                             \u001b[0merr_msg\u001b[0m \u001b[1;33m+=\u001b[0m \u001b[1;34m\"\\n To use the index, pass it in directly as `df.index`.\"\u001b[0m\u001b[1;33m\u001b[0m\u001b[1;33m\u001b[0m\u001b[0m\n\u001b[1;32m-> 1213\u001b[1;33m                         \u001b[1;32mraise\u001b[0m \u001b[0mValueError\u001b[0m\u001b[1;33m(\u001b[0m\u001b[0merr_msg\u001b[0m\u001b[1;33m)\u001b[0m\u001b[1;33m\u001b[0m\u001b[1;33m\u001b[0m\u001b[0m\n\u001b[0m\u001b[0;32m   1214\u001b[0m                 \u001b[1;32melif\u001b[0m \u001b[0mlength\u001b[0m \u001b[1;32mand\u001b[0m \u001b[0mlen\u001b[0m\u001b[1;33m(\u001b[0m\u001b[0mdf_input\u001b[0m\u001b[1;33m[\u001b[0m\u001b[0margument\u001b[0m\u001b[1;33m]\u001b[0m\u001b[1;33m)\u001b[0m \u001b[1;33m!=\u001b[0m \u001b[0mlength\u001b[0m\u001b[1;33m:\u001b[0m\u001b[1;33m\u001b[0m\u001b[1;33m\u001b[0m\u001b[0m\n\u001b[0;32m   1215\u001b[0m                     raise ValueError(\n",
      "\u001b[1;31mValueError\u001b[0m: Value of 'x' is not the name of a column in 'data_frame'. Expected one of [] but received: Conocidos"
     ]
    }
   ],
   "source": [
    "#Grafico el comportamiento de la métrica a medida que incremento los aciertos. Tambien muestro lor resultados de otras metricas como Accuracy y Balanced Accuracy\n",
    "px.line(kappa_progression,x='Conocidos',y=['kappa',\n",
    "                                           'kappa_cerca',\n",
    "                                           'kappa_lejos',\n",
    "                                           'accuracy',\n",
    "                                           'balanced_accuracy'])"
   ]
  },
  {
   "cell_type": "code",
   "execution_count": 22,
   "metadata": {},
   "outputs": [],
   "source": [
    "#EN DEFINITIVA KAPPA NO SOLO VALORA LA BUENA PREDICCION SINO TAMBIEN EL ESTAR CERCA DE LA PREDICCION "
   ]
  },
  {
   "cell_type": "code",
   "execution_count": 23,
   "metadata": {},
   "outputs": [
    {
     "ename": "NameError",
     "evalue": "name 'y_cerca' is not defined",
     "output_type": "error",
     "traceback": [
      "\u001b[1;31m---------------------------------------------------------------------------\u001b[0m",
      "\u001b[1;31mNameError\u001b[0m                                 Traceback (most recent call last)",
      "\u001b[1;32m<ipython-input-23-6aa398bc9865>\u001b[0m in \u001b[0;36m<module>\u001b[1;34m\u001b[0m\n\u001b[0;32m      1\u001b[0m \u001b[1;31m#A modo de ejemplo muestro kappa y matriz de confusion para 50% de aciertos donde los errores quedan cerca de la clase correcta\u001b[0m\u001b[1;33m\u001b[0m\u001b[1;33m\u001b[0m\u001b[1;33m\u001b[0m\u001b[0m\n\u001b[1;32m----> 2\u001b[1;33m \u001b[0my_simulado_cerca\u001b[0m \u001b[1;33m=\u001b[0m \u001b[1;33m[\u001b[0m\u001b[0my_test\u001b[0m\u001b[1;33m.\u001b[0m\u001b[0miloc\u001b[0m\u001b[1;33m[\u001b[0m\u001b[0msample\u001b[0m\u001b[1;33m]\u001b[0m \u001b[1;32mif\u001b[0m \u001b[0mrandom_list\u001b[0m\u001b[1;33m[\u001b[0m\u001b[0msample\u001b[0m\u001b[1;33m]\u001b[0m\u001b[1;33m<\u001b[0m\u001b[1;36m50\u001b[0m\u001b[1;33m/\u001b[0m\u001b[1;36m100\u001b[0m \u001b[1;32melse\u001b[0m \u001b[0my_cerca\u001b[0m\u001b[1;33m[\u001b[0m\u001b[0msample\u001b[0m\u001b[1;33m]\u001b[0m \u001b[1;32mfor\u001b[0m \u001b[0msample\u001b[0m \u001b[1;32min\u001b[0m \u001b[0mrange\u001b[0m\u001b[1;33m(\u001b[0m\u001b[0mlen\u001b[0m\u001b[1;33m(\u001b[0m\u001b[0my_test\u001b[0m\u001b[1;33m)\u001b[0m\u001b[1;33m)\u001b[0m\u001b[1;33m]\u001b[0m\u001b[1;33m\u001b[0m\u001b[1;33m\u001b[0m\u001b[0m\n\u001b[0m\u001b[0;32m      3\u001b[0m \u001b[1;33m\u001b[0m\u001b[0m\n\u001b[0;32m      4\u001b[0m display(plot_confusion_matrix(y_test,y_simulado_cerca, \n\u001b[0;32m      5\u001b[0m                               title = \"Kappa \" + str(cohen_kappa_score(y_test,y_simulado_cerca, weights = 'quadratic'))))\n",
      "\u001b[1;32m<ipython-input-23-6aa398bc9865>\u001b[0m in \u001b[0;36m<listcomp>\u001b[1;34m(.0)\u001b[0m\n\u001b[0;32m      1\u001b[0m \u001b[1;31m#A modo de ejemplo muestro kappa y matriz de confusion para 50% de aciertos donde los errores quedan cerca de la clase correcta\u001b[0m\u001b[1;33m\u001b[0m\u001b[1;33m\u001b[0m\u001b[1;33m\u001b[0m\u001b[0m\n\u001b[1;32m----> 2\u001b[1;33m \u001b[0my_simulado_cerca\u001b[0m \u001b[1;33m=\u001b[0m \u001b[1;33m[\u001b[0m\u001b[0my_test\u001b[0m\u001b[1;33m.\u001b[0m\u001b[0miloc\u001b[0m\u001b[1;33m[\u001b[0m\u001b[0msample\u001b[0m\u001b[1;33m]\u001b[0m \u001b[1;32mif\u001b[0m \u001b[0mrandom_list\u001b[0m\u001b[1;33m[\u001b[0m\u001b[0msample\u001b[0m\u001b[1;33m]\u001b[0m\u001b[1;33m<\u001b[0m\u001b[1;36m50\u001b[0m\u001b[1;33m/\u001b[0m\u001b[1;36m100\u001b[0m \u001b[1;32melse\u001b[0m \u001b[0my_cerca\u001b[0m\u001b[1;33m[\u001b[0m\u001b[0msample\u001b[0m\u001b[1;33m]\u001b[0m \u001b[1;32mfor\u001b[0m \u001b[0msample\u001b[0m \u001b[1;32min\u001b[0m \u001b[0mrange\u001b[0m\u001b[1;33m(\u001b[0m\u001b[0mlen\u001b[0m\u001b[1;33m(\u001b[0m\u001b[0my_test\u001b[0m\u001b[1;33m)\u001b[0m\u001b[1;33m)\u001b[0m\u001b[1;33m]\u001b[0m\u001b[1;33m\u001b[0m\u001b[1;33m\u001b[0m\u001b[0m\n\u001b[0m\u001b[0;32m      3\u001b[0m \u001b[1;33m\u001b[0m\u001b[0m\n\u001b[0;32m      4\u001b[0m display(plot_confusion_matrix(y_test,y_simulado_cerca, \n\u001b[0;32m      5\u001b[0m                               title = \"Kappa \" + str(cohen_kappa_score(y_test,y_simulado_cerca, weights = 'quadratic'))))\n",
      "\u001b[1;31mNameError\u001b[0m: name 'y_cerca' is not defined"
     ]
    }
   ],
   "source": [
    "\n",
    "#A modo de ejemplo muestro kappa y matriz de confusion para 50% de aciertos donde los errores quedan cerca de la clase correcta\n",
    "y_simulado_cerca = [y_test.iloc[sample] if random_list[sample]<50/100 else y_cerca[sample] for sample in range(len(y_test))]\n",
    "\n",
    "display(plot_confusion_matrix(y_test,y_simulado_cerca, \n",
    "                              title = \"Kappa \" + str(cohen_kappa_score(y_test,y_simulado_cerca, weights = 'quadratic'))))\n",
    "\n"
   ]
  },
  {
   "cell_type": "code",
   "execution_count": 24,
   "metadata": {},
   "outputs": [
    {
     "ename": "NameError",
     "evalue": "name 'y_lejos' is not defined",
     "output_type": "error",
     "traceback": [
      "\u001b[1;31m---------------------------------------------------------------------------\u001b[0m",
      "\u001b[1;31mNameError\u001b[0m                                 Traceback (most recent call last)",
      "\u001b[1;32m<ipython-input-24-9118aa21523f>\u001b[0m in \u001b[0;36m<module>\u001b[1;34m\u001b[0m\n\u001b[0;32m      1\u001b[0m \u001b[1;31m#A modo de ejemplo muestro kappa y matriz de confusion para 50% de aciertos donde los errores quedan lejos de la clase correcta\u001b[0m\u001b[1;33m\u001b[0m\u001b[1;33m\u001b[0m\u001b[1;33m\u001b[0m\u001b[0m\n\u001b[1;32m----> 2\u001b[1;33m \u001b[0my_simulado_lejos\u001b[0m \u001b[1;33m=\u001b[0m \u001b[1;33m[\u001b[0m\u001b[0my_test\u001b[0m\u001b[1;33m.\u001b[0m\u001b[0miloc\u001b[0m\u001b[1;33m[\u001b[0m\u001b[0msample\u001b[0m\u001b[1;33m]\u001b[0m \u001b[1;32mif\u001b[0m \u001b[0mrandom_list\u001b[0m\u001b[1;33m[\u001b[0m\u001b[0msample\u001b[0m\u001b[1;33m]\u001b[0m\u001b[1;33m<\u001b[0m\u001b[1;36m50\u001b[0m\u001b[1;33m/\u001b[0m\u001b[1;36m100\u001b[0m \u001b[1;32melse\u001b[0m \u001b[0my_lejos\u001b[0m\u001b[1;33m[\u001b[0m\u001b[0msample\u001b[0m\u001b[1;33m]\u001b[0m \u001b[1;32mfor\u001b[0m \u001b[0msample\u001b[0m \u001b[1;32min\u001b[0m \u001b[0mrange\u001b[0m\u001b[1;33m(\u001b[0m\u001b[0mlen\u001b[0m\u001b[1;33m(\u001b[0m\u001b[0my_test\u001b[0m\u001b[1;33m)\u001b[0m\u001b[1;33m)\u001b[0m\u001b[1;33m]\u001b[0m\u001b[1;33m\u001b[0m\u001b[1;33m\u001b[0m\u001b[0m\n\u001b[0m\u001b[0;32m      3\u001b[0m \u001b[1;33m\u001b[0m\u001b[0m\n\u001b[0;32m      4\u001b[0m display(plot_confusion_matrix(y_test,y_simulado_lejos, \n\u001b[0;32m      5\u001b[0m                               title = \"Kappa \" + str(cohen_kappa_score(y_test,y_simulado_lejos, weights = 'quadratic'))))\n",
      "\u001b[1;32m<ipython-input-24-9118aa21523f>\u001b[0m in \u001b[0;36m<listcomp>\u001b[1;34m(.0)\u001b[0m\n\u001b[0;32m      1\u001b[0m \u001b[1;31m#A modo de ejemplo muestro kappa y matriz de confusion para 50% de aciertos donde los errores quedan lejos de la clase correcta\u001b[0m\u001b[1;33m\u001b[0m\u001b[1;33m\u001b[0m\u001b[1;33m\u001b[0m\u001b[0m\n\u001b[1;32m----> 2\u001b[1;33m \u001b[0my_simulado_lejos\u001b[0m \u001b[1;33m=\u001b[0m \u001b[1;33m[\u001b[0m\u001b[0my_test\u001b[0m\u001b[1;33m.\u001b[0m\u001b[0miloc\u001b[0m\u001b[1;33m[\u001b[0m\u001b[0msample\u001b[0m\u001b[1;33m]\u001b[0m \u001b[1;32mif\u001b[0m \u001b[0mrandom_list\u001b[0m\u001b[1;33m[\u001b[0m\u001b[0msample\u001b[0m\u001b[1;33m]\u001b[0m\u001b[1;33m<\u001b[0m\u001b[1;36m50\u001b[0m\u001b[1;33m/\u001b[0m\u001b[1;36m100\u001b[0m \u001b[1;32melse\u001b[0m \u001b[0my_lejos\u001b[0m\u001b[1;33m[\u001b[0m\u001b[0msample\u001b[0m\u001b[1;33m]\u001b[0m \u001b[1;32mfor\u001b[0m \u001b[0msample\u001b[0m \u001b[1;32min\u001b[0m \u001b[0mrange\u001b[0m\u001b[1;33m(\u001b[0m\u001b[0mlen\u001b[0m\u001b[1;33m(\u001b[0m\u001b[0my_test\u001b[0m\u001b[1;33m)\u001b[0m\u001b[1;33m)\u001b[0m\u001b[1;33m]\u001b[0m\u001b[1;33m\u001b[0m\u001b[1;33m\u001b[0m\u001b[0m\n\u001b[0m\u001b[0;32m      3\u001b[0m \u001b[1;33m\u001b[0m\u001b[0m\n\u001b[0;32m      4\u001b[0m display(plot_confusion_matrix(y_test,y_simulado_lejos, \n\u001b[0;32m      5\u001b[0m                               title = \"Kappa \" + str(cohen_kappa_score(y_test,y_simulado_lejos, weights = 'quadratic'))))\n",
      "\u001b[1;31mNameError\u001b[0m: name 'y_lejos' is not defined"
     ]
    }
   ],
   "source": [
    "\n",
    "#A modo de ejemplo muestro kappa y matriz de confusion para 50% de aciertos donde los errores quedan lejos de la clase correcta\n",
    "y_simulado_lejos = [y_test.iloc[sample] if random_list[sample]<50/100 else y_lejos[sample] for sample in range(len(y_test))]\n",
    "\n",
    "display(plot_confusion_matrix(y_test,y_simulado_lejos, \n",
    "                              title = \"Kappa \" + str(cohen_kappa_score(y_test,y_simulado_lejos, weights = 'quadratic'))))\n"
   ]
  },
  {
   "cell_type": "code",
   "execution_count": 25,
   "metadata": {},
   "outputs": [
    {
     "name": "stdout",
     "output_type": "stream",
     "text": [
      "[LightGBM] [Info] Number of positive: 328, number of negative: 11666\n",
      "[LightGBM] [Info] Number of positive: 2472, number of negative: 9522\n",
      "[LightGBM] [Info] Number of positive: 3230, number of negative: 8764\n",
      "[LightGBM] [Info] Number of positive: 2607, number of negative: 9387\n",
      "[LightGBM] [Info] Number of positive: 3357, number of negative: 8637\n",
      "[LightGBM] [Info] Auto-choosing col-wise multi-threading, the overhead of testing was 0.005816 seconds.\n",
      "You can set `force_col_wise=true` to remove the overhead.\n",
      "[LightGBM] [Info] Total Bins 438\n",
      "[LightGBM] [Info] Number of data points in the train set: 11994, number of used features: 19\n",
      "[LightGBM] [Info] [binary:BoostFromScore]: pavg=0.027347 -> initscore=-3.571420\n",
      "[LightGBM] [Info] Start training from score -3.571420\n",
      "[LightGBM] [Info] [binary:BoostFromScore]: pavg=0.206103 -> initscore=-1.348577\n",
      "[LightGBM] [Info] Start training from score -1.348577\n",
      "[LightGBM] [Info] [binary:BoostFromScore]: pavg=0.269301 -> initscore=-0.998170\n",
      "[LightGBM] [Info] Start training from score -0.998170\n",
      "[LightGBM] [Info] [binary:BoostFromScore]: pavg=0.217359 -> initscore=-1.281126\n",
      "[LightGBM] [Info] Start training from score -1.281126\n",
      "[LightGBM] [Info] [binary:BoostFromScore]: pavg=0.279890 -> initscore=-0.945008\n",
      "[LightGBM] [Info] Start training from score -0.945008\n"
     ]
    }
   ],
   "source": [
    "#Pruebo un modelo alternativo donde en vez de usar la version multiclass real de lightGBM utilizo One vs All\n",
    "\n",
    "lgb_params = params = {\n",
    "                        'objective': 'multiclassova', # ESTA HACE MUCHAS LOGITICAS COMBINADAS PERO SIEMPRE DECIDE QUEDARSE CON UNA \n",
    "                        'num_class': len(y_train.unique())\n",
    "                        }\n",
    "\n",
    "\n",
    "lgb_train_dataset = lgb.Dataset(data=X_train,\n",
    "                                label=y_train)\n",
    "\n",
    "\n",
    "lgb_model = lgb.train(lgb_params,\n",
    "                      lgb_train_dataset)"
   ]
  },
  {
   "cell_type": "code",
   "execution_count": 26,
   "metadata": {},
   "outputs": [
    {
     "data": {
      "application/vnd.plotly.v1+json": {
       "config": {
        "plotlyServerURL": "https://plot.ly"
       },
       "data": [
        {
         "type": "heatmap",
         "x": [
          0,
          1,
          2,
          3,
          4
         ],
         "y": [
          0,
          1,
          2,
          3,
          4
         ],
         "z": [
          [
           7.317073170731707,
           39.02439024390244,
           28.04878048780488,
           7.317073170731707,
           18.29268292682927
          ],
          [
           0.48543689320388345,
           32.847896440129446,
           37.37864077669903,
           7.766990291262135,
           21.521035598705502
          ],
          [
           0.12391573729863693,
           21.437422552664188,
           38.53779429987608,
           11.152416356877323,
           28.74845105328377
          ],
          [
           0.4601226993865031,
           16.87116564417178,
           33.58895705521473,
           19.32515337423313,
           29.754601226993866
          ],
          [
           0.11904761904761905,
           9.047619047619047,
           21.785714285714285,
           6.190476190476191,
           62.857142857142854
          ]
         ]
        }
       ],
       "layout": {
        "annotations": [
         {
          "font": {
           "color": "white"
          },
          "showarrow": false,
          "text": "7.3 - 6",
          "x": 0,
          "xref": "x",
          "y": 0,
          "yref": "y"
         },
         {
          "font": {
           "color": "white"
          },
          "showarrow": false,
          "text": "39.0 - 32",
          "x": 1,
          "xref": "x",
          "y": 0,
          "yref": "y"
         },
         {
          "font": {
           "color": "white"
          },
          "showarrow": false,
          "text": "28.0 - 23",
          "x": 2,
          "xref": "x",
          "y": 0,
          "yref": "y"
         },
         {
          "font": {
           "color": "white"
          },
          "showarrow": false,
          "text": "7.3 - 6",
          "x": 3,
          "xref": "x",
          "y": 0,
          "yref": "y"
         },
         {
          "font": {
           "color": "white"
          },
          "showarrow": false,
          "text": "18.3 - 15",
          "x": 4,
          "xref": "x",
          "y": 0,
          "yref": "y"
         },
         {
          "font": {
           "color": "white"
          },
          "showarrow": false,
          "text": "0.5 - 3",
          "x": 0,
          "xref": "x",
          "y": 1,
          "yref": "y"
         },
         {
          "font": {
           "color": "white"
          },
          "showarrow": false,
          "text": "32.8 - 203",
          "x": 1,
          "xref": "x",
          "y": 1,
          "yref": "y"
         },
         {
          "font": {
           "color": "white"
          },
          "showarrow": false,
          "text": "37.4 - 231",
          "x": 2,
          "xref": "x",
          "y": 1,
          "yref": "y"
         },
         {
          "font": {
           "color": "white"
          },
          "showarrow": false,
          "text": "7.8 - 48",
          "x": 3,
          "xref": "x",
          "y": 1,
          "yref": "y"
         },
         {
          "font": {
           "color": "white"
          },
          "showarrow": false,
          "text": "21.5 - 133",
          "x": 4,
          "xref": "x",
          "y": 1,
          "yref": "y"
         },
         {
          "font": {
           "color": "white"
          },
          "showarrow": false,
          "text": "0.1 - 1",
          "x": 0,
          "xref": "x",
          "y": 2,
          "yref": "y"
         },
         {
          "font": {
           "color": "white"
          },
          "showarrow": false,
          "text": "21.4 - 173",
          "x": 1,
          "xref": "x",
          "y": 2,
          "yref": "y"
         },
         {
          "font": {
           "color": "white"
          },
          "showarrow": false,
          "text": "38.5 - 311",
          "x": 2,
          "xref": "x",
          "y": 2,
          "yref": "y"
         },
         {
          "font": {
           "color": "white"
          },
          "showarrow": false,
          "text": "11.2 - 90",
          "x": 3,
          "xref": "x",
          "y": 2,
          "yref": "y"
         },
         {
          "font": {
           "color": "white"
          },
          "showarrow": false,
          "text": "28.7 - 232",
          "x": 4,
          "xref": "x",
          "y": 2,
          "yref": "y"
         },
         {
          "font": {
           "color": "white"
          },
          "showarrow": false,
          "text": "0.5 - 3",
          "x": 0,
          "xref": "x",
          "y": 3,
          "yref": "y"
         },
         {
          "font": {
           "color": "white"
          },
          "showarrow": false,
          "text": "16.9 - 110",
          "x": 1,
          "xref": "x",
          "y": 3,
          "yref": "y"
         },
         {
          "font": {
           "color": "white"
          },
          "showarrow": false,
          "text": "33.6 - 219",
          "x": 2,
          "xref": "x",
          "y": 3,
          "yref": "y"
         },
         {
          "font": {
           "color": "white"
          },
          "showarrow": false,
          "text": "19.3 - 126",
          "x": 3,
          "xref": "x",
          "y": 3,
          "yref": "y"
         },
         {
          "font": {
           "color": "white"
          },
          "showarrow": false,
          "text": "29.8 - 194",
          "x": 4,
          "xref": "x",
          "y": 3,
          "yref": "y"
         },
         {
          "font": {
           "color": "white"
          },
          "showarrow": false,
          "text": "0.1 - 1",
          "x": 0,
          "xref": "x",
          "y": 4,
          "yref": "y"
         },
         {
          "font": {
           "color": "white"
          },
          "showarrow": false,
          "text": "9.0 - 76",
          "x": 1,
          "xref": "x",
          "y": 4,
          "yref": "y"
         },
         {
          "font": {
           "color": "white"
          },
          "showarrow": false,
          "text": "21.8 - 183",
          "x": 2,
          "xref": "x",
          "y": 4,
          "yref": "y"
         },
         {
          "font": {
           "color": "white"
          },
          "showarrow": false,
          "text": "6.2 - 52",
          "x": 3,
          "xref": "x",
          "y": 4,
          "yref": "y"
         },
         {
          "font": {
           "color": "white"
          },
          "showarrow": false,
          "text": "62.9 - 528",
          "x": 4,
          "xref": "x",
          "y": 4,
          "yref": "y"
         }
        ],
        "height": 800,
        "template": {
         "data": {
          "bar": [
           {
            "error_x": {
             "color": "#2a3f5f"
            },
            "error_y": {
             "color": "#2a3f5f"
            },
            "marker": {
             "line": {
              "color": "#E5ECF6",
              "width": 0.5
             },
             "pattern": {
              "fillmode": "overlay",
              "size": 10,
              "solidity": 0.2
             }
            },
            "type": "bar"
           }
          ],
          "barpolar": [
           {
            "marker": {
             "line": {
              "color": "#E5ECF6",
              "width": 0.5
             },
             "pattern": {
              "fillmode": "overlay",
              "size": 10,
              "solidity": 0.2
             }
            },
            "type": "barpolar"
           }
          ],
          "carpet": [
           {
            "aaxis": {
             "endlinecolor": "#2a3f5f",
             "gridcolor": "white",
             "linecolor": "white",
             "minorgridcolor": "white",
             "startlinecolor": "#2a3f5f"
            },
            "baxis": {
             "endlinecolor": "#2a3f5f",
             "gridcolor": "white",
             "linecolor": "white",
             "minorgridcolor": "white",
             "startlinecolor": "#2a3f5f"
            },
            "type": "carpet"
           }
          ],
          "choropleth": [
           {
            "colorbar": {
             "outlinewidth": 0,
             "ticks": ""
            },
            "type": "choropleth"
           }
          ],
          "contour": [
           {
            "colorbar": {
             "outlinewidth": 0,
             "ticks": ""
            },
            "colorscale": [
             [
              0,
              "#0d0887"
             ],
             [
              0.1111111111111111,
              "#46039f"
             ],
             [
              0.2222222222222222,
              "#7201a8"
             ],
             [
              0.3333333333333333,
              "#9c179e"
             ],
             [
              0.4444444444444444,
              "#bd3786"
             ],
             [
              0.5555555555555556,
              "#d8576b"
             ],
             [
              0.6666666666666666,
              "#ed7953"
             ],
             [
              0.7777777777777778,
              "#fb9f3a"
             ],
             [
              0.8888888888888888,
              "#fdca26"
             ],
             [
              1,
              "#f0f921"
             ]
            ],
            "type": "contour"
           }
          ],
          "contourcarpet": [
           {
            "colorbar": {
             "outlinewidth": 0,
             "ticks": ""
            },
            "type": "contourcarpet"
           }
          ],
          "heatmap": [
           {
            "colorbar": {
             "outlinewidth": 0,
             "ticks": ""
            },
            "colorscale": [
             [
              0,
              "#0d0887"
             ],
             [
              0.1111111111111111,
              "#46039f"
             ],
             [
              0.2222222222222222,
              "#7201a8"
             ],
             [
              0.3333333333333333,
              "#9c179e"
             ],
             [
              0.4444444444444444,
              "#bd3786"
             ],
             [
              0.5555555555555556,
              "#d8576b"
             ],
             [
              0.6666666666666666,
              "#ed7953"
             ],
             [
              0.7777777777777778,
              "#fb9f3a"
             ],
             [
              0.8888888888888888,
              "#fdca26"
             ],
             [
              1,
              "#f0f921"
             ]
            ],
            "type": "heatmap"
           }
          ],
          "heatmapgl": [
           {
            "colorbar": {
             "outlinewidth": 0,
             "ticks": ""
            },
            "colorscale": [
             [
              0,
              "#0d0887"
             ],
             [
              0.1111111111111111,
              "#46039f"
             ],
             [
              0.2222222222222222,
              "#7201a8"
             ],
             [
              0.3333333333333333,
              "#9c179e"
             ],
             [
              0.4444444444444444,
              "#bd3786"
             ],
             [
              0.5555555555555556,
              "#d8576b"
             ],
             [
              0.6666666666666666,
              "#ed7953"
             ],
             [
              0.7777777777777778,
              "#fb9f3a"
             ],
             [
              0.8888888888888888,
              "#fdca26"
             ],
             [
              1,
              "#f0f921"
             ]
            ],
            "type": "heatmapgl"
           }
          ],
          "histogram": [
           {
            "marker": {
             "pattern": {
              "fillmode": "overlay",
              "size": 10,
              "solidity": 0.2
             }
            },
            "type": "histogram"
           }
          ],
          "histogram2d": [
           {
            "colorbar": {
             "outlinewidth": 0,
             "ticks": ""
            },
            "colorscale": [
             [
              0,
              "#0d0887"
             ],
             [
              0.1111111111111111,
              "#46039f"
             ],
             [
              0.2222222222222222,
              "#7201a8"
             ],
             [
              0.3333333333333333,
              "#9c179e"
             ],
             [
              0.4444444444444444,
              "#bd3786"
             ],
             [
              0.5555555555555556,
              "#d8576b"
             ],
             [
              0.6666666666666666,
              "#ed7953"
             ],
             [
              0.7777777777777778,
              "#fb9f3a"
             ],
             [
              0.8888888888888888,
              "#fdca26"
             ],
             [
              1,
              "#f0f921"
             ]
            ],
            "type": "histogram2d"
           }
          ],
          "histogram2dcontour": [
           {
            "colorbar": {
             "outlinewidth": 0,
             "ticks": ""
            },
            "colorscale": [
             [
              0,
              "#0d0887"
             ],
             [
              0.1111111111111111,
              "#46039f"
             ],
             [
              0.2222222222222222,
              "#7201a8"
             ],
             [
              0.3333333333333333,
              "#9c179e"
             ],
             [
              0.4444444444444444,
              "#bd3786"
             ],
             [
              0.5555555555555556,
              "#d8576b"
             ],
             [
              0.6666666666666666,
              "#ed7953"
             ],
             [
              0.7777777777777778,
              "#fb9f3a"
             ],
             [
              0.8888888888888888,
              "#fdca26"
             ],
             [
              1,
              "#f0f921"
             ]
            ],
            "type": "histogram2dcontour"
           }
          ],
          "mesh3d": [
           {
            "colorbar": {
             "outlinewidth": 0,
             "ticks": ""
            },
            "type": "mesh3d"
           }
          ],
          "parcoords": [
           {
            "line": {
             "colorbar": {
              "outlinewidth": 0,
              "ticks": ""
             }
            },
            "type": "parcoords"
           }
          ],
          "pie": [
           {
            "automargin": true,
            "type": "pie"
           }
          ],
          "scatter": [
           {
            "fillpattern": {
             "fillmode": "overlay",
             "size": 10,
             "solidity": 0.2
            },
            "type": "scatter"
           }
          ],
          "scatter3d": [
           {
            "line": {
             "colorbar": {
              "outlinewidth": 0,
              "ticks": ""
             }
            },
            "marker": {
             "colorbar": {
              "outlinewidth": 0,
              "ticks": ""
             }
            },
            "type": "scatter3d"
           }
          ],
          "scattercarpet": [
           {
            "marker": {
             "colorbar": {
              "outlinewidth": 0,
              "ticks": ""
             }
            },
            "type": "scattercarpet"
           }
          ],
          "scattergeo": [
           {
            "marker": {
             "colorbar": {
              "outlinewidth": 0,
              "ticks": ""
             }
            },
            "type": "scattergeo"
           }
          ],
          "scattergl": [
           {
            "marker": {
             "colorbar": {
              "outlinewidth": 0,
              "ticks": ""
             }
            },
            "type": "scattergl"
           }
          ],
          "scattermapbox": [
           {
            "marker": {
             "colorbar": {
              "outlinewidth": 0,
              "ticks": ""
             }
            },
            "type": "scattermapbox"
           }
          ],
          "scatterpolar": [
           {
            "marker": {
             "colorbar": {
              "outlinewidth": 0,
              "ticks": ""
             }
            },
            "type": "scatterpolar"
           }
          ],
          "scatterpolargl": [
           {
            "marker": {
             "colorbar": {
              "outlinewidth": 0,
              "ticks": ""
             }
            },
            "type": "scatterpolargl"
           }
          ],
          "scatterternary": [
           {
            "marker": {
             "colorbar": {
              "outlinewidth": 0,
              "ticks": ""
             }
            },
            "type": "scatterternary"
           }
          ],
          "surface": [
           {
            "colorbar": {
             "outlinewidth": 0,
             "ticks": ""
            },
            "colorscale": [
             [
              0,
              "#0d0887"
             ],
             [
              0.1111111111111111,
              "#46039f"
             ],
             [
              0.2222222222222222,
              "#7201a8"
             ],
             [
              0.3333333333333333,
              "#9c179e"
             ],
             [
              0.4444444444444444,
              "#bd3786"
             ],
             [
              0.5555555555555556,
              "#d8576b"
             ],
             [
              0.6666666666666666,
              "#ed7953"
             ],
             [
              0.7777777777777778,
              "#fb9f3a"
             ],
             [
              0.8888888888888888,
              "#fdca26"
             ],
             [
              1,
              "#f0f921"
             ]
            ],
            "type": "surface"
           }
          ],
          "table": [
           {
            "cells": {
             "fill": {
              "color": "#EBF0F8"
             },
             "line": {
              "color": "white"
             }
            },
            "header": {
             "fill": {
              "color": "#C8D4E3"
             },
             "line": {
              "color": "white"
             }
            },
            "type": "table"
           }
          ]
         },
         "layout": {
          "annotationdefaults": {
           "arrowcolor": "#2a3f5f",
           "arrowhead": 0,
           "arrowwidth": 1
          },
          "autotypenumbers": "strict",
          "coloraxis": {
           "colorbar": {
            "outlinewidth": 0,
            "ticks": ""
           }
          },
          "colorscale": {
           "diverging": [
            [
             0,
             "#8e0152"
            ],
            [
             0.1,
             "#c51b7d"
            ],
            [
             0.2,
             "#de77ae"
            ],
            [
             0.3,
             "#f1b6da"
            ],
            [
             0.4,
             "#fde0ef"
            ],
            [
             0.5,
             "#f7f7f7"
            ],
            [
             0.6,
             "#e6f5d0"
            ],
            [
             0.7,
             "#b8e186"
            ],
            [
             0.8,
             "#7fbc41"
            ],
            [
             0.9,
             "#4d9221"
            ],
            [
             1,
             "#276419"
            ]
           ],
           "sequential": [
            [
             0,
             "#0d0887"
            ],
            [
             0.1111111111111111,
             "#46039f"
            ],
            [
             0.2222222222222222,
             "#7201a8"
            ],
            [
             0.3333333333333333,
             "#9c179e"
            ],
            [
             0.4444444444444444,
             "#bd3786"
            ],
            [
             0.5555555555555556,
             "#d8576b"
            ],
            [
             0.6666666666666666,
             "#ed7953"
            ],
            [
             0.7777777777777778,
             "#fb9f3a"
            ],
            [
             0.8888888888888888,
             "#fdca26"
            ],
            [
             1,
             "#f0f921"
            ]
           ],
           "sequentialminus": [
            [
             0,
             "#0d0887"
            ],
            [
             0.1111111111111111,
             "#46039f"
            ],
            [
             0.2222222222222222,
             "#7201a8"
            ],
            [
             0.3333333333333333,
             "#9c179e"
            ],
            [
             0.4444444444444444,
             "#bd3786"
            ],
            [
             0.5555555555555556,
             "#d8576b"
            ],
            [
             0.6666666666666666,
             "#ed7953"
            ],
            [
             0.7777777777777778,
             "#fb9f3a"
            ],
            [
             0.8888888888888888,
             "#fdca26"
            ],
            [
             1,
             "#f0f921"
            ]
           ]
          },
          "colorway": [
           "#636efa",
           "#EF553B",
           "#00cc96",
           "#ab63fa",
           "#FFA15A",
           "#19d3f3",
           "#FF6692",
           "#B6E880",
           "#FF97FF",
           "#FECB52"
          ],
          "font": {
           "color": "#2a3f5f"
          },
          "geo": {
           "bgcolor": "white",
           "lakecolor": "white",
           "landcolor": "#E5ECF6",
           "showlakes": true,
           "showland": true,
           "subunitcolor": "white"
          },
          "hoverlabel": {
           "align": "left"
          },
          "hovermode": "closest",
          "mapbox": {
           "style": "light"
          },
          "paper_bgcolor": "white",
          "plot_bgcolor": "#E5ECF6",
          "polar": {
           "angularaxis": {
            "gridcolor": "white",
            "linecolor": "white",
            "ticks": ""
           },
           "bgcolor": "#E5ECF6",
           "radialaxis": {
            "gridcolor": "white",
            "linecolor": "white",
            "ticks": ""
           }
          },
          "scene": {
           "xaxis": {
            "backgroundcolor": "#E5ECF6",
            "gridcolor": "white",
            "gridwidth": 2,
            "linecolor": "white",
            "showbackground": true,
            "ticks": "",
            "zerolinecolor": "white"
           },
           "yaxis": {
            "backgroundcolor": "#E5ECF6",
            "gridcolor": "white",
            "gridwidth": 2,
            "linecolor": "white",
            "showbackground": true,
            "ticks": "",
            "zerolinecolor": "white"
           },
           "zaxis": {
            "backgroundcolor": "#E5ECF6",
            "gridcolor": "white",
            "gridwidth": 2,
            "linecolor": "white",
            "showbackground": true,
            "ticks": "",
            "zerolinecolor": "white"
           }
          },
          "shapedefaults": {
           "line": {
            "color": "#2a3f5f"
           }
          },
          "ternary": {
           "aaxis": {
            "gridcolor": "white",
            "linecolor": "white",
            "ticks": ""
           },
           "baxis": {
            "gridcolor": "white",
            "linecolor": "white",
            "ticks": ""
           },
           "bgcolor": "#E5ECF6",
           "caxis": {
            "gridcolor": "white",
            "linecolor": "white",
            "ticks": ""
           }
          },
          "title": {
           "x": 0.05
          },
          "xaxis": {
           "automargin": true,
           "gridcolor": "white",
           "linecolor": "white",
           "ticks": "",
           "title": {
            "standoff": 15
           },
           "zerolinecolor": "white",
           "zerolinewidth": 2
          },
          "yaxis": {
           "automargin": true,
           "gridcolor": "white",
           "linecolor": "white",
           "ticks": "",
           "title": {
            "standoff": 15
           },
           "zerolinecolor": "white",
           "zerolinewidth": 2
          }
         }
        },
        "title": {
         "text": "Conf Matrix"
        },
        "width": 800,
        "xaxis": {
         "title": {
          "text": "Predicted value"
         }
        },
        "yaxis": {
         "title": {
          "text": "Real value"
         }
        }
       }
      }
     },
     "metadata": {},
     "output_type": "display_data"
    },
    {
     "data": {
      "text/plain": [
       "{'kappa': 0.33093403829656054,\n",
       " 'accuracy': 0.3914638212737579,\n",
       " 'balanced_accuracy': 0.32177012028422647}"
      ]
     },
     "execution_count": 26,
     "metadata": {},
     "output_type": "execute_result"
    }
   ],
   "source": [
    "#MAtriz de confusion y Kappa dfe OVA\n",
    "y_pred = lgb_model.predict(X_test).argmax(axis=1)\n",
    "\n",
    "display(plot_confusion_matrix(y_test,y_pred))\n",
    "\n",
    "{'kappa':cohen_kappa_score(y_test,\n",
    "                y_pred,\n",
    "                weights = 'quadratic'),\n",
    " 'accuracy':accuracy_score(y_test,y_pred),\n",
    " 'balanced_accuracy':balanced_accuracy_score(y_test,y_pred)}\n",
    "\n",
    "\n"
   ]
  },
  {
   "cell_type": "code",
   "execution_count": 27,
   "metadata": {},
   "outputs": [],
   "source": [
    "#USAR MULTINOVA MEJORA KAPPA OSEA MI MODELO SE ACERCA MAS AL ORIG"
   ]
  },
  {
   "cell_type": "markdown",
   "metadata": {},
   "source": [
    "## Optimizacion de hiperparametros modelo train/test"
   ]
  },
  {
   "cell_type": "code",
   "execution_count": 28,
   "metadata": {},
   "outputs": [],
   "source": [
    "#AHORA SUMAMOS HIPERPARAMETROS PARA VER QUE PASA CON LGBM"
   ]
  },
  {
   "cell_type": "code",
   "execution_count": 29,
   "metadata": {},
   "outputs": [],
   "source": [
    "\n",
    "#Funcion que vamos a optimizar. Optuna requiere que usemos el objeto trial para generar los parametros a optimizar\n",
    "def lgb_objective(trial):\n",
    "    #PArametros para LightGBM\n",
    "    lgb_params = {      \n",
    "                        #PArametros fijos\n",
    "                        'objective': 'multiclass',\n",
    "                        'verbosity':-1,\n",
    "                        'num_class': len(y_train.unique()),\n",
    "                        #Hiperparametros a optimizar utilizando suggest_float o suggest_int segun el tipo de dato\n",
    "                        #Se indica el nombre del parametro, valor minimo, valor maximo \n",
    "                        #en elgunos casos el parametro log=True para parametros que requieren buscar en esa escala\n",
    "                        'lambda_l1': trial.suggest_float('lambda_l1', 1e-8, 10.0, log=True),\n",
    "                        'lambda_l2': trial.suggest_float('lambda_l2', 1e-8, 10.0, log=True),\n",
    "                        'num_leaves': trial.suggest_int('num_leaves', 2, 256),\n",
    "                        'feature_fraction': trial.suggest_float('feature_fraction', 0.4, 1.0),\n",
    "                        'bagging_fraction': trial.suggest_float('bagging_fraction', 0.4, 1.0),\n",
    "                        'bagging_freq': trial.suggest_int('bagging_freq', 1, 7),\n",
    "                        'min_child_samples': trial.suggest_int('min_child_samples', 5, 100),\n",
    "                        } \n",
    "\n",
    "    #Genero objeto dataset de entrenamiento\n",
    "    lgb_train_dataset = lgb.Dataset(data=X_train,\n",
    "                                    label=y_train)\n",
    "\n",
    "    #ajuste de modelo\n",
    "    lgb_model = lgb.train(lgb_params,\n",
    "                        lgb_train_dataset)\n",
    "    \n",
    "    #Devuelvo el score en test\n",
    "    return(cohen_kappa_score(y_test,lgb_model.predict(X_test).argmax(axis=1),\n",
    "                             weights = 'quadratic'))"
   ]
  },
  {
   "cell_type": "code",
   "execution_count": 30,
   "metadata": {},
   "outputs": [
    {
     "name": "stderr",
     "output_type": "stream",
     "text": [
      "[I 2024-08-10 12:01:49,026] Using an existing study with name '04 - LGB Multiclass' instead of creating a new one.\n",
      "[I 2024-08-10 12:01:54,523] Trial 100 finished with value: 0.32606175668634907 and parameters: {'lambda_l1': 1.7079235681289897, 'lambda_l2': 1.432994566904248e-06, 'num_leaves': 31, 'feature_fraction': 0.8996452682332243, 'bagging_fraction': 0.5835051146291816, 'bagging_freq': 6, 'min_child_samples': 22}. Best is trial 48 with value: 0.3405546766021811.\n",
      "[I 2024-08-10 12:01:57,108] Trial 101 finished with value: 0.3176741795000081 and parameters: {'lambda_l1': 4.502632612079899, 'lambda_l2': 5.728082945404659e-06, 'num_leaves': 14, 'feature_fraction': 0.9875088332607517, 'bagging_fraction': 0.5691282525452385, 'bagging_freq': 6, 'min_child_samples': 10}. Best is trial 48 with value: 0.3405546766021811.\n",
      "[I 2024-08-10 12:02:00,042] Trial 102 finished with value: 0.3235253499626257 and parameters: {'lambda_l1': 0.08458686419402178, 'lambda_l2': 1.26143373530619e-05, 'num_leaves': 25, 'feature_fraction': 0.967804740542348, 'bagging_fraction': 0.5915675745608747, 'bagging_freq': 6, 'min_child_samples': 7}. Best is trial 48 with value: 0.3405546766021811.\n",
      "[I 2024-08-10 12:02:02,025] Trial 103 finished with value: 0.32430376869788 and parameters: {'lambda_l1': 0.013860554866768134, 'lambda_l2': 2.7935503030336836e-06, 'num_leaves': 6, 'feature_fraction': 0.9128369652467306, 'bagging_fraction': 0.6637253876576525, 'bagging_freq': 6, 'min_child_samples': 14}. Best is trial 48 with value: 0.3405546766021811.\n",
      "[I 2024-08-10 12:02:06,627] Trial 104 finished with value: 0.3268619705017459 and parameters: {'lambda_l1': 0.5512219015384823, 'lambda_l2': 2.157412464444272e-05, 'num_leaves': 37, 'feature_fraction': 0.9442852000931502, 'bagging_fraction': 0.6100962291048232, 'bagging_freq': 6, 'min_child_samples': 18}. Best is trial 48 with value: 0.3405546766021811.\n",
      "[I 2024-08-10 12:02:10,765] Trial 105 finished with value: 0.33416638408252486 and parameters: {'lambda_l1': 0.027222112934047707, 'lambda_l2': 6.2843229452547255e-06, 'num_leaves': 29, 'feature_fraction': 0.959455942297208, 'bagging_fraction': 0.6375706478147681, 'bagging_freq': 7, 'min_child_samples': 5}. Best is trial 48 with value: 0.3405546766021811.\n",
      "[I 2024-08-10 12:02:15,540] Trial 106 finished with value: 0.33314129121714897 and parameters: {'lambda_l1': 0.048957460332727215, 'lambda_l2': 2.5136779719693914e-07, 'num_leaves': 44, 'feature_fraction': 0.9579168927485823, 'bagging_fraction': 0.6396897244948764, 'bagging_freq': 7, 'min_child_samples': 6}. Best is trial 48 with value: 0.3405546766021811.\n",
      "[I 2024-08-10 12:02:19,396] Trial 107 finished with value: 0.32991172043176575 and parameters: {'lambda_l1': 0.035443289334788554, 'lambda_l2': 2.7721535246161614e-07, 'num_leaves': 29, 'feature_fraction': 0.9554696764232743, 'bagging_fraction': 0.6379888338119954, 'bagging_freq': 7, 'min_child_samples': 5}. Best is trial 48 with value: 0.3405546766021811.\n",
      "[I 2024-08-10 12:02:23,714] Trial 108 finished with value: 0.32172159322749705 and parameters: {'lambda_l1': 0.03459734634680047, 'lambda_l2': 1.1005922581791487e-06, 'num_leaves': 44, 'feature_fraction': 0.9527504595977545, 'bagging_fraction': 0.6410701700129888, 'bagging_freq': 7, 'min_child_samples': 6}. Best is trial 48 with value: 0.3405546766021811.\n",
      "[I 2024-08-10 12:02:41,748] Trial 109 finished with value: 0.29268796695290156 and parameters: {'lambda_l1': 0.196353124482458, 'lambda_l2': 2.2945204526812493e-07, 'num_leaves': 175, 'feature_fraction': 0.9710214241824863, 'bagging_fraction': 0.6748725840851031, 'bagging_freq': 7, 'min_child_samples': 8}. Best is trial 48 with value: 0.3405546766021811.\n",
      "[I 2024-08-10 12:02:50,351] Trial 110 finished with value: 0.3103772658002396 and parameters: {'lambda_l1': 0.0725437024078503, 'lambda_l2': 6.599691338768666e-08, 'num_leaves': 118, 'feature_fraction': 0.9322856371453421, 'bagging_fraction': 0.6299647493595181, 'bagging_freq': 7, 'min_child_samples': 5}. Best is trial 48 with value: 0.3405546766021811.\n",
      "[I 2024-08-10 12:02:52,959] Trial 111 finished with value: 0.3253902506919587 and parameters: {'lambda_l1': 0.04786001408591778, 'lambda_l2': 1.3308592366411533e-07, 'num_leaves': 30, 'feature_fraction': 0.9214625344219332, 'bagging_fraction': 0.6511167232097379, 'bagging_freq': 7, 'min_child_samples': 12}. Best is trial 48 with value: 0.3405546766021811.\n",
      "[I 2024-08-10 12:02:55,785] Trial 112 finished with value: 0.32077030439976184 and parameters: {'lambda_l1': 0.02073248144426778, 'lambda_l2': 4.277270331249272e-06, 'num_leaves': 21, 'feature_fraction': 0.9998792836978083, 'bagging_fraction': 0.6190181062335718, 'bagging_freq': 7, 'min_child_samples': 9}. Best is trial 48 with value: 0.3405546766021811.\n",
      "[I 2024-08-10 12:02:59,219] Trial 113 finished with value: 0.3220118741708283 and parameters: {'lambda_l1': 0.011335445713910573, 'lambda_l2': 2.390481445241715e-07, 'num_leaves': 36, 'feature_fraction': 0.9569688257152099, 'bagging_fraction': 0.6907957151860018, 'bagging_freq': 7, 'min_child_samples': 12}. Best is trial 48 with value: 0.3405546766021811.\n",
      "[I 2024-08-10 12:03:01,782] Trial 114 finished with value: 0.31923080468933407 and parameters: {'lambda_l1': 0.11725038676643389, 'lambda_l2': 6.437212930658037e-07, 'num_leaves': 26, 'feature_fraction': 0.6652304745818433, 'bagging_fraction': 0.6075494413281426, 'bagging_freq': 7, 'min_child_samples': 5}. Best is trial 48 with value: 0.3405546766021811.\n",
      "[I 2024-08-10 12:03:05,187] Trial 115 finished with value: 0.3120706364413075 and parameters: {'lambda_l1': 0.006107831249290319, 'lambda_l2': 2.37379998091107e-06, 'num_leaves': 58, 'feature_fraction': 0.942009015434432, 'bagging_fraction': 0.6375976943085915, 'bagging_freq': 7, 'min_child_samples': 9}. Best is trial 48 with value: 0.3405546766021811.\n",
      "[I 2024-08-10 12:03:12,345] Trial 116 finished with value: 0.3142328999434252 and parameters: {'lambda_l1': 0.1736074823099051, 'lambda_l2': 5.107720782195075e-07, 'num_leaves': 146, 'feature_fraction': 0.883041877391152, 'bagging_fraction': 0.6611266915074456, 'bagging_freq': 7, 'min_child_samples': 7}. Best is trial 48 with value: 0.3405546766021811.\n",
      "[I 2024-08-10 12:03:14,107] Trial 117 finished with value: 0.3175800760233801 and parameters: {'lambda_l1': 0.023829657377963456, 'lambda_l2': 1.6679216734967513e-06, 'num_leaves': 18, 'feature_fraction': 0.98003822977059, 'bagging_fraction': 0.6491529517002618, 'bagging_freq': 7, 'min_child_samples': 14}. Best is trial 48 with value: 0.3405546766021811.\n",
      "[I 2024-08-10 12:03:16,926] Trial 118 finished with value: 0.3252961792837571 and parameters: {'lambda_l1': 0.0027413675680522756, 'lambda_l2': 2.6598210622888933e-08, 'num_leaves': 42, 'feature_fraction': 0.9296765135177272, 'bagging_fraction': 0.5966738571006351, 'bagging_freq': 7, 'min_child_samples': 10}. Best is trial 48 with value: 0.3405546766021811.\n",
      "[I 2024-08-10 12:03:19,430] Trial 119 finished with value: 0.3143737111738144 and parameters: {'lambda_l1': 0.0015486156227404642, 'lambda_l2': 6.054720935582755e-06, 'num_leaves': 33, 'feature_fraction': 0.9126613551127081, 'bagging_fraction': 0.5724110787455772, 'bagging_freq': 7, 'min_child_samples': 46}. Best is trial 48 with value: 0.3405546766021811.\n",
      "[I 2024-08-10 12:03:21,853] Trial 120 finished with value: 0.3108817283105235 and parameters: {'lambda_l1': 0.02886506422126196, 'lambda_l2': 8.016190669461351e-08, 'num_leaves': 28, 'feature_fraction': 0.9671580414908838, 'bagging_fraction': 0.6781588240252678, 'bagging_freq': 7, 'min_child_samples': 92}. Best is trial 48 with value: 0.3405546766021811.\n",
      "[I 2024-08-10 12:03:25,437] Trial 121 finished with value: 0.3125300446715321 and parameters: {'lambda_l1': 1.1227749118371169, 'lambda_l2': 4.423188405072748e-08, 'num_leaves': 51, 'feature_fraction': 0.8986675764499253, 'bagging_fraction': 0.5575446029617098, 'bagging_freq': 4, 'min_child_samples': 16}. Best is trial 48 with value: 0.3405546766021811.\n",
      "[I 2024-08-10 12:03:28,760] Trial 122 finished with value: 0.2971816010376388 and parameters: {'lambda_l1': 0.004235189874536372, 'lambda_l2': 1.708182090585121e-08, 'num_leaves': 48, 'feature_fraction': 0.873501896271352, 'bagging_fraction': 0.6243519323512325, 'bagging_freq': 4, 'min_child_samples': 12}. Best is trial 48 with value: 0.3405546766021811.\n",
      "[I 2024-08-10 12:03:30,554] Trial 123 finished with value: 0.3182736853967396 and parameters: {'lambda_l1': 0.06109006878995233, 'lambda_l2': 1.0869161495087332e-06, 'num_leaves': 13, 'feature_fraction': 0.9520979623498063, 'bagging_fraction': 0.5437814225375212, 'bagging_freq': 4, 'min_child_samples': 20}. Best is trial 48 with value: 0.3405546766021811.\n",
      "[I 2024-08-10 12:03:34,355] Trial 124 finished with value: 0.3144305624514634 and parameters: {'lambda_l1': 0.38320581967547784, 'lambda_l2': 1.6543559711689218e-07, 'num_leaves': 66, 'feature_fraction': 0.9355088047914923, 'bagging_fraction': 0.5921524459246876, 'bagging_freq': 3, 'min_child_samples': 23}. Best is trial 48 with value: 0.3405546766021811.\n",
      "[I 2024-08-10 12:03:37,224] Trial 125 finished with value: 0.317221371375459 and parameters: {'lambda_l1': 2.753119666724361, 'lambda_l2': 1.7932055512961212e-05, 'num_leaves': 40, 'feature_fraction': 0.8487139149876202, 'bagging_fraction': 0.6111353317686558, 'bagging_freq': 4, 'min_child_samples': 7}. Best is trial 48 with value: 0.3405546766021811.\n",
      "[I 2024-08-10 12:03:39,471] Trial 126 finished with value: 0.3248184651413131 and parameters: {'lambda_l1': 0.0010073527199413374, 'lambda_l2': 1.0821295857948634e-05, 'num_leaves': 20, 'feature_fraction': 0.9208276022078349, 'bagging_fraction': 0.6337676109180682, 'bagging_freq': 6, 'min_child_samples': 14}. Best is trial 48 with value: 0.3405546766021811.\n",
      "[I 2024-08-10 12:03:41,722] Trial 127 finished with value: 0.3163240100497182 and parameters: {'lambda_l1': 0.11931792673572203, 'lambda_l2': 4.396213801552607e-05, 'num_leaves': 29, 'feature_fraction': 0.892684425844595, 'bagging_fraction': 0.5788973639381746, 'bagging_freq': 5, 'min_child_samples': 10}. Best is trial 48 with value: 0.3405546766021811.\n",
      "[I 2024-08-10 12:03:45,891] Trial 128 finished with value: 0.3003885029583253 and parameters: {'lambda_l1': 0.04224075339275464, 'lambda_l2': 1.908432883797746e-06, 'num_leaves': 75, 'feature_fraction': 0.9642936913789124, 'bagging_fraction': 0.5226010655714645, 'bagging_freq': 6, 'min_child_samples': 5}. Best is trial 48 with value: 0.3405546766021811.\n",
      "[I 2024-08-10 12:03:48,837] Trial 129 finished with value: 0.3208613488379548 and parameters: {'lambda_l1': 0.011724914904625565, 'lambda_l2': 3.222970026235093e-05, 'num_leaves': 37, 'feature_fraction': 0.9053029345425619, 'bagging_fraction': 0.558039302359676, 'bagging_freq': 4, 'min_child_samples': 18}. Best is trial 48 with value: 0.3405546766021811.\n",
      "[I 2024-08-10 12:03:51,728] Trial 130 finished with value: 0.29414820120237717 and parameters: {'lambda_l1': 9.454790120311378e-08, 'lambda_l2': 3.2235599014075453e-07, 'num_leaves': 16, 'feature_fraction': 0.4277521898253645, 'bagging_fraction': 0.6646050493958611, 'bagging_freq': 4, 'min_child_samples': 39}. Best is trial 48 with value: 0.3405546766021811.\n",
      "[I 2024-08-10 12:03:52,995] Trial 131 finished with value: 0.3182670242394734 and parameters: {'lambda_l1': 0.0005964143449128535, 'lambda_l2': 7.416952655442365e-06, 'num_leaves': 6, 'feature_fraction': 0.9848758193278746, 'bagging_fraction': 0.6220823170477389, 'bagging_freq': 6, 'min_child_samples': 32}. Best is trial 48 with value: 0.3405546766021811.\n",
      "[I 2024-08-10 12:03:58,279] Trial 132 finished with value: 0.2877359016619764 and parameters: {'lambda_l1': 4.7964470255350006e-06, 'lambda_l2': 4.262935056829194e-06, 'num_leaves': 90, 'feature_fraction': 0.9823347594984958, 'bagging_fraction': 0.6437867182088842, 'bagging_freq': 6, 'min_child_samples': 35}. Best is trial 48 with value: 0.3405546766021811.\n",
      "[I 2024-08-10 12:03:59,850] Trial 133 finished with value: 0.3288732960376819 and parameters: {'lambda_l1': 0.01984258378649712, 'lambda_l2': 2.9567668032551146e-06, 'num_leaves': 10, 'feature_fraction': 0.9527672323069389, 'bagging_fraction': 0.6083526960992041, 'bagging_freq': 6, 'min_child_samples': 26}. Best is trial 48 with value: 0.3405546766021811.\n",
      "[I 2024-08-10 12:04:02,326] Trial 134 finished with value: 0.33933322299991975 and parameters: {'lambda_l1': 0.019638343521958014, 'lambda_l2': 2.6102468247568502e-06, 'num_leaves': 23, 'feature_fraction': 0.9394509383982758, 'bagging_fraction': 0.5900372539395567, 'bagging_freq': 6, 'min_child_samples': 26}. Best is trial 48 with value: 0.3405546766021811.\n",
      "[I 2024-08-10 12:04:04,663] Trial 135 finished with value: 0.3261920713279266 and parameters: {'lambda_l1': 0.025968208179110074, 'lambda_l2': 7.018715494755575e-07, 'num_leaves': 23, 'feature_fraction': 0.9384397899508841, 'bagging_fraction': 0.5910201312422149, 'bagging_freq': 6, 'min_child_samples': 27}. Best is trial 48 with value: 0.3405546766021811.\n",
      "[I 2024-08-10 12:04:06,313] Trial 136 finished with value: 0.32766099180094665 and parameters: {'lambda_l1': 0.008937616219143223, 'lambda_l2': 3.1743297232484227e-06, 'num_leaves': 10, 'feature_fraction': 0.9593616534890418, 'bagging_fraction': 0.605144888264698, 'bagging_freq': 6, 'min_child_samples': 24}. Best is trial 48 with value: 0.3405546766021811.\n",
      "[I 2024-08-10 12:04:07,262] Trial 137 finished with value: 0.2672327317002262 and parameters: {'lambda_l1': 0.006627129363959275, 'lambda_l2': 3.731807350107799e-06, 'num_leaves': 2, 'feature_fraction': 0.9496315922493972, 'bagging_fraction': 0.6056140179656038, 'bagging_freq': 6, 'min_child_samples': 24}. Best is trial 48 with value: 0.3405546766021811.\n",
      "[I 2024-08-10 12:04:08,714] Trial 138 finished with value: 0.3194783398946187 and parameters: {'lambda_l1': 0.01845406600863129, 'lambda_l2': 2.6408080349205176e-06, 'num_leaves': 10, 'feature_fraction': 0.9561638516931117, 'bagging_fraction': 0.615879921464005, 'bagging_freq': 6, 'min_child_samples': 29}. Best is trial 48 with value: 0.3405546766021811.\n",
      "[I 2024-08-10 12:04:11,001] Trial 139 finished with value: 0.3304636566821615 and parameters: {'lambda_l1': 0.03934435477956249, 'lambda_l2': 1.1805291601870724e-06, 'num_leaves': 23, 'feature_fraction': 0.9711312262156746, 'bagging_fraction': 0.6297073519898213, 'bagging_freq': 6, 'min_child_samples': 22}. Best is trial 48 with value: 0.3405546766021811.\n",
      "[I 2024-08-10 12:04:13,256] Trial 140 finished with value: 0.32159717398365406 and parameters: {'lambda_l1': 0.03990373968850413, 'lambda_l2': 1.030254420805721e-06, 'num_leaves': 23, 'feature_fraction': 0.7353247938092413, 'bagging_fraction': 0.653704116241334, 'bagging_freq': 2, 'min_child_samples': 20}. Best is trial 48 with value: 0.3405546766021811.\n",
      "[I 2024-08-10 12:04:14,914] Trial 141 finished with value: 0.3322712375748116 and parameters: {'lambda_l1': 0.009595471561970185, 'lambda_l2': 9.72775092379233e-06, 'num_leaves': 14, 'feature_fraction': 0.9691270590234821, 'bagging_fraction': 0.6332614890043733, 'bagging_freq': 6, 'min_child_samples': 26}. Best is trial 48 with value: 0.3405546766021811.\n",
      "[I 2024-08-10 12:04:16,507] Trial 142 finished with value: 0.3220456569920853 and parameters: {'lambda_l1': 0.0177983071797178, 'lambda_l2': 1.1870484364657263e-05, 'num_leaves': 16, 'feature_fraction': 0.9727883730201506, 'bagging_fraction': 0.6398895962045208, 'bagging_freq': 6, 'min_child_samples': 26}. Best is trial 48 with value: 0.3405546766021811.\n",
      "[I 2024-08-10 12:04:43,639] Trial 143 finished with value: 0.3285263221413718 and parameters: {'lambda_l1': 0.08165523288451956, 'lambda_l2': 5.852906139201775e-06, 'num_leaves': 32, 'feature_fraction': 0.943511131197393, 'bagging_fraction': 0.6270363439382908, 'bagging_freq': 6, 'min_child_samples': 22}. Best is trial 48 with value: 0.3405546766021811.\n",
      "[I 2024-08-10 12:05:08,679] Trial 144 finished with value: 0.32480232613768556 and parameters: {'lambda_l1': 0.0873175720595269, 'lambda_l2': 5.7283336202695626e-06, 'num_leaves': 29, 'feature_fraction': 0.939865495382179, 'bagging_fraction': 0.6288604242360357, 'bagging_freq': 6, 'min_child_samples': 22}. Best is trial 48 with value: 0.3405546766021811.\n",
      "[I 2024-08-10 12:05:10,960] Trial 145 finished with value: 0.31982212579185965 and parameters: {'lambda_l1': 0.03603144941468652, 'lambda_l2': 8.687762847266374e-06, 'num_leaves': 23, 'feature_fraction': 0.9455982122608417, 'bagging_fraction': 0.6829447815909435, 'bagging_freq': 6, 'min_child_samples': 26}. Best is trial 48 with value: 0.3405546766021811.\n",
      "[I 2024-08-10 12:05:21,248] Trial 146 finished with value: 0.3007121963704541 and parameters: {'lambda_l1': 0.14527128309929568, 'lambda_l2': 1.9294973073949802e-05, 'num_leaves': 206, 'feature_fraction': 0.9244780474155003, 'bagging_fraction': 0.6662185738693173, 'bagging_freq': 5, 'min_child_samples': 29}. Best is trial 48 with value: 0.3405546766021811.\n",
      "[I 2024-08-10 12:05:23,380] Trial 147 finished with value: 0.32562856522306416 and parameters: {'lambda_l1': 0.06828854919862185, 'lambda_l2': 4.37737030999951e-06, 'num_leaves': 32, 'feature_fraction': 0.9690667866575606, 'bagging_fraction': 0.6339612011314586, 'bagging_freq': 6, 'min_child_samples': 31}. Best is trial 48 with value: 0.3405546766021811.\n",
      "[I 2024-08-10 12:05:24,709] Trial 148 finished with value: 0.3201082210161249 and parameters: {'lambda_l1': 0.004951253169141884, 'lambda_l2': 5.7572007253832264e-05, 'num_leaves': 13, 'feature_fraction': 0.9336573354743422, 'bagging_fraction': 0.7457680802091952, 'bagging_freq': 7, 'min_child_samples': 22}. Best is trial 48 with value: 0.3405546766021811.\n",
      "[I 2024-08-10 12:05:26,439] Trial 149 finished with value: 0.325487071902 and parameters: {'lambda_l1': 0.001970782347763369, 'lambda_l2': 1.443741064504249e-05, 'num_leaves': 20, 'feature_fraction': 0.916232189506545, 'bagging_fraction': 0.6494268011184116, 'bagging_freq': 7, 'min_child_samples': 25}. Best is trial 48 with value: 0.3405546766021811.\n",
      "[I 2024-08-10 12:05:27,557] Trial 150 finished with value: 0.30818528955184876 and parameters: {'lambda_l1': 0.011671296995704001, 'lambda_l2': 1.3921410177280464e-06, 'num_leaves': 6, 'feature_fraction': 0.9582200867409868, 'bagging_fraction': 0.5997828407129879, 'bagging_freq': 5, 'min_child_samples': 64}. Best is trial 48 with value: 0.3405546766021811.\n",
      "[I 2024-08-10 12:05:29,685] Trial 151 finished with value: 0.336231617493708 and parameters: {'lambda_l1': 0.05247622230061838, 'lambda_l2': 3.618587686928243e-07, 'num_leaves': 35, 'feature_fraction': 0.9908777184104529, 'bagging_fraction': 0.6242572658578748, 'bagging_freq': 6, 'min_child_samples': 17}. Best is trial 48 with value: 0.3405546766021811.\n",
      "[I 2024-08-10 12:05:31,432] Trial 152 finished with value: 0.3290054685376209 and parameters: {'lambda_l1': 0.05119200518025506, 'lambda_l2': 4.3021162702621616e-07, 'num_leaves': 26, 'feature_fraction': 0.9772003355087054, 'bagging_fraction': 0.6267290317221437, 'bagging_freq': 6, 'min_child_samples': 19}. Best is trial 48 with value: 0.3405546766021811.\n",
      "[I 2024-08-10 12:05:33,271] Trial 153 finished with value: 0.32138861023610554 and parameters: {'lambda_l1': 0.05724962080424591, 'lambda_l2': 4.249896696655705e-07, 'num_leaves': 27, 'feature_fraction': 0.9929440286159865, 'bagging_fraction': 0.625674117055653, 'bagging_freq': 6, 'min_child_samples': 17}. Best is trial 48 with value: 0.3405546766021811.\n",
      "[I 2024-08-10 12:05:34,749] Trial 154 finished with value: 0.32043038498101517 and parameters: {'lambda_l1': 0.029847311699881446, 'lambda_l2': 2.234316261954433e-07, 'num_leaves': 17, 'feature_fraction': 0.9749177778937751, 'bagging_fraction': 0.655819591304313, 'bagging_freq': 6, 'min_child_samples': 21}. Best is trial 48 with value: 0.3405546766021811.\n",
      "[I 2024-08-10 12:05:36,616] Trial 155 finished with value: 0.31351373299744756 and parameters: {'lambda_l1': 0.2559265074594399, 'lambda_l2': 0.00012921792172423664, 'num_leaves': 25, 'feature_fraction': 0.9838320886331003, 'bagging_fraction': 0.6390478044265274, 'bagging_freq': 6, 'min_child_samples': 15}. Best is trial 48 with value: 0.3405546766021811.\n",
      "[I 2024-08-10 12:05:38,044] Trial 156 finished with value: 0.32353342267469887 and parameters: {'lambda_l1': 0.09317320859971023, 'lambda_l2': 3.513886264492353e-07, 'num_leaves': 14, 'feature_fraction': 0.9488954641539543, 'bagging_fraction': 0.6206841898710531, 'bagging_freq': 6, 'min_child_samples': 23}. Best is trial 48 with value: 0.3405546766021811.\n",
      "[I 2024-08-10 12:05:39,989] Trial 157 finished with value: 0.32614600555534645 and parameters: {'lambda_l1': 0.050718397193955926, 'lambda_l2': 1.3094536739074606e-07, 'num_leaves': 29, 'feature_fraction': 0.9643266964962186, 'bagging_fraction': 0.6955415274273364, 'bagging_freq': 6, 'min_child_samples': 27}. Best is trial 48 with value: 0.3405546766021811.\n",
      "[I 2024-08-10 12:05:42,006] Trial 158 finished with value: 0.3274662621770097 and parameters: {'lambda_l1': 0.016706836956235465, 'lambda_l2': 5.395798781463359e-07, 'num_leaves': 33, 'feature_fraction': 0.9783096737013357, 'bagging_fraction': 0.5729109496556837, 'bagging_freq': 6, 'min_child_samples': 18}. Best is trial 48 with value: 0.3405546766021811.\n",
      "[I 2024-08-10 12:05:43,760] Trial 159 finished with value: 0.3301636226709872 and parameters: {'lambda_l1': 0.0031994728248670857, 'lambda_l2': 1.6274073413580041e-06, 'num_leaves': 22, 'feature_fraction': 0.9430655175593091, 'bagging_fraction': 0.6458064771372773, 'bagging_freq': 6, 'min_child_samples': 33}. Best is trial 48 with value: 0.3405546766021811.\n",
      "[I 2024-08-10 12:05:44,900] Trial 160 finished with value: 0.3116088287154838 and parameters: {'lambda_l1': 0.002942016580179381, 'lambda_l2': 2.10573985687481e-06, 'num_leaves': 9, 'feature_fraction': 0.9663662337589843, 'bagging_fraction': 0.6741874754796873, 'bagging_freq': 6, 'min_child_samples': 34}. Best is trial 48 with value: 0.3405546766021811.\n",
      "[I 2024-08-10 12:05:46,483] Trial 161 finished with value: 0.3179049860611951 and parameters: {'lambda_l1': 0.007749167865959527, 'lambda_l2': 1.030344523162836e-06, 'num_leaves': 20, 'feature_fraction': 0.9475933681982975, 'bagging_fraction': 0.6503472493241051, 'bagging_freq': 6, 'min_child_samples': 31}. Best is trial 48 with value: 0.3405546766021811.\n",
      "[I 2024-08-10 12:05:48,315] Trial 162 finished with value: 0.3246128639677358 and parameters: {'lambda_l1': 0.026828794313077924, 'lambda_l2': 2.720844511591961e-06, 'num_leaves': 23, 'feature_fraction': 0.9322671201491842, 'bagging_fraction': 0.6313010935967638, 'bagging_freq': 6, 'min_child_samples': 37}. Best is trial 48 with value: 0.3405546766021811.\n",
      "[I 2024-08-10 12:05:51,054] Trial 163 finished with value: 0.3206697809525806 and parameters: {'lambda_l1': 0.004053589199376472, 'lambda_l2': 1.6923582779407214e-06, 'num_leaves': 43, 'feature_fraction': 0.9566568656365982, 'bagging_fraction': 0.6418093386069803, 'bagging_freq': 6, 'min_child_samples': 25}. Best is trial 48 with value: 0.3405546766021811.\n",
      "[I 2024-08-10 12:05:55,435] Trial 164 finished with value: 0.32376396438897126 and parameters: {'lambda_l1': 0.0012723147469363943, 'lambda_l2': 8.773275073001009e-06, 'num_leaves': 32, 'feature_fraction': 0.9870118534971704, 'bagging_fraction': 0.6613134018665948, 'bagging_freq': 6, 'min_child_samples': 28}. Best is trial 48 with value: 0.3405546766021811.\n",
      "[I 2024-08-10 12:05:58,558] Trial 165 finished with value: 0.32402468130621265 and parameters: {'lambda_l1': 0.04083007349996751, 'lambda_l2': 8.29427625087845e-07, 'num_leaves': 15, 'feature_fraction': 0.9422933222153785, 'bagging_fraction': 0.5909278792218741, 'bagging_freq': 6, 'min_child_samples': 32}. Best is trial 48 with value: 0.3405546766021811.\n",
      "[I 2024-08-10 12:06:02,677] Trial 166 finished with value: 0.3287275570937027 and parameters: {'lambda_l1': 0.012674556994012336, 'lambda_l2': 1.3569928459392995e-06, 'num_leaves': 19, 'feature_fraction': 0.9293503258594241, 'bagging_fraction': 0.6184889327674999, 'bagging_freq': 6, 'min_child_samples': 20}. Best is trial 48 with value: 0.3405546766021811.\n",
      "[I 2024-08-10 12:06:08,234] Trial 167 finished with value: 0.29335084967163116 and parameters: {'lambda_l1': 0.016049941913106228, 'lambda_l2': 1.4217990728419898e-06, 'num_leaves': 101, 'feature_fraction': 0.9264385947014504, 'bagging_fraction': 0.6090369221349617, 'bagging_freq': 7, 'min_child_samples': 16}. Best is trial 48 with value: 0.3405546766021811.\n",
      "[I 2024-08-10 12:06:10,346] Trial 168 finished with value: 0.33120606397337404 and parameters: {'lambda_l1': 0.008594362110941068, 'lambda_l2': 3.1289012101312446e-07, 'num_leaves': 19, 'feature_fraction': 0.9993806182880877, 'bagging_fraction': 0.7139972717886597, 'bagging_freq': 6, 'min_child_samples': 13}. Best is trial 48 with value: 0.3405546766021811.\n",
      "[I 2024-08-10 12:06:12,421] Trial 169 finished with value: 0.31187476157417926 and parameters: {'lambda_l1': 1.0176494334537605e-08, 'lambda_l2': 3.3149678492433556e-07, 'num_leaves': 6, 'feature_fraction': 0.9742130710503455, 'bagging_fraction': 0.7156393282177476, 'bagging_freq': 7, 'min_child_samples': 13}. Best is trial 48 with value: 0.3405546766021811.\n",
      "[I 2024-08-10 12:06:14,334] Trial 170 finished with value: 0.32859591064535254 and parameters: {'lambda_l1': 0.006810716348862708, 'lambda_l2': 1.720393868735812e-07, 'num_leaves': 12, 'feature_fraction': 0.52803128637379, 'bagging_fraction': 0.7252533208715942, 'bagging_freq': 6, 'min_child_samples': 11}. Best is trial 48 with value: 0.3405546766021811.\n",
      "[I 2024-08-10 12:06:16,831] Trial 171 finished with value: 0.32631517382471664 and parameters: {'lambda_l1': 0.0111405465917593, 'lambda_l2': 4.6362647886297274e-07, 'num_leaves': 19, 'feature_fraction': 0.9963067685202165, 'bagging_fraction': 0.7045508824879374, 'bagging_freq': 6, 'min_child_samples': 20}. Best is trial 48 with value: 0.3405546766021811.\n",
      "[I 2024-08-10 12:06:20,491] Trial 172 finished with value: 0.3261096130995479 and parameters: {'lambda_l1': 0.02431335974159777, 'lambda_l2': 9.252362934699372e-08, 'num_leaves': 25, 'feature_fraction': 0.9628418912439471, 'bagging_fraction': 0.6157476471933956, 'bagging_freq': 6, 'min_child_samples': 17}. Best is trial 48 with value: 0.3405546766021811.\n",
      "[I 2024-08-10 12:06:23,115] Trial 173 finished with value: 0.32686349386909286 and parameters: {'lambda_l1': 0.0032940114681901203, 'lambda_l2': 2.4158074974096805e-07, 'num_leaves': 18, 'feature_fraction': 0.9887635814054337, 'bagging_fraction': 0.6823175995769949, 'bagging_freq': 6, 'min_child_samples': 84}. Best is trial 48 with value: 0.3405546766021811.\n",
      "[I 2024-08-10 12:06:28,599] Trial 174 finished with value: 0.3048407878494004 and parameters: {'lambda_l1': 2.1451887370357953e-08, 'lambda_l2': 6.595590980086661e-07, 'num_leaves': 164, 'feature_fraction': 0.9763742030022469, 'bagging_fraction': 0.600609836668879, 'bagging_freq': 6, 'min_child_samples': 8}. Best is trial 48 with value: 0.3405546766021811.\n",
      "[I 2024-08-10 12:06:30,526] Trial 175 finished with value: 0.31733366948502717 and parameters: {'lambda_l1': 0.002157377120317307, 'lambda_l2': 6.07455995787096e-08, 'num_leaves': 26, 'feature_fraction': 0.9595567573778617, 'bagging_fraction': 0.6440456979319484, 'bagging_freq': 6, 'min_child_samples': 19}. Best is trial 48 with value: 0.3405546766021811.\n",
      "[I 2024-08-10 12:06:32,273] Trial 176 finished with value: 0.3272516410477555 and parameters: {'lambda_l1': 0.00948184148853114, 'lambda_l2': 0.0002356926595923227, 'num_leaves': 21, 'feature_fraction': 0.9525655150809228, 'bagging_fraction': 0.7346133259940979, 'bagging_freq': 5, 'min_child_samples': 24}. Best is trial 48 with value: 0.3405546766021811.\n",
      "[I 2024-08-10 12:06:33,641] Trial 177 finished with value: 0.3163537798837459 and parameters: {'lambda_l1': 0.01605556373365044, 'lambda_l2': 2.0653507486864887e-06, 'num_leaves': 13, 'feature_fraction': 0.9284716287312085, 'bagging_fraction': 0.6679067216446988, 'bagging_freq': 6, 'min_child_samples': 29}. Best is trial 48 with value: 0.3405546766021811.\n",
      "[I 2024-08-10 12:06:38,197] Trial 178 finished with value: 0.2987866504530774 and parameters: {'lambda_l1': 0.005833967454647981, 'lambda_l2': 3.2577588923588768e-06, 'num_leaves': 136, 'feature_fraction': 0.9697019083274256, 'bagging_fraction': 0.6214180459831622, 'bagging_freq': 7, 'min_child_samples': 16}. Best is trial 48 with value: 0.3405546766021811.\n",
      "[I 2024-08-10 12:06:40,240] Trial 179 finished with value: 0.29727961263841485 and parameters: {'lambda_l1': 0.046335670072965345, 'lambda_l2': 9.590779881923513e-07, 'num_leaves': 39, 'feature_fraction': 0.7712442911360173, 'bagging_fraction': 0.6355055489188385, 'bagging_freq': 6, 'min_child_samples': 14}. Best is trial 48 with value: 0.3405546766021811.\n",
      "[I 2024-08-10 12:06:41,429] Trial 180 finished with value: 0.3236003400475371 and parameters: {'lambda_l1': 0.03239707859025812, 'lambda_l2': 5.48912196241213e-07, 'num_leaves': 11, 'feature_fraction': 0.9414198960874923, 'bagging_fraction': 0.5796247152654116, 'bagging_freq': 7, 'min_child_samples': 9}. Best is trial 48 with value: 0.3405546766021811.\n",
      "[I 2024-08-10 12:06:42,561] Trial 181 finished with value: 0.29598432734572133 and parameters: {'lambda_l1': 0.006691540844537666, 'lambda_l2': 2.1182844024446614e-07, 'num_leaves': 3, 'feature_fraction': 0.5343010487334297, 'bagging_fraction': 0.7292124653275265, 'bagging_freq': 6, 'min_child_samples': 10}. Best is trial 48 with value: 0.3405546766021811.\n",
      "[I 2024-08-10 12:06:44,155] Trial 182 finished with value: 0.3135632913187095 and parameters: {'lambda_l1': 0.012556018892395812, 'lambda_l2': 1.3193067670247537e-07, 'num_leaves': 11, 'feature_fraction': 0.5946589798392341, 'bagging_fraction': 0.7104206114802813, 'bagging_freq': 6, 'min_child_samples': 12}. Best is trial 48 with value: 0.3405546766021811.\n",
      "[I 2024-08-10 12:06:45,756] Trial 183 finished with value: 0.3278252552477239 and parameters: {'lambda_l1': 0.0044183633232229656, 'lambda_l2': 1.558087394192173e-07, 'num_leaves': 17, 'feature_fraction': 0.9859926397933443, 'bagging_fraction': 0.7281770553970602, 'bagging_freq': 6, 'min_child_samples': 7}. Best is trial 48 with value: 0.3405546766021811.\n",
      "[I 2024-08-10 12:06:47,751] Trial 184 finished with value: 0.3162083191888496 and parameters: {'lambda_l1': 0.019081147032864017, 'lambda_l2': 3.7048581925557245e-07, 'num_leaves': 28, 'feature_fraction': 0.4920759742806571, 'bagging_fraction': 0.7515540586151122, 'bagging_freq': 6, 'min_child_samples': 78}. Best is trial 48 with value: 0.3405546766021811.\n",
      "[I 2024-08-10 12:06:49,472] Trial 185 finished with value: 0.31454768956042223 and parameters: {'lambda_l1': 0.00159924226870913, 'lambda_l2': 4.553115765567164e-08, 'num_leaves': 22, 'feature_fraction': 0.9969798945029402, 'bagging_fraction': 0.65143019989368, 'bagging_freq': 6, 'min_child_samples': 11}. Best is trial 48 with value: 0.3405546766021811.\n",
      "[I 2024-08-10 12:06:50,818] Trial 186 finished with value: 0.3365841017829717 and parameters: {'lambda_l1': 0.0007142421072368844, 'lambda_l2': 2.7642376639507685e-07, 'num_leaves': 14, 'feature_fraction': 0.911356871374107, 'bagging_fraction': 0.6146849382637931, 'bagging_freq': 6, 'min_child_samples': 13}. Best is trial 48 with value: 0.3405546766021811.\n",
      "[I 2024-08-10 12:06:53,950] Trial 187 finished with value: 0.33431433336770455 and parameters: {'lambda_l1': 0.0006633092705453466, 'lambda_l2': 1.3498060564524502e-06, 'num_leaves': 26, 'feature_fraction': 0.9030444661167939, 'bagging_fraction': 0.6006305555751486, 'bagging_freq': 6, 'min_child_samples': 21}. Best is trial 48 with value: 0.3405546766021811.\n",
      "[I 2024-08-10 12:06:58,100] Trial 188 finished with value: 0.34075201817949774 and parameters: {'lambda_l1': 0.0003684848716034271, 'lambda_l2': 2.780226015112242e-07, 'num_leaves': 27, 'feature_fraction': 0.9118000985346988, 'bagging_fraction': 0.5979550010489133, 'bagging_freq': 5, 'min_child_samples': 26}. Best is trial 188 with value: 0.34075201817949774.\n",
      "[I 2024-08-10 12:07:02,139] Trial 189 finished with value: 0.32067164831061223 and parameters: {'lambda_l1': 0.0005640155601809055, 'lambda_l2': 3.5258314225392953e-07, 'num_leaves': 37, 'feature_fraction': 0.9065537875454753, 'bagging_fraction': 0.5994495437132474, 'bagging_freq': 6, 'min_child_samples': 30}. Best is trial 188 with value: 0.34075201817949774.\n",
      "[I 2024-08-10 12:07:05,284] Trial 190 finished with value: 0.3136216804841573 and parameters: {'lambda_l1': 0.0009107682675225368, 'lambda_l2': 4.930160086496036e-07, 'num_leaves': 32, 'feature_fraction': 0.9137891306825501, 'bagging_fraction': 0.5864135727437733, 'bagging_freq': 5, 'min_child_samples': 28}. Best is trial 188 with value: 0.34075201817949774.\n",
      "[I 2024-08-10 12:07:07,000] Trial 191 finished with value: 0.3239851398258904 and parameters: {'lambda_l1': 0.00044873666429891696, 'lambda_l2': 1.5958757071523647e-08, 'num_leaves': 26, 'feature_fraction': 0.9230426635898942, 'bagging_fraction': 0.6079446962184952, 'bagging_freq': 5, 'min_child_samples': 26}. Best is trial 188 with value: 0.34075201817949774.\n",
      "[I 2024-08-10 12:07:08,827] Trial 192 finished with value: 0.3261383016751169 and parameters: {'lambda_l1': 0.0002817095803820011, 'lambda_l2': 3.76008154621979e-06, 'num_leaves': 29, 'feature_fraction': 0.9009290173648568, 'bagging_fraction': 0.6292452297282849, 'bagging_freq': 6, 'min_child_samples': 23}. Best is trial 188 with value: 0.34075201817949774.\n",
      "[I 2024-08-10 12:07:10,796] Trial 193 finished with value: 0.32273295540642566 and parameters: {'lambda_l1': 0.0006446731139137982, 'lambda_l2': 2.1809480582924708e-07, 'num_leaves': 23, 'feature_fraction': 0.9486859538443885, 'bagging_fraction': 0.6168760296471869, 'bagging_freq': 2, 'min_child_samples': 26}. Best is trial 188 with value: 0.34075201817949774.\n",
      "[I 2024-08-10 12:07:12,188] Trial 194 finished with value: 0.3203187557681849 and parameters: {'lambda_l1': 0.0013100416406382736, 'lambda_l2': 8.15920540459713e-07, 'num_leaves': 15, 'feature_fraction': 0.8858040519992276, 'bagging_fraction': 0.5952284476701688, 'bagging_freq': 6, 'min_child_samples': 18}. Best is trial 188 with value: 0.34075201817949774.\n",
      "[I 2024-08-10 12:07:13,499] Trial 195 finished with value: 0.3285638050166203 and parameters: {'lambda_l1': 0.000367537167451274, 'lambda_l2': 2.1976305480358598e-06, 'num_leaves': 8, 'feature_fraction': 0.937189168222817, 'bagging_fraction': 0.5664158046263796, 'bagging_freq': 6, 'min_child_samples': 21}. Best is trial 188 with value: 0.34075201817949774.\n",
      "[I 2024-08-10 12:07:16,880] Trial 196 finished with value: 0.3124026046914178 and parameters: {'lambda_l1': 0.0009024233976455444, 'lambda_l2': 2.761719765540143e-05, 'num_leaves': 35, 'feature_fraction': 0.91630988697017, 'bagging_fraction': 0.6404762860765525, 'bagging_freq': 3, 'min_child_samples': 71}. Best is trial 188 with value: 0.34075201817949774.\n",
      "[I 2024-08-10 12:07:19,091] Trial 197 finished with value: 0.3267851801434126 and parameters: {'lambda_l1': 0.00022361682965373416, 'lambda_l2': 1.0647118989151259e-07, 'num_leaves': 27, 'feature_fraction': 0.959181588651575, 'bagging_fraction': 0.5868705888109416, 'bagging_freq': 7, 'min_child_samples': 33}. Best is trial 188 with value: 0.34075201817949774.\n",
      "[I 2024-08-10 12:07:20,790] Trial 198 finished with value: 0.33089047783038805 and parameters: {'lambda_l1': 0.0001554324113179929, 'lambda_l2': 3.0546441633659836e-07, 'num_leaves': 18, 'feature_fraction': 0.9756719225665639, 'bagging_fraction': 0.6059066010054162, 'bagging_freq': 6, 'min_child_samples': 16}. Best is trial 188 with value: 0.34075201817949774.\n",
      "[I 2024-08-10 12:07:22,468] Trial 199 finished with value: 0.34494082803577797 and parameters: {'lambda_l1': 0.0001672810054350064, 'lambda_l2': 3.0448229359093544e-07, 'num_leaves': 22, 'feature_fraction': 0.9763238728589374, 'bagging_fraction': 0.6036376781588169, 'bagging_freq': 6, 'min_child_samples': 24}. Best is trial 199 with value: 0.34494082803577797.\n"
     ]
    }
   ],
   "source": [
    "#Defino el estudio a optimizar\n",
    "study = optuna.create_study(direction='maximize', #buscamos maximizar la metrica\n",
    "                            storage=\"sqlite:///work/db.sqlite3\",  # Specify the storage URL here.\n",
    "                            study_name=\"04 - LGB Multiclass\", #nombre del experimento\n",
    "                            load_if_exists=True) #continuar si ya existe\n",
    "\n",
    "#Corremos 100 trials para buscar mejores parametros\n",
    "study.optimize(lgb_objective, n_trials=100)"
   ]
  },
  {
   "cell_type": "code",
   "execution_count": 31,
   "metadata": {},
   "outputs": [],
   "source": [
    "#corriendo esto en terminal deberia ver el dashboard \n",
    "#optuna-dashboard sqlite:///work/db.sqlite3 --artifact-dir /work/optuna_artifacts --port 8081"
   ]
  },
  {
   "cell_type": "code",
   "execution_count": 32,
   "metadata": {},
   "outputs": [
    {
     "data": {
      "text/plain": [
       "{'lambda_l1': 0.0001672810054350064,\n",
       " 'lambda_l2': 3.0448229359093544e-07,\n",
       " 'num_leaves': 22,\n",
       " 'feature_fraction': 0.9763238728589374,\n",
       " 'bagging_fraction': 0.6036376781588169,\n",
       " 'bagging_freq': 6,\n",
       " 'min_child_samples': 24}"
      ]
     },
     "execution_count": 32,
     "metadata": {},
     "output_type": "execute_result"
    }
   ],
   "source": [
    "#Obtenemos mejor resultado\n",
    "study.best_params"
   ]
  },
  {
   "cell_type": "code",
   "execution_count": 34,
   "metadata": {},
   "outputs": [
    {
     "data": {
      "application/vnd.plotly.v1+json": {
       "config": {
        "plotlyServerURL": "https://plot.ly"
       },
       "data": [
        {
         "type": "heatmap",
         "x": [
          0,
          1,
          2,
          3,
          4
         ],
         "y": [
          0,
          1,
          2,
          3,
          4
         ],
         "z": [
          [
           4.878048780487805,
           36.58536585365854,
           32.926829268292686,
           9.75609756097561,
           15.853658536585366
          ],
          [
           0.9708737864077669,
           35.59870550161812,
           36.084142394822,
           7.9288025889967635,
           19.41747572815534
          ],
          [
           0.37174721189591076,
           23.915737298636927,
           37.29863692688971,
           11.400247831474598,
           27.01363073110285
          ],
          [
           0.15337423312883436,
           18.25153374233129,
           34.355828220858896,
           18.711656441717793,
           28.52760736196319
          ],
          [
           0,
           10.238095238095237,
           20.11904761904762,
           7.5,
           62.142857142857146
          ]
         ]
        }
       ],
       "layout": {
        "annotations": [
         {
          "font": {
           "color": "white"
          },
          "showarrow": false,
          "text": "4.9 - 4",
          "x": 0,
          "xref": "x",
          "y": 0,
          "yref": "y"
         },
         {
          "font": {
           "color": "white"
          },
          "showarrow": false,
          "text": "36.6 - 30",
          "x": 1,
          "xref": "x",
          "y": 0,
          "yref": "y"
         },
         {
          "font": {
           "color": "white"
          },
          "showarrow": false,
          "text": "32.9 - 27",
          "x": 2,
          "xref": "x",
          "y": 0,
          "yref": "y"
         },
         {
          "font": {
           "color": "white"
          },
          "showarrow": false,
          "text": "9.8 - 8",
          "x": 3,
          "xref": "x",
          "y": 0,
          "yref": "y"
         },
         {
          "font": {
           "color": "white"
          },
          "showarrow": false,
          "text": "15.9 - 13",
          "x": 4,
          "xref": "x",
          "y": 0,
          "yref": "y"
         },
         {
          "font": {
           "color": "white"
          },
          "showarrow": false,
          "text": "1.0 - 6",
          "x": 0,
          "xref": "x",
          "y": 1,
          "yref": "y"
         },
         {
          "font": {
           "color": "white"
          },
          "showarrow": false,
          "text": "35.6 - 220",
          "x": 1,
          "xref": "x",
          "y": 1,
          "yref": "y"
         },
         {
          "font": {
           "color": "white"
          },
          "showarrow": false,
          "text": "36.1 - 223",
          "x": 2,
          "xref": "x",
          "y": 1,
          "yref": "y"
         },
         {
          "font": {
           "color": "white"
          },
          "showarrow": false,
          "text": "7.9 - 49",
          "x": 3,
          "xref": "x",
          "y": 1,
          "yref": "y"
         },
         {
          "font": {
           "color": "white"
          },
          "showarrow": false,
          "text": "19.4 - 120",
          "x": 4,
          "xref": "x",
          "y": 1,
          "yref": "y"
         },
         {
          "font": {
           "color": "white"
          },
          "showarrow": false,
          "text": "0.4 - 3",
          "x": 0,
          "xref": "x",
          "y": 2,
          "yref": "y"
         },
         {
          "font": {
           "color": "white"
          },
          "showarrow": false,
          "text": "23.9 - 193",
          "x": 1,
          "xref": "x",
          "y": 2,
          "yref": "y"
         },
         {
          "font": {
           "color": "white"
          },
          "showarrow": false,
          "text": "37.3 - 301",
          "x": 2,
          "xref": "x",
          "y": 2,
          "yref": "y"
         },
         {
          "font": {
           "color": "white"
          },
          "showarrow": false,
          "text": "11.4 - 92",
          "x": 3,
          "xref": "x",
          "y": 2,
          "yref": "y"
         },
         {
          "font": {
           "color": "white"
          },
          "showarrow": false,
          "text": "27.0 - 218",
          "x": 4,
          "xref": "x",
          "y": 2,
          "yref": "y"
         },
         {
          "font": {
           "color": "white"
          },
          "showarrow": false,
          "text": "0.2 - 1",
          "x": 0,
          "xref": "x",
          "y": 3,
          "yref": "y"
         },
         {
          "font": {
           "color": "white"
          },
          "showarrow": false,
          "text": "18.3 - 119",
          "x": 1,
          "xref": "x",
          "y": 3,
          "yref": "y"
         },
         {
          "font": {
           "color": "white"
          },
          "showarrow": false,
          "text": "34.4 - 224",
          "x": 2,
          "xref": "x",
          "y": 3,
          "yref": "y"
         },
         {
          "font": {
           "color": "white"
          },
          "showarrow": false,
          "text": "18.7 - 122",
          "x": 3,
          "xref": "x",
          "y": 3,
          "yref": "y"
         },
         {
          "font": {
           "color": "white"
          },
          "showarrow": false,
          "text": "28.5 - 186",
          "x": 4,
          "xref": "x",
          "y": 3,
          "yref": "y"
         },
         {
          "font": {
           "color": "white"
          },
          "showarrow": false,
          "text": "0.0 - 0",
          "x": 0,
          "xref": "x",
          "y": 4,
          "yref": "y"
         },
         {
          "font": {
           "color": "white"
          },
          "showarrow": false,
          "text": "10.2 - 86",
          "x": 1,
          "xref": "x",
          "y": 4,
          "yref": "y"
         },
         {
          "font": {
           "color": "white"
          },
          "showarrow": false,
          "text": "20.1 - 169",
          "x": 2,
          "xref": "x",
          "y": 4,
          "yref": "y"
         },
         {
          "font": {
           "color": "white"
          },
          "showarrow": false,
          "text": "7.5 - 63",
          "x": 3,
          "xref": "x",
          "y": 4,
          "yref": "y"
         },
         {
          "font": {
           "color": "white"
          },
          "showarrow": false,
          "text": "62.1 - 522",
          "x": 4,
          "xref": "x",
          "y": 4,
          "yref": "y"
         }
        ],
        "height": 800,
        "template": {
         "data": {
          "bar": [
           {
            "error_x": {
             "color": "#2a3f5f"
            },
            "error_y": {
             "color": "#2a3f5f"
            },
            "marker": {
             "line": {
              "color": "#E5ECF6",
              "width": 0.5
             },
             "pattern": {
              "fillmode": "overlay",
              "size": 10,
              "solidity": 0.2
             }
            },
            "type": "bar"
           }
          ],
          "barpolar": [
           {
            "marker": {
             "line": {
              "color": "#E5ECF6",
              "width": 0.5
             },
             "pattern": {
              "fillmode": "overlay",
              "size": 10,
              "solidity": 0.2
             }
            },
            "type": "barpolar"
           }
          ],
          "carpet": [
           {
            "aaxis": {
             "endlinecolor": "#2a3f5f",
             "gridcolor": "white",
             "linecolor": "white",
             "minorgridcolor": "white",
             "startlinecolor": "#2a3f5f"
            },
            "baxis": {
             "endlinecolor": "#2a3f5f",
             "gridcolor": "white",
             "linecolor": "white",
             "minorgridcolor": "white",
             "startlinecolor": "#2a3f5f"
            },
            "type": "carpet"
           }
          ],
          "choropleth": [
           {
            "colorbar": {
             "outlinewidth": 0,
             "ticks": ""
            },
            "type": "choropleth"
           }
          ],
          "contour": [
           {
            "colorbar": {
             "outlinewidth": 0,
             "ticks": ""
            },
            "colorscale": [
             [
              0,
              "#0d0887"
             ],
             [
              0.1111111111111111,
              "#46039f"
             ],
             [
              0.2222222222222222,
              "#7201a8"
             ],
             [
              0.3333333333333333,
              "#9c179e"
             ],
             [
              0.4444444444444444,
              "#bd3786"
             ],
             [
              0.5555555555555556,
              "#d8576b"
             ],
             [
              0.6666666666666666,
              "#ed7953"
             ],
             [
              0.7777777777777778,
              "#fb9f3a"
             ],
             [
              0.8888888888888888,
              "#fdca26"
             ],
             [
              1,
              "#f0f921"
             ]
            ],
            "type": "contour"
           }
          ],
          "contourcarpet": [
           {
            "colorbar": {
             "outlinewidth": 0,
             "ticks": ""
            },
            "type": "contourcarpet"
           }
          ],
          "heatmap": [
           {
            "colorbar": {
             "outlinewidth": 0,
             "ticks": ""
            },
            "colorscale": [
             [
              0,
              "#0d0887"
             ],
             [
              0.1111111111111111,
              "#46039f"
             ],
             [
              0.2222222222222222,
              "#7201a8"
             ],
             [
              0.3333333333333333,
              "#9c179e"
             ],
             [
              0.4444444444444444,
              "#bd3786"
             ],
             [
              0.5555555555555556,
              "#d8576b"
             ],
             [
              0.6666666666666666,
              "#ed7953"
             ],
             [
              0.7777777777777778,
              "#fb9f3a"
             ],
             [
              0.8888888888888888,
              "#fdca26"
             ],
             [
              1,
              "#f0f921"
             ]
            ],
            "type": "heatmap"
           }
          ],
          "heatmapgl": [
           {
            "colorbar": {
             "outlinewidth": 0,
             "ticks": ""
            },
            "colorscale": [
             [
              0,
              "#0d0887"
             ],
             [
              0.1111111111111111,
              "#46039f"
             ],
             [
              0.2222222222222222,
              "#7201a8"
             ],
             [
              0.3333333333333333,
              "#9c179e"
             ],
             [
              0.4444444444444444,
              "#bd3786"
             ],
             [
              0.5555555555555556,
              "#d8576b"
             ],
             [
              0.6666666666666666,
              "#ed7953"
             ],
             [
              0.7777777777777778,
              "#fb9f3a"
             ],
             [
              0.8888888888888888,
              "#fdca26"
             ],
             [
              1,
              "#f0f921"
             ]
            ],
            "type": "heatmapgl"
           }
          ],
          "histogram": [
           {
            "marker": {
             "pattern": {
              "fillmode": "overlay",
              "size": 10,
              "solidity": 0.2
             }
            },
            "type": "histogram"
           }
          ],
          "histogram2d": [
           {
            "colorbar": {
             "outlinewidth": 0,
             "ticks": ""
            },
            "colorscale": [
             [
              0,
              "#0d0887"
             ],
             [
              0.1111111111111111,
              "#46039f"
             ],
             [
              0.2222222222222222,
              "#7201a8"
             ],
             [
              0.3333333333333333,
              "#9c179e"
             ],
             [
              0.4444444444444444,
              "#bd3786"
             ],
             [
              0.5555555555555556,
              "#d8576b"
             ],
             [
              0.6666666666666666,
              "#ed7953"
             ],
             [
              0.7777777777777778,
              "#fb9f3a"
             ],
             [
              0.8888888888888888,
              "#fdca26"
             ],
             [
              1,
              "#f0f921"
             ]
            ],
            "type": "histogram2d"
           }
          ],
          "histogram2dcontour": [
           {
            "colorbar": {
             "outlinewidth": 0,
             "ticks": ""
            },
            "colorscale": [
             [
              0,
              "#0d0887"
             ],
             [
              0.1111111111111111,
              "#46039f"
             ],
             [
              0.2222222222222222,
              "#7201a8"
             ],
             [
              0.3333333333333333,
              "#9c179e"
             ],
             [
              0.4444444444444444,
              "#bd3786"
             ],
             [
              0.5555555555555556,
              "#d8576b"
             ],
             [
              0.6666666666666666,
              "#ed7953"
             ],
             [
              0.7777777777777778,
              "#fb9f3a"
             ],
             [
              0.8888888888888888,
              "#fdca26"
             ],
             [
              1,
              "#f0f921"
             ]
            ],
            "type": "histogram2dcontour"
           }
          ],
          "mesh3d": [
           {
            "colorbar": {
             "outlinewidth": 0,
             "ticks": ""
            },
            "type": "mesh3d"
           }
          ],
          "parcoords": [
           {
            "line": {
             "colorbar": {
              "outlinewidth": 0,
              "ticks": ""
             }
            },
            "type": "parcoords"
           }
          ],
          "pie": [
           {
            "automargin": true,
            "type": "pie"
           }
          ],
          "scatter": [
           {
            "fillpattern": {
             "fillmode": "overlay",
             "size": 10,
             "solidity": 0.2
            },
            "type": "scatter"
           }
          ],
          "scatter3d": [
           {
            "line": {
             "colorbar": {
              "outlinewidth": 0,
              "ticks": ""
             }
            },
            "marker": {
             "colorbar": {
              "outlinewidth": 0,
              "ticks": ""
             }
            },
            "type": "scatter3d"
           }
          ],
          "scattercarpet": [
           {
            "marker": {
             "colorbar": {
              "outlinewidth": 0,
              "ticks": ""
             }
            },
            "type": "scattercarpet"
           }
          ],
          "scattergeo": [
           {
            "marker": {
             "colorbar": {
              "outlinewidth": 0,
              "ticks": ""
             }
            },
            "type": "scattergeo"
           }
          ],
          "scattergl": [
           {
            "marker": {
             "colorbar": {
              "outlinewidth": 0,
              "ticks": ""
             }
            },
            "type": "scattergl"
           }
          ],
          "scattermapbox": [
           {
            "marker": {
             "colorbar": {
              "outlinewidth": 0,
              "ticks": ""
             }
            },
            "type": "scattermapbox"
           }
          ],
          "scatterpolar": [
           {
            "marker": {
             "colorbar": {
              "outlinewidth": 0,
              "ticks": ""
             }
            },
            "type": "scatterpolar"
           }
          ],
          "scatterpolargl": [
           {
            "marker": {
             "colorbar": {
              "outlinewidth": 0,
              "ticks": ""
             }
            },
            "type": "scatterpolargl"
           }
          ],
          "scatterternary": [
           {
            "marker": {
             "colorbar": {
              "outlinewidth": 0,
              "ticks": ""
             }
            },
            "type": "scatterternary"
           }
          ],
          "surface": [
           {
            "colorbar": {
             "outlinewidth": 0,
             "ticks": ""
            },
            "colorscale": [
             [
              0,
              "#0d0887"
             ],
             [
              0.1111111111111111,
              "#46039f"
             ],
             [
              0.2222222222222222,
              "#7201a8"
             ],
             [
              0.3333333333333333,
              "#9c179e"
             ],
             [
              0.4444444444444444,
              "#bd3786"
             ],
             [
              0.5555555555555556,
              "#d8576b"
             ],
             [
              0.6666666666666666,
              "#ed7953"
             ],
             [
              0.7777777777777778,
              "#fb9f3a"
             ],
             [
              0.8888888888888888,
              "#fdca26"
             ],
             [
              1,
              "#f0f921"
             ]
            ],
            "type": "surface"
           }
          ],
          "table": [
           {
            "cells": {
             "fill": {
              "color": "#EBF0F8"
             },
             "line": {
              "color": "white"
             }
            },
            "header": {
             "fill": {
              "color": "#C8D4E3"
             },
             "line": {
              "color": "white"
             }
            },
            "type": "table"
           }
          ]
         },
         "layout": {
          "annotationdefaults": {
           "arrowcolor": "#2a3f5f",
           "arrowhead": 0,
           "arrowwidth": 1
          },
          "autotypenumbers": "strict",
          "coloraxis": {
           "colorbar": {
            "outlinewidth": 0,
            "ticks": ""
           }
          },
          "colorscale": {
           "diverging": [
            [
             0,
             "#8e0152"
            ],
            [
             0.1,
             "#c51b7d"
            ],
            [
             0.2,
             "#de77ae"
            ],
            [
             0.3,
             "#f1b6da"
            ],
            [
             0.4,
             "#fde0ef"
            ],
            [
             0.5,
             "#f7f7f7"
            ],
            [
             0.6,
             "#e6f5d0"
            ],
            [
             0.7,
             "#b8e186"
            ],
            [
             0.8,
             "#7fbc41"
            ],
            [
             0.9,
             "#4d9221"
            ],
            [
             1,
             "#276419"
            ]
           ],
           "sequential": [
            [
             0,
             "#0d0887"
            ],
            [
             0.1111111111111111,
             "#46039f"
            ],
            [
             0.2222222222222222,
             "#7201a8"
            ],
            [
             0.3333333333333333,
             "#9c179e"
            ],
            [
             0.4444444444444444,
             "#bd3786"
            ],
            [
             0.5555555555555556,
             "#d8576b"
            ],
            [
             0.6666666666666666,
             "#ed7953"
            ],
            [
             0.7777777777777778,
             "#fb9f3a"
            ],
            [
             0.8888888888888888,
             "#fdca26"
            ],
            [
             1,
             "#f0f921"
            ]
           ],
           "sequentialminus": [
            [
             0,
             "#0d0887"
            ],
            [
             0.1111111111111111,
             "#46039f"
            ],
            [
             0.2222222222222222,
             "#7201a8"
            ],
            [
             0.3333333333333333,
             "#9c179e"
            ],
            [
             0.4444444444444444,
             "#bd3786"
            ],
            [
             0.5555555555555556,
             "#d8576b"
            ],
            [
             0.6666666666666666,
             "#ed7953"
            ],
            [
             0.7777777777777778,
             "#fb9f3a"
            ],
            [
             0.8888888888888888,
             "#fdca26"
            ],
            [
             1,
             "#f0f921"
            ]
           ]
          },
          "colorway": [
           "#636efa",
           "#EF553B",
           "#00cc96",
           "#ab63fa",
           "#FFA15A",
           "#19d3f3",
           "#FF6692",
           "#B6E880",
           "#FF97FF",
           "#FECB52"
          ],
          "font": {
           "color": "#2a3f5f"
          },
          "geo": {
           "bgcolor": "white",
           "lakecolor": "white",
           "landcolor": "#E5ECF6",
           "showlakes": true,
           "showland": true,
           "subunitcolor": "white"
          },
          "hoverlabel": {
           "align": "left"
          },
          "hovermode": "closest",
          "mapbox": {
           "style": "light"
          },
          "paper_bgcolor": "white",
          "plot_bgcolor": "#E5ECF6",
          "polar": {
           "angularaxis": {
            "gridcolor": "white",
            "linecolor": "white",
            "ticks": ""
           },
           "bgcolor": "#E5ECF6",
           "radialaxis": {
            "gridcolor": "white",
            "linecolor": "white",
            "ticks": ""
           }
          },
          "scene": {
           "xaxis": {
            "backgroundcolor": "#E5ECF6",
            "gridcolor": "white",
            "gridwidth": 2,
            "linecolor": "white",
            "showbackground": true,
            "ticks": "",
            "zerolinecolor": "white"
           },
           "yaxis": {
            "backgroundcolor": "#E5ECF6",
            "gridcolor": "white",
            "gridwidth": 2,
            "linecolor": "white",
            "showbackground": true,
            "ticks": "",
            "zerolinecolor": "white"
           },
           "zaxis": {
            "backgroundcolor": "#E5ECF6",
            "gridcolor": "white",
            "gridwidth": 2,
            "linecolor": "white",
            "showbackground": true,
            "ticks": "",
            "zerolinecolor": "white"
           }
          },
          "shapedefaults": {
           "line": {
            "color": "#2a3f5f"
           }
          },
          "ternary": {
           "aaxis": {
            "gridcolor": "white",
            "linecolor": "white",
            "ticks": ""
           },
           "baxis": {
            "gridcolor": "white",
            "linecolor": "white",
            "ticks": ""
           },
           "bgcolor": "#E5ECF6",
           "caxis": {
            "gridcolor": "white",
            "linecolor": "white",
            "ticks": ""
           }
          },
          "title": {
           "x": 0.05
          },
          "xaxis": {
           "automargin": true,
           "gridcolor": "white",
           "linecolor": "white",
           "ticks": "",
           "title": {
            "standoff": 15
           },
           "zerolinecolor": "white",
           "zerolinewidth": 2
          },
          "yaxis": {
           "automargin": true,
           "gridcolor": "white",
           "linecolor": "white",
           "ticks": "",
           "title": {
            "standoff": 15
           },
           "zerolinecolor": "white",
           "zerolinewidth": 2
          }
         }
        },
        "title": {
         "text": "Conf Matrix"
        },
        "width": 800,
        "xaxis": {
         "title": {
          "text": "Predicted value"
         }
        },
        "yaxis": {
         "title": {
          "text": "Real value"
         }
        }
       }
      }
     },
     "metadata": {},
     "output_type": "display_data"
    },
    {
     "data": {
      "text/plain": [
       "0.34494082803577797"
      ]
     },
     "execution_count": 34,
     "metadata": {},
     "output_type": "execute_result"
    }
   ],
   "source": [
    "#Vamos a replicar el resultado de la optimizacion reentrenando el modelo con el mejor conjunto de hiperparametros\n",
    "#Generamos parametros incluyendo los fijos y la mejor solución que encontro optuna\n",
    "lgb_params = {\n",
    "    'objective': 'multiclass',\n",
    "    'verbosity': -1,\n",
    "    'num_class': len(y_train.unique())\n",
    "}\n",
    "\n",
    "# Update lgb_params with study.best_params\n",
    "lgb_params.update(study.best_params)\n",
    "\n",
    "lgb_train_dataset = lgb.Dataset(data=X_train,\n",
    "                                label=y_train)\n",
    "\n",
    "\n",
    "#Entreno\n",
    "lgb_model = lgb.train(lgb_params,\n",
    "                    lgb_train_dataset)\n",
    "\n",
    "#Muestro matriz de confusion y kappa\n",
    "display(plot_confusion_matrix(y_test,lgb_model.predict(X_test).argmax(axis=1)))\n",
    "\n",
    "cohen_kappa_score(y_test,lgb_model.predict(X_test).argmax(axis=1),\n",
    "                             weights = 'quadratic')\n"
   ]
  },
  {
   "cell_type": "code",
   "execution_count": null,
   "metadata": {},
   "outputs": [],
   "source": []
  },
  {
   "cell_type": "code",
   "execution_count": null,
   "metadata": {},
   "outputs": [],
   "source": [
    "#A PARTIR DE OPTUNA (OPTIMIZACION BAYESIANA) ES LO MEJOR TENGO ENTENDIDO, ECONTRE LOS MEJORES VALORES HIPERPARMTROS\n",
    "#Y ESO MEJORO KAPPA "
   ]
  },
  {
   "cell_type": "markdown",
   "metadata": {},
   "source": [
    "## Modelo con cross validation y conjunto de test"
   ]
  },
  {
   "cell_type": "code",
   "execution_count": 11,
   "metadata": {},
   "outputs": [],
   "source": [
    "#Genero una metrica para que lightGBM haga la evaluación y pueda hacer early_stopping en el cross validation\n",
    "def lgb_custom_metric_kappa(dy_pred, dy_true):\n",
    "    metric_name = 'kappa'\n",
    "    value = cohen_kappa_score(dy_true.get_label(),dy_pred.argmax(axis=1),weights = 'quadratic')\n",
    "    is_higher_better = True\n",
    "    return(metric_name, value, is_higher_better)\n",
    "\n",
    "#Funcion objetivo a optimizar. En este caso vamos a hacer 5fold cv sobre el conjunto de train. \n",
    "# El score de CV es el objetivo a optimizar. Ademas vamos a usar los 5 modelos del CV para estimar el conjunto de test,\n",
    "# registraremos en optuna las predicciones, matriz de confusion y el score en test.\n",
    "# CV Score -> Se usa para determinar el rendimiento de los hiperparametros con precision \n",
    "# Test Score -> Nos permite testear que esta todo OK, no use (ni debo usar) esos datos para nada en el entrenamiento \n",
    "# o la optimizacion de hiperparametros\n",
    "\n",
    "def cv_es_lgb_objective(trial):\n",
    "\n",
    "    #PArametros para LightGBM\n",
    "    lgb_params = {      \n",
    "                        #PArametros fijos\n",
    "                        'objective': 'multiclass',\n",
    "                        'verbosity':-1,\n",
    "                        'num_class': len(y_train.unique()),\n",
    "                        #Hiperparametros a optimizar utilizando suggest_float o suggest_int segun el tipo de dato\n",
    "                        #Se indica el nombre del parametro, valor minimo, valor maximo \n",
    "                        #en elgunos casos el parametro log=True para parametros que requieren buscar en esa escala\n",
    "                        'lambda_l1': trial.suggest_float('lambda_l1', 1e-8, 10.0, log=True),\n",
    "                        'lambda_l2': trial.suggest_float('lambda_l2', 1e-8, 10.0, log=True),\n",
    "                        'num_leaves': trial.suggest_int('num_leaves', 2, 256),\n",
    "                        'feature_fraction': trial.suggest_float('feature_fraction', 0.4, 1.0),\n",
    "                        'bagging_fraction': trial.suggest_float('bagging_fraction', 0.4, 1.0),\n",
    "                        'bagging_freq': trial.suggest_int('bagging_freq', 1, 7),\n",
    "                        'min_child_samples': trial.suggest_int('min_child_samples', 5, 100),\n",
    "                        } \n",
    "\n",
    "    #Voy a generar estimaciones de los 5 modelos del CV sobre los datos test y los acumulo en la matriz scores_ensemble\n",
    "    scores_ensemble = np.zeros((len(y_test),len(y_train.unique())))\n",
    "\n",
    "    #Score del 5 fold CV inicializado en 0\n",
    "    score_folds = 0\n",
    "\n",
    "    #Numero de splits del CV\n",
    "    n_splits = 5\n",
    "\n",
    "    #Objeto para hacer el split estratificado de CV\n",
    "    skf = StratifiedKFold(n_splits=n_splits)\n",
    "\n",
    "    for i, (if_index, oof_index) in enumerate(skf.split(X_train, y_train)):\n",
    "        \n",
    "        #Dataset in fold (donde entreno) \n",
    "        lgb_if_dataset = lgb.Dataset(data=X_train.iloc[if_index],\n",
    "                                        label=y_train.iloc[if_index],\n",
    "                                        free_raw_data=False)\n",
    "        \n",
    "        #Dataset Out of fold (donde mido la performance del CV)\n",
    "        lgb_oof_dataset = lgb.Dataset(data=X_train.iloc[oof_index],\n",
    "                                        label=y_train.iloc[oof_index],\n",
    "                                        free_raw_data=False)\n",
    "\n",
    "        #Entreno el modelo\n",
    "        lgb_model = lgb.train(lgb_params,\n",
    "                                lgb_if_dataset,\n",
    "                                valid_sets=lgb_oof_dataset,\n",
    "                                callbacks=[lgb.early_stopping(10, verbose=False)],\n",
    "                                feval = lgb_custom_metric_kappa\n",
    "                                )\n",
    "        \n",
    "        #Acumulo los scores (probabilidades) de cada clase para cada uno de los modelos que determino en los folds\n",
    "        #Se predice el 20% de los datos que separe para tes y no uso para entrenar en ningun fold\n",
    "        scores_ensemble = scores_ensemble + lgb_model.predict(X_test)\n",
    "        \n",
    "        #Score del fold (registros de dataset train que en este fold quedan out of fold)\n",
    "        score_folds = score_folds + cohen_kappa_score(y_train.iloc[oof_index], \n",
    "                                                            lgb_model.predict(X_train.iloc[oof_index]).argmax(axis=1),weights = 'quadratic')/n_splits\n",
    "\n",
    "\n",
    "    #Guardo prediccion del trial sobre el conjunto de test\n",
    "    # Genero nombre de archivo\n",
    "    predicted_filename = os.path.join(PATH_TO_TEMP_FILES,f'test_{trial.study.study_name}_{trial.number}.joblib')\n",
    "    # Copia del dataset para guardar la prediccion\n",
    "    predicted_df = test.copy()\n",
    "    # Genero columna pred con predicciones sumadas de los 5 folds\n",
    "    predicted_df['pred'] = [scores_ensemble[p,:] for p in range(scores_ensemble.shape[0])]\n",
    "    # Grabo dataframe en temp_artifacts\n",
    "    dump(predicted_df, predicted_filename)\n",
    "    # Indico a optuna que asocie el archivo generado al trial\n",
    "    upload_artifact(trial, predicted_filename, artifact_store)    \n",
    "\n",
    "    #Grabo natriz de confusion\n",
    "    #Nombre de archivo\n",
    "    cm_filename = os.path.join(PATH_TO_TEMP_FILES,f'cm_{trial.study.study_name}_{trial.number}.jpg')\n",
    "    #Grabo archivo\n",
    "    plot_confusion_matrix(y_test,scores_ensemble.argmax(axis=1)).write_image(cm_filename)\n",
    "    #Asocio al trial\n",
    "    upload_artifact(trial, cm_filename, artifact_store)\n",
    "\n",
    "    #Determino score en conjunto de test y asocio como metrica adicional en optuna\n",
    "    test_score = cohen_kappa_score(y_test,scores_ensemble.argmax(axis=1),weights = 'quadratic')\n",
    "    trial.set_user_attr(\"test_score\", test_score)\n",
    "\n",
    "    #Devuelvo score del 5fold cv a optuna para que optimice en base a eso\n",
    "    return(score_folds)"
   ]
  },
  {
   "cell_type": "code",
   "execution_count": 12,
   "metadata": {},
   "outputs": [
    {
     "name": "stderr",
     "output_type": "stream",
     "text": [
      "<ipython-input-12-3ba8469af45f>:2: ExperimentalWarning: FileSystemArtifactStore is experimental (supported from v3.3.0). The interface can change in the future.\n",
      "  artifact_store = FileSystemArtifactStore(base_path=PATH_TO_OPTUNA_ARTIFACTS)\n",
      "[I 2024-08-10 12:28:57,022] Using an existing study with name '04 - LGB Multiclass CV' instead of creating a new one.\n",
      "<ipython-input-11-1c6539846d38>:86: ExperimentalWarning: upload_artifact is experimental (supported from v3.3.0). The interface can change in the future.\n",
      "  upload_artifact(trial, predicted_filename, artifact_store)\n",
      "<ipython-input-11-1c6539846d38>:94: ExperimentalWarning:\n",
      "\n",
      "upload_artifact is experimental (supported from v3.3.0). The interface can change in the future.\n",
      "\n",
      "[I 2024-08-10 12:29:26,981] Trial 3 finished with value: 0.35346490462913394 and parameters: {'lambda_l1': 0.025901746987049407, 'lambda_l2': 9.168374895982122e-07, 'num_leaves': 96, 'feature_fraction': 0.5554928897722712, 'bagging_fraction': 0.9075746843873459, 'bagging_freq': 1, 'min_child_samples': 100}. Best is trial 3 with value: 0.35346490462913394.\n",
      "<ipython-input-11-1c6539846d38>:86: ExperimentalWarning:\n",
      "\n",
      "upload_artifact is experimental (supported from v3.3.0). The interface can change in the future.\n",
      "\n",
      "<ipython-input-11-1c6539846d38>:94: ExperimentalWarning:\n",
      "\n",
      "upload_artifact is experimental (supported from v3.3.0). The interface can change in the future.\n",
      "\n",
      "[I 2024-08-10 12:29:55,117] Trial 4 finished with value: 0.34822259410124023 and parameters: {'lambda_l1': 4.1780469675693015e-05, 'lambda_l2': 2.9507396666393273, 'num_leaves': 209, 'feature_fraction': 0.573810335915887, 'bagging_fraction': 0.6103965634415809, 'bagging_freq': 6, 'min_child_samples': 17}. Best is trial 3 with value: 0.35346490462913394.\n",
      "<ipython-input-11-1c6539846d38>:86: ExperimentalWarning:\n",
      "\n",
      "upload_artifact is experimental (supported from v3.3.0). The interface can change in the future.\n",
      "\n",
      "<ipython-input-11-1c6539846d38>:94: ExperimentalWarning:\n",
      "\n",
      "upload_artifact is experimental (supported from v3.3.0). The interface can change in the future.\n",
      "\n",
      "[I 2024-08-10 12:30:15,050] Trial 5 finished with value: 0.3542834870611766 and parameters: {'lambda_l1': 0.1805267011202395, 'lambda_l2': 0.0001431954069362854, 'num_leaves': 220, 'feature_fraction': 0.9996315823602837, 'bagging_fraction': 0.5516843602319488, 'bagging_freq': 1, 'min_child_samples': 33}. Best is trial 5 with value: 0.3542834870611766.\n",
      "<ipython-input-11-1c6539846d38>:86: ExperimentalWarning:\n",
      "\n",
      "upload_artifact is experimental (supported from v3.3.0). The interface can change in the future.\n",
      "\n",
      "<ipython-input-11-1c6539846d38>:94: ExperimentalWarning:\n",
      "\n",
      "upload_artifact is experimental (supported from v3.3.0). The interface can change in the future.\n",
      "\n",
      "[I 2024-08-10 12:30:24,223] Trial 6 finished with value: 0.34617703108814 and parameters: {'lambda_l1': 5.783669307655795, 'lambda_l2': 1.7564488745832638e-08, 'num_leaves': 228, 'feature_fraction': 0.7506489380683008, 'bagging_fraction': 0.5462875602605455, 'bagging_freq': 2, 'min_child_samples': 69}. Best is trial 5 with value: 0.3542834870611766.\n",
      "<ipython-input-11-1c6539846d38>:86: ExperimentalWarning:\n",
      "\n",
      "upload_artifact is experimental (supported from v3.3.0). The interface can change in the future.\n",
      "\n",
      "<ipython-input-11-1c6539846d38>:94: ExperimentalWarning:\n",
      "\n",
      "upload_artifact is experimental (supported from v3.3.0). The interface can change in the future.\n",
      "\n",
      "[I 2024-08-10 12:30:37,721] Trial 7 finished with value: 0.35037465099882553 and parameters: {'lambda_l1': 4.313850961130911e-06, 'lambda_l2': 2.8024093005262384e-08, 'num_leaves': 214, 'feature_fraction': 0.6432144262262336, 'bagging_fraction': 0.7629834193220717, 'bagging_freq': 6, 'min_child_samples': 51}. Best is trial 5 with value: 0.3542834870611766.\n",
      "<ipython-input-11-1c6539846d38>:86: ExperimentalWarning:\n",
      "\n",
      "upload_artifact is experimental (supported from v3.3.0). The interface can change in the future.\n",
      "\n",
      "<ipython-input-11-1c6539846d38>:94: ExperimentalWarning:\n",
      "\n",
      "upload_artifact is experimental (supported from v3.3.0). The interface can change in the future.\n",
      "\n",
      "[I 2024-08-10 12:30:48,842] Trial 8 finished with value: 0.3475095007666307 and parameters: {'lambda_l1': 0.003856024770947626, 'lambda_l2': 2.8232110959893415, 'num_leaves': 95, 'feature_fraction': 0.7512951666272703, 'bagging_fraction': 0.5027852484159536, 'bagging_freq': 4, 'min_child_samples': 24}. Best is trial 5 with value: 0.3542834870611766.\n",
      "<ipython-input-11-1c6539846d38>:86: ExperimentalWarning:\n",
      "\n",
      "upload_artifact is experimental (supported from v3.3.0). The interface can change in the future.\n",
      "\n",
      "<ipython-input-11-1c6539846d38>:94: ExperimentalWarning:\n",
      "\n",
      "upload_artifact is experimental (supported from v3.3.0). The interface can change in the future.\n",
      "\n",
      "[I 2024-08-10 12:31:49,631] Trial 9 finished with value: 0.3470291717838482 and parameters: {'lambda_l1': 0.003622008027325938, 'lambda_l2': 1.1997843758025293e-08, 'num_leaves': 143, 'feature_fraction': 0.4221387413303849, 'bagging_fraction': 0.6291329078965626, 'bagging_freq': 6, 'min_child_samples': 31}. Best is trial 5 with value: 0.3542834870611766.\n",
      "<ipython-input-11-1c6539846d38>:86: ExperimentalWarning:\n",
      "\n",
      "upload_artifact is experimental (supported from v3.3.0). The interface can change in the future.\n",
      "\n",
      "<ipython-input-11-1c6539846d38>:94: ExperimentalWarning:\n",
      "\n",
      "upload_artifact is experimental (supported from v3.3.0). The interface can change in the future.\n",
      "\n",
      "[I 2024-08-10 12:32:01,370] Trial 10 finished with value: 0.347608317727796 and parameters: {'lambda_l1': 8.772690683706752, 'lambda_l2': 2.6304883578071936e-05, 'num_leaves': 7, 'feature_fraction': 0.45303054687931577, 'bagging_fraction': 0.932223556158225, 'bagging_freq': 4, 'min_child_samples': 13}. Best is trial 5 with value: 0.3542834870611766.\n",
      "<ipython-input-11-1c6539846d38>:86: ExperimentalWarning:\n",
      "\n",
      "upload_artifact is experimental (supported from v3.3.0). The interface can change in the future.\n",
      "\n",
      "<ipython-input-11-1c6539846d38>:94: ExperimentalWarning:\n",
      "\n",
      "upload_artifact is experimental (supported from v3.3.0). The interface can change in the future.\n",
      "\n",
      "[I 2024-08-10 12:32:11,343] Trial 11 finished with value: 0.3445760010833772 and parameters: {'lambda_l1': 0.00012212461682150838, 'lambda_l2': 5.389055691184255e-07, 'num_leaves': 69, 'feature_fraction': 0.8724808508559436, 'bagging_fraction': 0.46727789224704624, 'bagging_freq': 5, 'min_child_samples': 65}. Best is trial 5 with value: 0.3542834870611766.\n",
      "<ipython-input-11-1c6539846d38>:86: ExperimentalWarning:\n",
      "\n",
      "upload_artifact is experimental (supported from v3.3.0). The interface can change in the future.\n",
      "\n",
      "<ipython-input-11-1c6539846d38>:94: ExperimentalWarning:\n",
      "\n",
      "upload_artifact is experimental (supported from v3.3.0). The interface can change in the future.\n",
      "\n",
      "[I 2024-08-10 12:32:20,962] Trial 12 finished with value: 0.3519634597661271 and parameters: {'lambda_l1': 7.85540376518515e-06, 'lambda_l2': 2.7699421276022672e-05, 'num_leaves': 26, 'feature_fraction': 0.8381121641485634, 'bagging_fraction': 0.6735337407216291, 'bagging_freq': 6, 'min_child_samples': 55}. Best is trial 5 with value: 0.3542834870611766.\n",
      "<ipython-input-11-1c6539846d38>:86: ExperimentalWarning:\n",
      "\n",
      "upload_artifact is experimental (supported from v3.3.0). The interface can change in the future.\n",
      "\n",
      "<ipython-input-11-1c6539846d38>:94: ExperimentalWarning:\n",
      "\n",
      "upload_artifact is experimental (supported from v3.3.0). The interface can change in the future.\n",
      "\n",
      "[I 2024-08-10 12:32:31,616] Trial 13 finished with value: 0.34074875029934326 and parameters: {'lambda_l1': 1.014642928375943e-08, 'lambda_l2': 0.013992843351724306, 'num_leaves': 164, 'feature_fraction': 0.9675299712531359, 'bagging_fraction': 0.7896238896290366, 'bagging_freq': 2, 'min_child_samples': 39}. Best is trial 5 with value: 0.3542834870611766.\n",
      "<ipython-input-11-1c6539846d38>:86: ExperimentalWarning:\n",
      "\n",
      "upload_artifact is experimental (supported from v3.3.0). The interface can change in the future.\n",
      "\n",
      "<ipython-input-11-1c6539846d38>:94: ExperimentalWarning:\n",
      "\n",
      "upload_artifact is experimental (supported from v3.3.0). The interface can change in the future.\n",
      "\n",
      "[I 2024-08-10 12:32:40,208] Trial 14 finished with value: 0.3539056461444296 and parameters: {'lambda_l1': 0.17864716016662638, 'lambda_l2': 0.0023602934037107786, 'num_leaves': 107, 'feature_fraction': 0.5465189740980368, 'bagging_fraction': 0.9804386666747433, 'bagging_freq': 1, 'min_child_samples': 93}. Best is trial 5 with value: 0.3542834870611766.\n",
      "<ipython-input-11-1c6539846d38>:86: ExperimentalWarning:\n",
      "\n",
      "upload_artifact is experimental (supported from v3.3.0). The interface can change in the future.\n",
      "\n",
      "<ipython-input-11-1c6539846d38>:94: ExperimentalWarning:\n",
      "\n",
      "upload_artifact is experimental (supported from v3.3.0). The interface can change in the future.\n",
      "\n",
      "[I 2024-08-10 12:32:51,012] Trial 15 finished with value: 0.3527512012290221 and parameters: {'lambda_l1': 0.2288116002659761, 'lambda_l2': 0.010812795101847178, 'num_leaves': 173, 'feature_fraction': 0.9726316080084096, 'bagging_fraction': 0.858678583353652, 'bagging_freq': 1, 'min_child_samples': 93}. Best is trial 5 with value: 0.3542834870611766.\n",
      "<ipython-input-11-1c6539846d38>:86: ExperimentalWarning:\n",
      "\n",
      "upload_artifact is experimental (supported from v3.3.0). The interface can change in the future.\n",
      "\n",
      "<ipython-input-11-1c6539846d38>:94: ExperimentalWarning:\n",
      "\n",
      "upload_artifact is experimental (supported from v3.3.0). The interface can change in the future.\n",
      "\n",
      "[I 2024-08-10 12:33:01,350] Trial 16 finished with value: 0.34521710955093154 and parameters: {'lambda_l1': 0.24866771219239428, 'lambda_l2': 0.0036157118995123047, 'num_leaves': 256, 'feature_fraction': 0.5228924890634051, 'bagging_fraction': 0.41113441967492736, 'bagging_freq': 3, 'min_child_samples': 80}. Best is trial 5 with value: 0.3542834870611766.\n",
      "<ipython-input-11-1c6539846d38>:86: ExperimentalWarning:\n",
      "\n",
      "upload_artifact is experimental (supported from v3.3.0). The interface can change in the future.\n",
      "\n",
      "<ipython-input-11-1c6539846d38>:94: ExperimentalWarning:\n",
      "\n",
      "upload_artifact is experimental (supported from v3.3.0). The interface can change in the future.\n",
      "\n",
      "[I 2024-08-10 12:33:14,377] Trial 17 finished with value: 0.34395344948243084 and parameters: {'lambda_l1': 0.27138373831779, 'lambda_l2': 0.0002610317250115058, 'num_leaves': 119, 'feature_fraction': 0.6636888495477038, 'bagging_fraction': 0.9884704669972948, 'bagging_freq': 2, 'min_child_samples': 41}. Best is trial 5 with value: 0.3542834870611766.\n",
      "<ipython-input-11-1c6539846d38>:86: ExperimentalWarning:\n",
      "\n",
      "upload_artifact is experimental (supported from v3.3.0). The interface can change in the future.\n",
      "\n",
      "<ipython-input-11-1c6539846d38>:94: ExperimentalWarning:\n",
      "\n",
      "upload_artifact is experimental (supported from v3.3.0). The interface can change in the future.\n",
      "\n",
      "[I 2024-08-10 12:33:25,583] Trial 18 finished with value: 0.34906856588823787 and parameters: {'lambda_l1': 0.003092272207089368, 'lambda_l2': 0.2070122270019843, 'num_leaves': 60, 'feature_fraction': 0.8603086485769137, 'bagging_fraction': 0.7307768128636778, 'bagging_freq': 1, 'min_child_samples': 81}. Best is trial 5 with value: 0.3542834870611766.\n",
      "<ipython-input-11-1c6539846d38>:86: ExperimentalWarning:\n",
      "\n",
      "upload_artifact is experimental (supported from v3.3.0). The interface can change in the future.\n",
      "\n",
      "<ipython-input-11-1c6539846d38>:94: ExperimentalWarning:\n",
      "\n",
      "upload_artifact is experimental (supported from v3.3.0). The interface can change in the future.\n",
      "\n",
      "[I 2024-08-10 12:33:38,690] Trial 19 finished with value: 0.3515593336496709 and parameters: {'lambda_l1': 0.8319936693020641, 'lambda_l2': 0.00030035696972087846, 'num_leaves': 156, 'feature_fraction': 0.4926206614469679, 'bagging_fraction': 0.5686149591713248, 'bagging_freq': 3, 'min_child_samples': 51}. Best is trial 5 with value: 0.3542834870611766.\n",
      "<ipython-input-11-1c6539846d38>:86: ExperimentalWarning:\n",
      "\n",
      "upload_artifact is experimental (supported from v3.3.0). The interface can change in the future.\n",
      "\n",
      "<ipython-input-11-1c6539846d38>:94: ExperimentalWarning:\n",
      "\n",
      "upload_artifact is experimental (supported from v3.3.0). The interface can change in the future.\n",
      "\n",
      "[I 2024-08-10 12:33:56,718] Trial 20 finished with value: 0.35058457438391943 and parameters: {'lambda_l1': 0.03161924791288396, 'lambda_l2': 2.6140474492661766e-05, 'num_leaves': 193, 'feature_fraction': 0.5913004018308201, 'bagging_fraction': 0.8365412662766265, 'bagging_freq': 3, 'min_child_samples': 34}. Best is trial 5 with value: 0.3542834870611766.\n",
      "<ipython-input-11-1c6539846d38>:86: ExperimentalWarning:\n",
      "\n",
      "upload_artifact is experimental (supported from v3.3.0). The interface can change in the future.\n",
      "\n",
      "<ipython-input-11-1c6539846d38>:94: ExperimentalWarning:\n",
      "\n",
      "upload_artifact is experimental (supported from v3.3.0). The interface can change in the future.\n",
      "\n",
      "[I 2024-08-10 12:34:10,080] Trial 21 finished with value: 0.3560354830045355 and parameters: {'lambda_l1': 1.2989726385386217e-07, 'lambda_l2': 0.16638785065483747, 'num_leaves': 114, 'feature_fraction': 0.7504818579788693, 'bagging_fraction': 0.6608809863197036, 'bagging_freq': 1, 'min_child_samples': 5}. Best is trial 21 with value: 0.3560354830045355.\n",
      "<ipython-input-11-1c6539846d38>:86: ExperimentalWarning:\n",
      "\n",
      "upload_artifact is experimental (supported from v3.3.0). The interface can change in the future.\n",
      "\n",
      "<ipython-input-11-1c6539846d38>:94: ExperimentalWarning:\n",
      "\n",
      "upload_artifact is experimental (supported from v3.3.0). The interface can change in the future.\n",
      "\n",
      "[I 2024-08-10 12:34:27,697] Trial 22 finished with value: 0.33597905466281414 and parameters: {'lambda_l1': 2.4617232049855595e-07, 'lambda_l2': 0.14831708807021593, 'num_leaves': 255, 'feature_fraction': 0.9252118779746411, 'bagging_fraction': 0.6738640248480915, 'bagging_freq': 7, 'min_child_samples': 6}. Best is trial 21 with value: 0.3560354830045355.\n",
      "<ipython-input-11-1c6539846d38>:86: ExperimentalWarning:\n",
      "\n",
      "upload_artifact is experimental (supported from v3.3.0). The interface can change in the future.\n",
      "\n",
      "<ipython-input-11-1c6539846d38>:94: ExperimentalWarning:\n",
      "\n",
      "upload_artifact is experimental (supported from v3.3.0). The interface can change in the future.\n",
      "\n",
      "[I 2024-08-10 12:34:37,995] Trial 23 finished with value: 0.3541481115845753 and parameters: {'lambda_l1': 2.8952668779925015e-07, 'lambda_l2': 0.15400903460840748, 'num_leaves': 66, 'feature_fraction': 0.7897238314094005, 'bagging_fraction': 0.40575818263601343, 'bagging_freq': 2, 'min_child_samples': 8}. Best is trial 21 with value: 0.3560354830045355.\n",
      "<ipython-input-11-1c6539846d38>:86: ExperimentalWarning:\n",
      "\n",
      "upload_artifact is experimental (supported from v3.3.0). The interface can change in the future.\n",
      "\n",
      "<ipython-input-11-1c6539846d38>:94: ExperimentalWarning:\n",
      "\n",
      "upload_artifact is experimental (supported from v3.3.0). The interface can change in the future.\n",
      "\n",
      "[I 2024-08-10 12:34:47,278] Trial 24 finished with value: 0.35033210498177914 and parameters: {'lambda_l1': 8.945102136910404e-08, 'lambda_l2': 0.18377468527180532, 'num_leaves': 62, 'feature_fraction': 0.7774358416415327, 'bagging_fraction': 0.4340677362155399, 'bagging_freq': 2, 'min_child_samples': 5}. Best is trial 21 with value: 0.3560354830045355.\n",
      "<ipython-input-11-1c6539846d38>:86: ExperimentalWarning:\n",
      "\n",
      "upload_artifact is experimental (supported from v3.3.0). The interface can change in the future.\n",
      "\n",
      "<ipython-input-11-1c6539846d38>:94: ExperimentalWarning:\n",
      "\n",
      "upload_artifact is experimental (supported from v3.3.0). The interface can change in the future.\n",
      "\n",
      "[I 2024-08-10 12:35:10,219] Trial 25 finished with value: 0.3519714031031946 and parameters: {'lambda_l1': 5.590711530862079e-07, 'lambda_l2': 8.051612582395716, 'num_leaves': 130, 'feature_fraction': 0.8067006200124317, 'bagging_fraction': 0.5267015815926479, 'bagging_freq': 1, 'min_child_samples': 20}. Best is trial 21 with value: 0.3560354830045355.\n",
      "<ipython-input-11-1c6539846d38>:86: ExperimentalWarning:\n",
      "\n",
      "upload_artifact is experimental (supported from v3.3.0). The interface can change in the future.\n",
      "\n",
      "<ipython-input-11-1c6539846d38>:94: ExperimentalWarning:\n",
      "\n",
      "upload_artifact is experimental (supported from v3.3.0). The interface can change in the future.\n",
      "\n",
      "[I 2024-08-10 12:35:20,984] Trial 26 finished with value: 0.3493517724666414 and parameters: {'lambda_l1': 1.307502794902387e-08, 'lambda_l2': 0.5444154798540134, 'num_leaves': 43, 'feature_fraction': 0.7061562451816579, 'bagging_fraction': 0.6190302132377613, 'bagging_freq': 2, 'min_child_samples': 27}. Best is trial 21 with value: 0.3560354830045355.\n",
      "<ipython-input-11-1c6539846d38>:86: ExperimentalWarning:\n",
      "\n",
      "upload_artifact is experimental (supported from v3.3.0). The interface can change in the future.\n",
      "\n",
      "<ipython-input-11-1c6539846d38>:94: ExperimentalWarning:\n",
      "\n",
      "upload_artifact is experimental (supported from v3.3.0). The interface can change in the future.\n",
      "\n",
      "[I 2024-08-10 12:35:47,333] Trial 27 finished with value: 0.35153616969769297 and parameters: {'lambda_l1': 2.67186022767203e-06, 'lambda_l2': 0.032252853779396275, 'num_leaves': 86, 'feature_fraction': 0.8902125616970785, 'bagging_fraction': 0.46780738153333457, 'bagging_freq': 3, 'min_child_samples': 13}. Best is trial 21 with value: 0.3560354830045355.\n",
      "<ipython-input-11-1c6539846d38>:86: ExperimentalWarning:\n",
      "\n",
      "upload_artifact is experimental (supported from v3.3.0). The interface can change in the future.\n",
      "\n",
      "<ipython-input-11-1c6539846d38>:94: ExperimentalWarning:\n",
      "\n",
      "upload_artifact is experimental (supported from v3.3.0). The interface can change in the future.\n",
      "\n",
      "[I 2024-08-10 12:36:12,310] Trial 28 finished with value: 0.34335426330037744 and parameters: {'lambda_l1': 5.8071514267403606e-08, 'lambda_l2': 0.0012068293407401466, 'num_leaves': 129, 'feature_fraction': 0.7006517460810087, 'bagging_fraction': 0.5792496624019118, 'bagging_freq': 1, 'min_child_samples': 5}. Best is trial 21 with value: 0.3560354830045355.\n",
      "<ipython-input-11-1c6539846d38>:86: ExperimentalWarning:\n",
      "\n",
      "upload_artifact is experimental (supported from v3.3.0). The interface can change in the future.\n",
      "\n",
      "<ipython-input-11-1c6539846d38>:94: ExperimentalWarning:\n",
      "\n",
      "upload_artifact is experimental (supported from v3.3.0). The interface can change in the future.\n",
      "\n",
      "[I 2024-08-10 12:36:27,713] Trial 29 finished with value: 0.3359809015137789 and parameters: {'lambda_l1': 2.469853515343932e-05, 'lambda_l2': 0.00011833183018172752, 'num_leaves': 79, 'feature_fraction': 0.998465819876749, 'bagging_fraction': 0.4925953156232168, 'bagging_freq': 2, 'min_child_samples': 12}. Best is trial 21 with value: 0.3560354830045355.\n",
      "<ipython-input-11-1c6539846d38>:86: ExperimentalWarning:\n",
      "\n",
      "upload_artifact is experimental (supported from v3.3.0). The interface can change in the future.\n",
      "\n",
      "<ipython-input-11-1c6539846d38>:94: ExperimentalWarning:\n",
      "\n",
      "upload_artifact is experimental (supported from v3.3.0). The interface can change in the future.\n",
      "\n",
      "[I 2024-08-10 12:36:39,040] Trial 30 finished with value: 0.35154853541545744 and parameters: {'lambda_l1': 0.0005610118344521292, 'lambda_l2': 3.0927888050341395e-06, 'num_leaves': 40, 'feature_fraction': 0.9179947681706018, 'bagging_fraction': 0.40043090443731844, 'bagging_freq': 1, 'min_child_samples': 42}. Best is trial 21 with value: 0.3560354830045355.\n",
      "<ipython-input-11-1c6539846d38>:86: ExperimentalWarning:\n",
      "\n",
      "upload_artifact is experimental (supported from v3.3.0). The interface can change in the future.\n",
      "\n",
      "<ipython-input-11-1c6539846d38>:94: ExperimentalWarning:\n",
      "\n",
      "upload_artifact is experimental (supported from v3.3.0). The interface can change in the future.\n",
      "\n",
      "[I 2024-08-10 12:36:55,382] Trial 31 finished with value: 0.3436411645817836 and parameters: {'lambda_l1': 9.669727459959063e-07, 'lambda_l2': 0.04133865622397815, 'num_leaves': 185, 'feature_fraction': 0.6531059014278668, 'bagging_fraction': 0.6571592648783379, 'bagging_freq': 2, 'min_child_samples': 21}. Best is trial 21 with value: 0.3560354830045355.\n",
      "<ipython-input-11-1c6539846d38>:86: ExperimentalWarning:\n",
      "\n",
      "upload_artifact is experimental (supported from v3.3.0). The interface can change in the future.\n",
      "\n",
      "<ipython-input-11-1c6539846d38>:94: ExperimentalWarning:\n",
      "\n",
      "upload_artifact is experimental (supported from v3.3.0). The interface can change in the future.\n",
      "\n",
      "[I 2024-08-10 12:37:11,644] Trial 32 finished with value: 0.35012745227298625 and parameters: {'lambda_l1': 0.0004659084217533019, 'lambda_l2': 0.716269604015846, 'num_leaves': 99, 'feature_fraction': 0.8154732827195665, 'bagging_fraction': 0.6935372522427338, 'bagging_freq': 1, 'min_child_samples': 29}. Best is trial 21 with value: 0.3560354830045355.\n",
      "<ipython-input-11-1c6539846d38>:86: ExperimentalWarning:\n",
      "\n",
      "upload_artifact is experimental (supported from v3.3.0). The interface can change in the future.\n",
      "\n",
      "<ipython-input-11-1c6539846d38>:94: ExperimentalWarning:\n",
      "\n",
      "upload_artifact is experimental (supported from v3.3.0). The interface can change in the future.\n",
      "\n",
      "[I 2024-08-10 12:37:24,821] Trial 33 finished with value: 0.3429496446516435 and parameters: {'lambda_l1': 6.001276981242058e-08, 'lambda_l2': 9.817722297636926e-07, 'num_leaves': 148, 'feature_fraction': 0.6144883848725469, 'bagging_fraction': 0.5817405238473647, 'bagging_freq': 3, 'min_child_samples': 12}. Best is trial 21 with value: 0.3560354830045355.\n",
      "<ipython-input-11-1c6539846d38>:86: ExperimentalWarning:\n",
      "\n",
      "upload_artifact is experimental (supported from v3.3.0). The interface can change in the future.\n",
      "\n",
      "<ipython-input-11-1c6539846d38>:94: ExperimentalWarning:\n",
      "\n",
      "upload_artifact is experimental (supported from v3.3.0). The interface can change in the future.\n",
      "\n",
      "[I 2024-08-10 12:37:43,294] Trial 34 finished with value: 0.3561565544603429 and parameters: {'lambda_l1': 0.026692936387875687, 'lambda_l2': 0.0013941773886068888, 'num_leaves': 110, 'feature_fraction': 0.5304160134283403, 'bagging_fraction': 0.9850499767190629, 'bagging_freq': 1, 'min_child_samples': 99}. Best is trial 34 with value: 0.3561565544603429.\n",
      "<ipython-input-11-1c6539846d38>:86: ExperimentalWarning:\n",
      "\n",
      "upload_artifact is experimental (supported from v3.3.0). The interface can change in the future.\n",
      "\n",
      "<ipython-input-11-1c6539846d38>:94: ExperimentalWarning:\n",
      "\n",
      "upload_artifact is experimental (supported from v3.3.0). The interface can change in the future.\n",
      "\n",
      "[I 2024-08-10 12:38:30,800] Trial 35 finished with value: 0.3483866838672051 and parameters: {'lambda_l1': 0.018191448152153115, 'lambda_l2': 0.000706945843457199, 'num_leaves': 114, 'feature_fraction': 0.7324034624272824, 'bagging_fraction': 0.7250414893838334, 'bagging_freq': 1, 'min_child_samples': 60}. Best is trial 34 with value: 0.3561565544603429.\n",
      "<ipython-input-11-1c6539846d38>:86: ExperimentalWarning:\n",
      "\n",
      "upload_artifact is experimental (supported from v3.3.0). The interface can change in the future.\n",
      "\n",
      "<ipython-input-11-1c6539846d38>:94: ExperimentalWarning:\n",
      "\n",
      "upload_artifact is experimental (supported from v3.3.0). The interface can change in the future.\n",
      "\n",
      "[I 2024-08-10 12:38:40,079] Trial 36 finished with value: 0.34996711294119287 and parameters: {'lambda_l1': 1.2109459305250276, 'lambda_l2': 0.006165865437475389, 'num_leaves': 86, 'feature_fraction': 0.797893209195933, 'bagging_fraction': 0.8251928019954531, 'bagging_freq': 1, 'min_child_samples': 99}. Best is trial 34 with value: 0.3561565544603429.\n",
      "<ipython-input-11-1c6539846d38>:86: ExperimentalWarning:\n",
      "\n",
      "upload_artifact is experimental (supported from v3.3.0). The interface can change in the future.\n",
      "\n",
      "<ipython-input-11-1c6539846d38>:94: ExperimentalWarning:\n",
      "\n",
      "upload_artifact is experimental (supported from v3.3.0). The interface can change in the future.\n",
      "\n",
      "[I 2024-08-10 12:38:50,844] Trial 37 finished with value: 0.3486610426809043 and parameters: {'lambda_l1': 0.05350122660151951, 'lambda_l2': 0.04883558157773584, 'num_leaves': 232, 'feature_fraction': 0.7520000288803728, 'bagging_fraction': 0.9050919028699098, 'bagging_freq': 2, 'min_child_samples': 72}. Best is trial 34 with value: 0.3561565544603429.\n",
      "<ipython-input-11-1c6539846d38>:86: ExperimentalWarning:\n",
      "\n",
      "upload_artifact is experimental (supported from v3.3.0). The interface can change in the future.\n",
      "\n",
      "<ipython-input-11-1c6539846d38>:94: ExperimentalWarning:\n",
      "\n",
      "upload_artifact is experimental (supported from v3.3.0). The interface can change in the future.\n",
      "\n",
      "[I 2024-08-10 12:39:01,158] Trial 38 finished with value: 0.34767253321996566 and parameters: {'lambda_l1': 0.012426400556959248, 'lambda_l2': 7.44973647827754e-05, 'num_leaves': 131, 'feature_fraction': 0.6805517050343307, 'bagging_fraction': 0.5427220335077463, 'bagging_freq': 2, 'min_child_samples': 36}. Best is trial 34 with value: 0.3561565544603429.\n",
      "<ipython-input-11-1c6539846d38>:86: ExperimentalWarning:\n",
      "\n",
      "upload_artifact is experimental (supported from v3.3.0). The interface can change in the future.\n",
      "\n",
      "<ipython-input-11-1c6539846d38>:94: ExperimentalWarning:\n",
      "\n",
      "upload_artifact is experimental (supported from v3.3.0). The interface can change in the future.\n",
      "\n",
      "[I 2024-08-10 12:39:11,906] Trial 39 finished with value: 0.3563626587252837 and parameters: {'lambda_l1': 1.3839687731399657, 'lambda_l2': 1.54924199275851, 'num_leaves': 42, 'feature_fraction': 0.5913534129674946, 'bagging_fraction': 0.7382833751432099, 'bagging_freq': 1, 'min_child_samples': 18}. Best is trial 39 with value: 0.3563626587252837.\n",
      "<ipython-input-11-1c6539846d38>:86: ExperimentalWarning:\n",
      "\n",
      "upload_artifact is experimental (supported from v3.3.0). The interface can change in the future.\n",
      "\n",
      "<ipython-input-11-1c6539846d38>:94: ExperimentalWarning:\n",
      "\n",
      "upload_artifact is experimental (supported from v3.3.0). The interface can change in the future.\n",
      "\n",
      "[I 2024-08-10 12:39:21,315] Trial 40 finished with value: 0.34489466271840324 and parameters: {'lambda_l1': 1.9891035799061982, 'lambda_l2': 2.6435035319097437, 'num_leaves': 6, 'feature_fraction': 0.6149802053081783, 'bagging_fraction': 0.7641505942665672, 'bagging_freq': 1, 'min_child_samples': 18}. Best is trial 39 with value: 0.3563626587252837.\n",
      "<ipython-input-11-1c6539846d38>:86: ExperimentalWarning:\n",
      "\n",
      "upload_artifact is experimental (supported from v3.3.0). The interface can change in the future.\n",
      "\n",
      "<ipython-input-11-1c6539846d38>:94: ExperimentalWarning:\n",
      "\n",
      "upload_artifact is experimental (supported from v3.3.0). The interface can change in the future.\n",
      "\n",
      "[I 2024-08-10 12:39:32,137] Trial 41 finished with value: 0.351864111424973 and parameters: {'lambda_l1': 0.0918613791831598, 'lambda_l2': 0.9581059956146151, 'num_leaves': 45, 'feature_fraction': 0.4661587952344408, 'bagging_fraction': 0.9096480989633179, 'bagging_freq': 1, 'min_child_samples': 25}. Best is trial 39 with value: 0.3563626587252837.\n",
      "<ipython-input-11-1c6539846d38>:86: ExperimentalWarning:\n",
      "\n",
      "upload_artifact is experimental (supported from v3.3.0). The interface can change in the future.\n",
      "\n",
      "<ipython-input-11-1c6539846d38>:94: ExperimentalWarning:\n",
      "\n",
      "upload_artifact is experimental (supported from v3.3.0). The interface can change in the future.\n",
      "\n",
      "[I 2024-08-10 12:39:44,196] Trial 42 finished with value: 0.3498628388936816 and parameters: {'lambda_l1': 3.7646375259647487, 'lambda_l2': 4.5158612924110465e-06, 'num_leaves': 218, 'feature_fraction': 0.4096356038022638, 'bagging_fraction': 0.6141307714854312, 'bagging_freq': 4, 'min_child_samples': 46}. Best is trial 39 with value: 0.3563626587252837.\n",
      "<ipython-input-11-1c6539846d38>:86: ExperimentalWarning:\n",
      "\n",
      "upload_artifact is experimental (supported from v3.3.0). The interface can change in the future.\n",
      "\n",
      "<ipython-input-11-1c6539846d38>:94: ExperimentalWarning:\n",
      "\n",
      "upload_artifact is experimental (supported from v3.3.0). The interface can change in the future.\n",
      "\n",
      "[I 2024-08-10 12:40:00,532] Trial 43 finished with value: 0.3459052626167591 and parameters: {'lambda_l1': 0.0014722867587637115, 'lambda_l2': 1.4334679826965995e-07, 'num_leaves': 196, 'feature_fraction': 0.5659121492468369, 'bagging_fraction': 0.6497484662375524, 'bagging_freq': 5, 'min_child_samples': 16}. Best is trial 39 with value: 0.3563626587252837.\n",
      "[W 2024-08-11 17:54:19,990] Trial 44 failed with parameters: {'lambda_l1': 0.7032126107744777, 'lambda_l2': 6.238589788743484, 'num_leaves': 23, 'feature_fraction': 0.5396650351587642, 'bagging_fraction': 0.5034026505847548, 'bagging_freq': 1, 'min_child_samples': 11} because of the following error: KeyboardInterrupt().\n",
      "Traceback (most recent call last):\n",
      "  File \"c:\\Users\\s1093678\\Anaconda3\\lib\\site-packages\\optuna\\study\\_optimize.py\", line 196, in _run_trial\n",
      "    value_or_values = func(trial)\n",
      "  File \"<ipython-input-11-1c6539846d38>\", line 60, in cv_es_lgb_objective\n",
      "    lgb_model = lgb.train(lgb_params,\n",
      "  File \"c:\\Users\\s1093678\\Anaconda3\\lib\\site-packages\\lightgbm\\engine.py\", line 307, in train\n",
      "    booster.update(fobj=fobj)\n",
      "  File \"c:\\Users\\s1093678\\Anaconda3\\lib\\site-packages\\lightgbm\\basic.py\", line 4136, in update\n",
      "    _LIB.LGBM_BoosterUpdateOneIter(\n",
      "KeyboardInterrupt\n",
      "[W 2024-08-11 17:54:20,002] Trial 44 failed with value None.\n"
     ]
    },
    {
     "ename": "KeyboardInterrupt",
     "evalue": "",
     "output_type": "error",
     "traceback": [
      "\u001b[1;31m---------------------------------------------------------------------------\u001b[0m",
      "\u001b[1;31mKeyboardInterrupt\u001b[0m                         Traceback (most recent call last)",
      "\u001b[1;32m<ipython-input-12-3ba8469af45f>\u001b[0m in \u001b[0;36m<module>\u001b[1;34m\u001b[0m\n\u001b[0;32m      8\u001b[0m                             load_if_exists = True)\n\u001b[0;32m      9\u001b[0m \u001b[1;31m#Corro la optimizacion\u001b[0m\u001b[1;33m\u001b[0m\u001b[1;33m\u001b[0m\u001b[1;33m\u001b[0m\u001b[0m\n\u001b[1;32m---> 10\u001b[1;33m \u001b[0mstudy\u001b[0m\u001b[1;33m.\u001b[0m\u001b[0moptimize\u001b[0m\u001b[1;33m(\u001b[0m\u001b[0mcv_es_lgb_objective\u001b[0m\u001b[1;33m,\u001b[0m \u001b[0mn_trials\u001b[0m\u001b[1;33m=\u001b[0m\u001b[1;36m100\u001b[0m\u001b[1;33m)\u001b[0m\u001b[1;33m\u001b[0m\u001b[1;33m\u001b[0m\u001b[0m\n\u001b[0m",
      "\u001b[1;32mc:\\Users\\s1093678\\Anaconda3\\lib\\site-packages\\optuna\\study\\study.py\u001b[0m in \u001b[0;36moptimize\u001b[1;34m(self, func, n_trials, timeout, n_jobs, catch, callbacks, gc_after_trial, show_progress_bar)\u001b[0m\n\u001b[0;32m    449\u001b[0m                 \u001b[0mIf\u001b[0m \u001b[0mnested\u001b[0m \u001b[0minvocation\u001b[0m \u001b[0mof\u001b[0m \u001b[0mthis\u001b[0m \u001b[0mmethod\u001b[0m \u001b[0moccurs\u001b[0m\u001b[1;33m.\u001b[0m\u001b[1;33m\u001b[0m\u001b[1;33m\u001b[0m\u001b[0m\n\u001b[0;32m    450\u001b[0m         \"\"\"\n\u001b[1;32m--> 451\u001b[1;33m         _optimize(\n\u001b[0m\u001b[0;32m    452\u001b[0m             \u001b[0mstudy\u001b[0m\u001b[1;33m=\u001b[0m\u001b[0mself\u001b[0m\u001b[1;33m,\u001b[0m\u001b[1;33m\u001b[0m\u001b[1;33m\u001b[0m\u001b[0m\n\u001b[0;32m    453\u001b[0m             \u001b[0mfunc\u001b[0m\u001b[1;33m=\u001b[0m\u001b[0mfunc\u001b[0m\u001b[1;33m,\u001b[0m\u001b[1;33m\u001b[0m\u001b[1;33m\u001b[0m\u001b[0m\n",
      "\u001b[1;32mc:\\Users\\s1093678\\Anaconda3\\lib\\site-packages\\optuna\\study\\_optimize.py\u001b[0m in \u001b[0;36m_optimize\u001b[1;34m(study, func, n_trials, timeout, n_jobs, catch, callbacks, gc_after_trial, show_progress_bar)\u001b[0m\n\u001b[0;32m     60\u001b[0m     \u001b[1;32mtry\u001b[0m\u001b[1;33m:\u001b[0m\u001b[1;33m\u001b[0m\u001b[1;33m\u001b[0m\u001b[0m\n\u001b[0;32m     61\u001b[0m         \u001b[1;32mif\u001b[0m \u001b[0mn_jobs\u001b[0m \u001b[1;33m==\u001b[0m \u001b[1;36m1\u001b[0m\u001b[1;33m:\u001b[0m\u001b[1;33m\u001b[0m\u001b[1;33m\u001b[0m\u001b[0m\n\u001b[1;32m---> 62\u001b[1;33m             _optimize_sequential(\n\u001b[0m\u001b[0;32m     63\u001b[0m                 \u001b[0mstudy\u001b[0m\u001b[1;33m,\u001b[0m\u001b[1;33m\u001b[0m\u001b[1;33m\u001b[0m\u001b[0m\n\u001b[0;32m     64\u001b[0m                 \u001b[0mfunc\u001b[0m\u001b[1;33m,\u001b[0m\u001b[1;33m\u001b[0m\u001b[1;33m\u001b[0m\u001b[0m\n",
      "\u001b[1;32mc:\\Users\\s1093678\\Anaconda3\\lib\\site-packages\\optuna\\study\\_optimize.py\u001b[0m in \u001b[0;36m_optimize_sequential\u001b[1;34m(study, func, n_trials, timeout, catch, callbacks, gc_after_trial, reseed_sampler_rng, time_start, progress_bar)\u001b[0m\n\u001b[0;32m    157\u001b[0m \u001b[1;33m\u001b[0m\u001b[0m\n\u001b[0;32m    158\u001b[0m         \u001b[1;32mtry\u001b[0m\u001b[1;33m:\u001b[0m\u001b[1;33m\u001b[0m\u001b[1;33m\u001b[0m\u001b[0m\n\u001b[1;32m--> 159\u001b[1;33m             \u001b[0mfrozen_trial\u001b[0m \u001b[1;33m=\u001b[0m \u001b[0m_run_trial\u001b[0m\u001b[1;33m(\u001b[0m\u001b[0mstudy\u001b[0m\u001b[1;33m,\u001b[0m \u001b[0mfunc\u001b[0m\u001b[1;33m,\u001b[0m \u001b[0mcatch\u001b[0m\u001b[1;33m)\u001b[0m\u001b[1;33m\u001b[0m\u001b[1;33m\u001b[0m\u001b[0m\n\u001b[0m\u001b[0;32m    160\u001b[0m         \u001b[1;32mfinally\u001b[0m\u001b[1;33m:\u001b[0m\u001b[1;33m\u001b[0m\u001b[1;33m\u001b[0m\u001b[0m\n\u001b[0;32m    161\u001b[0m             \u001b[1;31m# The following line mitigates memory problems that can be occurred in some\u001b[0m\u001b[1;33m\u001b[0m\u001b[1;33m\u001b[0m\u001b[1;33m\u001b[0m\u001b[0m\n",
      "\u001b[1;32mc:\\Users\\s1093678\\Anaconda3\\lib\\site-packages\\optuna\\study\\_optimize.py\u001b[0m in \u001b[0;36m_run_trial\u001b[1;34m(study, func, catch)\u001b[0m\n\u001b[0;32m    245\u001b[0m         \u001b[1;32mand\u001b[0m \u001b[1;32mnot\u001b[0m \u001b[0misinstance\u001b[0m\u001b[1;33m(\u001b[0m\u001b[0mfunc_err\u001b[0m\u001b[1;33m,\u001b[0m \u001b[0mcatch\u001b[0m\u001b[1;33m)\u001b[0m\u001b[1;33m\u001b[0m\u001b[1;33m\u001b[0m\u001b[0m\n\u001b[0;32m    246\u001b[0m     ):\n\u001b[1;32m--> 247\u001b[1;33m         \u001b[1;32mraise\u001b[0m \u001b[0mfunc_err\u001b[0m\u001b[1;33m\u001b[0m\u001b[1;33m\u001b[0m\u001b[0m\n\u001b[0m\u001b[0;32m    248\u001b[0m     \u001b[1;32mreturn\u001b[0m \u001b[0mfrozen_trial\u001b[0m\u001b[1;33m\u001b[0m\u001b[1;33m\u001b[0m\u001b[0m\n\u001b[0;32m    249\u001b[0m \u001b[1;33m\u001b[0m\u001b[0m\n",
      "\u001b[1;32mc:\\Users\\s1093678\\Anaconda3\\lib\\site-packages\\optuna\\study\\_optimize.py\u001b[0m in \u001b[0;36m_run_trial\u001b[1;34m(study, func, catch)\u001b[0m\n\u001b[0;32m    194\u001b[0m     \u001b[1;32mwith\u001b[0m \u001b[0mget_heartbeat_thread\u001b[0m\u001b[1;33m(\u001b[0m\u001b[0mtrial\u001b[0m\u001b[1;33m.\u001b[0m\u001b[0m_trial_id\u001b[0m\u001b[1;33m,\u001b[0m \u001b[0mstudy\u001b[0m\u001b[1;33m.\u001b[0m\u001b[0m_storage\u001b[0m\u001b[1;33m)\u001b[0m\u001b[1;33m:\u001b[0m\u001b[1;33m\u001b[0m\u001b[1;33m\u001b[0m\u001b[0m\n\u001b[0;32m    195\u001b[0m         \u001b[1;32mtry\u001b[0m\u001b[1;33m:\u001b[0m\u001b[1;33m\u001b[0m\u001b[1;33m\u001b[0m\u001b[0m\n\u001b[1;32m--> 196\u001b[1;33m             \u001b[0mvalue_or_values\u001b[0m \u001b[1;33m=\u001b[0m \u001b[0mfunc\u001b[0m\u001b[1;33m(\u001b[0m\u001b[0mtrial\u001b[0m\u001b[1;33m)\u001b[0m\u001b[1;33m\u001b[0m\u001b[1;33m\u001b[0m\u001b[0m\n\u001b[0m\u001b[0;32m    197\u001b[0m         \u001b[1;32mexcept\u001b[0m \u001b[0mexceptions\u001b[0m\u001b[1;33m.\u001b[0m\u001b[0mTrialPruned\u001b[0m \u001b[1;32mas\u001b[0m \u001b[0me\u001b[0m\u001b[1;33m:\u001b[0m\u001b[1;33m\u001b[0m\u001b[1;33m\u001b[0m\u001b[0m\n\u001b[0;32m    198\u001b[0m             \u001b[1;31m# TODO(mamu): Handle multi-objective cases.\u001b[0m\u001b[1;33m\u001b[0m\u001b[1;33m\u001b[0m\u001b[1;33m\u001b[0m\u001b[0m\n",
      "\u001b[1;32m<ipython-input-11-1c6539846d38>\u001b[0m in \u001b[0;36mcv_es_lgb_objective\u001b[1;34m(trial)\u001b[0m\n\u001b[0;32m     58\u001b[0m \u001b[1;33m\u001b[0m\u001b[0m\n\u001b[0;32m     59\u001b[0m         \u001b[1;31m#Entreno el modelo\u001b[0m\u001b[1;33m\u001b[0m\u001b[1;33m\u001b[0m\u001b[1;33m\u001b[0m\u001b[0m\n\u001b[1;32m---> 60\u001b[1;33m         lgb_model = lgb.train(lgb_params,\n\u001b[0m\u001b[0;32m     61\u001b[0m                                 \u001b[0mlgb_if_dataset\u001b[0m\u001b[1;33m,\u001b[0m\u001b[1;33m\u001b[0m\u001b[1;33m\u001b[0m\u001b[0m\n\u001b[0;32m     62\u001b[0m                                 \u001b[0mvalid_sets\u001b[0m\u001b[1;33m=\u001b[0m\u001b[0mlgb_oof_dataset\u001b[0m\u001b[1;33m,\u001b[0m\u001b[1;33m\u001b[0m\u001b[1;33m\u001b[0m\u001b[0m\n",
      "\u001b[1;32mc:\\Users\\s1093678\\Anaconda3\\lib\\site-packages\\lightgbm\\engine.py\u001b[0m in \u001b[0;36mtrain\u001b[1;34m(params, train_set, num_boost_round, valid_sets, valid_names, feval, init_model, feature_name, categorical_feature, keep_training_booster, callbacks)\u001b[0m\n\u001b[0;32m    305\u001b[0m             )\n\u001b[0;32m    306\u001b[0m \u001b[1;33m\u001b[0m\u001b[0m\n\u001b[1;32m--> 307\u001b[1;33m         \u001b[0mbooster\u001b[0m\u001b[1;33m.\u001b[0m\u001b[0mupdate\u001b[0m\u001b[1;33m(\u001b[0m\u001b[0mfobj\u001b[0m\u001b[1;33m=\u001b[0m\u001b[0mfobj\u001b[0m\u001b[1;33m)\u001b[0m\u001b[1;33m\u001b[0m\u001b[1;33m\u001b[0m\u001b[0m\n\u001b[0m\u001b[0;32m    308\u001b[0m \u001b[1;33m\u001b[0m\u001b[0m\n\u001b[0;32m    309\u001b[0m         \u001b[0mevaluation_result_list\u001b[0m\u001b[1;33m:\u001b[0m \u001b[0mList\u001b[0m\u001b[1;33m[\u001b[0m\u001b[0m_LGBM_BoosterEvalMethodResultType\u001b[0m\u001b[1;33m]\u001b[0m \u001b[1;33m=\u001b[0m \u001b[1;33m[\u001b[0m\u001b[1;33m]\u001b[0m\u001b[1;33m\u001b[0m\u001b[1;33m\u001b[0m\u001b[0m\n",
      "\u001b[1;32mc:\\Users\\s1093678\\Anaconda3\\lib\\site-packages\\lightgbm\\basic.py\u001b[0m in \u001b[0;36mupdate\u001b[1;34m(self, train_set, fobj)\u001b[0m\n\u001b[0;32m   4134\u001b[0m                 \u001b[1;32mraise\u001b[0m \u001b[0mLightGBMError\u001b[0m\u001b[1;33m(\u001b[0m\u001b[1;34m\"Cannot update due to null objective function.\"\u001b[0m\u001b[1;33m)\u001b[0m\u001b[1;33m\u001b[0m\u001b[1;33m\u001b[0m\u001b[0m\n\u001b[0;32m   4135\u001b[0m             _safe_call(\n\u001b[1;32m-> 4136\u001b[1;33m                 _LIB.LGBM_BoosterUpdateOneIter(\n\u001b[0m\u001b[0;32m   4137\u001b[0m                     \u001b[0mself\u001b[0m\u001b[1;33m.\u001b[0m\u001b[0m_handle\u001b[0m\u001b[1;33m,\u001b[0m\u001b[1;33m\u001b[0m\u001b[1;33m\u001b[0m\u001b[0m\n\u001b[0;32m   4138\u001b[0m                     \u001b[0mctypes\u001b[0m\u001b[1;33m.\u001b[0m\u001b[0mbyref\u001b[0m\u001b[1;33m(\u001b[0m\u001b[0mis_finished\u001b[0m\u001b[1;33m)\u001b[0m\u001b[1;33m,\u001b[0m\u001b[1;33m\u001b[0m\u001b[1;33m\u001b[0m\u001b[0m\n",
      "\u001b[1;31mKeyboardInterrupt\u001b[0m: "
     ]
    }
   ],
   "source": [
    "#Inicio el store de artefactos (archivos) de optuna\n",
    "artifact_store = FileSystemArtifactStore(base_path=PATH_TO_OPTUNA_ARTIFACTS)\n",
    "\n",
    "#Genero estudio\n",
    "study = optuna.create_study(direction='maximize',\n",
    "                            storage=\"sqlite:///work/db.sqlite3\",  # Specify the storage URL here.\n",
    "                            study_name=\"04 - LGB Multiclass CV\",\n",
    "                            load_if_exists = True)\n",
    "#Corro la optimizacion\n",
    "study.optimize(cv_es_lgb_objective, n_trials=100)"
   ]
  },
  {
   "cell_type": "markdown",
   "metadata": {},
   "source": [
    "Para ver el optuna dashboard tengo que correr este comando en la terminal"
   ]
  },
  {
   "cell_type": "code",
   "execution_count": 2,
   "metadata": {},
   "outputs": [
    {
     "name": "stdout",
     "output_type": "stream",
     "text": [
      "Requirement already satisfied: kaleido in c:\\users\\s1093678\\anaconda3\\lib\\site-packages (0.2.1)\n"
     ]
    }
   ],
   "source": [
    "!pip install kaleido\n"
   ]
  },
  {
   "cell_type": "code",
   "execution_count": null,
   "metadata": {},
   "outputs": [],
   "source": [
    "!optuna-dashboard sqlite:///../work/db.sqlite3 --artifact-dir ../work/optuna_artifacts --port 8081"
   ]
  },
  {
   "cell_type": "code",
   "execution_count": null,
   "metadata": {},
   "outputs": [],
   "source": [
    "#para proxima clase hacer feature engeneering (agregar feature, health , colores, etc) pq hasta aca solo s ehizo con los variables numericas\n",
    "#TENER UN MODELO CANDIDATO TABULAR PARA SEGUIR ADELANTE \n",
    "#VAMOS A VER LA EJECUCION DE UN MODELO PARA BUCAR HIPERPARAMETROS ETC \n",
    "#DAR CON UN MODELO GANADOR\n"
   ]
  }
 ],
 "metadata": {
  "kernelspec": {
   "display_name": "ldi2",
   "language": "python",
   "name": "python3"
  },
  "language_info": {
   "codemirror_mode": {
    "name": "ipython",
    "version": 3
   },
   "file_extension": ".py",
   "mimetype": "text/x-python",
   "name": "python",
   "nbconvert_exporter": "python",
   "pygments_lexer": "ipython3",
   "version": "3.8.8"
  }
 },
 "nbformat": 4,
 "nbformat_minor": 2
}
