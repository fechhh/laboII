{
 "cells": [
  {
   "cell_type": "markdown",
   "metadata": {},
   "source": [
    "## Modelo datos estructurados\n",
    "Este notebook desarrolla un primer modelo para resolver el problema de Petfinder. Empezamos haciendo un modelo inicial muy simple para ver la viabilidad de resolver el problema. Luego analizamos como se comporta la métrica kappa propuesta y vemos la matriz de confusión. Finalmente hacemos una optimizacin de hiperparametros evaluando con train/test y otra validando con 5 fold CV y testeando en el 20% de los datos"
   ]
  },
  {
   "cell_type": "code",
   "execution_count": 1,
   "metadata": {},
   "outputs": [],
   "source": [
    "#Import de librerias basicas tablas y matrices\n",
    "import numpy as np \n",
    "import pandas as pd \n",
    "\n",
    "\n",
    "#Gradient Boosting\n",
    "import lightgbm as lgb\n",
    "\n",
    "#Funciones auxiliares sklearn\n",
    "from sklearn.preprocessing import MinMaxScaler\n",
    "from sklearn.model_selection import train_test_split, StratifiedKFold #Split y cross Validation\n",
    "from sklearn.metrics import cohen_kappa_score, accuracy_score, balanced_accuracy_score #Metricas\n",
    "from sklearn.preprocessing import OneHotEncoder\n",
    "\n",
    "# from sklearn.utils import shuffle \n",
    "\n",
    "#Visualizacióon\n",
    "from plotly import express as px\n",
    "\n",
    "#Plot de matriz de confusion normalizada en actuals\n",
    "from utils import plot_confusion_matrix\n",
    "\n",
    "import os\n",
    "\n",
    "#Optimizacion de hiperparametros\n",
    "import optuna\n",
    "from optuna.artifacts import FileSystemArtifactStore, upload_artifact\n",
    "\n",
    "#Guardado de objetos en archivos joblib\n",
    "from joblib import load, dump\n",
    "\n"
   ]
  },
  {
   "cell_type": "code",
   "execution_count": 2,
   "metadata": {},
   "outputs": [],
   "source": [
    "#PONER LA ESTRUCUTRA DE CARPETAS COMO SE VE AQUI ABAJO !!!"
   ]
  },
  {
   "cell_type": "code",
   "execution_count": 3,
   "metadata": {},
   "outputs": [],
   "source": [
    "# Paths para acceso archivos\n",
    "#Este notebook asume la siguiente estructura de carpetas a partir de la ubicacion de base_dir \n",
    "#(dos niveles arriba de la carpeta donde se ejecuta el notebook). \n",
    "# /UA_MDM_LDI_II/\n",
    "# /UA_MDM_LDI_II/input\n",
    "# /UA_MDM_LDI_II/input/petfinder-adoption-prediction/            <- Aca deben ir todos los archivos de datos de la competencia \n",
    "# /UA_MDM_LDI_II/tutoriales/                       <- Aca deben poner los notebooks y scripts que les compartimos\n",
    "# /UA_MDM_LDI_II/work/                             <- Resultados de notebooks iran dentro de esta carpeta en subcarpetas\n",
    "# /UA_MDM_LDI_II/work/models/                     <- Modelos entrenados en archivos joblibs\n",
    "# /UA_MDM_LDI_II/work/optuna_temp_artifacts/      <- Archivos que queremos dejar como artefacto de un trial de optuna (optuna los copiara a la carpeta de abajo)\n",
    "# /UA_MDM_LDI_II/work/optuna_artifacts/           <- Archivos con artefactos que sibimos a optuna\n",
    "\n",
    "#Subimos dos niveles para quedar en la carpeta que contiene input y UA_MDM_LDI_II\n",
    "BASE_DIR = ''\n",
    "\n",
    "#Datos de entrenamiento \n",
    "PATH_TO_TRAIN = os.path.join(BASE_DIR, \"input/petfinder-adoption-prediction/train/train.csv\")\n",
    "\n",
    "#Datos de test\n",
    "PATH_TO_TEST = os.path.join(BASE_DIR, \"input/petfinder-adoption-prediction/test/test.csv\")\n",
    "\n",
    "#Salida de modelos entrenados\n",
    "PATH_TO_MODELS = os.path.join(BASE_DIR, \"work/models\")\n",
    "\n",
    "#Artefactos a subir a optuna\n",
    "PATH_TO_TEMP_FILES = os.path.join(BASE_DIR, \"work/optuna_temp_artifacts\")\n",
    "\n",
    "#Artefactos que optuna gestiona\n",
    "PATH_TO_OPTUNA_ARTIFACTS = os.path.join(BASE_DIR, \"work/optuna_artifacts\")\n",
    "\n",
    "\n",
    "SEED = 42 #Semilla de procesos aleatorios (para poder replicar exactamente al volver a correr un modelo)\n",
    "TEST_SIZE = 0.2 #Facción para train/test= split \n",
    "\n",
    "#PONER CUALQUIER SEMILLLA Y 20% DEL DATASTE USAMOS"
   ]
  },
  {
   "cell_type": "code",
   "execution_count": 4,
   "metadata": {},
   "outputs": [],
   "source": [
    "#NUESTRO TODO ES TRAIN ... ENTONCES EN BASE A ESE DATASET HACEMOS TRAIN Y TEST"
   ]
  },
  {
   "cell_type": "code",
   "execution_count": 5,
   "metadata": {},
   "outputs": [],
   "source": [
    "# Datos Tabulares\n",
    "dataset = pd.read_csv(PATH_TO_TRAIN)"
   ]
  },
  {
   "cell_type": "code",
   "execution_count": 6,
   "metadata": {},
   "outputs": [
    {
     "data": {
      "text/plain": [
       "Index(['Type', 'Name', 'Age', 'Breed1', 'Breed2', 'Gender', 'Color1', 'Color2',\n",
       "       'Color3', 'MaturitySize', 'FurLength', 'Vaccinated', 'Dewormed',\n",
       "       'Sterilized', 'Health', 'Quantity', 'Fee', 'State', 'RescuerID',\n",
       "       'VideoAmt', 'Description', 'PetID', 'PhotoAmt', 'AdoptionSpeed'],\n",
       "      dtype='object')"
      ]
     },
     "execution_count": 6,
     "metadata": {},
     "output_type": "execute_result"
    }
   ],
   "source": [
    "#Columnas del dataset\n",
    "dataset.columns"
   ]
  },
  {
   "cell_type": "code",
   "execution_count": 7,
   "metadata": {},
   "outputs": [
    {
     "data": {
      "text/html": [
       "<div>\n",
       "<style scoped>\n",
       "    .dataframe tbody tr th:only-of-type {\n",
       "        vertical-align: middle;\n",
       "    }\n",
       "\n",
       "    .dataframe tbody tr th {\n",
       "        vertical-align: top;\n",
       "    }\n",
       "\n",
       "    .dataframe thead th {\n",
       "        text-align: right;\n",
       "    }\n",
       "</style>\n",
       "<table border=\"1\" class=\"dataframe\">\n",
       "  <thead>\n",
       "    <tr style=\"text-align: right;\">\n",
       "      <th></th>\n",
       "      <th>Type</th>\n",
       "      <th>Name</th>\n",
       "      <th>Age</th>\n",
       "      <th>Breed1</th>\n",
       "      <th>Breed2</th>\n",
       "      <th>Gender</th>\n",
       "      <th>Color1</th>\n",
       "      <th>Color2</th>\n",
       "      <th>Color3</th>\n",
       "      <th>MaturitySize</th>\n",
       "      <th>...</th>\n",
       "      <th>Health</th>\n",
       "      <th>Quantity</th>\n",
       "      <th>Fee</th>\n",
       "      <th>State</th>\n",
       "      <th>RescuerID</th>\n",
       "      <th>VideoAmt</th>\n",
       "      <th>Description</th>\n",
       "      <th>PetID</th>\n",
       "      <th>PhotoAmt</th>\n",
       "      <th>AdoptionSpeed</th>\n",
       "    </tr>\n",
       "  </thead>\n",
       "  <tbody>\n",
       "    <tr>\n",
       "      <th>0</th>\n",
       "      <td>2</td>\n",
       "      <td>Nibble</td>\n",
       "      <td>3</td>\n",
       "      <td>299</td>\n",
       "      <td>0</td>\n",
       "      <td>1</td>\n",
       "      <td>1</td>\n",
       "      <td>7</td>\n",
       "      <td>0</td>\n",
       "      <td>1</td>\n",
       "      <td>...</td>\n",
       "      <td>1</td>\n",
       "      <td>1</td>\n",
       "      <td>100</td>\n",
       "      <td>41326</td>\n",
       "      <td>8480853f516546f6cf33aa88cd76c379</td>\n",
       "      <td>0</td>\n",
       "      <td>Nibble is a 3+ month old ball of cuteness. He ...</td>\n",
       "      <td>86e1089a3</td>\n",
       "      <td>1.0</td>\n",
       "      <td>2</td>\n",
       "    </tr>\n",
       "    <tr>\n",
       "      <th>1</th>\n",
       "      <td>2</td>\n",
       "      <td>No Name Yet</td>\n",
       "      <td>1</td>\n",
       "      <td>265</td>\n",
       "      <td>0</td>\n",
       "      <td>1</td>\n",
       "      <td>1</td>\n",
       "      <td>2</td>\n",
       "      <td>0</td>\n",
       "      <td>2</td>\n",
       "      <td>...</td>\n",
       "      <td>1</td>\n",
       "      <td>1</td>\n",
       "      <td>0</td>\n",
       "      <td>41401</td>\n",
       "      <td>3082c7125d8fb66f7dd4bff4192c8b14</td>\n",
       "      <td>0</td>\n",
       "      <td>I just found it alone yesterday near my apartm...</td>\n",
       "      <td>6296e909a</td>\n",
       "      <td>2.0</td>\n",
       "      <td>0</td>\n",
       "    </tr>\n",
       "    <tr>\n",
       "      <th>2</th>\n",
       "      <td>1</td>\n",
       "      <td>Brisco</td>\n",
       "      <td>1</td>\n",
       "      <td>307</td>\n",
       "      <td>0</td>\n",
       "      <td>1</td>\n",
       "      <td>2</td>\n",
       "      <td>7</td>\n",
       "      <td>0</td>\n",
       "      <td>2</td>\n",
       "      <td>...</td>\n",
       "      <td>1</td>\n",
       "      <td>1</td>\n",
       "      <td>0</td>\n",
       "      <td>41326</td>\n",
       "      <td>fa90fa5b1ee11c86938398b60abc32cb</td>\n",
       "      <td>0</td>\n",
       "      <td>Their pregnant mother was dumped by her irresp...</td>\n",
       "      <td>3422e4906</td>\n",
       "      <td>7.0</td>\n",
       "      <td>3</td>\n",
       "    </tr>\n",
       "    <tr>\n",
       "      <th>3</th>\n",
       "      <td>1</td>\n",
       "      <td>Miko</td>\n",
       "      <td>4</td>\n",
       "      <td>307</td>\n",
       "      <td>0</td>\n",
       "      <td>2</td>\n",
       "      <td>1</td>\n",
       "      <td>2</td>\n",
       "      <td>0</td>\n",
       "      <td>2</td>\n",
       "      <td>...</td>\n",
       "      <td>1</td>\n",
       "      <td>1</td>\n",
       "      <td>150</td>\n",
       "      <td>41401</td>\n",
       "      <td>9238e4f44c71a75282e62f7136c6b240</td>\n",
       "      <td>0</td>\n",
       "      <td>Good guard dog, very alert, active, obedience ...</td>\n",
       "      <td>5842f1ff5</td>\n",
       "      <td>8.0</td>\n",
       "      <td>2</td>\n",
       "    </tr>\n",
       "    <tr>\n",
       "      <th>4</th>\n",
       "      <td>1</td>\n",
       "      <td>Hunter</td>\n",
       "      <td>1</td>\n",
       "      <td>307</td>\n",
       "      <td>0</td>\n",
       "      <td>1</td>\n",
       "      <td>1</td>\n",
       "      <td>0</td>\n",
       "      <td>0</td>\n",
       "      <td>2</td>\n",
       "      <td>...</td>\n",
       "      <td>1</td>\n",
       "      <td>1</td>\n",
       "      <td>0</td>\n",
       "      <td>41326</td>\n",
       "      <td>95481e953f8aed9ec3d16fc4509537e8</td>\n",
       "      <td>0</td>\n",
       "      <td>This handsome yet cute boy is up for adoption....</td>\n",
       "      <td>850a43f90</td>\n",
       "      <td>3.0</td>\n",
       "      <td>2</td>\n",
       "    </tr>\n",
       "  </tbody>\n",
       "</table>\n",
       "<p>5 rows × 24 columns</p>\n",
       "</div>"
      ],
      "text/plain": [
       "   Type         Name  Age  Breed1  Breed2  Gender  Color1  Color2  Color3  \\\n",
       "0     2       Nibble    3     299       0       1       1       7       0   \n",
       "1     2  No Name Yet    1     265       0       1       1       2       0   \n",
       "2     1       Brisco    1     307       0       1       2       7       0   \n",
       "3     1         Miko    4     307       0       2       1       2       0   \n",
       "4     1       Hunter    1     307       0       1       1       0       0   \n",
       "\n",
       "   MaturitySize  ...  Health  Quantity  Fee  State  \\\n",
       "0             1  ...       1         1  100  41326   \n",
       "1             2  ...       1         1    0  41401   \n",
       "2             2  ...       1         1    0  41326   \n",
       "3             2  ...       1         1  150  41401   \n",
       "4             2  ...       1         1    0  41326   \n",
       "\n",
       "                          RescuerID  VideoAmt  \\\n",
       "0  8480853f516546f6cf33aa88cd76c379         0   \n",
       "1  3082c7125d8fb66f7dd4bff4192c8b14         0   \n",
       "2  fa90fa5b1ee11c86938398b60abc32cb         0   \n",
       "3  9238e4f44c71a75282e62f7136c6b240         0   \n",
       "4  95481e953f8aed9ec3d16fc4509537e8         0   \n",
       "\n",
       "                                         Description      PetID PhotoAmt  \\\n",
       "0  Nibble is a 3+ month old ball of cuteness. He ...  86e1089a3      1.0   \n",
       "1  I just found it alone yesterday near my apartm...  6296e909a      2.0   \n",
       "2  Their pregnant mother was dumped by her irresp...  3422e4906      7.0   \n",
       "3  Good guard dog, very alert, active, obedience ...  5842f1ff5      8.0   \n",
       "4  This handsome yet cute boy is up for adoption....  850a43f90      3.0   \n",
       "\n",
       "   AdoptionSpeed  \n",
       "0              2  \n",
       "1              0  \n",
       "2              3  \n",
       "3              2  \n",
       "4              2  \n",
       "\n",
       "[5 rows x 24 columns]"
      ]
     },
     "execution_count": 7,
     "metadata": {},
     "output_type": "execute_result"
    }
   ],
   "source": [
    "dataset.head()"
   ]
  },
  {
   "cell_type": "markdown",
   "metadata": {},
   "source": [
    "## FEATURE ENGENEERING\n",
    "Haremos modificaciones en el dataset para ver si mejora o no la fuerza predictiva del modelo base"
   ]
  },
  {
   "cell_type": "code",
   "execution_count": 8,
   "metadata": {},
   "outputs": [
    {
     "data": {
      "text/plain": [
       "Type                0\n",
       "Name             1265\n",
       "Age                 0\n",
       "Breed1              0\n",
       "Breed2              0\n",
       "Gender              0\n",
       "Color1              0\n",
       "Color2              0\n",
       "Color3              0\n",
       "MaturitySize        0\n",
       "FurLength           0\n",
       "Vaccinated          0\n",
       "Dewormed            0\n",
       "Sterilized          0\n",
       "Health              0\n",
       "Quantity            0\n",
       "Fee                 0\n",
       "State               0\n",
       "RescuerID           0\n",
       "VideoAmt            0\n",
       "Description        13\n",
       "PetID               0\n",
       "PhotoAmt            0\n",
       "AdoptionSpeed       0\n",
       "dtype: int64"
      ]
     },
     "execution_count": 8,
     "metadata": {},
     "output_type": "execute_result"
    }
   ],
   "source": [
    "#Imputar datos faltantes en Nombre\n",
    "dataset.isnull().sum()"
   ]
  },
  {
   "cell_type": "code",
   "execution_count": 9,
   "metadata": {},
   "outputs": [],
   "source": [
    "#FE VIEJO \n",
    "\n",
    "def feature_engineering(dataset):\n",
    "    # Categorizacion de edad\n",
    "    bins = [0, 12, 60, float('inf')]  # Define la cantidad de categorias y los limites de las mismas\n",
    "    labels = [1, 2, 3]  # 1='puppy' 2='adult' 3='senior'\n",
    "    dataset['AgeCategory'] = pd.cut(dataset['Age'], bins, labels=labels, right=False)\n",
    "\n",
    "    # Combinacion para Breed\n",
    "    dataset['Breed'] = dataset.apply(lambda row: 2 if row['Breed2'] != 0 else 1, axis=1)\n",
    "\n",
    "    # Color\n",
    "    dataset['IsMultiColored'] = dataset.apply(lambda row: 1 if row['Color2'] != 0 or row['Color3'] != 0 else 0, axis=1)\n",
    "\n",
    "    # Name\n",
    "    dataset['Name'].fillna('No Name Yet', inplace=True)\n",
    "    dataset['Name'] = dataset['Name'].replace('', 'No Name Yet')\n",
    "    dataset['name_code'] = dataset['Name'].apply(lambda x: 1 if x != 'No Name Yet' else 0)\n",
    "\n",
    "    # Creación de nuevas características\n",
    "    dataset['Age_log'] = np.log1p(dataset['Age'])  # logaritmo de la edad\n",
    "    dataset['PhotoAmt_log'] = np.log1p(dataset['PhotoAmt'])  # logaritmo de la cantidad de fotos\n",
    "    dataset['VideoAmt_log'] = np.log1p(dataset['VideoAmt'])  # logaritmo de la cantidad de videos\n",
    "\n",
    "    # Interacciones entre características\n",
    "    dataset['Age_PhotoAmt'] = dataset['Age'] * dataset['PhotoAmt']  # relación entre la edad de la mascota y la cantidad de fotos\n",
    "    dataset['Age_VideoAmt'] = dataset['Age'] * dataset['VideoAmt']  # relación entre la edad de la mascota y la cantidad de videos\n",
    "\n",
    "    # Agregaciones y agrupaciones\n",
    "    dataset['Breed1_mean_Age'] = dataset.groupby('Breed1')['Age'].transform('mean')  # promedio de edad por raza\n",
    "    dataset['Breed1_mean_PhotoAmt'] = dataset.groupby('Breed1')['PhotoAmt'].transform('mean')  # promedio de fotos por raza\n",
    "\n",
    "    # Agregar cantidad de palabras del describe y longitud del texto\n",
    "    dataset[\"description_word_count\"] = dataset[\"Description\"].apply(lambda x: len(str(x).split()) if pd.notnull(x) else 0)\n",
    "    dataset['Description_Length'] = dataset['Description'].apply(lambda x: len(x) if isinstance(x, str) else 0)\n",
    "\n",
    "    # Health\n",
    "    dataset['Health'] = dataset['Vaccinated'].astype(str) + '_' + dataset['Dewormed'].astype(str) + '_' + dataset['Sterilized'].astype(str)\n",
    "\n",
    "    # Nuevas características basadas en interacciones y transformaciones\n",
    "    dataset['Photo_Video_Ratio'] = dataset['PhotoAmt'] / (dataset['VideoAmt'] + 1)  # Evitar división por cero\n",
    "    dataset['Fee_log'] = np.log1p(dataset['Fee'])  # Logaritmo de la tarifa de adopción\n",
    "    dataset['Fee_Age_Ratio'] = dataset['Fee'] / (dataset['Age'] + 1)  # Evitar división por cero\n",
    "    dataset['RescuerID_count'] = dataset.groupby('RescuerID')['RescuerID'].transform('count')  # Número de mascotas rescatadas por el mismo rescatador\n",
    "    dataset['Name_Length'] = dataset['Name'].apply(len)  # Longitud del nombre de la mascota\n",
    "    dataset['Name_Word_Count'] = dataset['Name'].apply(lambda x: len(x.split()))  # Número de palabras en el nombre de la mascota\n",
    "    dataset['RescuerID_Length'] = dataset['RescuerID'].apply(len)  # Longitud del ID del rescatador\n",
    "    dataset['RescuerID_Word_Count'] = dataset['RescuerID'].apply(lambda x: len(x.split()))  # Número de palabras en el ID del rescatador\n",
    "    dataset['MaturitySize_FurLength'] = dataset['MaturitySize'] * dataset['FurLength']\n",
    "    dataset['PhotoAmt_FurLength'] = dataset['PhotoAmt'] * dataset['FurLength']\n",
    "    dataset['VideoAmt_FurLength'] = dataset['VideoAmt'] * dataset['FurLength']\n",
    "\n",
    "    return dataset\n"
   ]
  },
  {
   "cell_type": "code",
   "execution_count": 83,
   "metadata": {},
   "outputs": [],
   "source": [
    "#FE NUEVO\n",
    "def feature_engineering(dataset):\n",
    "    # Age categorization\n",
    "    bins = [0, 12, 60, float('inf')]\n",
    "    labels = [1, 2, 3]  # 1='puppy' 2='adult' 3='senior'\n",
    "    dataset['AgeCategory'] = pd.cut(dataset['Age'], bins, labels=labels, right=False)\n",
    "\n",
    "    # Breed combination\n",
    "    dataset['Breed'] = dataset.apply(lambda row: 2 if row['Breed2'] != 0 else 1, axis=1)\n",
    "\n",
    "    # Color\n",
    "    dataset['IsMultiColored'] = dataset.apply(lambda row: 1 if row['Color2'] != 0 or row['Color3'] != 0 else 0, axis=1)\n",
    "\n",
    "    # Name processing\n",
    "    dataset['Name'].fillna('No Name Yet', inplace=True) # Fill missing values\n",
    "    dataset['Name'] = dataset['Name'].replace('', 'No Name Yet') # Replace empty strings\n",
    "    dataset['name_code'] = dataset['Name'].apply(lambda x: 1 if x != 'No Name Yet' else 0) # Create a binary variable for name presence\n",
    "    dataset['Is_Genuine_Name'] = ((dataset['Name'] != 'No Name Yet') & (dataset['Quantity'] > 1)).astype(int)    #geniuine name\n",
    "\n",
    "    # Logarithmic transformations and means\n",
    "    dataset['Age_log'] = np.log1p(dataset['Age'])\n",
    "    dataset['PhotoAmt_log'] = np.log1p(dataset['PhotoAmt'])\n",
    "    dataset['VideoAmt_log'] = np.log1p(dataset['VideoAmt'])\n",
    "    dataset['Fee_log'] = np.log1p(dataset['Fee'])\n",
    "    # Interactions and aggregations by gender\n",
    "    dataset['Gender_Age_mean'] = dataset.groupby('Gender')['Age'].transform('mean')\n",
    "    dataset['Gender_Fee_mean'] = dataset.groupby('Gender')['Fee'].transform('mean')\n",
    "    dataset['Gender_PhotoAmt_mean'] = dataset.groupby('Gender')['PhotoAmt'].transform('mean')\n",
    "    dataset['Gender_VideoAmt_mean'] = dataset.groupby('Gender')['VideoAmt'].transform('mean')\n",
    "    # Interactions and aggregations by breed (assuming Breed1 is the primary breed)\n",
    "    dataset['Breed_Age_mean'] = dataset.groupby('Breed1')['Age'].transform('mean')\n",
    "    dataset['Breed_Fee_mean'] = dataset.groupby('Breed1')['Fee'].transform('mean')\n",
    "    dataset['Breed_PhotoAmt_mean'] = dataset.groupby('Breed1')['PhotoAmt'].transform('mean')\n",
    "    dataset['Breed_VideoAmt_mean'] = dataset.groupby('Breed1')['VideoAmt'].transform('mean')\n",
    "    # Interactions between gender and breed\n",
    "    dataset['Gender_Breed_Age_mean'] = dataset.groupby(['Gender', 'Breed1'])['Age'].transform('mean')\n",
    "    dataset['Gender_Breed_Fee_mean'] = dataset.groupby(['Gender', 'Breed1'])['Fee'].transform('mean')\n",
    "    dataset['Gender_Breed_PhotoAmt_mean'] = dataset.groupby(['Gender', 'Breed1'])['PhotoAmt'].transform('mean')\n",
    "    dataset['Gender_Breed_VideoAmt_mean'] = dataset.groupby(['Gender', 'Breed1'])['VideoAmt'].transform('mean')\n",
    "    # Ratios and differences\n",
    "    dataset['Age_to_Gender_mean_ratio'] = dataset['Age'] / dataset['Gender_Age_mean']\n",
    "    dataset['Fee_to_Gender_mean_ratio'] = dataset['Fee'] / dataset['Gender_Fee_mean']\n",
    "    dataset['Age_to_Breed_mean_ratio'] = dataset['Age'] / dataset['Breed_Age_mean']\n",
    "    dataset['Fee_to_Breed_mean_ratio'] = dataset['Fee'] / dataset['Breed_Fee_mean']\n",
    "    # Interaction between continuous variables\n",
    "    dataset['Age_Fee_interaction'] = dataset['Age'] * dataset['Fee']\n",
    "    dataset['PhotoAmt_VideoAmt_interaction'] = dataset['PhotoAmt'] * dataset['VideoAmt']\n",
    "    # Logarithmic transformations of the new features\n",
    "    dataset['Gender_Fee_mean_log'] = np.log1p(dataset['Gender_Fee_mean'])\n",
    "    dataset['Breed_Fee_mean_log'] = np.log1p(dataset['Breed_Fee_mean'])\n",
    "    dataset['Gender_Breed_Fee_mean_log'] = np.log1p(dataset['Gender_Breed_Fee_mean'])\n",
    "    # Additional complex interactions\n",
    "    dataset['Age_PhotoAmt_Fee_interaction'] = dataset['Age'] * dataset['PhotoAmt'] * dataset['Fee']\n",
    "    dataset['Age_VideoAmt_Fee_interaction'] = dataset['Age'] * dataset['VideoAmt'] * dataset['Fee']\n",
    "\n",
    "    # Feature interactions\n",
    "    dataset['Age_PhotoAmt'] = dataset['Age'] * dataset['PhotoAmt'] # Interaction between Age and PhotoAmt\n",
    "    dataset['Age_VideoAmt'] = dataset['Age'] * dataset['VideoAmt'] # Interaction between Age and VideoAmt\n",
    "    dataset['Photo_Video_Ratio'] = dataset['PhotoAmt'] / (dataset['VideoAmt'] + 1) # Ratio between PhotoAmt and VideoAmt\n",
    "    dataset['Fee_Age_Ratio'] = dataset['Fee'] / (dataset['Age'] + 1) # Ratio between Fee and Age\n",
    "    dataset['MaturitySize_FurLength'] = dataset['MaturitySize'] * dataset['FurLength'] # Interaction between MaturitySize and FurLength\n",
    "    dataset['PhotoAmt_FurLength'] = dataset['PhotoAmt'] * dataset['FurLength'] # Interaction between PhotoAmt and FurLength\n",
    "    dataset['VideoAmt_FurLength'] = dataset['VideoAmt'] * dataset['FurLength'] # Interaction between VideoAmt and FurLength\n",
    "\n",
    "    # Aggregations and groupings\n",
    "    dataset['Breed1_mean_Age'] = dataset.groupby('Breed1')['Age'].transform('mean') # Mean Age by Breed1\n",
    "    dataset['Breed1_mean_PhotoAmt'] = dataset.groupby('Breed1')['PhotoAmt'].transform('mean') # Mean PhotoAmt by Breed1\n",
    "    dataset['RescuerID_count'] = dataset.groupby('RescuerID')['RescuerID'].transform('count') # Count of pets by RescuerID\n",
    "\n",
    "    # Text-based features\n",
    "    dataset[\"description_word_count\"] = dataset[\"Description\"].apply(lambda x: len(str(x).split()) if pd.notnull(x) else 0) # Word count in Description\n",
    "    dataset['Description_Length'] = dataset['Description'].apply(lambda x: len(x) if isinstance(x, str) else 0) # Length of Description\n",
    "    dataset['Name_Length'] = dataset['Name'].apply(len) # Length of Name\n",
    "    dataset['Name_Word_Count'] = dataset['Name'].apply(lambda x: len(x.split())) # Word count in Name\n",
    "    dataset['Name_Length_Category'] = dataset['Name'].apply(lambda x: 0 if len(x) < 5 else 1) # Categorization of Name length\n",
    "\n",
    "    # Health\n",
    "\n",
    "\n",
    "    # Single condition features\n",
    "    dataset['Health_vac'] = np.where(dataset['Vaccinated'] == 1, 1, 0)\n",
    "    dataset['Health_dew'] = np.where(dataset['Dewormed'] == 1, 1, 0)\n",
    "    dataset['Health_ster'] = np.where(dataset['Sterilized'] == 1, 1, 0)\n",
    "    # Two condition combinations\n",
    "    dataset['Health_vac_dew'] = np.where((dataset['Vaccinated'] == 1) & (dataset['Dewormed'] == 1), 1, 0)\n",
    "    dataset['Health_vac_ster'] = np.where((dataset['Vaccinated'] == 1) & (dataset['Sterilized'] == 1), 1, 0)\n",
    "    dataset['Health_dew_ster'] = np.where((dataset['Dewormed'] == 1) & (dataset['Sterilized'] == 1), 1, 0)\n",
    "    # All three conditions (full health)\n",
    "    dataset['Health_full'] = np.where((dataset['Vaccinated'] == 1) & (dataset['Dewormed'] == 1) & (dataset['Sterilized'] == 1), 1, 0)\n",
    "    # Inverse conditions (not done)\n",
    "    dataset['Health_not_vac'] = np.where(dataset['Vaccinated'] == 0, 1, 0)\n",
    "    dataset['Health_not_dew'] = np.where(dataset['Dewormed'] == 0, 1, 0)\n",
    "    dataset['Health_not_ster'] = np.where(dataset['Sterilized'] == 0, 1, 0)\n",
    "    # Two inverse condition combinations\n",
    "    dataset['Health_not_vac_dew'] = np.where((dataset['Vaccinated'] == 0) & (dataset['Dewormed'] == 0), 1, 0)\n",
    "    dataset['Health_not_vac_ster'] = np.where((dataset['Vaccinated'] == 0) & (dataset['Sterilized'] == 0), 1, 0)\n",
    "    dataset['Health_not_dew_ster'] = np.where((dataset['Dewormed'] == 0) & (dataset['Sterilized'] == 0), 1, 0)\n",
    "    # No health procedures done\n",
    "    dataset['Health_none'] = np.where((dataset['Vaccinated'] == 0) & (dataset['Dewormed'] == 0) & (dataset['Sterilized'] == 0), 1, 0)\n",
    "    \n",
    "    # Additional RescuerID-based features\n",
    "    \n",
    "    # Average age of pets for each rescuer\n",
    "    dataset['RescuerID_mean_Age'] = dataset.groupby('RescuerID')['Age'].transform('mean')\n",
    "    \n",
    "    # Standard deviation of pet ages for each rescuer\n",
    "    dataset['RescuerID_std_Age'] = dataset.groupby('RescuerID')['Age'].transform('std')\n",
    "    \n",
    "    # Average fee for each rescuer\n",
    "    dataset['RescuerID_mean_Fee'] = dataset.groupby('RescuerID')['Fee'].transform('mean')\n",
    "    \n",
    "    # Standard deviation of fees for each rescuer\n",
    "    dataset['RescuerID_std_Fee'] = dataset.groupby('RescuerID')['Fee'].transform('std')\n",
    "    \n",
    "    # Average number of photos per pet for each rescuer\n",
    "    dataset['RescuerID_mean_PhotoAmt'] = dataset.groupby('RescuerID')['PhotoAmt'].transform('mean')\n",
    "    \n",
    "    # Average number of videos per pet for each rescuer\n",
    "    dataset['RescuerID_mean_VideoAmt'] = dataset.groupby('RescuerID')['VideoAmt'].transform('mean')\n",
    "    \n",
    "    # Percentage of pets with names for each rescuer\n",
    "    dataset['RescuerID_name_ratio'] = dataset.groupby('RescuerID')['name_code'].transform('mean')\n",
    "    \n",
    "    # Most common breed for each rescuer\n",
    "    dataset['RescuerID_most_common_breed'] = dataset.groupby('RescuerID')['Breed1'].transform(lambda x: x.value_counts().index[0])\n",
    "    \n",
    "    # Percentage of pets that are puppies/kittens for each rescuer\n",
    "    dataset['RescuerID_young_ratio'] = dataset.groupby('RescuerID')['AgeCategory'].transform(lambda x: (x == 1).mean())\n",
    "    \n",
    "    # Percentage of pets with full health (vaccinated, dewormed, sterilized) for each rescuer\n",
    "    dataset['RescuerID_full_health_ratio'] = dataset.groupby('RescuerID')['Health_full'].transform('mean')\n",
    "    \n",
    "    # Average description length for each rescuer\n",
    "    dataset['RescuerID_mean_description_length'] = dataset.groupby('RescuerID')['Description_Length'].transform('mean')\n",
    "    \n",
    "    # Time since first listing for each rescuer (assuming 'DateTime' column exists)\n",
    "    if 'DateTime' in dataset.columns:\n",
    "        dataset['RescuerID_days_active'] = dataset.groupby('RescuerID')['DateTime'].transform(lambda x: (x.max() - x.min()).days)\n",
    "    \n",
    "    # Rescuer's pet type preference (dog vs cat ratio)\n",
    "    dataset['RescuerID_dog_ratio'] = dataset.groupby('RescuerID')['Type'].transform(lambda x: (x == 1).mean())\n",
    "    \n",
    "    # Rescuer's average sentiment score (if you have sentiment analysis on descriptions)\n",
    "    # This is a placeholder - you'd need to implement sentiment analysis first\n",
    "    # dataset['RescuerID_mean_sentiment'] = dataset.groupby('RescuerID')['sentiment_score'].transform('mean')\n",
    "    \n",
    "    # Rescuer's specialization score (how much they focus on specific breeds)\n",
    "    dataset['RescuerID_breed_specialization'] = dataset.groupby('RescuerID')['Breed1'].transform(lambda x: x.value_counts().iloc[0] / len(x))\n",
    "    \n",
    "    return dataset"
   ]
  },
  {
   "cell_type": "code",
   "execution_count": 84,
   "metadata": {},
   "outputs": [
    {
     "name": "stderr",
     "output_type": "stream",
     "text": [
      "C:\\Users\\s1093678\\AppData\\Local\\Temp\\ipykernel_18756\\3350703556.py:14: FutureWarning:\n",
      "\n",
      "A value is trying to be set on a copy of a DataFrame or Series through chained assignment using an inplace method.\n",
      "The behavior will change in pandas 3.0. This inplace method will never work because the intermediate object on which we are setting values always behaves as a copy.\n",
      "\n",
      "For example, when doing 'df[col].method(value, inplace=True)', try using 'df.method({col: value}, inplace=True)' or df[col] = df[col].method(value) instead, to perform the operation inplace on the original object.\n",
      "\n",
      "\n",
      "\n"
     ]
    },
    {
     "data": {
      "text/html": [
       "<div>\n",
       "<style scoped>\n",
       "    .dataframe tbody tr th:only-of-type {\n",
       "        vertical-align: middle;\n",
       "    }\n",
       "\n",
       "    .dataframe tbody tr th {\n",
       "        vertical-align: top;\n",
       "    }\n",
       "\n",
       "    .dataframe thead th {\n",
       "        text-align: right;\n",
       "    }\n",
       "</style>\n",
       "<table border=\"1\" class=\"dataframe\">\n",
       "  <thead>\n",
       "    <tr style=\"text-align: right;\">\n",
       "      <th></th>\n",
       "      <th>Type</th>\n",
       "      <th>Name</th>\n",
       "      <th>Age</th>\n",
       "      <th>Breed1</th>\n",
       "      <th>Breed2</th>\n",
       "      <th>Gender</th>\n",
       "      <th>Color1</th>\n",
       "      <th>Color2</th>\n",
       "      <th>Color3</th>\n",
       "      <th>MaturitySize</th>\n",
       "      <th>...</th>\n",
       "      <th>RescuerID_std_Fee</th>\n",
       "      <th>RescuerID_mean_PhotoAmt</th>\n",
       "      <th>RescuerID_mean_VideoAmt</th>\n",
       "      <th>RescuerID_name_ratio</th>\n",
       "      <th>RescuerID_most_common_breed</th>\n",
       "      <th>RescuerID_young_ratio</th>\n",
       "      <th>RescuerID_full_health_ratio</th>\n",
       "      <th>RescuerID_mean_description_length</th>\n",
       "      <th>RescuerID_dog_ratio</th>\n",
       "      <th>RescuerID_breed_specialization</th>\n",
       "    </tr>\n",
       "  </thead>\n",
       "  <tbody>\n",
       "    <tr>\n",
       "      <th>0</th>\n",
       "      <td>2</td>\n",
       "      <td>Nibble</td>\n",
       "      <td>3</td>\n",
       "      <td>299</td>\n",
       "      <td>0</td>\n",
       "      <td>1</td>\n",
       "      <td>1</td>\n",
       "      <td>7</td>\n",
       "      <td>0</td>\n",
       "      <td>1</td>\n",
       "      <td>...</td>\n",
       "      <td>51.754917</td>\n",
       "      <td>1.500000</td>\n",
       "      <td>0.000000</td>\n",
       "      <td>1.000000</td>\n",
       "      <td>276</td>\n",
       "      <td>0.750000</td>\n",
       "      <td>0.000000</td>\n",
       "      <td>434.250000</td>\n",
       "      <td>0.000000</td>\n",
       "      <td>0.375000</td>\n",
       "    </tr>\n",
       "    <tr>\n",
       "      <th>1</th>\n",
       "      <td>2</td>\n",
       "      <td>No Name Yet</td>\n",
       "      <td>1</td>\n",
       "      <td>265</td>\n",
       "      <td>0</td>\n",
       "      <td>1</td>\n",
       "      <td>1</td>\n",
       "      <td>2</td>\n",
       "      <td>0</td>\n",
       "      <td>2</td>\n",
       "      <td>...</td>\n",
       "      <td>NaN</td>\n",
       "      <td>2.000000</td>\n",
       "      <td>0.000000</td>\n",
       "      <td>0.000000</td>\n",
       "      <td>265</td>\n",
       "      <td>1.000000</td>\n",
       "      <td>0.000000</td>\n",
       "      <td>118.000000</td>\n",
       "      <td>0.000000</td>\n",
       "      <td>1.000000</td>\n",
       "    </tr>\n",
       "    <tr>\n",
       "      <th>2</th>\n",
       "      <td>1</td>\n",
       "      <td>Brisco</td>\n",
       "      <td>1</td>\n",
       "      <td>307</td>\n",
       "      <td>0</td>\n",
       "      <td>1</td>\n",
       "      <td>2</td>\n",
       "      <td>7</td>\n",
       "      <td>0</td>\n",
       "      <td>2</td>\n",
       "      <td>...</td>\n",
       "      <td>14.927688</td>\n",
       "      <td>3.572985</td>\n",
       "      <td>0.010893</td>\n",
       "      <td>0.986928</td>\n",
       "      <td>307</td>\n",
       "      <td>0.941176</td>\n",
       "      <td>0.106754</td>\n",
       "      <td>174.178649</td>\n",
       "      <td>0.991285</td>\n",
       "      <td>0.684096</td>\n",
       "    </tr>\n",
       "    <tr>\n",
       "      <th>3</th>\n",
       "      <td>1</td>\n",
       "      <td>Miko</td>\n",
       "      <td>4</td>\n",
       "      <td>307</td>\n",
       "      <td>0</td>\n",
       "      <td>2</td>\n",
       "      <td>1</td>\n",
       "      <td>2</td>\n",
       "      <td>0</td>\n",
       "      <td>2</td>\n",
       "      <td>...</td>\n",
       "      <td>70.101967</td>\n",
       "      <td>9.500000</td>\n",
       "      <td>0.020000</td>\n",
       "      <td>1.000000</td>\n",
       "      <td>307</td>\n",
       "      <td>0.820000</td>\n",
       "      <td>0.280000</td>\n",
       "      <td>426.180000</td>\n",
       "      <td>0.820000</td>\n",
       "      <td>0.760000</td>\n",
       "    </tr>\n",
       "    <tr>\n",
       "      <th>4</th>\n",
       "      <td>1</td>\n",
       "      <td>Hunter</td>\n",
       "      <td>1</td>\n",
       "      <td>307</td>\n",
       "      <td>0</td>\n",
       "      <td>1</td>\n",
       "      <td>1</td>\n",
       "      <td>0</td>\n",
       "      <td>0</td>\n",
       "      <td>2</td>\n",
       "      <td>...</td>\n",
       "      <td>0.000000</td>\n",
       "      <td>2.305970</td>\n",
       "      <td>0.007463</td>\n",
       "      <td>1.000000</td>\n",
       "      <td>307</td>\n",
       "      <td>0.895522</td>\n",
       "      <td>0.044776</td>\n",
       "      <td>242.029851</td>\n",
       "      <td>0.970149</td>\n",
       "      <td>0.895522</td>\n",
       "    </tr>\n",
       "  </tbody>\n",
       "</table>\n",
       "<p>5 rows × 103 columns</p>\n",
       "</div>"
      ],
      "text/plain": [
       "   Type         Name  Age  Breed1  Breed2  Gender  Color1  Color2  Color3  \\\n",
       "0     2       Nibble    3     299       0       1       1       7       0   \n",
       "1     2  No Name Yet    1     265       0       1       1       2       0   \n",
       "2     1       Brisco    1     307       0       1       2       7       0   \n",
       "3     1         Miko    4     307       0       2       1       2       0   \n",
       "4     1       Hunter    1     307       0       1       1       0       0   \n",
       "\n",
       "   MaturitySize  ...  RescuerID_std_Fee  RescuerID_mean_PhotoAmt  \\\n",
       "0             1  ...          51.754917                 1.500000   \n",
       "1             2  ...                NaN                 2.000000   \n",
       "2             2  ...          14.927688                 3.572985   \n",
       "3             2  ...          70.101967                 9.500000   \n",
       "4             2  ...           0.000000                 2.305970   \n",
       "\n",
       "   RescuerID_mean_VideoAmt  RescuerID_name_ratio  RescuerID_most_common_breed  \\\n",
       "0                 0.000000              1.000000                          276   \n",
       "1                 0.000000              0.000000                          265   \n",
       "2                 0.010893              0.986928                          307   \n",
       "3                 0.020000              1.000000                          307   \n",
       "4                 0.007463              1.000000                          307   \n",
       "\n",
       "   RescuerID_young_ratio  RescuerID_full_health_ratio  \\\n",
       "0               0.750000                     0.000000   \n",
       "1               1.000000                     0.000000   \n",
       "2               0.941176                     0.106754   \n",
       "3               0.820000                     0.280000   \n",
       "4               0.895522                     0.044776   \n",
       "\n",
       "   RescuerID_mean_description_length RescuerID_dog_ratio  \\\n",
       "0                         434.250000            0.000000   \n",
       "1                         118.000000            0.000000   \n",
       "2                         174.178649            0.991285   \n",
       "3                         426.180000            0.820000   \n",
       "4                         242.029851            0.970149   \n",
       "\n",
       "   RescuerID_breed_specialization  \n",
       "0                        0.375000  \n",
       "1                        1.000000  \n",
       "2                        0.684096  \n",
       "3                        0.760000  \n",
       "4                        0.895522  \n",
       "\n",
       "[5 rows x 103 columns]"
      ]
     },
     "execution_count": 84,
     "metadata": {},
     "output_type": "execute_result"
    }
   ],
   "source": [
    "feature_engineering(dataset)\n",
    "dataset.head()"
   ]
  },
  {
   "cell_type": "code",
   "execution_count": 85,
   "metadata": {},
   "outputs": [
    {
     "name": "stdout",
     "output_type": "stream",
     "text": [
      "Variables numéricas: ['Type', 'Age', 'Breed1', 'Breed2', 'Gender', 'Color1', 'Color2', 'Color3', 'MaturitySize', 'FurLength', 'Vaccinated', 'Dewormed', 'Sterilized', 'Health', 'Quantity', 'Fee', 'State', 'VideoAmt', 'PhotoAmt', 'AdoptionSpeed', 'Breed', 'IsMultiColored', 'name_code', 'Is_Genuine_Name', 'Age_log', 'PhotoAmt_log', 'VideoAmt_log', 'Fee_log', 'Gender_Age_mean', 'Gender_Fee_mean', 'Gender_PhotoAmt_mean', 'Gender_VideoAmt_mean', 'Breed_Age_mean', 'Breed_Fee_mean', 'Breed_PhotoAmt_mean', 'Breed_VideoAmt_mean', 'Gender_Breed_Age_mean', 'Gender_Breed_Fee_mean', 'Gender_Breed_PhotoAmt_mean', 'Gender_Breed_VideoAmt_mean', 'Age_to_Gender_mean_ratio', 'Fee_to_Gender_mean_ratio', 'Age_to_Breed_mean_ratio', 'Fee_to_Breed_mean_ratio', 'Age_Fee_interaction', 'PhotoAmt_VideoAmt_interaction', 'Gender_Fee_mean_log', 'Breed_Fee_mean_log', 'Gender_Breed_Fee_mean_log', 'Age_PhotoAmt_Fee_interaction', 'Age_VideoAmt_Fee_interaction', 'Age_PhotoAmt', 'Age_VideoAmt', 'Photo_Video_Ratio', 'Fee_Age_Ratio', 'MaturitySize_FurLength', 'PhotoAmt_FurLength', 'VideoAmt_FurLength', 'Breed1_mean_Age', 'Breed1_mean_PhotoAmt', 'RescuerID_count', 'description_word_count', 'Description_Length', 'Name_Length', 'Name_Word_Count', 'Name_Length_Category', 'Health_vac', 'Health_dew', 'Health_ster', 'Health_vac_dew', 'Health_vac_ster', 'Health_dew_ster', 'Health_full', 'Health_not_vac', 'Health_not_dew', 'Health_not_ster', 'Health_not_vac_dew', 'Health_not_vac_ster', 'Health_not_dew_ster', 'Health_none', 'prediction_class_0', 'prediction_class_1', 'prediction_class_2', 'prediction_class_3', 'prediction_class_4', 'RescuerID_mean_Age', 'RescuerID_std_Age', 'RescuerID_mean_Fee', 'RescuerID_std_Fee', 'RescuerID_mean_PhotoAmt', 'RescuerID_mean_VideoAmt', 'RescuerID_name_ratio', 'RescuerID_most_common_breed', 'RescuerID_young_ratio', 'RescuerID_full_health_ratio', 'RescuerID_mean_description_length', 'RescuerID_dog_ratio', 'RescuerID_breed_specialization']\n",
      "Variables categóricas: ['Name', 'RescuerID', 'Description', 'PetID', 'AgeCategory']\n"
     ]
    }
   ],
   "source": [
    "# Supongamos que 'dataset' es tu DataFrame\n",
    "\n",
    "# Listar variables numéricas\n",
    "numeric_features = dataset.select_dtypes(include=['number']).columns.tolist()\n",
    "print(\"Variables numéricas:\", numeric_features)\n",
    "\n",
    "# Listar variables categóricas\n",
    "categorical_features = dataset.select_dtypes(include=['object', 'category']).columns.tolist()\n",
    "print(\"Variables categóricas:\", categorical_features)"
   ]
  },
  {
   "cell_type": "code",
   "execution_count": 86,
   "metadata": {},
   "outputs": [],
   "source": [
    "#Este fragmento de código define una función add_new_variables_with_lgbm que agrega nuevas variables a un conjunto de datos utilizando un modelo de LightGBM. Aquí está el desglose paso a paso:\n",
    "def add_new_variables_with_lgbm(dataset):\n",
    "    # Selección de características numéricas y categóricas:\n",
    "    numeric_features = ['Age', 'VideoAmt', 'PhotoAmt', 'AgeCategory', 'IsMultiColored', 'name_code','Age_log', 'PhotoAmt_log', 'VideoAmt_log', 'Age_PhotoAmt', 'Age_VideoAmt', 'Breed1_mean_Age', 'Breed1_mean_PhotoAmt']\n",
    "    categorical_features = ['Type', 'Breed1', 'Breed2', 'Gender', 'Color1', 'Color2', 'Color3']\n",
    "\n",
    "    # Codificación de características categóricas:\n",
    "    encoded_features = pd.get_dummies(dataset[categorical_features], columns=categorical_features, prefix=categorical_features)\n",
    "\n",
    "    # Concatenación de características numéricas y codificadas:\n",
    "    processed_dataset = pd.concat([dataset[numeric_features], encoded_features], axis=1)\n",
    "\n",
    "    # Creación del conjunto de datos de entrenamiento:\n",
    "    target = dataset['AdoptionSpeed']\n",
    "    train_data = lgb.Dataset(processed_dataset, label=target, params={'verbose': -1})\n",
    "\n",
    "    # Definición de parámetros de LightGBM\n",
    "    lgb_params = {\n",
    "        'objective': 'multiclass',\n",
    "        'num_class': 5,  \n",
    "        'metric': 'multi_logloss',\n",
    "        'boosting_type': 'gbdt',\n",
    "    }\n",
    "\n",
    "    # Entrenamiento del modelo LightGBM:\n",
    "    model = lgb.train(lgb_params, train_data)\n",
    "\n",
    "    # Obtención de predicciones para cada muestra:\n",
    "    predictions = model.predict(processed_dataset)\n",
    "\n",
    "    # Adición de nuevas variables basadas en las predicciones:\n",
    "    for class_num in range(5):  \n",
    "        dataset[f'prediction_class_{class_num}'] = predictions[:, class_num]\n",
    "\n",
    "    return dataset\n",
    "\n",
    "# Llamada a la función con el DataFrame:\n",
    "df_with_new_variables = add_new_variables_with_lgbm(dataset.copy())  # Usar dataset.copy() para evitar modificar el DataFrame original"
   ]
  },
  {
   "cell_type": "code",
   "execution_count": 87,
   "metadata": {},
   "outputs": [
    {
     "data": {
      "text/html": [
       "<div>\n",
       "<style scoped>\n",
       "    .dataframe tbody tr th:only-of-type {\n",
       "        vertical-align: middle;\n",
       "    }\n",
       "\n",
       "    .dataframe tbody tr th {\n",
       "        vertical-align: top;\n",
       "    }\n",
       "\n",
       "    .dataframe thead th {\n",
       "        text-align: right;\n",
       "    }\n",
       "</style>\n",
       "<table border=\"1\" class=\"dataframe\">\n",
       "  <thead>\n",
       "    <tr style=\"text-align: right;\">\n",
       "      <th></th>\n",
       "      <th>Type</th>\n",
       "      <th>Name</th>\n",
       "      <th>Age</th>\n",
       "      <th>Breed1</th>\n",
       "      <th>Breed2</th>\n",
       "      <th>Gender</th>\n",
       "      <th>Color1</th>\n",
       "      <th>Color2</th>\n",
       "      <th>Color3</th>\n",
       "      <th>MaturitySize</th>\n",
       "      <th>...</th>\n",
       "      <th>RescuerID_std_Fee</th>\n",
       "      <th>RescuerID_mean_PhotoAmt</th>\n",
       "      <th>RescuerID_mean_VideoAmt</th>\n",
       "      <th>RescuerID_name_ratio</th>\n",
       "      <th>RescuerID_most_common_breed</th>\n",
       "      <th>RescuerID_young_ratio</th>\n",
       "      <th>RescuerID_full_health_ratio</th>\n",
       "      <th>RescuerID_mean_description_length</th>\n",
       "      <th>RescuerID_dog_ratio</th>\n",
       "      <th>RescuerID_breed_specialization</th>\n",
       "    </tr>\n",
       "  </thead>\n",
       "  <tbody>\n",
       "    <tr>\n",
       "      <th>0</th>\n",
       "      <td>2</td>\n",
       "      <td>Nibble</td>\n",
       "      <td>3</td>\n",
       "      <td>299</td>\n",
       "      <td>0</td>\n",
       "      <td>1</td>\n",
       "      <td>1</td>\n",
       "      <td>7</td>\n",
       "      <td>0</td>\n",
       "      <td>1</td>\n",
       "      <td>...</td>\n",
       "      <td>51.754917</td>\n",
       "      <td>1.500000</td>\n",
       "      <td>0.000000</td>\n",
       "      <td>1.000000</td>\n",
       "      <td>276</td>\n",
       "      <td>0.750000</td>\n",
       "      <td>0.000000</td>\n",
       "      <td>434.250000</td>\n",
       "      <td>0.000000</td>\n",
       "      <td>0.375000</td>\n",
       "    </tr>\n",
       "    <tr>\n",
       "      <th>1</th>\n",
       "      <td>2</td>\n",
       "      <td>No Name Yet</td>\n",
       "      <td>1</td>\n",
       "      <td>265</td>\n",
       "      <td>0</td>\n",
       "      <td>1</td>\n",
       "      <td>1</td>\n",
       "      <td>2</td>\n",
       "      <td>0</td>\n",
       "      <td>2</td>\n",
       "      <td>...</td>\n",
       "      <td>NaN</td>\n",
       "      <td>2.000000</td>\n",
       "      <td>0.000000</td>\n",
       "      <td>0.000000</td>\n",
       "      <td>265</td>\n",
       "      <td>1.000000</td>\n",
       "      <td>0.000000</td>\n",
       "      <td>118.000000</td>\n",
       "      <td>0.000000</td>\n",
       "      <td>1.000000</td>\n",
       "    </tr>\n",
       "    <tr>\n",
       "      <th>2</th>\n",
       "      <td>1</td>\n",
       "      <td>Brisco</td>\n",
       "      <td>1</td>\n",
       "      <td>307</td>\n",
       "      <td>0</td>\n",
       "      <td>1</td>\n",
       "      <td>2</td>\n",
       "      <td>7</td>\n",
       "      <td>0</td>\n",
       "      <td>2</td>\n",
       "      <td>...</td>\n",
       "      <td>14.927688</td>\n",
       "      <td>3.572985</td>\n",
       "      <td>0.010893</td>\n",
       "      <td>0.986928</td>\n",
       "      <td>307</td>\n",
       "      <td>0.941176</td>\n",
       "      <td>0.106754</td>\n",
       "      <td>174.178649</td>\n",
       "      <td>0.991285</td>\n",
       "      <td>0.684096</td>\n",
       "    </tr>\n",
       "    <tr>\n",
       "      <th>3</th>\n",
       "      <td>1</td>\n",
       "      <td>Miko</td>\n",
       "      <td>4</td>\n",
       "      <td>307</td>\n",
       "      <td>0</td>\n",
       "      <td>2</td>\n",
       "      <td>1</td>\n",
       "      <td>2</td>\n",
       "      <td>0</td>\n",
       "      <td>2</td>\n",
       "      <td>...</td>\n",
       "      <td>70.101967</td>\n",
       "      <td>9.500000</td>\n",
       "      <td>0.020000</td>\n",
       "      <td>1.000000</td>\n",
       "      <td>307</td>\n",
       "      <td>0.820000</td>\n",
       "      <td>0.280000</td>\n",
       "      <td>426.180000</td>\n",
       "      <td>0.820000</td>\n",
       "      <td>0.760000</td>\n",
       "    </tr>\n",
       "    <tr>\n",
       "      <th>4</th>\n",
       "      <td>1</td>\n",
       "      <td>Hunter</td>\n",
       "      <td>1</td>\n",
       "      <td>307</td>\n",
       "      <td>0</td>\n",
       "      <td>1</td>\n",
       "      <td>1</td>\n",
       "      <td>0</td>\n",
       "      <td>0</td>\n",
       "      <td>2</td>\n",
       "      <td>...</td>\n",
       "      <td>0.000000</td>\n",
       "      <td>2.305970</td>\n",
       "      <td>0.007463</td>\n",
       "      <td>1.000000</td>\n",
       "      <td>307</td>\n",
       "      <td>0.895522</td>\n",
       "      <td>0.044776</td>\n",
       "      <td>242.029851</td>\n",
       "      <td>0.970149</td>\n",
       "      <td>0.895522</td>\n",
       "    </tr>\n",
       "    <tr>\n",
       "      <th>...</th>\n",
       "      <td>...</td>\n",
       "      <td>...</td>\n",
       "      <td>...</td>\n",
       "      <td>...</td>\n",
       "      <td>...</td>\n",
       "      <td>...</td>\n",
       "      <td>...</td>\n",
       "      <td>...</td>\n",
       "      <td>...</td>\n",
       "      <td>...</td>\n",
       "      <td>...</td>\n",
       "      <td>...</td>\n",
       "      <td>...</td>\n",
       "      <td>...</td>\n",
       "      <td>...</td>\n",
       "      <td>...</td>\n",
       "      <td>...</td>\n",
       "      <td>...</td>\n",
       "      <td>...</td>\n",
       "      <td>...</td>\n",
       "      <td>...</td>\n",
       "    </tr>\n",
       "    <tr>\n",
       "      <th>14988</th>\n",
       "      <td>2</td>\n",
       "      <td>No Name Yet</td>\n",
       "      <td>2</td>\n",
       "      <td>266</td>\n",
       "      <td>0</td>\n",
       "      <td>3</td>\n",
       "      <td>1</td>\n",
       "      <td>0</td>\n",
       "      <td>0</td>\n",
       "      <td>2</td>\n",
       "      <td>...</td>\n",
       "      <td>0.000000</td>\n",
       "      <td>3.000000</td>\n",
       "      <td>0.000000</td>\n",
       "      <td>0.000000</td>\n",
       "      <td>265</td>\n",
       "      <td>1.000000</td>\n",
       "      <td>0.000000</td>\n",
       "      <td>396.500000</td>\n",
       "      <td>0.000000</td>\n",
       "      <td>0.500000</td>\n",
       "    </tr>\n",
       "    <tr>\n",
       "      <th>14989</th>\n",
       "      <td>2</td>\n",
       "      <td>Serato &amp; Eddie</td>\n",
       "      <td>60</td>\n",
       "      <td>265</td>\n",
       "      <td>264</td>\n",
       "      <td>3</td>\n",
       "      <td>1</td>\n",
       "      <td>4</td>\n",
       "      <td>7</td>\n",
       "      <td>2</td>\n",
       "      <td>...</td>\n",
       "      <td>0.000000</td>\n",
       "      <td>3.333333</td>\n",
       "      <td>0.000000</td>\n",
       "      <td>1.000000</td>\n",
       "      <td>266</td>\n",
       "      <td>0.000000</td>\n",
       "      <td>1.000000</td>\n",
       "      <td>142.000000</td>\n",
       "      <td>0.000000</td>\n",
       "      <td>0.666667</td>\n",
       "    </tr>\n",
       "    <tr>\n",
       "      <th>14990</th>\n",
       "      <td>2</td>\n",
       "      <td>Monkies</td>\n",
       "      <td>2</td>\n",
       "      <td>265</td>\n",
       "      <td>266</td>\n",
       "      <td>3</td>\n",
       "      <td>5</td>\n",
       "      <td>6</td>\n",
       "      <td>7</td>\n",
       "      <td>3</td>\n",
       "      <td>...</td>\n",
       "      <td>9.642741</td>\n",
       "      <td>3.368421</td>\n",
       "      <td>0.000000</td>\n",
       "      <td>1.000000</td>\n",
       "      <td>266</td>\n",
       "      <td>0.578947</td>\n",
       "      <td>0.526316</td>\n",
       "      <td>211.210526</td>\n",
       "      <td>0.263158</td>\n",
       "      <td>0.315789</td>\n",
       "    </tr>\n",
       "    <tr>\n",
       "      <th>14991</th>\n",
       "      <td>2</td>\n",
       "      <td>Ms Daym</td>\n",
       "      <td>9</td>\n",
       "      <td>266</td>\n",
       "      <td>0</td>\n",
       "      <td>2</td>\n",
       "      <td>4</td>\n",
       "      <td>7</td>\n",
       "      <td>0</td>\n",
       "      <td>1</td>\n",
       "      <td>...</td>\n",
       "      <td>0.000000</td>\n",
       "      <td>2.600000</td>\n",
       "      <td>0.000000</td>\n",
       "      <td>1.000000</td>\n",
       "      <td>254</td>\n",
       "      <td>1.000000</td>\n",
       "      <td>0.200000</td>\n",
       "      <td>266.800000</td>\n",
       "      <td>0.000000</td>\n",
       "      <td>0.600000</td>\n",
       "    </tr>\n",
       "    <tr>\n",
       "      <th>14992</th>\n",
       "      <td>1</td>\n",
       "      <td>Fili</td>\n",
       "      <td>1</td>\n",
       "      <td>307</td>\n",
       "      <td>307</td>\n",
       "      <td>1</td>\n",
       "      <td>2</td>\n",
       "      <td>0</td>\n",
       "      <td>0</td>\n",
       "      <td>2</td>\n",
       "      <td>...</td>\n",
       "      <td>0.000000</td>\n",
       "      <td>1.166667</td>\n",
       "      <td>0.000000</td>\n",
       "      <td>1.000000</td>\n",
       "      <td>307</td>\n",
       "      <td>1.000000</td>\n",
       "      <td>0.000000</td>\n",
       "      <td>107.833333</td>\n",
       "      <td>1.000000</td>\n",
       "      <td>1.000000</td>\n",
       "    </tr>\n",
       "  </tbody>\n",
       "</table>\n",
       "<p>14993 rows × 103 columns</p>\n",
       "</div>"
      ],
      "text/plain": [
       "       Type            Name  Age  Breed1  Breed2  Gender  Color1  Color2  \\\n",
       "0         2          Nibble    3     299       0       1       1       7   \n",
       "1         2     No Name Yet    1     265       0       1       1       2   \n",
       "2         1          Brisco    1     307       0       1       2       7   \n",
       "3         1            Miko    4     307       0       2       1       2   \n",
       "4         1          Hunter    1     307       0       1       1       0   \n",
       "...     ...             ...  ...     ...     ...     ...     ...     ...   \n",
       "14988     2     No Name Yet    2     266       0       3       1       0   \n",
       "14989     2  Serato & Eddie   60     265     264       3       1       4   \n",
       "14990     2         Monkies    2     265     266       3       5       6   \n",
       "14991     2         Ms Daym    9     266       0       2       4       7   \n",
       "14992     1            Fili    1     307     307       1       2       0   \n",
       "\n",
       "       Color3  MaturitySize  ...  RescuerID_std_Fee  RescuerID_mean_PhotoAmt  \\\n",
       "0           0             1  ...          51.754917                 1.500000   \n",
       "1           0             2  ...                NaN                 2.000000   \n",
       "2           0             2  ...          14.927688                 3.572985   \n",
       "3           0             2  ...          70.101967                 9.500000   \n",
       "4           0             2  ...           0.000000                 2.305970   \n",
       "...       ...           ...  ...                ...                      ...   \n",
       "14988       0             2  ...           0.000000                 3.000000   \n",
       "14989       7             2  ...           0.000000                 3.333333   \n",
       "14990       7             3  ...           9.642741                 3.368421   \n",
       "14991       0             1  ...           0.000000                 2.600000   \n",
       "14992       0             2  ...           0.000000                 1.166667   \n",
       "\n",
       "       RescuerID_mean_VideoAmt  RescuerID_name_ratio  \\\n",
       "0                     0.000000              1.000000   \n",
       "1                     0.000000              0.000000   \n",
       "2                     0.010893              0.986928   \n",
       "3                     0.020000              1.000000   \n",
       "4                     0.007463              1.000000   \n",
       "...                        ...                   ...   \n",
       "14988                 0.000000              0.000000   \n",
       "14989                 0.000000              1.000000   \n",
       "14990                 0.000000              1.000000   \n",
       "14991                 0.000000              1.000000   \n",
       "14992                 0.000000              1.000000   \n",
       "\n",
       "       RescuerID_most_common_breed  RescuerID_young_ratio  \\\n",
       "0                              276               0.750000   \n",
       "1                              265               1.000000   \n",
       "2                              307               0.941176   \n",
       "3                              307               0.820000   \n",
       "4                              307               0.895522   \n",
       "...                            ...                    ...   \n",
       "14988                          265               1.000000   \n",
       "14989                          266               0.000000   \n",
       "14990                          266               0.578947   \n",
       "14991                          254               1.000000   \n",
       "14992                          307               1.000000   \n",
       "\n",
       "       RescuerID_full_health_ratio  RescuerID_mean_description_length  \\\n",
       "0                         0.000000                         434.250000   \n",
       "1                         0.000000                         118.000000   \n",
       "2                         0.106754                         174.178649   \n",
       "3                         0.280000                         426.180000   \n",
       "4                         0.044776                         242.029851   \n",
       "...                            ...                                ...   \n",
       "14988                     0.000000                         396.500000   \n",
       "14989                     1.000000                         142.000000   \n",
       "14990                     0.526316                         211.210526   \n",
       "14991                     0.200000                         266.800000   \n",
       "14992                     0.000000                         107.833333   \n",
       "\n",
       "      RescuerID_dog_ratio  RescuerID_breed_specialization  \n",
       "0                0.000000                        0.375000  \n",
       "1                0.000000                        1.000000  \n",
       "2                0.991285                        0.684096  \n",
       "3                0.820000                        0.760000  \n",
       "4                0.970149                        0.895522  \n",
       "...                   ...                             ...  \n",
       "14988            0.000000                        0.500000  \n",
       "14989            0.000000                        0.666667  \n",
       "14990            0.263158                        0.315789  \n",
       "14991            0.000000                        0.600000  \n",
       "14992            1.000000                        1.000000  \n",
       "\n",
       "[14993 rows x 103 columns]"
      ]
     },
     "execution_count": 87,
     "metadata": {},
     "output_type": "execute_result"
    }
   ],
   "source": [
    "df_with_new_variables"
   ]
  },
  {
   "cell_type": "code",
   "execution_count": 88,
   "metadata": {},
   "outputs": [],
   "source": [
    "dataset=df_with_new_variables"
   ]
  },
  {
   "cell_type": "code",
   "execution_count": 89,
   "metadata": {},
   "outputs": [],
   "source": [
    "\n",
    "#Separo un 20% para test estratificado opr target\n",
    "#PERO MANTENEMOS LA PROPORCION\n",
    "train, test = train_test_split(dataset,\n",
    "                               test_size = TEST_SIZE,\n",
    "                               random_state = SEED,\n",
    "                               stratify = dataset.AdoptionSpeed)"
   ]
  },
  {
   "cell_type": "code",
   "execution_count": 90,
   "metadata": {},
   "outputs": [],
   "source": [
    "#Armo listas con features de texto y numericas\n",
    "char_feats = [f for f in dataset.columns if dataset[f].dtype=='O']\n",
    "numeric_feats = [f for f in dataset.columns if dataset[f].dtype!='O']"
   ]
  },
  {
   "cell_type": "code",
   "execution_count": 91,
   "metadata": {},
   "outputs": [
    {
     "data": {
      "text/plain": [
       "['Type',\n",
       " 'Age',\n",
       " 'Breed1',\n",
       " 'Breed2',\n",
       " 'Gender',\n",
       " 'Color1',\n",
       " 'Color2',\n",
       " 'Color3',\n",
       " 'MaturitySize',\n",
       " 'FurLength',\n",
       " 'Vaccinated',\n",
       " 'Dewormed',\n",
       " 'Sterilized',\n",
       " 'Health',\n",
       " 'Quantity',\n",
       " 'Fee',\n",
       " 'State',\n",
       " 'VideoAmt',\n",
       " 'PhotoAmt',\n",
       " 'AdoptionSpeed',\n",
       " 'AgeCategory',\n",
       " 'Breed',\n",
       " 'IsMultiColored',\n",
       " 'name_code',\n",
       " 'Is_Genuine_Name',\n",
       " 'Age_log',\n",
       " 'PhotoAmt_log',\n",
       " 'VideoAmt_log',\n",
       " 'Fee_log',\n",
       " 'Gender_Age_mean',\n",
       " 'Gender_Fee_mean',\n",
       " 'Gender_PhotoAmt_mean',\n",
       " 'Gender_VideoAmt_mean',\n",
       " 'Breed_Age_mean',\n",
       " 'Breed_Fee_mean',\n",
       " 'Breed_PhotoAmt_mean',\n",
       " 'Breed_VideoAmt_mean',\n",
       " 'Gender_Breed_Age_mean',\n",
       " 'Gender_Breed_Fee_mean',\n",
       " 'Gender_Breed_PhotoAmt_mean',\n",
       " 'Gender_Breed_VideoAmt_mean',\n",
       " 'Age_to_Gender_mean_ratio',\n",
       " 'Fee_to_Gender_mean_ratio',\n",
       " 'Age_to_Breed_mean_ratio',\n",
       " 'Fee_to_Breed_mean_ratio',\n",
       " 'Age_Fee_interaction',\n",
       " 'PhotoAmt_VideoAmt_interaction',\n",
       " 'Gender_Fee_mean_log',\n",
       " 'Breed_Fee_mean_log',\n",
       " 'Gender_Breed_Fee_mean_log',\n",
       " 'Age_PhotoAmt_Fee_interaction',\n",
       " 'Age_VideoAmt_Fee_interaction',\n",
       " 'Age_PhotoAmt',\n",
       " 'Age_VideoAmt',\n",
       " 'Photo_Video_Ratio',\n",
       " 'Fee_Age_Ratio',\n",
       " 'MaturitySize_FurLength',\n",
       " 'PhotoAmt_FurLength',\n",
       " 'VideoAmt_FurLength',\n",
       " 'Breed1_mean_Age',\n",
       " 'Breed1_mean_PhotoAmt',\n",
       " 'RescuerID_count',\n",
       " 'description_word_count',\n",
       " 'Description_Length',\n",
       " 'Name_Length',\n",
       " 'Name_Word_Count',\n",
       " 'Name_Length_Category',\n",
       " 'Health_vac',\n",
       " 'Health_dew',\n",
       " 'Health_ster',\n",
       " 'Health_vac_dew',\n",
       " 'Health_vac_ster',\n",
       " 'Health_dew_ster',\n",
       " 'Health_full',\n",
       " 'Health_not_vac',\n",
       " 'Health_not_dew',\n",
       " 'Health_not_ster',\n",
       " 'Health_not_vac_dew',\n",
       " 'Health_not_vac_ster',\n",
       " 'Health_not_dew_ster',\n",
       " 'Health_none',\n",
       " 'prediction_class_0',\n",
       " 'prediction_class_1',\n",
       " 'prediction_class_2',\n",
       " 'prediction_class_3',\n",
       " 'prediction_class_4',\n",
       " 'RescuerID_mean_Age',\n",
       " 'RescuerID_std_Age',\n",
       " 'RescuerID_mean_Fee',\n",
       " 'RescuerID_std_Fee',\n",
       " 'RescuerID_mean_PhotoAmt',\n",
       " 'RescuerID_mean_VideoAmt',\n",
       " 'RescuerID_name_ratio',\n",
       " 'RescuerID_most_common_breed',\n",
       " 'RescuerID_young_ratio',\n",
       " 'RescuerID_full_health_ratio',\n",
       " 'RescuerID_mean_description_length',\n",
       " 'RescuerID_dog_ratio',\n",
       " 'RescuerID_breed_specialization']"
      ]
     },
     "execution_count": 91,
     "metadata": {},
     "output_type": "execute_result"
    }
   ],
   "source": [
    "#Lista de features numericas\n",
    "#ESTE EJEMPLO SE HACE SOLO CON VARIABLES NUMERICAS\n",
    "numeric_feats"
   ]
  },
  {
   "cell_type": "code",
   "execution_count": 92,
   "metadata": {},
   "outputs": [],
   "source": [
    "\n",
    "#Defino features a usar en un primer modelo de prueba\n",
    "features = ['Type',\n",
    " 'Age',\n",
    " 'Breed1',\n",
    " 'Breed2',\n",
    " 'Gender',\n",
    " 'Color1',\n",
    " 'Color2',\n",
    " 'Color3',\n",
    " 'MaturitySize',\n",
    " 'FurLength',\n",
    " 'Vaccinated',\n",
    " 'Dewormed',\n",
    " 'Sterilized',\n",
    " 'Health',\n",
    " 'Quantity',\n",
    " 'Fee',\n",
    " 'State',\n",
    " 'VideoAmt',\n",
    " 'PhotoAmt',\n",
    " #'AdoptionSpeed',\n",
    " 'AgeCategory',\n",
    " 'Breed',\n",
    " 'IsMultiColored',\n",
    " 'name_code',\n",
    " 'Is_Genuine_Name',\n",
    " 'Age_log',\n",
    " 'PhotoAmt_log',\n",
    " 'VideoAmt_log',\n",
    " 'Fee_log',\n",
    " 'Gender_Age_mean',\n",
    " 'Gender_Fee_mean',\n",
    " 'Gender_PhotoAmt_mean',\n",
    " 'Gender_VideoAmt_mean',\n",
    " 'Breed_Age_mean',\n",
    " 'Breed_Fee_mean',\n",
    " 'Breed_PhotoAmt_mean',\n",
    " 'Breed_VideoAmt_mean',\n",
    " 'Gender_Breed_Age_mean',\n",
    " 'Gender_Breed_Fee_mean',\n",
    " 'Gender_Breed_PhotoAmt_mean',\n",
    " 'Gender_Breed_VideoAmt_mean',\n",
    " 'Age_to_Gender_mean_ratio',\n",
    " 'Fee_to_Gender_mean_ratio',\n",
    " 'Age_to_Breed_mean_ratio',\n",
    " 'Fee_to_Breed_mean_ratio',\n",
    " 'Age_Fee_interaction',\n",
    " 'PhotoAmt_VideoAmt_interaction',\n",
    " 'Gender_Fee_mean_log',\n",
    " 'Breed_Fee_mean_log',\n",
    " 'Gender_Breed_Fee_mean_log',\n",
    " 'Age_PhotoAmt_Fee_interaction',\n",
    " 'Age_VideoAmt_Fee_interaction',\n",
    " 'Age_PhotoAmt',\n",
    " 'Age_VideoAmt',\n",
    " 'Photo_Video_Ratio',\n",
    " 'Fee_Age_Ratio',\n",
    " 'MaturitySize_FurLength',\n",
    " 'PhotoAmt_FurLength',\n",
    " 'VideoAmt_FurLength',\n",
    " 'Breed1_mean_Age',\n",
    " 'Breed1_mean_PhotoAmt',\n",
    " 'RescuerID_count',\n",
    " 'description_word_count',\n",
    " 'Description_Length',\n",
    " 'Name_Length',\n",
    " 'Name_Word_Count',\n",
    " 'Name_Length_Category',\n",
    " 'Health_vac',\n",
    " 'Health_dew',\n",
    " 'Health_ster',\n",
    " 'Health_vac_dew',\n",
    " 'Health_vac_ster',\n",
    " 'Health_dew_ster',\n",
    " 'Health_full',\n",
    " 'Health_not_vac',\n",
    " 'Health_not_dew',\n",
    " 'Health_not_ster',\n",
    " 'Health_not_vac_dew',\n",
    " 'Health_not_vac_ster',\n",
    " 'Health_not_dew_ster',\n",
    " 'Health_none',\n",
    "# 'prediction_class_0',\n",
    "# 'prediction_class_1',\n",
    "# 'prediction_class_2',\n",
    "# 'prediction_class_3',\n",
    "# 'prediction_class_4',\n",
    " 'RescuerID_mean_Age',\n",
    " 'RescuerID_std_Age',\n",
    " 'RescuerID_mean_Fee',\n",
    " 'RescuerID_std_Fee',\n",
    " 'RescuerID_mean_PhotoAmt',\n",
    " 'RescuerID_mean_VideoAmt',\n",
    " 'RescuerID_name_ratio',\n",
    " 'RescuerID_most_common_breed',\n",
    " 'RescuerID_young_ratio',\n",
    " 'RescuerID_full_health_ratio',\n",
    " 'RescuerID_mean_description_length',\n",
    " 'RescuerID_dog_ratio',\n",
    " 'RescuerID_breed_specialization']\n",
    " #'prediction_class_0',\n",
    " #'prediction_class_1',\n",
    " #'prediction_class_2',\n",
    " #'prediction_class_3',\n",
    " #'prediction_class_4']\n",
    "\n",
    "label = 'AdoptionSpeed'"
   ]
  },
  {
   "cell_type": "code",
   "execution_count": 93,
   "metadata": {},
   "outputs": [
    {
     "data": {
      "text/html": [
       "<div>\n",
       "<style scoped>\n",
       "    .dataframe tbody tr th:only-of-type {\n",
       "        vertical-align: middle;\n",
       "    }\n",
       "\n",
       "    .dataframe tbody tr th {\n",
       "        vertical-align: top;\n",
       "    }\n",
       "\n",
       "    .dataframe thead th {\n",
       "        text-align: right;\n",
       "    }\n",
       "</style>\n",
       "<table border=\"1\" class=\"dataframe\">\n",
       "  <thead>\n",
       "    <tr style=\"text-align: right;\">\n",
       "      <th></th>\n",
       "      <th>Type</th>\n",
       "      <th>Name</th>\n",
       "      <th>Age</th>\n",
       "      <th>Breed1</th>\n",
       "      <th>Breed2</th>\n",
       "      <th>Gender</th>\n",
       "      <th>Color1</th>\n",
       "      <th>Color2</th>\n",
       "      <th>Color3</th>\n",
       "      <th>MaturitySize</th>\n",
       "      <th>...</th>\n",
       "      <th>RescuerID_std_Fee</th>\n",
       "      <th>RescuerID_mean_PhotoAmt</th>\n",
       "      <th>RescuerID_mean_VideoAmt</th>\n",
       "      <th>RescuerID_name_ratio</th>\n",
       "      <th>RescuerID_most_common_breed</th>\n",
       "      <th>RescuerID_young_ratio</th>\n",
       "      <th>RescuerID_full_health_ratio</th>\n",
       "      <th>RescuerID_mean_description_length</th>\n",
       "      <th>RescuerID_dog_ratio</th>\n",
       "      <th>RescuerID_breed_specialization</th>\n",
       "    </tr>\n",
       "  </thead>\n",
       "  <tbody>\n",
       "    <tr>\n",
       "      <th>10070</th>\n",
       "      <td>1</td>\n",
       "      <td>The Adorable Trio</td>\n",
       "      <td>2</td>\n",
       "      <td>307</td>\n",
       "      <td>307</td>\n",
       "      <td>1</td>\n",
       "      <td>1</td>\n",
       "      <td>0</td>\n",
       "      <td>0</td>\n",
       "      <td>2</td>\n",
       "      <td>...</td>\n",
       "      <td>0.000000</td>\n",
       "      <td>6.000000</td>\n",
       "      <td>0.000000</td>\n",
       "      <td>1.000000</td>\n",
       "      <td>307</td>\n",
       "      <td>1.000000</td>\n",
       "      <td>0.000000</td>\n",
       "      <td>355.500000</td>\n",
       "      <td>1.000000</td>\n",
       "      <td>1.000000</td>\n",
       "    </tr>\n",
       "    <tr>\n",
       "      <th>13397</th>\n",
       "      <td>1</td>\n",
       "      <td>Perky</td>\n",
       "      <td>12</td>\n",
       "      <td>307</td>\n",
       "      <td>0</td>\n",
       "      <td>2</td>\n",
       "      <td>2</td>\n",
       "      <td>0</td>\n",
       "      <td>0</td>\n",
       "      <td>1</td>\n",
       "      <td>...</td>\n",
       "      <td>0.000000</td>\n",
       "      <td>2.119048</td>\n",
       "      <td>0.000000</td>\n",
       "      <td>0.928571</td>\n",
       "      <td>307</td>\n",
       "      <td>0.595238</td>\n",
       "      <td>0.357143</td>\n",
       "      <td>140.166667</td>\n",
       "      <td>0.547619</td>\n",
       "      <td>0.404762</td>\n",
       "    </tr>\n",
       "    <tr>\n",
       "      <th>14656</th>\n",
       "      <td>1</td>\n",
       "      <td>Bernard Boy</td>\n",
       "      <td>2</td>\n",
       "      <td>307</td>\n",
       "      <td>307</td>\n",
       "      <td>1</td>\n",
       "      <td>1</td>\n",
       "      <td>2</td>\n",
       "      <td>7</td>\n",
       "      <td>2</td>\n",
       "      <td>...</td>\n",
       "      <td>56.558987</td>\n",
       "      <td>5.871795</td>\n",
       "      <td>0.025641</td>\n",
       "      <td>1.000000</td>\n",
       "      <td>307</td>\n",
       "      <td>0.948718</td>\n",
       "      <td>0.102564</td>\n",
       "      <td>407.564103</td>\n",
       "      <td>0.948718</td>\n",
       "      <td>0.897436</td>\n",
       "    </tr>\n",
       "    <tr>\n",
       "      <th>5596</th>\n",
       "      <td>1</td>\n",
       "      <td>Oreo 1</td>\n",
       "      <td>2</td>\n",
       "      <td>307</td>\n",
       "      <td>307</td>\n",
       "      <td>1</td>\n",
       "      <td>3</td>\n",
       "      <td>0</td>\n",
       "      <td>0</td>\n",
       "      <td>2</td>\n",
       "      <td>...</td>\n",
       "      <td>63.672346</td>\n",
       "      <td>3.140351</td>\n",
       "      <td>0.000000</td>\n",
       "      <td>1.000000</td>\n",
       "      <td>307</td>\n",
       "      <td>0.916667</td>\n",
       "      <td>0.057018</td>\n",
       "      <td>14.271930</td>\n",
       "      <td>1.000000</td>\n",
       "      <td>0.916667</td>\n",
       "    </tr>\n",
       "    <tr>\n",
       "      <th>13463</th>\n",
       "      <td>2</td>\n",
       "      <td>Anak Kucing</td>\n",
       "      <td>4</td>\n",
       "      <td>265</td>\n",
       "      <td>0</td>\n",
       "      <td>3</td>\n",
       "      <td>1</td>\n",
       "      <td>2</td>\n",
       "      <td>0</td>\n",
       "      <td>2</td>\n",
       "      <td>...</td>\n",
       "      <td>NaN</td>\n",
       "      <td>2.000000</td>\n",
       "      <td>0.000000</td>\n",
       "      <td>1.000000</td>\n",
       "      <td>265</td>\n",
       "      <td>1.000000</td>\n",
       "      <td>0.000000</td>\n",
       "      <td>20.000000</td>\n",
       "      <td>0.000000</td>\n",
       "      <td>1.000000</td>\n",
       "    </tr>\n",
       "    <tr>\n",
       "      <th>...</th>\n",
       "      <td>...</td>\n",
       "      <td>...</td>\n",
       "      <td>...</td>\n",
       "      <td>...</td>\n",
       "      <td>...</td>\n",
       "      <td>...</td>\n",
       "      <td>...</td>\n",
       "      <td>...</td>\n",
       "      <td>...</td>\n",
       "      <td>...</td>\n",
       "      <td>...</td>\n",
       "      <td>...</td>\n",
       "      <td>...</td>\n",
       "      <td>...</td>\n",
       "      <td>...</td>\n",
       "      <td>...</td>\n",
       "      <td>...</td>\n",
       "      <td>...</td>\n",
       "      <td>...</td>\n",
       "      <td>...</td>\n",
       "      <td>...</td>\n",
       "    </tr>\n",
       "    <tr>\n",
       "      <th>9981</th>\n",
       "      <td>2</td>\n",
       "      <td>Maxine</td>\n",
       "      <td>8</td>\n",
       "      <td>265</td>\n",
       "      <td>299</td>\n",
       "      <td>2</td>\n",
       "      <td>1</td>\n",
       "      <td>2</td>\n",
       "      <td>0</td>\n",
       "      <td>2</td>\n",
       "      <td>...</td>\n",
       "      <td>NaN</td>\n",
       "      <td>2.000000</td>\n",
       "      <td>0.000000</td>\n",
       "      <td>1.000000</td>\n",
       "      <td>265</td>\n",
       "      <td>1.000000</td>\n",
       "      <td>0.000000</td>\n",
       "      <td>340.000000</td>\n",
       "      <td>0.000000</td>\n",
       "      <td>1.000000</td>\n",
       "    </tr>\n",
       "    <tr>\n",
       "      <th>10249</th>\n",
       "      <td>1</td>\n",
       "      <td>Browny</td>\n",
       "      <td>2</td>\n",
       "      <td>307</td>\n",
       "      <td>0</td>\n",
       "      <td>2</td>\n",
       "      <td>6</td>\n",
       "      <td>7</td>\n",
       "      <td>0</td>\n",
       "      <td>1</td>\n",
       "      <td>...</td>\n",
       "      <td>NaN</td>\n",
       "      <td>1.000000</td>\n",
       "      <td>0.000000</td>\n",
       "      <td>1.000000</td>\n",
       "      <td>307</td>\n",
       "      <td>1.000000</td>\n",
       "      <td>0.000000</td>\n",
       "      <td>313.000000</td>\n",
       "      <td>1.000000</td>\n",
       "      <td>1.000000</td>\n",
       "    </tr>\n",
       "    <tr>\n",
       "      <th>12468</th>\n",
       "      <td>1</td>\n",
       "      <td>Midnight</td>\n",
       "      <td>2</td>\n",
       "      <td>307</td>\n",
       "      <td>307</td>\n",
       "      <td>1</td>\n",
       "      <td>1</td>\n",
       "      <td>0</td>\n",
       "      <td>0</td>\n",
       "      <td>2</td>\n",
       "      <td>...</td>\n",
       "      <td>0.000000</td>\n",
       "      <td>2.000000</td>\n",
       "      <td>0.000000</td>\n",
       "      <td>1.000000</td>\n",
       "      <td>307</td>\n",
       "      <td>1.000000</td>\n",
       "      <td>0.000000</td>\n",
       "      <td>283.000000</td>\n",
       "      <td>1.000000</td>\n",
       "      <td>1.000000</td>\n",
       "    </tr>\n",
       "    <tr>\n",
       "      <th>1081</th>\n",
       "      <td>1</td>\n",
       "      <td>Boxer</td>\n",
       "      <td>2</td>\n",
       "      <td>307</td>\n",
       "      <td>307</td>\n",
       "      <td>1</td>\n",
       "      <td>1</td>\n",
       "      <td>2</td>\n",
       "      <td>7</td>\n",
       "      <td>2</td>\n",
       "      <td>...</td>\n",
       "      <td>0.000000</td>\n",
       "      <td>2.305970</td>\n",
       "      <td>0.007463</td>\n",
       "      <td>1.000000</td>\n",
       "      <td>307</td>\n",
       "      <td>0.895522</td>\n",
       "      <td>0.044776</td>\n",
       "      <td>242.029851</td>\n",
       "      <td>0.970149</td>\n",
       "      <td>0.895522</td>\n",
       "    </tr>\n",
       "    <tr>\n",
       "      <th>6952</th>\n",
       "      <td>2</td>\n",
       "      <td>JINGGA</td>\n",
       "      <td>30</td>\n",
       "      <td>299</td>\n",
       "      <td>266</td>\n",
       "      <td>1</td>\n",
       "      <td>3</td>\n",
       "      <td>4</td>\n",
       "      <td>5</td>\n",
       "      <td>2</td>\n",
       "      <td>...</td>\n",
       "      <td>NaN</td>\n",
       "      <td>2.000000</td>\n",
       "      <td>0.000000</td>\n",
       "      <td>1.000000</td>\n",
       "      <td>299</td>\n",
       "      <td>0.000000</td>\n",
       "      <td>1.000000</td>\n",
       "      <td>347.000000</td>\n",
       "      <td>0.000000</td>\n",
       "      <td>1.000000</td>\n",
       "    </tr>\n",
       "  </tbody>\n",
       "</table>\n",
       "<p>11994 rows × 103 columns</p>\n",
       "</div>"
      ],
      "text/plain": [
       "       Type               Name  Age  Breed1  Breed2  Gender  Color1  Color2  \\\n",
       "10070     1  The Adorable Trio    2     307     307       1       1       0   \n",
       "13397     1              Perky   12     307       0       2       2       0   \n",
       "14656     1        Bernard Boy    2     307     307       1       1       2   \n",
       "5596      1             Oreo 1    2     307     307       1       3       0   \n",
       "13463     2        Anak Kucing    4     265       0       3       1       2   \n",
       "...     ...                ...  ...     ...     ...     ...     ...     ...   \n",
       "9981      2             Maxine    8     265     299       2       1       2   \n",
       "10249     1             Browny    2     307       0       2       6       7   \n",
       "12468     1           Midnight    2     307     307       1       1       0   \n",
       "1081      1              Boxer    2     307     307       1       1       2   \n",
       "6952      2             JINGGA   30     299     266       1       3       4   \n",
       "\n",
       "       Color3  MaturitySize  ...  RescuerID_std_Fee  RescuerID_mean_PhotoAmt  \\\n",
       "10070       0             2  ...           0.000000                 6.000000   \n",
       "13397       0             1  ...           0.000000                 2.119048   \n",
       "14656       7             2  ...          56.558987                 5.871795   \n",
       "5596        0             2  ...          63.672346                 3.140351   \n",
       "13463       0             2  ...                NaN                 2.000000   \n",
       "...       ...           ...  ...                ...                      ...   \n",
       "9981        0             2  ...                NaN                 2.000000   \n",
       "10249       0             1  ...                NaN                 1.000000   \n",
       "12468       0             2  ...           0.000000                 2.000000   \n",
       "1081        7             2  ...           0.000000                 2.305970   \n",
       "6952        5             2  ...                NaN                 2.000000   \n",
       "\n",
       "       RescuerID_mean_VideoAmt  RescuerID_name_ratio  \\\n",
       "10070                 0.000000              1.000000   \n",
       "13397                 0.000000              0.928571   \n",
       "14656                 0.025641              1.000000   \n",
       "5596                  0.000000              1.000000   \n",
       "13463                 0.000000              1.000000   \n",
       "...                        ...                   ...   \n",
       "9981                  0.000000              1.000000   \n",
       "10249                 0.000000              1.000000   \n",
       "12468                 0.000000              1.000000   \n",
       "1081                  0.007463              1.000000   \n",
       "6952                  0.000000              1.000000   \n",
       "\n",
       "       RescuerID_most_common_breed  RescuerID_young_ratio  \\\n",
       "10070                          307               1.000000   \n",
       "13397                          307               0.595238   \n",
       "14656                          307               0.948718   \n",
       "5596                           307               0.916667   \n",
       "13463                          265               1.000000   \n",
       "...                            ...                    ...   \n",
       "9981                           265               1.000000   \n",
       "10249                          307               1.000000   \n",
       "12468                          307               1.000000   \n",
       "1081                           307               0.895522   \n",
       "6952                           299               0.000000   \n",
       "\n",
       "       RescuerID_full_health_ratio  RescuerID_mean_description_length  \\\n",
       "10070                     0.000000                         355.500000   \n",
       "13397                     0.357143                         140.166667   \n",
       "14656                     0.102564                         407.564103   \n",
       "5596                      0.057018                          14.271930   \n",
       "13463                     0.000000                          20.000000   \n",
       "...                            ...                                ...   \n",
       "9981                      0.000000                         340.000000   \n",
       "10249                     0.000000                         313.000000   \n",
       "12468                     0.000000                         283.000000   \n",
       "1081                      0.044776                         242.029851   \n",
       "6952                      1.000000                         347.000000   \n",
       "\n",
       "      RescuerID_dog_ratio  RescuerID_breed_specialization  \n",
       "10070            1.000000                        1.000000  \n",
       "13397            0.547619                        0.404762  \n",
       "14656            0.948718                        0.897436  \n",
       "5596             1.000000                        0.916667  \n",
       "13463            0.000000                        1.000000  \n",
       "...                   ...                             ...  \n",
       "9981             0.000000                        1.000000  \n",
       "10249            1.000000                        1.000000  \n",
       "12468            1.000000                        1.000000  \n",
       "1081             0.970149                        0.895522  \n",
       "6952             0.000000                        1.000000  \n",
       "\n",
       "[11994 rows x 103 columns]"
      ]
     },
     "execution_count": 93,
     "metadata": {},
     "output_type": "execute_result"
    }
   ],
   "source": [
    "train"
   ]
  },
  {
   "cell_type": "code",
   "execution_count": 94,
   "metadata": {},
   "outputs": [],
   "source": [
    "#Genero dataframes de train y test con sus respectivos targets\n",
    "X_train = train[features]\n",
    "y_train = train[label]\n",
    "\n",
    "X_test = test[features]\n",
    "y_test = test[label]"
   ]
  },
  {
   "cell_type": "code",
   "execution_count": 95,
   "metadata": {},
   "outputs": [],
   "source": [
    "#Entreno un modelo inicial sin modificar hiperparametros. Solamente especifico el numero de clases y el tipo de modelo como clasificacoión\n",
    "#HACEMOS LGBM POR DEFECTO COMO VIENE\n",
    "lgb_params = params = {\n",
    "                        'objective': 'multiclass',#EL PROBLEMA ES UNA MULTICPLASE \n",
    "                        'num_class': len(y_train.unique())\n",
    "                        }\n",
    "\n",
    "\n",
    "#genero el objeto Dataset que debo pasarle a lightgbm para que entrene\n",
    "lgb_train_dataset = lgb.Dataset(data=X_train,\n",
    "                                label=y_train)\n",
    "\n",
    "#entreno el modelo con los parametros por defecto\n",
    "lgb_model = lgb.train(lgb_params,\n",
    "                      lgb_train_dataset)"
   ]
  },
  {
   "cell_type": "code",
   "execution_count": 96,
   "metadata": {},
   "outputs": [
    {
     "data": {
      "text/plain": [
       "np.float64(0.3858432897143127)"
      ]
     },
     "execution_count": 96,
     "metadata": {},
     "output_type": "execute_result"
    }
   ],
   "source": [
    "#Obtengo las predicciones sobre el set de test. El modelo me da una lista de probabilidades para cada clase y tomo la clase con mayor probabilidad con la funcion argmax\n",
    "y_pred = lgb_model.predict(X_test).argmax(axis=1)#CON ARGMAX OBTENGO LA PREDICCION MAS GRANDE DE LAS CATEGORIAS OSEA LA GANADORA\n",
    "\n",
    "#Calculo el Kappa\n",
    "cohen_kappa_score(y_test,y_pred, weights = 'quadratic')\n",
    "#MI MODELO DA UN 0.31 DE SCORE \n",
    "#RECORDAR QUE AL SER UN MULTICLASE EL PREDICT ME TRAE 5 COLUMNAS ( PROBABILIDAD DEL MODELO A CADA UNA DE LAS CLASES )\n",
    "\n",
    "\n"
   ]
  },
  {
   "cell_type": "code",
   "execution_count": 97,
   "metadata": {},
   "outputs": [
    {
     "data": {
      "application/vnd.plotly.v1+json": {
       "config": {
        "plotlyServerURL": "https://plot.ly"
       },
       "data": [
        {
         "type": "heatmap",
         "x": [
          0,
          1,
          2,
          3,
          4
         ],
         "y": [
          0,
          1,
          2,
          3,
          4
         ],
         "z": [
          [
           13.414634146341465,
           39.02439024390244,
           20.73170731707317,
           7.317073170731707,
           19.51219512195122
          ],
          [
           1.132686084142395,
           36.89320388349515,
           31.3915857605178,
           9.546925566343042,
           21.035598705501616
          ],
          [
           0.12391573729863693,
           20.693928128872365,
           37.67038413878562,
           17.348203221809168,
           24.1635687732342
          ],
          [
           0.15337423312883436,
           14.417177914110429,
           33.12883435582822,
           29.754601226993866,
           22.54601226993865
          ],
          [
           0.4761904761904762,
           10.952380952380953,
           11.428571428571429,
           5.833333333333333,
           71.30952380952381
          ]
         ]
        }
       ],
       "layout": {
        "annotations": [
         {
          "font": {
           "color": "white"
          },
          "showarrow": false,
          "text": "13.4 - 11",
          "x": 0,
          "xref": "x",
          "y": 0,
          "yref": "y"
         },
         {
          "font": {
           "color": "white"
          },
          "showarrow": false,
          "text": "39.0 - 32",
          "x": 1,
          "xref": "x",
          "y": 0,
          "yref": "y"
         },
         {
          "font": {
           "color": "white"
          },
          "showarrow": false,
          "text": "20.7 - 17",
          "x": 2,
          "xref": "x",
          "y": 0,
          "yref": "y"
         },
         {
          "font": {
           "color": "white"
          },
          "showarrow": false,
          "text": "7.3 - 6",
          "x": 3,
          "xref": "x",
          "y": 0,
          "yref": "y"
         },
         {
          "font": {
           "color": "white"
          },
          "showarrow": false,
          "text": "19.5 - 16",
          "x": 4,
          "xref": "x",
          "y": 0,
          "yref": "y"
         },
         {
          "font": {
           "color": "white"
          },
          "showarrow": false,
          "text": "1.1 - 7",
          "x": 0,
          "xref": "x",
          "y": 1,
          "yref": "y"
         },
         {
          "font": {
           "color": "white"
          },
          "showarrow": false,
          "text": "36.9 - 228",
          "x": 1,
          "xref": "x",
          "y": 1,
          "yref": "y"
         },
         {
          "font": {
           "color": "white"
          },
          "showarrow": false,
          "text": "31.4 - 194",
          "x": 2,
          "xref": "x",
          "y": 1,
          "yref": "y"
         },
         {
          "font": {
           "color": "white"
          },
          "showarrow": false,
          "text": "9.5 - 59",
          "x": 3,
          "xref": "x",
          "y": 1,
          "yref": "y"
         },
         {
          "font": {
           "color": "white"
          },
          "showarrow": false,
          "text": "21.0 - 130",
          "x": 4,
          "xref": "x",
          "y": 1,
          "yref": "y"
         },
         {
          "font": {
           "color": "white"
          },
          "showarrow": false,
          "text": "0.1 - 1",
          "x": 0,
          "xref": "x",
          "y": 2,
          "yref": "y"
         },
         {
          "font": {
           "color": "white"
          },
          "showarrow": false,
          "text": "20.7 - 167",
          "x": 1,
          "xref": "x",
          "y": 2,
          "yref": "y"
         },
         {
          "font": {
           "color": "white"
          },
          "showarrow": false,
          "text": "37.7 - 304",
          "x": 2,
          "xref": "x",
          "y": 2,
          "yref": "y"
         },
         {
          "font": {
           "color": "white"
          },
          "showarrow": false,
          "text": "17.3 - 140",
          "x": 3,
          "xref": "x",
          "y": 2,
          "yref": "y"
         },
         {
          "font": {
           "color": "white"
          },
          "showarrow": false,
          "text": "24.2 - 195",
          "x": 4,
          "xref": "x",
          "y": 2,
          "yref": "y"
         },
         {
          "font": {
           "color": "white"
          },
          "showarrow": false,
          "text": "0.2 - 1",
          "x": 0,
          "xref": "x",
          "y": 3,
          "yref": "y"
         },
         {
          "font": {
           "color": "white"
          },
          "showarrow": false,
          "text": "14.4 - 94",
          "x": 1,
          "xref": "x",
          "y": 3,
          "yref": "y"
         },
         {
          "font": {
           "color": "white"
          },
          "showarrow": false,
          "text": "33.1 - 216",
          "x": 2,
          "xref": "x",
          "y": 3,
          "yref": "y"
         },
         {
          "font": {
           "color": "white"
          },
          "showarrow": false,
          "text": "29.8 - 194",
          "x": 3,
          "xref": "x",
          "y": 3,
          "yref": "y"
         },
         {
          "font": {
           "color": "white"
          },
          "showarrow": false,
          "text": "22.5 - 147",
          "x": 4,
          "xref": "x",
          "y": 3,
          "yref": "y"
         },
         {
          "font": {
           "color": "white"
          },
          "showarrow": false,
          "text": "0.5 - 4",
          "x": 0,
          "xref": "x",
          "y": 4,
          "yref": "y"
         },
         {
          "font": {
           "color": "white"
          },
          "showarrow": false,
          "text": "11.0 - 92",
          "x": 1,
          "xref": "x",
          "y": 4,
          "yref": "y"
         },
         {
          "font": {
           "color": "white"
          },
          "showarrow": false,
          "text": "11.4 - 96",
          "x": 2,
          "xref": "x",
          "y": 4,
          "yref": "y"
         },
         {
          "font": {
           "color": "white"
          },
          "showarrow": false,
          "text": "5.8 - 49",
          "x": 3,
          "xref": "x",
          "y": 4,
          "yref": "y"
         },
         {
          "font": {
           "color": "white"
          },
          "showarrow": false,
          "text": "71.3 - 599",
          "x": 4,
          "xref": "x",
          "y": 4,
          "yref": "y"
         }
        ],
        "height": 800,
        "template": {
         "data": {
          "bar": [
           {
            "error_x": {
             "color": "#2a3f5f"
            },
            "error_y": {
             "color": "#2a3f5f"
            },
            "marker": {
             "line": {
              "color": "#E5ECF6",
              "width": 0.5
             },
             "pattern": {
              "fillmode": "overlay",
              "size": 10,
              "solidity": 0.2
             }
            },
            "type": "bar"
           }
          ],
          "barpolar": [
           {
            "marker": {
             "line": {
              "color": "#E5ECF6",
              "width": 0.5
             },
             "pattern": {
              "fillmode": "overlay",
              "size": 10,
              "solidity": 0.2
             }
            },
            "type": "barpolar"
           }
          ],
          "carpet": [
           {
            "aaxis": {
             "endlinecolor": "#2a3f5f",
             "gridcolor": "white",
             "linecolor": "white",
             "minorgridcolor": "white",
             "startlinecolor": "#2a3f5f"
            },
            "baxis": {
             "endlinecolor": "#2a3f5f",
             "gridcolor": "white",
             "linecolor": "white",
             "minorgridcolor": "white",
             "startlinecolor": "#2a3f5f"
            },
            "type": "carpet"
           }
          ],
          "choropleth": [
           {
            "colorbar": {
             "outlinewidth": 0,
             "ticks": ""
            },
            "type": "choropleth"
           }
          ],
          "contour": [
           {
            "colorbar": {
             "outlinewidth": 0,
             "ticks": ""
            },
            "colorscale": [
             [
              0,
              "#0d0887"
             ],
             [
              0.1111111111111111,
              "#46039f"
             ],
             [
              0.2222222222222222,
              "#7201a8"
             ],
             [
              0.3333333333333333,
              "#9c179e"
             ],
             [
              0.4444444444444444,
              "#bd3786"
             ],
             [
              0.5555555555555556,
              "#d8576b"
             ],
             [
              0.6666666666666666,
              "#ed7953"
             ],
             [
              0.7777777777777778,
              "#fb9f3a"
             ],
             [
              0.8888888888888888,
              "#fdca26"
             ],
             [
              1,
              "#f0f921"
             ]
            ],
            "type": "contour"
           }
          ],
          "contourcarpet": [
           {
            "colorbar": {
             "outlinewidth": 0,
             "ticks": ""
            },
            "type": "contourcarpet"
           }
          ],
          "heatmap": [
           {
            "colorbar": {
             "outlinewidth": 0,
             "ticks": ""
            },
            "colorscale": [
             [
              0,
              "#0d0887"
             ],
             [
              0.1111111111111111,
              "#46039f"
             ],
             [
              0.2222222222222222,
              "#7201a8"
             ],
             [
              0.3333333333333333,
              "#9c179e"
             ],
             [
              0.4444444444444444,
              "#bd3786"
             ],
             [
              0.5555555555555556,
              "#d8576b"
             ],
             [
              0.6666666666666666,
              "#ed7953"
             ],
             [
              0.7777777777777778,
              "#fb9f3a"
             ],
             [
              0.8888888888888888,
              "#fdca26"
             ],
             [
              1,
              "#f0f921"
             ]
            ],
            "type": "heatmap"
           }
          ],
          "heatmapgl": [
           {
            "colorbar": {
             "outlinewidth": 0,
             "ticks": ""
            },
            "colorscale": [
             [
              0,
              "#0d0887"
             ],
             [
              0.1111111111111111,
              "#46039f"
             ],
             [
              0.2222222222222222,
              "#7201a8"
             ],
             [
              0.3333333333333333,
              "#9c179e"
             ],
             [
              0.4444444444444444,
              "#bd3786"
             ],
             [
              0.5555555555555556,
              "#d8576b"
             ],
             [
              0.6666666666666666,
              "#ed7953"
             ],
             [
              0.7777777777777778,
              "#fb9f3a"
             ],
             [
              0.8888888888888888,
              "#fdca26"
             ],
             [
              1,
              "#f0f921"
             ]
            ],
            "type": "heatmapgl"
           }
          ],
          "histogram": [
           {
            "marker": {
             "pattern": {
              "fillmode": "overlay",
              "size": 10,
              "solidity": 0.2
             }
            },
            "type": "histogram"
           }
          ],
          "histogram2d": [
           {
            "colorbar": {
             "outlinewidth": 0,
             "ticks": ""
            },
            "colorscale": [
             [
              0,
              "#0d0887"
             ],
             [
              0.1111111111111111,
              "#46039f"
             ],
             [
              0.2222222222222222,
              "#7201a8"
             ],
             [
              0.3333333333333333,
              "#9c179e"
             ],
             [
              0.4444444444444444,
              "#bd3786"
             ],
             [
              0.5555555555555556,
              "#d8576b"
             ],
             [
              0.6666666666666666,
              "#ed7953"
             ],
             [
              0.7777777777777778,
              "#fb9f3a"
             ],
             [
              0.8888888888888888,
              "#fdca26"
             ],
             [
              1,
              "#f0f921"
             ]
            ],
            "type": "histogram2d"
           }
          ],
          "histogram2dcontour": [
           {
            "colorbar": {
             "outlinewidth": 0,
             "ticks": ""
            },
            "colorscale": [
             [
              0,
              "#0d0887"
             ],
             [
              0.1111111111111111,
              "#46039f"
             ],
             [
              0.2222222222222222,
              "#7201a8"
             ],
             [
              0.3333333333333333,
              "#9c179e"
             ],
             [
              0.4444444444444444,
              "#bd3786"
             ],
             [
              0.5555555555555556,
              "#d8576b"
             ],
             [
              0.6666666666666666,
              "#ed7953"
             ],
             [
              0.7777777777777778,
              "#fb9f3a"
             ],
             [
              0.8888888888888888,
              "#fdca26"
             ],
             [
              1,
              "#f0f921"
             ]
            ],
            "type": "histogram2dcontour"
           }
          ],
          "mesh3d": [
           {
            "colorbar": {
             "outlinewidth": 0,
             "ticks": ""
            },
            "type": "mesh3d"
           }
          ],
          "parcoords": [
           {
            "line": {
             "colorbar": {
              "outlinewidth": 0,
              "ticks": ""
             }
            },
            "type": "parcoords"
           }
          ],
          "pie": [
           {
            "automargin": true,
            "type": "pie"
           }
          ],
          "scatter": [
           {
            "fillpattern": {
             "fillmode": "overlay",
             "size": 10,
             "solidity": 0.2
            },
            "type": "scatter"
           }
          ],
          "scatter3d": [
           {
            "line": {
             "colorbar": {
              "outlinewidth": 0,
              "ticks": ""
             }
            },
            "marker": {
             "colorbar": {
              "outlinewidth": 0,
              "ticks": ""
             }
            },
            "type": "scatter3d"
           }
          ],
          "scattercarpet": [
           {
            "marker": {
             "colorbar": {
              "outlinewidth": 0,
              "ticks": ""
             }
            },
            "type": "scattercarpet"
           }
          ],
          "scattergeo": [
           {
            "marker": {
             "colorbar": {
              "outlinewidth": 0,
              "ticks": ""
             }
            },
            "type": "scattergeo"
           }
          ],
          "scattergl": [
           {
            "marker": {
             "colorbar": {
              "outlinewidth": 0,
              "ticks": ""
             }
            },
            "type": "scattergl"
           }
          ],
          "scattermapbox": [
           {
            "marker": {
             "colorbar": {
              "outlinewidth": 0,
              "ticks": ""
             }
            },
            "type": "scattermapbox"
           }
          ],
          "scatterpolar": [
           {
            "marker": {
             "colorbar": {
              "outlinewidth": 0,
              "ticks": ""
             }
            },
            "type": "scatterpolar"
           }
          ],
          "scatterpolargl": [
           {
            "marker": {
             "colorbar": {
              "outlinewidth": 0,
              "ticks": ""
             }
            },
            "type": "scatterpolargl"
           }
          ],
          "scatterternary": [
           {
            "marker": {
             "colorbar": {
              "outlinewidth": 0,
              "ticks": ""
             }
            },
            "type": "scatterternary"
           }
          ],
          "surface": [
           {
            "colorbar": {
             "outlinewidth": 0,
             "ticks": ""
            },
            "colorscale": [
             [
              0,
              "#0d0887"
             ],
             [
              0.1111111111111111,
              "#46039f"
             ],
             [
              0.2222222222222222,
              "#7201a8"
             ],
             [
              0.3333333333333333,
              "#9c179e"
             ],
             [
              0.4444444444444444,
              "#bd3786"
             ],
             [
              0.5555555555555556,
              "#d8576b"
             ],
             [
              0.6666666666666666,
              "#ed7953"
             ],
             [
              0.7777777777777778,
              "#fb9f3a"
             ],
             [
              0.8888888888888888,
              "#fdca26"
             ],
             [
              1,
              "#f0f921"
             ]
            ],
            "type": "surface"
           }
          ],
          "table": [
           {
            "cells": {
             "fill": {
              "color": "#EBF0F8"
             },
             "line": {
              "color": "white"
             }
            },
            "header": {
             "fill": {
              "color": "#C8D4E3"
             },
             "line": {
              "color": "white"
             }
            },
            "type": "table"
           }
          ]
         },
         "layout": {
          "annotationdefaults": {
           "arrowcolor": "#2a3f5f",
           "arrowhead": 0,
           "arrowwidth": 1
          },
          "autotypenumbers": "strict",
          "coloraxis": {
           "colorbar": {
            "outlinewidth": 0,
            "ticks": ""
           }
          },
          "colorscale": {
           "diverging": [
            [
             0,
             "#8e0152"
            ],
            [
             0.1,
             "#c51b7d"
            ],
            [
             0.2,
             "#de77ae"
            ],
            [
             0.3,
             "#f1b6da"
            ],
            [
             0.4,
             "#fde0ef"
            ],
            [
             0.5,
             "#f7f7f7"
            ],
            [
             0.6,
             "#e6f5d0"
            ],
            [
             0.7,
             "#b8e186"
            ],
            [
             0.8,
             "#7fbc41"
            ],
            [
             0.9,
             "#4d9221"
            ],
            [
             1,
             "#276419"
            ]
           ],
           "sequential": [
            [
             0,
             "#0d0887"
            ],
            [
             0.1111111111111111,
             "#46039f"
            ],
            [
             0.2222222222222222,
             "#7201a8"
            ],
            [
             0.3333333333333333,
             "#9c179e"
            ],
            [
             0.4444444444444444,
             "#bd3786"
            ],
            [
             0.5555555555555556,
             "#d8576b"
            ],
            [
             0.6666666666666666,
             "#ed7953"
            ],
            [
             0.7777777777777778,
             "#fb9f3a"
            ],
            [
             0.8888888888888888,
             "#fdca26"
            ],
            [
             1,
             "#f0f921"
            ]
           ],
           "sequentialminus": [
            [
             0,
             "#0d0887"
            ],
            [
             0.1111111111111111,
             "#46039f"
            ],
            [
             0.2222222222222222,
             "#7201a8"
            ],
            [
             0.3333333333333333,
             "#9c179e"
            ],
            [
             0.4444444444444444,
             "#bd3786"
            ],
            [
             0.5555555555555556,
             "#d8576b"
            ],
            [
             0.6666666666666666,
             "#ed7953"
            ],
            [
             0.7777777777777778,
             "#fb9f3a"
            ],
            [
             0.8888888888888888,
             "#fdca26"
            ],
            [
             1,
             "#f0f921"
            ]
           ]
          },
          "colorway": [
           "#636efa",
           "#EF553B",
           "#00cc96",
           "#ab63fa",
           "#FFA15A",
           "#19d3f3",
           "#FF6692",
           "#B6E880",
           "#FF97FF",
           "#FECB52"
          ],
          "font": {
           "color": "#2a3f5f"
          },
          "geo": {
           "bgcolor": "white",
           "lakecolor": "white",
           "landcolor": "#E5ECF6",
           "showlakes": true,
           "showland": true,
           "subunitcolor": "white"
          },
          "hoverlabel": {
           "align": "left"
          },
          "hovermode": "closest",
          "mapbox": {
           "style": "light"
          },
          "paper_bgcolor": "white",
          "plot_bgcolor": "#E5ECF6",
          "polar": {
           "angularaxis": {
            "gridcolor": "white",
            "linecolor": "white",
            "ticks": ""
           },
           "bgcolor": "#E5ECF6",
           "radialaxis": {
            "gridcolor": "white",
            "linecolor": "white",
            "ticks": ""
           }
          },
          "scene": {
           "xaxis": {
            "backgroundcolor": "#E5ECF6",
            "gridcolor": "white",
            "gridwidth": 2,
            "linecolor": "white",
            "showbackground": true,
            "ticks": "",
            "zerolinecolor": "white"
           },
           "yaxis": {
            "backgroundcolor": "#E5ECF6",
            "gridcolor": "white",
            "gridwidth": 2,
            "linecolor": "white",
            "showbackground": true,
            "ticks": "",
            "zerolinecolor": "white"
           },
           "zaxis": {
            "backgroundcolor": "#E5ECF6",
            "gridcolor": "white",
            "gridwidth": 2,
            "linecolor": "white",
            "showbackground": true,
            "ticks": "",
            "zerolinecolor": "white"
           }
          },
          "shapedefaults": {
           "line": {
            "color": "#2a3f5f"
           }
          },
          "ternary": {
           "aaxis": {
            "gridcolor": "white",
            "linecolor": "white",
            "ticks": ""
           },
           "baxis": {
            "gridcolor": "white",
            "linecolor": "white",
            "ticks": ""
           },
           "bgcolor": "#E5ECF6",
           "caxis": {
            "gridcolor": "white",
            "linecolor": "white",
            "ticks": ""
           }
          },
          "title": {
           "x": 0.05
          },
          "xaxis": {
           "automargin": true,
           "gridcolor": "white",
           "linecolor": "white",
           "ticks": "",
           "title": {
            "standoff": 15
           },
           "zerolinecolor": "white",
           "zerolinewidth": 2
          },
          "yaxis": {
           "automargin": true,
           "gridcolor": "white",
           "linecolor": "white",
           "ticks": "",
           "title": {
            "standoff": 15
           },
           "zerolinecolor": "white",
           "zerolinewidth": 2
          }
         }
        },
        "title": {
         "text": "Conf Matrix"
        },
        "width": 800,
        "xaxis": {
         "title": {
          "text": "Predicted value"
         }
        },
        "yaxis": {
         "title": {
          "text": "Real value"
         }
        }
       }
      }
     },
     "metadata": {},
     "output_type": "display_data"
    }
   ],
   "source": [
    "#Muestro la matriz de confusión\n",
    "display(plot_confusion_matrix(y_test,y_pred))\n",
    "#SI OBTENGO UNA DIAGONAL MUY FUERTE AMARILLA ES PQ PREDIJO BIEN EL MODELO "
   ]
  },
  {
   "cell_type": "code",
   "execution_count": 98,
   "metadata": {},
   "outputs": [
    {
     "data": {
      "text/plain": [
       "np.float64(1.0)"
      ]
     },
     "execution_count": 98,
     "metadata": {},
     "output_type": "execute_result"
    }
   ],
   "source": [
    "#Vamos a ponewr en perspectiva el score de Kappa\n",
    "\n",
    "\n",
    "#Cual es el score perfecto? Evaluo la clase real contra si misma. Es decir, el caso en que el modelo establece todas las clases en su valor real\n",
    "cohen_kappa_score(y_test,y_test, weights = 'quadratic')"
   ]
  },
  {
   "cell_type": "code",
   "execution_count": 99,
   "metadata": {},
   "outputs": [
    {
     "data": {
      "application/vnd.plotly.v1+json": {
       "config": {
        "plotlyServerURL": "https://plot.ly"
       },
       "data": [
        {
         "type": "heatmap",
         "x": [
          0,
          1,
          2,
          3,
          4
         ],
         "y": [
          0,
          1,
          2,
          3,
          4
         ],
         "z": [
          [
           100,
           0,
           0,
           0,
           0
          ],
          [
           0,
           100,
           0,
           0,
           0
          ],
          [
           0,
           0,
           100,
           0,
           0
          ],
          [
           0,
           0,
           0,
           100,
           0
          ],
          [
           0,
           0,
           0,
           0,
           100
          ]
         ]
        }
       ],
       "layout": {
        "annotations": [
         {
          "font": {
           "color": "white"
          },
          "showarrow": false,
          "text": "100.0 - 82",
          "x": 0,
          "xref": "x",
          "y": 0,
          "yref": "y"
         },
         {
          "font": {
           "color": "white"
          },
          "showarrow": false,
          "text": "0.0 - 0",
          "x": 1,
          "xref": "x",
          "y": 0,
          "yref": "y"
         },
         {
          "font": {
           "color": "white"
          },
          "showarrow": false,
          "text": "0.0 - 0",
          "x": 2,
          "xref": "x",
          "y": 0,
          "yref": "y"
         },
         {
          "font": {
           "color": "white"
          },
          "showarrow": false,
          "text": "0.0 - 0",
          "x": 3,
          "xref": "x",
          "y": 0,
          "yref": "y"
         },
         {
          "font": {
           "color": "white"
          },
          "showarrow": false,
          "text": "0.0 - 0",
          "x": 4,
          "xref": "x",
          "y": 0,
          "yref": "y"
         },
         {
          "font": {
           "color": "white"
          },
          "showarrow": false,
          "text": "0.0 - 0",
          "x": 0,
          "xref": "x",
          "y": 1,
          "yref": "y"
         },
         {
          "font": {
           "color": "white"
          },
          "showarrow": false,
          "text": "100.0 - 618",
          "x": 1,
          "xref": "x",
          "y": 1,
          "yref": "y"
         },
         {
          "font": {
           "color": "white"
          },
          "showarrow": false,
          "text": "0.0 - 0",
          "x": 2,
          "xref": "x",
          "y": 1,
          "yref": "y"
         },
         {
          "font": {
           "color": "white"
          },
          "showarrow": false,
          "text": "0.0 - 0",
          "x": 3,
          "xref": "x",
          "y": 1,
          "yref": "y"
         },
         {
          "font": {
           "color": "white"
          },
          "showarrow": false,
          "text": "0.0 - 0",
          "x": 4,
          "xref": "x",
          "y": 1,
          "yref": "y"
         },
         {
          "font": {
           "color": "white"
          },
          "showarrow": false,
          "text": "0.0 - 0",
          "x": 0,
          "xref": "x",
          "y": 2,
          "yref": "y"
         },
         {
          "font": {
           "color": "white"
          },
          "showarrow": false,
          "text": "0.0 - 0",
          "x": 1,
          "xref": "x",
          "y": 2,
          "yref": "y"
         },
         {
          "font": {
           "color": "white"
          },
          "showarrow": false,
          "text": "100.0 - 807",
          "x": 2,
          "xref": "x",
          "y": 2,
          "yref": "y"
         },
         {
          "font": {
           "color": "white"
          },
          "showarrow": false,
          "text": "0.0 - 0",
          "x": 3,
          "xref": "x",
          "y": 2,
          "yref": "y"
         },
         {
          "font": {
           "color": "white"
          },
          "showarrow": false,
          "text": "0.0 - 0",
          "x": 4,
          "xref": "x",
          "y": 2,
          "yref": "y"
         },
         {
          "font": {
           "color": "white"
          },
          "showarrow": false,
          "text": "0.0 - 0",
          "x": 0,
          "xref": "x",
          "y": 3,
          "yref": "y"
         },
         {
          "font": {
           "color": "white"
          },
          "showarrow": false,
          "text": "0.0 - 0",
          "x": 1,
          "xref": "x",
          "y": 3,
          "yref": "y"
         },
         {
          "font": {
           "color": "white"
          },
          "showarrow": false,
          "text": "0.0 - 0",
          "x": 2,
          "xref": "x",
          "y": 3,
          "yref": "y"
         },
         {
          "font": {
           "color": "white"
          },
          "showarrow": false,
          "text": "100.0 - 652",
          "x": 3,
          "xref": "x",
          "y": 3,
          "yref": "y"
         },
         {
          "font": {
           "color": "white"
          },
          "showarrow": false,
          "text": "0.0 - 0",
          "x": 4,
          "xref": "x",
          "y": 3,
          "yref": "y"
         },
         {
          "font": {
           "color": "white"
          },
          "showarrow": false,
          "text": "0.0 - 0",
          "x": 0,
          "xref": "x",
          "y": 4,
          "yref": "y"
         },
         {
          "font": {
           "color": "white"
          },
          "showarrow": false,
          "text": "0.0 - 0",
          "x": 1,
          "xref": "x",
          "y": 4,
          "yref": "y"
         },
         {
          "font": {
           "color": "white"
          },
          "showarrow": false,
          "text": "0.0 - 0",
          "x": 2,
          "xref": "x",
          "y": 4,
          "yref": "y"
         },
         {
          "font": {
           "color": "white"
          },
          "showarrow": false,
          "text": "0.0 - 0",
          "x": 3,
          "xref": "x",
          "y": 4,
          "yref": "y"
         },
         {
          "font": {
           "color": "white"
          },
          "showarrow": false,
          "text": "100.0 - 840",
          "x": 4,
          "xref": "x",
          "y": 4,
          "yref": "y"
         }
        ],
        "height": 800,
        "template": {
         "data": {
          "bar": [
           {
            "error_x": {
             "color": "#2a3f5f"
            },
            "error_y": {
             "color": "#2a3f5f"
            },
            "marker": {
             "line": {
              "color": "#E5ECF6",
              "width": 0.5
             },
             "pattern": {
              "fillmode": "overlay",
              "size": 10,
              "solidity": 0.2
             }
            },
            "type": "bar"
           }
          ],
          "barpolar": [
           {
            "marker": {
             "line": {
              "color": "#E5ECF6",
              "width": 0.5
             },
             "pattern": {
              "fillmode": "overlay",
              "size": 10,
              "solidity": 0.2
             }
            },
            "type": "barpolar"
           }
          ],
          "carpet": [
           {
            "aaxis": {
             "endlinecolor": "#2a3f5f",
             "gridcolor": "white",
             "linecolor": "white",
             "minorgridcolor": "white",
             "startlinecolor": "#2a3f5f"
            },
            "baxis": {
             "endlinecolor": "#2a3f5f",
             "gridcolor": "white",
             "linecolor": "white",
             "minorgridcolor": "white",
             "startlinecolor": "#2a3f5f"
            },
            "type": "carpet"
           }
          ],
          "choropleth": [
           {
            "colorbar": {
             "outlinewidth": 0,
             "ticks": ""
            },
            "type": "choropleth"
           }
          ],
          "contour": [
           {
            "colorbar": {
             "outlinewidth": 0,
             "ticks": ""
            },
            "colorscale": [
             [
              0,
              "#0d0887"
             ],
             [
              0.1111111111111111,
              "#46039f"
             ],
             [
              0.2222222222222222,
              "#7201a8"
             ],
             [
              0.3333333333333333,
              "#9c179e"
             ],
             [
              0.4444444444444444,
              "#bd3786"
             ],
             [
              0.5555555555555556,
              "#d8576b"
             ],
             [
              0.6666666666666666,
              "#ed7953"
             ],
             [
              0.7777777777777778,
              "#fb9f3a"
             ],
             [
              0.8888888888888888,
              "#fdca26"
             ],
             [
              1,
              "#f0f921"
             ]
            ],
            "type": "contour"
           }
          ],
          "contourcarpet": [
           {
            "colorbar": {
             "outlinewidth": 0,
             "ticks": ""
            },
            "type": "contourcarpet"
           }
          ],
          "heatmap": [
           {
            "colorbar": {
             "outlinewidth": 0,
             "ticks": ""
            },
            "colorscale": [
             [
              0,
              "#0d0887"
             ],
             [
              0.1111111111111111,
              "#46039f"
             ],
             [
              0.2222222222222222,
              "#7201a8"
             ],
             [
              0.3333333333333333,
              "#9c179e"
             ],
             [
              0.4444444444444444,
              "#bd3786"
             ],
             [
              0.5555555555555556,
              "#d8576b"
             ],
             [
              0.6666666666666666,
              "#ed7953"
             ],
             [
              0.7777777777777778,
              "#fb9f3a"
             ],
             [
              0.8888888888888888,
              "#fdca26"
             ],
             [
              1,
              "#f0f921"
             ]
            ],
            "type": "heatmap"
           }
          ],
          "heatmapgl": [
           {
            "colorbar": {
             "outlinewidth": 0,
             "ticks": ""
            },
            "colorscale": [
             [
              0,
              "#0d0887"
             ],
             [
              0.1111111111111111,
              "#46039f"
             ],
             [
              0.2222222222222222,
              "#7201a8"
             ],
             [
              0.3333333333333333,
              "#9c179e"
             ],
             [
              0.4444444444444444,
              "#bd3786"
             ],
             [
              0.5555555555555556,
              "#d8576b"
             ],
             [
              0.6666666666666666,
              "#ed7953"
             ],
             [
              0.7777777777777778,
              "#fb9f3a"
             ],
             [
              0.8888888888888888,
              "#fdca26"
             ],
             [
              1,
              "#f0f921"
             ]
            ],
            "type": "heatmapgl"
           }
          ],
          "histogram": [
           {
            "marker": {
             "pattern": {
              "fillmode": "overlay",
              "size": 10,
              "solidity": 0.2
             }
            },
            "type": "histogram"
           }
          ],
          "histogram2d": [
           {
            "colorbar": {
             "outlinewidth": 0,
             "ticks": ""
            },
            "colorscale": [
             [
              0,
              "#0d0887"
             ],
             [
              0.1111111111111111,
              "#46039f"
             ],
             [
              0.2222222222222222,
              "#7201a8"
             ],
             [
              0.3333333333333333,
              "#9c179e"
             ],
             [
              0.4444444444444444,
              "#bd3786"
             ],
             [
              0.5555555555555556,
              "#d8576b"
             ],
             [
              0.6666666666666666,
              "#ed7953"
             ],
             [
              0.7777777777777778,
              "#fb9f3a"
             ],
             [
              0.8888888888888888,
              "#fdca26"
             ],
             [
              1,
              "#f0f921"
             ]
            ],
            "type": "histogram2d"
           }
          ],
          "histogram2dcontour": [
           {
            "colorbar": {
             "outlinewidth": 0,
             "ticks": ""
            },
            "colorscale": [
             [
              0,
              "#0d0887"
             ],
             [
              0.1111111111111111,
              "#46039f"
             ],
             [
              0.2222222222222222,
              "#7201a8"
             ],
             [
              0.3333333333333333,
              "#9c179e"
             ],
             [
              0.4444444444444444,
              "#bd3786"
             ],
             [
              0.5555555555555556,
              "#d8576b"
             ],
             [
              0.6666666666666666,
              "#ed7953"
             ],
             [
              0.7777777777777778,
              "#fb9f3a"
             ],
             [
              0.8888888888888888,
              "#fdca26"
             ],
             [
              1,
              "#f0f921"
             ]
            ],
            "type": "histogram2dcontour"
           }
          ],
          "mesh3d": [
           {
            "colorbar": {
             "outlinewidth": 0,
             "ticks": ""
            },
            "type": "mesh3d"
           }
          ],
          "parcoords": [
           {
            "line": {
             "colorbar": {
              "outlinewidth": 0,
              "ticks": ""
             }
            },
            "type": "parcoords"
           }
          ],
          "pie": [
           {
            "automargin": true,
            "type": "pie"
           }
          ],
          "scatter": [
           {
            "fillpattern": {
             "fillmode": "overlay",
             "size": 10,
             "solidity": 0.2
            },
            "type": "scatter"
           }
          ],
          "scatter3d": [
           {
            "line": {
             "colorbar": {
              "outlinewidth": 0,
              "ticks": ""
             }
            },
            "marker": {
             "colorbar": {
              "outlinewidth": 0,
              "ticks": ""
             }
            },
            "type": "scatter3d"
           }
          ],
          "scattercarpet": [
           {
            "marker": {
             "colorbar": {
              "outlinewidth": 0,
              "ticks": ""
             }
            },
            "type": "scattercarpet"
           }
          ],
          "scattergeo": [
           {
            "marker": {
             "colorbar": {
              "outlinewidth": 0,
              "ticks": ""
             }
            },
            "type": "scattergeo"
           }
          ],
          "scattergl": [
           {
            "marker": {
             "colorbar": {
              "outlinewidth": 0,
              "ticks": ""
             }
            },
            "type": "scattergl"
           }
          ],
          "scattermapbox": [
           {
            "marker": {
             "colorbar": {
              "outlinewidth": 0,
              "ticks": ""
             }
            },
            "type": "scattermapbox"
           }
          ],
          "scatterpolar": [
           {
            "marker": {
             "colorbar": {
              "outlinewidth": 0,
              "ticks": ""
             }
            },
            "type": "scatterpolar"
           }
          ],
          "scatterpolargl": [
           {
            "marker": {
             "colorbar": {
              "outlinewidth": 0,
              "ticks": ""
             }
            },
            "type": "scatterpolargl"
           }
          ],
          "scatterternary": [
           {
            "marker": {
             "colorbar": {
              "outlinewidth": 0,
              "ticks": ""
             }
            },
            "type": "scatterternary"
           }
          ],
          "surface": [
           {
            "colorbar": {
             "outlinewidth": 0,
             "ticks": ""
            },
            "colorscale": [
             [
              0,
              "#0d0887"
             ],
             [
              0.1111111111111111,
              "#46039f"
             ],
             [
              0.2222222222222222,
              "#7201a8"
             ],
             [
              0.3333333333333333,
              "#9c179e"
             ],
             [
              0.4444444444444444,
              "#bd3786"
             ],
             [
              0.5555555555555556,
              "#d8576b"
             ],
             [
              0.6666666666666666,
              "#ed7953"
             ],
             [
              0.7777777777777778,
              "#fb9f3a"
             ],
             [
              0.8888888888888888,
              "#fdca26"
             ],
             [
              1,
              "#f0f921"
             ]
            ],
            "type": "surface"
           }
          ],
          "table": [
           {
            "cells": {
             "fill": {
              "color": "#EBF0F8"
             },
             "line": {
              "color": "white"
             }
            },
            "header": {
             "fill": {
              "color": "#C8D4E3"
             },
             "line": {
              "color": "white"
             }
            },
            "type": "table"
           }
          ]
         },
         "layout": {
          "annotationdefaults": {
           "arrowcolor": "#2a3f5f",
           "arrowhead": 0,
           "arrowwidth": 1
          },
          "autotypenumbers": "strict",
          "coloraxis": {
           "colorbar": {
            "outlinewidth": 0,
            "ticks": ""
           }
          },
          "colorscale": {
           "diverging": [
            [
             0,
             "#8e0152"
            ],
            [
             0.1,
             "#c51b7d"
            ],
            [
             0.2,
             "#de77ae"
            ],
            [
             0.3,
             "#f1b6da"
            ],
            [
             0.4,
             "#fde0ef"
            ],
            [
             0.5,
             "#f7f7f7"
            ],
            [
             0.6,
             "#e6f5d0"
            ],
            [
             0.7,
             "#b8e186"
            ],
            [
             0.8,
             "#7fbc41"
            ],
            [
             0.9,
             "#4d9221"
            ],
            [
             1,
             "#276419"
            ]
           ],
           "sequential": [
            [
             0,
             "#0d0887"
            ],
            [
             0.1111111111111111,
             "#46039f"
            ],
            [
             0.2222222222222222,
             "#7201a8"
            ],
            [
             0.3333333333333333,
             "#9c179e"
            ],
            [
             0.4444444444444444,
             "#bd3786"
            ],
            [
             0.5555555555555556,
             "#d8576b"
            ],
            [
             0.6666666666666666,
             "#ed7953"
            ],
            [
             0.7777777777777778,
             "#fb9f3a"
            ],
            [
             0.8888888888888888,
             "#fdca26"
            ],
            [
             1,
             "#f0f921"
            ]
           ],
           "sequentialminus": [
            [
             0,
             "#0d0887"
            ],
            [
             0.1111111111111111,
             "#46039f"
            ],
            [
             0.2222222222222222,
             "#7201a8"
            ],
            [
             0.3333333333333333,
             "#9c179e"
            ],
            [
             0.4444444444444444,
             "#bd3786"
            ],
            [
             0.5555555555555556,
             "#d8576b"
            ],
            [
             0.6666666666666666,
             "#ed7953"
            ],
            [
             0.7777777777777778,
             "#fb9f3a"
            ],
            [
             0.8888888888888888,
             "#fdca26"
            ],
            [
             1,
             "#f0f921"
            ]
           ]
          },
          "colorway": [
           "#636efa",
           "#EF553B",
           "#00cc96",
           "#ab63fa",
           "#FFA15A",
           "#19d3f3",
           "#FF6692",
           "#B6E880",
           "#FF97FF",
           "#FECB52"
          ],
          "font": {
           "color": "#2a3f5f"
          },
          "geo": {
           "bgcolor": "white",
           "lakecolor": "white",
           "landcolor": "#E5ECF6",
           "showlakes": true,
           "showland": true,
           "subunitcolor": "white"
          },
          "hoverlabel": {
           "align": "left"
          },
          "hovermode": "closest",
          "mapbox": {
           "style": "light"
          },
          "paper_bgcolor": "white",
          "plot_bgcolor": "#E5ECF6",
          "polar": {
           "angularaxis": {
            "gridcolor": "white",
            "linecolor": "white",
            "ticks": ""
           },
           "bgcolor": "#E5ECF6",
           "radialaxis": {
            "gridcolor": "white",
            "linecolor": "white",
            "ticks": ""
           }
          },
          "scene": {
           "xaxis": {
            "backgroundcolor": "#E5ECF6",
            "gridcolor": "white",
            "gridwidth": 2,
            "linecolor": "white",
            "showbackground": true,
            "ticks": "",
            "zerolinecolor": "white"
           },
           "yaxis": {
            "backgroundcolor": "#E5ECF6",
            "gridcolor": "white",
            "gridwidth": 2,
            "linecolor": "white",
            "showbackground": true,
            "ticks": "",
            "zerolinecolor": "white"
           },
           "zaxis": {
            "backgroundcolor": "#E5ECF6",
            "gridcolor": "white",
            "gridwidth": 2,
            "linecolor": "white",
            "showbackground": true,
            "ticks": "",
            "zerolinecolor": "white"
           }
          },
          "shapedefaults": {
           "line": {
            "color": "#2a3f5f"
           }
          },
          "ternary": {
           "aaxis": {
            "gridcolor": "white",
            "linecolor": "white",
            "ticks": ""
           },
           "baxis": {
            "gridcolor": "white",
            "linecolor": "white",
            "ticks": ""
           },
           "bgcolor": "#E5ECF6",
           "caxis": {
            "gridcolor": "white",
            "linecolor": "white",
            "ticks": ""
           }
          },
          "title": {
           "x": 0.05
          },
          "xaxis": {
           "automargin": true,
           "gridcolor": "white",
           "linecolor": "white",
           "ticks": "",
           "title": {
            "standoff": 15
           },
           "zerolinecolor": "white",
           "zerolinewidth": 2
          },
          "yaxis": {
           "automargin": true,
           "gridcolor": "white",
           "linecolor": "white",
           "ticks": "",
           "title": {
            "standoff": 15
           },
           "zerolinecolor": "white",
           "zerolinewidth": 2
          }
         }
        },
        "title": {
         "text": "Conf Matrix"
        },
        "width": 800,
        "xaxis": {
         "title": {
          "text": "Predicted value"
         }
        },
        "yaxis": {
         "title": {
          "text": "Real value"
         }
        }
       }
      }
     },
     "metadata": {},
     "output_type": "display_data"
    }
   ],
   "source": [
    "#Como se veria la matriz de confusión PERO ESTA ES LA PERFECTA\n",
    "display(plot_confusion_matrix(y_test,y_test))"
   ]
  },
  {
   "cell_type": "code",
   "execution_count": 100,
   "metadata": {},
   "outputs": [],
   "source": [
    "#SIMULACIONES"
   ]
  },
  {
   "cell_type": "code",
   "execution_count": 101,
   "metadata": {},
   "outputs": [],
   "source": [
    "#Pruebo un modelo alternativo donde en vez de usar la version multiclass real de lightGBM utilizo One vs All\n",
    "\n",
    "lgb_params = params = {\n",
    "                        'objective': 'multiclassova', # ESTA HACE MUCHAS LOGITICAS COMBINADAS PERO SIEMPRE DECIDE QUEDARSE CON UNA \n",
    "                        'num_class': len(y_train.unique())\n",
    "                        }\n",
    "\n",
    "\n",
    "lgb_train_dataset = lgb.Dataset(data=X_train,\n",
    "                                label=y_train)\n",
    "\n",
    "\n",
    "lgb_model = lgb.train(lgb_params,\n",
    "                      lgb_train_dataset)"
   ]
  },
  {
   "cell_type": "code",
   "execution_count": 102,
   "metadata": {},
   "outputs": [
    {
     "data": {
      "application/vnd.plotly.v1+json": {
       "config": {
        "plotlyServerURL": "https://plot.ly"
       },
       "data": [
        {
         "type": "heatmap",
         "x": [
          0,
          1,
          2,
          3,
          4
         ],
         "y": [
          0,
          1,
          2,
          3,
          4
         ],
         "z": [
          [
           9.75609756097561,
           39.02439024390244,
           19.51219512195122,
           10.975609756097562,
           20.73170731707317
          ],
          [
           1.2944983818770228,
           35.43689320388349,
           31.715210355987054,
           9.546925566343042,
           22.006472491909385
          ],
          [
           0.24783147459727387,
           21.065675340768276,
           37.54646840148699,
           14.12639405204461,
           27.01363073110285
          ],
          [
           0,
           13.496932515337424,
           32.515337423312886,
           28.067484662576685,
           25.920245398773005
          ],
          [
           0.5952380952380952,
           10.119047619047619,
           12.619047619047619,
           5.119047619047619,
           71.54761904761905
          ]
         ]
        }
       ],
       "layout": {
        "annotations": [
         {
          "font": {
           "color": "white"
          },
          "showarrow": false,
          "text": "9.8 - 8",
          "x": 0,
          "xref": "x",
          "y": 0,
          "yref": "y"
         },
         {
          "font": {
           "color": "white"
          },
          "showarrow": false,
          "text": "39.0 - 32",
          "x": 1,
          "xref": "x",
          "y": 0,
          "yref": "y"
         },
         {
          "font": {
           "color": "white"
          },
          "showarrow": false,
          "text": "19.5 - 16",
          "x": 2,
          "xref": "x",
          "y": 0,
          "yref": "y"
         },
         {
          "font": {
           "color": "white"
          },
          "showarrow": false,
          "text": "11.0 - 9",
          "x": 3,
          "xref": "x",
          "y": 0,
          "yref": "y"
         },
         {
          "font": {
           "color": "white"
          },
          "showarrow": false,
          "text": "20.7 - 17",
          "x": 4,
          "xref": "x",
          "y": 0,
          "yref": "y"
         },
         {
          "font": {
           "color": "white"
          },
          "showarrow": false,
          "text": "1.3 - 8",
          "x": 0,
          "xref": "x",
          "y": 1,
          "yref": "y"
         },
         {
          "font": {
           "color": "white"
          },
          "showarrow": false,
          "text": "35.4 - 219",
          "x": 1,
          "xref": "x",
          "y": 1,
          "yref": "y"
         },
         {
          "font": {
           "color": "white"
          },
          "showarrow": false,
          "text": "31.7 - 196",
          "x": 2,
          "xref": "x",
          "y": 1,
          "yref": "y"
         },
         {
          "font": {
           "color": "white"
          },
          "showarrow": false,
          "text": "9.5 - 59",
          "x": 3,
          "xref": "x",
          "y": 1,
          "yref": "y"
         },
         {
          "font": {
           "color": "white"
          },
          "showarrow": false,
          "text": "22.0 - 136",
          "x": 4,
          "xref": "x",
          "y": 1,
          "yref": "y"
         },
         {
          "font": {
           "color": "white"
          },
          "showarrow": false,
          "text": "0.2 - 2",
          "x": 0,
          "xref": "x",
          "y": 2,
          "yref": "y"
         },
         {
          "font": {
           "color": "white"
          },
          "showarrow": false,
          "text": "21.1 - 170",
          "x": 1,
          "xref": "x",
          "y": 2,
          "yref": "y"
         },
         {
          "font": {
           "color": "white"
          },
          "showarrow": false,
          "text": "37.5 - 303",
          "x": 2,
          "xref": "x",
          "y": 2,
          "yref": "y"
         },
         {
          "font": {
           "color": "white"
          },
          "showarrow": false,
          "text": "14.1 - 114",
          "x": 3,
          "xref": "x",
          "y": 2,
          "yref": "y"
         },
         {
          "font": {
           "color": "white"
          },
          "showarrow": false,
          "text": "27.0 - 218",
          "x": 4,
          "xref": "x",
          "y": 2,
          "yref": "y"
         },
         {
          "font": {
           "color": "white"
          },
          "showarrow": false,
          "text": "0.0 - 0",
          "x": 0,
          "xref": "x",
          "y": 3,
          "yref": "y"
         },
         {
          "font": {
           "color": "white"
          },
          "showarrow": false,
          "text": "13.5 - 88",
          "x": 1,
          "xref": "x",
          "y": 3,
          "yref": "y"
         },
         {
          "font": {
           "color": "white"
          },
          "showarrow": false,
          "text": "32.5 - 212",
          "x": 2,
          "xref": "x",
          "y": 3,
          "yref": "y"
         },
         {
          "font": {
           "color": "white"
          },
          "showarrow": false,
          "text": "28.1 - 183",
          "x": 3,
          "xref": "x",
          "y": 3,
          "yref": "y"
         },
         {
          "font": {
           "color": "white"
          },
          "showarrow": false,
          "text": "25.9 - 169",
          "x": 4,
          "xref": "x",
          "y": 3,
          "yref": "y"
         },
         {
          "font": {
           "color": "white"
          },
          "showarrow": false,
          "text": "0.6 - 5",
          "x": 0,
          "xref": "x",
          "y": 4,
          "yref": "y"
         },
         {
          "font": {
           "color": "white"
          },
          "showarrow": false,
          "text": "10.1 - 85",
          "x": 1,
          "xref": "x",
          "y": 4,
          "yref": "y"
         },
         {
          "font": {
           "color": "white"
          },
          "showarrow": false,
          "text": "12.6 - 106",
          "x": 2,
          "xref": "x",
          "y": 4,
          "yref": "y"
         },
         {
          "font": {
           "color": "white"
          },
          "showarrow": false,
          "text": "5.1 - 43",
          "x": 3,
          "xref": "x",
          "y": 4,
          "yref": "y"
         },
         {
          "font": {
           "color": "white"
          },
          "showarrow": false,
          "text": "71.5 - 601",
          "x": 4,
          "xref": "x",
          "y": 4,
          "yref": "y"
         }
        ],
        "height": 800,
        "template": {
         "data": {
          "bar": [
           {
            "error_x": {
             "color": "#2a3f5f"
            },
            "error_y": {
             "color": "#2a3f5f"
            },
            "marker": {
             "line": {
              "color": "#E5ECF6",
              "width": 0.5
             },
             "pattern": {
              "fillmode": "overlay",
              "size": 10,
              "solidity": 0.2
             }
            },
            "type": "bar"
           }
          ],
          "barpolar": [
           {
            "marker": {
             "line": {
              "color": "#E5ECF6",
              "width": 0.5
             },
             "pattern": {
              "fillmode": "overlay",
              "size": 10,
              "solidity": 0.2
             }
            },
            "type": "barpolar"
           }
          ],
          "carpet": [
           {
            "aaxis": {
             "endlinecolor": "#2a3f5f",
             "gridcolor": "white",
             "linecolor": "white",
             "minorgridcolor": "white",
             "startlinecolor": "#2a3f5f"
            },
            "baxis": {
             "endlinecolor": "#2a3f5f",
             "gridcolor": "white",
             "linecolor": "white",
             "minorgridcolor": "white",
             "startlinecolor": "#2a3f5f"
            },
            "type": "carpet"
           }
          ],
          "choropleth": [
           {
            "colorbar": {
             "outlinewidth": 0,
             "ticks": ""
            },
            "type": "choropleth"
           }
          ],
          "contour": [
           {
            "colorbar": {
             "outlinewidth": 0,
             "ticks": ""
            },
            "colorscale": [
             [
              0,
              "#0d0887"
             ],
             [
              0.1111111111111111,
              "#46039f"
             ],
             [
              0.2222222222222222,
              "#7201a8"
             ],
             [
              0.3333333333333333,
              "#9c179e"
             ],
             [
              0.4444444444444444,
              "#bd3786"
             ],
             [
              0.5555555555555556,
              "#d8576b"
             ],
             [
              0.6666666666666666,
              "#ed7953"
             ],
             [
              0.7777777777777778,
              "#fb9f3a"
             ],
             [
              0.8888888888888888,
              "#fdca26"
             ],
             [
              1,
              "#f0f921"
             ]
            ],
            "type": "contour"
           }
          ],
          "contourcarpet": [
           {
            "colorbar": {
             "outlinewidth": 0,
             "ticks": ""
            },
            "type": "contourcarpet"
           }
          ],
          "heatmap": [
           {
            "colorbar": {
             "outlinewidth": 0,
             "ticks": ""
            },
            "colorscale": [
             [
              0,
              "#0d0887"
             ],
             [
              0.1111111111111111,
              "#46039f"
             ],
             [
              0.2222222222222222,
              "#7201a8"
             ],
             [
              0.3333333333333333,
              "#9c179e"
             ],
             [
              0.4444444444444444,
              "#bd3786"
             ],
             [
              0.5555555555555556,
              "#d8576b"
             ],
             [
              0.6666666666666666,
              "#ed7953"
             ],
             [
              0.7777777777777778,
              "#fb9f3a"
             ],
             [
              0.8888888888888888,
              "#fdca26"
             ],
             [
              1,
              "#f0f921"
             ]
            ],
            "type": "heatmap"
           }
          ],
          "heatmapgl": [
           {
            "colorbar": {
             "outlinewidth": 0,
             "ticks": ""
            },
            "colorscale": [
             [
              0,
              "#0d0887"
             ],
             [
              0.1111111111111111,
              "#46039f"
             ],
             [
              0.2222222222222222,
              "#7201a8"
             ],
             [
              0.3333333333333333,
              "#9c179e"
             ],
             [
              0.4444444444444444,
              "#bd3786"
             ],
             [
              0.5555555555555556,
              "#d8576b"
             ],
             [
              0.6666666666666666,
              "#ed7953"
             ],
             [
              0.7777777777777778,
              "#fb9f3a"
             ],
             [
              0.8888888888888888,
              "#fdca26"
             ],
             [
              1,
              "#f0f921"
             ]
            ],
            "type": "heatmapgl"
           }
          ],
          "histogram": [
           {
            "marker": {
             "pattern": {
              "fillmode": "overlay",
              "size": 10,
              "solidity": 0.2
             }
            },
            "type": "histogram"
           }
          ],
          "histogram2d": [
           {
            "colorbar": {
             "outlinewidth": 0,
             "ticks": ""
            },
            "colorscale": [
             [
              0,
              "#0d0887"
             ],
             [
              0.1111111111111111,
              "#46039f"
             ],
             [
              0.2222222222222222,
              "#7201a8"
             ],
             [
              0.3333333333333333,
              "#9c179e"
             ],
             [
              0.4444444444444444,
              "#bd3786"
             ],
             [
              0.5555555555555556,
              "#d8576b"
             ],
             [
              0.6666666666666666,
              "#ed7953"
             ],
             [
              0.7777777777777778,
              "#fb9f3a"
             ],
             [
              0.8888888888888888,
              "#fdca26"
             ],
             [
              1,
              "#f0f921"
             ]
            ],
            "type": "histogram2d"
           }
          ],
          "histogram2dcontour": [
           {
            "colorbar": {
             "outlinewidth": 0,
             "ticks": ""
            },
            "colorscale": [
             [
              0,
              "#0d0887"
             ],
             [
              0.1111111111111111,
              "#46039f"
             ],
             [
              0.2222222222222222,
              "#7201a8"
             ],
             [
              0.3333333333333333,
              "#9c179e"
             ],
             [
              0.4444444444444444,
              "#bd3786"
             ],
             [
              0.5555555555555556,
              "#d8576b"
             ],
             [
              0.6666666666666666,
              "#ed7953"
             ],
             [
              0.7777777777777778,
              "#fb9f3a"
             ],
             [
              0.8888888888888888,
              "#fdca26"
             ],
             [
              1,
              "#f0f921"
             ]
            ],
            "type": "histogram2dcontour"
           }
          ],
          "mesh3d": [
           {
            "colorbar": {
             "outlinewidth": 0,
             "ticks": ""
            },
            "type": "mesh3d"
           }
          ],
          "parcoords": [
           {
            "line": {
             "colorbar": {
              "outlinewidth": 0,
              "ticks": ""
             }
            },
            "type": "parcoords"
           }
          ],
          "pie": [
           {
            "automargin": true,
            "type": "pie"
           }
          ],
          "scatter": [
           {
            "fillpattern": {
             "fillmode": "overlay",
             "size": 10,
             "solidity": 0.2
            },
            "type": "scatter"
           }
          ],
          "scatter3d": [
           {
            "line": {
             "colorbar": {
              "outlinewidth": 0,
              "ticks": ""
             }
            },
            "marker": {
             "colorbar": {
              "outlinewidth": 0,
              "ticks": ""
             }
            },
            "type": "scatter3d"
           }
          ],
          "scattercarpet": [
           {
            "marker": {
             "colorbar": {
              "outlinewidth": 0,
              "ticks": ""
             }
            },
            "type": "scattercarpet"
           }
          ],
          "scattergeo": [
           {
            "marker": {
             "colorbar": {
              "outlinewidth": 0,
              "ticks": ""
             }
            },
            "type": "scattergeo"
           }
          ],
          "scattergl": [
           {
            "marker": {
             "colorbar": {
              "outlinewidth": 0,
              "ticks": ""
             }
            },
            "type": "scattergl"
           }
          ],
          "scattermapbox": [
           {
            "marker": {
             "colorbar": {
              "outlinewidth": 0,
              "ticks": ""
             }
            },
            "type": "scattermapbox"
           }
          ],
          "scatterpolar": [
           {
            "marker": {
             "colorbar": {
              "outlinewidth": 0,
              "ticks": ""
             }
            },
            "type": "scatterpolar"
           }
          ],
          "scatterpolargl": [
           {
            "marker": {
             "colorbar": {
              "outlinewidth": 0,
              "ticks": ""
             }
            },
            "type": "scatterpolargl"
           }
          ],
          "scatterternary": [
           {
            "marker": {
             "colorbar": {
              "outlinewidth": 0,
              "ticks": ""
             }
            },
            "type": "scatterternary"
           }
          ],
          "surface": [
           {
            "colorbar": {
             "outlinewidth": 0,
             "ticks": ""
            },
            "colorscale": [
             [
              0,
              "#0d0887"
             ],
             [
              0.1111111111111111,
              "#46039f"
             ],
             [
              0.2222222222222222,
              "#7201a8"
             ],
             [
              0.3333333333333333,
              "#9c179e"
             ],
             [
              0.4444444444444444,
              "#bd3786"
             ],
             [
              0.5555555555555556,
              "#d8576b"
             ],
             [
              0.6666666666666666,
              "#ed7953"
             ],
             [
              0.7777777777777778,
              "#fb9f3a"
             ],
             [
              0.8888888888888888,
              "#fdca26"
             ],
             [
              1,
              "#f0f921"
             ]
            ],
            "type": "surface"
           }
          ],
          "table": [
           {
            "cells": {
             "fill": {
              "color": "#EBF0F8"
             },
             "line": {
              "color": "white"
             }
            },
            "header": {
             "fill": {
              "color": "#C8D4E3"
             },
             "line": {
              "color": "white"
             }
            },
            "type": "table"
           }
          ]
         },
         "layout": {
          "annotationdefaults": {
           "arrowcolor": "#2a3f5f",
           "arrowhead": 0,
           "arrowwidth": 1
          },
          "autotypenumbers": "strict",
          "coloraxis": {
           "colorbar": {
            "outlinewidth": 0,
            "ticks": ""
           }
          },
          "colorscale": {
           "diverging": [
            [
             0,
             "#8e0152"
            ],
            [
             0.1,
             "#c51b7d"
            ],
            [
             0.2,
             "#de77ae"
            ],
            [
             0.3,
             "#f1b6da"
            ],
            [
             0.4,
             "#fde0ef"
            ],
            [
             0.5,
             "#f7f7f7"
            ],
            [
             0.6,
             "#e6f5d0"
            ],
            [
             0.7,
             "#b8e186"
            ],
            [
             0.8,
             "#7fbc41"
            ],
            [
             0.9,
             "#4d9221"
            ],
            [
             1,
             "#276419"
            ]
           ],
           "sequential": [
            [
             0,
             "#0d0887"
            ],
            [
             0.1111111111111111,
             "#46039f"
            ],
            [
             0.2222222222222222,
             "#7201a8"
            ],
            [
             0.3333333333333333,
             "#9c179e"
            ],
            [
             0.4444444444444444,
             "#bd3786"
            ],
            [
             0.5555555555555556,
             "#d8576b"
            ],
            [
             0.6666666666666666,
             "#ed7953"
            ],
            [
             0.7777777777777778,
             "#fb9f3a"
            ],
            [
             0.8888888888888888,
             "#fdca26"
            ],
            [
             1,
             "#f0f921"
            ]
           ],
           "sequentialminus": [
            [
             0,
             "#0d0887"
            ],
            [
             0.1111111111111111,
             "#46039f"
            ],
            [
             0.2222222222222222,
             "#7201a8"
            ],
            [
             0.3333333333333333,
             "#9c179e"
            ],
            [
             0.4444444444444444,
             "#bd3786"
            ],
            [
             0.5555555555555556,
             "#d8576b"
            ],
            [
             0.6666666666666666,
             "#ed7953"
            ],
            [
             0.7777777777777778,
             "#fb9f3a"
            ],
            [
             0.8888888888888888,
             "#fdca26"
            ],
            [
             1,
             "#f0f921"
            ]
           ]
          },
          "colorway": [
           "#636efa",
           "#EF553B",
           "#00cc96",
           "#ab63fa",
           "#FFA15A",
           "#19d3f3",
           "#FF6692",
           "#B6E880",
           "#FF97FF",
           "#FECB52"
          ],
          "font": {
           "color": "#2a3f5f"
          },
          "geo": {
           "bgcolor": "white",
           "lakecolor": "white",
           "landcolor": "#E5ECF6",
           "showlakes": true,
           "showland": true,
           "subunitcolor": "white"
          },
          "hoverlabel": {
           "align": "left"
          },
          "hovermode": "closest",
          "mapbox": {
           "style": "light"
          },
          "paper_bgcolor": "white",
          "plot_bgcolor": "#E5ECF6",
          "polar": {
           "angularaxis": {
            "gridcolor": "white",
            "linecolor": "white",
            "ticks": ""
           },
           "bgcolor": "#E5ECF6",
           "radialaxis": {
            "gridcolor": "white",
            "linecolor": "white",
            "ticks": ""
           }
          },
          "scene": {
           "xaxis": {
            "backgroundcolor": "#E5ECF6",
            "gridcolor": "white",
            "gridwidth": 2,
            "linecolor": "white",
            "showbackground": true,
            "ticks": "",
            "zerolinecolor": "white"
           },
           "yaxis": {
            "backgroundcolor": "#E5ECF6",
            "gridcolor": "white",
            "gridwidth": 2,
            "linecolor": "white",
            "showbackground": true,
            "ticks": "",
            "zerolinecolor": "white"
           },
           "zaxis": {
            "backgroundcolor": "#E5ECF6",
            "gridcolor": "white",
            "gridwidth": 2,
            "linecolor": "white",
            "showbackground": true,
            "ticks": "",
            "zerolinecolor": "white"
           }
          },
          "shapedefaults": {
           "line": {
            "color": "#2a3f5f"
           }
          },
          "ternary": {
           "aaxis": {
            "gridcolor": "white",
            "linecolor": "white",
            "ticks": ""
           },
           "baxis": {
            "gridcolor": "white",
            "linecolor": "white",
            "ticks": ""
           },
           "bgcolor": "#E5ECF6",
           "caxis": {
            "gridcolor": "white",
            "linecolor": "white",
            "ticks": ""
           }
          },
          "title": {
           "x": 0.05
          },
          "xaxis": {
           "automargin": true,
           "gridcolor": "white",
           "linecolor": "white",
           "ticks": "",
           "title": {
            "standoff": 15
           },
           "zerolinecolor": "white",
           "zerolinewidth": 2
          },
          "yaxis": {
           "automargin": true,
           "gridcolor": "white",
           "linecolor": "white",
           "ticks": "",
           "title": {
            "standoff": 15
           },
           "zerolinecolor": "white",
           "zerolinewidth": 2
          }
         }
        },
        "title": {
         "text": "Conf Matrix"
        },
        "width": 800,
        "xaxis": {
         "title": {
          "text": "Predicted value"
         }
        },
        "yaxis": {
         "title": {
          "text": "Real value"
         }
        }
       }
      }
     },
     "metadata": {},
     "output_type": "display_data"
    },
    {
     "data": {
      "text/plain": [
       "{'kappa': np.float64(0.3736583672862005),\n",
       " 'accuracy': 0.4381460486828943,\n",
       " 'balanced_accuracy': np.float64(0.3647091257530836)}"
      ]
     },
     "execution_count": 102,
     "metadata": {},
     "output_type": "execute_result"
    }
   ],
   "source": [
    "#MAtriz de confusion y Kappa dfe OVA\n",
    "y_pred = lgb_model.predict(X_test).argmax(axis=1)\n",
    "\n",
    "display(plot_confusion_matrix(y_test,y_pred))\n",
    "\n",
    "{'kappa':cohen_kappa_score(y_test,\n",
    "                y_pred,\n",
    "                weights = 'quadratic'),\n",
    " 'accuracy':accuracy_score(y_test,y_pred),\n",
    " 'balanced_accuracy':balanced_accuracy_score(y_test,y_pred)}\n",
    "\n",
    "\n"
   ]
  },
  {
   "cell_type": "code",
   "execution_count": 103,
   "metadata": {},
   "outputs": [],
   "source": [
    "#USAR MULTINOVA MEJORA KAPPA OSEA MI MODELO SE ACERCA MAS AL ORIG"
   ]
  },
  {
   "cell_type": "markdown",
   "metadata": {},
   "source": [
    "## Optimizacion de hiperparametros modelo train/test"
   ]
  },
  {
   "cell_type": "code",
   "execution_count": 104,
   "metadata": {},
   "outputs": [],
   "source": [
    "#AHORA SUMAMOS HIPERPARAMETROS PARA VER QUE PASA CON LGBM"
   ]
  },
  {
   "cell_type": "code",
   "execution_count": 105,
   "metadata": {},
   "outputs": [],
   "source": [
    "\n",
    "#Funcion que vamos a optimizar. Optuna requiere que usemos el objeto trial para generar los parametros a optimizar\n",
    "def lgb_objective(trial):\n",
    "    #PArametros para LightGBM\n",
    "    lgb_params = {      \n",
    "                        #PArametros fijos\n",
    "                        'objective': 'multiclass',\n",
    "                        'verbosity':-1,\n",
    "                        'num_class': len(y_train.unique()),\n",
    "                        #Hiperparametros a optimizar utilizando suggest_float o suggest_int segun el tipo de dato\n",
    "                        #Se indica el nombre del parametro, valor minimo, valor maximo \n",
    "                        #en elgunos casos el parametro log=True para parametros que requieren buscar en esa escala\n",
    "                        'lambda_l1': trial.suggest_float('lambda_l1', 1e-8, 10.0, log=True),\n",
    "                        'lambda_l2': trial.suggest_float('lambda_l2', 1e-8, 10.0, log=True),\n",
    "                        'num_leaves': trial.suggest_int('num_leaves', 2, 256),\n",
    "                        'feature_fraction': trial.suggest_float('feature_fraction', 0.4, 1.0),\n",
    "                        'bagging_fraction': trial.suggest_float('bagging_fraction', 0.4, 1.0),\n",
    "                        'bagging_freq': trial.suggest_int('bagging_freq', 1, 7),\n",
    "                        'min_child_samples': trial.suggest_int('min_child_samples', 5, 100),\n",
    "                        } \n",
    "\n",
    "    #Genero objeto dataset de entrenamiento\n",
    "    lgb_train_dataset = lgb.Dataset(data=X_train,\n",
    "                                    label=y_train)\n",
    "\n",
    "    #ajuste de modelo\n",
    "    lgb_model = lgb.train(lgb_params,\n",
    "                        lgb_train_dataset)\n",
    "    \n",
    "    #Devuelvo el score en test\n",
    "    return(cohen_kappa_score(y_test,lgb_model.predict(X_test).argmax(axis=1),\n",
    "                             weights = 'quadratic'))"
   ]
  },
  {
   "cell_type": "code",
   "execution_count": 106,
   "metadata": {},
   "outputs": [
    {
     "name": "stderr",
     "output_type": "stream",
     "text": [
      "[I 2024-09-30 18:14:09,030] Using an existing study with name '04 - LGB Multiclass' instead of creating a new one.\n",
      "[I 2024-09-30 18:14:12,669] Trial 2197 finished with value: 0.37202624855581423 and parameters: {'lambda_l1': 5.052444787110685e-05, 'lambda_l2': 8.828256694410191e-08, 'num_leaves': 10, 'feature_fraction': 0.9894632002829816, 'bagging_fraction': 0.549160285269878, 'bagging_freq': 6, 'min_child_samples': 17}. Best is trial 200 with value: 1.0.\n",
      "[I 2024-09-30 18:14:14,122] Trial 2198 finished with value: 0.368926723528364 and parameters: {'lambda_l1': 0.00022506811570793548, 'lambda_l2': 1.6758964124678567e-07, 'num_leaves': 15, 'feature_fraction': 0.999821013437169, 'bagging_fraction': 0.5819913387145501, 'bagging_freq': 5, 'min_child_samples': 13}. Best is trial 200 with value: 1.0.\n",
      "[I 2024-09-30 18:14:16,525] Trial 2199 finished with value: 0.379802714214006 and parameters: {'lambda_l1': 0.00010787751839338808, 'lambda_l2': 5.563276545963549e-08, 'num_leaves': 39, 'feature_fraction': 0.9272880100164118, 'bagging_fraction': 0.5596219583848775, 'bagging_freq': 6, 'min_child_samples': 11}. Best is trial 200 with value: 1.0.\n",
      "[I 2024-09-30 18:14:17,894] Trial 2200 finished with value: 0.3645608118904262 and parameters: {'lambda_l1': 3.580288078830283e-05, 'lambda_l2': 2.822765798065e-06, 'num_leaves': 7, 'feature_fraction': 0.9625856589474481, 'bagging_fraction': 0.5932752975984534, 'bagging_freq': 6, 'min_child_samples': 22}. Best is trial 200 with value: 1.0.\n",
      "[I 2024-09-30 18:14:18,649] Trial 2201 finished with value: 0.33000646429865244 and parameters: {'lambda_l1': 8.382952342926028e-05, 'lambda_l2': 1.010954456542083e-07, 'num_leaves': 2, 'feature_fraction': 0.9798154823456202, 'bagging_fraction': 0.5112715154276861, 'bagging_freq': 6, 'min_child_samples': 18}. Best is trial 200 with value: 1.0.\n",
      "[I 2024-09-30 18:14:20,579] Trial 2202 finished with value: 0.3790916665451559 and parameters: {'lambda_l1': 0.0003177670452074796, 'lambda_l2': 4.833909207448617e-07, 'num_leaves': 26, 'feature_fraction': 0.9702963012181676, 'bagging_fraction': 0.5264562362659975, 'bagging_freq': 6, 'min_child_samples': 16}. Best is trial 200 with value: 1.0.\n",
      "[I 2024-09-30 18:14:22,475] Trial 2203 finished with value: 0.39125876624712586 and parameters: {'lambda_l1': 0.0019037313397705692, 'lambda_l2': 2.2329891043464547e-08, 'num_leaves': 19, 'feature_fraction': 0.9895475249503155, 'bagging_fraction': 0.6263566620632922, 'bagging_freq': 6, 'min_child_samples': 13}. Best is trial 200 with value: 1.0.\n",
      "[I 2024-09-30 18:14:23,736] Trial 2204 finished with value: 0.37399935811290685 and parameters: {'lambda_l1': 0.00016045201815878605, 'lambda_l2': 3.923562328635353e-08, 'num_leaves': 10, 'feature_fraction': 0.9560214231118802, 'bagging_fraction': 0.540613816265953, 'bagging_freq': 6, 'min_child_samples': 8}. Best is trial 200 with value: 1.0.\n",
      "[I 2024-09-30 18:14:24,730] Trial 2205 finished with value: 0.35840733997893237 and parameters: {'lambda_l1': 6.562174508343668e-05, 'lambda_l2': 7.534677164936395e-08, 'num_leaves': 6, 'feature_fraction': 0.9798028325601366, 'bagging_fraction': 0.487938892449208, 'bagging_freq': 6, 'min_child_samples': 15}. Best is trial 200 with value: 1.0.\n",
      "[I 2024-09-30 18:14:26,005] Trial 2206 finished with value: 0.3795063953128053 and parameters: {'lambda_l1': 1.1048341833235105e-05, 'lambda_l2': 2.1904942309986968e-07, 'num_leaves': 14, 'feature_fraction': 0.989288892738417, 'bagging_fraction': 0.5009095247595202, 'bagging_freq': 7, 'min_child_samples': 19}. Best is trial 200 with value: 1.0.\n",
      "[I 2024-09-30 18:14:28,017] Trial 2207 finished with value: 0.3775443339630943 and parameters: {'lambda_l1': 2.4958093447532197e-05, 'lambda_l2': 1.2184578763408814e-07, 'num_leaves': 21, 'feature_fraction': 0.9712252632914676, 'bagging_fraction': 0.6691627425403509, 'bagging_freq': 6, 'min_child_samples': 17}. Best is trial 200 with value: 1.0.\n",
      "[I 2024-09-30 18:14:29,262] Trial 2208 finished with value: 0.3604110045989206 and parameters: {'lambda_l1': 0.00010718104200566634, 'lambda_l2': 5.574451615716738e-08, 'num_leaves': 6, 'feature_fraction': 0.9996527739517839, 'bagging_fraction': 0.9555558756749192, 'bagging_freq': 6, 'min_child_samples': 12}. Best is trial 200 with value: 1.0.\n",
      "[I 2024-09-30 18:14:31,183] Trial 2209 finished with value: 0.38888284730979295 and parameters: {'lambda_l1': 5.033458710625534e-05, 'lambda_l2': 1.5910980108711156e-07, 'num_leaves': 30, 'feature_fraction': 0.9998083109819195, 'bagging_fraction': 0.543456023730441, 'bagging_freq': 6, 'min_child_samples': 14}. Best is trial 200 with value: 1.0.\n",
      "[I 2024-09-30 18:14:32,524] Trial 2210 finished with value: 0.3777121460325725 and parameters: {'lambda_l1': 0.00014461761261160255, 'lambda_l2': 3.4547165943868214e-07, 'num_leaves': 13, 'feature_fraction': 0.9808171669271, 'bagging_fraction': 0.5727651363506355, 'bagging_freq': 6, 'min_child_samples': 20}. Best is trial 200 with value: 1.0.\n",
      "[I 2024-09-30 18:14:34,126] Trial 2211 finished with value: 0.3671446761476377 and parameters: {'lambda_l1': 0.0005443488174198963, 'lambda_l2': 3.2116252440008015e-08, 'num_leaves': 6, 'feature_fraction': 0.9890825797485704, 'bagging_fraction': 0.522695364565047, 'bagging_freq': 6, 'min_child_samples': 16}. Best is trial 200 with value: 1.0.\n",
      "[I 2024-09-30 18:14:35,590] Trial 2212 finished with value: 0.3905440965745739 and parameters: {'lambda_l1': 3.5401164465057325e-05, 'lambda_l2': 0.009004066757760342, 'num_leaves': 17, 'feature_fraction': 0.9701896130715735, 'bagging_fraction': 0.46713288597223496, 'bagging_freq': 6, 'min_child_samples': 10}. Best is trial 200 with value: 1.0.\n",
      "[I 2024-09-30 18:14:42,788] Trial 2213 finished with value: 0.3718165131590523 and parameters: {'lambda_l1': 8.079871679878222e-05, 'lambda_l2': 7.466409581055857e-08, 'num_leaves': 188, 'feature_fraction': 0.9902922646131971, 'bagging_fraction': 0.44854377215434044, 'bagging_freq': 6, 'min_child_samples': 14}. Best is trial 200 with value: 1.0.\n",
      "[I 2024-09-30 18:14:43,556] Trial 2214 finished with value: 0.3282773014254299 and parameters: {'lambda_l1': 5.187448600502748e-05, 'lambda_l2': 9.918012637599023e-08, 'num_leaves': 2, 'feature_fraction': 0.9506002892442448, 'bagging_fraction': 0.5604242734047551, 'bagging_freq': 6, 'min_child_samples': 18}. Best is trial 200 with value: 1.0.\n",
      "[I 2024-09-30 18:14:45,258] Trial 2215 finished with value: 0.37777188976139264 and parameters: {'lambda_l1': 0.00022754323715789445, 'lambda_l2': 2.531685520384504e-07, 'num_leaves': 25, 'feature_fraction': 0.9780930956042352, 'bagging_fraction': 0.4822973685183787, 'bagging_freq': 6, 'min_child_samples': 15}. Best is trial 200 with value: 1.0.\n",
      "[I 2024-09-30 18:14:46,830] Trial 2216 finished with value: 0.36986837628462976 and parameters: {'lambda_l1': 0.000114025111273624, 'lambda_l2': 4.1659648029047087e-08, 'num_leaves': 11, 'feature_fraction': 0.9892309100043057, 'bagging_fraction': 0.5089083468228652, 'bagging_freq': 5, 'min_child_samples': 12}. Best is trial 200 with value: 1.0.\n",
      "[I 2024-09-30 18:14:48,563] Trial 2217 finished with value: 0.37057066789742277 and parameters: {'lambda_l1': 6.879600292761973e-05, 'lambda_l2': 1.230132580954653e-07, 'num_leaves': 18, 'feature_fraction': 0.9640214824361235, 'bagging_fraction': 0.5336845818025174, 'bagging_freq': 6, 'min_child_samples': 17}. Best is trial 200 with value: 1.0.\n",
      "[I 2024-09-30 18:14:49,779] Trial 2218 finished with value: 0.3671982113861413 and parameters: {'lambda_l1': 0.0001781890633015336, 'lambda_l2': 1.3940163757455491e-08, 'num_leaves': 10, 'feature_fraction': 0.9997028159796147, 'bagging_fraction': 0.5494223836994067, 'bagging_freq': 6, 'min_child_samples': 21}. Best is trial 200 with value: 1.0.\n",
      "[I 2024-09-30 18:14:50,524] Trial 2219 finished with value: 0.3237998642457277 and parameters: {'lambda_l1': 3.7860135519511086e-05, 'lambda_l2': 6.08303550751292e-08, 'num_leaves': 2, 'feature_fraction': 0.9998934694788797, 'bagging_fraction': 0.4977206077248599, 'bagging_freq': 6, 'min_child_samples': 15}. Best is trial 200 with value: 1.0.\n",
      "[I 2024-09-30 18:14:52,545] Trial 2220 finished with value: 0.3783416205356914 and parameters: {'lambda_l1': 9.741007117883574e-05, 'lambda_l2': 1.584724703973381e-07, 'num_leaves': 22, 'feature_fraction': 0.9799820160888072, 'bagging_fraction': 0.5163031606785541, 'bagging_freq': 6, 'min_child_samples': 13}. Best is trial 200 with value: 1.0.\n",
      "[I 2024-09-30 18:14:53,840] Trial 2221 finished with value: 0.3641288732212954 and parameters: {'lambda_l1': 2.1789800630432327e-05, 'lambda_l2': 7.435448742466296e-07, 'num_leaves': 13, 'feature_fraction': 0.9896190212251968, 'bagging_fraction': 0.5751790795643875, 'bagging_freq': 6, 'min_child_samples': 18}. Best is trial 200 with value: 1.0.\n",
      "[I 2024-09-30 18:14:54,924] Trial 2222 finished with value: 0.3662052445538774 and parameters: {'lambda_l1': 6.193284159569537e-05, 'lambda_l2': 2.1582665520695496e-08, 'num_leaves': 6, 'feature_fraction': 0.9799003408930367, 'bagging_fraction': 0.528037848876792, 'bagging_freq': 6, 'min_child_samples': 16}. Best is trial 200 with value: 1.0.\n",
      "[I 2024-09-30 18:14:57,210] Trial 2223 finished with value: 0.38910035054881054 and parameters: {'lambda_l1': 0.00013329157232112564, 'lambda_l2': 8.325859392833763e-08, 'num_leaves': 28, 'feature_fraction': 0.9670794500108183, 'bagging_fraction': 0.5887334016580328, 'bagging_freq': 6, 'min_child_samples': 10}. Best is trial 200 with value: 1.0.\n",
      "[I 2024-09-30 18:14:58,622] Trial 2224 finished with value: 0.3833465136775883 and parameters: {'lambda_l1': 8.553366047797882e-05, 'lambda_l2': 1.7712089520251163e-05, 'num_leaves': 15, 'feature_fraction': 0.8595775580458819, 'bagging_fraction': 0.5565046357411392, 'bagging_freq': 6, 'min_child_samples': 14}. Best is trial 200 with value: 1.0.\n",
      "[I 2024-09-30 18:14:59,766] Trial 2225 finished with value: 0.3738009422095421 and parameters: {'lambda_l1': 0.00033744382667036973, 'lambda_l2': 2.22317018673271e-07, 'num_leaves': 10, 'feature_fraction': 0.9890436347881131, 'bagging_fraction': 0.5053593743987124, 'bagging_freq': 6, 'min_child_samples': 19}. Best is trial 200 with value: 1.0.\n",
      "[I 2024-09-30 18:15:01,595] Trial 2226 finished with value: 0.37340270250310104 and parameters: {'lambda_l1': 4.629507813971327e-05, 'lambda_l2': 4.481342318531951e-08, 'num_leaves': 21, 'feature_fraction': 0.980189487315699, 'bagging_fraction': 0.5388928398831556, 'bagging_freq': 6, 'min_child_samples': 12}. Best is trial 200 with value: 1.0.\n",
      "[I 2024-09-30 18:15:03,035] Trial 2227 finished with value: 0.3633335543314312 and parameters: {'lambda_l1': 0.00017030757271974703, 'lambda_l2': 1.1894525191415076e-07, 'num_leaves': 7, 'feature_fraction': 0.9524474725969713, 'bagging_fraction': 0.4932665547416042, 'bagging_freq': 5, 'min_child_samples': 17}. Best is trial 200 with value: 1.0.\n",
      "[I 2024-09-30 18:15:04,684] Trial 2228 finished with value: 0.3841317795328093 and parameters: {'lambda_l1': 2.8217044552391e-05, 'lambda_l2': 3.006953058929556e-08, 'num_leaves': 17, 'feature_fraction': 0.9995801675267464, 'bagging_fraction': 0.5692243025347757, 'bagging_freq': 6, 'min_child_samples': 15}. Best is trial 200 with value: 1.0.\n",
      "[I 2024-09-30 18:15:05,838] Trial 2229 finished with value: 0.3578565775094824 and parameters: {'lambda_l1': 6.510788355746067e-05, 'lambda_l2': 4.731148067971792e-07, 'num_leaves': 10, 'feature_fraction': 0.9707897311681531, 'bagging_fraction': 0.6019480585760049, 'bagging_freq': 6, 'min_child_samples': 23}. Best is trial 200 with value: 1.0.\n",
      "[I 2024-09-30 18:15:08,236] Trial 2230 finished with value: 0.3809804859071413 and parameters: {'lambda_l1': 0.00011183164573557529, 'lambda_l2': 7.348188599240827e-08, 'num_leaves': 33, 'feature_fraction': 0.9998274093031853, 'bagging_fraction': 0.481204440367451, 'bagging_freq': 6, 'min_child_samples': 20}. Best is trial 200 with value: 1.0.\n",
      "[I 2024-09-30 18:15:09,185] Trial 2231 finished with value: 0.33036273512003167 and parameters: {'lambda_l1': 4.090619096221784e-05, 'lambda_l2': 1.877316136247845e-07, 'num_leaves': 2, 'feature_fraction': 0.9810509021159954, 'bagging_fraction': 0.5237789970929617, 'bagging_freq': 6, 'min_child_samples': 13}. Best is trial 200 with value: 1.0.\n",
      "[I 2024-09-30 18:15:10,749] Trial 2232 finished with value: 0.3700000113593709 and parameters: {'lambda_l1': 8.37680213199947e-05, 'lambda_l2': 5.110268770437913e-08, 'num_leaves': 14, 'feature_fraction': 0.9900105665275372, 'bagging_fraction': 0.5478880150574725, 'bagging_freq': 6, 'min_child_samples': 17}. Best is trial 200 with value: 1.0.\n",
      "[I 2024-09-30 18:15:11,939] Trial 2233 finished with value: 0.3653980505800666 and parameters: {'lambda_l1': 0.00024779786072337307, 'lambda_l2': 1.0393571135946361e-07, 'num_leaves': 7, 'feature_fraction': 0.9624068780642693, 'bagging_fraction': 0.5136130595120187, 'bagging_freq': 6, 'min_child_samples': 15}. Best is trial 200 with value: 1.0.\n",
      "[I 2024-09-30 18:15:14,082] Trial 2234 finished with value: 0.3744231678456077 and parameters: {'lambda_l1': 1.3905092476800572e-05, 'lambda_l2': 3.322570976534284e-07, 'num_leaves': 24, 'feature_fraction': 0.9889514990851169, 'bagging_fraction': 0.5340293500478897, 'bagging_freq': 6, 'min_child_samples': 12}. Best is trial 200 with value: 1.0.\n",
      "[I 2024-09-30 18:15:15,640] Trial 2235 finished with value: 0.3691716799979543 and parameters: {'lambda_l1': 0.00012897896425332833, 'lambda_l2': 6.518776618260527e-08, 'num_leaves': 18, 'feature_fraction': 0.9765893502400944, 'bagging_fraction': 0.5022832723993226, 'bagging_freq': 6, 'min_child_samples': 16}. Best is trial 200 with value: 1.0.\n",
      "[I 2024-09-30 18:15:16,474] Trial 2236 finished with value: 0.32751637623069807 and parameters: {'lambda_l1': 4.551579324076193e-05, 'lambda_l2': 1.373966450347373e-07, 'num_leaves': 2, 'feature_fraction': 0.9999958981213855, 'bagging_fraction': 0.5618141926967964, 'bagging_freq': 6, 'min_child_samples': 19}. Best is trial 200 with value: 1.0.\n",
      "[I 2024-09-30 18:15:17,676] Trial 2237 finished with value: 0.36282208697759777 and parameters: {'lambda_l1': 6.601731870304914e-05, 'lambda_l2': 3.82444337721173e-08, 'num_leaves': 10, 'feature_fraction': 0.9892349528261977, 'bagging_fraction': 0.5808035298774746, 'bagging_freq': 6, 'min_child_samples': 10}. Best is trial 200 with value: 1.0.\n",
      "[I 2024-09-30 18:15:18,970] Trial 2238 finished with value: 0.37571837749868486 and parameters: {'lambda_l1': 0.00016856693450976472, 'lambda_l2': 2.5697152545797433e-07, 'num_leaves': 14, 'feature_fraction': 0.9715642110018924, 'bagging_fraction': 0.47701179626280327, 'bagging_freq': 6, 'min_child_samples': 75}. Best is trial 200 with value: 1.0.\n",
      "[I 2024-09-30 18:15:20,015] Trial 2239 finished with value: 0.36382427403084183 and parameters: {'lambda_l1': 2.8442223544223608e-05, 'lambda_l2': 8.198484633902667e-08, 'num_leaves': 7, 'feature_fraction': 0.9996266876333232, 'bagging_fraction': 0.49015916518367886, 'bagging_freq': 6, 'min_child_samples': 14}. Best is trial 200 with value: 1.0.\n",
      "[I 2024-09-30 18:15:21,776] Trial 2240 finished with value: 0.3795417827100751 and parameters: {'lambda_l1': 8.883241676015475e-05, 'lambda_l2': 1.526719488498287e-07, 'num_leaves': 22, 'feature_fraction': 0.9822552396885899, 'bagging_fraction': 0.6170324967559314, 'bagging_freq': 6, 'min_child_samples': 17}. Best is trial 200 with value: 1.0.\n",
      "[I 2024-09-30 18:15:23,910] Trial 2241 finished with value: 0.36826094603116255 and parameters: {'lambda_l1': 5.377099866912774e-05, 'lambda_l2': 4.9287543640041316e-08, 'num_leaves': 27, 'feature_fraction': 0.9592143570078597, 'bagging_fraction': 0.548125092316902, 'bagging_freq': 4, 'min_child_samples': 13}. Best is trial 200 with value: 1.0.\n",
      "[I 2024-09-30 18:15:25,322] Trial 2242 finished with value: 0.3722569151298055 and parameters: {'lambda_l1': 9.187101539377446e-05, 'lambda_l2': 9.611777052553623e-08, 'num_leaves': 17, 'feature_fraction': 0.9810207606853523, 'bagging_fraction': 0.5118093741120299, 'bagging_freq': 6, 'min_child_samples': 18}. Best is trial 200 with value: 1.0.\n",
      "[I 2024-09-30 18:15:26,450] Trial 2243 finished with value: 0.37021880277111097 and parameters: {'lambda_l1': 0.000135209152737632, 'lambda_l2': 2.717282859400396e-08, 'num_leaves': 7, 'feature_fraction': 0.9894510831774859, 'bagging_fraction': 0.5254820755683574, 'bagging_freq': 6, 'min_child_samples': 15}. Best is trial 200 with value: 1.0.\n",
      "[I 2024-09-30 18:15:27,212] Trial 2244 finished with value: 0.32043276517888974 and parameters: {'lambda_l1': 0.0002375272467314355, 'lambda_l2': 1.839734192896107e-07, 'num_leaves': 2, 'feature_fraction': 0.9710414030934436, 'bagging_fraction': 0.4619654028912582, 'bagging_freq': 6, 'min_child_samples': 21}. Best is trial 200 with value: 1.0.\n",
      "[I 2024-09-30 18:15:28,858] Trial 2245 finished with value: 0.38228398021662646 and parameters: {'lambda_l1': 3.470404332430319e-05, 'lambda_l2': 3.450101607207335e-07, 'num_leaves': 10, 'feature_fraction': 0.9997976367100706, 'bagging_fraction': 0.5389280262057341, 'bagging_freq': 6, 'min_child_samples': 79}. Best is trial 200 with value: 1.0.\n",
      "[I 2024-09-30 18:15:30,159] Trial 2246 finished with value: 0.3739468896728232 and parameters: {'lambda_l1': 5.696743661911497e-05, 'lambda_l2': 6.48832716875088e-08, 'num_leaves': 14, 'feature_fraction': 0.9443249190911231, 'bagging_fraction': 0.5662164675010658, 'bagging_freq': 7, 'min_child_samples': 16}. Best is trial 200 with value: 1.0.\n",
      "[I 2024-09-30 18:15:34,257] Trial 2247 finished with value: 0.37349408910134685 and parameters: {'lambda_l1': 0.00010513151548813425, 'lambda_l2': 1.1781173460065666e-07, 'num_leaves': 77, 'feature_fraction': 0.9889694163800484, 'bagging_fraction': 0.4985375157713923, 'bagging_freq': 6, 'min_child_samples': 8}. Best is trial 200 with value: 1.0.\n",
      "[I 2024-09-30 18:15:35,894] Trial 2248 finished with value: 0.37322050424631126 and parameters: {'lambda_l1': 6.963444338839667e-05, 'lambda_l2': 2.0065985919142938e-08, 'num_leaves': 20, 'feature_fraction': 0.979273837587168, 'bagging_fraction': 0.5302103800305659, 'bagging_freq': 6, 'min_child_samples': 11}. Best is trial 200 with value: 1.0.\n",
      "[I 2024-09-30 18:15:38,054] Trial 2249 finished with value: 0.39913079753190894 and parameters: {'lambda_l1': 1.8611515768584527e-05, 'lambda_l2': 3.803054215355593e-08, 'num_leaves': 29, 'feature_fraction': 0.9643301792603916, 'bagging_fraction': 0.5925513344356852, 'bagging_freq': 6, 'min_child_samples': 14}. Best is trial 200 with value: 1.0.\n",
      "[I 2024-09-30 18:15:39,641] Trial 2250 finished with value: 0.3560444211871311 and parameters: {'lambda_l1': 0.0001673231901058006, 'lambda_l2': 2.4031413908320404e-07, 'num_leaves': 6, 'feature_fraction': 0.9895671549530066, 'bagging_fraction': 0.5570861991258406, 'bagging_freq': 6, 'min_child_samples': 19}. Best is trial 200 with value: 1.0.\n",
      "[I 2024-09-30 18:15:40,954] Trial 2251 finished with value: 0.3745483939693366 and parameters: {'lambda_l1': 0.00034868411325019057, 'lambda_l2': 5.411726017221354e-07, 'num_leaves': 12, 'feature_fraction': 0.9731126545460642, 'bagging_fraction': 0.515816962269414, 'bagging_freq': 6, 'min_child_samples': 17}. Best is trial 200 with value: 1.0.\n",
      "[I 2024-09-30 18:15:42,504] Trial 2252 finished with value: 0.37241961145642166 and parameters: {'lambda_l1': 3.8902755871262365e-05, 'lambda_l2': 7.98151183667527e-08, 'num_leaves': 18, 'feature_fraction': 0.9818018918742086, 'bagging_fraction': 0.4885701944042921, 'bagging_freq': 6, 'min_child_samples': 12}. Best is trial 200 with value: 1.0.\n",
      "[I 2024-09-30 18:15:43,295] Trial 2253 finished with value: 0.32696500959220176 and parameters: {'lambda_l1': 0.00010929870176392045, 'lambda_l2': 5.652741554191386e-08, 'num_leaves': 2, 'feature_fraction': 0.9561414438037785, 'bagging_fraction': 0.5052458820561476, 'bagging_freq': 6, 'min_child_samples': 14}. Best is trial 200 with value: 1.0.\n",
      "[I 2024-09-30 18:15:45,597] Trial 2254 finished with value: 0.3887838350027052 and parameters: {'lambda_l1': 6.683627835701008e-05, 'lambda_l2': 1.5404231542520668e-07, 'num_leaves': 24, 'feature_fraction': 0.9999179223621617, 'bagging_fraction': 0.5485226233600595, 'bagging_freq': 6, 'min_child_samples': 16}. Best is trial 200 with value: 1.0.\n",
      "[I 2024-09-30 18:15:46,816] Trial 2255 finished with value: 0.3828664856945987 and parameters: {'lambda_l1': 4.6419080493857745e-05, 'lambda_l2': 1.0159259063035028e-07, 'num_leaves': 10, 'feature_fraction': 0.9891225090096348, 'bagging_fraction': 0.47432595302080527, 'bagging_freq': 6, 'min_child_samples': 18}. Best is trial 200 with value: 1.0.\n",
      "[I 2024-09-30 18:15:49,200] Trial 2256 finished with value: 0.3712583889119926 and parameters: {'lambda_l1': 0.00019417880054502503, 'lambda_l2': 1.4410375842354707e-08, 'num_leaves': 42, 'feature_fraction': 0.9729397815305914, 'bagging_fraction': 0.5773792620308308, 'bagging_freq': 6, 'min_child_samples': 62}. Best is trial 200 with value: 1.0.\n",
      "[I 2024-09-30 18:15:50,677] Trial 2257 finished with value: 0.3618605687949499 and parameters: {'lambda_l1': 2.5054230709356422e-05, 'lambda_l2': 3.353859378727505e-08, 'num_leaves': 6, 'feature_fraction': 0.8421120906673447, 'bagging_fraction': 0.5223372208737912, 'bagging_freq': 6, 'min_child_samples': 13}. Best is trial 200 with value: 1.0.\n",
      "[I 2024-09-30 18:15:52,059] Trial 2258 finished with value: 0.3682658072039364 and parameters: {'lambda_l1': 8.108473349666769e-05, 'lambda_l2': 2.437337663607954e-07, 'num_leaves': 15, 'feature_fraction': 0.9896022076586423, 'bagging_fraction': 0.5417400793274977, 'bagging_freq': 6, 'min_child_samples': 15}. Best is trial 200 with value: 1.0.\n",
      "[I 2024-09-30 18:15:53,722] Trial 2259 finished with value: 0.38647992253261954 and parameters: {'lambda_l1': 0.00012495643755525745, 'lambda_l2': 5.6536681814674204e-08, 'num_leaves': 21, 'feature_fraction': 0.9808579134221556, 'bagging_fraction': 0.5674136898823838, 'bagging_freq': 6, 'min_child_samples': 20}. Best is trial 200 with value: 1.0.\n",
      "[I 2024-09-30 18:15:54,926] Trial 2260 finished with value: 0.37381719512225053 and parameters: {'lambda_l1': 5.3104312646687895e-05, 'lambda_l2': 1.3987278050739086e-07, 'num_leaves': 11, 'feature_fraction': 0.9998572009958488, 'bagging_fraction': 0.5077954151822801, 'bagging_freq': 7, 'min_child_samples': 11}. Best is trial 200 with value: 1.0.\n",
      "[I 2024-09-30 18:15:57,525] Trial 2261 finished with value: 0.3819346448063824 and parameters: {'lambda_l1': 8.545147184860636e-05, 'lambda_l2': 8.568039875688848e-08, 'num_leaves': 33, 'feature_fraction': 0.9656678776012477, 'bagging_fraction': 0.4945027862504883, 'bagging_freq': 6, 'min_child_samples': 15}. Best is trial 200 with value: 1.0.\n",
      "[I 2024-09-30 18:15:58,501] Trial 2262 finished with value: 0.3638660866311374 and parameters: {'lambda_l1': 3.288906961878668e-05, 'lambda_l2': 3.980639086237571e-07, 'num_leaves': 6, 'feature_fraction': 0.7848446040128976, 'bagging_fraction': 0.5333185318580574, 'bagging_freq': 6, 'min_child_samples': 17}. Best is trial 200 with value: 1.0.\n",
      "[I 2024-09-30 18:15:59,954] Trial 2263 finished with value: 0.3767480473455288 and parameters: {'lambda_l1': 0.00016964190875152875, 'lambda_l2': 4.3310831660056677e-08, 'num_leaves': 16, 'feature_fraction': 0.9896225285967711, 'bagging_fraction': 0.5534722766195497, 'bagging_freq': 6, 'min_child_samples': 22}. Best is trial 200 with value: 1.0.\n",
      "[I 2024-09-30 18:16:01,899] Trial 2264 finished with value: 0.37817462139340496 and parameters: {'lambda_l1': 0.0002661692264979313, 'lambda_l2': 1.936250250283496e-07, 'num_leaves': 11, 'feature_fraction': 0.980997232819884, 'bagging_fraction': 0.5133733658697559, 'bagging_freq': 6, 'min_child_samples': 13}. Best is trial 200 with value: 1.0.\n",
      "[I 2024-09-30 18:16:02,640] Trial 2265 finished with value: 0.328933022592768 and parameters: {'lambda_l1': 5.986913942095973e-05, 'lambda_l2': 1.0491406067524267e-06, 'num_leaves': 2, 'feature_fraction': 0.9720894393222581, 'bagging_fraction': 0.5233412129806476, 'bagging_freq': 6, 'min_child_samples': 5}. Best is trial 200 with value: 1.0.\n",
      "[I 2024-09-30 18:16:04,356] Trial 2266 finished with value: 0.3727222331673773 and parameters: {'lambda_l1': 0.00011702236055942922, 'lambda_l2': 2.5484096016039064e-08, 'num_leaves': 22, 'feature_fraction': 0.9901862672274196, 'bagging_fraction': 0.4779354601308377, 'bagging_freq': 6, 'min_child_samples': 19}. Best is trial 200 with value: 1.0.\n",
      "[I 2024-09-30 18:16:05,436] Trial 2267 finished with value: 0.36926748501545203 and parameters: {'lambda_l1': 0.0004759515537225756, 'lambda_l2': 1.1990263982157492e-07, 'num_leaves': 7, 'feature_fraction': 0.9896893416105152, 'bagging_fraction': 0.5846145185952428, 'bagging_freq': 6, 'min_child_samples': 16}. Best is trial 200 with value: 1.0.\n",
      "[I 2024-09-30 18:16:07,517] Trial 2268 finished with value: 0.3733912601129449 and parameters: {'lambda_l1': 8.200096613906337e-05, 'lambda_l2': 7.37375129993695e-08, 'num_leaves': 16, 'feature_fraction': 0.9531488010580229, 'bagging_fraction': 0.9784667436002079, 'bagging_freq': 6, 'min_child_samples': 9}. Best is trial 200 with value: 1.0.\n",
      "[I 2024-09-30 18:16:09,524] Trial 2269 finished with value: 0.37896346168482453 and parameters: {'lambda_l1': 4.196084695179049e-05, 'lambda_l2': 3.439980979519164, 'num_leaves': 26, 'feature_fraction': 0.9807513001527391, 'bagging_fraction': 0.5371186085857287, 'bagging_freq': 6, 'min_child_samples': 14}. Best is trial 200 with value: 1.0.\n",
      "[I 2024-09-30 18:16:10,821] Trial 2270 finished with value: 0.3727945153847807 and parameters: {'lambda_l1': 1.9533045672599757e-05, 'lambda_l2': 5.673839027049564e-08, 'num_leaves': 12, 'feature_fraction': 0.999834448299457, 'bagging_fraction': 0.49968788277365606, 'bagging_freq': 6, 'min_child_samples': 18}. Best is trial 200 with value: 1.0.\n",
      "[I 2024-09-30 18:16:19,652] Trial 2271 finished with value: 0.37808964571462456 and parameters: {'lambda_l1': 0.1361007446037045, 'lambda_l2': 1.8601716731826796e-07, 'num_leaves': 224, 'feature_fraction': 0.999693474783244, 'bagging_fraction': 0.5622493921809004, 'bagging_freq': 6, 'min_child_samples': 12}. Best is trial 200 with value: 1.0.\n",
      "[I 2024-09-30 18:16:20,540] Trial 2272 finished with value: 0.32238606120747526 and parameters: {'lambda_l1': 0.00013361378482224835, 'lambda_l2': 9.85785650880818e-08, 'num_leaves': 2, 'feature_fraction': 0.9698593800473491, 'bagging_fraction': 0.48779985913262425, 'bagging_freq': 6, 'min_child_samples': 16}. Best is trial 200 with value: 1.0.\n",
      "[I 2024-09-30 18:16:22,146] Trial 2273 finished with value: 0.38960571114702847 and parameters: {'lambda_l1': 5.827969016312753e-05, 'lambda_l2': 2.6854991532442015e-07, 'num_leaves': 19, 'feature_fraction': 0.4701842417319507, 'bagging_fraction': 0.5187916166740433, 'bagging_freq': 6, 'min_child_samples': 14}. Best is trial 200 with value: 1.0.\n",
      "[I 2024-09-30 18:16:23,460] Trial 2274 finished with value: 0.36094603969184247 and parameters: {'lambda_l1': 9.275648446102592e-05, 'lambda_l2': 3.97162656311405e-08, 'num_leaves': 6, 'feature_fraction': 0.9998601912158491, 'bagging_fraction': 0.5714848967617936, 'bagging_freq': 6, 'min_child_samples': 18}. Best is trial 200 with value: 1.0.\n",
      "[I 2024-09-30 18:16:24,788] Trial 2275 finished with value: 0.3746552452503563 and parameters: {'lambda_l1': 0.0001993306810035861, 'lambda_l2': 1.206585492592391e-07, 'num_leaves': 11, 'feature_fraction': 0.9805299249719047, 'bagging_fraction': 0.5459881375533902, 'bagging_freq': 6, 'min_child_samples': 11}. Best is trial 200 with value: 1.0.\n",
      "[I 2024-09-30 18:16:27,501] Trial 2276 finished with value: 0.3807303759492273 and parameters: {'lambda_l1': 9.983337580287222, 'lambda_l2': 7.414913891507261e-08, 'num_leaves': 131, 'feature_fraction': 0.9609145472776534, 'bagging_fraction': 0.6010209830578916, 'bagging_freq': 6, 'min_child_samples': 16}. Best is trial 200 with value: 1.0.\n",
      "[I 2024-09-30 18:16:30,014] Trial 2277 finished with value: 0.3882542567539842 and parameters: {'lambda_l1': 2.7795645887706224e-05, 'lambda_l2': 6.438508296181758e-07, 'num_leaves': 28, 'feature_fraction': 0.9811057253799664, 'bagging_fraction': 0.5304145839220661, 'bagging_freq': 6, 'min_child_samples': 21}. Best is trial 200 with value: 1.0.\n",
      "[I 2024-09-30 18:16:31,754] Trial 2278 finished with value: 0.3843249625755172 and parameters: {'lambda_l1': 5.0182368503540225e-05, 'lambda_l2': 3.579891619606059e-07, 'num_leaves': 17, 'feature_fraction': 0.9999175868879537, 'bagging_fraction': 0.5061040854318843, 'bagging_freq': 5, 'min_child_samples': 14}. Best is trial 200 with value: 1.0.\n",
      "[I 2024-09-30 18:16:33,101] Trial 2279 finished with value: 0.3721018406305444 and parameters: {'lambda_l1': 0.00012803403202688417, 'lambda_l2': 2.995448549045125e-08, 'num_leaves': 7, 'feature_fraction': 0.9889913131945549, 'bagging_fraction': 0.5606548708051009, 'bagging_freq': 6, 'min_child_samples': 17}. Best is trial 200 with value: 1.0.\n",
      "[I 2024-09-30 18:16:35,150] Trial 2280 finished with value: 0.37432900780448075 and parameters: {'lambda_l1': 7.693616081957116e-05, 'lambda_l2': 1.6761440337412308e-07, 'num_leaves': 13, 'feature_fraction': 0.9712892317949681, 'bagging_fraction': 0.47062505752840644, 'bagging_freq': 6, 'min_child_samples': 19}. Best is trial 200 with value: 1.0.\n",
      "[I 2024-09-30 18:16:37,432] Trial 2281 finished with value: 0.3679834459305509 and parameters: {'lambda_l1': 3.478200499800613e-05, 'lambda_l2': 5.1758348825856215e-08, 'num_leaves': 37, 'feature_fraction': 0.9999936356650354, 'bagging_fraction': 0.5193131411582962, 'bagging_freq': 6, 'min_child_samples': 13}. Best is trial 200 with value: 1.0.\n",
      "[I 2024-09-30 18:16:39,167] Trial 2282 finished with value: 0.3589605717896224 and parameters: {'lambda_l1': 0.00026871852181422636, 'lambda_l2': 9.506025347261582e-08, 'num_leaves': 22, 'feature_fraction': 0.9372454489784138, 'bagging_fraction': 0.4912946506778946, 'bagging_freq': 6, 'min_child_samples': 24}. Best is trial 200 with value: 1.0.\n",
      "[I 2024-09-30 18:16:40,940] Trial 2283 finished with value: 0.3601987047959827 and parameters: {'lambda_l1': 9.960882135741643e-05, 'lambda_l2': 1.9075373443735134e-08, 'num_leaves': 6, 'feature_fraction': 0.980712187459683, 'bagging_fraction': 0.5512243693296874, 'bagging_freq': 6, 'min_child_samples': 15}. Best is trial 200 with value: 1.0.\n",
      "[I 2024-09-30 18:16:41,721] Trial 2284 finished with value: 0.323497512926738 and parameters: {'lambda_l1': 5.557690659276189e-05, 'lambda_l2': 6.730102992162898e-08, 'num_leaves': 2, 'feature_fraction': 0.9888988599795249, 'bagging_fraction': 0.5386829122860383, 'bagging_freq': 6, 'min_child_samples': 11}. Best is trial 200 with value: 1.0.\n",
      "[I 2024-09-30 18:16:43,027] Trial 2285 finished with value: 0.39448803533709464 and parameters: {'lambda_l1': 0.0001465114138439648, 'lambda_l2': 1.60385841834877e-07, 'num_leaves': 15, 'feature_fraction': 0.7357126905897695, 'bagging_fraction': 0.579603074673964, 'bagging_freq': 6, 'min_child_samples': 16}. Best is trial 200 with value: 1.0.\n",
      "[I 2024-09-30 18:16:44,253] Trial 2286 finished with value: 0.36155977659765626 and parameters: {'lambda_l1': 7.378677008795417e-05, 'lambda_l2': 2.544183520199995e-07, 'num_leaves': 10, 'feature_fraction': 0.9614928122368834, 'bagging_fraction': 0.5018223266648899, 'bagging_freq': 6, 'min_child_samples': 20}. Best is trial 200 with value: 1.0.\n",
      "[I 2024-09-30 18:16:46,377] Trial 2287 finished with value: 0.3753752880742919 and parameters: {'lambda_l1': 4.17954589607111e-05, 'lambda_l2': 1.1594986410904302e-07, 'num_leaves': 21, 'feature_fraction': 0.9892984565697428, 'bagging_fraction': 0.45364985731028507, 'bagging_freq': 6, 'min_child_samples': 13}. Best is trial 200 with value: 1.0.\n",
      "[I 2024-09-30 18:16:47,670] Trial 2288 finished with value: 0.36954146280475586 and parameters: {'lambda_l1': 0.00020722127578711065, 'lambda_l2': 4.647517562199861e-08, 'num_leaves': 10, 'feature_fraction': 0.9731157645446613, 'bagging_fraction': 0.5250723674900704, 'bagging_freq': 6, 'min_child_samples': 17}. Best is trial 200 with value: 1.0.\n",
      "[I 2024-09-30 18:16:52,936] Trial 2289 finished with value: 0.3818275737580735 and parameters: {'lambda_l1': 9.920970709183244e-05, 'lambda_l2': 3.0483378248404294e-08, 'num_leaves': 104, 'feature_fraction': 0.9797700532552984, 'bagging_fraction': 0.5119480057109778, 'bagging_freq': 6, 'min_child_samples': 9}. Best is trial 200 with value: 1.0.\n",
      "[I 2024-09-30 18:16:54,395] Trial 2290 finished with value: 0.37571215075394815 and parameters: {'lambda_l1': 6.310818422675765e-05, 'lambda_l2': 7.297978102823752e-08, 'num_leaves': 17, 'feature_fraction': 0.9884881009869125, 'bagging_fraction': 0.634990183604172, 'bagging_freq': 6, 'min_child_samples': 15}. Best is trial 200 with value: 1.0.\n",
      "[I 2024-09-30 18:16:56,560] Trial 2291 finished with value: 0.37148841244297526 and parameters: {'lambda_l1': 2.3676303918339837e-05, 'lambda_l2': 3.1014478768967625e-07, 'num_leaves': 30, 'feature_fraction': 0.8946992679527527, 'bagging_fraction': 0.4843206140958989, 'bagging_freq': 6, 'min_child_samples': 18}. Best is trial 200 with value: 1.0.\n",
      "[I 2024-09-30 18:16:57,599] Trial 2292 finished with value: 0.3313881495425681 and parameters: {'lambda_l1': 0.00012039987229434376, 'lambda_l2': 1.2600816914917908e-07, 'num_leaves': 2, 'feature_fraction': 0.9702782653115417, 'bagging_fraction': 0.5424933310288207, 'bagging_freq': 2, 'min_child_samples': 12}. Best is trial 200 with value: 1.0.\n",
      "[I 2024-09-30 18:16:59,360] Trial 2293 finished with value: 0.3790277488652173 and parameters: {'lambda_l1': 3.711447959314944e-05, 'lambda_l2': 5.427401323835076e-06, 'num_leaves': 24, 'feature_fraction': 0.9902550896665125, 'bagging_fraction': 0.5894049509806459, 'bagging_freq': 5, 'min_child_samples': 15}. Best is trial 200 with value: 1.0.\n",
      "[I 2024-09-30 18:17:01,167] Trial 2294 finished with value: 0.38573810276662 and parameters: {'lambda_l1': 0.0001836290718143835, 'lambda_l2': 1.9113353352047347e-07, 'num_leaves': 13, 'feature_fraction': 0.9481167373258487, 'bagging_fraction': 0.5695400765236918, 'bagging_freq': 6, 'min_child_samples': 17}. Best is trial 200 with value: 1.0.\n",
      "[I 2024-09-30 18:17:03,146] Trial 2295 finished with value: 0.37037706482927124 and parameters: {'lambda_l1': 7.231725339461663e-05, 'lambda_l2': 4.7063072006808085e-07, 'num_leaves': 7, 'feature_fraction': 0.989290565220297, 'bagging_fraction': 0.8857946982657791, 'bagging_freq': 5, 'min_child_samples': 14}. Best is trial 200 with value: 1.0.\n",
      "[I 2024-09-30 18:17:04,855] Trial 2296 finished with value: 0.3799647496387225 and parameters: {'lambda_l1': 0.00031834604118289315, 'lambda_l2': 4.553320769451853e-08, 'num_leaves': 18, 'feature_fraction': 0.9799597029274648, 'bagging_fraction': 0.608937724529999, 'bagging_freq': 6, 'min_child_samples': 19}. Best is trial 200 with value: 1.0.\n"
     ]
    }
   ],
   "source": [
    "#Defino el estudio a optimizar\n",
    "study = optuna.create_study(direction='maximize', #buscamos maximizar la metrica\n",
    "                            storage=\"sqlite:///work/db.sqlite3\",  # Specify the storage URL here.\n",
    "                            study_name=\"04 - LGB Multiclass\", #nombre del experimento\n",
    "                            load_if_exists=True) #continuar si ya existe\n",
    "\n",
    "#Corremos 100 trials para buscar mejores parametros\n",
    "study.optimize(lgb_objective, n_trials=100)"
   ]
  },
  {
   "cell_type": "code",
   "execution_count": 107,
   "metadata": {},
   "outputs": [],
   "source": [
    "#corriendo esto en terminal deberia ver el dashboard \n",
    "#optuna-dashboard sqlite:///work/db.sqlite3 --artifact-dir /work/optuna_artifacts --port 8081"
   ]
  },
  {
   "cell_type": "code",
   "execution_count": 108,
   "metadata": {},
   "outputs": [
    {
     "data": {
      "text/plain": [
       "{'lambda_l1': 0.00016911420117746327,\n",
       " 'lambda_l2': 3.0291532676782044e-07,\n",
       " 'num_leaves': 23,\n",
       " 'feature_fraction': 0.9710839320963843,\n",
       " 'bagging_fraction': 0.6006057268679922,\n",
       " 'bagging_freq': 6,\n",
       " 'min_child_samples': 16}"
      ]
     },
     "execution_count": 108,
     "metadata": {},
     "output_type": "execute_result"
    }
   ],
   "source": [
    "#Obtenemos mejor resultado\n",
    "study.best_params"
   ]
  },
  {
   "cell_type": "code",
   "execution_count": 109,
   "metadata": {},
   "outputs": [
    {
     "data": {
      "application/vnd.plotly.v1+json": {
       "config": {
        "plotlyServerURL": "https://plot.ly"
       },
       "data": [
        {
         "type": "heatmap",
         "x": [
          0,
          1,
          2,
          3,
          4
         ],
         "y": [
          0,
          1,
          2,
          3,
          4
         ],
         "z": [
          [
           10.975609756097562,
           43.90243902439025,
           19.51219512195122,
           9.75609756097561,
           15.853658536585366
          ],
          [
           0.8090614886731391,
           36.56957928802589,
           30.582524271844658,
           12.135922330097088,
           19.902912621359224
          ],
          [
           0.24783147459727387,
           21.189591078066915,
           39.405204460966544,
           13.878562577447337,
           25.27881040892193
          ],
          [
           0,
           15.030674846625766,
           33.12883435582822,
           27.76073619631902,
           24.079754601226995
          ],
          [
           0.2380952380952381,
           10.714285714285714,
           13.333333333333334,
           5.357142857142857,
           70.35714285714286
          ]
         ]
        }
       ],
       "layout": {
        "annotations": [
         {
          "font": {
           "color": "white"
          },
          "showarrow": false,
          "text": "11.0 - 9",
          "x": 0,
          "xref": "x",
          "y": 0,
          "yref": "y"
         },
         {
          "font": {
           "color": "white"
          },
          "showarrow": false,
          "text": "43.9 - 36",
          "x": 1,
          "xref": "x",
          "y": 0,
          "yref": "y"
         },
         {
          "font": {
           "color": "white"
          },
          "showarrow": false,
          "text": "19.5 - 16",
          "x": 2,
          "xref": "x",
          "y": 0,
          "yref": "y"
         },
         {
          "font": {
           "color": "white"
          },
          "showarrow": false,
          "text": "9.8 - 8",
          "x": 3,
          "xref": "x",
          "y": 0,
          "yref": "y"
         },
         {
          "font": {
           "color": "white"
          },
          "showarrow": false,
          "text": "15.9 - 13",
          "x": 4,
          "xref": "x",
          "y": 0,
          "yref": "y"
         },
         {
          "font": {
           "color": "white"
          },
          "showarrow": false,
          "text": "0.8 - 5",
          "x": 0,
          "xref": "x",
          "y": 1,
          "yref": "y"
         },
         {
          "font": {
           "color": "white"
          },
          "showarrow": false,
          "text": "36.6 - 226",
          "x": 1,
          "xref": "x",
          "y": 1,
          "yref": "y"
         },
         {
          "font": {
           "color": "white"
          },
          "showarrow": false,
          "text": "30.6 - 189",
          "x": 2,
          "xref": "x",
          "y": 1,
          "yref": "y"
         },
         {
          "font": {
           "color": "white"
          },
          "showarrow": false,
          "text": "12.1 - 75",
          "x": 3,
          "xref": "x",
          "y": 1,
          "yref": "y"
         },
         {
          "font": {
           "color": "white"
          },
          "showarrow": false,
          "text": "19.9 - 123",
          "x": 4,
          "xref": "x",
          "y": 1,
          "yref": "y"
         },
         {
          "font": {
           "color": "white"
          },
          "showarrow": false,
          "text": "0.2 - 2",
          "x": 0,
          "xref": "x",
          "y": 2,
          "yref": "y"
         },
         {
          "font": {
           "color": "white"
          },
          "showarrow": false,
          "text": "21.2 - 171",
          "x": 1,
          "xref": "x",
          "y": 2,
          "yref": "y"
         },
         {
          "font": {
           "color": "white"
          },
          "showarrow": false,
          "text": "39.4 - 318",
          "x": 2,
          "xref": "x",
          "y": 2,
          "yref": "y"
         },
         {
          "font": {
           "color": "white"
          },
          "showarrow": false,
          "text": "13.9 - 112",
          "x": 3,
          "xref": "x",
          "y": 2,
          "yref": "y"
         },
         {
          "font": {
           "color": "white"
          },
          "showarrow": false,
          "text": "25.3 - 204",
          "x": 4,
          "xref": "x",
          "y": 2,
          "yref": "y"
         },
         {
          "font": {
           "color": "white"
          },
          "showarrow": false,
          "text": "0.0 - 0",
          "x": 0,
          "xref": "x",
          "y": 3,
          "yref": "y"
         },
         {
          "font": {
           "color": "white"
          },
          "showarrow": false,
          "text": "15.0 - 98",
          "x": 1,
          "xref": "x",
          "y": 3,
          "yref": "y"
         },
         {
          "font": {
           "color": "white"
          },
          "showarrow": false,
          "text": "33.1 - 216",
          "x": 2,
          "xref": "x",
          "y": 3,
          "yref": "y"
         },
         {
          "font": {
           "color": "white"
          },
          "showarrow": false,
          "text": "27.8 - 181",
          "x": 3,
          "xref": "x",
          "y": 3,
          "yref": "y"
         },
         {
          "font": {
           "color": "white"
          },
          "showarrow": false,
          "text": "24.1 - 157",
          "x": 4,
          "xref": "x",
          "y": 3,
          "yref": "y"
         },
         {
          "font": {
           "color": "white"
          },
          "showarrow": false,
          "text": "0.2 - 2",
          "x": 0,
          "xref": "x",
          "y": 4,
          "yref": "y"
         },
         {
          "font": {
           "color": "white"
          },
          "showarrow": false,
          "text": "10.7 - 90",
          "x": 1,
          "xref": "x",
          "y": 4,
          "yref": "y"
         },
         {
          "font": {
           "color": "white"
          },
          "showarrow": false,
          "text": "13.3 - 112",
          "x": 2,
          "xref": "x",
          "y": 4,
          "yref": "y"
         },
         {
          "font": {
           "color": "white"
          },
          "showarrow": false,
          "text": "5.4 - 45",
          "x": 3,
          "xref": "x",
          "y": 4,
          "yref": "y"
         },
         {
          "font": {
           "color": "white"
          },
          "showarrow": false,
          "text": "70.4 - 591",
          "x": 4,
          "xref": "x",
          "y": 4,
          "yref": "y"
         }
        ],
        "height": 800,
        "template": {
         "data": {
          "bar": [
           {
            "error_x": {
             "color": "#2a3f5f"
            },
            "error_y": {
             "color": "#2a3f5f"
            },
            "marker": {
             "line": {
              "color": "#E5ECF6",
              "width": 0.5
             },
             "pattern": {
              "fillmode": "overlay",
              "size": 10,
              "solidity": 0.2
             }
            },
            "type": "bar"
           }
          ],
          "barpolar": [
           {
            "marker": {
             "line": {
              "color": "#E5ECF6",
              "width": 0.5
             },
             "pattern": {
              "fillmode": "overlay",
              "size": 10,
              "solidity": 0.2
             }
            },
            "type": "barpolar"
           }
          ],
          "carpet": [
           {
            "aaxis": {
             "endlinecolor": "#2a3f5f",
             "gridcolor": "white",
             "linecolor": "white",
             "minorgridcolor": "white",
             "startlinecolor": "#2a3f5f"
            },
            "baxis": {
             "endlinecolor": "#2a3f5f",
             "gridcolor": "white",
             "linecolor": "white",
             "minorgridcolor": "white",
             "startlinecolor": "#2a3f5f"
            },
            "type": "carpet"
           }
          ],
          "choropleth": [
           {
            "colorbar": {
             "outlinewidth": 0,
             "ticks": ""
            },
            "type": "choropleth"
           }
          ],
          "contour": [
           {
            "colorbar": {
             "outlinewidth": 0,
             "ticks": ""
            },
            "colorscale": [
             [
              0,
              "#0d0887"
             ],
             [
              0.1111111111111111,
              "#46039f"
             ],
             [
              0.2222222222222222,
              "#7201a8"
             ],
             [
              0.3333333333333333,
              "#9c179e"
             ],
             [
              0.4444444444444444,
              "#bd3786"
             ],
             [
              0.5555555555555556,
              "#d8576b"
             ],
             [
              0.6666666666666666,
              "#ed7953"
             ],
             [
              0.7777777777777778,
              "#fb9f3a"
             ],
             [
              0.8888888888888888,
              "#fdca26"
             ],
             [
              1,
              "#f0f921"
             ]
            ],
            "type": "contour"
           }
          ],
          "contourcarpet": [
           {
            "colorbar": {
             "outlinewidth": 0,
             "ticks": ""
            },
            "type": "contourcarpet"
           }
          ],
          "heatmap": [
           {
            "colorbar": {
             "outlinewidth": 0,
             "ticks": ""
            },
            "colorscale": [
             [
              0,
              "#0d0887"
             ],
             [
              0.1111111111111111,
              "#46039f"
             ],
             [
              0.2222222222222222,
              "#7201a8"
             ],
             [
              0.3333333333333333,
              "#9c179e"
             ],
             [
              0.4444444444444444,
              "#bd3786"
             ],
             [
              0.5555555555555556,
              "#d8576b"
             ],
             [
              0.6666666666666666,
              "#ed7953"
             ],
             [
              0.7777777777777778,
              "#fb9f3a"
             ],
             [
              0.8888888888888888,
              "#fdca26"
             ],
             [
              1,
              "#f0f921"
             ]
            ],
            "type": "heatmap"
           }
          ],
          "heatmapgl": [
           {
            "colorbar": {
             "outlinewidth": 0,
             "ticks": ""
            },
            "colorscale": [
             [
              0,
              "#0d0887"
             ],
             [
              0.1111111111111111,
              "#46039f"
             ],
             [
              0.2222222222222222,
              "#7201a8"
             ],
             [
              0.3333333333333333,
              "#9c179e"
             ],
             [
              0.4444444444444444,
              "#bd3786"
             ],
             [
              0.5555555555555556,
              "#d8576b"
             ],
             [
              0.6666666666666666,
              "#ed7953"
             ],
             [
              0.7777777777777778,
              "#fb9f3a"
             ],
             [
              0.8888888888888888,
              "#fdca26"
             ],
             [
              1,
              "#f0f921"
             ]
            ],
            "type": "heatmapgl"
           }
          ],
          "histogram": [
           {
            "marker": {
             "pattern": {
              "fillmode": "overlay",
              "size": 10,
              "solidity": 0.2
             }
            },
            "type": "histogram"
           }
          ],
          "histogram2d": [
           {
            "colorbar": {
             "outlinewidth": 0,
             "ticks": ""
            },
            "colorscale": [
             [
              0,
              "#0d0887"
             ],
             [
              0.1111111111111111,
              "#46039f"
             ],
             [
              0.2222222222222222,
              "#7201a8"
             ],
             [
              0.3333333333333333,
              "#9c179e"
             ],
             [
              0.4444444444444444,
              "#bd3786"
             ],
             [
              0.5555555555555556,
              "#d8576b"
             ],
             [
              0.6666666666666666,
              "#ed7953"
             ],
             [
              0.7777777777777778,
              "#fb9f3a"
             ],
             [
              0.8888888888888888,
              "#fdca26"
             ],
             [
              1,
              "#f0f921"
             ]
            ],
            "type": "histogram2d"
           }
          ],
          "histogram2dcontour": [
           {
            "colorbar": {
             "outlinewidth": 0,
             "ticks": ""
            },
            "colorscale": [
             [
              0,
              "#0d0887"
             ],
             [
              0.1111111111111111,
              "#46039f"
             ],
             [
              0.2222222222222222,
              "#7201a8"
             ],
             [
              0.3333333333333333,
              "#9c179e"
             ],
             [
              0.4444444444444444,
              "#bd3786"
             ],
             [
              0.5555555555555556,
              "#d8576b"
             ],
             [
              0.6666666666666666,
              "#ed7953"
             ],
             [
              0.7777777777777778,
              "#fb9f3a"
             ],
             [
              0.8888888888888888,
              "#fdca26"
             ],
             [
              1,
              "#f0f921"
             ]
            ],
            "type": "histogram2dcontour"
           }
          ],
          "mesh3d": [
           {
            "colorbar": {
             "outlinewidth": 0,
             "ticks": ""
            },
            "type": "mesh3d"
           }
          ],
          "parcoords": [
           {
            "line": {
             "colorbar": {
              "outlinewidth": 0,
              "ticks": ""
             }
            },
            "type": "parcoords"
           }
          ],
          "pie": [
           {
            "automargin": true,
            "type": "pie"
           }
          ],
          "scatter": [
           {
            "fillpattern": {
             "fillmode": "overlay",
             "size": 10,
             "solidity": 0.2
            },
            "type": "scatter"
           }
          ],
          "scatter3d": [
           {
            "line": {
             "colorbar": {
              "outlinewidth": 0,
              "ticks": ""
             }
            },
            "marker": {
             "colorbar": {
              "outlinewidth": 0,
              "ticks": ""
             }
            },
            "type": "scatter3d"
           }
          ],
          "scattercarpet": [
           {
            "marker": {
             "colorbar": {
              "outlinewidth": 0,
              "ticks": ""
             }
            },
            "type": "scattercarpet"
           }
          ],
          "scattergeo": [
           {
            "marker": {
             "colorbar": {
              "outlinewidth": 0,
              "ticks": ""
             }
            },
            "type": "scattergeo"
           }
          ],
          "scattergl": [
           {
            "marker": {
             "colorbar": {
              "outlinewidth": 0,
              "ticks": ""
             }
            },
            "type": "scattergl"
           }
          ],
          "scattermapbox": [
           {
            "marker": {
             "colorbar": {
              "outlinewidth": 0,
              "ticks": ""
             }
            },
            "type": "scattermapbox"
           }
          ],
          "scatterpolar": [
           {
            "marker": {
             "colorbar": {
              "outlinewidth": 0,
              "ticks": ""
             }
            },
            "type": "scatterpolar"
           }
          ],
          "scatterpolargl": [
           {
            "marker": {
             "colorbar": {
              "outlinewidth": 0,
              "ticks": ""
             }
            },
            "type": "scatterpolargl"
           }
          ],
          "scatterternary": [
           {
            "marker": {
             "colorbar": {
              "outlinewidth": 0,
              "ticks": ""
             }
            },
            "type": "scatterternary"
           }
          ],
          "surface": [
           {
            "colorbar": {
             "outlinewidth": 0,
             "ticks": ""
            },
            "colorscale": [
             [
              0,
              "#0d0887"
             ],
             [
              0.1111111111111111,
              "#46039f"
             ],
             [
              0.2222222222222222,
              "#7201a8"
             ],
             [
              0.3333333333333333,
              "#9c179e"
             ],
             [
              0.4444444444444444,
              "#bd3786"
             ],
             [
              0.5555555555555556,
              "#d8576b"
             ],
             [
              0.6666666666666666,
              "#ed7953"
             ],
             [
              0.7777777777777778,
              "#fb9f3a"
             ],
             [
              0.8888888888888888,
              "#fdca26"
             ],
             [
              1,
              "#f0f921"
             ]
            ],
            "type": "surface"
           }
          ],
          "table": [
           {
            "cells": {
             "fill": {
              "color": "#EBF0F8"
             },
             "line": {
              "color": "white"
             }
            },
            "header": {
             "fill": {
              "color": "#C8D4E3"
             },
             "line": {
              "color": "white"
             }
            },
            "type": "table"
           }
          ]
         },
         "layout": {
          "annotationdefaults": {
           "arrowcolor": "#2a3f5f",
           "arrowhead": 0,
           "arrowwidth": 1
          },
          "autotypenumbers": "strict",
          "coloraxis": {
           "colorbar": {
            "outlinewidth": 0,
            "ticks": ""
           }
          },
          "colorscale": {
           "diverging": [
            [
             0,
             "#8e0152"
            ],
            [
             0.1,
             "#c51b7d"
            ],
            [
             0.2,
             "#de77ae"
            ],
            [
             0.3,
             "#f1b6da"
            ],
            [
             0.4,
             "#fde0ef"
            ],
            [
             0.5,
             "#f7f7f7"
            ],
            [
             0.6,
             "#e6f5d0"
            ],
            [
             0.7,
             "#b8e186"
            ],
            [
             0.8,
             "#7fbc41"
            ],
            [
             0.9,
             "#4d9221"
            ],
            [
             1,
             "#276419"
            ]
           ],
           "sequential": [
            [
             0,
             "#0d0887"
            ],
            [
             0.1111111111111111,
             "#46039f"
            ],
            [
             0.2222222222222222,
             "#7201a8"
            ],
            [
             0.3333333333333333,
             "#9c179e"
            ],
            [
             0.4444444444444444,
             "#bd3786"
            ],
            [
             0.5555555555555556,
             "#d8576b"
            ],
            [
             0.6666666666666666,
             "#ed7953"
            ],
            [
             0.7777777777777778,
             "#fb9f3a"
            ],
            [
             0.8888888888888888,
             "#fdca26"
            ],
            [
             1,
             "#f0f921"
            ]
           ],
           "sequentialminus": [
            [
             0,
             "#0d0887"
            ],
            [
             0.1111111111111111,
             "#46039f"
            ],
            [
             0.2222222222222222,
             "#7201a8"
            ],
            [
             0.3333333333333333,
             "#9c179e"
            ],
            [
             0.4444444444444444,
             "#bd3786"
            ],
            [
             0.5555555555555556,
             "#d8576b"
            ],
            [
             0.6666666666666666,
             "#ed7953"
            ],
            [
             0.7777777777777778,
             "#fb9f3a"
            ],
            [
             0.8888888888888888,
             "#fdca26"
            ],
            [
             1,
             "#f0f921"
            ]
           ]
          },
          "colorway": [
           "#636efa",
           "#EF553B",
           "#00cc96",
           "#ab63fa",
           "#FFA15A",
           "#19d3f3",
           "#FF6692",
           "#B6E880",
           "#FF97FF",
           "#FECB52"
          ],
          "font": {
           "color": "#2a3f5f"
          },
          "geo": {
           "bgcolor": "white",
           "lakecolor": "white",
           "landcolor": "#E5ECF6",
           "showlakes": true,
           "showland": true,
           "subunitcolor": "white"
          },
          "hoverlabel": {
           "align": "left"
          },
          "hovermode": "closest",
          "mapbox": {
           "style": "light"
          },
          "paper_bgcolor": "white",
          "plot_bgcolor": "#E5ECF6",
          "polar": {
           "angularaxis": {
            "gridcolor": "white",
            "linecolor": "white",
            "ticks": ""
           },
           "bgcolor": "#E5ECF6",
           "radialaxis": {
            "gridcolor": "white",
            "linecolor": "white",
            "ticks": ""
           }
          },
          "scene": {
           "xaxis": {
            "backgroundcolor": "#E5ECF6",
            "gridcolor": "white",
            "gridwidth": 2,
            "linecolor": "white",
            "showbackground": true,
            "ticks": "",
            "zerolinecolor": "white"
           },
           "yaxis": {
            "backgroundcolor": "#E5ECF6",
            "gridcolor": "white",
            "gridwidth": 2,
            "linecolor": "white",
            "showbackground": true,
            "ticks": "",
            "zerolinecolor": "white"
           },
           "zaxis": {
            "backgroundcolor": "#E5ECF6",
            "gridcolor": "white",
            "gridwidth": 2,
            "linecolor": "white",
            "showbackground": true,
            "ticks": "",
            "zerolinecolor": "white"
           }
          },
          "shapedefaults": {
           "line": {
            "color": "#2a3f5f"
           }
          },
          "ternary": {
           "aaxis": {
            "gridcolor": "white",
            "linecolor": "white",
            "ticks": ""
           },
           "baxis": {
            "gridcolor": "white",
            "linecolor": "white",
            "ticks": ""
           },
           "bgcolor": "#E5ECF6",
           "caxis": {
            "gridcolor": "white",
            "linecolor": "white",
            "ticks": ""
           }
          },
          "title": {
           "x": 0.05
          },
          "xaxis": {
           "automargin": true,
           "gridcolor": "white",
           "linecolor": "white",
           "ticks": "",
           "title": {
            "standoff": 15
           },
           "zerolinecolor": "white",
           "zerolinewidth": 2
          },
          "yaxis": {
           "automargin": true,
           "gridcolor": "white",
           "linecolor": "white",
           "ticks": "",
           "title": {
            "standoff": 15
           },
           "zerolinecolor": "white",
           "zerolinewidth": 2
          }
         }
        },
        "title": {
         "text": "Conf Matrix"
        },
        "width": 800,
        "xaxis": {
         "title": {
          "text": "Predicted value"
         }
        },
        "yaxis": {
         "title": {
          "text": "Real value"
         }
        }
       }
      }
     },
     "metadata": {},
     "output_type": "display_data"
    },
    {
     "data": {
      "text/plain": [
       "np.float64(0.3837502657680879)"
      ]
     },
     "execution_count": 109,
     "metadata": {},
     "output_type": "execute_result"
    }
   ],
   "source": [
    "#Vamos a replicar el resultado de la optimizacion reentrenando el modelo con el mejor conjunto de hiperparametros\n",
    "#Generamos parametros incluyendo los fijos y la mejor solución que encontro optuna\n",
    "lgb_params = {\n",
    "    'objective': 'multiclass',\n",
    "    'verbosity': -1,\n",
    "    'num_class': len(y_train.unique())\n",
    "}\n",
    "\n",
    "# Update lgb_params with study.best_params\n",
    "lgb_params.update(study.best_params)\n",
    "\n",
    "lgb_train_dataset = lgb.Dataset(data=X_train,\n",
    "                                label=y_train)\n",
    "\n",
    "\n",
    "#Entreno\n",
    "lgb_model = lgb.train(lgb_params,\n",
    "                    lgb_train_dataset)\n",
    "\n",
    "#Muestro matriz de confusion y kappa\n",
    "display(plot_confusion_matrix(y_test,lgb_model.predict(X_test).argmax(axis=1)))\n",
    "\n",
    "cohen_kappa_score(y_test,lgb_model.predict(X_test).argmax(axis=1),\n",
    "                             weights = 'quadratic')\n"
   ]
  },
  {
   "cell_type": "code",
   "execution_count": 110,
   "metadata": {},
   "outputs": [],
   "source": [
    "#A PARTIR DE OPTUNA (OPTIMIZACION BAYESIANA) ES LO MEJOR TENGO ENTENDIDO, ECONTRE LOS MEJORES VALORES HIPERPARMTROS\n",
    "#Y ESO MEJORO KAPPA "
   ]
  },
  {
   "cell_type": "code",
   "execution_count": 111,
   "metadata": {},
   "outputs": [],
   "source": [
    "import pandas as pd\n",
    "import matplotlib.pyplot as plt\n",
    "import seaborn as sns\n",
    "\n",
    "# Configurar visualizaciones\n",
    "sns.set(style=\"whitegrid\")"
   ]
  },
  {
   "cell_type": "code",
   "execution_count": 112,
   "metadata": {},
   "outputs": [
    {
     "data": {
      "image/png": "[encoded data removed]",
      "text/plain": [
       "<Figure size 1200x3720 with 1 Axes>"
      ]
     },
     "metadata": {},
     "output_type": "display_data"
    }
   ],
   "source": [
    "import matplotlib.pyplot as plt\n",
    "import pandas as pd\n",
    "import textwrap\n",
    "\n",
    "# Obtener la importancia de las características\n",
    "importance = lgb_model.feature_importance(importance_type='gain')\n",
    "feature_names = X_train.columns\n",
    "\n",
    "# Crear un DataFrame para mostrar las importancias\n",
    "feature_importance_df = pd.DataFrame({'feature': feature_names, 'importance': importance})\n",
    "\n",
    "# Ordenar el DataFrame por importancia\n",
    "feature_importance_df = feature_importance_df.sort_values(by='importance', ascending=False)\n",
    "\n",
    "# Función para envolver el texto\n",
    "def wrap_labels(label, max_width=20):\n",
    "    return '\\n'.join(textwrap.wrap(label, max_width))\n",
    "\n",
    "# Aplicar la función de envoltura a las etiquetas de características\n",
    "feature_importance_df['wrapped_feature'] = feature_importance_df['feature'].apply(wrap_labels)\n",
    "\n",
    "# Crear la figura y los ejes\n",
    "fig, ax = plt.subplots(figsize=(12, len(feature_importance_df) * 0.4))\n",
    "\n",
    "# Crear el gráfico de barras horizontales\n",
    "bars = ax.barh(feature_importance_df['wrapped_feature'], feature_importance_df['importance'])\n",
    "\n",
    "# Configurar el título y las etiquetas\n",
    "ax.set_title('Importancia de las Características')\n",
    "ax.set_xlabel('Importancia')\n",
    "ax.set_ylabel('Características')\n",
    "\n",
    "# Ajustar el espacio entre las etiquetas del eje y\n",
    "plt.subplots_adjust(left=0.3)\n",
    "\n",
    "# Invertir el orden del eje y para que la característica más importante esté arriba\n",
    "ax.invert_yaxis()\n",
    "\n",
    "# Ajustar los márgenes\n",
    "plt.tight_layout()\n",
    "\n",
    "# Mostrar el gráfico\n",
    "plt.show()"
   ]
  },
  {
   "cell_type": "markdown",
   "metadata": {},
   "source": [
    "## predecir en archivo test.csv"
   ]
  },
  {
   "cell_type": "code",
   "execution_count": 45,
   "metadata": {},
   "outputs": [],
   "source": [
    "df_test = pd.read_csv(PATH_TO_TEST)\n",
    "#df_test\n",
    "\n",
    "#FEATURE ENGINEERING\n",
    "#Nuevas variables \n",
    "\n",
    "dataset=feature_engineering(df_test)\n",
    "\n",
    "#predict\n",
    "df_predict_test=lgb_model.predict(dataset[features]).argmax(axis=1)\n",
    "\n"
   ]
  },
  {
   "cell_type": "code",
   "execution_count": 46,
   "metadata": {},
   "outputs": [
    {
     "data": {
      "text/plain": [
       "4    0.400554\n",
       "2    0.247482\n",
       "1    0.238671\n",
       "3    0.109013\n",
       "0    0.004280\n",
       "dtype: float64"
      ]
     },
     "execution_count": 46,
     "metadata": {},
     "output_type": "execute_result"
    }
   ],
   "source": [
    "pd.Series(df_predict_test).value_counts(normalize=True)"
   ]
  },
  {
   "cell_type": "code",
   "execution_count": 47,
   "metadata": {},
   "outputs": [],
   "source": [
    "#add predict colum to the dataset\n",
    "dataset['AdoptionSpeed'] = df_predict_test"
   ]
  },
  {
   "cell_type": "code",
   "execution_count": 48,
   "metadata": {},
   "outputs": [],
   "source": [
    "#save for kaggle competition   \n",
    "dataset[['PetID', 'AdoptionSpeed']].to_csv('submission.csv', index=False)\n"
   ]
  },
  {
   "cell_type": "markdown",
   "metadata": {},
   "source": [
    "## Modelo con cross validation y conjunto de test"
   ]
  },
  {
   "cell_type": "code",
   "execution_count": 41,
   "metadata": {},
   "outputs": [],
   "source": [
    "#Genero una metrica para que lightGBM haga la evaluación y pueda hacer early_stopping en el cross validation\n",
    "def lgb_custom_metric_kappa(dy_pred, dy_true):\n",
    "    metric_name = 'kappa'\n",
    "    value = cohen_kappa_score(dy_true.get_label(),dy_pred.argmax(axis=1),weights = 'quadratic')\n",
    "    is_higher_better = True\n",
    "    return(metric_name, value, is_higher_better)\n",
    "\n",
    "#Funcion objetivo a optimizar. En este caso vamos a hacer 5fold cv sobre el conjunto de train. \n",
    "# El score de CV es el objetivo a optimizar. Ademas vamos a usar los 5 modelos del CV para estimar el conjunto de test,\n",
    "# registraremos en optuna las predicciones, matriz de confusion y el score en test.\n",
    "# CV Score -> Se usa para determinar el rendimiento de los hiperparametros con precision \n",
    "# Test Score -> Nos permite testear que esta todo OK, no use (ni debo usar) esos datos para nada en el entrenamiento \n",
    "# o la optimizacion de hiperparametros\n",
    "\n",
    "def cv_es_lgb_objective(trial):\n",
    "\n",
    "    #PArametros para LightGBM\n",
    "    lgb_params = {      \n",
    "                        #PArametros fijos\n",
    "                        'objective': 'multiclass',\n",
    "                        'verbosity':-1,\n",
    "                        'num_class': len(y_train.unique()),\n",
    "                        #Hiperparametros a optimizar utilizando suggest_float o suggest_int segun el tipo de dato\n",
    "                        #Se indica el nombre del parametro, valor minimo, valor maximo \n",
    "                        #en elgunos casos el parametro log=True para parametros que requieren buscar en esa escala\n",
    "                        'lambda_l1': trial.suggest_float('lambda_l1', 1e-8, 10.0, log=True),\n",
    "                        'lambda_l2': trial.suggest_float('lambda_l2', 1e-8, 10.0, log=True),\n",
    "                        'num_leaves': trial.suggest_int('num_leaves', 2, 256),\n",
    "                        'feature_fraction': trial.suggest_float('feature_fraction', 0.4, 1.0),\n",
    "                        'bagging_fraction': trial.suggest_float('bagging_fraction', 0.4, 1.0),\n",
    "                        'bagging_freq': trial.suggest_int('bagging_freq', 1, 7),\n",
    "                        'min_child_samples': trial.suggest_int('min_child_samples', 5, 100),\n",
    "                        } \n",
    "\n",
    "    #Voy a generar estimaciones de los 5 modelos del CV sobre los datos test y los acumulo en la matriz scores_ensemble\n",
    "    scores_ensemble = np.zeros((len(y_test),len(y_train.unique())))\n",
    "\n",
    "    #Score del 5 fold CV inicializado en 0\n",
    "    score_folds = 0\n",
    "\n",
    "    #Numero de splits del CV\n",
    "    n_splits = 5\n",
    "\n",
    "    #Objeto para hacer el split estratificado de CV\n",
    "    skf = StratifiedKFold(n_splits=n_splits)\n",
    "\n",
    "    for i, (if_index, oof_index) in enumerate(skf.split(X_train, y_train)):\n",
    "        \n",
    "        #Dataset in fold (donde entreno) \n",
    "        lgb_if_dataset = lgb.Dataset(data=X_train.iloc[if_index],\n",
    "                                        label=y_train.iloc[if_index],\n",
    "                                        free_raw_data=False)\n",
    "        \n",
    "        #Dataset Out of fold (donde mido la performance del CV)\n",
    "        lgb_oof_dataset = lgb.Dataset(data=X_train.iloc[oof_index],\n",
    "                                        label=y_train.iloc[oof_index],\n",
    "                                        free_raw_data=False)\n",
    "\n",
    "        #Entreno el modelo\n",
    "        lgb_model = lgb.train(lgb_params,\n",
    "                                lgb_if_dataset,\n",
    "                                valid_sets=lgb_oof_dataset,\n",
    "                                callbacks=[lgb.early_stopping(10, verbose=False)],\n",
    "                                feval = lgb_custom_metric_kappa\n",
    "                                )\n",
    "        \n",
    "        #Acumulo los scores (probabilidades) de cada clase para cada uno de los modelos que determino en los folds\n",
    "        #Se predice el 20% de los datos que separe para tes y no uso para entrenar en ningun fold\n",
    "        scores_ensemble = scores_ensemble + lgb_model.predict(X_test)\n",
    "        \n",
    "        #Score del fold (registros de dataset train que en este fold quedan out of fold)\n",
    "        score_folds = score_folds + cohen_kappa_score(y_train.iloc[oof_index], \n",
    "                                                            lgb_model.predict(X_train.iloc[oof_index]).argmax(axis=1),weights = 'quadratic')/n_splits\n",
    "\n",
    "\n",
    "    #Guardo prediccion del trial sobre el conjunto de test\n",
    "    # Genero nombre de archivo\n",
    "    predicted_filename = os.path.join(PATH_TO_TEMP_FILES,f'test_{trial.study.study_name}_{trial.number}.joblib')\n",
    "    # Copia del dataset para guardar la prediccion\n",
    "    predicted_df = test.copy()\n",
    "    # Genero columna pred con predicciones sumadas de los 5 folds\n",
    "    predicted_df['pred'] = [scores_ensemble[p,:] for p in range(scores_ensemble.shape[0])]\n",
    "    # Grabo dataframe en temp_artifacts\n",
    "    dump(predicted_df, predicted_filename)\n",
    "    # Indico a optuna que asocie el archivo generado al trial\n",
    "    upload_artifact(trial, predicted_filename, artifact_store)    \n",
    "\n",
    "    #Grabo natriz de confusion\n",
    "    #Nombre de archivo\n",
    "    cm_filename = os.path.join(PATH_TO_TEMP_FILES,f'cm_{trial.study.study_name}_{trial.number}.jpg')\n",
    "    #Grabo archivo\n",
    "    plot_confusion_matrix(y_test,scores_ensemble.argmax(axis=1)).write_image(cm_filename)\n",
    "    #Asocio al trial\n",
    "    upload_artifact(trial, cm_filename, artifact_store)\n",
    "\n",
    "    #Determino score en conjunto de test y asocio como metrica adicional en optuna\n",
    "    test_score = cohen_kappa_score(y_test,scores_ensemble.argmax(axis=1),weights = 'quadratic')\n",
    "    trial.set_user_attr(\"test_score\", test_score)\n",
    "\n",
    "    #Devuelvo score del 5fold cv a optuna para que optimice en base a eso\n",
    "    return(score_folds)"
   ]
  },
  {
   "cell_type": "code",
   "execution_count": 42,
   "metadata": {},
   "outputs": [
    {
     "name": "stderr",
     "output_type": "stream",
     "text": [
      "<ipython-input-42-3ba8469af45f>:2: ExperimentalWarning:\n",
      "\n",
      "FileSystemArtifactStore is experimental (supported from v3.3.0). The interface can change in the future.\n",
      "\n",
      "[I 2024-09-14 12:14:58,409] Using an existing study with name '04 - LGB Multiclass CV' instead of creating a new one.\n",
      "<ipython-input-41-1c6539846d38>:86: ExperimentalWarning:\n",
      "\n",
      "upload_artifact is experimental (supported from v3.3.0). The interface can change in the future.\n",
      "\n",
      "<ipython-input-41-1c6539846d38>:94: ExperimentalWarning:\n",
      "\n",
      "upload_artifact is experimental (supported from v3.3.0). The interface can change in the future.\n",
      "\n",
      "[I 2024-09-14 12:15:22,817] Trial 671 finished with value: 0.37184665533691497 and parameters: {'lambda_l1': 0.5388084648637167, 'lambda_l2': 1.2860602375541024, 'num_leaves': 6, 'feature_fraction': 0.41325944952074783, 'bagging_fraction': 0.43724914537542203, 'bagging_freq': 1, 'min_child_samples': 26}. Best is trial 45 with value: 1.0.\n",
      "<ipython-input-41-1c6539846d38>:86: ExperimentalWarning:\n",
      "\n",
      "upload_artifact is experimental (supported from v3.3.0). The interface can change in the future.\n",
      "\n",
      "<ipython-input-41-1c6539846d38>:94: ExperimentalWarning:\n",
      "\n",
      "upload_artifact is experimental (supported from v3.3.0). The interface can change in the future.\n",
      "\n",
      "[I 2024-09-14 12:15:44,437] Trial 672 finished with value: 0.37944240224134085 and parameters: {'lambda_l1': 0.1041542763394242, 'lambda_l2': 9.89000085254391, 'num_leaves': 36, 'feature_fraction': 0.5388438057950949, 'bagging_fraction': 0.5170858244980071, 'bagging_freq': 4, 'min_child_samples': 20}. Best is trial 45 with value: 1.0.\n",
      "<ipython-input-41-1c6539846d38>:86: ExperimentalWarning:\n",
      "\n",
      "upload_artifact is experimental (supported from v3.3.0). The interface can change in the future.\n",
      "\n",
      "<ipython-input-41-1c6539846d38>:94: ExperimentalWarning:\n",
      "\n",
      "upload_artifact is experimental (supported from v3.3.0). The interface can change in the future.\n",
      "\n",
      "[I 2024-09-14 12:16:00,755] Trial 673 finished with value: 0.370011497324414 and parameters: {'lambda_l1': 1.2574944107966286, 'lambda_l2': 0.25715177193853467, 'num_leaves': 23, 'feature_fraction': 0.49985578900092725, 'bagging_fraction': 0.4826146292200366, 'bagging_freq': 2, 'min_child_samples': 42}. Best is trial 45 with value: 1.0.\n",
      "<ipython-input-41-1c6539846d38>:86: ExperimentalWarning:\n",
      "\n",
      "upload_artifact is experimental (supported from v3.3.0). The interface can change in the future.\n",
      "\n",
      "<ipython-input-41-1c6539846d38>:94: ExperimentalWarning:\n",
      "\n",
      "upload_artifact is experimental (supported from v3.3.0). The interface can change in the future.\n",
      "\n",
      "[I 2024-09-14 12:16:12,945] Trial 674 finished with value: 0.3706921114484172 and parameters: {'lambda_l1': 0.21873260667972091, 'lambda_l2': 0.7556178293371519, 'num_leaves': 30, 'feature_fraction': 0.44636096624849814, 'bagging_fraction': 0.5050228955067734, 'bagging_freq': 1, 'min_child_samples': 23}. Best is trial 45 with value: 1.0.\n",
      "<ipython-input-41-1c6539846d38>:86: ExperimentalWarning:\n",
      "\n",
      "upload_artifact is experimental (supported from v3.3.0). The interface can change in the future.\n",
      "\n",
      "<ipython-input-41-1c6539846d38>:94: ExperimentalWarning:\n",
      "\n",
      "upload_artifact is experimental (supported from v3.3.0). The interface can change in the future.\n",
      "\n",
      "[I 2024-09-14 12:16:21,799] Trial 675 finished with value: 0.36603200818908627 and parameters: {'lambda_l1': 1.8714460907521338, 'lambda_l2': 4.029127984330919, 'num_leaves': 19, 'feature_fraction': 0.6277217942990468, 'bagging_fraction': 0.5458467707652714, 'bagging_freq': 1, 'min_child_samples': 18}. Best is trial 45 with value: 1.0.\n",
      "<ipython-input-41-1c6539846d38>:86: ExperimentalWarning:\n",
      "\n",
      "upload_artifact is experimental (supported from v3.3.0). The interface can change in the future.\n",
      "\n",
      "<ipython-input-41-1c6539846d38>:94: ExperimentalWarning:\n",
      "\n",
      "upload_artifact is experimental (supported from v3.3.0). The interface can change in the future.\n",
      "\n",
      "[I 2024-09-14 12:16:31,826] Trial 676 finished with value: 0.37029558075776164 and parameters: {'lambda_l1': 0.8729211988116184, 'lambda_l2': 2.136927202672512, 'num_leaves': 11, 'feature_fraction': 0.5720101075984878, 'bagging_fraction': 0.4608640631718933, 'bagging_freq': 1, 'min_child_samples': 30}. Best is trial 45 with value: 1.0.\n",
      "<ipython-input-41-1c6539846d38>:86: ExperimentalWarning:\n",
      "\n",
      "upload_artifact is experimental (supported from v3.3.0). The interface can change in the future.\n",
      "\n",
      "<ipython-input-41-1c6539846d38>:94: ExperimentalWarning:\n",
      "\n",
      "upload_artifact is experimental (supported from v3.3.0). The interface can change in the future.\n",
      "\n",
      "[I 2024-09-14 12:16:41,553] Trial 677 finished with value: 0.3728987634656271 and parameters: {'lambda_l1': 1.5612341071558955e-05, 'lambda_l2': 5.585567663325325, 'num_leaves': 27, 'feature_fraction': 0.5138448061555233, 'bagging_fraction': 0.41807459126565066, 'bagging_freq': 2, 'min_child_samples': 12}. Best is trial 45 with value: 1.0.\n",
      "<ipython-input-41-1c6539846d38>:86: ExperimentalWarning:\n",
      "\n",
      "upload_artifact is experimental (supported from v3.3.0). The interface can change in the future.\n",
      "\n",
      "<ipython-input-41-1c6539846d38>:94: ExperimentalWarning:\n",
      "\n",
      "upload_artifact is experimental (supported from v3.3.0). The interface can change in the future.\n",
      "\n",
      "[I 2024-09-14 12:16:53,043] Trial 678 finished with value: 0.37361644070059935 and parameters: {'lambda_l1': 0.4616418232398271, 'lambda_l2': 9.945118341492808, 'num_leaves': 16, 'feature_fraction': 0.5296279065159489, 'bagging_fraction': 0.49506252769974046, 'bagging_freq': 1, 'min_child_samples': 62}. Best is trial 45 with value: 1.0.\n",
      "<ipython-input-41-1c6539846d38>:86: ExperimentalWarning:\n",
      "\n",
      "upload_artifact is experimental (supported from v3.3.0). The interface can change in the future.\n",
      "\n",
      "<ipython-input-41-1c6539846d38>:94: ExperimentalWarning:\n",
      "\n",
      "upload_artifact is experimental (supported from v3.3.0). The interface can change in the future.\n",
      "\n",
      "[I 2024-09-14 12:17:06,217] Trial 679 finished with value: 0.3740204260555109 and parameters: {'lambda_l1': 0.04110628770542293, 'lambda_l2': 1.610169979933303, 'num_leaves': 22, 'feature_fraction': 0.6472234480647029, 'bagging_fraction': 0.4508174024099707, 'bagging_freq': 2, 'min_child_samples': 21}. Best is trial 45 with value: 1.0.\n",
      "<ipython-input-41-1c6539846d38>:86: ExperimentalWarning:\n",
      "\n",
      "upload_artifact is experimental (supported from v3.3.0). The interface can change in the future.\n",
      "\n",
      "<ipython-input-41-1c6539846d38>:94: ExperimentalWarning:\n",
      "\n",
      "upload_artifact is experimental (supported from v3.3.0). The interface can change in the future.\n",
      "\n",
      "[I 2024-09-14 12:17:15,953] Trial 680 finished with value: 0.3743981793283867 and parameters: {'lambda_l1': 4.241751006466162, 'lambda_l2': 0.5744672477601354, 'num_leaves': 33, 'feature_fraction': 0.4862526556679877, 'bagging_fraction': 0.4694139774787128, 'bagging_freq': 1, 'min_child_samples': 16}. Best is trial 45 with value: 1.0.\n",
      "<ipython-input-41-1c6539846d38>:86: ExperimentalWarning:\n",
      "\n",
      "upload_artifact is experimental (supported from v3.3.0). The interface can change in the future.\n",
      "\n",
      "<ipython-input-41-1c6539846d38>:94: ExperimentalWarning:\n",
      "\n",
      "upload_artifact is experimental (supported from v3.3.0). The interface can change in the future.\n",
      "\n",
      "[I 2024-09-14 12:17:23,104] Trial 681 finished with value: 0.3538534576114616 and parameters: {'lambda_l1': 9.897817183335784, 'lambda_l2': 3.259318884768476, 'num_leaves': 8, 'feature_fraction': 0.7846702465805349, 'bagging_fraction': 0.4829416370965596, 'bagging_freq': 2, 'min_child_samples': 27}. Best is trial 45 with value: 1.0.\n",
      "<ipython-input-41-1c6539846d38>:86: ExperimentalWarning:\n",
      "\n",
      "upload_artifact is experimental (supported from v3.3.0). The interface can change in the future.\n",
      "\n",
      "<ipython-input-41-1c6539846d38>:94: ExperimentalWarning:\n",
      "\n",
      "upload_artifact is experimental (supported from v3.3.0). The interface can change in the future.\n",
      "\n",
      "[I 2024-09-14 12:17:33,005] Trial 682 finished with value: 0.378990016724862 and parameters: {'lambda_l1': 0.006872439842206118, 'lambda_l2': 6.223523306469346, 'num_leaves': 39, 'feature_fraction': 0.46708402663109, 'bagging_fraction': 0.5091219663658567, 'bagging_freq': 1, 'min_child_samples': 35}. Best is trial 45 with value: 1.0.\n",
      "<ipython-input-41-1c6539846d38>:86: ExperimentalWarning:\n",
      "\n",
      "upload_artifact is experimental (supported from v3.3.0). The interface can change in the future.\n",
      "\n",
      "<ipython-input-41-1c6539846d38>:94: ExperimentalWarning:\n",
      "\n",
      "upload_artifact is experimental (supported from v3.3.0). The interface can change in the future.\n",
      "\n",
      "[I 2024-09-14 12:17:45,537] Trial 683 finished with value: 0.36689076553549826 and parameters: {'lambda_l1': 0.0013580725374938581, 'lambda_l2': 2.563698207107245, 'num_leaves': 27, 'feature_fraction': 0.5085968047004129, 'bagging_fraction': 0.4341068344247367, 'bagging_freq': 2, 'min_child_samples': 25}. Best is trial 45 with value: 1.0.\n",
      "<ipython-input-41-1c6539846d38>:86: ExperimentalWarning:\n",
      "\n",
      "upload_artifact is experimental (supported from v3.3.0). The interface can change in the future.\n",
      "\n",
      "<ipython-input-41-1c6539846d38>:94: ExperimentalWarning:\n",
      "\n",
      "upload_artifact is experimental (supported from v3.3.0). The interface can change in the future.\n",
      "\n",
      "[I 2024-09-14 12:18:08,852] Trial 684 finished with value: 0.30678753028572814 and parameters: {'lambda_l1': 0.6407630206619745, 'lambda_l2': 4.228761834703414, 'num_leaves': 2, 'feature_fraction': 0.5515597651436844, 'bagging_fraction': 0.5354147459545924, 'bagging_freq': 5, 'min_child_samples': 7}. Best is trial 45 with value: 1.0.\n",
      "<ipython-input-41-1c6539846d38>:86: ExperimentalWarning:\n",
      "\n",
      "upload_artifact is experimental (supported from v3.3.0). The interface can change in the future.\n",
      "\n",
      "<ipython-input-41-1c6539846d38>:94: ExperimentalWarning:\n",
      "\n",
      "upload_artifact is experimental (supported from v3.3.0). The interface can change in the future.\n",
      "\n",
      "[I 2024-09-14 12:18:22,355] Trial 685 finished with value: 0.37706969230087484 and parameters: {'lambda_l1': 0.3261507336045377, 'lambda_l2': 6.358581322446577, 'num_leaves': 15, 'feature_fraction': 0.528896459751159, 'bagging_fraction': 0.5231434406773876, 'bagging_freq': 1, 'min_child_samples': 78}. Best is trial 45 with value: 1.0.\n",
      "<ipython-input-41-1c6539846d38>:86: ExperimentalWarning:\n",
      "\n",
      "upload_artifact is experimental (supported from v3.3.0). The interface can change in the future.\n",
      "\n",
      "<ipython-input-41-1c6539846d38>:94: ExperimentalWarning:\n",
      "\n",
      "upload_artifact is experimental (supported from v3.3.0). The interface can change in the future.\n",
      "\n",
      "[I 2024-09-14 12:18:32,733] Trial 686 finished with value: 0.37958458891393887 and parameters: {'lambda_l1': 0.08461112662209991, 'lambda_l2': 1.1007666693721299, 'num_leaves': 20, 'feature_fraction': 0.47665356954362603, 'bagging_fraction': 0.5626278984304268, 'bagging_freq': 1, 'min_child_samples': 10}. Best is trial 45 with value: 1.0.\n",
      "<ipython-input-41-1c6539846d38>:86: ExperimentalWarning:\n",
      "\n",
      "upload_artifact is experimental (supported from v3.3.0). The interface can change in the future.\n",
      "\n",
      "<ipython-input-41-1c6539846d38>:94: ExperimentalWarning:\n",
      "\n",
      "upload_artifact is experimental (supported from v3.3.0). The interface can change in the future.\n",
      "\n",
      "[I 2024-09-14 12:19:03,569] Trial 687 finished with value: 0.3658742278043944 and parameters: {'lambda_l1': 0.16083087193250217, 'lambda_l2': 2.1017055447089215, 'num_leaves': 53, 'feature_fraction': 0.4580584375859023, 'bagging_fraction': 0.49805393725728647, 'bagging_freq': 2, 'min_child_samples': 97}. Best is trial 45 with value: 1.0.\n",
      "<ipython-input-41-1c6539846d38>:86: ExperimentalWarning:\n",
      "\n",
      "upload_artifact is experimental (supported from v3.3.0). The interface can change in the future.\n",
      "\n",
      "<ipython-input-41-1c6539846d38>:94: ExperimentalWarning:\n",
      "\n",
      "upload_artifact is experimental (supported from v3.3.0). The interface can change in the future.\n",
      "\n",
      "[I 2024-09-14 12:19:24,644] Trial 688 finished with value: 0.37335172373006176 and parameters: {'lambda_l1': 0.06270609505669851, 'lambda_l2': 4.462482642742153, 'num_leaves': 130, 'feature_fraction': 0.8663881798191213, 'bagging_fraction': 0.4580761317057502, 'bagging_freq': 3, 'min_child_samples': 19}. Best is trial 45 with value: 1.0.\n",
      "<ipython-input-41-1c6539846d38>:86: ExperimentalWarning:\n",
      "\n",
      "upload_artifact is experimental (supported from v3.3.0). The interface can change in the future.\n",
      "\n",
      "<ipython-input-41-1c6539846d38>:94: ExperimentalWarning:\n",
      "\n",
      "upload_artifact is experimental (supported from v3.3.0). The interface can change in the future.\n",
      "\n",
      "[I 2024-09-14 12:19:35,733] Trial 689 finished with value: 0.37811113973432153 and parameters: {'lambda_l1': 1.238652844209064, 'lambda_l2': 6.74373335718465, 'num_leaves': 23, 'feature_fraction': 0.44128470543799597, 'bagging_fraction': 0.44700196965318467, 'bagging_freq': 1, 'min_child_samples': 31}. Best is trial 45 with value: 1.0.\n",
      "<ipython-input-41-1c6539846d38>:86: ExperimentalWarning:\n",
      "\n",
      "upload_artifact is experimental (supported from v3.3.0). The interface can change in the future.\n",
      "\n",
      "<ipython-input-41-1c6539846d38>:94: ExperimentalWarning:\n",
      "\n",
      "upload_artifact is experimental (supported from v3.3.0). The interface can change in the future.\n",
      "\n",
      "[I 2024-09-14 12:19:43,673] Trial 690 finished with value: 0.3704213089579743 and parameters: {'lambda_l1': 0.47565147571841937, 'lambda_l2': 3.6844139456558587, 'num_leaves': 13, 'feature_fraction': 0.6886520036776705, 'bagging_fraction': 0.40933279546979007, 'bagging_freq': 6, 'min_child_samples': 22}. Best is trial 45 with value: 1.0.\n",
      "<ipython-input-41-1c6539846d38>:86: ExperimentalWarning:\n",
      "\n",
      "upload_artifact is experimental (supported from v3.3.0). The interface can change in the future.\n",
      "\n",
      "<ipython-input-41-1c6539846d38>:94: ExperimentalWarning:\n",
      "\n",
      "upload_artifact is experimental (supported from v3.3.0). The interface can change in the future.\n",
      "\n",
      "[I 2024-09-14 12:19:55,509] Trial 691 finished with value: 0.3766327915152795 and parameters: {'lambda_l1': 2.6820411690788957, 'lambda_l2': 1.7454366297022785, 'num_leaves': 28, 'feature_fraction': 0.9568494352541717, 'bagging_fraction': 0.47819859635727213, 'bagging_freq': 1, 'min_child_samples': 14}. Best is trial 45 with value: 1.0.\n",
      "<ipython-input-41-1c6539846d38>:86: ExperimentalWarning:\n",
      "\n",
      "upload_artifact is experimental (supported from v3.3.0). The interface can change in the future.\n",
      "\n",
      "<ipython-input-41-1c6539846d38>:94: ExperimentalWarning:\n",
      "\n",
      "upload_artifact is experimental (supported from v3.3.0). The interface can change in the future.\n",
      "\n",
      "[I 2024-09-14 12:20:05,122] Trial 692 finished with value: 0.37519227104269914 and parameters: {'lambda_l1': 0.21019336887175213, 'lambda_l2': 1.9807164510688994e-08, 'num_leaves': 19, 'feature_fraction': 0.49631234537761953, 'bagging_fraction': 0.5518124579825183, 'bagging_freq': 2, 'min_child_samples': 28}. Best is trial 45 with value: 1.0.\n",
      "<ipython-input-41-1c6539846d38>:86: ExperimentalWarning:\n",
      "\n",
      "upload_artifact is experimental (supported from v3.3.0). The interface can change in the future.\n",
      "\n",
      "<ipython-input-41-1c6539846d38>:94: ExperimentalWarning:\n",
      "\n",
      "upload_artifact is experimental (supported from v3.3.0). The interface can change in the future.\n",
      "\n",
      "[I 2024-09-14 12:20:20,110] Trial 693 finished with value: 0.3712701565906339 and parameters: {'lambda_l1': 5.55996099037297, 'lambda_l2': 6.8714086224787545, 'num_leaves': 33, 'feature_fraction': 0.6002941270332512, 'bagging_fraction': 0.46549455024489295, 'bagging_freq': 1, 'min_child_samples': 9}. Best is trial 45 with value: 1.0.\n",
      "<ipython-input-41-1c6539846d38>:86: ExperimentalWarning:\n",
      "\n",
      "upload_artifact is experimental (supported from v3.3.0). The interface can change in the future.\n",
      "\n",
      "<ipython-input-41-1c6539846d38>:94: ExperimentalWarning:\n",
      "\n",
      "upload_artifact is experimental (supported from v3.3.0). The interface can change in the future.\n",
      "\n",
      "[I 2024-09-14 12:20:36,442] Trial 694 finished with value: 0.37742723146852464 and parameters: {'lambda_l1': 0.12384597983479692, 'lambda_l2': 0.37516016919873796, 'num_leaves': 42, 'feature_fraction': 0.5139802132152741, 'bagging_fraction': 0.516223285115676, 'bagging_freq': 2, 'min_child_samples': 24}. Best is trial 45 with value: 1.0.\n",
      "<ipython-input-41-1c6539846d38>:86: ExperimentalWarning:\n",
      "\n",
      "upload_artifact is experimental (supported from v3.3.0). The interface can change in the future.\n",
      "\n",
      "<ipython-input-41-1c6539846d38>:94: ExperimentalWarning:\n",
      "\n",
      "upload_artifact is experimental (supported from v3.3.0). The interface can change in the future.\n",
      "\n",
      "[I 2024-09-14 12:20:49,336] Trial 695 finished with value: 0.366681316901774 and parameters: {'lambda_l1': 0.7512502264876374, 'lambda_l2': 0.0002009717685668321, 'num_leaves': 9, 'feature_fraction': 0.5480944831593951, 'bagging_fraction': 0.4359443391006309, 'bagging_freq': 1, 'min_child_samples': 33}. Best is trial 45 with value: 1.0.\n",
      "<ipython-input-41-1c6539846d38>:86: ExperimentalWarning:\n",
      "\n",
      "upload_artifact is experimental (supported from v3.3.0). The interface can change in the future.\n",
      "\n",
      "<ipython-input-41-1c6539846d38>:94: ExperimentalWarning:\n",
      "\n",
      "upload_artifact is experimental (supported from v3.3.0). The interface can change in the future.\n",
      "\n",
      "[I 2024-09-14 12:21:00,198] Trial 696 finished with value: 0.3709976109540036 and parameters: {'lambda_l1': 0.2979776035458832, 'lambda_l2': 2.8186037474932903, 'num_leaves': 24, 'feature_fraction': 0.4338689506897002, 'bagging_fraction': 0.5011007750284795, 'bagging_freq': 2, 'min_child_samples': 12}. Best is trial 45 with value: 1.0.\n",
      "<ipython-input-41-1c6539846d38>:86: ExperimentalWarning:\n",
      "\n",
      "upload_artifact is experimental (supported from v3.3.0). The interface can change in the future.\n",
      "\n",
      "<ipython-input-41-1c6539846d38>:94: ExperimentalWarning:\n",
      "\n",
      "upload_artifact is experimental (supported from v3.3.0). The interface can change in the future.\n",
      "\n",
      "[I 2024-09-14 12:21:13,362] Trial 697 finished with value: 0.37494537267471545 and parameters: {'lambda_l1': 1.0345306929342253, 'lambda_l2': 0.8625134305841368, 'num_leaves': 15, 'feature_fraction': 0.5368326475874929, 'bagging_fraction': 0.48816463575537605, 'bagging_freq': 1, 'min_child_samples': 16}. Best is trial 45 with value: 1.0.\n",
      "<ipython-input-41-1c6539846d38>:86: ExperimentalWarning:\n",
      "\n",
      "upload_artifact is experimental (supported from v3.3.0). The interface can change in the future.\n",
      "\n",
      "<ipython-input-41-1c6539846d38>:94: ExperimentalWarning:\n",
      "\n",
      "upload_artifact is experimental (supported from v3.3.0). The interface can change in the future.\n",
      "\n",
      "[I 2024-09-14 12:21:24,953] Trial 698 finished with value: 0.3744663614945527 and parameters: {'lambda_l1': 0.030254270543282478, 'lambda_l2': 0.006763068960475917, 'num_leaves': 30, 'feature_fraction': 0.5620977786207645, 'bagging_fraction': 0.4211228059542813, 'bagging_freq': 1, 'min_child_samples': 19}. Best is trial 45 with value: 1.0.\n",
      "<ipython-input-41-1c6539846d38>:86: ExperimentalWarning:\n",
      "\n",
      "upload_artifact is experimental (supported from v3.3.0). The interface can change in the future.\n",
      "\n",
      "<ipython-input-41-1c6539846d38>:94: ExperimentalWarning:\n",
      "\n",
      "upload_artifact is experimental (supported from v3.3.0). The interface can change in the future.\n",
      "\n",
      "[I 2024-09-14 12:21:34,149] Trial 699 finished with value: 0.3639734023005613 and parameters: {'lambda_l1': 0.4091658441995381, 'lambda_l2': 9.752873073852035, 'num_leaves': 37, 'feature_fraction': 0.42135242265798983, 'bagging_fraction': 0.47241688423821987, 'bagging_freq': 2, 'min_child_samples': 21}. Best is trial 45 with value: 1.0.\n",
      "<ipython-input-41-1c6539846d38>:86: ExperimentalWarning:\n",
      "\n",
      "upload_artifact is experimental (supported from v3.3.0). The interface can change in the future.\n",
      "\n",
      "<ipython-input-41-1c6539846d38>:94: ExperimentalWarning:\n",
      "\n",
      "upload_artifact is experimental (supported from v3.3.0). The interface can change in the future.\n",
      "\n",
      "[I 2024-09-14 12:21:43,616] Trial 700 finished with value: 0.36686054031911264 and parameters: {'lambda_l1': 1.8591222742870623, 'lambda_l2': 9.968411670725072, 'num_leaves': 19, 'feature_fraction': 0.5207737713302628, 'bagging_fraction': 0.5866037887920188, 'bagging_freq': 1, 'min_child_samples': 26}. Best is trial 45 with value: 1.0.\n",
      "<ipython-input-41-1c6539846d38>:86: ExperimentalWarning:\n",
      "\n",
      "upload_artifact is experimental (supported from v3.3.0). The interface can change in the future.\n",
      "\n",
      "<ipython-input-41-1c6539846d38>:94: ExperimentalWarning:\n",
      "\n",
      "upload_artifact is experimental (supported from v3.3.0). The interface can change in the future.\n",
      "\n",
      "[I 2024-09-14 12:21:55,054] Trial 701 finished with value: 0.3682922350460882 and parameters: {'lambda_l1': 0.07444026505566008, 'lambda_l2': 4.476628434511698, 'num_leaves': 11, 'feature_fraction': 0.4922533200634301, 'bagging_fraction': 0.4539616161005002, 'bagging_freq': 1, 'min_child_samples': 29}. Best is trial 45 with value: 1.0.\n",
      "<ipython-input-41-1c6539846d38>:86: ExperimentalWarning:\n",
      "\n",
      "upload_artifact is experimental (supported from v3.3.0). The interface can change in the future.\n",
      "\n",
      "<ipython-input-41-1c6539846d38>:94: ExperimentalWarning:\n",
      "\n",
      "upload_artifact is experimental (supported from v3.3.0). The interface can change in the future.\n",
      "\n",
      "[I 2024-09-14 12:22:05,572] Trial 702 finished with value: 0.3696467025153337 and parameters: {'lambda_l1': 4.095703368062076, 'lambda_l2': 1.4082607226294706, 'num_leaves': 25, 'feature_fraction': 0.4756108208574146, 'bagging_fraction': 0.443069459406884, 'bagging_freq': 2, 'min_child_samples': 8}. Best is trial 45 with value: 1.0.\n",
      "<ipython-input-41-1c6539846d38>:86: ExperimentalWarning:\n",
      "\n",
      "upload_artifact is experimental (supported from v3.3.0). The interface can change in the future.\n",
      "\n",
      "<ipython-input-41-1c6539846d38>:94: ExperimentalWarning:\n",
      "\n",
      "upload_artifact is experimental (supported from v3.3.0). The interface can change in the future.\n",
      "\n",
      "[I 2024-09-14 12:22:18,081] Trial 703 finished with value: 0.3766521062430287 and parameters: {'lambda_l1': 0.22097617040267417, 'lambda_l2': 2.8073749700653288, 'num_leaves': 18, 'feature_fraction': 0.46177220144643505, 'bagging_fraction': 0.5255539678805433, 'bagging_freq': 1, 'min_child_samples': 38}. Best is trial 45 with value: 1.0.\n",
      "<ipython-input-41-1c6539846d38>:86: ExperimentalWarning:\n",
      "\n",
      "upload_artifact is experimental (supported from v3.3.0). The interface can change in the future.\n",
      "\n",
      "<ipython-input-41-1c6539846d38>:94: ExperimentalWarning:\n",
      "\n",
      "upload_artifact is experimental (supported from v3.3.0). The interface can change in the future.\n",
      "\n",
      "[I 2024-09-14 12:22:33,579] Trial 704 finished with value: 0.37488031515948805 and parameters: {'lambda_l1': 0.6179208067819627, 'lambda_l2': 5.110245731800951, 'num_leaves': 29, 'feature_fraction': 0.5052453997828961, 'bagging_fraction': 0.5428290137169265, 'bagging_freq': 2, 'min_child_samples': 23}. Best is trial 45 with value: 1.0.\n",
      "<ipython-input-41-1c6539846d38>:86: ExperimentalWarning:\n",
      "\n",
      "upload_artifact is experimental (supported from v3.3.0). The interface can change in the future.\n",
      "\n",
      "<ipython-input-41-1c6539846d38>:94: ExperimentalWarning:\n",
      "\n",
      "upload_artifact is experimental (supported from v3.3.0). The interface can change in the future.\n",
      "\n",
      "[I 2024-09-14 12:22:42,982] Trial 705 finished with value: 0.35745231042126063 and parameters: {'lambda_l1': 0.11406305841871187, 'lambda_l2': 3.500919926610116e-05, 'num_leaves': 6, 'feature_fraction': 0.8020856026251988, 'bagging_fraction': 0.5087878224890429, 'bagging_freq': 3, 'min_child_samples': 13}. Best is trial 45 with value: 1.0.\n",
      "<ipython-input-41-1c6539846d38>:86: ExperimentalWarning:\n",
      "\n",
      "upload_artifact is experimental (supported from v3.3.0). The interface can change in the future.\n",
      "\n",
      "<ipython-input-41-1c6539846d38>:94: ExperimentalWarning:\n",
      "\n",
      "upload_artifact is experimental (supported from v3.3.0). The interface can change in the future.\n",
      "\n",
      "[I 2024-09-14 12:22:52,865] Trial 706 finished with value: 0.3770130814739661 and parameters: {'lambda_l1': 0.3947904377446709, 'lambda_l2': 2.1714668796114998, 'num_leaves': 23, 'feature_fraction': 0.586406921831872, 'bagging_fraction': 0.4865228886231513, 'bagging_freq': 4, 'min_child_samples': 17}. Best is trial 45 with value: 1.0.\n",
      "<ipython-input-41-1c6539846d38>:86: ExperimentalWarning:\n",
      "\n",
      "upload_artifact is experimental (supported from v3.3.0). The interface can change in the future.\n",
      "\n",
      "<ipython-input-41-1c6539846d38>:94: ExperimentalWarning:\n",
      "\n",
      "upload_artifact is experimental (supported from v3.3.0). The interface can change in the future.\n",
      "\n",
      "[I 2024-09-14 12:23:03,252] Trial 707 finished with value: 0.3734332933250608 and parameters: {'lambda_l1': 0.17039574793190243, 'lambda_l2': 0.5819395584096009, 'num_leaves': 57, 'feature_fraction': 0.5245956095997443, 'bagging_fraction': 0.4643194392995362, 'bagging_freq': 7, 'min_child_samples': 11}. Best is trial 45 with value: 1.0.\n",
      "<ipython-input-41-1c6539846d38>:86: ExperimentalWarning:\n",
      "\n",
      "upload_artifact is experimental (supported from v3.3.0). The interface can change in the future.\n",
      "\n",
      "<ipython-input-41-1c6539846d38>:94: ExperimentalWarning:\n",
      "\n",
      "upload_artifact is experimental (supported from v3.3.0). The interface can change in the future.\n",
      "\n",
      "[I 2024-09-14 12:23:14,544] Trial 708 finished with value: 0.36935832266471624 and parameters: {'lambda_l1': 6.840544317073392, 'lambda_l2': 9.405725055917079e-06, 'num_leaves': 47, 'feature_fraction': 0.450323929197474, 'bagging_fraction': 0.4950924442869415, 'bagging_freq': 1, 'min_child_samples': 15}. Best is trial 45 with value: 1.0.\n",
      "<ipython-input-41-1c6539846d38>:86: ExperimentalWarning:\n",
      "\n",
      "upload_artifact is experimental (supported from v3.3.0). The interface can change in the future.\n",
      "\n",
      "<ipython-input-41-1c6539846d38>:94: ExperimentalWarning:\n",
      "\n",
      "upload_artifact is experimental (supported from v3.3.0). The interface can change in the future.\n",
      "\n",
      "[I 2024-09-14 12:23:22,933] Trial 709 finished with value: 0.3700433552738892 and parameters: {'lambda_l1': 0.9953189954771098, 'lambda_l2': 6.773410084534689, 'num_leaves': 35, 'feature_fraction': 0.573975895947927, 'bagging_fraction': 0.5294741200672222, 'bagging_freq': 2, 'min_child_samples': 25}. Best is trial 45 with value: 1.0.\n",
      "<ipython-input-41-1c6539846d38>:86: ExperimentalWarning:\n",
      "\n",
      "upload_artifact is experimental (supported from v3.3.0). The interface can change in the future.\n",
      "\n",
      "<ipython-input-41-1c6539846d38>:94: ExperimentalWarning:\n",
      "\n",
      "upload_artifact is experimental (supported from v3.3.0). The interface can change in the future.\n",
      "\n",
      "[I 2024-09-14 12:23:31,295] Trial 710 finished with value: 0.363483843864714 and parameters: {'lambda_l1': 0.2614339686129634, 'lambda_l2': 3.6030793961075283, 'num_leaves': 13, 'feature_fraction': 0.5004596602921643, 'bagging_fraction': 0.42764924967317336, 'bagging_freq': 1, 'min_child_samples': 35}. Best is trial 45 with value: 1.0.\n",
      "<ipython-input-41-1c6539846d38>:86: ExperimentalWarning:\n",
      "\n",
      "upload_artifact is experimental (supported from v3.3.0). The interface can change in the future.\n",
      "\n",
      "<ipython-input-41-1c6539846d38>:94: ExperimentalWarning:\n",
      "\n",
      "upload_artifact is experimental (supported from v3.3.0). The interface can change in the future.\n",
      "\n",
      "[I 2024-09-14 12:23:41,440] Trial 711 finished with value: 0.3798504756455305 and parameters: {'lambda_l1': 0.6164862631277482, 'lambda_l2': 1.2661157408072987, 'num_leaves': 20, 'feature_fraction': 0.5339676374977952, 'bagging_fraction': 0.47435072250661187, 'bagging_freq': 1, 'min_child_samples': 20}. Best is trial 45 with value: 1.0.\n",
      "<ipython-input-41-1c6539846d38>:86: ExperimentalWarning:\n",
      "\n",
      "upload_artifact is experimental (supported from v3.3.0). The interface can change in the future.\n",
      "\n",
      "<ipython-input-41-1c6539846d38>:94: ExperimentalWarning:\n",
      "\n",
      "upload_artifact is experimental (supported from v3.3.0). The interface can change in the future.\n",
      "\n",
      "[I 2024-09-14 12:23:51,281] Trial 712 finished with value: 0.36841631351508375 and parameters: {'lambda_l1': 2.727365801654113, 'lambda_l2': 5.115097423358315, 'num_leaves': 26, 'feature_fraction': 0.4865419456129514, 'bagging_fraction': 0.40057968697442053, 'bagging_freq': 2, 'min_child_samples': 32}. Best is trial 45 with value: 1.0.\n",
      "<ipython-input-41-1c6539846d38>:86: ExperimentalWarning:\n",
      "\n",
      "upload_artifact is experimental (supported from v3.3.0). The interface can change in the future.\n",
      "\n",
      "<ipython-input-41-1c6539846d38>:94: ExperimentalWarning:\n",
      "\n",
      "upload_artifact is experimental (supported from v3.3.0). The interface can change in the future.\n",
      "\n",
      "[I 2024-09-14 12:24:01,434] Trial 713 finished with value: 0.3695811609876945 and parameters: {'lambda_l1': 0.06487709970929334, 'lambda_l2': 6.926114283459005, 'num_leaves': 96, 'feature_fraction': 0.65841454552551, 'bagging_fraction': 0.5161434920555642, 'bagging_freq': 1, 'min_child_samples': 22}. Best is trial 45 with value: 1.0.\n",
      "<ipython-input-41-1c6539846d38>:86: ExperimentalWarning:\n",
      "\n",
      "upload_artifact is experimental (supported from v3.3.0). The interface can change in the future.\n",
      "\n",
      "<ipython-input-41-1c6539846d38>:94: ExperimentalWarning:\n",
      "\n",
      "upload_artifact is experimental (supported from v3.3.0). The interface can change in the future.\n",
      "\n",
      "[I 2024-09-14 12:24:27,550] Trial 714 finished with value: 0.36587209694498857 and parameters: {'lambda_l1': 1.428960645099751, 'lambda_l2': 3.358251151421022, 'num_leaves': 6, 'feature_fraction': 0.4078831151259098, 'bagging_fraction': 0.44960731922707486, 'bagging_freq': 1, 'min_child_samples': 5}. Best is trial 45 with value: 1.0.\n",
      "<ipython-input-41-1c6539846d38>:86: ExperimentalWarning:\n",
      "\n",
      "upload_artifact is experimental (supported from v3.3.0). The interface can change in the future.\n",
      "\n",
      "<ipython-input-41-1c6539846d38>:94: ExperimentalWarning:\n",
      "\n",
      "upload_artifact is experimental (supported from v3.3.0). The interface can change in the future.\n",
      "\n",
      "[I 2024-09-14 12:24:37,853] Trial 715 finished with value: 0.369728827839901 and parameters: {'lambda_l1': 0.3724782537371251, 'lambda_l2': 1.877703221945949, 'num_leaves': 16, 'feature_fraction': 0.5100586981898846, 'bagging_fraction': 0.5713109495887554, 'bagging_freq': 3, 'min_child_samples': 10}. Best is trial 45 with value: 1.0.\n",
      "<ipython-input-41-1c6539846d38>:86: ExperimentalWarning:\n",
      "\n",
      "upload_artifact is experimental (supported from v3.3.0). The interface can change in the future.\n",
      "\n",
      "<ipython-input-41-1c6539846d38>:94: ExperimentalWarning:\n",
      "\n",
      "upload_artifact is experimental (supported from v3.3.0). The interface can change in the future.\n",
      "\n",
      "[I 2024-09-14 12:24:50,037] Trial 716 finished with value: 0.37694093252431726 and parameters: {'lambda_l1': 0.11716186426943449, 'lambda_l2': 9.921275483471279, 'num_leaves': 29, 'feature_fraction': 0.5454721474927241, 'bagging_fraction': 0.43512204865322984, 'bagging_freq': 1, 'min_child_samples': 29}. Best is trial 45 with value: 1.0.\n",
      "<ipython-input-41-1c6539846d38>:86: ExperimentalWarning:\n",
      "\n",
      "upload_artifact is experimental (supported from v3.3.0). The interface can change in the future.\n",
      "\n",
      "<ipython-input-41-1c6539846d38>:94: ExperimentalWarning:\n",
      "\n",
      "upload_artifact is experimental (supported from v3.3.0). The interface can change in the future.\n",
      "\n",
      "[I 2024-09-14 12:25:08,849] Trial 717 finished with value: 0.3792178551156761 and parameters: {'lambda_l1': 4.672883597255203, 'lambda_l2': 0.19155879353031874, 'num_leaves': 83, 'feature_fraction': 0.6099590023039976, 'bagging_fraction': 0.5021939563561543, 'bagging_freq': 2, 'min_child_samples': 18}. Best is trial 45 with value: 1.0.\n",
      "<ipython-input-41-1c6539846d38>:86: ExperimentalWarning:\n",
      "\n",
      "upload_artifact is experimental (supported from v3.3.0). The interface can change in the future.\n",
      "\n",
      "<ipython-input-41-1c6539846d38>:94: ExperimentalWarning:\n",
      "\n",
      "upload_artifact is experimental (supported from v3.3.0). The interface can change in the future.\n",
      "\n",
      "[I 2024-09-14 12:25:21,663] Trial 718 finished with value: 0.3720980746244086 and parameters: {'lambda_l1': 0.7929057535594377, 'lambda_l2': 2.650749211617944, 'num_leaves': 77, 'feature_fraction': 0.4765551001362705, 'bagging_fraction': 0.4834379356096667, 'bagging_freq': 2, 'min_child_samples': 14}. Best is trial 45 with value: 1.0.\n",
      "<ipython-input-41-1c6539846d38>:86: ExperimentalWarning:\n",
      "\n",
      "upload_artifact is experimental (supported from v3.3.0). The interface can change in the future.\n",
      "\n",
      "<ipython-input-41-1c6539846d38>:94: ExperimentalWarning:\n",
      "\n",
      "upload_artifact is experimental (supported from v3.3.0). The interface can change in the future.\n",
      "\n",
      "[I 2024-09-14 12:25:33,432] Trial 719 finished with value: 0.3793900896479452 and parameters: {'lambda_l1': 0.25467129097671104, 'lambda_l2': 0.9093835559836608, 'num_leaves': 22, 'feature_fraction': 0.42912268476681836, 'bagging_fraction': 0.4537018952446587, 'bagging_freq': 1, 'min_child_samples': 7}. Best is trial 45 with value: 1.0.\n",
      "<ipython-input-41-1c6539846d38>:86: ExperimentalWarning:\n",
      "\n",
      "upload_artifact is experimental (supported from v3.3.0). The interface can change in the future.\n",
      "\n",
      "<ipython-input-41-1c6539846d38>:94: ExperimentalWarning:\n",
      "\n",
      "upload_artifact is experimental (supported from v3.3.0). The interface can change in the future.\n",
      "\n",
      "[I 2024-09-14 12:25:44,278] Trial 720 finished with value: 0.3736492955944174 and parameters: {'lambda_l1': 0.4742805038485132, 'lambda_l2': 4.9280618560045, 'num_leaves': 12, 'feature_fraction': 0.5651128983886206, 'bagging_fraction': 0.4656961196848495, 'bagging_freq': 1, 'min_child_samples': 24}. Best is trial 45 with value: 1.0.\n",
      "<ipython-input-41-1c6539846d38>:86: ExperimentalWarning:\n",
      "\n",
      "upload_artifact is experimental (supported from v3.3.0). The interface can change in the future.\n",
      "\n",
      "<ipython-input-41-1c6539846d38>:94: ExperimentalWarning:\n",
      "\n",
      "upload_artifact is experimental (supported from v3.3.0). The interface can change in the future.\n",
      "\n",
      "[I 2024-09-14 12:25:57,233] Trial 721 finished with value: 0.3761393705228022 and parameters: {'lambda_l1': 0.05480525764717459, 'lambda_l2': 9.980187727416556, 'num_leaves': 33, 'feature_fraction': 0.5184570966054656, 'bagging_fraction': 0.8356602857898507, 'bagging_freq': 2, 'min_child_samples': 21}. Best is trial 45 with value: 1.0.\n",
      "[W 2024-09-14 12:26:03,933] Trial 722 failed with parameters: {'lambda_l1': 0.0245876020870771, 'lambda_l2': 3.771767665072203, 'num_leaves': 42, 'feature_fraction': 0.4948428440858416, 'bagging_fraction': 0.531405158301949, 'bagging_freq': 6, 'min_child_samples': 40} because of the following error: KeyboardInterrupt().\n",
      "Traceback (most recent call last):\n",
      "  File \"c:\\Users\\s1093678\\Anaconda3\\lib\\site-packages\\optuna\\study\\_optimize.py\", line 196, in _run_trial\n",
      "    value_or_values = func(trial)\n",
      "  File \"<ipython-input-41-1c6539846d38>\", line 60, in cv_es_lgb_objective\n",
      "    lgb_model = lgb.train(lgb_params,\n",
      "  File \"c:\\Users\\s1093678\\Anaconda3\\lib\\site-packages\\lightgbm\\engine.py\", line 314, in train\n",
      "    evaluation_result_list.extend(booster.eval_valid(feval))\n",
      "  File \"c:\\Users\\s1093678\\Anaconda3\\lib\\site-packages\\lightgbm\\basic.py\", line 4423, in eval_valid\n",
      "    return [\n",
      "  File \"c:\\Users\\s1093678\\Anaconda3\\lib\\site-packages\\lightgbm\\basic.py\", line 4426, in <listcomp>\n",
      "    for item in self.__inner_eval(self.name_valid_sets[i - 1], i, feval)\n",
      "  File \"c:\\Users\\s1093678\\Anaconda3\\lib\\site-packages\\lightgbm\\basic.py\", line 5187, in __inner_eval\n",
      "    feval_ret = eval_function(self.__inner_predict(data_idx), cur_data)\n",
      "  File \"<ipython-input-41-1c6539846d38>\", line 4, in lgb_custom_metric_kappa\n",
      "    value = cohen_kappa_score(dy_true.get_label(),dy_pred.argmax(axis=1),weights = 'quadratic')\n",
      "  File \"c:\\Users\\s1093678\\Anaconda3\\lib\\site-packages\\sklearn\\utils\\validation.py\", line 63, in inner_f\n",
      "    return f(*args, **kwargs)\n",
      "  File \"c:\\Users\\s1093678\\Anaconda3\\lib\\site-packages\\sklearn\\metrics\\_classification.py\", line 618, in cohen_kappa_score\n",
      "    confusion = confusion_matrix(y1, y2, labels=labels,\n",
      "  File \"c:\\Users\\s1093678\\Anaconda3\\lib\\site-packages\\sklearn\\utils\\validation.py\", line 63, in inner_f\n",
      "    return f(*args, **kwargs)\n",
      "  File \"c:\\Users\\s1093678\\Anaconda3\\lib\\site-packages\\sklearn\\metrics\\_classification.py\", line 330, in confusion_matrix\n",
      "    ind = np.logical_and(y_pred < n_labels, y_true < n_labels)\n",
      "KeyboardInterrupt\n",
      "[W 2024-09-14 12:26:03,947] Trial 722 failed with value None.\n"
     ]
    },
    {
     "ename": "KeyboardInterrupt",
     "evalue": "",
     "output_type": "error",
     "traceback": [
      "\u001b[1;31m---------------------------------------------------------------------------\u001b[0m",
      "\u001b[1;31mKeyboardInterrupt\u001b[0m                         Traceback (most recent call last)",
      "\u001b[1;32m<ipython-input-42-3ba8469af45f>\u001b[0m in \u001b[0;36m<module>\u001b[1;34m\u001b[0m\n\u001b[0;32m      8\u001b[0m                             load_if_exists = True)\n\u001b[0;32m      9\u001b[0m \u001b[1;31m#Corro la optimizacion\u001b[0m\u001b[1;33m\u001b[0m\u001b[1;33m\u001b[0m\u001b[1;33m\u001b[0m\u001b[0m\n\u001b[1;32m---> 10\u001b[1;33m \u001b[0mstudy\u001b[0m\u001b[1;33m.\u001b[0m\u001b[0moptimize\u001b[0m\u001b[1;33m(\u001b[0m\u001b[0mcv_es_lgb_objective\u001b[0m\u001b[1;33m,\u001b[0m \u001b[0mn_trials\u001b[0m\u001b[1;33m=\u001b[0m\u001b[1;36m100\u001b[0m\u001b[1;33m)\u001b[0m\u001b[1;33m\u001b[0m\u001b[1;33m\u001b[0m\u001b[0m\n\u001b[0m",
      "\u001b[1;32mc:\\Users\\s1093678\\Anaconda3\\lib\\site-packages\\optuna\\study\\study.py\u001b[0m in \u001b[0;36moptimize\u001b[1;34m(self, func, n_trials, timeout, n_jobs, catch, callbacks, gc_after_trial, show_progress_bar)\u001b[0m\n\u001b[0;32m    449\u001b[0m                 \u001b[0mIf\u001b[0m \u001b[0mnested\u001b[0m \u001b[0minvocation\u001b[0m \u001b[0mof\u001b[0m \u001b[0mthis\u001b[0m \u001b[0mmethod\u001b[0m \u001b[0moccurs\u001b[0m\u001b[1;33m.\u001b[0m\u001b[1;33m\u001b[0m\u001b[1;33m\u001b[0m\u001b[0m\n\u001b[0;32m    450\u001b[0m         \"\"\"\n\u001b[1;32m--> 451\u001b[1;33m         _optimize(\n\u001b[0m\u001b[0;32m    452\u001b[0m             \u001b[0mstudy\u001b[0m\u001b[1;33m=\u001b[0m\u001b[0mself\u001b[0m\u001b[1;33m,\u001b[0m\u001b[1;33m\u001b[0m\u001b[1;33m\u001b[0m\u001b[0m\n\u001b[0;32m    453\u001b[0m             \u001b[0mfunc\u001b[0m\u001b[1;33m=\u001b[0m\u001b[0mfunc\u001b[0m\u001b[1;33m,\u001b[0m\u001b[1;33m\u001b[0m\u001b[1;33m\u001b[0m\u001b[0m\n",
      "\u001b[1;32mc:\\Users\\s1093678\\Anaconda3\\lib\\site-packages\\optuna\\study\\_optimize.py\u001b[0m in \u001b[0;36m_optimize\u001b[1;34m(study, func, n_trials, timeout, n_jobs, catch, callbacks, gc_after_trial, show_progress_bar)\u001b[0m\n\u001b[0;32m     60\u001b[0m     \u001b[1;32mtry\u001b[0m\u001b[1;33m:\u001b[0m\u001b[1;33m\u001b[0m\u001b[1;33m\u001b[0m\u001b[0m\n\u001b[0;32m     61\u001b[0m         \u001b[1;32mif\u001b[0m \u001b[0mn_jobs\u001b[0m \u001b[1;33m==\u001b[0m \u001b[1;36m1\u001b[0m\u001b[1;33m:\u001b[0m\u001b[1;33m\u001b[0m\u001b[1;33m\u001b[0m\u001b[0m\n\u001b[1;32m---> 62\u001b[1;33m             _optimize_sequential(\n\u001b[0m\u001b[0;32m     63\u001b[0m                 \u001b[0mstudy\u001b[0m\u001b[1;33m,\u001b[0m\u001b[1;33m\u001b[0m\u001b[1;33m\u001b[0m\u001b[0m\n\u001b[0;32m     64\u001b[0m                 \u001b[0mfunc\u001b[0m\u001b[1;33m,\u001b[0m\u001b[1;33m\u001b[0m\u001b[1;33m\u001b[0m\u001b[0m\n",
      "\u001b[1;32mc:\\Users\\s1093678\\Anaconda3\\lib\\site-packages\\optuna\\study\\_optimize.py\u001b[0m in \u001b[0;36m_optimize_sequential\u001b[1;34m(study, func, n_trials, timeout, catch, callbacks, gc_after_trial, reseed_sampler_rng, time_start, progress_bar)\u001b[0m\n\u001b[0;32m    157\u001b[0m \u001b[1;33m\u001b[0m\u001b[0m\n\u001b[0;32m    158\u001b[0m         \u001b[1;32mtry\u001b[0m\u001b[1;33m:\u001b[0m\u001b[1;33m\u001b[0m\u001b[1;33m\u001b[0m\u001b[0m\n\u001b[1;32m--> 159\u001b[1;33m             \u001b[0mfrozen_trial\u001b[0m \u001b[1;33m=\u001b[0m \u001b[0m_run_trial\u001b[0m\u001b[1;33m(\u001b[0m\u001b[0mstudy\u001b[0m\u001b[1;33m,\u001b[0m \u001b[0mfunc\u001b[0m\u001b[1;33m,\u001b[0m \u001b[0mcatch\u001b[0m\u001b[1;33m)\u001b[0m\u001b[1;33m\u001b[0m\u001b[1;33m\u001b[0m\u001b[0m\n\u001b[0m\u001b[0;32m    160\u001b[0m         \u001b[1;32mfinally\u001b[0m\u001b[1;33m:\u001b[0m\u001b[1;33m\u001b[0m\u001b[1;33m\u001b[0m\u001b[0m\n\u001b[0;32m    161\u001b[0m             \u001b[1;31m# The following line mitigates memory problems that can be occurred in some\u001b[0m\u001b[1;33m\u001b[0m\u001b[1;33m\u001b[0m\u001b[1;33m\u001b[0m\u001b[0m\n",
      "\u001b[1;32mc:\\Users\\s1093678\\Anaconda3\\lib\\site-packages\\optuna\\study\\_optimize.py\u001b[0m in \u001b[0;36m_run_trial\u001b[1;34m(study, func, catch)\u001b[0m\n\u001b[0;32m    245\u001b[0m         \u001b[1;32mand\u001b[0m \u001b[1;32mnot\u001b[0m \u001b[0misinstance\u001b[0m\u001b[1;33m(\u001b[0m\u001b[0mfunc_err\u001b[0m\u001b[1;33m,\u001b[0m \u001b[0mcatch\u001b[0m\u001b[1;33m)\u001b[0m\u001b[1;33m\u001b[0m\u001b[1;33m\u001b[0m\u001b[0m\n\u001b[0;32m    246\u001b[0m     ):\n\u001b[1;32m--> 247\u001b[1;33m         \u001b[1;32mraise\u001b[0m \u001b[0mfunc_err\u001b[0m\u001b[1;33m\u001b[0m\u001b[1;33m\u001b[0m\u001b[0m\n\u001b[0m\u001b[0;32m    248\u001b[0m     \u001b[1;32mreturn\u001b[0m \u001b[0mfrozen_trial\u001b[0m\u001b[1;33m\u001b[0m\u001b[1;33m\u001b[0m\u001b[0m\n\u001b[0;32m    249\u001b[0m \u001b[1;33m\u001b[0m\u001b[0m\n",
      "\u001b[1;32mc:\\Users\\s1093678\\Anaconda3\\lib\\site-packages\\optuna\\study\\_optimize.py\u001b[0m in \u001b[0;36m_run_trial\u001b[1;34m(study, func, catch)\u001b[0m\n\u001b[0;32m    194\u001b[0m     \u001b[1;32mwith\u001b[0m \u001b[0mget_heartbeat_thread\u001b[0m\u001b[1;33m(\u001b[0m\u001b[0mtrial\u001b[0m\u001b[1;33m.\u001b[0m\u001b[0m_trial_id\u001b[0m\u001b[1;33m,\u001b[0m \u001b[0mstudy\u001b[0m\u001b[1;33m.\u001b[0m\u001b[0m_storage\u001b[0m\u001b[1;33m)\u001b[0m\u001b[1;33m:\u001b[0m\u001b[1;33m\u001b[0m\u001b[1;33m\u001b[0m\u001b[0m\n\u001b[0;32m    195\u001b[0m         \u001b[1;32mtry\u001b[0m\u001b[1;33m:\u001b[0m\u001b[1;33m\u001b[0m\u001b[1;33m\u001b[0m\u001b[0m\n\u001b[1;32m--> 196\u001b[1;33m             \u001b[0mvalue_or_values\u001b[0m \u001b[1;33m=\u001b[0m \u001b[0mfunc\u001b[0m\u001b[1;33m(\u001b[0m\u001b[0mtrial\u001b[0m\u001b[1;33m)\u001b[0m\u001b[1;33m\u001b[0m\u001b[1;33m\u001b[0m\u001b[0m\n\u001b[0m\u001b[0;32m    197\u001b[0m         \u001b[1;32mexcept\u001b[0m \u001b[0mexceptions\u001b[0m\u001b[1;33m.\u001b[0m\u001b[0mTrialPruned\u001b[0m \u001b[1;32mas\u001b[0m \u001b[0me\u001b[0m\u001b[1;33m:\u001b[0m\u001b[1;33m\u001b[0m\u001b[1;33m\u001b[0m\u001b[0m\n\u001b[0;32m    198\u001b[0m             \u001b[1;31m# TODO(mamu): Handle multi-objective cases.\u001b[0m\u001b[1;33m\u001b[0m\u001b[1;33m\u001b[0m\u001b[1;33m\u001b[0m\u001b[0m\n",
      "\u001b[1;32m<ipython-input-41-1c6539846d38>\u001b[0m in \u001b[0;36mcv_es_lgb_objective\u001b[1;34m(trial)\u001b[0m\n\u001b[0;32m     58\u001b[0m \u001b[1;33m\u001b[0m\u001b[0m\n\u001b[0;32m     59\u001b[0m         \u001b[1;31m#Entreno el modelo\u001b[0m\u001b[1;33m\u001b[0m\u001b[1;33m\u001b[0m\u001b[1;33m\u001b[0m\u001b[0m\n\u001b[1;32m---> 60\u001b[1;33m         lgb_model = lgb.train(lgb_params,\n\u001b[0m\u001b[0;32m     61\u001b[0m                                 \u001b[0mlgb_if_dataset\u001b[0m\u001b[1;33m,\u001b[0m\u001b[1;33m\u001b[0m\u001b[1;33m\u001b[0m\u001b[0m\n\u001b[0;32m     62\u001b[0m                                 \u001b[0mvalid_sets\u001b[0m\u001b[1;33m=\u001b[0m\u001b[0mlgb_oof_dataset\u001b[0m\u001b[1;33m,\u001b[0m\u001b[1;33m\u001b[0m\u001b[1;33m\u001b[0m\u001b[0m\n",
      "\u001b[1;32mc:\\Users\\s1093678\\Anaconda3\\lib\\site-packages\\lightgbm\\engine.py\u001b[0m in \u001b[0;36mtrain\u001b[1;34m(params, train_set, num_boost_round, valid_sets, valid_names, feval, init_model, feature_name, categorical_feature, keep_training_booster, callbacks)\u001b[0m\n\u001b[0;32m    312\u001b[0m             \u001b[1;32mif\u001b[0m \u001b[0mis_valid_contain_train\u001b[0m\u001b[1;33m:\u001b[0m\u001b[1;33m\u001b[0m\u001b[1;33m\u001b[0m\u001b[0m\n\u001b[0;32m    313\u001b[0m                 \u001b[0mevaluation_result_list\u001b[0m\u001b[1;33m.\u001b[0m\u001b[0mextend\u001b[0m\u001b[1;33m(\u001b[0m\u001b[0mbooster\u001b[0m\u001b[1;33m.\u001b[0m\u001b[0meval_train\u001b[0m\u001b[1;33m(\u001b[0m\u001b[0mfeval\u001b[0m\u001b[1;33m)\u001b[0m\u001b[1;33m)\u001b[0m\u001b[1;33m\u001b[0m\u001b[1;33m\u001b[0m\u001b[0m\n\u001b[1;32m--> 314\u001b[1;33m             \u001b[0mevaluation_result_list\u001b[0m\u001b[1;33m.\u001b[0m\u001b[0mextend\u001b[0m\u001b[1;33m(\u001b[0m\u001b[0mbooster\u001b[0m\u001b[1;33m.\u001b[0m\u001b[0meval_valid\u001b[0m\u001b[1;33m(\u001b[0m\u001b[0mfeval\u001b[0m\u001b[1;33m)\u001b[0m\u001b[1;33m)\u001b[0m\u001b[1;33m\u001b[0m\u001b[1;33m\u001b[0m\u001b[0m\n\u001b[0m\u001b[0;32m    315\u001b[0m         \u001b[1;32mtry\u001b[0m\u001b[1;33m:\u001b[0m\u001b[1;33m\u001b[0m\u001b[1;33m\u001b[0m\u001b[0m\n\u001b[0;32m    316\u001b[0m             \u001b[1;32mfor\u001b[0m \u001b[0mcb\u001b[0m \u001b[1;32min\u001b[0m \u001b[0mcallbacks_after_iter\u001b[0m\u001b[1;33m:\u001b[0m\u001b[1;33m\u001b[0m\u001b[1;33m\u001b[0m\u001b[0m\n",
      "\u001b[1;32mc:\\Users\\s1093678\\Anaconda3\\lib\\site-packages\\lightgbm\\basic.py\u001b[0m in \u001b[0;36meval_valid\u001b[1;34m(self, feval)\u001b[0m\n\u001b[0;32m   4421\u001b[0m             \u001b[0mList\u001b[0m \u001b[1;32mwith\u001b[0m \u001b[1;33m(\u001b[0m\u001b[0mvalidation_dataset_name\u001b[0m\u001b[1;33m,\u001b[0m \u001b[0meval_name\u001b[0m\u001b[1;33m,\u001b[0m \u001b[0meval_result\u001b[0m\u001b[1;33m,\u001b[0m \u001b[0mis_higher_better\u001b[0m\u001b[1;33m)\u001b[0m \u001b[0mtuples\u001b[0m\u001b[1;33m.\u001b[0m\u001b[1;33m\u001b[0m\u001b[1;33m\u001b[0m\u001b[0m\n\u001b[0;32m   4422\u001b[0m         \"\"\"\n\u001b[1;32m-> 4423\u001b[1;33m         return [\n\u001b[0m\u001b[0;32m   4424\u001b[0m             \u001b[0mitem\u001b[0m\u001b[1;33m\u001b[0m\u001b[1;33m\u001b[0m\u001b[0m\n\u001b[0;32m   4425\u001b[0m             \u001b[1;32mfor\u001b[0m \u001b[0mi\u001b[0m \u001b[1;32min\u001b[0m \u001b[0mrange\u001b[0m\u001b[1;33m(\u001b[0m\u001b[1;36m1\u001b[0m\u001b[1;33m,\u001b[0m \u001b[0mself\u001b[0m\u001b[1;33m.\u001b[0m\u001b[0m__num_dataset\u001b[0m\u001b[1;33m)\u001b[0m\u001b[1;33m\u001b[0m\u001b[1;33m\u001b[0m\u001b[0m\n",
      "\u001b[1;32mc:\\Users\\s1093678\\Anaconda3\\lib\\site-packages\\lightgbm\\basic.py\u001b[0m in \u001b[0;36m<listcomp>\u001b[1;34m(.0)\u001b[0m\n\u001b[0;32m   4424\u001b[0m             \u001b[0mitem\u001b[0m\u001b[1;33m\u001b[0m\u001b[1;33m\u001b[0m\u001b[0m\n\u001b[0;32m   4425\u001b[0m             \u001b[1;32mfor\u001b[0m \u001b[0mi\u001b[0m \u001b[1;32min\u001b[0m \u001b[0mrange\u001b[0m\u001b[1;33m(\u001b[0m\u001b[1;36m1\u001b[0m\u001b[1;33m,\u001b[0m \u001b[0mself\u001b[0m\u001b[1;33m.\u001b[0m\u001b[0m__num_dataset\u001b[0m\u001b[1;33m)\u001b[0m\u001b[1;33m\u001b[0m\u001b[1;33m\u001b[0m\u001b[0m\n\u001b[1;32m-> 4426\u001b[1;33m             \u001b[1;32mfor\u001b[0m \u001b[0mitem\u001b[0m \u001b[1;32min\u001b[0m \u001b[0mself\u001b[0m\u001b[1;33m.\u001b[0m\u001b[0m__inner_eval\u001b[0m\u001b[1;33m(\u001b[0m\u001b[0mself\u001b[0m\u001b[1;33m.\u001b[0m\u001b[0mname_valid_sets\u001b[0m\u001b[1;33m[\u001b[0m\u001b[0mi\u001b[0m \u001b[1;33m-\u001b[0m \u001b[1;36m1\u001b[0m\u001b[1;33m]\u001b[0m\u001b[1;33m,\u001b[0m \u001b[0mi\u001b[0m\u001b[1;33m,\u001b[0m \u001b[0mfeval\u001b[0m\u001b[1;33m)\u001b[0m\u001b[1;33m\u001b[0m\u001b[1;33m\u001b[0m\u001b[0m\n\u001b[0m\u001b[0;32m   4427\u001b[0m         ]\n\u001b[0;32m   4428\u001b[0m \u001b[1;33m\u001b[0m\u001b[0m\n",
      "\u001b[1;32mc:\\Users\\s1093678\\Anaconda3\\lib\\site-packages\\lightgbm\\basic.py\u001b[0m in \u001b[0;36m__inner_eval\u001b[1;34m(self, data_name, data_idx, feval)\u001b[0m\n\u001b[0;32m   5185\u001b[0m                 \u001b[1;32mif\u001b[0m \u001b[0meval_function\u001b[0m \u001b[1;32mis\u001b[0m \u001b[1;32mNone\u001b[0m\u001b[1;33m:\u001b[0m\u001b[1;33m\u001b[0m\u001b[1;33m\u001b[0m\u001b[0m\n\u001b[0;32m   5186\u001b[0m                     \u001b[1;32mcontinue\u001b[0m\u001b[1;33m\u001b[0m\u001b[1;33m\u001b[0m\u001b[0m\n\u001b[1;32m-> 5187\u001b[1;33m                 \u001b[0mfeval_ret\u001b[0m \u001b[1;33m=\u001b[0m \u001b[0meval_function\u001b[0m\u001b[1;33m(\u001b[0m\u001b[0mself\u001b[0m\u001b[1;33m.\u001b[0m\u001b[0m__inner_predict\u001b[0m\u001b[1;33m(\u001b[0m\u001b[0mdata_idx\u001b[0m\u001b[1;33m)\u001b[0m\u001b[1;33m,\u001b[0m \u001b[0mcur_data\u001b[0m\u001b[1;33m)\u001b[0m\u001b[1;33m\u001b[0m\u001b[1;33m\u001b[0m\u001b[0m\n\u001b[0m\u001b[0;32m   5188\u001b[0m                 \u001b[1;32mif\u001b[0m \u001b[0misinstance\u001b[0m\u001b[1;33m(\u001b[0m\u001b[0mfeval_ret\u001b[0m\u001b[1;33m,\u001b[0m \u001b[0mlist\u001b[0m\u001b[1;33m)\u001b[0m\u001b[1;33m:\u001b[0m\u001b[1;33m\u001b[0m\u001b[1;33m\u001b[0m\u001b[0m\n\u001b[0;32m   5189\u001b[0m                     \u001b[1;32mfor\u001b[0m \u001b[0meval_name\u001b[0m\u001b[1;33m,\u001b[0m \u001b[0mval\u001b[0m\u001b[1;33m,\u001b[0m \u001b[0mis_higher_better\u001b[0m \u001b[1;32min\u001b[0m \u001b[0mfeval_ret\u001b[0m\u001b[1;33m:\u001b[0m\u001b[1;33m\u001b[0m\u001b[1;33m\u001b[0m\u001b[0m\n",
      "\u001b[1;32m<ipython-input-41-1c6539846d38>\u001b[0m in \u001b[0;36mlgb_custom_metric_kappa\u001b[1;34m(dy_pred, dy_true)\u001b[0m\n\u001b[0;32m      2\u001b[0m \u001b[1;32mdef\u001b[0m \u001b[0mlgb_custom_metric_kappa\u001b[0m\u001b[1;33m(\u001b[0m\u001b[0mdy_pred\u001b[0m\u001b[1;33m,\u001b[0m \u001b[0mdy_true\u001b[0m\u001b[1;33m)\u001b[0m\u001b[1;33m:\u001b[0m\u001b[1;33m\u001b[0m\u001b[1;33m\u001b[0m\u001b[0m\n\u001b[0;32m      3\u001b[0m     \u001b[0mmetric_name\u001b[0m \u001b[1;33m=\u001b[0m \u001b[1;34m'kappa'\u001b[0m\u001b[1;33m\u001b[0m\u001b[1;33m\u001b[0m\u001b[0m\n\u001b[1;32m----> 4\u001b[1;33m     \u001b[0mvalue\u001b[0m \u001b[1;33m=\u001b[0m \u001b[0mcohen_kappa_score\u001b[0m\u001b[1;33m(\u001b[0m\u001b[0mdy_true\u001b[0m\u001b[1;33m.\u001b[0m\u001b[0mget_label\u001b[0m\u001b[1;33m(\u001b[0m\u001b[1;33m)\u001b[0m\u001b[1;33m,\u001b[0m\u001b[0mdy_pred\u001b[0m\u001b[1;33m.\u001b[0m\u001b[0margmax\u001b[0m\u001b[1;33m(\u001b[0m\u001b[0maxis\u001b[0m\u001b[1;33m=\u001b[0m\u001b[1;36m1\u001b[0m\u001b[1;33m)\u001b[0m\u001b[1;33m,\u001b[0m\u001b[0mweights\u001b[0m \u001b[1;33m=\u001b[0m \u001b[1;34m'quadratic'\u001b[0m\u001b[1;33m)\u001b[0m\u001b[1;33m\u001b[0m\u001b[1;33m\u001b[0m\u001b[0m\n\u001b[0m\u001b[0;32m      5\u001b[0m     \u001b[0mis_higher_better\u001b[0m \u001b[1;33m=\u001b[0m \u001b[1;32mTrue\u001b[0m\u001b[1;33m\u001b[0m\u001b[1;33m\u001b[0m\u001b[0m\n\u001b[0;32m      6\u001b[0m     \u001b[1;32mreturn\u001b[0m\u001b[1;33m(\u001b[0m\u001b[0mmetric_name\u001b[0m\u001b[1;33m,\u001b[0m \u001b[0mvalue\u001b[0m\u001b[1;33m,\u001b[0m \u001b[0mis_higher_better\u001b[0m\u001b[1;33m)\u001b[0m\u001b[1;33m\u001b[0m\u001b[1;33m\u001b[0m\u001b[0m\n",
      "\u001b[1;32mc:\\Users\\s1093678\\Anaconda3\\lib\\site-packages\\sklearn\\utils\\validation.py\u001b[0m in \u001b[0;36minner_f\u001b[1;34m(*args, **kwargs)\u001b[0m\n\u001b[0;32m     61\u001b[0m             \u001b[0mextra_args\u001b[0m \u001b[1;33m=\u001b[0m \u001b[0mlen\u001b[0m\u001b[1;33m(\u001b[0m\u001b[0margs\u001b[0m\u001b[1;33m)\u001b[0m \u001b[1;33m-\u001b[0m \u001b[0mlen\u001b[0m\u001b[1;33m(\u001b[0m\u001b[0mall_args\u001b[0m\u001b[1;33m)\u001b[0m\u001b[1;33m\u001b[0m\u001b[1;33m\u001b[0m\u001b[0m\n\u001b[0;32m     62\u001b[0m             \u001b[1;32mif\u001b[0m \u001b[0mextra_args\u001b[0m \u001b[1;33m<=\u001b[0m \u001b[1;36m0\u001b[0m\u001b[1;33m:\u001b[0m\u001b[1;33m\u001b[0m\u001b[1;33m\u001b[0m\u001b[0m\n\u001b[1;32m---> 63\u001b[1;33m                 \u001b[1;32mreturn\u001b[0m \u001b[0mf\u001b[0m\u001b[1;33m(\u001b[0m\u001b[1;33m*\u001b[0m\u001b[0margs\u001b[0m\u001b[1;33m,\u001b[0m \u001b[1;33m**\u001b[0m\u001b[0mkwargs\u001b[0m\u001b[1;33m)\u001b[0m\u001b[1;33m\u001b[0m\u001b[1;33m\u001b[0m\u001b[0m\n\u001b[0m\u001b[0;32m     64\u001b[0m \u001b[1;33m\u001b[0m\u001b[0m\n\u001b[0;32m     65\u001b[0m             \u001b[1;31m# extra_args > 0\u001b[0m\u001b[1;33m\u001b[0m\u001b[1;33m\u001b[0m\u001b[1;33m\u001b[0m\u001b[0m\n",
      "\u001b[1;32mc:\\Users\\s1093678\\Anaconda3\\lib\\site-packages\\sklearn\\metrics\\_classification.py\u001b[0m in \u001b[0;36mcohen_kappa_score\u001b[1;34m(y1, y2, labels, weights, sample_weight)\u001b[0m\n\u001b[0;32m    616\u001b[0m             \u001b[1;33m<\u001b[0m\u001b[0mhttps\u001b[0m\u001b[1;33m:\u001b[0m\u001b[1;33m//\u001b[0m\u001b[0men\u001b[0m\u001b[1;33m.\u001b[0m\u001b[0mwikipedia\u001b[0m\u001b[1;33m.\u001b[0m\u001b[0morg\u001b[0m\u001b[1;33m/\u001b[0m\u001b[0mwiki\u001b[0m\u001b[1;33m/\u001b[0m\u001b[0mCohen\u001b[0m\u001b[1;33m%\u001b[0m\u001b[1;36m27\u001b[0m\u001b[0ms_kappa\u001b[0m\u001b[1;33m>\u001b[0m\u001b[0;31m`\u001b[0m\u001b[0m_\u001b[0m\u001b[1;33m.\u001b[0m\u001b[1;33m\u001b[0m\u001b[1;33m\u001b[0m\u001b[0m\n\u001b[0;32m    617\u001b[0m     \"\"\"\n\u001b[1;32m--> 618\u001b[1;33m     confusion = confusion_matrix(y1, y2, labels=labels,\n\u001b[0m\u001b[0;32m    619\u001b[0m                                  sample_weight=sample_weight)\n\u001b[0;32m    620\u001b[0m     \u001b[0mn_classes\u001b[0m \u001b[1;33m=\u001b[0m \u001b[0mconfusion\u001b[0m\u001b[1;33m.\u001b[0m\u001b[0mshape\u001b[0m\u001b[1;33m[\u001b[0m\u001b[1;36m0\u001b[0m\u001b[1;33m]\u001b[0m\u001b[1;33m\u001b[0m\u001b[1;33m\u001b[0m\u001b[0m\n",
      "\u001b[1;32mc:\\Users\\s1093678\\Anaconda3\\lib\\site-packages\\sklearn\\utils\\validation.py\u001b[0m in \u001b[0;36minner_f\u001b[1;34m(*args, **kwargs)\u001b[0m\n\u001b[0;32m     61\u001b[0m             \u001b[0mextra_args\u001b[0m \u001b[1;33m=\u001b[0m \u001b[0mlen\u001b[0m\u001b[1;33m(\u001b[0m\u001b[0margs\u001b[0m\u001b[1;33m)\u001b[0m \u001b[1;33m-\u001b[0m \u001b[0mlen\u001b[0m\u001b[1;33m(\u001b[0m\u001b[0mall_args\u001b[0m\u001b[1;33m)\u001b[0m\u001b[1;33m\u001b[0m\u001b[1;33m\u001b[0m\u001b[0m\n\u001b[0;32m     62\u001b[0m             \u001b[1;32mif\u001b[0m \u001b[0mextra_args\u001b[0m \u001b[1;33m<=\u001b[0m \u001b[1;36m0\u001b[0m\u001b[1;33m:\u001b[0m\u001b[1;33m\u001b[0m\u001b[1;33m\u001b[0m\u001b[0m\n\u001b[1;32m---> 63\u001b[1;33m                 \u001b[1;32mreturn\u001b[0m \u001b[0mf\u001b[0m\u001b[1;33m(\u001b[0m\u001b[1;33m*\u001b[0m\u001b[0margs\u001b[0m\u001b[1;33m,\u001b[0m \u001b[1;33m**\u001b[0m\u001b[0mkwargs\u001b[0m\u001b[1;33m)\u001b[0m\u001b[1;33m\u001b[0m\u001b[1;33m\u001b[0m\u001b[0m\n\u001b[0m\u001b[0;32m     64\u001b[0m \u001b[1;33m\u001b[0m\u001b[0m\n\u001b[0;32m     65\u001b[0m             \u001b[1;31m# extra_args > 0\u001b[0m\u001b[1;33m\u001b[0m\u001b[1;33m\u001b[0m\u001b[1;33m\u001b[0m\u001b[0m\n",
      "\u001b[1;32mc:\\Users\\s1093678\\Anaconda3\\lib\\site-packages\\sklearn\\metrics\\_classification.py\u001b[0m in \u001b[0;36mconfusion_matrix\u001b[1;34m(y_true, y_pred, labels, sample_weight, normalize)\u001b[0m\n\u001b[0;32m    328\u001b[0m \u001b[1;33m\u001b[0m\u001b[0m\n\u001b[0;32m    329\u001b[0m     \u001b[1;31m# intersect y_pred, y_true with labels, eliminate items not in labels\u001b[0m\u001b[1;33m\u001b[0m\u001b[1;33m\u001b[0m\u001b[1;33m\u001b[0m\u001b[0m\n\u001b[1;32m--> 330\u001b[1;33m     \u001b[0mind\u001b[0m \u001b[1;33m=\u001b[0m \u001b[0mnp\u001b[0m\u001b[1;33m.\u001b[0m\u001b[0mlogical_and\u001b[0m\u001b[1;33m(\u001b[0m\u001b[0my_pred\u001b[0m \u001b[1;33m<\u001b[0m \u001b[0mn_labels\u001b[0m\u001b[1;33m,\u001b[0m \u001b[0my_true\u001b[0m \u001b[1;33m<\u001b[0m \u001b[0mn_labels\u001b[0m\u001b[1;33m)\u001b[0m\u001b[1;33m\u001b[0m\u001b[1;33m\u001b[0m\u001b[0m\n\u001b[0m\u001b[0;32m    331\u001b[0m     \u001b[0my_pred\u001b[0m \u001b[1;33m=\u001b[0m \u001b[0my_pred\u001b[0m\u001b[1;33m[\u001b[0m\u001b[0mind\u001b[0m\u001b[1;33m]\u001b[0m\u001b[1;33m\u001b[0m\u001b[1;33m\u001b[0m\u001b[0m\n\u001b[0;32m    332\u001b[0m     \u001b[0my_true\u001b[0m \u001b[1;33m=\u001b[0m \u001b[0my_true\u001b[0m\u001b[1;33m[\u001b[0m\u001b[0mind\u001b[0m\u001b[1;33m]\u001b[0m\u001b[1;33m\u001b[0m\u001b[1;33m\u001b[0m\u001b[0m\n",
      "\u001b[1;31mKeyboardInterrupt\u001b[0m: "
     ]
    }
   ],
   "source": [
    "#Inicio el store de artefactos (archivos) de optuna\n",
    "artifact_store = FileSystemArtifactStore(base_path=PATH_TO_OPTUNA_ARTIFACTS)\n",
    "\n",
    "#Genero estudio\n",
    "study = optuna.create_study(direction='maximize',\n",
    "                            storage=\"sqlite:///work/db.sqlite3\",  # Specify the storage URL here.\n",
    "                            study_name=\"04 - LGB Multiclass CV\",\n",
    "                            load_if_exists = True)\n",
    "#Corro la optimizacion\n",
    "study.optimize(cv_es_lgb_objective, n_trials=100)"
   ]
  },
  {
   "cell_type": "markdown",
   "metadata": {},
   "source": [
    "Para ver el optuna dashboard tengo que correr este comando en la terminal"
   ]
  },
  {
   "cell_type": "code",
   "execution_count": 39,
   "metadata": {},
   "outputs": [
    {
     "name": "stdout",
     "output_type": "stream",
     "text": [
      "Requirement already satisfied: kaleido in c:\\users\\s1093678\\anaconda3\\lib\\site-packages (0.2.1)\n"
     ]
    }
   ],
   "source": [
    "!pip install kaleido\n"
   ]
  },
  {
   "cell_type": "code",
   "execution_count": 40,
   "metadata": {},
   "outputs": [
    {
     "name": "stderr",
     "output_type": "stream",
     "text": [
      "Traceback (most recent call last):\n",
      "  File \"c:\\users\\s1093678\\anaconda3\\lib\\runpy.py\", line 194, in _run_module_as_main\n",
      "    return _run_code(code, main_globals, None,\n",
      "  File \"c:\\users\\s1093678\\anaconda3\\lib\\runpy.py\", line 87, in _run_code\n",
      "    exec(code, run_globals)\n",
      "  File \"C:\\Users\\s1093678\\Anaconda3\\Scripts\\optuna-dashboard.exe\\__main__.py\", line 7, in <module>\n",
      "  File \"c:\\users\\s1093678\\anaconda3\\lib\\site-packages\\optuna_dashboard\\_cli.py\", line 119, in main\n",
      "    storage = get_storage(args.storage, storage_class=args.storage_class)\n",
      "  File \"c:\\users\\s1093678\\anaconda3\\lib\\site-packages\\optuna_dashboard\\_storage_url.py\", line 59, in get_storage\n",
      "    return guess_storage_from_url(storage)\n",
      "  File \"c:\\users\\s1093678\\anaconda3\\lib\\site-packages\\optuna_dashboard\\_storage_url.py\", line 84, in guess_storage_from_url\n",
      "    return get_rdb_storage(storage_url)\n",
      "  File \"c:\\users\\s1093678\\anaconda3\\lib\\site-packages\\optuna_dashboard\\_storage_url.py\", line 91, in get_rdb_storage\n",
      "    return RDBStorage(storage_url, skip_compatibility_check=True, skip_table_creation=True)\n",
      "  File \"c:\\users\\s1093678\\anaconda3\\lib\\site-packages\\optuna\\storages\\_rdb\\storage.py\", line 218, in __init__\n",
      "    self.engine = sqlalchemy.engine.create_engine(self.url, **self.engine_kwargs)\n",
      "  File \"<string>\", line 2, in create_engine\n",
      "  File \"c:\\users\\s1093678\\anaconda3\\lib\\site-packages\\sqlalchemy\\util\\deprecations.py\", line 298, in warned\n",
      "    return fn(*args, **kwargs)\n",
      "  File \"c:\\users\\s1093678\\anaconda3\\lib\\site-packages\\sqlalchemy\\engine\\create.py\", line 564, in create_engine\n",
      "    (cargs, cparams) = dialect.create_connect_args(u)\n",
      "  File \"c:\\users\\s1093678\\anaconda3\\lib\\site-packages\\sqlalchemy\\dialects\\sqlite\\pysqlite.py\", line 542, in create_connect_args\n",
      "    raise exc.ArgumentError(\n",
      "sqlalchemy.exc.ArgumentError: Invalid SQLite URL: sqlite://work/db.sqlite3\n",
      "Valid SQLite URL forms are:\n",
      " sqlite:///:memory: (or, sqlite://)\n",
      " sqlite:///relative/path/to/file.db\n",
      " sqlite:////absolute/path/to/file.db\n"
     ]
    }
   ],
   "source": [
    "!optuna-dashboard sqlite://work/db.sqlite3 --artifact-dir ../work/optuna_artifacts --port 8081"
   ]
  },
  {
   "cell_type": "code",
   "execution_count": 41,
   "metadata": {},
   "outputs": [],
   "source": [
    "#para proxima clase hacer feature engeneering (agregar feature, health , colores, etc) pq hasta aca solo s ehizo con los variables numericas\n",
    "#TENER UN MODELO CANDIDATO TABULAR PARA SEGUIR ADELANTE \n",
    "#VAMOS A VER LA EJECUCION DE UN MODELO PARA BUCAR HIPERPARAMETROS ETC \n",
    "#DAR CON UN MODELO GANADOR\n"
   ]
  }
 ],
 "metadata": {
  "kernelspec": {
   "display_name": "base",
   "language": "python",
   "name": "python3"
  },
  "language_info": {
   "codemirror_mode": {
    "name": "ipython",
    "version": 3
   },
   "file_extension": ".py",
   "mimetype": "text/x-python",
   "name": "python",
   "nbconvert_exporter": "python",
   "pygments_lexer": "ipython3",
   "version": "3.12.4"
  }
 },
 "nbformat": 4,
 "nbformat_minor": 2
}
