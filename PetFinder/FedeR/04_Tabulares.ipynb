{
 "cells": [
  {
   "cell_type": "markdown",
   "metadata": {},
   "source": [
    "## Modelo datos estructurados\n",
    "Este notebook desarrolla un primer modelo para resolver el problema de Petfinder. Empezamos haciendo un modelo inicial muy simple para ver la viabilidad de resolver el problema. Luego analizamos como se comporta la métrica kappa propuesta y vemos la matriz de confusión. Finalmente hacemos una optimizacin de hiperparametros evaluando con train/test y otra validando con 5 fold CV y testeando en el 20% de los datos"
   ]
  },
  {
   "cell_type": "code",
   "execution_count": 1,
   "metadata": {},
   "outputs": [],
   "source": [
    "#Import de librerias basicas tablas y matrices\n",
    "import numpy as np \n",
    "import pandas as pd \n",
    "\n",
    "\n",
    "#Gradient Boosting\n",
    "import lightgbm as lgb\n",
    "\n",
    "#Funciones auxiliares sklearn\n",
    "from sklearn.preprocessing import MinMaxScaler\n",
    "from sklearn.model_selection import train_test_split, StratifiedKFold #Split y cross Validation\n",
    "from sklearn.metrics import cohen_kappa_score, accuracy_score, balanced_accuracy_score #Metricas\n",
    "from sklearn.preprocessing import OneHotEncoder\n",
    "\n",
    "# from sklearn.utils import shuffle \n",
    "\n",
    "#Visualizacióon\n",
    "from plotly import express as px\n",
    "\n",
    "#Plot de matriz de confusion normalizada en actuals\n",
    "from utils import plot_confusion_matrix\n",
    "\n",
    "import os\n",
    "\n",
    "#Optimizacion de hiperparametros\n",
    "import optuna\n",
    "from optuna.artifacts import FileSystemArtifactStore, upload_artifact\n",
    "\n",
    "#Guardado de objetos en archivos joblib\n",
    "from joblib import load, dump\n",
    "\n"
   ]
  },
  {
   "cell_type": "code",
   "execution_count": 2,
   "metadata": {},
   "outputs": [],
   "source": [
    "#PONER LA ESTRUCUTRA DE CARPETAS COMO SE VE AQUI ABAJO !!!"
   ]
  },
  {
   "cell_type": "code",
   "execution_count": 3,
   "metadata": {},
   "outputs": [],
   "source": [
    "# Paths para acceso archivos\n",
    "#Este notebook asume la siguiente estructura de carpetas a partir de la ubicacion de base_dir \n",
    "#(dos niveles arriba de la carpeta donde se ejecuta el notebook). \n",
    "# /UA_MDM_LDI_II/\n",
    "# /UA_MDM_LDI_II/input\n",
    "# /UA_MDM_LDI_II/input/petfinder-adoption-prediction/            <- Aca deben ir todos los archivos de datos de la competencia \n",
    "# /UA_MDM_LDI_II/tutoriales/                       <- Aca deben poner los notebooks y scripts que les compartimos\n",
    "# /UA_MDM_LDI_II/work/                             <- Resultados de notebooks iran dentro de esta carpeta en subcarpetas\n",
    "# /UA_MDM_LDI_II/work/models/                     <- Modelos entrenados en archivos joblibs\n",
    "# /UA_MDM_LDI_II/work/optuna_temp_artifacts/      <- Archivos que queremos dejar como artefacto de un trial de optuna (optuna los copiara a la carpeta de abajo)\n",
    "# /UA_MDM_LDI_II/work/optuna_artifacts/           <- Archivos con artefactos que sibimos a optuna\n",
    "\n",
    "#Subimos dos niveles para quedar en la carpeta que contiene input y UA_MDM_LDI_II\n",
    "BASE_DIR = ''\n",
    "\n",
    "#Datos de entrenamiento \n",
    "PATH_TO_TRAIN = os.path.join(BASE_DIR, \"input/petfinder-adoption-prediction/train/train.csv\")\n",
    "\n",
    "#Datos de test\n",
    "PATH_TO_TEST = os.path.join(BASE_DIR, \"input/petfinder-adoption-prediction/test/test.csv\")\n",
    "\n",
    "#Salida de modelos entrenados\n",
    "PATH_TO_MODELS = os.path.join(BASE_DIR, \"work/models\")\n",
    "\n",
    "#Artefactos a subir a optuna\n",
    "PATH_TO_TEMP_FILES = os.path.join(BASE_DIR, \"work/optuna_temp_artifacts\")\n",
    "\n",
    "#Artefactos que optuna gestiona\n",
    "PATH_TO_OPTUNA_ARTIFACTS = os.path.join(BASE_DIR, \"work/optuna_artifacts\")\n",
    "\n",
    "\n",
    "SEED = 42 #Semilla de procesos aleatorios (para poder replicar exactamente al volver a correr un modelo)\n",
    "TEST_SIZE = 0.2 #Facción para train/test= split \n",
    "\n",
    "#PONER CUALQUIER SEMILLLA Y 20% DEL DATASTE USAMOS"
   ]
  },
  {
   "cell_type": "code",
   "execution_count": 4,
   "metadata": {},
   "outputs": [],
   "source": [
    "#NUESTRO TODO ES TRAIN ... ENTONCES EN BASE A ESE DATASET HACEMOS TRAIN Y TEST"
   ]
  },
  {
   "cell_type": "code",
   "execution_count": 5,
   "metadata": {},
   "outputs": [],
   "source": [
    "# Datos Tabulares\n",
    "dataset = pd.read_csv(PATH_TO_TRAIN)"
   ]
  },
  {
   "cell_type": "code",
   "execution_count": 6,
   "metadata": {},
   "outputs": [
    {
     "data": {
      "text/plain": [
       "Index(['Type', 'Name', 'Age', 'Breed1', 'Breed2', 'Gender', 'Color1', 'Color2',\n",
       "       'Color3', 'MaturitySize', 'FurLength', 'Vaccinated', 'Dewormed',\n",
       "       'Sterilized', 'Health', 'Quantity', 'Fee', 'State', 'RescuerID',\n",
       "       'VideoAmt', 'Description', 'PetID', 'PhotoAmt', 'AdoptionSpeed'],\n",
       "      dtype='object')"
      ]
     },
     "execution_count": 6,
     "metadata": {},
     "output_type": "execute_result"
    }
   ],
   "source": [
    "#Columnas del dataset\n",
    "dataset.columns"
   ]
  },
  {
   "cell_type": "code",
   "execution_count": 7,
   "metadata": {},
   "outputs": [
    {
     "data": {
      "text/html": [
       "<div>\n",
       "<style scoped>\n",
       "    .dataframe tbody tr th:only-of-type {\n",
       "        vertical-align: middle;\n",
       "    }\n",
       "\n",
       "    .dataframe tbody tr th {\n",
       "        vertical-align: top;\n",
       "    }\n",
       "\n",
       "    .dataframe thead th {\n",
       "        text-align: right;\n",
       "    }\n",
       "</style>\n",
       "<table border=\"1\" class=\"dataframe\">\n",
       "  <thead>\n",
       "    <tr style=\"text-align: right;\">\n",
       "      <th></th>\n",
       "      <th>Type</th>\n",
       "      <th>Name</th>\n",
       "      <th>Age</th>\n",
       "      <th>Breed1</th>\n",
       "      <th>Breed2</th>\n",
       "      <th>Gender</th>\n",
       "      <th>Color1</th>\n",
       "      <th>Color2</th>\n",
       "      <th>Color3</th>\n",
       "      <th>MaturitySize</th>\n",
       "      <th>...</th>\n",
       "      <th>Health</th>\n",
       "      <th>Quantity</th>\n",
       "      <th>Fee</th>\n",
       "      <th>State</th>\n",
       "      <th>RescuerID</th>\n",
       "      <th>VideoAmt</th>\n",
       "      <th>Description</th>\n",
       "      <th>PetID</th>\n",
       "      <th>PhotoAmt</th>\n",
       "      <th>AdoptionSpeed</th>\n",
       "    </tr>\n",
       "  </thead>\n",
       "  <tbody>\n",
       "    <tr>\n",
       "      <th>0</th>\n",
       "      <td>2</td>\n",
       "      <td>Nibble</td>\n",
       "      <td>3</td>\n",
       "      <td>299</td>\n",
       "      <td>0</td>\n",
       "      <td>1</td>\n",
       "      <td>1</td>\n",
       "      <td>7</td>\n",
       "      <td>0</td>\n",
       "      <td>1</td>\n",
       "      <td>...</td>\n",
       "      <td>1</td>\n",
       "      <td>1</td>\n",
       "      <td>100</td>\n",
       "      <td>41326</td>\n",
       "      <td>8480853f516546f6cf33aa88cd76c379</td>\n",
       "      <td>0</td>\n",
       "      <td>Nibble is a 3+ month old ball of cuteness. He ...</td>\n",
       "      <td>86e1089a3</td>\n",
       "      <td>1.0</td>\n",
       "      <td>2</td>\n",
       "    </tr>\n",
       "    <tr>\n",
       "      <th>1</th>\n",
       "      <td>2</td>\n",
       "      <td>No Name Yet</td>\n",
       "      <td>1</td>\n",
       "      <td>265</td>\n",
       "      <td>0</td>\n",
       "      <td>1</td>\n",
       "      <td>1</td>\n",
       "      <td>2</td>\n",
       "      <td>0</td>\n",
       "      <td>2</td>\n",
       "      <td>...</td>\n",
       "      <td>1</td>\n",
       "      <td>1</td>\n",
       "      <td>0</td>\n",
       "      <td>41401</td>\n",
       "      <td>3082c7125d8fb66f7dd4bff4192c8b14</td>\n",
       "      <td>0</td>\n",
       "      <td>I just found it alone yesterday near my apartm...</td>\n",
       "      <td>6296e909a</td>\n",
       "      <td>2.0</td>\n",
       "      <td>0</td>\n",
       "    </tr>\n",
       "    <tr>\n",
       "      <th>2</th>\n",
       "      <td>1</td>\n",
       "      <td>Brisco</td>\n",
       "      <td>1</td>\n",
       "      <td>307</td>\n",
       "      <td>0</td>\n",
       "      <td>1</td>\n",
       "      <td>2</td>\n",
       "      <td>7</td>\n",
       "      <td>0</td>\n",
       "      <td>2</td>\n",
       "      <td>...</td>\n",
       "      <td>1</td>\n",
       "      <td>1</td>\n",
       "      <td>0</td>\n",
       "      <td>41326</td>\n",
       "      <td>fa90fa5b1ee11c86938398b60abc32cb</td>\n",
       "      <td>0</td>\n",
       "      <td>Their pregnant mother was dumped by her irresp...</td>\n",
       "      <td>3422e4906</td>\n",
       "      <td>7.0</td>\n",
       "      <td>3</td>\n",
       "    </tr>\n",
       "    <tr>\n",
       "      <th>3</th>\n",
       "      <td>1</td>\n",
       "      <td>Miko</td>\n",
       "      <td>4</td>\n",
       "      <td>307</td>\n",
       "      <td>0</td>\n",
       "      <td>2</td>\n",
       "      <td>1</td>\n",
       "      <td>2</td>\n",
       "      <td>0</td>\n",
       "      <td>2</td>\n",
       "      <td>...</td>\n",
       "      <td>1</td>\n",
       "      <td>1</td>\n",
       "      <td>150</td>\n",
       "      <td>41401</td>\n",
       "      <td>9238e4f44c71a75282e62f7136c6b240</td>\n",
       "      <td>0</td>\n",
       "      <td>Good guard dog, very alert, active, obedience ...</td>\n",
       "      <td>5842f1ff5</td>\n",
       "      <td>8.0</td>\n",
       "      <td>2</td>\n",
       "    </tr>\n",
       "    <tr>\n",
       "      <th>4</th>\n",
       "      <td>1</td>\n",
       "      <td>Hunter</td>\n",
       "      <td>1</td>\n",
       "      <td>307</td>\n",
       "      <td>0</td>\n",
       "      <td>1</td>\n",
       "      <td>1</td>\n",
       "      <td>0</td>\n",
       "      <td>0</td>\n",
       "      <td>2</td>\n",
       "      <td>...</td>\n",
       "      <td>1</td>\n",
       "      <td>1</td>\n",
       "      <td>0</td>\n",
       "      <td>41326</td>\n",
       "      <td>95481e953f8aed9ec3d16fc4509537e8</td>\n",
       "      <td>0</td>\n",
       "      <td>This handsome yet cute boy is up for adoption....</td>\n",
       "      <td>850a43f90</td>\n",
       "      <td>3.0</td>\n",
       "      <td>2</td>\n",
       "    </tr>\n",
       "  </tbody>\n",
       "</table>\n",
       "<p>5 rows × 24 columns</p>\n",
       "</div>"
      ],
      "text/plain": [
       "   Type         Name  Age  Breed1  Breed2  Gender  Color1  Color2  Color3  \\\n",
       "0     2       Nibble    3     299       0       1       1       7       0   \n",
       "1     2  No Name Yet    1     265       0       1       1       2       0   \n",
       "2     1       Brisco    1     307       0       1       2       7       0   \n",
       "3     1         Miko    4     307       0       2       1       2       0   \n",
       "4     1       Hunter    1     307       0       1       1       0       0   \n",
       "\n",
       "   MaturitySize  ...  Health  Quantity  Fee  State  \\\n",
       "0             1  ...       1         1  100  41326   \n",
       "1             2  ...       1         1    0  41401   \n",
       "2             2  ...       1         1    0  41326   \n",
       "3             2  ...       1         1  150  41401   \n",
       "4             2  ...       1         1    0  41326   \n",
       "\n",
       "                          RescuerID  VideoAmt  \\\n",
       "0  8480853f516546f6cf33aa88cd76c379         0   \n",
       "1  3082c7125d8fb66f7dd4bff4192c8b14         0   \n",
       "2  fa90fa5b1ee11c86938398b60abc32cb         0   \n",
       "3  9238e4f44c71a75282e62f7136c6b240         0   \n",
       "4  95481e953f8aed9ec3d16fc4509537e8         0   \n",
       "\n",
       "                                         Description      PetID PhotoAmt  \\\n",
       "0  Nibble is a 3+ month old ball of cuteness. He ...  86e1089a3      1.0   \n",
       "1  I just found it alone yesterday near my apartm...  6296e909a      2.0   \n",
       "2  Their pregnant mother was dumped by her irresp...  3422e4906      7.0   \n",
       "3  Good guard dog, very alert, active, obedience ...  5842f1ff5      8.0   \n",
       "4  This handsome yet cute boy is up for adoption....  850a43f90      3.0   \n",
       "\n",
       "   AdoptionSpeed  \n",
       "0              2  \n",
       "1              0  \n",
       "2              3  \n",
       "3              2  \n",
       "4              2  \n",
       "\n",
       "[5 rows x 24 columns]"
      ]
     },
     "execution_count": 7,
     "metadata": {},
     "output_type": "execute_result"
    }
   ],
   "source": [
    "dataset.head()"
   ]
  },
  {
   "cell_type": "markdown",
   "metadata": {},
   "source": [
    "## FEATURE ENGENEERING\n",
    "Haremos modificaciones en el dataset para ver si mejora o no la fuerza predictiva del modelo base"
   ]
  },
  {
   "cell_type": "code",
   "execution_count": 8,
   "metadata": {},
   "outputs": [
    {
     "data": {
      "text/plain": [
       "Type                0\n",
       "Name             1257\n",
       "Age                 0\n",
       "Breed1              0\n",
       "Breed2              0\n",
       "Gender              0\n",
       "Color1              0\n",
       "Color2              0\n",
       "Color3              0\n",
       "MaturitySize        0\n",
       "FurLength           0\n",
       "Vaccinated          0\n",
       "Dewormed            0\n",
       "Sterilized          0\n",
       "Health              0\n",
       "Quantity            0\n",
       "Fee                 0\n",
       "State               0\n",
       "RescuerID           0\n",
       "VideoAmt            0\n",
       "Description        12\n",
       "PetID               0\n",
       "PhotoAmt            0\n",
       "AdoptionSpeed       0\n",
       "dtype: int64"
      ]
     },
     "execution_count": 8,
     "metadata": {},
     "output_type": "execute_result"
    }
   ],
   "source": [
    "#Imputar datos faltantes en Nombre\n",
    "dataset.isnull().sum()"
   ]
  },
  {
   "cell_type": "code",
   "execution_count": 43,
   "metadata": {},
   "outputs": [],
   "source": [
    "\n",
    "def feature_engineering(dataset):\n",
    "    # Categorizacion de edad\n",
    "    bins = [0, 12, 60, float('inf')]  # Define la cantidad de categorias y los limites de las mismas\n",
    "    labels = [1, 2, 3]  # 1='puppy' 2='adult' 3='senior'\n",
    "    dataset['AgeCategory'] = pd.cut(dataset['Age'], bins, labels=labels, right=False)\n",
    "\n",
    "    # Combinacion para Breed\n",
    "    dataset['Breed'] = dataset.apply(lambda row: 2 if row['Breed2'] != 0 else 1, axis=1)\n",
    "\n",
    "    # Color\n",
    "    dataset['IsMultiColored'] = dataset.apply(lambda row: 1 if row['Color2'] != 0 or row['Color3'] != 0 else 0, axis=1)\n",
    "\n",
    "    # Name\n",
    "    dataset['Name'].fillna('No Name Yet', inplace=True)\n",
    "    dataset['Name'] = dataset['Name'].replace('', 'No Name Yet')\n",
    "    dataset['name_code'] = dataset['Name'].apply(lambda x: 1 if x != 'No Name Yet' else 0)\n",
    "\n",
    "    # Creación de nuevas características\n",
    "    dataset['Age_log'] = np.log1p(dataset['Age'])  # logaritmo de la edad\n",
    "    dataset['PhotoAmt_log'] = np.log1p(dataset['PhotoAmt'])  # logaritmo de la cantidad de fotos\n",
    "    dataset['VideoAmt_log'] = np.log1p(dataset['VideoAmt'])  # logaritmo de la cantidad de videos\n",
    "\n",
    "    # Interacciones entre características\n",
    "    dataset['Age_PhotoAmt'] = dataset['Age'] * dataset['PhotoAmt']  # relación entre la edad de la mascota y la cantidad de fotos\n",
    "    dataset['Age_VideoAmt'] = dataset['Age'] * dataset['VideoAmt']  # relación entre la edad de la mascota y la cantidad de videos\n",
    "\n",
    "    # Agregaciones y agrupaciones\n",
    "    dataset['Breed1_mean_Age'] = dataset.groupby('Breed1')['Age'].transform('mean')  # promedio de edad por raza\n",
    "    dataset['Breed1_mean_PhotoAmt'] = dataset.groupby('Breed1')['PhotoAmt'].transform('mean')  # promedio de fotos por raza\n",
    "\n",
    "    # Agregar cantidad de palabras del describe y longitud del texto\n",
    "    dataset[\"description_word_count\"] = dataset[\"Description\"].apply(lambda x: len(str(x).split()) if pd.notnull(x) else 0)\n",
    "    dataset['Description_Length'] = dataset['Description'].apply(lambda x: len(x) if isinstance(x, str) else 0)\n",
    "\n",
    "    # Health\n",
    "    dataset['Health'] = dataset['Vaccinated'].astype(str) + '_' + dataset['Dewormed'].astype(str) + '_' + dataset['Sterilized'].astype(str)\n",
    "\n",
    "    # Nuevas características basadas en interacciones y transformaciones\n",
    "    dataset['Photo_Video_Ratio'] = dataset['PhotoAmt'] / (dataset['VideoAmt'] + 1)  # Evitar división por cero\n",
    "    dataset['Fee_log'] = np.log1p(dataset['Fee'])  # Logaritmo de la tarifa de adopción\n",
    "    dataset['Fee_Age_Ratio'] = dataset['Fee'] / (dataset['Age'] + 1)  # Evitar división por cero\n",
    "    dataset['RescuerID_count'] = dataset.groupby('RescuerID')['RescuerID'].transform('count')  # Número de mascotas rescatadas por el mismo rescatador\n",
    "    dataset['Name_Length'] = dataset['Name'].apply(len)  # Longitud del nombre de la mascota\n",
    "    dataset['Name_Word_Count'] = dataset['Name'].apply(lambda x: len(x.split()))  # Número de palabras en el nombre de la mascota\n",
    "    dataset['RescuerID_Length'] = dataset['RescuerID'].apply(len)  # Longitud del ID del rescatador\n",
    "    dataset['RescuerID_Word_Count'] = dataset['RescuerID'].apply(lambda x: len(x.split()))  # Número de palabras en el ID del rescatador\n",
    "    dataset['MaturitySize_FurLength'] = dataset['MaturitySize'] * dataset['FurLength']\n",
    "    dataset['PhotoAmt_FurLength'] = dataset['PhotoAmt'] * dataset['FurLength']\n",
    "    dataset['VideoAmt_FurLength'] = dataset['VideoAmt'] * dataset['FurLength']\n",
    "\n",
    "    return dataset\n"
   ]
  },
  {
   "cell_type": "code",
   "execution_count": 44,
   "metadata": {},
   "outputs": [
    {
     "data": {
      "text/html": [
       "<div>\n",
       "<style scoped>\n",
       "    .dataframe tbody tr th:only-of-type {\n",
       "        vertical-align: middle;\n",
       "    }\n",
       "\n",
       "    .dataframe tbody tr th {\n",
       "        vertical-align: top;\n",
       "    }\n",
       "\n",
       "    .dataframe thead th {\n",
       "        text-align: right;\n",
       "    }\n",
       "</style>\n",
       "<table border=\"1\" class=\"dataframe\">\n",
       "  <thead>\n",
       "    <tr style=\"text-align: right;\">\n",
       "      <th></th>\n",
       "      <th>Type</th>\n",
       "      <th>Name</th>\n",
       "      <th>Age</th>\n",
       "      <th>Breed1</th>\n",
       "      <th>Breed2</th>\n",
       "      <th>Gender</th>\n",
       "      <th>Color1</th>\n",
       "      <th>Color2</th>\n",
       "      <th>Color3</th>\n",
       "      <th>MaturitySize</th>\n",
       "      <th>...</th>\n",
       "      <th>Fee_log</th>\n",
       "      <th>Fee_Age_Ratio</th>\n",
       "      <th>RescuerID_count</th>\n",
       "      <th>Name_Length</th>\n",
       "      <th>Name_Word_Count</th>\n",
       "      <th>RescuerID_Length</th>\n",
       "      <th>RescuerID_Word_Count</th>\n",
       "      <th>MaturitySize_FurLength</th>\n",
       "      <th>PhotoAmt_FurLength</th>\n",
       "      <th>VideoAmt_FurLength</th>\n",
       "    </tr>\n",
       "  </thead>\n",
       "  <tbody>\n",
       "    <tr>\n",
       "      <th>0</th>\n",
       "      <td>2</td>\n",
       "      <td>Dopey &amp; Grey</td>\n",
       "      <td>8</td>\n",
       "      <td>266</td>\n",
       "      <td>266</td>\n",
       "      <td>1</td>\n",
       "      <td>2</td>\n",
       "      <td>6</td>\n",
       "      <td>7</td>\n",
       "      <td>1</td>\n",
       "      <td>...</td>\n",
       "      <td>0.000000</td>\n",
       "      <td>0.000000</td>\n",
       "      <td>2</td>\n",
       "      <td>12</td>\n",
       "      <td>3</td>\n",
       "      <td>32</td>\n",
       "      <td>1</td>\n",
       "      <td>1</td>\n",
       "      <td>2.0</td>\n",
       "      <td>0</td>\n",
       "    </tr>\n",
       "    <tr>\n",
       "      <th>1</th>\n",
       "      <td>2</td>\n",
       "      <td>Chi Chi</td>\n",
       "      <td>36</td>\n",
       "      <td>285</td>\n",
       "      <td>264</td>\n",
       "      <td>2</td>\n",
       "      <td>1</td>\n",
       "      <td>4</td>\n",
       "      <td>7</td>\n",
       "      <td>2</td>\n",
       "      <td>...</td>\n",
       "      <td>0.000000</td>\n",
       "      <td>0.000000</td>\n",
       "      <td>2</td>\n",
       "      <td>7</td>\n",
       "      <td>2</td>\n",
       "      <td>32</td>\n",
       "      <td>1</td>\n",
       "      <td>6</td>\n",
       "      <td>3.0</td>\n",
       "      <td>0</td>\n",
       "    </tr>\n",
       "    <tr>\n",
       "      <th>2</th>\n",
       "      <td>2</td>\n",
       "      <td>Sticky</td>\n",
       "      <td>2</td>\n",
       "      <td>265</td>\n",
       "      <td>0</td>\n",
       "      <td>1</td>\n",
       "      <td>6</td>\n",
       "      <td>7</td>\n",
       "      <td>0</td>\n",
       "      <td>2</td>\n",
       "      <td>...</td>\n",
       "      <td>5.303305</td>\n",
       "      <td>66.666667</td>\n",
       "      <td>6</td>\n",
       "      <td>6</td>\n",
       "      <td>1</td>\n",
       "      <td>32</td>\n",
       "      <td>1</td>\n",
       "      <td>4</td>\n",
       "      <td>8.0</td>\n",
       "      <td>0</td>\n",
       "    </tr>\n",
       "    <tr>\n",
       "      <th>3</th>\n",
       "      <td>1</td>\n",
       "      <td>Dannie &amp; Kass [In Penang]</td>\n",
       "      <td>12</td>\n",
       "      <td>307</td>\n",
       "      <td>0</td>\n",
       "      <td>2</td>\n",
       "      <td>2</td>\n",
       "      <td>5</td>\n",
       "      <td>0</td>\n",
       "      <td>2</td>\n",
       "      <td>...</td>\n",
       "      <td>0.000000</td>\n",
       "      <td>0.000000</td>\n",
       "      <td>6</td>\n",
       "      <td>25</td>\n",
       "      <td>5</td>\n",
       "      <td>32</td>\n",
       "      <td>1</td>\n",
       "      <td>4</td>\n",
       "      <td>10.0</td>\n",
       "      <td>0</td>\n",
       "    </tr>\n",
       "    <tr>\n",
       "      <th>4</th>\n",
       "      <td>2</td>\n",
       "      <td>Cuddles</td>\n",
       "      <td>12</td>\n",
       "      <td>265</td>\n",
       "      <td>0</td>\n",
       "      <td>1</td>\n",
       "      <td>2</td>\n",
       "      <td>3</td>\n",
       "      <td>7</td>\n",
       "      <td>2</td>\n",
       "      <td>...</td>\n",
       "      <td>0.000000</td>\n",
       "      <td>0.000000</td>\n",
       "      <td>6</td>\n",
       "      <td>7</td>\n",
       "      <td>1</td>\n",
       "      <td>32</td>\n",
       "      <td>1</td>\n",
       "      <td>4</td>\n",
       "      <td>10.0</td>\n",
       "      <td>0</td>\n",
       "    </tr>\n",
       "  </tbody>\n",
       "</table>\n",
       "<p>5 rows × 47 columns</p>\n",
       "</div>"
      ],
      "text/plain": [
       "   Type                       Name  Age  Breed1  Breed2  Gender  Color1  \\\n",
       "0     2               Dopey & Grey    8     266     266       1       2   \n",
       "1     2                    Chi Chi   36     285     264       2       1   \n",
       "2     2                     Sticky    2     265       0       1       6   \n",
       "3     1  Dannie & Kass [In Penang]   12     307       0       2       2   \n",
       "4     2                    Cuddles   12     265       0       1       2   \n",
       "\n",
       "   Color2  Color3  MaturitySize  ...   Fee_log  Fee_Age_Ratio  \\\n",
       "0       6       7             1  ...  0.000000       0.000000   \n",
       "1       4       7             2  ...  0.000000       0.000000   \n",
       "2       7       0             2  ...  5.303305      66.666667   \n",
       "3       5       0             2  ...  0.000000       0.000000   \n",
       "4       3       7             2  ...  0.000000       0.000000   \n",
       "\n",
       "   RescuerID_count  Name_Length Name_Word_Count  RescuerID_Length  \\\n",
       "0                2           12               3                32   \n",
       "1                2            7               2                32   \n",
       "2                6            6               1                32   \n",
       "3                6           25               5                32   \n",
       "4                6            7               1                32   \n",
       "\n",
       "   RescuerID_Word_Count  MaturitySize_FurLength PhotoAmt_FurLength  \\\n",
       "0                     1                       1                2.0   \n",
       "1                     1                       6                3.0   \n",
       "2                     1                       4                8.0   \n",
       "3                     1                       4               10.0   \n",
       "4                     1                       4               10.0   \n",
       "\n",
       "   VideoAmt_FurLength  \n",
       "0                   0  \n",
       "1                   0  \n",
       "2                   0  \n",
       "3                   0  \n",
       "4                   0  \n",
       "\n",
       "[5 rows x 47 columns]"
      ]
     },
     "execution_count": 44,
     "metadata": {},
     "output_type": "execute_result"
    }
   ],
   "source": [
    "feature_engineering(dataset)\n",
    "dataset.head()"
   ]
  },
  {
   "cell_type": "code",
   "execution_count": 11,
   "metadata": {},
   "outputs": [
    {
     "name": "stdout",
     "output_type": "stream",
     "text": [
      "Variables numéricas: ['Type', 'Age', 'Breed1', 'Breed2', 'Gender', 'Color1', 'Color2', 'Color3', 'MaturitySize', 'FurLength', 'Vaccinated', 'Dewormed', 'Sterilized', 'Quantity', 'Fee', 'State', 'VideoAmt', 'PhotoAmt', 'AdoptionSpeed', 'Breed', 'IsMultiColored', 'name_code', 'Age_log', 'PhotoAmt_log', 'VideoAmt_log', 'Age_PhotoAmt', 'Age_VideoAmt', 'Breed1_mean_Age', 'Breed1_mean_PhotoAmt', 'description_word_count', 'Description_Length', 'Photo_Video_Ratio', 'Fee_log', 'Fee_Age_Ratio', 'RescuerID_count', 'Name_Length', 'Name_Word_Count', 'RescuerID_Length', 'RescuerID_Word_Count', 'MaturitySize_FurLength', 'PhotoAmt_FurLength', 'VideoAmt_FurLength']\n",
      "Variables categóricas: ['Name', 'Health', 'RescuerID', 'Description', 'PetID', 'AgeCategory']\n"
     ]
    }
   ],
   "source": [
    "# Supongamos que 'dataset' es tu DataFrame\n",
    "\n",
    "# Listar variables numéricas\n",
    "numeric_features = dataset.select_dtypes(include=['number']).columns.tolist()\n",
    "print(\"Variables numéricas:\", numeric_features)\n",
    "\n",
    "# Listar variables categóricas\n",
    "categorical_features = dataset.select_dtypes(include=['object', 'category']).columns.tolist()\n",
    "print(\"Variables categóricas:\", categorical_features)"
   ]
  },
  {
   "cell_type": "code",
   "execution_count": 12,
   "metadata": {},
   "outputs": [],
   "source": [
    "#Este fragmento de código define una función add_new_variables_with_lgbm que agrega nuevas variables a un conjunto de datos utilizando un modelo de LightGBM. Aquí está el desglose paso a paso:\n",
    "def add_new_variables_with_lgbm(dataset):\n",
    "    # Selección de características numéricas y categóricas:\n",
    "    numeric_features = ['Age', 'VideoAmt', 'PhotoAmt', 'AgeCategory', 'IsMultiColored', 'name_code','Age_log', 'PhotoAmt_log', 'VideoAmt_log', 'Age_PhotoAmt', 'Age_VideoAmt', 'Breed1_mean_Age', 'Breed1_mean_PhotoAmt']\n",
    "    categorical_features = ['Type', 'Breed1', 'Breed2', 'Gender', 'Color1', 'Color2', 'Color3']\n",
    "\n",
    "    # Codificación de características categóricas:\n",
    "    encoded_features = pd.get_dummies(dataset[categorical_features], columns=categorical_features, prefix=categorical_features)\n",
    "\n",
    "    # Concatenación de características numéricas y codificadas:\n",
    "    processed_dataset = pd.concat([dataset[numeric_features], encoded_features], axis=1)\n",
    "\n",
    "    # Creación del conjunto de datos de entrenamiento:\n",
    "    target = dataset['AdoptionSpeed']\n",
    "    train_data = lgb.Dataset(processed_dataset, label=target, params={'verbose': -1})\n",
    "\n",
    "    # Definición de parámetros de LightGBM\n",
    "    lgb_params = {\n",
    "        'objective': 'multiclass',\n",
    "        'num_class': 5,  \n",
    "        'metric': 'multi_logloss',\n",
    "        'boosting_type': 'gbdt',\n",
    "    }\n",
    "\n",
    "    # Entrenamiento del modelo LightGBM:\n",
    "    model = lgb.train(lgb_params, train_data)\n",
    "\n",
    "    # Obtención de predicciones para cada muestra:\n",
    "    predictions = model.predict(processed_dataset)\n",
    "\n",
    "    # Adición de nuevas variables basadas en las predicciones:\n",
    "    for class_num in range(5):  \n",
    "        dataset[f'prediction_class_{class_num}'] = predictions[:, class_num]\n",
    "\n",
    "    return dataset\n",
    "\n",
    "# Llamada a la función con el DataFrame:\n",
    "df_with_new_variables = add_new_variables_with_lgbm(dataset.copy())  # Usar dataset.copy() para evitar modificar el DataFrame original"
   ]
  },
  {
   "cell_type": "code",
   "execution_count": 13,
   "metadata": {},
   "outputs": [
    {
     "data": {
      "text/html": [
       "<div>\n",
       "<style scoped>\n",
       "    .dataframe tbody tr th:only-of-type {\n",
       "        vertical-align: middle;\n",
       "    }\n",
       "\n",
       "    .dataframe tbody tr th {\n",
       "        vertical-align: top;\n",
       "    }\n",
       "\n",
       "    .dataframe thead th {\n",
       "        text-align: right;\n",
       "    }\n",
       "</style>\n",
       "<table border=\"1\" class=\"dataframe\">\n",
       "  <thead>\n",
       "    <tr style=\"text-align: right;\">\n",
       "      <th></th>\n",
       "      <th>Type</th>\n",
       "      <th>Name</th>\n",
       "      <th>Age</th>\n",
       "      <th>Breed1</th>\n",
       "      <th>Breed2</th>\n",
       "      <th>Gender</th>\n",
       "      <th>Color1</th>\n",
       "      <th>Color2</th>\n",
       "      <th>Color3</th>\n",
       "      <th>MaturitySize</th>\n",
       "      <th>...</th>\n",
       "      <th>RescuerID_Length</th>\n",
       "      <th>RescuerID_Word_Count</th>\n",
       "      <th>MaturitySize_FurLength</th>\n",
       "      <th>PhotoAmt_FurLength</th>\n",
       "      <th>VideoAmt_FurLength</th>\n",
       "      <th>prediction_class_0</th>\n",
       "      <th>prediction_class_1</th>\n",
       "      <th>prediction_class_2</th>\n",
       "      <th>prediction_class_3</th>\n",
       "      <th>prediction_class_4</th>\n",
       "    </tr>\n",
       "  </thead>\n",
       "  <tbody>\n",
       "    <tr>\n",
       "      <th>0</th>\n",
       "      <td>2</td>\n",
       "      <td>Nibble</td>\n",
       "      <td>3</td>\n",
       "      <td>299</td>\n",
       "      <td>0</td>\n",
       "      <td>1</td>\n",
       "      <td>1</td>\n",
       "      <td>7</td>\n",
       "      <td>0</td>\n",
       "      <td>1</td>\n",
       "      <td>...</td>\n",
       "      <td>32</td>\n",
       "      <td>1</td>\n",
       "      <td>1</td>\n",
       "      <td>1.0</td>\n",
       "      <td>0</td>\n",
       "      <td>0.037444</td>\n",
       "      <td>0.262202</td>\n",
       "      <td>0.341899</td>\n",
       "      <td>0.174184</td>\n",
       "      <td>0.184271</td>\n",
       "    </tr>\n",
       "    <tr>\n",
       "      <th>1</th>\n",
       "      <td>2</td>\n",
       "      <td>No Name Yet</td>\n",
       "      <td>1</td>\n",
       "      <td>265</td>\n",
       "      <td>0</td>\n",
       "      <td>1</td>\n",
       "      <td>1</td>\n",
       "      <td>2</td>\n",
       "      <td>0</td>\n",
       "      <td>2</td>\n",
       "      <td>...</td>\n",
       "      <td>32</td>\n",
       "      <td>1</td>\n",
       "      <td>4</td>\n",
       "      <td>4.0</td>\n",
       "      <td>0</td>\n",
       "      <td>0.038419</td>\n",
       "      <td>0.394528</td>\n",
       "      <td>0.266756</td>\n",
       "      <td>0.123176</td>\n",
       "      <td>0.177121</td>\n",
       "    </tr>\n",
       "    <tr>\n",
       "      <th>2</th>\n",
       "      <td>1</td>\n",
       "      <td>Brisco</td>\n",
       "      <td>1</td>\n",
       "      <td>307</td>\n",
       "      <td>0</td>\n",
       "      <td>1</td>\n",
       "      <td>2</td>\n",
       "      <td>7</td>\n",
       "      <td>0</td>\n",
       "      <td>2</td>\n",
       "      <td>...</td>\n",
       "      <td>32</td>\n",
       "      <td>1</td>\n",
       "      <td>4</td>\n",
       "      <td>14.0</td>\n",
       "      <td>0</td>\n",
       "      <td>0.008326</td>\n",
       "      <td>0.269072</td>\n",
       "      <td>0.336809</td>\n",
       "      <td>0.333211</td>\n",
       "      <td>0.052583</td>\n",
       "    </tr>\n",
       "    <tr>\n",
       "      <th>3</th>\n",
       "      <td>1</td>\n",
       "      <td>Miko</td>\n",
       "      <td>4</td>\n",
       "      <td>307</td>\n",
       "      <td>0</td>\n",
       "      <td>2</td>\n",
       "      <td>1</td>\n",
       "      <td>2</td>\n",
       "      <td>0</td>\n",
       "      <td>2</td>\n",
       "      <td>...</td>\n",
       "      <td>32</td>\n",
       "      <td>1</td>\n",
       "      <td>2</td>\n",
       "      <td>8.0</td>\n",
       "      <td>0</td>\n",
       "      <td>0.002474</td>\n",
       "      <td>0.070148</td>\n",
       "      <td>0.260799</td>\n",
       "      <td>0.377054</td>\n",
       "      <td>0.289525</td>\n",
       "    </tr>\n",
       "    <tr>\n",
       "      <th>4</th>\n",
       "      <td>1</td>\n",
       "      <td>Hunter</td>\n",
       "      <td>1</td>\n",
       "      <td>307</td>\n",
       "      <td>0</td>\n",
       "      <td>1</td>\n",
       "      <td>1</td>\n",
       "      <td>0</td>\n",
       "      <td>0</td>\n",
       "      <td>2</td>\n",
       "      <td>...</td>\n",
       "      <td>32</td>\n",
       "      <td>1</td>\n",
       "      <td>2</td>\n",
       "      <td>3.0</td>\n",
       "      <td>0</td>\n",
       "      <td>0.008175</td>\n",
       "      <td>0.353589</td>\n",
       "      <td>0.340138</td>\n",
       "      <td>0.199402</td>\n",
       "      <td>0.098695</td>\n",
       "    </tr>\n",
       "    <tr>\n",
       "      <th>...</th>\n",
       "      <td>...</td>\n",
       "      <td>...</td>\n",
       "      <td>...</td>\n",
       "      <td>...</td>\n",
       "      <td>...</td>\n",
       "      <td>...</td>\n",
       "      <td>...</td>\n",
       "      <td>...</td>\n",
       "      <td>...</td>\n",
       "      <td>...</td>\n",
       "      <td>...</td>\n",
       "      <td>...</td>\n",
       "      <td>...</td>\n",
       "      <td>...</td>\n",
       "      <td>...</td>\n",
       "      <td>...</td>\n",
       "      <td>...</td>\n",
       "      <td>...</td>\n",
       "      <td>...</td>\n",
       "      <td>...</td>\n",
       "      <td>...</td>\n",
       "    </tr>\n",
       "    <tr>\n",
       "      <th>14988</th>\n",
       "      <td>2</td>\n",
       "      <td>No Name Yet</td>\n",
       "      <td>2</td>\n",
       "      <td>266</td>\n",
       "      <td>0</td>\n",
       "      <td>3</td>\n",
       "      <td>1</td>\n",
       "      <td>0</td>\n",
       "      <td>0</td>\n",
       "      <td>2</td>\n",
       "      <td>...</td>\n",
       "      <td>32</td>\n",
       "      <td>1</td>\n",
       "      <td>4</td>\n",
       "      <td>6.0</td>\n",
       "      <td>0</td>\n",
       "      <td>0.010775</td>\n",
       "      <td>0.250261</td>\n",
       "      <td>0.247416</td>\n",
       "      <td>0.219092</td>\n",
       "      <td>0.272456</td>\n",
       "    </tr>\n",
       "    <tr>\n",
       "      <th>14989</th>\n",
       "      <td>2</td>\n",
       "      <td>Serato &amp; Eddie</td>\n",
       "      <td>60</td>\n",
       "      <td>265</td>\n",
       "      <td>264</td>\n",
       "      <td>3</td>\n",
       "      <td>1</td>\n",
       "      <td>4</td>\n",
       "      <td>7</td>\n",
       "      <td>2</td>\n",
       "      <td>...</td>\n",
       "      <td>32</td>\n",
       "      <td>1</td>\n",
       "      <td>4</td>\n",
       "      <td>6.0</td>\n",
       "      <td>0</td>\n",
       "      <td>0.001732</td>\n",
       "      <td>0.027652</td>\n",
       "      <td>0.254474</td>\n",
       "      <td>0.168685</td>\n",
       "      <td>0.547455</td>\n",
       "    </tr>\n",
       "    <tr>\n",
       "      <th>14990</th>\n",
       "      <td>2</td>\n",
       "      <td>Monkies</td>\n",
       "      <td>2</td>\n",
       "      <td>265</td>\n",
       "      <td>266</td>\n",
       "      <td>3</td>\n",
       "      <td>5</td>\n",
       "      <td>6</td>\n",
       "      <td>7</td>\n",
       "      <td>3</td>\n",
       "      <td>...</td>\n",
       "      <td>32</td>\n",
       "      <td>1</td>\n",
       "      <td>6</td>\n",
       "      <td>10.0</td>\n",
       "      <td>0</td>\n",
       "      <td>0.021769</td>\n",
       "      <td>0.397967</td>\n",
       "      <td>0.237364</td>\n",
       "      <td>0.200740</td>\n",
       "      <td>0.142159</td>\n",
       "    </tr>\n",
       "    <tr>\n",
       "      <th>14991</th>\n",
       "      <td>2</td>\n",
       "      <td>Ms Daym</td>\n",
       "      <td>9</td>\n",
       "      <td>266</td>\n",
       "      <td>0</td>\n",
       "      <td>2</td>\n",
       "      <td>4</td>\n",
       "      <td>7</td>\n",
       "      <td>0</td>\n",
       "      <td>1</td>\n",
       "      <td>...</td>\n",
       "      <td>32</td>\n",
       "      <td>1</td>\n",
       "      <td>1</td>\n",
       "      <td>3.0</td>\n",
       "      <td>0</td>\n",
       "      <td>0.017490</td>\n",
       "      <td>0.108205</td>\n",
       "      <td>0.143727</td>\n",
       "      <td>0.207379</td>\n",
       "      <td>0.523199</td>\n",
       "    </tr>\n",
       "    <tr>\n",
       "      <th>14992</th>\n",
       "      <td>1</td>\n",
       "      <td>Fili</td>\n",
       "      <td>1</td>\n",
       "      <td>307</td>\n",
       "      <td>307</td>\n",
       "      <td>1</td>\n",
       "      <td>2</td>\n",
       "      <td>0</td>\n",
       "      <td>0</td>\n",
       "      <td>2</td>\n",
       "      <td>...</td>\n",
       "      <td>32</td>\n",
       "      <td>1</td>\n",
       "      <td>2</td>\n",
       "      <td>1.0</td>\n",
       "      <td>0</td>\n",
       "      <td>0.018504</td>\n",
       "      <td>0.175478</td>\n",
       "      <td>0.360164</td>\n",
       "      <td>0.353181</td>\n",
       "      <td>0.092672</td>\n",
       "    </tr>\n",
       "  </tbody>\n",
       "</table>\n",
       "<p>14993 rows × 53 columns</p>\n",
       "</div>"
      ],
      "text/plain": [
       "       Type            Name  Age  Breed1  Breed2  Gender  Color1  Color2  \\\n",
       "0         2          Nibble    3     299       0       1       1       7   \n",
       "1         2     No Name Yet    1     265       0       1       1       2   \n",
       "2         1          Brisco    1     307       0       1       2       7   \n",
       "3         1            Miko    4     307       0       2       1       2   \n",
       "4         1          Hunter    1     307       0       1       1       0   \n",
       "...     ...             ...  ...     ...     ...     ...     ...     ...   \n",
       "14988     2     No Name Yet    2     266       0       3       1       0   \n",
       "14989     2  Serato & Eddie   60     265     264       3       1       4   \n",
       "14990     2         Monkies    2     265     266       3       5       6   \n",
       "14991     2         Ms Daym    9     266       0       2       4       7   \n",
       "14992     1            Fili    1     307     307       1       2       0   \n",
       "\n",
       "       Color3  MaturitySize  ...  RescuerID_Length  RescuerID_Word_Count  \\\n",
       "0           0             1  ...                32                     1   \n",
       "1           0             2  ...                32                     1   \n",
       "2           0             2  ...                32                     1   \n",
       "3           0             2  ...                32                     1   \n",
       "4           0             2  ...                32                     1   \n",
       "...       ...           ...  ...               ...                   ...   \n",
       "14988       0             2  ...                32                     1   \n",
       "14989       7             2  ...                32                     1   \n",
       "14990       7             3  ...                32                     1   \n",
       "14991       0             1  ...                32                     1   \n",
       "14992       0             2  ...                32                     1   \n",
       "\n",
       "       MaturitySize_FurLength  PhotoAmt_FurLength VideoAmt_FurLength  \\\n",
       "0                           1                 1.0                  0   \n",
       "1                           4                 4.0                  0   \n",
       "2                           4                14.0                  0   \n",
       "3                           2                 8.0                  0   \n",
       "4                           2                 3.0                  0   \n",
       "...                       ...                 ...                ...   \n",
       "14988                       4                 6.0                  0   \n",
       "14989                       4                 6.0                  0   \n",
       "14990                       6                10.0                  0   \n",
       "14991                       1                 3.0                  0   \n",
       "14992                       2                 1.0                  0   \n",
       "\n",
       "       prediction_class_0  prediction_class_1  prediction_class_2  \\\n",
       "0                0.037444            0.262202            0.341899   \n",
       "1                0.038419            0.394528            0.266756   \n",
       "2                0.008326            0.269072            0.336809   \n",
       "3                0.002474            0.070148            0.260799   \n",
       "4                0.008175            0.353589            0.340138   \n",
       "...                   ...                 ...                 ...   \n",
       "14988            0.010775            0.250261            0.247416   \n",
       "14989            0.001732            0.027652            0.254474   \n",
       "14990            0.021769            0.397967            0.237364   \n",
       "14991            0.017490            0.108205            0.143727   \n",
       "14992            0.018504            0.175478            0.360164   \n",
       "\n",
       "      prediction_class_3  prediction_class_4  \n",
       "0               0.174184            0.184271  \n",
       "1               0.123176            0.177121  \n",
       "2               0.333211            0.052583  \n",
       "3               0.377054            0.289525  \n",
       "4               0.199402            0.098695  \n",
       "...                  ...                 ...  \n",
       "14988           0.219092            0.272456  \n",
       "14989           0.168685            0.547455  \n",
       "14990           0.200740            0.142159  \n",
       "14991           0.207379            0.523199  \n",
       "14992           0.353181            0.092672  \n",
       "\n",
       "[14993 rows x 53 columns]"
      ]
     },
     "execution_count": 13,
     "metadata": {},
     "output_type": "execute_result"
    }
   ],
   "source": [
    "df_with_new_variables"
   ]
  },
  {
   "cell_type": "code",
   "execution_count": 14,
   "metadata": {},
   "outputs": [],
   "source": [
    "dataset=df_with_new_variables"
   ]
  },
  {
   "cell_type": "code",
   "execution_count": 15,
   "metadata": {},
   "outputs": [],
   "source": [
    "\n",
    "#Separo un 20% para test estratificado opr target\n",
    "#PERO MANTENEMOS LA PROPORCION\n",
    "train, test = train_test_split(dataset,\n",
    "                               test_size = TEST_SIZE,\n",
    "                               random_state = SEED,\n",
    "                               stratify = dataset.AdoptionSpeed)"
   ]
  },
  {
   "cell_type": "code",
   "execution_count": 16,
   "metadata": {},
   "outputs": [],
   "source": [
    "#Armo listas con features de texto y numericas\n",
    "char_feats = [f for f in dataset.columns if dataset[f].dtype=='O']\n",
    "numeric_feats = [f for f in dataset.columns if dataset[f].dtype!='O']"
   ]
  },
  {
   "cell_type": "code",
   "execution_count": 17,
   "metadata": {},
   "outputs": [
    {
     "data": {
      "text/plain": [
       "['Type',\n",
       " 'Age',\n",
       " 'Breed1',\n",
       " 'Breed2',\n",
       " 'Gender',\n",
       " 'Color1',\n",
       " 'Color2',\n",
       " 'Color3',\n",
       " 'MaturitySize',\n",
       " 'FurLength',\n",
       " 'Vaccinated',\n",
       " 'Dewormed',\n",
       " 'Sterilized',\n",
       " 'Quantity',\n",
       " 'Fee',\n",
       " 'State',\n",
       " 'VideoAmt',\n",
       " 'PhotoAmt',\n",
       " 'AdoptionSpeed',\n",
       " 'AgeCategory',\n",
       " 'Breed',\n",
       " 'IsMultiColored',\n",
       " 'name_code',\n",
       " 'Age_log',\n",
       " 'PhotoAmt_log',\n",
       " 'VideoAmt_log',\n",
       " 'Age_PhotoAmt',\n",
       " 'Age_VideoAmt',\n",
       " 'Breed1_mean_Age',\n",
       " 'Breed1_mean_PhotoAmt',\n",
       " 'description_word_count',\n",
       " 'Description_Length',\n",
       " 'Photo_Video_Ratio',\n",
       " 'Fee_log',\n",
       " 'Fee_Age_Ratio',\n",
       " 'RescuerID_count',\n",
       " 'Name_Length',\n",
       " 'Name_Word_Count',\n",
       " 'RescuerID_Length',\n",
       " 'RescuerID_Word_Count',\n",
       " 'MaturitySize_FurLength',\n",
       " 'PhotoAmt_FurLength',\n",
       " 'VideoAmt_FurLength',\n",
       " 'prediction_class_0',\n",
       " 'prediction_class_1',\n",
       " 'prediction_class_2',\n",
       " 'prediction_class_3',\n",
       " 'prediction_class_4']"
      ]
     },
     "execution_count": 17,
     "metadata": {},
     "output_type": "execute_result"
    }
   ],
   "source": [
    "#Lista de features numericas\n",
    "#ESTE EJEMPLO SE HACE SOLO CON VARIABLES NUMERICAS\n",
    "numeric_feats"
   ]
  },
  {
   "cell_type": "code",
   "execution_count": 18,
   "metadata": {},
   "outputs": [],
   "source": [
    "\n",
    "#Defino features a usar en un primer modelo de prueba\n",
    "features = ['Type',\n",
    " 'Age',\n",
    " 'Breed1',\n",
    " 'Breed2',\n",
    " 'Gender',\n",
    " 'Color1',\n",
    " 'Color2',\n",
    " 'Color3',\n",
    " 'MaturitySize',\n",
    " 'FurLength',\n",
    " 'Vaccinated',\n",
    " 'Dewormed',\n",
    " 'Sterilized',\n",
    " 'Quantity',\n",
    " 'Fee',\n",
    " 'State',\n",
    " 'VideoAmt',\n",
    " 'PhotoAmt',\n",
    " #'AdoptionSpeed',\n",
    " 'AgeCategory',\n",
    " 'Breed',\n",
    " 'IsMultiColored',\n",
    " 'name_code',\n",
    " 'Age_log',\n",
    " 'PhotoAmt_log',\n",
    " 'VideoAmt_log',\n",
    " 'Age_PhotoAmt',\n",
    " 'Age_VideoAmt',\n",
    " 'Breed1_mean_Age',\n",
    " 'Breed1_mean_PhotoAmt',\n",
    " 'description_word_count',\n",
    " 'Description_Length',\n",
    " 'Photo_Video_Ratio',\n",
    " 'Fee_log',\n",
    " 'Fee_Age_Ratio',\n",
    " 'RescuerID_count',\n",
    " 'Name_Length',\n",
    " 'Name_Word_Count',\n",
    " 'RescuerID_Length',\n",
    " 'RescuerID_Word_Count',\n",
    " 'MaturitySize_FurLength',\n",
    " 'PhotoAmt_FurLength',\n",
    " 'VideoAmt_FurLength',]\n",
    " #'prediction_class_0',\n",
    " #'prediction_class_1',\n",
    " #'prediction_class_2',\n",
    " #'prediction_class_3',\n",
    " #'prediction_class_4']\n",
    "\n",
    "label = 'AdoptionSpeed'"
   ]
  },
  {
   "cell_type": "code",
   "execution_count": 19,
   "metadata": {},
   "outputs": [
    {
     "data": {
      "text/html": [
       "<div>\n",
       "<style scoped>\n",
       "    .dataframe tbody tr th:only-of-type {\n",
       "        vertical-align: middle;\n",
       "    }\n",
       "\n",
       "    .dataframe tbody tr th {\n",
       "        vertical-align: top;\n",
       "    }\n",
       "\n",
       "    .dataframe thead th {\n",
       "        text-align: right;\n",
       "    }\n",
       "</style>\n",
       "<table border=\"1\" class=\"dataframe\">\n",
       "  <thead>\n",
       "    <tr style=\"text-align: right;\">\n",
       "      <th></th>\n",
       "      <th>Type</th>\n",
       "      <th>Name</th>\n",
       "      <th>Age</th>\n",
       "      <th>Breed1</th>\n",
       "      <th>Breed2</th>\n",
       "      <th>Gender</th>\n",
       "      <th>Color1</th>\n",
       "      <th>Color2</th>\n",
       "      <th>Color3</th>\n",
       "      <th>MaturitySize</th>\n",
       "      <th>...</th>\n",
       "      <th>RescuerID_Length</th>\n",
       "      <th>RescuerID_Word_Count</th>\n",
       "      <th>MaturitySize_FurLength</th>\n",
       "      <th>PhotoAmt_FurLength</th>\n",
       "      <th>VideoAmt_FurLength</th>\n",
       "      <th>prediction_class_0</th>\n",
       "      <th>prediction_class_1</th>\n",
       "      <th>prediction_class_2</th>\n",
       "      <th>prediction_class_3</th>\n",
       "      <th>prediction_class_4</th>\n",
       "    </tr>\n",
       "  </thead>\n",
       "  <tbody>\n",
       "    <tr>\n",
       "      <th>10070</th>\n",
       "      <td>1</td>\n",
       "      <td>The Adorable Trio</td>\n",
       "      <td>2</td>\n",
       "      <td>307</td>\n",
       "      <td>307</td>\n",
       "      <td>1</td>\n",
       "      <td>1</td>\n",
       "      <td>0</td>\n",
       "      <td>0</td>\n",
       "      <td>2</td>\n",
       "      <td>...</td>\n",
       "      <td>32</td>\n",
       "      <td>1</td>\n",
       "      <td>4</td>\n",
       "      <td>16.0</td>\n",
       "      <td>0</td>\n",
       "      <td>0.001666</td>\n",
       "      <td>0.156206</td>\n",
       "      <td>0.263296</td>\n",
       "      <td>0.495640</td>\n",
       "      <td>0.083192</td>\n",
       "    </tr>\n",
       "    <tr>\n",
       "      <th>13397</th>\n",
       "      <td>1</td>\n",
       "      <td>Perky</td>\n",
       "      <td>12</td>\n",
       "      <td>307</td>\n",
       "      <td>0</td>\n",
       "      <td>2</td>\n",
       "      <td>2</td>\n",
       "      <td>0</td>\n",
       "      <td>0</td>\n",
       "      <td>1</td>\n",
       "      <td>...</td>\n",
       "      <td>32</td>\n",
       "      <td>1</td>\n",
       "      <td>1</td>\n",
       "      <td>3.0</td>\n",
       "      <td>0</td>\n",
       "      <td>0.009224</td>\n",
       "      <td>0.042882</td>\n",
       "      <td>0.125914</td>\n",
       "      <td>0.164206</td>\n",
       "      <td>0.657773</td>\n",
       "    </tr>\n",
       "    <tr>\n",
       "      <th>14656</th>\n",
       "      <td>1</td>\n",
       "      <td>Bernard Boy</td>\n",
       "      <td>2</td>\n",
       "      <td>307</td>\n",
       "      <td>307</td>\n",
       "      <td>1</td>\n",
       "      <td>1</td>\n",
       "      <td>2</td>\n",
       "      <td>7</td>\n",
       "      <td>2</td>\n",
       "      <td>...</td>\n",
       "      <td>32</td>\n",
       "      <td>1</td>\n",
       "      <td>2</td>\n",
       "      <td>1.0</td>\n",
       "      <td>0</td>\n",
       "      <td>0.031791</td>\n",
       "      <td>0.239136</td>\n",
       "      <td>0.251731</td>\n",
       "      <td>0.204903</td>\n",
       "      <td>0.272439</td>\n",
       "    </tr>\n",
       "    <tr>\n",
       "      <th>5596</th>\n",
       "      <td>1</td>\n",
       "      <td>Oreo 1</td>\n",
       "      <td>2</td>\n",
       "      <td>307</td>\n",
       "      <td>307</td>\n",
       "      <td>1</td>\n",
       "      <td>3</td>\n",
       "      <td>0</td>\n",
       "      <td>0</td>\n",
       "      <td>2</td>\n",
       "      <td>...</td>\n",
       "      <td>32</td>\n",
       "      <td>1</td>\n",
       "      <td>4</td>\n",
       "      <td>4.0</td>\n",
       "      <td>0</td>\n",
       "      <td>0.026451</td>\n",
       "      <td>0.289790</td>\n",
       "      <td>0.304206</td>\n",
       "      <td>0.195960</td>\n",
       "      <td>0.183593</td>\n",
       "    </tr>\n",
       "    <tr>\n",
       "      <th>13463</th>\n",
       "      <td>2</td>\n",
       "      <td>Anak Kucing</td>\n",
       "      <td>4</td>\n",
       "      <td>265</td>\n",
       "      <td>0</td>\n",
       "      <td>3</td>\n",
       "      <td>1</td>\n",
       "      <td>2</td>\n",
       "      <td>0</td>\n",
       "      <td>2</td>\n",
       "      <td>...</td>\n",
       "      <td>32</td>\n",
       "      <td>1</td>\n",
       "      <td>4</td>\n",
       "      <td>4.0</td>\n",
       "      <td>0</td>\n",
       "      <td>0.015868</td>\n",
       "      <td>0.175384</td>\n",
       "      <td>0.211173</td>\n",
       "      <td>0.171354</td>\n",
       "      <td>0.426221</td>\n",
       "    </tr>\n",
       "    <tr>\n",
       "      <th>...</th>\n",
       "      <td>...</td>\n",
       "      <td>...</td>\n",
       "      <td>...</td>\n",
       "      <td>...</td>\n",
       "      <td>...</td>\n",
       "      <td>...</td>\n",
       "      <td>...</td>\n",
       "      <td>...</td>\n",
       "      <td>...</td>\n",
       "      <td>...</td>\n",
       "      <td>...</td>\n",
       "      <td>...</td>\n",
       "      <td>...</td>\n",
       "      <td>...</td>\n",
       "      <td>...</td>\n",
       "      <td>...</td>\n",
       "      <td>...</td>\n",
       "      <td>...</td>\n",
       "      <td>...</td>\n",
       "      <td>...</td>\n",
       "      <td>...</td>\n",
       "    </tr>\n",
       "    <tr>\n",
       "      <th>9981</th>\n",
       "      <td>2</td>\n",
       "      <td>Maxine</td>\n",
       "      <td>8</td>\n",
       "      <td>265</td>\n",
       "      <td>299</td>\n",
       "      <td>2</td>\n",
       "      <td>1</td>\n",
       "      <td>2</td>\n",
       "      <td>0</td>\n",
       "      <td>2</td>\n",
       "      <td>...</td>\n",
       "      <td>32</td>\n",
       "      <td>1</td>\n",
       "      <td>4</td>\n",
       "      <td>4.0</td>\n",
       "      <td>0</td>\n",
       "      <td>0.010745</td>\n",
       "      <td>0.111504</td>\n",
       "      <td>0.274366</td>\n",
       "      <td>0.151013</td>\n",
       "      <td>0.452373</td>\n",
       "    </tr>\n",
       "    <tr>\n",
       "      <th>10249</th>\n",
       "      <td>1</td>\n",
       "      <td>Browny</td>\n",
       "      <td>2</td>\n",
       "      <td>307</td>\n",
       "      <td>0</td>\n",
       "      <td>2</td>\n",
       "      <td>6</td>\n",
       "      <td>7</td>\n",
       "      <td>0</td>\n",
       "      <td>1</td>\n",
       "      <td>...</td>\n",
       "      <td>32</td>\n",
       "      <td>1</td>\n",
       "      <td>1</td>\n",
       "      <td>1.0</td>\n",
       "      <td>0</td>\n",
       "      <td>0.024203</td>\n",
       "      <td>0.123720</td>\n",
       "      <td>0.360015</td>\n",
       "      <td>0.255282</td>\n",
       "      <td>0.236780</td>\n",
       "    </tr>\n",
       "    <tr>\n",
       "      <th>12468</th>\n",
       "      <td>1</td>\n",
       "      <td>Midnight</td>\n",
       "      <td>2</td>\n",
       "      <td>307</td>\n",
       "      <td>307</td>\n",
       "      <td>1</td>\n",
       "      <td>1</td>\n",
       "      <td>0</td>\n",
       "      <td>0</td>\n",
       "      <td>2</td>\n",
       "      <td>...</td>\n",
       "      <td>32</td>\n",
       "      <td>1</td>\n",
       "      <td>4</td>\n",
       "      <td>4.0</td>\n",
       "      <td>0</td>\n",
       "      <td>0.022272</td>\n",
       "      <td>0.233070</td>\n",
       "      <td>0.339302</td>\n",
       "      <td>0.175189</td>\n",
       "      <td>0.230167</td>\n",
       "    </tr>\n",
       "    <tr>\n",
       "      <th>1081</th>\n",
       "      <td>1</td>\n",
       "      <td>Boxer</td>\n",
       "      <td>2</td>\n",
       "      <td>307</td>\n",
       "      <td>307</td>\n",
       "      <td>1</td>\n",
       "      <td>1</td>\n",
       "      <td>2</td>\n",
       "      <td>7</td>\n",
       "      <td>2</td>\n",
       "      <td>...</td>\n",
       "      <td>32</td>\n",
       "      <td>1</td>\n",
       "      <td>4</td>\n",
       "      <td>4.0</td>\n",
       "      <td>0</td>\n",
       "      <td>0.024658</td>\n",
       "      <td>0.212246</td>\n",
       "      <td>0.385915</td>\n",
       "      <td>0.149170</td>\n",
       "      <td>0.228011</td>\n",
       "    </tr>\n",
       "    <tr>\n",
       "      <th>6952</th>\n",
       "      <td>2</td>\n",
       "      <td>JINGGA</td>\n",
       "      <td>30</td>\n",
       "      <td>299</td>\n",
       "      <td>266</td>\n",
       "      <td>1</td>\n",
       "      <td>3</td>\n",
       "      <td>4</td>\n",
       "      <td>5</td>\n",
       "      <td>2</td>\n",
       "      <td>...</td>\n",
       "      <td>32</td>\n",
       "      <td>1</td>\n",
       "      <td>2</td>\n",
       "      <td>2.0</td>\n",
       "      <td>0</td>\n",
       "      <td>0.014815</td>\n",
       "      <td>0.070036</td>\n",
       "      <td>0.152212</td>\n",
       "      <td>0.438554</td>\n",
       "      <td>0.324382</td>\n",
       "    </tr>\n",
       "  </tbody>\n",
       "</table>\n",
       "<p>11994 rows × 53 columns</p>\n",
       "</div>"
      ],
      "text/plain": [
       "       Type               Name  Age  Breed1  Breed2  Gender  Color1  Color2  \\\n",
       "10070     1  The Adorable Trio    2     307     307       1       1       0   \n",
       "13397     1              Perky   12     307       0       2       2       0   \n",
       "14656     1        Bernard Boy    2     307     307       1       1       2   \n",
       "5596      1             Oreo 1    2     307     307       1       3       0   \n",
       "13463     2        Anak Kucing    4     265       0       3       1       2   \n",
       "...     ...                ...  ...     ...     ...     ...     ...     ...   \n",
       "9981      2             Maxine    8     265     299       2       1       2   \n",
       "10249     1             Browny    2     307       0       2       6       7   \n",
       "12468     1           Midnight    2     307     307       1       1       0   \n",
       "1081      1              Boxer    2     307     307       1       1       2   \n",
       "6952      2             JINGGA   30     299     266       1       3       4   \n",
       "\n",
       "       Color3  MaturitySize  ...  RescuerID_Length  RescuerID_Word_Count  \\\n",
       "10070       0             2  ...                32                     1   \n",
       "13397       0             1  ...                32                     1   \n",
       "14656       7             2  ...                32                     1   \n",
       "5596        0             2  ...                32                     1   \n",
       "13463       0             2  ...                32                     1   \n",
       "...       ...           ...  ...               ...                   ...   \n",
       "9981        0             2  ...                32                     1   \n",
       "10249       0             1  ...                32                     1   \n",
       "12468       0             2  ...                32                     1   \n",
       "1081        7             2  ...                32                     1   \n",
       "6952        5             2  ...                32                     1   \n",
       "\n",
       "       MaturitySize_FurLength  PhotoAmt_FurLength VideoAmt_FurLength  \\\n",
       "10070                       4                16.0                  0   \n",
       "13397                       1                 3.0                  0   \n",
       "14656                       2                 1.0                  0   \n",
       "5596                        4                 4.0                  0   \n",
       "13463                       4                 4.0                  0   \n",
       "...                       ...                 ...                ...   \n",
       "9981                        4                 4.0                  0   \n",
       "10249                       1                 1.0                  0   \n",
       "12468                       4                 4.0                  0   \n",
       "1081                        4                 4.0                  0   \n",
       "6952                        2                 2.0                  0   \n",
       "\n",
       "       prediction_class_0  prediction_class_1  prediction_class_2  \\\n",
       "10070            0.001666            0.156206            0.263296   \n",
       "13397            0.009224            0.042882            0.125914   \n",
       "14656            0.031791            0.239136            0.251731   \n",
       "5596             0.026451            0.289790            0.304206   \n",
       "13463            0.015868            0.175384            0.211173   \n",
       "...                   ...                 ...                 ...   \n",
       "9981             0.010745            0.111504            0.274366   \n",
       "10249            0.024203            0.123720            0.360015   \n",
       "12468            0.022272            0.233070            0.339302   \n",
       "1081             0.024658            0.212246            0.385915   \n",
       "6952             0.014815            0.070036            0.152212   \n",
       "\n",
       "      prediction_class_3  prediction_class_4  \n",
       "10070           0.495640            0.083192  \n",
       "13397           0.164206            0.657773  \n",
       "14656           0.204903            0.272439  \n",
       "5596            0.195960            0.183593  \n",
       "13463           0.171354            0.426221  \n",
       "...                  ...                 ...  \n",
       "9981            0.151013            0.452373  \n",
       "10249           0.255282            0.236780  \n",
       "12468           0.175189            0.230167  \n",
       "1081            0.149170            0.228011  \n",
       "6952            0.438554            0.324382  \n",
       "\n",
       "[11994 rows x 53 columns]"
      ]
     },
     "execution_count": 19,
     "metadata": {},
     "output_type": "execute_result"
    }
   ],
   "source": [
    "train"
   ]
  },
  {
   "cell_type": "code",
   "execution_count": 20,
   "metadata": {},
   "outputs": [],
   "source": [
    "#Genero dataframes de train y test con sus respectivos targets\n",
    "X_train = train[features]\n",
    "y_train = train[label]\n",
    "\n",
    "X_test = test[features]\n",
    "y_test = test[label]"
   ]
  },
  {
   "cell_type": "code",
   "execution_count": 21,
   "metadata": {},
   "outputs": [],
   "source": [
    "#Entreno un modelo inicial sin modificar hiperparametros. Solamente especifico el numero de clases y el tipo de modelo como clasificacoión\n",
    "#HACEMOS LGBM POR DEFECTO COMO VIENE\n",
    "lgb_params = params = {\n",
    "                        'objective': 'multiclass',#EL PROBLEMA ES UNA MULTICPLASE \n",
    "                        'num_class': len(y_train.unique())\n",
    "                        }\n",
    "\n",
    "\n",
    "#genero el objeto Dataset que debo pasarle a lightgbm para que entrene\n",
    "lgb_train_dataset = lgb.Dataset(data=X_train,\n",
    "                                label=y_train)\n",
    "\n",
    "#entreno el modelo con los parametros por defecto\n",
    "lgb_model = lgb.train(lgb_params,\n",
    "                      lgb_train_dataset)"
   ]
  },
  {
   "cell_type": "code",
   "execution_count": 22,
   "metadata": {},
   "outputs": [
    {
     "data": {
      "text/plain": [
       "0.35664925771963885"
      ]
     },
     "execution_count": 22,
     "metadata": {},
     "output_type": "execute_result"
    }
   ],
   "source": [
    "#Obtengo las predicciones sobre el set de test. El modelo me da una lista de probabilidades para cada clase y tomo la clase con mayor probabilidad con la funcion argmax\n",
    "y_pred = lgb_model.predict(X_test).argmax(axis=1)#CON ARGMAX OBTENGO LA PREDICCION MAS GRANDE DE LAS CATEGORIAS OSEA LA GANADORA\n",
    "\n",
    "#Calculo el Kappa\n",
    "cohen_kappa_score(y_test,y_pred, weights = 'quadratic')\n",
    "#MI MODELO DA UN 0.31 DE SCORE \n",
    "#RECORDAR QUE AL SER UN MULTICLASE EL PREDICT ME TRAE 5 COLUMNAS ( PROBABILIDAD DEL MODELO A CADA UNA DE LAS CLASES )\n",
    "\n",
    "\n"
   ]
  },
  {
   "cell_type": "code",
   "execution_count": 23,
   "metadata": {},
   "outputs": [
    {
     "data": {
      "application/vnd.plotly.v1+json": {
       "config": {
        "plotlyServerURL": "https://plot.ly"
       },
       "data": [
        {
         "type": "heatmap",
         "x": [
          0,
          1,
          2,
          3,
          4
         ],
         "y": [
          0,
          1,
          2,
          3,
          4
         ],
         "z": [
          [
           10.975609756097562,
           32.926829268292686,
           25.609756097560975,
           12.195121951219512,
           18.29268292682927
          ],
          [
           0.48543689320388345,
           35.760517799352755,
           31.87702265372168,
           9.870550161812297,
           22.006472491909385
          ],
          [
           0.49566294919454773,
           20.693928128872365,
           38.90954151177199,
           13.011152416356877,
           26.889714993804215
          ],
          [
           0.6134969325153374,
           14.263803680981596,
           33.43558282208589,
           25.920245398773005,
           25.766871165644172
          ],
          [
           0.2380952380952381,
           11.071428571428571,
           13.80952380952381,
           5.833333333333333,
           69.04761904761905
          ]
         ]
        }
       ],
       "layout": {
        "annotations": [
         {
          "font": {
           "color": "white"
          },
          "showarrow": false,
          "text": "11.0 - 9",
          "x": 0,
          "xref": "x",
          "y": 0,
          "yref": "y"
         },
         {
          "font": {
           "color": "white"
          },
          "showarrow": false,
          "text": "32.9 - 27",
          "x": 1,
          "xref": "x",
          "y": 0,
          "yref": "y"
         },
         {
          "font": {
           "color": "white"
          },
          "showarrow": false,
          "text": "25.6 - 21",
          "x": 2,
          "xref": "x",
          "y": 0,
          "yref": "y"
         },
         {
          "font": {
           "color": "white"
          },
          "showarrow": false,
          "text": "12.2 - 10",
          "x": 3,
          "xref": "x",
          "y": 0,
          "yref": "y"
         },
         {
          "font": {
           "color": "white"
          },
          "showarrow": false,
          "text": "18.3 - 15",
          "x": 4,
          "xref": "x",
          "y": 0,
          "yref": "y"
         },
         {
          "font": {
           "color": "white"
          },
          "showarrow": false,
          "text": "0.5 - 3",
          "x": 0,
          "xref": "x",
          "y": 1,
          "yref": "y"
         },
         {
          "font": {
           "color": "white"
          },
          "showarrow": false,
          "text": "35.8 - 221",
          "x": 1,
          "xref": "x",
          "y": 1,
          "yref": "y"
         },
         {
          "font": {
           "color": "white"
          },
          "showarrow": false,
          "text": "31.9 - 197",
          "x": 2,
          "xref": "x",
          "y": 1,
          "yref": "y"
         },
         {
          "font": {
           "color": "white"
          },
          "showarrow": false,
          "text": "9.9 - 61",
          "x": 3,
          "xref": "x",
          "y": 1,
          "yref": "y"
         },
         {
          "font": {
           "color": "white"
          },
          "showarrow": false,
          "text": "22.0 - 136",
          "x": 4,
          "xref": "x",
          "y": 1,
          "yref": "y"
         },
         {
          "font": {
           "color": "white"
          },
          "showarrow": false,
          "text": "0.5 - 4",
          "x": 0,
          "xref": "x",
          "y": 2,
          "yref": "y"
         },
         {
          "font": {
           "color": "white"
          },
          "showarrow": false,
          "text": "20.7 - 167",
          "x": 1,
          "xref": "x",
          "y": 2,
          "yref": "y"
         },
         {
          "font": {
           "color": "white"
          },
          "showarrow": false,
          "text": "38.9 - 314",
          "x": 2,
          "xref": "x",
          "y": 2,
          "yref": "y"
         },
         {
          "font": {
           "color": "white"
          },
          "showarrow": false,
          "text": "13.0 - 105",
          "x": 3,
          "xref": "x",
          "y": 2,
          "yref": "y"
         },
         {
          "font": {
           "color": "white"
          },
          "showarrow": false,
          "text": "26.9 - 217",
          "x": 4,
          "xref": "x",
          "y": 2,
          "yref": "y"
         },
         {
          "font": {
           "color": "white"
          },
          "showarrow": false,
          "text": "0.6 - 4",
          "x": 0,
          "xref": "x",
          "y": 3,
          "yref": "y"
         },
         {
          "font": {
           "color": "white"
          },
          "showarrow": false,
          "text": "14.3 - 93",
          "x": 1,
          "xref": "x",
          "y": 3,
          "yref": "y"
         },
         {
          "font": {
           "color": "white"
          },
          "showarrow": false,
          "text": "33.4 - 218",
          "x": 2,
          "xref": "x",
          "y": 3,
          "yref": "y"
         },
         {
          "font": {
           "color": "white"
          },
          "showarrow": false,
          "text": "25.9 - 169",
          "x": 3,
          "xref": "x",
          "y": 3,
          "yref": "y"
         },
         {
          "font": {
           "color": "white"
          },
          "showarrow": false,
          "text": "25.8 - 168",
          "x": 4,
          "xref": "x",
          "y": 3,
          "yref": "y"
         },
         {
          "font": {
           "color": "white"
          },
          "showarrow": false,
          "text": "0.2 - 2",
          "x": 0,
          "xref": "x",
          "y": 4,
          "yref": "y"
         },
         {
          "font": {
           "color": "white"
          },
          "showarrow": false,
          "text": "11.1 - 93",
          "x": 1,
          "xref": "x",
          "y": 4,
          "yref": "y"
         },
         {
          "font": {
           "color": "white"
          },
          "showarrow": false,
          "text": "13.8 - 116",
          "x": 2,
          "xref": "x",
          "y": 4,
          "yref": "y"
         },
         {
          "font": {
           "color": "white"
          },
          "showarrow": false,
          "text": "5.8 - 49",
          "x": 3,
          "xref": "x",
          "y": 4,
          "yref": "y"
         },
         {
          "font": {
           "color": "white"
          },
          "showarrow": false,
          "text": "69.0 - 580",
          "x": 4,
          "xref": "x",
          "y": 4,
          "yref": "y"
         }
        ],
        "height": 800,
        "template": {
         "data": {
          "bar": [
           {
            "error_x": {
             "color": "#2a3f5f"
            },
            "error_y": {
             "color": "#2a3f5f"
            },
            "marker": {
             "line": {
              "color": "#E5ECF6",
              "width": 0.5
             },
             "pattern": {
              "fillmode": "overlay",
              "size": 10,
              "solidity": 0.2
             }
            },
            "type": "bar"
           }
          ],
          "barpolar": [
           {
            "marker": {
             "line": {
              "color": "#E5ECF6",
              "width": 0.5
             },
             "pattern": {
              "fillmode": "overlay",
              "size": 10,
              "solidity": 0.2
             }
            },
            "type": "barpolar"
           }
          ],
          "carpet": [
           {
            "aaxis": {
             "endlinecolor": "#2a3f5f",
             "gridcolor": "white",
             "linecolor": "white",
             "minorgridcolor": "white",
             "startlinecolor": "#2a3f5f"
            },
            "baxis": {
             "endlinecolor": "#2a3f5f",
             "gridcolor": "white",
             "linecolor": "white",
             "minorgridcolor": "white",
             "startlinecolor": "#2a3f5f"
            },
            "type": "carpet"
           }
          ],
          "choropleth": [
           {
            "colorbar": {
             "outlinewidth": 0,
             "ticks": ""
            },
            "type": "choropleth"
           }
          ],
          "contour": [
           {
            "colorbar": {
             "outlinewidth": 0,
             "ticks": ""
            },
            "colorscale": [
             [
              0,
              "#0d0887"
             ],
             [
              0.1111111111111111,
              "#46039f"
             ],
             [
              0.2222222222222222,
              "#7201a8"
             ],
             [
              0.3333333333333333,
              "#9c179e"
             ],
             [
              0.4444444444444444,
              "#bd3786"
             ],
             [
              0.5555555555555556,
              "#d8576b"
             ],
             [
              0.6666666666666666,
              "#ed7953"
             ],
             [
              0.7777777777777778,
              "#fb9f3a"
             ],
             [
              0.8888888888888888,
              "#fdca26"
             ],
             [
              1,
              "#f0f921"
             ]
            ],
            "type": "contour"
           }
          ],
          "contourcarpet": [
           {
            "colorbar": {
             "outlinewidth": 0,
             "ticks": ""
            },
            "type": "contourcarpet"
           }
          ],
          "heatmap": [
           {
            "colorbar": {
             "outlinewidth": 0,
             "ticks": ""
            },
            "colorscale": [
             [
              0,
              "#0d0887"
             ],
             [
              0.1111111111111111,
              "#46039f"
             ],
             [
              0.2222222222222222,
              "#7201a8"
             ],
             [
              0.3333333333333333,
              "#9c179e"
             ],
             [
              0.4444444444444444,
              "#bd3786"
             ],
             [
              0.5555555555555556,
              "#d8576b"
             ],
             [
              0.6666666666666666,
              "#ed7953"
             ],
             [
              0.7777777777777778,
              "#fb9f3a"
             ],
             [
              0.8888888888888888,
              "#fdca26"
             ],
             [
              1,
              "#f0f921"
             ]
            ],
            "type": "heatmap"
           }
          ],
          "heatmapgl": [
           {
            "colorbar": {
             "outlinewidth": 0,
             "ticks": ""
            },
            "colorscale": [
             [
              0,
              "#0d0887"
             ],
             [
              0.1111111111111111,
              "#46039f"
             ],
             [
              0.2222222222222222,
              "#7201a8"
             ],
             [
              0.3333333333333333,
              "#9c179e"
             ],
             [
              0.4444444444444444,
              "#bd3786"
             ],
             [
              0.5555555555555556,
              "#d8576b"
             ],
             [
              0.6666666666666666,
              "#ed7953"
             ],
             [
              0.7777777777777778,
              "#fb9f3a"
             ],
             [
              0.8888888888888888,
              "#fdca26"
             ],
             [
              1,
              "#f0f921"
             ]
            ],
            "type": "heatmapgl"
           }
          ],
          "histogram": [
           {
            "marker": {
             "pattern": {
              "fillmode": "overlay",
              "size": 10,
              "solidity": 0.2
             }
            },
            "type": "histogram"
           }
          ],
          "histogram2d": [
           {
            "colorbar": {
             "outlinewidth": 0,
             "ticks": ""
            },
            "colorscale": [
             [
              0,
              "#0d0887"
             ],
             [
              0.1111111111111111,
              "#46039f"
             ],
             [
              0.2222222222222222,
              "#7201a8"
             ],
             [
              0.3333333333333333,
              "#9c179e"
             ],
             [
              0.4444444444444444,
              "#bd3786"
             ],
             [
              0.5555555555555556,
              "#d8576b"
             ],
             [
              0.6666666666666666,
              "#ed7953"
             ],
             [
              0.7777777777777778,
              "#fb9f3a"
             ],
             [
              0.8888888888888888,
              "#fdca26"
             ],
             [
              1,
              "#f0f921"
             ]
            ],
            "type": "histogram2d"
           }
          ],
          "histogram2dcontour": [
           {
            "colorbar": {
             "outlinewidth": 0,
             "ticks": ""
            },
            "colorscale": [
             [
              0,
              "#0d0887"
             ],
             [
              0.1111111111111111,
              "#46039f"
             ],
             [
              0.2222222222222222,
              "#7201a8"
             ],
             [
              0.3333333333333333,
              "#9c179e"
             ],
             [
              0.4444444444444444,
              "#bd3786"
             ],
             [
              0.5555555555555556,
              "#d8576b"
             ],
             [
              0.6666666666666666,
              "#ed7953"
             ],
             [
              0.7777777777777778,
              "#fb9f3a"
             ],
             [
              0.8888888888888888,
              "#fdca26"
             ],
             [
              1,
              "#f0f921"
             ]
            ],
            "type": "histogram2dcontour"
           }
          ],
          "mesh3d": [
           {
            "colorbar": {
             "outlinewidth": 0,
             "ticks": ""
            },
            "type": "mesh3d"
           }
          ],
          "parcoords": [
           {
            "line": {
             "colorbar": {
              "outlinewidth": 0,
              "ticks": ""
             }
            },
            "type": "parcoords"
           }
          ],
          "pie": [
           {
            "automargin": true,
            "type": "pie"
           }
          ],
          "scatter": [
           {
            "fillpattern": {
             "fillmode": "overlay",
             "size": 10,
             "solidity": 0.2
            },
            "type": "scatter"
           }
          ],
          "scatter3d": [
           {
            "line": {
             "colorbar": {
              "outlinewidth": 0,
              "ticks": ""
             }
            },
            "marker": {
             "colorbar": {
              "outlinewidth": 0,
              "ticks": ""
             }
            },
            "type": "scatter3d"
           }
          ],
          "scattercarpet": [
           {
            "marker": {
             "colorbar": {
              "outlinewidth": 0,
              "ticks": ""
             }
            },
            "type": "scattercarpet"
           }
          ],
          "scattergeo": [
           {
            "marker": {
             "colorbar": {
              "outlinewidth": 0,
              "ticks": ""
             }
            },
            "type": "scattergeo"
           }
          ],
          "scattergl": [
           {
            "marker": {
             "colorbar": {
              "outlinewidth": 0,
              "ticks": ""
             }
            },
            "type": "scattergl"
           }
          ],
          "scattermapbox": [
           {
            "marker": {
             "colorbar": {
              "outlinewidth": 0,
              "ticks": ""
             }
            },
            "type": "scattermapbox"
           }
          ],
          "scatterpolar": [
           {
            "marker": {
             "colorbar": {
              "outlinewidth": 0,
              "ticks": ""
             }
            },
            "type": "scatterpolar"
           }
          ],
          "scatterpolargl": [
           {
            "marker": {
             "colorbar": {
              "outlinewidth": 0,
              "ticks": ""
             }
            },
            "type": "scatterpolargl"
           }
          ],
          "scatterternary": [
           {
            "marker": {
             "colorbar": {
              "outlinewidth": 0,
              "ticks": ""
             }
            },
            "type": "scatterternary"
           }
          ],
          "surface": [
           {
            "colorbar": {
             "outlinewidth": 0,
             "ticks": ""
            },
            "colorscale": [
             [
              0,
              "#0d0887"
             ],
             [
              0.1111111111111111,
              "#46039f"
             ],
             [
              0.2222222222222222,
              "#7201a8"
             ],
             [
              0.3333333333333333,
              "#9c179e"
             ],
             [
              0.4444444444444444,
              "#bd3786"
             ],
             [
              0.5555555555555556,
              "#d8576b"
             ],
             [
              0.6666666666666666,
              "#ed7953"
             ],
             [
              0.7777777777777778,
              "#fb9f3a"
             ],
             [
              0.8888888888888888,
              "#fdca26"
             ],
             [
              1,
              "#f0f921"
             ]
            ],
            "type": "surface"
           }
          ],
          "table": [
           {
            "cells": {
             "fill": {
              "color": "#EBF0F8"
             },
             "line": {
              "color": "white"
             }
            },
            "header": {
             "fill": {
              "color": "#C8D4E3"
             },
             "line": {
              "color": "white"
             }
            },
            "type": "table"
           }
          ]
         },
         "layout": {
          "annotationdefaults": {
           "arrowcolor": "#2a3f5f",
           "arrowhead": 0,
           "arrowwidth": 1
          },
          "autotypenumbers": "strict",
          "coloraxis": {
           "colorbar": {
            "outlinewidth": 0,
            "ticks": ""
           }
          },
          "colorscale": {
           "diverging": [
            [
             0,
             "#8e0152"
            ],
            [
             0.1,
             "#c51b7d"
            ],
            [
             0.2,
             "#de77ae"
            ],
            [
             0.3,
             "#f1b6da"
            ],
            [
             0.4,
             "#fde0ef"
            ],
            [
             0.5,
             "#f7f7f7"
            ],
            [
             0.6,
             "#e6f5d0"
            ],
            [
             0.7,
             "#b8e186"
            ],
            [
             0.8,
             "#7fbc41"
            ],
            [
             0.9,
             "#4d9221"
            ],
            [
             1,
             "#276419"
            ]
           ],
           "sequential": [
            [
             0,
             "#0d0887"
            ],
            [
             0.1111111111111111,
             "#46039f"
            ],
            [
             0.2222222222222222,
             "#7201a8"
            ],
            [
             0.3333333333333333,
             "#9c179e"
            ],
            [
             0.4444444444444444,
             "#bd3786"
            ],
            [
             0.5555555555555556,
             "#d8576b"
            ],
            [
             0.6666666666666666,
             "#ed7953"
            ],
            [
             0.7777777777777778,
             "#fb9f3a"
            ],
            [
             0.8888888888888888,
             "#fdca26"
            ],
            [
             1,
             "#f0f921"
            ]
           ],
           "sequentialminus": [
            [
             0,
             "#0d0887"
            ],
            [
             0.1111111111111111,
             "#46039f"
            ],
            [
             0.2222222222222222,
             "#7201a8"
            ],
            [
             0.3333333333333333,
             "#9c179e"
            ],
            [
             0.4444444444444444,
             "#bd3786"
            ],
            [
             0.5555555555555556,
             "#d8576b"
            ],
            [
             0.6666666666666666,
             "#ed7953"
            ],
            [
             0.7777777777777778,
             "#fb9f3a"
            ],
            [
             0.8888888888888888,
             "#fdca26"
            ],
            [
             1,
             "#f0f921"
            ]
           ]
          },
          "colorway": [
           "#636efa",
           "#EF553B",
           "#00cc96",
           "#ab63fa",
           "#FFA15A",
           "#19d3f3",
           "#FF6692",
           "#B6E880",
           "#FF97FF",
           "#FECB52"
          ],
          "font": {
           "color": "#2a3f5f"
          },
          "geo": {
           "bgcolor": "white",
           "lakecolor": "white",
           "landcolor": "#E5ECF6",
           "showlakes": true,
           "showland": true,
           "subunitcolor": "white"
          },
          "hoverlabel": {
           "align": "left"
          },
          "hovermode": "closest",
          "mapbox": {
           "style": "light"
          },
          "paper_bgcolor": "white",
          "plot_bgcolor": "#E5ECF6",
          "polar": {
           "angularaxis": {
            "gridcolor": "white",
            "linecolor": "white",
            "ticks": ""
           },
           "bgcolor": "#E5ECF6",
           "radialaxis": {
            "gridcolor": "white",
            "linecolor": "white",
            "ticks": ""
           }
          },
          "scene": {
           "xaxis": {
            "backgroundcolor": "#E5ECF6",
            "gridcolor": "white",
            "gridwidth": 2,
            "linecolor": "white",
            "showbackground": true,
            "ticks": "",
            "zerolinecolor": "white"
           },
           "yaxis": {
            "backgroundcolor": "#E5ECF6",
            "gridcolor": "white",
            "gridwidth": 2,
            "linecolor": "white",
            "showbackground": true,
            "ticks": "",
            "zerolinecolor": "white"
           },
           "zaxis": {
            "backgroundcolor": "#E5ECF6",
            "gridcolor": "white",
            "gridwidth": 2,
            "linecolor": "white",
            "showbackground": true,
            "ticks": "",
            "zerolinecolor": "white"
           }
          },
          "shapedefaults": {
           "line": {
            "color": "#2a3f5f"
           }
          },
          "ternary": {
           "aaxis": {
            "gridcolor": "white",
            "linecolor": "white",
            "ticks": ""
           },
           "baxis": {
            "gridcolor": "white",
            "linecolor": "white",
            "ticks": ""
           },
           "bgcolor": "#E5ECF6",
           "caxis": {
            "gridcolor": "white",
            "linecolor": "white",
            "ticks": ""
           }
          },
          "title": {
           "x": 0.05
          },
          "xaxis": {
           "automargin": true,
           "gridcolor": "white",
           "linecolor": "white",
           "ticks": "",
           "title": {
            "standoff": 15
           },
           "zerolinecolor": "white",
           "zerolinewidth": 2
          },
          "yaxis": {
           "automargin": true,
           "gridcolor": "white",
           "linecolor": "white",
           "ticks": "",
           "title": {
            "standoff": 15
           },
           "zerolinecolor": "white",
           "zerolinewidth": 2
          }
         }
        },
        "title": {
         "text": "Conf Matrix"
        },
        "width": 800,
        "xaxis": {
         "title": {
          "text": "Predicted value"
         }
        },
        "yaxis": {
         "title": {
          "text": "Real value"
         }
        }
       }
      }
     },
     "metadata": {},
     "output_type": "display_data"
    }
   ],
   "source": [
    "#Muestro la matriz de confusión\n",
    "display(plot_confusion_matrix(y_test,y_pred))\n",
    "#SI OBTENGO UNA DIAGONAL MUY FUERTE AMARILLA ES PQ PREDIJO BIEN EL MODELO "
   ]
  },
  {
   "cell_type": "code",
   "execution_count": 24,
   "metadata": {},
   "outputs": [
    {
     "data": {
      "text/plain": [
       "1.0"
      ]
     },
     "execution_count": 24,
     "metadata": {},
     "output_type": "execute_result"
    }
   ],
   "source": [
    "#Vamos a ponewr en perspectiva el score de Kappa\n",
    "\n",
    "\n",
    "#Cual es el score perfecto? Evaluo la clase real contra si misma. Es decir, el caso en que el modelo establece todas las clases en su valor real\n",
    "cohen_kappa_score(y_test,y_test, weights = 'quadratic')"
   ]
  },
  {
   "cell_type": "code",
   "execution_count": 25,
   "metadata": {},
   "outputs": [
    {
     "data": {
      "application/vnd.plotly.v1+json": {
       "config": {
        "plotlyServerURL": "https://plot.ly"
       },
       "data": [
        {
         "type": "heatmap",
         "x": [
          0,
          1,
          2,
          3,
          4
         ],
         "y": [
          0,
          1,
          2,
          3,
          4
         ],
         "z": [
          [
           100,
           0,
           0,
           0,
           0
          ],
          [
           0,
           100,
           0,
           0,
           0
          ],
          [
           0,
           0,
           100,
           0,
           0
          ],
          [
           0,
           0,
           0,
           100,
           0
          ],
          [
           0,
           0,
           0,
           0,
           100
          ]
         ]
        }
       ],
       "layout": {
        "annotations": [
         {
          "font": {
           "color": "white"
          },
          "showarrow": false,
          "text": "100.0 - 82",
          "x": 0,
          "xref": "x",
          "y": 0,
          "yref": "y"
         },
         {
          "font": {
           "color": "white"
          },
          "showarrow": false,
          "text": "0.0 - 0",
          "x": 1,
          "xref": "x",
          "y": 0,
          "yref": "y"
         },
         {
          "font": {
           "color": "white"
          },
          "showarrow": false,
          "text": "0.0 - 0",
          "x": 2,
          "xref": "x",
          "y": 0,
          "yref": "y"
         },
         {
          "font": {
           "color": "white"
          },
          "showarrow": false,
          "text": "0.0 - 0",
          "x": 3,
          "xref": "x",
          "y": 0,
          "yref": "y"
         },
         {
          "font": {
           "color": "white"
          },
          "showarrow": false,
          "text": "0.0 - 0",
          "x": 4,
          "xref": "x",
          "y": 0,
          "yref": "y"
         },
         {
          "font": {
           "color": "white"
          },
          "showarrow": false,
          "text": "0.0 - 0",
          "x": 0,
          "xref": "x",
          "y": 1,
          "yref": "y"
         },
         {
          "font": {
           "color": "white"
          },
          "showarrow": false,
          "text": "100.0 - 618",
          "x": 1,
          "xref": "x",
          "y": 1,
          "yref": "y"
         },
         {
          "font": {
           "color": "white"
          },
          "showarrow": false,
          "text": "0.0 - 0",
          "x": 2,
          "xref": "x",
          "y": 1,
          "yref": "y"
         },
         {
          "font": {
           "color": "white"
          },
          "showarrow": false,
          "text": "0.0 - 0",
          "x": 3,
          "xref": "x",
          "y": 1,
          "yref": "y"
         },
         {
          "font": {
           "color": "white"
          },
          "showarrow": false,
          "text": "0.0 - 0",
          "x": 4,
          "xref": "x",
          "y": 1,
          "yref": "y"
         },
         {
          "font": {
           "color": "white"
          },
          "showarrow": false,
          "text": "0.0 - 0",
          "x": 0,
          "xref": "x",
          "y": 2,
          "yref": "y"
         },
         {
          "font": {
           "color": "white"
          },
          "showarrow": false,
          "text": "0.0 - 0",
          "x": 1,
          "xref": "x",
          "y": 2,
          "yref": "y"
         },
         {
          "font": {
           "color": "white"
          },
          "showarrow": false,
          "text": "100.0 - 807",
          "x": 2,
          "xref": "x",
          "y": 2,
          "yref": "y"
         },
         {
          "font": {
           "color": "white"
          },
          "showarrow": false,
          "text": "0.0 - 0",
          "x": 3,
          "xref": "x",
          "y": 2,
          "yref": "y"
         },
         {
          "font": {
           "color": "white"
          },
          "showarrow": false,
          "text": "0.0 - 0",
          "x": 4,
          "xref": "x",
          "y": 2,
          "yref": "y"
         },
         {
          "font": {
           "color": "white"
          },
          "showarrow": false,
          "text": "0.0 - 0",
          "x": 0,
          "xref": "x",
          "y": 3,
          "yref": "y"
         },
         {
          "font": {
           "color": "white"
          },
          "showarrow": false,
          "text": "0.0 - 0",
          "x": 1,
          "xref": "x",
          "y": 3,
          "yref": "y"
         },
         {
          "font": {
           "color": "white"
          },
          "showarrow": false,
          "text": "0.0 - 0",
          "x": 2,
          "xref": "x",
          "y": 3,
          "yref": "y"
         },
         {
          "font": {
           "color": "white"
          },
          "showarrow": false,
          "text": "100.0 - 652",
          "x": 3,
          "xref": "x",
          "y": 3,
          "yref": "y"
         },
         {
          "font": {
           "color": "white"
          },
          "showarrow": false,
          "text": "0.0 - 0",
          "x": 4,
          "xref": "x",
          "y": 3,
          "yref": "y"
         },
         {
          "font": {
           "color": "white"
          },
          "showarrow": false,
          "text": "0.0 - 0",
          "x": 0,
          "xref": "x",
          "y": 4,
          "yref": "y"
         },
         {
          "font": {
           "color": "white"
          },
          "showarrow": false,
          "text": "0.0 - 0",
          "x": 1,
          "xref": "x",
          "y": 4,
          "yref": "y"
         },
         {
          "font": {
           "color": "white"
          },
          "showarrow": false,
          "text": "0.0 - 0",
          "x": 2,
          "xref": "x",
          "y": 4,
          "yref": "y"
         },
         {
          "font": {
           "color": "white"
          },
          "showarrow": false,
          "text": "0.0 - 0",
          "x": 3,
          "xref": "x",
          "y": 4,
          "yref": "y"
         },
         {
          "font": {
           "color": "white"
          },
          "showarrow": false,
          "text": "100.0 - 840",
          "x": 4,
          "xref": "x",
          "y": 4,
          "yref": "y"
         }
        ],
        "height": 800,
        "template": {
         "data": {
          "bar": [
           {
            "error_x": {
             "color": "#2a3f5f"
            },
            "error_y": {
             "color": "#2a3f5f"
            },
            "marker": {
             "line": {
              "color": "#E5ECF6",
              "width": 0.5
             },
             "pattern": {
              "fillmode": "overlay",
              "size": 10,
              "solidity": 0.2
             }
            },
            "type": "bar"
           }
          ],
          "barpolar": [
           {
            "marker": {
             "line": {
              "color": "#E5ECF6",
              "width": 0.5
             },
             "pattern": {
              "fillmode": "overlay",
              "size": 10,
              "solidity": 0.2
             }
            },
            "type": "barpolar"
           }
          ],
          "carpet": [
           {
            "aaxis": {
             "endlinecolor": "#2a3f5f",
             "gridcolor": "white",
             "linecolor": "white",
             "minorgridcolor": "white",
             "startlinecolor": "#2a3f5f"
            },
            "baxis": {
             "endlinecolor": "#2a3f5f",
             "gridcolor": "white",
             "linecolor": "white",
             "minorgridcolor": "white",
             "startlinecolor": "#2a3f5f"
            },
            "type": "carpet"
           }
          ],
          "choropleth": [
           {
            "colorbar": {
             "outlinewidth": 0,
             "ticks": ""
            },
            "type": "choropleth"
           }
          ],
          "contour": [
           {
            "colorbar": {
             "outlinewidth": 0,
             "ticks": ""
            },
            "colorscale": [
             [
              0,
              "#0d0887"
             ],
             [
              0.1111111111111111,
              "#46039f"
             ],
             [
              0.2222222222222222,
              "#7201a8"
             ],
             [
              0.3333333333333333,
              "#9c179e"
             ],
             [
              0.4444444444444444,
              "#bd3786"
             ],
             [
              0.5555555555555556,
              "#d8576b"
             ],
             [
              0.6666666666666666,
              "#ed7953"
             ],
             [
              0.7777777777777778,
              "#fb9f3a"
             ],
             [
              0.8888888888888888,
              "#fdca26"
             ],
             [
              1,
              "#f0f921"
             ]
            ],
            "type": "contour"
           }
          ],
          "contourcarpet": [
           {
            "colorbar": {
             "outlinewidth": 0,
             "ticks": ""
            },
            "type": "contourcarpet"
           }
          ],
          "heatmap": [
           {
            "colorbar": {
             "outlinewidth": 0,
             "ticks": ""
            },
            "colorscale": [
             [
              0,
              "#0d0887"
             ],
             [
              0.1111111111111111,
              "#46039f"
             ],
             [
              0.2222222222222222,
              "#7201a8"
             ],
             [
              0.3333333333333333,
              "#9c179e"
             ],
             [
              0.4444444444444444,
              "#bd3786"
             ],
             [
              0.5555555555555556,
              "#d8576b"
             ],
             [
              0.6666666666666666,
              "#ed7953"
             ],
             [
              0.7777777777777778,
              "#fb9f3a"
             ],
             [
              0.8888888888888888,
              "#fdca26"
             ],
             [
              1,
              "#f0f921"
             ]
            ],
            "type": "heatmap"
           }
          ],
          "heatmapgl": [
           {
            "colorbar": {
             "outlinewidth": 0,
             "ticks": ""
            },
            "colorscale": [
             [
              0,
              "#0d0887"
             ],
             [
              0.1111111111111111,
              "#46039f"
             ],
             [
              0.2222222222222222,
              "#7201a8"
             ],
             [
              0.3333333333333333,
              "#9c179e"
             ],
             [
              0.4444444444444444,
              "#bd3786"
             ],
             [
              0.5555555555555556,
              "#d8576b"
             ],
             [
              0.6666666666666666,
              "#ed7953"
             ],
             [
              0.7777777777777778,
              "#fb9f3a"
             ],
             [
              0.8888888888888888,
              "#fdca26"
             ],
             [
              1,
              "#f0f921"
             ]
            ],
            "type": "heatmapgl"
           }
          ],
          "histogram": [
           {
            "marker": {
             "pattern": {
              "fillmode": "overlay",
              "size": 10,
              "solidity": 0.2
             }
            },
            "type": "histogram"
           }
          ],
          "histogram2d": [
           {
            "colorbar": {
             "outlinewidth": 0,
             "ticks": ""
            },
            "colorscale": [
             [
              0,
              "#0d0887"
             ],
             [
              0.1111111111111111,
              "#46039f"
             ],
             [
              0.2222222222222222,
              "#7201a8"
             ],
             [
              0.3333333333333333,
              "#9c179e"
             ],
             [
              0.4444444444444444,
              "#bd3786"
             ],
             [
              0.5555555555555556,
              "#d8576b"
             ],
             [
              0.6666666666666666,
              "#ed7953"
             ],
             [
              0.7777777777777778,
              "#fb9f3a"
             ],
             [
              0.8888888888888888,
              "#fdca26"
             ],
             [
              1,
              "#f0f921"
             ]
            ],
            "type": "histogram2d"
           }
          ],
          "histogram2dcontour": [
           {
            "colorbar": {
             "outlinewidth": 0,
             "ticks": ""
            },
            "colorscale": [
             [
              0,
              "#0d0887"
             ],
             [
              0.1111111111111111,
              "#46039f"
             ],
             [
              0.2222222222222222,
              "#7201a8"
             ],
             [
              0.3333333333333333,
              "#9c179e"
             ],
             [
              0.4444444444444444,
              "#bd3786"
             ],
             [
              0.5555555555555556,
              "#d8576b"
             ],
             [
              0.6666666666666666,
              "#ed7953"
             ],
             [
              0.7777777777777778,
              "#fb9f3a"
             ],
             [
              0.8888888888888888,
              "#fdca26"
             ],
             [
              1,
              "#f0f921"
             ]
            ],
            "type": "histogram2dcontour"
           }
          ],
          "mesh3d": [
           {
            "colorbar": {
             "outlinewidth": 0,
             "ticks": ""
            },
            "type": "mesh3d"
           }
          ],
          "parcoords": [
           {
            "line": {
             "colorbar": {
              "outlinewidth": 0,
              "ticks": ""
             }
            },
            "type": "parcoords"
           }
          ],
          "pie": [
           {
            "automargin": true,
            "type": "pie"
           }
          ],
          "scatter": [
           {
            "fillpattern": {
             "fillmode": "overlay",
             "size": 10,
             "solidity": 0.2
            },
            "type": "scatter"
           }
          ],
          "scatter3d": [
           {
            "line": {
             "colorbar": {
              "outlinewidth": 0,
              "ticks": ""
             }
            },
            "marker": {
             "colorbar": {
              "outlinewidth": 0,
              "ticks": ""
             }
            },
            "type": "scatter3d"
           }
          ],
          "scattercarpet": [
           {
            "marker": {
             "colorbar": {
              "outlinewidth": 0,
              "ticks": ""
             }
            },
            "type": "scattercarpet"
           }
          ],
          "scattergeo": [
           {
            "marker": {
             "colorbar": {
              "outlinewidth": 0,
              "ticks": ""
             }
            },
            "type": "scattergeo"
           }
          ],
          "scattergl": [
           {
            "marker": {
             "colorbar": {
              "outlinewidth": 0,
              "ticks": ""
             }
            },
            "type": "scattergl"
           }
          ],
          "scattermapbox": [
           {
            "marker": {
             "colorbar": {
              "outlinewidth": 0,
              "ticks": ""
             }
            },
            "type": "scattermapbox"
           }
          ],
          "scatterpolar": [
           {
            "marker": {
             "colorbar": {
              "outlinewidth": 0,
              "ticks": ""
             }
            },
            "type": "scatterpolar"
           }
          ],
          "scatterpolargl": [
           {
            "marker": {
             "colorbar": {
              "outlinewidth": 0,
              "ticks": ""
             }
            },
            "type": "scatterpolargl"
           }
          ],
          "scatterternary": [
           {
            "marker": {
             "colorbar": {
              "outlinewidth": 0,
              "ticks": ""
             }
            },
            "type": "scatterternary"
           }
          ],
          "surface": [
           {
            "colorbar": {
             "outlinewidth": 0,
             "ticks": ""
            },
            "colorscale": [
             [
              0,
              "#0d0887"
             ],
             [
              0.1111111111111111,
              "#46039f"
             ],
             [
              0.2222222222222222,
              "#7201a8"
             ],
             [
              0.3333333333333333,
              "#9c179e"
             ],
             [
              0.4444444444444444,
              "#bd3786"
             ],
             [
              0.5555555555555556,
              "#d8576b"
             ],
             [
              0.6666666666666666,
              "#ed7953"
             ],
             [
              0.7777777777777778,
              "#fb9f3a"
             ],
             [
              0.8888888888888888,
              "#fdca26"
             ],
             [
              1,
              "#f0f921"
             ]
            ],
            "type": "surface"
           }
          ],
          "table": [
           {
            "cells": {
             "fill": {
              "color": "#EBF0F8"
             },
             "line": {
              "color": "white"
             }
            },
            "header": {
             "fill": {
              "color": "#C8D4E3"
             },
             "line": {
              "color": "white"
             }
            },
            "type": "table"
           }
          ]
         },
         "layout": {
          "annotationdefaults": {
           "arrowcolor": "#2a3f5f",
           "arrowhead": 0,
           "arrowwidth": 1
          },
          "autotypenumbers": "strict",
          "coloraxis": {
           "colorbar": {
            "outlinewidth": 0,
            "ticks": ""
           }
          },
          "colorscale": {
           "diverging": [
            [
             0,
             "#8e0152"
            ],
            [
             0.1,
             "#c51b7d"
            ],
            [
             0.2,
             "#de77ae"
            ],
            [
             0.3,
             "#f1b6da"
            ],
            [
             0.4,
             "#fde0ef"
            ],
            [
             0.5,
             "#f7f7f7"
            ],
            [
             0.6,
             "#e6f5d0"
            ],
            [
             0.7,
             "#b8e186"
            ],
            [
             0.8,
             "#7fbc41"
            ],
            [
             0.9,
             "#4d9221"
            ],
            [
             1,
             "#276419"
            ]
           ],
           "sequential": [
            [
             0,
             "#0d0887"
            ],
            [
             0.1111111111111111,
             "#46039f"
            ],
            [
             0.2222222222222222,
             "#7201a8"
            ],
            [
             0.3333333333333333,
             "#9c179e"
            ],
            [
             0.4444444444444444,
             "#bd3786"
            ],
            [
             0.5555555555555556,
             "#d8576b"
            ],
            [
             0.6666666666666666,
             "#ed7953"
            ],
            [
             0.7777777777777778,
             "#fb9f3a"
            ],
            [
             0.8888888888888888,
             "#fdca26"
            ],
            [
             1,
             "#f0f921"
            ]
           ],
           "sequentialminus": [
            [
             0,
             "#0d0887"
            ],
            [
             0.1111111111111111,
             "#46039f"
            ],
            [
             0.2222222222222222,
             "#7201a8"
            ],
            [
             0.3333333333333333,
             "#9c179e"
            ],
            [
             0.4444444444444444,
             "#bd3786"
            ],
            [
             0.5555555555555556,
             "#d8576b"
            ],
            [
             0.6666666666666666,
             "#ed7953"
            ],
            [
             0.7777777777777778,
             "#fb9f3a"
            ],
            [
             0.8888888888888888,
             "#fdca26"
            ],
            [
             1,
             "#f0f921"
            ]
           ]
          },
          "colorway": [
           "#636efa",
           "#EF553B",
           "#00cc96",
           "#ab63fa",
           "#FFA15A",
           "#19d3f3",
           "#FF6692",
           "#B6E880",
           "#FF97FF",
           "#FECB52"
          ],
          "font": {
           "color": "#2a3f5f"
          },
          "geo": {
           "bgcolor": "white",
           "lakecolor": "white",
           "landcolor": "#E5ECF6",
           "showlakes": true,
           "showland": true,
           "subunitcolor": "white"
          },
          "hoverlabel": {
           "align": "left"
          },
          "hovermode": "closest",
          "mapbox": {
           "style": "light"
          },
          "paper_bgcolor": "white",
          "plot_bgcolor": "#E5ECF6",
          "polar": {
           "angularaxis": {
            "gridcolor": "white",
            "linecolor": "white",
            "ticks": ""
           },
           "bgcolor": "#E5ECF6",
           "radialaxis": {
            "gridcolor": "white",
            "linecolor": "white",
            "ticks": ""
           }
          },
          "scene": {
           "xaxis": {
            "backgroundcolor": "#E5ECF6",
            "gridcolor": "white",
            "gridwidth": 2,
            "linecolor": "white",
            "showbackground": true,
            "ticks": "",
            "zerolinecolor": "white"
           },
           "yaxis": {
            "backgroundcolor": "#E5ECF6",
            "gridcolor": "white",
            "gridwidth": 2,
            "linecolor": "white",
            "showbackground": true,
            "ticks": "",
            "zerolinecolor": "white"
           },
           "zaxis": {
            "backgroundcolor": "#E5ECF6",
            "gridcolor": "white",
            "gridwidth": 2,
            "linecolor": "white",
            "showbackground": true,
            "ticks": "",
            "zerolinecolor": "white"
           }
          },
          "shapedefaults": {
           "line": {
            "color": "#2a3f5f"
           }
          },
          "ternary": {
           "aaxis": {
            "gridcolor": "white",
            "linecolor": "white",
            "ticks": ""
           },
           "baxis": {
            "gridcolor": "white",
            "linecolor": "white",
            "ticks": ""
           },
           "bgcolor": "#E5ECF6",
           "caxis": {
            "gridcolor": "white",
            "linecolor": "white",
            "ticks": ""
           }
          },
          "title": {
           "x": 0.05
          },
          "xaxis": {
           "automargin": true,
           "gridcolor": "white",
           "linecolor": "white",
           "ticks": "",
           "title": {
            "standoff": 15
           },
           "zerolinecolor": "white",
           "zerolinewidth": 2
          },
          "yaxis": {
           "automargin": true,
           "gridcolor": "white",
           "linecolor": "white",
           "ticks": "",
           "title": {
            "standoff": 15
           },
           "zerolinecolor": "white",
           "zerolinewidth": 2
          }
         }
        },
        "title": {
         "text": "Conf Matrix"
        },
        "width": 800,
        "xaxis": {
         "title": {
          "text": "Predicted value"
         }
        },
        "yaxis": {
         "title": {
          "text": "Real value"
         }
        }
       }
      }
     },
     "metadata": {},
     "output_type": "display_data"
    }
   ],
   "source": [
    "#Como se veria la matriz de confusión PERO ESTA ES LA PERFECTA\n",
    "display(plot_confusion_matrix(y_test,y_test))"
   ]
  },
  {
   "cell_type": "code",
   "execution_count": 26,
   "metadata": {},
   "outputs": [],
   "source": [
    "#SIMULACIONES"
   ]
  },
  {
   "cell_type": "code",
   "execution_count": 27,
   "metadata": {},
   "outputs": [],
   "source": [
    "#Pruebo un modelo alternativo donde en vez de usar la version multiclass real de lightGBM utilizo One vs All\n",
    "\n",
    "lgb_params = params = {\n",
    "                        'objective': 'multiclassova', # ESTA HACE MUCHAS LOGITICAS COMBINADAS PERO SIEMPRE DECIDE QUEDARSE CON UNA \n",
    "                        'num_class': len(y_train.unique())\n",
    "                        }\n",
    "\n",
    "\n",
    "lgb_train_dataset = lgb.Dataset(data=X_train,\n",
    "                                label=y_train)\n",
    "\n",
    "\n",
    "lgb_model = lgb.train(lgb_params,\n",
    "                      lgb_train_dataset)"
   ]
  },
  {
   "cell_type": "code",
   "execution_count": 28,
   "metadata": {},
   "outputs": [
    {
     "data": {
      "application/vnd.plotly.v1+json": {
       "config": {
        "plotlyServerURL": "https://plot.ly"
       },
       "data": [
        {
         "type": "heatmap",
         "x": [
          0,
          1,
          2,
          3,
          4
         ],
         "y": [
          0,
          1,
          2,
          3,
          4
         ],
         "z": [
          [
           7.317073170731707,
           46.34146341463415,
           17.073170731707318,
           7.317073170731707,
           21.951219512195124
          ],
          [
           0.48543689320388345,
           34.95145631067961,
           32.362459546925564,
           8.25242718446602,
           23.948220064724918
          ],
          [
           0.12391573729863693,
           23.42007434944238,
           35.31598513011153,
           13.506815365551425,
           27.63320941759603
          ],
          [
           0.3067484662576687,
           13.957055214723926,
           34.96932515337423,
           23.466257668711656,
           27.300613496932513
          ],
          [
           0.11904761904761905,
           10.476190476190476,
           13.452380952380953,
           4.880952380952381,
           71.07142857142857
          ]
         ]
        }
       ],
       "layout": {
        "annotations": [
         {
          "font": {
           "color": "white"
          },
          "showarrow": false,
          "text": "7.3 - 6",
          "x": 0,
          "xref": "x",
          "y": 0,
          "yref": "y"
         },
         {
          "font": {
           "color": "white"
          },
          "showarrow": false,
          "text": "46.3 - 38",
          "x": 1,
          "xref": "x",
          "y": 0,
          "yref": "y"
         },
         {
          "font": {
           "color": "white"
          },
          "showarrow": false,
          "text": "17.1 - 14",
          "x": 2,
          "xref": "x",
          "y": 0,
          "yref": "y"
         },
         {
          "font": {
           "color": "white"
          },
          "showarrow": false,
          "text": "7.3 - 6",
          "x": 3,
          "xref": "x",
          "y": 0,
          "yref": "y"
         },
         {
          "font": {
           "color": "white"
          },
          "showarrow": false,
          "text": "22.0 - 18",
          "x": 4,
          "xref": "x",
          "y": 0,
          "yref": "y"
         },
         {
          "font": {
           "color": "white"
          },
          "showarrow": false,
          "text": "0.5 - 3",
          "x": 0,
          "xref": "x",
          "y": 1,
          "yref": "y"
         },
         {
          "font": {
           "color": "white"
          },
          "showarrow": false,
          "text": "35.0 - 216",
          "x": 1,
          "xref": "x",
          "y": 1,
          "yref": "y"
         },
         {
          "font": {
           "color": "white"
          },
          "showarrow": false,
          "text": "32.4 - 200",
          "x": 2,
          "xref": "x",
          "y": 1,
          "yref": "y"
         },
         {
          "font": {
           "color": "white"
          },
          "showarrow": false,
          "text": "8.3 - 51",
          "x": 3,
          "xref": "x",
          "y": 1,
          "yref": "y"
         },
         {
          "font": {
           "color": "white"
          },
          "showarrow": false,
          "text": "23.9 - 148",
          "x": 4,
          "xref": "x",
          "y": 1,
          "yref": "y"
         },
         {
          "font": {
           "color": "white"
          },
          "showarrow": false,
          "text": "0.1 - 1",
          "x": 0,
          "xref": "x",
          "y": 2,
          "yref": "y"
         },
         {
          "font": {
           "color": "white"
          },
          "showarrow": false,
          "text": "23.4 - 189",
          "x": 1,
          "xref": "x",
          "y": 2,
          "yref": "y"
         },
         {
          "font": {
           "color": "white"
          },
          "showarrow": false,
          "text": "35.3 - 285",
          "x": 2,
          "xref": "x",
          "y": 2,
          "yref": "y"
         },
         {
          "font": {
           "color": "white"
          },
          "showarrow": false,
          "text": "13.5 - 109",
          "x": 3,
          "xref": "x",
          "y": 2,
          "yref": "y"
         },
         {
          "font": {
           "color": "white"
          },
          "showarrow": false,
          "text": "27.6 - 223",
          "x": 4,
          "xref": "x",
          "y": 2,
          "yref": "y"
         },
         {
          "font": {
           "color": "white"
          },
          "showarrow": false,
          "text": "0.3 - 2",
          "x": 0,
          "xref": "x",
          "y": 3,
          "yref": "y"
         },
         {
          "font": {
           "color": "white"
          },
          "showarrow": false,
          "text": "14.0 - 91",
          "x": 1,
          "xref": "x",
          "y": 3,
          "yref": "y"
         },
         {
          "font": {
           "color": "white"
          },
          "showarrow": false,
          "text": "35.0 - 228",
          "x": 2,
          "xref": "x",
          "y": 3,
          "yref": "y"
         },
         {
          "font": {
           "color": "white"
          },
          "showarrow": false,
          "text": "23.5 - 153",
          "x": 3,
          "xref": "x",
          "y": 3,
          "yref": "y"
         },
         {
          "font": {
           "color": "white"
          },
          "showarrow": false,
          "text": "27.3 - 178",
          "x": 4,
          "xref": "x",
          "y": 3,
          "yref": "y"
         },
         {
          "font": {
           "color": "white"
          },
          "showarrow": false,
          "text": "0.1 - 1",
          "x": 0,
          "xref": "x",
          "y": 4,
          "yref": "y"
         },
         {
          "font": {
           "color": "white"
          },
          "showarrow": false,
          "text": "10.5 - 88",
          "x": 1,
          "xref": "x",
          "y": 4,
          "yref": "y"
         },
         {
          "font": {
           "color": "white"
          },
          "showarrow": false,
          "text": "13.5 - 113",
          "x": 2,
          "xref": "x",
          "y": 4,
          "yref": "y"
         },
         {
          "font": {
           "color": "white"
          },
          "showarrow": false,
          "text": "4.9 - 41",
          "x": 3,
          "xref": "x",
          "y": 4,
          "yref": "y"
         },
         {
          "font": {
           "color": "white"
          },
          "showarrow": false,
          "text": "71.1 - 597",
          "x": 4,
          "xref": "x",
          "y": 4,
          "yref": "y"
         }
        ],
        "height": 800,
        "template": {
         "data": {
          "bar": [
           {
            "error_x": {
             "color": "#2a3f5f"
            },
            "error_y": {
             "color": "#2a3f5f"
            },
            "marker": {
             "line": {
              "color": "#E5ECF6",
              "width": 0.5
             },
             "pattern": {
              "fillmode": "overlay",
              "size": 10,
              "solidity": 0.2
             }
            },
            "type": "bar"
           }
          ],
          "barpolar": [
           {
            "marker": {
             "line": {
              "color": "#E5ECF6",
              "width": 0.5
             },
             "pattern": {
              "fillmode": "overlay",
              "size": 10,
              "solidity": 0.2
             }
            },
            "type": "barpolar"
           }
          ],
          "carpet": [
           {
            "aaxis": {
             "endlinecolor": "#2a3f5f",
             "gridcolor": "white",
             "linecolor": "white",
             "minorgridcolor": "white",
             "startlinecolor": "#2a3f5f"
            },
            "baxis": {
             "endlinecolor": "#2a3f5f",
             "gridcolor": "white",
             "linecolor": "white",
             "minorgridcolor": "white",
             "startlinecolor": "#2a3f5f"
            },
            "type": "carpet"
           }
          ],
          "choropleth": [
           {
            "colorbar": {
             "outlinewidth": 0,
             "ticks": ""
            },
            "type": "choropleth"
           }
          ],
          "contour": [
           {
            "colorbar": {
             "outlinewidth": 0,
             "ticks": ""
            },
            "colorscale": [
             [
              0,
              "#0d0887"
             ],
             [
              0.1111111111111111,
              "#46039f"
             ],
             [
              0.2222222222222222,
              "#7201a8"
             ],
             [
              0.3333333333333333,
              "#9c179e"
             ],
             [
              0.4444444444444444,
              "#bd3786"
             ],
             [
              0.5555555555555556,
              "#d8576b"
             ],
             [
              0.6666666666666666,
              "#ed7953"
             ],
             [
              0.7777777777777778,
              "#fb9f3a"
             ],
             [
              0.8888888888888888,
              "#fdca26"
             ],
             [
              1,
              "#f0f921"
             ]
            ],
            "type": "contour"
           }
          ],
          "contourcarpet": [
           {
            "colorbar": {
             "outlinewidth": 0,
             "ticks": ""
            },
            "type": "contourcarpet"
           }
          ],
          "heatmap": [
           {
            "colorbar": {
             "outlinewidth": 0,
             "ticks": ""
            },
            "colorscale": [
             [
              0,
              "#0d0887"
             ],
             [
              0.1111111111111111,
              "#46039f"
             ],
             [
              0.2222222222222222,
              "#7201a8"
             ],
             [
              0.3333333333333333,
              "#9c179e"
             ],
             [
              0.4444444444444444,
              "#bd3786"
             ],
             [
              0.5555555555555556,
              "#d8576b"
             ],
             [
              0.6666666666666666,
              "#ed7953"
             ],
             [
              0.7777777777777778,
              "#fb9f3a"
             ],
             [
              0.8888888888888888,
              "#fdca26"
             ],
             [
              1,
              "#f0f921"
             ]
            ],
            "type": "heatmap"
           }
          ],
          "heatmapgl": [
           {
            "colorbar": {
             "outlinewidth": 0,
             "ticks": ""
            },
            "colorscale": [
             [
              0,
              "#0d0887"
             ],
             [
              0.1111111111111111,
              "#46039f"
             ],
             [
              0.2222222222222222,
              "#7201a8"
             ],
             [
              0.3333333333333333,
              "#9c179e"
             ],
             [
              0.4444444444444444,
              "#bd3786"
             ],
             [
              0.5555555555555556,
              "#d8576b"
             ],
             [
              0.6666666666666666,
              "#ed7953"
             ],
             [
              0.7777777777777778,
              "#fb9f3a"
             ],
             [
              0.8888888888888888,
              "#fdca26"
             ],
             [
              1,
              "#f0f921"
             ]
            ],
            "type": "heatmapgl"
           }
          ],
          "histogram": [
           {
            "marker": {
             "pattern": {
              "fillmode": "overlay",
              "size": 10,
              "solidity": 0.2
             }
            },
            "type": "histogram"
           }
          ],
          "histogram2d": [
           {
            "colorbar": {
             "outlinewidth": 0,
             "ticks": ""
            },
            "colorscale": [
             [
              0,
              "#0d0887"
             ],
             [
              0.1111111111111111,
              "#46039f"
             ],
             [
              0.2222222222222222,
              "#7201a8"
             ],
             [
              0.3333333333333333,
              "#9c179e"
             ],
             [
              0.4444444444444444,
              "#bd3786"
             ],
             [
              0.5555555555555556,
              "#d8576b"
             ],
             [
              0.6666666666666666,
              "#ed7953"
             ],
             [
              0.7777777777777778,
              "#fb9f3a"
             ],
             [
              0.8888888888888888,
              "#fdca26"
             ],
             [
              1,
              "#f0f921"
             ]
            ],
            "type": "histogram2d"
           }
          ],
          "histogram2dcontour": [
           {
            "colorbar": {
             "outlinewidth": 0,
             "ticks": ""
            },
            "colorscale": [
             [
              0,
              "#0d0887"
             ],
             [
              0.1111111111111111,
              "#46039f"
             ],
             [
              0.2222222222222222,
              "#7201a8"
             ],
             [
              0.3333333333333333,
              "#9c179e"
             ],
             [
              0.4444444444444444,
              "#bd3786"
             ],
             [
              0.5555555555555556,
              "#d8576b"
             ],
             [
              0.6666666666666666,
              "#ed7953"
             ],
             [
              0.7777777777777778,
              "#fb9f3a"
             ],
             [
              0.8888888888888888,
              "#fdca26"
             ],
             [
              1,
              "#f0f921"
             ]
            ],
            "type": "histogram2dcontour"
           }
          ],
          "mesh3d": [
           {
            "colorbar": {
             "outlinewidth": 0,
             "ticks": ""
            },
            "type": "mesh3d"
           }
          ],
          "parcoords": [
           {
            "line": {
             "colorbar": {
              "outlinewidth": 0,
              "ticks": ""
             }
            },
            "type": "parcoords"
           }
          ],
          "pie": [
           {
            "automargin": true,
            "type": "pie"
           }
          ],
          "scatter": [
           {
            "fillpattern": {
             "fillmode": "overlay",
             "size": 10,
             "solidity": 0.2
            },
            "type": "scatter"
           }
          ],
          "scatter3d": [
           {
            "line": {
             "colorbar": {
              "outlinewidth": 0,
              "ticks": ""
             }
            },
            "marker": {
             "colorbar": {
              "outlinewidth": 0,
              "ticks": ""
             }
            },
            "type": "scatter3d"
           }
          ],
          "scattercarpet": [
           {
            "marker": {
             "colorbar": {
              "outlinewidth": 0,
              "ticks": ""
             }
            },
            "type": "scattercarpet"
           }
          ],
          "scattergeo": [
           {
            "marker": {
             "colorbar": {
              "outlinewidth": 0,
              "ticks": ""
             }
            },
            "type": "scattergeo"
           }
          ],
          "scattergl": [
           {
            "marker": {
             "colorbar": {
              "outlinewidth": 0,
              "ticks": ""
             }
            },
            "type": "scattergl"
           }
          ],
          "scattermapbox": [
           {
            "marker": {
             "colorbar": {
              "outlinewidth": 0,
              "ticks": ""
             }
            },
            "type": "scattermapbox"
           }
          ],
          "scatterpolar": [
           {
            "marker": {
             "colorbar": {
              "outlinewidth": 0,
              "ticks": ""
             }
            },
            "type": "scatterpolar"
           }
          ],
          "scatterpolargl": [
           {
            "marker": {
             "colorbar": {
              "outlinewidth": 0,
              "ticks": ""
             }
            },
            "type": "scatterpolargl"
           }
          ],
          "scatterternary": [
           {
            "marker": {
             "colorbar": {
              "outlinewidth": 0,
              "ticks": ""
             }
            },
            "type": "scatterternary"
           }
          ],
          "surface": [
           {
            "colorbar": {
             "outlinewidth": 0,
             "ticks": ""
            },
            "colorscale": [
             [
              0,
              "#0d0887"
             ],
             [
              0.1111111111111111,
              "#46039f"
             ],
             [
              0.2222222222222222,
              "#7201a8"
             ],
             [
              0.3333333333333333,
              "#9c179e"
             ],
             [
              0.4444444444444444,
              "#bd3786"
             ],
             [
              0.5555555555555556,
              "#d8576b"
             ],
             [
              0.6666666666666666,
              "#ed7953"
             ],
             [
              0.7777777777777778,
              "#fb9f3a"
             ],
             [
              0.8888888888888888,
              "#fdca26"
             ],
             [
              1,
              "#f0f921"
             ]
            ],
            "type": "surface"
           }
          ],
          "table": [
           {
            "cells": {
             "fill": {
              "color": "#EBF0F8"
             },
             "line": {
              "color": "white"
             }
            },
            "header": {
             "fill": {
              "color": "#C8D4E3"
             },
             "line": {
              "color": "white"
             }
            },
            "type": "table"
           }
          ]
         },
         "layout": {
          "annotationdefaults": {
           "arrowcolor": "#2a3f5f",
           "arrowhead": 0,
           "arrowwidth": 1
          },
          "autotypenumbers": "strict",
          "coloraxis": {
           "colorbar": {
            "outlinewidth": 0,
            "ticks": ""
           }
          },
          "colorscale": {
           "diverging": [
            [
             0,
             "#8e0152"
            ],
            [
             0.1,
             "#c51b7d"
            ],
            [
             0.2,
             "#de77ae"
            ],
            [
             0.3,
             "#f1b6da"
            ],
            [
             0.4,
             "#fde0ef"
            ],
            [
             0.5,
             "#f7f7f7"
            ],
            [
             0.6,
             "#e6f5d0"
            ],
            [
             0.7,
             "#b8e186"
            ],
            [
             0.8,
             "#7fbc41"
            ],
            [
             0.9,
             "#4d9221"
            ],
            [
             1,
             "#276419"
            ]
           ],
           "sequential": [
            [
             0,
             "#0d0887"
            ],
            [
             0.1111111111111111,
             "#46039f"
            ],
            [
             0.2222222222222222,
             "#7201a8"
            ],
            [
             0.3333333333333333,
             "#9c179e"
            ],
            [
             0.4444444444444444,
             "#bd3786"
            ],
            [
             0.5555555555555556,
             "#d8576b"
            ],
            [
             0.6666666666666666,
             "#ed7953"
            ],
            [
             0.7777777777777778,
             "#fb9f3a"
            ],
            [
             0.8888888888888888,
             "#fdca26"
            ],
            [
             1,
             "#f0f921"
            ]
           ],
           "sequentialminus": [
            [
             0,
             "#0d0887"
            ],
            [
             0.1111111111111111,
             "#46039f"
            ],
            [
             0.2222222222222222,
             "#7201a8"
            ],
            [
             0.3333333333333333,
             "#9c179e"
            ],
            [
             0.4444444444444444,
             "#bd3786"
            ],
            [
             0.5555555555555556,
             "#d8576b"
            ],
            [
             0.6666666666666666,
             "#ed7953"
            ],
            [
             0.7777777777777778,
             "#fb9f3a"
            ],
            [
             0.8888888888888888,
             "#fdca26"
            ],
            [
             1,
             "#f0f921"
            ]
           ]
          },
          "colorway": [
           "#636efa",
           "#EF553B",
           "#00cc96",
           "#ab63fa",
           "#FFA15A",
           "#19d3f3",
           "#FF6692",
           "#B6E880",
           "#FF97FF",
           "#FECB52"
          ],
          "font": {
           "color": "#2a3f5f"
          },
          "geo": {
           "bgcolor": "white",
           "lakecolor": "white",
           "landcolor": "#E5ECF6",
           "showlakes": true,
           "showland": true,
           "subunitcolor": "white"
          },
          "hoverlabel": {
           "align": "left"
          },
          "hovermode": "closest",
          "mapbox": {
           "style": "light"
          },
          "paper_bgcolor": "white",
          "plot_bgcolor": "#E5ECF6",
          "polar": {
           "angularaxis": {
            "gridcolor": "white",
            "linecolor": "white",
            "ticks": ""
           },
           "bgcolor": "#E5ECF6",
           "radialaxis": {
            "gridcolor": "white",
            "linecolor": "white",
            "ticks": ""
           }
          },
          "scene": {
           "xaxis": {
            "backgroundcolor": "#E5ECF6",
            "gridcolor": "white",
            "gridwidth": 2,
            "linecolor": "white",
            "showbackground": true,
            "ticks": "",
            "zerolinecolor": "white"
           },
           "yaxis": {
            "backgroundcolor": "#E5ECF6",
            "gridcolor": "white",
            "gridwidth": 2,
            "linecolor": "white",
            "showbackground": true,
            "ticks": "",
            "zerolinecolor": "white"
           },
           "zaxis": {
            "backgroundcolor": "#E5ECF6",
            "gridcolor": "white",
            "gridwidth": 2,
            "linecolor": "white",
            "showbackground": true,
            "ticks": "",
            "zerolinecolor": "white"
           }
          },
          "shapedefaults": {
           "line": {
            "color": "#2a3f5f"
           }
          },
          "ternary": {
           "aaxis": {
            "gridcolor": "white",
            "linecolor": "white",
            "ticks": ""
           },
           "baxis": {
            "gridcolor": "white",
            "linecolor": "white",
            "ticks": ""
           },
           "bgcolor": "#E5ECF6",
           "caxis": {
            "gridcolor": "white",
            "linecolor": "white",
            "ticks": ""
           }
          },
          "title": {
           "x": 0.05
          },
          "xaxis": {
           "automargin": true,
           "gridcolor": "white",
           "linecolor": "white",
           "ticks": "",
           "title": {
            "standoff": 15
           },
           "zerolinecolor": "white",
           "zerolinewidth": 2
          },
          "yaxis": {
           "automargin": true,
           "gridcolor": "white",
           "linecolor": "white",
           "ticks": "",
           "title": {
            "standoff": 15
           },
           "zerolinecolor": "white",
           "zerolinewidth": 2
          }
         }
        },
        "title": {
         "text": "Conf Matrix"
        },
        "width": 800,
        "xaxis": {
         "title": {
          "text": "Predicted value"
         }
        },
        "yaxis": {
         "title": {
          "text": "Real value"
         }
        }
       }
      }
     },
     "metadata": {},
     "output_type": "display_data"
    },
    {
     "data": {
      "text/plain": [
       "{'kappa': 0.36083732224071885,\n",
       " 'accuracy': 0.4191397132377459,\n",
       " 'balanced_accuracy': 0.3442444017033262}"
      ]
     },
     "execution_count": 28,
     "metadata": {},
     "output_type": "execute_result"
    }
   ],
   "source": [
    "#MAtriz de confusion y Kappa dfe OVA\n",
    "y_pred = lgb_model.predict(X_test).argmax(axis=1)\n",
    "\n",
    "display(plot_confusion_matrix(y_test,y_pred))\n",
    "\n",
    "{'kappa':cohen_kappa_score(y_test,\n",
    "                y_pred,\n",
    "                weights = 'quadratic'),\n",
    " 'accuracy':accuracy_score(y_test,y_pred),\n",
    " 'balanced_accuracy':balanced_accuracy_score(y_test,y_pred)}\n",
    "\n",
    "\n"
   ]
  },
  {
   "cell_type": "code",
   "execution_count": 29,
   "metadata": {},
   "outputs": [],
   "source": [
    "#USAR MULTINOVA MEJORA KAPPA OSEA MI MODELO SE ACERCA MAS AL ORIG"
   ]
  },
  {
   "cell_type": "markdown",
   "metadata": {},
   "source": [
    "## Optimizacion de hiperparametros modelo train/test"
   ]
  },
  {
   "cell_type": "code",
   "execution_count": 30,
   "metadata": {},
   "outputs": [],
   "source": [
    "#AHORA SUMAMOS HIPERPARAMETROS PARA VER QUE PASA CON LGBM"
   ]
  },
  {
   "cell_type": "code",
   "execution_count": 31,
   "metadata": {},
   "outputs": [],
   "source": [
    "\n",
    "#Funcion que vamos a optimizar. Optuna requiere que usemos el objeto trial para generar los parametros a optimizar\n",
    "def lgb_objective(trial):\n",
    "    #PArametros para LightGBM\n",
    "    lgb_params = {      \n",
    "                        #PArametros fijos\n",
    "                        'objective': 'multiclass',\n",
    "                        'verbosity':-1,\n",
    "                        'num_class': len(y_train.unique()),\n",
    "                        #Hiperparametros a optimizar utilizando suggest_float o suggest_int segun el tipo de dato\n",
    "                        #Se indica el nombre del parametro, valor minimo, valor maximo \n",
    "                        #en elgunos casos el parametro log=True para parametros que requieren buscar en esa escala\n",
    "                        'lambda_l1': trial.suggest_float('lambda_l1', 1e-8, 10.0, log=True),\n",
    "                        'lambda_l2': trial.suggest_float('lambda_l2', 1e-8, 10.0, log=True),\n",
    "                        'num_leaves': trial.suggest_int('num_leaves', 2, 256),\n",
    "                        'feature_fraction': trial.suggest_float('feature_fraction', 0.4, 1.0),\n",
    "                        'bagging_fraction': trial.suggest_float('bagging_fraction', 0.4, 1.0),\n",
    "                        'bagging_freq': trial.suggest_int('bagging_freq', 1, 7),\n",
    "                        'min_child_samples': trial.suggest_int('min_child_samples', 5, 100),\n",
    "                        } \n",
    "\n",
    "    #Genero objeto dataset de entrenamiento\n",
    "    lgb_train_dataset = lgb.Dataset(data=X_train,\n",
    "                                    label=y_train)\n",
    "\n",
    "    #ajuste de modelo\n",
    "    lgb_model = lgb.train(lgb_params,\n",
    "                        lgb_train_dataset)\n",
    "    \n",
    "    #Devuelvo el score en test\n",
    "    return(cohen_kappa_score(y_test,lgb_model.predict(X_test).argmax(axis=1),\n",
    "                             weights = 'quadratic'))"
   ]
  },
  {
   "cell_type": "code",
   "execution_count": 32,
   "metadata": {},
   "outputs": [
    {
     "name": "stderr",
     "output_type": "stream",
     "text": [
      "[I 2024-09-14 12:08:03,042] Using an existing study with name '04 - LGB Multiclass' instead of creating a new one.\n",
      "[I 2024-09-14 12:08:09,193] Trial 1684 finished with value: 0.304428776203419 and parameters: {'lambda_l1': 6.616970653074484e-05, 'lambda_l2': 5.951017699106588e-08, 'num_leaves': 2, 'feature_fraction': 0.973516364694261, 'bagging_fraction': 0.4945209169340998, 'bagging_freq': 6, 'min_child_samples': 15}. Best is trial 200 with value: 1.0.\n",
      "[I 2024-09-14 12:08:14,866] Trial 1685 finished with value: 0.3467303789287338 and parameters: {'lambda_l1': 0.00010222689768622893, 'lambda_l2': 0.03466045816144902, 'num_leaves': 12, 'feature_fraction': 0.9900926483507354, 'bagging_fraction': 0.5092643229376543, 'bagging_freq': 6, 'min_child_samples': 21}. Best is trial 200 with value: 1.0.\n",
      "[I 2024-09-14 12:08:22,000] Trial 1686 finished with value: 0.3616729192837793 and parameters: {'lambda_l1': 3.503255447613151e-05, 'lambda_l2': 3.129230377254069e-08, 'num_leaves': 17, 'feature_fraction': 0.9768945125177222, 'bagging_fraction': 0.5773447459811337, 'bagging_freq': 6, 'min_child_samples': 18}. Best is trial 200 with value: 1.0.\n",
      "[I 2024-09-14 12:08:24,578] Trial 1687 finished with value: 0.3473937427432071 and parameters: {'lambda_l1': 1.1719078838466326e-06, 'lambda_l2': 5.689569500113181e-07, 'num_leaves': 7, 'feature_fraction': 0.9632148606008645, 'bagging_fraction': 0.535774623416582, 'bagging_freq': 6, 'min_child_samples': 9}. Best is trial 200 with value: 1.0.\n",
      "[I 2024-09-14 12:08:34,863] Trial 1688 finished with value: 0.35236297847989817 and parameters: {'lambda_l1': 0.0001804921946426735, 'lambda_l2': 1.1532008805262371e-07, 'num_leaves': 169, 'feature_fraction': 0.9889834844597419, 'bagging_fraction': 0.5560079343862018, 'bagging_freq': 6, 'min_child_samples': 14}. Best is trial 200 with value: 1.0.\n",
      "[I 2024-09-14 12:08:37,186] Trial 1689 finished with value: 0.34849541337949985 and parameters: {'lambda_l1': 6.750769648117504e-05, 'lambda_l2': 7.490594380204033e-08, 'num_leaves': 11, 'feature_fraction': 0.999466534105102, 'bagging_fraction': 0.5201303122218397, 'bagging_freq': 6, 'min_child_samples': 16}. Best is trial 200 with value: 1.0.\n",
      "[I 2024-09-14 12:08:40,189] Trial 1690 finished with value: 0.34571521485087253 and parameters: {'lambda_l1': 0.00011232917537828559, 'lambda_l2': 4.507987676568074e-08, 'num_leaves': 22, 'feature_fraction': 0.9802586840778554, 'bagging_fraction': 0.48063509493688955, 'bagging_freq': 6, 'min_child_samples': 12}. Best is trial 200 with value: 1.0.\n",
      "[I 2024-09-14 12:08:41,591] Trial 1691 finished with value: 0.31109828484728497 and parameters: {'lambda_l1': 4.8253117344811304e-05, 'lambda_l2': 2.026551896428734e-08, 'num_leaves': 2, 'feature_fraction': 0.9496009250014122, 'bagging_fraction': 0.6275421778474937, 'bagging_freq': 3, 'min_child_samples': 18}. Best is trial 200 with value: 1.0.\n",
      "[I 2024-09-14 12:08:45,189] Trial 1692 finished with value: 0.36618482037034683 and parameters: {'lambda_l1': 0.00035813196469317477, 'lambda_l2': 1.5257071396381408e-07, 'num_leaves': 36, 'feature_fraction': 0.9808845921420629, 'bagging_fraction': 0.4951929059014787, 'bagging_freq': 6, 'min_child_samples': 15}. Best is trial 200 with value: 1.0.\n",
      "[I 2024-09-14 12:08:47,542] Trial 1693 finished with value: 0.3599947053643304 and parameters: {'lambda_l1': 2.8287538676258854e-05, 'lambda_l2': 2.8904475477828324e-07, 'num_leaves': 15, 'feature_fraction': 0.9897925165526857, 'bagging_fraction': 0.4606887950423777, 'bagging_freq': 6, 'min_child_samples': 20}. Best is trial 200 with value: 1.0.\n",
      "[I 2024-09-14 12:08:50,852] Trial 1694 finished with value: 0.3688087968450463 and parameters: {'lambda_l1': 8.164650450067256e-05, 'lambda_l2': 7.426931533942141e-08, 'num_leaves': 29, 'feature_fraction': 0.9997908378333746, 'bagging_fraction': 0.5941784171011034, 'bagging_freq': 6, 'min_child_samples': 11}. Best is trial 200 with value: 1.0.\n",
      "[I 2024-09-14 12:08:52,717] Trial 1695 finished with value: 0.3536373226001458 and parameters: {'lambda_l1': 0.00015647010289570294, 'lambda_l2': 1.1998819673118586e-07, 'num_leaves': 7, 'feature_fraction': 0.9699504777772114, 'bagging_fraction': 0.5638481936355669, 'bagging_freq': 7, 'min_child_samples': 17}. Best is trial 200 with value: 1.0.\n",
      "[I 2024-09-14 12:08:55,522] Trial 1696 finished with value: 0.3675139008531191 and parameters: {'lambda_l1': 4.9081639308498494e-05, 'lambda_l2': 2.1198329086947765e-07, 'num_leaves': 22, 'feature_fraction': 0.9999394212016284, 'bagging_fraction': 0.5423707463473578, 'bagging_freq': 6, 'min_child_samples': 13}. Best is trial 200 with value: 1.0.\n",
      "[I 2024-09-14 12:08:57,844] Trial 1697 finished with value: 0.3495405941479125 and parameters: {'lambda_l1': 9.50582788382528e-05, 'lambda_l2': 1.0055080434350571e-08, 'num_leaves': 11, 'feature_fraction': 0.9806282818045231, 'bagging_fraction': 0.5085278570701313, 'bagging_freq': 6, 'min_child_samples': 15}. Best is trial 200 with value: 1.0.\n",
      "[I 2024-09-14 12:09:00,388] Trial 1698 finished with value: 0.3609345347102365 and parameters: {'lambda_l1': 0.00019256667742102964, 'lambda_l2': 4.3211048683162146e-08, 'num_leaves': 17, 'feature_fraction': 0.9899373403786852, 'bagging_fraction': 0.5264106510333806, 'bagging_freq': 6, 'min_child_samples': 19}. Best is trial 200 with value: 1.0.\n",
      "[I 2024-09-14 12:09:02,300] Trial 1699 finished with value: 0.3452204673027106 and parameters: {'lambda_l1': 6.683153913714313e-05, 'lambda_l2': 7.91658000003458e-08, 'num_leaves': 7, 'feature_fraction': 0.9627094972153211, 'bagging_fraction': 0.5720836787203883, 'bagging_freq': 6, 'min_child_samples': 16}. Best is trial 200 with value: 1.0.\n",
      "[I 2024-09-14 12:09:03,650] Trial 1700 finished with value: 0.30229089945704213 and parameters: {'lambda_l1': 2.2877468469688912e-05, 'lambda_l2': 5.681992321905834, 'num_leaves': 2, 'feature_fraction': 0.9715573628646335, 'bagging_fraction': 0.5010947094201004, 'bagging_freq': 5, 'min_child_samples': 13}. Best is trial 200 with value: 1.0.\n",
      "[I 2024-09-14 12:09:06,106] Trial 1701 finished with value: 0.36401407708366096 and parameters: {'lambda_l1': 3.6108559036693504e-05, 'lambda_l2': 8.343176856253967e-07, 'num_leaves': 13, 'feature_fraction': 0.9890734562300574, 'bagging_fraction': 0.7710217432410784, 'bagging_freq': 6, 'min_child_samples': 17}. Best is trial 200 with value: 1.0.\n",
      "[I 2024-09-14 12:09:12,769] Trial 1702 finished with value: 0.3539512163211542 and parameters: {'lambda_l1': 0.00012009122114989556, 'lambda_l2': 3.9423277579210155e-07, 'num_leaves': 26, 'feature_fraction': 0.9998892034626844, 'bagging_fraction': 0.5426540905509293, 'bagging_freq': 6, 'min_child_samples': 11}. Best is trial 200 with value: 1.0.\n",
      "[I 2024-09-14 12:09:15,638] Trial 1703 finished with value: 0.35389310980037125 and parameters: {'lambda_l1': 5.871881252482949e-05, 'lambda_l2': 1.0657930119755628e-07, 'num_leaves': 19, 'feature_fraction': 0.9804323296837084, 'bagging_fraction': 0.51759589798212, 'bagging_freq': 6, 'min_child_samples': 14}. Best is trial 200 with value: 1.0.\n",
      "[I 2024-09-14 12:09:17,854] Trial 1704 finished with value: 0.34767583616127107 and parameters: {'lambda_l1': 0.000268258686885166, 'lambda_l2': 4.9699824318798325e-08, 'num_leaves': 10, 'feature_fraction': 0.737630165897065, 'bagging_fraction': 0.4800285792268566, 'bagging_freq': 6, 'min_child_samples': 27}. Best is trial 200 with value: 1.0.\n",
      "[I 2024-09-14 12:09:20,033] Trial 1705 finished with value: 0.34899956986031566 and parameters: {'lambda_l1': 8.576272531561433e-05, 'lambda_l2': 2.9157215986766758e-08, 'num_leaves': 6, 'feature_fraction': 0.9569942700494704, 'bagging_fraction': 0.5312173116695055, 'bagging_freq': 6, 'min_child_samples': 19}. Best is trial 200 with value: 1.0.\n",
      "[I 2024-09-14 12:09:23,851] Trial 1706 finished with value: 0.3556625901679972 and parameters: {'lambda_l1': 0.0001358451787902077, 'lambda_l2': 1.8728695431152196e-07, 'num_leaves': 14, 'feature_fraction': 0.9892427033093905, 'bagging_fraction': 0.5518934543931032, 'bagging_freq': 6, 'min_child_samples': 16}. Best is trial 200 with value: 1.0.\n",
      "[I 2024-09-14 12:09:28,890] Trial 1707 finished with value: 0.332483429527909 and parameters: {'lambda_l1': 4.1017219740643606e-05, 'lambda_l2': 7.366583575645694e-08, 'num_leaves': 6, 'feature_fraction': 0.9995386288287167, 'bagging_fraction': 0.49209471764803453, 'bagging_freq': 6, 'min_child_samples': 14}. Best is trial 200 with value: 1.0.\n",
      "[I 2024-09-14 12:09:35,532] Trial 1708 finished with value: 0.36788145303034747 and parameters: {'lambda_l1': 6.562877516366914e-05, 'lambda_l2': 1.3527600455957076e-07, 'num_leaves': 22, 'feature_fraction': 0.9709010287003361, 'bagging_fraction': 0.562118674613151, 'bagging_freq': 6, 'min_child_samples': 22}. Best is trial 200 with value: 1.0.\n",
      "[I 2024-09-14 12:09:37,382] Trial 1709 finished with value: 0.30838328509956336 and parameters: {'lambda_l1': 0.00020641354431932308, 'lambda_l2': 2.73785887156399e-07, 'num_leaves': 2, 'feature_fraction': 0.8368709167316581, 'bagging_fraction': 0.5114767325581558, 'bagging_freq': 6, 'min_child_samples': 8}. Best is trial 200 with value: 1.0.\n",
      "[I 2024-09-14 12:09:39,970] Trial 1710 finished with value: 0.3458690187306631 and parameters: {'lambda_l1': 0.00010734202355461346, 'lambda_l2': 3.657045728959426e-08, 'num_leaves': 11, 'feature_fraction': 0.9800724789359423, 'bagging_fraction': 0.4703053481074572, 'bagging_freq': 6, 'min_child_samples': 18}. Best is trial 200 with value: 1.0.\n",
      "[I 2024-09-14 12:09:50,962] Trial 1711 finished with value: 0.37008755437425855 and parameters: {'lambda_l1': 1.829864632815381e-05, 'lambda_l2': 2.0722144058581333e-08, 'num_leaves': 125, 'feature_fraction': 0.6390064041324308, 'bagging_fraction': 0.5324151059313681, 'bagging_freq': 6, 'min_child_samples': 12}. Best is trial 200 with value: 1.0.\n",
      "[I 2024-09-14 12:09:53,364] Trial 1712 finished with value: 0.3564212386517017 and parameters: {'lambda_l1': 4.9972749763967215e-05, 'lambda_l2': 5.64744359967575e-08, 'num_leaves': 17, 'feature_fraction': 0.9895155595095049, 'bagging_fraction': 0.5486678199727117, 'bagging_freq': 6, 'min_child_samples': 16}. Best is trial 200 with value: 1.0.\n",
      "[I 2024-09-14 12:09:56,456] Trial 1713 finished with value: 0.37105268260293733 and parameters: {'lambda_l1': 7.727355161768509e-05, 'lambda_l2': 9.87433056469261e-08, 'num_leaves': 26, 'feature_fraction': 0.9803855400912648, 'bagging_fraction': 0.5773862094179979, 'bagging_freq': 6, 'min_child_samples': 20}. Best is trial 200 with value: 1.0.\n",
      "[I 2024-09-14 12:10:00,527] Trial 1714 finished with value: 0.3572658848149154 and parameters: {'lambda_l1': 3.431927353499677e-05, 'lambda_l2': 1.669540596259893e-07, 'num_leaves': 32, 'feature_fraction': 0.9999748792520341, 'bagging_fraction': 0.5908645553088183, 'bagging_freq': 6, 'min_child_samples': 14}. Best is trial 200 with value: 1.0.\n",
      "[I 2024-09-14 12:10:02,599] Trial 1715 finished with value: 0.344226199126043 and parameters: {'lambda_l1': 0.00014411294742766386, 'lambda_l2': 4.5399160922945224e-07, 'num_leaves': 10, 'feature_fraction': 0.9697729351941154, 'bagging_fraction': 0.5039554334396306, 'bagging_freq': 6, 'min_child_samples': 18}. Best is trial 200 with value: 1.0.\n",
      "[I 2024-09-14 12:10:05,095] Trial 1716 finished with value: 0.3402665831227759 and parameters: {'lambda_l1': 8.762913891678762e-05, 'lambda_l2': 7.431302043736091e-08, 'num_leaves': 16, 'feature_fraction': 0.9886377093780693, 'bagging_fraction': 0.5213951965478265, 'bagging_freq': 6, 'min_child_samples': 10}. Best is trial 200 with value: 1.0.\n",
      "[I 2024-09-14 12:10:06,896] Trial 1717 finished with value: 0.3242805115901204 and parameters: {'lambda_l1': 5.294359224304334e-05, 'lambda_l2': 1.190370547071588e-07, 'num_leaves': 6, 'feature_fraction': 0.9603994688164393, 'bagging_fraction': 0.490047336004279, 'bagging_freq': 6, 'min_child_samples': 53}. Best is trial 200 with value: 1.0.\n",
      "[I 2024-09-14 12:10:09,749] Trial 1718 finished with value: 0.3501352572170615 and parameters: {'lambda_l1': 2.39999128304643e-08, 'lambda_l2': 2.627197642452975e-07, 'num_leaves': 21, 'feature_fraction': 0.9174942144781749, 'bagging_fraction': 0.5390305455555574, 'bagging_freq': 6, 'min_child_samples': 15}. Best is trial 200 with value: 1.0.\n",
      "[I 2024-09-14 12:10:11,155] Trial 1719 finished with value: 0.30928565177626544 and parameters: {'lambda_l1': 0.00021383544328106794, 'lambda_l2': 5.249136324424787e-06, 'num_leaves': 2, 'feature_fraction': 0.9888893397411439, 'bagging_fraction': 0.5147211136787857, 'bagging_freq': 6, 'min_child_samples': 13}. Best is trial 200 with value: 1.0.\n",
      "[I 2024-09-14 12:10:14,603] Trial 1720 finished with value: 0.3491613156347899 and parameters: {'lambda_l1': 0.00011879593308477785, 'lambda_l2': 4.366454260392824e-08, 'num_leaves': 12, 'feature_fraction': 0.9998801354537713, 'bagging_fraction': 0.5651464184253451, 'bagging_freq': 6, 'min_child_samples': 17}. Best is trial 200 with value: 1.0.\n",
      "[I 2024-09-14 12:10:17,235] Trial 1721 finished with value: 0.35230784224873846 and parameters: {'lambda_l1': 2.8409634804615424e-05, 'lambda_l2': 1.6227154749858833e-07, 'num_leaves': 15, 'feature_fraction': 0.9997939488686486, 'bagging_fraction': 0.552215120966402, 'bagging_freq': 6, 'min_child_samples': 16}. Best is trial 200 with value: 1.0.\n",
      "[I 2024-09-14 12:10:19,033] Trial 1722 finished with value: 0.3418438746213378 and parameters: {'lambda_l1': 7.402280158719306e-05, 'lambda_l2': 5.6775095857371214e-08, 'num_leaves': 7, 'feature_fraction': 0.9442513937298034, 'bagging_fraction': 0.5275641918921843, 'bagging_freq': 6, 'min_child_samples': 12}. Best is trial 200 with value: 1.0.\n",
      "[I 2024-09-14 12:10:21,748] Trial 1723 finished with value: 0.3507287118246669 and parameters: {'lambda_l1': 4.3255928794027086e-05, 'lambda_l2': 9.100740401953921e-08, 'num_leaves': 21, 'feature_fraction': 0.9787504569758013, 'bagging_fraction': 0.5046114250688772, 'bagging_freq': 6, 'min_child_samples': 21}. Best is trial 200 with value: 1.0.\n",
      "[I 2024-09-14 12:10:23,831] Trial 1724 finished with value: 0.35390640852525834 and parameters: {'lambda_l1': 0.00013675930505914022, 'lambda_l2': 2.9366201136043054e-08, 'num_leaves': 9, 'feature_fraction': 0.9699967642687841, 'bagging_fraction': 0.6689074184078995, 'bagging_freq': 7, 'min_child_samples': 15}. Best is trial 200 with value: 1.0.\n",
      "[I 2024-09-14 12:10:26,116] Trial 1725 finished with value: 0.3562845019250901 and parameters: {'lambda_l1': 0.00036363578796712114, 'lambda_l2': 2.068930948014842e-07, 'num_leaves': 14, 'feature_fraction': 0.9820067915379365, 'bagging_fraction': 0.58105315036295, 'bagging_freq': 6, 'min_child_samples': 18}. Best is trial 200 with value: 1.0.\n",
      "[I 2024-09-14 12:10:27,472] Trial 1726 finished with value: 0.3048806394489434 and parameters: {'lambda_l1': 8.936523499265435e-05, 'lambda_l2': 1.5040927121875467e-08, 'num_leaves': 2, 'feature_fraction': 0.9892544368752441, 'bagging_fraction': 0.48565446750467306, 'bagging_freq': 6, 'min_child_samples': 14}. Best is trial 200 with value: 1.0.\n",
      "[I 2024-09-14 12:10:30,596] Trial 1727 finished with value: 0.37070728931031793 and parameters: {'lambda_l1': 5.919667750169106e-05, 'lambda_l2': 1.0254318254355888e-07, 'num_leaves': 24, 'feature_fraction': 0.9717562038065948, 'bagging_fraction': 0.8300678216404838, 'bagging_freq': 6, 'min_child_samples': 17}. Best is trial 200 with value: 1.0.\n",
      "[I 2024-09-14 12:10:40,032] Trial 1728 finished with value: 0.3489225397700568 and parameters: {'lambda_l1': 0.0001807209332486545, 'lambda_l2': 3.2077471531063645e-07, 'num_leaves': 164, 'feature_fraction': 0.98966175883043, 'bagging_fraction': 0.4634394166359494, 'bagging_freq': 6, 'min_child_samples': 10}. Best is trial 200 with value: 1.0.\n",
      "[I 2024-09-14 12:10:43,576] Trial 1729 finished with value: 0.3618080213715823 and parameters: {'lambda_l1': 2.5596957984772466e-05, 'lambda_l2': 5.463578133784061e-08, 'num_leaves': 30, 'feature_fraction': 0.9599044239564472, 'bagging_fraction': 0.4982602541249012, 'bagging_freq': 6, 'min_child_samples': 40}. Best is trial 200 with value: 1.0.\n",
      "[I 2024-09-14 12:10:46,185] Trial 1730 finished with value: 0.35796078632157313 and parameters: {'lambda_l1': 1.364982551655071e-05, 'lambda_l2': 7.57925359757383e-08, 'num_leaves': 18, 'feature_fraction': 0.9794072638364991, 'bagging_fraction': 0.540276171444166, 'bagging_freq': 4, 'min_child_samples': 19}. Best is trial 200 with value: 1.0.\n",
      "[I 2024-09-14 12:10:48,454] Trial 1731 finished with value: 0.35073327545123056 and parameters: {'lambda_l1': 0.00011195705318866842, 'lambda_l2': 1.5798353092097703e-07, 'num_leaves': 10, 'feature_fraction': 0.9886511187944752, 'bagging_fraction': 0.516554471998701, 'bagging_freq': 5, 'min_child_samples': 13}. Best is trial 200 with value: 1.0.\n",
      "[I 2024-09-14 12:10:50,367] Trial 1732 finished with value: 0.3324444949485602 and parameters: {'lambda_l1': 4.1661975430785683e-05, 'lambda_l2': 3.615200001228012e-08, 'num_leaves': 7, 'feature_fraction': 0.999727547863551, 'bagging_fraction': 0.5575462622439629, 'bagging_freq': 6, 'min_child_samples': 23}. Best is trial 200 with value: 1.0.\n",
      "[I 2024-09-14 12:10:52,907] Trial 1733 finished with value: 0.3605685494892634 and parameters: {'lambda_l1': 6.873964320499802e-05, 'lambda_l2': 1.2707414480626545e-07, 'num_leaves': 14, 'feature_fraction': 0.9997051881503743, 'bagging_fraction': 0.5698175811681347, 'bagging_freq': 6, 'min_child_samples': 15}. Best is trial 200 with value: 1.0.\n",
      "[I 2024-09-14 12:10:54,631] Trial 1734 finished with value: 0.3056661438045669 and parameters: {'lambda_l1': 0.0002470442841136841, 'lambda_l2': 5.121720732381628e-07, 'num_leaves': 2, 'feature_fraction': 0.9808773007841807, 'bagging_fraction': 0.6037541568433044, 'bagging_freq': 1, 'min_child_samples': 12}. Best is trial 200 with value: 1.0.\n",
      "[I 2024-09-14 12:10:57,920] Trial 1735 finished with value: 0.36746718030243875 and parameters: {'lambda_l1': 7.923358487012314e-05, 'lambda_l2': 2.3337645499566708e-08, 'num_leaves': 20, 'feature_fraction': 0.9674982018886775, 'bagging_fraction': 0.5291822399543676, 'bagging_freq': 6, 'min_child_samples': 16}. Best is trial 200 with value: 1.0.\n",
      "[I 2024-09-14 12:10:59,925] Trial 1736 finished with value: 0.3282474211048403 and parameters: {'lambda_l1': 0.00015134904002653342, 'lambda_l2': 7.45884066451425e-08, 'num_leaves': 7, 'feature_fraction': 0.9484894382898625, 'bagging_fraction': 0.4774472810747683, 'bagging_freq': 6, 'min_child_samples': 20}. Best is trial 200 with value: 1.0.\n",
      "[I 2024-09-14 12:11:02,998] Trial 1737 finished with value: 0.363364018920324 and parameters: {'lambda_l1': 3.820368596390466e-05, 'lambda_l2': 2.5753611424883197e-07, 'num_leaves': 27, 'feature_fraction': 0.9892936375493091, 'bagging_fraction': 0.504109141295508, 'bagging_freq': 6, 'min_child_samples': 17}. Best is trial 200 with value: 1.0.\n",
      "[I 2024-09-14 12:11:05,511] Trial 1738 finished with value: 0.35560305059509145 and parameters: {'lambda_l1': 5.479516550054713e-05, 'lambda_l2': 4.498967145113227e-08, 'num_leaves': 15, 'feature_fraction': 0.970721448090633, 'bagging_fraction': 0.5488866707930624, 'bagging_freq': 6, 'min_child_samples': 14}. Best is trial 200 with value: 1.0.\n",
      "[I 2024-09-14 12:11:11,888] Trial 1739 finished with value: 0.36815790076167965 and parameters: {'lambda_l1': 9.599934234795856e-05, 'lambda_l2': 1.0757212158593062e-07, 'num_leaves': 46, 'feature_fraction': 0.9799228420551747, 'bagging_fraction': 0.5219183672118705, 'bagging_freq': 6, 'min_child_samples': 11}. Best is trial 200 with value: 1.0.\n",
      "[I 2024-09-14 12:11:21,135] Trial 1740 finished with value: 0.33793806152292705 and parameters: {'lambda_l1': 0.00012730570194052985, 'lambda_l2': 6.008029822343475e-08, 'num_leaves': 10, 'feature_fraction': 0.531504568822604, 'bagging_fraction': 0.4892845617894615, 'bagging_freq': 6, 'min_child_samples': 15}. Best is trial 200 with value: 1.0.\n",
      "[I 2024-09-14 12:11:25,610] Trial 1741 finished with value: 0.3373193030985755 and parameters: {'lambda_l1': 2.6820884586097464e-05, 'lambda_l2': 2.090711261090828e-07, 'num_leaves': 6, 'feature_fraction': 0.989536823610667, 'bagging_fraction': 0.5893259045106406, 'bagging_freq': 6, 'min_child_samples': 19}. Best is trial 200 with value: 1.0.\n",
      "[I 2024-09-14 12:11:33,683] Trial 1742 finished with value: 0.3546591965004485 and parameters: {'lambda_l1': 0.0005086448258100273, 'lambda_l2': 1.5683427731881241e-07, 'num_leaves': 18, 'feature_fraction': 0.9564141633213905, 'bagging_fraction': 0.5389933724755043, 'bagging_freq': 6, 'min_child_samples': 17}. Best is trial 200 with value: 1.0.\n",
      "[I 2024-09-14 12:11:52,798] Trial 1743 finished with value: 0.364400069381534 and parameters: {'lambda_l1': 5.533987134570945e-05, 'lambda_l2': 3.534276570307501e-08, 'num_leaves': 36, 'feature_fraction': 0.9995363010634088, 'bagging_fraction': 0.5626692673025756, 'bagging_freq': 6, 'min_child_samples': 13}. Best is trial 200 with value: 1.0.\n",
      "[I 2024-09-14 12:11:58,995] Trial 1744 finished with value: 0.36222829118953914 and parameters: {'lambda_l1': 0.0002071849392435817, 'lambda_l2': 3.729759629902417e-07, 'num_leaves': 24, 'feature_fraction': 0.9802500170788448, 'bagging_fraction': 0.6194888708052486, 'bagging_freq': 6, 'min_child_samples': 58}. Best is trial 200 with value: 1.0.\n",
      "[I 2024-09-14 12:12:01,685] Trial 1745 finished with value: 0.3045975216500537 and parameters: {'lambda_l1': 9.039469206694285e-05, 'lambda_l2': 9.276774520199303e-08, 'num_leaves': 2, 'feature_fraction': 0.989357945775363, 'bagging_fraction': 0.5052302957560284, 'bagging_freq': 6, 'min_child_samples': 9}. Best is trial 200 with value: 1.0.\n",
      "[I 2024-09-14 12:12:05,762] Trial 1746 finished with value: 0.34991785967584976 and parameters: {'lambda_l1': 4.0152828422857776e-05, 'lambda_l2': 6.029201574923848e-08, 'num_leaves': 11, 'feature_fraction': 0.9663495730283368, 'bagging_fraction': 0.5168397254716653, 'bagging_freq': 6, 'min_child_samples': 16}. Best is trial 200 with value: 1.0.\n",
      "[I 2024-09-14 12:12:10,551] Trial 1747 finished with value: 0.35403575007199484 and parameters: {'lambda_l1': 6.476897917407274e-05, 'lambda_l2': 7.929632567293718e-07, 'num_leaves': 13, 'feature_fraction': 0.9807597328873013, 'bagging_fraction': 0.574913748034221, 'bagging_freq': 6, 'min_child_samples': 90}. Best is trial 200 with value: 1.0.\n",
      "[I 2024-09-14 12:12:14,031] Trial 1748 finished with value: 0.3567681193208635 and parameters: {'lambda_l1': 0.00012607638118071178, 'lambda_l2': 1.3098558688564212e-07, 'num_leaves': 19, 'feature_fraction': 0.8081053017111337, 'bagging_fraction': 0.5316323073965247, 'bagging_freq': 6, 'min_child_samples': 35}. Best is trial 200 with value: 1.0.\n",
      "[I 2024-09-14 12:12:16,625] Trial 1749 finished with value: 0.3463885358904485 and parameters: {'lambda_l1': 0.0002627247176184811, 'lambda_l2': 2.302720940708205e-08, 'num_leaves': 8, 'feature_fraction': 0.7061383266458316, 'bagging_fraction': 0.4937468622265714, 'bagging_freq': 6, 'min_child_samples': 14}. Best is trial 200 with value: 1.0.\n",
      "[I 2024-09-14 12:12:19,184] Trial 1750 finished with value: 0.3418340515862851 and parameters: {'lambda_l1': 8.734119449475503e-05, 'lambda_l2': 7.813844296633894e-08, 'num_leaves': 6, 'feature_fraction': 0.5485396876285701, 'bagging_fraction': 0.550821191710613, 'bagging_freq': 7, 'min_child_samples': 18}. Best is trial 200 with value: 1.0.\n",
      "[I 2024-09-14 12:12:39,931] Trial 1751 finished with value: 0.3360146693347633 and parameters: {'lambda_l1': 0.0001628424531102853, 'lambda_l2': 4.3856475940672845e-08, 'num_leaves': 180, 'feature_fraction': 0.9900634391393759, 'bagging_fraction': 0.4756259356398648, 'bagging_freq': 6, 'min_child_samples': 25}. Best is trial 200 with value: 1.0.\n",
      "[I 2024-09-14 12:12:57,108] Trial 1752 finished with value: 0.3615709996848131 and parameters: {'lambda_l1': 1.9413895028755264e-05, 'lambda_l2': 2.3114544899905546e-07, 'num_leaves': 14, 'feature_fraction': 0.9996066630152961, 'bagging_fraction': 0.5132868279320092, 'bagging_freq': 6, 'min_child_samples': 97}. Best is trial 200 with value: 1.0.\n",
      "[I 2024-09-14 12:13:03,607] Trial 1753 finished with value: 0.37516577555344754 and parameters: {'lambda_l1': 5.1498623025733964e-05, 'lambda_l2': 1.1027329363926175e-07, 'num_leaves': 24, 'feature_fraction': 0.9708124159080134, 'bagging_fraction': 0.4504501899060707, 'bagging_freq': 2, 'min_child_samples': 69}. Best is trial 200 with value: 1.0.\n",
      "[I 2024-09-14 12:13:05,280] Trial 1754 finished with value: 0.307184850313737 and parameters: {'lambda_l1': 3.242892457342353e-05, 'lambda_l2': 1.546476388381169e-07, 'num_leaves': 2, 'feature_fraction': 0.9797781330223063, 'bagging_fraction': 0.5336971587302243, 'bagging_freq': 6, 'min_child_samples': 11}. Best is trial 200 with value: 1.0.\n",
      "[I 2024-09-14 12:13:13,769] Trial 1755 finished with value: 0.3790810432289444 and parameters: {'lambda_l1': 9.770685930204253e-05, 'lambda_l2': 3.339447021261474e-07, 'num_leaves': 31, 'feature_fraction': 0.9996662459614756, 'bagging_fraction': 0.5424840991931379, 'bagging_freq': 6, 'min_child_samples': 21}. Best is trial 200 with value: 1.0.\n",
      "[I 2024-09-14 12:13:19,332] Trial 1756 finished with value: 0.3390154525869796 and parameters: {'lambda_l1': 5.253499862962473e-05, 'lambda_l2': 6.122715106797806e-08, 'num_leaves': 10, 'feature_fraction': 0.9884779107024191, 'bagging_fraction': 0.49892829928706817, 'bagging_freq': 6, 'min_child_samples': 15}. Best is trial 200 with value: 1.0.\n",
      "[I 2024-09-14 12:13:25,693] Trial 1757 finished with value: 0.3594238480821538 and parameters: {'lambda_l1': 0.00031430912543825486, 'lambda_l2': 3.3084187660038e-08, 'num_leaves': 17, 'feature_fraction': 0.9998841632204066, 'bagging_fraction': 0.5623506674653812, 'bagging_freq': 5, 'min_child_samples': 13}. Best is trial 200 with value: 1.0.\n",
      "[I 2024-09-14 12:13:28,050] Trial 1758 finished with value: 0.33860990705418115 and parameters: {'lambda_l1': 0.00014829809181349303, 'lambda_l2': 8.393278111648282e-08, 'num_leaves': 7, 'feature_fraction': 0.9732534739195501, 'bagging_fraction': 0.5252375922554555, 'bagging_freq': 6, 'min_child_samples': 17}. Best is trial 200 with value: 1.0.\n",
      "[I 2024-09-14 12:13:32,023] Trial 1759 finished with value: 0.3527421974264855 and parameters: {'lambda_l1': 8.55355033555424e-05, 'lambda_l2': 1.3299398750681196e-08, 'num_leaves': 19, 'feature_fraction': 0.9604870957110299, 'bagging_fraction': 0.4864256167282182, 'bagging_freq': 6, 'min_child_samples': 19}. Best is trial 200 with value: 1.0.\n",
      "[I 2024-09-14 12:13:36,575] Trial 1760 finished with value: 0.34357934729211037 and parameters: {'lambda_l1': 2.1408045880639155, 'lambda_l2': 5.845483761300626e-07, 'num_leaves': 11, 'feature_fraction': 0.6925230398506301, 'bagging_fraction': 0.5803034635767096, 'bagging_freq': 6, 'min_child_samples': 16}. Best is trial 200 with value: 1.0.\n",
      "[I 2024-09-14 12:13:38,174] Trial 1761 finished with value: 0.3046831249539358 and parameters: {'lambda_l1': 6.931595866396712e-05, 'lambda_l2': 0.012300048613674912, 'num_leaves': 2, 'feature_fraction': 0.9808976462792309, 'bagging_fraction': 0.510587552977588, 'bagging_freq': 6, 'min_child_samples': 12}. Best is trial 200 with value: 1.0.\n",
      "[I 2024-09-14 12:13:42,840] Trial 1762 finished with value: 0.3744429069606885 and parameters: {'lambda_l1': 7.9484659097878e-06, 'lambda_l2': 2.1358467606091266e-07, 'num_leaves': 24, 'feature_fraction': 0.9882082995670601, 'bagging_fraction': 0.5504940928903377, 'bagging_freq': 6, 'min_child_samples': 14}. Best is trial 200 with value: 1.0.\n",
      "[I 2024-09-14 12:13:45,448] Trial 1763 finished with value: 0.3720104825388224 and parameters: {'lambda_l1': 3.468173518638999e-05, 'lambda_l2': 1.3203035491536993e-05, 'num_leaves': 14, 'feature_fraction': 0.9402060002036398, 'bagging_fraction': 0.5704455726637833, 'bagging_freq': 6, 'min_child_samples': 18}. Best is trial 200 with value: 1.0.\n",
      "[I 2024-09-14 12:13:49,256] Trial 1764 finished with value: 0.34826135428937766 and parameters: {'lambda_l1': 0.00012183624011329144, 'lambda_l2': 5.260966156497308e-08, 'num_leaves': 6, 'feature_fraction': 0.865410454347762, 'bagging_fraction': 0.9504845204667085, 'bagging_freq': 6, 'min_child_samples': 15}. Best is trial 200 with value: 1.0.\n",
      "[I 2024-09-14 12:13:52,414] Trial 1765 finished with value: 0.3532323515703867 and parameters: {'lambda_l1': 0.00020615576305026376, 'lambda_l2': 1.1764794213293809e-07, 'num_leaves': 17, 'feature_fraction': 0.989715476768482, 'bagging_fraction': 0.5970469227060871, 'bagging_freq': 6, 'min_child_samples': 6}. Best is trial 200 with value: 1.0.\n",
      "[I 2024-09-14 12:13:57,062] Trial 1766 finished with value: 0.3706461027586211 and parameters: {'lambda_l1': 6.202129673270608e-05, 'lambda_l2': 2.586458487321552e-08, 'num_leaves': 28, 'feature_fraction': 0.9711541240934408, 'bagging_fraction': 0.5255601391132828, 'bagging_freq': 6, 'min_child_samples': 20}. Best is trial 200 with value: 1.0.\n",
      "[I 2024-09-14 12:14:00,969] Trial 1767 finished with value: 0.34767788217672846 and parameters: {'lambda_l1': 2.0924933540142127e-05, 'lambda_l2': 8.844414731371911e-08, 'num_leaves': 11, 'feature_fraction': 0.9808976765847716, 'bagging_fraction': 0.5006193987017674, 'bagging_freq': 6, 'min_child_samples': 13}. Best is trial 200 with value: 1.0.\n",
      "[I 2024-09-14 12:14:02,817] Trial 1768 finished with value: 0.3425874464198281 and parameters: {'lambda_l1': 4.552770085153472e-05, 'lambda_l2': 1.6848175884384771e-07, 'num_leaves': 7, 'feature_fraction': 0.9524075287596606, 'bagging_fraction': 0.5382365994140608, 'bagging_freq': 6, 'min_child_samples': 16}. Best is trial 200 with value: 1.0.\n",
      "[I 2024-09-14 12:14:07,318] Trial 1769 finished with value: 0.3499741039070643 and parameters: {'lambda_l1': 0.00010545666494555696, 'lambda_l2': 5.611915906142558e-08, 'num_leaves': 21, 'feature_fraction': 0.9901124121632991, 'bagging_fraction': 0.4806641480375369, 'bagging_freq': 5, 'min_child_samples': 56}. Best is trial 200 with value: 1.0.\n",
      "[I 2024-09-14 12:14:09,677] Trial 1770 finished with value: 0.34498677202351113 and parameters: {'lambda_l1': 0.0001732980369859594, 'lambda_l2': 3.8029198195164987e-08, 'num_leaves': 13, 'feature_fraction': 0.9994584610762245, 'bagging_fraction': 0.4656436034180844, 'bagging_freq': 6, 'min_child_samples': 11}. Best is trial 200 with value: 1.0.\n",
      "[I 2024-09-14 12:14:15,655] Trial 1771 finished with value: 0.3658694652537344 and parameters: {'lambda_l1': 7.398817843927491e-05, 'lambda_l2': 1.2261776394844263e-06, 'num_leaves': 19, 'feature_fraction': 0.9646596147959742, 'bagging_fraction': 0.5176054712831178, 'bagging_freq': 6, 'min_child_samples': 18}. Best is trial 200 with value: 1.0.\n",
      "[I 2024-09-14 12:14:18,533] Trial 1772 finished with value: 0.307732165678966 and parameters: {'lambda_l1': 3.208003331880744e-05, 'lambda_l2': 1.2451906856331297e-07, 'num_leaves': 2, 'feature_fraction': 0.9799933068086538, 'bagging_fraction': 0.5582524224223943, 'bagging_freq': 6, 'min_child_samples': 15}. Best is trial 200 with value: 1.0.\n",
      "[I 2024-09-14 12:14:21,712] Trial 1773 finished with value: 0.33200409041453793 and parameters: {'lambda_l1': 0.00012621650803117603, 'lambda_l2': 3.2626212319921885e-07, 'num_leaves': 7, 'feature_fraction': 0.9997688227723404, 'bagging_fraction': 0.5464982613537772, 'bagging_freq': 6, 'min_child_samples': 9}. Best is trial 200 with value: 1.0.\n",
      "[I 2024-09-14 12:14:24,729] Trial 1774 finished with value: 0.3591060709907594 and parameters: {'lambda_l1': 4.834686552130997e-05, 'lambda_l2': 7.908087469426726e-08, 'num_leaves': 14, 'feature_fraction': 0.7831824539787875, 'bagging_fraction': 0.49129026228792194, 'bagging_freq': 6, 'min_child_samples': 13}. Best is trial 200 with value: 1.0.\n",
      "[I 2024-09-14 12:14:28,700] Trial 1775 finished with value: 0.3602088409141492 and parameters: {'lambda_l1': 0.00033541654185109335, 'lambda_l2': 1.8765345015438288e-08, 'num_leaves': 10, 'feature_fraction': 0.9737255480245075, 'bagging_fraction': 0.5144393277856857, 'bagging_freq': 6, 'min_child_samples': 17}. Best is trial 200 with value: 1.0.\n",
      "[I 2024-09-14 12:14:31,877] Trial 1776 finished with value: 0.3625259751955231 and parameters: {'lambda_l1': 7.906532463091e-05, 'lambda_l2': 1.805143812403869e-07, 'num_leaves': 25, 'feature_fraction': 0.9887849463318008, 'bagging_fraction': 0.5861278107342924, 'bagging_freq': 6, 'min_child_samples': 22}. Best is trial 200 with value: 1.0.\n",
      "[I 2024-09-14 12:14:33,306] Trial 1777 finished with value: 0.3174689630358969 and parameters: {'lambda_l1': 0.00011341704284050481, 'lambda_l2': 4.176917857202832e-08, 'num_leaves': 2, 'feature_fraction': 0.9898234844531181, 'bagging_fraction': 0.5309352214947972, 'bagging_freq': 6, 'min_child_samples': 15}. Best is trial 200 with value: 1.0.\n",
      "[I 2024-09-14 12:14:36,182] Trial 1778 finished with value: 0.36473267423937483 and parameters: {'lambda_l1': 6.630784539586411e-05, 'lambda_l2': 2.398099650310968e-07, 'num_leaves': 16, 'feature_fraction': 0.42258674832571336, 'bagging_fraction': 0.9760002219788, 'bagging_freq': 6, 'min_child_samples': 19}. Best is trial 200 with value: 1.0.\n",
      "[I 2024-09-14 12:14:38,099] Trial 1779 finished with value: 0.35182017565794044 and parameters: {'lambda_l1': 1.4530215400019632e-05, 'lambda_l2': 9.637373171775678e-08, 'num_leaves': 7, 'feature_fraction': 0.9798520830477842, 'bagging_fraction': 0.569984067061275, 'bagging_freq': 7, 'min_child_samples': 17}. Best is trial 200 with value: 1.0.\n",
      "[I 2024-09-14 12:14:41,651] Trial 1780 finished with value: 0.3356418766491779 and parameters: {'lambda_l1': 0.00019598502465793975, 'lambda_l2': 6.09401554323849e-08, 'num_leaves': 33, 'feature_fraction': 0.9600599189235466, 'bagging_fraction': 0.5033618037948995, 'bagging_freq': 6, 'min_child_samples': 13}. Best is trial 200 with value: 1.0.\n",
      "[I 2024-09-14 12:14:44,558] Trial 1781 finished with value: 0.36912328076409173 and parameters: {'lambda_l1': 2.9996327756081907e-05, 'lambda_l2': 4.701807368526774e-07, 'num_leaves': 22, 'feature_fraction': 0.9995128913504728, 'bagging_fraction': 0.5543993024718362, 'bagging_freq': 6, 'min_child_samples': 11}. Best is trial 200 with value: 1.0.\n",
      "[I 2024-09-14 12:14:46,834] Trial 1782 finished with value: 0.3387011441003178 and parameters: {'lambda_l1': 3.985919122444811e-05, 'lambda_l2': 1.4906502475587563e-07, 'num_leaves': 11, 'feature_fraction': 0.9712164381598758, 'bagging_fraction': 0.5223623695450845, 'bagging_freq': 6, 'min_child_samples': 15}. Best is trial 200 with value: 1.0.\n",
      "[I 2024-09-14 12:14:51,848] Trial 1783 finished with value: 0.36102155183424567 and parameters: {'lambda_l1': 9.62697618016431e-05, 'lambda_l2': 3.061228387682678e-08, 'num_leaves': 75, 'feature_fraction': 0.9997113543206051, 'bagging_fraction': 0.5436058961151333, 'bagging_freq': 6, 'min_child_samples': 77}. Best is trial 200 with value: 1.0.\n"
     ]
    }
   ],
   "source": [
    "#Defino el estudio a optimizar\n",
    "study = optuna.create_study(direction='maximize', #buscamos maximizar la metrica\n",
    "                            storage=\"sqlite:///work/db.sqlite3\",  # Specify the storage URL here.\n",
    "                            study_name=\"04 - LGB Multiclass\", #nombre del experimento\n",
    "                            load_if_exists=True) #continuar si ya existe\n",
    "\n",
    "#Corremos 100 trials para buscar mejores parametros\n",
    "study.optimize(lgb_objective, n_trials=100)"
   ]
  },
  {
   "cell_type": "code",
   "execution_count": 33,
   "metadata": {},
   "outputs": [],
   "source": [
    "#corriendo esto en terminal deberia ver el dashboard \n",
    "#optuna-dashboard sqlite:///work/db.sqlite3 --artifact-dir /work/optuna_artifacts --port 8081"
   ]
  },
  {
   "cell_type": "code",
   "execution_count": 34,
   "metadata": {},
   "outputs": [
    {
     "data": {
      "text/plain": [
       "{'lambda_l1': 0.00016911420117746327,\n",
       " 'lambda_l2': 3.0291532676782044e-07,\n",
       " 'num_leaves': 23,\n",
       " 'feature_fraction': 0.9710839320963843,\n",
       " 'bagging_fraction': 0.6006057268679922,\n",
       " 'bagging_freq': 6,\n",
       " 'min_child_samples': 16}"
      ]
     },
     "execution_count": 34,
     "metadata": {},
     "output_type": "execute_result"
    }
   ],
   "source": [
    "#Obtenemos mejor resultado\n",
    "study.best_params"
   ]
  },
  {
   "cell_type": "code",
   "execution_count": 35,
   "metadata": {},
   "outputs": [
    {
     "data": {
      "application/vnd.plotly.v1+json": {
       "config": {
        "plotlyServerURL": "https://plot.ly"
       },
       "data": [
        {
         "type": "heatmap",
         "x": [
          0,
          1,
          2,
          3,
          4
         ],
         "y": [
          0,
          1,
          2,
          3,
          4
         ],
         "z": [
          [
           9.75609756097561,
           41.46341463414634,
           17.073170731707318,
           12.195121951219512,
           19.51219512195122
          ],
          [
           1.4563106796116505,
           35.92233009708738,
           31.715210355987054,
           10.032362459546926,
           20.87378640776699
          ],
          [
           0.49566294919454773,
           22.18091697645601,
           36.30731102850062,
           14.622057001239158,
           26.394052044609666
          ],
          [
           0.3067484662576687,
           16.411042944785276,
           33.43558282208589,
           24.079754601226995,
           25.766871165644172
          ],
          [
           0.11904761904761905,
           10.833333333333334,
           13.452380952380953,
           6.309523809523809,
           69.28571428571428
          ]
         ]
        }
       ],
       "layout": {
        "annotations": [
         {
          "font": {
           "color": "white"
          },
          "showarrow": false,
          "text": "9.8 - 8",
          "x": 0,
          "xref": "x",
          "y": 0,
          "yref": "y"
         },
         {
          "font": {
           "color": "white"
          },
          "showarrow": false,
          "text": "41.5 - 34",
          "x": 1,
          "xref": "x",
          "y": 0,
          "yref": "y"
         },
         {
          "font": {
           "color": "white"
          },
          "showarrow": false,
          "text": "17.1 - 14",
          "x": 2,
          "xref": "x",
          "y": 0,
          "yref": "y"
         },
         {
          "font": {
           "color": "white"
          },
          "showarrow": false,
          "text": "12.2 - 10",
          "x": 3,
          "xref": "x",
          "y": 0,
          "yref": "y"
         },
         {
          "font": {
           "color": "white"
          },
          "showarrow": false,
          "text": "19.5 - 16",
          "x": 4,
          "xref": "x",
          "y": 0,
          "yref": "y"
         },
         {
          "font": {
           "color": "white"
          },
          "showarrow": false,
          "text": "1.5 - 9",
          "x": 0,
          "xref": "x",
          "y": 1,
          "yref": "y"
         },
         {
          "font": {
           "color": "white"
          },
          "showarrow": false,
          "text": "35.9 - 222",
          "x": 1,
          "xref": "x",
          "y": 1,
          "yref": "y"
         },
         {
          "font": {
           "color": "white"
          },
          "showarrow": false,
          "text": "31.7 - 196",
          "x": 2,
          "xref": "x",
          "y": 1,
          "yref": "y"
         },
         {
          "font": {
           "color": "white"
          },
          "showarrow": false,
          "text": "10.0 - 62",
          "x": 3,
          "xref": "x",
          "y": 1,
          "yref": "y"
         },
         {
          "font": {
           "color": "white"
          },
          "showarrow": false,
          "text": "20.9 - 129",
          "x": 4,
          "xref": "x",
          "y": 1,
          "yref": "y"
         },
         {
          "font": {
           "color": "white"
          },
          "showarrow": false,
          "text": "0.5 - 4",
          "x": 0,
          "xref": "x",
          "y": 2,
          "yref": "y"
         },
         {
          "font": {
           "color": "white"
          },
          "showarrow": false,
          "text": "22.2 - 179",
          "x": 1,
          "xref": "x",
          "y": 2,
          "yref": "y"
         },
         {
          "font": {
           "color": "white"
          },
          "showarrow": false,
          "text": "36.3 - 293",
          "x": 2,
          "xref": "x",
          "y": 2,
          "yref": "y"
         },
         {
          "font": {
           "color": "white"
          },
          "showarrow": false,
          "text": "14.6 - 118",
          "x": 3,
          "xref": "x",
          "y": 2,
          "yref": "y"
         },
         {
          "font": {
           "color": "white"
          },
          "showarrow": false,
          "text": "26.4 - 213",
          "x": 4,
          "xref": "x",
          "y": 2,
          "yref": "y"
         },
         {
          "font": {
           "color": "white"
          },
          "showarrow": false,
          "text": "0.3 - 2",
          "x": 0,
          "xref": "x",
          "y": 3,
          "yref": "y"
         },
         {
          "font": {
           "color": "white"
          },
          "showarrow": false,
          "text": "16.4 - 107",
          "x": 1,
          "xref": "x",
          "y": 3,
          "yref": "y"
         },
         {
          "font": {
           "color": "white"
          },
          "showarrow": false,
          "text": "33.4 - 218",
          "x": 2,
          "xref": "x",
          "y": 3,
          "yref": "y"
         },
         {
          "font": {
           "color": "white"
          },
          "showarrow": false,
          "text": "24.1 - 157",
          "x": 3,
          "xref": "x",
          "y": 3,
          "yref": "y"
         },
         {
          "font": {
           "color": "white"
          },
          "showarrow": false,
          "text": "25.8 - 168",
          "x": 4,
          "xref": "x",
          "y": 3,
          "yref": "y"
         },
         {
          "font": {
           "color": "white"
          },
          "showarrow": false,
          "text": "0.1 - 1",
          "x": 0,
          "xref": "x",
          "y": 4,
          "yref": "y"
         },
         {
          "font": {
           "color": "white"
          },
          "showarrow": false,
          "text": "10.8 - 91",
          "x": 1,
          "xref": "x",
          "y": 4,
          "yref": "y"
         },
         {
          "font": {
           "color": "white"
          },
          "showarrow": false,
          "text": "13.5 - 113",
          "x": 2,
          "xref": "x",
          "y": 4,
          "yref": "y"
         },
         {
          "font": {
           "color": "white"
          },
          "showarrow": false,
          "text": "6.3 - 53",
          "x": 3,
          "xref": "x",
          "y": 4,
          "yref": "y"
         },
         {
          "font": {
           "color": "white"
          },
          "showarrow": false,
          "text": "69.3 - 582",
          "x": 4,
          "xref": "x",
          "y": 4,
          "yref": "y"
         }
        ],
        "height": 800,
        "template": {
         "data": {
          "bar": [
           {
            "error_x": {
             "color": "#2a3f5f"
            },
            "error_y": {
             "color": "#2a3f5f"
            },
            "marker": {
             "line": {
              "color": "#E5ECF6",
              "width": 0.5
             },
             "pattern": {
              "fillmode": "overlay",
              "size": 10,
              "solidity": 0.2
             }
            },
            "type": "bar"
           }
          ],
          "barpolar": [
           {
            "marker": {
             "line": {
              "color": "#E5ECF6",
              "width": 0.5
             },
             "pattern": {
              "fillmode": "overlay",
              "size": 10,
              "solidity": 0.2
             }
            },
            "type": "barpolar"
           }
          ],
          "carpet": [
           {
            "aaxis": {
             "endlinecolor": "#2a3f5f",
             "gridcolor": "white",
             "linecolor": "white",
             "minorgridcolor": "white",
             "startlinecolor": "#2a3f5f"
            },
            "baxis": {
             "endlinecolor": "#2a3f5f",
             "gridcolor": "white",
             "linecolor": "white",
             "minorgridcolor": "white",
             "startlinecolor": "#2a3f5f"
            },
            "type": "carpet"
           }
          ],
          "choropleth": [
           {
            "colorbar": {
             "outlinewidth": 0,
             "ticks": ""
            },
            "type": "choropleth"
           }
          ],
          "contour": [
           {
            "colorbar": {
             "outlinewidth": 0,
             "ticks": ""
            },
            "colorscale": [
             [
              0,
              "#0d0887"
             ],
             [
              0.1111111111111111,
              "#46039f"
             ],
             [
              0.2222222222222222,
              "#7201a8"
             ],
             [
              0.3333333333333333,
              "#9c179e"
             ],
             [
              0.4444444444444444,
              "#bd3786"
             ],
             [
              0.5555555555555556,
              "#d8576b"
             ],
             [
              0.6666666666666666,
              "#ed7953"
             ],
             [
              0.7777777777777778,
              "#fb9f3a"
             ],
             [
              0.8888888888888888,
              "#fdca26"
             ],
             [
              1,
              "#f0f921"
             ]
            ],
            "type": "contour"
           }
          ],
          "contourcarpet": [
           {
            "colorbar": {
             "outlinewidth": 0,
             "ticks": ""
            },
            "type": "contourcarpet"
           }
          ],
          "heatmap": [
           {
            "colorbar": {
             "outlinewidth": 0,
             "ticks": ""
            },
            "colorscale": [
             [
              0,
              "#0d0887"
             ],
             [
              0.1111111111111111,
              "#46039f"
             ],
             [
              0.2222222222222222,
              "#7201a8"
             ],
             [
              0.3333333333333333,
              "#9c179e"
             ],
             [
              0.4444444444444444,
              "#bd3786"
             ],
             [
              0.5555555555555556,
              "#d8576b"
             ],
             [
              0.6666666666666666,
              "#ed7953"
             ],
             [
              0.7777777777777778,
              "#fb9f3a"
             ],
             [
              0.8888888888888888,
              "#fdca26"
             ],
             [
              1,
              "#f0f921"
             ]
            ],
            "type": "heatmap"
           }
          ],
          "heatmapgl": [
           {
            "colorbar": {
             "outlinewidth": 0,
             "ticks": ""
            },
            "colorscale": [
             [
              0,
              "#0d0887"
             ],
             [
              0.1111111111111111,
              "#46039f"
             ],
             [
              0.2222222222222222,
              "#7201a8"
             ],
             [
              0.3333333333333333,
              "#9c179e"
             ],
             [
              0.4444444444444444,
              "#bd3786"
             ],
             [
              0.5555555555555556,
              "#d8576b"
             ],
             [
              0.6666666666666666,
              "#ed7953"
             ],
             [
              0.7777777777777778,
              "#fb9f3a"
             ],
             [
              0.8888888888888888,
              "#fdca26"
             ],
             [
              1,
              "#f0f921"
             ]
            ],
            "type": "heatmapgl"
           }
          ],
          "histogram": [
           {
            "marker": {
             "pattern": {
              "fillmode": "overlay",
              "size": 10,
              "solidity": 0.2
             }
            },
            "type": "histogram"
           }
          ],
          "histogram2d": [
           {
            "colorbar": {
             "outlinewidth": 0,
             "ticks": ""
            },
            "colorscale": [
             [
              0,
              "#0d0887"
             ],
             [
              0.1111111111111111,
              "#46039f"
             ],
             [
              0.2222222222222222,
              "#7201a8"
             ],
             [
              0.3333333333333333,
              "#9c179e"
             ],
             [
              0.4444444444444444,
              "#bd3786"
             ],
             [
              0.5555555555555556,
              "#d8576b"
             ],
             [
              0.6666666666666666,
              "#ed7953"
             ],
             [
              0.7777777777777778,
              "#fb9f3a"
             ],
             [
              0.8888888888888888,
              "#fdca26"
             ],
             [
              1,
              "#f0f921"
             ]
            ],
            "type": "histogram2d"
           }
          ],
          "histogram2dcontour": [
           {
            "colorbar": {
             "outlinewidth": 0,
             "ticks": ""
            },
            "colorscale": [
             [
              0,
              "#0d0887"
             ],
             [
              0.1111111111111111,
              "#46039f"
             ],
             [
              0.2222222222222222,
              "#7201a8"
             ],
             [
              0.3333333333333333,
              "#9c179e"
             ],
             [
              0.4444444444444444,
              "#bd3786"
             ],
             [
              0.5555555555555556,
              "#d8576b"
             ],
             [
              0.6666666666666666,
              "#ed7953"
             ],
             [
              0.7777777777777778,
              "#fb9f3a"
             ],
             [
              0.8888888888888888,
              "#fdca26"
             ],
             [
              1,
              "#f0f921"
             ]
            ],
            "type": "histogram2dcontour"
           }
          ],
          "mesh3d": [
           {
            "colorbar": {
             "outlinewidth": 0,
             "ticks": ""
            },
            "type": "mesh3d"
           }
          ],
          "parcoords": [
           {
            "line": {
             "colorbar": {
              "outlinewidth": 0,
              "ticks": ""
             }
            },
            "type": "parcoords"
           }
          ],
          "pie": [
           {
            "automargin": true,
            "type": "pie"
           }
          ],
          "scatter": [
           {
            "fillpattern": {
             "fillmode": "overlay",
             "size": 10,
             "solidity": 0.2
            },
            "type": "scatter"
           }
          ],
          "scatter3d": [
           {
            "line": {
             "colorbar": {
              "outlinewidth": 0,
              "ticks": ""
             }
            },
            "marker": {
             "colorbar": {
              "outlinewidth": 0,
              "ticks": ""
             }
            },
            "type": "scatter3d"
           }
          ],
          "scattercarpet": [
           {
            "marker": {
             "colorbar": {
              "outlinewidth": 0,
              "ticks": ""
             }
            },
            "type": "scattercarpet"
           }
          ],
          "scattergeo": [
           {
            "marker": {
             "colorbar": {
              "outlinewidth": 0,
              "ticks": ""
             }
            },
            "type": "scattergeo"
           }
          ],
          "scattergl": [
           {
            "marker": {
             "colorbar": {
              "outlinewidth": 0,
              "ticks": ""
             }
            },
            "type": "scattergl"
           }
          ],
          "scattermapbox": [
           {
            "marker": {
             "colorbar": {
              "outlinewidth": 0,
              "ticks": ""
             }
            },
            "type": "scattermapbox"
           }
          ],
          "scatterpolar": [
           {
            "marker": {
             "colorbar": {
              "outlinewidth": 0,
              "ticks": ""
             }
            },
            "type": "scatterpolar"
           }
          ],
          "scatterpolargl": [
           {
            "marker": {
             "colorbar": {
              "outlinewidth": 0,
              "ticks": ""
             }
            },
            "type": "scatterpolargl"
           }
          ],
          "scatterternary": [
           {
            "marker": {
             "colorbar": {
              "outlinewidth": 0,
              "ticks": ""
             }
            },
            "type": "scatterternary"
           }
          ],
          "surface": [
           {
            "colorbar": {
             "outlinewidth": 0,
             "ticks": ""
            },
            "colorscale": [
             [
              0,
              "#0d0887"
             ],
             [
              0.1111111111111111,
              "#46039f"
             ],
             [
              0.2222222222222222,
              "#7201a8"
             ],
             [
              0.3333333333333333,
              "#9c179e"
             ],
             [
              0.4444444444444444,
              "#bd3786"
             ],
             [
              0.5555555555555556,
              "#d8576b"
             ],
             [
              0.6666666666666666,
              "#ed7953"
             ],
             [
              0.7777777777777778,
              "#fb9f3a"
             ],
             [
              0.8888888888888888,
              "#fdca26"
             ],
             [
              1,
              "#f0f921"
             ]
            ],
            "type": "surface"
           }
          ],
          "table": [
           {
            "cells": {
             "fill": {
              "color": "#EBF0F8"
             },
             "line": {
              "color": "white"
             }
            },
            "header": {
             "fill": {
              "color": "#C8D4E3"
             },
             "line": {
              "color": "white"
             }
            },
            "type": "table"
           }
          ]
         },
         "layout": {
          "annotationdefaults": {
           "arrowcolor": "#2a3f5f",
           "arrowhead": 0,
           "arrowwidth": 1
          },
          "autotypenumbers": "strict",
          "coloraxis": {
           "colorbar": {
            "outlinewidth": 0,
            "ticks": ""
           }
          },
          "colorscale": {
           "diverging": [
            [
             0,
             "#8e0152"
            ],
            [
             0.1,
             "#c51b7d"
            ],
            [
             0.2,
             "#de77ae"
            ],
            [
             0.3,
             "#f1b6da"
            ],
            [
             0.4,
             "#fde0ef"
            ],
            [
             0.5,
             "#f7f7f7"
            ],
            [
             0.6,
             "#e6f5d0"
            ],
            [
             0.7,
             "#b8e186"
            ],
            [
             0.8,
             "#7fbc41"
            ],
            [
             0.9,
             "#4d9221"
            ],
            [
             1,
             "#276419"
            ]
           ],
           "sequential": [
            [
             0,
             "#0d0887"
            ],
            [
             0.1111111111111111,
             "#46039f"
            ],
            [
             0.2222222222222222,
             "#7201a8"
            ],
            [
             0.3333333333333333,
             "#9c179e"
            ],
            [
             0.4444444444444444,
             "#bd3786"
            ],
            [
             0.5555555555555556,
             "#d8576b"
            ],
            [
             0.6666666666666666,
             "#ed7953"
            ],
            [
             0.7777777777777778,
             "#fb9f3a"
            ],
            [
             0.8888888888888888,
             "#fdca26"
            ],
            [
             1,
             "#f0f921"
            ]
           ],
           "sequentialminus": [
            [
             0,
             "#0d0887"
            ],
            [
             0.1111111111111111,
             "#46039f"
            ],
            [
             0.2222222222222222,
             "#7201a8"
            ],
            [
             0.3333333333333333,
             "#9c179e"
            ],
            [
             0.4444444444444444,
             "#bd3786"
            ],
            [
             0.5555555555555556,
             "#d8576b"
            ],
            [
             0.6666666666666666,
             "#ed7953"
            ],
            [
             0.7777777777777778,
             "#fb9f3a"
            ],
            [
             0.8888888888888888,
             "#fdca26"
            ],
            [
             1,
             "#f0f921"
            ]
           ]
          },
          "colorway": [
           "#636efa",
           "#EF553B",
           "#00cc96",
           "#ab63fa",
           "#FFA15A",
           "#19d3f3",
           "#FF6692",
           "#B6E880",
           "#FF97FF",
           "#FECB52"
          ],
          "font": {
           "color": "#2a3f5f"
          },
          "geo": {
           "bgcolor": "white",
           "lakecolor": "white",
           "landcolor": "#E5ECF6",
           "showlakes": true,
           "showland": true,
           "subunitcolor": "white"
          },
          "hoverlabel": {
           "align": "left"
          },
          "hovermode": "closest",
          "mapbox": {
           "style": "light"
          },
          "paper_bgcolor": "white",
          "plot_bgcolor": "#E5ECF6",
          "polar": {
           "angularaxis": {
            "gridcolor": "white",
            "linecolor": "white",
            "ticks": ""
           },
           "bgcolor": "#E5ECF6",
           "radialaxis": {
            "gridcolor": "white",
            "linecolor": "white",
            "ticks": ""
           }
          },
          "scene": {
           "xaxis": {
            "backgroundcolor": "#E5ECF6",
            "gridcolor": "white",
            "gridwidth": 2,
            "linecolor": "white",
            "showbackground": true,
            "ticks": "",
            "zerolinecolor": "white"
           },
           "yaxis": {
            "backgroundcolor": "#E5ECF6",
            "gridcolor": "white",
            "gridwidth": 2,
            "linecolor": "white",
            "showbackground": true,
            "ticks": "",
            "zerolinecolor": "white"
           },
           "zaxis": {
            "backgroundcolor": "#E5ECF6",
            "gridcolor": "white",
            "gridwidth": 2,
            "linecolor": "white",
            "showbackground": true,
            "ticks": "",
            "zerolinecolor": "white"
           }
          },
          "shapedefaults": {
           "line": {
            "color": "#2a3f5f"
           }
          },
          "ternary": {
           "aaxis": {
            "gridcolor": "white",
            "linecolor": "white",
            "ticks": ""
           },
           "baxis": {
            "gridcolor": "white",
            "linecolor": "white",
            "ticks": ""
           },
           "bgcolor": "#E5ECF6",
           "caxis": {
            "gridcolor": "white",
            "linecolor": "white",
            "ticks": ""
           }
          },
          "title": {
           "x": 0.05
          },
          "xaxis": {
           "automargin": true,
           "gridcolor": "white",
           "linecolor": "white",
           "ticks": "",
           "title": {
            "standoff": 15
           },
           "zerolinecolor": "white",
           "zerolinewidth": 2
          },
          "yaxis": {
           "automargin": true,
           "gridcolor": "white",
           "linecolor": "white",
           "ticks": "",
           "title": {
            "standoff": 15
           },
           "zerolinecolor": "white",
           "zerolinewidth": 2
          }
         }
        },
        "title": {
         "text": "Conf Matrix"
        },
        "width": 800,
        "xaxis": {
         "title": {
          "text": "Predicted value"
         }
        },
        "yaxis": {
         "title": {
          "text": "Real value"
         }
        }
       }
      }
     },
     "metadata": {},
     "output_type": "display_data"
    },
    {
     "data": {
      "text/plain": [
       "0.3676364093115616"
      ]
     },
     "execution_count": 35,
     "metadata": {},
     "output_type": "execute_result"
    }
   ],
   "source": [
    "#Vamos a replicar el resultado de la optimizacion reentrenando el modelo con el mejor conjunto de hiperparametros\n",
    "#Generamos parametros incluyendo los fijos y la mejor solución que encontro optuna\n",
    "lgb_params = {\n",
    "    'objective': 'multiclass',\n",
    "    'verbosity': -1,\n",
    "    'num_class': len(y_train.unique())\n",
    "}\n",
    "\n",
    "# Update lgb_params with study.best_params\n",
    "lgb_params.update(study.best_params)\n",
    "\n",
    "lgb_train_dataset = lgb.Dataset(data=X_train,\n",
    "                                label=y_train)\n",
    "\n",
    "\n",
    "#Entreno\n",
    "lgb_model = lgb.train(lgb_params,\n",
    "                    lgb_train_dataset)\n",
    "\n",
    "#Muestro matriz de confusion y kappa\n",
    "display(plot_confusion_matrix(y_test,lgb_model.predict(X_test).argmax(axis=1)))\n",
    "\n",
    "cohen_kappa_score(y_test,lgb_model.predict(X_test).argmax(axis=1),\n",
    "                             weights = 'quadratic')\n"
   ]
  },
  {
   "cell_type": "code",
   "execution_count": 36,
   "metadata": {},
   "outputs": [],
   "source": [
    "#A PARTIR DE OPTUNA (OPTIMIZACION BAYESIANA) ES LO MEJOR TENGO ENTENDIDO, ECONTRE LOS MEJORES VALORES HIPERPARMTROS\n",
    "#Y ESO MEJORO KAPPA "
   ]
  },
  {
   "cell_type": "code",
   "execution_count": 37,
   "metadata": {},
   "outputs": [],
   "source": [
    "import pandas as pd\n",
    "import matplotlib.pyplot as plt\n",
    "import seaborn as sns\n",
    "\n",
    "# Configurar visualizaciones\n",
    "sns.set(style=\"whitegrid\")"
   ]
  },
  {
   "cell_type": "code",
   "execution_count": 38,
   "metadata": {},
   "outputs": [
    {
     "data": {
      "image/png": "[encoded data removed]",
      "text/plain": [
       "<Figure size 720x576 with 1 Axes>"
      ]
     },
     "metadata": {
      "needs_background": "light"
     },
     "output_type": "display_data"
    }
   ],
   "source": [
    "# Obtener la importancia de las características\n",
    "importance = lgb_model.feature_importance(importance_type='gain')\n",
    "feature_names = X_train.columns\n",
    "\n",
    "# Crear un DataFrame para mostrar las importancias\n",
    "feature_importance_df = pd.DataFrame({'feature': feature_names, 'importance': importance})\n",
    "\n",
    "# Ordenar el DataFrame por importancia\n",
    "feature_importance_df = feature_importance_df.sort_values(by='importance', ascending=False)\n",
    "\n",
    "# Visualizar las importancias\n",
    "plt.figure(figsize=(10, 8))\n",
    "sns.barplot(x='importance', y='feature', data=feature_importance_df)\n",
    "plt.title('Importancia de las Características')\n",
    "plt.show()"
   ]
  },
  {
   "cell_type": "markdown",
   "metadata": {},
   "source": [
    "## predecir en archivo test.csv"
   ]
  },
  {
   "cell_type": "code",
   "execution_count": 45,
   "metadata": {},
   "outputs": [],
   "source": [
    "df_test = pd.read_csv(PATH_TO_TEST)\n",
    "#df_test\n",
    "\n",
    "#FEATURE ENGINEERING\n",
    "#Nuevas variables \n",
    "\n",
    "dataset=feature_engineering(df_test)\n",
    "\n",
    "#predict\n",
    "df_predict_test=lgb_model.predict(dataset[features]).argmax(axis=1)\n",
    "\n"
   ]
  },
  {
   "cell_type": "code",
   "execution_count": 46,
   "metadata": {},
   "outputs": [
    {
     "data": {
      "text/plain": [
       "4    0.400554\n",
       "2    0.247482\n",
       "1    0.238671\n",
       "3    0.109013\n",
       "0    0.004280\n",
       "dtype: float64"
      ]
     },
     "execution_count": 46,
     "metadata": {},
     "output_type": "execute_result"
    }
   ],
   "source": [
    "pd.Series(df_predict_test).value_counts(normalize=True)"
   ]
  },
  {
   "cell_type": "code",
   "execution_count": 47,
   "metadata": {},
   "outputs": [],
   "source": [
    "#add predict colum to the dataset\n",
    "dataset['AdoptionSpeed'] = df_predict_test"
   ]
  },
  {
   "cell_type": "code",
   "execution_count": 48,
   "metadata": {},
   "outputs": [],
   "source": [
    "#save for kaggle competition   \n",
    "dataset[['PetID', 'AdoptionSpeed']].to_csv('submission.csv', index=False)\n"
   ]
  },
  {
   "cell_type": "markdown",
   "metadata": {},
   "source": [
    "## Modelo con cross validation y conjunto de test"
   ]
  },
  {
   "cell_type": "code",
   "execution_count": 41,
   "metadata": {},
   "outputs": [],
   "source": [
    "#Genero una metrica para que lightGBM haga la evaluación y pueda hacer early_stopping en el cross validation\n",
    "def lgb_custom_metric_kappa(dy_pred, dy_true):\n",
    "    metric_name = 'kappa'\n",
    "    value = cohen_kappa_score(dy_true.get_label(),dy_pred.argmax(axis=1),weights = 'quadratic')\n",
    "    is_higher_better = True\n",
    "    return(metric_name, value, is_higher_better)\n",
    "\n",
    "#Funcion objetivo a optimizar. En este caso vamos a hacer 5fold cv sobre el conjunto de train. \n",
    "# El score de CV es el objetivo a optimizar. Ademas vamos a usar los 5 modelos del CV para estimar el conjunto de test,\n",
    "# registraremos en optuna las predicciones, matriz de confusion y el score en test.\n",
    "# CV Score -> Se usa para determinar el rendimiento de los hiperparametros con precision \n",
    "# Test Score -> Nos permite testear que esta todo OK, no use (ni debo usar) esos datos para nada en el entrenamiento \n",
    "# o la optimizacion de hiperparametros\n",
    "\n",
    "def cv_es_lgb_objective(trial):\n",
    "\n",
    "    #PArametros para LightGBM\n",
    "    lgb_params = {      \n",
    "                        #PArametros fijos\n",
    "                        'objective': 'multiclass',\n",
    "                        'verbosity':-1,\n",
    "                        'num_class': len(y_train.unique()),\n",
    "                        #Hiperparametros a optimizar utilizando suggest_float o suggest_int segun el tipo de dato\n",
    "                        #Se indica el nombre del parametro, valor minimo, valor maximo \n",
    "                        #en elgunos casos el parametro log=True para parametros que requieren buscar en esa escala\n",
    "                        'lambda_l1': trial.suggest_float('lambda_l1', 1e-8, 10.0, log=True),\n",
    "                        'lambda_l2': trial.suggest_float('lambda_l2', 1e-8, 10.0, log=True),\n",
    "                        'num_leaves': trial.suggest_int('num_leaves', 2, 256),\n",
    "                        'feature_fraction': trial.suggest_float('feature_fraction', 0.4, 1.0),\n",
    "                        'bagging_fraction': trial.suggest_float('bagging_fraction', 0.4, 1.0),\n",
    "                        'bagging_freq': trial.suggest_int('bagging_freq', 1, 7),\n",
    "                        'min_child_samples': trial.suggest_int('min_child_samples', 5, 100),\n",
    "                        } \n",
    "\n",
    "    #Voy a generar estimaciones de los 5 modelos del CV sobre los datos test y los acumulo en la matriz scores_ensemble\n",
    "    scores_ensemble = np.zeros((len(y_test),len(y_train.unique())))\n",
    "\n",
    "    #Score del 5 fold CV inicializado en 0\n",
    "    score_folds = 0\n",
    "\n",
    "    #Numero de splits del CV\n",
    "    n_splits = 5\n",
    "\n",
    "    #Objeto para hacer el split estratificado de CV\n",
    "    skf = StratifiedKFold(n_splits=n_splits)\n",
    "\n",
    "    for i, (if_index, oof_index) in enumerate(skf.split(X_train, y_train)):\n",
    "        \n",
    "        #Dataset in fold (donde entreno) \n",
    "        lgb_if_dataset = lgb.Dataset(data=X_train.iloc[if_index],\n",
    "                                        label=y_train.iloc[if_index],\n",
    "                                        free_raw_data=False)\n",
    "        \n",
    "        #Dataset Out of fold (donde mido la performance del CV)\n",
    "        lgb_oof_dataset = lgb.Dataset(data=X_train.iloc[oof_index],\n",
    "                                        label=y_train.iloc[oof_index],\n",
    "                                        free_raw_data=False)\n",
    "\n",
    "        #Entreno el modelo\n",
    "        lgb_model = lgb.train(lgb_params,\n",
    "                                lgb_if_dataset,\n",
    "                                valid_sets=lgb_oof_dataset,\n",
    "                                callbacks=[lgb.early_stopping(10, verbose=False)],\n",
    "                                feval = lgb_custom_metric_kappa\n",
    "                                )\n",
    "        \n",
    "        #Acumulo los scores (probabilidades) de cada clase para cada uno de los modelos que determino en los folds\n",
    "        #Se predice el 20% de los datos que separe para tes y no uso para entrenar en ningun fold\n",
    "        scores_ensemble = scores_ensemble + lgb_model.predict(X_test)\n",
    "        \n",
    "        #Score del fold (registros de dataset train que en este fold quedan out of fold)\n",
    "        score_folds = score_folds + cohen_kappa_score(y_train.iloc[oof_index], \n",
    "                                                            lgb_model.predict(X_train.iloc[oof_index]).argmax(axis=1),weights = 'quadratic')/n_splits\n",
    "\n",
    "\n",
    "    #Guardo prediccion del trial sobre el conjunto de test\n",
    "    # Genero nombre de archivo\n",
    "    predicted_filename = os.path.join(PATH_TO_TEMP_FILES,f'test_{trial.study.study_name}_{trial.number}.joblib')\n",
    "    # Copia del dataset para guardar la prediccion\n",
    "    predicted_df = test.copy()\n",
    "    # Genero columna pred con predicciones sumadas de los 5 folds\n",
    "    predicted_df['pred'] = [scores_ensemble[p,:] for p in range(scores_ensemble.shape[0])]\n",
    "    # Grabo dataframe en temp_artifacts\n",
    "    dump(predicted_df, predicted_filename)\n",
    "    # Indico a optuna que asocie el archivo generado al trial\n",
    "    upload_artifact(trial, predicted_filename, artifact_store)    \n",
    "\n",
    "    #Grabo natriz de confusion\n",
    "    #Nombre de archivo\n",
    "    cm_filename = os.path.join(PATH_TO_TEMP_FILES,f'cm_{trial.study.study_name}_{trial.number}.jpg')\n",
    "    #Grabo archivo\n",
    "    plot_confusion_matrix(y_test,scores_ensemble.argmax(axis=1)).write_image(cm_filename)\n",
    "    #Asocio al trial\n",
    "    upload_artifact(trial, cm_filename, artifact_store)\n",
    "\n",
    "    #Determino score en conjunto de test y asocio como metrica adicional en optuna\n",
    "    test_score = cohen_kappa_score(y_test,scores_ensemble.argmax(axis=1),weights = 'quadratic')\n",
    "    trial.set_user_attr(\"test_score\", test_score)\n",
    "\n",
    "    #Devuelvo score del 5fold cv a optuna para que optimice en base a eso\n",
    "    return(score_folds)"
   ]
  },
  {
   "cell_type": "code",
   "execution_count": 42,
   "metadata": {},
   "outputs": [
    {
     "name": "stderr",
     "output_type": "stream",
     "text": [
      "<ipython-input-42-3ba8469af45f>:2: ExperimentalWarning:\n",
      "\n",
      "FileSystemArtifactStore is experimental (supported from v3.3.0). The interface can change in the future.\n",
      "\n",
      "[I 2024-09-14 12:14:58,409] Using an existing study with name '04 - LGB Multiclass CV' instead of creating a new one.\n",
      "<ipython-input-41-1c6539846d38>:86: ExperimentalWarning:\n",
      "\n",
      "upload_artifact is experimental (supported from v3.3.0). The interface can change in the future.\n",
      "\n",
      "<ipython-input-41-1c6539846d38>:94: ExperimentalWarning:\n",
      "\n",
      "upload_artifact is experimental (supported from v3.3.0). The interface can change in the future.\n",
      "\n",
      "[I 2024-09-14 12:15:22,817] Trial 671 finished with value: 0.37184665533691497 and parameters: {'lambda_l1': 0.5388084648637167, 'lambda_l2': 1.2860602375541024, 'num_leaves': 6, 'feature_fraction': 0.41325944952074783, 'bagging_fraction': 0.43724914537542203, 'bagging_freq': 1, 'min_child_samples': 26}. Best is trial 45 with value: 1.0.\n",
      "<ipython-input-41-1c6539846d38>:86: ExperimentalWarning:\n",
      "\n",
      "upload_artifact is experimental (supported from v3.3.0). The interface can change in the future.\n",
      "\n",
      "<ipython-input-41-1c6539846d38>:94: ExperimentalWarning:\n",
      "\n",
      "upload_artifact is experimental (supported from v3.3.0). The interface can change in the future.\n",
      "\n",
      "[I 2024-09-14 12:15:44,437] Trial 672 finished with value: 0.37944240224134085 and parameters: {'lambda_l1': 0.1041542763394242, 'lambda_l2': 9.89000085254391, 'num_leaves': 36, 'feature_fraction': 0.5388438057950949, 'bagging_fraction': 0.5170858244980071, 'bagging_freq': 4, 'min_child_samples': 20}. Best is trial 45 with value: 1.0.\n",
      "<ipython-input-41-1c6539846d38>:86: ExperimentalWarning:\n",
      "\n",
      "upload_artifact is experimental (supported from v3.3.0). The interface can change in the future.\n",
      "\n",
      "<ipython-input-41-1c6539846d38>:94: ExperimentalWarning:\n",
      "\n",
      "upload_artifact is experimental (supported from v3.3.0). The interface can change in the future.\n",
      "\n",
      "[I 2024-09-14 12:16:00,755] Trial 673 finished with value: 0.370011497324414 and parameters: {'lambda_l1': 1.2574944107966286, 'lambda_l2': 0.25715177193853467, 'num_leaves': 23, 'feature_fraction': 0.49985578900092725, 'bagging_fraction': 0.4826146292200366, 'bagging_freq': 2, 'min_child_samples': 42}. Best is trial 45 with value: 1.0.\n",
      "<ipython-input-41-1c6539846d38>:86: ExperimentalWarning:\n",
      "\n",
      "upload_artifact is experimental (supported from v3.3.0). The interface can change in the future.\n",
      "\n",
      "<ipython-input-41-1c6539846d38>:94: ExperimentalWarning:\n",
      "\n",
      "upload_artifact is experimental (supported from v3.3.0). The interface can change in the future.\n",
      "\n",
      "[I 2024-09-14 12:16:12,945] Trial 674 finished with value: 0.3706921114484172 and parameters: {'lambda_l1': 0.21873260667972091, 'lambda_l2': 0.7556178293371519, 'num_leaves': 30, 'feature_fraction': 0.44636096624849814, 'bagging_fraction': 0.5050228955067734, 'bagging_freq': 1, 'min_child_samples': 23}. Best is trial 45 with value: 1.0.\n",
      "<ipython-input-41-1c6539846d38>:86: ExperimentalWarning:\n",
      "\n",
      "upload_artifact is experimental (supported from v3.3.0). The interface can change in the future.\n",
      "\n",
      "<ipython-input-41-1c6539846d38>:94: ExperimentalWarning:\n",
      "\n",
      "upload_artifact is experimental (supported from v3.3.0). The interface can change in the future.\n",
      "\n",
      "[I 2024-09-14 12:16:21,799] Trial 675 finished with value: 0.36603200818908627 and parameters: {'lambda_l1': 1.8714460907521338, 'lambda_l2': 4.029127984330919, 'num_leaves': 19, 'feature_fraction': 0.6277217942990468, 'bagging_fraction': 0.5458467707652714, 'bagging_freq': 1, 'min_child_samples': 18}. Best is trial 45 with value: 1.0.\n",
      "<ipython-input-41-1c6539846d38>:86: ExperimentalWarning:\n",
      "\n",
      "upload_artifact is experimental (supported from v3.3.0). The interface can change in the future.\n",
      "\n",
      "<ipython-input-41-1c6539846d38>:94: ExperimentalWarning:\n",
      "\n",
      "upload_artifact is experimental (supported from v3.3.0). The interface can change in the future.\n",
      "\n",
      "[I 2024-09-14 12:16:31,826] Trial 676 finished with value: 0.37029558075776164 and parameters: {'lambda_l1': 0.8729211988116184, 'lambda_l2': 2.136927202672512, 'num_leaves': 11, 'feature_fraction': 0.5720101075984878, 'bagging_fraction': 0.4608640631718933, 'bagging_freq': 1, 'min_child_samples': 30}. Best is trial 45 with value: 1.0.\n",
      "<ipython-input-41-1c6539846d38>:86: ExperimentalWarning:\n",
      "\n",
      "upload_artifact is experimental (supported from v3.3.0). The interface can change in the future.\n",
      "\n",
      "<ipython-input-41-1c6539846d38>:94: ExperimentalWarning:\n",
      "\n",
      "upload_artifact is experimental (supported from v3.3.0). The interface can change in the future.\n",
      "\n",
      "[I 2024-09-14 12:16:41,553] Trial 677 finished with value: 0.3728987634656271 and parameters: {'lambda_l1': 1.5612341071558955e-05, 'lambda_l2': 5.585567663325325, 'num_leaves': 27, 'feature_fraction': 0.5138448061555233, 'bagging_fraction': 0.41807459126565066, 'bagging_freq': 2, 'min_child_samples': 12}. Best is trial 45 with value: 1.0.\n",
      "<ipython-input-41-1c6539846d38>:86: ExperimentalWarning:\n",
      "\n",
      "upload_artifact is experimental (supported from v3.3.0). The interface can change in the future.\n",
      "\n",
      "<ipython-input-41-1c6539846d38>:94: ExperimentalWarning:\n",
      "\n",
      "upload_artifact is experimental (supported from v3.3.0). The interface can change in the future.\n",
      "\n",
      "[I 2024-09-14 12:16:53,043] Trial 678 finished with value: 0.37361644070059935 and parameters: {'lambda_l1': 0.4616418232398271, 'lambda_l2': 9.945118341492808, 'num_leaves': 16, 'feature_fraction': 0.5296279065159489, 'bagging_fraction': 0.49506252769974046, 'bagging_freq': 1, 'min_child_samples': 62}. Best is trial 45 with value: 1.0.\n",
      "<ipython-input-41-1c6539846d38>:86: ExperimentalWarning:\n",
      "\n",
      "upload_artifact is experimental (supported from v3.3.0). The interface can change in the future.\n",
      "\n",
      "<ipython-input-41-1c6539846d38>:94: ExperimentalWarning:\n",
      "\n",
      "upload_artifact is experimental (supported from v3.3.0). The interface can change in the future.\n",
      "\n",
      "[I 2024-09-14 12:17:06,217] Trial 679 finished with value: 0.3740204260555109 and parameters: {'lambda_l1': 0.04110628770542293, 'lambda_l2': 1.610169979933303, 'num_leaves': 22, 'feature_fraction': 0.6472234480647029, 'bagging_fraction': 0.4508174024099707, 'bagging_freq': 2, 'min_child_samples': 21}. Best is trial 45 with value: 1.0.\n",
      "<ipython-input-41-1c6539846d38>:86: ExperimentalWarning:\n",
      "\n",
      "upload_artifact is experimental (supported from v3.3.0). The interface can change in the future.\n",
      "\n",
      "<ipython-input-41-1c6539846d38>:94: ExperimentalWarning:\n",
      "\n",
      "upload_artifact is experimental (supported from v3.3.0). The interface can change in the future.\n",
      "\n",
      "[I 2024-09-14 12:17:15,953] Trial 680 finished with value: 0.3743981793283867 and parameters: {'lambda_l1': 4.241751006466162, 'lambda_l2': 0.5744672477601354, 'num_leaves': 33, 'feature_fraction': 0.4862526556679877, 'bagging_fraction': 0.4694139774787128, 'bagging_freq': 1, 'min_child_samples': 16}. Best is trial 45 with value: 1.0.\n",
      "<ipython-input-41-1c6539846d38>:86: ExperimentalWarning:\n",
      "\n",
      "upload_artifact is experimental (supported from v3.3.0). The interface can change in the future.\n",
      "\n",
      "<ipython-input-41-1c6539846d38>:94: ExperimentalWarning:\n",
      "\n",
      "upload_artifact is experimental (supported from v3.3.0). The interface can change in the future.\n",
      "\n",
      "[I 2024-09-14 12:17:23,104] Trial 681 finished with value: 0.3538534576114616 and parameters: {'lambda_l1': 9.897817183335784, 'lambda_l2': 3.259318884768476, 'num_leaves': 8, 'feature_fraction': 0.7846702465805349, 'bagging_fraction': 0.4829416370965596, 'bagging_freq': 2, 'min_child_samples': 27}. Best is trial 45 with value: 1.0.\n",
      "<ipython-input-41-1c6539846d38>:86: ExperimentalWarning:\n",
      "\n",
      "upload_artifact is experimental (supported from v3.3.0). The interface can change in the future.\n",
      "\n",
      "<ipython-input-41-1c6539846d38>:94: ExperimentalWarning:\n",
      "\n",
      "upload_artifact is experimental (supported from v3.3.0). The interface can change in the future.\n",
      "\n",
      "[I 2024-09-14 12:17:33,005] Trial 682 finished with value: 0.378990016724862 and parameters: {'lambda_l1': 0.006872439842206118, 'lambda_l2': 6.223523306469346, 'num_leaves': 39, 'feature_fraction': 0.46708402663109, 'bagging_fraction': 0.5091219663658567, 'bagging_freq': 1, 'min_child_samples': 35}. Best is trial 45 with value: 1.0.\n",
      "<ipython-input-41-1c6539846d38>:86: ExperimentalWarning:\n",
      "\n",
      "upload_artifact is experimental (supported from v3.3.0). The interface can change in the future.\n",
      "\n",
      "<ipython-input-41-1c6539846d38>:94: ExperimentalWarning:\n",
      "\n",
      "upload_artifact is experimental (supported from v3.3.0). The interface can change in the future.\n",
      "\n",
      "[I 2024-09-14 12:17:45,537] Trial 683 finished with value: 0.36689076553549826 and parameters: {'lambda_l1': 0.0013580725374938581, 'lambda_l2': 2.563698207107245, 'num_leaves': 27, 'feature_fraction': 0.5085968047004129, 'bagging_fraction': 0.4341068344247367, 'bagging_freq': 2, 'min_child_samples': 25}. Best is trial 45 with value: 1.0.\n",
      "<ipython-input-41-1c6539846d38>:86: ExperimentalWarning:\n",
      "\n",
      "upload_artifact is experimental (supported from v3.3.0). The interface can change in the future.\n",
      "\n",
      "<ipython-input-41-1c6539846d38>:94: ExperimentalWarning:\n",
      "\n",
      "upload_artifact is experimental (supported from v3.3.0). The interface can change in the future.\n",
      "\n",
      "[I 2024-09-14 12:18:08,852] Trial 684 finished with value: 0.30678753028572814 and parameters: {'lambda_l1': 0.6407630206619745, 'lambda_l2': 4.228761834703414, 'num_leaves': 2, 'feature_fraction': 0.5515597651436844, 'bagging_fraction': 0.5354147459545924, 'bagging_freq': 5, 'min_child_samples': 7}. Best is trial 45 with value: 1.0.\n",
      "<ipython-input-41-1c6539846d38>:86: ExperimentalWarning:\n",
      "\n",
      "upload_artifact is experimental (supported from v3.3.0). The interface can change in the future.\n",
      "\n",
      "<ipython-input-41-1c6539846d38>:94: ExperimentalWarning:\n",
      "\n",
      "upload_artifact is experimental (supported from v3.3.0). The interface can change in the future.\n",
      "\n",
      "[I 2024-09-14 12:18:22,355] Trial 685 finished with value: 0.37706969230087484 and parameters: {'lambda_l1': 0.3261507336045377, 'lambda_l2': 6.358581322446577, 'num_leaves': 15, 'feature_fraction': 0.528896459751159, 'bagging_fraction': 0.5231434406773876, 'bagging_freq': 1, 'min_child_samples': 78}. Best is trial 45 with value: 1.0.\n",
      "<ipython-input-41-1c6539846d38>:86: ExperimentalWarning:\n",
      "\n",
      "upload_artifact is experimental (supported from v3.3.0). The interface can change in the future.\n",
      "\n",
      "<ipython-input-41-1c6539846d38>:94: ExperimentalWarning:\n",
      "\n",
      "upload_artifact is experimental (supported from v3.3.0). The interface can change in the future.\n",
      "\n",
      "[I 2024-09-14 12:18:32,733] Trial 686 finished with value: 0.37958458891393887 and parameters: {'lambda_l1': 0.08461112662209991, 'lambda_l2': 1.1007666693721299, 'num_leaves': 20, 'feature_fraction': 0.47665356954362603, 'bagging_fraction': 0.5626278984304268, 'bagging_freq': 1, 'min_child_samples': 10}. Best is trial 45 with value: 1.0.\n",
      "<ipython-input-41-1c6539846d38>:86: ExperimentalWarning:\n",
      "\n",
      "upload_artifact is experimental (supported from v3.3.0). The interface can change in the future.\n",
      "\n",
      "<ipython-input-41-1c6539846d38>:94: ExperimentalWarning:\n",
      "\n",
      "upload_artifact is experimental (supported from v3.3.0). The interface can change in the future.\n",
      "\n",
      "[I 2024-09-14 12:19:03,569] Trial 687 finished with value: 0.3658742278043944 and parameters: {'lambda_l1': 0.16083087193250217, 'lambda_l2': 2.1017055447089215, 'num_leaves': 53, 'feature_fraction': 0.4580584375859023, 'bagging_fraction': 0.49805393725728647, 'bagging_freq': 2, 'min_child_samples': 97}. Best is trial 45 with value: 1.0.\n",
      "<ipython-input-41-1c6539846d38>:86: ExperimentalWarning:\n",
      "\n",
      "upload_artifact is experimental (supported from v3.3.0). The interface can change in the future.\n",
      "\n",
      "<ipython-input-41-1c6539846d38>:94: ExperimentalWarning:\n",
      "\n",
      "upload_artifact is experimental (supported from v3.3.0). The interface can change in the future.\n",
      "\n",
      "[I 2024-09-14 12:19:24,644] Trial 688 finished with value: 0.37335172373006176 and parameters: {'lambda_l1': 0.06270609505669851, 'lambda_l2': 4.462482642742153, 'num_leaves': 130, 'feature_fraction': 0.8663881798191213, 'bagging_fraction': 0.4580761317057502, 'bagging_freq': 3, 'min_child_samples': 19}. Best is trial 45 with value: 1.0.\n",
      "<ipython-input-41-1c6539846d38>:86: ExperimentalWarning:\n",
      "\n",
      "upload_artifact is experimental (supported from v3.3.0). The interface can change in the future.\n",
      "\n",
      "<ipython-input-41-1c6539846d38>:94: ExperimentalWarning:\n",
      "\n",
      "upload_artifact is experimental (supported from v3.3.0). The interface can change in the future.\n",
      "\n",
      "[I 2024-09-14 12:19:35,733] Trial 689 finished with value: 0.37811113973432153 and parameters: {'lambda_l1': 1.238652844209064, 'lambda_l2': 6.74373335718465, 'num_leaves': 23, 'feature_fraction': 0.44128470543799597, 'bagging_fraction': 0.44700196965318467, 'bagging_freq': 1, 'min_child_samples': 31}. Best is trial 45 with value: 1.0.\n",
      "<ipython-input-41-1c6539846d38>:86: ExperimentalWarning:\n",
      "\n",
      "upload_artifact is experimental (supported from v3.3.0). The interface can change in the future.\n",
      "\n",
      "<ipython-input-41-1c6539846d38>:94: ExperimentalWarning:\n",
      "\n",
      "upload_artifact is experimental (supported from v3.3.0). The interface can change in the future.\n",
      "\n",
      "[I 2024-09-14 12:19:43,673] Trial 690 finished with value: 0.3704213089579743 and parameters: {'lambda_l1': 0.47565147571841937, 'lambda_l2': 3.6844139456558587, 'num_leaves': 13, 'feature_fraction': 0.6886520036776705, 'bagging_fraction': 0.40933279546979007, 'bagging_freq': 6, 'min_child_samples': 22}. Best is trial 45 with value: 1.0.\n",
      "<ipython-input-41-1c6539846d38>:86: ExperimentalWarning:\n",
      "\n",
      "upload_artifact is experimental (supported from v3.3.0). The interface can change in the future.\n",
      "\n",
      "<ipython-input-41-1c6539846d38>:94: ExperimentalWarning:\n",
      "\n",
      "upload_artifact is experimental (supported from v3.3.0). The interface can change in the future.\n",
      "\n",
      "[I 2024-09-14 12:19:55,509] Trial 691 finished with value: 0.3766327915152795 and parameters: {'lambda_l1': 2.6820411690788957, 'lambda_l2': 1.7454366297022785, 'num_leaves': 28, 'feature_fraction': 0.9568494352541717, 'bagging_fraction': 0.47819859635727213, 'bagging_freq': 1, 'min_child_samples': 14}. Best is trial 45 with value: 1.0.\n",
      "<ipython-input-41-1c6539846d38>:86: ExperimentalWarning:\n",
      "\n",
      "upload_artifact is experimental (supported from v3.3.0). The interface can change in the future.\n",
      "\n",
      "<ipython-input-41-1c6539846d38>:94: ExperimentalWarning:\n",
      "\n",
      "upload_artifact is experimental (supported from v3.3.0). The interface can change in the future.\n",
      "\n",
      "[I 2024-09-14 12:20:05,122] Trial 692 finished with value: 0.37519227104269914 and parameters: {'lambda_l1': 0.21019336887175213, 'lambda_l2': 1.9807164510688994e-08, 'num_leaves': 19, 'feature_fraction': 0.49631234537761953, 'bagging_fraction': 0.5518124579825183, 'bagging_freq': 2, 'min_child_samples': 28}. Best is trial 45 with value: 1.0.\n",
      "<ipython-input-41-1c6539846d38>:86: ExperimentalWarning:\n",
      "\n",
      "upload_artifact is experimental (supported from v3.3.0). The interface can change in the future.\n",
      "\n",
      "<ipython-input-41-1c6539846d38>:94: ExperimentalWarning:\n",
      "\n",
      "upload_artifact is experimental (supported from v3.3.0). The interface can change in the future.\n",
      "\n",
      "[I 2024-09-14 12:20:20,110] Trial 693 finished with value: 0.3712701565906339 and parameters: {'lambda_l1': 5.55996099037297, 'lambda_l2': 6.8714086224787545, 'num_leaves': 33, 'feature_fraction': 0.6002941270332512, 'bagging_fraction': 0.46549455024489295, 'bagging_freq': 1, 'min_child_samples': 9}. Best is trial 45 with value: 1.0.\n",
      "<ipython-input-41-1c6539846d38>:86: ExperimentalWarning:\n",
      "\n",
      "upload_artifact is experimental (supported from v3.3.0). The interface can change in the future.\n",
      "\n",
      "<ipython-input-41-1c6539846d38>:94: ExperimentalWarning:\n",
      "\n",
      "upload_artifact is experimental (supported from v3.3.0). The interface can change in the future.\n",
      "\n",
      "[I 2024-09-14 12:20:36,442] Trial 694 finished with value: 0.37742723146852464 and parameters: {'lambda_l1': 0.12384597983479692, 'lambda_l2': 0.37516016919873796, 'num_leaves': 42, 'feature_fraction': 0.5139802132152741, 'bagging_fraction': 0.516223285115676, 'bagging_freq': 2, 'min_child_samples': 24}. Best is trial 45 with value: 1.0.\n",
      "<ipython-input-41-1c6539846d38>:86: ExperimentalWarning:\n",
      "\n",
      "upload_artifact is experimental (supported from v3.3.0). The interface can change in the future.\n",
      "\n",
      "<ipython-input-41-1c6539846d38>:94: ExperimentalWarning:\n",
      "\n",
      "upload_artifact is experimental (supported from v3.3.0). The interface can change in the future.\n",
      "\n",
      "[I 2024-09-14 12:20:49,336] Trial 695 finished with value: 0.366681316901774 and parameters: {'lambda_l1': 0.7512502264876374, 'lambda_l2': 0.0002009717685668321, 'num_leaves': 9, 'feature_fraction': 0.5480944831593951, 'bagging_fraction': 0.4359443391006309, 'bagging_freq': 1, 'min_child_samples': 33}. Best is trial 45 with value: 1.0.\n",
      "<ipython-input-41-1c6539846d38>:86: ExperimentalWarning:\n",
      "\n",
      "upload_artifact is experimental (supported from v3.3.0). The interface can change in the future.\n",
      "\n",
      "<ipython-input-41-1c6539846d38>:94: ExperimentalWarning:\n",
      "\n",
      "upload_artifact is experimental (supported from v3.3.0). The interface can change in the future.\n",
      "\n",
      "[I 2024-09-14 12:21:00,198] Trial 696 finished with value: 0.3709976109540036 and parameters: {'lambda_l1': 0.2979776035458832, 'lambda_l2': 2.8186037474932903, 'num_leaves': 24, 'feature_fraction': 0.4338689506897002, 'bagging_fraction': 0.5011007750284795, 'bagging_freq': 2, 'min_child_samples': 12}. Best is trial 45 with value: 1.0.\n",
      "<ipython-input-41-1c6539846d38>:86: ExperimentalWarning:\n",
      "\n",
      "upload_artifact is experimental (supported from v3.3.0). The interface can change in the future.\n",
      "\n",
      "<ipython-input-41-1c6539846d38>:94: ExperimentalWarning:\n",
      "\n",
      "upload_artifact is experimental (supported from v3.3.0). The interface can change in the future.\n",
      "\n",
      "[I 2024-09-14 12:21:13,362] Trial 697 finished with value: 0.37494537267471545 and parameters: {'lambda_l1': 1.0345306929342253, 'lambda_l2': 0.8625134305841368, 'num_leaves': 15, 'feature_fraction': 0.5368326475874929, 'bagging_fraction': 0.48816463575537605, 'bagging_freq': 1, 'min_child_samples': 16}. Best is trial 45 with value: 1.0.\n",
      "<ipython-input-41-1c6539846d38>:86: ExperimentalWarning:\n",
      "\n",
      "upload_artifact is experimental (supported from v3.3.0). The interface can change in the future.\n",
      "\n",
      "<ipython-input-41-1c6539846d38>:94: ExperimentalWarning:\n",
      "\n",
      "upload_artifact is experimental (supported from v3.3.0). The interface can change in the future.\n",
      "\n",
      "[I 2024-09-14 12:21:24,953] Trial 698 finished with value: 0.3744663614945527 and parameters: {'lambda_l1': 0.030254270543282478, 'lambda_l2': 0.006763068960475917, 'num_leaves': 30, 'feature_fraction': 0.5620977786207645, 'bagging_fraction': 0.4211228059542813, 'bagging_freq': 1, 'min_child_samples': 19}. Best is trial 45 with value: 1.0.\n",
      "<ipython-input-41-1c6539846d38>:86: ExperimentalWarning:\n",
      "\n",
      "upload_artifact is experimental (supported from v3.3.0). The interface can change in the future.\n",
      "\n",
      "<ipython-input-41-1c6539846d38>:94: ExperimentalWarning:\n",
      "\n",
      "upload_artifact is experimental (supported from v3.3.0). The interface can change in the future.\n",
      "\n",
      "[I 2024-09-14 12:21:34,149] Trial 699 finished with value: 0.3639734023005613 and parameters: {'lambda_l1': 0.4091658441995381, 'lambda_l2': 9.752873073852035, 'num_leaves': 37, 'feature_fraction': 0.42135242265798983, 'bagging_fraction': 0.47241688423821987, 'bagging_freq': 2, 'min_child_samples': 21}. Best is trial 45 with value: 1.0.\n",
      "<ipython-input-41-1c6539846d38>:86: ExperimentalWarning:\n",
      "\n",
      "upload_artifact is experimental (supported from v3.3.0). The interface can change in the future.\n",
      "\n",
      "<ipython-input-41-1c6539846d38>:94: ExperimentalWarning:\n",
      "\n",
      "upload_artifact is experimental (supported from v3.3.0). The interface can change in the future.\n",
      "\n",
      "[I 2024-09-14 12:21:43,616] Trial 700 finished with value: 0.36686054031911264 and parameters: {'lambda_l1': 1.8591222742870623, 'lambda_l2': 9.968411670725072, 'num_leaves': 19, 'feature_fraction': 0.5207737713302628, 'bagging_fraction': 0.5866037887920188, 'bagging_freq': 1, 'min_child_samples': 26}. Best is trial 45 with value: 1.0.\n",
      "<ipython-input-41-1c6539846d38>:86: ExperimentalWarning:\n",
      "\n",
      "upload_artifact is experimental (supported from v3.3.0). The interface can change in the future.\n",
      "\n",
      "<ipython-input-41-1c6539846d38>:94: ExperimentalWarning:\n",
      "\n",
      "upload_artifact is experimental (supported from v3.3.0). The interface can change in the future.\n",
      "\n",
      "[I 2024-09-14 12:21:55,054] Trial 701 finished with value: 0.3682922350460882 and parameters: {'lambda_l1': 0.07444026505566008, 'lambda_l2': 4.476628434511698, 'num_leaves': 11, 'feature_fraction': 0.4922533200634301, 'bagging_fraction': 0.4539616161005002, 'bagging_freq': 1, 'min_child_samples': 29}. Best is trial 45 with value: 1.0.\n",
      "<ipython-input-41-1c6539846d38>:86: ExperimentalWarning:\n",
      "\n",
      "upload_artifact is experimental (supported from v3.3.0). The interface can change in the future.\n",
      "\n",
      "<ipython-input-41-1c6539846d38>:94: ExperimentalWarning:\n",
      "\n",
      "upload_artifact is experimental (supported from v3.3.0). The interface can change in the future.\n",
      "\n",
      "[I 2024-09-14 12:22:05,572] Trial 702 finished with value: 0.3696467025153337 and parameters: {'lambda_l1': 4.095703368062076, 'lambda_l2': 1.4082607226294706, 'num_leaves': 25, 'feature_fraction': 0.4756108208574146, 'bagging_fraction': 0.443069459406884, 'bagging_freq': 2, 'min_child_samples': 8}. Best is trial 45 with value: 1.0.\n",
      "<ipython-input-41-1c6539846d38>:86: ExperimentalWarning:\n",
      "\n",
      "upload_artifact is experimental (supported from v3.3.0). The interface can change in the future.\n",
      "\n",
      "<ipython-input-41-1c6539846d38>:94: ExperimentalWarning:\n",
      "\n",
      "upload_artifact is experimental (supported from v3.3.0). The interface can change in the future.\n",
      "\n",
      "[I 2024-09-14 12:22:18,081] Trial 703 finished with value: 0.3766521062430287 and parameters: {'lambda_l1': 0.22097617040267417, 'lambda_l2': 2.8073749700653288, 'num_leaves': 18, 'feature_fraction': 0.46177220144643505, 'bagging_fraction': 0.5255539678805433, 'bagging_freq': 1, 'min_child_samples': 38}. Best is trial 45 with value: 1.0.\n",
      "<ipython-input-41-1c6539846d38>:86: ExperimentalWarning:\n",
      "\n",
      "upload_artifact is experimental (supported from v3.3.0). The interface can change in the future.\n",
      "\n",
      "<ipython-input-41-1c6539846d38>:94: ExperimentalWarning:\n",
      "\n",
      "upload_artifact is experimental (supported from v3.3.0). The interface can change in the future.\n",
      "\n",
      "[I 2024-09-14 12:22:33,579] Trial 704 finished with value: 0.37488031515948805 and parameters: {'lambda_l1': 0.6179208067819627, 'lambda_l2': 5.110245731800951, 'num_leaves': 29, 'feature_fraction': 0.5052453997828961, 'bagging_fraction': 0.5428290137169265, 'bagging_freq': 2, 'min_child_samples': 23}. Best is trial 45 with value: 1.0.\n",
      "<ipython-input-41-1c6539846d38>:86: ExperimentalWarning:\n",
      "\n",
      "upload_artifact is experimental (supported from v3.3.0). The interface can change in the future.\n",
      "\n",
      "<ipython-input-41-1c6539846d38>:94: ExperimentalWarning:\n",
      "\n",
      "upload_artifact is experimental (supported from v3.3.0). The interface can change in the future.\n",
      "\n",
      "[I 2024-09-14 12:22:42,982] Trial 705 finished with value: 0.35745231042126063 and parameters: {'lambda_l1': 0.11406305841871187, 'lambda_l2': 3.500919926610116e-05, 'num_leaves': 6, 'feature_fraction': 0.8020856026251988, 'bagging_fraction': 0.5087878224890429, 'bagging_freq': 3, 'min_child_samples': 13}. Best is trial 45 with value: 1.0.\n",
      "<ipython-input-41-1c6539846d38>:86: ExperimentalWarning:\n",
      "\n",
      "upload_artifact is experimental (supported from v3.3.0). The interface can change in the future.\n",
      "\n",
      "<ipython-input-41-1c6539846d38>:94: ExperimentalWarning:\n",
      "\n",
      "upload_artifact is experimental (supported from v3.3.0). The interface can change in the future.\n",
      "\n",
      "[I 2024-09-14 12:22:52,865] Trial 706 finished with value: 0.3770130814739661 and parameters: {'lambda_l1': 0.3947904377446709, 'lambda_l2': 2.1714668796114998, 'num_leaves': 23, 'feature_fraction': 0.586406921831872, 'bagging_fraction': 0.4865228886231513, 'bagging_freq': 4, 'min_child_samples': 17}. Best is trial 45 with value: 1.0.\n",
      "<ipython-input-41-1c6539846d38>:86: ExperimentalWarning:\n",
      "\n",
      "upload_artifact is experimental (supported from v3.3.0). The interface can change in the future.\n",
      "\n",
      "<ipython-input-41-1c6539846d38>:94: ExperimentalWarning:\n",
      "\n",
      "upload_artifact is experimental (supported from v3.3.0). The interface can change in the future.\n",
      "\n",
      "[I 2024-09-14 12:23:03,252] Trial 707 finished with value: 0.3734332933250608 and parameters: {'lambda_l1': 0.17039574793190243, 'lambda_l2': 0.5819395584096009, 'num_leaves': 57, 'feature_fraction': 0.5245956095997443, 'bagging_fraction': 0.4643194392995362, 'bagging_freq': 7, 'min_child_samples': 11}. Best is trial 45 with value: 1.0.\n",
      "<ipython-input-41-1c6539846d38>:86: ExperimentalWarning:\n",
      "\n",
      "upload_artifact is experimental (supported from v3.3.0). The interface can change in the future.\n",
      "\n",
      "<ipython-input-41-1c6539846d38>:94: ExperimentalWarning:\n",
      "\n",
      "upload_artifact is experimental (supported from v3.3.0). The interface can change in the future.\n",
      "\n",
      "[I 2024-09-14 12:23:14,544] Trial 708 finished with value: 0.36935832266471624 and parameters: {'lambda_l1': 6.840544317073392, 'lambda_l2': 9.405725055917079e-06, 'num_leaves': 47, 'feature_fraction': 0.450323929197474, 'bagging_fraction': 0.4950924442869415, 'bagging_freq': 1, 'min_child_samples': 15}. Best is trial 45 with value: 1.0.\n",
      "<ipython-input-41-1c6539846d38>:86: ExperimentalWarning:\n",
      "\n",
      "upload_artifact is experimental (supported from v3.3.0). The interface can change in the future.\n",
      "\n",
      "<ipython-input-41-1c6539846d38>:94: ExperimentalWarning:\n",
      "\n",
      "upload_artifact is experimental (supported from v3.3.0). The interface can change in the future.\n",
      "\n",
      "[I 2024-09-14 12:23:22,933] Trial 709 finished with value: 0.3700433552738892 and parameters: {'lambda_l1': 0.9953189954771098, 'lambda_l2': 6.773410084534689, 'num_leaves': 35, 'feature_fraction': 0.573975895947927, 'bagging_fraction': 0.5294741200672222, 'bagging_freq': 2, 'min_child_samples': 25}. Best is trial 45 with value: 1.0.\n",
      "<ipython-input-41-1c6539846d38>:86: ExperimentalWarning:\n",
      "\n",
      "upload_artifact is experimental (supported from v3.3.0). The interface can change in the future.\n",
      "\n",
      "<ipython-input-41-1c6539846d38>:94: ExperimentalWarning:\n",
      "\n",
      "upload_artifact is experimental (supported from v3.3.0). The interface can change in the future.\n",
      "\n",
      "[I 2024-09-14 12:23:31,295] Trial 710 finished with value: 0.363483843864714 and parameters: {'lambda_l1': 0.2614339686129634, 'lambda_l2': 3.6030793961075283, 'num_leaves': 13, 'feature_fraction': 0.5004596602921643, 'bagging_fraction': 0.42764924967317336, 'bagging_freq': 1, 'min_child_samples': 35}. Best is trial 45 with value: 1.0.\n",
      "<ipython-input-41-1c6539846d38>:86: ExperimentalWarning:\n",
      "\n",
      "upload_artifact is experimental (supported from v3.3.0). The interface can change in the future.\n",
      "\n",
      "<ipython-input-41-1c6539846d38>:94: ExperimentalWarning:\n",
      "\n",
      "upload_artifact is experimental (supported from v3.3.0). The interface can change in the future.\n",
      "\n",
      "[I 2024-09-14 12:23:41,440] Trial 711 finished with value: 0.3798504756455305 and parameters: {'lambda_l1': 0.6164862631277482, 'lambda_l2': 1.2661157408072987, 'num_leaves': 20, 'feature_fraction': 0.5339676374977952, 'bagging_fraction': 0.47435072250661187, 'bagging_freq': 1, 'min_child_samples': 20}. Best is trial 45 with value: 1.0.\n",
      "<ipython-input-41-1c6539846d38>:86: ExperimentalWarning:\n",
      "\n",
      "upload_artifact is experimental (supported from v3.3.0). The interface can change in the future.\n",
      "\n",
      "<ipython-input-41-1c6539846d38>:94: ExperimentalWarning:\n",
      "\n",
      "upload_artifact is experimental (supported from v3.3.0). The interface can change in the future.\n",
      "\n",
      "[I 2024-09-14 12:23:51,281] Trial 712 finished with value: 0.36841631351508375 and parameters: {'lambda_l1': 2.727365801654113, 'lambda_l2': 5.115097423358315, 'num_leaves': 26, 'feature_fraction': 0.4865419456129514, 'bagging_fraction': 0.40057968697442053, 'bagging_freq': 2, 'min_child_samples': 32}. Best is trial 45 with value: 1.0.\n",
      "<ipython-input-41-1c6539846d38>:86: ExperimentalWarning:\n",
      "\n",
      "upload_artifact is experimental (supported from v3.3.0). The interface can change in the future.\n",
      "\n",
      "<ipython-input-41-1c6539846d38>:94: ExperimentalWarning:\n",
      "\n",
      "upload_artifact is experimental (supported from v3.3.0). The interface can change in the future.\n",
      "\n",
      "[I 2024-09-14 12:24:01,434] Trial 713 finished with value: 0.3695811609876945 and parameters: {'lambda_l1': 0.06487709970929334, 'lambda_l2': 6.926114283459005, 'num_leaves': 96, 'feature_fraction': 0.65841454552551, 'bagging_fraction': 0.5161434920555642, 'bagging_freq': 1, 'min_child_samples': 22}. Best is trial 45 with value: 1.0.\n",
      "<ipython-input-41-1c6539846d38>:86: ExperimentalWarning:\n",
      "\n",
      "upload_artifact is experimental (supported from v3.3.0). The interface can change in the future.\n",
      "\n",
      "<ipython-input-41-1c6539846d38>:94: ExperimentalWarning:\n",
      "\n",
      "upload_artifact is experimental (supported from v3.3.0). The interface can change in the future.\n",
      "\n",
      "[I 2024-09-14 12:24:27,550] Trial 714 finished with value: 0.36587209694498857 and parameters: {'lambda_l1': 1.428960645099751, 'lambda_l2': 3.358251151421022, 'num_leaves': 6, 'feature_fraction': 0.4078831151259098, 'bagging_fraction': 0.44960731922707486, 'bagging_freq': 1, 'min_child_samples': 5}. Best is trial 45 with value: 1.0.\n",
      "<ipython-input-41-1c6539846d38>:86: ExperimentalWarning:\n",
      "\n",
      "upload_artifact is experimental (supported from v3.3.0). The interface can change in the future.\n",
      "\n",
      "<ipython-input-41-1c6539846d38>:94: ExperimentalWarning:\n",
      "\n",
      "upload_artifact is experimental (supported from v3.3.0). The interface can change in the future.\n",
      "\n",
      "[I 2024-09-14 12:24:37,853] Trial 715 finished with value: 0.369728827839901 and parameters: {'lambda_l1': 0.3724782537371251, 'lambda_l2': 1.877703221945949, 'num_leaves': 16, 'feature_fraction': 0.5100586981898846, 'bagging_fraction': 0.5713109495887554, 'bagging_freq': 3, 'min_child_samples': 10}. Best is trial 45 with value: 1.0.\n",
      "<ipython-input-41-1c6539846d38>:86: ExperimentalWarning:\n",
      "\n",
      "upload_artifact is experimental (supported from v3.3.0). The interface can change in the future.\n",
      "\n",
      "<ipython-input-41-1c6539846d38>:94: ExperimentalWarning:\n",
      "\n",
      "upload_artifact is experimental (supported from v3.3.0). The interface can change in the future.\n",
      "\n",
      "[I 2024-09-14 12:24:50,037] Trial 716 finished with value: 0.37694093252431726 and parameters: {'lambda_l1': 0.11716186426943449, 'lambda_l2': 9.921275483471279, 'num_leaves': 29, 'feature_fraction': 0.5454721474927241, 'bagging_fraction': 0.43512204865322984, 'bagging_freq': 1, 'min_child_samples': 29}. Best is trial 45 with value: 1.0.\n",
      "<ipython-input-41-1c6539846d38>:86: ExperimentalWarning:\n",
      "\n",
      "upload_artifact is experimental (supported from v3.3.0). The interface can change in the future.\n",
      "\n",
      "<ipython-input-41-1c6539846d38>:94: ExperimentalWarning:\n",
      "\n",
      "upload_artifact is experimental (supported from v3.3.0). The interface can change in the future.\n",
      "\n",
      "[I 2024-09-14 12:25:08,849] Trial 717 finished with value: 0.3792178551156761 and parameters: {'lambda_l1': 4.672883597255203, 'lambda_l2': 0.19155879353031874, 'num_leaves': 83, 'feature_fraction': 0.6099590023039976, 'bagging_fraction': 0.5021939563561543, 'bagging_freq': 2, 'min_child_samples': 18}. Best is trial 45 with value: 1.0.\n",
      "<ipython-input-41-1c6539846d38>:86: ExperimentalWarning:\n",
      "\n",
      "upload_artifact is experimental (supported from v3.3.0). The interface can change in the future.\n",
      "\n",
      "<ipython-input-41-1c6539846d38>:94: ExperimentalWarning:\n",
      "\n",
      "upload_artifact is experimental (supported from v3.3.0). The interface can change in the future.\n",
      "\n",
      "[I 2024-09-14 12:25:21,663] Trial 718 finished with value: 0.3720980746244086 and parameters: {'lambda_l1': 0.7929057535594377, 'lambda_l2': 2.650749211617944, 'num_leaves': 77, 'feature_fraction': 0.4765551001362705, 'bagging_fraction': 0.4834379356096667, 'bagging_freq': 2, 'min_child_samples': 14}. Best is trial 45 with value: 1.0.\n",
      "<ipython-input-41-1c6539846d38>:86: ExperimentalWarning:\n",
      "\n",
      "upload_artifact is experimental (supported from v3.3.0). The interface can change in the future.\n",
      "\n",
      "<ipython-input-41-1c6539846d38>:94: ExperimentalWarning:\n",
      "\n",
      "upload_artifact is experimental (supported from v3.3.0). The interface can change in the future.\n",
      "\n",
      "[I 2024-09-14 12:25:33,432] Trial 719 finished with value: 0.3793900896479452 and parameters: {'lambda_l1': 0.25467129097671104, 'lambda_l2': 0.9093835559836608, 'num_leaves': 22, 'feature_fraction': 0.42912268476681836, 'bagging_fraction': 0.4537018952446587, 'bagging_freq': 1, 'min_child_samples': 7}. Best is trial 45 with value: 1.0.\n",
      "<ipython-input-41-1c6539846d38>:86: ExperimentalWarning:\n",
      "\n",
      "upload_artifact is experimental (supported from v3.3.0). The interface can change in the future.\n",
      "\n",
      "<ipython-input-41-1c6539846d38>:94: ExperimentalWarning:\n",
      "\n",
      "upload_artifact is experimental (supported from v3.3.0). The interface can change in the future.\n",
      "\n",
      "[I 2024-09-14 12:25:44,278] Trial 720 finished with value: 0.3736492955944174 and parameters: {'lambda_l1': 0.4742805038485132, 'lambda_l2': 4.9280618560045, 'num_leaves': 12, 'feature_fraction': 0.5651128983886206, 'bagging_fraction': 0.4656961196848495, 'bagging_freq': 1, 'min_child_samples': 24}. Best is trial 45 with value: 1.0.\n",
      "<ipython-input-41-1c6539846d38>:86: ExperimentalWarning:\n",
      "\n",
      "upload_artifact is experimental (supported from v3.3.0). The interface can change in the future.\n",
      "\n",
      "<ipython-input-41-1c6539846d38>:94: ExperimentalWarning:\n",
      "\n",
      "upload_artifact is experimental (supported from v3.3.0). The interface can change in the future.\n",
      "\n",
      "[I 2024-09-14 12:25:57,233] Trial 721 finished with value: 0.3761393705228022 and parameters: {'lambda_l1': 0.05480525764717459, 'lambda_l2': 9.980187727416556, 'num_leaves': 33, 'feature_fraction': 0.5184570966054656, 'bagging_fraction': 0.8356602857898507, 'bagging_freq': 2, 'min_child_samples': 21}. Best is trial 45 with value: 1.0.\n",
      "[W 2024-09-14 12:26:03,933] Trial 722 failed with parameters: {'lambda_l1': 0.0245876020870771, 'lambda_l2': 3.771767665072203, 'num_leaves': 42, 'feature_fraction': 0.4948428440858416, 'bagging_fraction': 0.531405158301949, 'bagging_freq': 6, 'min_child_samples': 40} because of the following error: KeyboardInterrupt().\n",
      "Traceback (most recent call last):\n",
      "  File \"c:\\Users\\s1093678\\Anaconda3\\lib\\site-packages\\optuna\\study\\_optimize.py\", line 196, in _run_trial\n",
      "    value_or_values = func(trial)\n",
      "  File \"<ipython-input-41-1c6539846d38>\", line 60, in cv_es_lgb_objective\n",
      "    lgb_model = lgb.train(lgb_params,\n",
      "  File \"c:\\Users\\s1093678\\Anaconda3\\lib\\site-packages\\lightgbm\\engine.py\", line 314, in train\n",
      "    evaluation_result_list.extend(booster.eval_valid(feval))\n",
      "  File \"c:\\Users\\s1093678\\Anaconda3\\lib\\site-packages\\lightgbm\\basic.py\", line 4423, in eval_valid\n",
      "    return [\n",
      "  File \"c:\\Users\\s1093678\\Anaconda3\\lib\\site-packages\\lightgbm\\basic.py\", line 4426, in <listcomp>\n",
      "    for item in self.__inner_eval(self.name_valid_sets[i - 1], i, feval)\n",
      "  File \"c:\\Users\\s1093678\\Anaconda3\\lib\\site-packages\\lightgbm\\basic.py\", line 5187, in __inner_eval\n",
      "    feval_ret = eval_function(self.__inner_predict(data_idx), cur_data)\n",
      "  File \"<ipython-input-41-1c6539846d38>\", line 4, in lgb_custom_metric_kappa\n",
      "    value = cohen_kappa_score(dy_true.get_label(),dy_pred.argmax(axis=1),weights = 'quadratic')\n",
      "  File \"c:\\Users\\s1093678\\Anaconda3\\lib\\site-packages\\sklearn\\utils\\validation.py\", line 63, in inner_f\n",
      "    return f(*args, **kwargs)\n",
      "  File \"c:\\Users\\s1093678\\Anaconda3\\lib\\site-packages\\sklearn\\metrics\\_classification.py\", line 618, in cohen_kappa_score\n",
      "    confusion = confusion_matrix(y1, y2, labels=labels,\n",
      "  File \"c:\\Users\\s1093678\\Anaconda3\\lib\\site-packages\\sklearn\\utils\\validation.py\", line 63, in inner_f\n",
      "    return f(*args, **kwargs)\n",
      "  File \"c:\\Users\\s1093678\\Anaconda3\\lib\\site-packages\\sklearn\\metrics\\_classification.py\", line 330, in confusion_matrix\n",
      "    ind = np.logical_and(y_pred < n_labels, y_true < n_labels)\n",
      "KeyboardInterrupt\n",
      "[W 2024-09-14 12:26:03,947] Trial 722 failed with value None.\n"
     ]
    },
    {
     "ename": "KeyboardInterrupt",
     "evalue": "",
     "output_type": "error",
     "traceback": [
      "\u001b[1;31m---------------------------------------------------------------------------\u001b[0m",
      "\u001b[1;31mKeyboardInterrupt\u001b[0m                         Traceback (most recent call last)",
      "\u001b[1;32m<ipython-input-42-3ba8469af45f>\u001b[0m in \u001b[0;36m<module>\u001b[1;34m\u001b[0m\n\u001b[0;32m      8\u001b[0m                             load_if_exists = True)\n\u001b[0;32m      9\u001b[0m \u001b[1;31m#Corro la optimizacion\u001b[0m\u001b[1;33m\u001b[0m\u001b[1;33m\u001b[0m\u001b[1;33m\u001b[0m\u001b[0m\n\u001b[1;32m---> 10\u001b[1;33m \u001b[0mstudy\u001b[0m\u001b[1;33m.\u001b[0m\u001b[0moptimize\u001b[0m\u001b[1;33m(\u001b[0m\u001b[0mcv_es_lgb_objective\u001b[0m\u001b[1;33m,\u001b[0m \u001b[0mn_trials\u001b[0m\u001b[1;33m=\u001b[0m\u001b[1;36m100\u001b[0m\u001b[1;33m)\u001b[0m\u001b[1;33m\u001b[0m\u001b[1;33m\u001b[0m\u001b[0m\n\u001b[0m",
      "\u001b[1;32mc:\\Users\\s1093678\\Anaconda3\\lib\\site-packages\\optuna\\study\\study.py\u001b[0m in \u001b[0;36moptimize\u001b[1;34m(self, func, n_trials, timeout, n_jobs, catch, callbacks, gc_after_trial, show_progress_bar)\u001b[0m\n\u001b[0;32m    449\u001b[0m                 \u001b[0mIf\u001b[0m \u001b[0mnested\u001b[0m \u001b[0minvocation\u001b[0m \u001b[0mof\u001b[0m \u001b[0mthis\u001b[0m \u001b[0mmethod\u001b[0m \u001b[0moccurs\u001b[0m\u001b[1;33m.\u001b[0m\u001b[1;33m\u001b[0m\u001b[1;33m\u001b[0m\u001b[0m\n\u001b[0;32m    450\u001b[0m         \"\"\"\n\u001b[1;32m--> 451\u001b[1;33m         _optimize(\n\u001b[0m\u001b[0;32m    452\u001b[0m             \u001b[0mstudy\u001b[0m\u001b[1;33m=\u001b[0m\u001b[0mself\u001b[0m\u001b[1;33m,\u001b[0m\u001b[1;33m\u001b[0m\u001b[1;33m\u001b[0m\u001b[0m\n\u001b[0;32m    453\u001b[0m             \u001b[0mfunc\u001b[0m\u001b[1;33m=\u001b[0m\u001b[0mfunc\u001b[0m\u001b[1;33m,\u001b[0m\u001b[1;33m\u001b[0m\u001b[1;33m\u001b[0m\u001b[0m\n",
      "\u001b[1;32mc:\\Users\\s1093678\\Anaconda3\\lib\\site-packages\\optuna\\study\\_optimize.py\u001b[0m in \u001b[0;36m_optimize\u001b[1;34m(study, func, n_trials, timeout, n_jobs, catch, callbacks, gc_after_trial, show_progress_bar)\u001b[0m\n\u001b[0;32m     60\u001b[0m     \u001b[1;32mtry\u001b[0m\u001b[1;33m:\u001b[0m\u001b[1;33m\u001b[0m\u001b[1;33m\u001b[0m\u001b[0m\n\u001b[0;32m     61\u001b[0m         \u001b[1;32mif\u001b[0m \u001b[0mn_jobs\u001b[0m \u001b[1;33m==\u001b[0m \u001b[1;36m1\u001b[0m\u001b[1;33m:\u001b[0m\u001b[1;33m\u001b[0m\u001b[1;33m\u001b[0m\u001b[0m\n\u001b[1;32m---> 62\u001b[1;33m             _optimize_sequential(\n\u001b[0m\u001b[0;32m     63\u001b[0m                 \u001b[0mstudy\u001b[0m\u001b[1;33m,\u001b[0m\u001b[1;33m\u001b[0m\u001b[1;33m\u001b[0m\u001b[0m\n\u001b[0;32m     64\u001b[0m                 \u001b[0mfunc\u001b[0m\u001b[1;33m,\u001b[0m\u001b[1;33m\u001b[0m\u001b[1;33m\u001b[0m\u001b[0m\n",
      "\u001b[1;32mc:\\Users\\s1093678\\Anaconda3\\lib\\site-packages\\optuna\\study\\_optimize.py\u001b[0m in \u001b[0;36m_optimize_sequential\u001b[1;34m(study, func, n_trials, timeout, catch, callbacks, gc_after_trial, reseed_sampler_rng, time_start, progress_bar)\u001b[0m\n\u001b[0;32m    157\u001b[0m \u001b[1;33m\u001b[0m\u001b[0m\n\u001b[0;32m    158\u001b[0m         \u001b[1;32mtry\u001b[0m\u001b[1;33m:\u001b[0m\u001b[1;33m\u001b[0m\u001b[1;33m\u001b[0m\u001b[0m\n\u001b[1;32m--> 159\u001b[1;33m             \u001b[0mfrozen_trial\u001b[0m \u001b[1;33m=\u001b[0m \u001b[0m_run_trial\u001b[0m\u001b[1;33m(\u001b[0m\u001b[0mstudy\u001b[0m\u001b[1;33m,\u001b[0m \u001b[0mfunc\u001b[0m\u001b[1;33m,\u001b[0m \u001b[0mcatch\u001b[0m\u001b[1;33m)\u001b[0m\u001b[1;33m\u001b[0m\u001b[1;33m\u001b[0m\u001b[0m\n\u001b[0m\u001b[0;32m    160\u001b[0m         \u001b[1;32mfinally\u001b[0m\u001b[1;33m:\u001b[0m\u001b[1;33m\u001b[0m\u001b[1;33m\u001b[0m\u001b[0m\n\u001b[0;32m    161\u001b[0m             \u001b[1;31m# The following line mitigates memory problems that can be occurred in some\u001b[0m\u001b[1;33m\u001b[0m\u001b[1;33m\u001b[0m\u001b[1;33m\u001b[0m\u001b[0m\n",
      "\u001b[1;32mc:\\Users\\s1093678\\Anaconda3\\lib\\site-packages\\optuna\\study\\_optimize.py\u001b[0m in \u001b[0;36m_run_trial\u001b[1;34m(study, func, catch)\u001b[0m\n\u001b[0;32m    245\u001b[0m         \u001b[1;32mand\u001b[0m \u001b[1;32mnot\u001b[0m \u001b[0misinstance\u001b[0m\u001b[1;33m(\u001b[0m\u001b[0mfunc_err\u001b[0m\u001b[1;33m,\u001b[0m \u001b[0mcatch\u001b[0m\u001b[1;33m)\u001b[0m\u001b[1;33m\u001b[0m\u001b[1;33m\u001b[0m\u001b[0m\n\u001b[0;32m    246\u001b[0m     ):\n\u001b[1;32m--> 247\u001b[1;33m         \u001b[1;32mraise\u001b[0m \u001b[0mfunc_err\u001b[0m\u001b[1;33m\u001b[0m\u001b[1;33m\u001b[0m\u001b[0m\n\u001b[0m\u001b[0;32m    248\u001b[0m     \u001b[1;32mreturn\u001b[0m \u001b[0mfrozen_trial\u001b[0m\u001b[1;33m\u001b[0m\u001b[1;33m\u001b[0m\u001b[0m\n\u001b[0;32m    249\u001b[0m \u001b[1;33m\u001b[0m\u001b[0m\n",
      "\u001b[1;32mc:\\Users\\s1093678\\Anaconda3\\lib\\site-packages\\optuna\\study\\_optimize.py\u001b[0m in \u001b[0;36m_run_trial\u001b[1;34m(study, func, catch)\u001b[0m\n\u001b[0;32m    194\u001b[0m     \u001b[1;32mwith\u001b[0m \u001b[0mget_heartbeat_thread\u001b[0m\u001b[1;33m(\u001b[0m\u001b[0mtrial\u001b[0m\u001b[1;33m.\u001b[0m\u001b[0m_trial_id\u001b[0m\u001b[1;33m,\u001b[0m \u001b[0mstudy\u001b[0m\u001b[1;33m.\u001b[0m\u001b[0m_storage\u001b[0m\u001b[1;33m)\u001b[0m\u001b[1;33m:\u001b[0m\u001b[1;33m\u001b[0m\u001b[1;33m\u001b[0m\u001b[0m\n\u001b[0;32m    195\u001b[0m         \u001b[1;32mtry\u001b[0m\u001b[1;33m:\u001b[0m\u001b[1;33m\u001b[0m\u001b[1;33m\u001b[0m\u001b[0m\n\u001b[1;32m--> 196\u001b[1;33m             \u001b[0mvalue_or_values\u001b[0m \u001b[1;33m=\u001b[0m \u001b[0mfunc\u001b[0m\u001b[1;33m(\u001b[0m\u001b[0mtrial\u001b[0m\u001b[1;33m)\u001b[0m\u001b[1;33m\u001b[0m\u001b[1;33m\u001b[0m\u001b[0m\n\u001b[0m\u001b[0;32m    197\u001b[0m         \u001b[1;32mexcept\u001b[0m \u001b[0mexceptions\u001b[0m\u001b[1;33m.\u001b[0m\u001b[0mTrialPruned\u001b[0m \u001b[1;32mas\u001b[0m \u001b[0me\u001b[0m\u001b[1;33m:\u001b[0m\u001b[1;33m\u001b[0m\u001b[1;33m\u001b[0m\u001b[0m\n\u001b[0;32m    198\u001b[0m             \u001b[1;31m# TODO(mamu): Handle multi-objective cases.\u001b[0m\u001b[1;33m\u001b[0m\u001b[1;33m\u001b[0m\u001b[1;33m\u001b[0m\u001b[0m\n",
      "\u001b[1;32m<ipython-input-41-1c6539846d38>\u001b[0m in \u001b[0;36mcv_es_lgb_objective\u001b[1;34m(trial)\u001b[0m\n\u001b[0;32m     58\u001b[0m \u001b[1;33m\u001b[0m\u001b[0m\n\u001b[0;32m     59\u001b[0m         \u001b[1;31m#Entreno el modelo\u001b[0m\u001b[1;33m\u001b[0m\u001b[1;33m\u001b[0m\u001b[1;33m\u001b[0m\u001b[0m\n\u001b[1;32m---> 60\u001b[1;33m         lgb_model = lgb.train(lgb_params,\n\u001b[0m\u001b[0;32m     61\u001b[0m                                 \u001b[0mlgb_if_dataset\u001b[0m\u001b[1;33m,\u001b[0m\u001b[1;33m\u001b[0m\u001b[1;33m\u001b[0m\u001b[0m\n\u001b[0;32m     62\u001b[0m                                 \u001b[0mvalid_sets\u001b[0m\u001b[1;33m=\u001b[0m\u001b[0mlgb_oof_dataset\u001b[0m\u001b[1;33m,\u001b[0m\u001b[1;33m\u001b[0m\u001b[1;33m\u001b[0m\u001b[0m\n",
      "\u001b[1;32mc:\\Users\\s1093678\\Anaconda3\\lib\\site-packages\\lightgbm\\engine.py\u001b[0m in \u001b[0;36mtrain\u001b[1;34m(params, train_set, num_boost_round, valid_sets, valid_names, feval, init_model, feature_name, categorical_feature, keep_training_booster, callbacks)\u001b[0m\n\u001b[0;32m    312\u001b[0m             \u001b[1;32mif\u001b[0m \u001b[0mis_valid_contain_train\u001b[0m\u001b[1;33m:\u001b[0m\u001b[1;33m\u001b[0m\u001b[1;33m\u001b[0m\u001b[0m\n\u001b[0;32m    313\u001b[0m                 \u001b[0mevaluation_result_list\u001b[0m\u001b[1;33m.\u001b[0m\u001b[0mextend\u001b[0m\u001b[1;33m(\u001b[0m\u001b[0mbooster\u001b[0m\u001b[1;33m.\u001b[0m\u001b[0meval_train\u001b[0m\u001b[1;33m(\u001b[0m\u001b[0mfeval\u001b[0m\u001b[1;33m)\u001b[0m\u001b[1;33m)\u001b[0m\u001b[1;33m\u001b[0m\u001b[1;33m\u001b[0m\u001b[0m\n\u001b[1;32m--> 314\u001b[1;33m             \u001b[0mevaluation_result_list\u001b[0m\u001b[1;33m.\u001b[0m\u001b[0mextend\u001b[0m\u001b[1;33m(\u001b[0m\u001b[0mbooster\u001b[0m\u001b[1;33m.\u001b[0m\u001b[0meval_valid\u001b[0m\u001b[1;33m(\u001b[0m\u001b[0mfeval\u001b[0m\u001b[1;33m)\u001b[0m\u001b[1;33m)\u001b[0m\u001b[1;33m\u001b[0m\u001b[1;33m\u001b[0m\u001b[0m\n\u001b[0m\u001b[0;32m    315\u001b[0m         \u001b[1;32mtry\u001b[0m\u001b[1;33m:\u001b[0m\u001b[1;33m\u001b[0m\u001b[1;33m\u001b[0m\u001b[0m\n\u001b[0;32m    316\u001b[0m             \u001b[1;32mfor\u001b[0m \u001b[0mcb\u001b[0m \u001b[1;32min\u001b[0m \u001b[0mcallbacks_after_iter\u001b[0m\u001b[1;33m:\u001b[0m\u001b[1;33m\u001b[0m\u001b[1;33m\u001b[0m\u001b[0m\n",
      "\u001b[1;32mc:\\Users\\s1093678\\Anaconda3\\lib\\site-packages\\lightgbm\\basic.py\u001b[0m in \u001b[0;36meval_valid\u001b[1;34m(self, feval)\u001b[0m\n\u001b[0;32m   4421\u001b[0m             \u001b[0mList\u001b[0m \u001b[1;32mwith\u001b[0m \u001b[1;33m(\u001b[0m\u001b[0mvalidation_dataset_name\u001b[0m\u001b[1;33m,\u001b[0m \u001b[0meval_name\u001b[0m\u001b[1;33m,\u001b[0m \u001b[0meval_result\u001b[0m\u001b[1;33m,\u001b[0m \u001b[0mis_higher_better\u001b[0m\u001b[1;33m)\u001b[0m \u001b[0mtuples\u001b[0m\u001b[1;33m.\u001b[0m\u001b[1;33m\u001b[0m\u001b[1;33m\u001b[0m\u001b[0m\n\u001b[0;32m   4422\u001b[0m         \"\"\"\n\u001b[1;32m-> 4423\u001b[1;33m         return [\n\u001b[0m\u001b[0;32m   4424\u001b[0m             \u001b[0mitem\u001b[0m\u001b[1;33m\u001b[0m\u001b[1;33m\u001b[0m\u001b[0m\n\u001b[0;32m   4425\u001b[0m             \u001b[1;32mfor\u001b[0m \u001b[0mi\u001b[0m \u001b[1;32min\u001b[0m \u001b[0mrange\u001b[0m\u001b[1;33m(\u001b[0m\u001b[1;36m1\u001b[0m\u001b[1;33m,\u001b[0m \u001b[0mself\u001b[0m\u001b[1;33m.\u001b[0m\u001b[0m__num_dataset\u001b[0m\u001b[1;33m)\u001b[0m\u001b[1;33m\u001b[0m\u001b[1;33m\u001b[0m\u001b[0m\n",
      "\u001b[1;32mc:\\Users\\s1093678\\Anaconda3\\lib\\site-packages\\lightgbm\\basic.py\u001b[0m in \u001b[0;36m<listcomp>\u001b[1;34m(.0)\u001b[0m\n\u001b[0;32m   4424\u001b[0m             \u001b[0mitem\u001b[0m\u001b[1;33m\u001b[0m\u001b[1;33m\u001b[0m\u001b[0m\n\u001b[0;32m   4425\u001b[0m             \u001b[1;32mfor\u001b[0m \u001b[0mi\u001b[0m \u001b[1;32min\u001b[0m \u001b[0mrange\u001b[0m\u001b[1;33m(\u001b[0m\u001b[1;36m1\u001b[0m\u001b[1;33m,\u001b[0m \u001b[0mself\u001b[0m\u001b[1;33m.\u001b[0m\u001b[0m__num_dataset\u001b[0m\u001b[1;33m)\u001b[0m\u001b[1;33m\u001b[0m\u001b[1;33m\u001b[0m\u001b[0m\n\u001b[1;32m-> 4426\u001b[1;33m             \u001b[1;32mfor\u001b[0m \u001b[0mitem\u001b[0m \u001b[1;32min\u001b[0m \u001b[0mself\u001b[0m\u001b[1;33m.\u001b[0m\u001b[0m__inner_eval\u001b[0m\u001b[1;33m(\u001b[0m\u001b[0mself\u001b[0m\u001b[1;33m.\u001b[0m\u001b[0mname_valid_sets\u001b[0m\u001b[1;33m[\u001b[0m\u001b[0mi\u001b[0m \u001b[1;33m-\u001b[0m \u001b[1;36m1\u001b[0m\u001b[1;33m]\u001b[0m\u001b[1;33m,\u001b[0m \u001b[0mi\u001b[0m\u001b[1;33m,\u001b[0m \u001b[0mfeval\u001b[0m\u001b[1;33m)\u001b[0m\u001b[1;33m\u001b[0m\u001b[1;33m\u001b[0m\u001b[0m\n\u001b[0m\u001b[0;32m   4427\u001b[0m         ]\n\u001b[0;32m   4428\u001b[0m \u001b[1;33m\u001b[0m\u001b[0m\n",
      "\u001b[1;32mc:\\Users\\s1093678\\Anaconda3\\lib\\site-packages\\lightgbm\\basic.py\u001b[0m in \u001b[0;36m__inner_eval\u001b[1;34m(self, data_name, data_idx, feval)\u001b[0m\n\u001b[0;32m   5185\u001b[0m                 \u001b[1;32mif\u001b[0m \u001b[0meval_function\u001b[0m \u001b[1;32mis\u001b[0m \u001b[1;32mNone\u001b[0m\u001b[1;33m:\u001b[0m\u001b[1;33m\u001b[0m\u001b[1;33m\u001b[0m\u001b[0m\n\u001b[0;32m   5186\u001b[0m                     \u001b[1;32mcontinue\u001b[0m\u001b[1;33m\u001b[0m\u001b[1;33m\u001b[0m\u001b[0m\n\u001b[1;32m-> 5187\u001b[1;33m                 \u001b[0mfeval_ret\u001b[0m \u001b[1;33m=\u001b[0m \u001b[0meval_function\u001b[0m\u001b[1;33m(\u001b[0m\u001b[0mself\u001b[0m\u001b[1;33m.\u001b[0m\u001b[0m__inner_predict\u001b[0m\u001b[1;33m(\u001b[0m\u001b[0mdata_idx\u001b[0m\u001b[1;33m)\u001b[0m\u001b[1;33m,\u001b[0m \u001b[0mcur_data\u001b[0m\u001b[1;33m)\u001b[0m\u001b[1;33m\u001b[0m\u001b[1;33m\u001b[0m\u001b[0m\n\u001b[0m\u001b[0;32m   5188\u001b[0m                 \u001b[1;32mif\u001b[0m \u001b[0misinstance\u001b[0m\u001b[1;33m(\u001b[0m\u001b[0mfeval_ret\u001b[0m\u001b[1;33m,\u001b[0m \u001b[0mlist\u001b[0m\u001b[1;33m)\u001b[0m\u001b[1;33m:\u001b[0m\u001b[1;33m\u001b[0m\u001b[1;33m\u001b[0m\u001b[0m\n\u001b[0;32m   5189\u001b[0m                     \u001b[1;32mfor\u001b[0m \u001b[0meval_name\u001b[0m\u001b[1;33m,\u001b[0m \u001b[0mval\u001b[0m\u001b[1;33m,\u001b[0m \u001b[0mis_higher_better\u001b[0m \u001b[1;32min\u001b[0m \u001b[0mfeval_ret\u001b[0m\u001b[1;33m:\u001b[0m\u001b[1;33m\u001b[0m\u001b[1;33m\u001b[0m\u001b[0m\n",
      "\u001b[1;32m<ipython-input-41-1c6539846d38>\u001b[0m in \u001b[0;36mlgb_custom_metric_kappa\u001b[1;34m(dy_pred, dy_true)\u001b[0m\n\u001b[0;32m      2\u001b[0m \u001b[1;32mdef\u001b[0m \u001b[0mlgb_custom_metric_kappa\u001b[0m\u001b[1;33m(\u001b[0m\u001b[0mdy_pred\u001b[0m\u001b[1;33m,\u001b[0m \u001b[0mdy_true\u001b[0m\u001b[1;33m)\u001b[0m\u001b[1;33m:\u001b[0m\u001b[1;33m\u001b[0m\u001b[1;33m\u001b[0m\u001b[0m\n\u001b[0;32m      3\u001b[0m     \u001b[0mmetric_name\u001b[0m \u001b[1;33m=\u001b[0m \u001b[1;34m'kappa'\u001b[0m\u001b[1;33m\u001b[0m\u001b[1;33m\u001b[0m\u001b[0m\n\u001b[1;32m----> 4\u001b[1;33m     \u001b[0mvalue\u001b[0m \u001b[1;33m=\u001b[0m \u001b[0mcohen_kappa_score\u001b[0m\u001b[1;33m(\u001b[0m\u001b[0mdy_true\u001b[0m\u001b[1;33m.\u001b[0m\u001b[0mget_label\u001b[0m\u001b[1;33m(\u001b[0m\u001b[1;33m)\u001b[0m\u001b[1;33m,\u001b[0m\u001b[0mdy_pred\u001b[0m\u001b[1;33m.\u001b[0m\u001b[0margmax\u001b[0m\u001b[1;33m(\u001b[0m\u001b[0maxis\u001b[0m\u001b[1;33m=\u001b[0m\u001b[1;36m1\u001b[0m\u001b[1;33m)\u001b[0m\u001b[1;33m,\u001b[0m\u001b[0mweights\u001b[0m \u001b[1;33m=\u001b[0m \u001b[1;34m'quadratic'\u001b[0m\u001b[1;33m)\u001b[0m\u001b[1;33m\u001b[0m\u001b[1;33m\u001b[0m\u001b[0m\n\u001b[0m\u001b[0;32m      5\u001b[0m     \u001b[0mis_higher_better\u001b[0m \u001b[1;33m=\u001b[0m \u001b[1;32mTrue\u001b[0m\u001b[1;33m\u001b[0m\u001b[1;33m\u001b[0m\u001b[0m\n\u001b[0;32m      6\u001b[0m     \u001b[1;32mreturn\u001b[0m\u001b[1;33m(\u001b[0m\u001b[0mmetric_name\u001b[0m\u001b[1;33m,\u001b[0m \u001b[0mvalue\u001b[0m\u001b[1;33m,\u001b[0m \u001b[0mis_higher_better\u001b[0m\u001b[1;33m)\u001b[0m\u001b[1;33m\u001b[0m\u001b[1;33m\u001b[0m\u001b[0m\n",
      "\u001b[1;32mc:\\Users\\s1093678\\Anaconda3\\lib\\site-packages\\sklearn\\utils\\validation.py\u001b[0m in \u001b[0;36minner_f\u001b[1;34m(*args, **kwargs)\u001b[0m\n\u001b[0;32m     61\u001b[0m             \u001b[0mextra_args\u001b[0m \u001b[1;33m=\u001b[0m \u001b[0mlen\u001b[0m\u001b[1;33m(\u001b[0m\u001b[0margs\u001b[0m\u001b[1;33m)\u001b[0m \u001b[1;33m-\u001b[0m \u001b[0mlen\u001b[0m\u001b[1;33m(\u001b[0m\u001b[0mall_args\u001b[0m\u001b[1;33m)\u001b[0m\u001b[1;33m\u001b[0m\u001b[1;33m\u001b[0m\u001b[0m\n\u001b[0;32m     62\u001b[0m             \u001b[1;32mif\u001b[0m \u001b[0mextra_args\u001b[0m \u001b[1;33m<=\u001b[0m \u001b[1;36m0\u001b[0m\u001b[1;33m:\u001b[0m\u001b[1;33m\u001b[0m\u001b[1;33m\u001b[0m\u001b[0m\n\u001b[1;32m---> 63\u001b[1;33m                 \u001b[1;32mreturn\u001b[0m \u001b[0mf\u001b[0m\u001b[1;33m(\u001b[0m\u001b[1;33m*\u001b[0m\u001b[0margs\u001b[0m\u001b[1;33m,\u001b[0m \u001b[1;33m**\u001b[0m\u001b[0mkwargs\u001b[0m\u001b[1;33m)\u001b[0m\u001b[1;33m\u001b[0m\u001b[1;33m\u001b[0m\u001b[0m\n\u001b[0m\u001b[0;32m     64\u001b[0m \u001b[1;33m\u001b[0m\u001b[0m\n\u001b[0;32m     65\u001b[0m             \u001b[1;31m# extra_args > 0\u001b[0m\u001b[1;33m\u001b[0m\u001b[1;33m\u001b[0m\u001b[1;33m\u001b[0m\u001b[0m\n",
      "\u001b[1;32mc:\\Users\\s1093678\\Anaconda3\\lib\\site-packages\\sklearn\\metrics\\_classification.py\u001b[0m in \u001b[0;36mcohen_kappa_score\u001b[1;34m(y1, y2, labels, weights, sample_weight)\u001b[0m\n\u001b[0;32m    616\u001b[0m             \u001b[1;33m<\u001b[0m\u001b[0mhttps\u001b[0m\u001b[1;33m:\u001b[0m\u001b[1;33m//\u001b[0m\u001b[0men\u001b[0m\u001b[1;33m.\u001b[0m\u001b[0mwikipedia\u001b[0m\u001b[1;33m.\u001b[0m\u001b[0morg\u001b[0m\u001b[1;33m/\u001b[0m\u001b[0mwiki\u001b[0m\u001b[1;33m/\u001b[0m\u001b[0mCohen\u001b[0m\u001b[1;33m%\u001b[0m\u001b[1;36m27\u001b[0m\u001b[0ms_kappa\u001b[0m\u001b[1;33m>\u001b[0m\u001b[0;31m`\u001b[0m\u001b[0m_\u001b[0m\u001b[1;33m.\u001b[0m\u001b[1;33m\u001b[0m\u001b[1;33m\u001b[0m\u001b[0m\n\u001b[0;32m    617\u001b[0m     \"\"\"\n\u001b[1;32m--> 618\u001b[1;33m     confusion = confusion_matrix(y1, y2, labels=labels,\n\u001b[0m\u001b[0;32m    619\u001b[0m                                  sample_weight=sample_weight)\n\u001b[0;32m    620\u001b[0m     \u001b[0mn_classes\u001b[0m \u001b[1;33m=\u001b[0m \u001b[0mconfusion\u001b[0m\u001b[1;33m.\u001b[0m\u001b[0mshape\u001b[0m\u001b[1;33m[\u001b[0m\u001b[1;36m0\u001b[0m\u001b[1;33m]\u001b[0m\u001b[1;33m\u001b[0m\u001b[1;33m\u001b[0m\u001b[0m\n",
      "\u001b[1;32mc:\\Users\\s1093678\\Anaconda3\\lib\\site-packages\\sklearn\\utils\\validation.py\u001b[0m in \u001b[0;36minner_f\u001b[1;34m(*args, **kwargs)\u001b[0m\n\u001b[0;32m     61\u001b[0m             \u001b[0mextra_args\u001b[0m \u001b[1;33m=\u001b[0m \u001b[0mlen\u001b[0m\u001b[1;33m(\u001b[0m\u001b[0margs\u001b[0m\u001b[1;33m)\u001b[0m \u001b[1;33m-\u001b[0m \u001b[0mlen\u001b[0m\u001b[1;33m(\u001b[0m\u001b[0mall_args\u001b[0m\u001b[1;33m)\u001b[0m\u001b[1;33m\u001b[0m\u001b[1;33m\u001b[0m\u001b[0m\n\u001b[0;32m     62\u001b[0m             \u001b[1;32mif\u001b[0m \u001b[0mextra_args\u001b[0m \u001b[1;33m<=\u001b[0m \u001b[1;36m0\u001b[0m\u001b[1;33m:\u001b[0m\u001b[1;33m\u001b[0m\u001b[1;33m\u001b[0m\u001b[0m\n\u001b[1;32m---> 63\u001b[1;33m                 \u001b[1;32mreturn\u001b[0m \u001b[0mf\u001b[0m\u001b[1;33m(\u001b[0m\u001b[1;33m*\u001b[0m\u001b[0margs\u001b[0m\u001b[1;33m,\u001b[0m \u001b[1;33m**\u001b[0m\u001b[0mkwargs\u001b[0m\u001b[1;33m)\u001b[0m\u001b[1;33m\u001b[0m\u001b[1;33m\u001b[0m\u001b[0m\n\u001b[0m\u001b[0;32m     64\u001b[0m \u001b[1;33m\u001b[0m\u001b[0m\n\u001b[0;32m     65\u001b[0m             \u001b[1;31m# extra_args > 0\u001b[0m\u001b[1;33m\u001b[0m\u001b[1;33m\u001b[0m\u001b[1;33m\u001b[0m\u001b[0m\n",
      "\u001b[1;32mc:\\Users\\s1093678\\Anaconda3\\lib\\site-packages\\sklearn\\metrics\\_classification.py\u001b[0m in \u001b[0;36mconfusion_matrix\u001b[1;34m(y_true, y_pred, labels, sample_weight, normalize)\u001b[0m\n\u001b[0;32m    328\u001b[0m \u001b[1;33m\u001b[0m\u001b[0m\n\u001b[0;32m    329\u001b[0m     \u001b[1;31m# intersect y_pred, y_true with labels, eliminate items not in labels\u001b[0m\u001b[1;33m\u001b[0m\u001b[1;33m\u001b[0m\u001b[1;33m\u001b[0m\u001b[0m\n\u001b[1;32m--> 330\u001b[1;33m     \u001b[0mind\u001b[0m \u001b[1;33m=\u001b[0m \u001b[0mnp\u001b[0m\u001b[1;33m.\u001b[0m\u001b[0mlogical_and\u001b[0m\u001b[1;33m(\u001b[0m\u001b[0my_pred\u001b[0m \u001b[1;33m<\u001b[0m \u001b[0mn_labels\u001b[0m\u001b[1;33m,\u001b[0m \u001b[0my_true\u001b[0m \u001b[1;33m<\u001b[0m \u001b[0mn_labels\u001b[0m\u001b[1;33m)\u001b[0m\u001b[1;33m\u001b[0m\u001b[1;33m\u001b[0m\u001b[0m\n\u001b[0m\u001b[0;32m    331\u001b[0m     \u001b[0my_pred\u001b[0m \u001b[1;33m=\u001b[0m \u001b[0my_pred\u001b[0m\u001b[1;33m[\u001b[0m\u001b[0mind\u001b[0m\u001b[1;33m]\u001b[0m\u001b[1;33m\u001b[0m\u001b[1;33m\u001b[0m\u001b[0m\n\u001b[0;32m    332\u001b[0m     \u001b[0my_true\u001b[0m \u001b[1;33m=\u001b[0m \u001b[0my_true\u001b[0m\u001b[1;33m[\u001b[0m\u001b[0mind\u001b[0m\u001b[1;33m]\u001b[0m\u001b[1;33m\u001b[0m\u001b[1;33m\u001b[0m\u001b[0m\n",
      "\u001b[1;31mKeyboardInterrupt\u001b[0m: "
     ]
    }
   ],
   "source": [
    "#Inicio el store de artefactos (archivos) de optuna\n",
    "artifact_store = FileSystemArtifactStore(base_path=PATH_TO_OPTUNA_ARTIFACTS)\n",
    "\n",
    "#Genero estudio\n",
    "study = optuna.create_study(direction='maximize',\n",
    "                            storage=\"sqlite:///work/db.sqlite3\",  # Specify the storage URL here.\n",
    "                            study_name=\"04 - LGB Multiclass CV\",\n",
    "                            load_if_exists = True)\n",
    "#Corro la optimizacion\n",
    "study.optimize(cv_es_lgb_objective, n_trials=100)"
   ]
  },
  {
   "cell_type": "markdown",
   "metadata": {},
   "source": [
    "Para ver el optuna dashboard tengo que correr este comando en la terminal"
   ]
  },
  {
   "cell_type": "code",
   "execution_count": 39,
   "metadata": {},
   "outputs": [
    {
     "name": "stdout",
     "output_type": "stream",
     "text": [
      "Requirement already satisfied: kaleido in c:\\users\\s1093678\\anaconda3\\lib\\site-packages (0.2.1)\n"
     ]
    }
   ],
   "source": [
    "!pip install kaleido\n"
   ]
  },
  {
   "cell_type": "code",
   "execution_count": 40,
   "metadata": {},
   "outputs": [
    {
     "name": "stderr",
     "output_type": "stream",
     "text": [
      "Traceback (most recent call last):\n",
      "  File \"c:\\users\\s1093678\\anaconda3\\lib\\runpy.py\", line 194, in _run_module_as_main\n",
      "    return _run_code(code, main_globals, None,\n",
      "  File \"c:\\users\\s1093678\\anaconda3\\lib\\runpy.py\", line 87, in _run_code\n",
      "    exec(code, run_globals)\n",
      "  File \"C:\\Users\\s1093678\\Anaconda3\\Scripts\\optuna-dashboard.exe\\__main__.py\", line 7, in <module>\n",
      "  File \"c:\\users\\s1093678\\anaconda3\\lib\\site-packages\\optuna_dashboard\\_cli.py\", line 119, in main\n",
      "    storage = get_storage(args.storage, storage_class=args.storage_class)\n",
      "  File \"c:\\users\\s1093678\\anaconda3\\lib\\site-packages\\optuna_dashboard\\_storage_url.py\", line 59, in get_storage\n",
      "    return guess_storage_from_url(storage)\n",
      "  File \"c:\\users\\s1093678\\anaconda3\\lib\\site-packages\\optuna_dashboard\\_storage_url.py\", line 84, in guess_storage_from_url\n",
      "    return get_rdb_storage(storage_url)\n",
      "  File \"c:\\users\\s1093678\\anaconda3\\lib\\site-packages\\optuna_dashboard\\_storage_url.py\", line 91, in get_rdb_storage\n",
      "    return RDBStorage(storage_url, skip_compatibility_check=True, skip_table_creation=True)\n",
      "  File \"c:\\users\\s1093678\\anaconda3\\lib\\site-packages\\optuna\\storages\\_rdb\\storage.py\", line 218, in __init__\n",
      "    self.engine = sqlalchemy.engine.create_engine(self.url, **self.engine_kwargs)\n",
      "  File \"<string>\", line 2, in create_engine\n",
      "  File \"c:\\users\\s1093678\\anaconda3\\lib\\site-packages\\sqlalchemy\\util\\deprecations.py\", line 298, in warned\n",
      "    return fn(*args, **kwargs)\n",
      "  File \"c:\\users\\s1093678\\anaconda3\\lib\\site-packages\\sqlalchemy\\engine\\create.py\", line 564, in create_engine\n",
      "    (cargs, cparams) = dialect.create_connect_args(u)\n",
      "  File \"c:\\users\\s1093678\\anaconda3\\lib\\site-packages\\sqlalchemy\\dialects\\sqlite\\pysqlite.py\", line 542, in create_connect_args\n",
      "    raise exc.ArgumentError(\n",
      "sqlalchemy.exc.ArgumentError: Invalid SQLite URL: sqlite://work/db.sqlite3\n",
      "Valid SQLite URL forms are:\n",
      " sqlite:///:memory: (or, sqlite://)\n",
      " sqlite:///relative/path/to/file.db\n",
      " sqlite:////absolute/path/to/file.db\n"
     ]
    }
   ],
   "source": [
    "!optuna-dashboard sqlite://work/db.sqlite3 --artifact-dir ../work/optuna_artifacts --port 8081"
   ]
  },
  {
   "cell_type": "code",
   "execution_count": 41,
   "metadata": {},
   "outputs": [],
   "source": [
    "#para proxima clase hacer feature engeneering (agregar feature, health , colores, etc) pq hasta aca solo s ehizo con los variables numericas\n",
    "#TENER UN MODELO CANDIDATO TABULAR PARA SEGUIR ADELANTE \n",
    "#VAMOS A VER LA EJECUCION DE UN MODELO PARA BUCAR HIPERPARAMETROS ETC \n",
    "#DAR CON UN MODELO GANADOR\n"
   ]
  }
 ],
 "metadata": {
  "kernelspec": {
   "display_name": "ldi2",
   "language": "python",
   "name": "python3"
  },
  "language_info": {
   "codemirror_mode": {
    "name": "ipython",
    "version": 3
   },
   "file_extension": ".py",
   "mimetype": "text/x-python",
   "name": "python",
   "nbconvert_exporter": "python",
   "pygments_lexer": "ipython3",
   "version": "3.8.8"
  }
 },
 "nbformat": 4,
 "nbformat_minor": 2
}
