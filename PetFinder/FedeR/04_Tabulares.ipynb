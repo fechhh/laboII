{
 "cells": [
  {
   "cell_type": "markdown",
   "metadata": {},
   "source": [
    "## Modelo datos estructurados\n",
    "Este notebook desarrolla un primer modelo para resolver el problema de Petfinder. Empezamos haciendo un modelo inicial muy simple para ver la viabilidad de resolver el problema. Luego analizamos como se comporta la métrica kappa propuesta y vemos la matriz de confusión. Finalmente hacemos una optimizacin de hiperparametros evaluando con train/test y otra validando con 5 fold CV y testeando en el 20% de los datos"
   ]
  },
  {
   "cell_type": "code",
   "execution_count": 1,
   "metadata": {},
   "outputs": [],
   "source": [
    "#Import de librerias basicas tablas y matrices\n",
    "import numpy as np \n",
    "import pandas as pd \n",
    "\n",
    "#Gradient Boosting\n",
    "import lightgbm as lgb\n",
    "\n",
    "#Funciones auxiliares sklearn\n",
    "from sklearn.preprocessing import MinMaxScaler\n",
    "from sklearn.model_selection import train_test_split, StratifiedKFold #Split y cross Validation\n",
    "from sklearn.metrics import cohen_kappa_score, accuracy_score, balanced_accuracy_score #Metricas\n",
    "# from sklearn.utils import shuffle \n",
    "\n",
    "#Visualizacióon\n",
    "from plotly import express as px\n",
    "\n",
    "#Plot de matriz de confusion normalizada en actuals\n",
    "from utils import plot_confusion_matrix\n",
    "\n",
    "import os\n",
    "\n",
    "#Optimizacion de hiperparametros\n",
    "import optuna\n",
    "from optuna.artifacts import FileSystemArtifactStore, upload_artifact\n",
    "\n",
    "#Guardado de objetos en archivos joblib\n",
    "from joblib import load, dump\n"
   ]
  },
  {
   "cell_type": "code",
   "execution_count": 2,
   "metadata": {},
   "outputs": [],
   "source": [
    "#PONER LA ESTRUCUTRA DE CARPETAS COMO SE VE AQUI ABAJO !!!"
   ]
  },
  {
   "cell_type": "code",
   "execution_count": 3,
   "metadata": {},
   "outputs": [],
   "source": [
    "# Paths para acceso archivos\n",
    "#Este notebook asume la siguiente estructura de carpetas a partir de la ubicacion de base_dir \n",
    "#(dos niveles arriba de la carpeta donde se ejecuta el notebook). \n",
    "# /UA_MDM_LDI_II/\n",
    "# /UA_MDM_LDI_II/input\n",
    "# /UA_MDM_LDI_II/input/petfinder-adoption-prediction/            <- Aca deben ir todos los archivos de datos de la competencia \n",
    "# /UA_MDM_LDI_II/tutoriales/                       <- Aca deben poner los notebooks y scripts que les compartimos\n",
    "# /UA_MDM_LDI_II/work/                             <- Resultados de notebooks iran dentro de esta carpeta en subcarpetas\n",
    "# /UA_MDM_LDI_II/work/models/                     <- Modelos entrenados en archivos joblibs\n",
    "# /UA_MDM_LDI_II/work/optuna_temp_artifacts/      <- Archivos que queremos dejar como artefacto de un trial de optuna (optuna los copiara a la carpeta de abajo)\n",
    "# /UA_MDM_LDI_II/work/optuna_artifacts/           <- Archivos con artefactos que sibimos a optuna\n",
    "\n",
    "#Subimos dos niveles para quedar en la carpeta que contiene input y UA_MDM_LDI_II\n",
    "BASE_DIR = ''\n",
    "\n",
    "#Datos de entrenamiento \n",
    "PATH_TO_TRAIN = os.path.join(BASE_DIR, \"input/petfinder-adoption-prediction/train/train.csv\")\n",
    "\n",
    "#Salida de modelos entrenados\n",
    "PATH_TO_MODELS = os.path.join(BASE_DIR, \"work/models\")\n",
    "\n",
    "#Artefactos a subir a optuna\n",
    "PATH_TO_TEMP_FILES = os.path.join(BASE_DIR, \"work/optuna_temp_artifacts\")\n",
    "\n",
    "#Artefactos que optuna gestiona\n",
    "PATH_TO_OPTUNA_ARTIFACTS = os.path.join(BASE_DIR, \"work/optuna_artifacts\")\n",
    "\n",
    "\n",
    "SEED = 42 #Semilla de procesos aleatorios (para poder replicar exactamente al volver a correr un modelo)\n",
    "TEST_SIZE = 0.2 #Facción para train/test= split \n",
    "\n",
    "#PONER CUALQUIER SEMILLLA Y 20% DEL DATASTE USAMOS"
   ]
  },
  {
   "cell_type": "code",
   "execution_count": 4,
   "metadata": {},
   "outputs": [],
   "source": [
    "#NUESTRO TODO ES TRAIN ... ENTONCES EN BASE A ESE DATASET HACEMOS TRAIN Y TEST"
   ]
  },
  {
   "cell_type": "code",
   "execution_count": 5,
   "metadata": {},
   "outputs": [],
   "source": [
    "# Datos Tabulares\n",
    "dataset = pd.read_csv(PATH_TO_TRAIN)"
   ]
  },
  {
   "cell_type": "code",
   "execution_count": 6,
   "metadata": {},
   "outputs": [
    {
     "data": {
      "text/plain": [
       "Index(['Type', 'Name', 'Age', 'Breed1', 'Breed2', 'Gender', 'Color1', 'Color2',\n",
       "       'Color3', 'MaturitySize', 'FurLength', 'Vaccinated', 'Dewormed',\n",
       "       'Sterilized', 'Health', 'Quantity', 'Fee', 'State', 'RescuerID',\n",
       "       'VideoAmt', 'Description', 'PetID', 'PhotoAmt', 'AdoptionSpeed'],\n",
       "      dtype='object')"
      ]
     },
     "execution_count": 6,
     "metadata": {},
     "output_type": "execute_result"
    }
   ],
   "source": [
    "#Columnas del dataset\n",
    "dataset.columns"
   ]
  },
  {
   "cell_type": "code",
   "execution_count": 7,
   "metadata": {},
   "outputs": [
    {
     "data": {
      "text/html": [
       "<div>\n",
       "<style scoped>\n",
       "    .dataframe tbody tr th:only-of-type {\n",
       "        vertical-align: middle;\n",
       "    }\n",
       "\n",
       "    .dataframe tbody tr th {\n",
       "        vertical-align: top;\n",
       "    }\n",
       "\n",
       "    .dataframe thead th {\n",
       "        text-align: right;\n",
       "    }\n",
       "</style>\n",
       "<table border=\"1\" class=\"dataframe\">\n",
       "  <thead>\n",
       "    <tr style=\"text-align: right;\">\n",
       "      <th></th>\n",
       "      <th>Type</th>\n",
       "      <th>Name</th>\n",
       "      <th>Age</th>\n",
       "      <th>Breed1</th>\n",
       "      <th>Breed2</th>\n",
       "      <th>Gender</th>\n",
       "      <th>Color1</th>\n",
       "      <th>Color2</th>\n",
       "      <th>Color3</th>\n",
       "      <th>MaturitySize</th>\n",
       "      <th>...</th>\n",
       "      <th>Health</th>\n",
       "      <th>Quantity</th>\n",
       "      <th>Fee</th>\n",
       "      <th>State</th>\n",
       "      <th>RescuerID</th>\n",
       "      <th>VideoAmt</th>\n",
       "      <th>Description</th>\n",
       "      <th>PetID</th>\n",
       "      <th>PhotoAmt</th>\n",
       "      <th>AdoptionSpeed</th>\n",
       "    </tr>\n",
       "  </thead>\n",
       "  <tbody>\n",
       "    <tr>\n",
       "      <th>0</th>\n",
       "      <td>2</td>\n",
       "      <td>Nibble</td>\n",
       "      <td>3</td>\n",
       "      <td>299</td>\n",
       "      <td>0</td>\n",
       "      <td>1</td>\n",
       "      <td>1</td>\n",
       "      <td>7</td>\n",
       "      <td>0</td>\n",
       "      <td>1</td>\n",
       "      <td>...</td>\n",
       "      <td>1</td>\n",
       "      <td>1</td>\n",
       "      <td>100</td>\n",
       "      <td>41326</td>\n",
       "      <td>8480853f516546f6cf33aa88cd76c379</td>\n",
       "      <td>0</td>\n",
       "      <td>Nibble is a 3+ month old ball of cuteness. He ...</td>\n",
       "      <td>86e1089a3</td>\n",
       "      <td>1.0</td>\n",
       "      <td>2</td>\n",
       "    </tr>\n",
       "    <tr>\n",
       "      <th>1</th>\n",
       "      <td>2</td>\n",
       "      <td>No Name Yet</td>\n",
       "      <td>1</td>\n",
       "      <td>265</td>\n",
       "      <td>0</td>\n",
       "      <td>1</td>\n",
       "      <td>1</td>\n",
       "      <td>2</td>\n",
       "      <td>0</td>\n",
       "      <td>2</td>\n",
       "      <td>...</td>\n",
       "      <td>1</td>\n",
       "      <td>1</td>\n",
       "      <td>0</td>\n",
       "      <td>41401</td>\n",
       "      <td>3082c7125d8fb66f7dd4bff4192c8b14</td>\n",
       "      <td>0</td>\n",
       "      <td>I just found it alone yesterday near my apartm...</td>\n",
       "      <td>6296e909a</td>\n",
       "      <td>2.0</td>\n",
       "      <td>0</td>\n",
       "    </tr>\n",
       "    <tr>\n",
       "      <th>2</th>\n",
       "      <td>1</td>\n",
       "      <td>Brisco</td>\n",
       "      <td>1</td>\n",
       "      <td>307</td>\n",
       "      <td>0</td>\n",
       "      <td>1</td>\n",
       "      <td>2</td>\n",
       "      <td>7</td>\n",
       "      <td>0</td>\n",
       "      <td>2</td>\n",
       "      <td>...</td>\n",
       "      <td>1</td>\n",
       "      <td>1</td>\n",
       "      <td>0</td>\n",
       "      <td>41326</td>\n",
       "      <td>fa90fa5b1ee11c86938398b60abc32cb</td>\n",
       "      <td>0</td>\n",
       "      <td>Their pregnant mother was dumped by her irresp...</td>\n",
       "      <td>3422e4906</td>\n",
       "      <td>7.0</td>\n",
       "      <td>3</td>\n",
       "    </tr>\n",
       "    <tr>\n",
       "      <th>3</th>\n",
       "      <td>1</td>\n",
       "      <td>Miko</td>\n",
       "      <td>4</td>\n",
       "      <td>307</td>\n",
       "      <td>0</td>\n",
       "      <td>2</td>\n",
       "      <td>1</td>\n",
       "      <td>2</td>\n",
       "      <td>0</td>\n",
       "      <td>2</td>\n",
       "      <td>...</td>\n",
       "      <td>1</td>\n",
       "      <td>1</td>\n",
       "      <td>150</td>\n",
       "      <td>41401</td>\n",
       "      <td>9238e4f44c71a75282e62f7136c6b240</td>\n",
       "      <td>0</td>\n",
       "      <td>Good guard dog, very alert, active, obedience ...</td>\n",
       "      <td>5842f1ff5</td>\n",
       "      <td>8.0</td>\n",
       "      <td>2</td>\n",
       "    </tr>\n",
       "    <tr>\n",
       "      <th>4</th>\n",
       "      <td>1</td>\n",
       "      <td>Hunter</td>\n",
       "      <td>1</td>\n",
       "      <td>307</td>\n",
       "      <td>0</td>\n",
       "      <td>1</td>\n",
       "      <td>1</td>\n",
       "      <td>0</td>\n",
       "      <td>0</td>\n",
       "      <td>2</td>\n",
       "      <td>...</td>\n",
       "      <td>1</td>\n",
       "      <td>1</td>\n",
       "      <td>0</td>\n",
       "      <td>41326</td>\n",
       "      <td>95481e953f8aed9ec3d16fc4509537e8</td>\n",
       "      <td>0</td>\n",
       "      <td>This handsome yet cute boy is up for adoption....</td>\n",
       "      <td>850a43f90</td>\n",
       "      <td>3.0</td>\n",
       "      <td>2</td>\n",
       "    </tr>\n",
       "  </tbody>\n",
       "</table>\n",
       "<p>5 rows × 24 columns</p>\n",
       "</div>"
      ],
      "text/plain": [
       "   Type         Name  Age  Breed1  Breed2  Gender  Color1  Color2  Color3  \\\n",
       "0     2       Nibble    3     299       0       1       1       7       0   \n",
       "1     2  No Name Yet    1     265       0       1       1       2       0   \n",
       "2     1       Brisco    1     307       0       1       2       7       0   \n",
       "3     1         Miko    4     307       0       2       1       2       0   \n",
       "4     1       Hunter    1     307       0       1       1       0       0   \n",
       "\n",
       "   MaturitySize  ...  Health  Quantity  Fee  State  \\\n",
       "0             1  ...       1         1  100  41326   \n",
       "1             2  ...       1         1    0  41401   \n",
       "2             2  ...       1         1    0  41326   \n",
       "3             2  ...       1         1  150  41401   \n",
       "4             2  ...       1         1    0  41326   \n",
       "\n",
       "                          RescuerID  VideoAmt  \\\n",
       "0  8480853f516546f6cf33aa88cd76c379         0   \n",
       "1  3082c7125d8fb66f7dd4bff4192c8b14         0   \n",
       "2  fa90fa5b1ee11c86938398b60abc32cb         0   \n",
       "3  9238e4f44c71a75282e62f7136c6b240         0   \n",
       "4  95481e953f8aed9ec3d16fc4509537e8         0   \n",
       "\n",
       "                                         Description      PetID PhotoAmt  \\\n",
       "0  Nibble is a 3+ month old ball of cuteness. He ...  86e1089a3      1.0   \n",
       "1  I just found it alone yesterday near my apartm...  6296e909a      2.0   \n",
       "2  Their pregnant mother was dumped by her irresp...  3422e4906      7.0   \n",
       "3  Good guard dog, very alert, active, obedience ...  5842f1ff5      8.0   \n",
       "4  This handsome yet cute boy is up for adoption....  850a43f90      3.0   \n",
       "\n",
       "   AdoptionSpeed  \n",
       "0              2  \n",
       "1              0  \n",
       "2              3  \n",
       "3              2  \n",
       "4              2  \n",
       "\n",
       "[5 rows x 24 columns]"
      ]
     },
     "execution_count": 7,
     "metadata": {},
     "output_type": "execute_result"
    }
   ],
   "source": [
    "dataset.head()"
   ]
  },
  {
   "cell_type": "markdown",
   "metadata": {},
   "source": [
    "## FEATURE ENGENEERING\n",
    "Haremos modificaciones en el dataset para ver si mejora o no la fuerza predictiva del modelo base"
   ]
  },
  {
   "cell_type": "code",
   "execution_count": 8,
   "metadata": {},
   "outputs": [
    {
     "data": {
      "text/plain": [
       "Type              0\n",
       "Name              0\n",
       "Age               0\n",
       "Breed1            0\n",
       "Breed2            0\n",
       "Gender            0\n",
       "Color1            0\n",
       "Color2            0\n",
       "Color3            0\n",
       "MaturitySize      0\n",
       "FurLength         0\n",
       "Vaccinated        0\n",
       "Dewormed          0\n",
       "Sterilized        0\n",
       "Health            0\n",
       "Quantity          0\n",
       "Fee               0\n",
       "State             0\n",
       "RescuerID         0\n",
       "VideoAmt          0\n",
       "Description      12\n",
       "PetID             0\n",
       "PhotoAmt          0\n",
       "AdoptionSpeed     0\n",
       "dtype: int64"
      ]
     },
     "execution_count": 8,
     "metadata": {},
     "output_type": "execute_result"
    }
   ],
   "source": [
    "#Imputar datos faltantes en Nombre\n",
    "dataset['Name'].fillna('No Name Yet', inplace=True)\n",
    "dataset['Name'] = dataset['Name'].replace('', 'No Name Yet')\n",
    "dataset.isnull().sum()"
   ]
  },
  {
   "cell_type": "code",
   "execution_count": 9,
   "metadata": {},
   "outputs": [],
   "source": [
    "#Nuevas variables \n",
    "\n",
    "# Age categorization\n",
    "# Create age categories based on the age of the pets\n",
    "bins = [0, 12, 60, float('inf')]  # Define the age bins for puppy, adult, and senior\n",
    "labels = [1,2 ,3 ] #1='puppy' 2='adult' 3='senior'\n",
    "dataset['AgeCategory'] = pd.cut(dataset['Age'], bins, labels=labels, right=False)\n",
    "\n",
    "# Breed combination\n",
    "# Create a new feature that indicates whether the pet is a purebred(1) or a mix(2)\n",
    "dataset['Breed'] = dataset.apply(lambda row: 2 if row['Breed2'] != 0 else 1, axis=1)\n",
    "\n",
    "# Color analysis\n",
    "# Analyze the color combinations to create new features such as \"IsMultiColored\" or specific color categories\n",
    "dataset['IsMultiColored'] = dataset.apply(lambda row: 1 if row['Color2'] != 0 or row['Color3'] != 0 else 0, axis=1)\n",
    "\n",
    "#Name code\n",
    "dataset['name_code'] = dataset['Name'].apply(lambda x: 1 if x != 'No Name Yet' else 0)\n",
    "\n"
   ]
  },
  {
   "cell_type": "code",
   "execution_count": 10,
   "metadata": {},
   "outputs": [],
   "source": [
    "#Escalar normalizar \n",
    "# Select the numerical features that you want to normalize or scale\n",
    "numerical_features = ['Breed1']  # Add the names of the numerical columns you want to scale\n",
    "\n",
    "# Initialize the MinMaxScaler\n",
    "scaler = MinMaxScaler()\n",
    "\n",
    "# Apply the scaler to the selected numerical features\n",
    "dataset[numerical_features] = scaler.fit_transform(dataset[numerical_features])"
   ]
  },
  {
   "cell_type": "code",
   "execution_count": 11,
   "metadata": {},
   "outputs": [
    {
     "data": {
      "text/html": [
       "<div>\n",
       "<style scoped>\n",
       "    .dataframe tbody tr th:only-of-type {\n",
       "        vertical-align: middle;\n",
       "    }\n",
       "\n",
       "    .dataframe tbody tr th {\n",
       "        vertical-align: top;\n",
       "    }\n",
       "\n",
       "    .dataframe thead th {\n",
       "        text-align: right;\n",
       "    }\n",
       "</style>\n",
       "<table border=\"1\" class=\"dataframe\">\n",
       "  <thead>\n",
       "    <tr style=\"text-align: right;\">\n",
       "      <th></th>\n",
       "      <th>Type</th>\n",
       "      <th>Name</th>\n",
       "      <th>Age</th>\n",
       "      <th>Breed1</th>\n",
       "      <th>Breed2</th>\n",
       "      <th>Gender</th>\n",
       "      <th>Color1</th>\n",
       "      <th>Color2</th>\n",
       "      <th>Color3</th>\n",
       "      <th>MaturitySize</th>\n",
       "      <th>...</th>\n",
       "      <th>RescuerID</th>\n",
       "      <th>VideoAmt</th>\n",
       "      <th>Description</th>\n",
       "      <th>PetID</th>\n",
       "      <th>PhotoAmt</th>\n",
       "      <th>AdoptionSpeed</th>\n",
       "      <th>AgeCategory</th>\n",
       "      <th>Breed</th>\n",
       "      <th>IsMultiColored</th>\n",
       "      <th>name_code</th>\n",
       "    </tr>\n",
       "  </thead>\n",
       "  <tbody>\n",
       "    <tr>\n",
       "      <th>0</th>\n",
       "      <td>2</td>\n",
       "      <td>Nibble</td>\n",
       "      <td>3</td>\n",
       "      <td>0.973941</td>\n",
       "      <td>0</td>\n",
       "      <td>1</td>\n",
       "      <td>1</td>\n",
       "      <td>7</td>\n",
       "      <td>0</td>\n",
       "      <td>1</td>\n",
       "      <td>...</td>\n",
       "      <td>8480853f516546f6cf33aa88cd76c379</td>\n",
       "      <td>0</td>\n",
       "      <td>Nibble is a 3+ month old ball of cuteness. He ...</td>\n",
       "      <td>86e1089a3</td>\n",
       "      <td>1.0</td>\n",
       "      <td>2</td>\n",
       "      <td>1</td>\n",
       "      <td>1</td>\n",
       "      <td>1</td>\n",
       "      <td>1</td>\n",
       "    </tr>\n",
       "    <tr>\n",
       "      <th>1</th>\n",
       "      <td>2</td>\n",
       "      <td>No Name Yet</td>\n",
       "      <td>1</td>\n",
       "      <td>0.863192</td>\n",
       "      <td>0</td>\n",
       "      <td>1</td>\n",
       "      <td>1</td>\n",
       "      <td>2</td>\n",
       "      <td>0</td>\n",
       "      <td>2</td>\n",
       "      <td>...</td>\n",
       "      <td>3082c7125d8fb66f7dd4bff4192c8b14</td>\n",
       "      <td>0</td>\n",
       "      <td>I just found it alone yesterday near my apartm...</td>\n",
       "      <td>6296e909a</td>\n",
       "      <td>2.0</td>\n",
       "      <td>0</td>\n",
       "      <td>1</td>\n",
       "      <td>1</td>\n",
       "      <td>1</td>\n",
       "      <td>0</td>\n",
       "    </tr>\n",
       "    <tr>\n",
       "      <th>2</th>\n",
       "      <td>1</td>\n",
       "      <td>Brisco</td>\n",
       "      <td>1</td>\n",
       "      <td>1.000000</td>\n",
       "      <td>0</td>\n",
       "      <td>1</td>\n",
       "      <td>2</td>\n",
       "      <td>7</td>\n",
       "      <td>0</td>\n",
       "      <td>2</td>\n",
       "      <td>...</td>\n",
       "      <td>fa90fa5b1ee11c86938398b60abc32cb</td>\n",
       "      <td>0</td>\n",
       "      <td>Their pregnant mother was dumped by her irresp...</td>\n",
       "      <td>3422e4906</td>\n",
       "      <td>7.0</td>\n",
       "      <td>3</td>\n",
       "      <td>1</td>\n",
       "      <td>1</td>\n",
       "      <td>1</td>\n",
       "      <td>1</td>\n",
       "    </tr>\n",
       "    <tr>\n",
       "      <th>3</th>\n",
       "      <td>1</td>\n",
       "      <td>Miko</td>\n",
       "      <td>4</td>\n",
       "      <td>1.000000</td>\n",
       "      <td>0</td>\n",
       "      <td>2</td>\n",
       "      <td>1</td>\n",
       "      <td>2</td>\n",
       "      <td>0</td>\n",
       "      <td>2</td>\n",
       "      <td>...</td>\n",
       "      <td>9238e4f44c71a75282e62f7136c6b240</td>\n",
       "      <td>0</td>\n",
       "      <td>Good guard dog, very alert, active, obedience ...</td>\n",
       "      <td>5842f1ff5</td>\n",
       "      <td>8.0</td>\n",
       "      <td>2</td>\n",
       "      <td>1</td>\n",
       "      <td>1</td>\n",
       "      <td>1</td>\n",
       "      <td>1</td>\n",
       "    </tr>\n",
       "    <tr>\n",
       "      <th>4</th>\n",
       "      <td>1</td>\n",
       "      <td>Hunter</td>\n",
       "      <td>1</td>\n",
       "      <td>1.000000</td>\n",
       "      <td>0</td>\n",
       "      <td>1</td>\n",
       "      <td>1</td>\n",
       "      <td>0</td>\n",
       "      <td>0</td>\n",
       "      <td>2</td>\n",
       "      <td>...</td>\n",
       "      <td>95481e953f8aed9ec3d16fc4509537e8</td>\n",
       "      <td>0</td>\n",
       "      <td>This handsome yet cute boy is up for adoption....</td>\n",
       "      <td>850a43f90</td>\n",
       "      <td>3.0</td>\n",
       "      <td>2</td>\n",
       "      <td>1</td>\n",
       "      <td>1</td>\n",
       "      <td>0</td>\n",
       "      <td>1</td>\n",
       "    </tr>\n",
       "  </tbody>\n",
       "</table>\n",
       "<p>5 rows × 28 columns</p>\n",
       "</div>"
      ],
      "text/plain": [
       "   Type         Name  Age    Breed1  Breed2  Gender  Color1  Color2  Color3  \\\n",
       "0     2       Nibble    3  0.973941       0       1       1       7       0   \n",
       "1     2  No Name Yet    1  0.863192       0       1       1       2       0   \n",
       "2     1       Brisco    1  1.000000       0       1       2       7       0   \n",
       "3     1         Miko    4  1.000000       0       2       1       2       0   \n",
       "4     1       Hunter    1  1.000000       0       1       1       0       0   \n",
       "\n",
       "   MaturitySize  ...                         RescuerID  VideoAmt  \\\n",
       "0             1  ...  8480853f516546f6cf33aa88cd76c379         0   \n",
       "1             2  ...  3082c7125d8fb66f7dd4bff4192c8b14         0   \n",
       "2             2  ...  fa90fa5b1ee11c86938398b60abc32cb         0   \n",
       "3             2  ...  9238e4f44c71a75282e62f7136c6b240         0   \n",
       "4             2  ...  95481e953f8aed9ec3d16fc4509537e8         0   \n",
       "\n",
       "                                         Description      PetID  PhotoAmt  \\\n",
       "0  Nibble is a 3+ month old ball of cuteness. He ...  86e1089a3       1.0   \n",
       "1  I just found it alone yesterday near my apartm...  6296e909a       2.0   \n",
       "2  Their pregnant mother was dumped by her irresp...  3422e4906       7.0   \n",
       "3  Good guard dog, very alert, active, obedience ...  5842f1ff5       8.0   \n",
       "4  This handsome yet cute boy is up for adoption....  850a43f90       3.0   \n",
       "\n",
       "   AdoptionSpeed  AgeCategory  Breed IsMultiColored  name_code  \n",
       "0              2            1      1              1          1  \n",
       "1              0            1      1              1          0  \n",
       "2              3            1      1              1          1  \n",
       "3              2            1      1              1          1  \n",
       "4              2            1      1              0          1  \n",
       "\n",
       "[5 rows x 28 columns]"
      ]
     },
     "execution_count": 11,
     "metadata": {},
     "output_type": "execute_result"
    }
   ],
   "source": [
    "dataset.head()"
   ]
  },
  {
   "cell_type": "code",
   "execution_count": 12,
   "metadata": {},
   "outputs": [],
   "source": [
    "import pandas as pd\n",
    "import lightgbm as lgb\n",
    "from sklearn.preprocessing import OneHotEncoder\n",
    "\n",
    "def add_new_variables_with_lgbm(dataset):\n",
    "    # Select the features and target variable\n",
    "    numeric_features = ['Age', 'VideoAmt', 'PhotoAmt', 'AgeCategory', 'IsMultiColored', 'name_code']\n",
    "    categorical_features = ['Type', 'Breed1', 'Breed2', 'Gender', 'Color1', 'Color2', 'Color3']\n",
    "\n",
    "    # Preprocess non-numeric columns using one-hot encoding\n",
    "    encoded_features = pd.get_dummies(dataset[categorical_features], columns=categorical_features, prefix=categorical_features)\n",
    "\n",
    "    # Concatenate the encoded features with the numeric features\n",
    "    processed_dataset = pd.concat([dataset[numeric_features], encoded_features], axis=1)\n",
    "\n",
    "    # Create a training dataset\n",
    "    target = dataset['AdoptionSpeed']\n",
    "    train_data = lgb.Dataset(processed_dataset, label=target, params={'verbose': -1})\n",
    "\n",
    "    # Define LightGBM parameters\n",
    "    lgb_params = {\n",
    "        'objective': 'multiclass',\n",
    "        'num_class': 5,  # Assuming AdoptionSpeed has 5 classes\n",
    "        'metric': 'multi_logloss',\n",
    "        # Add your other parameters here\n",
    "    }\n",
    "\n",
    "    # Train the LightGBM model\n",
    "    model = lgb.train(lgb_params, train_data)\n",
    "\n",
    "    # Get predictions for each sample\n",
    "    predictions = model.predict(processed_dataset)\n",
    "\n",
    "    # Add new variables based on the predictions\n",
    "    for class_num in range(5):  # Assuming AdoptionSpeed has 5 classes\n",
    "        dataset[f'prediction_class_{class_num}'] = predictions[:, class_num]\n",
    "\n",
    "    return dataset\n",
    "\n",
    "# Call the function with your DataFrame \"DATAFRAME\"\n",
    "df_with_new_variables = add_new_variables_with_lgbm(dataset.copy())  # Use DATAFRAME.copy() to avoid modifying the original DataFrame"
   ]
  },
  {
   "cell_type": "code",
   "execution_count": 13,
   "metadata": {},
   "outputs": [
    {
     "data": {
      "text/html": [
       "<div>\n",
       "<style scoped>\n",
       "    .dataframe tbody tr th:only-of-type {\n",
       "        vertical-align: middle;\n",
       "    }\n",
       "\n",
       "    .dataframe tbody tr th {\n",
       "        vertical-align: top;\n",
       "    }\n",
       "\n",
       "    .dataframe thead th {\n",
       "        text-align: right;\n",
       "    }\n",
       "</style>\n",
       "<table border=\"1\" class=\"dataframe\">\n",
       "  <thead>\n",
       "    <tr style=\"text-align: right;\">\n",
       "      <th></th>\n",
       "      <th>Type</th>\n",
       "      <th>Name</th>\n",
       "      <th>Age</th>\n",
       "      <th>Breed1</th>\n",
       "      <th>Breed2</th>\n",
       "      <th>Gender</th>\n",
       "      <th>Color1</th>\n",
       "      <th>Color2</th>\n",
       "      <th>Color3</th>\n",
       "      <th>MaturitySize</th>\n",
       "      <th>...</th>\n",
       "      <th>AdoptionSpeed</th>\n",
       "      <th>AgeCategory</th>\n",
       "      <th>Breed</th>\n",
       "      <th>IsMultiColored</th>\n",
       "      <th>name_code</th>\n",
       "      <th>prediction_class_0</th>\n",
       "      <th>prediction_class_1</th>\n",
       "      <th>prediction_class_2</th>\n",
       "      <th>prediction_class_3</th>\n",
       "      <th>prediction_class_4</th>\n",
       "    </tr>\n",
       "  </thead>\n",
       "  <tbody>\n",
       "    <tr>\n",
       "      <th>0</th>\n",
       "      <td>2</td>\n",
       "      <td>Nibble</td>\n",
       "      <td>3</td>\n",
       "      <td>0.973941</td>\n",
       "      <td>0</td>\n",
       "      <td>1</td>\n",
       "      <td>1</td>\n",
       "      <td>7</td>\n",
       "      <td>0</td>\n",
       "      <td>1</td>\n",
       "      <td>...</td>\n",
       "      <td>2</td>\n",
       "      <td>1</td>\n",
       "      <td>1</td>\n",
       "      <td>1</td>\n",
       "      <td>1</td>\n",
       "      <td>0.028566</td>\n",
       "      <td>0.231616</td>\n",
       "      <td>0.358729</td>\n",
       "      <td>0.137739</td>\n",
       "      <td>0.243349</td>\n",
       "    </tr>\n",
       "    <tr>\n",
       "      <th>1</th>\n",
       "      <td>2</td>\n",
       "      <td>No Name Yet</td>\n",
       "      <td>1</td>\n",
       "      <td>0.863192</td>\n",
       "      <td>0</td>\n",
       "      <td>1</td>\n",
       "      <td>1</td>\n",
       "      <td>2</td>\n",
       "      <td>0</td>\n",
       "      <td>2</td>\n",
       "      <td>...</td>\n",
       "      <td>0</td>\n",
       "      <td>1</td>\n",
       "      <td>1</td>\n",
       "      <td>1</td>\n",
       "      <td>0</td>\n",
       "      <td>0.096615</td>\n",
       "      <td>0.352294</td>\n",
       "      <td>0.246250</td>\n",
       "      <td>0.123992</td>\n",
       "      <td>0.180848</td>\n",
       "    </tr>\n",
       "    <tr>\n",
       "      <th>2</th>\n",
       "      <td>1</td>\n",
       "      <td>Brisco</td>\n",
       "      <td>1</td>\n",
       "      <td>1.000000</td>\n",
       "      <td>0</td>\n",
       "      <td>1</td>\n",
       "      <td>2</td>\n",
       "      <td>7</td>\n",
       "      <td>0</td>\n",
       "      <td>2</td>\n",
       "      <td>...</td>\n",
       "      <td>3</td>\n",
       "      <td>1</td>\n",
       "      <td>1</td>\n",
       "      <td>1</td>\n",
       "      <td>1</td>\n",
       "      <td>0.010853</td>\n",
       "      <td>0.270040</td>\n",
       "      <td>0.413996</td>\n",
       "      <td>0.256144</td>\n",
       "      <td>0.048968</td>\n",
       "    </tr>\n",
       "    <tr>\n",
       "      <th>3</th>\n",
       "      <td>1</td>\n",
       "      <td>Miko</td>\n",
       "      <td>4</td>\n",
       "      <td>1.000000</td>\n",
       "      <td>0</td>\n",
       "      <td>2</td>\n",
       "      <td>1</td>\n",
       "      <td>2</td>\n",
       "      <td>0</td>\n",
       "      <td>2</td>\n",
       "      <td>...</td>\n",
       "      <td>2</td>\n",
       "      <td>1</td>\n",
       "      <td>1</td>\n",
       "      <td>1</td>\n",
       "      <td>1</td>\n",
       "      <td>0.002941</td>\n",
       "      <td>0.111016</td>\n",
       "      <td>0.247903</td>\n",
       "      <td>0.320008</td>\n",
       "      <td>0.318133</td>\n",
       "    </tr>\n",
       "    <tr>\n",
       "      <th>4</th>\n",
       "      <td>1</td>\n",
       "      <td>Hunter</td>\n",
       "      <td>1</td>\n",
       "      <td>1.000000</td>\n",
       "      <td>0</td>\n",
       "      <td>1</td>\n",
       "      <td>1</td>\n",
       "      <td>0</td>\n",
       "      <td>0</td>\n",
       "      <td>2</td>\n",
       "      <td>...</td>\n",
       "      <td>2</td>\n",
       "      <td>1</td>\n",
       "      <td>1</td>\n",
       "      <td>0</td>\n",
       "      <td>1</td>\n",
       "      <td>0.005587</td>\n",
       "      <td>0.343812</td>\n",
       "      <td>0.350237</td>\n",
       "      <td>0.212460</td>\n",
       "      <td>0.087903</td>\n",
       "    </tr>\n",
       "    <tr>\n",
       "      <th>...</th>\n",
       "      <td>...</td>\n",
       "      <td>...</td>\n",
       "      <td>...</td>\n",
       "      <td>...</td>\n",
       "      <td>...</td>\n",
       "      <td>...</td>\n",
       "      <td>...</td>\n",
       "      <td>...</td>\n",
       "      <td>...</td>\n",
       "      <td>...</td>\n",
       "      <td>...</td>\n",
       "      <td>...</td>\n",
       "      <td>...</td>\n",
       "      <td>...</td>\n",
       "      <td>...</td>\n",
       "      <td>...</td>\n",
       "      <td>...</td>\n",
       "      <td>...</td>\n",
       "      <td>...</td>\n",
       "      <td>...</td>\n",
       "      <td>...</td>\n",
       "    </tr>\n",
       "    <tr>\n",
       "      <th>14988</th>\n",
       "      <td>2</td>\n",
       "      <td>No Name Yet</td>\n",
       "      <td>2</td>\n",
       "      <td>0.866450</td>\n",
       "      <td>0</td>\n",
       "      <td>3</td>\n",
       "      <td>1</td>\n",
       "      <td>0</td>\n",
       "      <td>0</td>\n",
       "      <td>2</td>\n",
       "      <td>...</td>\n",
       "      <td>2</td>\n",
       "      <td>1</td>\n",
       "      <td>1</td>\n",
       "      <td>0</td>\n",
       "      <td>0</td>\n",
       "      <td>0.004050</td>\n",
       "      <td>0.251369</td>\n",
       "      <td>0.276092</td>\n",
       "      <td>0.210277</td>\n",
       "      <td>0.258212</td>\n",
       "    </tr>\n",
       "    <tr>\n",
       "      <th>14989</th>\n",
       "      <td>2</td>\n",
       "      <td>Serato &amp; Eddie</td>\n",
       "      <td>60</td>\n",
       "      <td>0.863192</td>\n",
       "      <td>264</td>\n",
       "      <td>3</td>\n",
       "      <td>1</td>\n",
       "      <td>4</td>\n",
       "      <td>7</td>\n",
       "      <td>2</td>\n",
       "      <td>...</td>\n",
       "      <td>4</td>\n",
       "      <td>3</td>\n",
       "      <td>2</td>\n",
       "      <td>1</td>\n",
       "      <td>1</td>\n",
       "      <td>0.000915</td>\n",
       "      <td>0.055371</td>\n",
       "      <td>0.165172</td>\n",
       "      <td>0.260624</td>\n",
       "      <td>0.517918</td>\n",
       "    </tr>\n",
       "    <tr>\n",
       "      <th>14990</th>\n",
       "      <td>2</td>\n",
       "      <td>Monkies</td>\n",
       "      <td>2</td>\n",
       "      <td>0.863192</td>\n",
       "      <td>266</td>\n",
       "      <td>3</td>\n",
       "      <td>5</td>\n",
       "      <td>6</td>\n",
       "      <td>7</td>\n",
       "      <td>3</td>\n",
       "      <td>...</td>\n",
       "      <td>3</td>\n",
       "      <td>1</td>\n",
       "      <td>2</td>\n",
       "      <td>1</td>\n",
       "      <td>1</td>\n",
       "      <td>0.011357</td>\n",
       "      <td>0.506431</td>\n",
       "      <td>0.226790</td>\n",
       "      <td>0.168735</td>\n",
       "      <td>0.086687</td>\n",
       "    </tr>\n",
       "    <tr>\n",
       "      <th>14991</th>\n",
       "      <td>2</td>\n",
       "      <td>Ms Daym</td>\n",
       "      <td>9</td>\n",
       "      <td>0.866450</td>\n",
       "      <td>0</td>\n",
       "      <td>2</td>\n",
       "      <td>4</td>\n",
       "      <td>7</td>\n",
       "      <td>0</td>\n",
       "      <td>1</td>\n",
       "      <td>...</td>\n",
       "      <td>4</td>\n",
       "      <td>1</td>\n",
       "      <td>1</td>\n",
       "      <td>1</td>\n",
       "      <td>1</td>\n",
       "      <td>0.012514</td>\n",
       "      <td>0.094100</td>\n",
       "      <td>0.169759</td>\n",
       "      <td>0.179496</td>\n",
       "      <td>0.544131</td>\n",
       "    </tr>\n",
       "    <tr>\n",
       "      <th>14992</th>\n",
       "      <td>1</td>\n",
       "      <td>Fili</td>\n",
       "      <td>1</td>\n",
       "      <td>1.000000</td>\n",
       "      <td>307</td>\n",
       "      <td>1</td>\n",
       "      <td>2</td>\n",
       "      <td>0</td>\n",
       "      <td>0</td>\n",
       "      <td>2</td>\n",
       "      <td>...</td>\n",
       "      <td>3</td>\n",
       "      <td>1</td>\n",
       "      <td>2</td>\n",
       "      <td>0</td>\n",
       "      <td>1</td>\n",
       "      <td>0.019234</td>\n",
       "      <td>0.188604</td>\n",
       "      <td>0.361998</td>\n",
       "      <td>0.327430</td>\n",
       "      <td>0.102734</td>\n",
       "    </tr>\n",
       "  </tbody>\n",
       "</table>\n",
       "<p>14993 rows × 33 columns</p>\n",
       "</div>"
      ],
      "text/plain": [
       "       Type            Name  Age    Breed1  Breed2  Gender  Color1  Color2  \\\n",
       "0         2          Nibble    3  0.973941       0       1       1       7   \n",
       "1         2     No Name Yet    1  0.863192       0       1       1       2   \n",
       "2         1          Brisco    1  1.000000       0       1       2       7   \n",
       "3         1            Miko    4  1.000000       0       2       1       2   \n",
       "4         1          Hunter    1  1.000000       0       1       1       0   \n",
       "...     ...             ...  ...       ...     ...     ...     ...     ...   \n",
       "14988     2     No Name Yet    2  0.866450       0       3       1       0   \n",
       "14989     2  Serato & Eddie   60  0.863192     264       3       1       4   \n",
       "14990     2         Monkies    2  0.863192     266       3       5       6   \n",
       "14991     2         Ms Daym    9  0.866450       0       2       4       7   \n",
       "14992     1            Fili    1  1.000000     307       1       2       0   \n",
       "\n",
       "       Color3  MaturitySize  ...  AdoptionSpeed  AgeCategory  Breed  \\\n",
       "0           0             1  ...              2            1      1   \n",
       "1           0             2  ...              0            1      1   \n",
       "2           0             2  ...              3            1      1   \n",
       "3           0             2  ...              2            1      1   \n",
       "4           0             2  ...              2            1      1   \n",
       "...       ...           ...  ...            ...          ...    ...   \n",
       "14988       0             2  ...              2            1      1   \n",
       "14989       7             2  ...              4            3      2   \n",
       "14990       7             3  ...              3            1      2   \n",
       "14991       0             1  ...              4            1      1   \n",
       "14992       0             2  ...              3            1      2   \n",
       "\n",
       "       IsMultiColored  name_code  prediction_class_0  prediction_class_1  \\\n",
       "0                   1          1            0.028566            0.231616   \n",
       "1                   1          0            0.096615            0.352294   \n",
       "2                   1          1            0.010853            0.270040   \n",
       "3                   1          1            0.002941            0.111016   \n",
       "4                   0          1            0.005587            0.343812   \n",
       "...               ...        ...                 ...                 ...   \n",
       "14988               0          0            0.004050            0.251369   \n",
       "14989               1          1            0.000915            0.055371   \n",
       "14990               1          1            0.011357            0.506431   \n",
       "14991               1          1            0.012514            0.094100   \n",
       "14992               0          1            0.019234            0.188604   \n",
       "\n",
       "       prediction_class_2 prediction_class_3  prediction_class_4  \n",
       "0                0.358729           0.137739            0.243349  \n",
       "1                0.246250           0.123992            0.180848  \n",
       "2                0.413996           0.256144            0.048968  \n",
       "3                0.247903           0.320008            0.318133  \n",
       "4                0.350237           0.212460            0.087903  \n",
       "...                   ...                ...                 ...  \n",
       "14988            0.276092           0.210277            0.258212  \n",
       "14989            0.165172           0.260624            0.517918  \n",
       "14990            0.226790           0.168735            0.086687  \n",
       "14991            0.169759           0.179496            0.544131  \n",
       "14992            0.361998           0.327430            0.102734  \n",
       "\n",
       "[14993 rows x 33 columns]"
      ]
     },
     "execution_count": 13,
     "metadata": {},
     "output_type": "execute_result"
    }
   ],
   "source": [
    "df_with_new_variables"
   ]
  },
  {
   "cell_type": "code",
   "execution_count": 14,
   "metadata": {},
   "outputs": [],
   "source": [
    "dataset=df_with_new_variables"
   ]
  },
  {
   "cell_type": "code",
   "execution_count": 15,
   "metadata": {},
   "outputs": [],
   "source": [
    "\n",
    "#Separo un 20% para test estratificado opr target\n",
    "#PERO MANTENEMOS LA PROPORCION\n",
    "train, test = train_test_split(dataset,\n",
    "                               test_size = TEST_SIZE,\n",
    "                               random_state = SEED,\n",
    "                               stratify = dataset.AdoptionSpeed)"
   ]
  },
  {
   "cell_type": "code",
   "execution_count": 16,
   "metadata": {},
   "outputs": [],
   "source": [
    "#Armo listas con features de texto y numericas\n",
    "char_feats = [f for f in dataset.columns if dataset[f].dtype=='O']\n",
    "numeric_feats = [f for f in dataset.columns if dataset[f].dtype!='O']"
   ]
  },
  {
   "cell_type": "code",
   "execution_count": 17,
   "metadata": {},
   "outputs": [
    {
     "data": {
      "text/plain": [
       "['Type',\n",
       " 'Age',\n",
       " 'Breed1',\n",
       " 'Breed2',\n",
       " 'Gender',\n",
       " 'Color1',\n",
       " 'Color2',\n",
       " 'Color3',\n",
       " 'MaturitySize',\n",
       " 'FurLength',\n",
       " 'Vaccinated',\n",
       " 'Dewormed',\n",
       " 'Sterilized',\n",
       " 'Health',\n",
       " 'Quantity',\n",
       " 'Fee',\n",
       " 'State',\n",
       " 'VideoAmt',\n",
       " 'PhotoAmt',\n",
       " 'AdoptionSpeed',\n",
       " 'AgeCategory',\n",
       " 'Breed',\n",
       " 'IsMultiColored',\n",
       " 'name_code',\n",
       " 'prediction_class_0',\n",
       " 'prediction_class_1',\n",
       " 'prediction_class_2',\n",
       " 'prediction_class_3',\n",
       " 'prediction_class_4']"
      ]
     },
     "execution_count": 17,
     "metadata": {},
     "output_type": "execute_result"
    }
   ],
   "source": [
    "#Lista de features numericas\n",
    "#ESTE EJEMPLO SE HACE SOLO CON VARIABLES NUMERICAS\n",
    "numeric_feats"
   ]
  },
  {
   "cell_type": "code",
   "execution_count": 18,
   "metadata": {},
   "outputs": [],
   "source": [
    "\n",
    "#Defino features a usar en un primer modelo de prueba\n",
    "features = ['Type',\n",
    " 'Age',\n",
    " 'Breed1',\n",
    " 'Breed2',\n",
    " 'Gender',\n",
    " 'Color1',\n",
    " 'Color2',\n",
    " 'Color3',\n",
    " 'MaturitySize',\n",
    " 'FurLength',\n",
    " 'Vaccinated',\n",
    " 'Dewormed',\n",
    " 'Sterilized',\n",
    " 'Health',\n",
    " 'Quantity',\n",
    " 'Fee',\n",
    " 'State',\n",
    " 'VideoAmt',\n",
    " 'PhotoAmt',\n",
    " 'AgeCategory',\n",
    " 'Breed',\n",
    " 'IsMultiColored',\n",
    " 'name_code',\n",
    " 'prediction_class_0',\n",
    " 'prediction_class_1',\n",
    " 'prediction_class_2',\n",
    " 'prediction_class_3',\n",
    " 'prediction_class_4']\n",
    "\n",
    "label = 'AdoptionSpeed'"
   ]
  },
  {
   "cell_type": "code",
   "execution_count": 19,
   "metadata": {},
   "outputs": [],
   "source": [
    "#Genero dataframes de train y test con sus respectivos targets\n",
    "X_train = train[features]\n",
    "y_train = train[label]\n",
    "\n",
    "X_test = test[features]\n",
    "y_test = test[label]"
   ]
  },
  {
   "cell_type": "code",
   "execution_count": 20,
   "metadata": {},
   "outputs": [],
   "source": [
    "#Entreno un modelo inicial sin modificar hiperparametros. Solamente especifico el numero de clases y el tipo de modelo como clasificacoión\n",
    "#HACEMOS LGBM POR DEFECTO COMO VIENE\n",
    "lgb_params = params = {\n",
    "                        'objective': 'multiclass',#EL PROBLEMA ES UNA MULTICPLASE \n",
    "                        'num_class': len(y_train.unique())\n",
    "                        }\n",
    "\n",
    "\n",
    "#genero el objeto Dataset que debo pasarle a lightgbm para que entrene\n",
    "lgb_train_dataset = lgb.Dataset(data=X_train,\n",
    "                                label=y_train)\n",
    "\n",
    "#entreno el modelo con los parametros por defecto\n",
    "lgb_model = lgb.train(lgb_params,\n",
    "                      lgb_train_dataset)"
   ]
  },
  {
   "cell_type": "code",
   "execution_count": 21,
   "metadata": {},
   "outputs": [
    {
     "data": {
      "text/plain": [
       "0.45429837731585787"
      ]
     },
     "execution_count": 21,
     "metadata": {},
     "output_type": "execute_result"
    }
   ],
   "source": [
    "#Obtengo las predicciones sobre el set de test. El modelo me da una lista de probabilidades para cada clase y tomo la clase con mayor probabilidad con la funcion argmax\n",
    "y_pred = lgb_model.predict(X_test).argmax(axis=1)#CON ARGMAX OBTENGO LA PREDICCION MAS GRANDE DE LAS CATEGORIAS OSEA LA GANADORA\n",
    "\n",
    "#Calculo el Kappa\n",
    "cohen_kappa_score(y_test,y_pred, weights = 'quadratic')\n",
    "#MI MODELO DA UN 0.31 DE SCORE \n",
    "#RECORDAR QUE AL SER UN MULTICLASE EL PREDICT ME TRAE 5 COLUMNAS ( PROBABILIDAD DEL MODELO A CADA UNA DE LAS CLASES )\n",
    "\n",
    "\n"
   ]
  },
  {
   "cell_type": "code",
   "execution_count": 22,
   "metadata": {},
   "outputs": [
    {
     "data": {
      "application/vnd.plotly.v1+json": {
       "config": {
        "plotlyServerURL": "https://plot.ly"
       },
       "data": [
        {
         "type": "heatmap",
         "x": [
          0,
          1,
          2,
          3,
          4
         ],
         "y": [
          0,
          1,
          2,
          3,
          4
         ],
         "z": [
          [
           42.68292682926829,
           15.853658536585366,
           25.609756097560975,
           4.878048780487805,
           10.975609756097562
          ],
          [
           0.8090614886731391,
           48.54368932038835,
           23.78640776699029,
           11.003236245954692,
           15.857605177993527
          ],
          [
           0.6195786864931847,
           15.861214374225527,
           53.77942998760843,
           10.90458488228005,
           18.83519206939281
          ],
          [
           1.0736196319018405,
           13.03680981595092,
           27.300613496932513,
           40.644171779141104,
           17.94478527607362
          ],
          [
           0.5952380952380952,
           9.404761904761905,
           16.071428571428573,
           8.80952380952381,
           65.11904761904762
          ]
         ]
        }
       ],
       "layout": {
        "annotations": [
         {
          "font": {
           "color": "white"
          },
          "showarrow": false,
          "text": "42.7 - 35",
          "x": 0,
          "xref": "x",
          "y": 0,
          "yref": "y"
         },
         {
          "font": {
           "color": "white"
          },
          "showarrow": false,
          "text": "15.9 - 13",
          "x": 1,
          "xref": "x",
          "y": 0,
          "yref": "y"
         },
         {
          "font": {
           "color": "white"
          },
          "showarrow": false,
          "text": "25.6 - 21",
          "x": 2,
          "xref": "x",
          "y": 0,
          "yref": "y"
         },
         {
          "font": {
           "color": "white"
          },
          "showarrow": false,
          "text": "4.9 - 4",
          "x": 3,
          "xref": "x",
          "y": 0,
          "yref": "y"
         },
         {
          "font": {
           "color": "white"
          },
          "showarrow": false,
          "text": "11.0 - 9",
          "x": 4,
          "xref": "x",
          "y": 0,
          "yref": "y"
         },
         {
          "font": {
           "color": "white"
          },
          "showarrow": false,
          "text": "0.8 - 5",
          "x": 0,
          "xref": "x",
          "y": 1,
          "yref": "y"
         },
         {
          "font": {
           "color": "white"
          },
          "showarrow": false,
          "text": "48.5 - 300",
          "x": 1,
          "xref": "x",
          "y": 1,
          "yref": "y"
         },
         {
          "font": {
           "color": "white"
          },
          "showarrow": false,
          "text": "23.8 - 147",
          "x": 2,
          "xref": "x",
          "y": 1,
          "yref": "y"
         },
         {
          "font": {
           "color": "white"
          },
          "showarrow": false,
          "text": "11.0 - 68",
          "x": 3,
          "xref": "x",
          "y": 1,
          "yref": "y"
         },
         {
          "font": {
           "color": "white"
          },
          "showarrow": false,
          "text": "15.9 - 98",
          "x": 4,
          "xref": "x",
          "y": 1,
          "yref": "y"
         },
         {
          "font": {
           "color": "white"
          },
          "showarrow": false,
          "text": "0.6 - 5",
          "x": 0,
          "xref": "x",
          "y": 2,
          "yref": "y"
         },
         {
          "font": {
           "color": "white"
          },
          "showarrow": false,
          "text": "15.9 - 128",
          "x": 1,
          "xref": "x",
          "y": 2,
          "yref": "y"
         },
         {
          "font": {
           "color": "white"
          },
          "showarrow": false,
          "text": "53.8 - 434",
          "x": 2,
          "xref": "x",
          "y": 2,
          "yref": "y"
         },
         {
          "font": {
           "color": "white"
          },
          "showarrow": false,
          "text": "10.9 - 88",
          "x": 3,
          "xref": "x",
          "y": 2,
          "yref": "y"
         },
         {
          "font": {
           "color": "white"
          },
          "showarrow": false,
          "text": "18.8 - 152",
          "x": 4,
          "xref": "x",
          "y": 2,
          "yref": "y"
         },
         {
          "font": {
           "color": "white"
          },
          "showarrow": false,
          "text": "1.1 - 7",
          "x": 0,
          "xref": "x",
          "y": 3,
          "yref": "y"
         },
         {
          "font": {
           "color": "white"
          },
          "showarrow": false,
          "text": "13.0 - 85",
          "x": 1,
          "xref": "x",
          "y": 3,
          "yref": "y"
         },
         {
          "font": {
           "color": "white"
          },
          "showarrow": false,
          "text": "27.3 - 178",
          "x": 2,
          "xref": "x",
          "y": 3,
          "yref": "y"
         },
         {
          "font": {
           "color": "white"
          },
          "showarrow": false,
          "text": "40.6 - 265",
          "x": 3,
          "xref": "x",
          "y": 3,
          "yref": "y"
         },
         {
          "font": {
           "color": "white"
          },
          "showarrow": false,
          "text": "17.9 - 117",
          "x": 4,
          "xref": "x",
          "y": 3,
          "yref": "y"
         },
         {
          "font": {
           "color": "white"
          },
          "showarrow": false,
          "text": "0.6 - 5",
          "x": 0,
          "xref": "x",
          "y": 4,
          "yref": "y"
         },
         {
          "font": {
           "color": "white"
          },
          "showarrow": false,
          "text": "9.4 - 79",
          "x": 1,
          "xref": "x",
          "y": 4,
          "yref": "y"
         },
         {
          "font": {
           "color": "white"
          },
          "showarrow": false,
          "text": "16.1 - 135",
          "x": 2,
          "xref": "x",
          "y": 4,
          "yref": "y"
         },
         {
          "font": {
           "color": "white"
          },
          "showarrow": false,
          "text": "8.8 - 74",
          "x": 3,
          "xref": "x",
          "y": 4,
          "yref": "y"
         },
         {
          "font": {
           "color": "white"
          },
          "showarrow": false,
          "text": "65.1 - 547",
          "x": 4,
          "xref": "x",
          "y": 4,
          "yref": "y"
         }
        ],
        "height": 800,
        "template": {
         "data": {
          "bar": [
           {
            "error_x": {
             "color": "#2a3f5f"
            },
            "error_y": {
             "color": "#2a3f5f"
            },
            "marker": {
             "line": {
              "color": "#E5ECF6",
              "width": 0.5
             },
             "pattern": {
              "fillmode": "overlay",
              "size": 10,
              "solidity": 0.2
             }
            },
            "type": "bar"
           }
          ],
          "barpolar": [
           {
            "marker": {
             "line": {
              "color": "#E5ECF6",
              "width": 0.5
             },
             "pattern": {
              "fillmode": "overlay",
              "size": 10,
              "solidity": 0.2
             }
            },
            "type": "barpolar"
           }
          ],
          "carpet": [
           {
            "aaxis": {
             "endlinecolor": "#2a3f5f",
             "gridcolor": "white",
             "linecolor": "white",
             "minorgridcolor": "white",
             "startlinecolor": "#2a3f5f"
            },
            "baxis": {
             "endlinecolor": "#2a3f5f",
             "gridcolor": "white",
             "linecolor": "white",
             "minorgridcolor": "white",
             "startlinecolor": "#2a3f5f"
            },
            "type": "carpet"
           }
          ],
          "choropleth": [
           {
            "colorbar": {
             "outlinewidth": 0,
             "ticks": ""
            },
            "type": "choropleth"
           }
          ],
          "contour": [
           {
            "colorbar": {
             "outlinewidth": 0,
             "ticks": ""
            },
            "colorscale": [
             [
              0,
              "#0d0887"
             ],
             [
              0.1111111111111111,
              "#46039f"
             ],
             [
              0.2222222222222222,
              "#7201a8"
             ],
             [
              0.3333333333333333,
              "#9c179e"
             ],
             [
              0.4444444444444444,
              "#bd3786"
             ],
             [
              0.5555555555555556,
              "#d8576b"
             ],
             [
              0.6666666666666666,
              "#ed7953"
             ],
             [
              0.7777777777777778,
              "#fb9f3a"
             ],
             [
              0.8888888888888888,
              "#fdca26"
             ],
             [
              1,
              "#f0f921"
             ]
            ],
            "type": "contour"
           }
          ],
          "contourcarpet": [
           {
            "colorbar": {
             "outlinewidth": 0,
             "ticks": ""
            },
            "type": "contourcarpet"
           }
          ],
          "heatmap": [
           {
            "colorbar": {
             "outlinewidth": 0,
             "ticks": ""
            },
            "colorscale": [
             [
              0,
              "#0d0887"
             ],
             [
              0.1111111111111111,
              "#46039f"
             ],
             [
              0.2222222222222222,
              "#7201a8"
             ],
             [
              0.3333333333333333,
              "#9c179e"
             ],
             [
              0.4444444444444444,
              "#bd3786"
             ],
             [
              0.5555555555555556,
              "#d8576b"
             ],
             [
              0.6666666666666666,
              "#ed7953"
             ],
             [
              0.7777777777777778,
              "#fb9f3a"
             ],
             [
              0.8888888888888888,
              "#fdca26"
             ],
             [
              1,
              "#f0f921"
             ]
            ],
            "type": "heatmap"
           }
          ],
          "heatmapgl": [
           {
            "colorbar": {
             "outlinewidth": 0,
             "ticks": ""
            },
            "colorscale": [
             [
              0,
              "#0d0887"
             ],
             [
              0.1111111111111111,
              "#46039f"
             ],
             [
              0.2222222222222222,
              "#7201a8"
             ],
             [
              0.3333333333333333,
              "#9c179e"
             ],
             [
              0.4444444444444444,
              "#bd3786"
             ],
             [
              0.5555555555555556,
              "#d8576b"
             ],
             [
              0.6666666666666666,
              "#ed7953"
             ],
             [
              0.7777777777777778,
              "#fb9f3a"
             ],
             [
              0.8888888888888888,
              "#fdca26"
             ],
             [
              1,
              "#f0f921"
             ]
            ],
            "type": "heatmapgl"
           }
          ],
          "histogram": [
           {
            "marker": {
             "pattern": {
              "fillmode": "overlay",
              "size": 10,
              "solidity": 0.2
             }
            },
            "type": "histogram"
           }
          ],
          "histogram2d": [
           {
            "colorbar": {
             "outlinewidth": 0,
             "ticks": ""
            },
            "colorscale": [
             [
              0,
              "#0d0887"
             ],
             [
              0.1111111111111111,
              "#46039f"
             ],
             [
              0.2222222222222222,
              "#7201a8"
             ],
             [
              0.3333333333333333,
              "#9c179e"
             ],
             [
              0.4444444444444444,
              "#bd3786"
             ],
             [
              0.5555555555555556,
              "#d8576b"
             ],
             [
              0.6666666666666666,
              "#ed7953"
             ],
             [
              0.7777777777777778,
              "#fb9f3a"
             ],
             [
              0.8888888888888888,
              "#fdca26"
             ],
             [
              1,
              "#f0f921"
             ]
            ],
            "type": "histogram2d"
           }
          ],
          "histogram2dcontour": [
           {
            "colorbar": {
             "outlinewidth": 0,
             "ticks": ""
            },
            "colorscale": [
             [
              0,
              "#0d0887"
             ],
             [
              0.1111111111111111,
              "#46039f"
             ],
             [
              0.2222222222222222,
              "#7201a8"
             ],
             [
              0.3333333333333333,
              "#9c179e"
             ],
             [
              0.4444444444444444,
              "#bd3786"
             ],
             [
              0.5555555555555556,
              "#d8576b"
             ],
             [
              0.6666666666666666,
              "#ed7953"
             ],
             [
              0.7777777777777778,
              "#fb9f3a"
             ],
             [
              0.8888888888888888,
              "#fdca26"
             ],
             [
              1,
              "#f0f921"
             ]
            ],
            "type": "histogram2dcontour"
           }
          ],
          "mesh3d": [
           {
            "colorbar": {
             "outlinewidth": 0,
             "ticks": ""
            },
            "type": "mesh3d"
           }
          ],
          "parcoords": [
           {
            "line": {
             "colorbar": {
              "outlinewidth": 0,
              "ticks": ""
             }
            },
            "type": "parcoords"
           }
          ],
          "pie": [
           {
            "automargin": true,
            "type": "pie"
           }
          ],
          "scatter": [
           {
            "fillpattern": {
             "fillmode": "overlay",
             "size": 10,
             "solidity": 0.2
            },
            "type": "scatter"
           }
          ],
          "scatter3d": [
           {
            "line": {
             "colorbar": {
              "outlinewidth": 0,
              "ticks": ""
             }
            },
            "marker": {
             "colorbar": {
              "outlinewidth": 0,
              "ticks": ""
             }
            },
            "type": "scatter3d"
           }
          ],
          "scattercarpet": [
           {
            "marker": {
             "colorbar": {
              "outlinewidth": 0,
              "ticks": ""
             }
            },
            "type": "scattercarpet"
           }
          ],
          "scattergeo": [
           {
            "marker": {
             "colorbar": {
              "outlinewidth": 0,
              "ticks": ""
             }
            },
            "type": "scattergeo"
           }
          ],
          "scattergl": [
           {
            "marker": {
             "colorbar": {
              "outlinewidth": 0,
              "ticks": ""
             }
            },
            "type": "scattergl"
           }
          ],
          "scattermapbox": [
           {
            "marker": {
             "colorbar": {
              "outlinewidth": 0,
              "ticks": ""
             }
            },
            "type": "scattermapbox"
           }
          ],
          "scatterpolar": [
           {
            "marker": {
             "colorbar": {
              "outlinewidth": 0,
              "ticks": ""
             }
            },
            "type": "scatterpolar"
           }
          ],
          "scatterpolargl": [
           {
            "marker": {
             "colorbar": {
              "outlinewidth": 0,
              "ticks": ""
             }
            },
            "type": "scatterpolargl"
           }
          ],
          "scatterternary": [
           {
            "marker": {
             "colorbar": {
              "outlinewidth": 0,
              "ticks": ""
             }
            },
            "type": "scatterternary"
           }
          ],
          "surface": [
           {
            "colorbar": {
             "outlinewidth": 0,
             "ticks": ""
            },
            "colorscale": [
             [
              0,
              "#0d0887"
             ],
             [
              0.1111111111111111,
              "#46039f"
             ],
             [
              0.2222222222222222,
              "#7201a8"
             ],
             [
              0.3333333333333333,
              "#9c179e"
             ],
             [
              0.4444444444444444,
              "#bd3786"
             ],
             [
              0.5555555555555556,
              "#d8576b"
             ],
             [
              0.6666666666666666,
              "#ed7953"
             ],
             [
              0.7777777777777778,
              "#fb9f3a"
             ],
             [
              0.8888888888888888,
              "#fdca26"
             ],
             [
              1,
              "#f0f921"
             ]
            ],
            "type": "surface"
           }
          ],
          "table": [
           {
            "cells": {
             "fill": {
              "color": "#EBF0F8"
             },
             "line": {
              "color": "white"
             }
            },
            "header": {
             "fill": {
              "color": "#C8D4E3"
             },
             "line": {
              "color": "white"
             }
            },
            "type": "table"
           }
          ]
         },
         "layout": {
          "annotationdefaults": {
           "arrowcolor": "#2a3f5f",
           "arrowhead": 0,
           "arrowwidth": 1
          },
          "autotypenumbers": "strict",
          "coloraxis": {
           "colorbar": {
            "outlinewidth": 0,
            "ticks": ""
           }
          },
          "colorscale": {
           "diverging": [
            [
             0,
             "#8e0152"
            ],
            [
             0.1,
             "#c51b7d"
            ],
            [
             0.2,
             "#de77ae"
            ],
            [
             0.3,
             "#f1b6da"
            ],
            [
             0.4,
             "#fde0ef"
            ],
            [
             0.5,
             "#f7f7f7"
            ],
            [
             0.6,
             "#e6f5d0"
            ],
            [
             0.7,
             "#b8e186"
            ],
            [
             0.8,
             "#7fbc41"
            ],
            [
             0.9,
             "#4d9221"
            ],
            [
             1,
             "#276419"
            ]
           ],
           "sequential": [
            [
             0,
             "#0d0887"
            ],
            [
             0.1111111111111111,
             "#46039f"
            ],
            [
             0.2222222222222222,
             "#7201a8"
            ],
            [
             0.3333333333333333,
             "#9c179e"
            ],
            [
             0.4444444444444444,
             "#bd3786"
            ],
            [
             0.5555555555555556,
             "#d8576b"
            ],
            [
             0.6666666666666666,
             "#ed7953"
            ],
            [
             0.7777777777777778,
             "#fb9f3a"
            ],
            [
             0.8888888888888888,
             "#fdca26"
            ],
            [
             1,
             "#f0f921"
            ]
           ],
           "sequentialminus": [
            [
             0,
             "#0d0887"
            ],
            [
             0.1111111111111111,
             "#46039f"
            ],
            [
             0.2222222222222222,
             "#7201a8"
            ],
            [
             0.3333333333333333,
             "#9c179e"
            ],
            [
             0.4444444444444444,
             "#bd3786"
            ],
            [
             0.5555555555555556,
             "#d8576b"
            ],
            [
             0.6666666666666666,
             "#ed7953"
            ],
            [
             0.7777777777777778,
             "#fb9f3a"
            ],
            [
             0.8888888888888888,
             "#fdca26"
            ],
            [
             1,
             "#f0f921"
            ]
           ]
          },
          "colorway": [
           "#636efa",
           "#EF553B",
           "#00cc96",
           "#ab63fa",
           "#FFA15A",
           "#19d3f3",
           "#FF6692",
           "#B6E880",
           "#FF97FF",
           "#FECB52"
          ],
          "font": {
           "color": "#2a3f5f"
          },
          "geo": {
           "bgcolor": "white",
           "lakecolor": "white",
           "landcolor": "#E5ECF6",
           "showlakes": true,
           "showland": true,
           "subunitcolor": "white"
          },
          "hoverlabel": {
           "align": "left"
          },
          "hovermode": "closest",
          "mapbox": {
           "style": "light"
          },
          "paper_bgcolor": "white",
          "plot_bgcolor": "#E5ECF6",
          "polar": {
           "angularaxis": {
            "gridcolor": "white",
            "linecolor": "white",
            "ticks": ""
           },
           "bgcolor": "#E5ECF6",
           "radialaxis": {
            "gridcolor": "white",
            "linecolor": "white",
            "ticks": ""
           }
          },
          "scene": {
           "xaxis": {
            "backgroundcolor": "#E5ECF6",
            "gridcolor": "white",
            "gridwidth": 2,
            "linecolor": "white",
            "showbackground": true,
            "ticks": "",
            "zerolinecolor": "white"
           },
           "yaxis": {
            "backgroundcolor": "#E5ECF6",
            "gridcolor": "white",
            "gridwidth": 2,
            "linecolor": "white",
            "showbackground": true,
            "ticks": "",
            "zerolinecolor": "white"
           },
           "zaxis": {
            "backgroundcolor": "#E5ECF6",
            "gridcolor": "white",
            "gridwidth": 2,
            "linecolor": "white",
            "showbackground": true,
            "ticks": "",
            "zerolinecolor": "white"
           }
          },
          "shapedefaults": {
           "line": {
            "color": "#2a3f5f"
           }
          },
          "ternary": {
           "aaxis": {
            "gridcolor": "white",
            "linecolor": "white",
            "ticks": ""
           },
           "baxis": {
            "gridcolor": "white",
            "linecolor": "white",
            "ticks": ""
           },
           "bgcolor": "#E5ECF6",
           "caxis": {
            "gridcolor": "white",
            "linecolor": "white",
            "ticks": ""
           }
          },
          "title": {
           "x": 0.05
          },
          "xaxis": {
           "automargin": true,
           "gridcolor": "white",
           "linecolor": "white",
           "ticks": "",
           "title": {
            "standoff": 15
           },
           "zerolinecolor": "white",
           "zerolinewidth": 2
          },
          "yaxis": {
           "automargin": true,
           "gridcolor": "white",
           "linecolor": "white",
           "ticks": "",
           "title": {
            "standoff": 15
           },
           "zerolinecolor": "white",
           "zerolinewidth": 2
          }
         }
        },
        "title": {
         "text": "Conf Matrix"
        },
        "width": 800,
        "xaxis": {
         "title": {
          "text": "Predicted value"
         }
        },
        "yaxis": {
         "title": {
          "text": "Real value"
         }
        }
       }
      }
     },
     "metadata": {},
     "output_type": "display_data"
    }
   ],
   "source": [
    "#Muestro la matriz de confusión\n",
    "display(plot_confusion_matrix(y_test,y_pred))\n",
    "#SI OBTENGO UNA DIAGONAL MUY FUERTE AMARILLA ES PQ PREDIJO BIEN EL MODELO "
   ]
  },
  {
   "cell_type": "code",
   "execution_count": 23,
   "metadata": {},
   "outputs": [
    {
     "data": {
      "text/plain": [
       "1.0"
      ]
     },
     "execution_count": 23,
     "metadata": {},
     "output_type": "execute_result"
    }
   ],
   "source": [
    "#Vamos a ponewr en perspectiva el score de Kappa\n",
    "\n",
    "\n",
    "#Cual es el score perfecto? Evaluo la clase real contra si misma. Es decir, el caso en que el modelo establece todas las clases en su valor real\n",
    "cohen_kappa_score(y_test,y_test, weights = 'quadratic')"
   ]
  },
  {
   "cell_type": "code",
   "execution_count": 24,
   "metadata": {},
   "outputs": [
    {
     "data": {
      "application/vnd.plotly.v1+json": {
       "config": {
        "plotlyServerURL": "https://plot.ly"
       },
       "data": [
        {
         "type": "heatmap",
         "x": [
          0,
          1,
          2,
          3,
          4
         ],
         "y": [
          0,
          1,
          2,
          3,
          4
         ],
         "z": [
          [
           100,
           0,
           0,
           0,
           0
          ],
          [
           0,
           100,
           0,
           0,
           0
          ],
          [
           0,
           0,
           100,
           0,
           0
          ],
          [
           0,
           0,
           0,
           100,
           0
          ],
          [
           0,
           0,
           0,
           0,
           100
          ]
         ]
        }
       ],
       "layout": {
        "annotations": [
         {
          "font": {
           "color": "white"
          },
          "showarrow": false,
          "text": "100.0 - 82",
          "x": 0,
          "xref": "x",
          "y": 0,
          "yref": "y"
         },
         {
          "font": {
           "color": "white"
          },
          "showarrow": false,
          "text": "0.0 - 0",
          "x": 1,
          "xref": "x",
          "y": 0,
          "yref": "y"
         },
         {
          "font": {
           "color": "white"
          },
          "showarrow": false,
          "text": "0.0 - 0",
          "x": 2,
          "xref": "x",
          "y": 0,
          "yref": "y"
         },
         {
          "font": {
           "color": "white"
          },
          "showarrow": false,
          "text": "0.0 - 0",
          "x": 3,
          "xref": "x",
          "y": 0,
          "yref": "y"
         },
         {
          "font": {
           "color": "white"
          },
          "showarrow": false,
          "text": "0.0 - 0",
          "x": 4,
          "xref": "x",
          "y": 0,
          "yref": "y"
         },
         {
          "font": {
           "color": "white"
          },
          "showarrow": false,
          "text": "0.0 - 0",
          "x": 0,
          "xref": "x",
          "y": 1,
          "yref": "y"
         },
         {
          "font": {
           "color": "white"
          },
          "showarrow": false,
          "text": "100.0 - 618",
          "x": 1,
          "xref": "x",
          "y": 1,
          "yref": "y"
         },
         {
          "font": {
           "color": "white"
          },
          "showarrow": false,
          "text": "0.0 - 0",
          "x": 2,
          "xref": "x",
          "y": 1,
          "yref": "y"
         },
         {
          "font": {
           "color": "white"
          },
          "showarrow": false,
          "text": "0.0 - 0",
          "x": 3,
          "xref": "x",
          "y": 1,
          "yref": "y"
         },
         {
          "font": {
           "color": "white"
          },
          "showarrow": false,
          "text": "0.0 - 0",
          "x": 4,
          "xref": "x",
          "y": 1,
          "yref": "y"
         },
         {
          "font": {
           "color": "white"
          },
          "showarrow": false,
          "text": "0.0 - 0",
          "x": 0,
          "xref": "x",
          "y": 2,
          "yref": "y"
         },
         {
          "font": {
           "color": "white"
          },
          "showarrow": false,
          "text": "0.0 - 0",
          "x": 1,
          "xref": "x",
          "y": 2,
          "yref": "y"
         },
         {
          "font": {
           "color": "white"
          },
          "showarrow": false,
          "text": "100.0 - 807",
          "x": 2,
          "xref": "x",
          "y": 2,
          "yref": "y"
         },
         {
          "font": {
           "color": "white"
          },
          "showarrow": false,
          "text": "0.0 - 0",
          "x": 3,
          "xref": "x",
          "y": 2,
          "yref": "y"
         },
         {
          "font": {
           "color": "white"
          },
          "showarrow": false,
          "text": "0.0 - 0",
          "x": 4,
          "xref": "x",
          "y": 2,
          "yref": "y"
         },
         {
          "font": {
           "color": "white"
          },
          "showarrow": false,
          "text": "0.0 - 0",
          "x": 0,
          "xref": "x",
          "y": 3,
          "yref": "y"
         },
         {
          "font": {
           "color": "white"
          },
          "showarrow": false,
          "text": "0.0 - 0",
          "x": 1,
          "xref": "x",
          "y": 3,
          "yref": "y"
         },
         {
          "font": {
           "color": "white"
          },
          "showarrow": false,
          "text": "0.0 - 0",
          "x": 2,
          "xref": "x",
          "y": 3,
          "yref": "y"
         },
         {
          "font": {
           "color": "white"
          },
          "showarrow": false,
          "text": "100.0 - 652",
          "x": 3,
          "xref": "x",
          "y": 3,
          "yref": "y"
         },
         {
          "font": {
           "color": "white"
          },
          "showarrow": false,
          "text": "0.0 - 0",
          "x": 4,
          "xref": "x",
          "y": 3,
          "yref": "y"
         },
         {
          "font": {
           "color": "white"
          },
          "showarrow": false,
          "text": "0.0 - 0",
          "x": 0,
          "xref": "x",
          "y": 4,
          "yref": "y"
         },
         {
          "font": {
           "color": "white"
          },
          "showarrow": false,
          "text": "0.0 - 0",
          "x": 1,
          "xref": "x",
          "y": 4,
          "yref": "y"
         },
         {
          "font": {
           "color": "white"
          },
          "showarrow": false,
          "text": "0.0 - 0",
          "x": 2,
          "xref": "x",
          "y": 4,
          "yref": "y"
         },
         {
          "font": {
           "color": "white"
          },
          "showarrow": false,
          "text": "0.0 - 0",
          "x": 3,
          "xref": "x",
          "y": 4,
          "yref": "y"
         },
         {
          "font": {
           "color": "white"
          },
          "showarrow": false,
          "text": "100.0 - 840",
          "x": 4,
          "xref": "x",
          "y": 4,
          "yref": "y"
         }
        ],
        "height": 800,
        "template": {
         "data": {
          "bar": [
           {
            "error_x": {
             "color": "#2a3f5f"
            },
            "error_y": {
             "color": "#2a3f5f"
            },
            "marker": {
             "line": {
              "color": "#E5ECF6",
              "width": 0.5
             },
             "pattern": {
              "fillmode": "overlay",
              "size": 10,
              "solidity": 0.2
             }
            },
            "type": "bar"
           }
          ],
          "barpolar": [
           {
            "marker": {
             "line": {
              "color": "#E5ECF6",
              "width": 0.5
             },
             "pattern": {
              "fillmode": "overlay",
              "size": 10,
              "solidity": 0.2
             }
            },
            "type": "barpolar"
           }
          ],
          "carpet": [
           {
            "aaxis": {
             "endlinecolor": "#2a3f5f",
             "gridcolor": "white",
             "linecolor": "white",
             "minorgridcolor": "white",
             "startlinecolor": "#2a3f5f"
            },
            "baxis": {
             "endlinecolor": "#2a3f5f",
             "gridcolor": "white",
             "linecolor": "white",
             "minorgridcolor": "white",
             "startlinecolor": "#2a3f5f"
            },
            "type": "carpet"
           }
          ],
          "choropleth": [
           {
            "colorbar": {
             "outlinewidth": 0,
             "ticks": ""
            },
            "type": "choropleth"
           }
          ],
          "contour": [
           {
            "colorbar": {
             "outlinewidth": 0,
             "ticks": ""
            },
            "colorscale": [
             [
              0,
              "#0d0887"
             ],
             [
              0.1111111111111111,
              "#46039f"
             ],
             [
              0.2222222222222222,
              "#7201a8"
             ],
             [
              0.3333333333333333,
              "#9c179e"
             ],
             [
              0.4444444444444444,
              "#bd3786"
             ],
             [
              0.5555555555555556,
              "#d8576b"
             ],
             [
              0.6666666666666666,
              "#ed7953"
             ],
             [
              0.7777777777777778,
              "#fb9f3a"
             ],
             [
              0.8888888888888888,
              "#fdca26"
             ],
             [
              1,
              "#f0f921"
             ]
            ],
            "type": "contour"
           }
          ],
          "contourcarpet": [
           {
            "colorbar": {
             "outlinewidth": 0,
             "ticks": ""
            },
            "type": "contourcarpet"
           }
          ],
          "heatmap": [
           {
            "colorbar": {
             "outlinewidth": 0,
             "ticks": ""
            },
            "colorscale": [
             [
              0,
              "#0d0887"
             ],
             [
              0.1111111111111111,
              "#46039f"
             ],
             [
              0.2222222222222222,
              "#7201a8"
             ],
             [
              0.3333333333333333,
              "#9c179e"
             ],
             [
              0.4444444444444444,
              "#bd3786"
             ],
             [
              0.5555555555555556,
              "#d8576b"
             ],
             [
              0.6666666666666666,
              "#ed7953"
             ],
             [
              0.7777777777777778,
              "#fb9f3a"
             ],
             [
              0.8888888888888888,
              "#fdca26"
             ],
             [
              1,
              "#f0f921"
             ]
            ],
            "type": "heatmap"
           }
          ],
          "heatmapgl": [
           {
            "colorbar": {
             "outlinewidth": 0,
             "ticks": ""
            },
            "colorscale": [
             [
              0,
              "#0d0887"
             ],
             [
              0.1111111111111111,
              "#46039f"
             ],
             [
              0.2222222222222222,
              "#7201a8"
             ],
             [
              0.3333333333333333,
              "#9c179e"
             ],
             [
              0.4444444444444444,
              "#bd3786"
             ],
             [
              0.5555555555555556,
              "#d8576b"
             ],
             [
              0.6666666666666666,
              "#ed7953"
             ],
             [
              0.7777777777777778,
              "#fb9f3a"
             ],
             [
              0.8888888888888888,
              "#fdca26"
             ],
             [
              1,
              "#f0f921"
             ]
            ],
            "type": "heatmapgl"
           }
          ],
          "histogram": [
           {
            "marker": {
             "pattern": {
              "fillmode": "overlay",
              "size": 10,
              "solidity": 0.2
             }
            },
            "type": "histogram"
           }
          ],
          "histogram2d": [
           {
            "colorbar": {
             "outlinewidth": 0,
             "ticks": ""
            },
            "colorscale": [
             [
              0,
              "#0d0887"
             ],
             [
              0.1111111111111111,
              "#46039f"
             ],
             [
              0.2222222222222222,
              "#7201a8"
             ],
             [
              0.3333333333333333,
              "#9c179e"
             ],
             [
              0.4444444444444444,
              "#bd3786"
             ],
             [
              0.5555555555555556,
              "#d8576b"
             ],
             [
              0.6666666666666666,
              "#ed7953"
             ],
             [
              0.7777777777777778,
              "#fb9f3a"
             ],
             [
              0.8888888888888888,
              "#fdca26"
             ],
             [
              1,
              "#f0f921"
             ]
            ],
            "type": "histogram2d"
           }
          ],
          "histogram2dcontour": [
           {
            "colorbar": {
             "outlinewidth": 0,
             "ticks": ""
            },
            "colorscale": [
             [
              0,
              "#0d0887"
             ],
             [
              0.1111111111111111,
              "#46039f"
             ],
             [
              0.2222222222222222,
              "#7201a8"
             ],
             [
              0.3333333333333333,
              "#9c179e"
             ],
             [
              0.4444444444444444,
              "#bd3786"
             ],
             [
              0.5555555555555556,
              "#d8576b"
             ],
             [
              0.6666666666666666,
              "#ed7953"
             ],
             [
              0.7777777777777778,
              "#fb9f3a"
             ],
             [
              0.8888888888888888,
              "#fdca26"
             ],
             [
              1,
              "#f0f921"
             ]
            ],
            "type": "histogram2dcontour"
           }
          ],
          "mesh3d": [
           {
            "colorbar": {
             "outlinewidth": 0,
             "ticks": ""
            },
            "type": "mesh3d"
           }
          ],
          "parcoords": [
           {
            "line": {
             "colorbar": {
              "outlinewidth": 0,
              "ticks": ""
             }
            },
            "type": "parcoords"
           }
          ],
          "pie": [
           {
            "automargin": true,
            "type": "pie"
           }
          ],
          "scatter": [
           {
            "fillpattern": {
             "fillmode": "overlay",
             "size": 10,
             "solidity": 0.2
            },
            "type": "scatter"
           }
          ],
          "scatter3d": [
           {
            "line": {
             "colorbar": {
              "outlinewidth": 0,
              "ticks": ""
             }
            },
            "marker": {
             "colorbar": {
              "outlinewidth": 0,
              "ticks": ""
             }
            },
            "type": "scatter3d"
           }
          ],
          "scattercarpet": [
           {
            "marker": {
             "colorbar": {
              "outlinewidth": 0,
              "ticks": ""
             }
            },
            "type": "scattercarpet"
           }
          ],
          "scattergeo": [
           {
            "marker": {
             "colorbar": {
              "outlinewidth": 0,
              "ticks": ""
             }
            },
            "type": "scattergeo"
           }
          ],
          "scattergl": [
           {
            "marker": {
             "colorbar": {
              "outlinewidth": 0,
              "ticks": ""
             }
            },
            "type": "scattergl"
           }
          ],
          "scattermapbox": [
           {
            "marker": {
             "colorbar": {
              "outlinewidth": 0,
              "ticks": ""
             }
            },
            "type": "scattermapbox"
           }
          ],
          "scatterpolar": [
           {
            "marker": {
             "colorbar": {
              "outlinewidth": 0,
              "ticks": ""
             }
            },
            "type": "scatterpolar"
           }
          ],
          "scatterpolargl": [
           {
            "marker": {
             "colorbar": {
              "outlinewidth": 0,
              "ticks": ""
             }
            },
            "type": "scatterpolargl"
           }
          ],
          "scatterternary": [
           {
            "marker": {
             "colorbar": {
              "outlinewidth": 0,
              "ticks": ""
             }
            },
            "type": "scatterternary"
           }
          ],
          "surface": [
           {
            "colorbar": {
             "outlinewidth": 0,
             "ticks": ""
            },
            "colorscale": [
             [
              0,
              "#0d0887"
             ],
             [
              0.1111111111111111,
              "#46039f"
             ],
             [
              0.2222222222222222,
              "#7201a8"
             ],
             [
              0.3333333333333333,
              "#9c179e"
             ],
             [
              0.4444444444444444,
              "#bd3786"
             ],
             [
              0.5555555555555556,
              "#d8576b"
             ],
             [
              0.6666666666666666,
              "#ed7953"
             ],
             [
              0.7777777777777778,
              "#fb9f3a"
             ],
             [
              0.8888888888888888,
              "#fdca26"
             ],
             [
              1,
              "#f0f921"
             ]
            ],
            "type": "surface"
           }
          ],
          "table": [
           {
            "cells": {
             "fill": {
              "color": "#EBF0F8"
             },
             "line": {
              "color": "white"
             }
            },
            "header": {
             "fill": {
              "color": "#C8D4E3"
             },
             "line": {
              "color": "white"
             }
            },
            "type": "table"
           }
          ]
         },
         "layout": {
          "annotationdefaults": {
           "arrowcolor": "#2a3f5f",
           "arrowhead": 0,
           "arrowwidth": 1
          },
          "autotypenumbers": "strict",
          "coloraxis": {
           "colorbar": {
            "outlinewidth": 0,
            "ticks": ""
           }
          },
          "colorscale": {
           "diverging": [
            [
             0,
             "#8e0152"
            ],
            [
             0.1,
             "#c51b7d"
            ],
            [
             0.2,
             "#de77ae"
            ],
            [
             0.3,
             "#f1b6da"
            ],
            [
             0.4,
             "#fde0ef"
            ],
            [
             0.5,
             "#f7f7f7"
            ],
            [
             0.6,
             "#e6f5d0"
            ],
            [
             0.7,
             "#b8e186"
            ],
            [
             0.8,
             "#7fbc41"
            ],
            [
             0.9,
             "#4d9221"
            ],
            [
             1,
             "#276419"
            ]
           ],
           "sequential": [
            [
             0,
             "#0d0887"
            ],
            [
             0.1111111111111111,
             "#46039f"
            ],
            [
             0.2222222222222222,
             "#7201a8"
            ],
            [
             0.3333333333333333,
             "#9c179e"
            ],
            [
             0.4444444444444444,
             "#bd3786"
            ],
            [
             0.5555555555555556,
             "#d8576b"
            ],
            [
             0.6666666666666666,
             "#ed7953"
            ],
            [
             0.7777777777777778,
             "#fb9f3a"
            ],
            [
             0.8888888888888888,
             "#fdca26"
            ],
            [
             1,
             "#f0f921"
            ]
           ],
           "sequentialminus": [
            [
             0,
             "#0d0887"
            ],
            [
             0.1111111111111111,
             "#46039f"
            ],
            [
             0.2222222222222222,
             "#7201a8"
            ],
            [
             0.3333333333333333,
             "#9c179e"
            ],
            [
             0.4444444444444444,
             "#bd3786"
            ],
            [
             0.5555555555555556,
             "#d8576b"
            ],
            [
             0.6666666666666666,
             "#ed7953"
            ],
            [
             0.7777777777777778,
             "#fb9f3a"
            ],
            [
             0.8888888888888888,
             "#fdca26"
            ],
            [
             1,
             "#f0f921"
            ]
           ]
          },
          "colorway": [
           "#636efa",
           "#EF553B",
           "#00cc96",
           "#ab63fa",
           "#FFA15A",
           "#19d3f3",
           "#FF6692",
           "#B6E880",
           "#FF97FF",
           "#FECB52"
          ],
          "font": {
           "color": "#2a3f5f"
          },
          "geo": {
           "bgcolor": "white",
           "lakecolor": "white",
           "landcolor": "#E5ECF6",
           "showlakes": true,
           "showland": true,
           "subunitcolor": "white"
          },
          "hoverlabel": {
           "align": "left"
          },
          "hovermode": "closest",
          "mapbox": {
           "style": "light"
          },
          "paper_bgcolor": "white",
          "plot_bgcolor": "#E5ECF6",
          "polar": {
           "angularaxis": {
            "gridcolor": "white",
            "linecolor": "white",
            "ticks": ""
           },
           "bgcolor": "#E5ECF6",
           "radialaxis": {
            "gridcolor": "white",
            "linecolor": "white",
            "ticks": ""
           }
          },
          "scene": {
           "xaxis": {
            "backgroundcolor": "#E5ECF6",
            "gridcolor": "white",
            "gridwidth": 2,
            "linecolor": "white",
            "showbackground": true,
            "ticks": "",
            "zerolinecolor": "white"
           },
           "yaxis": {
            "backgroundcolor": "#E5ECF6",
            "gridcolor": "white",
            "gridwidth": 2,
            "linecolor": "white",
            "showbackground": true,
            "ticks": "",
            "zerolinecolor": "white"
           },
           "zaxis": {
            "backgroundcolor": "#E5ECF6",
            "gridcolor": "white",
            "gridwidth": 2,
            "linecolor": "white",
            "showbackground": true,
            "ticks": "",
            "zerolinecolor": "white"
           }
          },
          "shapedefaults": {
           "line": {
            "color": "#2a3f5f"
           }
          },
          "ternary": {
           "aaxis": {
            "gridcolor": "white",
            "linecolor": "white",
            "ticks": ""
           },
           "baxis": {
            "gridcolor": "white",
            "linecolor": "white",
            "ticks": ""
           },
           "bgcolor": "#E5ECF6",
           "caxis": {
            "gridcolor": "white",
            "linecolor": "white",
            "ticks": ""
           }
          },
          "title": {
           "x": 0.05
          },
          "xaxis": {
           "automargin": true,
           "gridcolor": "white",
           "linecolor": "white",
           "ticks": "",
           "title": {
            "standoff": 15
           },
           "zerolinecolor": "white",
           "zerolinewidth": 2
          },
          "yaxis": {
           "automargin": true,
           "gridcolor": "white",
           "linecolor": "white",
           "ticks": "",
           "title": {
            "standoff": 15
           },
           "zerolinecolor": "white",
           "zerolinewidth": 2
          }
         }
        },
        "title": {
         "text": "Conf Matrix"
        },
        "width": 800,
        "xaxis": {
         "title": {
          "text": "Predicted value"
         }
        },
        "yaxis": {
         "title": {
          "text": "Real value"
         }
        }
       }
      }
     },
     "metadata": {},
     "output_type": "display_data"
    }
   ],
   "source": [
    "#Como se veria la matriz de confusión PERO ESTA ES LA PERFECTA\n",
    "display(plot_confusion_matrix(y_test,y_test))"
   ]
  },
  {
   "cell_type": "code",
   "execution_count": 25,
   "metadata": {},
   "outputs": [],
   "source": [
    "#SIMULACIONES"
   ]
  },
  {
   "cell_type": "code",
   "execution_count": 26,
   "metadata": {},
   "outputs": [],
   "source": [
    "#Pruebo un modelo alternativo donde en vez de usar la version multiclass real de lightGBM utilizo One vs All\n",
    "\n",
    "lgb_params = params = {\n",
    "                        'objective': 'multiclassova', # ESTA HACE MUCHAS LOGITICAS COMBINADAS PERO SIEMPRE DECIDE QUEDARSE CON UNA \n",
    "                        'num_class': len(y_train.unique())\n",
    "                        }\n",
    "\n",
    "\n",
    "lgb_train_dataset = lgb.Dataset(data=X_train,\n",
    "                                label=y_train)\n",
    "\n",
    "\n",
    "lgb_model = lgb.train(lgb_params,\n",
    "                      lgb_train_dataset)"
   ]
  },
  {
   "cell_type": "code",
   "execution_count": 27,
   "metadata": {},
   "outputs": [
    {
     "data": {
      "application/vnd.plotly.v1+json": {
       "config": {
        "plotlyServerURL": "https://plot.ly"
       },
       "data": [
        {
         "type": "heatmap",
         "x": [
          0,
          1,
          2,
          3,
          4
         ],
         "y": [
          0,
          1,
          2,
          3,
          4
         ],
         "z": [
          [
           45.1219512195122,
           18.29268292682927,
           25.609756097560975,
           2.4390243902439024,
           8.536585365853659
          ],
          [
           0.6472491909385114,
           48.22006472491909,
           25.080906148867317,
           10.841423948220065,
           15.210355987055015
          ],
          [
           0.37174721189591076,
           16.232961586121437,
           52.66418835192069,
           11.648079306071871,
           19.083023543990087
          ],
          [
           0.9202453987730062,
           13.03680981595092,
           25.920245398773005,
           41.56441717791411,
           18.55828220858896
          ],
          [
           0.4761904761904762,
           9.285714285714286,
           16.19047619047619,
           9.047619047619047,
           65
          ]
         ]
        }
       ],
       "layout": {
        "annotations": [
         {
          "font": {
           "color": "white"
          },
          "showarrow": false,
          "text": "45.1 - 37",
          "x": 0,
          "xref": "x",
          "y": 0,
          "yref": "y"
         },
         {
          "font": {
           "color": "white"
          },
          "showarrow": false,
          "text": "18.3 - 15",
          "x": 1,
          "xref": "x",
          "y": 0,
          "yref": "y"
         },
         {
          "font": {
           "color": "white"
          },
          "showarrow": false,
          "text": "25.6 - 21",
          "x": 2,
          "xref": "x",
          "y": 0,
          "yref": "y"
         },
         {
          "font": {
           "color": "white"
          },
          "showarrow": false,
          "text": "2.4 - 2",
          "x": 3,
          "xref": "x",
          "y": 0,
          "yref": "y"
         },
         {
          "font": {
           "color": "white"
          },
          "showarrow": false,
          "text": "8.5 - 7",
          "x": 4,
          "xref": "x",
          "y": 0,
          "yref": "y"
         },
         {
          "font": {
           "color": "white"
          },
          "showarrow": false,
          "text": "0.6 - 4",
          "x": 0,
          "xref": "x",
          "y": 1,
          "yref": "y"
         },
         {
          "font": {
           "color": "white"
          },
          "showarrow": false,
          "text": "48.2 - 298",
          "x": 1,
          "xref": "x",
          "y": 1,
          "yref": "y"
         },
         {
          "font": {
           "color": "white"
          },
          "showarrow": false,
          "text": "25.1 - 155",
          "x": 2,
          "xref": "x",
          "y": 1,
          "yref": "y"
         },
         {
          "font": {
           "color": "white"
          },
          "showarrow": false,
          "text": "10.8 - 67",
          "x": 3,
          "xref": "x",
          "y": 1,
          "yref": "y"
         },
         {
          "font": {
           "color": "white"
          },
          "showarrow": false,
          "text": "15.2 - 94",
          "x": 4,
          "xref": "x",
          "y": 1,
          "yref": "y"
         },
         {
          "font": {
           "color": "white"
          },
          "showarrow": false,
          "text": "0.4 - 3",
          "x": 0,
          "xref": "x",
          "y": 2,
          "yref": "y"
         },
         {
          "font": {
           "color": "white"
          },
          "showarrow": false,
          "text": "16.2 - 131",
          "x": 1,
          "xref": "x",
          "y": 2,
          "yref": "y"
         },
         {
          "font": {
           "color": "white"
          },
          "showarrow": false,
          "text": "52.7 - 425",
          "x": 2,
          "xref": "x",
          "y": 2,
          "yref": "y"
         },
         {
          "font": {
           "color": "white"
          },
          "showarrow": false,
          "text": "11.6 - 94",
          "x": 3,
          "xref": "x",
          "y": 2,
          "yref": "y"
         },
         {
          "font": {
           "color": "white"
          },
          "showarrow": false,
          "text": "19.1 - 154",
          "x": 4,
          "xref": "x",
          "y": 2,
          "yref": "y"
         },
         {
          "font": {
           "color": "white"
          },
          "showarrow": false,
          "text": "0.9 - 6",
          "x": 0,
          "xref": "x",
          "y": 3,
          "yref": "y"
         },
         {
          "font": {
           "color": "white"
          },
          "showarrow": false,
          "text": "13.0 - 85",
          "x": 1,
          "xref": "x",
          "y": 3,
          "yref": "y"
         },
         {
          "font": {
           "color": "white"
          },
          "showarrow": false,
          "text": "25.9 - 169",
          "x": 2,
          "xref": "x",
          "y": 3,
          "yref": "y"
         },
         {
          "font": {
           "color": "white"
          },
          "showarrow": false,
          "text": "41.6 - 271",
          "x": 3,
          "xref": "x",
          "y": 3,
          "yref": "y"
         },
         {
          "font": {
           "color": "white"
          },
          "showarrow": false,
          "text": "18.6 - 121",
          "x": 4,
          "xref": "x",
          "y": 3,
          "yref": "y"
         },
         {
          "font": {
           "color": "white"
          },
          "showarrow": false,
          "text": "0.5 - 4",
          "x": 0,
          "xref": "x",
          "y": 4,
          "yref": "y"
         },
         {
          "font": {
           "color": "white"
          },
          "showarrow": false,
          "text": "9.3 - 78",
          "x": 1,
          "xref": "x",
          "y": 4,
          "yref": "y"
         },
         {
          "font": {
           "color": "white"
          },
          "showarrow": false,
          "text": "16.2 - 136",
          "x": 2,
          "xref": "x",
          "y": 4,
          "yref": "y"
         },
         {
          "font": {
           "color": "white"
          },
          "showarrow": false,
          "text": "9.0 - 76",
          "x": 3,
          "xref": "x",
          "y": 4,
          "yref": "y"
         },
         {
          "font": {
           "color": "white"
          },
          "showarrow": false,
          "text": "65.0 - 546",
          "x": 4,
          "xref": "x",
          "y": 4,
          "yref": "y"
         }
        ],
        "height": 800,
        "template": {
         "data": {
          "bar": [
           {
            "error_x": {
             "color": "#2a3f5f"
            },
            "error_y": {
             "color": "#2a3f5f"
            },
            "marker": {
             "line": {
              "color": "#E5ECF6",
              "width": 0.5
             },
             "pattern": {
              "fillmode": "overlay",
              "size": 10,
              "solidity": 0.2
             }
            },
            "type": "bar"
           }
          ],
          "barpolar": [
           {
            "marker": {
             "line": {
              "color": "#E5ECF6",
              "width": 0.5
             },
             "pattern": {
              "fillmode": "overlay",
              "size": 10,
              "solidity": 0.2
             }
            },
            "type": "barpolar"
           }
          ],
          "carpet": [
           {
            "aaxis": {
             "endlinecolor": "#2a3f5f",
             "gridcolor": "white",
             "linecolor": "white",
             "minorgridcolor": "white",
             "startlinecolor": "#2a3f5f"
            },
            "baxis": {
             "endlinecolor": "#2a3f5f",
             "gridcolor": "white",
             "linecolor": "white",
             "minorgridcolor": "white",
             "startlinecolor": "#2a3f5f"
            },
            "type": "carpet"
           }
          ],
          "choropleth": [
           {
            "colorbar": {
             "outlinewidth": 0,
             "ticks": ""
            },
            "type": "choropleth"
           }
          ],
          "contour": [
           {
            "colorbar": {
             "outlinewidth": 0,
             "ticks": ""
            },
            "colorscale": [
             [
              0,
              "#0d0887"
             ],
             [
              0.1111111111111111,
              "#46039f"
             ],
             [
              0.2222222222222222,
              "#7201a8"
             ],
             [
              0.3333333333333333,
              "#9c179e"
             ],
             [
              0.4444444444444444,
              "#bd3786"
             ],
             [
              0.5555555555555556,
              "#d8576b"
             ],
             [
              0.6666666666666666,
              "#ed7953"
             ],
             [
              0.7777777777777778,
              "#fb9f3a"
             ],
             [
              0.8888888888888888,
              "#fdca26"
             ],
             [
              1,
              "#f0f921"
             ]
            ],
            "type": "contour"
           }
          ],
          "contourcarpet": [
           {
            "colorbar": {
             "outlinewidth": 0,
             "ticks": ""
            },
            "type": "contourcarpet"
           }
          ],
          "heatmap": [
           {
            "colorbar": {
             "outlinewidth": 0,
             "ticks": ""
            },
            "colorscale": [
             [
              0,
              "#0d0887"
             ],
             [
              0.1111111111111111,
              "#46039f"
             ],
             [
              0.2222222222222222,
              "#7201a8"
             ],
             [
              0.3333333333333333,
              "#9c179e"
             ],
             [
              0.4444444444444444,
              "#bd3786"
             ],
             [
              0.5555555555555556,
              "#d8576b"
             ],
             [
              0.6666666666666666,
              "#ed7953"
             ],
             [
              0.7777777777777778,
              "#fb9f3a"
             ],
             [
              0.8888888888888888,
              "#fdca26"
             ],
             [
              1,
              "#f0f921"
             ]
            ],
            "type": "heatmap"
           }
          ],
          "heatmapgl": [
           {
            "colorbar": {
             "outlinewidth": 0,
             "ticks": ""
            },
            "colorscale": [
             [
              0,
              "#0d0887"
             ],
             [
              0.1111111111111111,
              "#46039f"
             ],
             [
              0.2222222222222222,
              "#7201a8"
             ],
             [
              0.3333333333333333,
              "#9c179e"
             ],
             [
              0.4444444444444444,
              "#bd3786"
             ],
             [
              0.5555555555555556,
              "#d8576b"
             ],
             [
              0.6666666666666666,
              "#ed7953"
             ],
             [
              0.7777777777777778,
              "#fb9f3a"
             ],
             [
              0.8888888888888888,
              "#fdca26"
             ],
             [
              1,
              "#f0f921"
             ]
            ],
            "type": "heatmapgl"
           }
          ],
          "histogram": [
           {
            "marker": {
             "pattern": {
              "fillmode": "overlay",
              "size": 10,
              "solidity": 0.2
             }
            },
            "type": "histogram"
           }
          ],
          "histogram2d": [
           {
            "colorbar": {
             "outlinewidth": 0,
             "ticks": ""
            },
            "colorscale": [
             [
              0,
              "#0d0887"
             ],
             [
              0.1111111111111111,
              "#46039f"
             ],
             [
              0.2222222222222222,
              "#7201a8"
             ],
             [
              0.3333333333333333,
              "#9c179e"
             ],
             [
              0.4444444444444444,
              "#bd3786"
             ],
             [
              0.5555555555555556,
              "#d8576b"
             ],
             [
              0.6666666666666666,
              "#ed7953"
             ],
             [
              0.7777777777777778,
              "#fb9f3a"
             ],
             [
              0.8888888888888888,
              "#fdca26"
             ],
             [
              1,
              "#f0f921"
             ]
            ],
            "type": "histogram2d"
           }
          ],
          "histogram2dcontour": [
           {
            "colorbar": {
             "outlinewidth": 0,
             "ticks": ""
            },
            "colorscale": [
             [
              0,
              "#0d0887"
             ],
             [
              0.1111111111111111,
              "#46039f"
             ],
             [
              0.2222222222222222,
              "#7201a8"
             ],
             [
              0.3333333333333333,
              "#9c179e"
             ],
             [
              0.4444444444444444,
              "#bd3786"
             ],
             [
              0.5555555555555556,
              "#d8576b"
             ],
             [
              0.6666666666666666,
              "#ed7953"
             ],
             [
              0.7777777777777778,
              "#fb9f3a"
             ],
             [
              0.8888888888888888,
              "#fdca26"
             ],
             [
              1,
              "#f0f921"
             ]
            ],
            "type": "histogram2dcontour"
           }
          ],
          "mesh3d": [
           {
            "colorbar": {
             "outlinewidth": 0,
             "ticks": ""
            },
            "type": "mesh3d"
           }
          ],
          "parcoords": [
           {
            "line": {
             "colorbar": {
              "outlinewidth": 0,
              "ticks": ""
             }
            },
            "type": "parcoords"
           }
          ],
          "pie": [
           {
            "automargin": true,
            "type": "pie"
           }
          ],
          "scatter": [
           {
            "fillpattern": {
             "fillmode": "overlay",
             "size": 10,
             "solidity": 0.2
            },
            "type": "scatter"
           }
          ],
          "scatter3d": [
           {
            "line": {
             "colorbar": {
              "outlinewidth": 0,
              "ticks": ""
             }
            },
            "marker": {
             "colorbar": {
              "outlinewidth": 0,
              "ticks": ""
             }
            },
            "type": "scatter3d"
           }
          ],
          "scattercarpet": [
           {
            "marker": {
             "colorbar": {
              "outlinewidth": 0,
              "ticks": ""
             }
            },
            "type": "scattercarpet"
           }
          ],
          "scattergeo": [
           {
            "marker": {
             "colorbar": {
              "outlinewidth": 0,
              "ticks": ""
             }
            },
            "type": "scattergeo"
           }
          ],
          "scattergl": [
           {
            "marker": {
             "colorbar": {
              "outlinewidth": 0,
              "ticks": ""
             }
            },
            "type": "scattergl"
           }
          ],
          "scattermapbox": [
           {
            "marker": {
             "colorbar": {
              "outlinewidth": 0,
              "ticks": ""
             }
            },
            "type": "scattermapbox"
           }
          ],
          "scatterpolar": [
           {
            "marker": {
             "colorbar": {
              "outlinewidth": 0,
              "ticks": ""
             }
            },
            "type": "scatterpolar"
           }
          ],
          "scatterpolargl": [
           {
            "marker": {
             "colorbar": {
              "outlinewidth": 0,
              "ticks": ""
             }
            },
            "type": "scatterpolargl"
           }
          ],
          "scatterternary": [
           {
            "marker": {
             "colorbar": {
              "outlinewidth": 0,
              "ticks": ""
             }
            },
            "type": "scatterternary"
           }
          ],
          "surface": [
           {
            "colorbar": {
             "outlinewidth": 0,
             "ticks": ""
            },
            "colorscale": [
             [
              0,
              "#0d0887"
             ],
             [
              0.1111111111111111,
              "#46039f"
             ],
             [
              0.2222222222222222,
              "#7201a8"
             ],
             [
              0.3333333333333333,
              "#9c179e"
             ],
             [
              0.4444444444444444,
              "#bd3786"
             ],
             [
              0.5555555555555556,
              "#d8576b"
             ],
             [
              0.6666666666666666,
              "#ed7953"
             ],
             [
              0.7777777777777778,
              "#fb9f3a"
             ],
             [
              0.8888888888888888,
              "#fdca26"
             ],
             [
              1,
              "#f0f921"
             ]
            ],
            "type": "surface"
           }
          ],
          "table": [
           {
            "cells": {
             "fill": {
              "color": "#EBF0F8"
             },
             "line": {
              "color": "white"
             }
            },
            "header": {
             "fill": {
              "color": "#C8D4E3"
             },
             "line": {
              "color": "white"
             }
            },
            "type": "table"
           }
          ]
         },
         "layout": {
          "annotationdefaults": {
           "arrowcolor": "#2a3f5f",
           "arrowhead": 0,
           "arrowwidth": 1
          },
          "autotypenumbers": "strict",
          "coloraxis": {
           "colorbar": {
            "outlinewidth": 0,
            "ticks": ""
           }
          },
          "colorscale": {
           "diverging": [
            [
             0,
             "#8e0152"
            ],
            [
             0.1,
             "#c51b7d"
            ],
            [
             0.2,
             "#de77ae"
            ],
            [
             0.3,
             "#f1b6da"
            ],
            [
             0.4,
             "#fde0ef"
            ],
            [
             0.5,
             "#f7f7f7"
            ],
            [
             0.6,
             "#e6f5d0"
            ],
            [
             0.7,
             "#b8e186"
            ],
            [
             0.8,
             "#7fbc41"
            ],
            [
             0.9,
             "#4d9221"
            ],
            [
             1,
             "#276419"
            ]
           ],
           "sequential": [
            [
             0,
             "#0d0887"
            ],
            [
             0.1111111111111111,
             "#46039f"
            ],
            [
             0.2222222222222222,
             "#7201a8"
            ],
            [
             0.3333333333333333,
             "#9c179e"
            ],
            [
             0.4444444444444444,
             "#bd3786"
            ],
            [
             0.5555555555555556,
             "#d8576b"
            ],
            [
             0.6666666666666666,
             "#ed7953"
            ],
            [
             0.7777777777777778,
             "#fb9f3a"
            ],
            [
             0.8888888888888888,
             "#fdca26"
            ],
            [
             1,
             "#f0f921"
            ]
           ],
           "sequentialminus": [
            [
             0,
             "#0d0887"
            ],
            [
             0.1111111111111111,
             "#46039f"
            ],
            [
             0.2222222222222222,
             "#7201a8"
            ],
            [
             0.3333333333333333,
             "#9c179e"
            ],
            [
             0.4444444444444444,
             "#bd3786"
            ],
            [
             0.5555555555555556,
             "#d8576b"
            ],
            [
             0.6666666666666666,
             "#ed7953"
            ],
            [
             0.7777777777777778,
             "#fb9f3a"
            ],
            [
             0.8888888888888888,
             "#fdca26"
            ],
            [
             1,
             "#f0f921"
            ]
           ]
          },
          "colorway": [
           "#636efa",
           "#EF553B",
           "#00cc96",
           "#ab63fa",
           "#FFA15A",
           "#19d3f3",
           "#FF6692",
           "#B6E880",
           "#FF97FF",
           "#FECB52"
          ],
          "font": {
           "color": "#2a3f5f"
          },
          "geo": {
           "bgcolor": "white",
           "lakecolor": "white",
           "landcolor": "#E5ECF6",
           "showlakes": true,
           "showland": true,
           "subunitcolor": "white"
          },
          "hoverlabel": {
           "align": "left"
          },
          "hovermode": "closest",
          "mapbox": {
           "style": "light"
          },
          "paper_bgcolor": "white",
          "plot_bgcolor": "#E5ECF6",
          "polar": {
           "angularaxis": {
            "gridcolor": "white",
            "linecolor": "white",
            "ticks": ""
           },
           "bgcolor": "#E5ECF6",
           "radialaxis": {
            "gridcolor": "white",
            "linecolor": "white",
            "ticks": ""
           }
          },
          "scene": {
           "xaxis": {
            "backgroundcolor": "#E5ECF6",
            "gridcolor": "white",
            "gridwidth": 2,
            "linecolor": "white",
            "showbackground": true,
            "ticks": "",
            "zerolinecolor": "white"
           },
           "yaxis": {
            "backgroundcolor": "#E5ECF6",
            "gridcolor": "white",
            "gridwidth": 2,
            "linecolor": "white",
            "showbackground": true,
            "ticks": "",
            "zerolinecolor": "white"
           },
           "zaxis": {
            "backgroundcolor": "#E5ECF6",
            "gridcolor": "white",
            "gridwidth": 2,
            "linecolor": "white",
            "showbackground": true,
            "ticks": "",
            "zerolinecolor": "white"
           }
          },
          "shapedefaults": {
           "line": {
            "color": "#2a3f5f"
           }
          },
          "ternary": {
           "aaxis": {
            "gridcolor": "white",
            "linecolor": "white",
            "ticks": ""
           },
           "baxis": {
            "gridcolor": "white",
            "linecolor": "white",
            "ticks": ""
           },
           "bgcolor": "#E5ECF6",
           "caxis": {
            "gridcolor": "white",
            "linecolor": "white",
            "ticks": ""
           }
          },
          "title": {
           "x": 0.05
          },
          "xaxis": {
           "automargin": true,
           "gridcolor": "white",
           "linecolor": "white",
           "ticks": "",
           "title": {
            "standoff": 15
           },
           "zerolinecolor": "white",
           "zerolinewidth": 2
          },
          "yaxis": {
           "automargin": true,
           "gridcolor": "white",
           "linecolor": "white",
           "ticks": "",
           "title": {
            "standoff": 15
           },
           "zerolinecolor": "white",
           "zerolinewidth": 2
          }
         }
        },
        "title": {
         "text": "Conf Matrix"
        },
        "width": 800,
        "xaxis": {
         "title": {
          "text": "Predicted value"
         }
        },
        "yaxis": {
         "title": {
          "text": "Real value"
         }
        }
       }
      }
     },
     "metadata": {},
     "output_type": "display_data"
    },
    {
     "data": {
      "text/plain": [
       "{'kappa': 0.465889464194431,\n",
       " 'accuracy': 0.5258419473157719,\n",
       " 'balanced_accuracy': 0.5051412429485322}"
      ]
     },
     "execution_count": 27,
     "metadata": {},
     "output_type": "execute_result"
    }
   ],
   "source": [
    "#MAtriz de confusion y Kappa dfe OVA\n",
    "y_pred = lgb_model.predict(X_test).argmax(axis=1)\n",
    "\n",
    "display(plot_confusion_matrix(y_test,y_pred))\n",
    "\n",
    "{'kappa':cohen_kappa_score(y_test,\n",
    "                y_pred,\n",
    "                weights = 'quadratic'),\n",
    " 'accuracy':accuracy_score(y_test,y_pred),\n",
    " 'balanced_accuracy':balanced_accuracy_score(y_test,y_pred)}\n",
    "\n",
    "\n"
   ]
  },
  {
   "cell_type": "code",
   "execution_count": 28,
   "metadata": {},
   "outputs": [],
   "source": [
    "#USAR MULTINOVA MEJORA KAPPA OSEA MI MODELO SE ACERCA MAS AL ORIG"
   ]
  },
  {
   "cell_type": "markdown",
   "metadata": {},
   "source": [
    "## Optimizacion de hiperparametros modelo train/test"
   ]
  },
  {
   "cell_type": "code",
   "execution_count": 29,
   "metadata": {},
   "outputs": [],
   "source": [
    "#AHORA SUMAMOS HIPERPARAMETROS PARA VER QUE PASA CON LGBM"
   ]
  },
  {
   "cell_type": "code",
   "execution_count": 30,
   "metadata": {},
   "outputs": [],
   "source": [
    "\n",
    "#Funcion que vamos a optimizar. Optuna requiere que usemos el objeto trial para generar los parametros a optimizar\n",
    "def lgb_objective(trial):\n",
    "    #PArametros para LightGBM\n",
    "    lgb_params = {      \n",
    "                        #PArametros fijos\n",
    "                        'objective': 'multiclass',\n",
    "                        'verbosity':-1,\n",
    "                        'num_class': len(y_train.unique()),\n",
    "                        #Hiperparametros a optimizar utilizando suggest_float o suggest_int segun el tipo de dato\n",
    "                        #Se indica el nombre del parametro, valor minimo, valor maximo \n",
    "                        #en elgunos casos el parametro log=True para parametros que requieren buscar en esa escala\n",
    "                        'lambda_l1': trial.suggest_float('lambda_l1', 1e-8, 10.0, log=True),\n",
    "                        'lambda_l2': trial.suggest_float('lambda_l2', 1e-8, 10.0, log=True),\n",
    "                        'num_leaves': trial.suggest_int('num_leaves', 2, 256),\n",
    "                        'feature_fraction': trial.suggest_float('feature_fraction', 0.4, 1.0),\n",
    "                        'bagging_fraction': trial.suggest_float('bagging_fraction', 0.4, 1.0),\n",
    "                        'bagging_freq': trial.suggest_int('bagging_freq', 1, 7),\n",
    "                        'min_child_samples': trial.suggest_int('min_child_samples', 5, 100),\n",
    "                        } \n",
    "\n",
    "    #Genero objeto dataset de entrenamiento\n",
    "    lgb_train_dataset = lgb.Dataset(data=X_train,\n",
    "                                    label=y_train)\n",
    "\n",
    "    #ajuste de modelo\n",
    "    lgb_model = lgb.train(lgb_params,\n",
    "                        lgb_train_dataset)\n",
    "    \n",
    "    #Devuelvo el score en test\n",
    "    return(cohen_kappa_score(y_test,lgb_model.predict(X_test).argmax(axis=1),\n",
    "                             weights = 'quadratic'))"
   ]
  },
  {
   "cell_type": "code",
   "execution_count": 31,
   "metadata": {},
   "outputs": [
    {
     "name": "stderr",
     "output_type": "stream",
     "text": [
      "[I 2024-08-18 20:10:07,010] Using an existing study with name '04 - LGB Multiclass' instead of creating a new one.\n",
      "[I 2024-08-18 20:10:11,455] Trial 700 finished with value: 0.4659392143241464 and parameters: {'lambda_l1': 9.397749970187344e-05, 'lambda_l2': 4.49842660541114e-07, 'num_leaves': 28, 'feature_fraction': 0.9810837524699954, 'bagging_fraction': 0.5975269808812853, 'bagging_freq': 6, 'min_child_samples': 9}. Best is trial 200 with value: 1.0.\n",
      "[I 2024-08-18 20:10:12,845] Trial 701 finished with value: 0.4635153370236301 and parameters: {'lambda_l1': 0.000150419556447319, 'lambda_l2': 1.2440835983038646e-07, 'num_leaves': 8, 'feature_fraction': 0.9893476832917459, 'bagging_fraction': 0.5309738963073758, 'bagging_freq': 6, 'min_child_samples': 12}. Best is trial 200 with value: 1.0.\n",
      "[I 2024-08-18 20:10:15,694] Trial 702 finished with value: 0.46068342933717565 and parameters: {'lambda_l1': 1.5288070114635343e-05, 'lambda_l2': 4.9981535038129186e-08, 'num_leaves': 14, 'feature_fraction': 0.9998710302525656, 'bagging_fraction': 0.5020574218424405, 'bagging_freq': 6, 'min_child_samples': 15}. Best is trial 200 with value: 1.0.\n",
      "[I 2024-08-18 20:10:18,133] Trial 703 finished with value: 0.46222353613862854 and parameters: {'lambda_l1': 4.9227696723025174e-05, 'lambda_l2': 7.608981874929215e-08, 'num_leaves': 19, 'feature_fraction': 0.9689812126229433, 'bagging_fraction': 0.5723483438933643, 'bagging_freq': 5, 'min_child_samples': 6}. Best is trial 200 with value: 1.0.\n",
      "[I 2024-08-18 20:10:20,064] Trial 704 finished with value: 0.4715873521393604 and parameters: {'lambda_l1': 3.549217318680826e-05, 'lambda_l2': 0.7908858954536279, 'num_leaves': 11, 'feature_fraction': 0.9780263096227964, 'bagging_fraction': 0.5514597688715596, 'bagging_freq': 6, 'min_child_samples': 100}. Best is trial 200 with value: 1.0.\n",
      "[I 2024-08-18 20:10:23,682] Trial 705 finished with value: 0.4426879064237246 and parameters: {'lambda_l1': 0.0002776201226135671, 'lambda_l2': 1.594233516793268e-07, 'num_leaves': 36, 'feature_fraction': 0.989354760502439, 'bagging_fraction': 0.524976017870387, 'bagging_freq': 6, 'min_child_samples': 18}. Best is trial 200 with value: 1.0.\n",
      "[I 2024-08-18 20:10:25,315] Trial 706 finished with value: 0.4538024282048434 and parameters: {'lambda_l1': 9.118173862995721e-05, 'lambda_l2': 2.9911922793363734e-08, 'num_leaves': 2, 'feature_fraction': 0.9999937179227734, 'bagging_fraction': 0.4871338962515833, 'bagging_freq': 6, 'min_child_samples': 14}. Best is trial 200 with value: 1.0.\n",
      "[I 2024-08-18 20:10:28,813] Trial 707 finished with value: 0.4661168458262547 and parameters: {'lambda_l1': 6.225162878945466e-05, 'lambda_l2': 5.285372686171526e-08, 'num_leaves': 23, 'feature_fraction': 0.9432475466762222, 'bagging_fraction': 0.5827697320791102, 'bagging_freq': 7, 'min_child_samples': 16}. Best is trial 200 with value: 1.0.\n",
      "[I 2024-08-18 20:10:30,488] Trial 708 finished with value: 0.459972669613262 and parameters: {'lambda_l1': 0.00015779277039525778, 'lambda_l2': 2.6664287365567783e-07, 'num_leaves': 7, 'feature_fraction': 0.9796752038100024, 'bagging_fraction': 0.539258901493521, 'bagging_freq': 6, 'min_child_samples': 20}. Best is trial 200 with value: 1.0.\n",
      "[I 2024-08-18 20:10:33,966] Trial 709 finished with value: 0.46273775614387236 and parameters: {'lambda_l1': 0.00011906508043172997, 'lambda_l2': 1.0286545911770339e-07, 'num_leaves': 16, 'feature_fraction': 0.9678715017650957, 'bagging_fraction': 0.5126872378371737, 'bagging_freq': 6, 'min_child_samples': 13}. Best is trial 200 with value: 1.0.\n",
      "[I 2024-08-18 20:10:42,344] Trial 710 finished with value: 0.46613462818069573 and parameters: {'lambda_l1': 2.1252230805383563e-05, 'lambda_l2': 7.547672758875472e-08, 'num_leaves': 10, 'feature_fraction': 0.5372901803204582, 'bagging_fraction': 0.566291345667219, 'bagging_freq': 6, 'min_child_samples': 17}. Best is trial 200 with value: 1.0.\n",
      "[I 2024-08-18 20:10:44,834] Trial 711 finished with value: 0.4394233108801293 and parameters: {'lambda_l1': 3.7116360109545965e-05, 'lambda_l2': 2.0946578923925505e-07, 'num_leaves': 26, 'feature_fraction': 0.9886261776123518, 'bagging_fraction': 0.4732839780127215, 'bagging_freq': 6, 'min_child_samples': 11}. Best is trial 200 with value: 1.0.\n",
      "[I 2024-08-18 20:10:46,532] Trial 712 finished with value: 0.4574995391667839 and parameters: {'lambda_l1': 7.805272576717415e-05, 'lambda_l2': 1.2775354458424016e-07, 'num_leaves': 6, 'feature_fraction': 0.9790029011412045, 'bagging_fraction': 0.4996088840327632, 'bagging_freq': 6, 'min_child_samples': 15}. Best is trial 200 with value: 1.0.\n",
      "[I 2024-08-18 20:10:48,174] Trial 713 finished with value: 0.45599565291389377 and parameters: {'lambda_l1': 5.399787931914068e-05, 'lambda_l2': 3.946941961573815e-08, 'num_leaves': 16, 'feature_fraction': 0.99999783777607, 'bagging_fraction': 0.5283486407647653, 'bagging_freq': 6, 'min_child_samples': 18}. Best is trial 200 with value: 1.0.\n",
      "[I 2024-08-18 20:10:49,263] Trial 714 finished with value: 0.46122160572703097 and parameters: {'lambda_l1': 0.00019139477200313937, 'lambda_l2': 1.0690813453168402e-08, 'num_leaves': 2, 'feature_fraction': 0.9524267417492573, 'bagging_fraction': 0.5553783591337823, 'bagging_freq': 6, 'min_child_samples': 13}. Best is trial 200 with value: 1.0.\n",
      "[I 2024-08-18 20:10:53,112] Trial 715 finished with value: 0.45952423880715976 and parameters: {'lambda_l1': 0.00011392639415961988, 'lambda_l2': 3.7043441795705914e-07, 'num_leaves': 11, 'feature_fraction': 0.9877787680736944, 'bagging_fraction': 0.5141836741149723, 'bagging_freq': 6, 'min_child_samples': 21}. Best is trial 200 with value: 1.0.\n",
      "[I 2024-08-18 20:10:54,897] Trial 716 finished with value: 0.4633470892652799 and parameters: {'lambda_l1': 0.0003214047311112807, 'lambda_l2': 2.3946251468400695e-08, 'num_leaves': 10, 'feature_fraction': 0.9674244212271417, 'bagging_fraction': 0.4594859251553865, 'bagging_freq': 6, 'min_child_samples': 16}. Best is trial 200 with value: 1.0.\n",
      "[I 2024-08-18 20:11:03,774] Trial 717 finished with value: 0.41978239267926243 and parameters: {'lambda_l1': 7.433104238413886e-05, 'lambda_l2': 7.144112687687198e-08, 'num_leaves': 227, 'feature_fraction': 0.9999237892836832, 'bagging_fraction': 0.5418447006857134, 'bagging_freq': 5, 'min_child_samples': 14}. Best is trial 200 with value: 1.0.\n",
      "[I 2024-08-18 20:11:05,678] Trial 718 finished with value: 0.4588059502505236 and parameters: {'lambda_l1': 4.2777480258402424e-05, 'lambda_l2': 0.07841452473386916, 'num_leaves': 20, 'feature_fraction': 0.9820710544563043, 'bagging_fraction': 0.4870457545660269, 'bagging_freq': 6, 'min_child_samples': 18}. Best is trial 200 with value: 1.0.\n",
      "[I 2024-08-18 20:11:07,343] Trial 719 finished with value: 0.46299336718211825 and parameters: {'lambda_l1': 2.943874273423263e-05, 'lambda_l2': 1.5652027931400412e-07, 'num_leaves': 15, 'feature_fraction': 0.989009341082203, 'bagging_fraction': 0.5008767117329443, 'bagging_freq': 6, 'min_child_samples': 11}. Best is trial 200 with value: 1.0.\n",
      "[I 2024-08-18 20:11:08,926] Trial 720 finished with value: 0.4602540571627419 and parameters: {'lambda_l1': 0.00013486607507532842, 'lambda_l2': 1.003451456434434e-07, 'num_leaves': 7, 'feature_fraction': 0.9738246785411626, 'bagging_fraction': 0.5845393474937414, 'bagging_freq': 6, 'min_child_samples': 16}. Best is trial 200 with value: 1.0.\n",
      "[I 2024-08-18 20:11:11,304] Trial 721 finished with value: 0.4458929089433875 and parameters: {'lambda_l1': 5.944999864076027e-05, 'lambda_l2': 4.672113307302806e-08, 'num_leaves': 24, 'feature_fraction': 0.9585924310711285, 'bagging_fraction': 0.5655795571602349, 'bagging_freq': 6, 'min_child_samples': 9}. Best is trial 200 with value: 1.0.\n",
      "[I 2024-08-18 20:11:12,115] Trial 722 finished with value: 0.45637422608289746 and parameters: {'lambda_l1': 9.145025005964599e-05, 'lambda_l2': 6.105091853438547e-08, 'num_leaves': 2, 'feature_fraction': 0.9894656954891082, 'bagging_fraction': 0.5217426390873712, 'bagging_freq': 6, 'min_child_samples': 19}. Best is trial 200 with value: 1.0.\n",
      "[I 2024-08-18 20:11:14,853] Trial 723 finished with value: 0.4502894960742089 and parameters: {'lambda_l1': 0.00020597706771509184, 'lambda_l2': 5.766044445075869e-07, 'num_leaves': 31, 'feature_fraction': 0.7966810017674946, 'bagging_fraction': 0.5465524155632742, 'bagging_freq': 6, 'min_child_samples': 14}. Best is trial 200 with value: 1.0.\n",
      "[I 2024-08-18 20:11:16,616] Trial 724 finished with value: 0.4547100767901271 and parameters: {'lambda_l1': 5.026224494637374e-05, 'lambda_l2': 2.6887172818201184e-07, 'num_leaves': 18, 'feature_fraction': 0.9737542848512768, 'bagging_fraction': 0.5334033814211857, 'bagging_freq': 6, 'min_child_samples': 12}. Best is trial 200 with value: 1.0.\n",
      "[I 2024-08-18 20:11:18,496] Trial 725 finished with value: 0.4623235931516627 and parameters: {'lambda_l1': 9.128159320573878e-05, 'lambda_l2': 1.2502833841210843e-07, 'num_leaves': 11, 'feature_fraction': 0.9890799758078183, 'bagging_fraction': 0.592696810591965, 'bagging_freq': 6, 'min_child_samples': 22}. Best is trial 200 with value: 1.0.\n",
      "[I 2024-08-18 20:11:19,940] Trial 726 finished with value: 0.4579773513992873 and parameters: {'lambda_l1': 3.136001732714987e-05, 'lambda_l2': 1.8305913963536288e-07, 'num_leaves': 6, 'feature_fraction': 0.9807611906271826, 'bagging_fraction': 0.5097268888290679, 'bagging_freq': 6, 'min_child_samples': 43}. Best is trial 200 with value: 1.0.\n",
      "[I 2024-08-18 20:11:21,390] Trial 727 finished with value: 0.47519235425695383 and parameters: {'lambda_l1': 0.00014419471680008584, 'lambda_l2': 9.070079917282313e-08, 'num_leaves': 14, 'feature_fraction': 0.8422388275981494, 'bagging_fraction': 0.47835212044629233, 'bagging_freq': 6, 'min_child_samples': 16}. Best is trial 200 with value: 1.0.\n",
      "[I 2024-08-18 20:11:23,262] Trial 728 finished with value: 0.45086730754177073 and parameters: {'lambda_l1': 6.67428740604045e-05, 'lambda_l2': 2.715480802160615e-08, 'num_leaves': 22, 'feature_fraction': 0.9651197535440993, 'bagging_fraction': 0.5585368463809662, 'bagging_freq': 6, 'min_child_samples': 18}. Best is trial 200 with value: 1.0.\n",
      "[I 2024-08-18 20:11:24,511] Trial 729 finished with value: 0.4641898437349876 and parameters: {'lambda_l1': 2.473898490461032e-06, 'lambda_l2': 4.1087821520751505e-08, 'num_leaves': 6, 'feature_fraction': 0.9996307938089614, 'bagging_fraction': 0.4937918107802402, 'bagging_freq': 6, 'min_child_samples': 14}. Best is trial 200 with value: 1.0.\n",
      "[I 2024-08-18 20:11:25,894] Trial 730 finished with value: 0.460836531898591 and parameters: {'lambda_l1': 1.9847149116923153e-05, 'lambda_l2': 5.836374894795603e-08, 'num_leaves': 12, 'feature_fraction': 0.9792047085789665, 'bagging_fraction': 0.5768591291976174, 'bagging_freq': 6, 'min_child_samples': 16}. Best is trial 200 with value: 1.0.\n",
      "[I 2024-08-18 20:11:27,914] Trial 731 finished with value: 0.4652090291811459 and parameters: {'lambda_l1': 0.00010743918894634923, 'lambda_l2': 2.0589316880628688e-07, 'num_leaves': 18, 'feature_fraction': 0.9895554792388446, 'bagging_fraction': 0.519289598369989, 'bagging_freq': 6, 'min_child_samples': 20}. Best is trial 200 with value: 1.0.\n",
      "[I 2024-08-18 20:11:30,047] Trial 732 finished with value: 0.4543345816477231 and parameters: {'lambda_l1': 0.0002611329116347031, 'lambda_l2': 3.940062888435791e-07, 'num_leaves': 27, 'feature_fraction': 0.9886820653934919, 'bagging_fraction': 0.5429417706264125, 'bagging_freq': 6, 'min_child_samples': 12}. Best is trial 200 with value: 1.0.\n",
      "[I 2024-08-18 20:11:36,056] Trial 733 finished with value: 0.4197882103544265 and parameters: {'lambda_l1': 4.7655276010471765e-05, 'lambda_l2': 1.1577128974366894e-07, 'num_leaves': 121, 'feature_fraction': 0.9998655877848802, 'bagging_fraction': 0.6066369844044861, 'bagging_freq': 6, 'min_child_samples': 17}. Best is trial 200 with value: 1.0.\n",
      "[I 2024-08-18 20:11:37,853] Trial 734 finished with value: 0.4561960222389545 and parameters: {'lambda_l1': 0.00044659864886574264, 'lambda_l2': 5.514355147882421e-05, 'num_leaves': 6, 'feature_fraction': 0.9999723183557022, 'bagging_fraction': 0.530692989560762, 'bagging_freq': 6, 'min_child_samples': 14}. Best is trial 200 with value: 1.0.\n",
      "[I 2024-08-18 20:11:39,648] Trial 735 finished with value: 0.4622224806999824 and parameters: {'lambda_l1': 7.4752207027372e-05, 'lambda_l2': 1.7495455226361526e-08, 'num_leaves': 12, 'feature_fraction': 0.971806779958769, 'bagging_fraction': 0.6930319273913275, 'bagging_freq': 6, 'min_child_samples': 15}. Best is trial 200 with value: 1.0.\n",
      "[I 2024-08-18 20:11:47,614] Trial 736 finished with value: 0.4272996198297727 and parameters: {'lambda_l1': 0.0001644470420693232, 'lambda_l2': 7.344004029528792e-08, 'num_leaves': 76, 'feature_fraction': 0.9582168482542144, 'bagging_fraction': 0.5059721359042987, 'bagging_freq': 7, 'min_child_samples': 10}. Best is trial 200 with value: 1.0.\n",
      "[I 2024-08-18 20:11:48,588] Trial 737 finished with value: 0.45910270194813807 and parameters: {'lambda_l1': 3.0484565087653338e-05, 'lambda_l2': 0.013988491676885496, 'num_leaves': 2, 'feature_fraction': 0.9794692092957376, 'bagging_fraction': 0.5579320067001332, 'bagging_freq': 6, 'min_child_samples': 19}. Best is trial 200 with value: 1.0.\n",
      "[I 2024-08-18 20:11:59,823] Trial 738 finished with value: 0.4236705881635505 and parameters: {'lambda_l1': 5.7243387542948566e-05, 'lambda_l2': 3.352705691726446e-08, 'num_leaves': 253, 'feature_fraction': 0.9869565496380855, 'bagging_fraction': 0.4935545410096921, 'bagging_freq': 6, 'min_child_samples': 17}. Best is trial 200 with value: 1.0.\n",
      "[I 2024-08-18 20:12:02,082] Trial 739 finished with value: 0.46712376281446055 and parameters: {'lambda_l1': 0.00010977572102926991, 'lambda_l2': 1.2617242501187653e-06, 'num_leaves': 20, 'feature_fraction': 0.9696451128010308, 'bagging_fraction': 0.5730575395314457, 'bagging_freq': 1, 'min_child_samples': 12}. Best is trial 200 with value: 1.0.\n",
      "[I 2024-08-18 20:12:04,012] Trial 740 finished with value: 0.4585360575499844 and parameters: {'lambda_l1': 8.182151190056529e-05, 'lambda_l2': 1.388767879933606e-07, 'num_leaves': 10, 'feature_fraction': 0.9882015773511392, 'bagging_fraction': 0.46674504706013503, 'bagging_freq': 6, 'min_child_samples': 15}. Best is trial 200 with value: 1.0.\n",
      "[I 2024-08-18 20:12:07,377] Trial 741 finished with value: 0.46405775309572084 and parameters: {'lambda_l1': 4.0780010247271076e-05, 'lambda_l2': 5.457851380260998e-08, 'num_leaves': 16, 'feature_fraction': 0.9998093112589753, 'bagging_fraction': 0.5228483696190314, 'bagging_freq': 6, 'min_child_samples': 13}. Best is trial 200 with value: 1.0.\n",
      "[I 2024-08-18 20:12:08,708] Trial 742 finished with value: 0.46280419969503006 and parameters: {'lambda_l1': 0.00020624846671650452, 'lambda_l2': 9.186807951549994e-08, 'num_leaves': 2, 'feature_fraction': 0.9790799869137369, 'bagging_fraction': 0.5498925487451949, 'bagging_freq': 6, 'min_child_samples': 18}. Best is trial 200 with value: 1.0.\n",
      "[I 2024-08-18 20:12:11,430] Trial 743 finished with value: 0.42597179699069365 and parameters: {'lambda_l1': 0.0001359813989855634, 'lambda_l2': 2.5936105180953825e-07, 'num_leaves': 23, 'feature_fraction': 0.941806820277409, 'bagging_fraction': 0.4460364916174587, 'bagging_freq': 6, 'min_child_samples': 7}. Best is trial 200 with value: 1.0.\n",
      "[I 2024-08-18 20:12:13,386] Trial 744 finished with value: 0.45577926847972616 and parameters: {'lambda_l1': 7.047236241536402e-05, 'lambda_l2': 1.7287890522532442e-07, 'num_leaves': 7, 'feature_fraction': 0.9895875161470388, 'bagging_fraction': 0.48444691708868554, 'bagging_freq': 5, 'min_child_samples': 16}. Best is trial 200 with value: 1.0.\n",
      "[I 2024-08-18 20:12:16,806] Trial 745 finished with value: 0.44289261041340466 and parameters: {'lambda_l1': 4.1776474006383706e-05, 'lambda_l2': 7.51838000761961e-08, 'num_leaves': 41, 'feature_fraction': 0.9696376117795349, 'bagging_fraction': 0.5341980990375272, 'bagging_freq': 6, 'min_child_samples': 14}. Best is trial 200 with value: 1.0.\n",
      "[I 2024-08-18 20:12:19,019] Trial 746 finished with value: 0.45933329717523985 and parameters: {'lambda_l1': 0.00010945991457120612, 'lambda_l2': 4.2772793180881436e-08, 'num_leaves': 15, 'feature_fraction': 0.9785292432878168, 'bagging_fraction': 0.5059765429668245, 'bagging_freq': 6, 'min_child_samples': 23}. Best is trial 200 with value: 1.0.\n",
      "[I 2024-08-18 20:12:20,512] Trial 747 finished with value: 0.4634765084979874 and parameters: {'lambda_l1': 2.0371305740235675e-05, 'lambda_l2': 3.9058049330369703e-07, 'num_leaves': 10, 'feature_fraction': 0.999907567575717, 'bagging_fraction': 0.5173008495241713, 'bagging_freq': 6, 'min_child_samples': 20}. Best is trial 200 with value: 1.0.\n",
      "[I 2024-08-18 20:12:22,571] Trial 748 finished with value: 0.4630055269081583 and parameters: {'lambda_l1': 5.539746377471666e-05, 'lambda_l2': 7.1574574034751e-07, 'num_leaves': 29, 'feature_fraction': 0.9599268765531989, 'bagging_fraction': 0.5669918761467849, 'bagging_freq': 6, 'min_child_samples': 11}. Best is trial 200 with value: 1.0.\n",
      "[I 2024-08-18 20:12:24,425] Trial 749 finished with value: 0.45342819768343723 and parameters: {'lambda_l1': 0.000276844642198661, 'lambda_l2': 1.6077338042808106e-07, 'num_leaves': 19, 'feature_fraction': 0.9892671666514075, 'bagging_fraction': 0.543508093198608, 'bagging_freq': 6, 'min_child_samples': 17}. Best is trial 200 with value: 1.0.\n",
      "[I 2024-08-18 20:12:25,879] Trial 750 finished with value: 0.46324894345896106 and parameters: {'lambda_l1': 8.390729970419247e-05, 'lambda_l2': 1.0859159299206622e-07, 'num_leaves': 7, 'feature_fraction': 0.9791965498904773, 'bagging_fraction': 0.4992464968826721, 'bagging_freq': 6, 'min_child_samples': 13}. Best is trial 200 with value: 1.0.\n",
      "[I 2024-08-18 20:12:27,521] Trial 751 finished with value: 0.46318516851625946 and parameters: {'lambda_l1': 4.108984306610012e-07, 'lambda_l2': 2.3711357548877903e-08, 'num_leaves': 14, 'feature_fraction': 0.9894301724189899, 'bagging_fraction': 0.5561113601152886, 'bagging_freq': 6, 'min_child_samples': 15}. Best is trial 200 with value: 1.0.\n",
      "[I 2024-08-18 20:12:28,404] Trial 752 finished with value: 0.45946601760155814 and parameters: {'lambda_l1': 0.00015594796426311307, 'lambda_l2': 6.191475253649556e-08, 'num_leaves': 2, 'feature_fraction': 0.9493229508016654, 'bagging_fraction': 0.590199892009911, 'bagging_freq': 6, 'min_child_samples': 96}. Best is trial 200 with value: 1.0.\n",
      "[I 2024-08-18 20:12:30,299] Trial 753 finished with value: 0.45303982491116623 and parameters: {'lambda_l1': 3.582604678117247e-05, 'lambda_l2': 2.2863312738144778e-07, 'num_leaves': 24, 'feature_fraction': 0.9657330939820538, 'bagging_fraction': 0.4804794724224869, 'bagging_freq': 6, 'min_child_samples': 18}. Best is trial 200 with value: 1.0.\n",
      "[I 2024-08-18 20:12:32,750] Trial 754 finished with value: 0.45753849366929233 and parameters: {'lambda_l1': 0.00010037316372547373, 'lambda_l2': 1.0425366754263372e-07, 'num_leaves': 33, 'feature_fraction': 0.988886031586437, 'bagging_fraction': 0.5283876999787326, 'bagging_freq': 6, 'min_child_samples': 16}. Best is trial 200 with value: 1.0.\n",
      "[I 2024-08-18 20:12:35,132] Trial 755 finished with value: 0.46279241011072303 and parameters: {'lambda_l1': 5.82837144930538e-05, 'lambda_l2': 3.7701886768441464e-08, 'num_leaves': 10, 'feature_fraction': 0.9996357782626722, 'bagging_fraction': 0.513402261684053, 'bagging_freq': 6, 'min_child_samples': 13}. Best is trial 200 with value: 1.0.\n",
      "[I 2024-08-18 20:12:37,200] Trial 756 finished with value: 0.45849814663377864 and parameters: {'lambda_l1': 0.0001812522170232553, 'lambda_l2': 7.100096028265345e-08, 'num_leaves': 17, 'feature_fraction': 0.9769293408432124, 'bagging_fraction': 0.5368228769138691, 'bagging_freq': 6, 'min_child_samples': 62}. Best is trial 200 with value: 1.0.\n",
      "[I 2024-08-18 20:12:38,474] Trial 757 finished with value: 0.46207240341826494 and parameters: {'lambda_l1': 2.8748013680315398e-05, 'lambda_l2': 1.4168566682645332e-07, 'num_leaves': 9, 'feature_fraction': 0.9895316695035008, 'bagging_fraction': 0.4990072769929449, 'bagging_freq': 4, 'min_child_samples': 9}. Best is trial 200 with value: 1.0.\n",
      "[I 2024-08-18 20:12:39,780] Trial 758 finished with value: 0.46307918258746894 and parameters: {'lambda_l1': 7.613618636667597e-05, 'lambda_l2': 3.2148175800994217e-07, 'num_leaves': 6, 'feature_fraction': 0.9749089180831563, 'bagging_fraction': 0.5720180425839856, 'bagging_freq': 6, 'min_child_samples': 20}. Best is trial 200 with value: 1.0.\n",
      "[I 2024-08-18 20:12:41,642] Trial 759 finished with value: 0.45261162534829535 and parameters: {'lambda_l1': 4.8163134587134365e-05, 'lambda_l2': 3.941627833185393e-08, 'num_leaves': 14, 'feature_fraction': 0.9886159043432095, 'bagging_fraction': 0.5468164676188546, 'bagging_freq': 6, 'min_child_samples': 15}. Best is trial 200 with value: 1.0.\n",
      "[I 2024-08-18 20:12:43,610] Trial 760 finished with value: 0.45864455108171764 and parameters: {'lambda_l1': 1.3058252121239515, 'lambda_l2': 5.4166983976131306e-08, 'num_leaves': 22, 'feature_fraction': 0.9998513464864045, 'bagging_fraction': 0.5166503579368849, 'bagging_freq': 6, 'min_child_samples': 11}. Best is trial 200 with value: 1.0.\n",
      "[I 2024-08-18 20:12:44,947] Trial 761 finished with value: 0.4634557986459257 and parameters: {'lambda_l1': 0.00011765554431734486, 'lambda_l2': 1.734109946409538e-08, 'num_leaves': 6, 'feature_fraction': 0.9657943567891536, 'bagging_fraction': 0.493195589327488, 'bagging_freq': 6, 'min_child_samples': 18}. Best is trial 200 with value: 1.0.\n",
      "[I 2024-08-18 20:12:45,922] Trial 762 finished with value: 0.4599614656786202 and parameters: {'lambda_l1': 0.00031133404463262884, 'lambda_l2': 1.0540930759314678e-07, 'num_leaves': 2, 'feature_fraction': 0.9786158130603861, 'bagging_fraction': 0.5613610728181655, 'bagging_freq': 6, 'min_child_samples': 14}. Best is trial 200 with value: 1.0.\n",
      "[I 2024-08-18 20:12:48,346] Trial 763 finished with value: 0.4688599350042755 and parameters: {'lambda_l1': 1.5096503215298652e-05, 'lambda_l2': 2.1087728565451603e-07, 'num_leaves': 14, 'feature_fraction': 0.9878652831465081, 'bagging_fraction': 0.58718287127309, 'bagging_freq': 6, 'min_child_samples': 16}. Best is trial 200 with value: 1.0.\n",
      "[I 2024-08-18 20:12:50,559] Trial 764 finished with value: 0.45629811841888557 and parameters: {'lambda_l1': 0.00014025278967977385, 'lambda_l2': 7.968172474082074e-08, 'num_leaves': 27, 'feature_fraction': 0.9552825245216492, 'bagging_fraction': 0.5271413836763196, 'bagging_freq': 6, 'min_child_samples': 21}. Best is trial 200 with value: 1.0.\n",
      "[I 2024-08-18 20:12:52,406] Trial 765 finished with value: 0.4636878322336029 and parameters: {'lambda_l1': 7.471581009414959e-05, 'lambda_l2': 2.6511378332337906e-08, 'num_leaves': 20, 'feature_fraction': 0.9807033507071448, 'bagging_fraction': 0.5100070184253563, 'bagging_freq': 7, 'min_child_samples': 17}. Best is trial 200 with value: 1.0.\n",
      "[I 2024-08-18 20:12:53,862] Trial 766 finished with value: 0.4676205525182049 and parameters: {'lambda_l1': 4.7814660591662785e-05, 'lambda_l2': 5.393336081209222e-07, 'num_leaves': 11, 'feature_fraction': 0.9689867344876191, 'bagging_fraction': 0.4703805674205328, 'bagging_freq': 6, 'min_child_samples': 48}. Best is trial 200 with value: 1.0.\n",
      "[I 2024-08-18 20:12:54,896] Trial 767 finished with value: 0.46880387096482123 and parameters: {'lambda_l1': 2.7065528841554426e-05, 'lambda_l2': 1.679281202539333e-07, 'num_leaves': 2, 'feature_fraction': 0.9899911256348491, 'bagging_fraction': 0.486173984102566, 'bagging_freq': 5, 'min_child_samples': 13}. Best is trial 200 with value: 1.0.\n",
      "[I 2024-08-18 20:12:57,056] Trial 768 finished with value: 0.465864430930785 and parameters: {'lambda_l1': 0.00020552054140253088, 'lambda_l2': 5.405123448205712e-08, 'num_leaves': 18, 'feature_fraction': 0.9912090385938324, 'bagging_fraction': 0.6136022111040468, 'bagging_freq': 6, 'min_child_samples': 19}. Best is trial 200 with value: 1.0.\n",
      "[I 2024-08-18 20:12:58,574] Trial 769 finished with value: 0.46547957743910673 and parameters: {'lambda_l1': 9.511708627933497e-05, 'lambda_l2': 1.0984648784124564e-07, 'num_leaves': 10, 'feature_fraction': 0.9803692497677575, 'bagging_fraction': 0.5413529809060353, 'bagging_freq': 6, 'min_child_samples': 15}. Best is trial 200 with value: 1.0.\n",
      "[I 2024-08-18 20:12:59,892] Trial 770 finished with value: 0.4530906202732444 and parameters: {'lambda_l1': 7.844133919170185e-06, 'lambda_l2': 2.329814911858214e-07, 'num_leaves': 7, 'feature_fraction': 0.9310576192531548, 'bagging_fraction': 0.5559942777114729, 'bagging_freq': 6, 'min_child_samples': 11}. Best is trial 200 with value: 1.0.\n",
      "[I 2024-08-18 20:13:01,617] Trial 771 finished with value: 0.4550607284848178 and parameters: {'lambda_l1': 6.237399952805636e-05, 'lambda_l2': 8.487695637829778e-08, 'num_leaves': 14, 'feature_fraction': 0.9997024561169502, 'bagging_fraction': 0.8492698259118785, 'bagging_freq': 6, 'min_child_samples': 17}. Best is trial 200 with value: 1.0.\n",
      "[I 2024-08-18 20:13:04,056] Trial 772 finished with value: 0.45073584865555627 and parameters: {'lambda_l1': 0.00012723180398528663, 'lambda_l2': 3.547126164786105e-07, 'num_leaves': 27, 'feature_fraction': 0.6217450464589459, 'bagging_fraction': 0.7420902158027008, 'bagging_freq': 6, 'min_child_samples': 13}. Best is trial 200 with value: 1.0.\n",
      "[I 2024-08-18 20:13:07,890] Trial 773 finished with value: 0.453998258826418 and parameters: {'lambda_l1': 4.6065705445057215e-05, 'lambda_l2': 2.9958052469995414e-08, 'num_leaves': 22, 'feature_fraction': 0.961576531447406, 'bagging_fraction': 0.9446487034147069, 'bagging_freq': 6, 'min_child_samples': 15}. Best is trial 200 with value: 1.0.\n",
      "[I 2024-08-18 20:13:09,375] Trial 774 finished with value: 0.45837291148996395 and parameters: {'lambda_l1': 8.424092306875241e-05, 'lambda_l2': 0.00260959825613437, 'num_leaves': 6, 'feature_fraction': 0.9996997477970053, 'bagging_fraction': 0.5069709633331737, 'bagging_freq': 6, 'min_child_samples': 19}. Best is trial 200 with value: 1.0.\n",
      "[I 2024-08-18 20:13:11,499] Trial 775 finished with value: 0.46047431610660294 and parameters: {'lambda_l1': 3.209959762918065e-05, 'lambda_l2': 4.664922614231463e-08, 'num_leaves': 17, 'feature_fraction': 0.9998737150534761, 'bagging_fraction': 0.5234106813672349, 'bagging_freq': 6, 'min_child_samples': 17}. Best is trial 200 with value: 1.0.\n",
      "[I 2024-08-18 20:13:21,010] Trial 776 finished with value: 0.4282669331873663 and parameters: {'lambda_l1': 0.0001983917875577784, 'lambda_l2': 1.4092893560372126e-07, 'num_leaves': 173, 'feature_fraction': 0.9747171636594139, 'bagging_fraction': 0.5741146845571425, 'bagging_freq': 6, 'min_child_samples': 12}. Best is trial 200 with value: 1.0.\n",
      "[I 2024-08-18 20:13:23,047] Trial 777 finished with value: 0.4628042156934593 and parameters: {'lambda_l1': 0.00010540142488341436, 'lambda_l2': 7.037157136244263e-08, 'num_leaves': 11, 'feature_fraction': 0.9999390585937137, 'bagging_fraction': 0.5374217120594176, 'bagging_freq': 6, 'min_child_samples': 14}. Best is trial 200 with value: 1.0.\n",
      "[I 2024-08-18 20:13:24,405] Trial 778 finished with value: 0.4554800951184299 and parameters: {'lambda_l1': 0.0005543790055051426, 'lambda_l2': 1.3210529907674283e-07, 'num_leaves': 7, 'feature_fraction': 0.7738442312735277, 'bagging_fraction': 0.6006181317033913, 'bagging_freq': 6, 'min_child_samples': 16}. Best is trial 200 with value: 1.0.\n",
      "[I 2024-08-18 20:13:28,210] Trial 779 finished with value: 0.45127429040363076 and parameters: {'lambda_l1': 6.337702948974082e-05, 'lambda_l2': 2.534835607244523e-07, 'num_leaves': 35, 'feature_fraction': 0.9810274564527734, 'bagging_fraction': 0.5026430190531154, 'bagging_freq': 6, 'min_child_samples': 10}. Best is trial 200 with value: 1.0.\n",
      "[I 2024-08-18 20:13:29,185] Trial 780 finished with value: 0.4514120181265826 and parameters: {'lambda_l1': 0.00013769638529595462, 'lambda_l2': 5.436939153342968e-08, 'num_leaves': 2, 'feature_fraction': 0.5188951292390975, 'bagging_fraction': 0.48179914170571414, 'bagging_freq': 6, 'min_child_samples': 19}. Best is trial 200 with value: 1.0.\n",
      "[I 2024-08-18 20:13:31,081] Trial 781 finished with value: 0.4655120370877358 and parameters: {'lambda_l1': 4.0910828813504494e-05, 'lambda_l2': 8.806822925535934e-08, 'num_leaves': 13, 'feature_fraction': 0.9882950141550216, 'bagging_fraction': 0.5513871763291648, 'bagging_freq': 6, 'min_child_samples': 22}. Best is trial 200 with value: 1.0.\n",
      "[I 2024-08-18 20:13:33,300] Trial 782 finished with value: 0.45101892113559694 and parameters: {'lambda_l1': 2.3759901764379197e-05, 'lambda_l2': 3.3218304393646655e-08, 'num_leaves': 19, 'feature_fraction': 0.9678458491551761, 'bagging_fraction': 0.4579983351625378, 'bagging_freq': 6, 'min_child_samples': 14}. Best is trial 200 with value: 1.0.\n",
      "[I 2024-08-18 20:13:37,138] Trial 783 finished with value: 0.4587033860448423 and parameters: {'lambda_l1': 7.011626031201877e-05, 'lambda_l2': 1.6107667936273668e-07, 'num_leaves': 23, 'feature_fraction': 0.9816244316761273, 'bagging_fraction': 0.5180091158613953, 'bagging_freq': 6, 'min_child_samples': 17}. Best is trial 200 with value: 1.0.\n",
      "[I 2024-08-18 20:13:38,591] Trial 784 finished with value: 0.46239513518335806 and parameters: {'lambda_l1': 0.0003288479659438885, 'lambda_l2': 1.9781744378449033e-08, 'num_leaves': 10, 'feature_fraction': 0.9999170516137336, 'bagging_fraction': 0.5323170745521957, 'bagging_freq': 6, 'min_child_samples': 8}. Best is trial 200 with value: 1.0.\n",
      "[I 2024-08-18 20:13:40,266] Trial 785 finished with value: 0.4615361688389984 and parameters: {'lambda_l1': 9.966331498324201e-05, 'lambda_l2': 4.695261469775988e-07, 'num_leaves': 15, 'feature_fraction': 0.9865671477974988, 'bagging_fraction': 0.5620856813656041, 'bagging_freq': 6, 'min_child_samples': 15}. Best is trial 200 with value: 1.0.\n",
      "[I 2024-08-18 20:13:41,443] Trial 786 finished with value: 0.4668172278626018 and parameters: {'lambda_l1': 0.00019933272163343436, 'lambda_l2': 0.0005383033857236127, 'num_leaves': 6, 'feature_fraction': 0.9517271521371196, 'bagging_fraction': 0.49289280964929466, 'bagging_freq': 7, 'min_child_samples': 13}. Best is trial 200 with value: 1.0.\n",
      "[I 2024-08-18 20:13:42,508] Trial 787 finished with value: 0.46038264095725645 and parameters: {'lambda_l1': 4.789515715505085e-05, 'lambda_l2': 1.0462609119811664e-07, 'num_leaves': 2, 'feature_fraction': 0.9714354039215415, 'bagging_fraction': 0.5452114096771344, 'bagging_freq': 6, 'min_child_samples': 18}. Best is trial 200 with value: 1.0.\n",
      "[I 2024-08-18 20:13:48,469] Trial 788 finished with value: 0.41652318843308056 and parameters: {'lambda_l1': 0.00014799716040954185, 'lambda_l2': 4.727188353227571e-08, 'num_leaves': 135, 'feature_fraction': 0.9999729030928138, 'bagging_fraction': 0.5813622505369158, 'bagging_freq': 6, 'min_child_samples': 12}. Best is trial 200 with value: 1.0.\n",
      "[I 2024-08-18 20:13:51,220] Trial 789 finished with value: 0.44153413298175326 and parameters: {'lambda_l1': 8.273297983262009e-05, 'lambda_l2': 8.526459052410493e-07, 'num_leaves': 31, 'feature_fraction': 0.9887335713160122, 'bagging_fraction': 0.5249183130667302, 'bagging_freq': 2, 'min_child_samples': 16}. Best is trial 200 with value: 1.0.\n",
      "[I 2024-08-18 20:13:52,935] Trial 790 finished with value: 0.4482483563117199 and parameters: {'lambda_l1': 3.57528938212444e-05, 'lambda_l2': 6.99845101558091e-08, 'num_leaves': 18, 'feature_fraction': 0.9696131307734499, 'bagging_fraction': 0.507368228135356, 'bagging_freq': 6, 'min_child_samples': 20}. Best is trial 200 with value: 1.0.\n",
      "[I 2024-08-18 20:13:54,393] Trial 791 finished with value: 0.46796854866473125 and parameters: {'lambda_l1': 5.902811953037493e-05, 'lambda_l2': 2.0391145384139688e-07, 'num_leaves': 10, 'feature_fraction': 0.9799269443867499, 'bagging_fraction': 0.47334081670094913, 'bagging_freq': 6, 'min_child_samples': 15}. Best is trial 200 with value: 1.0.\n",
      "[I 2024-08-18 20:13:55,941] Trial 792 finished with value: 0.46709320044274805 and parameters: {'lambda_l1': 0.00010789410141788773, 'lambda_l2': 3.430841767676535e-07, 'num_leaves': 14, 'feature_fraction': 0.9892972038849741, 'bagging_fraction': 0.5723859394526132, 'bagging_freq': 6, 'min_child_samples': 11}. Best is trial 200 with value: 1.0.\n",
      "[I 2024-08-18 20:13:58,029] Trial 793 finished with value: 0.44886982244771045 and parameters: {'lambda_l1': 0.00023917608611024612, 'lambda_l2': 1.3517518373773247e-07, 'num_leaves': 26, 'feature_fraction': 0.962217039474246, 'bagging_fraction': 0.49101123957511883, 'bagging_freq': 6, 'min_child_samples': 17}. Best is trial 200 with value: 1.0.\n",
      "[I 2024-08-18 20:13:59,695] Trial 794 finished with value: 0.46105409977913736 and parameters: {'lambda_l1': 2.0882193235402368e-05, 'lambda_l2': 1.3894368258949685e-08, 'num_leaves': 6, 'feature_fraction': 0.9791663969366856, 'bagging_fraction': 0.5335736927686273, 'bagging_freq': 5, 'min_child_samples': 14}. Best is trial 200 with value: 1.0.\n",
      "[I 2024-08-18 20:14:01,005] Trial 795 finished with value: 0.45495760299410126 and parameters: {'lambda_l1': 6.836330073940819e-05, 'lambda_l2': 3.368474709700716e-08, 'num_leaves': 2, 'feature_fraction': 0.9888214603659282, 'bagging_fraction': 0.5121819538122075, 'bagging_freq': 6, 'min_child_samples': 18}. Best is trial 200 with value: 1.0.\n",
      "[I 2024-08-18 20:14:04,366] Trial 796 finished with value: 0.46849676145706154 and parameters: {'lambda_l1': 0.00015351372760518924, 'lambda_l2': 4.632129641459711, 'num_leaves': 21, 'feature_fraction': 0.9885140977954305, 'bagging_fraction': 0.8320873420247195, 'bagging_freq': 6, 'min_child_samples': 13}. Best is trial 200 with value: 1.0.\n",
      "[I 2024-08-18 20:14:07,288] Trial 797 finished with value: 0.45611366841807144 and parameters: {'lambda_l1': 3.57579904891922e-05, 'lambda_l2': 7.092738941164351e-08, 'num_leaves': 10, 'feature_fraction': 0.9998547097636352, 'bagging_fraction': 0.5485347050515493, 'bagging_freq': 6, 'min_child_samples': 21}. Best is trial 200 with value: 1.0.\n",
      "[I 2024-08-18 20:14:09,754] Trial 798 finished with value: 0.47030593584718106 and parameters: {'lambda_l1': 1.1092794262018526e-05, 'lambda_l2': 1.1130516167614513e-07, 'num_leaves': 17, 'feature_fraction': 0.8150313485197811, 'bagging_fraction': 0.5940078549922738, 'bagging_freq': 6, 'min_child_samples': 16}. Best is trial 200 with value: 1.0.\n",
      "[I 2024-08-18 20:14:10,971] Trial 799 finished with value: 0.47189976295292924 and parameters: {'lambda_l1': 9.33682720093248e-05, 'lambda_l2': 2.1493856530011132e-07, 'num_leaves': 7, 'feature_fraction': 0.9735074994899536, 'bagging_fraction': 0.5631630656795318, 'bagging_freq': 6, 'min_child_samples': 10}. Best is trial 200 with value: 1.0.\n"
     ]
    }
   ],
   "source": [
    "#Defino el estudio a optimizar\n",
    "study = optuna.create_study(direction='maximize', #buscamos maximizar la metrica\n",
    "                            storage=\"sqlite:///work/db.sqlite3\",  # Specify the storage URL here.\n",
    "                            study_name=\"04 - LGB Multiclass\", #nombre del experimento\n",
    "                            load_if_exists=True) #continuar si ya existe\n",
    "\n",
    "#Corremos 100 trials para buscar mejores parametros\n",
    "study.optimize(lgb_objective, n_trials=100)"
   ]
  },
  {
   "cell_type": "code",
   "execution_count": 32,
   "metadata": {},
   "outputs": [],
   "source": [
    "#corriendo esto en terminal deberia ver el dashboard \n",
    "#optuna-dashboard sqlite:///work/db.sqlite3 --artifact-dir /work/optuna_artifacts --port 8081"
   ]
  },
  {
   "cell_type": "code",
   "execution_count": 33,
   "metadata": {},
   "outputs": [
    {
     "data": {
      "text/plain": [
       "{'lambda_l1': 0.00016911420117746327,\n",
       " 'lambda_l2': 3.0291532676782044e-07,\n",
       " 'num_leaves': 23,\n",
       " 'feature_fraction': 0.9710839320963843,\n",
       " 'bagging_fraction': 0.6006057268679922,\n",
       " 'bagging_freq': 6,\n",
       " 'min_child_samples': 16}"
      ]
     },
     "execution_count": 33,
     "metadata": {},
     "output_type": "execute_result"
    }
   ],
   "source": [
    "#Obtenemos mejor resultado\n",
    "study.best_params"
   ]
  },
  {
   "cell_type": "code",
   "execution_count": 34,
   "metadata": {},
   "outputs": [
    {
     "data": {
      "application/vnd.plotly.v1+json": {
       "config": {
        "plotlyServerURL": "https://plot.ly"
       },
       "data": [
        {
         "type": "heatmap",
         "x": [
          0,
          1,
          2,
          3,
          4
         ],
         "y": [
          0,
          1,
          2,
          3,
          4
         ],
         "z": [
          [
           45.1219512195122,
           18.29268292682927,
           23.170731707317074,
           2.4390243902439024,
           10.975609756097562
          ],
          [
           0.6472491909385114,
           46.116504854368934,
           26.051779935275082,
           11.974110032362459,
           15.210355987055015
          ],
          [
           0.6195786864931847,
           17.348203221809168,
           52.29244114002478,
           9.913258983890955,
           19.82651796778191
          ],
          [
           0.7668711656441718,
           13.190184049079754,
           25.766871165644172,
           40.95092024539878,
           19.32515337423313
          ],
          [
           0.5952380952380952,
           10.238095238095237,
           15.119047619047619,
           9.404761904761905,
           64.64285714285715
          ]
         ]
        }
       ],
       "layout": {
        "annotations": [
         {
          "font": {
           "color": "white"
          },
          "showarrow": false,
          "text": "45.1 - 37",
          "x": 0,
          "xref": "x",
          "y": 0,
          "yref": "y"
         },
         {
          "font": {
           "color": "white"
          },
          "showarrow": false,
          "text": "18.3 - 15",
          "x": 1,
          "xref": "x",
          "y": 0,
          "yref": "y"
         },
         {
          "font": {
           "color": "white"
          },
          "showarrow": false,
          "text": "23.2 - 19",
          "x": 2,
          "xref": "x",
          "y": 0,
          "yref": "y"
         },
         {
          "font": {
           "color": "white"
          },
          "showarrow": false,
          "text": "2.4 - 2",
          "x": 3,
          "xref": "x",
          "y": 0,
          "yref": "y"
         },
         {
          "font": {
           "color": "white"
          },
          "showarrow": false,
          "text": "11.0 - 9",
          "x": 4,
          "xref": "x",
          "y": 0,
          "yref": "y"
         },
         {
          "font": {
           "color": "white"
          },
          "showarrow": false,
          "text": "0.6 - 4",
          "x": 0,
          "xref": "x",
          "y": 1,
          "yref": "y"
         },
         {
          "font": {
           "color": "white"
          },
          "showarrow": false,
          "text": "46.1 - 285",
          "x": 1,
          "xref": "x",
          "y": 1,
          "yref": "y"
         },
         {
          "font": {
           "color": "white"
          },
          "showarrow": false,
          "text": "26.1 - 161",
          "x": 2,
          "xref": "x",
          "y": 1,
          "yref": "y"
         },
         {
          "font": {
           "color": "white"
          },
          "showarrow": false,
          "text": "12.0 - 74",
          "x": 3,
          "xref": "x",
          "y": 1,
          "yref": "y"
         },
         {
          "font": {
           "color": "white"
          },
          "showarrow": false,
          "text": "15.2 - 94",
          "x": 4,
          "xref": "x",
          "y": 1,
          "yref": "y"
         },
         {
          "font": {
           "color": "white"
          },
          "showarrow": false,
          "text": "0.6 - 5",
          "x": 0,
          "xref": "x",
          "y": 2,
          "yref": "y"
         },
         {
          "font": {
           "color": "white"
          },
          "showarrow": false,
          "text": "17.3 - 140",
          "x": 1,
          "xref": "x",
          "y": 2,
          "yref": "y"
         },
         {
          "font": {
           "color": "white"
          },
          "showarrow": false,
          "text": "52.3 - 422",
          "x": 2,
          "xref": "x",
          "y": 2,
          "yref": "y"
         },
         {
          "font": {
           "color": "white"
          },
          "showarrow": false,
          "text": "9.9 - 80",
          "x": 3,
          "xref": "x",
          "y": 2,
          "yref": "y"
         },
         {
          "font": {
           "color": "white"
          },
          "showarrow": false,
          "text": "19.8 - 160",
          "x": 4,
          "xref": "x",
          "y": 2,
          "yref": "y"
         },
         {
          "font": {
           "color": "white"
          },
          "showarrow": false,
          "text": "0.8 - 5",
          "x": 0,
          "xref": "x",
          "y": 3,
          "yref": "y"
         },
         {
          "font": {
           "color": "white"
          },
          "showarrow": false,
          "text": "13.2 - 86",
          "x": 1,
          "xref": "x",
          "y": 3,
          "yref": "y"
         },
         {
          "font": {
           "color": "white"
          },
          "showarrow": false,
          "text": "25.8 - 168",
          "x": 2,
          "xref": "x",
          "y": 3,
          "yref": "y"
         },
         {
          "font": {
           "color": "white"
          },
          "showarrow": false,
          "text": "41.0 - 267",
          "x": 3,
          "xref": "x",
          "y": 3,
          "yref": "y"
         },
         {
          "font": {
           "color": "white"
          },
          "showarrow": false,
          "text": "19.3 - 126",
          "x": 4,
          "xref": "x",
          "y": 3,
          "yref": "y"
         },
         {
          "font": {
           "color": "white"
          },
          "showarrow": false,
          "text": "0.6 - 5",
          "x": 0,
          "xref": "x",
          "y": 4,
          "yref": "y"
         },
         {
          "font": {
           "color": "white"
          },
          "showarrow": false,
          "text": "10.2 - 86",
          "x": 1,
          "xref": "x",
          "y": 4,
          "yref": "y"
         },
         {
          "font": {
           "color": "white"
          },
          "showarrow": false,
          "text": "15.1 - 127",
          "x": 2,
          "xref": "x",
          "y": 4,
          "yref": "y"
         },
         {
          "font": {
           "color": "white"
          },
          "showarrow": false,
          "text": "9.4 - 79",
          "x": 3,
          "xref": "x",
          "y": 4,
          "yref": "y"
         },
         {
          "font": {
           "color": "white"
          },
          "showarrow": false,
          "text": "64.6 - 543",
          "x": 4,
          "xref": "x",
          "y": 4,
          "yref": "y"
         }
        ],
        "height": 800,
        "template": {
         "data": {
          "bar": [
           {
            "error_x": {
             "color": "#2a3f5f"
            },
            "error_y": {
             "color": "#2a3f5f"
            },
            "marker": {
             "line": {
              "color": "#E5ECF6",
              "width": 0.5
             },
             "pattern": {
              "fillmode": "overlay",
              "size": 10,
              "solidity": 0.2
             }
            },
            "type": "bar"
           }
          ],
          "barpolar": [
           {
            "marker": {
             "line": {
              "color": "#E5ECF6",
              "width": 0.5
             },
             "pattern": {
              "fillmode": "overlay",
              "size": 10,
              "solidity": 0.2
             }
            },
            "type": "barpolar"
           }
          ],
          "carpet": [
           {
            "aaxis": {
             "endlinecolor": "#2a3f5f",
             "gridcolor": "white",
             "linecolor": "white",
             "minorgridcolor": "white",
             "startlinecolor": "#2a3f5f"
            },
            "baxis": {
             "endlinecolor": "#2a3f5f",
             "gridcolor": "white",
             "linecolor": "white",
             "minorgridcolor": "white",
             "startlinecolor": "#2a3f5f"
            },
            "type": "carpet"
           }
          ],
          "choropleth": [
           {
            "colorbar": {
             "outlinewidth": 0,
             "ticks": ""
            },
            "type": "choropleth"
           }
          ],
          "contour": [
           {
            "colorbar": {
             "outlinewidth": 0,
             "ticks": ""
            },
            "colorscale": [
             [
              0,
              "#0d0887"
             ],
             [
              0.1111111111111111,
              "#46039f"
             ],
             [
              0.2222222222222222,
              "#7201a8"
             ],
             [
              0.3333333333333333,
              "#9c179e"
             ],
             [
              0.4444444444444444,
              "#bd3786"
             ],
             [
              0.5555555555555556,
              "#d8576b"
             ],
             [
              0.6666666666666666,
              "#ed7953"
             ],
             [
              0.7777777777777778,
              "#fb9f3a"
             ],
             [
              0.8888888888888888,
              "#fdca26"
             ],
             [
              1,
              "#f0f921"
             ]
            ],
            "type": "contour"
           }
          ],
          "contourcarpet": [
           {
            "colorbar": {
             "outlinewidth": 0,
             "ticks": ""
            },
            "type": "contourcarpet"
           }
          ],
          "heatmap": [
           {
            "colorbar": {
             "outlinewidth": 0,
             "ticks": ""
            },
            "colorscale": [
             [
              0,
              "#0d0887"
             ],
             [
              0.1111111111111111,
              "#46039f"
             ],
             [
              0.2222222222222222,
              "#7201a8"
             ],
             [
              0.3333333333333333,
              "#9c179e"
             ],
             [
              0.4444444444444444,
              "#bd3786"
             ],
             [
              0.5555555555555556,
              "#d8576b"
             ],
             [
              0.6666666666666666,
              "#ed7953"
             ],
             [
              0.7777777777777778,
              "#fb9f3a"
             ],
             [
              0.8888888888888888,
              "#fdca26"
             ],
             [
              1,
              "#f0f921"
             ]
            ],
            "type": "heatmap"
           }
          ],
          "heatmapgl": [
           {
            "colorbar": {
             "outlinewidth": 0,
             "ticks": ""
            },
            "colorscale": [
             [
              0,
              "#0d0887"
             ],
             [
              0.1111111111111111,
              "#46039f"
             ],
             [
              0.2222222222222222,
              "#7201a8"
             ],
             [
              0.3333333333333333,
              "#9c179e"
             ],
             [
              0.4444444444444444,
              "#bd3786"
             ],
             [
              0.5555555555555556,
              "#d8576b"
             ],
             [
              0.6666666666666666,
              "#ed7953"
             ],
             [
              0.7777777777777778,
              "#fb9f3a"
             ],
             [
              0.8888888888888888,
              "#fdca26"
             ],
             [
              1,
              "#f0f921"
             ]
            ],
            "type": "heatmapgl"
           }
          ],
          "histogram": [
           {
            "marker": {
             "pattern": {
              "fillmode": "overlay",
              "size": 10,
              "solidity": 0.2
             }
            },
            "type": "histogram"
           }
          ],
          "histogram2d": [
           {
            "colorbar": {
             "outlinewidth": 0,
             "ticks": ""
            },
            "colorscale": [
             [
              0,
              "#0d0887"
             ],
             [
              0.1111111111111111,
              "#46039f"
             ],
             [
              0.2222222222222222,
              "#7201a8"
             ],
             [
              0.3333333333333333,
              "#9c179e"
             ],
             [
              0.4444444444444444,
              "#bd3786"
             ],
             [
              0.5555555555555556,
              "#d8576b"
             ],
             [
              0.6666666666666666,
              "#ed7953"
             ],
             [
              0.7777777777777778,
              "#fb9f3a"
             ],
             [
              0.8888888888888888,
              "#fdca26"
             ],
             [
              1,
              "#f0f921"
             ]
            ],
            "type": "histogram2d"
           }
          ],
          "histogram2dcontour": [
           {
            "colorbar": {
             "outlinewidth": 0,
             "ticks": ""
            },
            "colorscale": [
             [
              0,
              "#0d0887"
             ],
             [
              0.1111111111111111,
              "#46039f"
             ],
             [
              0.2222222222222222,
              "#7201a8"
             ],
             [
              0.3333333333333333,
              "#9c179e"
             ],
             [
              0.4444444444444444,
              "#bd3786"
             ],
             [
              0.5555555555555556,
              "#d8576b"
             ],
             [
              0.6666666666666666,
              "#ed7953"
             ],
             [
              0.7777777777777778,
              "#fb9f3a"
             ],
             [
              0.8888888888888888,
              "#fdca26"
             ],
             [
              1,
              "#f0f921"
             ]
            ],
            "type": "histogram2dcontour"
           }
          ],
          "mesh3d": [
           {
            "colorbar": {
             "outlinewidth": 0,
             "ticks": ""
            },
            "type": "mesh3d"
           }
          ],
          "parcoords": [
           {
            "line": {
             "colorbar": {
              "outlinewidth": 0,
              "ticks": ""
             }
            },
            "type": "parcoords"
           }
          ],
          "pie": [
           {
            "automargin": true,
            "type": "pie"
           }
          ],
          "scatter": [
           {
            "fillpattern": {
             "fillmode": "overlay",
             "size": 10,
             "solidity": 0.2
            },
            "type": "scatter"
           }
          ],
          "scatter3d": [
           {
            "line": {
             "colorbar": {
              "outlinewidth": 0,
              "ticks": ""
             }
            },
            "marker": {
             "colorbar": {
              "outlinewidth": 0,
              "ticks": ""
             }
            },
            "type": "scatter3d"
           }
          ],
          "scattercarpet": [
           {
            "marker": {
             "colorbar": {
              "outlinewidth": 0,
              "ticks": ""
             }
            },
            "type": "scattercarpet"
           }
          ],
          "scattergeo": [
           {
            "marker": {
             "colorbar": {
              "outlinewidth": 0,
              "ticks": ""
             }
            },
            "type": "scattergeo"
           }
          ],
          "scattergl": [
           {
            "marker": {
             "colorbar": {
              "outlinewidth": 0,
              "ticks": ""
             }
            },
            "type": "scattergl"
           }
          ],
          "scattermapbox": [
           {
            "marker": {
             "colorbar": {
              "outlinewidth": 0,
              "ticks": ""
             }
            },
            "type": "scattermapbox"
           }
          ],
          "scatterpolar": [
           {
            "marker": {
             "colorbar": {
              "outlinewidth": 0,
              "ticks": ""
             }
            },
            "type": "scatterpolar"
           }
          ],
          "scatterpolargl": [
           {
            "marker": {
             "colorbar": {
              "outlinewidth": 0,
              "ticks": ""
             }
            },
            "type": "scatterpolargl"
           }
          ],
          "scatterternary": [
           {
            "marker": {
             "colorbar": {
              "outlinewidth": 0,
              "ticks": ""
             }
            },
            "type": "scatterternary"
           }
          ],
          "surface": [
           {
            "colorbar": {
             "outlinewidth": 0,
             "ticks": ""
            },
            "colorscale": [
             [
              0,
              "#0d0887"
             ],
             [
              0.1111111111111111,
              "#46039f"
             ],
             [
              0.2222222222222222,
              "#7201a8"
             ],
             [
              0.3333333333333333,
              "#9c179e"
             ],
             [
              0.4444444444444444,
              "#bd3786"
             ],
             [
              0.5555555555555556,
              "#d8576b"
             ],
             [
              0.6666666666666666,
              "#ed7953"
             ],
             [
              0.7777777777777778,
              "#fb9f3a"
             ],
             [
              0.8888888888888888,
              "#fdca26"
             ],
             [
              1,
              "#f0f921"
             ]
            ],
            "type": "surface"
           }
          ],
          "table": [
           {
            "cells": {
             "fill": {
              "color": "#EBF0F8"
             },
             "line": {
              "color": "white"
             }
            },
            "header": {
             "fill": {
              "color": "#C8D4E3"
             },
             "line": {
              "color": "white"
             }
            },
            "type": "table"
           }
          ]
         },
         "layout": {
          "annotationdefaults": {
           "arrowcolor": "#2a3f5f",
           "arrowhead": 0,
           "arrowwidth": 1
          },
          "autotypenumbers": "strict",
          "coloraxis": {
           "colorbar": {
            "outlinewidth": 0,
            "ticks": ""
           }
          },
          "colorscale": {
           "diverging": [
            [
             0,
             "#8e0152"
            ],
            [
             0.1,
             "#c51b7d"
            ],
            [
             0.2,
             "#de77ae"
            ],
            [
             0.3,
             "#f1b6da"
            ],
            [
             0.4,
             "#fde0ef"
            ],
            [
             0.5,
             "#f7f7f7"
            ],
            [
             0.6,
             "#e6f5d0"
            ],
            [
             0.7,
             "#b8e186"
            ],
            [
             0.8,
             "#7fbc41"
            ],
            [
             0.9,
             "#4d9221"
            ],
            [
             1,
             "#276419"
            ]
           ],
           "sequential": [
            [
             0,
             "#0d0887"
            ],
            [
             0.1111111111111111,
             "#46039f"
            ],
            [
             0.2222222222222222,
             "#7201a8"
            ],
            [
             0.3333333333333333,
             "#9c179e"
            ],
            [
             0.4444444444444444,
             "#bd3786"
            ],
            [
             0.5555555555555556,
             "#d8576b"
            ],
            [
             0.6666666666666666,
             "#ed7953"
            ],
            [
             0.7777777777777778,
             "#fb9f3a"
            ],
            [
             0.8888888888888888,
             "#fdca26"
            ],
            [
             1,
             "#f0f921"
            ]
           ],
           "sequentialminus": [
            [
             0,
             "#0d0887"
            ],
            [
             0.1111111111111111,
             "#46039f"
            ],
            [
             0.2222222222222222,
             "#7201a8"
            ],
            [
             0.3333333333333333,
             "#9c179e"
            ],
            [
             0.4444444444444444,
             "#bd3786"
            ],
            [
             0.5555555555555556,
             "#d8576b"
            ],
            [
             0.6666666666666666,
             "#ed7953"
            ],
            [
             0.7777777777777778,
             "#fb9f3a"
            ],
            [
             0.8888888888888888,
             "#fdca26"
            ],
            [
             1,
             "#f0f921"
            ]
           ]
          },
          "colorway": [
           "#636efa",
           "#EF553B",
           "#00cc96",
           "#ab63fa",
           "#FFA15A",
           "#19d3f3",
           "#FF6692",
           "#B6E880",
           "#FF97FF",
           "#FECB52"
          ],
          "font": {
           "color": "#2a3f5f"
          },
          "geo": {
           "bgcolor": "white",
           "lakecolor": "white",
           "landcolor": "#E5ECF6",
           "showlakes": true,
           "showland": true,
           "subunitcolor": "white"
          },
          "hoverlabel": {
           "align": "left"
          },
          "hovermode": "closest",
          "mapbox": {
           "style": "light"
          },
          "paper_bgcolor": "white",
          "plot_bgcolor": "#E5ECF6",
          "polar": {
           "angularaxis": {
            "gridcolor": "white",
            "linecolor": "white",
            "ticks": ""
           },
           "bgcolor": "#E5ECF6",
           "radialaxis": {
            "gridcolor": "white",
            "linecolor": "white",
            "ticks": ""
           }
          },
          "scene": {
           "xaxis": {
            "backgroundcolor": "#E5ECF6",
            "gridcolor": "white",
            "gridwidth": 2,
            "linecolor": "white",
            "showbackground": true,
            "ticks": "",
            "zerolinecolor": "white"
           },
           "yaxis": {
            "backgroundcolor": "#E5ECF6",
            "gridcolor": "white",
            "gridwidth": 2,
            "linecolor": "white",
            "showbackground": true,
            "ticks": "",
            "zerolinecolor": "white"
           },
           "zaxis": {
            "backgroundcolor": "#E5ECF6",
            "gridcolor": "white",
            "gridwidth": 2,
            "linecolor": "white",
            "showbackground": true,
            "ticks": "",
            "zerolinecolor": "white"
           }
          },
          "shapedefaults": {
           "line": {
            "color": "#2a3f5f"
           }
          },
          "ternary": {
           "aaxis": {
            "gridcolor": "white",
            "linecolor": "white",
            "ticks": ""
           },
           "baxis": {
            "gridcolor": "white",
            "linecolor": "white",
            "ticks": ""
           },
           "bgcolor": "#E5ECF6",
           "caxis": {
            "gridcolor": "white",
            "linecolor": "white",
            "ticks": ""
           }
          },
          "title": {
           "x": 0.05
          },
          "xaxis": {
           "automargin": true,
           "gridcolor": "white",
           "linecolor": "white",
           "ticks": "",
           "title": {
            "standoff": 15
           },
           "zerolinecolor": "white",
           "zerolinewidth": 2
          },
          "yaxis": {
           "automargin": true,
           "gridcolor": "white",
           "linecolor": "white",
           "ticks": "",
           "title": {
            "standoff": 15
           },
           "zerolinecolor": "white",
           "zerolinewidth": 2
          }
         }
        },
        "title": {
         "text": "Conf Matrix"
        },
        "width": 800,
        "xaxis": {
         "title": {
          "text": "Predicted value"
         }
        },
        "yaxis": {
         "title": {
          "text": "Real value"
         }
        }
       }
      }
     },
     "metadata": {},
     "output_type": "display_data"
    },
    {
     "data": {
      "text/plain": [
       "0.4518837586882086"
      ]
     },
     "execution_count": 34,
     "metadata": {},
     "output_type": "execute_result"
    }
   ],
   "source": [
    "#Vamos a replicar el resultado de la optimizacion reentrenando el modelo con el mejor conjunto de hiperparametros\n",
    "#Generamos parametros incluyendo los fijos y la mejor solución que encontro optuna\n",
    "lgb_params = {\n",
    "    'objective': 'multiclass',\n",
    "    'verbosity': -1,\n",
    "    'num_class': len(y_train.unique())\n",
    "}\n",
    "\n",
    "# Update lgb_params with study.best_params\n",
    "lgb_params.update(study.best_params)\n",
    "\n",
    "lgb_train_dataset = lgb.Dataset(data=X_train,\n",
    "                                label=y_train)\n",
    "\n",
    "\n",
    "#Entreno\n",
    "lgb_model = lgb.train(lgb_params,\n",
    "                    lgb_train_dataset)\n",
    "\n",
    "#Muestro matriz de confusion y kappa\n",
    "display(plot_confusion_matrix(y_test,lgb_model.predict(X_test).argmax(axis=1)))\n",
    "\n",
    "cohen_kappa_score(y_test,lgb_model.predict(X_test).argmax(axis=1),\n",
    "                             weights = 'quadratic')\n"
   ]
  },
  {
   "cell_type": "code",
   "execution_count": null,
   "metadata": {},
   "outputs": [],
   "source": []
  },
  {
   "cell_type": "code",
   "execution_count": 35,
   "metadata": {},
   "outputs": [],
   "source": [
    "#A PARTIR DE OPTUNA (OPTIMIZACION BAYESIANA) ES LO MEJOR TENGO ENTENDIDO, ECONTRE LOS MEJORES VALORES HIPERPARMTROS\n",
    "#Y ESO MEJORO KAPPA "
   ]
  },
  {
   "cell_type": "markdown",
   "metadata": {},
   "source": [
    "## Modelo con cross validation y conjunto de test"
   ]
  },
  {
   "cell_type": "code",
   "execution_count": 36,
   "metadata": {},
   "outputs": [],
   "source": [
    "#Genero una metrica para que lightGBM haga la evaluación y pueda hacer early_stopping en el cross validation\n",
    "def lgb_custom_metric_kappa(dy_pred, dy_true):\n",
    "    metric_name = 'kappa'\n",
    "    value = cohen_kappa_score(dy_true.get_label(),dy_pred.argmax(axis=1),weights = 'quadratic')\n",
    "    is_higher_better = True\n",
    "    return(metric_name, value, is_higher_better)\n",
    "\n",
    "#Funcion objetivo a optimizar. En este caso vamos a hacer 5fold cv sobre el conjunto de train. \n",
    "# El score de CV es el objetivo a optimizar. Ademas vamos a usar los 5 modelos del CV para estimar el conjunto de test,\n",
    "# registraremos en optuna las predicciones, matriz de confusion y el score en test.\n",
    "# CV Score -> Se usa para determinar el rendimiento de los hiperparametros con precision \n",
    "# Test Score -> Nos permite testear que esta todo OK, no use (ni debo usar) esos datos para nada en el entrenamiento \n",
    "# o la optimizacion de hiperparametros\n",
    "\n",
    "def cv_es_lgb_objective(trial):\n",
    "\n",
    "    #PArametros para LightGBM\n",
    "    lgb_params = {      \n",
    "                        #PArametros fijos\n",
    "                        'objective': 'multiclass',\n",
    "                        'verbosity':-1,\n",
    "                        'num_class': len(y_train.unique()),\n",
    "                        #Hiperparametros a optimizar utilizando suggest_float o suggest_int segun el tipo de dato\n",
    "                        #Se indica el nombre del parametro, valor minimo, valor maximo \n",
    "                        #en elgunos casos el parametro log=True para parametros que requieren buscar en esa escala\n",
    "                        'lambda_l1': trial.suggest_float('lambda_l1', 1e-8, 10.0, log=True),\n",
    "                        'lambda_l2': trial.suggest_float('lambda_l2', 1e-8, 10.0, log=True),\n",
    "                        'num_leaves': trial.suggest_int('num_leaves', 2, 256),\n",
    "                        'feature_fraction': trial.suggest_float('feature_fraction', 0.4, 1.0),\n",
    "                        'bagging_fraction': trial.suggest_float('bagging_fraction', 0.4, 1.0),\n",
    "                        'bagging_freq': trial.suggest_int('bagging_freq', 1, 7),\n",
    "                        'min_child_samples': trial.suggest_int('min_child_samples', 5, 100),\n",
    "                        } \n",
    "\n",
    "    #Voy a generar estimaciones de los 5 modelos del CV sobre los datos test y los acumulo en la matriz scores_ensemble\n",
    "    scores_ensemble = np.zeros((len(y_test),len(y_train.unique())))\n",
    "\n",
    "    #Score del 5 fold CV inicializado en 0\n",
    "    score_folds = 0\n",
    "\n",
    "    #Numero de splits del CV\n",
    "    n_splits = 5\n",
    "\n",
    "    #Objeto para hacer el split estratificado de CV\n",
    "    skf = StratifiedKFold(n_splits=n_splits)\n",
    "\n",
    "    for i, (if_index, oof_index) in enumerate(skf.split(X_train, y_train)):\n",
    "        \n",
    "        #Dataset in fold (donde entreno) \n",
    "        lgb_if_dataset = lgb.Dataset(data=X_train.iloc[if_index],\n",
    "                                        label=y_train.iloc[if_index],\n",
    "                                        free_raw_data=False)\n",
    "        \n",
    "        #Dataset Out of fold (donde mido la performance del CV)\n",
    "        lgb_oof_dataset = lgb.Dataset(data=X_train.iloc[oof_index],\n",
    "                                        label=y_train.iloc[oof_index],\n",
    "                                        free_raw_data=False)\n",
    "\n",
    "        #Entreno el modelo\n",
    "        lgb_model = lgb.train(lgb_params,\n",
    "                                lgb_if_dataset,\n",
    "                                valid_sets=lgb_oof_dataset,\n",
    "                                callbacks=[lgb.early_stopping(10, verbose=False)],\n",
    "                                feval = lgb_custom_metric_kappa\n",
    "                                )\n",
    "        \n",
    "        #Acumulo los scores (probabilidades) de cada clase para cada uno de los modelos que determino en los folds\n",
    "        #Se predice el 20% de los datos que separe para tes y no uso para entrenar en ningun fold\n",
    "        scores_ensemble = scores_ensemble + lgb_model.predict(X_test)\n",
    "        \n",
    "        #Score del fold (registros de dataset train que en este fold quedan out of fold)\n",
    "        score_folds = score_folds + cohen_kappa_score(y_train.iloc[oof_index], \n",
    "                                                            lgb_model.predict(X_train.iloc[oof_index]).argmax(axis=1),weights = 'quadratic')/n_splits\n",
    "\n",
    "\n",
    "    #Guardo prediccion del trial sobre el conjunto de test\n",
    "    # Genero nombre de archivo\n",
    "    predicted_filename = os.path.join(PATH_TO_TEMP_FILES,f'test_{trial.study.study_name}_{trial.number}.joblib')\n",
    "    # Copia del dataset para guardar la prediccion\n",
    "    predicted_df = test.copy()\n",
    "    # Genero columna pred con predicciones sumadas de los 5 folds\n",
    "    predicted_df['pred'] = [scores_ensemble[p,:] for p in range(scores_ensemble.shape[0])]\n",
    "    # Grabo dataframe en temp_artifacts\n",
    "    dump(predicted_df, predicted_filename)\n",
    "    # Indico a optuna que asocie el archivo generado al trial\n",
    "    upload_artifact(trial, predicted_filename, artifact_store)    \n",
    "\n",
    "    #Grabo natriz de confusion\n",
    "    #Nombre de archivo\n",
    "    cm_filename = os.path.join(PATH_TO_TEMP_FILES,f'cm_{trial.study.study_name}_{trial.number}.jpg')\n",
    "    #Grabo archivo\n",
    "    plot_confusion_matrix(y_test,scores_ensemble.argmax(axis=1)).write_image(cm_filename)\n",
    "    #Asocio al trial\n",
    "    upload_artifact(trial, cm_filename, artifact_store)\n",
    "\n",
    "    #Determino score en conjunto de test y asocio como metrica adicional en optuna\n",
    "    test_score = cohen_kappa_score(y_test,scores_ensemble.argmax(axis=1),weights = 'quadratic')\n",
    "    trial.set_user_attr(\"test_score\", test_score)\n",
    "\n",
    "    #Devuelvo score del 5fold cv a optuna para que optimice en base a eso\n",
    "    return(score_folds)"
   ]
  },
  {
   "cell_type": "code",
   "execution_count": 37,
   "metadata": {},
   "outputs": [
    {
     "name": "stderr",
     "output_type": "stream",
     "text": [
      "<ipython-input-37-3ba8469af45f>:2: ExperimentalWarning:\n",
      "\n",
      "FileSystemArtifactStore is experimental (supported from v3.3.0). The interface can change in the future.\n",
      "\n",
      "[I 2024-08-18 20:14:13,254] Using an existing study with name '04 - LGB Multiclass CV' instead of creating a new one.\n",
      "<ipython-input-36-1c6539846d38>:86: ExperimentalWarning:\n",
      "\n",
      "upload_artifact is experimental (supported from v3.3.0). The interface can change in the future.\n",
      "\n",
      "<ipython-input-36-1c6539846d38>:94: ExperimentalWarning:\n",
      "\n",
      "upload_artifact is experimental (supported from v3.3.0). The interface can change in the future.\n",
      "\n",
      "[I 2024-08-18 20:14:22,217] Trial 368 finished with value: 0.4733008562842593 and parameters: {'lambda_l1': 0.9310232626162882, 'lambda_l2': 1.335838523356351, 'num_leaves': 17, 'feature_fraction': 0.4512815507471007, 'bagging_fraction': 0.485200774436975, 'bagging_freq': 1, 'min_child_samples': 12}. Best is trial 45 with value: 1.0.\n",
      "<ipython-input-36-1c6539846d38>:86: ExperimentalWarning:\n",
      "\n",
      "upload_artifact is experimental (supported from v3.3.0). The interface can change in the future.\n",
      "\n",
      "<ipython-input-36-1c6539846d38>:94: ExperimentalWarning:\n",
      "\n",
      "upload_artifact is experimental (supported from v3.3.0). The interface can change in the future.\n",
      "\n",
      "[I 2024-08-18 20:14:29,538] Trial 369 finished with value: 0.4814589241890572 and parameters: {'lambda_l1': 0.8029345067240221, 'lambda_l2': 0.6033472939690756, 'num_leaves': 17, 'feature_fraction': 0.4470409564390188, 'bagging_fraction': 0.4890410465772776, 'bagging_freq': 1, 'min_child_samples': 14}. Best is trial 45 with value: 1.0.\n",
      "<ipython-input-36-1c6539846d38>:86: ExperimentalWarning:\n",
      "\n",
      "upload_artifact is experimental (supported from v3.3.0). The interface can change in the future.\n",
      "\n",
      "<ipython-input-36-1c6539846d38>:94: ExperimentalWarning:\n",
      "\n",
      "upload_artifact is experimental (supported from v3.3.0). The interface can change in the future.\n",
      "\n",
      "[I 2024-08-18 20:14:34,639] Trial 370 finished with value: 0.47797334397589325 and parameters: {'lambda_l1': 0.9558385804226021, 'lambda_l2': 0.49587957451352493, 'num_leaves': 16, 'feature_fraction': 0.45518059196360017, 'bagging_fraction': 0.49298638563222386, 'bagging_freq': 1, 'min_child_samples': 14}. Best is trial 45 with value: 1.0.\n",
      "<ipython-input-36-1c6539846d38>:86: ExperimentalWarning:\n",
      "\n",
      "upload_artifact is experimental (supported from v3.3.0). The interface can change in the future.\n",
      "\n",
      "<ipython-input-36-1c6539846d38>:94: ExperimentalWarning:\n",
      "\n",
      "upload_artifact is experimental (supported from v3.3.0). The interface can change in the future.\n",
      "\n",
      "[I 2024-08-18 20:14:42,757] Trial 371 finished with value: 0.48115573028058045 and parameters: {'lambda_l1': 1.0381920671530633, 'lambda_l2': 0.4323467945727643, 'num_leaves': 13, 'feature_fraction': 0.4502316064923483, 'bagging_fraction': 0.49509081978875397, 'bagging_freq': 1, 'min_child_samples': 15}. Best is trial 45 with value: 1.0.\n",
      "<ipython-input-36-1c6539846d38>:86: ExperimentalWarning:\n",
      "\n",
      "upload_artifact is experimental (supported from v3.3.0). The interface can change in the future.\n",
      "\n",
      "<ipython-input-36-1c6539846d38>:94: ExperimentalWarning:\n",
      "\n",
      "upload_artifact is experimental (supported from v3.3.0). The interface can change in the future.\n",
      "\n",
      "[I 2024-08-18 20:14:47,642] Trial 372 finished with value: 0.46940408115251997 and parameters: {'lambda_l1': 1.1864481384793675, 'lambda_l2': 0.4318831871403132, 'num_leaves': 8, 'feature_fraction': 0.4419066517649142, 'bagging_fraction': 0.5066672758516938, 'bagging_freq': 2, 'min_child_samples': 15}. Best is trial 45 with value: 1.0.\n",
      "<ipython-input-36-1c6539846d38>:86: ExperimentalWarning:\n",
      "\n",
      "upload_artifact is experimental (supported from v3.3.0). The interface can change in the future.\n",
      "\n",
      "<ipython-input-36-1c6539846d38>:94: ExperimentalWarning:\n",
      "\n",
      "upload_artifact is experimental (supported from v3.3.0). The interface can change in the future.\n",
      "\n",
      "[I 2024-08-18 20:14:54,180] Trial 373 finished with value: 0.478021056780486 and parameters: {'lambda_l1': 1.8937782782025547, 'lambda_l2': 0.2392083562077629, 'num_leaves': 13, 'feature_fraction': 0.455914099934894, 'bagging_fraction': 0.4945770125698293, 'bagging_freq': 2, 'min_child_samples': 14}. Best is trial 45 with value: 1.0.\n",
      "<ipython-input-36-1c6539846d38>:86: ExperimentalWarning:\n",
      "\n",
      "upload_artifact is experimental (supported from v3.3.0). The interface can change in the future.\n",
      "\n",
      "<ipython-input-36-1c6539846d38>:94: ExperimentalWarning:\n",
      "\n",
      "upload_artifact is experimental (supported from v3.3.0). The interface can change in the future.\n",
      "\n",
      "[I 2024-08-18 20:15:02,692] Trial 374 finished with value: 0.4776596423359033 and parameters: {'lambda_l1': 2.326569120568639, 'lambda_l2': 0.18957485186411144, 'num_leaves': 8, 'feature_fraction': 0.46270773639316876, 'bagging_fraction': 0.5098584754084882, 'bagging_freq': 2, 'min_child_samples': 16}. Best is trial 45 with value: 1.0.\n",
      "<ipython-input-36-1c6539846d38>:86: ExperimentalWarning:\n",
      "\n",
      "upload_artifact is experimental (supported from v3.3.0). The interface can change in the future.\n",
      "\n",
      "<ipython-input-36-1c6539846d38>:94: ExperimentalWarning:\n",
      "\n",
      "upload_artifact is experimental (supported from v3.3.0). The interface can change in the future.\n",
      "\n",
      "[I 2024-08-18 20:15:08,790] Trial 375 finished with value: 0.4745391607320981 and parameters: {'lambda_l1': 1.2656238972265077, 'lambda_l2': 0.2896442100332194, 'num_leaves': 15, 'feature_fraction': 0.43966403571691337, 'bagging_fraction': 0.5001879544193653, 'bagging_freq': 2, 'min_child_samples': 18}. Best is trial 45 with value: 1.0.\n",
      "<ipython-input-36-1c6539846d38>:86: ExperimentalWarning:\n",
      "\n",
      "upload_artifact is experimental (supported from v3.3.0). The interface can change in the future.\n",
      "\n",
      "<ipython-input-36-1c6539846d38>:94: ExperimentalWarning:\n",
      "\n",
      "upload_artifact is experimental (supported from v3.3.0). The interface can change in the future.\n",
      "\n",
      "[I 2024-08-18 20:15:14,739] Trial 376 finished with value: 0.47250384842093346 and parameters: {'lambda_l1': 1.4127674323727393, 'lambda_l2': 0.2430174938232117, 'num_leaves': 12, 'feature_fraction': 0.425362020808936, 'bagging_fraction': 0.5202651335935289, 'bagging_freq': 2, 'min_child_samples': 14}. Best is trial 45 with value: 1.0.\n",
      "<ipython-input-36-1c6539846d38>:86: ExperimentalWarning:\n",
      "\n",
      "upload_artifact is experimental (supported from v3.3.0). The interface can change in the future.\n",
      "\n",
      "<ipython-input-36-1c6539846d38>:94: ExperimentalWarning:\n",
      "\n",
      "upload_artifact is experimental (supported from v3.3.0). The interface can change in the future.\n",
      "\n",
      "[I 2024-08-18 20:15:20,866] Trial 377 finished with value: 0.4806520369981071 and parameters: {'lambda_l1': 2.0564678077051304, 'lambda_l2': 0.6526589856553808, 'num_leaves': 6, 'feature_fraction': 0.44407049462430587, 'bagging_fraction': 0.4907803011651969, 'bagging_freq': 2, 'min_child_samples': 26}. Best is trial 45 with value: 1.0.\n",
      "<ipython-input-36-1c6539846d38>:86: ExperimentalWarning:\n",
      "\n",
      "upload_artifact is experimental (supported from v3.3.0). The interface can change in the future.\n",
      "\n",
      "<ipython-input-36-1c6539846d38>:94: ExperimentalWarning:\n",
      "\n",
      "upload_artifact is experimental (supported from v3.3.0). The interface can change in the future.\n",
      "\n",
      "[I 2024-08-18 20:15:27,129] Trial 378 finished with value: 0.4686360067886768 and parameters: {'lambda_l1': 3.1473778731383404, 'lambda_l2': 0.3664852149132543, 'num_leaves': 2, 'feature_fraction': 0.4128110435670962, 'bagging_fraction': 0.48257919145169, 'bagging_freq': 2, 'min_child_samples': 27}. Best is trial 45 with value: 1.0.\n",
      "<ipython-input-36-1c6539846d38>:86: ExperimentalWarning:\n",
      "\n",
      "upload_artifact is experimental (supported from v3.3.0). The interface can change in the future.\n",
      "\n",
      "<ipython-input-36-1c6539846d38>:94: ExperimentalWarning:\n",
      "\n",
      "upload_artifact is experimental (supported from v3.3.0). The interface can change in the future.\n",
      "\n",
      "[I 2024-08-18 20:15:32,353] Trial 379 finished with value: 0.47197779646506377 and parameters: {'lambda_l1': 0.8418812203272654, 'lambda_l2': 0.5799436907300038, 'num_leaves': 9, 'feature_fraction': 0.4459888618719523, 'bagging_fraction': 0.5146889319901243, 'bagging_freq': 2, 'min_child_samples': 25}. Best is trial 45 with value: 1.0.\n",
      "<ipython-input-36-1c6539846d38>:86: ExperimentalWarning:\n",
      "\n",
      "upload_artifact is experimental (supported from v3.3.0). The interface can change in the future.\n",
      "\n",
      "<ipython-input-36-1c6539846d38>:94: ExperimentalWarning:\n",
      "\n",
      "upload_artifact is experimental (supported from v3.3.0). The interface can change in the future.\n",
      "\n",
      "[I 2024-08-18 20:15:38,705] Trial 380 finished with value: 0.47607970081413314 and parameters: {'lambda_l1': 1.9137994963315537, 'lambda_l2': 0.7014804419379976, 'num_leaves': 5, 'feature_fraction': 0.4345999319010967, 'bagging_fraction': 0.49171771417138477, 'bagging_freq': 2, 'min_child_samples': 28}. Best is trial 45 with value: 1.0.\n",
      "<ipython-input-36-1c6539846d38>:86: ExperimentalWarning:\n",
      "\n",
      "upload_artifact is experimental (supported from v3.3.0). The interface can change in the future.\n",
      "\n",
      "<ipython-input-36-1c6539846d38>:94: ExperimentalWarning:\n",
      "\n",
      "upload_artifact is experimental (supported from v3.3.0). The interface can change in the future.\n",
      "\n",
      "[I 2024-08-18 20:15:43,935] Trial 381 finished with value: 0.4768901100021089 and parameters: {'lambda_l1': 0.09369578979022888, 'lambda_l2': 0.5456547431953672, 'num_leaves': 19, 'feature_fraction': 0.46446668723474854, 'bagging_fraction': 0.5020599642597235, 'bagging_freq': 2, 'min_child_samples': 24}. Best is trial 45 with value: 1.0.\n",
      "<ipython-input-36-1c6539846d38>:86: ExperimentalWarning:\n",
      "\n",
      "upload_artifact is experimental (supported from v3.3.0). The interface can change in the future.\n",
      "\n",
      "<ipython-input-36-1c6539846d38>:94: ExperimentalWarning:\n",
      "\n",
      "upload_artifact is experimental (supported from v3.3.0). The interface can change in the future.\n",
      "\n",
      "[I 2024-08-18 20:15:51,031] Trial 382 finished with value: 0.47571513489729955 and parameters: {'lambda_l1': 0.662284703400426, 'lambda_l2': 0.8851059418082571, 'num_leaves': 6, 'feature_fraction': 0.4405156015418617, 'bagging_fraction': 0.5329401132090907, 'bagging_freq': 2, 'min_child_samples': 31}. Best is trial 45 with value: 1.0.\n",
      "<ipython-input-36-1c6539846d38>:86: ExperimentalWarning:\n",
      "\n",
      "upload_artifact is experimental (supported from v3.3.0). The interface can change in the future.\n",
      "\n",
      "<ipython-input-36-1c6539846d38>:94: ExperimentalWarning:\n",
      "\n",
      "upload_artifact is experimental (supported from v3.3.0). The interface can change in the future.\n",
      "\n",
      "[I 2024-08-18 20:15:57,896] Trial 383 finished with value: 0.4749062338077117 and parameters: {'lambda_l1': 0.40000020484055476, 'lambda_l2': 0.45641746310162234, 'num_leaves': 21, 'feature_fraction': 0.4749198553195796, 'bagging_fraction': 0.4787653180298245, 'bagging_freq': 4, 'min_child_samples': 26}. Best is trial 45 with value: 1.0.\n",
      "<ipython-input-36-1c6539846d38>:86: ExperimentalWarning:\n",
      "\n",
      "upload_artifact is experimental (supported from v3.3.0). The interface can change in the future.\n",
      "\n",
      "<ipython-input-36-1c6539846d38>:94: ExperimentalWarning:\n",
      "\n",
      "upload_artifact is experimental (supported from v3.3.0). The interface can change in the future.\n",
      "\n",
      "[I 2024-08-18 20:16:06,125] Trial 384 finished with value: 0.47534578979515074 and parameters: {'lambda_l1': 5.0978227634621875, 'lambda_l2': 0.6108592387117278, 'num_leaves': 12, 'feature_fraction': 0.42006142533298474, 'bagging_fraction': 0.8738291665216883, 'bagging_freq': 3, 'min_child_samples': 30}. Best is trial 45 with value: 1.0.\n",
      "<ipython-input-36-1c6539846d38>:86: ExperimentalWarning:\n",
      "\n",
      "upload_artifact is experimental (supported from v3.3.0). The interface can change in the future.\n",
      "\n",
      "<ipython-input-36-1c6539846d38>:94: ExperimentalWarning:\n",
      "\n",
      "upload_artifact is experimental (supported from v3.3.0). The interface can change in the future.\n",
      "\n",
      "[I 2024-08-18 20:16:11,874] Trial 385 finished with value: 0.47664678203418964 and parameters: {'lambda_l1': 3.188561329935701, 'lambda_l2': 0.9113698681704193, 'num_leaves': 20, 'feature_fraction': 0.4472414104933806, 'bagging_fraction': 0.512767597393069, 'bagging_freq': 1, 'min_child_samples': 24}. Best is trial 45 with value: 1.0.\n",
      "<ipython-input-36-1c6539846d38>:86: ExperimentalWarning:\n",
      "\n",
      "upload_artifact is experimental (supported from v3.3.0). The interface can change in the future.\n",
      "\n",
      "<ipython-input-36-1c6539846d38>:94: ExperimentalWarning:\n",
      "\n",
      "upload_artifact is experimental (supported from v3.3.0). The interface can change in the future.\n",
      "\n",
      "[I 2024-08-18 20:16:17,469] Trial 386 finished with value: 0.47411901843211185 and parameters: {'lambda_l1': 0.2780512688377062, 'lambda_l2': 0.8548642586283415, 'num_leaves': 24, 'feature_fraction': 0.4273302545802175, 'bagging_fraction': 0.4897488729915719, 'bagging_freq': 5, 'min_child_samples': 67}. Best is trial 45 with value: 1.0.\n",
      "<ipython-input-36-1c6539846d38>:86: ExperimentalWarning:\n",
      "\n",
      "upload_artifact is experimental (supported from v3.3.0). The interface can change in the future.\n",
      "\n",
      "<ipython-input-36-1c6539846d38>:94: ExperimentalWarning:\n",
      "\n",
      "upload_artifact is experimental (supported from v3.3.0). The interface can change in the future.\n",
      "\n",
      "[I 2024-08-18 20:16:23,943] Trial 387 finished with value: 0.4807275527417661 and parameters: {'lambda_l1': 0.710666375093159, 'lambda_l2': 1.3607176149794191, 'num_leaves': 13, 'feature_fraction': 0.46205673441968625, 'bagging_fraction': 0.5238136086033806, 'bagging_freq': 2, 'min_child_samples': 28}. Best is trial 45 with value: 1.0.\n",
      "<ipython-input-36-1c6539846d38>:86: ExperimentalWarning:\n",
      "\n",
      "upload_artifact is experimental (supported from v3.3.0). The interface can change in the future.\n",
      "\n",
      "<ipython-input-36-1c6539846d38>:94: ExperimentalWarning:\n",
      "\n",
      "upload_artifact is experimental (supported from v3.3.0). The interface can change in the future.\n",
      "\n",
      "[I 2024-08-18 20:16:31,111] Trial 388 finished with value: 0.4731639950890028 and parameters: {'lambda_l1': 0.7892883710581573, 'lambda_l2': 1.5896791573595122, 'num_leaves': 16, 'feature_fraction': 0.478027374862776, 'bagging_fraction': 0.5455085309079855, 'bagging_freq': 1, 'min_child_samples': 32}. Best is trial 45 with value: 1.0.\n",
      "<ipython-input-36-1c6539846d38>:86: ExperimentalWarning:\n",
      "\n",
      "upload_artifact is experimental (supported from v3.3.0). The interface can change in the future.\n",
      "\n",
      "<ipython-input-36-1c6539846d38>:94: ExperimentalWarning:\n",
      "\n",
      "upload_artifact is experimental (supported from v3.3.0). The interface can change in the future.\n",
      "\n",
      "[I 2024-08-18 20:16:40,153] Trial 389 finished with value: 0.47446604421416483 and parameters: {'lambda_l1': 0.5437473727109051, 'lambda_l2': 1.2392944072082674, 'num_leaves': 78, 'feature_fraction': 0.45693199799451356, 'bagging_fraction': 0.5251777738403218, 'bagging_freq': 2, 'min_child_samples': 29}. Best is trial 45 with value: 1.0.\n",
      "<ipython-input-36-1c6539846d38>:86: ExperimentalWarning:\n",
      "\n",
      "upload_artifact is experimental (supported from v3.3.0). The interface can change in the future.\n",
      "\n",
      "<ipython-input-36-1c6539846d38>:94: ExperimentalWarning:\n",
      "\n",
      "upload_artifact is experimental (supported from v3.3.0). The interface can change in the future.\n",
      "\n",
      "[I 2024-08-18 20:17:00,775] Trial 390 finished with value: 0.47722391471750675 and parameters: {'lambda_l1': 0.344767684982785, 'lambda_l2': 1.032188598071113, 'num_leaves': 24, 'feature_fraction': 0.46657239863431804, 'bagging_fraction': 0.5751831969505787, 'bagging_freq': 1, 'min_child_samples': 100}. Best is trial 45 with value: 1.0.\n",
      "<ipython-input-36-1c6539846d38>:86: ExperimentalWarning:\n",
      "\n",
      "upload_artifact is experimental (supported from v3.3.0). The interface can change in the future.\n",
      "\n",
      "<ipython-input-36-1c6539846d38>:94: ExperimentalWarning:\n",
      "\n",
      "upload_artifact is experimental (supported from v3.3.0). The interface can change in the future.\n",
      "\n",
      "[I 2024-08-18 20:17:13,489] Trial 391 finished with value: 0.47838638165361036 and parameters: {'lambda_l1': 0.14841355617167074, 'lambda_l2': 1.8561321825850188, 'num_leaves': 19, 'feature_fraction': 0.48237261110743496, 'bagging_fraction': 0.522058961582668, 'bagging_freq': 1, 'min_child_samples': 21}. Best is trial 45 with value: 1.0.\n",
      "<ipython-input-36-1c6539846d38>:86: ExperimentalWarning:\n",
      "\n",
      "upload_artifact is experimental (supported from v3.3.0). The interface can change in the future.\n",
      "\n",
      "<ipython-input-36-1c6539846d38>:94: ExperimentalWarning:\n",
      "\n",
      "upload_artifact is experimental (supported from v3.3.0). The interface can change in the future.\n",
      "\n",
      "[I 2024-08-18 20:17:22,169] Trial 392 finished with value: 0.4787839496353552 and parameters: {'lambda_l1': 0.5916017119900345, 'lambda_l2': 1.2359779702056644, 'num_leaves': 13, 'feature_fraction': 0.4648807945683023, 'bagging_fraction': 0.5105500183544063, 'bagging_freq': 1, 'min_child_samples': 28}. Best is trial 45 with value: 1.0.\n",
      "<ipython-input-36-1c6539846d38>:86: ExperimentalWarning:\n",
      "\n",
      "upload_artifact is experimental (supported from v3.3.0). The interface can change in the future.\n",
      "\n",
      "<ipython-input-36-1c6539846d38>:94: ExperimentalWarning:\n",
      "\n",
      "upload_artifact is experimental (supported from v3.3.0). The interface can change in the future.\n",
      "\n",
      "[I 2024-08-18 20:17:31,833] Trial 393 finished with value: 0.47925108763793617 and parameters: {'lambda_l1': 0.21620984679360863, 'lambda_l2': 1.9437797754710584, 'num_leaves': 28, 'feature_fraction': 0.4868360009302273, 'bagging_fraction': 0.5407630602677189, 'bagging_freq': 2, 'min_child_samples': 23}. Best is trial 45 with value: 1.0.\n",
      "<ipython-input-36-1c6539846d38>:86: ExperimentalWarning:\n",
      "\n",
      "upload_artifact is experimental (supported from v3.3.0). The interface can change in the future.\n",
      "\n",
      "<ipython-input-36-1c6539846d38>:94: ExperimentalWarning:\n",
      "\n",
      "upload_artifact is experimental (supported from v3.3.0). The interface can change in the future.\n",
      "\n",
      "[I 2024-08-18 20:17:40,647] Trial 394 finished with value: 0.47631277588711995 and parameters: {'lambda_l1': 2.9163660751159545e-05, 'lambda_l2': 0.14748451820047803, 'num_leaves': 23, 'feature_fraction': 0.472418136822551, 'bagging_fraction': 0.5315755827933466, 'bagging_freq': 1, 'min_child_samples': 18}. Best is trial 45 with value: 1.0.\n",
      "<ipython-input-36-1c6539846d38>:86: ExperimentalWarning:\n",
      "\n",
      "upload_artifact is experimental (supported from v3.3.0). The interface can change in the future.\n",
      "\n",
      "<ipython-input-36-1c6539846d38>:94: ExperimentalWarning:\n",
      "\n",
      "upload_artifact is experimental (supported from v3.3.0). The interface can change in the future.\n",
      "\n",
      "[I 2024-08-18 20:17:49,333] Trial 395 finished with value: 0.47791581102514336 and parameters: {'lambda_l1': 0.9563937810017856, 'lambda_l2': 0.40842847879587696, 'num_leaves': 17, 'feature_fraction': 0.45259252498267677, 'bagging_fraction': 0.5967492335696, 'bagging_freq': 2, 'min_child_samples': 20}. Best is trial 45 with value: 1.0.\n",
      "<ipython-input-36-1c6539846d38>:86: ExperimentalWarning:\n",
      "\n",
      "upload_artifact is experimental (supported from v3.3.0). The interface can change in the future.\n",
      "\n",
      "<ipython-input-36-1c6539846d38>:94: ExperimentalWarning:\n",
      "\n",
      "upload_artifact is experimental (supported from v3.3.0). The interface can change in the future.\n",
      "\n",
      "[I 2024-08-18 20:17:57,116] Trial 396 finished with value: 0.4742927846728363 and parameters: {'lambda_l1': 0.005762209357125426, 'lambda_l2': 2.477033792331296, 'num_leaves': 13, 'feature_fraction': 0.6149942536667934, 'bagging_fraction': 0.5039875486464086, 'bagging_freq': 4, 'min_child_samples': 27}. Best is trial 45 with value: 1.0.\n",
      "<ipython-input-36-1c6539846d38>:86: ExperimentalWarning:\n",
      "\n",
      "upload_artifact is experimental (supported from v3.3.0). The interface can change in the future.\n",
      "\n",
      "<ipython-input-36-1c6539846d38>:94: ExperimentalWarning:\n",
      "\n",
      "upload_artifact is experimental (supported from v3.3.0). The interface can change in the future.\n",
      "\n",
      "[I 2024-08-18 20:18:12,370] Trial 397 finished with value: 0.47120038260793945 and parameters: {'lambda_l1': 0.07658191994757949, 'lambda_l2': 3.530584265016812, 'num_leaves': 28, 'feature_fraction': 0.40890273941339034, 'bagging_fraction': 0.4706443495115472, 'bagging_freq': 1, 'min_child_samples': 33}. Best is trial 45 with value: 1.0.\n",
      "<ipython-input-36-1c6539846d38>:86: ExperimentalWarning:\n",
      "\n",
      "upload_artifact is experimental (supported from v3.3.0). The interface can change in the future.\n",
      "\n",
      "<ipython-input-36-1c6539846d38>:94: ExperimentalWarning:\n",
      "\n",
      "upload_artifact is experimental (supported from v3.3.0). The interface can change in the future.\n",
      "\n",
      "[I 2024-08-18 20:18:22,995] Trial 398 finished with value: 0.4818802392847924 and parameters: {'lambda_l1': 0.4495961694776494, 'lambda_l2': 6.124128100368087, 'num_leaves': 21, 'feature_fraction': 0.48575540248324917, 'bagging_fraction': 0.5169369675260505, 'bagging_freq': 1, 'min_child_samples': 16}. Best is trial 45 with value: 1.0.\n",
      "<ipython-input-36-1c6539846d38>:86: ExperimentalWarning:\n",
      "\n",
      "upload_artifact is experimental (supported from v3.3.0). The interface can change in the future.\n",
      "\n",
      "<ipython-input-36-1c6539846d38>:94: ExperimentalWarning:\n",
      "\n",
      "upload_artifact is experimental (supported from v3.3.0). The interface can change in the future.\n",
      "\n",
      "[I 2024-08-18 20:18:33,990] Trial 399 finished with value: 0.48144355574471787 and parameters: {'lambda_l1': 0.31475472884387296, 'lambda_l2': 6.524880665261685, 'num_leaves': 20, 'feature_fraction': 0.4954817747988804, 'bagging_fraction': 0.416724433822831, 'bagging_freq': 1, 'min_child_samples': 16}. Best is trial 45 with value: 1.0.\n",
      "<ipython-input-36-1c6539846d38>:86: ExperimentalWarning:\n",
      "\n",
      "upload_artifact is experimental (supported from v3.3.0). The interface can change in the future.\n",
      "\n",
      "<ipython-input-36-1c6539846d38>:94: ExperimentalWarning:\n",
      "\n",
      "upload_artifact is experimental (supported from v3.3.0). The interface can change in the future.\n",
      "\n",
      "[I 2024-08-18 20:18:52,417] Trial 400 finished with value: 0.4825997734583613 and parameters: {'lambda_l1': 0.22909807451682457, 'lambda_l2': 6.18574394795404, 'num_leaves': 25, 'feature_fraction': 0.49948762946118147, 'bagging_fraction': 0.4042818446304371, 'bagging_freq': 1, 'min_child_samples': 17}. Best is trial 45 with value: 1.0.\n",
      "<ipython-input-36-1c6539846d38>:86: ExperimentalWarning:\n",
      "\n",
      "upload_artifact is experimental (supported from v3.3.0). The interface can change in the future.\n",
      "\n",
      "<ipython-input-36-1c6539846d38>:94: ExperimentalWarning:\n",
      "\n",
      "upload_artifact is experimental (supported from v3.3.0). The interface can change in the future.\n",
      "\n",
      "[I 2024-08-18 20:19:14,807] Trial 401 finished with value: 0.4783007194472173 and parameters: {'lambda_l1': 0.19192839309124762, 'lambda_l2': 5.350918619391183, 'num_leaves': 211, 'feature_fraction': 0.49692790356195404, 'bagging_fraction': 0.41387322143415517, 'bagging_freq': 1, 'min_child_samples': 19}. Best is trial 45 with value: 1.0.\n",
      "<ipython-input-36-1c6539846d38>:86: ExperimentalWarning:\n",
      "\n",
      "upload_artifact is experimental (supported from v3.3.0). The interface can change in the future.\n",
      "\n",
      "<ipython-input-36-1c6539846d38>:94: ExperimentalWarning:\n",
      "\n",
      "upload_artifact is experimental (supported from v3.3.0). The interface can change in the future.\n",
      "\n",
      "[I 2024-08-18 20:19:26,286] Trial 402 finished with value: 0.4810488502012215 and parameters: {'lambda_l1': 0.1216121224201631, 'lambda_l2': 0.009107971984762138, 'num_leaves': 30, 'feature_fraction': 0.49103368387579027, 'bagging_fraction': 0.4141093476963874, 'bagging_freq': 1, 'min_child_samples': 17}. Best is trial 45 with value: 1.0.\n",
      "<ipython-input-36-1c6539846d38>:86: ExperimentalWarning:\n",
      "\n",
      "upload_artifact is experimental (supported from v3.3.0). The interface can change in the future.\n",
      "\n",
      "<ipython-input-36-1c6539846d38>:94: ExperimentalWarning:\n",
      "\n",
      "upload_artifact is experimental (supported from v3.3.0). The interface can change in the future.\n",
      "\n",
      "[I 2024-08-18 20:19:39,857] Trial 403 finished with value: 0.4778624636393064 and parameters: {'lambda_l1': 0.24732038144648907, 'lambda_l2': 6.822224778862405, 'num_leaves': 27, 'feature_fraction': 0.5095065919986981, 'bagging_fraction': 0.40605457024453334, 'bagging_freq': 1, 'min_child_samples': 21}. Best is trial 45 with value: 1.0.\n",
      "<ipython-input-36-1c6539846d38>:86: ExperimentalWarning:\n",
      "\n",
      "upload_artifact is experimental (supported from v3.3.0). The interface can change in the future.\n",
      "\n",
      "<ipython-input-36-1c6539846d38>:94: ExperimentalWarning:\n",
      "\n",
      "upload_artifact is experimental (supported from v3.3.0). The interface can change in the future.\n",
      "\n",
      "[I 2024-08-18 20:19:51,843] Trial 404 finished with value: 0.477819483978196 and parameters: {'lambda_l1': 0.13992438397384038, 'lambda_l2': 9.861411256050445, 'num_leaves': 23, 'feature_fraction': 0.5027938736646262, 'bagging_fraction': 0.42472682059017836, 'bagging_freq': 1, 'min_child_samples': 17}. Best is trial 45 with value: 1.0.\n",
      "<ipython-input-36-1c6539846d38>:86: ExperimentalWarning:\n",
      "\n",
      "upload_artifact is experimental (supported from v3.3.0). The interface can change in the future.\n",
      "\n",
      "<ipython-input-36-1c6539846d38>:94: ExperimentalWarning:\n",
      "\n",
      "upload_artifact is experimental (supported from v3.3.0). The interface can change in the future.\n",
      "\n",
      "[I 2024-08-18 20:20:02,402] Trial 405 finished with value: 0.47931784056565463 and parameters: {'lambda_l1': 0.3513684373922761, 'lambda_l2': 4.313314922280651, 'num_leaves': 30, 'feature_fraction': 0.48124472514001715, 'bagging_fraction': 0.4040846027068464, 'bagging_freq': 1, 'min_child_samples': 12}. Best is trial 45 with value: 1.0.\n",
      "<ipython-input-36-1c6539846d38>:86: ExperimentalWarning:\n",
      "\n",
      "upload_artifact is experimental (supported from v3.3.0). The interface can change in the future.\n",
      "\n",
      "<ipython-input-36-1c6539846d38>:94: ExperimentalWarning:\n",
      "\n",
      "upload_artifact is experimental (supported from v3.3.0). The interface can change in the future.\n",
      "\n",
      "[I 2024-08-18 20:20:18,233] Trial 406 finished with value: 0.48118882184859063 and parameters: {'lambda_l1': 0.060060242356496076, 'lambda_l2': 4.920904158883614, 'num_leaves': 24, 'feature_fraction': 0.4911465136811528, 'bagging_fraction': 0.4021875158188543, 'bagging_freq': 1, 'min_child_samples': 19}. Best is trial 45 with value: 1.0.\n",
      "<ipython-input-36-1c6539846d38>:86: ExperimentalWarning:\n",
      "\n",
      "upload_artifact is experimental (supported from v3.3.0). The interface can change in the future.\n",
      "\n",
      "<ipython-input-36-1c6539846d38>:94: ExperimentalWarning:\n",
      "\n",
      "upload_artifact is experimental (supported from v3.3.0). The interface can change in the future.\n",
      "\n",
      "[I 2024-08-18 20:20:31,600] Trial 407 finished with value: 0.4829453825944426 and parameters: {'lambda_l1': 0.4229931278472235, 'lambda_l2': 6.722391981836336, 'num_leaves': 33, 'feature_fraction': 0.5072255402341727, 'bagging_fraction': 0.7554464773448405, 'bagging_freq': 1, 'min_child_samples': 22}. Best is trial 45 with value: 1.0.\n",
      "<ipython-input-36-1c6539846d38>:86: ExperimentalWarning:\n",
      "\n",
      "upload_artifact is experimental (supported from v3.3.0). The interface can change in the future.\n",
      "\n",
      "<ipython-input-36-1c6539846d38>:94: ExperimentalWarning:\n",
      "\n",
      "upload_artifact is experimental (supported from v3.3.0). The interface can change in the future.\n",
      "\n",
      "[I 2024-08-18 20:20:44,407] Trial 408 finished with value: 0.47994366583913384 and parameters: {'lambda_l1': 0.21167999582546754, 'lambda_l2': 6.580973421607317, 'num_leaves': 29, 'feature_fraction': 0.5064945413784887, 'bagging_fraction': 0.7453063872488775, 'bagging_freq': 1, 'min_child_samples': 22}. Best is trial 45 with value: 1.0.\n",
      "<ipython-input-36-1c6539846d38>:86: ExperimentalWarning:\n",
      "\n",
      "upload_artifact is experimental (supported from v3.3.0). The interface can change in the future.\n",
      "\n",
      "<ipython-input-36-1c6539846d38>:94: ExperimentalWarning:\n",
      "\n",
      "upload_artifact is experimental (supported from v3.3.0). The interface can change in the future.\n",
      "\n",
      "[I 2024-08-18 20:20:56,915] Trial 409 finished with value: 0.4738502729925275 and parameters: {'lambda_l1': 9.948044282774836, 'lambda_l2': 7.0167173395157025, 'num_leaves': 32, 'feature_fraction': 0.9108910797161902, 'bagging_fraction': 0.7892024126073097, 'bagging_freq': 7, 'min_child_samples': 23}. Best is trial 45 with value: 1.0.\n",
      "<ipython-input-36-1c6539846d38>:86: ExperimentalWarning:\n",
      "\n",
      "upload_artifact is experimental (supported from v3.3.0). The interface can change in the future.\n",
      "\n",
      "<ipython-input-36-1c6539846d38>:94: ExperimentalWarning:\n",
      "\n",
      "upload_artifact is experimental (supported from v3.3.0). The interface can change in the future.\n",
      "\n",
      "[I 2024-08-18 20:21:12,822] Trial 410 finished with value: 0.47810795957128194 and parameters: {'lambda_l1': 0.39272889956644386, 'lambda_l2': 3.544807357795837, 'num_leaves': 34, 'feature_fraction': 0.5169875628872058, 'bagging_fraction': 0.7400702988213013, 'bagging_freq': 1, 'min_child_samples': 60}. Best is trial 45 with value: 1.0.\n",
      "<ipython-input-36-1c6539846d38>:86: ExperimentalWarning:\n",
      "\n",
      "upload_artifact is experimental (supported from v3.3.0). The interface can change in the future.\n",
      "\n",
      "<ipython-input-36-1c6539846d38>:94: ExperimentalWarning:\n",
      "\n",
      "upload_artifact is experimental (supported from v3.3.0). The interface can change in the future.\n",
      "\n",
      "[I 2024-08-18 20:21:32,039] Trial 411 finished with value: 0.48045237420968184 and parameters: {'lambda_l1': 0.26549746295303, 'lambda_l2': 5.061987742125321, 'num_leaves': 35, 'feature_fraction': 0.5013088611950826, 'bagging_fraction': 0.4228554902345543, 'bagging_freq': 1, 'min_child_samples': 19}. Best is trial 45 with value: 1.0.\n",
      "<ipython-input-36-1c6539846d38>:86: ExperimentalWarning:\n",
      "\n",
      "upload_artifact is experimental (supported from v3.3.0). The interface can change in the future.\n",
      "\n",
      "<ipython-input-36-1c6539846d38>:94: ExperimentalWarning:\n",
      "\n",
      "upload_artifact is experimental (supported from v3.3.0). The interface can change in the future.\n",
      "\n",
      "[I 2024-08-18 20:21:46,780] Trial 412 finished with value: 0.47742312917334995 and parameters: {'lambda_l1': 0.46827775177119035, 'lambda_l2': 2.8900383654737283, 'num_leaves': 73, 'feature_fraction': 0.7161958546059533, 'bagging_fraction': 0.7855905410985706, 'bagging_freq': 1, 'min_child_samples': 22}. Best is trial 45 with value: 1.0.\n",
      "<ipython-input-36-1c6539846d38>:86: ExperimentalWarning:\n",
      "\n",
      "upload_artifact is experimental (supported from v3.3.0). The interface can change in the future.\n",
      "\n",
      "<ipython-input-36-1c6539846d38>:94: ExperimentalWarning:\n",
      "\n",
      "upload_artifact is experimental (supported from v3.3.0). The interface can change in the future.\n",
      "\n",
      "[I 2024-08-18 20:21:55,675] Trial 413 finished with value: 0.4764792852462916 and parameters: {'lambda_l1': 1.097360022775669e-07, 'lambda_l2': 7.604344026959054, 'num_leaves': 26, 'feature_fraction': 0.5205045816435141, 'bagging_fraction': 0.5546854441679708, 'bagging_freq': 1, 'min_child_samples': 20}. Best is trial 45 with value: 1.0.\n",
      "<ipython-input-36-1c6539846d38>:86: ExperimentalWarning:\n",
      "\n",
      "upload_artifact is experimental (supported from v3.3.0). The interface can change in the future.\n",
      "\n",
      "<ipython-input-36-1c6539846d38>:94: ExperimentalWarning:\n",
      "\n",
      "upload_artifact is experimental (supported from v3.3.0). The interface can change in the future.\n",
      "\n",
      "[I 2024-08-18 20:22:02,201] Trial 414 finished with value: 0.4811248594417975 and parameters: {'lambda_l1': 0.1123359781358186, 'lambda_l2': 5.0018032154631755e-05, 'num_leaves': 23, 'feature_fraction': 0.48526692820719997, 'bagging_fraction': 0.4305660498489474, 'bagging_freq': 1, 'min_child_samples': 38}. Best is trial 45 with value: 1.0.\n",
      "<ipython-input-36-1c6539846d38>:86: ExperimentalWarning:\n",
      "\n",
      "upload_artifact is experimental (supported from v3.3.0). The interface can change in the future.\n",
      "\n",
      "<ipython-input-36-1c6539846d38>:94: ExperimentalWarning:\n",
      "\n",
      "upload_artifact is experimental (supported from v3.3.0). The interface can change in the future.\n",
      "\n",
      "[I 2024-08-18 20:22:13,405] Trial 415 finished with value: 0.4747921113043775 and parameters: {'lambda_l1': 0.03622058316693055, 'lambda_l2': 9.8336025560612, 'num_leaves': 222, 'feature_fraction': 0.5093499015924949, 'bagging_fraction': 0.43669767488328726, 'bagging_freq': 1, 'min_child_samples': 24}. Best is trial 45 with value: 1.0.\n",
      "<ipython-input-36-1c6539846d38>:86: ExperimentalWarning:\n",
      "\n",
      "upload_artifact is experimental (supported from v3.3.0). The interface can change in the future.\n",
      "\n",
      "<ipython-input-36-1c6539846d38>:94: ExperimentalWarning:\n",
      "\n",
      "upload_artifact is experimental (supported from v3.3.0). The interface can change in the future.\n",
      "\n",
      "[I 2024-08-18 20:22:23,806] Trial 416 finished with value: 0.4746472200980365 and parameters: {'lambda_l1': 0.0027882146973117563, 'lambda_l2': 4.374796258497876, 'num_leaves': 33, 'feature_fraction': 0.5279839546828363, 'bagging_fraction': 0.4265946511778804, 'bagging_freq': 3, 'min_child_samples': 21}. Best is trial 45 with value: 1.0.\n",
      "<ipython-input-36-1c6539846d38>:86: ExperimentalWarning:\n",
      "\n",
      "upload_artifact is experimental (supported from v3.3.0). The interface can change in the future.\n",
      "\n",
      "<ipython-input-36-1c6539846d38>:94: ExperimentalWarning:\n",
      "\n",
      "upload_artifact is experimental (supported from v3.3.0). The interface can change in the future.\n",
      "\n",
      "[I 2024-08-18 20:22:32,097] Trial 417 finished with value: 0.4818469991913009 and parameters: {'lambda_l1': 0.19680369618876545, 'lambda_l2': 3.463527526556201, 'num_leaves': 21, 'feature_fraction': 0.5919965790471841, 'bagging_fraction': 0.7225344253986995, 'bagging_freq': 1, 'min_child_samples': 25}. Best is trial 45 with value: 1.0.\n",
      "<ipython-input-36-1c6539846d38>:86: ExperimentalWarning:\n",
      "\n",
      "upload_artifact is experimental (supported from v3.3.0). The interface can change in the future.\n",
      "\n",
      "<ipython-input-36-1c6539846d38>:94: ExperimentalWarning:\n",
      "\n",
      "upload_artifact is experimental (supported from v3.3.0). The interface can change in the future.\n",
      "\n",
      "[I 2024-08-18 20:22:42,388] Trial 418 finished with value: 0.47457481165897397 and parameters: {'lambda_l1': 0.40226152748191746, 'lambda_l2': 5.387927877542225, 'num_leaves': 27, 'feature_fraction': 0.4969102188979699, 'bagging_fraction': 0.5159478054289663, 'bagging_freq': 3, 'min_child_samples': 10}. Best is trial 45 with value: 1.0.\n",
      "<ipython-input-36-1c6539846d38>:86: ExperimentalWarning:\n",
      "\n",
      "upload_artifact is experimental (supported from v3.3.0). The interface can change in the future.\n",
      "\n",
      "<ipython-input-36-1c6539846d38>:94: ExperimentalWarning:\n",
      "\n",
      "upload_artifact is experimental (supported from v3.3.0). The interface can change in the future.\n",
      "\n",
      "[I 2024-08-18 20:22:55,397] Trial 419 finished with value: 0.46860091550084304 and parameters: {'lambda_l1': 0.010382925172171925, 'lambda_l2': 2.542564795934327, 'num_leaves': 110, 'feature_fraction': 0.4788113983424738, 'bagging_fraction': 0.6694358675882814, 'bagging_freq': 6, 'min_child_samples': 23}. Best is trial 45 with value: 1.0.\n",
      "<ipython-input-36-1c6539846d38>:86: ExperimentalWarning:\n",
      "\n",
      "upload_artifact is experimental (supported from v3.3.0). The interface can change in the future.\n",
      "\n",
      "<ipython-input-36-1c6539846d38>:94: ExperimentalWarning:\n",
      "\n",
      "upload_artifact is experimental (supported from v3.3.0). The interface can change in the future.\n",
      "\n",
      "[I 2024-08-18 20:23:08,963] Trial 420 finished with value: 0.47248527484959496 and parameters: {'lambda_l1': 0.2731460502035711, 'lambda_l2': 9.921519013838639, 'num_leaves': 176, 'feature_fraction': 0.5143411401836273, 'bagging_fraction': 0.4689599362086242, 'bagging_freq': 1, 'min_child_samples': 17}. Best is trial 45 with value: 1.0.\n",
      "<ipython-input-36-1c6539846d38>:86: ExperimentalWarning:\n",
      "\n",
      "upload_artifact is experimental (supported from v3.3.0). The interface can change in the future.\n",
      "\n",
      "<ipython-input-36-1c6539846d38>:94: ExperimentalWarning:\n",
      "\n",
      "upload_artifact is experimental (supported from v3.3.0). The interface can change in the future.\n",
      "\n",
      "[I 2024-08-18 20:23:17,751] Trial 421 finished with value: 0.47131102643024303 and parameters: {'lambda_l1': 6.651563201621517, 'lambda_l2': 6.716271802900263, 'num_leaves': 32, 'feature_fraction': 0.4921283393427922, 'bagging_fraction': 0.44462071209319326, 'bagging_freq': 1, 'min_child_samples': 21}. Best is trial 45 with value: 1.0.\n",
      "<ipython-input-36-1c6539846d38>:86: ExperimentalWarning:\n",
      "\n",
      "upload_artifact is experimental (supported from v3.3.0). The interface can change in the future.\n",
      "\n",
      "<ipython-input-36-1c6539846d38>:94: ExperimentalWarning:\n",
      "\n",
      "upload_artifact is experimental (supported from v3.3.0). The interface can change in the future.\n",
      "\n",
      "[I 2024-08-18 20:23:26,535] Trial 422 finished with value: 0.47952820067220486 and parameters: {'lambda_l1': 0.020710653707417148, 'lambda_l2': 3.9645859026267485, 'num_leaves': 20, 'feature_fraction': 0.5267158039578719, 'bagging_fraction': 0.7608058969943458, 'bagging_freq': 1, 'min_child_samples': 19}. Best is trial 45 with value: 1.0.\n",
      "<ipython-input-36-1c6539846d38>:86: ExperimentalWarning:\n",
      "\n",
      "upload_artifact is experimental (supported from v3.3.0). The interface can change in the future.\n",
      "\n",
      "<ipython-input-36-1c6539846d38>:94: ExperimentalWarning:\n",
      "\n",
      "upload_artifact is experimental (supported from v3.3.0). The interface can change in the future.\n",
      "\n",
      "[I 2024-08-18 20:23:34,220] Trial 423 finished with value: 0.47259659792348546 and parameters: {'lambda_l1': 0.1496924403558536, 'lambda_l2': 5.712660330531323, 'num_leaves': 27, 'feature_fraction': 0.5052669578133503, 'bagging_fraction': 0.5348409730794271, 'bagging_freq': 5, 'min_child_samples': 25}. Best is trial 45 with value: 1.0.\n",
      "<ipython-input-36-1c6539846d38>:86: ExperimentalWarning:\n",
      "\n",
      "upload_artifact is experimental (supported from v3.3.0). The interface can change in the future.\n",
      "\n",
      "<ipython-input-36-1c6539846d38>:94: ExperimentalWarning:\n",
      "\n",
      "upload_artifact is experimental (supported from v3.3.0). The interface can change in the future.\n",
      "\n",
      "[I 2024-08-18 20:23:42,500] Trial 424 finished with value: 0.4769565358828125 and parameters: {'lambda_l1': 0.4775598852061589, 'lambda_l2': 3.484059328109604, 'num_leaves': 35, 'feature_fraction': 0.4802826419964909, 'bagging_fraction': 0.8205721701548178, 'bagging_freq': 1, 'min_child_samples': 57}. Best is trial 45 with value: 1.0.\n",
      "<ipython-input-36-1c6539846d38>:86: ExperimentalWarning:\n",
      "\n",
      "upload_artifact is experimental (supported from v3.3.0). The interface can change in the future.\n",
      "\n",
      "<ipython-input-36-1c6539846d38>:94: ExperimentalWarning:\n",
      "\n",
      "upload_artifact is experimental (supported from v3.3.0). The interface can change in the future.\n",
      "\n",
      "[I 2024-08-18 20:23:51,487] Trial 425 finished with value: 0.4792492245486666 and parameters: {'lambda_l1': 0.07446977390106344, 'lambda_l2': 6.922348766715784, 'num_leaves': 21, 'feature_fraction': 0.5190123928112602, 'bagging_fraction': 0.4000664696504836, 'bagging_freq': 1, 'min_child_samples': 9}. Best is trial 45 with value: 1.0.\n",
      "<ipython-input-36-1c6539846d38>:86: ExperimentalWarning:\n",
      "\n",
      "upload_artifact is experimental (supported from v3.3.0). The interface can change in the future.\n",
      "\n",
      "<ipython-input-36-1c6539846d38>:94: ExperimentalWarning:\n",
      "\n",
      "upload_artifact is experimental (supported from v3.3.0). The interface can change in the future.\n",
      "\n",
      "[I 2024-08-18 20:23:58,746] Trial 426 finished with value: 0.4758055416110082 and parameters: {'lambda_l1': 0.29617422014432426, 'lambda_l2': 2.6670360543863105, 'num_leaves': 26, 'feature_fraction': 0.496984552039819, 'bagging_fraction': 0.7016842600103246, 'bagging_freq': 1, 'min_child_samples': 12}. Best is trial 45 with value: 1.0.\n",
      "<ipython-input-36-1c6539846d38>:86: ExperimentalWarning:\n",
      "\n",
      "upload_artifact is experimental (supported from v3.3.0). The interface can change in the future.\n",
      "\n",
      "<ipython-input-36-1c6539846d38>:94: ExperimentalWarning:\n",
      "\n",
      "upload_artifact is experimental (supported from v3.3.0). The interface can change in the future.\n",
      "\n",
      "[I 2024-08-18 20:24:06,172] Trial 427 finished with value: 0.4791827133456922 and parameters: {'lambda_l1': 5.380639389040236e-06, 'lambda_l2': 5.102811391666227, 'num_leaves': 16, 'feature_fraction': 0.5774007627334736, 'bagging_fraction': 0.9064069530960679, 'bagging_freq': 1, 'min_child_samples': 34}. Best is trial 45 with value: 1.0.\n",
      "<ipython-input-36-1c6539846d38>:86: ExperimentalWarning:\n",
      "\n",
      "upload_artifact is experimental (supported from v3.3.0). The interface can change in the future.\n",
      "\n",
      "<ipython-input-36-1c6539846d38>:94: ExperimentalWarning:\n",
      "\n",
      "upload_artifact is experimental (supported from v3.3.0). The interface can change in the future.\n",
      "\n",
      "[I 2024-08-18 20:24:17,016] Trial 428 finished with value: 0.48352544298434486 and parameters: {'lambda_l1': 0.4860990688955695, 'lambda_l2': 9.643768284482137, 'num_leaves': 39, 'feature_fraction': 0.506073584315699, 'bagging_fraction': 0.6510824224148518, 'bagging_freq': 1, 'min_child_samples': 22}. Best is trial 45 with value: 1.0.\n",
      "<ipython-input-36-1c6539846d38>:86: ExperimentalWarning:\n",
      "\n",
      "upload_artifact is experimental (supported from v3.3.0). The interface can change in the future.\n",
      "\n",
      "<ipython-input-36-1c6539846d38>:94: ExperimentalWarning:\n",
      "\n",
      "upload_artifact is experimental (supported from v3.3.0). The interface can change in the future.\n",
      "\n",
      "[I 2024-08-18 20:24:27,532] Trial 429 finished with value: 0.47448447747019173 and parameters: {'lambda_l1': 0.1915691257599117, 'lambda_l2': 9.86859437719258, 'num_leaves': 36, 'feature_fraction': 0.5327018702145316, 'bagging_fraction': 0.609155489252916, 'bagging_freq': 1, 'min_child_samples': 23}. Best is trial 45 with value: 1.0.\n",
      "<ipython-input-36-1c6539846d38>:86: ExperimentalWarning:\n",
      "\n",
      "upload_artifact is experimental (supported from v3.3.0). The interface can change in the future.\n",
      "\n",
      "<ipython-input-36-1c6539846d38>:94: ExperimentalWarning:\n",
      "\n",
      "upload_artifact is experimental (supported from v3.3.0). The interface can change in the future.\n",
      "\n",
      "[I 2024-08-18 20:24:40,269] Trial 430 finished with value: 0.471103396834705 and parameters: {'lambda_l1': 0.5562155892967063, 'lambda_l2': 2.0895213166012776, 'num_leaves': 134, 'feature_fraction': 0.5113306015632434, 'bagging_fraction': 0.7727464384666156, 'bagging_freq': 1, 'min_child_samples': 22}. Best is trial 45 with value: 1.0.\n",
      "<ipython-input-36-1c6539846d38>:86: ExperimentalWarning:\n",
      "\n",
      "upload_artifact is experimental (supported from v3.3.0). The interface can change in the future.\n",
      "\n",
      "<ipython-input-36-1c6539846d38>:94: ExperimentalWarning:\n",
      "\n",
      "upload_artifact is experimental (supported from v3.3.0). The interface can change in the future.\n",
      "\n",
      "[I 2024-08-18 20:24:58,298] Trial 431 finished with value: 0.4776641021859804 and parameters: {'lambda_l1': 0.31129892780792934, 'lambda_l2': 9.669427280582529, 'num_leaves': 41, 'feature_fraction': 0.5058691145569244, 'bagging_fraction': 0.7147387226553661, 'bagging_freq': 4, 'min_child_samples': 25}. Best is trial 45 with value: 1.0.\n",
      "<ipython-input-36-1c6539846d38>:86: ExperimentalWarning:\n",
      "\n",
      "upload_artifact is experimental (supported from v3.3.0). The interface can change in the future.\n",
      "\n",
      "<ipython-input-36-1c6539846d38>:94: ExperimentalWarning:\n",
      "\n",
      "upload_artifact is experimental (supported from v3.3.0). The interface can change in the future.\n",
      "\n",
      "[I 2024-08-18 20:25:09,527] Trial 432 finished with value: 0.47845978832478103 and parameters: {'lambda_l1': 0.11610032847767948, 'lambda_l2': 2.5070916254582986e-07, 'num_leaves': 38, 'feature_fraction': 0.5253664494923885, 'bagging_fraction': 0.7519568402616756, 'bagging_freq': 1, 'min_child_samples': 20}. Best is trial 45 with value: 1.0.\n",
      "<ipython-input-36-1c6539846d38>:86: ExperimentalWarning:\n",
      "\n",
      "upload_artifact is experimental (supported from v3.3.0). The interface can change in the future.\n",
      "\n",
      "<ipython-input-36-1c6539846d38>:94: ExperimentalWarning:\n",
      "\n",
      "upload_artifact is experimental (supported from v3.3.0). The interface can change in the future.\n",
      "\n",
      "[I 2024-08-18 20:25:19,847] Trial 433 finished with value: 0.4755394647831268 and parameters: {'lambda_l1': 4.7400440194798295, 'lambda_l2': 4.319147327042661, 'num_leaves': 31, 'feature_fraction': 0.5148525511534944, 'bagging_fraction': 0.458439745570443, 'bagging_freq': 1, 'min_child_samples': 26}. Best is trial 45 with value: 1.0.\n",
      "<ipython-input-36-1c6539846d38>:86: ExperimentalWarning:\n",
      "\n",
      "upload_artifact is experimental (supported from v3.3.0). The interface can change in the future.\n",
      "\n",
      "<ipython-input-36-1c6539846d38>:94: ExperimentalWarning:\n",
      "\n",
      "upload_artifact is experimental (supported from v3.3.0). The interface can change in the future.\n",
      "\n",
      "[I 2024-08-18 20:25:31,869] Trial 434 finished with value: 0.4598413562125645 and parameters: {'lambda_l1': 0.540715780560152, 'lambda_l2': 7.01385943164355, 'num_leaves': 33, 'feature_fraction': 0.40036716110014975, 'bagging_fraction': 0.4742969476559586, 'bagging_freq': 1, 'min_child_samples': 23}. Best is trial 45 with value: 1.0.\n",
      "<ipython-input-36-1c6539846d38>:86: ExperimentalWarning:\n",
      "\n",
      "upload_artifact is experimental (supported from v3.3.0). The interface can change in the future.\n",
      "\n",
      "<ipython-input-36-1c6539846d38>:94: ExperimentalWarning:\n",
      "\n",
      "upload_artifact is experimental (supported from v3.3.0). The interface can change in the future.\n",
      "\n",
      "[I 2024-08-18 20:25:40,289] Trial 435 finished with value: 0.47537222830287235 and parameters: {'lambda_l1': 6.757724213073963, 'lambda_l2': 2.995382611353138, 'num_leaves': 66, 'feature_fraction': 0.5294622370676069, 'bagging_fraction': 0.8082206335961556, 'bagging_freq': 2, 'min_child_samples': 47}. Best is trial 45 with value: 1.0.\n",
      "<ipython-input-36-1c6539846d38>:86: ExperimentalWarning:\n",
      "\n",
      "upload_artifact is experimental (supported from v3.3.0). The interface can change in the future.\n",
      "\n",
      "<ipython-input-36-1c6539846d38>:94: ExperimentalWarning:\n",
      "\n",
      "upload_artifact is experimental (supported from v3.3.0). The interface can change in the future.\n",
      "\n",
      "[I 2024-08-18 20:25:51,708] Trial 436 finished with value: 0.4770266364014806 and parameters: {'lambda_l1': 0.17768049446069123, 'lambda_l2': 4.622998024396536, 'num_leaves': 41, 'feature_fraction': 0.5010017470982981, 'bagging_fraction': 0.6208603499632582, 'bagging_freq': 1, 'min_child_samples': 22}. Best is trial 45 with value: 1.0.\n",
      "<ipython-input-36-1c6539846d38>:86: ExperimentalWarning:\n",
      "\n",
      "upload_artifact is experimental (supported from v3.3.0). The interface can change in the future.\n",
      "\n",
      "<ipython-input-36-1c6539846d38>:94: ExperimentalWarning:\n",
      "\n",
      "upload_artifact is experimental (supported from v3.3.0). The interface can change in the future.\n",
      "\n",
      "[I 2024-08-18 20:26:00,287] Trial 437 finished with value: 0.4788349111962139 and parameters: {'lambda_l1': 0.679892580632545, 'lambda_l2': 9.815939487145087, 'num_leaves': 29, 'feature_fraction': 0.5477080343838875, 'bagging_fraction': 0.687199353242988, 'bagging_freq': 1, 'min_child_samples': 31}. Best is trial 45 with value: 1.0.\n",
      "<ipython-input-36-1c6539846d38>:86: ExperimentalWarning:\n",
      "\n",
      "upload_artifact is experimental (supported from v3.3.0). The interface can change in the future.\n",
      "\n",
      "<ipython-input-36-1c6539846d38>:94: ExperimentalWarning:\n",
      "\n",
      "upload_artifact is experimental (supported from v3.3.0). The interface can change in the future.\n",
      "\n",
      "[I 2024-08-18 20:26:09,603] Trial 438 finished with value: 0.4712058975540875 and parameters: {'lambda_l1': 0.37270301748117907, 'lambda_l2': 6.802590314182822, 'num_leaves': 95, 'feature_fraction': 0.6289609434282254, 'bagging_fraction': 0.562140318242831, 'bagging_freq': 3, 'min_child_samples': 8}. Best is trial 45 with value: 1.0.\n",
      "<ipython-input-36-1c6539846d38>:86: ExperimentalWarning:\n",
      "\n",
      "upload_artifact is experimental (supported from v3.3.0). The interface can change in the future.\n",
      "\n",
      "<ipython-input-36-1c6539846d38>:94: ExperimentalWarning:\n",
      "\n",
      "upload_artifact is experimental (supported from v3.3.0). The interface can change in the future.\n",
      "\n",
      "[I 2024-08-18 20:26:16,264] Trial 439 finished with value: 0.47557803520891095 and parameters: {'lambda_l1': 0.2454089585068801, 'lambda_l2': 1.9227476553583651, 'num_leaves': 25, 'feature_fraction': 0.566657290544017, 'bagging_fraction': 0.41662155120133787, 'bagging_freq': 1, 'min_child_samples': 21}. Best is trial 45 with value: 1.0.\n",
      "<ipython-input-36-1c6539846d38>:86: ExperimentalWarning:\n",
      "\n",
      "upload_artifact is experimental (supported from v3.3.0). The interface can change in the future.\n",
      "\n",
      "<ipython-input-36-1c6539846d38>:94: ExperimentalWarning:\n",
      "\n",
      "upload_artifact is experimental (supported from v3.3.0). The interface can change in the future.\n",
      "\n",
      "[I 2024-08-18 20:26:22,954] Trial 440 finished with value: 0.4712107445991887 and parameters: {'lambda_l1': 0.6815133243848638, 'lambda_l2': 3.329217446793125, 'num_leaves': 34, 'feature_fraction': 0.5171978425723031, 'bagging_fraction': 0.43774128799222545, 'bagging_freq': 2, 'min_child_samples': 24}. Best is trial 45 with value: 1.0.\n",
      "<ipython-input-36-1c6539846d38>:86: ExperimentalWarning:\n",
      "\n",
      "upload_artifact is experimental (supported from v3.3.0). The interface can change in the future.\n",
      "\n",
      "<ipython-input-36-1c6539846d38>:94: ExperimentalWarning:\n",
      "\n",
      "upload_artifact is experimental (supported from v3.3.0). The interface can change in the future.\n",
      "\n",
      "[I 2024-08-18 20:26:37,177] Trial 441 finished with value: 0.473326253788339 and parameters: {'lambda_l1': 0.0425822127953044, 'lambda_l2': 9.923116788366412, 'num_leaves': 39, 'feature_fraction': 0.49440643687713803, 'bagging_fraction': 0.6353275254656452, 'bagging_freq': 1, 'min_child_samples': 36}. Best is trial 45 with value: 1.0.\n",
      "<ipython-input-36-1c6539846d38>:86: ExperimentalWarning:\n",
      "\n",
      "upload_artifact is experimental (supported from v3.3.0). The interface can change in the future.\n",
      "\n",
      "<ipython-input-36-1c6539846d38>:94: ExperimentalWarning:\n",
      "\n",
      "upload_artifact is experimental (supported from v3.3.0). The interface can change in the future.\n",
      "\n",
      "[I 2024-08-18 20:26:46,122] Trial 442 finished with value: 0.47093973642932974 and parameters: {'lambda_l1': 0.37472132946541203, 'lambda_l2': 4.9028423892236646, 'num_leaves': 30, 'feature_fraction': 0.5037546934215462, 'bagging_fraction': 0.45738450752139, 'bagging_freq': 7, 'min_child_samples': 7}. Best is trial 45 with value: 1.0.\n",
      "<ipython-input-36-1c6539846d38>:86: ExperimentalWarning:\n",
      "\n",
      "upload_artifact is experimental (supported from v3.3.0). The interface can change in the future.\n",
      "\n",
      "<ipython-input-36-1c6539846d38>:94: ExperimentalWarning:\n",
      "\n",
      "upload_artifact is experimental (supported from v3.3.0). The interface can change in the future.\n",
      "\n",
      "[I 2024-08-18 20:26:56,292] Trial 443 finished with value: 0.47681369230848303 and parameters: {'lambda_l1': 0.08639892590829297, 'lambda_l2': 6.6576189632072245, 'num_leaves': 24, 'feature_fraction': 0.4749320093663022, 'bagging_fraction': 0.6566281101173169, 'bagging_freq': 1, 'min_child_samples': 44}. Best is trial 45 with value: 1.0.\n",
      "<ipython-input-36-1c6539846d38>:86: ExperimentalWarning:\n",
      "\n",
      "upload_artifact is experimental (supported from v3.3.0). The interface can change in the future.\n",
      "\n",
      "<ipython-input-36-1c6539846d38>:94: ExperimentalWarning:\n",
      "\n",
      "upload_artifact is experimental (supported from v3.3.0). The interface can change in the future.\n",
      "\n",
      "[I 2024-08-18 20:27:11,924] Trial 444 finished with value: 0.47852123571545324 and parameters: {'lambda_l1': 3.789825574049246, 'lambda_l2': 2.369868407578239, 'num_leaves': 18, 'feature_fraction': 0.5235507058647194, 'bagging_fraction': 0.47991446026944506, 'bagging_freq': 1, 'min_child_samples': 19}. Best is trial 45 with value: 1.0.\n",
      "<ipython-input-36-1c6539846d38>:86: ExperimentalWarning:\n",
      "\n",
      "upload_artifact is experimental (supported from v3.3.0). The interface can change in the future.\n",
      "\n",
      "<ipython-input-36-1c6539846d38>:94: ExperimentalWarning:\n",
      "\n",
      "upload_artifact is experimental (supported from v3.3.0). The interface can change in the future.\n",
      "\n",
      "[I 2024-08-18 20:27:33,946] Trial 445 finished with value: 0.4751644634942765 and parameters: {'lambda_l1': 1.3714997320117586, 'lambda_l2': 3.786536651978608, 'num_leaves': 10, 'feature_fraction': 0.5376851020258494, 'bagging_fraction': 0.4304464704082311, 'bagging_freq': 2, 'min_child_samples': 27}. Best is trial 45 with value: 1.0.\n",
      "<ipython-input-36-1c6539846d38>:86: ExperimentalWarning:\n",
      "\n",
      "upload_artifact is experimental (supported from v3.3.0). The interface can change in the future.\n",
      "\n",
      "<ipython-input-36-1c6539846d38>:94: ExperimentalWarning:\n",
      "\n",
      "upload_artifact is experimental (supported from v3.3.0). The interface can change in the future.\n",
      "\n",
      "[I 2024-08-18 20:27:42,454] Trial 446 finished with value: 0.48153934514061514 and parameters: {'lambda_l1': 1.960530038092785e-08, 'lambda_l2': 6.662439148878468, 'num_leaves': 25, 'feature_fraction': 0.6056001183136974, 'bagging_fraction': 0.5846054272032084, 'bagging_freq': 2, 'min_child_samples': 10}. Best is trial 45 with value: 1.0.\n",
      "<ipython-input-36-1c6539846d38>:86: ExperimentalWarning:\n",
      "\n",
      "upload_artifact is experimental (supported from v3.3.0). The interface can change in the future.\n",
      "\n",
      "<ipython-input-36-1c6539846d38>:94: ExperimentalWarning:\n",
      "\n",
      "upload_artifact is experimental (supported from v3.3.0). The interface can change in the future.\n",
      "\n",
      "[I 2024-08-18 20:27:48,306] Trial 447 finished with value: 0.4706863800267717 and parameters: {'lambda_l1': 0.0010302094720422543, 'lambda_l2': 4.551663131731198, 'num_leaves': 18, 'feature_fraction': 0.492062190544201, 'bagging_fraction': 0.4681194681505532, 'bagging_freq': 6, 'min_child_samples': 95}. Best is trial 45 with value: 1.0.\n",
      "<ipython-input-36-1c6539846d38>:86: ExperimentalWarning:\n",
      "\n",
      "upload_artifact is experimental (supported from v3.3.0). The interface can change in the future.\n",
      "\n",
      "<ipython-input-36-1c6539846d38>:94: ExperimentalWarning:\n",
      "\n",
      "upload_artifact is experimental (supported from v3.3.0). The interface can change in the future.\n",
      "\n",
      "[I 2024-08-18 20:27:56,758] Trial 448 finished with value: 0.48506412666184856 and parameters: {'lambda_l1': 0.1569411154843183, 'lambda_l2': 0.005588397122526479, 'num_leaves': 31, 'feature_fraction': 0.5524149623026618, 'bagging_fraction': 0.4422032328710893, 'bagging_freq': 1, 'min_child_samples': 20}. Best is trial 45 with value: 1.0.\n",
      "<ipython-input-36-1c6539846d38>:86: ExperimentalWarning:\n",
      "\n",
      "upload_artifact is experimental (supported from v3.3.0). The interface can change in the future.\n",
      "\n",
      "<ipython-input-36-1c6539846d38>:94: ExperimentalWarning:\n",
      "\n",
      "upload_artifact is experimental (supported from v3.3.0). The interface can change in the future.\n",
      "\n",
      "[I 2024-08-18 20:28:04,686] Trial 449 finished with value: 0.48124605507173623 and parameters: {'lambda_l1': 0.13111963235097457, 'lambda_l2': 0.0025041104158705367, 'num_leaves': 31, 'feature_fraction': 0.5550966120307633, 'bagging_fraction': 0.8510623462191619, 'bagging_freq': 1, 'min_child_samples': 24}. Best is trial 45 with value: 1.0.\n",
      "<ipython-input-36-1c6539846d38>:86: ExperimentalWarning:\n",
      "\n",
      "upload_artifact is experimental (supported from v3.3.0). The interface can change in the future.\n",
      "\n",
      "<ipython-input-36-1c6539846d38>:94: ExperimentalWarning:\n",
      "\n",
      "upload_artifact is experimental (supported from v3.3.0). The interface can change in the future.\n",
      "\n",
      "[I 2024-08-18 20:28:11,258] Trial 450 finished with value: 0.47871131557962604 and parameters: {'lambda_l1': 7.810985303264564, 'lambda_l2': 0.08303758395064402, 'num_leaves': 39, 'feature_fraction': 0.5690863920612272, 'bagging_fraction': 0.44878633554420566, 'bagging_freq': 1, 'min_child_samples': 21}. Best is trial 45 with value: 1.0.\n",
      "<ipython-input-36-1c6539846d38>:86: ExperimentalWarning:\n",
      "\n",
      "upload_artifact is experimental (supported from v3.3.0). The interface can change in the future.\n",
      "\n",
      "<ipython-input-36-1c6539846d38>:94: ExperimentalWarning:\n",
      "\n",
      "upload_artifact is experimental (supported from v3.3.0). The interface can change in the future.\n",
      "\n",
      "[I 2024-08-18 20:28:18,710] Trial 451 finished with value: 0.4679986670765717 and parameters: {'lambda_l1': 0.00045236472522441293, 'lambda_l2': 0.013391939870212494, 'num_leaves': 37, 'feature_fraction': 0.5870192101521257, 'bagging_fraction': 0.44136147234654544, 'bagging_freq': 3, 'min_child_samples': 26}. Best is trial 45 with value: 1.0.\n",
      "<ipython-input-36-1c6539846d38>:86: ExperimentalWarning:\n",
      "\n",
      "upload_artifact is experimental (supported from v3.3.0). The interface can change in the future.\n",
      "\n",
      "<ipython-input-36-1c6539846d38>:94: ExperimentalWarning:\n",
      "\n",
      "upload_artifact is experimental (supported from v3.3.0). The interface can change in the future.\n",
      "\n",
      "[I 2024-08-18 20:28:25,772] Trial 452 finished with value: 0.4771681348282123 and parameters: {'lambda_l1': 0.05594272231593831, 'lambda_l2': 1.7138710354620696, 'num_leaves': 31, 'feature_fraction': 0.5517769615273811, 'bagging_fraction': 0.4629140041854306, 'bagging_freq': 1, 'min_child_samples': 23}. Best is trial 45 with value: 1.0.\n",
      "<ipython-input-36-1c6539846d38>:86: ExperimentalWarning:\n",
      "\n",
      "upload_artifact is experimental (supported from v3.3.0). The interface can change in the future.\n",
      "\n",
      "<ipython-input-36-1c6539846d38>:94: ExperimentalWarning:\n",
      "\n",
      "upload_artifact is experimental (supported from v3.3.0). The interface can change in the future.\n",
      "\n",
      "[I 2024-08-18 20:28:31,836] Trial 453 finished with value: 0.47681913554484257 and parameters: {'lambda_l1': 9.997064116268012e-05, 'lambda_l2': 0.02845422987041682, 'num_leaves': 34, 'feature_fraction': 0.543371864569167, 'bagging_fraction': 0.4466210299655099, 'bagging_freq': 1, 'min_child_samples': 20}. Best is trial 45 with value: 1.0.\n",
      "<ipython-input-36-1c6539846d38>:86: ExperimentalWarning:\n",
      "\n",
      "upload_artifact is experimental (supported from v3.3.0). The interface can change in the future.\n",
      "\n",
      "<ipython-input-36-1c6539846d38>:94: ExperimentalWarning:\n",
      "\n",
      "upload_artifact is experimental (supported from v3.3.0). The interface can change in the future.\n",
      "\n",
      "[I 2024-08-18 20:28:41,917] Trial 454 finished with value: 0.4723099022235905 and parameters: {'lambda_l1': 0.09929710379069237, 'lambda_l2': 0.05436598380784162, 'num_leaves': 46, 'feature_fraction': 0.5590751404016472, 'bagging_fraction': 0.47617596033607945, 'bagging_freq': 5, 'min_child_samples': 5}. Best is trial 45 with value: 1.0.\n",
      "<ipython-input-36-1c6539846d38>:86: ExperimentalWarning:\n",
      "\n",
      "upload_artifact is experimental (supported from v3.3.0). The interface can change in the future.\n",
      "\n",
      "<ipython-input-36-1c6539846d38>:94: ExperimentalWarning:\n",
      "\n",
      "upload_artifact is experimental (supported from v3.3.0). The interface can change in the future.\n",
      "\n",
      "[I 2024-08-18 20:28:46,507] Trial 455 finished with value: 0.47188902428136037 and parameters: {'lambda_l1': 0.5013636358688192, 'lambda_l2': 0.00040828699077672667, 'num_leaves': 2, 'feature_fraction': 0.530435295001759, 'bagging_fraction': 0.4616086380614063, 'bagging_freq': 2, 'min_child_samples': 30}. Best is trial 45 with value: 1.0.\n",
      "<ipython-input-36-1c6539846d38>:86: ExperimentalWarning:\n",
      "\n",
      "upload_artifact is experimental (supported from v3.3.0). The interface can change in the future.\n",
      "\n",
      "<ipython-input-36-1c6539846d38>:94: ExperimentalWarning:\n",
      "\n",
      "upload_artifact is experimental (supported from v3.3.0). The interface can change in the future.\n",
      "\n",
      "[I 2024-08-18 20:28:55,187] Trial 456 finished with value: 0.48162166075144847 and parameters: {'lambda_l1': 0.9575557130966748, 'lambda_l2': 2.505165152228696, 'num_leaves': 22, 'feature_fraction': 0.5443615696444116, 'bagging_fraction': 0.5024090168766275, 'bagging_freq': 1, 'min_child_samples': 22}. Best is trial 45 with value: 1.0.\n",
      "<ipython-input-36-1c6539846d38>:86: ExperimentalWarning:\n",
      "\n",
      "upload_artifact is experimental (supported from v3.3.0). The interface can change in the future.\n",
      "\n",
      "<ipython-input-36-1c6539846d38>:94: ExperimentalWarning:\n",
      "\n",
      "upload_artifact is experimental (supported from v3.3.0). The interface can change in the future.\n",
      "\n",
      "[I 2024-08-18 20:29:04,764] Trial 457 finished with value: 0.4628617905132721 and parameters: {'lambda_l1': 0.026513434760504846, 'lambda_l2': 0.001549094686379732, 'num_leaves': 125, 'feature_fraction': 0.5773947865344851, 'bagging_fraction': 0.48283416657888456, 'bagging_freq': 1, 'min_child_samples': 25}. Best is trial 45 with value: 1.0.\n",
      "<ipython-input-36-1c6539846d38>:86: ExperimentalWarning:\n",
      "\n",
      "upload_artifact is experimental (supported from v3.3.0). The interface can change in the future.\n",
      "\n",
      "<ipython-input-36-1c6539846d38>:94: ExperimentalWarning:\n",
      "\n",
      "upload_artifact is experimental (supported from v3.3.0). The interface can change in the future.\n",
      "\n",
      "[I 2024-08-18 20:29:18,841] Trial 458 finished with value: 0.47383136118559427 and parameters: {'lambda_l1': 0.15971152524838345, 'lambda_l2': 3.093981536613633, 'num_leaves': 28, 'feature_fraction': 0.4145235969447916, 'bagging_fraction': 0.4518366387770307, 'bagging_freq': 2, 'min_child_samples': 11}. Best is trial 45 with value: 1.0.\n",
      "<ipython-input-36-1c6539846d38>:86: ExperimentalWarning:\n",
      "\n",
      "upload_artifact is experimental (supported from v3.3.0). The interface can change in the future.\n",
      "\n",
      "<ipython-input-36-1c6539846d38>:94: ExperimentalWarning:\n",
      "\n",
      "upload_artifact is experimental (supported from v3.3.0). The interface can change in the future.\n",
      "\n",
      "[I 2024-08-18 20:29:32,872] Trial 459 finished with value: 0.47409938754109093 and parameters: {'lambda_l1': 9.99581704327301, 'lambda_l2': 1.2194919296740003, 'num_leaves': 10, 'feature_fraction': 0.5191649719808232, 'bagging_fraction': 0.43271699465521796, 'bagging_freq': 1, 'min_child_samples': 18}. Best is trial 45 with value: 1.0.\n",
      "<ipython-input-36-1c6539846d38>:86: ExperimentalWarning:\n",
      "\n",
      "upload_artifact is experimental (supported from v3.3.0). The interface can change in the future.\n",
      "\n",
      "<ipython-input-36-1c6539846d38>:94: ExperimentalWarning:\n",
      "\n",
      "upload_artifact is experimental (supported from v3.3.0). The interface can change in the future.\n",
      "\n",
      "[I 2024-08-18 20:29:44,064] Trial 460 finished with value: 0.4794571060891827 and parameters: {'lambda_l1': 4.469823542642989, 'lambda_l2': 1.931469493157899, 'num_leaves': 42, 'feature_fraction': 0.53390101564609, 'bagging_fraction': 0.4662256941019711, 'bagging_freq': 1, 'min_child_samples': 73}. Best is trial 45 with value: 1.0.\n",
      "<ipython-input-36-1c6539846d38>:86: ExperimentalWarning:\n",
      "\n",
      "upload_artifact is experimental (supported from v3.3.0). The interface can change in the future.\n",
      "\n",
      "<ipython-input-36-1c6539846d38>:94: ExperimentalWarning:\n",
      "\n",
      "upload_artifact is experimental (supported from v3.3.0). The interface can change in the future.\n",
      "\n",
      "[I 2024-08-18 20:29:53,432] Trial 461 finished with value: 0.47720008818089205 and parameters: {'lambda_l1': 0.3195306568348555, 'lambda_l2': 6.711432266084915, 'num_leaves': 17, 'feature_fraction': 0.561102447585304, 'bagging_fraction': 0.7034387448597307, 'bagging_freq': 2, 'min_child_samples': 51}. Best is trial 45 with value: 1.0.\n",
      "<ipython-input-36-1c6539846d38>:86: ExperimentalWarning:\n",
      "\n",
      "upload_artifact is experimental (supported from v3.3.0). The interface can change in the future.\n",
      "\n",
      "<ipython-input-36-1c6539846d38>:94: ExperimentalWarning:\n",
      "\n",
      "upload_artifact is experimental (supported from v3.3.0). The interface can change in the future.\n",
      "\n",
      "[I 2024-08-18 20:30:01,443] Trial 462 finished with value: 0.4709552807569022 and parameters: {'lambda_l1': 0.6374080442741471, 'lambda_l2': 4.320309652425191, 'num_leaves': 35, 'feature_fraction': 0.4337349300071309, 'bagging_fraction': 0.4433614281763423, 'bagging_freq': 1, 'min_child_samples': 20}. Best is trial 45 with value: 1.0.\n",
      "<ipython-input-36-1c6539846d38>:86: ExperimentalWarning:\n",
      "\n",
      "upload_artifact is experimental (supported from v3.3.0). The interface can change in the future.\n",
      "\n",
      "<ipython-input-36-1c6539846d38>:94: ExperimentalWarning:\n",
      "\n",
      "upload_artifact is experimental (supported from v3.3.0). The interface can change in the future.\n",
      "\n",
      "[I 2024-08-18 20:30:11,762] Trial 463 finished with value: 0.48013966352017684 and parameters: {'lambda_l1': 1.1472713481940153, 'lambda_l2': 9.538098049396016, 'num_leaves': 28, 'feature_fraction': 0.5144269110104704, 'bagging_fraction': 0.50248778671935, 'bagging_freq': 1, 'min_child_samples': 28}. Best is trial 45 with value: 1.0.\n",
      "<ipython-input-36-1c6539846d38>:86: ExperimentalWarning:\n",
      "\n",
      "upload_artifact is experimental (supported from v3.3.0). The interface can change in the future.\n",
      "\n",
      "<ipython-input-36-1c6539846d38>:94: ExperimentalWarning:\n",
      "\n",
      "upload_artifact is experimental (supported from v3.3.0). The interface can change in the future.\n",
      "\n",
      "[I 2024-08-18 20:30:18,889] Trial 464 finished with value: 0.4791936683167951 and parameters: {'lambda_l1': 0.4253328212709482, 'lambda_l2': 1.624803662126879, 'num_leaves': 21, 'feature_fraction': 0.4729802463293716, 'bagging_fraction': 0.48328677682306814, 'bagging_freq': 1, 'min_child_samples': 24}. Best is trial 45 with value: 1.0.\n",
      "<ipython-input-36-1c6539846d38>:86: ExperimentalWarning:\n",
      "\n",
      "upload_artifact is experimental (supported from v3.3.0). The interface can change in the future.\n",
      "\n",
      "<ipython-input-36-1c6539846d38>:94: ExperimentalWarning:\n",
      "\n",
      "upload_artifact is experimental (supported from v3.3.0). The interface can change in the future.\n",
      "\n",
      "[I 2024-08-18 20:30:25,175] Trial 465 finished with value: 0.47320331013661504 and parameters: {'lambda_l1': 2.862690681490588, 'lambda_l2': 3.23385640029503, 'num_leaves': 15, 'feature_fraction': 0.5088733304735553, 'bagging_fraction': 0.4562331550670068, 'bagging_freq': 4, 'min_child_samples': 8}. Best is trial 45 with value: 1.0.\n",
      "<ipython-input-36-1c6539846d38>:86: ExperimentalWarning:\n",
      "\n",
      "upload_artifact is experimental (supported from v3.3.0). The interface can change in the future.\n",
      "\n",
      "<ipython-input-36-1c6539846d38>:94: ExperimentalWarning:\n",
      "\n",
      "upload_artifact is experimental (supported from v3.3.0). The interface can change in the future.\n",
      "\n",
      "[I 2024-08-18 20:30:31,656] Trial 466 finished with value: 0.4765191593018936 and parameters: {'lambda_l1': 0.2715566286953665, 'lambda_l2': 9.75300208128029, 'num_leaves': 10, 'feature_fraction': 0.526664546355459, 'bagging_fraction': 0.5501537009145256, 'bagging_freq': 2, 'min_child_samples': 32}. Best is trial 45 with value: 1.0.\n",
      "<ipython-input-36-1c6539846d38>:86: ExperimentalWarning:\n",
      "\n",
      "upload_artifact is experimental (supported from v3.3.0). The interface can change in the future.\n",
      "\n",
      "<ipython-input-36-1c6539846d38>:94: ExperimentalWarning:\n",
      "\n",
      "upload_artifact is experimental (supported from v3.3.0). The interface can change in the future.\n",
      "\n",
      "[I 2024-08-18 20:30:40,927] Trial 467 finished with value: 0.472356534798515 and parameters: {'lambda_l1': 1.4976703054217182, 'lambda_l2': 5.215142998847948, 'num_leaves': 24, 'feature_fraction': 0.5468507622684585, 'bagging_fraction': 0.47129817568279725, 'bagging_freq': 1, 'min_child_samples': 13}. Best is trial 45 with value: 1.0.\n"
     ]
    }
   ],
   "source": [
    "#Inicio el store de artefactos (archivos) de optuna\n",
    "artifact_store = FileSystemArtifactStore(base_path=PATH_TO_OPTUNA_ARTIFACTS)\n",
    "\n",
    "#Genero estudio\n",
    "study = optuna.create_study(direction='maximize',\n",
    "                            storage=\"sqlite:///work/db.sqlite3\",  # Specify the storage URL here.\n",
    "                            study_name=\"04 - LGB Multiclass CV\",\n",
    "                            load_if_exists = True)\n",
    "#Corro la optimizacion\n",
    "study.optimize(cv_es_lgb_objective, n_trials=100)"
   ]
  },
  {
   "cell_type": "markdown",
   "metadata": {},
   "source": [
    "Para ver el optuna dashboard tengo que correr este comando en la terminal"
   ]
  },
  {
   "cell_type": "code",
   "execution_count": 38,
   "metadata": {},
   "outputs": [
    {
     "name": "stdout",
     "output_type": "stream",
     "text": [
      "Requirement already satisfied: kaleido in c:\\users\\s1093678\\anaconda3\\lib\\site-packages (0.2.1)\n"
     ]
    }
   ],
   "source": [
    "!pip install kaleido\n"
   ]
  },
  {
   "cell_type": "code",
   "execution_count": 39,
   "metadata": {},
   "outputs": [
    {
     "name": "stderr",
     "output_type": "stream",
     "text": [
      "Traceback (most recent call last):\n",
      "  File \"c:\\users\\s1093678\\anaconda3\\lib\\runpy.py\", line 194, in _run_module_as_main\n",
      "    return _run_code(code, main_globals, None,\n",
      "  File \"c:\\users\\s1093678\\anaconda3\\lib\\runpy.py\", line 87, in _run_code\n",
      "    exec(code, run_globals)\n",
      "  File \"C:\\Users\\s1093678\\Anaconda3\\Scripts\\optuna-dashboard.exe\\__main__.py\", line 7, in <module>\n",
      "  File \"c:\\users\\s1093678\\anaconda3\\lib\\site-packages\\optuna_dashboard\\_cli.py\", line 119, in main\n",
      "    storage = get_storage(args.storage, storage_class=args.storage_class)\n",
      "  File \"c:\\users\\s1093678\\anaconda3\\lib\\site-packages\\optuna_dashboard\\_storage_url.py\", line 59, in get_storage\n",
      "    return guess_storage_from_url(storage)\n",
      "  File \"c:\\users\\s1093678\\anaconda3\\lib\\site-packages\\optuna_dashboard\\_storage_url.py\", line 78, in guess_storage_from_url\n",
      "    raise ValueError(\n",
      "ValueError: Please specify 'sqlite:///sqlite:///../work/db.sqlite3' to use SQLite3 (RDBStorage)\n"
     ]
    }
   ],
   "source": [
    "!optuna-dashboard sqlite://work/db.sqlite3 --artifact-dir ../work/optuna_artifacts --port 8081"
   ]
  },
  {
   "cell_type": "code",
   "execution_count": 40,
   "metadata": {},
   "outputs": [],
   "source": [
    "#para proxima clase hacer feature engeneering (agregar feature, health , colores, etc) pq hasta aca solo s ehizo con los variables numericas\n",
    "#TENER UN MODELO CANDIDATO TABULAR PARA SEGUIR ADELANTE \n",
    "#VAMOS A VER LA EJECUCION DE UN MODELO PARA BUCAR HIPERPARAMETROS ETC \n",
    "#DAR CON UN MODELO GANADOR\n"
   ]
  }
 ],
 "metadata": {
  "kernelspec": {
   "display_name": "ldi2",
   "language": "python",
   "name": "python3"
  },
  "language_info": {
   "codemirror_mode": {
    "name": "ipython",
    "version": 3
   },
   "file_extension": ".py",
   "mimetype": "text/x-python",
   "name": "python",
   "nbconvert_exporter": "python",
   "pygments_lexer": "ipython3",
   "version": "3.8.8"
  }
 },
 "nbformat": 4,
 "nbformat_minor": 2
}
