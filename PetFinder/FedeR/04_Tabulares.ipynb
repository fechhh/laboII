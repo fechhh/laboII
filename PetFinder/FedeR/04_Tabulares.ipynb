{
 "cells": [
  {
   "cell_type": "markdown",
   "metadata": {},
   "source": [
    "## Modelo datos estructurados\n",
    "Este notebook desarrolla un primer modelo para resolver el problema de Petfinder. Empezamos haciendo un modelo inicial muy simple para ver la viabilidad de resolver el problema. Luego analizamos como se comporta la métrica kappa propuesta y vemos la matriz de confusión. Finalmente hacemos una optimizacin de hiperparametros evaluando con train/test y otra validando con 5 fold CV y testeando en el 20% de los datos"
   ]
  },
  {
   "cell_type": "code",
   "execution_count": 1,
   "metadata": {},
   "outputs": [],
   "source": [
    "#Import de librerias basicas tablas y matrices\n",
    "import numpy as np \n",
    "import pandas as pd \n",
    "\n",
    "#Gradient Boosting\n",
    "import lightgbm as lgb\n",
    "\n",
    "#Funciones auxiliares sklearn\n",
    "from sklearn.preprocessing import MinMaxScaler\n",
    "from sklearn.model_selection import train_test_split, StratifiedKFold #Split y cross Validation\n",
    "from sklearn.metrics import cohen_kappa_score, accuracy_score, balanced_accuracy_score #Metricas\n",
    "# from sklearn.utils import shuffle \n",
    "\n",
    "#Visualizacióon\n",
    "from plotly import express as px\n",
    "\n",
    "#Plot de matriz de confusion normalizada en actuals\n",
    "from utils import plot_confusion_matrix\n",
    "\n",
    "import os\n",
    "\n",
    "#Optimizacion de hiperparametros\n",
    "import optuna\n",
    "from optuna.artifacts import FileSystemArtifactStore, upload_artifact\n",
    "\n",
    "#Guardado de objetos en archivos joblib\n",
    "from joblib import load, dump\n"
   ]
  },
  {
   "cell_type": "code",
   "execution_count": 2,
   "metadata": {},
   "outputs": [],
   "source": [
    "#PONER LA ESTRUCUTRA DE CARPETAS COMO SE VE AQUI ABAJO !!!"
   ]
  },
  {
   "cell_type": "code",
   "execution_count": 3,
   "metadata": {},
   "outputs": [],
   "source": [
    "# Paths para acceso archivos\n",
    "#Este notebook asume la siguiente estructura de carpetas a partir de la ubicacion de base_dir \n",
    "#(dos niveles arriba de la carpeta donde se ejecuta el notebook). \n",
    "# /UA_MDM_LDI_II/\n",
    "# /UA_MDM_LDI_II/input\n",
    "# /UA_MDM_LDI_II/input/petfinder-adoption-prediction/            <- Aca deben ir todos los archivos de datos de la competencia \n",
    "# /UA_MDM_LDI_II/tutoriales/                       <- Aca deben poner los notebooks y scripts que les compartimos\n",
    "# /UA_MDM_LDI_II/work/                             <- Resultados de notebooks iran dentro de esta carpeta en subcarpetas\n",
    "# /UA_MDM_LDI_II/work/models/                     <- Modelos entrenados en archivos joblibs\n",
    "# /UA_MDM_LDI_II/work/optuna_temp_artifacts/      <- Archivos que queremos dejar como artefacto de un trial de optuna (optuna los copiara a la carpeta de abajo)\n",
    "# /UA_MDM_LDI_II/work/optuna_artifacts/           <- Archivos con artefactos que sibimos a optuna\n",
    "\n",
    "#Subimos dos niveles para quedar en la carpeta que contiene input y UA_MDM_LDI_II\n",
    "BASE_DIR = ''\n",
    "\n",
    "#Datos de entrenamiento \n",
    "PATH_TO_TRAIN = os.path.join(BASE_DIR, \"input/petfinder-adoption-prediction/train/train.csv\")\n",
    "\n",
    "#Salida de modelos entrenados\n",
    "PATH_TO_MODELS = os.path.join(BASE_DIR, \"work/models\")\n",
    "\n",
    "#Artefactos a subir a optuna\n",
    "PATH_TO_TEMP_FILES = os.path.join(BASE_DIR, \"work/optuna_temp_artifacts\")\n",
    "\n",
    "#Artefactos que optuna gestiona\n",
    "PATH_TO_OPTUNA_ARTIFACTS = os.path.join(BASE_DIR, \"work/optuna_artifacts\")\n",
    "\n",
    "\n",
    "SEED = 42 #Semilla de procesos aleatorios (para poder replicar exactamente al volver a correr un modelo)\n",
    "TEST_SIZE = 0.2 #Facción para train/test= split \n",
    "\n",
    "#PONER CUALQUIER SEMILLLA Y 20% DEL DATASTE USAMOS"
   ]
  },
  {
   "cell_type": "code",
   "execution_count": 4,
   "metadata": {},
   "outputs": [],
   "source": [
    "#NUESTRO TODO ES TRAIN ... ENTONCES EN BASE A ESE DATASET HACEMOS TRAIN Y TEST"
   ]
  },
  {
   "cell_type": "code",
   "execution_count": 5,
   "metadata": {},
   "outputs": [],
   "source": [
    "# Datos Tabulares\n",
    "dataset = pd.read_csv(PATH_TO_TRAIN)"
   ]
  },
  {
   "cell_type": "code",
   "execution_count": 6,
   "metadata": {},
   "outputs": [
    {
     "data": {
      "text/plain": [
       "Index(['Type', 'Name', 'Age', 'Breed1', 'Breed2', 'Gender', 'Color1', 'Color2',\n",
       "       'Color3', 'MaturitySize', 'FurLength', 'Vaccinated', 'Dewormed',\n",
       "       'Sterilized', 'Health', 'Quantity', 'Fee', 'State', 'RescuerID',\n",
       "       'VideoAmt', 'Description', 'PetID', 'PhotoAmt', 'AdoptionSpeed'],\n",
       "      dtype='object')"
      ]
     },
     "execution_count": 6,
     "metadata": {},
     "output_type": "execute_result"
    }
   ],
   "source": [
    "#Columnas del dataset\n",
    "dataset.columns"
   ]
  },
  {
   "cell_type": "code",
   "execution_count": 7,
   "metadata": {},
   "outputs": [
    {
     "data": {
      "text/html": [
       "<div>\n",
       "<style scoped>\n",
       "    .dataframe tbody tr th:only-of-type {\n",
       "        vertical-align: middle;\n",
       "    }\n",
       "\n",
       "    .dataframe tbody tr th {\n",
       "        vertical-align: top;\n",
       "    }\n",
       "\n",
       "    .dataframe thead th {\n",
       "        text-align: right;\n",
       "    }\n",
       "</style>\n",
       "<table border=\"1\" class=\"dataframe\">\n",
       "  <thead>\n",
       "    <tr style=\"text-align: right;\">\n",
       "      <th></th>\n",
       "      <th>Type</th>\n",
       "      <th>Name</th>\n",
       "      <th>Age</th>\n",
       "      <th>Breed1</th>\n",
       "      <th>Breed2</th>\n",
       "      <th>Gender</th>\n",
       "      <th>Color1</th>\n",
       "      <th>Color2</th>\n",
       "      <th>Color3</th>\n",
       "      <th>MaturitySize</th>\n",
       "      <th>...</th>\n",
       "      <th>Health</th>\n",
       "      <th>Quantity</th>\n",
       "      <th>Fee</th>\n",
       "      <th>State</th>\n",
       "      <th>RescuerID</th>\n",
       "      <th>VideoAmt</th>\n",
       "      <th>Description</th>\n",
       "      <th>PetID</th>\n",
       "      <th>PhotoAmt</th>\n",
       "      <th>AdoptionSpeed</th>\n",
       "    </tr>\n",
       "  </thead>\n",
       "  <tbody>\n",
       "    <tr>\n",
       "      <th>0</th>\n",
       "      <td>2</td>\n",
       "      <td>Nibble</td>\n",
       "      <td>3</td>\n",
       "      <td>299</td>\n",
       "      <td>0</td>\n",
       "      <td>1</td>\n",
       "      <td>1</td>\n",
       "      <td>7</td>\n",
       "      <td>0</td>\n",
       "      <td>1</td>\n",
       "      <td>...</td>\n",
       "      <td>1</td>\n",
       "      <td>1</td>\n",
       "      <td>100</td>\n",
       "      <td>41326</td>\n",
       "      <td>8480853f516546f6cf33aa88cd76c379</td>\n",
       "      <td>0</td>\n",
       "      <td>Nibble is a 3+ month old ball of cuteness. He ...</td>\n",
       "      <td>86e1089a3</td>\n",
       "      <td>1.0</td>\n",
       "      <td>2</td>\n",
       "    </tr>\n",
       "    <tr>\n",
       "      <th>1</th>\n",
       "      <td>2</td>\n",
       "      <td>No Name Yet</td>\n",
       "      <td>1</td>\n",
       "      <td>265</td>\n",
       "      <td>0</td>\n",
       "      <td>1</td>\n",
       "      <td>1</td>\n",
       "      <td>2</td>\n",
       "      <td>0</td>\n",
       "      <td>2</td>\n",
       "      <td>...</td>\n",
       "      <td>1</td>\n",
       "      <td>1</td>\n",
       "      <td>0</td>\n",
       "      <td>41401</td>\n",
       "      <td>3082c7125d8fb66f7dd4bff4192c8b14</td>\n",
       "      <td>0</td>\n",
       "      <td>I just found it alone yesterday near my apartm...</td>\n",
       "      <td>6296e909a</td>\n",
       "      <td>2.0</td>\n",
       "      <td>0</td>\n",
       "    </tr>\n",
       "    <tr>\n",
       "      <th>2</th>\n",
       "      <td>1</td>\n",
       "      <td>Brisco</td>\n",
       "      <td>1</td>\n",
       "      <td>307</td>\n",
       "      <td>0</td>\n",
       "      <td>1</td>\n",
       "      <td>2</td>\n",
       "      <td>7</td>\n",
       "      <td>0</td>\n",
       "      <td>2</td>\n",
       "      <td>...</td>\n",
       "      <td>1</td>\n",
       "      <td>1</td>\n",
       "      <td>0</td>\n",
       "      <td>41326</td>\n",
       "      <td>fa90fa5b1ee11c86938398b60abc32cb</td>\n",
       "      <td>0</td>\n",
       "      <td>Their pregnant mother was dumped by her irresp...</td>\n",
       "      <td>3422e4906</td>\n",
       "      <td>7.0</td>\n",
       "      <td>3</td>\n",
       "    </tr>\n",
       "    <tr>\n",
       "      <th>3</th>\n",
       "      <td>1</td>\n",
       "      <td>Miko</td>\n",
       "      <td>4</td>\n",
       "      <td>307</td>\n",
       "      <td>0</td>\n",
       "      <td>2</td>\n",
       "      <td>1</td>\n",
       "      <td>2</td>\n",
       "      <td>0</td>\n",
       "      <td>2</td>\n",
       "      <td>...</td>\n",
       "      <td>1</td>\n",
       "      <td>1</td>\n",
       "      <td>150</td>\n",
       "      <td>41401</td>\n",
       "      <td>9238e4f44c71a75282e62f7136c6b240</td>\n",
       "      <td>0</td>\n",
       "      <td>Good guard dog, very alert, active, obedience ...</td>\n",
       "      <td>5842f1ff5</td>\n",
       "      <td>8.0</td>\n",
       "      <td>2</td>\n",
       "    </tr>\n",
       "    <tr>\n",
       "      <th>4</th>\n",
       "      <td>1</td>\n",
       "      <td>Hunter</td>\n",
       "      <td>1</td>\n",
       "      <td>307</td>\n",
       "      <td>0</td>\n",
       "      <td>1</td>\n",
       "      <td>1</td>\n",
       "      <td>0</td>\n",
       "      <td>0</td>\n",
       "      <td>2</td>\n",
       "      <td>...</td>\n",
       "      <td>1</td>\n",
       "      <td>1</td>\n",
       "      <td>0</td>\n",
       "      <td>41326</td>\n",
       "      <td>95481e953f8aed9ec3d16fc4509537e8</td>\n",
       "      <td>0</td>\n",
       "      <td>This handsome yet cute boy is up for adoption....</td>\n",
       "      <td>850a43f90</td>\n",
       "      <td>3.0</td>\n",
       "      <td>2</td>\n",
       "    </tr>\n",
       "  </tbody>\n",
       "</table>\n",
       "<p>5 rows × 24 columns</p>\n",
       "</div>"
      ],
      "text/plain": [
       "   Type         Name  Age  Breed1  Breed2  Gender  Color1  Color2  Color3  \\\n",
       "0     2       Nibble    3     299       0       1       1       7       0   \n",
       "1     2  No Name Yet    1     265       0       1       1       2       0   \n",
       "2     1       Brisco    1     307       0       1       2       7       0   \n",
       "3     1         Miko    4     307       0       2       1       2       0   \n",
       "4     1       Hunter    1     307       0       1       1       0       0   \n",
       "\n",
       "   MaturitySize  ...  Health  Quantity  Fee  State  \\\n",
       "0             1  ...       1         1  100  41326   \n",
       "1             2  ...       1         1    0  41401   \n",
       "2             2  ...       1         1    0  41326   \n",
       "3             2  ...       1         1  150  41401   \n",
       "4             2  ...       1         1    0  41326   \n",
       "\n",
       "                          RescuerID  VideoAmt  \\\n",
       "0  8480853f516546f6cf33aa88cd76c379         0   \n",
       "1  3082c7125d8fb66f7dd4bff4192c8b14         0   \n",
       "2  fa90fa5b1ee11c86938398b60abc32cb         0   \n",
       "3  9238e4f44c71a75282e62f7136c6b240         0   \n",
       "4  95481e953f8aed9ec3d16fc4509537e8         0   \n",
       "\n",
       "                                         Description      PetID PhotoAmt  \\\n",
       "0  Nibble is a 3+ month old ball of cuteness. He ...  86e1089a3      1.0   \n",
       "1  I just found it alone yesterday near my apartm...  6296e909a      2.0   \n",
       "2  Their pregnant mother was dumped by her irresp...  3422e4906      7.0   \n",
       "3  Good guard dog, very alert, active, obedience ...  5842f1ff5      8.0   \n",
       "4  This handsome yet cute boy is up for adoption....  850a43f90      3.0   \n",
       "\n",
       "   AdoptionSpeed  \n",
       "0              2  \n",
       "1              0  \n",
       "2              3  \n",
       "3              2  \n",
       "4              2  \n",
       "\n",
       "[5 rows x 24 columns]"
      ]
     },
     "execution_count": 7,
     "metadata": {},
     "output_type": "execute_result"
    }
   ],
   "source": [
    "dataset.head()"
   ]
  },
  {
   "cell_type": "markdown",
   "metadata": {},
   "source": [
    "## FEATURE ENGENEERING\n",
    "Haremos modificaciones en el dataset para ver si mejora o no la fuerza predictiva del modelo base"
   ]
  },
  {
   "cell_type": "code",
   "execution_count": 8,
   "metadata": {},
   "outputs": [
    {
     "data": {
      "text/plain": [
       "Type              0\n",
       "Name              0\n",
       "Age               0\n",
       "Breed1            0\n",
       "Breed2            0\n",
       "Gender            0\n",
       "Color1            0\n",
       "Color2            0\n",
       "Color3            0\n",
       "MaturitySize      0\n",
       "FurLength         0\n",
       "Vaccinated        0\n",
       "Dewormed          0\n",
       "Sterilized        0\n",
       "Health            0\n",
       "Quantity          0\n",
       "Fee               0\n",
       "State             0\n",
       "RescuerID         0\n",
       "VideoAmt          0\n",
       "Description      12\n",
       "PetID             0\n",
       "PhotoAmt          0\n",
       "AdoptionSpeed     0\n",
       "dtype: int64"
      ]
     },
     "execution_count": 8,
     "metadata": {},
     "output_type": "execute_result"
    }
   ],
   "source": [
    "#Imputar datos faltantes en Nombre\n",
    "dataset['Name'].fillna('No Name Yet', inplace=True)\n",
    "dataset['Name'] = dataset['Name'].replace('', 'No Name Yet')\n",
    "dataset.isnull().sum()"
   ]
  },
  {
   "cell_type": "code",
   "execution_count": 9,
   "metadata": {},
   "outputs": [],
   "source": [
    "#Nuevas variables \n",
    "\n",
    "# Age categorization\n",
    "# Create age categories based on the age of the pets\n",
    "bins = [0, 12, 60, float('inf')]  # Define the age bins for puppy, adult, and senior\n",
    "labels = [1,2 ,3 ] #1='puppy' 2='adult' 3='senior'\n",
    "dataset['AgeCategory'] = pd.cut(dataset['Age'], bins, labels=labels, right=False)\n",
    "\n",
    "# Breed combination\n",
    "# Create a new feature that indicates whether the pet is a purebred(1) or a mix(2)\n",
    "dataset['Breed'] = dataset.apply(lambda row: 2 if row['Breed2'] != 0 else 1, axis=1)\n",
    "\n",
    "# Color analysis\n",
    "# Analyze the color combinations to create new features such as \"IsMultiColored\" or specific color categories\n",
    "dataset['IsMultiColored'] = dataset.apply(lambda row: 1 if row['Color2'] != 0 or row['Color3'] != 0 else 0, axis=1)\n",
    "\n",
    "#Name code\n",
    "dataset['name_code'] = dataset['Name'].apply(lambda x: 1 if x != 'No Name Yet' else 0)\n",
    "\n"
   ]
  },
  {
   "cell_type": "code",
   "execution_count": 10,
   "metadata": {},
   "outputs": [],
   "source": [
    "#Escalar normalizar \n",
    "# Select the numerical features that you want to normalize or scale\n",
    "numerical_features = ['Breed1']  # Add the names of the numerical columns you want to scale\n",
    "\n",
    "# Initialize the MinMaxScaler\n",
    "scaler = MinMaxScaler()\n",
    "\n",
    "# Apply the scaler to the selected numerical features\n",
    "dataset[numerical_features] = scaler.fit_transform(dataset[numerical_features])"
   ]
  },
  {
   "cell_type": "code",
   "execution_count": 11,
   "metadata": {},
   "outputs": [
    {
     "data": {
      "text/html": [
       "<div>\n",
       "<style scoped>\n",
       "    .dataframe tbody tr th:only-of-type {\n",
       "        vertical-align: middle;\n",
       "    }\n",
       "\n",
       "    .dataframe tbody tr th {\n",
       "        vertical-align: top;\n",
       "    }\n",
       "\n",
       "    .dataframe thead th {\n",
       "        text-align: right;\n",
       "    }\n",
       "</style>\n",
       "<table border=\"1\" class=\"dataframe\">\n",
       "  <thead>\n",
       "    <tr style=\"text-align: right;\">\n",
       "      <th></th>\n",
       "      <th>Type</th>\n",
       "      <th>Name</th>\n",
       "      <th>Age</th>\n",
       "      <th>Breed1</th>\n",
       "      <th>Breed2</th>\n",
       "      <th>Gender</th>\n",
       "      <th>Color1</th>\n",
       "      <th>Color2</th>\n",
       "      <th>Color3</th>\n",
       "      <th>MaturitySize</th>\n",
       "      <th>...</th>\n",
       "      <th>RescuerID</th>\n",
       "      <th>VideoAmt</th>\n",
       "      <th>Description</th>\n",
       "      <th>PetID</th>\n",
       "      <th>PhotoAmt</th>\n",
       "      <th>AdoptionSpeed</th>\n",
       "      <th>AgeCategory</th>\n",
       "      <th>Breed</th>\n",
       "      <th>IsMultiColored</th>\n",
       "      <th>name_code</th>\n",
       "    </tr>\n",
       "  </thead>\n",
       "  <tbody>\n",
       "    <tr>\n",
       "      <th>0</th>\n",
       "      <td>2</td>\n",
       "      <td>Nibble</td>\n",
       "      <td>3</td>\n",
       "      <td>0.973941</td>\n",
       "      <td>0</td>\n",
       "      <td>1</td>\n",
       "      <td>1</td>\n",
       "      <td>7</td>\n",
       "      <td>0</td>\n",
       "      <td>1</td>\n",
       "      <td>...</td>\n",
       "      <td>8480853f516546f6cf33aa88cd76c379</td>\n",
       "      <td>0</td>\n",
       "      <td>Nibble is a 3+ month old ball of cuteness. He ...</td>\n",
       "      <td>86e1089a3</td>\n",
       "      <td>1.0</td>\n",
       "      <td>2</td>\n",
       "      <td>1</td>\n",
       "      <td>1</td>\n",
       "      <td>1</td>\n",
       "      <td>1</td>\n",
       "    </tr>\n",
       "    <tr>\n",
       "      <th>1</th>\n",
       "      <td>2</td>\n",
       "      <td>No Name Yet</td>\n",
       "      <td>1</td>\n",
       "      <td>0.863192</td>\n",
       "      <td>0</td>\n",
       "      <td>1</td>\n",
       "      <td>1</td>\n",
       "      <td>2</td>\n",
       "      <td>0</td>\n",
       "      <td>2</td>\n",
       "      <td>...</td>\n",
       "      <td>3082c7125d8fb66f7dd4bff4192c8b14</td>\n",
       "      <td>0</td>\n",
       "      <td>I just found it alone yesterday near my apartm...</td>\n",
       "      <td>6296e909a</td>\n",
       "      <td>2.0</td>\n",
       "      <td>0</td>\n",
       "      <td>1</td>\n",
       "      <td>1</td>\n",
       "      <td>1</td>\n",
       "      <td>0</td>\n",
       "    </tr>\n",
       "    <tr>\n",
       "      <th>2</th>\n",
       "      <td>1</td>\n",
       "      <td>Brisco</td>\n",
       "      <td>1</td>\n",
       "      <td>1.000000</td>\n",
       "      <td>0</td>\n",
       "      <td>1</td>\n",
       "      <td>2</td>\n",
       "      <td>7</td>\n",
       "      <td>0</td>\n",
       "      <td>2</td>\n",
       "      <td>...</td>\n",
       "      <td>fa90fa5b1ee11c86938398b60abc32cb</td>\n",
       "      <td>0</td>\n",
       "      <td>Their pregnant mother was dumped by her irresp...</td>\n",
       "      <td>3422e4906</td>\n",
       "      <td>7.0</td>\n",
       "      <td>3</td>\n",
       "      <td>1</td>\n",
       "      <td>1</td>\n",
       "      <td>1</td>\n",
       "      <td>1</td>\n",
       "    </tr>\n",
       "    <tr>\n",
       "      <th>3</th>\n",
       "      <td>1</td>\n",
       "      <td>Miko</td>\n",
       "      <td>4</td>\n",
       "      <td>1.000000</td>\n",
       "      <td>0</td>\n",
       "      <td>2</td>\n",
       "      <td>1</td>\n",
       "      <td>2</td>\n",
       "      <td>0</td>\n",
       "      <td>2</td>\n",
       "      <td>...</td>\n",
       "      <td>9238e4f44c71a75282e62f7136c6b240</td>\n",
       "      <td>0</td>\n",
       "      <td>Good guard dog, very alert, active, obedience ...</td>\n",
       "      <td>5842f1ff5</td>\n",
       "      <td>8.0</td>\n",
       "      <td>2</td>\n",
       "      <td>1</td>\n",
       "      <td>1</td>\n",
       "      <td>1</td>\n",
       "      <td>1</td>\n",
       "    </tr>\n",
       "    <tr>\n",
       "      <th>4</th>\n",
       "      <td>1</td>\n",
       "      <td>Hunter</td>\n",
       "      <td>1</td>\n",
       "      <td>1.000000</td>\n",
       "      <td>0</td>\n",
       "      <td>1</td>\n",
       "      <td>1</td>\n",
       "      <td>0</td>\n",
       "      <td>0</td>\n",
       "      <td>2</td>\n",
       "      <td>...</td>\n",
       "      <td>95481e953f8aed9ec3d16fc4509537e8</td>\n",
       "      <td>0</td>\n",
       "      <td>This handsome yet cute boy is up for adoption....</td>\n",
       "      <td>850a43f90</td>\n",
       "      <td>3.0</td>\n",
       "      <td>2</td>\n",
       "      <td>1</td>\n",
       "      <td>1</td>\n",
       "      <td>0</td>\n",
       "      <td>1</td>\n",
       "    </tr>\n",
       "  </tbody>\n",
       "</table>\n",
       "<p>5 rows × 28 columns</p>\n",
       "</div>"
      ],
      "text/plain": [
       "   Type         Name  Age    Breed1  Breed2  Gender  Color1  Color2  Color3  \\\n",
       "0     2       Nibble    3  0.973941       0       1       1       7       0   \n",
       "1     2  No Name Yet    1  0.863192       0       1       1       2       0   \n",
       "2     1       Brisco    1  1.000000       0       1       2       7       0   \n",
       "3     1         Miko    4  1.000000       0       2       1       2       0   \n",
       "4     1       Hunter    1  1.000000       0       1       1       0       0   \n",
       "\n",
       "   MaturitySize  ...                         RescuerID  VideoAmt  \\\n",
       "0             1  ...  8480853f516546f6cf33aa88cd76c379         0   \n",
       "1             2  ...  3082c7125d8fb66f7dd4bff4192c8b14         0   \n",
       "2             2  ...  fa90fa5b1ee11c86938398b60abc32cb         0   \n",
       "3             2  ...  9238e4f44c71a75282e62f7136c6b240         0   \n",
       "4             2  ...  95481e953f8aed9ec3d16fc4509537e8         0   \n",
       "\n",
       "                                         Description      PetID  PhotoAmt  \\\n",
       "0  Nibble is a 3+ month old ball of cuteness. He ...  86e1089a3       1.0   \n",
       "1  I just found it alone yesterday near my apartm...  6296e909a       2.0   \n",
       "2  Their pregnant mother was dumped by her irresp...  3422e4906       7.0   \n",
       "3  Good guard dog, very alert, active, obedience ...  5842f1ff5       8.0   \n",
       "4  This handsome yet cute boy is up for adoption....  850a43f90       3.0   \n",
       "\n",
       "   AdoptionSpeed  AgeCategory  Breed IsMultiColored  name_code  \n",
       "0              2            1      1              1          1  \n",
       "1              0            1      1              1          0  \n",
       "2              3            1      1              1          1  \n",
       "3              2            1      1              1          1  \n",
       "4              2            1      1              0          1  \n",
       "\n",
       "[5 rows x 28 columns]"
      ]
     },
     "execution_count": 11,
     "metadata": {},
     "output_type": "execute_result"
    }
   ],
   "source": [
    "dataset.head()"
   ]
  },
  {
   "cell_type": "code",
   "execution_count": 12,
   "metadata": {},
   "outputs": [],
   "source": [
    "import pandas as pd\n",
    "import lightgbm as lgb\n",
    "from sklearn.preprocessing import OneHotEncoder\n",
    "\n",
    "def add_new_variables_with_lgbm(dataset):\n",
    "    # Select the features and target variable\n",
    "    numeric_features = ['Age', 'VideoAmt', 'PhotoAmt', 'AgeCategory', 'IsMultiColored', 'name_code']\n",
    "    categorical_features = ['Type', 'Breed1', 'Breed2', 'Gender', 'Color1', 'Color2', 'Color3']\n",
    "\n",
    "    # Preprocess non-numeric columns using one-hot encoding\n",
    "    encoded_features = pd.get_dummies(dataset[categorical_features], columns=categorical_features, prefix=categorical_features)\n",
    "\n",
    "    # Concatenate the encoded features with the numeric features\n",
    "    processed_dataset = pd.concat([dataset[numeric_features], encoded_features], axis=1)\n",
    "\n",
    "    # Create a training dataset\n",
    "    target = dataset['AdoptionSpeed']\n",
    "    train_data = lgb.Dataset(processed_dataset, label=target, params={'verbose': -1})\n",
    "\n",
    "    # Define LightGBM parameters\n",
    "    lgb_params = {\n",
    "        'objective': 'multiclass',\n",
    "        'num_class': 5,  # Assuming AdoptionSpeed has 5 classes\n",
    "        'metric': 'multi_logloss',\n",
    "        # Add your other parameters here\n",
    "    }\n",
    "\n",
    "    # Train the LightGBM model\n",
    "    model = lgb.train(lgb_params, train_data)\n",
    "\n",
    "    # Get predictions for each sample\n",
    "    predictions = model.predict(processed_dataset)\n",
    "\n",
    "    # Add new variables based on the predictions\n",
    "    for class_num in range(5):  # Assuming AdoptionSpeed has 5 classes\n",
    "        dataset[f'prediction_class_{class_num}'] = predictions[:, class_num]\n",
    "\n",
    "    return dataset\n",
    "\n",
    "# Call the function with your DataFrame \"DATAFRAME\"\n",
    "df_with_new_variables = add_new_variables_with_lgbm(dataset.copy())  # Use DATAFRAME.copy() to avoid modifying the original DataFrame"
   ]
  },
  {
   "cell_type": "code",
   "execution_count": 13,
   "metadata": {},
   "outputs": [
    {
     "data": {
      "text/html": [
       "<div>\n",
       "<style scoped>\n",
       "    .dataframe tbody tr th:only-of-type {\n",
       "        vertical-align: middle;\n",
       "    }\n",
       "\n",
       "    .dataframe tbody tr th {\n",
       "        vertical-align: top;\n",
       "    }\n",
       "\n",
       "    .dataframe thead th {\n",
       "        text-align: right;\n",
       "    }\n",
       "</style>\n",
       "<table border=\"1\" class=\"dataframe\">\n",
       "  <thead>\n",
       "    <tr style=\"text-align: right;\">\n",
       "      <th></th>\n",
       "      <th>Type</th>\n",
       "      <th>Name</th>\n",
       "      <th>Age</th>\n",
       "      <th>Breed1</th>\n",
       "      <th>Breed2</th>\n",
       "      <th>Gender</th>\n",
       "      <th>Color1</th>\n",
       "      <th>Color2</th>\n",
       "      <th>Color3</th>\n",
       "      <th>MaturitySize</th>\n",
       "      <th>...</th>\n",
       "      <th>AdoptionSpeed</th>\n",
       "      <th>AgeCategory</th>\n",
       "      <th>Breed</th>\n",
       "      <th>IsMultiColored</th>\n",
       "      <th>name_code</th>\n",
       "      <th>prediction_class_0</th>\n",
       "      <th>prediction_class_1</th>\n",
       "      <th>prediction_class_2</th>\n",
       "      <th>prediction_class_3</th>\n",
       "      <th>prediction_class_4</th>\n",
       "    </tr>\n",
       "  </thead>\n",
       "  <tbody>\n",
       "    <tr>\n",
       "      <th>0</th>\n",
       "      <td>2</td>\n",
       "      <td>Nibble</td>\n",
       "      <td>3</td>\n",
       "      <td>0.973941</td>\n",
       "      <td>0</td>\n",
       "      <td>1</td>\n",
       "      <td>1</td>\n",
       "      <td>7</td>\n",
       "      <td>0</td>\n",
       "      <td>1</td>\n",
       "      <td>...</td>\n",
       "      <td>2</td>\n",
       "      <td>1</td>\n",
       "      <td>1</td>\n",
       "      <td>1</td>\n",
       "      <td>1</td>\n",
       "      <td>0.028566</td>\n",
       "      <td>0.231616</td>\n",
       "      <td>0.358729</td>\n",
       "      <td>0.137739</td>\n",
       "      <td>0.243349</td>\n",
       "    </tr>\n",
       "    <tr>\n",
       "      <th>1</th>\n",
       "      <td>2</td>\n",
       "      <td>No Name Yet</td>\n",
       "      <td>1</td>\n",
       "      <td>0.863192</td>\n",
       "      <td>0</td>\n",
       "      <td>1</td>\n",
       "      <td>1</td>\n",
       "      <td>2</td>\n",
       "      <td>0</td>\n",
       "      <td>2</td>\n",
       "      <td>...</td>\n",
       "      <td>0</td>\n",
       "      <td>1</td>\n",
       "      <td>1</td>\n",
       "      <td>1</td>\n",
       "      <td>0</td>\n",
       "      <td>0.096615</td>\n",
       "      <td>0.352294</td>\n",
       "      <td>0.246250</td>\n",
       "      <td>0.123992</td>\n",
       "      <td>0.180848</td>\n",
       "    </tr>\n",
       "    <tr>\n",
       "      <th>2</th>\n",
       "      <td>1</td>\n",
       "      <td>Brisco</td>\n",
       "      <td>1</td>\n",
       "      <td>1.000000</td>\n",
       "      <td>0</td>\n",
       "      <td>1</td>\n",
       "      <td>2</td>\n",
       "      <td>7</td>\n",
       "      <td>0</td>\n",
       "      <td>2</td>\n",
       "      <td>...</td>\n",
       "      <td>3</td>\n",
       "      <td>1</td>\n",
       "      <td>1</td>\n",
       "      <td>1</td>\n",
       "      <td>1</td>\n",
       "      <td>0.010853</td>\n",
       "      <td>0.270040</td>\n",
       "      <td>0.413996</td>\n",
       "      <td>0.256144</td>\n",
       "      <td>0.048968</td>\n",
       "    </tr>\n",
       "    <tr>\n",
       "      <th>3</th>\n",
       "      <td>1</td>\n",
       "      <td>Miko</td>\n",
       "      <td>4</td>\n",
       "      <td>1.000000</td>\n",
       "      <td>0</td>\n",
       "      <td>2</td>\n",
       "      <td>1</td>\n",
       "      <td>2</td>\n",
       "      <td>0</td>\n",
       "      <td>2</td>\n",
       "      <td>...</td>\n",
       "      <td>2</td>\n",
       "      <td>1</td>\n",
       "      <td>1</td>\n",
       "      <td>1</td>\n",
       "      <td>1</td>\n",
       "      <td>0.002941</td>\n",
       "      <td>0.111016</td>\n",
       "      <td>0.247903</td>\n",
       "      <td>0.320008</td>\n",
       "      <td>0.318133</td>\n",
       "    </tr>\n",
       "    <tr>\n",
       "      <th>4</th>\n",
       "      <td>1</td>\n",
       "      <td>Hunter</td>\n",
       "      <td>1</td>\n",
       "      <td>1.000000</td>\n",
       "      <td>0</td>\n",
       "      <td>1</td>\n",
       "      <td>1</td>\n",
       "      <td>0</td>\n",
       "      <td>0</td>\n",
       "      <td>2</td>\n",
       "      <td>...</td>\n",
       "      <td>2</td>\n",
       "      <td>1</td>\n",
       "      <td>1</td>\n",
       "      <td>0</td>\n",
       "      <td>1</td>\n",
       "      <td>0.005587</td>\n",
       "      <td>0.343812</td>\n",
       "      <td>0.350237</td>\n",
       "      <td>0.212460</td>\n",
       "      <td>0.087903</td>\n",
       "    </tr>\n",
       "    <tr>\n",
       "      <th>...</th>\n",
       "      <td>...</td>\n",
       "      <td>...</td>\n",
       "      <td>...</td>\n",
       "      <td>...</td>\n",
       "      <td>...</td>\n",
       "      <td>...</td>\n",
       "      <td>...</td>\n",
       "      <td>...</td>\n",
       "      <td>...</td>\n",
       "      <td>...</td>\n",
       "      <td>...</td>\n",
       "      <td>...</td>\n",
       "      <td>...</td>\n",
       "      <td>...</td>\n",
       "      <td>...</td>\n",
       "      <td>...</td>\n",
       "      <td>...</td>\n",
       "      <td>...</td>\n",
       "      <td>...</td>\n",
       "      <td>...</td>\n",
       "      <td>...</td>\n",
       "    </tr>\n",
       "    <tr>\n",
       "      <th>14988</th>\n",
       "      <td>2</td>\n",
       "      <td>No Name Yet</td>\n",
       "      <td>2</td>\n",
       "      <td>0.866450</td>\n",
       "      <td>0</td>\n",
       "      <td>3</td>\n",
       "      <td>1</td>\n",
       "      <td>0</td>\n",
       "      <td>0</td>\n",
       "      <td>2</td>\n",
       "      <td>...</td>\n",
       "      <td>2</td>\n",
       "      <td>1</td>\n",
       "      <td>1</td>\n",
       "      <td>0</td>\n",
       "      <td>0</td>\n",
       "      <td>0.004050</td>\n",
       "      <td>0.251369</td>\n",
       "      <td>0.276092</td>\n",
       "      <td>0.210277</td>\n",
       "      <td>0.258212</td>\n",
       "    </tr>\n",
       "    <tr>\n",
       "      <th>14989</th>\n",
       "      <td>2</td>\n",
       "      <td>Serato &amp; Eddie</td>\n",
       "      <td>60</td>\n",
       "      <td>0.863192</td>\n",
       "      <td>264</td>\n",
       "      <td>3</td>\n",
       "      <td>1</td>\n",
       "      <td>4</td>\n",
       "      <td>7</td>\n",
       "      <td>2</td>\n",
       "      <td>...</td>\n",
       "      <td>4</td>\n",
       "      <td>3</td>\n",
       "      <td>2</td>\n",
       "      <td>1</td>\n",
       "      <td>1</td>\n",
       "      <td>0.000915</td>\n",
       "      <td>0.055371</td>\n",
       "      <td>0.165172</td>\n",
       "      <td>0.260624</td>\n",
       "      <td>0.517918</td>\n",
       "    </tr>\n",
       "    <tr>\n",
       "      <th>14990</th>\n",
       "      <td>2</td>\n",
       "      <td>Monkies</td>\n",
       "      <td>2</td>\n",
       "      <td>0.863192</td>\n",
       "      <td>266</td>\n",
       "      <td>3</td>\n",
       "      <td>5</td>\n",
       "      <td>6</td>\n",
       "      <td>7</td>\n",
       "      <td>3</td>\n",
       "      <td>...</td>\n",
       "      <td>3</td>\n",
       "      <td>1</td>\n",
       "      <td>2</td>\n",
       "      <td>1</td>\n",
       "      <td>1</td>\n",
       "      <td>0.011357</td>\n",
       "      <td>0.506431</td>\n",
       "      <td>0.226790</td>\n",
       "      <td>0.168735</td>\n",
       "      <td>0.086687</td>\n",
       "    </tr>\n",
       "    <tr>\n",
       "      <th>14991</th>\n",
       "      <td>2</td>\n",
       "      <td>Ms Daym</td>\n",
       "      <td>9</td>\n",
       "      <td>0.866450</td>\n",
       "      <td>0</td>\n",
       "      <td>2</td>\n",
       "      <td>4</td>\n",
       "      <td>7</td>\n",
       "      <td>0</td>\n",
       "      <td>1</td>\n",
       "      <td>...</td>\n",
       "      <td>4</td>\n",
       "      <td>1</td>\n",
       "      <td>1</td>\n",
       "      <td>1</td>\n",
       "      <td>1</td>\n",
       "      <td>0.012514</td>\n",
       "      <td>0.094100</td>\n",
       "      <td>0.169759</td>\n",
       "      <td>0.179496</td>\n",
       "      <td>0.544131</td>\n",
       "    </tr>\n",
       "    <tr>\n",
       "      <th>14992</th>\n",
       "      <td>1</td>\n",
       "      <td>Fili</td>\n",
       "      <td>1</td>\n",
       "      <td>1.000000</td>\n",
       "      <td>307</td>\n",
       "      <td>1</td>\n",
       "      <td>2</td>\n",
       "      <td>0</td>\n",
       "      <td>0</td>\n",
       "      <td>2</td>\n",
       "      <td>...</td>\n",
       "      <td>3</td>\n",
       "      <td>1</td>\n",
       "      <td>2</td>\n",
       "      <td>0</td>\n",
       "      <td>1</td>\n",
       "      <td>0.019234</td>\n",
       "      <td>0.188604</td>\n",
       "      <td>0.361998</td>\n",
       "      <td>0.327430</td>\n",
       "      <td>0.102734</td>\n",
       "    </tr>\n",
       "  </tbody>\n",
       "</table>\n",
       "<p>14993 rows × 33 columns</p>\n",
       "</div>"
      ],
      "text/plain": [
       "       Type            Name  Age    Breed1  Breed2  Gender  Color1  Color2  \\\n",
       "0         2          Nibble    3  0.973941       0       1       1       7   \n",
       "1         2     No Name Yet    1  0.863192       0       1       1       2   \n",
       "2         1          Brisco    1  1.000000       0       1       2       7   \n",
       "3         1            Miko    4  1.000000       0       2       1       2   \n",
       "4         1          Hunter    1  1.000000       0       1       1       0   \n",
       "...     ...             ...  ...       ...     ...     ...     ...     ...   \n",
       "14988     2     No Name Yet    2  0.866450       0       3       1       0   \n",
       "14989     2  Serato & Eddie   60  0.863192     264       3       1       4   \n",
       "14990     2         Monkies    2  0.863192     266       3       5       6   \n",
       "14991     2         Ms Daym    9  0.866450       0       2       4       7   \n",
       "14992     1            Fili    1  1.000000     307       1       2       0   \n",
       "\n",
       "       Color3  MaturitySize  ...  AdoptionSpeed  AgeCategory  Breed  \\\n",
       "0           0             1  ...              2            1      1   \n",
       "1           0             2  ...              0            1      1   \n",
       "2           0             2  ...              3            1      1   \n",
       "3           0             2  ...              2            1      1   \n",
       "4           0             2  ...              2            1      1   \n",
       "...       ...           ...  ...            ...          ...    ...   \n",
       "14988       0             2  ...              2            1      1   \n",
       "14989       7             2  ...              4            3      2   \n",
       "14990       7             3  ...              3            1      2   \n",
       "14991       0             1  ...              4            1      1   \n",
       "14992       0             2  ...              3            1      2   \n",
       "\n",
       "       IsMultiColored  name_code  prediction_class_0  prediction_class_1  \\\n",
       "0                   1          1            0.028566            0.231616   \n",
       "1                   1          0            0.096615            0.352294   \n",
       "2                   1          1            0.010853            0.270040   \n",
       "3                   1          1            0.002941            0.111016   \n",
       "4                   0          1            0.005587            0.343812   \n",
       "...               ...        ...                 ...                 ...   \n",
       "14988               0          0            0.004050            0.251369   \n",
       "14989               1          1            0.000915            0.055371   \n",
       "14990               1          1            0.011357            0.506431   \n",
       "14991               1          1            0.012514            0.094100   \n",
       "14992               0          1            0.019234            0.188604   \n",
       "\n",
       "       prediction_class_2 prediction_class_3  prediction_class_4  \n",
       "0                0.358729           0.137739            0.243349  \n",
       "1                0.246250           0.123992            0.180848  \n",
       "2                0.413996           0.256144            0.048968  \n",
       "3                0.247903           0.320008            0.318133  \n",
       "4                0.350237           0.212460            0.087903  \n",
       "...                   ...                ...                 ...  \n",
       "14988            0.276092           0.210277            0.258212  \n",
       "14989            0.165172           0.260624            0.517918  \n",
       "14990            0.226790           0.168735            0.086687  \n",
       "14991            0.169759           0.179496            0.544131  \n",
       "14992            0.361998           0.327430            0.102734  \n",
       "\n",
       "[14993 rows x 33 columns]"
      ]
     },
     "execution_count": 13,
     "metadata": {},
     "output_type": "execute_result"
    }
   ],
   "source": [
    "df_with_new_variables"
   ]
  },
  {
   "cell_type": "code",
   "execution_count": 17,
   "metadata": {},
   "outputs": [],
   "source": [
    "dataset=df_with_new_variables"
   ]
  },
  {
   "cell_type": "code",
   "execution_count": 18,
   "metadata": {},
   "outputs": [],
   "source": [
    "\n",
    "#Separo un 20% para test estratificado opr target\n",
    "#PERO MANTENEMOS LA PROPORCION\n",
    "train, test = train_test_split(dataset,\n",
    "                               test_size = TEST_SIZE,\n",
    "                               random_state = SEED,\n",
    "                               stratify = dataset.AdoptionSpeed)"
   ]
  },
  {
   "cell_type": "code",
   "execution_count": 19,
   "metadata": {},
   "outputs": [],
   "source": [
    "#Armo listas con features de texto y numericas\n",
    "char_feats = [f for f in dataset.columns if dataset[f].dtype=='O']\n",
    "numeric_feats = [f for f in dataset.columns if dataset[f].dtype!='O']"
   ]
  },
  {
   "cell_type": "code",
   "execution_count": 20,
   "metadata": {},
   "outputs": [
    {
     "data": {
      "text/plain": [
       "['Type',\n",
       " 'Age',\n",
       " 'Breed1',\n",
       " 'Breed2',\n",
       " 'Gender',\n",
       " 'Color1',\n",
       " 'Color2',\n",
       " 'Color3',\n",
       " 'MaturitySize',\n",
       " 'FurLength',\n",
       " 'Vaccinated',\n",
       " 'Dewormed',\n",
       " 'Sterilized',\n",
       " 'Health',\n",
       " 'Quantity',\n",
       " 'Fee',\n",
       " 'State',\n",
       " 'VideoAmt',\n",
       " 'PhotoAmt',\n",
       " 'AdoptionSpeed',\n",
       " 'AgeCategory',\n",
       " 'Breed',\n",
       " 'IsMultiColored',\n",
       " 'name_code',\n",
       " 'prediction_class_0',\n",
       " 'prediction_class_1',\n",
       " 'prediction_class_2',\n",
       " 'prediction_class_3',\n",
       " 'prediction_class_4']"
      ]
     },
     "execution_count": 20,
     "metadata": {},
     "output_type": "execute_result"
    }
   ],
   "source": [
    "#Lista de features numericas\n",
    "#ESTE EJEMPLO SE HACE SOLO CON VARIABLES NUMERICAS\n",
    "numeric_feats"
   ]
  },
  {
   "cell_type": "code",
   "execution_count": 21,
   "metadata": {},
   "outputs": [],
   "source": [
    "\n",
    "#Defino features a usar en un primer modelo de prueba\n",
    "features = ['Type',\n",
    " 'Age',\n",
    " 'Breed1',\n",
    " 'Breed2',\n",
    " 'Gender',\n",
    " 'Color1',\n",
    " 'Color2',\n",
    " 'Color3',\n",
    " 'MaturitySize',\n",
    " 'FurLength',\n",
    " 'Vaccinated',\n",
    " 'Dewormed',\n",
    " 'Sterilized',\n",
    " 'Health',\n",
    " 'Quantity',\n",
    " 'Fee',\n",
    " 'State',\n",
    " 'VideoAmt',\n",
    " 'PhotoAmt',\n",
    " 'AgeCategory',\n",
    " 'Breed',\n",
    " 'IsMultiColored',\n",
    " 'name_code',\n",
    " 'prediction_class_0',\n",
    " 'prediction_class_1',\n",
    " 'prediction_class_2',\n",
    " 'prediction_class_3',\n",
    " 'prediction_class_4']\n",
    "\n",
    "label = 'AdoptionSpeed'"
   ]
  },
  {
   "cell_type": "code",
   "execution_count": 22,
   "metadata": {},
   "outputs": [],
   "source": [
    "#Genero dataframes de train y test con sus respectivos targets\n",
    "X_train = train[features]\n",
    "y_train = train[label]\n",
    "\n",
    "X_test = test[features]\n",
    "y_test = test[label]"
   ]
  },
  {
   "cell_type": "code",
   "execution_count": 23,
   "metadata": {},
   "outputs": [],
   "source": [
    "#Entreno un modelo inicial sin modificar hiperparametros. Solamente especifico el numero de clases y el tipo de modelo como clasificacoión\n",
    "#HACEMOS LGBM POR DEFECTO COMO VIENE\n",
    "lgb_params = params = {\n",
    "                        'objective': 'multiclass',#EL PROBLEMA ES UNA MULTICPLASE \n",
    "                        'num_class': len(y_train.unique())\n",
    "                        }\n",
    "\n",
    "\n",
    "#genero el objeto Dataset que debo pasarle a lightgbm para que entrene\n",
    "lgb_train_dataset = lgb.Dataset(data=X_train,\n",
    "                                label=y_train)\n",
    "\n",
    "#entreno el modelo con los parametros por defecto\n",
    "lgb_model = lgb.train(lgb_params,\n",
    "                      lgb_train_dataset)"
   ]
  },
  {
   "cell_type": "code",
   "execution_count": 24,
   "metadata": {},
   "outputs": [
    {
     "data": {
      "text/plain": [
       "0.45429837731585787"
      ]
     },
     "execution_count": 24,
     "metadata": {},
     "output_type": "execute_result"
    }
   ],
   "source": [
    "#Obtengo las predicciones sobre el set de test. El modelo me da una lista de probabilidades para cada clase y tomo la clase con mayor probabilidad con la funcion argmax\n",
    "y_pred = lgb_model.predict(X_test).argmax(axis=1)#CON ARGMAX OBTENGO LA PREDICCION MAS GRANDE DE LAS CATEGORIAS OSEA LA GANADORA\n",
    "\n",
    "#Calculo el Kappa\n",
    "cohen_kappa_score(y_test,y_pred, weights = 'quadratic')\n",
    "#MI MODELO DA UN 0.31 DE SCORE \n",
    "#RECORDAR QUE AL SER UN MULTICLASE EL PREDICT ME TRAE 5 COLUMNAS ( PROBABILIDAD DEL MODELO A CADA UNA DE LAS CLASES )\n",
    "\n",
    "\n"
   ]
  },
  {
   "cell_type": "code",
   "execution_count": 25,
   "metadata": {},
   "outputs": [
    {
     "data": {
      "application/vnd.plotly.v1+json": {
       "config": {
        "plotlyServerURL": "https://plot.ly"
       },
       "data": [
        {
         "type": "heatmap",
         "x": [
          0,
          1,
          2,
          3,
          4
         ],
         "y": [
          0,
          1,
          2,
          3,
          4
         ],
         "z": [
          [
           42.68292682926829,
           15.853658536585366,
           25.609756097560975,
           4.878048780487805,
           10.975609756097562
          ],
          [
           0.8090614886731391,
           48.54368932038835,
           23.78640776699029,
           11.003236245954692,
           15.857605177993527
          ],
          [
           0.6195786864931847,
           15.861214374225527,
           53.77942998760843,
           10.90458488228005,
           18.83519206939281
          ],
          [
           1.0736196319018405,
           13.03680981595092,
           27.300613496932513,
           40.644171779141104,
           17.94478527607362
          ],
          [
           0.5952380952380952,
           9.404761904761905,
           16.071428571428573,
           8.80952380952381,
           65.11904761904762
          ]
         ]
        }
       ],
       "layout": {
        "annotations": [
         {
          "font": {
           "color": "white"
          },
          "showarrow": false,
          "text": "42.7 - 35",
          "x": 0,
          "xref": "x",
          "y": 0,
          "yref": "y"
         },
         {
          "font": {
           "color": "white"
          },
          "showarrow": false,
          "text": "15.9 - 13",
          "x": 1,
          "xref": "x",
          "y": 0,
          "yref": "y"
         },
         {
          "font": {
           "color": "white"
          },
          "showarrow": false,
          "text": "25.6 - 21",
          "x": 2,
          "xref": "x",
          "y": 0,
          "yref": "y"
         },
         {
          "font": {
           "color": "white"
          },
          "showarrow": false,
          "text": "4.9 - 4",
          "x": 3,
          "xref": "x",
          "y": 0,
          "yref": "y"
         },
         {
          "font": {
           "color": "white"
          },
          "showarrow": false,
          "text": "11.0 - 9",
          "x": 4,
          "xref": "x",
          "y": 0,
          "yref": "y"
         },
         {
          "font": {
           "color": "white"
          },
          "showarrow": false,
          "text": "0.8 - 5",
          "x": 0,
          "xref": "x",
          "y": 1,
          "yref": "y"
         },
         {
          "font": {
           "color": "white"
          },
          "showarrow": false,
          "text": "48.5 - 300",
          "x": 1,
          "xref": "x",
          "y": 1,
          "yref": "y"
         },
         {
          "font": {
           "color": "white"
          },
          "showarrow": false,
          "text": "23.8 - 147",
          "x": 2,
          "xref": "x",
          "y": 1,
          "yref": "y"
         },
         {
          "font": {
           "color": "white"
          },
          "showarrow": false,
          "text": "11.0 - 68",
          "x": 3,
          "xref": "x",
          "y": 1,
          "yref": "y"
         },
         {
          "font": {
           "color": "white"
          },
          "showarrow": false,
          "text": "15.9 - 98",
          "x": 4,
          "xref": "x",
          "y": 1,
          "yref": "y"
         },
         {
          "font": {
           "color": "white"
          },
          "showarrow": false,
          "text": "0.6 - 5",
          "x": 0,
          "xref": "x",
          "y": 2,
          "yref": "y"
         },
         {
          "font": {
           "color": "white"
          },
          "showarrow": false,
          "text": "15.9 - 128",
          "x": 1,
          "xref": "x",
          "y": 2,
          "yref": "y"
         },
         {
          "font": {
           "color": "white"
          },
          "showarrow": false,
          "text": "53.8 - 434",
          "x": 2,
          "xref": "x",
          "y": 2,
          "yref": "y"
         },
         {
          "font": {
           "color": "white"
          },
          "showarrow": false,
          "text": "10.9 - 88",
          "x": 3,
          "xref": "x",
          "y": 2,
          "yref": "y"
         },
         {
          "font": {
           "color": "white"
          },
          "showarrow": false,
          "text": "18.8 - 152",
          "x": 4,
          "xref": "x",
          "y": 2,
          "yref": "y"
         },
         {
          "font": {
           "color": "white"
          },
          "showarrow": false,
          "text": "1.1 - 7",
          "x": 0,
          "xref": "x",
          "y": 3,
          "yref": "y"
         },
         {
          "font": {
           "color": "white"
          },
          "showarrow": false,
          "text": "13.0 - 85",
          "x": 1,
          "xref": "x",
          "y": 3,
          "yref": "y"
         },
         {
          "font": {
           "color": "white"
          },
          "showarrow": false,
          "text": "27.3 - 178",
          "x": 2,
          "xref": "x",
          "y": 3,
          "yref": "y"
         },
         {
          "font": {
           "color": "white"
          },
          "showarrow": false,
          "text": "40.6 - 265",
          "x": 3,
          "xref": "x",
          "y": 3,
          "yref": "y"
         },
         {
          "font": {
           "color": "white"
          },
          "showarrow": false,
          "text": "17.9 - 117",
          "x": 4,
          "xref": "x",
          "y": 3,
          "yref": "y"
         },
         {
          "font": {
           "color": "white"
          },
          "showarrow": false,
          "text": "0.6 - 5",
          "x": 0,
          "xref": "x",
          "y": 4,
          "yref": "y"
         },
         {
          "font": {
           "color": "white"
          },
          "showarrow": false,
          "text": "9.4 - 79",
          "x": 1,
          "xref": "x",
          "y": 4,
          "yref": "y"
         },
         {
          "font": {
           "color": "white"
          },
          "showarrow": false,
          "text": "16.1 - 135",
          "x": 2,
          "xref": "x",
          "y": 4,
          "yref": "y"
         },
         {
          "font": {
           "color": "white"
          },
          "showarrow": false,
          "text": "8.8 - 74",
          "x": 3,
          "xref": "x",
          "y": 4,
          "yref": "y"
         },
         {
          "font": {
           "color": "white"
          },
          "showarrow": false,
          "text": "65.1 - 547",
          "x": 4,
          "xref": "x",
          "y": 4,
          "yref": "y"
         }
        ],
        "height": 800,
        "template": {
         "data": {
          "bar": [
           {
            "error_x": {
             "color": "#2a3f5f"
            },
            "error_y": {
             "color": "#2a3f5f"
            },
            "marker": {
             "line": {
              "color": "#E5ECF6",
              "width": 0.5
             },
             "pattern": {
              "fillmode": "overlay",
              "size": 10,
              "solidity": 0.2
             }
            },
            "type": "bar"
           }
          ],
          "barpolar": [
           {
            "marker": {
             "line": {
              "color": "#E5ECF6",
              "width": 0.5
             },
             "pattern": {
              "fillmode": "overlay",
              "size": 10,
              "solidity": 0.2
             }
            },
            "type": "barpolar"
           }
          ],
          "carpet": [
           {
            "aaxis": {
             "endlinecolor": "#2a3f5f",
             "gridcolor": "white",
             "linecolor": "white",
             "minorgridcolor": "white",
             "startlinecolor": "#2a3f5f"
            },
            "baxis": {
             "endlinecolor": "#2a3f5f",
             "gridcolor": "white",
             "linecolor": "white",
             "minorgridcolor": "white",
             "startlinecolor": "#2a3f5f"
            },
            "type": "carpet"
           }
          ],
          "choropleth": [
           {
            "colorbar": {
             "outlinewidth": 0,
             "ticks": ""
            },
            "type": "choropleth"
           }
          ],
          "contour": [
           {
            "colorbar": {
             "outlinewidth": 0,
             "ticks": ""
            },
            "colorscale": [
             [
              0,
              "#0d0887"
             ],
             [
              0.1111111111111111,
              "#46039f"
             ],
             [
              0.2222222222222222,
              "#7201a8"
             ],
             [
              0.3333333333333333,
              "#9c179e"
             ],
             [
              0.4444444444444444,
              "#bd3786"
             ],
             [
              0.5555555555555556,
              "#d8576b"
             ],
             [
              0.6666666666666666,
              "#ed7953"
             ],
             [
              0.7777777777777778,
              "#fb9f3a"
             ],
             [
              0.8888888888888888,
              "#fdca26"
             ],
             [
              1,
              "#f0f921"
             ]
            ],
            "type": "contour"
           }
          ],
          "contourcarpet": [
           {
            "colorbar": {
             "outlinewidth": 0,
             "ticks": ""
            },
            "type": "contourcarpet"
           }
          ],
          "heatmap": [
           {
            "colorbar": {
             "outlinewidth": 0,
             "ticks": ""
            },
            "colorscale": [
             [
              0,
              "#0d0887"
             ],
             [
              0.1111111111111111,
              "#46039f"
             ],
             [
              0.2222222222222222,
              "#7201a8"
             ],
             [
              0.3333333333333333,
              "#9c179e"
             ],
             [
              0.4444444444444444,
              "#bd3786"
             ],
             [
              0.5555555555555556,
              "#d8576b"
             ],
             [
              0.6666666666666666,
              "#ed7953"
             ],
             [
              0.7777777777777778,
              "#fb9f3a"
             ],
             [
              0.8888888888888888,
              "#fdca26"
             ],
             [
              1,
              "#f0f921"
             ]
            ],
            "type": "heatmap"
           }
          ],
          "heatmapgl": [
           {
            "colorbar": {
             "outlinewidth": 0,
             "ticks": ""
            },
            "colorscale": [
             [
              0,
              "#0d0887"
             ],
             [
              0.1111111111111111,
              "#46039f"
             ],
             [
              0.2222222222222222,
              "#7201a8"
             ],
             [
              0.3333333333333333,
              "#9c179e"
             ],
             [
              0.4444444444444444,
              "#bd3786"
             ],
             [
              0.5555555555555556,
              "#d8576b"
             ],
             [
              0.6666666666666666,
              "#ed7953"
             ],
             [
              0.7777777777777778,
              "#fb9f3a"
             ],
             [
              0.8888888888888888,
              "#fdca26"
             ],
             [
              1,
              "#f0f921"
             ]
            ],
            "type": "heatmapgl"
           }
          ],
          "histogram": [
           {
            "marker": {
             "pattern": {
              "fillmode": "overlay",
              "size": 10,
              "solidity": 0.2
             }
            },
            "type": "histogram"
           }
          ],
          "histogram2d": [
           {
            "colorbar": {
             "outlinewidth": 0,
             "ticks": ""
            },
            "colorscale": [
             [
              0,
              "#0d0887"
             ],
             [
              0.1111111111111111,
              "#46039f"
             ],
             [
              0.2222222222222222,
              "#7201a8"
             ],
             [
              0.3333333333333333,
              "#9c179e"
             ],
             [
              0.4444444444444444,
              "#bd3786"
             ],
             [
              0.5555555555555556,
              "#d8576b"
             ],
             [
              0.6666666666666666,
              "#ed7953"
             ],
             [
              0.7777777777777778,
              "#fb9f3a"
             ],
             [
              0.8888888888888888,
              "#fdca26"
             ],
             [
              1,
              "#f0f921"
             ]
            ],
            "type": "histogram2d"
           }
          ],
          "histogram2dcontour": [
           {
            "colorbar": {
             "outlinewidth": 0,
             "ticks": ""
            },
            "colorscale": [
             [
              0,
              "#0d0887"
             ],
             [
              0.1111111111111111,
              "#46039f"
             ],
             [
              0.2222222222222222,
              "#7201a8"
             ],
             [
              0.3333333333333333,
              "#9c179e"
             ],
             [
              0.4444444444444444,
              "#bd3786"
             ],
             [
              0.5555555555555556,
              "#d8576b"
             ],
             [
              0.6666666666666666,
              "#ed7953"
             ],
             [
              0.7777777777777778,
              "#fb9f3a"
             ],
             [
              0.8888888888888888,
              "#fdca26"
             ],
             [
              1,
              "#f0f921"
             ]
            ],
            "type": "histogram2dcontour"
           }
          ],
          "mesh3d": [
           {
            "colorbar": {
             "outlinewidth": 0,
             "ticks": ""
            },
            "type": "mesh3d"
           }
          ],
          "parcoords": [
           {
            "line": {
             "colorbar": {
              "outlinewidth": 0,
              "ticks": ""
             }
            },
            "type": "parcoords"
           }
          ],
          "pie": [
           {
            "automargin": true,
            "type": "pie"
           }
          ],
          "scatter": [
           {
            "fillpattern": {
             "fillmode": "overlay",
             "size": 10,
             "solidity": 0.2
            },
            "type": "scatter"
           }
          ],
          "scatter3d": [
           {
            "line": {
             "colorbar": {
              "outlinewidth": 0,
              "ticks": ""
             }
            },
            "marker": {
             "colorbar": {
              "outlinewidth": 0,
              "ticks": ""
             }
            },
            "type": "scatter3d"
           }
          ],
          "scattercarpet": [
           {
            "marker": {
             "colorbar": {
              "outlinewidth": 0,
              "ticks": ""
             }
            },
            "type": "scattercarpet"
           }
          ],
          "scattergeo": [
           {
            "marker": {
             "colorbar": {
              "outlinewidth": 0,
              "ticks": ""
             }
            },
            "type": "scattergeo"
           }
          ],
          "scattergl": [
           {
            "marker": {
             "colorbar": {
              "outlinewidth": 0,
              "ticks": ""
             }
            },
            "type": "scattergl"
           }
          ],
          "scattermapbox": [
           {
            "marker": {
             "colorbar": {
              "outlinewidth": 0,
              "ticks": ""
             }
            },
            "type": "scattermapbox"
           }
          ],
          "scatterpolar": [
           {
            "marker": {
             "colorbar": {
              "outlinewidth": 0,
              "ticks": ""
             }
            },
            "type": "scatterpolar"
           }
          ],
          "scatterpolargl": [
           {
            "marker": {
             "colorbar": {
              "outlinewidth": 0,
              "ticks": ""
             }
            },
            "type": "scatterpolargl"
           }
          ],
          "scatterternary": [
           {
            "marker": {
             "colorbar": {
              "outlinewidth": 0,
              "ticks": ""
             }
            },
            "type": "scatterternary"
           }
          ],
          "surface": [
           {
            "colorbar": {
             "outlinewidth": 0,
             "ticks": ""
            },
            "colorscale": [
             [
              0,
              "#0d0887"
             ],
             [
              0.1111111111111111,
              "#46039f"
             ],
             [
              0.2222222222222222,
              "#7201a8"
             ],
             [
              0.3333333333333333,
              "#9c179e"
             ],
             [
              0.4444444444444444,
              "#bd3786"
             ],
             [
              0.5555555555555556,
              "#d8576b"
             ],
             [
              0.6666666666666666,
              "#ed7953"
             ],
             [
              0.7777777777777778,
              "#fb9f3a"
             ],
             [
              0.8888888888888888,
              "#fdca26"
             ],
             [
              1,
              "#f0f921"
             ]
            ],
            "type": "surface"
           }
          ],
          "table": [
           {
            "cells": {
             "fill": {
              "color": "#EBF0F8"
             },
             "line": {
              "color": "white"
             }
            },
            "header": {
             "fill": {
              "color": "#C8D4E3"
             },
             "line": {
              "color": "white"
             }
            },
            "type": "table"
           }
          ]
         },
         "layout": {
          "annotationdefaults": {
           "arrowcolor": "#2a3f5f",
           "arrowhead": 0,
           "arrowwidth": 1
          },
          "autotypenumbers": "strict",
          "coloraxis": {
           "colorbar": {
            "outlinewidth": 0,
            "ticks": ""
           }
          },
          "colorscale": {
           "diverging": [
            [
             0,
             "#8e0152"
            ],
            [
             0.1,
             "#c51b7d"
            ],
            [
             0.2,
             "#de77ae"
            ],
            [
             0.3,
             "#f1b6da"
            ],
            [
             0.4,
             "#fde0ef"
            ],
            [
             0.5,
             "#f7f7f7"
            ],
            [
             0.6,
             "#e6f5d0"
            ],
            [
             0.7,
             "#b8e186"
            ],
            [
             0.8,
             "#7fbc41"
            ],
            [
             0.9,
             "#4d9221"
            ],
            [
             1,
             "#276419"
            ]
           ],
           "sequential": [
            [
             0,
             "#0d0887"
            ],
            [
             0.1111111111111111,
             "#46039f"
            ],
            [
             0.2222222222222222,
             "#7201a8"
            ],
            [
             0.3333333333333333,
             "#9c179e"
            ],
            [
             0.4444444444444444,
             "#bd3786"
            ],
            [
             0.5555555555555556,
             "#d8576b"
            ],
            [
             0.6666666666666666,
             "#ed7953"
            ],
            [
             0.7777777777777778,
             "#fb9f3a"
            ],
            [
             0.8888888888888888,
             "#fdca26"
            ],
            [
             1,
             "#f0f921"
            ]
           ],
           "sequentialminus": [
            [
             0,
             "#0d0887"
            ],
            [
             0.1111111111111111,
             "#46039f"
            ],
            [
             0.2222222222222222,
             "#7201a8"
            ],
            [
             0.3333333333333333,
             "#9c179e"
            ],
            [
             0.4444444444444444,
             "#bd3786"
            ],
            [
             0.5555555555555556,
             "#d8576b"
            ],
            [
             0.6666666666666666,
             "#ed7953"
            ],
            [
             0.7777777777777778,
             "#fb9f3a"
            ],
            [
             0.8888888888888888,
             "#fdca26"
            ],
            [
             1,
             "#f0f921"
            ]
           ]
          },
          "colorway": [
           "#636efa",
           "#EF553B",
           "#00cc96",
           "#ab63fa",
           "#FFA15A",
           "#19d3f3",
           "#FF6692",
           "#B6E880",
           "#FF97FF",
           "#FECB52"
          ],
          "font": {
           "color": "#2a3f5f"
          },
          "geo": {
           "bgcolor": "white",
           "lakecolor": "white",
           "landcolor": "#E5ECF6",
           "showlakes": true,
           "showland": true,
           "subunitcolor": "white"
          },
          "hoverlabel": {
           "align": "left"
          },
          "hovermode": "closest",
          "mapbox": {
           "style": "light"
          },
          "paper_bgcolor": "white",
          "plot_bgcolor": "#E5ECF6",
          "polar": {
           "angularaxis": {
            "gridcolor": "white",
            "linecolor": "white",
            "ticks": ""
           },
           "bgcolor": "#E5ECF6",
           "radialaxis": {
            "gridcolor": "white",
            "linecolor": "white",
            "ticks": ""
           }
          },
          "scene": {
           "xaxis": {
            "backgroundcolor": "#E5ECF6",
            "gridcolor": "white",
            "gridwidth": 2,
            "linecolor": "white",
            "showbackground": true,
            "ticks": "",
            "zerolinecolor": "white"
           },
           "yaxis": {
            "backgroundcolor": "#E5ECF6",
            "gridcolor": "white",
            "gridwidth": 2,
            "linecolor": "white",
            "showbackground": true,
            "ticks": "",
            "zerolinecolor": "white"
           },
           "zaxis": {
            "backgroundcolor": "#E5ECF6",
            "gridcolor": "white",
            "gridwidth": 2,
            "linecolor": "white",
            "showbackground": true,
            "ticks": "",
            "zerolinecolor": "white"
           }
          },
          "shapedefaults": {
           "line": {
            "color": "#2a3f5f"
           }
          },
          "ternary": {
           "aaxis": {
            "gridcolor": "white",
            "linecolor": "white",
            "ticks": ""
           },
           "baxis": {
            "gridcolor": "white",
            "linecolor": "white",
            "ticks": ""
           },
           "bgcolor": "#E5ECF6",
           "caxis": {
            "gridcolor": "white",
            "linecolor": "white",
            "ticks": ""
           }
          },
          "title": {
           "x": 0.05
          },
          "xaxis": {
           "automargin": true,
           "gridcolor": "white",
           "linecolor": "white",
           "ticks": "",
           "title": {
            "standoff": 15
           },
           "zerolinecolor": "white",
           "zerolinewidth": 2
          },
          "yaxis": {
           "automargin": true,
           "gridcolor": "white",
           "linecolor": "white",
           "ticks": "",
           "title": {
            "standoff": 15
           },
           "zerolinecolor": "white",
           "zerolinewidth": 2
          }
         }
        },
        "title": {
         "text": "Conf Matrix"
        },
        "width": 800,
        "xaxis": {
         "title": {
          "text": "Predicted value"
         }
        },
        "yaxis": {
         "title": {
          "text": "Real value"
         }
        }
       }
      }
     },
     "metadata": {},
     "output_type": "display_data"
    }
   ],
   "source": [
    "#Muestro la matriz de confusión\n",
    "display(plot_confusion_matrix(y_test,y_pred))\n",
    "#SI OBTENGO UNA DIAGONAL MUY FUERTE AMARILLA ES PQ PREDIJO BIEN EL MODELO "
   ]
  },
  {
   "cell_type": "code",
   "execution_count": 26,
   "metadata": {},
   "outputs": [
    {
     "data": {
      "text/plain": [
       "1.0"
      ]
     },
     "execution_count": 26,
     "metadata": {},
     "output_type": "execute_result"
    }
   ],
   "source": [
    "#Vamos a ponewr en perspectiva el score de Kappa\n",
    "\n",
    "\n",
    "#Cual es el score perfecto? Evaluo la clase real contra si misma. Es decir, el caso en que el modelo establece todas las clases en su valor real\n",
    "cohen_kappa_score(y_test,y_test, weights = 'quadratic')"
   ]
  },
  {
   "cell_type": "code",
   "execution_count": 27,
   "metadata": {},
   "outputs": [
    {
     "data": {
      "application/vnd.plotly.v1+json": {
       "config": {
        "plotlyServerURL": "https://plot.ly"
       },
       "data": [
        {
         "type": "heatmap",
         "x": [
          0,
          1,
          2,
          3,
          4
         ],
         "y": [
          0,
          1,
          2,
          3,
          4
         ],
         "z": [
          [
           100,
           0,
           0,
           0,
           0
          ],
          [
           0,
           100,
           0,
           0,
           0
          ],
          [
           0,
           0,
           100,
           0,
           0
          ],
          [
           0,
           0,
           0,
           100,
           0
          ],
          [
           0,
           0,
           0,
           0,
           100
          ]
         ]
        }
       ],
       "layout": {
        "annotations": [
         {
          "font": {
           "color": "white"
          },
          "showarrow": false,
          "text": "100.0 - 82",
          "x": 0,
          "xref": "x",
          "y": 0,
          "yref": "y"
         },
         {
          "font": {
           "color": "white"
          },
          "showarrow": false,
          "text": "0.0 - 0",
          "x": 1,
          "xref": "x",
          "y": 0,
          "yref": "y"
         },
         {
          "font": {
           "color": "white"
          },
          "showarrow": false,
          "text": "0.0 - 0",
          "x": 2,
          "xref": "x",
          "y": 0,
          "yref": "y"
         },
         {
          "font": {
           "color": "white"
          },
          "showarrow": false,
          "text": "0.0 - 0",
          "x": 3,
          "xref": "x",
          "y": 0,
          "yref": "y"
         },
         {
          "font": {
           "color": "white"
          },
          "showarrow": false,
          "text": "0.0 - 0",
          "x": 4,
          "xref": "x",
          "y": 0,
          "yref": "y"
         },
         {
          "font": {
           "color": "white"
          },
          "showarrow": false,
          "text": "0.0 - 0",
          "x": 0,
          "xref": "x",
          "y": 1,
          "yref": "y"
         },
         {
          "font": {
           "color": "white"
          },
          "showarrow": false,
          "text": "100.0 - 618",
          "x": 1,
          "xref": "x",
          "y": 1,
          "yref": "y"
         },
         {
          "font": {
           "color": "white"
          },
          "showarrow": false,
          "text": "0.0 - 0",
          "x": 2,
          "xref": "x",
          "y": 1,
          "yref": "y"
         },
         {
          "font": {
           "color": "white"
          },
          "showarrow": false,
          "text": "0.0 - 0",
          "x": 3,
          "xref": "x",
          "y": 1,
          "yref": "y"
         },
         {
          "font": {
           "color": "white"
          },
          "showarrow": false,
          "text": "0.0 - 0",
          "x": 4,
          "xref": "x",
          "y": 1,
          "yref": "y"
         },
         {
          "font": {
           "color": "white"
          },
          "showarrow": false,
          "text": "0.0 - 0",
          "x": 0,
          "xref": "x",
          "y": 2,
          "yref": "y"
         },
         {
          "font": {
           "color": "white"
          },
          "showarrow": false,
          "text": "0.0 - 0",
          "x": 1,
          "xref": "x",
          "y": 2,
          "yref": "y"
         },
         {
          "font": {
           "color": "white"
          },
          "showarrow": false,
          "text": "100.0 - 807",
          "x": 2,
          "xref": "x",
          "y": 2,
          "yref": "y"
         },
         {
          "font": {
           "color": "white"
          },
          "showarrow": false,
          "text": "0.0 - 0",
          "x": 3,
          "xref": "x",
          "y": 2,
          "yref": "y"
         },
         {
          "font": {
           "color": "white"
          },
          "showarrow": false,
          "text": "0.0 - 0",
          "x": 4,
          "xref": "x",
          "y": 2,
          "yref": "y"
         },
         {
          "font": {
           "color": "white"
          },
          "showarrow": false,
          "text": "0.0 - 0",
          "x": 0,
          "xref": "x",
          "y": 3,
          "yref": "y"
         },
         {
          "font": {
           "color": "white"
          },
          "showarrow": false,
          "text": "0.0 - 0",
          "x": 1,
          "xref": "x",
          "y": 3,
          "yref": "y"
         },
         {
          "font": {
           "color": "white"
          },
          "showarrow": false,
          "text": "0.0 - 0",
          "x": 2,
          "xref": "x",
          "y": 3,
          "yref": "y"
         },
         {
          "font": {
           "color": "white"
          },
          "showarrow": false,
          "text": "100.0 - 652",
          "x": 3,
          "xref": "x",
          "y": 3,
          "yref": "y"
         },
         {
          "font": {
           "color": "white"
          },
          "showarrow": false,
          "text": "0.0 - 0",
          "x": 4,
          "xref": "x",
          "y": 3,
          "yref": "y"
         },
         {
          "font": {
           "color": "white"
          },
          "showarrow": false,
          "text": "0.0 - 0",
          "x": 0,
          "xref": "x",
          "y": 4,
          "yref": "y"
         },
         {
          "font": {
           "color": "white"
          },
          "showarrow": false,
          "text": "0.0 - 0",
          "x": 1,
          "xref": "x",
          "y": 4,
          "yref": "y"
         },
         {
          "font": {
           "color": "white"
          },
          "showarrow": false,
          "text": "0.0 - 0",
          "x": 2,
          "xref": "x",
          "y": 4,
          "yref": "y"
         },
         {
          "font": {
           "color": "white"
          },
          "showarrow": false,
          "text": "0.0 - 0",
          "x": 3,
          "xref": "x",
          "y": 4,
          "yref": "y"
         },
         {
          "font": {
           "color": "white"
          },
          "showarrow": false,
          "text": "100.0 - 840",
          "x": 4,
          "xref": "x",
          "y": 4,
          "yref": "y"
         }
        ],
        "height": 800,
        "template": {
         "data": {
          "bar": [
           {
            "error_x": {
             "color": "#2a3f5f"
            },
            "error_y": {
             "color": "#2a3f5f"
            },
            "marker": {
             "line": {
              "color": "#E5ECF6",
              "width": 0.5
             },
             "pattern": {
              "fillmode": "overlay",
              "size": 10,
              "solidity": 0.2
             }
            },
            "type": "bar"
           }
          ],
          "barpolar": [
           {
            "marker": {
             "line": {
              "color": "#E5ECF6",
              "width": 0.5
             },
             "pattern": {
              "fillmode": "overlay",
              "size": 10,
              "solidity": 0.2
             }
            },
            "type": "barpolar"
           }
          ],
          "carpet": [
           {
            "aaxis": {
             "endlinecolor": "#2a3f5f",
             "gridcolor": "white",
             "linecolor": "white",
             "minorgridcolor": "white",
             "startlinecolor": "#2a3f5f"
            },
            "baxis": {
             "endlinecolor": "#2a3f5f",
             "gridcolor": "white",
             "linecolor": "white",
             "minorgridcolor": "white",
             "startlinecolor": "#2a3f5f"
            },
            "type": "carpet"
           }
          ],
          "choropleth": [
           {
            "colorbar": {
             "outlinewidth": 0,
             "ticks": ""
            },
            "type": "choropleth"
           }
          ],
          "contour": [
           {
            "colorbar": {
             "outlinewidth": 0,
             "ticks": ""
            },
            "colorscale": [
             [
              0,
              "#0d0887"
             ],
             [
              0.1111111111111111,
              "#46039f"
             ],
             [
              0.2222222222222222,
              "#7201a8"
             ],
             [
              0.3333333333333333,
              "#9c179e"
             ],
             [
              0.4444444444444444,
              "#bd3786"
             ],
             [
              0.5555555555555556,
              "#d8576b"
             ],
             [
              0.6666666666666666,
              "#ed7953"
             ],
             [
              0.7777777777777778,
              "#fb9f3a"
             ],
             [
              0.8888888888888888,
              "#fdca26"
             ],
             [
              1,
              "#f0f921"
             ]
            ],
            "type": "contour"
           }
          ],
          "contourcarpet": [
           {
            "colorbar": {
             "outlinewidth": 0,
             "ticks": ""
            },
            "type": "contourcarpet"
           }
          ],
          "heatmap": [
           {
            "colorbar": {
             "outlinewidth": 0,
             "ticks": ""
            },
            "colorscale": [
             [
              0,
              "#0d0887"
             ],
             [
              0.1111111111111111,
              "#46039f"
             ],
             [
              0.2222222222222222,
              "#7201a8"
             ],
             [
              0.3333333333333333,
              "#9c179e"
             ],
             [
              0.4444444444444444,
              "#bd3786"
             ],
             [
              0.5555555555555556,
              "#d8576b"
             ],
             [
              0.6666666666666666,
              "#ed7953"
             ],
             [
              0.7777777777777778,
              "#fb9f3a"
             ],
             [
              0.8888888888888888,
              "#fdca26"
             ],
             [
              1,
              "#f0f921"
             ]
            ],
            "type": "heatmap"
           }
          ],
          "heatmapgl": [
           {
            "colorbar": {
             "outlinewidth": 0,
             "ticks": ""
            },
            "colorscale": [
             [
              0,
              "#0d0887"
             ],
             [
              0.1111111111111111,
              "#46039f"
             ],
             [
              0.2222222222222222,
              "#7201a8"
             ],
             [
              0.3333333333333333,
              "#9c179e"
             ],
             [
              0.4444444444444444,
              "#bd3786"
             ],
             [
              0.5555555555555556,
              "#d8576b"
             ],
             [
              0.6666666666666666,
              "#ed7953"
             ],
             [
              0.7777777777777778,
              "#fb9f3a"
             ],
             [
              0.8888888888888888,
              "#fdca26"
             ],
             [
              1,
              "#f0f921"
             ]
            ],
            "type": "heatmapgl"
           }
          ],
          "histogram": [
           {
            "marker": {
             "pattern": {
              "fillmode": "overlay",
              "size": 10,
              "solidity": 0.2
             }
            },
            "type": "histogram"
           }
          ],
          "histogram2d": [
           {
            "colorbar": {
             "outlinewidth": 0,
             "ticks": ""
            },
            "colorscale": [
             [
              0,
              "#0d0887"
             ],
             [
              0.1111111111111111,
              "#46039f"
             ],
             [
              0.2222222222222222,
              "#7201a8"
             ],
             [
              0.3333333333333333,
              "#9c179e"
             ],
             [
              0.4444444444444444,
              "#bd3786"
             ],
             [
              0.5555555555555556,
              "#d8576b"
             ],
             [
              0.6666666666666666,
              "#ed7953"
             ],
             [
              0.7777777777777778,
              "#fb9f3a"
             ],
             [
              0.8888888888888888,
              "#fdca26"
             ],
             [
              1,
              "#f0f921"
             ]
            ],
            "type": "histogram2d"
           }
          ],
          "histogram2dcontour": [
           {
            "colorbar": {
             "outlinewidth": 0,
             "ticks": ""
            },
            "colorscale": [
             [
              0,
              "#0d0887"
             ],
             [
              0.1111111111111111,
              "#46039f"
             ],
             [
              0.2222222222222222,
              "#7201a8"
             ],
             [
              0.3333333333333333,
              "#9c179e"
             ],
             [
              0.4444444444444444,
              "#bd3786"
             ],
             [
              0.5555555555555556,
              "#d8576b"
             ],
             [
              0.6666666666666666,
              "#ed7953"
             ],
             [
              0.7777777777777778,
              "#fb9f3a"
             ],
             [
              0.8888888888888888,
              "#fdca26"
             ],
             [
              1,
              "#f0f921"
             ]
            ],
            "type": "histogram2dcontour"
           }
          ],
          "mesh3d": [
           {
            "colorbar": {
             "outlinewidth": 0,
             "ticks": ""
            },
            "type": "mesh3d"
           }
          ],
          "parcoords": [
           {
            "line": {
             "colorbar": {
              "outlinewidth": 0,
              "ticks": ""
             }
            },
            "type": "parcoords"
           }
          ],
          "pie": [
           {
            "automargin": true,
            "type": "pie"
           }
          ],
          "scatter": [
           {
            "fillpattern": {
             "fillmode": "overlay",
             "size": 10,
             "solidity": 0.2
            },
            "type": "scatter"
           }
          ],
          "scatter3d": [
           {
            "line": {
             "colorbar": {
              "outlinewidth": 0,
              "ticks": ""
             }
            },
            "marker": {
             "colorbar": {
              "outlinewidth": 0,
              "ticks": ""
             }
            },
            "type": "scatter3d"
           }
          ],
          "scattercarpet": [
           {
            "marker": {
             "colorbar": {
              "outlinewidth": 0,
              "ticks": ""
             }
            },
            "type": "scattercarpet"
           }
          ],
          "scattergeo": [
           {
            "marker": {
             "colorbar": {
              "outlinewidth": 0,
              "ticks": ""
             }
            },
            "type": "scattergeo"
           }
          ],
          "scattergl": [
           {
            "marker": {
             "colorbar": {
              "outlinewidth": 0,
              "ticks": ""
             }
            },
            "type": "scattergl"
           }
          ],
          "scattermapbox": [
           {
            "marker": {
             "colorbar": {
              "outlinewidth": 0,
              "ticks": ""
             }
            },
            "type": "scattermapbox"
           }
          ],
          "scatterpolar": [
           {
            "marker": {
             "colorbar": {
              "outlinewidth": 0,
              "ticks": ""
             }
            },
            "type": "scatterpolar"
           }
          ],
          "scatterpolargl": [
           {
            "marker": {
             "colorbar": {
              "outlinewidth": 0,
              "ticks": ""
             }
            },
            "type": "scatterpolargl"
           }
          ],
          "scatterternary": [
           {
            "marker": {
             "colorbar": {
              "outlinewidth": 0,
              "ticks": ""
             }
            },
            "type": "scatterternary"
           }
          ],
          "surface": [
           {
            "colorbar": {
             "outlinewidth": 0,
             "ticks": ""
            },
            "colorscale": [
             [
              0,
              "#0d0887"
             ],
             [
              0.1111111111111111,
              "#46039f"
             ],
             [
              0.2222222222222222,
              "#7201a8"
             ],
             [
              0.3333333333333333,
              "#9c179e"
             ],
             [
              0.4444444444444444,
              "#bd3786"
             ],
             [
              0.5555555555555556,
              "#d8576b"
             ],
             [
              0.6666666666666666,
              "#ed7953"
             ],
             [
              0.7777777777777778,
              "#fb9f3a"
             ],
             [
              0.8888888888888888,
              "#fdca26"
             ],
             [
              1,
              "#f0f921"
             ]
            ],
            "type": "surface"
           }
          ],
          "table": [
           {
            "cells": {
             "fill": {
              "color": "#EBF0F8"
             },
             "line": {
              "color": "white"
             }
            },
            "header": {
             "fill": {
              "color": "#C8D4E3"
             },
             "line": {
              "color": "white"
             }
            },
            "type": "table"
           }
          ]
         },
         "layout": {
          "annotationdefaults": {
           "arrowcolor": "#2a3f5f",
           "arrowhead": 0,
           "arrowwidth": 1
          },
          "autotypenumbers": "strict",
          "coloraxis": {
           "colorbar": {
            "outlinewidth": 0,
            "ticks": ""
           }
          },
          "colorscale": {
           "diverging": [
            [
             0,
             "#8e0152"
            ],
            [
             0.1,
             "#c51b7d"
            ],
            [
             0.2,
             "#de77ae"
            ],
            [
             0.3,
             "#f1b6da"
            ],
            [
             0.4,
             "#fde0ef"
            ],
            [
             0.5,
             "#f7f7f7"
            ],
            [
             0.6,
             "#e6f5d0"
            ],
            [
             0.7,
             "#b8e186"
            ],
            [
             0.8,
             "#7fbc41"
            ],
            [
             0.9,
             "#4d9221"
            ],
            [
             1,
             "#276419"
            ]
           ],
           "sequential": [
            [
             0,
             "#0d0887"
            ],
            [
             0.1111111111111111,
             "#46039f"
            ],
            [
             0.2222222222222222,
             "#7201a8"
            ],
            [
             0.3333333333333333,
             "#9c179e"
            ],
            [
             0.4444444444444444,
             "#bd3786"
            ],
            [
             0.5555555555555556,
             "#d8576b"
            ],
            [
             0.6666666666666666,
             "#ed7953"
            ],
            [
             0.7777777777777778,
             "#fb9f3a"
            ],
            [
             0.8888888888888888,
             "#fdca26"
            ],
            [
             1,
             "#f0f921"
            ]
           ],
           "sequentialminus": [
            [
             0,
             "#0d0887"
            ],
            [
             0.1111111111111111,
             "#46039f"
            ],
            [
             0.2222222222222222,
             "#7201a8"
            ],
            [
             0.3333333333333333,
             "#9c179e"
            ],
            [
             0.4444444444444444,
             "#bd3786"
            ],
            [
             0.5555555555555556,
             "#d8576b"
            ],
            [
             0.6666666666666666,
             "#ed7953"
            ],
            [
             0.7777777777777778,
             "#fb9f3a"
            ],
            [
             0.8888888888888888,
             "#fdca26"
            ],
            [
             1,
             "#f0f921"
            ]
           ]
          },
          "colorway": [
           "#636efa",
           "#EF553B",
           "#00cc96",
           "#ab63fa",
           "#FFA15A",
           "#19d3f3",
           "#FF6692",
           "#B6E880",
           "#FF97FF",
           "#FECB52"
          ],
          "font": {
           "color": "#2a3f5f"
          },
          "geo": {
           "bgcolor": "white",
           "lakecolor": "white",
           "landcolor": "#E5ECF6",
           "showlakes": true,
           "showland": true,
           "subunitcolor": "white"
          },
          "hoverlabel": {
           "align": "left"
          },
          "hovermode": "closest",
          "mapbox": {
           "style": "light"
          },
          "paper_bgcolor": "white",
          "plot_bgcolor": "#E5ECF6",
          "polar": {
           "angularaxis": {
            "gridcolor": "white",
            "linecolor": "white",
            "ticks": ""
           },
           "bgcolor": "#E5ECF6",
           "radialaxis": {
            "gridcolor": "white",
            "linecolor": "white",
            "ticks": ""
           }
          },
          "scene": {
           "xaxis": {
            "backgroundcolor": "#E5ECF6",
            "gridcolor": "white",
            "gridwidth": 2,
            "linecolor": "white",
            "showbackground": true,
            "ticks": "",
            "zerolinecolor": "white"
           },
           "yaxis": {
            "backgroundcolor": "#E5ECF6",
            "gridcolor": "white",
            "gridwidth": 2,
            "linecolor": "white",
            "showbackground": true,
            "ticks": "",
            "zerolinecolor": "white"
           },
           "zaxis": {
            "backgroundcolor": "#E5ECF6",
            "gridcolor": "white",
            "gridwidth": 2,
            "linecolor": "white",
            "showbackground": true,
            "ticks": "",
            "zerolinecolor": "white"
           }
          },
          "shapedefaults": {
           "line": {
            "color": "#2a3f5f"
           }
          },
          "ternary": {
           "aaxis": {
            "gridcolor": "white",
            "linecolor": "white",
            "ticks": ""
           },
           "baxis": {
            "gridcolor": "white",
            "linecolor": "white",
            "ticks": ""
           },
           "bgcolor": "#E5ECF6",
           "caxis": {
            "gridcolor": "white",
            "linecolor": "white",
            "ticks": ""
           }
          },
          "title": {
           "x": 0.05
          },
          "xaxis": {
           "automargin": true,
           "gridcolor": "white",
           "linecolor": "white",
           "ticks": "",
           "title": {
            "standoff": 15
           },
           "zerolinecolor": "white",
           "zerolinewidth": 2
          },
          "yaxis": {
           "automargin": true,
           "gridcolor": "white",
           "linecolor": "white",
           "ticks": "",
           "title": {
            "standoff": 15
           },
           "zerolinecolor": "white",
           "zerolinewidth": 2
          }
         }
        },
        "title": {
         "text": "Conf Matrix"
        },
        "width": 800,
        "xaxis": {
         "title": {
          "text": "Predicted value"
         }
        },
        "yaxis": {
         "title": {
          "text": "Real value"
         }
        }
       }
      }
     },
     "metadata": {},
     "output_type": "display_data"
    }
   ],
   "source": [
    "#Como se veria la matriz de confusión PERO ESTA ES LA PERFECTA\n",
    "display(plot_confusion_matrix(y_test,y_test))"
   ]
  },
  {
   "cell_type": "code",
   "execution_count": 28,
   "metadata": {},
   "outputs": [],
   "source": [
    "#SIMULACIONES"
   ]
  },
  {
   "cell_type": "code",
   "execution_count": 29,
   "metadata": {},
   "outputs": [],
   "source": [
    "#Pruebo un modelo alternativo donde en vez de usar la version multiclass real de lightGBM utilizo One vs All\n",
    "\n",
    "lgb_params = params = {\n",
    "                        'objective': 'multiclassova', # ESTA HACE MUCHAS LOGITICAS COMBINADAS PERO SIEMPRE DECIDE QUEDARSE CON UNA \n",
    "                        'num_class': len(y_train.unique())\n",
    "                        }\n",
    "\n",
    "\n",
    "lgb_train_dataset = lgb.Dataset(data=X_train,\n",
    "                                label=y_train)\n",
    "\n",
    "\n",
    "lgb_model = lgb.train(lgb_params,\n",
    "                      lgb_train_dataset)"
   ]
  },
  {
   "cell_type": "code",
   "execution_count": 30,
   "metadata": {},
   "outputs": [
    {
     "data": {
      "application/vnd.plotly.v1+json": {
       "config": {
        "plotlyServerURL": "https://plot.ly"
       },
       "data": [
        {
         "type": "heatmap",
         "x": [
          0,
          1,
          2,
          3,
          4
         ],
         "y": [
          0,
          1,
          2,
          3,
          4
         ],
         "z": [
          [
           45.1219512195122,
           18.29268292682927,
           25.609756097560975,
           2.4390243902439024,
           8.536585365853659
          ],
          [
           0.6472491909385114,
           48.22006472491909,
           25.080906148867317,
           10.841423948220065,
           15.210355987055015
          ],
          [
           0.37174721189591076,
           16.232961586121437,
           52.66418835192069,
           11.648079306071871,
           19.083023543990087
          ],
          [
           0.9202453987730062,
           13.03680981595092,
           25.920245398773005,
           41.56441717791411,
           18.55828220858896
          ],
          [
           0.4761904761904762,
           9.285714285714286,
           16.19047619047619,
           9.047619047619047,
           65
          ]
         ]
        }
       ],
       "layout": {
        "annotations": [
         {
          "font": {
           "color": "white"
          },
          "showarrow": false,
          "text": "45.1 - 37",
          "x": 0,
          "xref": "x",
          "y": 0,
          "yref": "y"
         },
         {
          "font": {
           "color": "white"
          },
          "showarrow": false,
          "text": "18.3 - 15",
          "x": 1,
          "xref": "x",
          "y": 0,
          "yref": "y"
         },
         {
          "font": {
           "color": "white"
          },
          "showarrow": false,
          "text": "25.6 - 21",
          "x": 2,
          "xref": "x",
          "y": 0,
          "yref": "y"
         },
         {
          "font": {
           "color": "white"
          },
          "showarrow": false,
          "text": "2.4 - 2",
          "x": 3,
          "xref": "x",
          "y": 0,
          "yref": "y"
         },
         {
          "font": {
           "color": "white"
          },
          "showarrow": false,
          "text": "8.5 - 7",
          "x": 4,
          "xref": "x",
          "y": 0,
          "yref": "y"
         },
         {
          "font": {
           "color": "white"
          },
          "showarrow": false,
          "text": "0.6 - 4",
          "x": 0,
          "xref": "x",
          "y": 1,
          "yref": "y"
         },
         {
          "font": {
           "color": "white"
          },
          "showarrow": false,
          "text": "48.2 - 298",
          "x": 1,
          "xref": "x",
          "y": 1,
          "yref": "y"
         },
         {
          "font": {
           "color": "white"
          },
          "showarrow": false,
          "text": "25.1 - 155",
          "x": 2,
          "xref": "x",
          "y": 1,
          "yref": "y"
         },
         {
          "font": {
           "color": "white"
          },
          "showarrow": false,
          "text": "10.8 - 67",
          "x": 3,
          "xref": "x",
          "y": 1,
          "yref": "y"
         },
         {
          "font": {
           "color": "white"
          },
          "showarrow": false,
          "text": "15.2 - 94",
          "x": 4,
          "xref": "x",
          "y": 1,
          "yref": "y"
         },
         {
          "font": {
           "color": "white"
          },
          "showarrow": false,
          "text": "0.4 - 3",
          "x": 0,
          "xref": "x",
          "y": 2,
          "yref": "y"
         },
         {
          "font": {
           "color": "white"
          },
          "showarrow": false,
          "text": "16.2 - 131",
          "x": 1,
          "xref": "x",
          "y": 2,
          "yref": "y"
         },
         {
          "font": {
           "color": "white"
          },
          "showarrow": false,
          "text": "52.7 - 425",
          "x": 2,
          "xref": "x",
          "y": 2,
          "yref": "y"
         },
         {
          "font": {
           "color": "white"
          },
          "showarrow": false,
          "text": "11.6 - 94",
          "x": 3,
          "xref": "x",
          "y": 2,
          "yref": "y"
         },
         {
          "font": {
           "color": "white"
          },
          "showarrow": false,
          "text": "19.1 - 154",
          "x": 4,
          "xref": "x",
          "y": 2,
          "yref": "y"
         },
         {
          "font": {
           "color": "white"
          },
          "showarrow": false,
          "text": "0.9 - 6",
          "x": 0,
          "xref": "x",
          "y": 3,
          "yref": "y"
         },
         {
          "font": {
           "color": "white"
          },
          "showarrow": false,
          "text": "13.0 - 85",
          "x": 1,
          "xref": "x",
          "y": 3,
          "yref": "y"
         },
         {
          "font": {
           "color": "white"
          },
          "showarrow": false,
          "text": "25.9 - 169",
          "x": 2,
          "xref": "x",
          "y": 3,
          "yref": "y"
         },
         {
          "font": {
           "color": "white"
          },
          "showarrow": false,
          "text": "41.6 - 271",
          "x": 3,
          "xref": "x",
          "y": 3,
          "yref": "y"
         },
         {
          "font": {
           "color": "white"
          },
          "showarrow": false,
          "text": "18.6 - 121",
          "x": 4,
          "xref": "x",
          "y": 3,
          "yref": "y"
         },
         {
          "font": {
           "color": "white"
          },
          "showarrow": false,
          "text": "0.5 - 4",
          "x": 0,
          "xref": "x",
          "y": 4,
          "yref": "y"
         },
         {
          "font": {
           "color": "white"
          },
          "showarrow": false,
          "text": "9.3 - 78",
          "x": 1,
          "xref": "x",
          "y": 4,
          "yref": "y"
         },
         {
          "font": {
           "color": "white"
          },
          "showarrow": false,
          "text": "16.2 - 136",
          "x": 2,
          "xref": "x",
          "y": 4,
          "yref": "y"
         },
         {
          "font": {
           "color": "white"
          },
          "showarrow": false,
          "text": "9.0 - 76",
          "x": 3,
          "xref": "x",
          "y": 4,
          "yref": "y"
         },
         {
          "font": {
           "color": "white"
          },
          "showarrow": false,
          "text": "65.0 - 546",
          "x": 4,
          "xref": "x",
          "y": 4,
          "yref": "y"
         }
        ],
        "height": 800,
        "template": {
         "data": {
          "bar": [
           {
            "error_x": {
             "color": "#2a3f5f"
            },
            "error_y": {
             "color": "#2a3f5f"
            },
            "marker": {
             "line": {
              "color": "#E5ECF6",
              "width": 0.5
             },
             "pattern": {
              "fillmode": "overlay",
              "size": 10,
              "solidity": 0.2
             }
            },
            "type": "bar"
           }
          ],
          "barpolar": [
           {
            "marker": {
             "line": {
              "color": "#E5ECF6",
              "width": 0.5
             },
             "pattern": {
              "fillmode": "overlay",
              "size": 10,
              "solidity": 0.2
             }
            },
            "type": "barpolar"
           }
          ],
          "carpet": [
           {
            "aaxis": {
             "endlinecolor": "#2a3f5f",
             "gridcolor": "white",
             "linecolor": "white",
             "minorgridcolor": "white",
             "startlinecolor": "#2a3f5f"
            },
            "baxis": {
             "endlinecolor": "#2a3f5f",
             "gridcolor": "white",
             "linecolor": "white",
             "minorgridcolor": "white",
             "startlinecolor": "#2a3f5f"
            },
            "type": "carpet"
           }
          ],
          "choropleth": [
           {
            "colorbar": {
             "outlinewidth": 0,
             "ticks": ""
            },
            "type": "choropleth"
           }
          ],
          "contour": [
           {
            "colorbar": {
             "outlinewidth": 0,
             "ticks": ""
            },
            "colorscale": [
             [
              0,
              "#0d0887"
             ],
             [
              0.1111111111111111,
              "#46039f"
             ],
             [
              0.2222222222222222,
              "#7201a8"
             ],
             [
              0.3333333333333333,
              "#9c179e"
             ],
             [
              0.4444444444444444,
              "#bd3786"
             ],
             [
              0.5555555555555556,
              "#d8576b"
             ],
             [
              0.6666666666666666,
              "#ed7953"
             ],
             [
              0.7777777777777778,
              "#fb9f3a"
             ],
             [
              0.8888888888888888,
              "#fdca26"
             ],
             [
              1,
              "#f0f921"
             ]
            ],
            "type": "contour"
           }
          ],
          "contourcarpet": [
           {
            "colorbar": {
             "outlinewidth": 0,
             "ticks": ""
            },
            "type": "contourcarpet"
           }
          ],
          "heatmap": [
           {
            "colorbar": {
             "outlinewidth": 0,
             "ticks": ""
            },
            "colorscale": [
             [
              0,
              "#0d0887"
             ],
             [
              0.1111111111111111,
              "#46039f"
             ],
             [
              0.2222222222222222,
              "#7201a8"
             ],
             [
              0.3333333333333333,
              "#9c179e"
             ],
             [
              0.4444444444444444,
              "#bd3786"
             ],
             [
              0.5555555555555556,
              "#d8576b"
             ],
             [
              0.6666666666666666,
              "#ed7953"
             ],
             [
              0.7777777777777778,
              "#fb9f3a"
             ],
             [
              0.8888888888888888,
              "#fdca26"
             ],
             [
              1,
              "#f0f921"
             ]
            ],
            "type": "heatmap"
           }
          ],
          "heatmapgl": [
           {
            "colorbar": {
             "outlinewidth": 0,
             "ticks": ""
            },
            "colorscale": [
             [
              0,
              "#0d0887"
             ],
             [
              0.1111111111111111,
              "#46039f"
             ],
             [
              0.2222222222222222,
              "#7201a8"
             ],
             [
              0.3333333333333333,
              "#9c179e"
             ],
             [
              0.4444444444444444,
              "#bd3786"
             ],
             [
              0.5555555555555556,
              "#d8576b"
             ],
             [
              0.6666666666666666,
              "#ed7953"
             ],
             [
              0.7777777777777778,
              "#fb9f3a"
             ],
             [
              0.8888888888888888,
              "#fdca26"
             ],
             [
              1,
              "#f0f921"
             ]
            ],
            "type": "heatmapgl"
           }
          ],
          "histogram": [
           {
            "marker": {
             "pattern": {
              "fillmode": "overlay",
              "size": 10,
              "solidity": 0.2
             }
            },
            "type": "histogram"
           }
          ],
          "histogram2d": [
           {
            "colorbar": {
             "outlinewidth": 0,
             "ticks": ""
            },
            "colorscale": [
             [
              0,
              "#0d0887"
             ],
             [
              0.1111111111111111,
              "#46039f"
             ],
             [
              0.2222222222222222,
              "#7201a8"
             ],
             [
              0.3333333333333333,
              "#9c179e"
             ],
             [
              0.4444444444444444,
              "#bd3786"
             ],
             [
              0.5555555555555556,
              "#d8576b"
             ],
             [
              0.6666666666666666,
              "#ed7953"
             ],
             [
              0.7777777777777778,
              "#fb9f3a"
             ],
             [
              0.8888888888888888,
              "#fdca26"
             ],
             [
              1,
              "#f0f921"
             ]
            ],
            "type": "histogram2d"
           }
          ],
          "histogram2dcontour": [
           {
            "colorbar": {
             "outlinewidth": 0,
             "ticks": ""
            },
            "colorscale": [
             [
              0,
              "#0d0887"
             ],
             [
              0.1111111111111111,
              "#46039f"
             ],
             [
              0.2222222222222222,
              "#7201a8"
             ],
             [
              0.3333333333333333,
              "#9c179e"
             ],
             [
              0.4444444444444444,
              "#bd3786"
             ],
             [
              0.5555555555555556,
              "#d8576b"
             ],
             [
              0.6666666666666666,
              "#ed7953"
             ],
             [
              0.7777777777777778,
              "#fb9f3a"
             ],
             [
              0.8888888888888888,
              "#fdca26"
             ],
             [
              1,
              "#f0f921"
             ]
            ],
            "type": "histogram2dcontour"
           }
          ],
          "mesh3d": [
           {
            "colorbar": {
             "outlinewidth": 0,
             "ticks": ""
            },
            "type": "mesh3d"
           }
          ],
          "parcoords": [
           {
            "line": {
             "colorbar": {
              "outlinewidth": 0,
              "ticks": ""
             }
            },
            "type": "parcoords"
           }
          ],
          "pie": [
           {
            "automargin": true,
            "type": "pie"
           }
          ],
          "scatter": [
           {
            "fillpattern": {
             "fillmode": "overlay",
             "size": 10,
             "solidity": 0.2
            },
            "type": "scatter"
           }
          ],
          "scatter3d": [
           {
            "line": {
             "colorbar": {
              "outlinewidth": 0,
              "ticks": ""
             }
            },
            "marker": {
             "colorbar": {
              "outlinewidth": 0,
              "ticks": ""
             }
            },
            "type": "scatter3d"
           }
          ],
          "scattercarpet": [
           {
            "marker": {
             "colorbar": {
              "outlinewidth": 0,
              "ticks": ""
             }
            },
            "type": "scattercarpet"
           }
          ],
          "scattergeo": [
           {
            "marker": {
             "colorbar": {
              "outlinewidth": 0,
              "ticks": ""
             }
            },
            "type": "scattergeo"
           }
          ],
          "scattergl": [
           {
            "marker": {
             "colorbar": {
              "outlinewidth": 0,
              "ticks": ""
             }
            },
            "type": "scattergl"
           }
          ],
          "scattermapbox": [
           {
            "marker": {
             "colorbar": {
              "outlinewidth": 0,
              "ticks": ""
             }
            },
            "type": "scattermapbox"
           }
          ],
          "scatterpolar": [
           {
            "marker": {
             "colorbar": {
              "outlinewidth": 0,
              "ticks": ""
             }
            },
            "type": "scatterpolar"
           }
          ],
          "scatterpolargl": [
           {
            "marker": {
             "colorbar": {
              "outlinewidth": 0,
              "ticks": ""
             }
            },
            "type": "scatterpolargl"
           }
          ],
          "scatterternary": [
           {
            "marker": {
             "colorbar": {
              "outlinewidth": 0,
              "ticks": ""
             }
            },
            "type": "scatterternary"
           }
          ],
          "surface": [
           {
            "colorbar": {
             "outlinewidth": 0,
             "ticks": ""
            },
            "colorscale": [
             [
              0,
              "#0d0887"
             ],
             [
              0.1111111111111111,
              "#46039f"
             ],
             [
              0.2222222222222222,
              "#7201a8"
             ],
             [
              0.3333333333333333,
              "#9c179e"
             ],
             [
              0.4444444444444444,
              "#bd3786"
             ],
             [
              0.5555555555555556,
              "#d8576b"
             ],
             [
              0.6666666666666666,
              "#ed7953"
             ],
             [
              0.7777777777777778,
              "#fb9f3a"
             ],
             [
              0.8888888888888888,
              "#fdca26"
             ],
             [
              1,
              "#f0f921"
             ]
            ],
            "type": "surface"
           }
          ],
          "table": [
           {
            "cells": {
             "fill": {
              "color": "#EBF0F8"
             },
             "line": {
              "color": "white"
             }
            },
            "header": {
             "fill": {
              "color": "#C8D4E3"
             },
             "line": {
              "color": "white"
             }
            },
            "type": "table"
           }
          ]
         },
         "layout": {
          "annotationdefaults": {
           "arrowcolor": "#2a3f5f",
           "arrowhead": 0,
           "arrowwidth": 1
          },
          "autotypenumbers": "strict",
          "coloraxis": {
           "colorbar": {
            "outlinewidth": 0,
            "ticks": ""
           }
          },
          "colorscale": {
           "diverging": [
            [
             0,
             "#8e0152"
            ],
            [
             0.1,
             "#c51b7d"
            ],
            [
             0.2,
             "#de77ae"
            ],
            [
             0.3,
             "#f1b6da"
            ],
            [
             0.4,
             "#fde0ef"
            ],
            [
             0.5,
             "#f7f7f7"
            ],
            [
             0.6,
             "#e6f5d0"
            ],
            [
             0.7,
             "#b8e186"
            ],
            [
             0.8,
             "#7fbc41"
            ],
            [
             0.9,
             "#4d9221"
            ],
            [
             1,
             "#276419"
            ]
           ],
           "sequential": [
            [
             0,
             "#0d0887"
            ],
            [
             0.1111111111111111,
             "#46039f"
            ],
            [
             0.2222222222222222,
             "#7201a8"
            ],
            [
             0.3333333333333333,
             "#9c179e"
            ],
            [
             0.4444444444444444,
             "#bd3786"
            ],
            [
             0.5555555555555556,
             "#d8576b"
            ],
            [
             0.6666666666666666,
             "#ed7953"
            ],
            [
             0.7777777777777778,
             "#fb9f3a"
            ],
            [
             0.8888888888888888,
             "#fdca26"
            ],
            [
             1,
             "#f0f921"
            ]
           ],
           "sequentialminus": [
            [
             0,
             "#0d0887"
            ],
            [
             0.1111111111111111,
             "#46039f"
            ],
            [
             0.2222222222222222,
             "#7201a8"
            ],
            [
             0.3333333333333333,
             "#9c179e"
            ],
            [
             0.4444444444444444,
             "#bd3786"
            ],
            [
             0.5555555555555556,
             "#d8576b"
            ],
            [
             0.6666666666666666,
             "#ed7953"
            ],
            [
             0.7777777777777778,
             "#fb9f3a"
            ],
            [
             0.8888888888888888,
             "#fdca26"
            ],
            [
             1,
             "#f0f921"
            ]
           ]
          },
          "colorway": [
           "#636efa",
           "#EF553B",
           "#00cc96",
           "#ab63fa",
           "#FFA15A",
           "#19d3f3",
           "#FF6692",
           "#B6E880",
           "#FF97FF",
           "#FECB52"
          ],
          "font": {
           "color": "#2a3f5f"
          },
          "geo": {
           "bgcolor": "white",
           "lakecolor": "white",
           "landcolor": "#E5ECF6",
           "showlakes": true,
           "showland": true,
           "subunitcolor": "white"
          },
          "hoverlabel": {
           "align": "left"
          },
          "hovermode": "closest",
          "mapbox": {
           "style": "light"
          },
          "paper_bgcolor": "white",
          "plot_bgcolor": "#E5ECF6",
          "polar": {
           "angularaxis": {
            "gridcolor": "white",
            "linecolor": "white",
            "ticks": ""
           },
           "bgcolor": "#E5ECF6",
           "radialaxis": {
            "gridcolor": "white",
            "linecolor": "white",
            "ticks": ""
           }
          },
          "scene": {
           "xaxis": {
            "backgroundcolor": "#E5ECF6",
            "gridcolor": "white",
            "gridwidth": 2,
            "linecolor": "white",
            "showbackground": true,
            "ticks": "",
            "zerolinecolor": "white"
           },
           "yaxis": {
            "backgroundcolor": "#E5ECF6",
            "gridcolor": "white",
            "gridwidth": 2,
            "linecolor": "white",
            "showbackground": true,
            "ticks": "",
            "zerolinecolor": "white"
           },
           "zaxis": {
            "backgroundcolor": "#E5ECF6",
            "gridcolor": "white",
            "gridwidth": 2,
            "linecolor": "white",
            "showbackground": true,
            "ticks": "",
            "zerolinecolor": "white"
           }
          },
          "shapedefaults": {
           "line": {
            "color": "#2a3f5f"
           }
          },
          "ternary": {
           "aaxis": {
            "gridcolor": "white",
            "linecolor": "white",
            "ticks": ""
           },
           "baxis": {
            "gridcolor": "white",
            "linecolor": "white",
            "ticks": ""
           },
           "bgcolor": "#E5ECF6",
           "caxis": {
            "gridcolor": "white",
            "linecolor": "white",
            "ticks": ""
           }
          },
          "title": {
           "x": 0.05
          },
          "xaxis": {
           "automargin": true,
           "gridcolor": "white",
           "linecolor": "white",
           "ticks": "",
           "title": {
            "standoff": 15
           },
           "zerolinecolor": "white",
           "zerolinewidth": 2
          },
          "yaxis": {
           "automargin": true,
           "gridcolor": "white",
           "linecolor": "white",
           "ticks": "",
           "title": {
            "standoff": 15
           },
           "zerolinecolor": "white",
           "zerolinewidth": 2
          }
         }
        },
        "title": {
         "text": "Conf Matrix"
        },
        "width": 800,
        "xaxis": {
         "title": {
          "text": "Predicted value"
         }
        },
        "yaxis": {
         "title": {
          "text": "Real value"
         }
        }
       }
      }
     },
     "metadata": {},
     "output_type": "display_data"
    },
    {
     "data": {
      "text/plain": [
       "{'kappa': 0.465889464194431,\n",
       " 'accuracy': 0.5258419473157719,\n",
       " 'balanced_accuracy': 0.5051412429485322}"
      ]
     },
     "execution_count": 30,
     "metadata": {},
     "output_type": "execute_result"
    }
   ],
   "source": [
    "#MAtriz de confusion y Kappa dfe OVA\n",
    "y_pred = lgb_model.predict(X_test).argmax(axis=1)\n",
    "\n",
    "display(plot_confusion_matrix(y_test,y_pred))\n",
    "\n",
    "{'kappa':cohen_kappa_score(y_test,\n",
    "                y_pred,\n",
    "                weights = 'quadratic'),\n",
    " 'accuracy':accuracy_score(y_test,y_pred),\n",
    " 'balanced_accuracy':balanced_accuracy_score(y_test,y_pred)}\n",
    "\n",
    "\n"
   ]
  },
  {
   "cell_type": "code",
   "execution_count": 31,
   "metadata": {},
   "outputs": [],
   "source": [
    "#USAR MULTINOVA MEJORA KAPPA OSEA MI MODELO SE ACERCA MAS AL ORIG"
   ]
  },
  {
   "cell_type": "markdown",
   "metadata": {},
   "source": [
    "## Optimizacion de hiperparametros modelo train/test"
   ]
  },
  {
   "cell_type": "code",
   "execution_count": 32,
   "metadata": {},
   "outputs": [],
   "source": [
    "#AHORA SUMAMOS HIPERPARAMETROS PARA VER QUE PASA CON LGBM"
   ]
  },
  {
   "cell_type": "code",
   "execution_count": 33,
   "metadata": {},
   "outputs": [],
   "source": [
    "\n",
    "#Funcion que vamos a optimizar. Optuna requiere que usemos el objeto trial para generar los parametros a optimizar\n",
    "def lgb_objective(trial):\n",
    "    #PArametros para LightGBM\n",
    "    lgb_params = {      \n",
    "                        #PArametros fijos\n",
    "                        'objective': 'multiclass',\n",
    "                        'verbosity':-1,\n",
    "                        'num_class': len(y_train.unique()),\n",
    "                        #Hiperparametros a optimizar utilizando suggest_float o suggest_int segun el tipo de dato\n",
    "                        #Se indica el nombre del parametro, valor minimo, valor maximo \n",
    "                        #en elgunos casos el parametro log=True para parametros que requieren buscar en esa escala\n",
    "                        'lambda_l1': trial.suggest_float('lambda_l1', 1e-8, 10.0, log=True),\n",
    "                        'lambda_l2': trial.suggest_float('lambda_l2', 1e-8, 10.0, log=True),\n",
    "                        'num_leaves': trial.suggest_int('num_leaves', 2, 256),\n",
    "                        'feature_fraction': trial.suggest_float('feature_fraction', 0.4, 1.0),\n",
    "                        'bagging_fraction': trial.suggest_float('bagging_fraction', 0.4, 1.0),\n",
    "                        'bagging_freq': trial.suggest_int('bagging_freq', 1, 7),\n",
    "                        'min_child_samples': trial.suggest_int('min_child_samples', 5, 100),\n",
    "                        } \n",
    "\n",
    "    #Genero objeto dataset de entrenamiento\n",
    "    lgb_train_dataset = lgb.Dataset(data=X_train,\n",
    "                                    label=y_train)\n",
    "\n",
    "    #ajuste de modelo\n",
    "    lgb_model = lgb.train(lgb_params,\n",
    "                        lgb_train_dataset)\n",
    "    \n",
    "    #Devuelvo el score en test\n",
    "    return(cohen_kappa_score(y_test,lgb_model.predict(X_test).argmax(axis=1),\n",
    "                             weights = 'quadratic'))"
   ]
  },
  {
   "cell_type": "code",
   "execution_count": 34,
   "metadata": {},
   "outputs": [
    {
     "name": "stderr",
     "output_type": "stream",
     "text": [
      "[I 2024-08-18 20:06:39,331] Using an existing study with name '04 - LGB Multiclass' instead of creating a new one.\n"
     ]
    }
   ],
   "source": [
    "#Defino el estudio a optimizar\n",
    "study = optuna.create_study(direction='maximize', #buscamos maximizar la metrica\n",
    "                            storage=\"sqlite:///work/db.sqlite3\",  # Specify the storage URL here.\n",
    "                            study_name=\"04 - LGB Multiclass\", #nombre del experimento\n",
    "                            load_if_exists=True) #continuar si ya existe\n",
    "\n",
    "#Corremos 100 trials para buscar mejores parametros\n",
    "study.optimize(lgb_objective, n_trials=100)"
   ]
  },
  {
   "cell_type": "code",
   "execution_count": null,
   "metadata": {},
   "outputs": [],
   "source": [
    "#corriendo esto en terminal deberia ver el dashboard \n",
    "#optuna-dashboard sqlite:///work/db.sqlite3 --artifact-dir /work/optuna_artifacts --port 8081"
   ]
  },
  {
   "cell_type": "code",
   "execution_count": null,
   "metadata": {},
   "outputs": [
    {
     "data": {
      "text/plain": [
       "{'lambda_l1': 0.00016911420117746327,\n",
       " 'lambda_l2': 3.0291532676782044e-07,\n",
       " 'num_leaves': 23,\n",
       " 'feature_fraction': 0.9710839320963843,\n",
       " 'bagging_fraction': 0.6006057268679922,\n",
       " 'bagging_freq': 6,\n",
       " 'min_child_samples': 16}"
      ]
     },
     "execution_count": 30,
     "metadata": {},
     "output_type": "execute_result"
    }
   ],
   "source": [
    "#Obtenemos mejor resultado\n",
    "study.best_params"
   ]
  },
  {
   "cell_type": "code",
   "execution_count": null,
   "metadata": {},
   "outputs": [
    {
     "data": {
      "application/vnd.plotly.v1+json": {
       "config": {
        "plotlyServerURL": "https://plot.ly"
       },
       "data": [
        {
         "type": "heatmap",
         "x": [
          0,
          1,
          2,
          3,
          4
         ],
         "y": [
          0,
          1,
          2,
          3,
          4
         ],
         "z": [
          [
           3.6585365853658534,
           31.70731707317073,
           26.82926829268293,
           3.6585365853658534,
           34.146341463414636
          ],
          [
           0.8090614886731391,
           25.728155339805824,
           41.10032362459547,
           8.737864077669903,
           23.624595469255663
          ],
          [
           0.24783147459727387,
           20.44609665427509,
           36.67905824039653,
           12.51548946716233,
           30.111524163568777
          ],
          [
           0.4601226993865031,
           15.030674846625766,
           35.12269938650307,
           19.018404907975462,
           30.368098159509206
          ],
          [
           0.2380952380952381,
           12.5,
           22.142857142857142,
           8.333333333333332,
           56.785714285714285
          ]
         ]
        }
       ],
       "layout": {
        "annotations": [
         {
          "font": {
           "color": "white"
          },
          "showarrow": false,
          "text": "3.7 - 3",
          "x": 0,
          "xref": "x",
          "y": 0,
          "yref": "y"
         },
         {
          "font": {
           "color": "white"
          },
          "showarrow": false,
          "text": "31.7 - 26",
          "x": 1,
          "xref": "x",
          "y": 0,
          "yref": "y"
         },
         {
          "font": {
           "color": "white"
          },
          "showarrow": false,
          "text": "26.8 - 22",
          "x": 2,
          "xref": "x",
          "y": 0,
          "yref": "y"
         },
         {
          "font": {
           "color": "white"
          },
          "showarrow": false,
          "text": "3.7 - 3",
          "x": 3,
          "xref": "x",
          "y": 0,
          "yref": "y"
         },
         {
          "font": {
           "color": "white"
          },
          "showarrow": false,
          "text": "34.1 - 28",
          "x": 4,
          "xref": "x",
          "y": 0,
          "yref": "y"
         },
         {
          "font": {
           "color": "white"
          },
          "showarrow": false,
          "text": "0.8 - 5",
          "x": 0,
          "xref": "x",
          "y": 1,
          "yref": "y"
         },
         {
          "font": {
           "color": "white"
          },
          "showarrow": false,
          "text": "25.7 - 159",
          "x": 1,
          "xref": "x",
          "y": 1,
          "yref": "y"
         },
         {
          "font": {
           "color": "white"
          },
          "showarrow": false,
          "text": "41.1 - 254",
          "x": 2,
          "xref": "x",
          "y": 1,
          "yref": "y"
         },
         {
          "font": {
           "color": "white"
          },
          "showarrow": false,
          "text": "8.7 - 54",
          "x": 3,
          "xref": "x",
          "y": 1,
          "yref": "y"
         },
         {
          "font": {
           "color": "white"
          },
          "showarrow": false,
          "text": "23.6 - 146",
          "x": 4,
          "xref": "x",
          "y": 1,
          "yref": "y"
         },
         {
          "font": {
           "color": "white"
          },
          "showarrow": false,
          "text": "0.2 - 2",
          "x": 0,
          "xref": "x",
          "y": 2,
          "yref": "y"
         },
         {
          "font": {
           "color": "white"
          },
          "showarrow": false,
          "text": "20.4 - 165",
          "x": 1,
          "xref": "x",
          "y": 2,
          "yref": "y"
         },
         {
          "font": {
           "color": "white"
          },
          "showarrow": false,
          "text": "36.7 - 296",
          "x": 2,
          "xref": "x",
          "y": 2,
          "yref": "y"
         },
         {
          "font": {
           "color": "white"
          },
          "showarrow": false,
          "text": "12.5 - 101",
          "x": 3,
          "xref": "x",
          "y": 2,
          "yref": "y"
         },
         {
          "font": {
           "color": "white"
          },
          "showarrow": false,
          "text": "30.1 - 243",
          "x": 4,
          "xref": "x",
          "y": 2,
          "yref": "y"
         },
         {
          "font": {
           "color": "white"
          },
          "showarrow": false,
          "text": "0.5 - 3",
          "x": 0,
          "xref": "x",
          "y": 3,
          "yref": "y"
         },
         {
          "font": {
           "color": "white"
          },
          "showarrow": false,
          "text": "15.0 - 98",
          "x": 1,
          "xref": "x",
          "y": 3,
          "yref": "y"
         },
         {
          "font": {
           "color": "white"
          },
          "showarrow": false,
          "text": "35.1 - 229",
          "x": 2,
          "xref": "x",
          "y": 3,
          "yref": "y"
         },
         {
          "font": {
           "color": "white"
          },
          "showarrow": false,
          "text": "19.0 - 124",
          "x": 3,
          "xref": "x",
          "y": 3,
          "yref": "y"
         },
         {
          "font": {
           "color": "white"
          },
          "showarrow": false,
          "text": "30.4 - 198",
          "x": 4,
          "xref": "x",
          "y": 3,
          "yref": "y"
         },
         {
          "font": {
           "color": "white"
          },
          "showarrow": false,
          "text": "0.2 - 2",
          "x": 0,
          "xref": "x",
          "y": 4,
          "yref": "y"
         },
         {
          "font": {
           "color": "white"
          },
          "showarrow": false,
          "text": "12.5 - 105",
          "x": 1,
          "xref": "x",
          "y": 4,
          "yref": "y"
         },
         {
          "font": {
           "color": "white"
          },
          "showarrow": false,
          "text": "22.1 - 186",
          "x": 2,
          "xref": "x",
          "y": 4,
          "yref": "y"
         },
         {
          "font": {
           "color": "white"
          },
          "showarrow": false,
          "text": "8.3 - 70",
          "x": 3,
          "xref": "x",
          "y": 4,
          "yref": "y"
         },
         {
          "font": {
           "color": "white"
          },
          "showarrow": false,
          "text": "56.8 - 477",
          "x": 4,
          "xref": "x",
          "y": 4,
          "yref": "y"
         }
        ],
        "height": 800,
        "template": {
         "data": {
          "bar": [
           {
            "error_x": {
             "color": "#2a3f5f"
            },
            "error_y": {
             "color": "#2a3f5f"
            },
            "marker": {
             "line": {
              "color": "#E5ECF6",
              "width": 0.5
             },
             "pattern": {
              "fillmode": "overlay",
              "size": 10,
              "solidity": 0.2
             }
            },
            "type": "bar"
           }
          ],
          "barpolar": [
           {
            "marker": {
             "line": {
              "color": "#E5ECF6",
              "width": 0.5
             },
             "pattern": {
              "fillmode": "overlay",
              "size": 10,
              "solidity": 0.2
             }
            },
            "type": "barpolar"
           }
          ],
          "carpet": [
           {
            "aaxis": {
             "endlinecolor": "#2a3f5f",
             "gridcolor": "white",
             "linecolor": "white",
             "minorgridcolor": "white",
             "startlinecolor": "#2a3f5f"
            },
            "baxis": {
             "endlinecolor": "#2a3f5f",
             "gridcolor": "white",
             "linecolor": "white",
             "minorgridcolor": "white",
             "startlinecolor": "#2a3f5f"
            },
            "type": "carpet"
           }
          ],
          "choropleth": [
           {
            "colorbar": {
             "outlinewidth": 0,
             "ticks": ""
            },
            "type": "choropleth"
           }
          ],
          "contour": [
           {
            "colorbar": {
             "outlinewidth": 0,
             "ticks": ""
            },
            "colorscale": [
             [
              0,
              "#0d0887"
             ],
             [
              0.1111111111111111,
              "#46039f"
             ],
             [
              0.2222222222222222,
              "#7201a8"
             ],
             [
              0.3333333333333333,
              "#9c179e"
             ],
             [
              0.4444444444444444,
              "#bd3786"
             ],
             [
              0.5555555555555556,
              "#d8576b"
             ],
             [
              0.6666666666666666,
              "#ed7953"
             ],
             [
              0.7777777777777778,
              "#fb9f3a"
             ],
             [
              0.8888888888888888,
              "#fdca26"
             ],
             [
              1,
              "#f0f921"
             ]
            ],
            "type": "contour"
           }
          ],
          "contourcarpet": [
           {
            "colorbar": {
             "outlinewidth": 0,
             "ticks": ""
            },
            "type": "contourcarpet"
           }
          ],
          "heatmap": [
           {
            "colorbar": {
             "outlinewidth": 0,
             "ticks": ""
            },
            "colorscale": [
             [
              0,
              "#0d0887"
             ],
             [
              0.1111111111111111,
              "#46039f"
             ],
             [
              0.2222222222222222,
              "#7201a8"
             ],
             [
              0.3333333333333333,
              "#9c179e"
             ],
             [
              0.4444444444444444,
              "#bd3786"
             ],
             [
              0.5555555555555556,
              "#d8576b"
             ],
             [
              0.6666666666666666,
              "#ed7953"
             ],
             [
              0.7777777777777778,
              "#fb9f3a"
             ],
             [
              0.8888888888888888,
              "#fdca26"
             ],
             [
              1,
              "#f0f921"
             ]
            ],
            "type": "heatmap"
           }
          ],
          "heatmapgl": [
           {
            "colorbar": {
             "outlinewidth": 0,
             "ticks": ""
            },
            "colorscale": [
             [
              0,
              "#0d0887"
             ],
             [
              0.1111111111111111,
              "#46039f"
             ],
             [
              0.2222222222222222,
              "#7201a8"
             ],
             [
              0.3333333333333333,
              "#9c179e"
             ],
             [
              0.4444444444444444,
              "#bd3786"
             ],
             [
              0.5555555555555556,
              "#d8576b"
             ],
             [
              0.6666666666666666,
              "#ed7953"
             ],
             [
              0.7777777777777778,
              "#fb9f3a"
             ],
             [
              0.8888888888888888,
              "#fdca26"
             ],
             [
              1,
              "#f0f921"
             ]
            ],
            "type": "heatmapgl"
           }
          ],
          "histogram": [
           {
            "marker": {
             "pattern": {
              "fillmode": "overlay",
              "size": 10,
              "solidity": 0.2
             }
            },
            "type": "histogram"
           }
          ],
          "histogram2d": [
           {
            "colorbar": {
             "outlinewidth": 0,
             "ticks": ""
            },
            "colorscale": [
             [
              0,
              "#0d0887"
             ],
             [
              0.1111111111111111,
              "#46039f"
             ],
             [
              0.2222222222222222,
              "#7201a8"
             ],
             [
              0.3333333333333333,
              "#9c179e"
             ],
             [
              0.4444444444444444,
              "#bd3786"
             ],
             [
              0.5555555555555556,
              "#d8576b"
             ],
             [
              0.6666666666666666,
              "#ed7953"
             ],
             [
              0.7777777777777778,
              "#fb9f3a"
             ],
             [
              0.8888888888888888,
              "#fdca26"
             ],
             [
              1,
              "#f0f921"
             ]
            ],
            "type": "histogram2d"
           }
          ],
          "histogram2dcontour": [
           {
            "colorbar": {
             "outlinewidth": 0,
             "ticks": ""
            },
            "colorscale": [
             [
              0,
              "#0d0887"
             ],
             [
              0.1111111111111111,
              "#46039f"
             ],
             [
              0.2222222222222222,
              "#7201a8"
             ],
             [
              0.3333333333333333,
              "#9c179e"
             ],
             [
              0.4444444444444444,
              "#bd3786"
             ],
             [
              0.5555555555555556,
              "#d8576b"
             ],
             [
              0.6666666666666666,
              "#ed7953"
             ],
             [
              0.7777777777777778,
              "#fb9f3a"
             ],
             [
              0.8888888888888888,
              "#fdca26"
             ],
             [
              1,
              "#f0f921"
             ]
            ],
            "type": "histogram2dcontour"
           }
          ],
          "mesh3d": [
           {
            "colorbar": {
             "outlinewidth": 0,
             "ticks": ""
            },
            "type": "mesh3d"
           }
          ],
          "parcoords": [
           {
            "line": {
             "colorbar": {
              "outlinewidth": 0,
              "ticks": ""
             }
            },
            "type": "parcoords"
           }
          ],
          "pie": [
           {
            "automargin": true,
            "type": "pie"
           }
          ],
          "scatter": [
           {
            "fillpattern": {
             "fillmode": "overlay",
             "size": 10,
             "solidity": 0.2
            },
            "type": "scatter"
           }
          ],
          "scatter3d": [
           {
            "line": {
             "colorbar": {
              "outlinewidth": 0,
              "ticks": ""
             }
            },
            "marker": {
             "colorbar": {
              "outlinewidth": 0,
              "ticks": ""
             }
            },
            "type": "scatter3d"
           }
          ],
          "scattercarpet": [
           {
            "marker": {
             "colorbar": {
              "outlinewidth": 0,
              "ticks": ""
             }
            },
            "type": "scattercarpet"
           }
          ],
          "scattergeo": [
           {
            "marker": {
             "colorbar": {
              "outlinewidth": 0,
              "ticks": ""
             }
            },
            "type": "scattergeo"
           }
          ],
          "scattergl": [
           {
            "marker": {
             "colorbar": {
              "outlinewidth": 0,
              "ticks": ""
             }
            },
            "type": "scattergl"
           }
          ],
          "scattermapbox": [
           {
            "marker": {
             "colorbar": {
              "outlinewidth": 0,
              "ticks": ""
             }
            },
            "type": "scattermapbox"
           }
          ],
          "scatterpolar": [
           {
            "marker": {
             "colorbar": {
              "outlinewidth": 0,
              "ticks": ""
             }
            },
            "type": "scatterpolar"
           }
          ],
          "scatterpolargl": [
           {
            "marker": {
             "colorbar": {
              "outlinewidth": 0,
              "ticks": ""
             }
            },
            "type": "scatterpolargl"
           }
          ],
          "scatterternary": [
           {
            "marker": {
             "colorbar": {
              "outlinewidth": 0,
              "ticks": ""
             }
            },
            "type": "scatterternary"
           }
          ],
          "surface": [
           {
            "colorbar": {
             "outlinewidth": 0,
             "ticks": ""
            },
            "colorscale": [
             [
              0,
              "#0d0887"
             ],
             [
              0.1111111111111111,
              "#46039f"
             ],
             [
              0.2222222222222222,
              "#7201a8"
             ],
             [
              0.3333333333333333,
              "#9c179e"
             ],
             [
              0.4444444444444444,
              "#bd3786"
             ],
             [
              0.5555555555555556,
              "#d8576b"
             ],
             [
              0.6666666666666666,
              "#ed7953"
             ],
             [
              0.7777777777777778,
              "#fb9f3a"
             ],
             [
              0.8888888888888888,
              "#fdca26"
             ],
             [
              1,
              "#f0f921"
             ]
            ],
            "type": "surface"
           }
          ],
          "table": [
           {
            "cells": {
             "fill": {
              "color": "#EBF0F8"
             },
             "line": {
              "color": "white"
             }
            },
            "header": {
             "fill": {
              "color": "#C8D4E3"
             },
             "line": {
              "color": "white"
             }
            },
            "type": "table"
           }
          ]
         },
         "layout": {
          "annotationdefaults": {
           "arrowcolor": "#2a3f5f",
           "arrowhead": 0,
           "arrowwidth": 1
          },
          "autotypenumbers": "strict",
          "coloraxis": {
           "colorbar": {
            "outlinewidth": 0,
            "ticks": ""
           }
          },
          "colorscale": {
           "diverging": [
            [
             0,
             "#8e0152"
            ],
            [
             0.1,
             "#c51b7d"
            ],
            [
             0.2,
             "#de77ae"
            ],
            [
             0.3,
             "#f1b6da"
            ],
            [
             0.4,
             "#fde0ef"
            ],
            [
             0.5,
             "#f7f7f7"
            ],
            [
             0.6,
             "#e6f5d0"
            ],
            [
             0.7,
             "#b8e186"
            ],
            [
             0.8,
             "#7fbc41"
            ],
            [
             0.9,
             "#4d9221"
            ],
            [
             1,
             "#276419"
            ]
           ],
           "sequential": [
            [
             0,
             "#0d0887"
            ],
            [
             0.1111111111111111,
             "#46039f"
            ],
            [
             0.2222222222222222,
             "#7201a8"
            ],
            [
             0.3333333333333333,
             "#9c179e"
            ],
            [
             0.4444444444444444,
             "#bd3786"
            ],
            [
             0.5555555555555556,
             "#d8576b"
            ],
            [
             0.6666666666666666,
             "#ed7953"
            ],
            [
             0.7777777777777778,
             "#fb9f3a"
            ],
            [
             0.8888888888888888,
             "#fdca26"
            ],
            [
             1,
             "#f0f921"
            ]
           ],
           "sequentialminus": [
            [
             0,
             "#0d0887"
            ],
            [
             0.1111111111111111,
             "#46039f"
            ],
            [
             0.2222222222222222,
             "#7201a8"
            ],
            [
             0.3333333333333333,
             "#9c179e"
            ],
            [
             0.4444444444444444,
             "#bd3786"
            ],
            [
             0.5555555555555556,
             "#d8576b"
            ],
            [
             0.6666666666666666,
             "#ed7953"
            ],
            [
             0.7777777777777778,
             "#fb9f3a"
            ],
            [
             0.8888888888888888,
             "#fdca26"
            ],
            [
             1,
             "#f0f921"
            ]
           ]
          },
          "colorway": [
           "#636efa",
           "#EF553B",
           "#00cc96",
           "#ab63fa",
           "#FFA15A",
           "#19d3f3",
           "#FF6692",
           "#B6E880",
           "#FF97FF",
           "#FECB52"
          ],
          "font": {
           "color": "#2a3f5f"
          },
          "geo": {
           "bgcolor": "white",
           "lakecolor": "white",
           "landcolor": "#E5ECF6",
           "showlakes": true,
           "showland": true,
           "subunitcolor": "white"
          },
          "hoverlabel": {
           "align": "left"
          },
          "hovermode": "closest",
          "mapbox": {
           "style": "light"
          },
          "paper_bgcolor": "white",
          "plot_bgcolor": "#E5ECF6",
          "polar": {
           "angularaxis": {
            "gridcolor": "white",
            "linecolor": "white",
            "ticks": ""
           },
           "bgcolor": "#E5ECF6",
           "radialaxis": {
            "gridcolor": "white",
            "linecolor": "white",
            "ticks": ""
           }
          },
          "scene": {
           "xaxis": {
            "backgroundcolor": "#E5ECF6",
            "gridcolor": "white",
            "gridwidth": 2,
            "linecolor": "white",
            "showbackground": true,
            "ticks": "",
            "zerolinecolor": "white"
           },
           "yaxis": {
            "backgroundcolor": "#E5ECF6",
            "gridcolor": "white",
            "gridwidth": 2,
            "linecolor": "white",
            "showbackground": true,
            "ticks": "",
            "zerolinecolor": "white"
           },
           "zaxis": {
            "backgroundcolor": "#E5ECF6",
            "gridcolor": "white",
            "gridwidth": 2,
            "linecolor": "white",
            "showbackground": true,
            "ticks": "",
            "zerolinecolor": "white"
           }
          },
          "shapedefaults": {
           "line": {
            "color": "#2a3f5f"
           }
          },
          "ternary": {
           "aaxis": {
            "gridcolor": "white",
            "linecolor": "white",
            "ticks": ""
           },
           "baxis": {
            "gridcolor": "white",
            "linecolor": "white",
            "ticks": ""
           },
           "bgcolor": "#E5ECF6",
           "caxis": {
            "gridcolor": "white",
            "linecolor": "white",
            "ticks": ""
           }
          },
          "title": {
           "x": 0.05
          },
          "xaxis": {
           "automargin": true,
           "gridcolor": "white",
           "linecolor": "white",
           "ticks": "",
           "title": {
            "standoff": 15
           },
           "zerolinecolor": "white",
           "zerolinewidth": 2
          },
          "yaxis": {
           "automargin": true,
           "gridcolor": "white",
           "linecolor": "white",
           "ticks": "",
           "title": {
            "standoff": 15
           },
           "zerolinecolor": "white",
           "zerolinewidth": 2
          }
         }
        },
        "title": {
         "text": "Conf Matrix"
        },
        "width": 800,
        "xaxis": {
         "title": {
          "text": "Predicted value"
         }
        },
        "yaxis": {
         "title": {
          "text": "Real value"
         }
        }
       }
      }
     },
     "metadata": {},
     "output_type": "display_data"
    },
    {
     "data": {
      "text/plain": [
       "0.24313006126269543"
      ]
     },
     "execution_count": 31,
     "metadata": {},
     "output_type": "execute_result"
    }
   ],
   "source": [
    "#Vamos a replicar el resultado de la optimizacion reentrenando el modelo con el mejor conjunto de hiperparametros\n",
    "#Generamos parametros incluyendo los fijos y la mejor solución que encontro optuna\n",
    "lgb_params = {\n",
    "    'objective': 'multiclass',\n",
    "    'verbosity': -1,\n",
    "    'num_class': len(y_train.unique())\n",
    "}\n",
    "\n",
    "# Update lgb_params with study.best_params\n",
    "lgb_params.update(study.best_params)\n",
    "\n",
    "lgb_train_dataset = lgb.Dataset(data=X_train,\n",
    "                                label=y_train)\n",
    "\n",
    "\n",
    "#Entreno\n",
    "lgb_model = lgb.train(lgb_params,\n",
    "                    lgb_train_dataset)\n",
    "\n",
    "#Muestro matriz de confusion y kappa\n",
    "display(plot_confusion_matrix(y_test,lgb_model.predict(X_test).argmax(axis=1)))\n",
    "\n",
    "cohen_kappa_score(y_test,lgb_model.predict(X_test).argmax(axis=1),\n",
    "                             weights = 'quadratic')\n"
   ]
  },
  {
   "cell_type": "code",
   "execution_count": null,
   "metadata": {},
   "outputs": [],
   "source": []
  },
  {
   "cell_type": "code",
   "execution_count": 32,
   "metadata": {},
   "outputs": [],
   "source": [
    "#A PARTIR DE OPTUNA (OPTIMIZACION BAYESIANA) ES LO MEJOR TENGO ENTENDIDO, ECONTRE LOS MEJORES VALORES HIPERPARMTROS\n",
    "#Y ESO MEJORO KAPPA "
   ]
  },
  {
   "cell_type": "markdown",
   "metadata": {},
   "source": [
    "## Modelo con cross validation y conjunto de test"
   ]
  },
  {
   "cell_type": "code",
   "execution_count": 33,
   "metadata": {},
   "outputs": [],
   "source": [
    "#Genero una metrica para que lightGBM haga la evaluación y pueda hacer early_stopping en el cross validation\n",
    "def lgb_custom_metric_kappa(dy_pred, dy_true):\n",
    "    metric_name = 'kappa'\n",
    "    value = cohen_kappa_score(dy_true.get_label(),dy_pred.argmax(axis=1),weights = 'quadratic')\n",
    "    is_higher_better = True\n",
    "    return(metric_name, value, is_higher_better)\n",
    "\n",
    "#Funcion objetivo a optimizar. En este caso vamos a hacer 5fold cv sobre el conjunto de train. \n",
    "# El score de CV es el objetivo a optimizar. Ademas vamos a usar los 5 modelos del CV para estimar el conjunto de test,\n",
    "# registraremos en optuna las predicciones, matriz de confusion y el score en test.\n",
    "# CV Score -> Se usa para determinar el rendimiento de los hiperparametros con precision \n",
    "# Test Score -> Nos permite testear que esta todo OK, no use (ni debo usar) esos datos para nada en el entrenamiento \n",
    "# o la optimizacion de hiperparametros\n",
    "\n",
    "def cv_es_lgb_objective(trial):\n",
    "\n",
    "    #PArametros para LightGBM\n",
    "    lgb_params = {      \n",
    "                        #PArametros fijos\n",
    "                        'objective': 'multiclass',\n",
    "                        'verbosity':-1,\n",
    "                        'num_class': len(y_train.unique()),\n",
    "                        #Hiperparametros a optimizar utilizando suggest_float o suggest_int segun el tipo de dato\n",
    "                        #Se indica el nombre del parametro, valor minimo, valor maximo \n",
    "                        #en elgunos casos el parametro log=True para parametros que requieren buscar en esa escala\n",
    "                        'lambda_l1': trial.suggest_float('lambda_l1', 1e-8, 10.0, log=True),\n",
    "                        'lambda_l2': trial.suggest_float('lambda_l2', 1e-8, 10.0, log=True),\n",
    "                        'num_leaves': trial.suggest_int('num_leaves', 2, 256),\n",
    "                        'feature_fraction': trial.suggest_float('feature_fraction', 0.4, 1.0),\n",
    "                        'bagging_fraction': trial.suggest_float('bagging_fraction', 0.4, 1.0),\n",
    "                        'bagging_freq': trial.suggest_int('bagging_freq', 1, 7),\n",
    "                        'min_child_samples': trial.suggest_int('min_child_samples', 5, 100),\n",
    "                        } \n",
    "\n",
    "    #Voy a generar estimaciones de los 5 modelos del CV sobre los datos test y los acumulo en la matriz scores_ensemble\n",
    "    scores_ensemble = np.zeros((len(y_test),len(y_train.unique())))\n",
    "\n",
    "    #Score del 5 fold CV inicializado en 0\n",
    "    score_folds = 0\n",
    "\n",
    "    #Numero de splits del CV\n",
    "    n_splits = 5\n",
    "\n",
    "    #Objeto para hacer el split estratificado de CV\n",
    "    skf = StratifiedKFold(n_splits=n_splits)\n",
    "\n",
    "    for i, (if_index, oof_index) in enumerate(skf.split(X_train, y_train)):\n",
    "        \n",
    "        #Dataset in fold (donde entreno) \n",
    "        lgb_if_dataset = lgb.Dataset(data=X_train.iloc[if_index],\n",
    "                                        label=y_train.iloc[if_index],\n",
    "                                        free_raw_data=False)\n",
    "        \n",
    "        #Dataset Out of fold (donde mido la performance del CV)\n",
    "        lgb_oof_dataset = lgb.Dataset(data=X_train.iloc[oof_index],\n",
    "                                        label=y_train.iloc[oof_index],\n",
    "                                        free_raw_data=False)\n",
    "\n",
    "        #Entreno el modelo\n",
    "        lgb_model = lgb.train(lgb_params,\n",
    "                                lgb_if_dataset,\n",
    "                                valid_sets=lgb_oof_dataset,\n",
    "                                callbacks=[lgb.early_stopping(10, verbose=False)],\n",
    "                                feval = lgb_custom_metric_kappa\n",
    "                                )\n",
    "        \n",
    "        #Acumulo los scores (probabilidades) de cada clase para cada uno de los modelos que determino en los folds\n",
    "        #Se predice el 20% de los datos que separe para tes y no uso para entrenar en ningun fold\n",
    "        scores_ensemble = scores_ensemble + lgb_model.predict(X_test)\n",
    "        \n",
    "        #Score del fold (registros de dataset train que en este fold quedan out of fold)\n",
    "        score_folds = score_folds + cohen_kappa_score(y_train.iloc[oof_index], \n",
    "                                                            lgb_model.predict(X_train.iloc[oof_index]).argmax(axis=1),weights = 'quadratic')/n_splits\n",
    "\n",
    "\n",
    "    #Guardo prediccion del trial sobre el conjunto de test\n",
    "    # Genero nombre de archivo\n",
    "    predicted_filename = os.path.join(PATH_TO_TEMP_FILES,f'test_{trial.study.study_name}_{trial.number}.joblib')\n",
    "    # Copia del dataset para guardar la prediccion\n",
    "    predicted_df = test.copy()\n",
    "    # Genero columna pred con predicciones sumadas de los 5 folds\n",
    "    predicted_df['pred'] = [scores_ensemble[p,:] for p in range(scores_ensemble.shape[0])]\n",
    "    # Grabo dataframe en temp_artifacts\n",
    "    dump(predicted_df, predicted_filename)\n",
    "    # Indico a optuna que asocie el archivo generado al trial\n",
    "    upload_artifact(trial, predicted_filename, artifact_store)    \n",
    "\n",
    "    #Grabo natriz de confusion\n",
    "    #Nombre de archivo\n",
    "    cm_filename = os.path.join(PATH_TO_TEMP_FILES,f'cm_{trial.study.study_name}_{trial.number}.jpg')\n",
    "    #Grabo archivo\n",
    "    plot_confusion_matrix(y_test,scores_ensemble.argmax(axis=1)).write_image(cm_filename)\n",
    "    #Asocio al trial\n",
    "    upload_artifact(trial, cm_filename, artifact_store)\n",
    "\n",
    "    #Determino score en conjunto de test y asocio como metrica adicional en optuna\n",
    "    test_score = cohen_kappa_score(y_test,scores_ensemble.argmax(axis=1),weights = 'quadratic')\n",
    "    trial.set_user_attr(\"test_score\", test_score)\n",
    "\n",
    "    #Devuelvo score del 5fold cv a optuna para que optimice en base a eso\n",
    "    return(score_folds)"
   ]
  },
  {
   "cell_type": "code",
   "execution_count": 34,
   "metadata": {},
   "outputs": [
    {
     "name": "stderr",
     "output_type": "stream",
     "text": [
      "<ipython-input-34-3ba8469af45f>:2: ExperimentalWarning:\n",
      "\n",
      "FileSystemArtifactStore is experimental (supported from v3.3.0). The interface can change in the future.\n",
      "\n",
      "[I 2024-08-18 19:00:16,961] Using an existing study with name '04 - LGB Multiclass CV' instead of creating a new one.\n",
      "<ipython-input-33-1c6539846d38>:86: ExperimentalWarning:\n",
      "\n",
      "upload_artifact is experimental (supported from v3.3.0). The interface can change in the future.\n",
      "\n",
      "<ipython-input-33-1c6539846d38>:94: ExperimentalWarning:\n",
      "\n",
      "upload_artifact is experimental (supported from v3.3.0). The interface can change in the future.\n",
      "\n",
      "[I 2024-08-18 19:00:31,180] Trial 268 finished with value: 0.2667309846229608 and parameters: {'lambda_l1': 1.7029266305985666, 'lambda_l2': 3.4331244753116814, 'num_leaves': 24, 'feature_fraction': 0.8241786860233868, 'bagging_fraction': 0.7167045852959953, 'bagging_freq': 1, 'min_child_samples': 21}. Best is trial 45 with value: 1.0.\n",
      "<ipython-input-33-1c6539846d38>:86: ExperimentalWarning:\n",
      "\n",
      "upload_artifact is experimental (supported from v3.3.0). The interface can change in the future.\n",
      "\n",
      "<ipython-input-33-1c6539846d38>:94: ExperimentalWarning:\n",
      "\n",
      "upload_artifact is experimental (supported from v3.3.0). The interface can change in the future.\n",
      "\n",
      "[I 2024-08-18 19:00:37,066] Trial 269 finished with value: 0.25898006709505356 and parameters: {'lambda_l1': 0.8475370283577548, 'lambda_l2': 9.903327448579187, 'num_leaves': 247, 'feature_fraction': 0.6969150687493003, 'bagging_fraction': 0.48663641131460966, 'bagging_freq': 7, 'min_child_samples': 51}. Best is trial 45 with value: 1.0.\n",
      "<ipython-input-33-1c6539846d38>:86: ExperimentalWarning:\n",
      "\n",
      "upload_artifact is experimental (supported from v3.3.0). The interface can change in the future.\n",
      "\n",
      "<ipython-input-33-1c6539846d38>:94: ExperimentalWarning:\n",
      "\n",
      "upload_artifact is experimental (supported from v3.3.0). The interface can change in the future.\n",
      "\n",
      "[I 2024-08-18 19:00:41,565] Trial 270 finished with value: 0.25129238077522464 and parameters: {'lambda_l1': 0.5031001814289545, 'lambda_l2': 0.5450312236290734, 'num_leaves': 9, 'feature_fraction': 0.48042944123098574, 'bagging_fraction': 0.4657292540275398, 'bagging_freq': 1, 'min_child_samples': 28}. Best is trial 45 with value: 1.0.\n",
      "<ipython-input-33-1c6539846d38>:86: ExperimentalWarning:\n",
      "\n",
      "upload_artifact is experimental (supported from v3.3.0). The interface can change in the future.\n",
      "\n",
      "<ipython-input-33-1c6539846d38>:94: ExperimentalWarning:\n",
      "\n",
      "upload_artifact is experimental (supported from v3.3.0). The interface can change in the future.\n",
      "\n",
      "[I 2024-08-18 19:00:48,142] Trial 271 finished with value: 0.25859753836423505 and parameters: {'lambda_l1': 4.961155771362288, 'lambda_l2': 2.172242759244697, 'num_leaves': 29, 'feature_fraction': 0.5512012854810159, 'bagging_fraction': 0.5056791033866601, 'bagging_freq': 1, 'min_child_samples': 13}. Best is trial 45 with value: 1.0.\n",
      "<ipython-input-33-1c6539846d38>:86: ExperimentalWarning:\n",
      "\n",
      "upload_artifact is experimental (supported from v3.3.0). The interface can change in the future.\n",
      "\n",
      "<ipython-input-33-1c6539846d38>:94: ExperimentalWarning:\n",
      "\n",
      "upload_artifact is experimental (supported from v3.3.0). The interface can change in the future.\n",
      "\n",
      "[I 2024-08-18 19:00:54,406] Trial 272 finished with value: 0.2634404295454957 and parameters: {'lambda_l1': 0.3528046038620859, 'lambda_l2': 6.73574248653754, 'num_leaves': 14, 'feature_fraction': 0.4514282430347016, 'bagging_fraction': 0.47329590201502975, 'bagging_freq': 3, 'min_child_samples': 44}. Best is trial 45 with value: 1.0.\n",
      "<ipython-input-33-1c6539846d38>:86: ExperimentalWarning:\n",
      "\n",
      "upload_artifact is experimental (supported from v3.3.0). The interface can change in the future.\n",
      "\n",
      "<ipython-input-33-1c6539846d38>:94: ExperimentalWarning:\n",
      "\n",
      "upload_artifact is experimental (supported from v3.3.0). The interface can change in the future.\n",
      "\n",
      "[I 2024-08-18 19:01:01,476] Trial 273 finished with value: 0.2597973607974996 and parameters: {'lambda_l1': 2.5881913964463203, 'lambda_l2': 4.031201245980659, 'num_leaves': 34, 'feature_fraction': 0.5064786264360884, 'bagging_fraction': 0.4093974853670924, 'bagging_freq': 2, 'min_child_samples': 9}. Best is trial 45 with value: 1.0.\n",
      "<ipython-input-33-1c6539846d38>:86: ExperimentalWarning:\n",
      "\n",
      "upload_artifact is experimental (supported from v3.3.0). The interface can change in the future.\n",
      "\n",
      "<ipython-input-33-1c6539846d38>:94: ExperimentalWarning:\n",
      "\n",
      "upload_artifact is experimental (supported from v3.3.0). The interface can change in the future.\n",
      "\n",
      "[I 2024-08-18 19:01:10,310] Trial 274 finished with value: 0.2576727757340024 and parameters: {'lambda_l1': 0.9839427185625421, 'lambda_l2': 6.626361098324165, 'num_leaves': 46, 'feature_fraction': 0.4661520287374733, 'bagging_fraction': 0.42655889679283887, 'bagging_freq': 1, 'min_child_samples': 19}. Best is trial 45 with value: 1.0.\n",
      "<ipython-input-33-1c6539846d38>:86: ExperimentalWarning:\n",
      "\n",
      "upload_artifact is experimental (supported from v3.3.0). The interface can change in the future.\n",
      "\n",
      "<ipython-input-33-1c6539846d38>:94: ExperimentalWarning:\n",
      "\n",
      "upload_artifact is experimental (supported from v3.3.0). The interface can change in the future.\n",
      "\n",
      "[I 2024-08-18 19:01:15,807] Trial 275 finished with value: 0.2603637631769965 and parameters: {'lambda_l1': 0.5106692893496052, 'lambda_l2': 1.2834408625639797, 'num_leaves': 20, 'feature_fraction': 0.5300538174311401, 'bagging_fraction': 0.4545455275889575, 'bagging_freq': 1, 'min_child_samples': 36}. Best is trial 45 with value: 1.0.\n",
      "<ipython-input-33-1c6539846d38>:86: ExperimentalWarning:\n",
      "\n",
      "upload_artifact is experimental (supported from v3.3.0). The interface can change in the future.\n",
      "\n",
      "<ipython-input-33-1c6539846d38>:94: ExperimentalWarning:\n",
      "\n",
      "upload_artifact is experimental (supported from v3.3.0). The interface can change in the future.\n",
      "\n",
      "[I 2024-08-18 19:01:22,040] Trial 276 finished with value: 0.2595347498233682 and parameters: {'lambda_l1': 0.2450783569061118, 'lambda_l2': 2.63896949959756, 'num_leaves': 27, 'feature_fraction': 0.51899468917779, 'bagging_fraction': 0.4962676263833904, 'bagging_freq': 1, 'min_child_samples': 23}. Best is trial 45 with value: 1.0.\n",
      "<ipython-input-33-1c6539846d38>:86: ExperimentalWarning:\n",
      "\n",
      "upload_artifact is experimental (supported from v3.3.0). The interface can change in the future.\n",
      "\n",
      "<ipython-input-33-1c6539846d38>:94: ExperimentalWarning:\n",
      "\n",
      "upload_artifact is experimental (supported from v3.3.0). The interface can change in the future.\n",
      "\n",
      "[I 2024-08-18 19:01:29,266] Trial 277 finished with value: 0.2673421569195867 and parameters: {'lambda_l1': 0.17737334367950777, 'lambda_l2': 4.322405521203826, 'num_leaves': 50, 'feature_fraction': 0.6249061839625984, 'bagging_fraction': 0.4439247393150531, 'bagging_freq': 2, 'min_child_samples': 32}. Best is trial 45 with value: 1.0.\n",
      "<ipython-input-33-1c6539846d38>:86: ExperimentalWarning:\n",
      "\n",
      "upload_artifact is experimental (supported from v3.3.0). The interface can change in the future.\n",
      "\n",
      "<ipython-input-33-1c6539846d38>:94: ExperimentalWarning:\n",
      "\n",
      "upload_artifact is experimental (supported from v3.3.0). The interface can change in the future.\n",
      "\n",
      "[I 2024-08-18 19:01:35,837] Trial 278 finished with value: 0.24592374440801057 and parameters: {'lambda_l1': 0.08184305569203257, 'lambda_l2': 9.997061589233285, 'num_leaves': 6, 'feature_fraction': 0.5024524059241479, 'bagging_fraction': 0.5221840359572123, 'bagging_freq': 4, 'min_child_samples': 18}. Best is trial 45 with value: 1.0.\n",
      "<ipython-input-33-1c6539846d38>:86: ExperimentalWarning:\n",
      "\n",
      "upload_artifact is experimental (supported from v3.3.0). The interface can change in the future.\n",
      "\n",
      "<ipython-input-33-1c6539846d38>:94: ExperimentalWarning:\n",
      "\n",
      "upload_artifact is experimental (supported from v3.3.0). The interface can change in the future.\n",
      "\n",
      "[I 2024-08-18 19:01:43,127] Trial 279 finished with value: 0.26255337296590664 and parameters: {'lambda_l1': 0.7207414194466059, 'lambda_l2': 1.8161551722037066, 'num_leaves': 23, 'feature_fraction': 0.4884220449460631, 'bagging_fraction': 0.4585845613249787, 'bagging_freq': 1, 'min_child_samples': 30}. Best is trial 45 with value: 1.0.\n",
      "<ipython-input-33-1c6539846d38>:86: ExperimentalWarning:\n",
      "\n",
      "upload_artifact is experimental (supported from v3.3.0). The interface can change in the future.\n",
      "\n",
      "<ipython-input-33-1c6539846d38>:94: ExperimentalWarning:\n",
      "\n",
      "upload_artifact is experimental (supported from v3.3.0). The interface can change in the future.\n",
      "\n",
      "[I 2024-08-18 19:01:50,174] Trial 280 finished with value: 0.26088282920072736 and parameters: {'lambda_l1': 1.722771741072902, 'lambda_l2': 5.466481095088104, 'num_leaves': 14, 'feature_fraction': 0.5358587235349647, 'bagging_fraction': 0.6409960824359999, 'bagging_freq': 2, 'min_child_samples': 6}. Best is trial 45 with value: 1.0.\n",
      "<ipython-input-33-1c6539846d38>:86: ExperimentalWarning:\n",
      "\n",
      "upload_artifact is experimental (supported from v3.3.0). The interface can change in the future.\n",
      "\n",
      "<ipython-input-33-1c6539846d38>:94: ExperimentalWarning:\n",
      "\n",
      "upload_artifact is experimental (supported from v3.3.0). The interface can change in the future.\n",
      "\n",
      "[I 2024-08-18 19:01:57,043] Trial 281 finished with value: 0.26121996731262453 and parameters: {'lambda_l1': 3.3319605731564694, 'lambda_l2': 1.688374399389607e-08, 'num_leaves': 34, 'feature_fraction': 0.413410982307838, 'bagging_fraction': 0.5443937809770085, 'bagging_freq': 1, 'min_child_samples': 11}. Best is trial 45 with value: 1.0.\n",
      "<ipython-input-33-1c6539846d38>:86: ExperimentalWarning:\n",
      "\n",
      "upload_artifact is experimental (supported from v3.3.0). The interface can change in the future.\n",
      "\n",
      "<ipython-input-33-1c6539846d38>:94: ExperimentalWarning:\n",
      "\n",
      "upload_artifact is experimental (supported from v3.3.0). The interface can change in the future.\n",
      "\n",
      "[I 2024-08-18 19:02:01,740] Trial 282 finished with value: 0.20565540045639447 and parameters: {'lambda_l1': 0.3694819126304078, 'lambda_l2': 0.896532687678517, 'num_leaves': 2, 'feature_fraction': 0.514650859668733, 'bagging_fraction': 0.4849908286047234, 'bagging_freq': 1, 'min_child_samples': 25}. Best is trial 45 with value: 1.0.\n",
      "<ipython-input-33-1c6539846d38>:86: ExperimentalWarning:\n",
      "\n",
      "upload_artifact is experimental (supported from v3.3.0). The interface can change in the future.\n",
      "\n",
      "<ipython-input-33-1c6539846d38>:94: ExperimentalWarning:\n",
      "\n",
      "upload_artifact is experimental (supported from v3.3.0). The interface can change in the future.\n",
      "\n",
      "[I 2024-08-18 19:02:09,719] Trial 283 finished with value: 0.2412967470666774 and parameters: {'lambda_l1': 5.915136675972282, 'lambda_l2': 3.060923156316685, 'num_leaves': 66, 'feature_fraction': 0.43925719946234126, 'bagging_fraction': 0.43924465409712504, 'bagging_freq': 1, 'min_child_samples': 16}. Best is trial 45 with value: 1.0.\n",
      "<ipython-input-33-1c6539846d38>:86: ExperimentalWarning:\n",
      "\n",
      "upload_artifact is experimental (supported from v3.3.0). The interface can change in the future.\n",
      "\n",
      "<ipython-input-33-1c6539846d38>:94: ExperimentalWarning:\n",
      "\n",
      "upload_artifact is experimental (supported from v3.3.0). The interface can change in the future.\n",
      "\n",
      "[I 2024-08-18 19:02:16,842] Trial 284 finished with value: 0.25767782100765435 and parameters: {'lambda_l1': 0.5855687257792449, 'lambda_l2': 7.380284868376563, 'num_leaves': 42, 'feature_fraction': 0.555752639795252, 'bagging_fraction': 0.47360192666236495, 'bagging_freq': 2, 'min_child_samples': 22}. Best is trial 45 with value: 1.0.\n",
      "<ipython-input-33-1c6539846d38>:86: ExperimentalWarning:\n",
      "\n",
      "upload_artifact is experimental (supported from v3.3.0). The interface can change in the future.\n",
      "\n",
      "<ipython-input-33-1c6539846d38>:94: ExperimentalWarning:\n",
      "\n",
      "upload_artifact is experimental (supported from v3.3.0). The interface can change in the future.\n",
      "\n",
      "[I 2024-08-18 19:02:23,412] Trial 285 finished with value: 0.2620144129831614 and parameters: {'lambda_l1': 0.9878394457046528, 'lambda_l2': 4.227326209936573, 'num_leaves': 21, 'feature_fraction': 0.49810466238281764, 'bagging_fraction': 0.5083606053777735, 'bagging_freq': 1, 'min_child_samples': 14}. Best is trial 45 with value: 1.0.\n",
      "<ipython-input-33-1c6539846d38>:86: ExperimentalWarning:\n",
      "\n",
      "upload_artifact is experimental (supported from v3.3.0). The interface can change in the future.\n",
      "\n",
      "<ipython-input-33-1c6539846d38>:94: ExperimentalWarning:\n",
      "\n",
      "upload_artifact is experimental (supported from v3.3.0). The interface can change in the future.\n",
      "\n",
      "[I 2024-08-18 19:02:30,623] Trial 286 finished with value: 0.2571918977260119 and parameters: {'lambda_l1': 0.16495301884327862, 'lambda_l2': 6.7758527969389455, 'num_leaves': 29, 'feature_fraction': 0.4716423966615619, 'bagging_fraction': 0.46499621201742497, 'bagging_freq': 1, 'min_child_samples': 8}. Best is trial 45 with value: 1.0.\n",
      "<ipython-input-33-1c6539846d38>:86: ExperimentalWarning:\n",
      "\n",
      "upload_artifact is experimental (supported from v3.3.0). The interface can change in the future.\n",
      "\n",
      "<ipython-input-33-1c6539846d38>:94: ExperimentalWarning:\n",
      "\n",
      "upload_artifact is experimental (supported from v3.3.0). The interface can change in the future.\n",
      "\n",
      "[I 2024-08-18 19:02:39,490] Trial 287 finished with value: 0.2614583081649803 and parameters: {'lambda_l1': 0.03228821238753805, 'lambda_l2': 0.35849742682415053, 'num_leaves': 89, 'feature_fraction': 0.5240941167149342, 'bagging_fraction': 0.49660743849382866, 'bagging_freq': 2, 'min_child_samples': 27}. Best is trial 45 with value: 1.0.\n",
      "<ipython-input-33-1c6539846d38>:86: ExperimentalWarning:\n",
      "\n",
      "upload_artifact is experimental (supported from v3.3.0). The interface can change in the future.\n",
      "\n",
      "<ipython-input-33-1c6539846d38>:94: ExperimentalWarning:\n",
      "\n",
      "upload_artifact is experimental (supported from v3.3.0). The interface can change in the future.\n",
      "\n",
      "[I 2024-08-18 19:02:46,512] Trial 288 finished with value: 0.2558712545992623 and parameters: {'lambda_l1': 0.3036444722069844, 'lambda_l2': 1.6251692785878704, 'num_leaves': 37, 'feature_fraction': 0.45920327578540465, 'bagging_fraction': 0.4235777912241304, 'bagging_freq': 1, 'min_child_samples': 21}. Best is trial 45 with value: 1.0.\n",
      "<ipython-input-33-1c6539846d38>:86: ExperimentalWarning:\n",
      "\n",
      "upload_artifact is experimental (supported from v3.3.0). The interface can change in the future.\n",
      "\n",
      "<ipython-input-33-1c6539846d38>:94: ExperimentalWarning:\n",
      "\n",
      "upload_artifact is experimental (supported from v3.3.0). The interface can change in the future.\n",
      "\n",
      "[I 2024-08-18 19:02:53,236] Trial 289 finished with value: 0.2553297698036486 and parameters: {'lambda_l1': 0.11928840993760223, 'lambda_l2': 3.1738267688204713, 'num_leaves': 10, 'feature_fraction': 0.5407404550946527, 'bagging_fraction': 0.4513017601178214, 'bagging_freq': 1, 'min_child_samples': 10}. Best is trial 45 with value: 1.0.\n",
      "<ipython-input-33-1c6539846d38>:86: ExperimentalWarning:\n",
      "\n",
      "upload_artifact is experimental (supported from v3.3.0). The interface can change in the future.\n",
      "\n",
      "<ipython-input-33-1c6539846d38>:94: ExperimentalWarning:\n",
      "\n",
      "upload_artifact is experimental (supported from v3.3.0). The interface can change in the future.\n",
      "\n",
      "[I 2024-08-18 19:03:01,341] Trial 290 finished with value: 0.2453006079888943 and parameters: {'lambda_l1': 9.943914757281117, 'lambda_l2': 5.11486452209627, 'num_leaves': 19, 'feature_fraction': 0.5107437620611706, 'bagging_fraction': 0.5262863733441834, 'bagging_freq': 3, 'min_child_samples': 17}. Best is trial 45 with value: 1.0.\n",
      "<ipython-input-33-1c6539846d38>:86: ExperimentalWarning:\n",
      "\n",
      "upload_artifact is experimental (supported from v3.3.0). The interface can change in the future.\n",
      "\n",
      "<ipython-input-33-1c6539846d38>:94: ExperimentalWarning:\n",
      "\n",
      "upload_artifact is experimental (supported from v3.3.0). The interface can change in the future.\n",
      "\n",
      "[I 2024-08-18 19:03:11,129] Trial 291 finished with value: 0.263275607161092 and parameters: {'lambda_l1': 1.3718504806535166, 'lambda_l2': 9.985693663699182, 'num_leaves': 26, 'feature_fraction': 0.49152104278479086, 'bagging_fraction': 0.43575160423743126, 'bagging_freq': 1, 'min_child_samples': 13}. Best is trial 45 with value: 1.0.\n",
      "<ipython-input-33-1c6539846d38>:86: ExperimentalWarning:\n",
      "\n",
      "upload_artifact is experimental (supported from v3.3.0). The interface can change in the future.\n",
      "\n",
      "<ipython-input-33-1c6539846d38>:94: ExperimentalWarning:\n",
      "\n",
      "upload_artifact is experimental (supported from v3.3.0). The interface can change in the future.\n",
      "\n",
      "[I 2024-08-18 19:03:20,031] Trial 292 finished with value: 0.2619378421501125 and parameters: {'lambda_l1': 0.5748077159760181, 'lambda_l2': 2.600962063328257, 'num_leaves': 61, 'feature_fraction': 0.4306864263250511, 'bagging_fraction': 0.48079978061713824, 'bagging_freq': 1, 'min_child_samples': 24}. Best is trial 45 with value: 1.0.\n",
      "<ipython-input-33-1c6539846d38>:86: ExperimentalWarning:\n",
      "\n",
      "upload_artifact is experimental (supported from v3.3.0). The interface can change in the future.\n",
      "\n",
      "<ipython-input-33-1c6539846d38>:94: ExperimentalWarning:\n",
      "\n",
      "upload_artifact is experimental (supported from v3.3.0). The interface can change in the future.\n",
      "\n",
      "[I 2024-08-18 19:03:29,256] Trial 293 finished with value: 0.25689358870728424 and parameters: {'lambda_l1': 0.38631431884484485, 'lambda_l2': 1.2856141073431828, 'num_leaves': 52, 'feature_fraction': 0.4787685836742463, 'bagging_fraction': 0.5570411268925239, 'bagging_freq': 1, 'min_child_samples': 6}. Best is trial 45 with value: 1.0.\n",
      "<ipython-input-33-1c6539846d38>:86: ExperimentalWarning:\n",
      "\n",
      "upload_artifact is experimental (supported from v3.3.0). The interface can change in the future.\n",
      "\n",
      "<ipython-input-33-1c6539846d38>:94: ExperimentalWarning:\n",
      "\n",
      "upload_artifact is experimental (supported from v3.3.0). The interface can change in the future.\n",
      "\n",
      "[I 2024-08-18 19:03:34,650] Trial 294 finished with value: 0.2599642230345091 and parameters: {'lambda_l1': 2.219986553804294, 'lambda_l2': 4.631818681005724, 'num_leaves': 17, 'feature_fraction': 0.5290846480968797, 'bagging_fraction': 0.4626645507732263, 'bagging_freq': 2, 'min_child_samples': 9}. Best is trial 45 with value: 1.0.\n",
      "<ipython-input-33-1c6539846d38>:86: ExperimentalWarning:\n",
      "\n",
      "upload_artifact is experimental (supported from v3.3.0). The interface can change in the future.\n",
      "\n",
      "<ipython-input-33-1c6539846d38>:94: ExperimentalWarning:\n",
      "\n",
      "upload_artifact is experimental (supported from v3.3.0). The interface can change in the future.\n",
      "\n",
      "[I 2024-08-18 19:03:40,901] Trial 295 finished with value: 0.25831672544942536 and parameters: {'lambda_l1': 4.512343958607501, 'lambda_l2': 0.057795414305853006, 'num_leaves': 33, 'feature_fraction': 0.5729861855226006, 'bagging_fraction': 0.49086651438383855, 'bagging_freq': 5, 'min_child_samples': 29}. Best is trial 45 with value: 1.0.\n",
      "<ipython-input-33-1c6539846d38>:86: ExperimentalWarning:\n",
      "\n",
      "upload_artifact is experimental (supported from v3.3.0). The interface can change in the future.\n",
      "\n",
      "<ipython-input-33-1c6539846d38>:94: ExperimentalWarning:\n",
      "\n",
      "upload_artifact is experimental (supported from v3.3.0). The interface can change in the future.\n",
      "\n",
      "[I 2024-08-18 19:03:47,291] Trial 296 finished with value: 0.2594248897314236 and parameters: {'lambda_l1': 0.0009563139323660082, 'lambda_l2': 0.6660314540490044, 'num_leaves': 24, 'feature_fraction': 0.45243403184351066, 'bagging_fraction': 0.5115377534619167, 'bagging_freq': 6, 'min_child_samples': 20}. Best is trial 45 with value: 1.0.\n",
      "<ipython-input-33-1c6539846d38>:86: ExperimentalWarning:\n",
      "\n",
      "upload_artifact is experimental (supported from v3.3.0). The interface can change in the future.\n",
      "\n",
      "<ipython-input-33-1c6539846d38>:94: ExperimentalWarning:\n",
      "\n",
      "upload_artifact is experimental (supported from v3.3.0). The interface can change in the future.\n",
      "\n",
      "[I 2024-08-18 19:03:54,570] Trial 297 finished with value: 0.26174354698803903 and parameters: {'lambda_l1': 0.06714052586719145, 'lambda_l2': 6.6084064482672025, 'num_leaves': 143, 'feature_fraction': 0.6083388677788297, 'bagging_fraction': 0.5349418894524509, 'bagging_freq': 1, 'min_child_samples': 12}. Best is trial 45 with value: 1.0.\n",
      "<ipython-input-33-1c6539846d38>:86: ExperimentalWarning:\n",
      "\n",
      "upload_artifact is experimental (supported from v3.3.0). The interface can change in the future.\n",
      "\n",
      "<ipython-input-33-1c6539846d38>:94: ExperimentalWarning:\n",
      "\n",
      "upload_artifact is experimental (supported from v3.3.0). The interface can change in the future.\n",
      "\n",
      "[I 2024-08-18 19:04:00,742] Trial 298 finished with value: 0.26302010395597764 and parameters: {'lambda_l1': 0.958013249122011, 'lambda_l2': 2.137217671254698, 'num_leaves': 13, 'feature_fraction': 0.5500722642800264, 'bagging_fraction': 0.4498501329580984, 'bagging_freq': 2, 'min_child_samples': 15}. Best is trial 45 with value: 1.0.\n",
      "<ipython-input-33-1c6539846d38>:86: ExperimentalWarning:\n",
      "\n",
      "upload_artifact is experimental (supported from v3.3.0). The interface can change in the future.\n",
      "\n",
      "<ipython-input-33-1c6539846d38>:94: ExperimentalWarning:\n",
      "\n",
      "upload_artifact is experimental (supported from v3.3.0). The interface can change in the future.\n",
      "\n",
      "[I 2024-08-18 19:04:06,904] Trial 299 finished with value: 0.2521802411350324 and parameters: {'lambda_l1': 0.012136088788110374, 'lambda_l2': 9.916462775344655, 'num_leaves': 29, 'feature_fraction': 0.5091240929638765, 'bagging_fraction': 0.47651068597782775, 'bagging_freq': 1, 'min_child_samples': 18}. Best is trial 45 with value: 1.0.\n",
      "<ipython-input-33-1c6539846d38>:86: ExperimentalWarning:\n",
      "\n",
      "upload_artifact is experimental (supported from v3.3.0). The interface can change in the future.\n",
      "\n",
      "<ipython-input-33-1c6539846d38>:94: ExperimentalWarning:\n",
      "\n",
      "upload_artifact is experimental (supported from v3.3.0). The interface can change in the future.\n",
      "\n",
      "[I 2024-08-18 19:04:13,795] Trial 300 finished with value: 0.25942150199116776 and parameters: {'lambda_l1': 0.6633121537473898, 'lambda_l2': 3.4894565791802457, 'num_leaves': 42, 'feature_fraction': 0.5201600700588535, 'bagging_fraction': 0.43147054136297075, 'bagging_freq': 1, 'min_child_samples': 26}. Best is trial 45 with value: 1.0.\n",
      "<ipython-input-33-1c6539846d38>:86: ExperimentalWarning:\n",
      "\n",
      "upload_artifact is experimental (supported from v3.3.0). The interface can change in the future.\n",
      "\n",
      "<ipython-input-33-1c6539846d38>:94: ExperimentalWarning:\n",
      "\n",
      "upload_artifact is experimental (supported from v3.3.0). The interface can change in the future.\n",
      "\n",
      "[I 2024-08-18 19:04:18,898] Trial 301 finished with value: 0.2630468675628952 and parameters: {'lambda_l1': 0.22469541346078534, 'lambda_l2': 0.2119211797362879, 'num_leaves': 22, 'feature_fraction': 0.48397297852870175, 'bagging_fraction': 0.5016575371663305, 'bagging_freq': 1, 'min_child_samples': 22}. Best is trial 45 with value: 1.0.\n",
      "<ipython-input-33-1c6539846d38>:86: ExperimentalWarning:\n",
      "\n",
      "upload_artifact is experimental (supported from v3.3.0). The interface can change in the future.\n",
      "\n",
      "<ipython-input-33-1c6539846d38>:94: ExperimentalWarning:\n",
      "\n",
      "upload_artifact is experimental (supported from v3.3.0). The interface can change in the future.\n",
      "\n",
      "[I 2024-08-18 19:04:25,148] Trial 302 finished with value: 0.26361628702299117 and parameters: {'lambda_l1': 0.38828320379916814, 'lambda_l2': 6.4866710417759075, 'num_leaves': 16, 'feature_fraction': 0.5032251530922652, 'bagging_fraction': 0.41035188312686327, 'bagging_freq': 2, 'min_child_samples': 11}. Best is trial 45 with value: 1.0.\n",
      "<ipython-input-33-1c6539846d38>:86: ExperimentalWarning:\n",
      "\n",
      "upload_artifact is experimental (supported from v3.3.0). The interface can change in the future.\n",
      "\n",
      "<ipython-input-33-1c6539846d38>:94: ExperimentalWarning:\n",
      "\n",
      "upload_artifact is experimental (supported from v3.3.0). The interface can change in the future.\n",
      "\n",
      "[I 2024-08-18 19:04:32,458] Trial 303 finished with value: 0.258325417225456 and parameters: {'lambda_l1': 3.977029124229457, 'lambda_l2': 3.7634370960407026, 'num_leaves': 38, 'feature_fraction': 0.5440566226601028, 'bagging_fraction': 0.46553561154446355, 'bagging_freq': 1, 'min_child_samples': 34}. Best is trial 45 with value: 1.0.\n",
      "<ipython-input-33-1c6539846d38>:86: ExperimentalWarning:\n",
      "\n",
      "upload_artifact is experimental (supported from v3.3.0). The interface can change in the future.\n",
      "\n",
      "<ipython-input-33-1c6539846d38>:94: ExperimentalWarning:\n",
      "\n",
      "upload_artifact is experimental (supported from v3.3.0). The interface can change in the future.\n",
      "\n",
      "[I 2024-08-18 19:04:38,536] Trial 304 finished with value: 0.2512984234283451 and parameters: {'lambda_l1': 6.0367506146102405, 'lambda_l2': 1.0092907792158425, 'num_leaves': 54, 'feature_fraction': 0.531511035424461, 'bagging_fraction': 0.515026653045104, 'bagging_freq': 1, 'min_child_samples': 8}. Best is trial 45 with value: 1.0.\n",
      "<ipython-input-33-1c6539846d38>:86: ExperimentalWarning:\n",
      "\n",
      "upload_artifact is experimental (supported from v3.3.0). The interface can change in the future.\n",
      "\n",
      "<ipython-input-33-1c6539846d38>:94: ExperimentalWarning:\n",
      "\n",
      "upload_artifact is experimental (supported from v3.3.0). The interface can change in the future.\n",
      "\n",
      "[I 2024-08-18 19:04:45,369] Trial 305 finished with value: 0.25670742567296156 and parameters: {'lambda_l1': 1.4291096174829716, 'lambda_l2': 4.416838207352231e-08, 'num_leaves': 9, 'feature_fraction': 0.4685703379158298, 'bagging_fraction': 0.4412337603762137, 'bagging_freq': 1, 'min_child_samples': 24}. Best is trial 45 with value: 1.0.\n",
      "<ipython-input-33-1c6539846d38>:86: ExperimentalWarning:\n",
      "\n",
      "upload_artifact is experimental (supported from v3.3.0). The interface can change in the future.\n",
      "\n",
      "<ipython-input-33-1c6539846d38>:94: ExperimentalWarning:\n",
      "\n",
      "upload_artifact is experimental (supported from v3.3.0). The interface can change in the future.\n",
      "\n",
      "[I 2024-08-18 19:04:51,219] Trial 306 finished with value: 0.2610231806968078 and parameters: {'lambda_l1': 0.000288331007794868, 'lambda_l2': 1.998987015232389, 'num_leaves': 28, 'feature_fraction': 0.42658134607640996, 'bagging_fraction': 0.45508972139595816, 'bagging_freq': 2, 'min_child_samples': 19}. Best is trial 45 with value: 1.0.\n",
      "<ipython-input-33-1c6539846d38>:86: ExperimentalWarning:\n",
      "\n",
      "upload_artifact is experimental (supported from v3.3.0). The interface can change in the future.\n",
      "\n",
      "<ipython-input-33-1c6539846d38>:94: ExperimentalWarning:\n",
      "\n",
      "upload_artifact is experimental (supported from v3.3.0). The interface can change in the future.\n",
      "\n",
      "[I 2024-08-18 19:04:57,840] Trial 307 finished with value: 0.26197002939433606 and parameters: {'lambda_l1': 0.2561523782159033, 'lambda_l2': 5.939905409036079, 'num_leaves': 20, 'feature_fraction': 0.7376961050100092, 'bagging_fraction': 0.4877269219341447, 'bagging_freq': 1, 'min_child_samples': 31}. Best is trial 45 with value: 1.0.\n",
      "<ipython-input-33-1c6539846d38>:86: ExperimentalWarning:\n",
      "\n",
      "upload_artifact is experimental (supported from v3.3.0). The interface can change in the future.\n",
      "\n",
      "<ipython-input-33-1c6539846d38>:94: ExperimentalWarning:\n",
      "\n",
      "upload_artifact is experimental (supported from v3.3.0). The interface can change in the future.\n",
      "\n",
      "[I 2024-08-18 19:05:04,714] Trial 308 finished with value: 0.25871246391854574 and parameters: {'lambda_l1': 0.7861451275061782, 'lambda_l2': 0.4488216679802535, 'num_leaves': 47, 'feature_fraction': 0.4078280097883756, 'bagging_fraction': 0.47310695924206136, 'bagging_freq': 1, 'min_child_samples': 5}. Best is trial 45 with value: 1.0.\n",
      "<ipython-input-33-1c6539846d38>:86: ExperimentalWarning:\n",
      "\n",
      "upload_artifact is experimental (supported from v3.3.0). The interface can change in the future.\n",
      "\n",
      "<ipython-input-33-1c6539846d38>:94: ExperimentalWarning:\n",
      "\n",
      "upload_artifact is experimental (supported from v3.3.0). The interface can change in the future.\n",
      "\n",
      "[I 2024-08-18 19:05:12,708] Trial 309 finished with value: 0.259710974590594 and parameters: {'lambda_l1': 3.5113447852970914e-07, 'lambda_l2': 2.9568376329954504, 'num_leaves': 32, 'feature_fraction': 0.49554085019881694, 'bagging_fraction': 0.4453462300684641, 'bagging_freq': 1, 'min_child_samples': 76}. Best is trial 45 with value: 1.0.\n",
      "<ipython-input-33-1c6539846d38>:86: ExperimentalWarning:\n",
      "\n",
      "upload_artifact is experimental (supported from v3.3.0). The interface can change in the future.\n",
      "\n",
      "<ipython-input-33-1c6539846d38>:94: ExperimentalWarning:\n",
      "\n",
      "upload_artifact is experimental (supported from v3.3.0). The interface can change in the future.\n",
      "\n",
      "[I 2024-08-18 19:05:19,751] Trial 310 finished with value: 0.25149512887763636 and parameters: {'lambda_l1': 0.45226678680641436, 'lambda_l2': 4.183450400101111, 'num_leaves': 15, 'feature_fraction': 0.514597194653386, 'bagging_fraction': 0.4207791835078238, 'bagging_freq': 1, 'min_child_samples': 86}. Best is trial 45 with value: 1.0.\n",
      "<ipython-input-33-1c6539846d38>:86: ExperimentalWarning:\n",
      "\n",
      "upload_artifact is experimental (supported from v3.3.0). The interface can change in the future.\n",
      "\n",
      "<ipython-input-33-1c6539846d38>:94: ExperimentalWarning:\n",
      "\n",
      "upload_artifact is experimental (supported from v3.3.0). The interface can change in the future.\n",
      "\n",
      "[I 2024-08-18 19:05:26,913] Trial 311 finished with value: 0.26319669177115396 and parameters: {'lambda_l1': 2.2464535410368196, 'lambda_l2': 7.74042613780976, 'num_leaves': 161, 'feature_fraction': 0.5948228631530921, 'bagging_fraction': 0.5415450356002073, 'bagging_freq': 2, 'min_child_samples': 48}. Best is trial 45 with value: 1.0.\n",
      "<ipython-input-33-1c6539846d38>:86: ExperimentalWarning:\n",
      "\n",
      "upload_artifact is experimental (supported from v3.3.0). The interface can change in the future.\n",
      "\n",
      "<ipython-input-33-1c6539846d38>:94: ExperimentalWarning:\n",
      "\n",
      "upload_artifact is experimental (supported from v3.3.0). The interface can change in the future.\n",
      "\n",
      "[I 2024-08-18 19:05:33,664] Trial 312 finished with value: 0.2678644187368283 and parameters: {'lambda_l1': 0.1297815925757372, 'lambda_l2': 1.76218437517027, 'num_leaves': 23, 'feature_fraction': 0.5642345089709301, 'bagging_fraction': 0.4600384584813922, 'bagging_freq': 3, 'min_child_samples': 15}. Best is trial 45 with value: 1.0.\n",
      "<ipython-input-33-1c6539846d38>:86: ExperimentalWarning:\n",
      "\n",
      "upload_artifact is experimental (supported from v3.3.0). The interface can change in the future.\n",
      "\n",
      "<ipython-input-33-1c6539846d38>:94: ExperimentalWarning:\n",
      "\n",
      "upload_artifact is experimental (supported from v3.3.0). The interface can change in the future.\n",
      "\n",
      "[I 2024-08-18 19:05:41,093] Trial 313 finished with value: 0.2603803487151069 and parameters: {'lambda_l1': 0.5627788422172871, 'lambda_l2': 5.03358965803594, 'num_leaves': 36, 'feature_fraction': 0.44328924267460335, 'bagging_fraction': 0.4971421924427743, 'bagging_freq': 1, 'min_child_samples': 21}. Best is trial 45 with value: 1.0.\n",
      "<ipython-input-33-1c6539846d38>:86: ExperimentalWarning:\n",
      "\n",
      "upload_artifact is experimental (supported from v3.3.0). The interface can change in the future.\n",
      "\n",
      "<ipython-input-33-1c6539846d38>:94: ExperimentalWarning:\n",
      "\n",
      "upload_artifact is experimental (supported from v3.3.0). The interface can change in the future.\n",
      "\n",
      "[I 2024-08-18 19:05:47,539] Trial 314 finished with value: 0.251730895008878 and parameters: {'lambda_l1': 1.166749216882244, 'lambda_l2': 6.907350978826204, 'num_leaves': 6, 'feature_fraction': 0.5335634382356592, 'bagging_fraction': 0.4319341808871337, 'bagging_freq': 4, 'min_child_samples': 11}. Best is trial 45 with value: 1.0.\n",
      "<ipython-input-33-1c6539846d38>:86: ExperimentalWarning:\n",
      "\n",
      "upload_artifact is experimental (supported from v3.3.0). The interface can change in the future.\n",
      "\n",
      "<ipython-input-33-1c6539846d38>:94: ExperimentalWarning:\n",
      "\n",
      "upload_artifact is experimental (supported from v3.3.0). The interface can change in the future.\n",
      "\n",
      "[I 2024-08-18 19:05:53,460] Trial 315 finished with value: 0.26845886101676847 and parameters: {'lambda_l1': 0.0001783283619650657, 'lambda_l2': 2.5497272547904974, 'num_leaves': 27, 'feature_fraction': 0.9891241660157216, 'bagging_fraction': 0.5206954515374791, 'bagging_freq': 2, 'min_child_samples': 26}. Best is trial 45 with value: 1.0.\n",
      "<ipython-input-33-1c6539846d38>:86: ExperimentalWarning:\n",
      "\n",
      "upload_artifact is experimental (supported from v3.3.0). The interface can change in the future.\n",
      "\n",
      "<ipython-input-33-1c6539846d38>:94: ExperimentalWarning:\n",
      "\n",
      "upload_artifact is experimental (supported from v3.3.0). The interface can change in the future.\n",
      "\n",
      "[I 2024-08-18 19:06:00,011] Trial 316 finished with value: 0.2642207718910208 and parameters: {'lambda_l1': 0.27689019729130804, 'lambda_l2': 1.3677522611681485, 'num_leaves': 43, 'feature_fraction': 0.5038243996928456, 'bagging_fraction': 0.4809978780924544, 'bagging_freq': 1, 'min_child_samples': 28}. Best is trial 45 with value: 1.0.\n",
      "<ipython-input-33-1c6539846d38>:86: ExperimentalWarning:\n",
      "\n",
      "upload_artifact is experimental (supported from v3.3.0). The interface can change in the future.\n",
      "\n",
      "<ipython-input-33-1c6539846d38>:94: ExperimentalWarning:\n",
      "\n",
      "upload_artifact is experimental (supported from v3.3.0). The interface can change in the future.\n",
      "\n",
      "[I 2024-08-18 19:06:08,020] Trial 317 finished with value: 0.2627063285435657 and parameters: {'lambda_l1': 0.18809550568448397, 'lambda_l2': 4.138912866327964, 'num_leaves': 11, 'feature_fraction': 0.4839807747444107, 'bagging_fraction': 0.9563351822278414, 'bagging_freq': 1, 'min_child_samples': 23}. Best is trial 45 with value: 1.0.\n",
      "<ipython-input-33-1c6539846d38>:86: ExperimentalWarning:\n",
      "\n",
      "upload_artifact is experimental (supported from v3.3.0). The interface can change in the future.\n",
      "\n",
      "<ipython-input-33-1c6539846d38>:94: ExperimentalWarning:\n",
      "\n",
      "upload_artifact is experimental (supported from v3.3.0). The interface can change in the future.\n",
      "\n",
      "[I 2024-08-18 19:06:14,636] Trial 318 finished with value: 0.2518755156079756 and parameters: {'lambda_l1': 7.292377653955313, 'lambda_l2': 0.8386393610129246, 'num_leaves': 18, 'feature_fraction': 0.5175399819979931, 'bagging_fraction': 0.45135105107623613, 'bagging_freq': 7, 'min_child_samples': 17}. Best is trial 45 with value: 1.0.\n",
      "<ipython-input-33-1c6539846d38>:86: ExperimentalWarning:\n",
      "\n",
      "upload_artifact is experimental (supported from v3.3.0). The interface can change in the future.\n",
      "\n",
      "<ipython-input-33-1c6539846d38>:94: ExperimentalWarning:\n",
      "\n",
      "upload_artifact is experimental (supported from v3.3.0). The interface can change in the future.\n",
      "\n",
      "[I 2024-08-18 19:06:23,976] Trial 319 finished with value: 0.25792268419835934 and parameters: {'lambda_l1': 3.2334461419900857, 'lambda_l2': 7.232330254079155, 'num_leaves': 31, 'feature_fraction': 0.45695509848692817, 'bagging_fraction': 0.4624600236926042, 'bagging_freq': 1, 'min_child_samples': 13}. Best is trial 45 with value: 1.0.\n",
      "<ipython-input-33-1c6539846d38>:86: ExperimentalWarning:\n",
      "\n",
      "upload_artifact is experimental (supported from v3.3.0). The interface can change in the future.\n",
      "\n",
      "<ipython-input-33-1c6539846d38>:94: ExperimentalWarning:\n",
      "\n",
      "upload_artifact is experimental (supported from v3.3.0). The interface can change in the future.\n",
      "\n",
      "[I 2024-08-18 19:06:33,443] Trial 320 finished with value: 0.2649522396663077 and parameters: {'lambda_l1': 0.0907379334376419, 'lambda_l2': 9.45358659377744, 'num_leaves': 58, 'feature_fraction': 0.5532718966348648, 'bagging_fraction': 0.5045774352347931, 'bagging_freq': 2, 'min_child_samples': 8}. Best is trial 45 with value: 1.0.\n",
      "<ipython-input-33-1c6539846d38>:86: ExperimentalWarning:\n",
      "\n",
      "upload_artifact is experimental (supported from v3.3.0). The interface can change in the future.\n",
      "\n",
      "<ipython-input-33-1c6539846d38>:94: ExperimentalWarning:\n",
      "\n",
      "upload_artifact is experimental (supported from v3.3.0). The interface can change in the future.\n",
      "\n",
      "[I 2024-08-18 19:06:40,376] Trial 321 finished with value: 0.2636736782351006 and parameters: {'lambda_l1': 0.8132401461405998, 'lambda_l2': 0.0023940005589382384, 'num_leaves': 24, 'feature_fraction': 0.47112558448254704, 'bagging_fraction': 0.43845947469141516, 'bagging_freq': 1, 'min_child_samples': 10}. Best is trial 45 with value: 1.0.\n",
      "<ipython-input-33-1c6539846d38>:86: ExperimentalWarning:\n",
      "\n",
      "upload_artifact is experimental (supported from v3.3.0). The interface can change in the future.\n",
      "\n",
      "<ipython-input-33-1c6539846d38>:94: ExperimentalWarning:\n",
      "\n",
      "upload_artifact is experimental (supported from v3.3.0). The interface can change in the future.\n",
      "\n",
      "[I 2024-08-18 19:06:46,212] Trial 322 finished with value: 0.2575927882096269 and parameters: {'lambda_l1': 0.046888415346434904, 'lambda_l2': 9.985567487006174, 'num_leaves': 36, 'feature_fraction': 0.5265977587474406, 'bagging_fraction': 0.4747936158810601, 'bagging_freq': 2, 'min_child_samples': 19}. Best is trial 45 with value: 1.0.\n",
      "<ipython-input-33-1c6539846d38>:86: ExperimentalWarning:\n",
      "\n",
      "upload_artifact is experimental (supported from v3.3.0). The interface can change in the future.\n",
      "\n",
      "<ipython-input-33-1c6539846d38>:94: ExperimentalWarning:\n",
      "\n",
      "upload_artifact is experimental (supported from v3.3.0). The interface can change in the future.\n",
      "\n",
      "[I 2024-08-18 19:06:52,988] Trial 323 finished with value: 0.25696578560184613 and parameters: {'lambda_l1': 0.41610227158519153, 'lambda_l2': 4.900515992457712, 'num_leaves': 14, 'feature_fraction': 0.5838231168565788, 'bagging_fraction': 0.4045665416783843, 'bagging_freq': 1, 'min_child_samples': 22}. Best is trial 45 with value: 1.0.\n",
      "<ipython-input-33-1c6539846d38>:86: ExperimentalWarning:\n",
      "\n",
      "upload_artifact is experimental (supported from v3.3.0). The interface can change in the future.\n",
      "\n",
      "<ipython-input-33-1c6539846d38>:94: ExperimentalWarning:\n",
      "\n",
      "upload_artifact is experimental (supported from v3.3.0). The interface can change in the future.\n",
      "\n",
      "[I 2024-08-18 19:06:58,654] Trial 324 finished with value: 0.2586533623433178 and parameters: {'lambda_l1': 0.31764537304583257, 'lambda_l2': 2.798806367478871, 'num_leaves': 22, 'feature_fraction': 0.49499536171127617, 'bagging_fraction': 0.48885178602167934, 'bagging_freq': 1, 'min_child_samples': 25}. Best is trial 45 with value: 1.0.\n",
      "<ipython-input-33-1c6539846d38>:86: ExperimentalWarning:\n",
      "\n",
      "upload_artifact is experimental (supported from v3.3.0). The interface can change in the future.\n",
      "\n",
      "<ipython-input-33-1c6539846d38>:94: ExperimentalWarning:\n",
      "\n",
      "upload_artifact is experimental (supported from v3.3.0). The interface can change in the future.\n",
      "\n",
      "[I 2024-08-18 19:07:05,544] Trial 325 finished with value: 0.26276211564947105 and parameters: {'lambda_l1': 1.9012800573656499, 'lambda_l2': 0.0006310405973005555, 'num_leaves': 71, 'feature_fraction': 0.5417338282036134, 'bagging_fraction': 0.6199477139965553, 'bagging_freq': 1, 'min_child_samples': 14}. Best is trial 45 with value: 1.0.\n",
      "<ipython-input-33-1c6539846d38>:86: ExperimentalWarning:\n",
      "\n",
      "upload_artifact is experimental (supported from v3.3.0). The interface can change in the future.\n",
      "\n",
      "<ipython-input-33-1c6539846d38>:94: ExperimentalWarning:\n",
      "\n",
      "upload_artifact is experimental (supported from v3.3.0). The interface can change in the future.\n",
      "\n",
      "[I 2024-08-18 19:07:12,381] Trial 326 finished with value: 0.2565532824215267 and parameters: {'lambda_l1': 0.0038957488817278896, 'lambda_l2': 2.170805885314587, 'num_leaves': 27, 'feature_fraction': 0.4211112086277462, 'bagging_fraction': 0.5248854555477612, 'bagging_freq': 1, 'min_child_samples': 29}. Best is trial 45 with value: 1.0.\n",
      "<ipython-input-33-1c6539846d38>:86: ExperimentalWarning:\n",
      "\n",
      "upload_artifact is experimental (supported from v3.3.0). The interface can change in the future.\n",
      "\n",
      "<ipython-input-33-1c6539846d38>:94: ExperimentalWarning:\n",
      "\n",
      "upload_artifact is experimental (supported from v3.3.0). The interface can change in the future.\n",
      "\n",
      "[I 2024-08-18 19:07:19,506] Trial 327 finished with value: 0.2622274343278117 and parameters: {'lambda_l1': 0.6719031878569045, 'lambda_l2': 0.00010046813871147388, 'num_leaves': 49, 'feature_fraction': 0.5135972780771699, 'bagging_fraction': 0.42254001626634635, 'bagging_freq': 1, 'min_child_samples': 7}. Best is trial 45 with value: 1.0.\n",
      "<ipython-input-33-1c6539846d38>:86: ExperimentalWarning:\n",
      "\n",
      "upload_artifact is experimental (supported from v3.3.0). The interface can change in the future.\n",
      "\n",
      "<ipython-input-33-1c6539846d38>:94: ExperimentalWarning:\n",
      "\n",
      "upload_artifact is experimental (supported from v3.3.0). The interface can change in the future.\n",
      "\n",
      "[I 2024-08-18 19:07:23,769] Trial 328 finished with value: 0.20830287810958067 and parameters: {'lambda_l1': 0.16194728023353266, 'lambda_l2': 3.749172620948829, 'num_leaves': 2, 'feature_fraction': 0.6404339245787799, 'bagging_fraction': 0.46909426629776835, 'bagging_freq': 2, 'min_child_samples': 16}. Best is trial 45 with value: 1.0.\n",
      "<ipython-input-33-1c6539846d38>:86: ExperimentalWarning:\n",
      "\n",
      "upload_artifact is experimental (supported from v3.3.0). The interface can change in the future.\n",
      "\n",
      "<ipython-input-33-1c6539846d38>:94: ExperimentalWarning:\n",
      "\n",
      "upload_artifact is experimental (supported from v3.3.0). The interface can change in the future.\n",
      "\n",
      "[I 2024-08-18 19:07:31,014] Trial 329 finished with value: 0.2569685797028792 and parameters: {'lambda_l1': 1.1772460937127889, 'lambda_l2': 5.206560752020685, 'num_leaves': 32, 'feature_fraction': 0.4461882361265278, 'bagging_fraction': 0.4500953888474187, 'bagging_freq': 3, 'min_child_samples': 9}. Best is trial 45 with value: 1.0.\n",
      "<ipython-input-33-1c6539846d38>:86: ExperimentalWarning:\n",
      "\n",
      "upload_artifact is experimental (supported from v3.3.0). The interface can change in the future.\n",
      "\n",
      "<ipython-input-33-1c6539846d38>:94: ExperimentalWarning:\n",
      "\n",
      "upload_artifact is experimental (supported from v3.3.0). The interface can change in the future.\n",
      "\n",
      "[I 2024-08-18 19:07:36,634] Trial 330 finished with value: 0.25714342014360503 and parameters: {'lambda_l1': 0.5000679422443173, 'lambda_l2': 1.135530777730274, 'num_leaves': 18, 'feature_fraction': 0.656187399927573, 'bagging_fraction': 0.5050856003698896, 'bagging_freq': 5, 'min_child_samples': 32}. Best is trial 45 with value: 1.0.\n",
      "<ipython-input-33-1c6539846d38>:86: ExperimentalWarning:\n",
      "\n",
      "upload_artifact is experimental (supported from v3.3.0). The interface can change in the future.\n",
      "\n",
      "<ipython-input-33-1c6539846d38>:94: ExperimentalWarning:\n",
      "\n",
      "upload_artifact is experimental (supported from v3.3.0). The interface can change in the future.\n",
      "\n",
      "[I 2024-08-18 19:07:43,614] Trial 331 finished with value: 0.2579627376780512 and parameters: {'lambda_l1': 2.8571337602370317, 'lambda_l2': 0.5086585939064225, 'num_leaves': 38, 'feature_fraction': 0.48702403258710714, 'bagging_fraction': 0.4347396074171204, 'bagging_freq': 1, 'min_child_samples': 20}. Best is trial 45 with value: 1.0.\n",
      "<ipython-input-33-1c6539846d38>:86: ExperimentalWarning:\n",
      "\n",
      "upload_artifact is experimental (supported from v3.3.0). The interface can change in the future.\n",
      "\n",
      "<ipython-input-33-1c6539846d38>:94: ExperimentalWarning:\n",
      "\n",
      "upload_artifact is experimental (supported from v3.3.0). The interface can change in the future.\n",
      "\n",
      "[I 2024-08-18 19:07:52,077] Trial 332 finished with value: 0.261877700186611 and parameters: {'lambda_l1': 5.858238962980854, 'lambda_l2': 6.686295931239625, 'num_leaves': 120, 'feature_fraction': 0.5031952866996443, 'bagging_fraction': 0.7924448725934149, 'bagging_freq': 1, 'min_child_samples': 12}. Best is trial 45 with value: 1.0.\n",
      "<ipython-input-33-1c6539846d38>:86: ExperimentalWarning:\n",
      "\n",
      "upload_artifact is experimental (supported from v3.3.0). The interface can change in the future.\n",
      "\n",
      "<ipython-input-33-1c6539846d38>:94: ExperimentalWarning:\n",
      "\n",
      "upload_artifact is experimental (supported from v3.3.0). The interface can change in the future.\n",
      "\n",
      "[I 2024-08-18 19:07:57,995] Trial 333 finished with value: 0.23908491593560105 and parameters: {'lambda_l1': 9.943261732700483, 'lambda_l2': 1.6488423732881272, 'num_leaves': 8, 'feature_fraction': 0.524351169401375, 'bagging_fraction': 0.4898064770149297, 'bagging_freq': 2, 'min_child_samples': 23}. Best is trial 45 with value: 1.0.\n",
      "<ipython-input-33-1c6539846d38>:86: ExperimentalWarning:\n",
      "\n",
      "upload_artifact is experimental (supported from v3.3.0). The interface can change in the future.\n",
      "\n",
      "<ipython-input-33-1c6539846d38>:94: ExperimentalWarning:\n",
      "\n",
      "upload_artifact is experimental (supported from v3.3.0). The interface can change in the future.\n",
      "\n",
      "[I 2024-08-18 19:08:04,100] Trial 334 finished with value: 0.25978684958060905 and parameters: {'lambda_l1': 0.23460213790579326, 'lambda_l2': 3.1250031127261555, 'num_leaves': 25, 'feature_fraction': 0.5624565865250575, 'bagging_fraction': 0.5128750193298062, 'bagging_freq': 1, 'min_child_samples': 17}. Best is trial 45 with value: 1.0.\n",
      "<ipython-input-33-1c6539846d38>:86: ExperimentalWarning:\n",
      "\n",
      "upload_artifact is experimental (supported from v3.3.0). The interface can change in the future.\n",
      "\n",
      "<ipython-input-33-1c6539846d38>:94: ExperimentalWarning:\n",
      "\n",
      "upload_artifact is experimental (supported from v3.3.0). The interface can change in the future.\n",
      "\n",
      "[I 2024-08-18 19:08:11,403] Trial 335 finished with value: 0.259689818965496 and parameters: {'lambda_l1': 0.8611098895939095, 'lambda_l2': 5.3177913805181785, 'num_leaves': 44, 'feature_fraction': 0.46553375162366856, 'bagging_fraction': 0.5657736316824129, 'bagging_freq': 1, 'min_child_samples': 27}. Best is trial 45 with value: 1.0.\n",
      "<ipython-input-33-1c6539846d38>:86: ExperimentalWarning:\n",
      "\n",
      "upload_artifact is experimental (supported from v3.3.0). The interface can change in the future.\n",
      "\n",
      "<ipython-input-33-1c6539846d38>:94: ExperimentalWarning:\n",
      "\n",
      "upload_artifact is experimental (supported from v3.3.0). The interface can change in the future.\n",
      "\n",
      "[I 2024-08-18 19:08:17,714] Trial 336 finished with value: 0.26063900807626744 and parameters: {'lambda_l1': 0.39970819427962484, 'lambda_l2': 3.442623974824636, 'num_leaves': 19, 'feature_fraction': 0.4004934417085158, 'bagging_fraction': 0.5327235905996466, 'bagging_freq': 1, 'min_child_samples': 10}. Best is trial 45 with value: 1.0.\n",
      "<ipython-input-33-1c6539846d38>:86: ExperimentalWarning:\n",
      "\n",
      "upload_artifact is experimental (supported from v3.3.0). The interface can change in the future.\n",
      "\n",
      "<ipython-input-33-1c6539846d38>:94: ExperimentalWarning:\n",
      "\n",
      "upload_artifact is experimental (supported from v3.3.0). The interface can change in the future.\n",
      "\n",
      "[I 2024-08-18 19:08:23,656] Trial 337 finished with value: 0.25425836078669234 and parameters: {'lambda_l1': 0.11022368885296772, 'lambda_l2': 9.664295478754964, 'num_leaves': 13, 'feature_fraction': 0.43584000789646726, 'bagging_fraction': 0.4700959540283306, 'bagging_freq': 6, 'min_child_samples': 37}. Best is trial 45 with value: 1.0.\n",
      "<ipython-input-33-1c6539846d38>:86: ExperimentalWarning:\n",
      "\n",
      "upload_artifact is experimental (supported from v3.3.0). The interface can change in the future.\n",
      "\n",
      "<ipython-input-33-1c6539846d38>:94: ExperimentalWarning:\n",
      "\n",
      "upload_artifact is experimental (supported from v3.3.0). The interface can change in the future.\n",
      "\n",
      "[I 2024-08-18 19:08:30,352] Trial 338 finished with value: 0.26386720306512523 and parameters: {'lambda_l1': 3.998352163587319, 'lambda_l2': 2.247494260685303, 'num_leaves': 31, 'feature_fraction': 0.5369289938358712, 'bagging_fraction': 0.4564162465306927, 'bagging_freq': 2, 'min_child_samples': 13}. Best is trial 45 with value: 1.0.\n",
      "<ipython-input-33-1c6539846d38>:86: ExperimentalWarning:\n",
      "\n",
      "upload_artifact is experimental (supported from v3.3.0). The interface can change in the future.\n",
      "\n",
      "<ipython-input-33-1c6539846d38>:94: ExperimentalWarning:\n",
      "\n",
      "upload_artifact is experimental (supported from v3.3.0). The interface can change in the future.\n",
      "\n",
      "[I 2024-08-18 19:08:37,061] Trial 339 finished with value: 0.25989534633115596 and parameters: {'lambda_l1': 0.5980048312592106, 'lambda_l2': 0.31934855828643993, 'num_leaves': 82, 'feature_fraction': 0.5137936872021344, 'bagging_fraction': 0.4844588450798767, 'bagging_freq': 1, 'min_child_samples': 25}. Best is trial 45 with value: 1.0.\n",
      "<ipython-input-33-1c6539846d38>:86: ExperimentalWarning:\n",
      "\n",
      "upload_artifact is experimental (supported from v3.3.0). The interface can change in the future.\n",
      "\n",
      "<ipython-input-33-1c6539846d38>:94: ExperimentalWarning:\n",
      "\n",
      "upload_artifact is experimental (supported from v3.3.0). The interface can change in the future.\n",
      "\n",
      "[I 2024-08-18 19:08:43,495] Trial 340 finished with value: 0.2563371315612864 and parameters: {'lambda_l1': 1.7362077807018006, 'lambda_l2': 6.531529761465366, 'num_leaves': 21, 'feature_fraction': 0.48057199055725364, 'bagging_fraction': 0.44313529219822023, 'bagging_freq': 1, 'min_child_samples': 21}. Best is trial 45 with value: 1.0.\n",
      "<ipython-input-33-1c6539846d38>:86: ExperimentalWarning:\n",
      "\n",
      "upload_artifact is experimental (supported from v3.3.0). The interface can change in the future.\n",
      "\n",
      "<ipython-input-33-1c6539846d38>:94: ExperimentalWarning:\n",
      "\n",
      "upload_artifact is experimental (supported from v3.3.0). The interface can change in the future.\n",
      "\n",
      "[I 2024-08-18 19:08:50,219] Trial 341 finished with value: 0.25808402534691066 and parameters: {'lambda_l1': 0.017001793825677795, 'lambda_l2': 0.8305861328847992, 'num_leaves': 62, 'feature_fraction': 0.4987130638000419, 'bagging_fraction': 0.4227081712208007, 'bagging_freq': 1, 'min_child_samples': 7}. Best is trial 45 with value: 1.0.\n",
      "<ipython-input-33-1c6539846d38>:86: ExperimentalWarning:\n",
      "\n",
      "upload_artifact is experimental (supported from v3.3.0). The interface can change in the future.\n",
      "\n",
      "<ipython-input-33-1c6539846d38>:94: ExperimentalWarning:\n",
      "\n",
      "upload_artifact is experimental (supported from v3.3.0). The interface can change in the future.\n",
      "\n",
      "[I 2024-08-18 19:08:57,772] Trial 342 finished with value: 0.2656667706861868 and parameters: {'lambda_l1': 0.29974884349625974, 'lambda_l2': 4.8758365542413395, 'num_leaves': 54, 'feature_fraction': 0.5445882542580808, 'bagging_fraction': 0.4970041818374771, 'bagging_freq': 2, 'min_child_samples': 15}. Best is trial 45 with value: 1.0.\n",
      "<ipython-input-33-1c6539846d38>:86: ExperimentalWarning:\n",
      "\n",
      "upload_artifact is experimental (supported from v3.3.0). The interface can change in the future.\n",
      "\n",
      "<ipython-input-33-1c6539846d38>:94: ExperimentalWarning:\n",
      "\n",
      "upload_artifact is experimental (supported from v3.3.0). The interface can change in the future.\n",
      "\n",
      "[I 2024-08-18 19:09:03,120] Trial 343 finished with value: 0.2593848959448474 and parameters: {'lambda_l1': 0.15921649165777293, 'lambda_l2': 0.11707370446600877, 'num_leaves': 27, 'feature_fraction': 0.5273733470731427, 'bagging_fraction': 0.4630876417627763, 'bagging_freq': 1, 'min_child_samples': 18}. Best is trial 45 with value: 1.0.\n",
      "<ipython-input-33-1c6539846d38>:86: ExperimentalWarning:\n",
      "\n",
      "upload_artifact is experimental (supported from v3.3.0). The interface can change in the future.\n",
      "\n",
      "<ipython-input-33-1c6539846d38>:94: ExperimentalWarning:\n",
      "\n",
      "upload_artifact is experimental (supported from v3.3.0). The interface can change in the future.\n",
      "\n",
      "[I 2024-08-18 19:09:09,663] Trial 344 finished with value: 0.26128787359241934 and parameters: {'lambda_l1': 1.038273277726627, 'lambda_l2': 1.5327076160082032, 'num_leaves': 11, 'feature_fraction': 0.5736346986977954, 'bagging_fraction': 0.4776879306427526, 'bagging_freq': 1, 'min_child_samples': 11}. Best is trial 45 with value: 1.0.\n",
      "<ipython-input-33-1c6539846d38>:86: ExperimentalWarning:\n",
      "\n",
      "upload_artifact is experimental (supported from v3.3.0). The interface can change in the future.\n",
      "\n",
      "<ipython-input-33-1c6539846d38>:94: ExperimentalWarning:\n",
      "\n",
      "upload_artifact is experimental (supported from v3.3.0). The interface can change in the future.\n",
      "\n",
      "[I 2024-08-18 19:09:16,649] Trial 345 finished with value: 0.26922293288224813 and parameters: {'lambda_l1': 0.4519013982912197, 'lambda_l2': 1.6657608094281618e-06, 'num_leaves': 39, 'feature_fraction': 0.45719332225731113, 'bagging_fraction': 0.43977089728354973, 'bagging_freq': 2, 'min_child_samples': 23}. Best is trial 45 with value: 1.0.\n",
      "<ipython-input-33-1c6539846d38>:86: ExperimentalWarning:\n",
      "\n",
      "upload_artifact is experimental (supported from v3.3.0). The interface can change in the future.\n",
      "\n",
      "<ipython-input-33-1c6539846d38>:94: ExperimentalWarning:\n",
      "\n",
      "upload_artifact is experimental (supported from v3.3.0). The interface can change in the future.\n",
      "\n",
      "[I 2024-08-18 19:09:23,082] Trial 346 finished with value: 0.2579035077632427 and parameters: {'lambda_l1': 0.06949906962609087, 'lambda_l2': 7.242386430091151, 'num_leaves': 33, 'feature_fraction': 0.5042756143658437, 'bagging_fraction': 0.5186066196788466, 'bagging_freq': 1, 'min_child_samples': 20}. Best is trial 45 with value: 1.0.\n",
      "<ipython-input-33-1c6539846d38>:86: ExperimentalWarning:\n",
      "\n",
      "upload_artifact is experimental (supported from v3.3.0). The interface can change in the future.\n",
      "\n",
      "<ipython-input-33-1c6539846d38>:94: ExperimentalWarning:\n",
      "\n",
      "upload_artifact is experimental (supported from v3.3.0). The interface can change in the future.\n",
      "\n",
      "[I 2024-08-18 19:09:30,036] Trial 347 finished with value: 0.2634201624146142 and parameters: {'lambda_l1': 0.7243294669452166, 'lambda_l2': 9.775065771055143, 'num_leaves': 16, 'feature_fraction': 0.8758784824286877, 'bagging_fraction': 0.4501292607829469, 'bagging_freq': 1, 'min_child_samples': 41}. Best is trial 45 with value: 1.0.\n",
      "<ipython-input-33-1c6539846d38>:86: ExperimentalWarning:\n",
      "\n",
      "upload_artifact is experimental (supported from v3.3.0). The interface can change in the future.\n",
      "\n",
      "<ipython-input-33-1c6539846d38>:94: ExperimentalWarning:\n",
      "\n",
      "upload_artifact is experimental (supported from v3.3.0). The interface can change in the future.\n",
      "\n",
      "[I 2024-08-18 19:09:35,934] Trial 348 finished with value: 0.25129515129538077 and parameters: {'lambda_l1': 2.6468391882900404, 'lambda_l2': 3.4406239138487957, 'num_leaves': 22, 'feature_fraction': 0.47543086808498897, 'bagging_fraction': 0.4590398598788988, 'bagging_freq': 1, 'min_child_samples': 5}. Best is trial 45 with value: 1.0.\n",
      "<ipython-input-33-1c6539846d38>:86: ExperimentalWarning:\n",
      "\n",
      "upload_artifact is experimental (supported from v3.3.0). The interface can change in the future.\n",
      "\n",
      "<ipython-input-33-1c6539846d38>:94: ExperimentalWarning:\n",
      "\n",
      "upload_artifact is experimental (supported from v3.3.0). The interface can change in the future.\n",
      "\n",
      "[I 2024-08-18 19:09:42,462] Trial 349 finished with value: 0.2635943215553393 and parameters: {'lambda_l1': 1.5131549474423693, 'lambda_l2': 0.02746063991661313, 'num_leaves': 46, 'feature_fraction': 0.5514809289478972, 'bagging_fraction': 0.5433722116571149, 'bagging_freq': 4, 'min_child_samples': 9}. Best is trial 45 with value: 1.0.\n",
      "<ipython-input-33-1c6539846d38>:86: ExperimentalWarning:\n",
      "\n",
      "upload_artifact is experimental (supported from v3.3.0). The interface can change in the future.\n",
      "\n",
      "<ipython-input-33-1c6539846d38>:94: ExperimentalWarning:\n",
      "\n",
      "upload_artifact is experimental (supported from v3.3.0). The interface can change in the future.\n",
      "\n",
      "[I 2024-08-18 19:09:47,411] Trial 350 finished with value: 0.24754665587866218 and parameters: {'lambda_l1': 0.029463317451820348, 'lambda_l2': 5.145324145476247, 'num_leaves': 6, 'feature_fraction': 0.4155420440732224, 'bagging_fraction': 0.5005100666946377, 'bagging_freq': 3, 'min_child_samples': 30}. Best is trial 45 with value: 1.0.\n",
      "<ipython-input-33-1c6539846d38>:86: ExperimentalWarning:\n",
      "\n",
      "upload_artifact is experimental (supported from v3.3.0). The interface can change in the future.\n",
      "\n",
      "<ipython-input-33-1c6539846d38>:94: ExperimentalWarning:\n",
      "\n",
      "upload_artifact is experimental (supported from v3.3.0). The interface can change in the future.\n",
      "\n",
      "[I 2024-08-18 19:09:52,644] Trial 351 finished with value: 0.26335184039917486 and parameters: {'lambda_l1': 0.24318693606758732, 'lambda_l2': 2.2772349726562315, 'num_leaves': 26, 'feature_fraction': 0.5164360773139663, 'bagging_fraction': 0.47642346266478774, 'bagging_freq': 2, 'min_child_samples': 24}. Best is trial 45 with value: 1.0.\n",
      "<ipython-input-33-1c6539846d38>:86: ExperimentalWarning:\n",
      "\n",
      "upload_artifact is experimental (supported from v3.3.0). The interface can change in the future.\n",
      "\n",
      "<ipython-input-33-1c6539846d38>:94: ExperimentalWarning:\n",
      "\n",
      "upload_artifact is experimental (supported from v3.3.0). The interface can change in the future.\n",
      "\n",
      "[I 2024-08-18 19:09:59,052] Trial 352 finished with value: 0.23778512380362646 and parameters: {'lambda_l1': 6.672130628354792, 'lambda_l2': 3.6313373905877158, 'num_leaves': 30, 'feature_fraction': 0.4923101136230262, 'bagging_fraction': 0.4287932923087463, 'bagging_freq': 1, 'min_child_samples': 13}. Best is trial 45 with value: 1.0.\n",
      "<ipython-input-33-1c6539846d38>:86: ExperimentalWarning:\n",
      "\n",
      "upload_artifact is experimental (supported from v3.3.0). The interface can change in the future.\n",
      "\n",
      "<ipython-input-33-1c6539846d38>:94: ExperimentalWarning:\n",
      "\n",
      "upload_artifact is experimental (supported from v3.3.0). The interface can change in the future.\n",
      "\n",
      "[I 2024-08-18 19:10:04,303] Trial 353 finished with value: 0.25960662321777345 and parameters: {'lambda_l1': 0.4606827901272526, 'lambda_l2': 1.1385651457669588, 'num_leaves': 18, 'feature_fraction': 0.6847297052197742, 'bagging_fraction': 0.4463874626490487, 'bagging_freq': 1, 'min_child_samples': 27}. Best is trial 45 with value: 1.0.\n",
      "<ipython-input-33-1c6539846d38>:86: ExperimentalWarning:\n",
      "\n",
      "upload_artifact is experimental (supported from v3.3.0). The interface can change in the future.\n",
      "\n",
      "<ipython-input-33-1c6539846d38>:94: ExperimentalWarning:\n",
      "\n",
      "upload_artifact is experimental (supported from v3.3.0). The interface can change in the future.\n",
      "\n",
      "[I 2024-08-18 19:10:11,192] Trial 354 finished with value: 0.2590503226101669 and parameters: {'lambda_l1': 0.30908620653033, 'lambda_l2': 7.023147188592152, 'num_leaves': 39, 'feature_fraction': 0.44848394594659224, 'bagging_fraction': 0.5117307957925346, 'bagging_freq': 1, 'min_child_samples': 33}. Best is trial 45 with value: 1.0.\n",
      "<ipython-input-33-1c6539846d38>:86: ExperimentalWarning:\n",
      "\n",
      "upload_artifact is experimental (supported from v3.3.0). The interface can change in the future.\n",
      "\n",
      "<ipython-input-33-1c6539846d38>:94: ExperimentalWarning:\n",
      "\n",
      "upload_artifact is experimental (supported from v3.3.0). The interface can change in the future.\n",
      "\n",
      "[I 2024-08-18 19:10:17,255] Trial 355 finished with value: 0.2585235015411891 and parameters: {'lambda_l1': 1.1195958981627858, 'lambda_l2': 2.543790643408983, 'num_leaves': 12, 'feature_fraction': 0.5244433163309732, 'bagging_fraction': 0.48974659483835853, 'bagging_freq': 1, 'min_child_samples': 15}. Best is trial 45 with value: 1.0.\n",
      "<ipython-input-33-1c6539846d38>:86: ExperimentalWarning:\n",
      "\n",
      "upload_artifact is experimental (supported from v3.3.0). The interface can change in the future.\n",
      "\n",
      "<ipython-input-33-1c6539846d38>:94: ExperimentalWarning:\n",
      "\n",
      "upload_artifact is experimental (supported from v3.3.0). The interface can change in the future.\n",
      "\n",
      "[I 2024-08-18 19:10:24,673] Trial 356 finished with value: 0.2544190045213497 and parameters: {'lambda_l1': 4.054583818028069, 'lambda_l2': 9.86102960896592, 'num_leaves': 23, 'feature_fraction': 0.43307719828299274, 'bagging_fraction': 0.46655205866787464, 'bagging_freq': 2, 'min_child_samples': 18}. Best is trial 45 with value: 1.0.\n",
      "<ipython-input-33-1c6539846d38>:86: ExperimentalWarning:\n",
      "\n",
      "upload_artifact is experimental (supported from v3.3.0). The interface can change in the future.\n",
      "\n",
      "<ipython-input-33-1c6539846d38>:94: ExperimentalWarning:\n",
      "\n",
      "upload_artifact is experimental (supported from v3.3.0). The interface can change in the future.\n",
      "\n",
      "[I 2024-08-18 19:10:32,505] Trial 357 finished with value: 0.25884451785469537 and parameters: {'lambda_l1': 0.7486096465949199, 'lambda_l2': 4.698050765081847, 'num_leaves': 36, 'feature_fraction': 0.5074323851879453, 'bagging_fraction': 0.4106669891476257, 'bagging_freq': 1, 'min_child_samples': 22}. Best is trial 45 with value: 1.0.\n",
      "<ipython-input-33-1c6539846d38>:86: ExperimentalWarning:\n",
      "\n",
      "upload_artifact is experimental (supported from v3.3.0). The interface can change in the future.\n",
      "\n",
      "<ipython-input-33-1c6539846d38>:94: ExperimentalWarning:\n",
      "\n",
      "upload_artifact is experimental (supported from v3.3.0). The interface can change in the future.\n",
      "\n",
      "[I 2024-08-18 19:10:39,807] Trial 358 finished with value: 0.2584021978816357 and parameters: {'lambda_l1': 0.1738104912449993, 'lambda_l2': 1.656703215480233, 'num_leaves': 100, 'feature_fraction': 0.5366767960430187, 'bagging_fraction': 0.4561462984552346, 'bagging_freq': 7, 'min_child_samples': 11}. Best is trial 45 with value: 1.0.\n",
      "<ipython-input-33-1c6539846d38>:86: ExperimentalWarning:\n",
      "\n",
      "upload_artifact is experimental (supported from v3.3.0). The interface can change in the future.\n",
      "\n",
      "<ipython-input-33-1c6539846d38>:94: ExperimentalWarning:\n",
      "\n",
      "upload_artifact is experimental (supported from v3.3.0). The interface can change in the future.\n",
      "\n",
      "[I 2024-08-18 19:10:45,171] Trial 359 finished with value: 0.2633480580156966 and parameters: {'lambda_l1': 0.5755964313173992, 'lambda_l2': 0.7171534918505158, 'num_leaves': 28, 'feature_fraction': 0.7880621490821588, 'bagging_fraction': 0.5243405171851329, 'bagging_freq': 1, 'min_child_samples': 25}. Best is trial 45 with value: 1.0.\n",
      "<ipython-input-33-1c6539846d38>:86: ExperimentalWarning:\n",
      "\n",
      "upload_artifact is experimental (supported from v3.3.0). The interface can change in the future.\n",
      "\n",
      "<ipython-input-33-1c6539846d38>:94: ExperimentalWarning:\n",
      "\n",
      "upload_artifact is experimental (supported from v3.3.0). The interface can change in the future.\n",
      "\n",
      "[I 2024-08-18 19:10:51,437] Trial 360 finished with value: 0.2567092309533644 and parameters: {'lambda_l1': 0.11634640355666331, 'lambda_l2': 0.24502799230352737, 'num_leaves': 16, 'feature_fraction': 0.4884464062570778, 'bagging_fraction': 0.4352488620622613, 'bagging_freq': 1, 'min_child_samples': 7}. Best is trial 45 with value: 1.0.\n",
      "<ipython-input-33-1c6539846d38>:86: ExperimentalWarning:\n",
      "\n",
      "upload_artifact is experimental (supported from v3.3.0). The interface can change in the future.\n",
      "\n",
      "<ipython-input-33-1c6539846d38>:94: ExperimentalWarning:\n",
      "\n",
      "upload_artifact is experimental (supported from v3.3.0). The interface can change in the future.\n",
      "\n",
      "[I 2024-08-18 19:10:54,576] Trial 361 finished with value: 0.197782021971113 and parameters: {'lambda_l1': 0.34448789817433134, 'lambda_l2': 5.881519909473325, 'num_leaves': 2, 'feature_fraction': 0.5577737554664984, 'bagging_fraction': 0.5524000068101461, 'bagging_freq': 2, 'min_child_samples': 35}. Best is trial 45 with value: 1.0.\n",
      "<ipython-input-33-1c6539846d38>:86: ExperimentalWarning:\n",
      "\n",
      "upload_artifact is experimental (supported from v3.3.0). The interface can change in the future.\n",
      "\n",
      "<ipython-input-33-1c6539846d38>:94: ExperimentalWarning:\n",
      "\n",
      "upload_artifact is experimental (supported from v3.3.0). The interface can change in the future.\n",
      "\n",
      "[I 2024-08-18 19:11:01,232] Trial 362 finished with value: 0.2582082131030494 and parameters: {'lambda_l1': 2.343871526456517, 'lambda_l2': 3.0728551914100226, 'num_leaves': 33, 'feature_fraction': 0.46925236001065435, 'bagging_fraction': 0.47802393800055315, 'bagging_freq': 1, 'min_child_samples': 9}. Best is trial 45 with value: 1.0.\n",
      "<ipython-input-33-1c6539846d38>:86: ExperimentalWarning:\n",
      "\n",
      "upload_artifact is experimental (supported from v3.3.0). The interface can change in the future.\n",
      "\n",
      "<ipython-input-33-1c6539846d38>:94: ExperimentalWarning:\n",
      "\n",
      "upload_artifact is experimental (supported from v3.3.0). The interface can change in the future.\n",
      "\n",
      "[I 2024-08-18 19:11:09,764] Trial 363 finished with value: 0.25981937756228707 and parameters: {'lambda_l1': 5.77374034134571, 'lambda_l2': 9.937889521386525, 'num_leaves': 53, 'feature_fraction': 0.519985540386071, 'bagging_fraction': 0.6934188566830429, 'bagging_freq': 6, 'min_child_samples': 20}. Best is trial 45 with value: 1.0.\n",
      "<ipython-input-33-1c6539846d38>:86: ExperimentalWarning:\n",
      "\n",
      "upload_artifact is experimental (supported from v3.3.0). The interface can change in the future.\n",
      "\n",
      "<ipython-input-33-1c6539846d38>:94: ExperimentalWarning:\n",
      "\n",
      "upload_artifact is experimental (supported from v3.3.0). The interface can change in the future.\n",
      "\n",
      "[I 2024-08-18 19:11:17,098] Trial 364 finished with value: 0.26547027013317936 and parameters: {'lambda_l1': 0.05041621900243193, 'lambda_l2': 4.504574172675981, 'num_leaves': 43, 'feature_fraction': 0.5377052958044529, 'bagging_fraction': 0.5005070006940653, 'bagging_freq': 2, 'min_child_samples': 13}. Best is trial 45 with value: 1.0.\n",
      "<ipython-input-33-1c6539846d38>:86: ExperimentalWarning:\n",
      "\n",
      "upload_artifact is experimental (supported from v3.3.0). The interface can change in the future.\n",
      "\n",
      "<ipython-input-33-1c6539846d38>:94: ExperimentalWarning:\n",
      "\n",
      "upload_artifact is experimental (supported from v3.3.0). The interface can change in the future.\n",
      "\n",
      "[I 2024-08-18 19:11:22,777] Trial 365 finished with value: 0.25836480948928486 and parameters: {'lambda_l1': 0.20642069979668076, 'lambda_l2': 6.825535044612879, 'num_leaves': 21, 'feature_fraction': 0.4979628970179426, 'bagging_fraction': 0.466116994574191, 'bagging_freq': 1, 'min_child_samples': 29}. Best is trial 45 with value: 1.0.\n",
      "<ipython-input-33-1c6539846d38>:86: ExperimentalWarning:\n",
      "\n",
      "upload_artifact is experimental (supported from v3.3.0). The interface can change in the future.\n",
      "\n",
      "<ipython-input-33-1c6539846d38>:94: ExperimentalWarning:\n",
      "\n",
      "upload_artifact is experimental (supported from v3.3.0). The interface can change in the future.\n",
      "\n",
      "[I 2024-08-18 19:11:29,651] Trial 366 finished with value: 0.2583954846415093 and parameters: {'lambda_l1': 1.4325945228920958, 'lambda_l2': 2.2167902276974756, 'num_leaves': 10, 'feature_fraction': 0.5115772258492133, 'bagging_fraction': 0.44759525521002275, 'bagging_freq': 3, 'min_child_samples': 16}. Best is trial 45 with value: 1.0.\n",
      "<ipython-input-33-1c6539846d38>:86: ExperimentalWarning:\n",
      "\n",
      "upload_artifact is experimental (supported from v3.3.0). The interface can change in the future.\n",
      "\n",
      "<ipython-input-33-1c6539846d38>:94: ExperimentalWarning:\n",
      "\n",
      "upload_artifact is experimental (supported from v3.3.0). The interface can change in the future.\n",
      "\n",
      "[I 2024-08-18 19:11:36,623] Trial 367 finished with value: 0.25978711123952875 and parameters: {'lambda_l1': 0.5293211171637242, 'lambda_l2': 3.9005814595221353, 'num_leaves': 26, 'feature_fraction': 0.4268037210928005, 'bagging_fraction': 0.5342069071210899, 'bagging_freq': 1, 'min_child_samples': 22}. Best is trial 45 with value: 1.0.\n"
     ]
    }
   ],
   "source": [
    "#Inicio el store de artefactos (archivos) de optuna\n",
    "artifact_store = FileSystemArtifactStore(base_path=PATH_TO_OPTUNA_ARTIFACTS)\n",
    "\n",
    "#Genero estudio\n",
    "study = optuna.create_study(direction='maximize',\n",
    "                            storage=\"sqlite:///work/db.sqlite3\",  # Specify the storage URL here.\n",
    "                            study_name=\"04 - LGB Multiclass CV\",\n",
    "                            load_if_exists = True)\n",
    "#Corro la optimizacion\n",
    "study.optimize(cv_es_lgb_objective, n_trials=100)"
   ]
  },
  {
   "cell_type": "markdown",
   "metadata": {},
   "source": [
    "Para ver el optuna dashboard tengo que correr este comando en la terminal"
   ]
  },
  {
   "cell_type": "code",
   "execution_count": 35,
   "metadata": {},
   "outputs": [
    {
     "name": "stdout",
     "output_type": "stream",
     "text": [
      "Requirement already satisfied: kaleido in c:\\users\\s1093678\\anaconda3\\lib\\site-packages (0.2.1)\n"
     ]
    }
   ],
   "source": [
    "!pip install kaleido\n"
   ]
  },
  {
   "cell_type": "code",
   "execution_count": 36,
   "metadata": {},
   "outputs": [
    {
     "name": "stderr",
     "output_type": "stream",
     "text": [
      "Traceback (most recent call last):\n",
      "  File \"c:\\users\\s1093678\\anaconda3\\lib\\runpy.py\", line 194, in _run_module_as_main\n",
      "    return _run_code(code, main_globals, None,\n",
      "  File \"c:\\users\\s1093678\\anaconda3\\lib\\runpy.py\", line 87, in _run_code\n",
      "    exec(code, run_globals)\n",
      "  File \"C:\\Users\\s1093678\\Anaconda3\\Scripts\\optuna-dashboard.exe\\__main__.py\", line 7, in <module>\n",
      "  File \"c:\\users\\s1093678\\anaconda3\\lib\\site-packages\\optuna_dashboard\\_cli.py\", line 119, in main\n",
      "    storage = get_storage(args.storage, storage_class=args.storage_class)\n",
      "  File \"c:\\users\\s1093678\\anaconda3\\lib\\site-packages\\optuna_dashboard\\_storage_url.py\", line 59, in get_storage\n",
      "    return guess_storage_from_url(storage)\n",
      "  File \"c:\\users\\s1093678\\anaconda3\\lib\\site-packages\\optuna_dashboard\\_storage_url.py\", line 78, in guess_storage_from_url\n",
      "    raise ValueError(\n",
      "ValueError: Please specify 'sqlite:///sqlite:///../work/db.sqlite3' to use SQLite3 (RDBStorage)\n"
     ]
    }
   ],
   "source": [
    "!optuna-dashboard sqlite:///../work/db.sqlite3 --artifact-dir ../work/optuna_artifacts --port 8081"
   ]
  },
  {
   "cell_type": "code",
   "execution_count": 37,
   "metadata": {},
   "outputs": [],
   "source": [
    "#para proxima clase hacer feature engeneering (agregar feature, health , colores, etc) pq hasta aca solo s ehizo con los variables numericas\n",
    "#TENER UN MODELO CANDIDATO TABULAR PARA SEGUIR ADELANTE \n",
    "#VAMOS A VER LA EJECUCION DE UN MODELO PARA BUCAR HIPERPARAMETROS ETC \n",
    "#DAR CON UN MODELO GANADOR\n"
   ]
  }
 ],
 "metadata": {
  "kernelspec": {
   "display_name": "ldi2",
   "language": "python",
   "name": "python3"
  },
  "language_info": {
   "codemirror_mode": {
    "name": "ipython",
    "version": 3
   },
   "file_extension": ".py",
   "mimetype": "text/x-python",
   "name": "python",
   "nbconvert_exporter": "python",
   "pygments_lexer": "ipython3",
   "version": "3.8.8"
  }
 },
 "nbformat": 4,
 "nbformat_minor": 2
}
