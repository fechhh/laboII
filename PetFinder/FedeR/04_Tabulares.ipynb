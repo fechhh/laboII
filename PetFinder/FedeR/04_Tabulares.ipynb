{
 "cells": [
  {
   "cell_type": "markdown",
   "metadata": {},
   "source": [
    "## Modelo datos estructurados\n",
    "Este notebook desarrolla un primer modelo para resolver el problema de Petfinder. Empezamos haciendo un modelo inicial muy simple para ver la viabilidad de resolver el problema. Luego analizamos como se comporta la métrica kappa propuesta y vemos la matriz de confusión. Finalmente hacemos una optimizacin de hiperparametros evaluando con train/test y otra validando con 5 fold CV y testeando en el 20% de los datos"
   ]
  },
  {
   "cell_type": "code",
   "execution_count": 1,
   "metadata": {},
   "outputs": [],
   "source": [
    "#Import de librerias basicas tablas y matrices\n",
    "import numpy as np \n",
    "import pandas as pd \n",
    "\n",
    "#Gradient Boosting\n",
    "import lightgbm as lgb\n",
    "\n",
    "#Funciones auxiliares sklearn\n",
    "from sklearn.preprocessing import MinMaxScaler\n",
    "from sklearn.model_selection import train_test_split, StratifiedKFold #Split y cross Validation\n",
    "from sklearn.metrics import cohen_kappa_score, accuracy_score, balanced_accuracy_score #Metricas\n",
    "from sklearn.preprocessing import OneHotEncoder\n",
    "\n",
    "# from sklearn.utils import shuffle \n",
    "\n",
    "#Visualizacióon\n",
    "from plotly import express as px\n",
    "\n",
    "#Plot de matriz de confusion normalizada en actuals\n",
    "from utils import plot_confusion_matrix\n",
    "\n",
    "import os\n",
    "\n",
    "#Optimizacion de hiperparametros\n",
    "import optuna\n",
    "from optuna.artifacts import FileSystemArtifactStore, upload_artifact\n",
    "\n",
    "#Guardado de objetos en archivos joblib\n",
    "from joblib import load, dump\n"
   ]
  },
  {
   "cell_type": "code",
   "execution_count": 2,
   "metadata": {},
   "outputs": [],
   "source": [
    "#PONER LA ESTRUCUTRA DE CARPETAS COMO SE VE AQUI ABAJO !!!"
   ]
  },
  {
   "cell_type": "code",
   "execution_count": 3,
   "metadata": {},
   "outputs": [],
   "source": [
    "# Paths para acceso archivos\n",
    "#Este notebook asume la siguiente estructura de carpetas a partir de la ubicacion de base_dir \n",
    "#(dos niveles arriba de la carpeta donde se ejecuta el notebook). \n",
    "# /UA_MDM_LDI_II/\n",
    "# /UA_MDM_LDI_II/input\n",
    "# /UA_MDM_LDI_II/input/petfinder-adoption-prediction/            <- Aca deben ir todos los archivos de datos de la competencia \n",
    "# /UA_MDM_LDI_II/tutoriales/                       <- Aca deben poner los notebooks y scripts que les compartimos\n",
    "# /UA_MDM_LDI_II/work/                             <- Resultados de notebooks iran dentro de esta carpeta en subcarpetas\n",
    "# /UA_MDM_LDI_II/work/models/                     <- Modelos entrenados en archivos joblibs\n",
    "# /UA_MDM_LDI_II/work/optuna_temp_artifacts/      <- Archivos que queremos dejar como artefacto de un trial de optuna (optuna los copiara a la carpeta de abajo)\n",
    "# /UA_MDM_LDI_II/work/optuna_artifacts/           <- Archivos con artefactos que sibimos a optuna\n",
    "\n",
    "#Subimos dos niveles para quedar en la carpeta que contiene input y UA_MDM_LDI_II\n",
    "BASE_DIR = ''\n",
    "\n",
    "#Datos de entrenamiento \n",
    "PATH_TO_TRAIN = os.path.join(BASE_DIR, \"input/petfinder-adoption-prediction/train/train.csv\")\n",
    "\n",
    "#Salida de modelos entrenados\n",
    "PATH_TO_MODELS = os.path.join(BASE_DIR, \"work/models\")\n",
    "\n",
    "#Artefactos a subir a optuna\n",
    "PATH_TO_TEMP_FILES = os.path.join(BASE_DIR, \"work/optuna_temp_artifacts\")\n",
    "\n",
    "#Artefactos que optuna gestiona\n",
    "PATH_TO_OPTUNA_ARTIFACTS = os.path.join(BASE_DIR, \"work/optuna_artifacts\")\n",
    "\n",
    "\n",
    "SEED = 42 #Semilla de procesos aleatorios (para poder replicar exactamente al volver a correr un modelo)\n",
    "TEST_SIZE = 0.2 #Facción para train/test= split \n",
    "\n",
    "#PONER CUALQUIER SEMILLLA Y 20% DEL DATASTE USAMOS"
   ]
  },
  {
   "cell_type": "code",
   "execution_count": 4,
   "metadata": {},
   "outputs": [],
   "source": [
    "#NUESTRO TODO ES TRAIN ... ENTONCES EN BASE A ESE DATASET HACEMOS TRAIN Y TEST"
   ]
  },
  {
   "cell_type": "code",
   "execution_count": 5,
   "metadata": {},
   "outputs": [],
   "source": [
    "# Datos Tabulares\n",
    "dataset = pd.read_csv(PATH_TO_TRAIN)"
   ]
  },
  {
   "cell_type": "code",
   "execution_count": 6,
   "metadata": {},
   "outputs": [
    {
     "data": {
      "text/plain": [
       "Index(['Type', 'Name', 'Age', 'Breed1', 'Breed2', 'Gender', 'Color1', 'Color2',\n",
       "       'Color3', 'MaturitySize', 'FurLength', 'Vaccinated', 'Dewormed',\n",
       "       'Sterilized', 'Health', 'Quantity', 'Fee', 'State', 'RescuerID',\n",
       "       'VideoAmt', 'Description', 'PetID', 'PhotoAmt', 'AdoptionSpeed'],\n",
       "      dtype='object')"
      ]
     },
     "execution_count": 6,
     "metadata": {},
     "output_type": "execute_result"
    }
   ],
   "source": [
    "#Columnas del dataset\n",
    "dataset.columns"
   ]
  },
  {
   "cell_type": "code",
   "execution_count": 7,
   "metadata": {},
   "outputs": [
    {
     "data": {
      "text/html": [
       "<div>\n",
       "<style scoped>\n",
       "    .dataframe tbody tr th:only-of-type {\n",
       "        vertical-align: middle;\n",
       "    }\n",
       "\n",
       "    .dataframe tbody tr th {\n",
       "        vertical-align: top;\n",
       "    }\n",
       "\n",
       "    .dataframe thead th {\n",
       "        text-align: right;\n",
       "    }\n",
       "</style>\n",
       "<table border=\"1\" class=\"dataframe\">\n",
       "  <thead>\n",
       "    <tr style=\"text-align: right;\">\n",
       "      <th></th>\n",
       "      <th>Type</th>\n",
       "      <th>Name</th>\n",
       "      <th>Age</th>\n",
       "      <th>Breed1</th>\n",
       "      <th>Breed2</th>\n",
       "      <th>Gender</th>\n",
       "      <th>Color1</th>\n",
       "      <th>Color2</th>\n",
       "      <th>Color3</th>\n",
       "      <th>MaturitySize</th>\n",
       "      <th>...</th>\n",
       "      <th>Health</th>\n",
       "      <th>Quantity</th>\n",
       "      <th>Fee</th>\n",
       "      <th>State</th>\n",
       "      <th>RescuerID</th>\n",
       "      <th>VideoAmt</th>\n",
       "      <th>Description</th>\n",
       "      <th>PetID</th>\n",
       "      <th>PhotoAmt</th>\n",
       "      <th>AdoptionSpeed</th>\n",
       "    </tr>\n",
       "  </thead>\n",
       "  <tbody>\n",
       "    <tr>\n",
       "      <th>0</th>\n",
       "      <td>2</td>\n",
       "      <td>Nibble</td>\n",
       "      <td>3</td>\n",
       "      <td>299</td>\n",
       "      <td>0</td>\n",
       "      <td>1</td>\n",
       "      <td>1</td>\n",
       "      <td>7</td>\n",
       "      <td>0</td>\n",
       "      <td>1</td>\n",
       "      <td>...</td>\n",
       "      <td>1</td>\n",
       "      <td>1</td>\n",
       "      <td>100</td>\n",
       "      <td>41326</td>\n",
       "      <td>8480853f516546f6cf33aa88cd76c379</td>\n",
       "      <td>0</td>\n",
       "      <td>Nibble is a 3+ month old ball of cuteness. He ...</td>\n",
       "      <td>86e1089a3</td>\n",
       "      <td>1.0</td>\n",
       "      <td>2</td>\n",
       "    </tr>\n",
       "    <tr>\n",
       "      <th>1</th>\n",
       "      <td>2</td>\n",
       "      <td>No Name Yet</td>\n",
       "      <td>1</td>\n",
       "      <td>265</td>\n",
       "      <td>0</td>\n",
       "      <td>1</td>\n",
       "      <td>1</td>\n",
       "      <td>2</td>\n",
       "      <td>0</td>\n",
       "      <td>2</td>\n",
       "      <td>...</td>\n",
       "      <td>1</td>\n",
       "      <td>1</td>\n",
       "      <td>0</td>\n",
       "      <td>41401</td>\n",
       "      <td>3082c7125d8fb66f7dd4bff4192c8b14</td>\n",
       "      <td>0</td>\n",
       "      <td>I just found it alone yesterday near my apartm...</td>\n",
       "      <td>6296e909a</td>\n",
       "      <td>2.0</td>\n",
       "      <td>0</td>\n",
       "    </tr>\n",
       "    <tr>\n",
       "      <th>2</th>\n",
       "      <td>1</td>\n",
       "      <td>Brisco</td>\n",
       "      <td>1</td>\n",
       "      <td>307</td>\n",
       "      <td>0</td>\n",
       "      <td>1</td>\n",
       "      <td>2</td>\n",
       "      <td>7</td>\n",
       "      <td>0</td>\n",
       "      <td>2</td>\n",
       "      <td>...</td>\n",
       "      <td>1</td>\n",
       "      <td>1</td>\n",
       "      <td>0</td>\n",
       "      <td>41326</td>\n",
       "      <td>fa90fa5b1ee11c86938398b60abc32cb</td>\n",
       "      <td>0</td>\n",
       "      <td>Their pregnant mother was dumped by her irresp...</td>\n",
       "      <td>3422e4906</td>\n",
       "      <td>7.0</td>\n",
       "      <td>3</td>\n",
       "    </tr>\n",
       "    <tr>\n",
       "      <th>3</th>\n",
       "      <td>1</td>\n",
       "      <td>Miko</td>\n",
       "      <td>4</td>\n",
       "      <td>307</td>\n",
       "      <td>0</td>\n",
       "      <td>2</td>\n",
       "      <td>1</td>\n",
       "      <td>2</td>\n",
       "      <td>0</td>\n",
       "      <td>2</td>\n",
       "      <td>...</td>\n",
       "      <td>1</td>\n",
       "      <td>1</td>\n",
       "      <td>150</td>\n",
       "      <td>41401</td>\n",
       "      <td>9238e4f44c71a75282e62f7136c6b240</td>\n",
       "      <td>0</td>\n",
       "      <td>Good guard dog, very alert, active, obedience ...</td>\n",
       "      <td>5842f1ff5</td>\n",
       "      <td>8.0</td>\n",
       "      <td>2</td>\n",
       "    </tr>\n",
       "    <tr>\n",
       "      <th>4</th>\n",
       "      <td>1</td>\n",
       "      <td>Hunter</td>\n",
       "      <td>1</td>\n",
       "      <td>307</td>\n",
       "      <td>0</td>\n",
       "      <td>1</td>\n",
       "      <td>1</td>\n",
       "      <td>0</td>\n",
       "      <td>0</td>\n",
       "      <td>2</td>\n",
       "      <td>...</td>\n",
       "      <td>1</td>\n",
       "      <td>1</td>\n",
       "      <td>0</td>\n",
       "      <td>41326</td>\n",
       "      <td>95481e953f8aed9ec3d16fc4509537e8</td>\n",
       "      <td>0</td>\n",
       "      <td>This handsome yet cute boy is up for adoption....</td>\n",
       "      <td>850a43f90</td>\n",
       "      <td>3.0</td>\n",
       "      <td>2</td>\n",
       "    </tr>\n",
       "  </tbody>\n",
       "</table>\n",
       "<p>5 rows × 24 columns</p>\n",
       "</div>"
      ],
      "text/plain": [
       "   Type         Name  Age  Breed1  Breed2  Gender  Color1  Color2  Color3  \\\n",
       "0     2       Nibble    3     299       0       1       1       7       0   \n",
       "1     2  No Name Yet    1     265       0       1       1       2       0   \n",
       "2     1       Brisco    1     307       0       1       2       7       0   \n",
       "3     1         Miko    4     307       0       2       1       2       0   \n",
       "4     1       Hunter    1     307       0       1       1       0       0   \n",
       "\n",
       "   MaturitySize  ...  Health  Quantity  Fee  State  \\\n",
       "0             1  ...       1         1  100  41326   \n",
       "1             2  ...       1         1    0  41401   \n",
       "2             2  ...       1         1    0  41326   \n",
       "3             2  ...       1         1  150  41401   \n",
       "4             2  ...       1         1    0  41326   \n",
       "\n",
       "                          RescuerID  VideoAmt  \\\n",
       "0  8480853f516546f6cf33aa88cd76c379         0   \n",
       "1  3082c7125d8fb66f7dd4bff4192c8b14         0   \n",
       "2  fa90fa5b1ee11c86938398b60abc32cb         0   \n",
       "3  9238e4f44c71a75282e62f7136c6b240         0   \n",
       "4  95481e953f8aed9ec3d16fc4509537e8         0   \n",
       "\n",
       "                                         Description      PetID PhotoAmt  \\\n",
       "0  Nibble is a 3+ month old ball of cuteness. He ...  86e1089a3      1.0   \n",
       "1  I just found it alone yesterday near my apartm...  6296e909a      2.0   \n",
       "2  Their pregnant mother was dumped by her irresp...  3422e4906      7.0   \n",
       "3  Good guard dog, very alert, active, obedience ...  5842f1ff5      8.0   \n",
       "4  This handsome yet cute boy is up for adoption....  850a43f90      3.0   \n",
       "\n",
       "   AdoptionSpeed  \n",
       "0              2  \n",
       "1              0  \n",
       "2              3  \n",
       "3              2  \n",
       "4              2  \n",
       "\n",
       "[5 rows x 24 columns]"
      ]
     },
     "execution_count": 7,
     "metadata": {},
     "output_type": "execute_result"
    }
   ],
   "source": [
    "dataset.head()"
   ]
  },
  {
   "cell_type": "markdown",
   "metadata": {},
   "source": [
    "## FEATURE ENGENEERING\n",
    "Haremos modificaciones en el dataset para ver si mejora o no la fuerza predictiva del modelo base"
   ]
  },
  {
   "cell_type": "code",
   "execution_count": 8,
   "metadata": {},
   "outputs": [
    {
     "data": {
      "text/plain": [
       "Type                0\n",
       "Name             1257\n",
       "Age                 0\n",
       "Breed1              0\n",
       "Breed2              0\n",
       "Gender              0\n",
       "Color1              0\n",
       "Color2              0\n",
       "Color3              0\n",
       "MaturitySize        0\n",
       "FurLength           0\n",
       "Vaccinated          0\n",
       "Dewormed            0\n",
       "Sterilized          0\n",
       "Health              0\n",
       "Quantity            0\n",
       "Fee                 0\n",
       "State               0\n",
       "RescuerID           0\n",
       "VideoAmt            0\n",
       "Description        12\n",
       "PetID               0\n",
       "PhotoAmt            0\n",
       "AdoptionSpeed       0\n",
       "dtype: int64"
      ]
     },
     "execution_count": 8,
     "metadata": {},
     "output_type": "execute_result"
    }
   ],
   "source": [
    "#Imputar datos faltantes en Nombre\n",
    "dataset.isnull().sum()"
   ]
  },
  {
   "cell_type": "code",
   "execution_count": 9,
   "metadata": {},
   "outputs": [],
   "source": [
    "#Nuevas variables \n",
    "\n",
    "# Categorizacion de edad\n",
    "# Crear cateogrias de edad para los animales\n",
    "bins = [0, 12, 60, float('inf')]  # Define la cantidad de categorias y los limites de las mismas\n",
    "labels = [1,2 ,3 ] #1='puppy' 2='adult' 3='senior'\n",
    "dataset['AgeCategory'] = pd.cut(dataset['Age'], bins, labels=labels, right=False)\n",
    "\n",
    "# Combinacion para Breed\n",
    "# Create una nueva variable que indique si el animal es de raza pura o mestizo\n",
    "dataset['Breed'] = dataset.apply(lambda row: 2 if row['Breed2'] != 0 else 1, axis=1)\n",
    "\n",
    "# Color\n",
    "# analizar si el animal tiene mas de un color ( MIXTO O PURO)\n",
    "dataset['IsMultiColored'] = dataset.apply(lambda row: 1 if row['Color2'] != 0 or row['Color3'] != 0 else 0, axis=1)\n",
    "\n",
    "#Name\n",
    "# Crear variable que indique si el animal tiene o no nombre\n",
    "dataset['Name'].fillna('No Name Yet', inplace=True)\n",
    "dataset['Name'] = dataset['Name'].replace('', 'No Name Yet')\n",
    "dataset['name_code'] = dataset['Name'].apply(lambda x: 1 if x != 'No Name Yet' else 0)\n",
    "\n",
    "# Creación de nuevas características\n",
    "dataset['Age_log'] = np.log1p(dataset['Age']) #logaritmo de la edad\n",
    "dataset['PhotoAmt_log'] = np.log1p(dataset['PhotoAmt']) #logaritmo de la cantidad de fotos\n",
    "dataset['VideoAmt_log'] = np.log1p(dataset['VideoAmt']) #logaritmo de la cantidad de videos\n",
    "\n",
    "# Interacciones entre características\n",
    "dataset['Age_PhotoAmt'] = dataset['Age'] * dataset['PhotoAmt'] #relación entre la edad de la mascota y la cantidad de fotos\n",
    "dataset['Age_VideoAmt'] = dataset['Age'] * dataset['VideoAmt'] #relación entre la edad de la mascota y la cantidad de videos\n",
    "\n",
    "# Agregaciones y agrupaciones\n",
    "dataset['Breed1_mean_Age'] = dataset.groupby('Breed1')['Age'].transform('mean') #promedio de edad por raza\n",
    "dataset['Breed1_mean_PhotoAmt'] = dataset.groupby('Breed1')['PhotoAmt'].transform('mean') #promedio de fotos por raza\n",
    "\n"
   ]
  },
  {
   "cell_type": "code",
   "execution_count": 10,
   "metadata": {},
   "outputs": [
    {
     "data": {
      "text/html": [
       "<div>\n",
       "<style scoped>\n",
       "    .dataframe tbody tr th:only-of-type {\n",
       "        vertical-align: middle;\n",
       "    }\n",
       "\n",
       "    .dataframe tbody tr th {\n",
       "        vertical-align: top;\n",
       "    }\n",
       "\n",
       "    .dataframe thead th {\n",
       "        text-align: right;\n",
       "    }\n",
       "</style>\n",
       "<table border=\"1\" class=\"dataframe\">\n",
       "  <thead>\n",
       "    <tr style=\"text-align: right;\">\n",
       "      <th></th>\n",
       "      <th>Type</th>\n",
       "      <th>Name</th>\n",
       "      <th>Age</th>\n",
       "      <th>Breed1</th>\n",
       "      <th>Breed2</th>\n",
       "      <th>Gender</th>\n",
       "      <th>Color1</th>\n",
       "      <th>Color2</th>\n",
       "      <th>Color3</th>\n",
       "      <th>MaturitySize</th>\n",
       "      <th>...</th>\n",
       "      <th>Breed</th>\n",
       "      <th>IsMultiColored</th>\n",
       "      <th>name_code</th>\n",
       "      <th>Age_log</th>\n",
       "      <th>PhotoAmt_log</th>\n",
       "      <th>VideoAmt_log</th>\n",
       "      <th>Age_PhotoAmt</th>\n",
       "      <th>Age_VideoAmt</th>\n",
       "      <th>Breed1_mean_Age</th>\n",
       "      <th>Breed1_mean_PhotoAmt</th>\n",
       "    </tr>\n",
       "  </thead>\n",
       "  <tbody>\n",
       "    <tr>\n",
       "      <th>0</th>\n",
       "      <td>2</td>\n",
       "      <td>Nibble</td>\n",
       "      <td>3</td>\n",
       "      <td>299</td>\n",
       "      <td>0</td>\n",
       "      <td>1</td>\n",
       "      <td>1</td>\n",
       "      <td>7</td>\n",
       "      <td>0</td>\n",
       "      <td>1</td>\n",
       "      <td>...</td>\n",
       "      <td>1</td>\n",
       "      <td>1</td>\n",
       "      <td>1</td>\n",
       "      <td>1.386294</td>\n",
       "      <td>0.693147</td>\n",
       "      <td>0.0</td>\n",
       "      <td>3.0</td>\n",
       "      <td>0</td>\n",
       "      <td>7.532164</td>\n",
       "      <td>4.052632</td>\n",
       "    </tr>\n",
       "    <tr>\n",
       "      <th>1</th>\n",
       "      <td>2</td>\n",
       "      <td>No Name Yet</td>\n",
       "      <td>1</td>\n",
       "      <td>265</td>\n",
       "      <td>0</td>\n",
       "      <td>1</td>\n",
       "      <td>1</td>\n",
       "      <td>2</td>\n",
       "      <td>0</td>\n",
       "      <td>2</td>\n",
       "      <td>...</td>\n",
       "      <td>1</td>\n",
       "      <td>1</td>\n",
       "      <td>0</td>\n",
       "      <td>0.693147</td>\n",
       "      <td>1.098612</td>\n",
       "      <td>0.0</td>\n",
       "      <td>2.0</td>\n",
       "      <td>0</td>\n",
       "      <td>6.282194</td>\n",
       "      <td>4.085851</td>\n",
       "    </tr>\n",
       "    <tr>\n",
       "      <th>2</th>\n",
       "      <td>1</td>\n",
       "      <td>Brisco</td>\n",
       "      <td>1</td>\n",
       "      <td>307</td>\n",
       "      <td>0</td>\n",
       "      <td>1</td>\n",
       "      <td>2</td>\n",
       "      <td>7</td>\n",
       "      <td>0</td>\n",
       "      <td>2</td>\n",
       "      <td>...</td>\n",
       "      <td>1</td>\n",
       "      <td>1</td>\n",
       "      <td>1</td>\n",
       "      <td>0.693147</td>\n",
       "      <td>2.079442</td>\n",
       "      <td>0.0</td>\n",
       "      <td>7.0</td>\n",
       "      <td>0</td>\n",
       "      <td>7.541421</td>\n",
       "      <td>3.863675</td>\n",
       "    </tr>\n",
       "    <tr>\n",
       "      <th>3</th>\n",
       "      <td>1</td>\n",
       "      <td>Miko</td>\n",
       "      <td>4</td>\n",
       "      <td>307</td>\n",
       "      <td>0</td>\n",
       "      <td>2</td>\n",
       "      <td>1</td>\n",
       "      <td>2</td>\n",
       "      <td>0</td>\n",
       "      <td>2</td>\n",
       "      <td>...</td>\n",
       "      <td>1</td>\n",
       "      <td>1</td>\n",
       "      <td>1</td>\n",
       "      <td>1.609438</td>\n",
       "      <td>2.197225</td>\n",
       "      <td>0.0</td>\n",
       "      <td>32.0</td>\n",
       "      <td>0</td>\n",
       "      <td>7.541421</td>\n",
       "      <td>3.863675</td>\n",
       "    </tr>\n",
       "    <tr>\n",
       "      <th>4</th>\n",
       "      <td>1</td>\n",
       "      <td>Hunter</td>\n",
       "      <td>1</td>\n",
       "      <td>307</td>\n",
       "      <td>0</td>\n",
       "      <td>1</td>\n",
       "      <td>1</td>\n",
       "      <td>0</td>\n",
       "      <td>0</td>\n",
       "      <td>2</td>\n",
       "      <td>...</td>\n",
       "      <td>1</td>\n",
       "      <td>0</td>\n",
       "      <td>1</td>\n",
       "      <td>0.693147</td>\n",
       "      <td>1.386294</td>\n",
       "      <td>0.0</td>\n",
       "      <td>3.0</td>\n",
       "      <td>0</td>\n",
       "      <td>7.541421</td>\n",
       "      <td>3.863675</td>\n",
       "    </tr>\n",
       "  </tbody>\n",
       "</table>\n",
       "<p>5 rows × 35 columns</p>\n",
       "</div>"
      ],
      "text/plain": [
       "   Type         Name  Age  Breed1  Breed2  Gender  Color1  Color2  Color3  \\\n",
       "0     2       Nibble    3     299       0       1       1       7       0   \n",
       "1     2  No Name Yet    1     265       0       1       1       2       0   \n",
       "2     1       Brisco    1     307       0       1       2       7       0   \n",
       "3     1         Miko    4     307       0       2       1       2       0   \n",
       "4     1       Hunter    1     307       0       1       1       0       0   \n",
       "\n",
       "   MaturitySize  ...  Breed  IsMultiColored  name_code   Age_log  \\\n",
       "0             1  ...      1               1          1  1.386294   \n",
       "1             2  ...      1               1          0  0.693147   \n",
       "2             2  ...      1               1          1  0.693147   \n",
       "3             2  ...      1               1          1  1.609438   \n",
       "4             2  ...      1               0          1  0.693147   \n",
       "\n",
       "   PhotoAmt_log  VideoAmt_log  Age_PhotoAmt  Age_VideoAmt Breed1_mean_Age  \\\n",
       "0      0.693147           0.0           3.0             0        7.532164   \n",
       "1      1.098612           0.0           2.0             0        6.282194   \n",
       "2      2.079442           0.0           7.0             0        7.541421   \n",
       "3      2.197225           0.0          32.0             0        7.541421   \n",
       "4      1.386294           0.0           3.0             0        7.541421   \n",
       "\n",
       "   Breed1_mean_PhotoAmt  \n",
       "0              4.052632  \n",
       "1              4.085851  \n",
       "2              3.863675  \n",
       "3              3.863675  \n",
       "4              3.863675  \n",
       "\n",
       "[5 rows x 35 columns]"
      ]
     },
     "execution_count": 10,
     "metadata": {},
     "output_type": "execute_result"
    }
   ],
   "source": [
    "dataset.head()"
   ]
  },
  {
   "cell_type": "code",
   "execution_count": 11,
   "metadata": {},
   "outputs": [
    {
     "name": "stdout",
     "output_type": "stream",
     "text": [
      "Variables numéricas: ['Type', 'Age', 'Breed1', 'Breed2', 'Gender', 'Color1', 'Color2', 'Color3', 'MaturitySize', 'FurLength', 'Vaccinated', 'Dewormed', 'Sterilized', 'Health', 'Quantity', 'Fee', 'State', 'VideoAmt', 'PhotoAmt', 'AdoptionSpeed', 'Breed', 'IsMultiColored', 'name_code', 'Age_log', 'PhotoAmt_log', 'VideoAmt_log', 'Age_PhotoAmt', 'Age_VideoAmt', 'Breed1_mean_Age', 'Breed1_mean_PhotoAmt']\n",
      "Variables categóricas: ['Name', 'RescuerID', 'Description', 'PetID', 'AgeCategory']\n"
     ]
    }
   ],
   "source": [
    "# Supongamos que 'dataset' es tu DataFrame\n",
    "\n",
    "# Listar variables numéricas\n",
    "numeric_features = dataset.select_dtypes(include=['number']).columns.tolist()\n",
    "print(\"Variables numéricas:\", numeric_features)\n",
    "\n",
    "# Listar variables categóricas\n",
    "categorical_features = dataset.select_dtypes(include=['object', 'category']).columns.tolist()\n",
    "print(\"Variables categóricas:\", categorical_features)"
   ]
  },
  {
   "cell_type": "code",
   "execution_count": 12,
   "metadata": {},
   "outputs": [],
   "source": [
    "#Este fragmento de código define una función add_new_variables_with_lgbm que agrega nuevas variables a un conjunto de datos utilizando un modelo de LightGBM. Aquí está el desglose paso a paso:\n",
    "def add_new_variables_with_lgbm(dataset):\n",
    "    # Selección de características numéricas y categóricas:\n",
    "    numeric_features = ['Age', 'VideoAmt', 'PhotoAmt', 'AgeCategory', 'IsMultiColored', 'name_code','Age_log', 'PhotoAmt_log', 'VideoAmt_log', 'Age_PhotoAmt', 'Age_VideoAmt', 'Breed1_mean_Age', 'Breed1_mean_PhotoAmt']\n",
    "    categorical_features = ['Type', 'Breed1', 'Breed2', 'Gender', 'Color1', 'Color2', 'Color3']\n",
    "\n",
    "    # Codificación de características categóricas:\n",
    "    encoded_features = pd.get_dummies(dataset[categorical_features], columns=categorical_features, prefix=categorical_features)\n",
    "\n",
    "    # Concatenación de características numéricas y codificadas:\n",
    "    processed_dataset = pd.concat([dataset[numeric_features], encoded_features], axis=1)\n",
    "\n",
    "    # Creación del conjunto de datos de entrenamiento:\n",
    "    target = dataset['AdoptionSpeed']\n",
    "    train_data = lgb.Dataset(processed_dataset, label=target, params={'verbose': -1})\n",
    "\n",
    "    # Definición de parámetros de LightGBM\n",
    "    lgb_params = {\n",
    "        'objective': 'multiclass',\n",
    "        'num_class': 5,  \n",
    "        'metric': 'multi_logloss',\n",
    "        'boosting_type': 'gbdt',\n",
    "    }\n",
    "\n",
    "    # Entrenamiento del modelo LightGBM:\n",
    "    model = lgb.train(lgb_params, train_data)\n",
    "\n",
    "    # Obtención de predicciones para cada muestra:\n",
    "    predictions = model.predict(processed_dataset)\n",
    "\n",
    "    # Adición de nuevas variables basadas en las predicciones:\n",
    "    for class_num in range(5):  \n",
    "        dataset[f'prediction_class_{class_num}'] = predictions[:, class_num]\n",
    "\n",
    "    return dataset\n",
    "\n",
    "# Llamada a la función con el DataFrame:\n",
    "df_with_new_variables = add_new_variables_with_lgbm(dataset.copy())  # Usar dataset.copy() para evitar modificar el DataFrame original"
   ]
  },
  {
   "cell_type": "code",
   "execution_count": 13,
   "metadata": {},
   "outputs": [
    {
     "data": {
      "text/html": [
       "<div>\n",
       "<style scoped>\n",
       "    .dataframe tbody tr th:only-of-type {\n",
       "        vertical-align: middle;\n",
       "    }\n",
       "\n",
       "    .dataframe tbody tr th {\n",
       "        vertical-align: top;\n",
       "    }\n",
       "\n",
       "    .dataframe thead th {\n",
       "        text-align: right;\n",
       "    }\n",
       "</style>\n",
       "<table border=\"1\" class=\"dataframe\">\n",
       "  <thead>\n",
       "    <tr style=\"text-align: right;\">\n",
       "      <th></th>\n",
       "      <th>Type</th>\n",
       "      <th>Name</th>\n",
       "      <th>Age</th>\n",
       "      <th>Breed1</th>\n",
       "      <th>Breed2</th>\n",
       "      <th>Gender</th>\n",
       "      <th>Color1</th>\n",
       "      <th>Color2</th>\n",
       "      <th>Color3</th>\n",
       "      <th>MaturitySize</th>\n",
       "      <th>...</th>\n",
       "      <th>VideoAmt_log</th>\n",
       "      <th>Age_PhotoAmt</th>\n",
       "      <th>Age_VideoAmt</th>\n",
       "      <th>Breed1_mean_Age</th>\n",
       "      <th>Breed1_mean_PhotoAmt</th>\n",
       "      <th>prediction_class_0</th>\n",
       "      <th>prediction_class_1</th>\n",
       "      <th>prediction_class_2</th>\n",
       "      <th>prediction_class_3</th>\n",
       "      <th>prediction_class_4</th>\n",
       "    </tr>\n",
       "  </thead>\n",
       "  <tbody>\n",
       "    <tr>\n",
       "      <th>0</th>\n",
       "      <td>2</td>\n",
       "      <td>Nibble</td>\n",
       "      <td>3</td>\n",
       "      <td>299</td>\n",
       "      <td>0</td>\n",
       "      <td>1</td>\n",
       "      <td>1</td>\n",
       "      <td>7</td>\n",
       "      <td>0</td>\n",
       "      <td>1</td>\n",
       "      <td>...</td>\n",
       "      <td>0.0</td>\n",
       "      <td>3.0</td>\n",
       "      <td>0</td>\n",
       "      <td>7.532164</td>\n",
       "      <td>4.052632</td>\n",
       "      <td>0.037444</td>\n",
       "      <td>0.262202</td>\n",
       "      <td>0.341899</td>\n",
       "      <td>0.174184</td>\n",
       "      <td>0.184271</td>\n",
       "    </tr>\n",
       "    <tr>\n",
       "      <th>1</th>\n",
       "      <td>2</td>\n",
       "      <td>No Name Yet</td>\n",
       "      <td>1</td>\n",
       "      <td>265</td>\n",
       "      <td>0</td>\n",
       "      <td>1</td>\n",
       "      <td>1</td>\n",
       "      <td>2</td>\n",
       "      <td>0</td>\n",
       "      <td>2</td>\n",
       "      <td>...</td>\n",
       "      <td>0.0</td>\n",
       "      <td>2.0</td>\n",
       "      <td>0</td>\n",
       "      <td>6.282194</td>\n",
       "      <td>4.085851</td>\n",
       "      <td>0.038419</td>\n",
       "      <td>0.394528</td>\n",
       "      <td>0.266756</td>\n",
       "      <td>0.123176</td>\n",
       "      <td>0.177121</td>\n",
       "    </tr>\n",
       "    <tr>\n",
       "      <th>2</th>\n",
       "      <td>1</td>\n",
       "      <td>Brisco</td>\n",
       "      <td>1</td>\n",
       "      <td>307</td>\n",
       "      <td>0</td>\n",
       "      <td>1</td>\n",
       "      <td>2</td>\n",
       "      <td>7</td>\n",
       "      <td>0</td>\n",
       "      <td>2</td>\n",
       "      <td>...</td>\n",
       "      <td>0.0</td>\n",
       "      <td>7.0</td>\n",
       "      <td>0</td>\n",
       "      <td>7.541421</td>\n",
       "      <td>3.863675</td>\n",
       "      <td>0.008326</td>\n",
       "      <td>0.269072</td>\n",
       "      <td>0.336809</td>\n",
       "      <td>0.333211</td>\n",
       "      <td>0.052583</td>\n",
       "    </tr>\n",
       "    <tr>\n",
       "      <th>3</th>\n",
       "      <td>1</td>\n",
       "      <td>Miko</td>\n",
       "      <td>4</td>\n",
       "      <td>307</td>\n",
       "      <td>0</td>\n",
       "      <td>2</td>\n",
       "      <td>1</td>\n",
       "      <td>2</td>\n",
       "      <td>0</td>\n",
       "      <td>2</td>\n",
       "      <td>...</td>\n",
       "      <td>0.0</td>\n",
       "      <td>32.0</td>\n",
       "      <td>0</td>\n",
       "      <td>7.541421</td>\n",
       "      <td>3.863675</td>\n",
       "      <td>0.002474</td>\n",
       "      <td>0.070148</td>\n",
       "      <td>0.260799</td>\n",
       "      <td>0.377054</td>\n",
       "      <td>0.289525</td>\n",
       "    </tr>\n",
       "    <tr>\n",
       "      <th>4</th>\n",
       "      <td>1</td>\n",
       "      <td>Hunter</td>\n",
       "      <td>1</td>\n",
       "      <td>307</td>\n",
       "      <td>0</td>\n",
       "      <td>1</td>\n",
       "      <td>1</td>\n",
       "      <td>0</td>\n",
       "      <td>0</td>\n",
       "      <td>2</td>\n",
       "      <td>...</td>\n",
       "      <td>0.0</td>\n",
       "      <td>3.0</td>\n",
       "      <td>0</td>\n",
       "      <td>7.541421</td>\n",
       "      <td>3.863675</td>\n",
       "      <td>0.008175</td>\n",
       "      <td>0.353589</td>\n",
       "      <td>0.340138</td>\n",
       "      <td>0.199402</td>\n",
       "      <td>0.098695</td>\n",
       "    </tr>\n",
       "    <tr>\n",
       "      <th>...</th>\n",
       "      <td>...</td>\n",
       "      <td>...</td>\n",
       "      <td>...</td>\n",
       "      <td>...</td>\n",
       "      <td>...</td>\n",
       "      <td>...</td>\n",
       "      <td>...</td>\n",
       "      <td>...</td>\n",
       "      <td>...</td>\n",
       "      <td>...</td>\n",
       "      <td>...</td>\n",
       "      <td>...</td>\n",
       "      <td>...</td>\n",
       "      <td>...</td>\n",
       "      <td>...</td>\n",
       "      <td>...</td>\n",
       "      <td>...</td>\n",
       "      <td>...</td>\n",
       "      <td>...</td>\n",
       "      <td>...</td>\n",
       "      <td>...</td>\n",
       "    </tr>\n",
       "    <tr>\n",
       "      <th>14988</th>\n",
       "      <td>2</td>\n",
       "      <td>No Name Yet</td>\n",
       "      <td>2</td>\n",
       "      <td>266</td>\n",
       "      <td>0</td>\n",
       "      <td>3</td>\n",
       "      <td>1</td>\n",
       "      <td>0</td>\n",
       "      <td>0</td>\n",
       "      <td>2</td>\n",
       "      <td>...</td>\n",
       "      <td>0.0</td>\n",
       "      <td>6.0</td>\n",
       "      <td>0</td>\n",
       "      <td>6.724546</td>\n",
       "      <td>4.211337</td>\n",
       "      <td>0.010775</td>\n",
       "      <td>0.250261</td>\n",
       "      <td>0.247416</td>\n",
       "      <td>0.219092</td>\n",
       "      <td>0.272456</td>\n",
       "    </tr>\n",
       "    <tr>\n",
       "      <th>14989</th>\n",
       "      <td>2</td>\n",
       "      <td>Serato &amp; Eddie</td>\n",
       "      <td>60</td>\n",
       "      <td>265</td>\n",
       "      <td>264</td>\n",
       "      <td>3</td>\n",
       "      <td>1</td>\n",
       "      <td>4</td>\n",
       "      <td>7</td>\n",
       "      <td>2</td>\n",
       "      <td>...</td>\n",
       "      <td>0.0</td>\n",
       "      <td>180.0</td>\n",
       "      <td>0</td>\n",
       "      <td>6.282194</td>\n",
       "      <td>4.085851</td>\n",
       "      <td>0.001732</td>\n",
       "      <td>0.027652</td>\n",
       "      <td>0.254474</td>\n",
       "      <td>0.168685</td>\n",
       "      <td>0.547455</td>\n",
       "    </tr>\n",
       "    <tr>\n",
       "      <th>14990</th>\n",
       "      <td>2</td>\n",
       "      <td>Monkies</td>\n",
       "      <td>2</td>\n",
       "      <td>265</td>\n",
       "      <td>266</td>\n",
       "      <td>3</td>\n",
       "      <td>5</td>\n",
       "      <td>6</td>\n",
       "      <td>7</td>\n",
       "      <td>3</td>\n",
       "      <td>...</td>\n",
       "      <td>0.0</td>\n",
       "      <td>10.0</td>\n",
       "      <td>0</td>\n",
       "      <td>6.282194</td>\n",
       "      <td>4.085851</td>\n",
       "      <td>0.021769</td>\n",
       "      <td>0.397967</td>\n",
       "      <td>0.237364</td>\n",
       "      <td>0.200740</td>\n",
       "      <td>0.142159</td>\n",
       "    </tr>\n",
       "    <tr>\n",
       "      <th>14991</th>\n",
       "      <td>2</td>\n",
       "      <td>Ms Daym</td>\n",
       "      <td>9</td>\n",
       "      <td>266</td>\n",
       "      <td>0</td>\n",
       "      <td>2</td>\n",
       "      <td>4</td>\n",
       "      <td>7</td>\n",
       "      <td>0</td>\n",
       "      <td>1</td>\n",
       "      <td>...</td>\n",
       "      <td>0.0</td>\n",
       "      <td>27.0</td>\n",
       "      <td>0</td>\n",
       "      <td>6.724546</td>\n",
       "      <td>4.211337</td>\n",
       "      <td>0.017490</td>\n",
       "      <td>0.108205</td>\n",
       "      <td>0.143727</td>\n",
       "      <td>0.207379</td>\n",
       "      <td>0.523199</td>\n",
       "    </tr>\n",
       "    <tr>\n",
       "      <th>14992</th>\n",
       "      <td>1</td>\n",
       "      <td>Fili</td>\n",
       "      <td>1</td>\n",
       "      <td>307</td>\n",
       "      <td>307</td>\n",
       "      <td>1</td>\n",
       "      <td>2</td>\n",
       "      <td>0</td>\n",
       "      <td>0</td>\n",
       "      <td>2</td>\n",
       "      <td>...</td>\n",
       "      <td>0.0</td>\n",
       "      <td>1.0</td>\n",
       "      <td>0</td>\n",
       "      <td>7.541421</td>\n",
       "      <td>3.863675</td>\n",
       "      <td>0.018504</td>\n",
       "      <td>0.175478</td>\n",
       "      <td>0.360164</td>\n",
       "      <td>0.353181</td>\n",
       "      <td>0.092672</td>\n",
       "    </tr>\n",
       "  </tbody>\n",
       "</table>\n",
       "<p>14993 rows × 40 columns</p>\n",
       "</div>"
      ],
      "text/plain": [
       "       Type            Name  Age  Breed1  Breed2  Gender  Color1  Color2  \\\n",
       "0         2          Nibble    3     299       0       1       1       7   \n",
       "1         2     No Name Yet    1     265       0       1       1       2   \n",
       "2         1          Brisco    1     307       0       1       2       7   \n",
       "3         1            Miko    4     307       0       2       1       2   \n",
       "4         1          Hunter    1     307       0       1       1       0   \n",
       "...     ...             ...  ...     ...     ...     ...     ...     ...   \n",
       "14988     2     No Name Yet    2     266       0       3       1       0   \n",
       "14989     2  Serato & Eddie   60     265     264       3       1       4   \n",
       "14990     2         Monkies    2     265     266       3       5       6   \n",
       "14991     2         Ms Daym    9     266       0       2       4       7   \n",
       "14992     1            Fili    1     307     307       1       2       0   \n",
       "\n",
       "       Color3  MaturitySize  ...  VideoAmt_log  Age_PhotoAmt  Age_VideoAmt  \\\n",
       "0           0             1  ...           0.0           3.0             0   \n",
       "1           0             2  ...           0.0           2.0             0   \n",
       "2           0             2  ...           0.0           7.0             0   \n",
       "3           0             2  ...           0.0          32.0             0   \n",
       "4           0             2  ...           0.0           3.0             0   \n",
       "...       ...           ...  ...           ...           ...           ...   \n",
       "14988       0             2  ...           0.0           6.0             0   \n",
       "14989       7             2  ...           0.0         180.0             0   \n",
       "14990       7             3  ...           0.0          10.0             0   \n",
       "14991       0             1  ...           0.0          27.0             0   \n",
       "14992       0             2  ...           0.0           1.0             0   \n",
       "\n",
       "       Breed1_mean_Age  Breed1_mean_PhotoAmt  prediction_class_0  \\\n",
       "0             7.532164              4.052632            0.037444   \n",
       "1             6.282194              4.085851            0.038419   \n",
       "2             7.541421              3.863675            0.008326   \n",
       "3             7.541421              3.863675            0.002474   \n",
       "4             7.541421              3.863675            0.008175   \n",
       "...                ...                   ...                 ...   \n",
       "14988         6.724546              4.211337            0.010775   \n",
       "14989         6.282194              4.085851            0.001732   \n",
       "14990         6.282194              4.085851            0.021769   \n",
       "14991         6.724546              4.211337            0.017490   \n",
       "14992         7.541421              3.863675            0.018504   \n",
       "\n",
       "       prediction_class_1  prediction_class_2 prediction_class_3  \\\n",
       "0                0.262202            0.341899           0.174184   \n",
       "1                0.394528            0.266756           0.123176   \n",
       "2                0.269072            0.336809           0.333211   \n",
       "3                0.070148            0.260799           0.377054   \n",
       "4                0.353589            0.340138           0.199402   \n",
       "...                   ...                 ...                ...   \n",
       "14988            0.250261            0.247416           0.219092   \n",
       "14989            0.027652            0.254474           0.168685   \n",
       "14990            0.397967            0.237364           0.200740   \n",
       "14991            0.108205            0.143727           0.207379   \n",
       "14992            0.175478            0.360164           0.353181   \n",
       "\n",
       "       prediction_class_4  \n",
       "0                0.184271  \n",
       "1                0.177121  \n",
       "2                0.052583  \n",
       "3                0.289525  \n",
       "4                0.098695  \n",
       "...                   ...  \n",
       "14988            0.272456  \n",
       "14989            0.547455  \n",
       "14990            0.142159  \n",
       "14991            0.523199  \n",
       "14992            0.092672  \n",
       "\n",
       "[14993 rows x 40 columns]"
      ]
     },
     "execution_count": 13,
     "metadata": {},
     "output_type": "execute_result"
    }
   ],
   "source": [
    "df_with_new_variables"
   ]
  },
  {
   "cell_type": "code",
   "execution_count": 14,
   "metadata": {},
   "outputs": [],
   "source": [
    "dataset=df_with_new_variables"
   ]
  },
  {
   "cell_type": "code",
   "execution_count": 15,
   "metadata": {},
   "outputs": [],
   "source": [
    "\n",
    "#Separo un 20% para test estratificado opr target\n",
    "#PERO MANTENEMOS LA PROPORCION\n",
    "train, test = train_test_split(dataset,\n",
    "                               test_size = TEST_SIZE,\n",
    "                               random_state = SEED,\n",
    "                               stratify = dataset.AdoptionSpeed)"
   ]
  },
  {
   "cell_type": "code",
   "execution_count": 16,
   "metadata": {},
   "outputs": [],
   "source": [
    "#Armo listas con features de texto y numericas\n",
    "char_feats = [f for f in dataset.columns if dataset[f].dtype=='O']\n",
    "numeric_feats = [f for f in dataset.columns if dataset[f].dtype!='O']"
   ]
  },
  {
   "cell_type": "code",
   "execution_count": 17,
   "metadata": {},
   "outputs": [
    {
     "data": {
      "text/plain": [
       "['Name', 'RescuerID', 'Description', 'PetID']"
      ]
     },
     "execution_count": 17,
     "metadata": {},
     "output_type": "execute_result"
    }
   ],
   "source": [
    "#Lista de features numericas\n",
    "#ESTE EJEMPLO SE HACE SOLO CON VARIABLES NUMERICAS\n",
    "char_feats"
   ]
  },
  {
   "cell_type": "code",
   "execution_count": 18,
   "metadata": {},
   "outputs": [],
   "source": [
    "\n",
    "#Defino features a usar en un primer modelo de prueba\n",
    "features = ['Type',\n",
    " 'Age',\n",
    " 'Breed1',\n",
    " 'Breed2',\n",
    " 'Gender',\n",
    " 'Color1',\n",
    " 'Color2',\n",
    " 'Color3',\n",
    " 'MaturitySize',\n",
    " 'FurLength',\n",
    " 'Vaccinated',\n",
    " 'Dewormed',\n",
    " 'Sterilized',\n",
    " 'Health',\n",
    " 'Quantity',\n",
    " 'Fee',\n",
    " 'State',\n",
    " 'VideoAmt',\n",
    " 'PhotoAmt',\n",
    " 'AgeCategory',\n",
    " 'Breed',\n",
    " 'IsMultiColored',\n",
    " 'name_code',\n",
    " 'Age_log',\n",
    " 'PhotoAmt_log',\n",
    " 'VideoAmt_log',\n",
    " 'Age_PhotoAmt',\n",
    " 'Age_VideoAmt',\n",
    " 'Breed1_mean_Age',\n",
    " 'Breed1_mean_PhotoAmt',\n",
    " 'prediction_class_0',\n",
    " 'prediction_class_1',\n",
    " 'prediction_class_2',\n",
    " 'prediction_class_3',\n",
    " 'prediction_class_4']\n",
    "\n",
    "label = 'AdoptionSpeed'"
   ]
  },
  {
   "cell_type": "code",
   "execution_count": 19,
   "metadata": {},
   "outputs": [
    {
     "data": {
      "text/html": [
       "<div>\n",
       "<style scoped>\n",
       "    .dataframe tbody tr th:only-of-type {\n",
       "        vertical-align: middle;\n",
       "    }\n",
       "\n",
       "    .dataframe tbody tr th {\n",
       "        vertical-align: top;\n",
       "    }\n",
       "\n",
       "    .dataframe thead th {\n",
       "        text-align: right;\n",
       "    }\n",
       "</style>\n",
       "<table border=\"1\" class=\"dataframe\">\n",
       "  <thead>\n",
       "    <tr style=\"text-align: right;\">\n",
       "      <th></th>\n",
       "      <th>Type</th>\n",
       "      <th>Name</th>\n",
       "      <th>Age</th>\n",
       "      <th>Breed1</th>\n",
       "      <th>Breed2</th>\n",
       "      <th>Gender</th>\n",
       "      <th>Color1</th>\n",
       "      <th>Color2</th>\n",
       "      <th>Color3</th>\n",
       "      <th>MaturitySize</th>\n",
       "      <th>...</th>\n",
       "      <th>VideoAmt_log</th>\n",
       "      <th>Age_PhotoAmt</th>\n",
       "      <th>Age_VideoAmt</th>\n",
       "      <th>Breed1_mean_Age</th>\n",
       "      <th>Breed1_mean_PhotoAmt</th>\n",
       "      <th>prediction_class_0</th>\n",
       "      <th>prediction_class_1</th>\n",
       "      <th>prediction_class_2</th>\n",
       "      <th>prediction_class_3</th>\n",
       "      <th>prediction_class_4</th>\n",
       "    </tr>\n",
       "  </thead>\n",
       "  <tbody>\n",
       "    <tr>\n",
       "      <th>10070</th>\n",
       "      <td>1</td>\n",
       "      <td>The Adorable Trio</td>\n",
       "      <td>2</td>\n",
       "      <td>307</td>\n",
       "      <td>307</td>\n",
       "      <td>1</td>\n",
       "      <td>1</td>\n",
       "      <td>0</td>\n",
       "      <td>0</td>\n",
       "      <td>2</td>\n",
       "      <td>...</td>\n",
       "      <td>0.0</td>\n",
       "      <td>16.0</td>\n",
       "      <td>0</td>\n",
       "      <td>7.541421</td>\n",
       "      <td>3.863675</td>\n",
       "      <td>0.001666</td>\n",
       "      <td>0.156206</td>\n",
       "      <td>0.263296</td>\n",
       "      <td>0.495640</td>\n",
       "      <td>0.083192</td>\n",
       "    </tr>\n",
       "    <tr>\n",
       "      <th>13397</th>\n",
       "      <td>1</td>\n",
       "      <td>Perky</td>\n",
       "      <td>12</td>\n",
       "      <td>307</td>\n",
       "      <td>0</td>\n",
       "      <td>2</td>\n",
       "      <td>2</td>\n",
       "      <td>0</td>\n",
       "      <td>0</td>\n",
       "      <td>1</td>\n",
       "      <td>...</td>\n",
       "      <td>0.0</td>\n",
       "      <td>36.0</td>\n",
       "      <td>0</td>\n",
       "      <td>7.541421</td>\n",
       "      <td>3.863675</td>\n",
       "      <td>0.009224</td>\n",
       "      <td>0.042882</td>\n",
       "      <td>0.125914</td>\n",
       "      <td>0.164206</td>\n",
       "      <td>0.657773</td>\n",
       "    </tr>\n",
       "    <tr>\n",
       "      <th>14656</th>\n",
       "      <td>1</td>\n",
       "      <td>Bernard Boy</td>\n",
       "      <td>2</td>\n",
       "      <td>307</td>\n",
       "      <td>307</td>\n",
       "      <td>1</td>\n",
       "      <td>1</td>\n",
       "      <td>2</td>\n",
       "      <td>7</td>\n",
       "      <td>2</td>\n",
       "      <td>...</td>\n",
       "      <td>0.0</td>\n",
       "      <td>2.0</td>\n",
       "      <td>0</td>\n",
       "      <td>7.541421</td>\n",
       "      <td>3.863675</td>\n",
       "      <td>0.031791</td>\n",
       "      <td>0.239136</td>\n",
       "      <td>0.251731</td>\n",
       "      <td>0.204903</td>\n",
       "      <td>0.272439</td>\n",
       "    </tr>\n",
       "    <tr>\n",
       "      <th>5596</th>\n",
       "      <td>1</td>\n",
       "      <td>Oreo 1</td>\n",
       "      <td>2</td>\n",
       "      <td>307</td>\n",
       "      <td>307</td>\n",
       "      <td>1</td>\n",
       "      <td>3</td>\n",
       "      <td>0</td>\n",
       "      <td>0</td>\n",
       "      <td>2</td>\n",
       "      <td>...</td>\n",
       "      <td>0.0</td>\n",
       "      <td>4.0</td>\n",
       "      <td>0</td>\n",
       "      <td>7.541421</td>\n",
       "      <td>3.863675</td>\n",
       "      <td>0.026451</td>\n",
       "      <td>0.289790</td>\n",
       "      <td>0.304206</td>\n",
       "      <td>0.195960</td>\n",
       "      <td>0.183593</td>\n",
       "    </tr>\n",
       "    <tr>\n",
       "      <th>13463</th>\n",
       "      <td>2</td>\n",
       "      <td>Anak Kucing</td>\n",
       "      <td>4</td>\n",
       "      <td>265</td>\n",
       "      <td>0</td>\n",
       "      <td>3</td>\n",
       "      <td>1</td>\n",
       "      <td>2</td>\n",
       "      <td>0</td>\n",
       "      <td>2</td>\n",
       "      <td>...</td>\n",
       "      <td>0.0</td>\n",
       "      <td>8.0</td>\n",
       "      <td>0</td>\n",
       "      <td>6.282194</td>\n",
       "      <td>4.085851</td>\n",
       "      <td>0.015868</td>\n",
       "      <td>0.175384</td>\n",
       "      <td>0.211173</td>\n",
       "      <td>0.171354</td>\n",
       "      <td>0.426221</td>\n",
       "    </tr>\n",
       "    <tr>\n",
       "      <th>...</th>\n",
       "      <td>...</td>\n",
       "      <td>...</td>\n",
       "      <td>...</td>\n",
       "      <td>...</td>\n",
       "      <td>...</td>\n",
       "      <td>...</td>\n",
       "      <td>...</td>\n",
       "      <td>...</td>\n",
       "      <td>...</td>\n",
       "      <td>...</td>\n",
       "      <td>...</td>\n",
       "      <td>...</td>\n",
       "      <td>...</td>\n",
       "      <td>...</td>\n",
       "      <td>...</td>\n",
       "      <td>...</td>\n",
       "      <td>...</td>\n",
       "      <td>...</td>\n",
       "      <td>...</td>\n",
       "      <td>...</td>\n",
       "      <td>...</td>\n",
       "    </tr>\n",
       "    <tr>\n",
       "      <th>9981</th>\n",
       "      <td>2</td>\n",
       "      <td>Maxine</td>\n",
       "      <td>8</td>\n",
       "      <td>265</td>\n",
       "      <td>299</td>\n",
       "      <td>2</td>\n",
       "      <td>1</td>\n",
       "      <td>2</td>\n",
       "      <td>0</td>\n",
       "      <td>2</td>\n",
       "      <td>...</td>\n",
       "      <td>0.0</td>\n",
       "      <td>16.0</td>\n",
       "      <td>0</td>\n",
       "      <td>6.282194</td>\n",
       "      <td>4.085851</td>\n",
       "      <td>0.010745</td>\n",
       "      <td>0.111504</td>\n",
       "      <td>0.274366</td>\n",
       "      <td>0.151013</td>\n",
       "      <td>0.452373</td>\n",
       "    </tr>\n",
       "    <tr>\n",
       "      <th>10249</th>\n",
       "      <td>1</td>\n",
       "      <td>Browny</td>\n",
       "      <td>2</td>\n",
       "      <td>307</td>\n",
       "      <td>0</td>\n",
       "      <td>2</td>\n",
       "      <td>6</td>\n",
       "      <td>7</td>\n",
       "      <td>0</td>\n",
       "      <td>1</td>\n",
       "      <td>...</td>\n",
       "      <td>0.0</td>\n",
       "      <td>2.0</td>\n",
       "      <td>0</td>\n",
       "      <td>7.541421</td>\n",
       "      <td>3.863675</td>\n",
       "      <td>0.024203</td>\n",
       "      <td>0.123720</td>\n",
       "      <td>0.360015</td>\n",
       "      <td>0.255282</td>\n",
       "      <td>0.236780</td>\n",
       "    </tr>\n",
       "    <tr>\n",
       "      <th>12468</th>\n",
       "      <td>1</td>\n",
       "      <td>Midnight</td>\n",
       "      <td>2</td>\n",
       "      <td>307</td>\n",
       "      <td>307</td>\n",
       "      <td>1</td>\n",
       "      <td>1</td>\n",
       "      <td>0</td>\n",
       "      <td>0</td>\n",
       "      <td>2</td>\n",
       "      <td>...</td>\n",
       "      <td>0.0</td>\n",
       "      <td>4.0</td>\n",
       "      <td>0</td>\n",
       "      <td>7.541421</td>\n",
       "      <td>3.863675</td>\n",
       "      <td>0.022272</td>\n",
       "      <td>0.233070</td>\n",
       "      <td>0.339302</td>\n",
       "      <td>0.175189</td>\n",
       "      <td>0.230167</td>\n",
       "    </tr>\n",
       "    <tr>\n",
       "      <th>1081</th>\n",
       "      <td>1</td>\n",
       "      <td>Boxer</td>\n",
       "      <td>2</td>\n",
       "      <td>307</td>\n",
       "      <td>307</td>\n",
       "      <td>1</td>\n",
       "      <td>1</td>\n",
       "      <td>2</td>\n",
       "      <td>7</td>\n",
       "      <td>2</td>\n",
       "      <td>...</td>\n",
       "      <td>0.0</td>\n",
       "      <td>4.0</td>\n",
       "      <td>0</td>\n",
       "      <td>7.541421</td>\n",
       "      <td>3.863675</td>\n",
       "      <td>0.024658</td>\n",
       "      <td>0.212246</td>\n",
       "      <td>0.385915</td>\n",
       "      <td>0.149170</td>\n",
       "      <td>0.228011</td>\n",
       "    </tr>\n",
       "    <tr>\n",
       "      <th>6952</th>\n",
       "      <td>2</td>\n",
       "      <td>JINGGA</td>\n",
       "      <td>30</td>\n",
       "      <td>299</td>\n",
       "      <td>266</td>\n",
       "      <td>1</td>\n",
       "      <td>3</td>\n",
       "      <td>4</td>\n",
       "      <td>5</td>\n",
       "      <td>2</td>\n",
       "      <td>...</td>\n",
       "      <td>0.0</td>\n",
       "      <td>60.0</td>\n",
       "      <td>0</td>\n",
       "      <td>7.532164</td>\n",
       "      <td>4.052632</td>\n",
       "      <td>0.014815</td>\n",
       "      <td>0.070036</td>\n",
       "      <td>0.152212</td>\n",
       "      <td>0.438554</td>\n",
       "      <td>0.324382</td>\n",
       "    </tr>\n",
       "  </tbody>\n",
       "</table>\n",
       "<p>11994 rows × 40 columns</p>\n",
       "</div>"
      ],
      "text/plain": [
       "       Type               Name  Age  Breed1  Breed2  Gender  Color1  Color2  \\\n",
       "10070     1  The Adorable Trio    2     307     307       1       1       0   \n",
       "13397     1              Perky   12     307       0       2       2       0   \n",
       "14656     1        Bernard Boy    2     307     307       1       1       2   \n",
       "5596      1             Oreo 1    2     307     307       1       3       0   \n",
       "13463     2        Anak Kucing    4     265       0       3       1       2   \n",
       "...     ...                ...  ...     ...     ...     ...     ...     ...   \n",
       "9981      2             Maxine    8     265     299       2       1       2   \n",
       "10249     1             Browny    2     307       0       2       6       7   \n",
       "12468     1           Midnight    2     307     307       1       1       0   \n",
       "1081      1              Boxer    2     307     307       1       1       2   \n",
       "6952      2             JINGGA   30     299     266       1       3       4   \n",
       "\n",
       "       Color3  MaturitySize  ...  VideoAmt_log  Age_PhotoAmt  Age_VideoAmt  \\\n",
       "10070       0             2  ...           0.0          16.0             0   \n",
       "13397       0             1  ...           0.0          36.0             0   \n",
       "14656       7             2  ...           0.0           2.0             0   \n",
       "5596        0             2  ...           0.0           4.0             0   \n",
       "13463       0             2  ...           0.0           8.0             0   \n",
       "...       ...           ...  ...           ...           ...           ...   \n",
       "9981        0             2  ...           0.0          16.0             0   \n",
       "10249       0             1  ...           0.0           2.0             0   \n",
       "12468       0             2  ...           0.0           4.0             0   \n",
       "1081        7             2  ...           0.0           4.0             0   \n",
       "6952        5             2  ...           0.0          60.0             0   \n",
       "\n",
       "       Breed1_mean_Age  Breed1_mean_PhotoAmt  prediction_class_0  \\\n",
       "10070         7.541421              3.863675            0.001666   \n",
       "13397         7.541421              3.863675            0.009224   \n",
       "14656         7.541421              3.863675            0.031791   \n",
       "5596          7.541421              3.863675            0.026451   \n",
       "13463         6.282194              4.085851            0.015868   \n",
       "...                ...                   ...                 ...   \n",
       "9981          6.282194              4.085851            0.010745   \n",
       "10249         7.541421              3.863675            0.024203   \n",
       "12468         7.541421              3.863675            0.022272   \n",
       "1081          7.541421              3.863675            0.024658   \n",
       "6952          7.532164              4.052632            0.014815   \n",
       "\n",
       "       prediction_class_1  prediction_class_2 prediction_class_3  \\\n",
       "10070            0.156206            0.263296           0.495640   \n",
       "13397            0.042882            0.125914           0.164206   \n",
       "14656            0.239136            0.251731           0.204903   \n",
       "5596             0.289790            0.304206           0.195960   \n",
       "13463            0.175384            0.211173           0.171354   \n",
       "...                   ...                 ...                ...   \n",
       "9981             0.111504            0.274366           0.151013   \n",
       "10249            0.123720            0.360015           0.255282   \n",
       "12468            0.233070            0.339302           0.175189   \n",
       "1081             0.212246            0.385915           0.149170   \n",
       "6952             0.070036            0.152212           0.438554   \n",
       "\n",
       "       prediction_class_4  \n",
       "10070            0.083192  \n",
       "13397            0.657773  \n",
       "14656            0.272439  \n",
       "5596             0.183593  \n",
       "13463            0.426221  \n",
       "...                   ...  \n",
       "9981             0.452373  \n",
       "10249            0.236780  \n",
       "12468            0.230167  \n",
       "1081             0.228011  \n",
       "6952             0.324382  \n",
       "\n",
       "[11994 rows x 40 columns]"
      ]
     },
     "execution_count": 19,
     "metadata": {},
     "output_type": "execute_result"
    }
   ],
   "source": [
    "train"
   ]
  },
  {
   "cell_type": "code",
   "execution_count": 20,
   "metadata": {},
   "outputs": [],
   "source": [
    "#Genero dataframes de train y test con sus respectivos targets\n",
    "X_train = train[features]\n",
    "y_train = train[label]\n",
    "\n",
    "X_test = test[features]\n",
    "y_test = test[label]"
   ]
  },
  {
   "cell_type": "code",
   "execution_count": 21,
   "metadata": {},
   "outputs": [],
   "source": [
    "#Entreno un modelo inicial sin modificar hiperparametros. Solamente especifico el numero de clases y el tipo de modelo como clasificacoión\n",
    "#HACEMOS LGBM POR DEFECTO COMO VIENE\n",
    "lgb_params = params = {\n",
    "                        'objective': 'multiclass',#EL PROBLEMA ES UNA MULTICPLASE \n",
    "                        'num_class': len(y_train.unique())\n",
    "                        }\n",
    "\n",
    "\n",
    "#genero el objeto Dataset que debo pasarle a lightgbm para que entrene\n",
    "lgb_train_dataset = lgb.Dataset(data=X_train,\n",
    "                                label=y_train)\n",
    "\n",
    "#entreno el modelo con los parametros por defecto\n",
    "lgb_model = lgb.train(lgb_params,\n",
    "                      lgb_train_dataset)"
   ]
  },
  {
   "cell_type": "code",
   "execution_count": 22,
   "metadata": {},
   "outputs": [
    {
     "data": {
      "text/plain": [
       "0.4792861953925617"
      ]
     },
     "execution_count": 22,
     "metadata": {},
     "output_type": "execute_result"
    }
   ],
   "source": [
    "#Obtengo las predicciones sobre el set de test. El modelo me da una lista de probabilidades para cada clase y tomo la clase con mayor probabilidad con la funcion argmax\n",
    "y_pred = lgb_model.predict(X_test).argmax(axis=1)#CON ARGMAX OBTENGO LA PREDICCION MAS GRANDE DE LAS CATEGORIAS OSEA LA GANADORA\n",
    "\n",
    "#Calculo el Kappa\n",
    "cohen_kappa_score(y_test,y_pred, weights = 'quadratic')\n",
    "#MI MODELO DA UN 0.31 DE SCORE \n",
    "#RECORDAR QUE AL SER UN MULTICLASE EL PREDICT ME TRAE 5 COLUMNAS ( PROBABILIDAD DEL MODELO A CADA UNA DE LAS CLASES )\n",
    "\n",
    "\n"
   ]
  },
  {
   "cell_type": "code",
   "execution_count": 23,
   "metadata": {},
   "outputs": [
    {
     "data": {
      "application/vnd.plotly.v1+json": {
       "config": {
        "plotlyServerURL": "https://plot.ly"
       },
       "data": [
        {
         "type": "heatmap",
         "x": [
          0,
          1,
          2,
          3,
          4
         ],
         "y": [
          0,
          1,
          2,
          3,
          4
         ],
         "z": [
          [
           52.4390243902439,
           15.853658536585366,
           21.951219512195124,
           3.6585365853658534,
           6.097560975609756
          ],
          [
           0.8090614886731391,
           52.9126213592233,
           21.197411003236247,
           10.517799352750808,
           14.563106796116504
          ],
          [
           0.7434944237918215,
           13.258983890954152,
           57.49690210656754,
           9.789343246592317,
           18.711276332094176
          ],
          [
           0.9202453987730062,
           12.116564417177914,
           25.766871165644172,
           44.325153374233125,
           16.87116564417178
          ],
          [
           0.8333333333333334,
           9.285714285714286,
           17.738095238095237,
           7.261904761904763,
           64.88095238095238
          ]
         ]
        }
       ],
       "layout": {
        "annotations": [
         {
          "font": {
           "color": "white"
          },
          "showarrow": false,
          "text": "52.4 - 43",
          "x": 0,
          "xref": "x",
          "y": 0,
          "yref": "y"
         },
         {
          "font": {
           "color": "white"
          },
          "showarrow": false,
          "text": "15.9 - 13",
          "x": 1,
          "xref": "x",
          "y": 0,
          "yref": "y"
         },
         {
          "font": {
           "color": "white"
          },
          "showarrow": false,
          "text": "22.0 - 18",
          "x": 2,
          "xref": "x",
          "y": 0,
          "yref": "y"
         },
         {
          "font": {
           "color": "white"
          },
          "showarrow": false,
          "text": "3.7 - 3",
          "x": 3,
          "xref": "x",
          "y": 0,
          "yref": "y"
         },
         {
          "font": {
           "color": "white"
          },
          "showarrow": false,
          "text": "6.1 - 5",
          "x": 4,
          "xref": "x",
          "y": 0,
          "yref": "y"
         },
         {
          "font": {
           "color": "white"
          },
          "showarrow": false,
          "text": "0.8 - 5",
          "x": 0,
          "xref": "x",
          "y": 1,
          "yref": "y"
         },
         {
          "font": {
           "color": "white"
          },
          "showarrow": false,
          "text": "52.9 - 327",
          "x": 1,
          "xref": "x",
          "y": 1,
          "yref": "y"
         },
         {
          "font": {
           "color": "white"
          },
          "showarrow": false,
          "text": "21.2 - 131",
          "x": 2,
          "xref": "x",
          "y": 1,
          "yref": "y"
         },
         {
          "font": {
           "color": "white"
          },
          "showarrow": false,
          "text": "10.5 - 65",
          "x": 3,
          "xref": "x",
          "y": 1,
          "yref": "y"
         },
         {
          "font": {
           "color": "white"
          },
          "showarrow": false,
          "text": "14.6 - 90",
          "x": 4,
          "xref": "x",
          "y": 1,
          "yref": "y"
         },
         {
          "font": {
           "color": "white"
          },
          "showarrow": false,
          "text": "0.7 - 6",
          "x": 0,
          "xref": "x",
          "y": 2,
          "yref": "y"
         },
         {
          "font": {
           "color": "white"
          },
          "showarrow": false,
          "text": "13.3 - 107",
          "x": 1,
          "xref": "x",
          "y": 2,
          "yref": "y"
         },
         {
          "font": {
           "color": "white"
          },
          "showarrow": false,
          "text": "57.5 - 464",
          "x": 2,
          "xref": "x",
          "y": 2,
          "yref": "y"
         },
         {
          "font": {
           "color": "white"
          },
          "showarrow": false,
          "text": "9.8 - 79",
          "x": 3,
          "xref": "x",
          "y": 2,
          "yref": "y"
         },
         {
          "font": {
           "color": "white"
          },
          "showarrow": false,
          "text": "18.7 - 151",
          "x": 4,
          "xref": "x",
          "y": 2,
          "yref": "y"
         },
         {
          "font": {
           "color": "white"
          },
          "showarrow": false,
          "text": "0.9 - 6",
          "x": 0,
          "xref": "x",
          "y": 3,
          "yref": "y"
         },
         {
          "font": {
           "color": "white"
          },
          "showarrow": false,
          "text": "12.1 - 79",
          "x": 1,
          "xref": "x",
          "y": 3,
          "yref": "y"
         },
         {
          "font": {
           "color": "white"
          },
          "showarrow": false,
          "text": "25.8 - 168",
          "x": 2,
          "xref": "x",
          "y": 3,
          "yref": "y"
         },
         {
          "font": {
           "color": "white"
          },
          "showarrow": false,
          "text": "44.3 - 289",
          "x": 3,
          "xref": "x",
          "y": 3,
          "yref": "y"
         },
         {
          "font": {
           "color": "white"
          },
          "showarrow": false,
          "text": "16.9 - 110",
          "x": 4,
          "xref": "x",
          "y": 3,
          "yref": "y"
         },
         {
          "font": {
           "color": "white"
          },
          "showarrow": false,
          "text": "0.8 - 7",
          "x": 0,
          "xref": "x",
          "y": 4,
          "yref": "y"
         },
         {
          "font": {
           "color": "white"
          },
          "showarrow": false,
          "text": "9.3 - 78",
          "x": 1,
          "xref": "x",
          "y": 4,
          "yref": "y"
         },
         {
          "font": {
           "color": "white"
          },
          "showarrow": false,
          "text": "17.7 - 149",
          "x": 2,
          "xref": "x",
          "y": 4,
          "yref": "y"
         },
         {
          "font": {
           "color": "white"
          },
          "showarrow": false,
          "text": "7.3 - 61",
          "x": 3,
          "xref": "x",
          "y": 4,
          "yref": "y"
         },
         {
          "font": {
           "color": "white"
          },
          "showarrow": false,
          "text": "64.9 - 545",
          "x": 4,
          "xref": "x",
          "y": 4,
          "yref": "y"
         }
        ],
        "height": 800,
        "template": {
         "data": {
          "bar": [
           {
            "error_x": {
             "color": "#2a3f5f"
            },
            "error_y": {
             "color": "#2a3f5f"
            },
            "marker": {
             "line": {
              "color": "#E5ECF6",
              "width": 0.5
             },
             "pattern": {
              "fillmode": "overlay",
              "size": 10,
              "solidity": 0.2
             }
            },
            "type": "bar"
           }
          ],
          "barpolar": [
           {
            "marker": {
             "line": {
              "color": "#E5ECF6",
              "width": 0.5
             },
             "pattern": {
              "fillmode": "overlay",
              "size": 10,
              "solidity": 0.2
             }
            },
            "type": "barpolar"
           }
          ],
          "carpet": [
           {
            "aaxis": {
             "endlinecolor": "#2a3f5f",
             "gridcolor": "white",
             "linecolor": "white",
             "minorgridcolor": "white",
             "startlinecolor": "#2a3f5f"
            },
            "baxis": {
             "endlinecolor": "#2a3f5f",
             "gridcolor": "white",
             "linecolor": "white",
             "minorgridcolor": "white",
             "startlinecolor": "#2a3f5f"
            },
            "type": "carpet"
           }
          ],
          "choropleth": [
           {
            "colorbar": {
             "outlinewidth": 0,
             "ticks": ""
            },
            "type": "choropleth"
           }
          ],
          "contour": [
           {
            "colorbar": {
             "outlinewidth": 0,
             "ticks": ""
            },
            "colorscale": [
             [
              0,
              "#0d0887"
             ],
             [
              0.1111111111111111,
              "#46039f"
             ],
             [
              0.2222222222222222,
              "#7201a8"
             ],
             [
              0.3333333333333333,
              "#9c179e"
             ],
             [
              0.4444444444444444,
              "#bd3786"
             ],
             [
              0.5555555555555556,
              "#d8576b"
             ],
             [
              0.6666666666666666,
              "#ed7953"
             ],
             [
              0.7777777777777778,
              "#fb9f3a"
             ],
             [
              0.8888888888888888,
              "#fdca26"
             ],
             [
              1,
              "#f0f921"
             ]
            ],
            "type": "contour"
           }
          ],
          "contourcarpet": [
           {
            "colorbar": {
             "outlinewidth": 0,
             "ticks": ""
            },
            "type": "contourcarpet"
           }
          ],
          "heatmap": [
           {
            "colorbar": {
             "outlinewidth": 0,
             "ticks": ""
            },
            "colorscale": [
             [
              0,
              "#0d0887"
             ],
             [
              0.1111111111111111,
              "#46039f"
             ],
             [
              0.2222222222222222,
              "#7201a8"
             ],
             [
              0.3333333333333333,
              "#9c179e"
             ],
             [
              0.4444444444444444,
              "#bd3786"
             ],
             [
              0.5555555555555556,
              "#d8576b"
             ],
             [
              0.6666666666666666,
              "#ed7953"
             ],
             [
              0.7777777777777778,
              "#fb9f3a"
             ],
             [
              0.8888888888888888,
              "#fdca26"
             ],
             [
              1,
              "#f0f921"
             ]
            ],
            "type": "heatmap"
           }
          ],
          "heatmapgl": [
           {
            "colorbar": {
             "outlinewidth": 0,
             "ticks": ""
            },
            "colorscale": [
             [
              0,
              "#0d0887"
             ],
             [
              0.1111111111111111,
              "#46039f"
             ],
             [
              0.2222222222222222,
              "#7201a8"
             ],
             [
              0.3333333333333333,
              "#9c179e"
             ],
             [
              0.4444444444444444,
              "#bd3786"
             ],
             [
              0.5555555555555556,
              "#d8576b"
             ],
             [
              0.6666666666666666,
              "#ed7953"
             ],
             [
              0.7777777777777778,
              "#fb9f3a"
             ],
             [
              0.8888888888888888,
              "#fdca26"
             ],
             [
              1,
              "#f0f921"
             ]
            ],
            "type": "heatmapgl"
           }
          ],
          "histogram": [
           {
            "marker": {
             "pattern": {
              "fillmode": "overlay",
              "size": 10,
              "solidity": 0.2
             }
            },
            "type": "histogram"
           }
          ],
          "histogram2d": [
           {
            "colorbar": {
             "outlinewidth": 0,
             "ticks": ""
            },
            "colorscale": [
             [
              0,
              "#0d0887"
             ],
             [
              0.1111111111111111,
              "#46039f"
             ],
             [
              0.2222222222222222,
              "#7201a8"
             ],
             [
              0.3333333333333333,
              "#9c179e"
             ],
             [
              0.4444444444444444,
              "#bd3786"
             ],
             [
              0.5555555555555556,
              "#d8576b"
             ],
             [
              0.6666666666666666,
              "#ed7953"
             ],
             [
              0.7777777777777778,
              "#fb9f3a"
             ],
             [
              0.8888888888888888,
              "#fdca26"
             ],
             [
              1,
              "#f0f921"
             ]
            ],
            "type": "histogram2d"
           }
          ],
          "histogram2dcontour": [
           {
            "colorbar": {
             "outlinewidth": 0,
             "ticks": ""
            },
            "colorscale": [
             [
              0,
              "#0d0887"
             ],
             [
              0.1111111111111111,
              "#46039f"
             ],
             [
              0.2222222222222222,
              "#7201a8"
             ],
             [
              0.3333333333333333,
              "#9c179e"
             ],
             [
              0.4444444444444444,
              "#bd3786"
             ],
             [
              0.5555555555555556,
              "#d8576b"
             ],
             [
              0.6666666666666666,
              "#ed7953"
             ],
             [
              0.7777777777777778,
              "#fb9f3a"
             ],
             [
              0.8888888888888888,
              "#fdca26"
             ],
             [
              1,
              "#f0f921"
             ]
            ],
            "type": "histogram2dcontour"
           }
          ],
          "mesh3d": [
           {
            "colorbar": {
             "outlinewidth": 0,
             "ticks": ""
            },
            "type": "mesh3d"
           }
          ],
          "parcoords": [
           {
            "line": {
             "colorbar": {
              "outlinewidth": 0,
              "ticks": ""
             }
            },
            "type": "parcoords"
           }
          ],
          "pie": [
           {
            "automargin": true,
            "type": "pie"
           }
          ],
          "scatter": [
           {
            "fillpattern": {
             "fillmode": "overlay",
             "size": 10,
             "solidity": 0.2
            },
            "type": "scatter"
           }
          ],
          "scatter3d": [
           {
            "line": {
             "colorbar": {
              "outlinewidth": 0,
              "ticks": ""
             }
            },
            "marker": {
             "colorbar": {
              "outlinewidth": 0,
              "ticks": ""
             }
            },
            "type": "scatter3d"
           }
          ],
          "scattercarpet": [
           {
            "marker": {
             "colorbar": {
              "outlinewidth": 0,
              "ticks": ""
             }
            },
            "type": "scattercarpet"
           }
          ],
          "scattergeo": [
           {
            "marker": {
             "colorbar": {
              "outlinewidth": 0,
              "ticks": ""
             }
            },
            "type": "scattergeo"
           }
          ],
          "scattergl": [
           {
            "marker": {
             "colorbar": {
              "outlinewidth": 0,
              "ticks": ""
             }
            },
            "type": "scattergl"
           }
          ],
          "scattermapbox": [
           {
            "marker": {
             "colorbar": {
              "outlinewidth": 0,
              "ticks": ""
             }
            },
            "type": "scattermapbox"
           }
          ],
          "scatterpolar": [
           {
            "marker": {
             "colorbar": {
              "outlinewidth": 0,
              "ticks": ""
             }
            },
            "type": "scatterpolar"
           }
          ],
          "scatterpolargl": [
           {
            "marker": {
             "colorbar": {
              "outlinewidth": 0,
              "ticks": ""
             }
            },
            "type": "scatterpolargl"
           }
          ],
          "scatterternary": [
           {
            "marker": {
             "colorbar": {
              "outlinewidth": 0,
              "ticks": ""
             }
            },
            "type": "scatterternary"
           }
          ],
          "surface": [
           {
            "colorbar": {
             "outlinewidth": 0,
             "ticks": ""
            },
            "colorscale": [
             [
              0,
              "#0d0887"
             ],
             [
              0.1111111111111111,
              "#46039f"
             ],
             [
              0.2222222222222222,
              "#7201a8"
             ],
             [
              0.3333333333333333,
              "#9c179e"
             ],
             [
              0.4444444444444444,
              "#bd3786"
             ],
             [
              0.5555555555555556,
              "#d8576b"
             ],
             [
              0.6666666666666666,
              "#ed7953"
             ],
             [
              0.7777777777777778,
              "#fb9f3a"
             ],
             [
              0.8888888888888888,
              "#fdca26"
             ],
             [
              1,
              "#f0f921"
             ]
            ],
            "type": "surface"
           }
          ],
          "table": [
           {
            "cells": {
             "fill": {
              "color": "#EBF0F8"
             },
             "line": {
              "color": "white"
             }
            },
            "header": {
             "fill": {
              "color": "#C8D4E3"
             },
             "line": {
              "color": "white"
             }
            },
            "type": "table"
           }
          ]
         },
         "layout": {
          "annotationdefaults": {
           "arrowcolor": "#2a3f5f",
           "arrowhead": 0,
           "arrowwidth": 1
          },
          "autotypenumbers": "strict",
          "coloraxis": {
           "colorbar": {
            "outlinewidth": 0,
            "ticks": ""
           }
          },
          "colorscale": {
           "diverging": [
            [
             0,
             "#8e0152"
            ],
            [
             0.1,
             "#c51b7d"
            ],
            [
             0.2,
             "#de77ae"
            ],
            [
             0.3,
             "#f1b6da"
            ],
            [
             0.4,
             "#fde0ef"
            ],
            [
             0.5,
             "#f7f7f7"
            ],
            [
             0.6,
             "#e6f5d0"
            ],
            [
             0.7,
             "#b8e186"
            ],
            [
             0.8,
             "#7fbc41"
            ],
            [
             0.9,
             "#4d9221"
            ],
            [
             1,
             "#276419"
            ]
           ],
           "sequential": [
            [
             0,
             "#0d0887"
            ],
            [
             0.1111111111111111,
             "#46039f"
            ],
            [
             0.2222222222222222,
             "#7201a8"
            ],
            [
             0.3333333333333333,
             "#9c179e"
            ],
            [
             0.4444444444444444,
             "#bd3786"
            ],
            [
             0.5555555555555556,
             "#d8576b"
            ],
            [
             0.6666666666666666,
             "#ed7953"
            ],
            [
             0.7777777777777778,
             "#fb9f3a"
            ],
            [
             0.8888888888888888,
             "#fdca26"
            ],
            [
             1,
             "#f0f921"
            ]
           ],
           "sequentialminus": [
            [
             0,
             "#0d0887"
            ],
            [
             0.1111111111111111,
             "#46039f"
            ],
            [
             0.2222222222222222,
             "#7201a8"
            ],
            [
             0.3333333333333333,
             "#9c179e"
            ],
            [
             0.4444444444444444,
             "#bd3786"
            ],
            [
             0.5555555555555556,
             "#d8576b"
            ],
            [
             0.6666666666666666,
             "#ed7953"
            ],
            [
             0.7777777777777778,
             "#fb9f3a"
            ],
            [
             0.8888888888888888,
             "#fdca26"
            ],
            [
             1,
             "#f0f921"
            ]
           ]
          },
          "colorway": [
           "#636efa",
           "#EF553B",
           "#00cc96",
           "#ab63fa",
           "#FFA15A",
           "#19d3f3",
           "#FF6692",
           "#B6E880",
           "#FF97FF",
           "#FECB52"
          ],
          "font": {
           "color": "#2a3f5f"
          },
          "geo": {
           "bgcolor": "white",
           "lakecolor": "white",
           "landcolor": "#E5ECF6",
           "showlakes": true,
           "showland": true,
           "subunitcolor": "white"
          },
          "hoverlabel": {
           "align": "left"
          },
          "hovermode": "closest",
          "mapbox": {
           "style": "light"
          },
          "paper_bgcolor": "white",
          "plot_bgcolor": "#E5ECF6",
          "polar": {
           "angularaxis": {
            "gridcolor": "white",
            "linecolor": "white",
            "ticks": ""
           },
           "bgcolor": "#E5ECF6",
           "radialaxis": {
            "gridcolor": "white",
            "linecolor": "white",
            "ticks": ""
           }
          },
          "scene": {
           "xaxis": {
            "backgroundcolor": "#E5ECF6",
            "gridcolor": "white",
            "gridwidth": 2,
            "linecolor": "white",
            "showbackground": true,
            "ticks": "",
            "zerolinecolor": "white"
           },
           "yaxis": {
            "backgroundcolor": "#E5ECF6",
            "gridcolor": "white",
            "gridwidth": 2,
            "linecolor": "white",
            "showbackground": true,
            "ticks": "",
            "zerolinecolor": "white"
           },
           "zaxis": {
            "backgroundcolor": "#E5ECF6",
            "gridcolor": "white",
            "gridwidth": 2,
            "linecolor": "white",
            "showbackground": true,
            "ticks": "",
            "zerolinecolor": "white"
           }
          },
          "shapedefaults": {
           "line": {
            "color": "#2a3f5f"
           }
          },
          "ternary": {
           "aaxis": {
            "gridcolor": "white",
            "linecolor": "white",
            "ticks": ""
           },
           "baxis": {
            "gridcolor": "white",
            "linecolor": "white",
            "ticks": ""
           },
           "bgcolor": "#E5ECF6",
           "caxis": {
            "gridcolor": "white",
            "linecolor": "white",
            "ticks": ""
           }
          },
          "title": {
           "x": 0.05
          },
          "xaxis": {
           "automargin": true,
           "gridcolor": "white",
           "linecolor": "white",
           "ticks": "",
           "title": {
            "standoff": 15
           },
           "zerolinecolor": "white",
           "zerolinewidth": 2
          },
          "yaxis": {
           "automargin": true,
           "gridcolor": "white",
           "linecolor": "white",
           "ticks": "",
           "title": {
            "standoff": 15
           },
           "zerolinecolor": "white",
           "zerolinewidth": 2
          }
         }
        },
        "title": {
         "text": "Conf Matrix"
        },
        "width": 800,
        "xaxis": {
         "title": {
          "text": "Predicted value"
         }
        },
        "yaxis": {
         "title": {
          "text": "Real value"
         }
        }
       }
      }
     },
     "metadata": {},
     "output_type": "display_data"
    }
   ],
   "source": [
    "#Muestro la matriz de confusión\n",
    "display(plot_confusion_matrix(y_test,y_pred))\n",
    "#SI OBTENGO UNA DIAGONAL MUY FUERTE AMARILLA ES PQ PREDIJO BIEN EL MODELO "
   ]
  },
  {
   "cell_type": "code",
   "execution_count": 24,
   "metadata": {},
   "outputs": [
    {
     "data": {
      "text/plain": [
       "1.0"
      ]
     },
     "execution_count": 24,
     "metadata": {},
     "output_type": "execute_result"
    }
   ],
   "source": [
    "#Vamos a ponewr en perspectiva el score de Kappa\n",
    "\n",
    "\n",
    "#Cual es el score perfecto? Evaluo la clase real contra si misma. Es decir, el caso en que el modelo establece todas las clases en su valor real\n",
    "cohen_kappa_score(y_test,y_test, weights = 'quadratic')"
   ]
  },
  {
   "cell_type": "code",
   "execution_count": 25,
   "metadata": {},
   "outputs": [
    {
     "data": {
      "application/vnd.plotly.v1+json": {
       "config": {
        "plotlyServerURL": "https://plot.ly"
       },
       "data": [
        {
         "type": "heatmap",
         "x": [
          0,
          1,
          2,
          3,
          4
         ],
         "y": [
          0,
          1,
          2,
          3,
          4
         ],
         "z": [
          [
           100,
           0,
           0,
           0,
           0
          ],
          [
           0,
           100,
           0,
           0,
           0
          ],
          [
           0,
           0,
           100,
           0,
           0
          ],
          [
           0,
           0,
           0,
           100,
           0
          ],
          [
           0,
           0,
           0,
           0,
           100
          ]
         ]
        }
       ],
       "layout": {
        "annotations": [
         {
          "font": {
           "color": "white"
          },
          "showarrow": false,
          "text": "100.0 - 82",
          "x": 0,
          "xref": "x",
          "y": 0,
          "yref": "y"
         },
         {
          "font": {
           "color": "white"
          },
          "showarrow": false,
          "text": "0.0 - 0",
          "x": 1,
          "xref": "x",
          "y": 0,
          "yref": "y"
         },
         {
          "font": {
           "color": "white"
          },
          "showarrow": false,
          "text": "0.0 - 0",
          "x": 2,
          "xref": "x",
          "y": 0,
          "yref": "y"
         },
         {
          "font": {
           "color": "white"
          },
          "showarrow": false,
          "text": "0.0 - 0",
          "x": 3,
          "xref": "x",
          "y": 0,
          "yref": "y"
         },
         {
          "font": {
           "color": "white"
          },
          "showarrow": false,
          "text": "0.0 - 0",
          "x": 4,
          "xref": "x",
          "y": 0,
          "yref": "y"
         },
         {
          "font": {
           "color": "white"
          },
          "showarrow": false,
          "text": "0.0 - 0",
          "x": 0,
          "xref": "x",
          "y": 1,
          "yref": "y"
         },
         {
          "font": {
           "color": "white"
          },
          "showarrow": false,
          "text": "100.0 - 618",
          "x": 1,
          "xref": "x",
          "y": 1,
          "yref": "y"
         },
         {
          "font": {
           "color": "white"
          },
          "showarrow": false,
          "text": "0.0 - 0",
          "x": 2,
          "xref": "x",
          "y": 1,
          "yref": "y"
         },
         {
          "font": {
           "color": "white"
          },
          "showarrow": false,
          "text": "0.0 - 0",
          "x": 3,
          "xref": "x",
          "y": 1,
          "yref": "y"
         },
         {
          "font": {
           "color": "white"
          },
          "showarrow": false,
          "text": "0.0 - 0",
          "x": 4,
          "xref": "x",
          "y": 1,
          "yref": "y"
         },
         {
          "font": {
           "color": "white"
          },
          "showarrow": false,
          "text": "0.0 - 0",
          "x": 0,
          "xref": "x",
          "y": 2,
          "yref": "y"
         },
         {
          "font": {
           "color": "white"
          },
          "showarrow": false,
          "text": "0.0 - 0",
          "x": 1,
          "xref": "x",
          "y": 2,
          "yref": "y"
         },
         {
          "font": {
           "color": "white"
          },
          "showarrow": false,
          "text": "100.0 - 807",
          "x": 2,
          "xref": "x",
          "y": 2,
          "yref": "y"
         },
         {
          "font": {
           "color": "white"
          },
          "showarrow": false,
          "text": "0.0 - 0",
          "x": 3,
          "xref": "x",
          "y": 2,
          "yref": "y"
         },
         {
          "font": {
           "color": "white"
          },
          "showarrow": false,
          "text": "0.0 - 0",
          "x": 4,
          "xref": "x",
          "y": 2,
          "yref": "y"
         },
         {
          "font": {
           "color": "white"
          },
          "showarrow": false,
          "text": "0.0 - 0",
          "x": 0,
          "xref": "x",
          "y": 3,
          "yref": "y"
         },
         {
          "font": {
           "color": "white"
          },
          "showarrow": false,
          "text": "0.0 - 0",
          "x": 1,
          "xref": "x",
          "y": 3,
          "yref": "y"
         },
         {
          "font": {
           "color": "white"
          },
          "showarrow": false,
          "text": "0.0 - 0",
          "x": 2,
          "xref": "x",
          "y": 3,
          "yref": "y"
         },
         {
          "font": {
           "color": "white"
          },
          "showarrow": false,
          "text": "100.0 - 652",
          "x": 3,
          "xref": "x",
          "y": 3,
          "yref": "y"
         },
         {
          "font": {
           "color": "white"
          },
          "showarrow": false,
          "text": "0.0 - 0",
          "x": 4,
          "xref": "x",
          "y": 3,
          "yref": "y"
         },
         {
          "font": {
           "color": "white"
          },
          "showarrow": false,
          "text": "0.0 - 0",
          "x": 0,
          "xref": "x",
          "y": 4,
          "yref": "y"
         },
         {
          "font": {
           "color": "white"
          },
          "showarrow": false,
          "text": "0.0 - 0",
          "x": 1,
          "xref": "x",
          "y": 4,
          "yref": "y"
         },
         {
          "font": {
           "color": "white"
          },
          "showarrow": false,
          "text": "0.0 - 0",
          "x": 2,
          "xref": "x",
          "y": 4,
          "yref": "y"
         },
         {
          "font": {
           "color": "white"
          },
          "showarrow": false,
          "text": "0.0 - 0",
          "x": 3,
          "xref": "x",
          "y": 4,
          "yref": "y"
         },
         {
          "font": {
           "color": "white"
          },
          "showarrow": false,
          "text": "100.0 - 840",
          "x": 4,
          "xref": "x",
          "y": 4,
          "yref": "y"
         }
        ],
        "height": 800,
        "template": {
         "data": {
          "bar": [
           {
            "error_x": {
             "color": "#2a3f5f"
            },
            "error_y": {
             "color": "#2a3f5f"
            },
            "marker": {
             "line": {
              "color": "#E5ECF6",
              "width": 0.5
             },
             "pattern": {
              "fillmode": "overlay",
              "size": 10,
              "solidity": 0.2
             }
            },
            "type": "bar"
           }
          ],
          "barpolar": [
           {
            "marker": {
             "line": {
              "color": "#E5ECF6",
              "width": 0.5
             },
             "pattern": {
              "fillmode": "overlay",
              "size": 10,
              "solidity": 0.2
             }
            },
            "type": "barpolar"
           }
          ],
          "carpet": [
           {
            "aaxis": {
             "endlinecolor": "#2a3f5f",
             "gridcolor": "white",
             "linecolor": "white",
             "minorgridcolor": "white",
             "startlinecolor": "#2a3f5f"
            },
            "baxis": {
             "endlinecolor": "#2a3f5f",
             "gridcolor": "white",
             "linecolor": "white",
             "minorgridcolor": "white",
             "startlinecolor": "#2a3f5f"
            },
            "type": "carpet"
           }
          ],
          "choropleth": [
           {
            "colorbar": {
             "outlinewidth": 0,
             "ticks": ""
            },
            "type": "choropleth"
           }
          ],
          "contour": [
           {
            "colorbar": {
             "outlinewidth": 0,
             "ticks": ""
            },
            "colorscale": [
             [
              0,
              "#0d0887"
             ],
             [
              0.1111111111111111,
              "#46039f"
             ],
             [
              0.2222222222222222,
              "#7201a8"
             ],
             [
              0.3333333333333333,
              "#9c179e"
             ],
             [
              0.4444444444444444,
              "#bd3786"
             ],
             [
              0.5555555555555556,
              "#d8576b"
             ],
             [
              0.6666666666666666,
              "#ed7953"
             ],
             [
              0.7777777777777778,
              "#fb9f3a"
             ],
             [
              0.8888888888888888,
              "#fdca26"
             ],
             [
              1,
              "#f0f921"
             ]
            ],
            "type": "contour"
           }
          ],
          "contourcarpet": [
           {
            "colorbar": {
             "outlinewidth": 0,
             "ticks": ""
            },
            "type": "contourcarpet"
           }
          ],
          "heatmap": [
           {
            "colorbar": {
             "outlinewidth": 0,
             "ticks": ""
            },
            "colorscale": [
             [
              0,
              "#0d0887"
             ],
             [
              0.1111111111111111,
              "#46039f"
             ],
             [
              0.2222222222222222,
              "#7201a8"
             ],
             [
              0.3333333333333333,
              "#9c179e"
             ],
             [
              0.4444444444444444,
              "#bd3786"
             ],
             [
              0.5555555555555556,
              "#d8576b"
             ],
             [
              0.6666666666666666,
              "#ed7953"
             ],
             [
              0.7777777777777778,
              "#fb9f3a"
             ],
             [
              0.8888888888888888,
              "#fdca26"
             ],
             [
              1,
              "#f0f921"
             ]
            ],
            "type": "heatmap"
           }
          ],
          "heatmapgl": [
           {
            "colorbar": {
             "outlinewidth": 0,
             "ticks": ""
            },
            "colorscale": [
             [
              0,
              "#0d0887"
             ],
             [
              0.1111111111111111,
              "#46039f"
             ],
             [
              0.2222222222222222,
              "#7201a8"
             ],
             [
              0.3333333333333333,
              "#9c179e"
             ],
             [
              0.4444444444444444,
              "#bd3786"
             ],
             [
              0.5555555555555556,
              "#d8576b"
             ],
             [
              0.6666666666666666,
              "#ed7953"
             ],
             [
              0.7777777777777778,
              "#fb9f3a"
             ],
             [
              0.8888888888888888,
              "#fdca26"
             ],
             [
              1,
              "#f0f921"
             ]
            ],
            "type": "heatmapgl"
           }
          ],
          "histogram": [
           {
            "marker": {
             "pattern": {
              "fillmode": "overlay",
              "size": 10,
              "solidity": 0.2
             }
            },
            "type": "histogram"
           }
          ],
          "histogram2d": [
           {
            "colorbar": {
             "outlinewidth": 0,
             "ticks": ""
            },
            "colorscale": [
             [
              0,
              "#0d0887"
             ],
             [
              0.1111111111111111,
              "#46039f"
             ],
             [
              0.2222222222222222,
              "#7201a8"
             ],
             [
              0.3333333333333333,
              "#9c179e"
             ],
             [
              0.4444444444444444,
              "#bd3786"
             ],
             [
              0.5555555555555556,
              "#d8576b"
             ],
             [
              0.6666666666666666,
              "#ed7953"
             ],
             [
              0.7777777777777778,
              "#fb9f3a"
             ],
             [
              0.8888888888888888,
              "#fdca26"
             ],
             [
              1,
              "#f0f921"
             ]
            ],
            "type": "histogram2d"
           }
          ],
          "histogram2dcontour": [
           {
            "colorbar": {
             "outlinewidth": 0,
             "ticks": ""
            },
            "colorscale": [
             [
              0,
              "#0d0887"
             ],
             [
              0.1111111111111111,
              "#46039f"
             ],
             [
              0.2222222222222222,
              "#7201a8"
             ],
             [
              0.3333333333333333,
              "#9c179e"
             ],
             [
              0.4444444444444444,
              "#bd3786"
             ],
             [
              0.5555555555555556,
              "#d8576b"
             ],
             [
              0.6666666666666666,
              "#ed7953"
             ],
             [
              0.7777777777777778,
              "#fb9f3a"
             ],
             [
              0.8888888888888888,
              "#fdca26"
             ],
             [
              1,
              "#f0f921"
             ]
            ],
            "type": "histogram2dcontour"
           }
          ],
          "mesh3d": [
           {
            "colorbar": {
             "outlinewidth": 0,
             "ticks": ""
            },
            "type": "mesh3d"
           }
          ],
          "parcoords": [
           {
            "line": {
             "colorbar": {
              "outlinewidth": 0,
              "ticks": ""
             }
            },
            "type": "parcoords"
           }
          ],
          "pie": [
           {
            "automargin": true,
            "type": "pie"
           }
          ],
          "scatter": [
           {
            "fillpattern": {
             "fillmode": "overlay",
             "size": 10,
             "solidity": 0.2
            },
            "type": "scatter"
           }
          ],
          "scatter3d": [
           {
            "line": {
             "colorbar": {
              "outlinewidth": 0,
              "ticks": ""
             }
            },
            "marker": {
             "colorbar": {
              "outlinewidth": 0,
              "ticks": ""
             }
            },
            "type": "scatter3d"
           }
          ],
          "scattercarpet": [
           {
            "marker": {
             "colorbar": {
              "outlinewidth": 0,
              "ticks": ""
             }
            },
            "type": "scattercarpet"
           }
          ],
          "scattergeo": [
           {
            "marker": {
             "colorbar": {
              "outlinewidth": 0,
              "ticks": ""
             }
            },
            "type": "scattergeo"
           }
          ],
          "scattergl": [
           {
            "marker": {
             "colorbar": {
              "outlinewidth": 0,
              "ticks": ""
             }
            },
            "type": "scattergl"
           }
          ],
          "scattermapbox": [
           {
            "marker": {
             "colorbar": {
              "outlinewidth": 0,
              "ticks": ""
             }
            },
            "type": "scattermapbox"
           }
          ],
          "scatterpolar": [
           {
            "marker": {
             "colorbar": {
              "outlinewidth": 0,
              "ticks": ""
             }
            },
            "type": "scatterpolar"
           }
          ],
          "scatterpolargl": [
           {
            "marker": {
             "colorbar": {
              "outlinewidth": 0,
              "ticks": ""
             }
            },
            "type": "scatterpolargl"
           }
          ],
          "scatterternary": [
           {
            "marker": {
             "colorbar": {
              "outlinewidth": 0,
              "ticks": ""
             }
            },
            "type": "scatterternary"
           }
          ],
          "surface": [
           {
            "colorbar": {
             "outlinewidth": 0,
             "ticks": ""
            },
            "colorscale": [
             [
              0,
              "#0d0887"
             ],
             [
              0.1111111111111111,
              "#46039f"
             ],
             [
              0.2222222222222222,
              "#7201a8"
             ],
             [
              0.3333333333333333,
              "#9c179e"
             ],
             [
              0.4444444444444444,
              "#bd3786"
             ],
             [
              0.5555555555555556,
              "#d8576b"
             ],
             [
              0.6666666666666666,
              "#ed7953"
             ],
             [
              0.7777777777777778,
              "#fb9f3a"
             ],
             [
              0.8888888888888888,
              "#fdca26"
             ],
             [
              1,
              "#f0f921"
             ]
            ],
            "type": "surface"
           }
          ],
          "table": [
           {
            "cells": {
             "fill": {
              "color": "#EBF0F8"
             },
             "line": {
              "color": "white"
             }
            },
            "header": {
             "fill": {
              "color": "#C8D4E3"
             },
             "line": {
              "color": "white"
             }
            },
            "type": "table"
           }
          ]
         },
         "layout": {
          "annotationdefaults": {
           "arrowcolor": "#2a3f5f",
           "arrowhead": 0,
           "arrowwidth": 1
          },
          "autotypenumbers": "strict",
          "coloraxis": {
           "colorbar": {
            "outlinewidth": 0,
            "ticks": ""
           }
          },
          "colorscale": {
           "diverging": [
            [
             0,
             "#8e0152"
            ],
            [
             0.1,
             "#c51b7d"
            ],
            [
             0.2,
             "#de77ae"
            ],
            [
             0.3,
             "#f1b6da"
            ],
            [
             0.4,
             "#fde0ef"
            ],
            [
             0.5,
             "#f7f7f7"
            ],
            [
             0.6,
             "#e6f5d0"
            ],
            [
             0.7,
             "#b8e186"
            ],
            [
             0.8,
             "#7fbc41"
            ],
            [
             0.9,
             "#4d9221"
            ],
            [
             1,
             "#276419"
            ]
           ],
           "sequential": [
            [
             0,
             "#0d0887"
            ],
            [
             0.1111111111111111,
             "#46039f"
            ],
            [
             0.2222222222222222,
             "#7201a8"
            ],
            [
             0.3333333333333333,
             "#9c179e"
            ],
            [
             0.4444444444444444,
             "#bd3786"
            ],
            [
             0.5555555555555556,
             "#d8576b"
            ],
            [
             0.6666666666666666,
             "#ed7953"
            ],
            [
             0.7777777777777778,
             "#fb9f3a"
            ],
            [
             0.8888888888888888,
             "#fdca26"
            ],
            [
             1,
             "#f0f921"
            ]
           ],
           "sequentialminus": [
            [
             0,
             "#0d0887"
            ],
            [
             0.1111111111111111,
             "#46039f"
            ],
            [
             0.2222222222222222,
             "#7201a8"
            ],
            [
             0.3333333333333333,
             "#9c179e"
            ],
            [
             0.4444444444444444,
             "#bd3786"
            ],
            [
             0.5555555555555556,
             "#d8576b"
            ],
            [
             0.6666666666666666,
             "#ed7953"
            ],
            [
             0.7777777777777778,
             "#fb9f3a"
            ],
            [
             0.8888888888888888,
             "#fdca26"
            ],
            [
             1,
             "#f0f921"
            ]
           ]
          },
          "colorway": [
           "#636efa",
           "#EF553B",
           "#00cc96",
           "#ab63fa",
           "#FFA15A",
           "#19d3f3",
           "#FF6692",
           "#B6E880",
           "#FF97FF",
           "#FECB52"
          ],
          "font": {
           "color": "#2a3f5f"
          },
          "geo": {
           "bgcolor": "white",
           "lakecolor": "white",
           "landcolor": "#E5ECF6",
           "showlakes": true,
           "showland": true,
           "subunitcolor": "white"
          },
          "hoverlabel": {
           "align": "left"
          },
          "hovermode": "closest",
          "mapbox": {
           "style": "light"
          },
          "paper_bgcolor": "white",
          "plot_bgcolor": "#E5ECF6",
          "polar": {
           "angularaxis": {
            "gridcolor": "white",
            "linecolor": "white",
            "ticks": ""
           },
           "bgcolor": "#E5ECF6",
           "radialaxis": {
            "gridcolor": "white",
            "linecolor": "white",
            "ticks": ""
           }
          },
          "scene": {
           "xaxis": {
            "backgroundcolor": "#E5ECF6",
            "gridcolor": "white",
            "gridwidth": 2,
            "linecolor": "white",
            "showbackground": true,
            "ticks": "",
            "zerolinecolor": "white"
           },
           "yaxis": {
            "backgroundcolor": "#E5ECF6",
            "gridcolor": "white",
            "gridwidth": 2,
            "linecolor": "white",
            "showbackground": true,
            "ticks": "",
            "zerolinecolor": "white"
           },
           "zaxis": {
            "backgroundcolor": "#E5ECF6",
            "gridcolor": "white",
            "gridwidth": 2,
            "linecolor": "white",
            "showbackground": true,
            "ticks": "",
            "zerolinecolor": "white"
           }
          },
          "shapedefaults": {
           "line": {
            "color": "#2a3f5f"
           }
          },
          "ternary": {
           "aaxis": {
            "gridcolor": "white",
            "linecolor": "white",
            "ticks": ""
           },
           "baxis": {
            "gridcolor": "white",
            "linecolor": "white",
            "ticks": ""
           },
           "bgcolor": "#E5ECF6",
           "caxis": {
            "gridcolor": "white",
            "linecolor": "white",
            "ticks": ""
           }
          },
          "title": {
           "x": 0.05
          },
          "xaxis": {
           "automargin": true,
           "gridcolor": "white",
           "linecolor": "white",
           "ticks": "",
           "title": {
            "standoff": 15
           },
           "zerolinecolor": "white",
           "zerolinewidth": 2
          },
          "yaxis": {
           "automargin": true,
           "gridcolor": "white",
           "linecolor": "white",
           "ticks": "",
           "title": {
            "standoff": 15
           },
           "zerolinecolor": "white",
           "zerolinewidth": 2
          }
         }
        },
        "title": {
         "text": "Conf Matrix"
        },
        "width": 800,
        "xaxis": {
         "title": {
          "text": "Predicted value"
         }
        },
        "yaxis": {
         "title": {
          "text": "Real value"
         }
        }
       }
      }
     },
     "metadata": {},
     "output_type": "display_data"
    }
   ],
   "source": [
    "#Como se veria la matriz de confusión PERO ESTA ES LA PERFECTA\n",
    "display(plot_confusion_matrix(y_test,y_test))"
   ]
  },
  {
   "cell_type": "code",
   "execution_count": 26,
   "metadata": {},
   "outputs": [],
   "source": [
    "#SIMULACIONES"
   ]
  },
  {
   "cell_type": "code",
   "execution_count": 27,
   "metadata": {},
   "outputs": [],
   "source": [
    "#Pruebo un modelo alternativo donde en vez de usar la version multiclass real de lightGBM utilizo One vs All\n",
    "\n",
    "lgb_params = params = {\n",
    "                        'objective': 'multiclassova', # ESTA HACE MUCHAS LOGITICAS COMBINADAS PERO SIEMPRE DECIDE QUEDARSE CON UNA \n",
    "                        'num_class': len(y_train.unique())\n",
    "                        }\n",
    "\n",
    "\n",
    "lgb_train_dataset = lgb.Dataset(data=X_train,\n",
    "                                label=y_train)\n",
    "\n",
    "\n",
    "lgb_model = lgb.train(lgb_params,\n",
    "                      lgb_train_dataset)"
   ]
  },
  {
   "cell_type": "code",
   "execution_count": 28,
   "metadata": {},
   "outputs": [
    {
     "data": {
      "application/vnd.plotly.v1+json": {
       "config": {
        "plotlyServerURL": "https://plot.ly"
       },
       "data": [
        {
         "type": "heatmap",
         "x": [
          0,
          1,
          2,
          3,
          4
         ],
         "y": [
          0,
          1,
          2,
          3,
          4
         ],
         "z": [
          [
           50,
           12.195121951219512,
           23.170731707317074,
           6.097560975609756,
           8.536585365853659
          ],
          [
           0.3236245954692557,
           51.45631067961165,
           22.006472491909385,
           11.650485436893204,
           14.563106796116504
          ],
          [
           0.6195786864931847,
           13.506815365551425,
           59.85130111524164,
           8.054522924411401,
           17.967781908302356
          ],
          [
           1.0736196319018405,
           13.34355828220859,
           25.766871165644172,
           41.717791411042946,
           18.098159509202453
          ],
          [
           0.5952380952380952,
           8.928571428571429,
           16.785714285714285,
           6.666666666666667,
           67.02380952380952
          ]
         ]
        }
       ],
       "layout": {
        "annotations": [
         {
          "font": {
           "color": "white"
          },
          "showarrow": false,
          "text": "50.0 - 41",
          "x": 0,
          "xref": "x",
          "y": 0,
          "yref": "y"
         },
         {
          "font": {
           "color": "white"
          },
          "showarrow": false,
          "text": "12.2 - 10",
          "x": 1,
          "xref": "x",
          "y": 0,
          "yref": "y"
         },
         {
          "font": {
           "color": "white"
          },
          "showarrow": false,
          "text": "23.2 - 19",
          "x": 2,
          "xref": "x",
          "y": 0,
          "yref": "y"
         },
         {
          "font": {
           "color": "white"
          },
          "showarrow": false,
          "text": "6.1 - 5",
          "x": 3,
          "xref": "x",
          "y": 0,
          "yref": "y"
         },
         {
          "font": {
           "color": "white"
          },
          "showarrow": false,
          "text": "8.5 - 7",
          "x": 4,
          "xref": "x",
          "y": 0,
          "yref": "y"
         },
         {
          "font": {
           "color": "white"
          },
          "showarrow": false,
          "text": "0.3 - 2",
          "x": 0,
          "xref": "x",
          "y": 1,
          "yref": "y"
         },
         {
          "font": {
           "color": "white"
          },
          "showarrow": false,
          "text": "51.5 - 318",
          "x": 1,
          "xref": "x",
          "y": 1,
          "yref": "y"
         },
         {
          "font": {
           "color": "white"
          },
          "showarrow": false,
          "text": "22.0 - 136",
          "x": 2,
          "xref": "x",
          "y": 1,
          "yref": "y"
         },
         {
          "font": {
           "color": "white"
          },
          "showarrow": false,
          "text": "11.7 - 72",
          "x": 3,
          "xref": "x",
          "y": 1,
          "yref": "y"
         },
         {
          "font": {
           "color": "white"
          },
          "showarrow": false,
          "text": "14.6 - 90",
          "x": 4,
          "xref": "x",
          "y": 1,
          "yref": "y"
         },
         {
          "font": {
           "color": "white"
          },
          "showarrow": false,
          "text": "0.6 - 5",
          "x": 0,
          "xref": "x",
          "y": 2,
          "yref": "y"
         },
         {
          "font": {
           "color": "white"
          },
          "showarrow": false,
          "text": "13.5 - 109",
          "x": 1,
          "xref": "x",
          "y": 2,
          "yref": "y"
         },
         {
          "font": {
           "color": "white"
          },
          "showarrow": false,
          "text": "59.9 - 483",
          "x": 2,
          "xref": "x",
          "y": 2,
          "yref": "y"
         },
         {
          "font": {
           "color": "white"
          },
          "showarrow": false,
          "text": "8.1 - 65",
          "x": 3,
          "xref": "x",
          "y": 2,
          "yref": "y"
         },
         {
          "font": {
           "color": "white"
          },
          "showarrow": false,
          "text": "18.0 - 145",
          "x": 4,
          "xref": "x",
          "y": 2,
          "yref": "y"
         },
         {
          "font": {
           "color": "white"
          },
          "showarrow": false,
          "text": "1.1 - 7",
          "x": 0,
          "xref": "x",
          "y": 3,
          "yref": "y"
         },
         {
          "font": {
           "color": "white"
          },
          "showarrow": false,
          "text": "13.3 - 87",
          "x": 1,
          "xref": "x",
          "y": 3,
          "yref": "y"
         },
         {
          "font": {
           "color": "white"
          },
          "showarrow": false,
          "text": "25.8 - 168",
          "x": 2,
          "xref": "x",
          "y": 3,
          "yref": "y"
         },
         {
          "font": {
           "color": "white"
          },
          "showarrow": false,
          "text": "41.7 - 272",
          "x": 3,
          "xref": "x",
          "y": 3,
          "yref": "y"
         },
         {
          "font": {
           "color": "white"
          },
          "showarrow": false,
          "text": "18.1 - 118",
          "x": 4,
          "xref": "x",
          "y": 3,
          "yref": "y"
         },
         {
          "font": {
           "color": "white"
          },
          "showarrow": false,
          "text": "0.6 - 5",
          "x": 0,
          "xref": "x",
          "y": 4,
          "yref": "y"
         },
         {
          "font": {
           "color": "white"
          },
          "showarrow": false,
          "text": "8.9 - 75",
          "x": 1,
          "xref": "x",
          "y": 4,
          "yref": "y"
         },
         {
          "font": {
           "color": "white"
          },
          "showarrow": false,
          "text": "16.8 - 141",
          "x": 2,
          "xref": "x",
          "y": 4,
          "yref": "y"
         },
         {
          "font": {
           "color": "white"
          },
          "showarrow": false,
          "text": "6.7 - 56",
          "x": 3,
          "xref": "x",
          "y": 4,
          "yref": "y"
         },
         {
          "font": {
           "color": "white"
          },
          "showarrow": false,
          "text": "67.0 - 563",
          "x": 4,
          "xref": "x",
          "y": 4,
          "yref": "y"
         }
        ],
        "height": 800,
        "template": {
         "data": {
          "bar": [
           {
            "error_x": {
             "color": "#2a3f5f"
            },
            "error_y": {
             "color": "#2a3f5f"
            },
            "marker": {
             "line": {
              "color": "#E5ECF6",
              "width": 0.5
             },
             "pattern": {
              "fillmode": "overlay",
              "size": 10,
              "solidity": 0.2
             }
            },
            "type": "bar"
           }
          ],
          "barpolar": [
           {
            "marker": {
             "line": {
              "color": "#E5ECF6",
              "width": 0.5
             },
             "pattern": {
              "fillmode": "overlay",
              "size": 10,
              "solidity": 0.2
             }
            },
            "type": "barpolar"
           }
          ],
          "carpet": [
           {
            "aaxis": {
             "endlinecolor": "#2a3f5f",
             "gridcolor": "white",
             "linecolor": "white",
             "minorgridcolor": "white",
             "startlinecolor": "#2a3f5f"
            },
            "baxis": {
             "endlinecolor": "#2a3f5f",
             "gridcolor": "white",
             "linecolor": "white",
             "minorgridcolor": "white",
             "startlinecolor": "#2a3f5f"
            },
            "type": "carpet"
           }
          ],
          "choropleth": [
           {
            "colorbar": {
             "outlinewidth": 0,
             "ticks": ""
            },
            "type": "choropleth"
           }
          ],
          "contour": [
           {
            "colorbar": {
             "outlinewidth": 0,
             "ticks": ""
            },
            "colorscale": [
             [
              0,
              "#0d0887"
             ],
             [
              0.1111111111111111,
              "#46039f"
             ],
             [
              0.2222222222222222,
              "#7201a8"
             ],
             [
              0.3333333333333333,
              "#9c179e"
             ],
             [
              0.4444444444444444,
              "#bd3786"
             ],
             [
              0.5555555555555556,
              "#d8576b"
             ],
             [
              0.6666666666666666,
              "#ed7953"
             ],
             [
              0.7777777777777778,
              "#fb9f3a"
             ],
             [
              0.8888888888888888,
              "#fdca26"
             ],
             [
              1,
              "#f0f921"
             ]
            ],
            "type": "contour"
           }
          ],
          "contourcarpet": [
           {
            "colorbar": {
             "outlinewidth": 0,
             "ticks": ""
            },
            "type": "contourcarpet"
           }
          ],
          "heatmap": [
           {
            "colorbar": {
             "outlinewidth": 0,
             "ticks": ""
            },
            "colorscale": [
             [
              0,
              "#0d0887"
             ],
             [
              0.1111111111111111,
              "#46039f"
             ],
             [
              0.2222222222222222,
              "#7201a8"
             ],
             [
              0.3333333333333333,
              "#9c179e"
             ],
             [
              0.4444444444444444,
              "#bd3786"
             ],
             [
              0.5555555555555556,
              "#d8576b"
             ],
             [
              0.6666666666666666,
              "#ed7953"
             ],
             [
              0.7777777777777778,
              "#fb9f3a"
             ],
             [
              0.8888888888888888,
              "#fdca26"
             ],
             [
              1,
              "#f0f921"
             ]
            ],
            "type": "heatmap"
           }
          ],
          "heatmapgl": [
           {
            "colorbar": {
             "outlinewidth": 0,
             "ticks": ""
            },
            "colorscale": [
             [
              0,
              "#0d0887"
             ],
             [
              0.1111111111111111,
              "#46039f"
             ],
             [
              0.2222222222222222,
              "#7201a8"
             ],
             [
              0.3333333333333333,
              "#9c179e"
             ],
             [
              0.4444444444444444,
              "#bd3786"
             ],
             [
              0.5555555555555556,
              "#d8576b"
             ],
             [
              0.6666666666666666,
              "#ed7953"
             ],
             [
              0.7777777777777778,
              "#fb9f3a"
             ],
             [
              0.8888888888888888,
              "#fdca26"
             ],
             [
              1,
              "#f0f921"
             ]
            ],
            "type": "heatmapgl"
           }
          ],
          "histogram": [
           {
            "marker": {
             "pattern": {
              "fillmode": "overlay",
              "size": 10,
              "solidity": 0.2
             }
            },
            "type": "histogram"
           }
          ],
          "histogram2d": [
           {
            "colorbar": {
             "outlinewidth": 0,
             "ticks": ""
            },
            "colorscale": [
             [
              0,
              "#0d0887"
             ],
             [
              0.1111111111111111,
              "#46039f"
             ],
             [
              0.2222222222222222,
              "#7201a8"
             ],
             [
              0.3333333333333333,
              "#9c179e"
             ],
             [
              0.4444444444444444,
              "#bd3786"
             ],
             [
              0.5555555555555556,
              "#d8576b"
             ],
             [
              0.6666666666666666,
              "#ed7953"
             ],
             [
              0.7777777777777778,
              "#fb9f3a"
             ],
             [
              0.8888888888888888,
              "#fdca26"
             ],
             [
              1,
              "#f0f921"
             ]
            ],
            "type": "histogram2d"
           }
          ],
          "histogram2dcontour": [
           {
            "colorbar": {
             "outlinewidth": 0,
             "ticks": ""
            },
            "colorscale": [
             [
              0,
              "#0d0887"
             ],
             [
              0.1111111111111111,
              "#46039f"
             ],
             [
              0.2222222222222222,
              "#7201a8"
             ],
             [
              0.3333333333333333,
              "#9c179e"
             ],
             [
              0.4444444444444444,
              "#bd3786"
             ],
             [
              0.5555555555555556,
              "#d8576b"
             ],
             [
              0.6666666666666666,
              "#ed7953"
             ],
             [
              0.7777777777777778,
              "#fb9f3a"
             ],
             [
              0.8888888888888888,
              "#fdca26"
             ],
             [
              1,
              "#f0f921"
             ]
            ],
            "type": "histogram2dcontour"
           }
          ],
          "mesh3d": [
           {
            "colorbar": {
             "outlinewidth": 0,
             "ticks": ""
            },
            "type": "mesh3d"
           }
          ],
          "parcoords": [
           {
            "line": {
             "colorbar": {
              "outlinewidth": 0,
              "ticks": ""
             }
            },
            "type": "parcoords"
           }
          ],
          "pie": [
           {
            "automargin": true,
            "type": "pie"
           }
          ],
          "scatter": [
           {
            "fillpattern": {
             "fillmode": "overlay",
             "size": 10,
             "solidity": 0.2
            },
            "type": "scatter"
           }
          ],
          "scatter3d": [
           {
            "line": {
             "colorbar": {
              "outlinewidth": 0,
              "ticks": ""
             }
            },
            "marker": {
             "colorbar": {
              "outlinewidth": 0,
              "ticks": ""
             }
            },
            "type": "scatter3d"
           }
          ],
          "scattercarpet": [
           {
            "marker": {
             "colorbar": {
              "outlinewidth": 0,
              "ticks": ""
             }
            },
            "type": "scattercarpet"
           }
          ],
          "scattergeo": [
           {
            "marker": {
             "colorbar": {
              "outlinewidth": 0,
              "ticks": ""
             }
            },
            "type": "scattergeo"
           }
          ],
          "scattergl": [
           {
            "marker": {
             "colorbar": {
              "outlinewidth": 0,
              "ticks": ""
             }
            },
            "type": "scattergl"
           }
          ],
          "scattermapbox": [
           {
            "marker": {
             "colorbar": {
              "outlinewidth": 0,
              "ticks": ""
             }
            },
            "type": "scattermapbox"
           }
          ],
          "scatterpolar": [
           {
            "marker": {
             "colorbar": {
              "outlinewidth": 0,
              "ticks": ""
             }
            },
            "type": "scatterpolar"
           }
          ],
          "scatterpolargl": [
           {
            "marker": {
             "colorbar": {
              "outlinewidth": 0,
              "ticks": ""
             }
            },
            "type": "scatterpolargl"
           }
          ],
          "scatterternary": [
           {
            "marker": {
             "colorbar": {
              "outlinewidth": 0,
              "ticks": ""
             }
            },
            "type": "scatterternary"
           }
          ],
          "surface": [
           {
            "colorbar": {
             "outlinewidth": 0,
             "ticks": ""
            },
            "colorscale": [
             [
              0,
              "#0d0887"
             ],
             [
              0.1111111111111111,
              "#46039f"
             ],
             [
              0.2222222222222222,
              "#7201a8"
             ],
             [
              0.3333333333333333,
              "#9c179e"
             ],
             [
              0.4444444444444444,
              "#bd3786"
             ],
             [
              0.5555555555555556,
              "#d8576b"
             ],
             [
              0.6666666666666666,
              "#ed7953"
             ],
             [
              0.7777777777777778,
              "#fb9f3a"
             ],
             [
              0.8888888888888888,
              "#fdca26"
             ],
             [
              1,
              "#f0f921"
             ]
            ],
            "type": "surface"
           }
          ],
          "table": [
           {
            "cells": {
             "fill": {
              "color": "#EBF0F8"
             },
             "line": {
              "color": "white"
             }
            },
            "header": {
             "fill": {
              "color": "#C8D4E3"
             },
             "line": {
              "color": "white"
             }
            },
            "type": "table"
           }
          ]
         },
         "layout": {
          "annotationdefaults": {
           "arrowcolor": "#2a3f5f",
           "arrowhead": 0,
           "arrowwidth": 1
          },
          "autotypenumbers": "strict",
          "coloraxis": {
           "colorbar": {
            "outlinewidth": 0,
            "ticks": ""
           }
          },
          "colorscale": {
           "diverging": [
            [
             0,
             "#8e0152"
            ],
            [
             0.1,
             "#c51b7d"
            ],
            [
             0.2,
             "#de77ae"
            ],
            [
             0.3,
             "#f1b6da"
            ],
            [
             0.4,
             "#fde0ef"
            ],
            [
             0.5,
             "#f7f7f7"
            ],
            [
             0.6,
             "#e6f5d0"
            ],
            [
             0.7,
             "#b8e186"
            ],
            [
             0.8,
             "#7fbc41"
            ],
            [
             0.9,
             "#4d9221"
            ],
            [
             1,
             "#276419"
            ]
           ],
           "sequential": [
            [
             0,
             "#0d0887"
            ],
            [
             0.1111111111111111,
             "#46039f"
            ],
            [
             0.2222222222222222,
             "#7201a8"
            ],
            [
             0.3333333333333333,
             "#9c179e"
            ],
            [
             0.4444444444444444,
             "#bd3786"
            ],
            [
             0.5555555555555556,
             "#d8576b"
            ],
            [
             0.6666666666666666,
             "#ed7953"
            ],
            [
             0.7777777777777778,
             "#fb9f3a"
            ],
            [
             0.8888888888888888,
             "#fdca26"
            ],
            [
             1,
             "#f0f921"
            ]
           ],
           "sequentialminus": [
            [
             0,
             "#0d0887"
            ],
            [
             0.1111111111111111,
             "#46039f"
            ],
            [
             0.2222222222222222,
             "#7201a8"
            ],
            [
             0.3333333333333333,
             "#9c179e"
            ],
            [
             0.4444444444444444,
             "#bd3786"
            ],
            [
             0.5555555555555556,
             "#d8576b"
            ],
            [
             0.6666666666666666,
             "#ed7953"
            ],
            [
             0.7777777777777778,
             "#fb9f3a"
            ],
            [
             0.8888888888888888,
             "#fdca26"
            ],
            [
             1,
             "#f0f921"
            ]
           ]
          },
          "colorway": [
           "#636efa",
           "#EF553B",
           "#00cc96",
           "#ab63fa",
           "#FFA15A",
           "#19d3f3",
           "#FF6692",
           "#B6E880",
           "#FF97FF",
           "#FECB52"
          ],
          "font": {
           "color": "#2a3f5f"
          },
          "geo": {
           "bgcolor": "white",
           "lakecolor": "white",
           "landcolor": "#E5ECF6",
           "showlakes": true,
           "showland": true,
           "subunitcolor": "white"
          },
          "hoverlabel": {
           "align": "left"
          },
          "hovermode": "closest",
          "mapbox": {
           "style": "light"
          },
          "paper_bgcolor": "white",
          "plot_bgcolor": "#E5ECF6",
          "polar": {
           "angularaxis": {
            "gridcolor": "white",
            "linecolor": "white",
            "ticks": ""
           },
           "bgcolor": "#E5ECF6",
           "radialaxis": {
            "gridcolor": "white",
            "linecolor": "white",
            "ticks": ""
           }
          },
          "scene": {
           "xaxis": {
            "backgroundcolor": "#E5ECF6",
            "gridcolor": "white",
            "gridwidth": 2,
            "linecolor": "white",
            "showbackground": true,
            "ticks": "",
            "zerolinecolor": "white"
           },
           "yaxis": {
            "backgroundcolor": "#E5ECF6",
            "gridcolor": "white",
            "gridwidth": 2,
            "linecolor": "white",
            "showbackground": true,
            "ticks": "",
            "zerolinecolor": "white"
           },
           "zaxis": {
            "backgroundcolor": "#E5ECF6",
            "gridcolor": "white",
            "gridwidth": 2,
            "linecolor": "white",
            "showbackground": true,
            "ticks": "",
            "zerolinecolor": "white"
           }
          },
          "shapedefaults": {
           "line": {
            "color": "#2a3f5f"
           }
          },
          "ternary": {
           "aaxis": {
            "gridcolor": "white",
            "linecolor": "white",
            "ticks": ""
           },
           "baxis": {
            "gridcolor": "white",
            "linecolor": "white",
            "ticks": ""
           },
           "bgcolor": "#E5ECF6",
           "caxis": {
            "gridcolor": "white",
            "linecolor": "white",
            "ticks": ""
           }
          },
          "title": {
           "x": 0.05
          },
          "xaxis": {
           "automargin": true,
           "gridcolor": "white",
           "linecolor": "white",
           "ticks": "",
           "title": {
            "standoff": 15
           },
           "zerolinecolor": "white",
           "zerolinewidth": 2
          },
          "yaxis": {
           "automargin": true,
           "gridcolor": "white",
           "linecolor": "white",
           "ticks": "",
           "title": {
            "standoff": 15
           },
           "zerolinecolor": "white",
           "zerolinewidth": 2
          }
         }
        },
        "title": {
         "text": "Conf Matrix"
        },
        "width": 800,
        "xaxis": {
         "title": {
          "text": "Predicted value"
         }
        },
        "yaxis": {
         "title": {
          "text": "Real value"
         }
        }
       }
      }
     },
     "metadata": {},
     "output_type": "display_data"
    },
    {
     "data": {
      "text/plain": [
       "{'kappa': 0.47943098868329026,\n",
       " 'accuracy': 0.559186395465155,\n",
       " 'balanced_accuracy': 0.5400984254594114}"
      ]
     },
     "execution_count": 28,
     "metadata": {},
     "output_type": "execute_result"
    }
   ],
   "source": [
    "#MAtriz de confusion y Kappa dfe OVA\n",
    "y_pred = lgb_model.predict(X_test).argmax(axis=1)\n",
    "\n",
    "display(plot_confusion_matrix(y_test,y_pred))\n",
    "\n",
    "{'kappa':cohen_kappa_score(y_test,\n",
    "                y_pred,\n",
    "                weights = 'quadratic'),\n",
    " 'accuracy':accuracy_score(y_test,y_pred),\n",
    " 'balanced_accuracy':balanced_accuracy_score(y_test,y_pred)}\n",
    "\n",
    "\n"
   ]
  },
  {
   "cell_type": "code",
   "execution_count": 29,
   "metadata": {},
   "outputs": [],
   "source": [
    "#USAR MULTINOVA MEJORA KAPPA OSEA MI MODELO SE ACERCA MAS AL ORIG"
   ]
  },
  {
   "cell_type": "markdown",
   "metadata": {},
   "source": [
    "## Optimizacion de hiperparametros modelo train/test"
   ]
  },
  {
   "cell_type": "code",
   "execution_count": 30,
   "metadata": {},
   "outputs": [],
   "source": [
    "#AHORA SUMAMOS HIPERPARAMETROS PARA VER QUE PASA CON LGBM"
   ]
  },
  {
   "cell_type": "code",
   "execution_count": 31,
   "metadata": {},
   "outputs": [],
   "source": [
    "\n",
    "#Funcion que vamos a optimizar. Optuna requiere que usemos el objeto trial para generar los parametros a optimizar\n",
    "def lgb_objective(trial):\n",
    "    #PArametros para LightGBM\n",
    "    lgb_params = {      \n",
    "                        #PArametros fijos\n",
    "                        'objective': 'multiclass',\n",
    "                        'verbosity':-1,\n",
    "                        'num_class': len(y_train.unique()),\n",
    "                        #Hiperparametros a optimizar utilizando suggest_float o suggest_int segun el tipo de dato\n",
    "                        #Se indica el nombre del parametro, valor minimo, valor maximo \n",
    "                        #en elgunos casos el parametro log=True para parametros que requieren buscar en esa escala\n",
    "                        'lambda_l1': trial.suggest_float('lambda_l1', 1e-8, 10.0, log=True),\n",
    "                        'lambda_l2': trial.suggest_float('lambda_l2', 1e-8, 10.0, log=True),\n",
    "                        'num_leaves': trial.suggest_int('num_leaves', 2, 256),\n",
    "                        'feature_fraction': trial.suggest_float('feature_fraction', 0.4, 1.0),\n",
    "                        'bagging_fraction': trial.suggest_float('bagging_fraction', 0.4, 1.0),\n",
    "                        'bagging_freq': trial.suggest_int('bagging_freq', 1, 7),\n",
    "                        'min_child_samples': trial.suggest_int('min_child_samples', 5, 100),\n",
    "                        } \n",
    "\n",
    "    #Genero objeto dataset de entrenamiento\n",
    "    lgb_train_dataset = lgb.Dataset(data=X_train,\n",
    "                                    label=y_train)\n",
    "\n",
    "    #ajuste de modelo\n",
    "    lgb_model = lgb.train(lgb_params,\n",
    "                        lgb_train_dataset)\n",
    "    \n",
    "    #Devuelvo el score en test\n",
    "    return(cohen_kappa_score(y_test,lgb_model.predict(X_test).argmax(axis=1),\n",
    "                             weights = 'quadratic'))"
   ]
  },
  {
   "cell_type": "code",
   "execution_count": 32,
   "metadata": {},
   "outputs": [
    {
     "name": "stderr",
     "output_type": "stream",
     "text": [
      "[I 2024-08-24 08:49:38,495] Using an existing study with name '04 - LGB Multiclass' instead of creating a new one.\n",
      "[I 2024-08-24 08:49:41,204] Trial 1484 finished with value: 0.483977935024807 and parameters: {'lambda_l1': 8.893235266261993e-05, 'lambda_l2': 8.139808376756384e-08, 'num_leaves': 27, 'feature_fraction': 0.900366996804788, 'bagging_fraction': 0.5540718542041744, 'bagging_freq': 6, 'min_child_samples': 15}. Best is trial 200 with value: 1.0.\n",
      "[I 2024-08-24 08:49:42,140] Trial 1485 finished with value: 0.4828837155360979 and parameters: {'lambda_l1': 4.3823043241370415e-05, 'lambda_l2': 2.7551146094036744e-08, 'num_leaves': 2, 'feature_fraction': 0.4108398209788985, 'bagging_fraction': 0.56681327629941, 'bagging_freq': 6, 'min_child_samples': 18}. Best is trial 200 with value: 1.0.\n",
      "[I 2024-08-24 08:49:44,906] Trial 1486 finished with value: 0.49209747094967693 and parameters: {'lambda_l1': 0.00012566168816623957, 'lambda_l2': 1.1794015003009835e-07, 'num_leaves': 17, 'feature_fraction': 0.9998848794763152, 'bagging_fraction': 0.5149946732346727, 'bagging_freq': 6, 'min_child_samples': 10}. Best is trial 200 with value: 1.0.\n",
      "[I 2024-08-24 08:49:46,207] Trial 1487 finished with value: 0.4960854990035872 and parameters: {'lambda_l1': 7.188691230248817e-05, 'lambda_l2': 1.8477986592167966e-07, 'num_leaves': 11, 'feature_fraction': 0.9887874805600659, 'bagging_fraction': 0.49564961717806005, 'bagging_freq': 6, 'min_child_samples': 16}. Best is trial 200 with value: 1.0.\n",
      "[I 2024-08-24 08:49:47,225] Trial 1488 finished with value: 0.486472053540692 and parameters: {'lambda_l1': 0.00027153769663073663, 'lambda_l2': 4.526860996137601e-08, 'num_leaves': 6, 'feature_fraction': 0.9585686556222133, 'bagging_fraction': 0.47176059597532094, 'bagging_freq': 7, 'min_child_samples': 29}. Best is trial 200 with value: 1.0.\n",
      "[I 2024-08-24 08:49:48,544] Trial 1489 finished with value: 0.49187776848091447 and parameters: {'lambda_l1': 2.0712389468159862e-05, 'lambda_l2': 6.638943209963856e-08, 'num_leaves': 15, 'feature_fraction': 0.9795372462812549, 'bagging_fraction': 0.5425623863639911, 'bagging_freq': 4, 'min_child_samples': 12}. Best is trial 200 with value: 1.0.\n",
      "[I 2024-08-24 08:49:50,598] Trial 1490 finished with value: 0.4844475311503451 and parameters: {'lambda_l1': 9.81043405901921e-05, 'lambda_l2': 1.0950380419407117e-07, 'num_leaves': 31, 'feature_fraction': 0.9897354791086448, 'bagging_fraction': 0.5279881521797991, 'bagging_freq': 6, 'min_child_samples': 14}. Best is trial 200 with value: 1.0.\n",
      "[I 2024-08-24 08:49:52,477] Trial 1491 finished with value: 0.48545289958583304 and parameters: {'lambda_l1': 5.329452094545852e-05, 'lambda_l2': 4.375373573743321e-07, 'num_leaves': 21, 'feature_fraction': 0.9998938173117452, 'bagging_fraction': 0.48618421858329763, 'bagging_freq': 6, 'min_child_samples': 19}. Best is trial 200 with value: 1.0.\n",
      "[I 2024-08-24 08:49:53,736] Trial 1492 finished with value: 0.4866686356265788 and parameters: {'lambda_l1': 1.0620627747347439e-07, 'lambda_l2': 1.0318270622523215e-06, 'num_leaves': 10, 'feature_fraction': 0.9712893747304661, 'bagging_fraction': 0.5083312489894205, 'bagging_freq': 6, 'min_child_samples': 17}. Best is trial 200 with value: 1.0.\n",
      "[I 2024-08-24 08:49:54,572] Trial 1493 finished with value: 0.48334295872617294 and parameters: {'lambda_l1': 0.00017828480978372027, 'lambda_l2': 2.7678941105346304e-07, 'num_leaves': 2, 'feature_fraction': 0.5898428995663427, 'bagging_fraction': 0.5563887470820513, 'bagging_freq': 6, 'min_child_samples': 15}. Best is trial 200 with value: 1.0.\n",
      "[I 2024-08-24 08:49:56,250] Trial 1494 finished with value: 0.4870640260222303 and parameters: {'lambda_l1': 6.644993088414578e-06, 'lambda_l2': 1.8511022910056576e-08, 'num_leaves': 15, 'feature_fraction': 0.980045891636152, 'bagging_fraction': 0.5382111281477433, 'bagging_freq': 6, 'min_child_samples': 13}. Best is trial 200 with value: 1.0.\n",
      "[I 2024-08-24 08:49:57,587] Trial 1495 finished with value: 0.489314815051046 and parameters: {'lambda_l1': 4.0119387796106886e-05, 'lambda_l2': 6.212526309109443e-08, 'num_leaves': 7, 'feature_fraction': 0.9892892902467637, 'bagging_fraction': 0.5864047134138691, 'bagging_freq': 6, 'min_child_samples': 32}. Best is trial 200 with value: 1.0.\n",
      "[I 2024-08-24 08:49:59,476] Trial 1496 finished with value: 0.4772719660944812 and parameters: {'lambda_l1': 7.150820073247785e-05, 'lambda_l2': 1.5957180530779478e-07, 'num_leaves': 25, 'feature_fraction': 0.9636796631501935, 'bagging_fraction': 0.5685361624965579, 'bagging_freq': 6, 'min_child_samples': 20}. Best is trial 200 with value: 1.0.\n",
      "[I 2024-08-24 08:50:00,829] Trial 1497 finished with value: 0.4974573139637275 and parameters: {'lambda_l1': 0.00012872479484138093, 'lambda_l2': 2.9206749707063616e-08, 'num_leaves': 10, 'feature_fraction': 0.7154187451744879, 'bagging_fraction': 0.5212470844240795, 'bagging_freq': 5, 'min_child_samples': 17}. Best is trial 200 with value: 1.0.\n",
      "[I 2024-08-24 08:50:04,499] Trial 1498 finished with value: 0.450568199381325 and parameters: {'lambda_l1': 9.226948879032977e-05, 'lambda_l2': 1.0321354420831893e-07, 'num_leaves': 51, 'feature_fraction': 0.9891900293678304, 'bagging_fraction': 0.4837397512581453, 'bagging_freq': 6, 'min_child_samples': 15}. Best is trial 200 with value: 1.0.\n",
      "[I 2024-08-24 08:50:05,867] Trial 1499 finished with value: 0.49222909645895085 and parameters: {'lambda_l1': 3.287514336652291e-05, 'lambda_l2': 2.0596728491125623e-07, 'num_leaves': 17, 'feature_fraction': 0.46024098809083847, 'bagging_fraction': 0.5007434783607758, 'bagging_freq': 6, 'min_child_samples': 11}. Best is trial 200 with value: 1.0.\n",
      "[I 2024-08-24 08:50:06,700] Trial 1500 finished with value: 0.47753011176438287 and parameters: {'lambda_l1': 0.00020438671159431118, 'lambda_l2': 5.266741478482517e-08, 'num_leaves': 2, 'feature_fraction': 0.9717296578079128, 'bagging_fraction': 0.5506998740828025, 'bagging_freq': 6, 'min_child_samples': 18}. Best is trial 200 with value: 1.0.\n",
      "[I 2024-08-24 08:50:09,402] Trial 1501 finished with value: 0.48390403044969255 and parameters: {'lambda_l1': 5.6751880502608155e-05, 'lambda_l2': 8.056393285508349e-08, 'num_leaves': 21, 'feature_fraction': 0.9996477537578321, 'bagging_fraction': 0.527865364133589, 'bagging_freq': 6, 'min_child_samples': 14}. Best is trial 200 with value: 1.0.\n",
      "[I 2024-08-24 08:50:10,941] Trial 1502 finished with value: 0.497183255572918 and parameters: {'lambda_l1': 0.00013571683843660676, 'lambda_l2': 1.414786144407097e-07, 'num_leaves': 12, 'feature_fraction': 0.9816831170771988, 'bagging_fraction': 0.5139121789761112, 'bagging_freq': 6, 'min_child_samples': 42}. Best is trial 200 with value: 1.0.\n",
      "[I 2024-08-24 08:50:13,057] Trial 1503 finished with value: 0.47882877827595716 and parameters: {'lambda_l1': 7.374927475660744e-05, 'lambda_l2': 0.00010735070959099533, 'num_leaves': 40, 'feature_fraction': 0.9896416098697536, 'bagging_fraction': 0.5617445507101066, 'bagging_freq': 6, 'min_child_samples': 16}. Best is trial 200 with value: 1.0.\n",
      "[I 2024-08-24 08:50:14,578] Trial 1504 finished with value: 0.49450261248774363 and parameters: {'lambda_l1': 0.00036231571785726, 'lambda_l2': 3.8228222530066754e-08, 'num_leaves': 6, 'feature_fraction': 0.954549478273496, 'bagging_fraction': 0.6002928389686899, 'bagging_freq': 6, 'min_child_samples': 12}. Best is trial 200 with value: 1.0.\n",
      "[I 2024-08-24 08:50:15,932] Trial 1505 finished with value: 0.4800532209302528 and parameters: {'lambda_l1': 2.0532997223638606e-05, 'lambda_l2': 5.344081670624902e-07, 'num_leaves': 14, 'feature_fraction': 0.9997886951666425, 'bagging_fraction': 0.5346807496576036, 'bagging_freq': 6, 'min_child_samples': 20}. Best is trial 200 with value: 1.0.\n",
      "[I 2024-08-24 08:50:17,603] Trial 1506 finished with value: 0.48215757065903 and parameters: {'lambda_l1': 4.2373889345502795e-05, 'lambda_l2': 7.496306252421239e-08, 'num_leaves': 26, 'feature_fraction': 0.9799200037016502, 'bagging_fraction': 0.5800364500985631, 'bagging_freq': 6, 'min_child_samples': 22}. Best is trial 200 with value: 1.0.\n",
      "[I 2024-08-24 08:50:18,620] Trial 1507 finished with value: 0.4845828150468102 and parameters: {'lambda_l1': 0.00010787446382399574, 'lambda_l2': 1.4519097900481119e-08, 'num_leaves': 6, 'feature_fraction': 0.9688540246909442, 'bagging_fraction': 0.46199020425015014, 'bagging_freq': 6, 'min_child_samples': 9}. Best is trial 200 with value: 1.0.\n",
      "[I 2024-08-24 08:50:20,478] Trial 1508 finished with value: 0.47058553920984514 and parameters: {'lambda_l1': 6.063031812462222e-05, 'lambda_l2': 2.1783057647876966e-07, 'num_leaves': 18, 'feature_fraction': 0.9825255406740803, 'bagging_fraction': 0.4906548591880258, 'bagging_freq': 6, 'min_child_samples': 14}. Best is trial 200 with value: 1.0.\n",
      "[I 2024-08-24 08:50:21,637] Trial 1509 finished with value: 0.479278334172883 and parameters: {'lambda_l1': 0.00021574744909345737, 'lambda_l2': 1.2220350178426258e-07, 'num_leaves': 11, 'feature_fraction': 0.9896275123831695, 'bagging_fraction': 0.5046122665895693, 'bagging_freq': 6, 'min_child_samples': 16}. Best is trial 200 with value: 1.0.\n",
      "[I 2024-08-24 08:50:22,436] Trial 1510 finished with value: 0.4772805222389548 and parameters: {'lambda_l1': 3.0547326066784613e-05, 'lambda_l2': 0.00027536947943698385, 'num_leaves': 2, 'feature_fraction': 0.9998875341741762, 'bagging_fraction': 0.5468101728729702, 'bagging_freq': 6, 'min_child_samples': 18}. Best is trial 200 with value: 1.0.\n",
      "[I 2024-08-24 08:50:23,996] Trial 1511 finished with value: 0.4877380858992624 and parameters: {'lambda_l1': 9.372748363661523e-05, 'lambda_l2': 3.8549916232977415e-08, 'num_leaves': 21, 'feature_fraction': 0.999991947804229, 'bagging_fraction': 0.5194489816426037, 'bagging_freq': 6, 'min_child_samples': 12}. Best is trial 200 with value: 1.0.\n",
      "[I 2024-08-24 08:50:25,824] Trial 1512 finished with value: 0.4840006037231839 and parameters: {'lambda_l1': 0.00014124746526973067, 'lambda_l2': 6.277267269399275e-08, 'num_leaves': 9, 'feature_fraction': 0.9700199143840547, 'bagging_fraction': 0.7520306943606767, 'bagging_freq': 7, 'min_child_samples': 15}. Best is trial 200 with value: 1.0.\n",
      "[I 2024-08-24 08:50:27,560] Trial 1513 finished with value: 0.47686941634849844 and parameters: {'lambda_l1': 0.004353006956492789, 'lambda_l2': 3.30858523730202e-07, 'num_leaves': 15, 'feature_fraction': 0.98104008895945, 'bagging_fraction': 0.5705977547672825, 'bagging_freq': 6, 'min_child_samples': 18}. Best is trial 200 with value: 1.0.\n",
      "[I 2024-08-24 08:50:28,669] Trial 1514 finished with value: 0.4914191720691 and parameters: {'lambda_l1': 6.165724299067745e-05, 'lambda_l2': 2.2918842032758262e-08, 'num_leaves': 6, 'feature_fraction': 0.9618006906948586, 'bagging_fraction': 0.47673404724155416, 'bagging_freq': 6, 'min_child_samples': 13}. Best is trial 200 with value: 1.0.\n",
      "[I 2024-08-24 08:50:31,767] Trial 1515 finished with value: 0.4754998762782847 and parameters: {'lambda_l1': 3.869011987624129e-05, 'lambda_l2': 1.0873588258075638e-07, 'num_leaves': 30, 'feature_fraction': 0.9999232921296628, 'bagging_fraction': 0.538356753552869, 'bagging_freq': 6, 'min_child_samples': 16}. Best is trial 200 with value: 1.0.\n",
      "[I 2024-08-24 08:50:32,986] Trial 1516 finished with value: 0.49094494155876856 and parameters: {'lambda_l1': 9.246855204360973e-05, 'lambda_l2': 1.5834517304246218e-07, 'num_leaves': 11, 'feature_fraction': 0.9469106518516628, 'bagging_fraction': 0.690887839477652, 'bagging_freq': 6, 'min_child_samples': 19}. Best is trial 200 with value: 1.0.\n",
      "[I 2024-08-24 08:50:34,441] Trial 1517 finished with value: 0.48199012909567707 and parameters: {'lambda_l1': 0.00014364462792570049, 'lambda_l2': 5.415594086486514e-08, 'num_leaves': 18, 'feature_fraction': 0.9805775472900754, 'bagging_fraction': 0.49605712740905333, 'bagging_freq': 6, 'min_child_samples': 11}. Best is trial 200 with value: 1.0.\n",
      "[I 2024-08-24 08:50:35,259] Trial 1518 finished with value: 0.4788119111210387 and parameters: {'lambda_l1': 6.067023259615676e-05, 'lambda_l2': 8.389370808095532e-08, 'num_leaves': 2, 'feature_fraction': 0.8758010499868918, 'bagging_fraction': 0.5110068569823009, 'bagging_freq': 6, 'min_child_samples': 14}. Best is trial 200 with value: 1.0.\n",
      "[I 2024-08-24 08:50:37,366] Trial 1519 finished with value: 0.4860782279783725 and parameters: {'lambda_l1': 0.0002371673155408518, 'lambda_l2': 2.1163909799310056e-07, 'num_leaves': 23, 'feature_fraction': 0.987563012528384, 'bagging_fraction': 0.5571105133706723, 'bagging_freq': 6, 'min_child_samples': 17}. Best is trial 200 with value: 1.0.\n",
      "[I 2024-08-24 08:50:38,483] Trial 1520 finished with value: 0.4920335218647449 and parameters: {'lambda_l1': 4.414795589592719e-05, 'lambda_l2': 3.78136560569538e-08, 'num_leaves': 7, 'feature_fraction': 0.9723751120972776, 'bagging_fraction': 0.5196776273461643, 'bagging_freq': 6, 'min_child_samples': 15}. Best is trial 200 with value: 1.0.\n",
      "[I 2024-08-24 08:50:39,866] Trial 1521 finished with value: 0.4879443298279159 and parameters: {'lambda_l1': 9.025156202193473e-05, 'lambda_l2': 3.5953807723192875e-07, 'num_leaves': 14, 'feature_fraction': 0.9894384475468456, 'bagging_fraction': 0.5895186804291337, 'bagging_freq': 6, 'min_child_samples': 13}. Best is trial 200 with value: 1.0.\n",
      "[I 2024-08-24 08:50:41,012] Trial 1522 finished with value: 0.4868784337941635 and parameters: {'lambda_l1': 1.6359477939920446e-05, 'lambda_l2': 9.495904175336217e-08, 'num_leaves': 10, 'feature_fraction': 0.9893197017098435, 'bagging_fraction': 0.5304166212143258, 'bagging_freq': 6, 'min_child_samples': 20}. Best is trial 200 with value: 1.0.\n",
      "[I 2024-08-24 08:50:42,935] Trial 1523 finished with value: 0.4872990289106166 and parameters: {'lambda_l1': 0.0004543815084703407, 'lambda_l2': 5.535377804173145e-08, 'num_leaves': 17, 'feature_fraction': 0.9726557210724596, 'bagging_fraction': 0.5440972404064515, 'bagging_freq': 6, 'min_child_samples': 17}. Best is trial 200 with value: 1.0.\n",
      "[I 2024-08-24 08:50:44,872] Trial 1524 finished with value: 0.46443863769532523 and parameters: {'lambda_l1': 2.710770739618567e-05, 'lambda_l2': 1.5582242258601363e-07, 'num_leaves': 34, 'feature_fraction': 0.9895395335014175, 'bagging_fraction': 0.4863007982926356, 'bagging_freq': 6, 'min_child_samples': 10}. Best is trial 200 with value: 1.0.\n",
      "[I 2024-08-24 08:50:46,239] Trial 1525 finished with value: 0.48514264085769787 and parameters: {'lambda_l1': 0.00013936599796893532, 'lambda_l2': 6.966545375535135e-07, 'num_leaves': 6, 'feature_fraction': 0.9623430809314986, 'bagging_fraction': 0.5040106965058635, 'bagging_freq': 6, 'min_child_samples': 15}. Best is trial 200 with value: 1.0.\n",
      "[I 2024-08-24 08:50:48,848] Trial 1526 finished with value: 0.4777396586192204 and parameters: {'lambda_l1': 7.562817104238353e-05, 'lambda_l2': 2.7060641134746674e-08, 'num_leaves': 26, 'feature_fraction': 0.9998253997207547, 'bagging_fraction': 0.574558626518687, 'bagging_freq': 3, 'min_child_samples': 17}. Best is trial 200 with value: 1.0.\n",
      "[I 2024-08-24 08:50:50,434] Trial 1527 finished with value: 0.49277306464985593 and parameters: {'lambda_l1': 4.959382127495745e-05, 'lambda_l2': 2.5308482656420015e-07, 'num_leaves': 20, 'feature_fraction': 0.979104857969064, 'bagging_fraction': 0.6084216159905336, 'bagging_freq': 6, 'min_child_samples': 13}. Best is trial 200 with value: 1.0.\n",
      "[I 2024-08-24 08:50:51,252] Trial 1528 finished with value: 0.4824058349810951 and parameters: {'lambda_l1': 0.00020191000904699378, 'lambda_l2': 8.492965812713948e-08, 'num_leaves': 2, 'feature_fraction': 0.9802518953332269, 'bagging_fraction': 0.5548018620738616, 'bagging_freq': 6, 'min_child_samples': 22}. Best is trial 200 with value: 1.0.\n",
      "[I 2024-08-24 08:50:52,728] Trial 1529 finished with value: 0.49550197132901275 and parameters: {'lambda_l1': 9.879493088477773e-05, 'lambda_l2': 1.312700516314688e-07, 'num_leaves': 13, 'feature_fraction': 0.9899837042894631, 'bagging_fraction': 0.5258388682591083, 'bagging_freq': 6, 'min_child_samples': 19}. Best is trial 200 with value: 1.0.\n",
      "[I 2024-08-24 08:50:54,596] Trial 1530 finished with value: 0.48260047835590303 and parameters: {'lambda_l1': 6.572954810566165e-05, 'lambda_l2': 4.319416041534837e-08, 'num_leaves': 7, 'feature_fraction': 0.9997182636190928, 'bagging_fraction': 0.49537517685677357, 'bagging_freq': 6, 'min_child_samples': 15}. Best is trial 200 with value: 1.0.\n",
      "[I 2024-08-24 08:50:55,962] Trial 1531 finished with value: 0.48441056047952624 and parameters: {'lambda_l1': 3.106714759994098e-05, 'lambda_l2': 7.648744333721183e-08, 'num_leaves': 12, 'feature_fraction': 0.9532765610443549, 'bagging_fraction': 0.5115963725190585, 'bagging_freq': 5, 'min_child_samples': 11}. Best is trial 200 with value: 1.0.\n",
      "[I 2024-08-24 08:50:58,144] Trial 1532 finished with value: 0.48549150362363647 and parameters: {'lambda_l1': 0.00015539023990529026, 'lambda_l2': 2.0666753295435422e-07, 'num_leaves': 21, 'feature_fraction': 0.9706613553039637, 'bagging_fraction': 0.5634854411550942, 'bagging_freq': 6, 'min_child_samples': 86}. Best is trial 200 with value: 1.0.\n",
      "[I 2024-08-24 08:50:59,394] Trial 1533 finished with value: 0.4783255668403824 and parameters: {'lambda_l1': 0.00011409548979405232, 'lambda_l2': 1.1455693534597864e-07, 'num_leaves': 2, 'feature_fraction': 0.9998590568835455, 'bagging_fraction': 0.4747052034121633, 'bagging_freq': 6, 'min_child_samples': 8}. Best is trial 200 with value: 1.0.\n",
      "[I 2024-08-24 08:51:00,483] Trial 1534 finished with value: 0.4860241476699858 and parameters: {'lambda_l1': 5.018051064426712e-05, 'lambda_l2': 5.9577837536280187e-08, 'num_leaves': 10, 'feature_fraction': 0.9826941133975144, 'bagging_fraction': 0.5349406865480713, 'bagging_freq': 6, 'min_child_samples': 17}. Best is trial 200 with value: 1.0.\n",
      "[I 2024-08-24 08:51:02,311] Trial 1535 finished with value: 0.465757557876079 and parameters: {'lambda_l1': 0.0002731821306355098, 'lambda_l2': 3.702565807456648e-08, 'num_leaves': 27, 'feature_fraction': 0.9890534231727366, 'bagging_fraction': 0.41051481157620573, 'bagging_freq': 6, 'min_child_samples': 13}. Best is trial 200 with value: 1.0.\n",
      "[I 2024-08-24 08:51:03,668] Trial 1536 finished with value: 0.49153776817789474 and parameters: {'lambda_l1': 7.312047803807818e-05, 'lambda_l2': 5.007658148398862e-07, 'num_leaves': 16, 'feature_fraction': 0.9629603405096052, 'bagging_fraction': 0.5456826748648632, 'bagging_freq': 6, 'min_child_samples': 15}. Best is trial 200 with value: 1.0.\n",
      "[I 2024-08-24 08:51:05,513] Trial 1537 finished with value: 0.4957525402322527 and parameters: {'lambda_l1': 4.5620730916227046e-05, 'lambda_l2': 3.0248570081617106e-07, 'num_leaves': 6, 'feature_fraction': 0.9787781869012417, 'bagging_fraction': 0.5189543618144582, 'bagging_freq': 6, 'min_child_samples': 38}. Best is trial 200 with value: 1.0.\n",
      "[I 2024-08-24 08:51:06,833] Trial 1538 finished with value: 0.4909562064048726 and parameters: {'lambda_l1': 0.00010361924098169694, 'lambda_l2': 1.5921421127732146e-07, 'num_leaves': 17, 'feature_fraction': 0.9374771238972524, 'bagging_fraction': 0.4467571087395867, 'bagging_freq': 7, 'min_child_samples': 18}. Best is trial 200 with value: 1.0.\n",
      "[I 2024-08-24 08:51:08,035] Trial 1539 finished with value: 0.48314314912044354 and parameters: {'lambda_l1': 2.4102857881763018e-05, 'lambda_l2': 1.5657283543653416e-08, 'num_leaves': 10, 'feature_fraction': 0.989348370534137, 'bagging_fraction': 0.5800738330376346, 'bagging_freq': 6, 'min_child_samples': 16}. Best is trial 200 with value: 1.0.\n",
      "[I 2024-08-24 08:51:09,773] Trial 1540 finished with value: 0.4825830546679193 and parameters: {'lambda_l1': 0.0001647806995869428, 'lambda_l2': 8.775625536508356e-08, 'num_leaves': 23, 'feature_fraction': 0.9999846428401896, 'bagging_fraction': 0.5006132230491147, 'bagging_freq': 6, 'min_child_samples': 25}. Best is trial 200 with value: 1.0.\n",
      "[I 2024-08-24 08:51:11,378] Trial 1541 finished with value: 0.4887414872941723 and parameters: {'lambda_l1': 7.094164702303716e-05, 'lambda_l2': 2.493142014498001e-08, 'num_leaves': 7, 'feature_fraction': 0.9719749566716108, 'bagging_fraction': 0.5545469119312506, 'bagging_freq': 6, 'min_child_samples': 75}. Best is trial 200 with value: 1.0.\n",
      "[I 2024-08-24 08:51:12,674] Trial 1542 finished with value: 0.48450986954549047 and parameters: {'lambda_l1': 3.244946849128296e-05, 'lambda_l2': 1.006514775282142e-08, 'num_leaves': 15, 'feature_fraction': 0.9895538851884775, 'bagging_fraction': 0.4855261655792399, 'bagging_freq': 6, 'min_child_samples': 21}. Best is trial 200 with value: 1.0.\n",
      "[I 2024-08-24 08:51:14,952] Trial 1543 finished with value: 0.48550380267736726 and parameters: {'lambda_l1': 1.2608251202137934, 'lambda_l2': 0.16982025471555245, 'num_leaves': 31, 'feature_fraction': 0.9790547782468663, 'bagging_fraction': 0.6289603788169892, 'bagging_freq': 6, 'min_child_samples': 12}. Best is trial 200 with value: 1.0.\n",
      "[I 2024-08-24 08:51:16,791] Trial 1544 finished with value: 0.5059212647153519 and parameters: {'lambda_l1': 0.00010479671815929513, 'lambda_l2': 5.0832878080789616e-08, 'num_leaves': 11, 'feature_fraction': 0.9595313812775697, 'bagging_fraction': 0.5362994241036255, 'bagging_freq': 6, 'min_child_samples': 14}. Best is trial 200 with value: 1.0.\n",
      "[I 2024-08-24 08:51:17,589] Trial 1545 finished with value: 0.4829627722822105 and parameters: {'lambda_l1': 5.195955572000587e-05, 'lambda_l2': 1.1793243577894782e-07, 'num_leaves': 2, 'feature_fraction': 0.8504484562568149, 'bagging_fraction': 0.5084632329156544, 'bagging_freq': 6, 'min_child_samples': 18}. Best is trial 200 with value: 1.0.\n",
      "[I 2024-08-24 08:51:19,708] Trial 1546 finished with value: 0.47351272087793383 and parameters: {'lambda_l1': 0.00019296526088674251, 'lambda_l2': 6.766930868272599e-08, 'num_leaves': 19, 'feature_fraction': 0.9710092958885514, 'bagging_fraction': 0.46554867295557784, 'bagging_freq': 6, 'min_child_samples': 16}. Best is trial 200 with value: 1.0.\n",
      "[I 2024-08-24 08:51:20,898] Trial 1547 finished with value: 0.49155169066349114 and parameters: {'lambda_l1': 7.625179453410715e-05, 'lambda_l2': 2.5602633325373146e-07, 'num_leaves': 7, 'feature_fraction': 0.9896945448460673, 'bagging_fraction': 0.5958411755843845, 'bagging_freq': 6, 'min_child_samples': 14}. Best is trial 200 with value: 1.0.\n",
      "[I 2024-08-24 08:51:23,102] Trial 1548 finished with value: 0.48907117385732635 and parameters: {'lambda_l1': 0.0006325843256808199, 'lambda_l2': 3.2637136122428395e-08, 'num_leaves': 25, 'feature_fraction': 0.9794425441709623, 'bagging_fraction': 0.5712532399708882, 'bagging_freq': 6, 'min_child_samples': 11}. Best is trial 200 with value: 1.0.\n",
      "[I 2024-08-24 08:51:24,448] Trial 1549 finished with value: 0.48920492685696826 and parameters: {'lambda_l1': 0.00013319613437394996, 'lambda_l2': 1.806568219503151e-07, 'num_leaves': 14, 'feature_fraction': 0.989010860958613, 'bagging_fraction': 0.5227938002703519, 'bagging_freq': 5, 'min_child_samples': 19}. Best is trial 200 with value: 1.0.\n",
      "[I 2024-08-24 08:51:25,309] Trial 1550 finished with value: 0.478973607292276 and parameters: {'lambda_l1': 3.90015596113063e-05, 'lambda_l2': 1.0148615175797241e-07, 'num_leaves': 2, 'feature_fraction': 0.9906299733168185, 'bagging_fraction': 0.5518656818083068, 'bagging_freq': 6, 'min_child_samples': 16}. Best is trial 200 with value: 1.0.\n",
      "[I 2024-08-24 08:51:26,489] Trial 1551 finished with value: 0.4919015871936123 and parameters: {'lambda_l1': 1.1306468625634425e-05, 'lambda_l2': 5.834588069129863e-08, 'num_leaves': 10, 'feature_fraction': 0.9661351230278968, 'bagging_fraction': 0.5346756144626226, 'bagging_freq': 6, 'min_child_samples': 13}. Best is trial 200 with value: 1.0.\n",
      "[I 2024-08-24 08:51:28,520] Trial 1552 finished with value: 0.48858430814436304 and parameters: {'lambda_l1': 0.0003284918387277968, 'lambda_l2': 3.922728996569007e-07, 'num_leaves': 20, 'feature_fraction': 0.9493784254012029, 'bagging_fraction': 0.49407828362831774, 'bagging_freq': 6, 'min_child_samples': 20}. Best is trial 200 with value: 1.0.\n",
      "[I 2024-08-24 08:51:29,696] Trial 1553 finished with value: 0.48712366884143876 and parameters: {'lambda_l1': 8.456709361393466e-05, 'lambda_l2': 1.4087504956791057e-07, 'num_leaves': 7, 'feature_fraction': 0.5120122455623785, 'bagging_fraction': 0.5650521926374638, 'bagging_freq': 6, 'min_child_samples': 17}. Best is trial 200 with value: 1.0.\n",
      "[I 2024-08-24 08:51:31,092] Trial 1554 finished with value: 0.4933897222174256 and parameters: {'lambda_l1': 5.802095813767364e-05, 'lambda_l2': 7.893217662862829e-08, 'num_leaves': 14, 'feature_fraction': 0.981547622572497, 'bagging_fraction': 0.5117734400190246, 'bagging_freq': 6, 'min_child_samples': 50}. Best is trial 200 with value: 1.0.\n",
      "[I 2024-08-24 08:51:32,873] Trial 1555 finished with value: 0.4734714968828039 and parameters: {'lambda_l1': 1.1480432734984874e-08, 'lambda_l2': 4.1834337381969244e-08, 'num_leaves': 18, 'feature_fraction': 0.9995941450890873, 'bagging_fraction': 0.4842464632279134, 'bagging_freq': 6, 'min_child_samples': 14}. Best is trial 200 with value: 1.0.\n",
      "[I 2024-08-24 08:51:34,861] Trial 1556 finished with value: 0.4817789441926116 and parameters: {'lambda_l1': 0.00012071734979331401, 'lambda_l2': 1.1540865528328198e-07, 'num_leaves': 28, 'feature_fraction': 0.9751721778635076, 'bagging_fraction': 0.7049832921089592, 'bagging_freq': 6, 'min_child_samples': 9}. Best is trial 200 with value: 1.0.\n",
      "[I 2024-08-24 08:51:35,845] Trial 1557 finished with value: 0.4926232577517796 and parameters: {'lambda_l1': 1.9629549519375744e-05, 'lambda_l2': 2.104771976785466e-07, 'num_leaves': 6, 'feature_fraction': 0.9882928864080887, 'bagging_fraction': 0.5461248373815292, 'bagging_freq': 6, 'min_child_samples': 12}. Best is trial 200 with value: 1.0.\n",
      "[I 2024-08-24 08:51:37,097] Trial 1558 finished with value: 0.47740716456944954 and parameters: {'lambda_l1': 0.0001900483152325951, 'lambda_l2': 6.401304670724026e-08, 'num_leaves': 13, 'feature_fraction': 0.9886954846242848, 'bagging_fraction': 0.524328086263578, 'bagging_freq': 6, 'min_child_samples': 15}. Best is trial 200 with value: 1.0.\n",
      "[I 2024-08-24 08:51:39,649] Trial 1559 finished with value: 0.4782916129873681 and parameters: {'lambda_l1': 3.746075186080666e-05, 'lambda_l2': 2.4711221753148172e-08, 'num_leaves': 23, 'feature_fraction': 0.9698104421142125, 'bagging_fraction': 0.5853384021594107, 'bagging_freq': 7, 'min_child_samples': 18}. Best is trial 200 with value: 1.0.\n",
      "[I 2024-08-24 08:51:40,544] Trial 1560 finished with value: 0.4788347668084517 and parameters: {'lambda_l1': 6.858676844516838e-05, 'lambda_l2': 4.487830847229262e-08, 'num_leaves': 2, 'feature_fraction': 0.9806852105783286, 'bagging_fraction': 0.49738952684255566, 'bagging_freq': 6, 'min_child_samples': 16}. Best is trial 200 with value: 1.0.\n",
      "[I 2024-08-24 08:51:41,658] Trial 1561 finished with value: 0.47826271669166653 and parameters: {'lambda_l1': 9.403895527629029e-05, 'lambda_l2': 2.9271492237105564e-07, 'num_leaves': 10, 'feature_fraction': 0.9897694653199057, 'bagging_fraction': 0.5149776692766694, 'bagging_freq': 6, 'min_child_samples': 5}. Best is trial 200 with value: 1.0.\n",
      "[I 2024-08-24 08:51:43,116] Trial 1562 finished with value: 0.4928902429291392 and parameters: {'lambda_l1': 5.0480861435385296e-05, 'lambda_l2': 9.248813387130414e-08, 'num_leaves': 17, 'feature_fraction': 0.9617413435114119, 'bagging_fraction': 0.5635979545118954, 'bagging_freq': 6, 'min_child_samples': 13}. Best is trial 200 with value: 1.0.\n",
      "[I 2024-08-24 08:51:46,299] Trial 1563 finished with value: 0.4595655077227565 and parameters: {'lambda_l1': 0.00025638247237479947, 'lambda_l2': 1.623626075472483e-07, 'num_leaves': 36, 'feature_fraction': 0.9999748449055567, 'bagging_fraction': 0.5378121882820144, 'bagging_freq': 6, 'min_child_samples': 19}. Best is trial 200 with value: 1.0.\n",
      "[I 2024-08-24 08:51:47,685] Trial 1564 finished with value: 0.4903068619580927 and parameters: {'lambda_l1': 0.00014873099142774518, 'lambda_l2': 5.742959180196217e-07, 'num_leaves': 6, 'feature_fraction': 0.9999800451497428, 'bagging_fraction': 0.47000341056455847, 'bagging_freq': 6, 'min_child_samples': 11}. Best is trial 200 with value: 1.0.\n",
      "[I 2024-08-24 08:51:48,963] Trial 1565 finished with value: 0.48561962126068114 and parameters: {'lambda_l1': 3.034162828721861e-05, 'lambda_l2': 7.28423580201221e-08, 'num_leaves': 13, 'feature_fraction': 0.9800765443812036, 'bagging_fraction': 0.5047851918094645, 'bagging_freq': 2, 'min_child_samples': 16}. Best is trial 200 with value: 1.0.\n",
      "[I 2024-08-24 08:51:51,196] Trial 1566 finished with value: 0.48828848126307045 and parameters: {'lambda_l1': 8.54453072959357e-05, 'lambda_l2': 1.4017896959280127e-07, 'num_leaves': 22, 'feature_fraction': 0.9715679929454374, 'bagging_fraction': 0.9985690896422237, 'bagging_freq': 6, 'min_child_samples': 23}. Best is trial 200 with value: 1.0.\n",
      "[I 2024-08-24 08:51:51,995] Trial 1567 finished with value: 0.478793622604029 and parameters: {'lambda_l1': 2.8633163121158596e-07, 'lambda_l2': 3.394194728529479e-08, 'num_leaves': 2, 'feature_fraction': 0.9999469936068017, 'bagging_fraction': 0.5279336181755009, 'bagging_freq': 1, 'min_child_samples': 14}. Best is trial 200 with value: 1.0.\n",
      "[I 2024-08-24 08:51:53,200] Trial 1568 finished with value: 0.48433311640196297 and parameters: {'lambda_l1': 0.00011653768200261055, 'lambda_l2': 2.165263720493728e-07, 'num_leaves': 9, 'feature_fraction': 0.9999133363438241, 'bagging_fraction': 0.5495342693372669, 'bagging_freq': 6, 'min_child_samples': 21}. Best is trial 200 with value: 1.0.\n",
      "[I 2024-08-24 08:51:54,611] Trial 1569 finished with value: 0.4831810750560491 and parameters: {'lambda_l1': 5.472103485623744e-05, 'lambda_l2': 1.743565173063228e-08, 'num_leaves': 17, 'feature_fraction': 0.9870012555031374, 'bagging_fraction': 0.5738035430450988, 'bagging_freq': 6, 'min_child_samples': 17}. Best is trial 200 with value: 1.0.\n",
      "[I 2024-08-24 08:51:56,923] Trial 1570 finished with value: 0.482598542626097 and parameters: {'lambda_l1': 7.229211814218751e-05, 'lambda_l2': 5.054582311956422e-08, 'num_leaves': 26, 'feature_fraction': 0.9524312423999255, 'bagging_fraction': 0.4922645664791011, 'bagging_freq': 6, 'min_child_samples': 15}. Best is trial 200 with value: 1.0.\n",
      "[I 2024-08-24 08:51:58,074] Trial 1571 finished with value: 0.4989016659254223 and parameters: {'lambda_l1': 0.00015539637190857254, 'lambda_l2': 9.919295424657841e-08, 'num_leaves': 10, 'feature_fraction': 0.9775620770232967, 'bagging_fraction': 0.5166671523442259, 'bagging_freq': 6, 'min_child_samples': 19}. Best is trial 200 with value: 1.0.\n",
      "[I 2024-08-24 08:51:59,112] Trial 1572 finished with value: 0.4948256459738333 and parameters: {'lambda_l1': 4.436244434403765e-05, 'lambda_l2': 3.463750750592543e-07, 'num_leaves': 7, 'feature_fraction': 0.989687239836786, 'bagging_fraction': 0.5391358909136554, 'bagging_freq': 6, 'min_child_samples': 12}. Best is trial 200 with value: 1.0.\n",
      "[I 2024-08-24 08:52:00,491] Trial 1573 finished with value: 0.49573479938238196 and parameters: {'lambda_l1': 2.5283753074411965e-05, 'lambda_l2': 6.946207623956303e-08, 'num_leaves': 14, 'feature_fraction': 0.9636436203340429, 'bagging_fraction': 0.5616340588247076, 'bagging_freq': 6, 'min_child_samples': 63}. Best is trial 200 with value: 1.0.\n",
      "[I 2024-08-24 08:52:02,780] Trial 1574 finished with value: 0.4680044215711433 and parameters: {'lambda_l1': 0.00010462644280861856, 'lambda_l2': 1.4059937830705357e-07, 'num_leaves': 31, 'feature_fraction': 0.9801669961274107, 'bagging_fraction': 0.4778638806375497, 'bagging_freq': 6, 'min_child_samples': 10}. Best is trial 200 with value: 1.0.\n",
      "[I 2024-08-24 08:52:04,433] Trial 1575 finished with value: 0.48242845977030335 and parameters: {'lambda_l1': 0.00020412884481047226, 'lambda_l2': 0.0008893644068137008, 'num_leaves': 21, 'feature_fraction': 0.9887007190919591, 'bagging_fraction': 0.5092324230137361, 'bagging_freq': 6, 'min_child_samples': 17}. Best is trial 200 with value: 1.0.\n",
      "[I 2024-08-24 08:52:05,261] Trial 1576 finished with value: 0.48247661473102943 and parameters: {'lambda_l1': 6.72652175968976e-05, 'lambda_l2': 2.8049316165067928e-08, 'num_leaves': 2, 'feature_fraction': 0.9747088229305039, 'bagging_fraction': 0.5876425382507354, 'bagging_freq': 5, 'min_child_samples': 14}. Best is trial 200 with value: 1.0.\n",
      "[I 2024-08-24 08:52:06,983] Trial 1577 finished with value: 0.48797817932427645 and parameters: {'lambda_l1': 4.31767971435408e-05, 'lambda_l2': 4.4735730429094534e-08, 'num_leaves': 13, 'feature_fraction': 0.9894885961253052, 'bagging_fraction': 0.5260657213532849, 'bagging_freq': 6, 'min_child_samples': 16}. Best is trial 200 with value: 1.0.\n",
      "[I 2024-08-24 08:52:08,186] Trial 1578 finished with value: 0.4933396884689515 and parameters: {'lambda_l1': 9.955599830682778e-05, 'lambda_l2': 2.345809762698952e-07, 'num_leaves': 7, 'feature_fraction': 0.9660181689678439, 'bagging_fraction': 0.5515592188035326, 'bagging_freq': 6, 'min_child_samples': 14}. Best is trial 200 with value: 1.0.\n",
      "[I 2024-08-24 08:52:09,683] Trial 1579 finished with value: 0.48193480571468117 and parameters: {'lambda_l1': 0.0004170208223901069, 'lambda_l2': 9.440279230440042e-08, 'num_leaves': 19, 'feature_fraction': 0.9995982412424953, 'bagging_fraction': 0.6126675146296086, 'bagging_freq': 6, 'min_child_samples': 18}. Best is trial 200 with value: 1.0.\n",
      "[I 2024-08-24 08:52:10,710] Trial 1580 finished with value: 0.4937922650013352 and parameters: {'lambda_l1': 1.6248341337067997e-05, 'lambda_l2': 6.470830566284003e-08, 'num_leaves': 7, 'feature_fraction': 0.9799614015223043, 'bagging_fraction': 0.5009267755376756, 'bagging_freq': 6, 'min_child_samples': 20}. Best is trial 200 with value: 1.0.\n",
      "[I 2024-08-24 08:52:12,562] Trial 1581 finished with value: 0.4858861529669517 and parameters: {'lambda_l1': 0.00015388677763443904, 'lambda_l2': 1.6620327046941536e-07, 'num_leaves': 15, 'feature_fraction': 0.9893994147174263, 'bagging_fraction': 0.5756848932816421, 'bagging_freq': 6, 'min_child_samples': 12}. Best is trial 200 with value: 1.0.\n",
      "[I 2024-08-24 08:52:15,433] Trial 1582 finished with value: 0.43420649304070347 and parameters: {'lambda_l1': 5.980032002548911e-05, 'lambda_l2': 4.223117534886692e-07, 'num_leaves': 71, 'feature_fraction': 0.9999002006594578, 'bagging_fraction': 0.4865883291053974, 'bagging_freq': 4, 'min_child_samples': 15}. Best is trial 200 with value: 1.0.\n",
      "[I 2024-08-24 08:52:16,981] Trial 1583 finished with value: 0.47366372819276203 and parameters: {'lambda_l1': 3.4069448664217685e-05, 'lambda_l2': 1.0548436886906972e-07, 'num_leaves': 24, 'feature_fraction': 0.7975090678445345, 'bagging_fraction': 0.5352278945137123, 'bagging_freq': 6, 'min_child_samples': 17}. Best is trial 200 with value: 1.0.\n"
     ]
    }
   ],
   "source": [
    "#Defino el estudio a optimizar\n",
    "study = optuna.create_study(direction='maximize', #buscamos maximizar la metrica\n",
    "                            storage=\"sqlite:///work/db.sqlite3\",  # Specify the storage URL here.\n",
    "                            study_name=\"04 - LGB Multiclass\", #nombre del experimento\n",
    "                            load_if_exists=True) #continuar si ya existe\n",
    "\n",
    "#Corremos 100 trials para buscar mejores parametros\n",
    "study.optimize(lgb_objective, n_trials=100)"
   ]
  },
  {
   "cell_type": "code",
   "execution_count": 33,
   "metadata": {},
   "outputs": [],
   "source": [
    "#corriendo esto en terminal deberia ver el dashboard \n",
    "#optuna-dashboard sqlite:///work/db.sqlite3 --artifact-dir /work/optuna_artifacts --port 8081"
   ]
  },
  {
   "cell_type": "code",
   "execution_count": 34,
   "metadata": {},
   "outputs": [
    {
     "data": {
      "text/plain": [
       "{'lambda_l1': 0.00016911420117746327,\n",
       " 'lambda_l2': 3.0291532676782044e-07,\n",
       " 'num_leaves': 23,\n",
       " 'feature_fraction': 0.9710839320963843,\n",
       " 'bagging_fraction': 0.6006057268679922,\n",
       " 'bagging_freq': 6,\n",
       " 'min_child_samples': 16}"
      ]
     },
     "execution_count": 34,
     "metadata": {},
     "output_type": "execute_result"
    }
   ],
   "source": [
    "#Obtenemos mejor resultado\n",
    "study.best_params"
   ]
  },
  {
   "cell_type": "code",
   "execution_count": 35,
   "metadata": {},
   "outputs": [
    {
     "data": {
      "application/vnd.plotly.v1+json": {
       "config": {
        "plotlyServerURL": "https://plot.ly"
       },
       "data": [
        {
         "type": "heatmap",
         "x": [
          0,
          1,
          2,
          3,
          4
         ],
         "y": [
          0,
          1,
          2,
          3,
          4
         ],
         "z": [
          [
           57.3170731707317,
           13.414634146341465,
           19.51219512195122,
           6.097560975609756,
           3.6585365853658534
          ],
          [
           1.132686084142395,
           50.80906148867314,
           22.168284789644012,
           9.870550161812297,
           16.019417475728158
          ],
          [
           0.9913258983890955,
           14.49814126394052,
           59.23172242874845,
           8.302354399008674,
           16.97645600991326
          ],
          [
           1.0736196319018405,
           13.650306748466257,
           25.920245398773005,
           41.56441717791411,
           17.791411042944784
          ],
          [
           0.7142857142857143,
           9.404761904761905,
           16.666666666666664,
           7.023809523809524,
           66.19047619047619
          ]
         ]
        }
       ],
       "layout": {
        "annotations": [
         {
          "font": {
           "color": "white"
          },
          "showarrow": false,
          "text": "57.3 - 47",
          "x": 0,
          "xref": "x",
          "y": 0,
          "yref": "y"
         },
         {
          "font": {
           "color": "white"
          },
          "showarrow": false,
          "text": "13.4 - 11",
          "x": 1,
          "xref": "x",
          "y": 0,
          "yref": "y"
         },
         {
          "font": {
           "color": "white"
          },
          "showarrow": false,
          "text": "19.5 - 16",
          "x": 2,
          "xref": "x",
          "y": 0,
          "yref": "y"
         },
         {
          "font": {
           "color": "white"
          },
          "showarrow": false,
          "text": "6.1 - 5",
          "x": 3,
          "xref": "x",
          "y": 0,
          "yref": "y"
         },
         {
          "font": {
           "color": "white"
          },
          "showarrow": false,
          "text": "3.7 - 3",
          "x": 4,
          "xref": "x",
          "y": 0,
          "yref": "y"
         },
         {
          "font": {
           "color": "white"
          },
          "showarrow": false,
          "text": "1.1 - 7",
          "x": 0,
          "xref": "x",
          "y": 1,
          "yref": "y"
         },
         {
          "font": {
           "color": "white"
          },
          "showarrow": false,
          "text": "50.8 - 314",
          "x": 1,
          "xref": "x",
          "y": 1,
          "yref": "y"
         },
         {
          "font": {
           "color": "white"
          },
          "showarrow": false,
          "text": "22.2 - 137",
          "x": 2,
          "xref": "x",
          "y": 1,
          "yref": "y"
         },
         {
          "font": {
           "color": "white"
          },
          "showarrow": false,
          "text": "9.9 - 61",
          "x": 3,
          "xref": "x",
          "y": 1,
          "yref": "y"
         },
         {
          "font": {
           "color": "white"
          },
          "showarrow": false,
          "text": "16.0 - 99",
          "x": 4,
          "xref": "x",
          "y": 1,
          "yref": "y"
         },
         {
          "font": {
           "color": "white"
          },
          "showarrow": false,
          "text": "1.0 - 8",
          "x": 0,
          "xref": "x",
          "y": 2,
          "yref": "y"
         },
         {
          "font": {
           "color": "white"
          },
          "showarrow": false,
          "text": "14.5 - 117",
          "x": 1,
          "xref": "x",
          "y": 2,
          "yref": "y"
         },
         {
          "font": {
           "color": "white"
          },
          "showarrow": false,
          "text": "59.2 - 478",
          "x": 2,
          "xref": "x",
          "y": 2,
          "yref": "y"
         },
         {
          "font": {
           "color": "white"
          },
          "showarrow": false,
          "text": "8.3 - 67",
          "x": 3,
          "xref": "x",
          "y": 2,
          "yref": "y"
         },
         {
          "font": {
           "color": "white"
          },
          "showarrow": false,
          "text": "17.0 - 137",
          "x": 4,
          "xref": "x",
          "y": 2,
          "yref": "y"
         },
         {
          "font": {
           "color": "white"
          },
          "showarrow": false,
          "text": "1.1 - 7",
          "x": 0,
          "xref": "x",
          "y": 3,
          "yref": "y"
         },
         {
          "font": {
           "color": "white"
          },
          "showarrow": false,
          "text": "13.7 - 89",
          "x": 1,
          "xref": "x",
          "y": 3,
          "yref": "y"
         },
         {
          "font": {
           "color": "white"
          },
          "showarrow": false,
          "text": "25.9 - 169",
          "x": 2,
          "xref": "x",
          "y": 3,
          "yref": "y"
         },
         {
          "font": {
           "color": "white"
          },
          "showarrow": false,
          "text": "41.6 - 271",
          "x": 3,
          "xref": "x",
          "y": 3,
          "yref": "y"
         },
         {
          "font": {
           "color": "white"
          },
          "showarrow": false,
          "text": "17.8 - 116",
          "x": 4,
          "xref": "x",
          "y": 3,
          "yref": "y"
         },
         {
          "font": {
           "color": "white"
          },
          "showarrow": false,
          "text": "0.7 - 6",
          "x": 0,
          "xref": "x",
          "y": 4,
          "yref": "y"
         },
         {
          "font": {
           "color": "white"
          },
          "showarrow": false,
          "text": "9.4 - 79",
          "x": 1,
          "xref": "x",
          "y": 4,
          "yref": "y"
         },
         {
          "font": {
           "color": "white"
          },
          "showarrow": false,
          "text": "16.7 - 140",
          "x": 2,
          "xref": "x",
          "y": 4,
          "yref": "y"
         },
         {
          "font": {
           "color": "white"
          },
          "showarrow": false,
          "text": "7.0 - 59",
          "x": 3,
          "xref": "x",
          "y": 4,
          "yref": "y"
         },
         {
          "font": {
           "color": "white"
          },
          "showarrow": false,
          "text": "66.2 - 556",
          "x": 4,
          "xref": "x",
          "y": 4,
          "yref": "y"
         }
        ],
        "height": 800,
        "template": {
         "data": {
          "bar": [
           {
            "error_x": {
             "color": "#2a3f5f"
            },
            "error_y": {
             "color": "#2a3f5f"
            },
            "marker": {
             "line": {
              "color": "#E5ECF6",
              "width": 0.5
             },
             "pattern": {
              "fillmode": "overlay",
              "size": 10,
              "solidity": 0.2
             }
            },
            "type": "bar"
           }
          ],
          "barpolar": [
           {
            "marker": {
             "line": {
              "color": "#E5ECF6",
              "width": 0.5
             },
             "pattern": {
              "fillmode": "overlay",
              "size": 10,
              "solidity": 0.2
             }
            },
            "type": "barpolar"
           }
          ],
          "carpet": [
           {
            "aaxis": {
             "endlinecolor": "#2a3f5f",
             "gridcolor": "white",
             "linecolor": "white",
             "minorgridcolor": "white",
             "startlinecolor": "#2a3f5f"
            },
            "baxis": {
             "endlinecolor": "#2a3f5f",
             "gridcolor": "white",
             "linecolor": "white",
             "minorgridcolor": "white",
             "startlinecolor": "#2a3f5f"
            },
            "type": "carpet"
           }
          ],
          "choropleth": [
           {
            "colorbar": {
             "outlinewidth": 0,
             "ticks": ""
            },
            "type": "choropleth"
           }
          ],
          "contour": [
           {
            "colorbar": {
             "outlinewidth": 0,
             "ticks": ""
            },
            "colorscale": [
             [
              0,
              "#0d0887"
             ],
             [
              0.1111111111111111,
              "#46039f"
             ],
             [
              0.2222222222222222,
              "#7201a8"
             ],
             [
              0.3333333333333333,
              "#9c179e"
             ],
             [
              0.4444444444444444,
              "#bd3786"
             ],
             [
              0.5555555555555556,
              "#d8576b"
             ],
             [
              0.6666666666666666,
              "#ed7953"
             ],
             [
              0.7777777777777778,
              "#fb9f3a"
             ],
             [
              0.8888888888888888,
              "#fdca26"
             ],
             [
              1,
              "#f0f921"
             ]
            ],
            "type": "contour"
           }
          ],
          "contourcarpet": [
           {
            "colorbar": {
             "outlinewidth": 0,
             "ticks": ""
            },
            "type": "contourcarpet"
           }
          ],
          "heatmap": [
           {
            "colorbar": {
             "outlinewidth": 0,
             "ticks": ""
            },
            "colorscale": [
             [
              0,
              "#0d0887"
             ],
             [
              0.1111111111111111,
              "#46039f"
             ],
             [
              0.2222222222222222,
              "#7201a8"
             ],
             [
              0.3333333333333333,
              "#9c179e"
             ],
             [
              0.4444444444444444,
              "#bd3786"
             ],
             [
              0.5555555555555556,
              "#d8576b"
             ],
             [
              0.6666666666666666,
              "#ed7953"
             ],
             [
              0.7777777777777778,
              "#fb9f3a"
             ],
             [
              0.8888888888888888,
              "#fdca26"
             ],
             [
              1,
              "#f0f921"
             ]
            ],
            "type": "heatmap"
           }
          ],
          "heatmapgl": [
           {
            "colorbar": {
             "outlinewidth": 0,
             "ticks": ""
            },
            "colorscale": [
             [
              0,
              "#0d0887"
             ],
             [
              0.1111111111111111,
              "#46039f"
             ],
             [
              0.2222222222222222,
              "#7201a8"
             ],
             [
              0.3333333333333333,
              "#9c179e"
             ],
             [
              0.4444444444444444,
              "#bd3786"
             ],
             [
              0.5555555555555556,
              "#d8576b"
             ],
             [
              0.6666666666666666,
              "#ed7953"
             ],
             [
              0.7777777777777778,
              "#fb9f3a"
             ],
             [
              0.8888888888888888,
              "#fdca26"
             ],
             [
              1,
              "#f0f921"
             ]
            ],
            "type": "heatmapgl"
           }
          ],
          "histogram": [
           {
            "marker": {
             "pattern": {
              "fillmode": "overlay",
              "size": 10,
              "solidity": 0.2
             }
            },
            "type": "histogram"
           }
          ],
          "histogram2d": [
           {
            "colorbar": {
             "outlinewidth": 0,
             "ticks": ""
            },
            "colorscale": [
             [
              0,
              "#0d0887"
             ],
             [
              0.1111111111111111,
              "#46039f"
             ],
             [
              0.2222222222222222,
              "#7201a8"
             ],
             [
              0.3333333333333333,
              "#9c179e"
             ],
             [
              0.4444444444444444,
              "#bd3786"
             ],
             [
              0.5555555555555556,
              "#d8576b"
             ],
             [
              0.6666666666666666,
              "#ed7953"
             ],
             [
              0.7777777777777778,
              "#fb9f3a"
             ],
             [
              0.8888888888888888,
              "#fdca26"
             ],
             [
              1,
              "#f0f921"
             ]
            ],
            "type": "histogram2d"
           }
          ],
          "histogram2dcontour": [
           {
            "colorbar": {
             "outlinewidth": 0,
             "ticks": ""
            },
            "colorscale": [
             [
              0,
              "#0d0887"
             ],
             [
              0.1111111111111111,
              "#46039f"
             ],
             [
              0.2222222222222222,
              "#7201a8"
             ],
             [
              0.3333333333333333,
              "#9c179e"
             ],
             [
              0.4444444444444444,
              "#bd3786"
             ],
             [
              0.5555555555555556,
              "#d8576b"
             ],
             [
              0.6666666666666666,
              "#ed7953"
             ],
             [
              0.7777777777777778,
              "#fb9f3a"
             ],
             [
              0.8888888888888888,
              "#fdca26"
             ],
             [
              1,
              "#f0f921"
             ]
            ],
            "type": "histogram2dcontour"
           }
          ],
          "mesh3d": [
           {
            "colorbar": {
             "outlinewidth": 0,
             "ticks": ""
            },
            "type": "mesh3d"
           }
          ],
          "parcoords": [
           {
            "line": {
             "colorbar": {
              "outlinewidth": 0,
              "ticks": ""
             }
            },
            "type": "parcoords"
           }
          ],
          "pie": [
           {
            "automargin": true,
            "type": "pie"
           }
          ],
          "scatter": [
           {
            "fillpattern": {
             "fillmode": "overlay",
             "size": 10,
             "solidity": 0.2
            },
            "type": "scatter"
           }
          ],
          "scatter3d": [
           {
            "line": {
             "colorbar": {
              "outlinewidth": 0,
              "ticks": ""
             }
            },
            "marker": {
             "colorbar": {
              "outlinewidth": 0,
              "ticks": ""
             }
            },
            "type": "scatter3d"
           }
          ],
          "scattercarpet": [
           {
            "marker": {
             "colorbar": {
              "outlinewidth": 0,
              "ticks": ""
             }
            },
            "type": "scattercarpet"
           }
          ],
          "scattergeo": [
           {
            "marker": {
             "colorbar": {
              "outlinewidth": 0,
              "ticks": ""
             }
            },
            "type": "scattergeo"
           }
          ],
          "scattergl": [
           {
            "marker": {
             "colorbar": {
              "outlinewidth": 0,
              "ticks": ""
             }
            },
            "type": "scattergl"
           }
          ],
          "scattermapbox": [
           {
            "marker": {
             "colorbar": {
              "outlinewidth": 0,
              "ticks": ""
             }
            },
            "type": "scattermapbox"
           }
          ],
          "scatterpolar": [
           {
            "marker": {
             "colorbar": {
              "outlinewidth": 0,
              "ticks": ""
             }
            },
            "type": "scatterpolar"
           }
          ],
          "scatterpolargl": [
           {
            "marker": {
             "colorbar": {
              "outlinewidth": 0,
              "ticks": ""
             }
            },
            "type": "scatterpolargl"
           }
          ],
          "scatterternary": [
           {
            "marker": {
             "colorbar": {
              "outlinewidth": 0,
              "ticks": ""
             }
            },
            "type": "scatterternary"
           }
          ],
          "surface": [
           {
            "colorbar": {
             "outlinewidth": 0,
             "ticks": ""
            },
            "colorscale": [
             [
              0,
              "#0d0887"
             ],
             [
              0.1111111111111111,
              "#46039f"
             ],
             [
              0.2222222222222222,
              "#7201a8"
             ],
             [
              0.3333333333333333,
              "#9c179e"
             ],
             [
              0.4444444444444444,
              "#bd3786"
             ],
             [
              0.5555555555555556,
              "#d8576b"
             ],
             [
              0.6666666666666666,
              "#ed7953"
             ],
             [
              0.7777777777777778,
              "#fb9f3a"
             ],
             [
              0.8888888888888888,
              "#fdca26"
             ],
             [
              1,
              "#f0f921"
             ]
            ],
            "type": "surface"
           }
          ],
          "table": [
           {
            "cells": {
             "fill": {
              "color": "#EBF0F8"
             },
             "line": {
              "color": "white"
             }
            },
            "header": {
             "fill": {
              "color": "#C8D4E3"
             },
             "line": {
              "color": "white"
             }
            },
            "type": "table"
           }
          ]
         },
         "layout": {
          "annotationdefaults": {
           "arrowcolor": "#2a3f5f",
           "arrowhead": 0,
           "arrowwidth": 1
          },
          "autotypenumbers": "strict",
          "coloraxis": {
           "colorbar": {
            "outlinewidth": 0,
            "ticks": ""
           }
          },
          "colorscale": {
           "diverging": [
            [
             0,
             "#8e0152"
            ],
            [
             0.1,
             "#c51b7d"
            ],
            [
             0.2,
             "#de77ae"
            ],
            [
             0.3,
             "#f1b6da"
            ],
            [
             0.4,
             "#fde0ef"
            ],
            [
             0.5,
             "#f7f7f7"
            ],
            [
             0.6,
             "#e6f5d0"
            ],
            [
             0.7,
             "#b8e186"
            ],
            [
             0.8,
             "#7fbc41"
            ],
            [
             0.9,
             "#4d9221"
            ],
            [
             1,
             "#276419"
            ]
           ],
           "sequential": [
            [
             0,
             "#0d0887"
            ],
            [
             0.1111111111111111,
             "#46039f"
            ],
            [
             0.2222222222222222,
             "#7201a8"
            ],
            [
             0.3333333333333333,
             "#9c179e"
            ],
            [
             0.4444444444444444,
             "#bd3786"
            ],
            [
             0.5555555555555556,
             "#d8576b"
            ],
            [
             0.6666666666666666,
             "#ed7953"
            ],
            [
             0.7777777777777778,
             "#fb9f3a"
            ],
            [
             0.8888888888888888,
             "#fdca26"
            ],
            [
             1,
             "#f0f921"
            ]
           ],
           "sequentialminus": [
            [
             0,
             "#0d0887"
            ],
            [
             0.1111111111111111,
             "#46039f"
            ],
            [
             0.2222222222222222,
             "#7201a8"
            ],
            [
             0.3333333333333333,
             "#9c179e"
            ],
            [
             0.4444444444444444,
             "#bd3786"
            ],
            [
             0.5555555555555556,
             "#d8576b"
            ],
            [
             0.6666666666666666,
             "#ed7953"
            ],
            [
             0.7777777777777778,
             "#fb9f3a"
            ],
            [
             0.8888888888888888,
             "#fdca26"
            ],
            [
             1,
             "#f0f921"
            ]
           ]
          },
          "colorway": [
           "#636efa",
           "#EF553B",
           "#00cc96",
           "#ab63fa",
           "#FFA15A",
           "#19d3f3",
           "#FF6692",
           "#B6E880",
           "#FF97FF",
           "#FECB52"
          ],
          "font": {
           "color": "#2a3f5f"
          },
          "geo": {
           "bgcolor": "white",
           "lakecolor": "white",
           "landcolor": "#E5ECF6",
           "showlakes": true,
           "showland": true,
           "subunitcolor": "white"
          },
          "hoverlabel": {
           "align": "left"
          },
          "hovermode": "closest",
          "mapbox": {
           "style": "light"
          },
          "paper_bgcolor": "white",
          "plot_bgcolor": "#E5ECF6",
          "polar": {
           "angularaxis": {
            "gridcolor": "white",
            "linecolor": "white",
            "ticks": ""
           },
           "bgcolor": "#E5ECF6",
           "radialaxis": {
            "gridcolor": "white",
            "linecolor": "white",
            "ticks": ""
           }
          },
          "scene": {
           "xaxis": {
            "backgroundcolor": "#E5ECF6",
            "gridcolor": "white",
            "gridwidth": 2,
            "linecolor": "white",
            "showbackground": true,
            "ticks": "",
            "zerolinecolor": "white"
           },
           "yaxis": {
            "backgroundcolor": "#E5ECF6",
            "gridcolor": "white",
            "gridwidth": 2,
            "linecolor": "white",
            "showbackground": true,
            "ticks": "",
            "zerolinecolor": "white"
           },
           "zaxis": {
            "backgroundcolor": "#E5ECF6",
            "gridcolor": "white",
            "gridwidth": 2,
            "linecolor": "white",
            "showbackground": true,
            "ticks": "",
            "zerolinecolor": "white"
           }
          },
          "shapedefaults": {
           "line": {
            "color": "#2a3f5f"
           }
          },
          "ternary": {
           "aaxis": {
            "gridcolor": "white",
            "linecolor": "white",
            "ticks": ""
           },
           "baxis": {
            "gridcolor": "white",
            "linecolor": "white",
            "ticks": ""
           },
           "bgcolor": "#E5ECF6",
           "caxis": {
            "gridcolor": "white",
            "linecolor": "white",
            "ticks": ""
           }
          },
          "title": {
           "x": 0.05
          },
          "xaxis": {
           "automargin": true,
           "gridcolor": "white",
           "linecolor": "white",
           "ticks": "",
           "title": {
            "standoff": 15
           },
           "zerolinecolor": "white",
           "zerolinewidth": 2
          },
          "yaxis": {
           "automargin": true,
           "gridcolor": "white",
           "linecolor": "white",
           "ticks": "",
           "title": {
            "standoff": 15
           },
           "zerolinecolor": "white",
           "zerolinewidth": 2
          }
         }
        },
        "title": {
         "text": "Conf Matrix"
        },
        "width": 800,
        "xaxis": {
         "title": {
          "text": "Predicted value"
         }
        },
        "yaxis": {
         "title": {
          "text": "Real value"
         }
        }
       }
      }
     },
     "metadata": {},
     "output_type": "display_data"
    },
    {
     "data": {
      "text/plain": [
       "0.48313067679337285"
      ]
     },
     "execution_count": 35,
     "metadata": {},
     "output_type": "execute_result"
    }
   ],
   "source": [
    "#Vamos a replicar el resultado de la optimizacion reentrenando el modelo con el mejor conjunto de hiperparametros\n",
    "#Generamos parametros incluyendo los fijos y la mejor solución que encontro optuna\n",
    "lgb_params = {\n",
    "    'objective': 'multiclass',\n",
    "    'verbosity': -1,\n",
    "    'num_class': len(y_train.unique())\n",
    "}\n",
    "\n",
    "# Update lgb_params with study.best_params\n",
    "lgb_params.update(study.best_params)\n",
    "\n",
    "lgb_train_dataset = lgb.Dataset(data=X_train,\n",
    "                                label=y_train)\n",
    "\n",
    "\n",
    "#Entreno\n",
    "lgb_model = lgb.train(lgb_params,\n",
    "                    lgb_train_dataset)\n",
    "\n",
    "#Muestro matriz de confusion y kappa\n",
    "display(plot_confusion_matrix(y_test,lgb_model.predict(X_test).argmax(axis=1)))\n",
    "\n",
    "cohen_kappa_score(y_test,lgb_model.predict(X_test).argmax(axis=1),\n",
    "                             weights = 'quadratic')\n"
   ]
  },
  {
   "cell_type": "code",
   "execution_count": 36,
   "metadata": {},
   "outputs": [],
   "source": [
    "#A PARTIR DE OPTUNA (OPTIMIZACION BAYESIANA) ES LO MEJOR TENGO ENTENDIDO, ECONTRE LOS MEJORES VALORES HIPERPARMTROS\n",
    "#Y ESO MEJORO KAPPA "
   ]
  },
  {
   "cell_type": "code",
   "execution_count": 43,
   "metadata": {},
   "outputs": [],
   "source": [
    "import pandas as pd\n",
    "import matplotlib.pyplot as plt\n",
    "import seaborn as sns\n",
    "\n",
    "# Configurar visualizaciones\n",
    "sns.set(style=\"whitegrid\")"
   ]
  },
  {
   "cell_type": "code",
   "execution_count": 44,
   "metadata": {},
   "outputs": [
    {
     "data": {
      "image/png": "[encoded data removed]",
      "text/plain": [
       "<Figure size 720x576 with 1 Axes>"
      ]
     },
     "metadata": {},
     "output_type": "display_data"
    }
   ],
   "source": [
    "# Obtener la importancia de las características\n",
    "importance = lgb_model.feature_importance(importance_type='gain')\n",
    "feature_names = X_train.columns\n",
    "\n",
    "# Crear un DataFrame para mostrar las importancias\n",
    "feature_importance_df = pd.DataFrame({'feature': feature_names, 'importance': importance})\n",
    "\n",
    "# Ordenar el DataFrame por importancia\n",
    "feature_importance_df = feature_importance_df.sort_values(by='importance', ascending=False)\n",
    "\n",
    "# Visualizar las importancias\n",
    "plt.figure(figsize=(10, 8))\n",
    "sns.barplot(x='importance', y='feature', data=feature_importance_df)\n",
    "plt.title('Importancia de las Características')\n",
    "plt.show()"
   ]
  },
  {
   "cell_type": "markdown",
   "metadata": {},
   "source": [
    "## Modelo con cross validation y conjunto de test"
   ]
  },
  {
   "cell_type": "code",
   "execution_count": 37,
   "metadata": {},
   "outputs": [],
   "source": [
    "#Genero una metrica para que lightGBM haga la evaluación y pueda hacer early_stopping en el cross validation\n",
    "def lgb_custom_metric_kappa(dy_pred, dy_true):\n",
    "    metric_name = 'kappa'\n",
    "    value = cohen_kappa_score(dy_true.get_label(),dy_pred.argmax(axis=1),weights = 'quadratic')\n",
    "    is_higher_better = True\n",
    "    return(metric_name, value, is_higher_better)\n",
    "\n",
    "#Funcion objetivo a optimizar. En este caso vamos a hacer 5fold cv sobre el conjunto de train. \n",
    "# El score de CV es el objetivo a optimizar. Ademas vamos a usar los 5 modelos del CV para estimar el conjunto de test,\n",
    "# registraremos en optuna las predicciones, matriz de confusion y el score en test.\n",
    "# CV Score -> Se usa para determinar el rendimiento de los hiperparametros con precision \n",
    "# Test Score -> Nos permite testear que esta todo OK, no use (ni debo usar) esos datos para nada en el entrenamiento \n",
    "# o la optimizacion de hiperparametros\n",
    "\n",
    "def cv_es_lgb_objective(trial):\n",
    "\n",
    "    #PArametros para LightGBM\n",
    "    lgb_params = {      \n",
    "                        #PArametros fijos\n",
    "                        'objective': 'multiclass',\n",
    "                        'verbosity':-1,\n",
    "                        'num_class': len(y_train.unique()),\n",
    "                        #Hiperparametros a optimizar utilizando suggest_float o suggest_int segun el tipo de dato\n",
    "                        #Se indica el nombre del parametro, valor minimo, valor maximo \n",
    "                        #en elgunos casos el parametro log=True para parametros que requieren buscar en esa escala\n",
    "                        'lambda_l1': trial.suggest_float('lambda_l1', 1e-8, 10.0, log=True),\n",
    "                        'lambda_l2': trial.suggest_float('lambda_l2', 1e-8, 10.0, log=True),\n",
    "                        'num_leaves': trial.suggest_int('num_leaves', 2, 256),\n",
    "                        'feature_fraction': trial.suggest_float('feature_fraction', 0.4, 1.0),\n",
    "                        'bagging_fraction': trial.suggest_float('bagging_fraction', 0.4, 1.0),\n",
    "                        'bagging_freq': trial.suggest_int('bagging_freq', 1, 7),\n",
    "                        'min_child_samples': trial.suggest_int('min_child_samples', 5, 100),\n",
    "                        } \n",
    "\n",
    "    #Voy a generar estimaciones de los 5 modelos del CV sobre los datos test y los acumulo en la matriz scores_ensemble\n",
    "    scores_ensemble = np.zeros((len(y_test),len(y_train.unique())))\n",
    "\n",
    "    #Score del 5 fold CV inicializado en 0\n",
    "    score_folds = 0\n",
    "\n",
    "    #Numero de splits del CV\n",
    "    n_splits = 5\n",
    "\n",
    "    #Objeto para hacer el split estratificado de CV\n",
    "    skf = StratifiedKFold(n_splits=n_splits)\n",
    "\n",
    "    for i, (if_index, oof_index) in enumerate(skf.split(X_train, y_train)):\n",
    "        \n",
    "        #Dataset in fold (donde entreno) \n",
    "        lgb_if_dataset = lgb.Dataset(data=X_train.iloc[if_index],\n",
    "                                        label=y_train.iloc[if_index],\n",
    "                                        free_raw_data=False)\n",
    "        \n",
    "        #Dataset Out of fold (donde mido la performance del CV)\n",
    "        lgb_oof_dataset = lgb.Dataset(data=X_train.iloc[oof_index],\n",
    "                                        label=y_train.iloc[oof_index],\n",
    "                                        free_raw_data=False)\n",
    "\n",
    "        #Entreno el modelo\n",
    "        lgb_model = lgb.train(lgb_params,\n",
    "                                lgb_if_dataset,\n",
    "                                valid_sets=lgb_oof_dataset,\n",
    "                                callbacks=[lgb.early_stopping(10, verbose=False)],\n",
    "                                feval = lgb_custom_metric_kappa\n",
    "                                )\n",
    "        \n",
    "        #Acumulo los scores (probabilidades) de cada clase para cada uno de los modelos que determino en los folds\n",
    "        #Se predice el 20% de los datos que separe para tes y no uso para entrenar en ningun fold\n",
    "        scores_ensemble = scores_ensemble + lgb_model.predict(X_test)\n",
    "        \n",
    "        #Score del fold (registros de dataset train que en este fold quedan out of fold)\n",
    "        score_folds = score_folds + cohen_kappa_score(y_train.iloc[oof_index], \n",
    "                                                            lgb_model.predict(X_train.iloc[oof_index]).argmax(axis=1),weights = 'quadratic')/n_splits\n",
    "\n",
    "\n",
    "    #Guardo prediccion del trial sobre el conjunto de test\n",
    "    # Genero nombre de archivo\n",
    "    predicted_filename = os.path.join(PATH_TO_TEMP_FILES,f'test_{trial.study.study_name}_{trial.number}.joblib')\n",
    "    # Copia del dataset para guardar la prediccion\n",
    "    predicted_df = test.copy()\n",
    "    # Genero columna pred con predicciones sumadas de los 5 folds\n",
    "    predicted_df['pred'] = [scores_ensemble[p,:] for p in range(scores_ensemble.shape[0])]\n",
    "    # Grabo dataframe en temp_artifacts\n",
    "    dump(predicted_df, predicted_filename)\n",
    "    # Indico a optuna que asocie el archivo generado al trial\n",
    "    upload_artifact(trial, predicted_filename, artifact_store)    \n",
    "\n",
    "    #Grabo natriz de confusion\n",
    "    #Nombre de archivo\n",
    "    cm_filename = os.path.join(PATH_TO_TEMP_FILES,f'cm_{trial.study.study_name}_{trial.number}.jpg')\n",
    "    #Grabo archivo\n",
    "    plot_confusion_matrix(y_test,scores_ensemble.argmax(axis=1)).write_image(cm_filename)\n",
    "    #Asocio al trial\n",
    "    upload_artifact(trial, cm_filename, artifact_store)\n",
    "\n",
    "    #Determino score en conjunto de test y asocio como metrica adicional en optuna\n",
    "    test_score = cohen_kappa_score(y_test,scores_ensemble.argmax(axis=1),weights = 'quadratic')\n",
    "    trial.set_user_attr(\"test_score\", test_score)\n",
    "\n",
    "    #Devuelvo score del 5fold cv a optuna para que optimice en base a eso\n",
    "    return(score_folds)"
   ]
  },
  {
   "cell_type": "code",
   "execution_count": 38,
   "metadata": {},
   "outputs": [
    {
     "name": "stderr",
     "output_type": "stream",
     "text": [
      "<ipython-input-38-3ba8469af45f>:2: ExperimentalWarning:\n",
      "\n",
      "FileSystemArtifactStore is experimental (supported from v3.3.0). The interface can change in the future.\n",
      "\n",
      "[I 2024-08-24 08:52:19,174] Using an existing study with name '04 - LGB Multiclass CV' instead of creating a new one.\n",
      "<ipython-input-37-1c6539846d38>:86: ExperimentalWarning:\n",
      "\n",
      "upload_artifact is experimental (supported from v3.3.0). The interface can change in the future.\n",
      "\n",
      "<ipython-input-37-1c6539846d38>:94: ExperimentalWarning:\n",
      "\n",
      "upload_artifact is experimental (supported from v3.3.0). The interface can change in the future.\n",
      "\n",
      "[I 2024-08-24 08:52:33,306] Trial 571 finished with value: 0.5218002241872144 and parameters: {'lambda_l1': 5.098732379860573, 'lambda_l2': 9.95987616606563, 'num_leaves': 22, 'feature_fraction': 0.5950486950257636, 'bagging_fraction': 0.416649811220159, 'bagging_freq': 1, 'min_child_samples': 33}. Best is trial 45 with value: 1.0.\n",
      "<ipython-input-37-1c6539846d38>:86: ExperimentalWarning:\n",
      "\n",
      "upload_artifact is experimental (supported from v3.3.0). The interface can change in the future.\n",
      "\n",
      "<ipython-input-37-1c6539846d38>:94: ExperimentalWarning:\n",
      "\n",
      "upload_artifact is experimental (supported from v3.3.0). The interface can change in the future.\n",
      "\n",
      "[I 2024-08-24 08:52:45,864] Trial 572 finished with value: 0.5247077909088337 and parameters: {'lambda_l1': 0.10805263421151613, 'lambda_l2': 3.3804205737322333, 'num_leaves': 17, 'feature_fraction': 0.5357481948094492, 'bagging_fraction': 0.4433914802944792, 'bagging_freq': 2, 'min_child_samples': 25}. Best is trial 45 with value: 1.0.\n",
      "<ipython-input-37-1c6539846d38>:86: ExperimentalWarning:\n",
      "\n",
      "upload_artifact is experimental (supported from v3.3.0). The interface can change in the future.\n",
      "\n",
      "<ipython-input-37-1c6539846d38>:94: ExperimentalWarning:\n",
      "\n",
      "upload_artifact is experimental (supported from v3.3.0). The interface can change in the future.\n",
      "\n",
      "[I 2024-08-24 08:52:55,793] Trial 573 finished with value: 0.5186496169396134 and parameters: {'lambda_l1': 2.3068418023507418, 'lambda_l2': 0.1687230328302338, 'num_leaves': 25, 'feature_fraction': 0.5194833787680619, 'bagging_fraction': 0.4857152150291464, 'bagging_freq': 1, 'min_child_samples': 21}. Best is trial 45 with value: 1.0.\n",
      "<ipython-input-37-1c6539846d38>:86: ExperimentalWarning:\n",
      "\n",
      "upload_artifact is experimental (supported from v3.3.0). The interface can change in the future.\n",
      "\n",
      "<ipython-input-37-1c6539846d38>:94: ExperimentalWarning:\n",
      "\n",
      "upload_artifact is experimental (supported from v3.3.0). The interface can change in the future.\n",
      "\n",
      "[I 2024-08-24 08:53:02,799] Trial 574 finished with value: 0.5258360619117743 and parameters: {'lambda_l1': 1.1118711735751319, 'lambda_l2': 2.308879569014877, 'num_leaves': 11, 'feature_fraction': 0.5703442312281984, 'bagging_fraction': 0.4591647992558526, 'bagging_freq': 2, 'min_child_samples': 28}. Best is trial 45 with value: 1.0.\n",
      "<ipython-input-37-1c6539846d38>:86: ExperimentalWarning:\n",
      "\n",
      "upload_artifact is experimental (supported from v3.3.0). The interface can change in the future.\n",
      "\n",
      "<ipython-input-37-1c6539846d38>:94: ExperimentalWarning:\n",
      "\n",
      "upload_artifact is experimental (supported from v3.3.0). The interface can change in the future.\n",
      "\n",
      "[I 2024-08-24 08:53:10,192] Trial 575 finished with value: 0.5122484360317736 and parameters: {'lambda_l1': 9.56384174815249, 'lambda_l2': 6.252312933510768, 'num_leaves': 30, 'feature_fraction': 0.4478685096248846, 'bagging_fraction': 0.5063538903062459, 'bagging_freq': 6, 'min_child_samples': 12}. Best is trial 45 with value: 1.0.\n",
      "<ipython-input-37-1c6539846d38>:86: ExperimentalWarning:\n",
      "\n",
      "upload_artifact is experimental (supported from v3.3.0). The interface can change in the future.\n",
      "\n",
      "<ipython-input-37-1c6539846d38>:94: ExperimentalWarning:\n",
      "\n",
      "upload_artifact is experimental (supported from v3.3.0). The interface can change in the future.\n",
      "\n",
      "[I 2024-08-24 08:53:19,106] Trial 576 finished with value: 0.5233159538508169 and parameters: {'lambda_l1': 0.35370260657135333, 'lambda_l2': 1.4277672924183473, 'num_leaves': 44, 'feature_fraction': 0.5522840659022301, 'bagging_fraction': 0.5243622807977144, 'bagging_freq': 1, 'min_child_samples': 57}. Best is trial 45 with value: 1.0.\n",
      "<ipython-input-37-1c6539846d38>:86: ExperimentalWarning:\n",
      "\n",
      "upload_artifact is experimental (supported from v3.3.0). The interface can change in the future.\n",
      "\n",
      "<ipython-input-37-1c6539846d38>:94: ExperimentalWarning:\n",
      "\n",
      "upload_artifact is experimental (supported from v3.3.0). The interface can change in the future.\n",
      "\n",
      "[I 2024-08-24 08:53:27,008] Trial 577 finished with value: 0.5243203681723894 and parameters: {'lambda_l1': 0.04817509942201891, 'lambda_l2': 0.00028821622004291026, 'num_leaves': 19, 'feature_fraction': 0.47437394679894634, 'bagging_fraction': 0.4951553223502684, 'bagging_freq': 1, 'min_child_samples': 17}. Best is trial 45 with value: 1.0.\n",
      "<ipython-input-37-1c6539846d38>:86: ExperimentalWarning:\n",
      "\n",
      "upload_artifact is experimental (supported from v3.3.0). The interface can change in the future.\n",
      "\n",
      "<ipython-input-37-1c6539846d38>:94: ExperimentalWarning:\n",
      "\n",
      "upload_artifact is experimental (supported from v3.3.0). The interface can change in the future.\n",
      "\n",
      "[I 2024-08-24 08:53:36,128] Trial 578 finished with value: 0.5187267789570964 and parameters: {'lambda_l1': 0.5353344322742888, 'lambda_l2': 0.3225263946958888, 'num_leaves': 38, 'feature_fraction': 0.4957099271416696, 'bagging_fraction': 0.4734661457411522, 'bagging_freq': 4, 'min_child_samples': 36}. Best is trial 45 with value: 1.0.\n",
      "<ipython-input-37-1c6539846d38>:86: ExperimentalWarning:\n",
      "\n",
      "upload_artifact is experimental (supported from v3.3.0). The interface can change in the future.\n",
      "\n",
      "<ipython-input-37-1c6539846d38>:94: ExperimentalWarning:\n",
      "\n",
      "upload_artifact is experimental (supported from v3.3.0). The interface can change in the future.\n",
      "\n",
      "[I 2024-08-24 08:53:44,068] Trial 579 finished with value: 0.5218643028183053 and parameters: {'lambda_l1': 0.22425696584533988, 'lambda_l2': 5.329154505391736, 'num_leaves': 24, 'feature_fraction': 0.52448127768555, 'bagging_fraction': 0.5746674274929593, 'bagging_freq': 2, 'min_child_samples': 24}. Best is trial 45 with value: 1.0.\n",
      "<ipython-input-37-1c6539846d38>:86: ExperimentalWarning:\n",
      "\n",
      "upload_artifact is experimental (supported from v3.3.0). The interface can change in the future.\n",
      "\n",
      "<ipython-input-37-1c6539846d38>:94: ExperimentalWarning:\n",
      "\n",
      "upload_artifact is experimental (supported from v3.3.0). The interface can change in the future.\n",
      "\n",
      "[I 2024-08-24 08:53:49,761] Trial 580 finished with value: 0.5087898351370466 and parameters: {'lambda_l1': 0.13277118952147962, 'lambda_l2': 3.3784121630265433, 'num_leaves': 2, 'feature_fraction': 0.6043591578310736, 'bagging_fraction': 0.43362473926020434, 'bagging_freq': 1, 'min_child_samples': 31}. Best is trial 45 with value: 1.0.\n",
      "<ipython-input-37-1c6539846d38>:86: ExperimentalWarning:\n",
      "\n",
      "upload_artifact is experimental (supported from v3.3.0). The interface can change in the future.\n",
      "\n",
      "<ipython-input-37-1c6539846d38>:94: ExperimentalWarning:\n",
      "\n",
      "upload_artifact is experimental (supported from v3.3.0). The interface can change in the future.\n",
      "\n",
      "[I 2024-08-24 08:53:59,327] Trial 581 finished with value: 0.5238269443457116 and parameters: {'lambda_l1': 0.6843770503144442, 'lambda_l2': 7.023199430853236, 'num_leaves': 16, 'feature_fraction': 0.4223055786151494, 'bagging_fraction': 0.5406473090776033, 'bagging_freq': 3, 'min_child_samples': 8}. Best is trial 45 with value: 1.0.\n",
      "<ipython-input-37-1c6539846d38>:86: ExperimentalWarning:\n",
      "\n",
      "upload_artifact is experimental (supported from v3.3.0). The interface can change in the future.\n",
      "\n",
      "<ipython-input-37-1c6539846d38>:94: ExperimentalWarning:\n",
      "\n",
      "upload_artifact is experimental (supported from v3.3.0). The interface can change in the future.\n",
      "\n",
      "[I 2024-08-24 08:54:06,713] Trial 582 finished with value: 0.5202129203339706 and parameters: {'lambda_l1': 1.6041290889517577, 'lambda_l2': 0.6406518811405532, 'num_leaves': 33, 'feature_fraction': 0.5086857303955781, 'bagging_fraction': 0.45336220519280596, 'bagging_freq': 1, 'min_child_samples': 53}. Best is trial 45 with value: 1.0.\n",
      "<ipython-input-37-1c6539846d38>:86: ExperimentalWarning:\n",
      "\n",
      "upload_artifact is experimental (supported from v3.3.0). The interface can change in the future.\n",
      "\n",
      "<ipython-input-37-1c6539846d38>:94: ExperimentalWarning:\n",
      "\n",
      "upload_artifact is experimental (supported from v3.3.0). The interface can change in the future.\n",
      "\n",
      "[I 2024-08-24 08:54:12,566] Trial 583 finished with value: 0.5188457185591172 and parameters: {'lambda_l1': 0.36711581026292545, 'lambda_l2': 1.978355507295566, 'num_leaves': 10, 'feature_fraction': 0.4648607100649325, 'bagging_fraction': 0.4663805388703189, 'bagging_freq': 7, 'min_child_samples': 14}. Best is trial 45 with value: 1.0.\n",
      "<ipython-input-37-1c6539846d38>:86: ExperimentalWarning:\n",
      "\n",
      "upload_artifact is experimental (supported from v3.3.0). The interface can change in the future.\n",
      "\n",
      "<ipython-input-37-1c6539846d38>:94: ExperimentalWarning:\n",
      "\n",
      "upload_artifact is experimental (supported from v3.3.0). The interface can change in the future.\n",
      "\n",
      "[I 2024-08-24 08:54:19,532] Trial 584 finished with value: 0.5208932588566858 and parameters: {'lambda_l1': 0.06884889704847656, 'lambda_l2': 0.9276300172377402, 'num_leaves': 26, 'feature_fraction': 0.5616306907774619, 'bagging_fraction': 0.4830593606224578, 'bagging_freq': 2, 'min_child_samples': 22}. Best is trial 45 with value: 1.0.\n",
      "<ipython-input-37-1c6539846d38>:86: ExperimentalWarning:\n",
      "\n",
      "upload_artifact is experimental (supported from v3.3.0). The interface can change in the future.\n",
      "\n",
      "<ipython-input-37-1c6539846d38>:94: ExperimentalWarning:\n",
      "\n",
      "upload_artifact is experimental (supported from v3.3.0). The interface can change in the future.\n",
      "\n",
      "[I 2024-08-24 08:54:31,371] Trial 585 finished with value: 0.514208122642307 and parameters: {'lambda_l1': 0.003242672818708743, 'lambda_l2': 4.168132581400963, 'num_leaves': 237, 'feature_fraction': 0.5846353044422772, 'bagging_fraction': 0.4397730491959718, 'bagging_freq': 2, 'min_child_samples': 18}. Best is trial 45 with value: 1.0.\n",
      "<ipython-input-37-1c6539846d38>:86: ExperimentalWarning:\n",
      "\n",
      "upload_artifact is experimental (supported from v3.3.0). The interface can change in the future.\n",
      "\n",
      "<ipython-input-37-1c6539846d38>:94: ExperimentalWarning:\n",
      "\n",
      "upload_artifact is experimental (supported from v3.3.0). The interface can change in the future.\n",
      "\n",
      "[I 2024-08-24 08:54:42,607] Trial 586 finished with value: 0.5230110135764842 and parameters: {'lambda_l1': 3.457434342697644, 'lambda_l2': 6.392515334694509, 'num_leaves': 20, 'feature_fraction': 0.40122598163190887, 'bagging_fraction': 0.5062269566521597, 'bagging_freq': 1, 'min_child_samples': 34}. Best is trial 45 with value: 1.0.\n",
      "<ipython-input-37-1c6539846d38>:86: ExperimentalWarning:\n",
      "\n",
      "upload_artifact is experimental (supported from v3.3.0). The interface can change in the future.\n",
      "\n",
      "<ipython-input-37-1c6539846d38>:94: ExperimentalWarning:\n",
      "\n",
      "upload_artifact is experimental (supported from v3.3.0). The interface can change in the future.\n",
      "\n",
      "[I 2024-08-24 08:54:52,342] Trial 587 finished with value: 0.5215280580213278 and parameters: {'lambda_l1': 0.23313459339056608, 'lambda_l2': 9.968164368959084, 'num_leaves': 14, 'feature_fraction': 0.48415737578276535, 'bagging_fraction': 0.4235427725330893, 'bagging_freq': 1, 'min_child_samples': 27}. Best is trial 45 with value: 1.0.\n",
      "<ipython-input-37-1c6539846d38>:86: ExperimentalWarning:\n",
      "\n",
      "upload_artifact is experimental (supported from v3.3.0). The interface can change in the future.\n",
      "\n",
      "<ipython-input-37-1c6539846d38>:94: ExperimentalWarning:\n",
      "\n",
      "upload_artifact is experimental (supported from v3.3.0). The interface can change in the future.\n",
      "\n",
      "[I 2024-08-24 08:54:59,184] Trial 588 finished with value: 0.5237598592754092 and parameters: {'lambda_l1': 0.9314315389336972, 'lambda_l2': 2.6706859344529055, 'num_leaves': 29, 'feature_fraction': 0.8382578457573002, 'bagging_fraction': 0.5278711881947412, 'bagging_freq': 2, 'min_child_samples': 20}. Best is trial 45 with value: 1.0.\n",
      "<ipython-input-37-1c6539846d38>:86: ExperimentalWarning:\n",
      "\n",
      "upload_artifact is experimental (supported from v3.3.0). The interface can change in the future.\n",
      "\n",
      "<ipython-input-37-1c6539846d38>:94: ExperimentalWarning:\n",
      "\n",
      "upload_artifact is experimental (supported from v3.3.0). The interface can change in the future.\n",
      "\n",
      "[I 2024-08-24 08:55:06,031] Trial 589 finished with value: 0.5250201568280018 and parameters: {'lambda_l1': 0.15731495041301538, 'lambda_l2': 1.5308256408214829, 'num_leaves': 22, 'feature_fraction': 0.6557624906774793, 'bagging_fraction': 0.49349435073955356, 'bagging_freq': 1, 'min_child_samples': 10}. Best is trial 45 with value: 1.0.\n",
      "<ipython-input-37-1c6539846d38>:86: ExperimentalWarning:\n",
      "\n",
      "upload_artifact is experimental (supported from v3.3.0). The interface can change in the future.\n",
      "\n",
      "<ipython-input-37-1c6539846d38>:94: ExperimentalWarning:\n",
      "\n",
      "upload_artifact is experimental (supported from v3.3.0). The interface can change in the future.\n",
      "\n",
      "[I 2024-08-24 08:55:13,074] Trial 590 finished with value: 0.5197865022021987 and parameters: {'lambda_l1': 5.78075982945425, 'lambda_l2': 4.392537598840768, 'num_leaves': 35, 'feature_fraction': 0.674199516451813, 'bagging_fraction': 0.5600150911019801, 'bagging_freq': 1, 'min_child_samples': 23}. Best is trial 45 with value: 1.0.\n",
      "<ipython-input-37-1c6539846d38>:86: ExperimentalWarning:\n",
      "\n",
      "upload_artifact is experimental (supported from v3.3.0). The interface can change in the future.\n",
      "\n",
      "<ipython-input-37-1c6539846d38>:94: ExperimentalWarning:\n",
      "\n",
      "upload_artifact is experimental (supported from v3.3.0). The interface can change in the future.\n",
      "\n",
      "[I 2024-08-24 08:55:19,687] Trial 591 finished with value: 0.5204692574132863 and parameters: {'lambda_l1': 0.4760161381596719, 'lambda_l2': 2.834071249593993e-05, 'num_leaves': 7, 'feature_fraction': 0.5353285614865305, 'bagging_fraction': 0.4541404261753798, 'bagging_freq': 2, 'min_child_samples': 13}. Best is trial 45 with value: 1.0.\n",
      "<ipython-input-37-1c6539846d38>:86: ExperimentalWarning:\n",
      "\n",
      "upload_artifact is experimental (supported from v3.3.0). The interface can change in the future.\n",
      "\n",
      "<ipython-input-37-1c6539846d38>:94: ExperimentalWarning:\n",
      "\n",
      "upload_artifact is experimental (supported from v3.3.0). The interface can change in the future.\n",
      "\n",
      "[I 2024-08-24 08:55:29,555] Trial 592 finished with value: 0.5224366747245054 and parameters: {'lambda_l1': 1.1981233829754414, 'lambda_l2': 7.036220703932872, 'num_leaves': 17, 'feature_fraction': 0.5069594598671247, 'bagging_fraction': 0.5152148615276951, 'bagging_freq': 1, 'min_child_samples': 5}. Best is trial 45 with value: 1.0.\n",
      "<ipython-input-37-1c6539846d38>:86: ExperimentalWarning:\n",
      "\n",
      "upload_artifact is experimental (supported from v3.3.0). The interface can change in the future.\n",
      "\n",
      "<ipython-input-37-1c6539846d38>:94: ExperimentalWarning:\n",
      "\n",
      "upload_artifact is experimental (supported from v3.3.0). The interface can change in the future.\n",
      "\n",
      "[I 2024-08-24 08:55:39,094] Trial 593 finished with value: 0.5256848827542002 and parameters: {'lambda_l1': 0.09230706028709539, 'lambda_l2': 3.1109031044208826, 'num_leaves': 12, 'feature_fraction': 0.43628024966356144, 'bagging_fraction': 0.4784225619755074, 'bagging_freq': 2, 'min_child_samples': 25}. Best is trial 45 with value: 1.0.\n",
      "<ipython-input-37-1c6539846d38>:86: ExperimentalWarning:\n",
      "\n",
      "upload_artifact is experimental (supported from v3.3.0). The interface can change in the future.\n",
      "\n",
      "<ipython-input-37-1c6539846d38>:94: ExperimentalWarning:\n",
      "\n",
      "upload_artifact is experimental (supported from v3.3.0). The interface can change in the future.\n",
      "\n",
      "[I 2024-08-24 08:55:46,410] Trial 594 finished with value: 0.5192218329009349 and parameters: {'lambda_l1': 0.31650506100801024, 'lambda_l2': 2.0354839271542624, 'num_leaves': 51, 'feature_fraction': 0.5207480749437906, 'bagging_fraction': 0.46466406815851524, 'bagging_freq': 1, 'min_child_samples': 30}. Best is trial 45 with value: 1.0.\n",
      "<ipython-input-37-1c6539846d38>:86: ExperimentalWarning:\n",
      "\n",
      "upload_artifact is experimental (supported from v3.3.0). The interface can change in the future.\n",
      "\n",
      "<ipython-input-37-1c6539846d38>:94: ExperimentalWarning:\n",
      "\n",
      "upload_artifact is experimental (supported from v3.3.0). The interface can change in the future.\n",
      "\n",
      "[I 2024-08-24 08:55:53,065] Trial 595 finished with value: 0.5161706759343148 and parameters: {'lambda_l1': 0.6409092649453259, 'lambda_l2': 1.0503484631445097, 'num_leaves': 28, 'feature_fraction': 0.4983643847692684, 'bagging_fraction': 0.44407973423606445, 'bagging_freq': 1, 'min_child_samples': 16}. Best is trial 45 with value: 1.0.\n",
      "<ipython-input-37-1c6539846d38>:86: ExperimentalWarning:\n",
      "\n",
      "upload_artifact is experimental (supported from v3.3.0). The interface can change in the future.\n",
      "\n",
      "<ipython-input-37-1c6539846d38>:94: ExperimentalWarning:\n",
      "\n",
      "upload_artifact is experimental (supported from v3.3.0). The interface can change in the future.\n",
      "\n",
      "[I 2024-08-24 08:56:02,208] Trial 596 finished with value: 0.5214706404588509 and parameters: {'lambda_l1': 0.0007155707026361327, 'lambda_l2': 4.890993646189187, 'num_leaves': 22, 'feature_fraction': 0.47996868827262157, 'bagging_fraction': 0.5353058479410387, 'bagging_freq': 1, 'min_child_samples': 11}. Best is trial 45 with value: 1.0.\n",
      "<ipython-input-37-1c6539846d38>:86: ExperimentalWarning:\n",
      "\n",
      "upload_artifact is experimental (supported from v3.3.0). The interface can change in the future.\n",
      "\n",
      "<ipython-input-37-1c6539846d38>:94: ExperimentalWarning:\n",
      "\n",
      "upload_artifact is experimental (supported from v3.3.0). The interface can change in the future.\n",
      "\n",
      "[I 2024-08-24 08:56:10,209] Trial 597 finished with value: 0.515804279868868 and parameters: {'lambda_l1': 0.19515756221400207, 'lambda_l2': 0.43064208882974936, 'num_leaves': 41, 'feature_fraction': 0.5489038817207675, 'bagging_fraction': 0.490081082630871, 'bagging_freq': 3, 'min_child_samples': 20}. Best is trial 45 with value: 1.0.\n",
      "<ipython-input-37-1c6539846d38>:86: ExperimentalWarning:\n",
      "\n",
      "upload_artifact is experimental (supported from v3.3.0). The interface can change in the future.\n",
      "\n",
      "<ipython-input-37-1c6539846d38>:94: ExperimentalWarning:\n",
      "\n",
      "upload_artifact is experimental (supported from v3.3.0). The interface can change in the future.\n",
      "\n",
      "[I 2024-08-24 08:56:18,225] Trial 598 finished with value: 0.5125021626988564 and parameters: {'lambda_l1': 6.768558776965063, 'lambda_l2': 7.139622910571994, 'num_leaves': 78, 'feature_fraction': 0.45697151374036427, 'bagging_fraction': 0.4297431875245265, 'bagging_freq': 2, 'min_child_samples': 8}. Best is trial 45 with value: 1.0.\n",
      "<ipython-input-37-1c6539846d38>:86: ExperimentalWarning:\n",
      "\n",
      "upload_artifact is experimental (supported from v3.3.0). The interface can change in the future.\n",
      "\n",
      "<ipython-input-37-1c6539846d38>:94: ExperimentalWarning:\n",
      "\n",
      "upload_artifact is experimental (supported from v3.3.0). The interface can change in the future.\n",
      "\n",
      "[I 2024-08-24 08:56:27,074] Trial 599 finished with value: 0.5181680903928619 and parameters: {'lambda_l1': 4.0486633895917716e-05, 'lambda_l2': 9.91461331499809, 'num_leaves': 33, 'feature_fraction': 0.4916288999711858, 'bagging_fraction': 0.4993831421454749, 'bagging_freq': 1, 'min_child_samples': 32}. Best is trial 45 with value: 1.0.\n",
      "<ipython-input-37-1c6539846d38>:86: ExperimentalWarning:\n",
      "\n",
      "upload_artifact is experimental (supported from v3.3.0). The interface can change in the future.\n",
      "\n",
      "<ipython-input-37-1c6539846d38>:94: ExperimentalWarning:\n",
      "\n",
      "upload_artifact is experimental (supported from v3.3.0). The interface can change in the future.\n",
      "\n",
      "[I 2024-08-24 08:56:35,745] Trial 600 finished with value: 0.5237272540817535 and parameters: {'lambda_l1': 2.345541092253255, 'lambda_l2': 3.2125016181181687, 'num_leaves': 19, 'feature_fraction': 0.5700007877848129, 'bagging_fraction': 0.5216961890431658, 'bagging_freq': 2, 'min_child_samples': 27}. Best is trial 45 with value: 1.0.\n",
      "<ipython-input-37-1c6539846d38>:86: ExperimentalWarning:\n",
      "\n",
      "upload_artifact is experimental (supported from v3.3.0). The interface can change in the future.\n",
      "\n",
      "<ipython-input-37-1c6539846d38>:94: ExperimentalWarning:\n",
      "\n",
      "upload_artifact is experimental (supported from v3.3.0). The interface can change in the future.\n",
      "\n",
      "[I 2024-08-24 08:56:42,191] Trial 601 finished with value: 0.5208467945295414 and parameters: {'lambda_l1': 0.12026106646380619, 'lambda_l2': 0.0005376932135565503, 'num_leaves': 25, 'feature_fraction': 0.5335863213155783, 'bagging_fraction': 0.4158559922785726, 'bagging_freq': 1, 'min_child_samples': 22}. Best is trial 45 with value: 1.0.\n",
      "<ipython-input-37-1c6539846d38>:86: ExperimentalWarning:\n",
      "\n",
      "upload_artifact is experimental (supported from v3.3.0). The interface can change in the future.\n",
      "\n",
      "<ipython-input-37-1c6539846d38>:94: ExperimentalWarning:\n",
      "\n",
      "upload_artifact is experimental (supported from v3.3.0). The interface can change in the future.\n",
      "\n",
      "[I 2024-08-24 08:56:51,323] Trial 602 finished with value: 0.5153019577554712 and parameters: {'lambda_l1': 0.44144673462283623, 'lambda_l2': 2.0202123335437463, 'num_leaves': 60, 'feature_fraction': 0.5182155731943558, 'bagging_fraction': 0.47251460830597225, 'bagging_freq': 2, 'min_child_samples': 18}. Best is trial 45 with value: 1.0.\n",
      "<ipython-input-37-1c6539846d38>:86: ExperimentalWarning:\n",
      "\n",
      "upload_artifact is experimental (supported from v3.3.0). The interface can change in the future.\n",
      "\n",
      "<ipython-input-37-1c6539846d38>:94: ExperimentalWarning:\n",
      "\n",
      "upload_artifact is experimental (supported from v3.3.0). The interface can change in the future.\n",
      "\n",
      "[I 2024-08-24 08:56:59,622] Trial 603 finished with value: 0.5196373597573334 and parameters: {'lambda_l1': 0.8272325974649942, 'lambda_l2': 5.095775667457596, 'num_leaves': 6, 'feature_fraction': 0.446743765377064, 'bagging_fraction': 0.4541912803801183, 'bagging_freq': 1, 'min_child_samples': 14}. Best is trial 45 with value: 1.0.\n",
      "<ipython-input-37-1c6539846d38>:86: ExperimentalWarning:\n",
      "\n",
      "upload_artifact is experimental (supported from v3.3.0). The interface can change in the future.\n",
      "\n",
      "<ipython-input-37-1c6539846d38>:94: ExperimentalWarning:\n",
      "\n",
      "upload_artifact is experimental (supported from v3.3.0). The interface can change in the future.\n",
      "\n",
      "[I 2024-08-24 08:57:07,132] Trial 604 finished with value: 0.5260891541820084 and parameters: {'lambda_l1': 0.31849751346961575, 'lambda_l2': 8.390362581773002e-05, 'num_leaves': 15, 'feature_fraction': 0.5008045976768717, 'bagging_fraction': 0.5488211946371548, 'bagging_freq': 1, 'min_child_samples': 37}. Best is trial 45 with value: 1.0.\n",
      "<ipython-input-37-1c6539846d38>:86: ExperimentalWarning:\n",
      "\n",
      "upload_artifact is experimental (supported from v3.3.0). The interface can change in the future.\n",
      "\n",
      "<ipython-input-37-1c6539846d38>:94: ExperimentalWarning:\n",
      "\n",
      "upload_artifact is experimental (supported from v3.3.0). The interface can change in the future.\n",
      "\n",
      "[I 2024-08-24 08:57:16,772] Trial 605 finished with value: 0.5178383376722486 and parameters: {'lambda_l1': 9.628425100809567, 'lambda_l2': 1.2740913715293485, 'num_leaves': 166, 'feature_fraction': 0.4703730339046704, 'bagging_fraction': 0.4830763140702035, 'bagging_freq': 2, 'min_child_samples': 24}. Best is trial 45 with value: 1.0.\n",
      "<ipython-input-37-1c6539846d38>:86: ExperimentalWarning:\n",
      "\n",
      "upload_artifact is experimental (supported from v3.3.0). The interface can change in the future.\n",
      "\n",
      "<ipython-input-37-1c6539846d38>:94: ExperimentalWarning:\n",
      "\n",
      "upload_artifact is experimental (supported from v3.3.0). The interface can change in the future.\n",
      "\n",
      "[I 2024-08-24 08:57:30,791] Trial 606 finished with value: 0.5217367354551912 and parameters: {'lambda_l1': 0.05483381843177615, 'lambda_l2': 3.7127733636533384, 'num_leaves': 29, 'feature_fraction': 0.430209634100335, 'bagging_fraction': 0.5084434982850562, 'bagging_freq': 1, 'min_child_samples': 29}. Best is trial 45 with value: 1.0.\n",
      "<ipython-input-37-1c6539846d38>:86: ExperimentalWarning:\n",
      "\n",
      "upload_artifact is experimental (supported from v3.3.0). The interface can change in the future.\n",
      "\n",
      "<ipython-input-37-1c6539846d38>:94: ExperimentalWarning:\n",
      "\n",
      "upload_artifact is experimental (supported from v3.3.0). The interface can change in the future.\n",
      "\n",
      "[I 2024-08-24 08:57:43,531] Trial 607 finished with value: 0.5242281964715234 and parameters: {'lambda_l1': 3.3711554223845854, 'lambda_l2': 0.670568113837287, 'num_leaves': 10, 'feature_fraction': 0.5423779222847653, 'bagging_fraction': 0.434690287898439, 'bagging_freq': 2, 'min_child_samples': 11}. Best is trial 45 with value: 1.0.\n",
      "<ipython-input-37-1c6539846d38>:86: ExperimentalWarning:\n",
      "\n",
      "upload_artifact is experimental (supported from v3.3.0). The interface can change in the future.\n",
      "\n",
      "<ipython-input-37-1c6539846d38>:94: ExperimentalWarning:\n",
      "\n",
      "upload_artifact is experimental (supported from v3.3.0). The interface can change in the future.\n",
      "\n",
      "[I 2024-08-24 08:57:56,635] Trial 608 finished with value: 0.518857401512695 and parameters: {'lambda_l1': 1.1058872323137388, 'lambda_l2': 6.973119444421404, 'num_leaves': 20, 'feature_fraction': 0.5120792771650313, 'bagging_fraction': 0.4473559394041146, 'bagging_freq': 5, 'min_child_samples': 34}. Best is trial 45 with value: 1.0.\n",
      "<ipython-input-37-1c6539846d38>:86: ExperimentalWarning:\n",
      "\n",
      "upload_artifact is experimental (supported from v3.3.0). The interface can change in the future.\n",
      "\n",
      "<ipython-input-37-1c6539846d38>:94: ExperimentalWarning:\n",
      "\n",
      "upload_artifact is experimental (supported from v3.3.0). The interface can change in the future.\n",
      "\n",
      "[I 2024-08-24 08:58:12,403] Trial 609 finished with value: 0.5190341634912965 and parameters: {'lambda_l1': 0.19436584110016905, 'lambda_l2': 2.574855479116212, 'num_leaves': 37, 'feature_fraction': 0.5568582103097993, 'bagging_fraction': 0.4659125653766634, 'bagging_freq': 7, 'min_child_samples': 16}. Best is trial 45 with value: 1.0.\n",
      "<ipython-input-37-1c6539846d38>:86: ExperimentalWarning:\n",
      "\n",
      "upload_artifact is experimental (supported from v3.3.0). The interface can change in the future.\n",
      "\n",
      "<ipython-input-37-1c6539846d38>:94: ExperimentalWarning:\n",
      "\n",
      "upload_artifact is experimental (supported from v3.3.0). The interface can change in the future.\n",
      "\n",
      "[I 2024-08-24 08:58:25,330] Trial 610 finished with value: 0.523682488084664 and parameters: {'lambda_l1': 1.877806776136567, 'lambda_l2': 5.0352386205361315, 'num_leaves': 148, 'feature_fraction': 0.5277648946710867, 'bagging_fraction': 0.5305213813606453, 'bagging_freq': 1, 'min_child_samples': 66}. Best is trial 45 with value: 1.0.\n",
      "<ipython-input-37-1c6539846d38>:86: ExperimentalWarning:\n",
      "\n",
      "upload_artifact is experimental (supported from v3.3.0). The interface can change in the future.\n",
      "\n",
      "<ipython-input-37-1c6539846d38>:94: ExperimentalWarning:\n",
      "\n",
      "upload_artifact is experimental (supported from v3.3.0). The interface can change in the future.\n",
      "\n",
      "[I 2024-08-24 08:58:34,684] Trial 611 finished with value: 0.5238009851714165 and parameters: {'lambda_l1': 0.4863311039656433, 'lambda_l2': 1.5571179768813304, 'num_leaves': 25, 'feature_fraction': 0.48373986077426934, 'bagging_fraction': 0.49917543104397544, 'bagging_freq': 1, 'min_child_samples': 21}. Best is trial 45 with value: 1.0.\n",
      "<ipython-input-37-1c6539846d38>:86: ExperimentalWarning:\n",
      "\n",
      "upload_artifact is experimental (supported from v3.3.0). The interface can change in the future.\n",
      "\n",
      "<ipython-input-37-1c6539846d38>:94: ExperimentalWarning:\n",
      "\n",
      "upload_artifact is experimental (supported from v3.3.0). The interface can change in the future.\n",
      "\n",
      "[I 2024-08-24 08:58:42,211] Trial 612 finished with value: 0.5251568495522533 and parameters: {'lambda_l1': 0.0792497177366623, 'lambda_l2': 7.12263549194719, 'num_leaves': 14, 'feature_fraction': 0.575946762023216, 'bagging_fraction': 0.5167268931637359, 'bagging_freq': 2, 'min_child_samples': 8}. Best is trial 45 with value: 1.0.\n",
      "<ipython-input-37-1c6539846d38>:86: ExperimentalWarning:\n",
      "\n",
      "upload_artifact is experimental (supported from v3.3.0). The interface can change in the future.\n",
      "\n",
      "<ipython-input-37-1c6539846d38>:94: ExperimentalWarning:\n",
      "\n",
      "upload_artifact is experimental (supported from v3.3.0). The interface can change in the future.\n",
      "\n",
      "[I 2024-08-24 08:58:51,027] Trial 613 finished with value: 0.5213160151236018 and parameters: {'lambda_l1': 4.6941852992337765, 'lambda_l2': 0.21669744613641848, 'num_leaves': 31, 'feature_fraction': 0.7362946809357024, 'bagging_fraction': 0.4814638916046458, 'bagging_freq': 1, 'min_child_samples': 26}. Best is trial 45 with value: 1.0.\n",
      "<ipython-input-37-1c6539846d38>:86: ExperimentalWarning:\n",
      "\n",
      "upload_artifact is experimental (supported from v3.3.0). The interface can change in the future.\n",
      "\n",
      "<ipython-input-37-1c6539846d38>:94: ExperimentalWarning:\n",
      "\n",
      "upload_artifact is experimental (supported from v3.3.0). The interface can change in the future.\n",
      "\n",
      "[I 2024-08-24 08:58:58,966] Trial 614 finished with value: 0.5209649327861398 and parameters: {'lambda_l1': 0.6962522670853951, 'lambda_l2': 3.7736759819106473, 'num_leaves': 20, 'feature_fraction': 0.4192821624630552, 'bagging_fraction': 0.4561925130401222, 'bagging_freq': 2, 'min_child_samples': 12}. Best is trial 45 with value: 1.0.\n",
      "<ipython-input-37-1c6539846d38>:86: ExperimentalWarning:\n",
      "\n",
      "upload_artifact is experimental (supported from v3.3.0). The interface can change in the future.\n",
      "\n",
      "<ipython-input-37-1c6539846d38>:94: ExperimentalWarning:\n",
      "\n",
      "upload_artifact is experimental (supported from v3.3.0). The interface can change in the future.\n",
      "\n",
      "[I 2024-08-24 08:59:09,814] Trial 615 finished with value: 0.5212428922022045 and parameters: {'lambda_l1': 0.031610681042229916, 'lambda_l2': 9.707342076461902, 'num_leaves': 46, 'feature_fraction': 0.5975579545800903, 'bagging_fraction': 0.49250094229352886, 'bagging_freq': 4, 'min_child_samples': 19}. Best is trial 45 with value: 1.0.\n",
      "<ipython-input-37-1c6539846d38>:86: ExperimentalWarning:\n",
      "\n",
      "upload_artifact is experimental (supported from v3.3.0). The interface can change in the future.\n",
      "\n",
      "<ipython-input-37-1c6539846d38>:94: ExperimentalWarning:\n",
      "\n",
      "upload_artifact is experimental (supported from v3.3.0). The interface can change in the future.\n",
      "\n",
      "[I 2024-08-24 08:59:17,215] Trial 616 finished with value: 0.5221706022850882 and parameters: {'lambda_l1': 0.12827922376076328, 'lambda_l2': 2.8766741624331007, 'num_leaves': 25, 'feature_fraction': 0.5069540644715289, 'bagging_fraction': 0.5424811096348275, 'bagging_freq': 1, 'min_child_samples': 23}. Best is trial 45 with value: 1.0.\n",
      "<ipython-input-37-1c6539846d38>:86: ExperimentalWarning:\n",
      "\n",
      "upload_artifact is experimental (supported from v3.3.0). The interface can change in the future.\n",
      "\n",
      "<ipython-input-37-1c6539846d38>:94: ExperimentalWarning:\n",
      "\n",
      "upload_artifact is experimental (supported from v3.3.0). The interface can change in the future.\n",
      "\n",
      "[I 2024-08-24 08:59:26,014] Trial 617 finished with value: 0.5196869563021637 and parameters: {'lambda_l1': 0.28746086189159614, 'lambda_l2': 4.5718663022748585, 'num_leaves': 15, 'feature_fraction': 0.46506417209641593, 'bagging_fraction': 0.44044292705761884, 'bagging_freq': 6, 'min_child_samples': 10}. Best is trial 45 with value: 1.0.\n",
      "<ipython-input-37-1c6539846d38>:86: ExperimentalWarning:\n",
      "\n",
      "upload_artifact is experimental (supported from v3.3.0). The interface can change in the future.\n",
      "\n",
      "<ipython-input-37-1c6539846d38>:94: ExperimentalWarning:\n",
      "\n",
      "upload_artifact is experimental (supported from v3.3.0). The interface can change in the future.\n",
      "\n",
      "[I 2024-08-24 08:59:31,898] Trial 618 finished with value: 0.5129315570542835 and parameters: {'lambda_l1': 0.6628248626352883, 'lambda_l2': 1.908463737305957, 'num_leaves': 2, 'feature_fraction': 0.6377830772410447, 'bagging_fraction': 0.4703959049541285, 'bagging_freq': 1, 'min_child_samples': 15}. Best is trial 45 with value: 1.0.\n",
      "<ipython-input-37-1c6539846d38>:86: ExperimentalWarning:\n",
      "\n",
      "upload_artifact is experimental (supported from v3.3.0). The interface can change in the future.\n",
      "\n",
      "<ipython-input-37-1c6539846d38>:94: ExperimentalWarning:\n",
      "\n",
      "upload_artifact is experimental (supported from v3.3.0). The interface can change in the future.\n",
      "\n",
      "[I 2024-08-24 08:59:42,596] Trial 619 finished with value: 0.515410386858843 and parameters: {'lambda_l1': 0.3968516762074253, 'lambda_l2': 1.054684785210492, 'num_leaves': 68, 'feature_fraction': 0.44191146673858145, 'bagging_fraction': 0.5999226144359032, 'bagging_freq': 2, 'min_child_samples': 32}. Best is trial 45 with value: 1.0.\n",
      "<ipython-input-37-1c6539846d38>:86: ExperimentalWarning:\n",
      "\n",
      "upload_artifact is experimental (supported from v3.3.0). The interface can change in the future.\n",
      "\n",
      "<ipython-input-37-1c6539846d38>:94: ExperimentalWarning:\n",
      "\n",
      "upload_artifact is experimental (supported from v3.3.0). The interface can change in the future.\n",
      "\n",
      "[I 2024-08-24 08:59:53,162] Trial 620 finished with value: 0.5160666740430504 and parameters: {'lambda_l1': 1.3719806401516035, 'lambda_l2': 6.983311688937335, 'num_leaves': 35, 'feature_fraction': 0.4926791896882274, 'bagging_fraction': 0.4250958231604646, 'bagging_freq': 3, 'min_child_samples': 18}. Best is trial 45 with value: 1.0.\n",
      "<ipython-input-37-1c6539846d38>:86: ExperimentalWarning:\n",
      "\n",
      "upload_artifact is experimental (supported from v3.3.0). The interface can change in the future.\n",
      "\n",
      "<ipython-input-37-1c6539846d38>:94: ExperimentalWarning:\n",
      "\n",
      "upload_artifact is experimental (supported from v3.3.0). The interface can change in the future.\n",
      "\n",
      "[I 2024-08-24 09:00:03,249] Trial 621 finished with value: 0.5179310857677644 and parameters: {'lambda_l1': 0.1714309948625596, 'lambda_l2': 2.767209067938673, 'num_leaves': 9, 'feature_fraction': 0.618354769448331, 'bagging_fraction': 0.5046044150824143, 'bagging_freq': 1, 'min_child_samples': 39}. Best is trial 45 with value: 1.0.\n",
      "<ipython-input-37-1c6539846d38>:86: ExperimentalWarning:\n",
      "\n",
      "upload_artifact is experimental (supported from v3.3.0). The interface can change in the future.\n",
      "\n",
      "<ipython-input-37-1c6539846d38>:94: ExperimentalWarning:\n",
      "\n",
      "upload_artifact is experimental (supported from v3.3.0). The interface can change in the future.\n",
      "\n",
      "[I 2024-08-24 09:00:15,055] Trial 622 finished with value: 0.5206755782622222 and parameters: {'lambda_l1': 0.05033944233456898, 'lambda_l2': 9.940461566817033, 'num_leaves': 20, 'feature_fraction': 0.5183652168680061, 'bagging_fraction': 0.5212671769036203, 'bagging_freq': 2, 'min_child_samples': 7}. Best is trial 45 with value: 1.0.\n",
      "<ipython-input-37-1c6539846d38>:86: ExperimentalWarning:\n",
      "\n",
      "upload_artifact is experimental (supported from v3.3.0). The interface can change in the future.\n",
      "\n",
      "<ipython-input-37-1c6539846d38>:94: ExperimentalWarning:\n",
      "\n",
      "upload_artifact is experimental (supported from v3.3.0). The interface can change in the future.\n",
      "\n",
      "[I 2024-08-24 09:00:33,976] Trial 623 finished with value: 0.5232009857994009 and parameters: {'lambda_l1': 0.0981376818090437, 'lambda_l2': 5.780327982134391, 'num_leaves': 29, 'feature_fraction': 0.5377807354680971, 'bagging_fraction': 0.4585611618698694, 'bagging_freq': 1, 'min_child_samples': 21}. Best is trial 45 with value: 1.0.\n",
      "<ipython-input-37-1c6539846d38>:86: ExperimentalWarning:\n",
      "\n",
      "upload_artifact is experimental (supported from v3.3.0). The interface can change in the future.\n",
      "\n",
      "<ipython-input-37-1c6539846d38>:94: ExperimentalWarning:\n",
      "\n",
      "upload_artifact is experimental (supported from v3.3.0). The interface can change in the future.\n",
      "\n",
      "[I 2024-08-24 09:00:41,443] Trial 624 finished with value: 0.5243970638131361 and parameters: {'lambda_l1': 2.847881285587248e-06, 'lambda_l2': 0.4453540952157827, 'num_leaves': 23, 'feature_fraction': 0.5575839020213542, 'bagging_fraction': 0.5557654747091421, 'bagging_freq': 1, 'min_child_samples': 28}. Best is trial 45 with value: 1.0.\n",
      "<ipython-input-37-1c6539846d38>:86: ExperimentalWarning:\n",
      "\n",
      "upload_artifact is experimental (supported from v3.3.0). The interface can change in the future.\n",
      "\n",
      "<ipython-input-37-1c6539846d38>:94: ExperimentalWarning:\n",
      "\n",
      "upload_artifact is experimental (supported from v3.3.0). The interface can change in the future.\n",
      "\n",
      "[I 2024-08-24 09:00:57,199] Trial 625 finished with value: 0.5279355223696932 and parameters: {'lambda_l1': 0.2332874762289727, 'lambda_l2': 0.7247806814502912, 'num_leaves': 14, 'feature_fraction': 0.5872290945173281, 'bagging_fraction': 0.4772680169525051, 'bagging_freq': 2, 'min_child_samples': 25}. Best is trial 45 with value: 1.0.\n",
      "<ipython-input-37-1c6539846d38>:86: ExperimentalWarning:\n",
      "\n",
      "upload_artifact is experimental (supported from v3.3.0). The interface can change in the future.\n",
      "\n",
      "<ipython-input-37-1c6539846d38>:94: ExperimentalWarning:\n",
      "\n",
      "upload_artifact is experimental (supported from v3.3.0). The interface can change in the future.\n",
      "\n",
      "[I 2024-08-24 09:01:09,642] Trial 626 finished with value: 0.5199958571120842 and parameters: {'lambda_l1': 3.512614574829776, 'lambda_l2': 3.9552551194009617, 'num_leaves': 18, 'feature_fraction': 0.453719254174872, 'bagging_fraction': 0.51094190145635, 'bagging_freq': 1, 'min_child_samples': 14}. Best is trial 45 with value: 1.0.\n",
      "<ipython-input-37-1c6539846d38>:86: ExperimentalWarning:\n",
      "\n",
      "upload_artifact is experimental (supported from v3.3.0). The interface can change in the future.\n",
      "\n",
      "<ipython-input-37-1c6539846d38>:94: ExperimentalWarning:\n",
      "\n",
      "upload_artifact is experimental (supported from v3.3.0). The interface can change in the future.\n",
      "\n",
      "[I 2024-08-24 09:01:20,337] Trial 627 finished with value: 0.5172518475518023 and parameters: {'lambda_l1': 0.5614626950771365, 'lambda_l2': 1.7811791187035426, 'num_leaves': 42, 'feature_fraction': 0.4782472542315933, 'bagging_fraction': 0.4102354176268104, 'bagging_freq': 1, 'min_child_samples': 9}. Best is trial 45 with value: 1.0.\n",
      "<ipython-input-37-1c6539846d38>:86: ExperimentalWarning:\n",
      "\n",
      "upload_artifact is experimental (supported from v3.3.0). The interface can change in the future.\n",
      "\n",
      "<ipython-input-37-1c6539846d38>:94: ExperimentalWarning:\n",
      "\n",
      "upload_artifact is experimental (supported from v3.3.0). The interface can change in the future.\n",
      "\n",
      "[I 2024-08-24 09:01:33,271] Trial 628 finished with value: 0.5196433363513865 and parameters: {'lambda_l1': 0.8839294711386833, 'lambda_l2': 4.900994893388813, 'num_leaves': 30, 'feature_fraction': 0.5263536562604305, 'bagging_fraction': 0.5689143322421369, 'bagging_freq': 2, 'min_child_samples': 23}. Best is trial 45 with value: 1.0.\n",
      "<ipython-input-37-1c6539846d38>:86: ExperimentalWarning:\n",
      "\n",
      "upload_artifact is experimental (supported from v3.3.0). The interface can change in the future.\n",
      "\n",
      "<ipython-input-37-1c6539846d38>:94: ExperimentalWarning:\n",
      "\n",
      "upload_artifact is experimental (supported from v3.3.0). The interface can change in the future.\n",
      "\n",
      "[I 2024-08-24 09:01:42,117] Trial 629 finished with value: 0.5188879034360475 and parameters: {'lambda_l1': 2.445469030211276, 'lambda_l2': 2.5415481948625094, 'num_leaves': 10, 'feature_fraction': 0.5031715002298162, 'bagging_fraction': 0.44524075033956273, 'bagging_freq': 1, 'min_child_samples': 30}. Best is trial 45 with value: 1.0.\n",
      "<ipython-input-37-1c6539846d38>:86: ExperimentalWarning:\n",
      "\n",
      "upload_artifact is experimental (supported from v3.3.0). The interface can change in the future.\n",
      "\n",
      "<ipython-input-37-1c6539846d38>:94: ExperimentalWarning:\n",
      "\n",
      "upload_artifact is experimental (supported from v3.3.0). The interface can change in the future.\n",
      "\n",
      "[I 2024-08-24 09:01:54,304] Trial 630 finished with value: 0.5157654026333371 and parameters: {'lambda_l1': 6.876611055481271, 'lambda_l2': 6.822634251732286, 'num_leaves': 56, 'feature_fraction': 0.411725316018326, 'bagging_fraction': 0.489581809206846, 'bagging_freq': 2, 'min_child_samples': 17}. Best is trial 45 with value: 1.0.\n",
      "<ipython-input-37-1c6539846d38>:86: ExperimentalWarning:\n",
      "\n",
      "upload_artifact is experimental (supported from v3.3.0). The interface can change in the future.\n",
      "\n",
      "<ipython-input-37-1c6539846d38>:94: ExperimentalWarning:\n",
      "\n",
      "upload_artifact is experimental (supported from v3.3.0). The interface can change in the future.\n",
      "\n",
      "[I 2024-08-24 09:02:02,468] Trial 631 finished with value: 0.5234095965380776 and parameters: {'lambda_l1': 0.30626504948525846, 'lambda_l2': 1.1625293310819076, 'num_leaves': 25, 'feature_fraction': 0.5449235064483782, 'bagging_fraction': 0.46648815374236713, 'bagging_freq': 1, 'min_child_samples': 49}. Best is trial 45 with value: 1.0.\n",
      "<ipython-input-37-1c6539846d38>:86: ExperimentalWarning:\n",
      "\n",
      "upload_artifact is experimental (supported from v3.3.0). The interface can change in the future.\n",
      "\n",
      "<ipython-input-37-1c6539846d38>:94: ExperimentalWarning:\n",
      "\n",
      "upload_artifact is experimental (supported from v3.3.0). The interface can change in the future.\n",
      "\n",
      "[I 2024-08-24 09:02:11,501] Trial 632 finished with value: 0.5178779969440575 and parameters: {'lambda_l1': 1.4741563685848256, 'lambda_l2': 3.573350563269203, 'num_leaves': 6, 'feature_fraction': 0.49148650965296165, 'bagging_fraction': 0.536033231656929, 'bagging_freq': 2, 'min_child_samples': 12}. Best is trial 45 with value: 1.0.\n",
      "<ipython-input-37-1c6539846d38>:86: ExperimentalWarning:\n",
      "\n",
      "upload_artifact is experimental (supported from v3.3.0). The interface can change in the future.\n",
      "\n",
      "<ipython-input-37-1c6539846d38>:94: ExperimentalWarning:\n",
      "\n",
      "upload_artifact is experimental (supported from v3.3.0). The interface can change in the future.\n",
      "\n",
      "[I 2024-08-24 09:02:21,980] Trial 633 finished with value: 0.5145491876974699 and parameters: {'lambda_l1': 0.07871917684091209, 'lambda_l2': 2.237766256158433, 'num_leaves': 35, 'feature_fraction': 0.5143453359936141, 'bagging_fraction': 0.43491402687337566, 'bagging_freq': 1, 'min_child_samples': 89}. Best is trial 45 with value: 1.0.\n",
      "<ipython-input-37-1c6539846d38>:86: ExperimentalWarning:\n",
      "\n",
      "upload_artifact is experimental (supported from v3.3.0). The interface can change in the future.\n",
      "\n",
      "<ipython-input-37-1c6539846d38>:94: ExperimentalWarning:\n",
      "\n",
      "upload_artifact is experimental (supported from v3.3.0). The interface can change in the future.\n",
      "\n",
      "[I 2024-08-24 09:02:34,983] Trial 634 finished with value: 0.5228567135270493 and parameters: {'lambda_l1': 0.1423193860053903, 'lambda_l2': 5.395854197279517, 'num_leaves': 17, 'feature_fraction': 0.4307887905099857, 'bagging_fraction': 0.505650546864187, 'bagging_freq': 1, 'min_child_samples': 21}. Best is trial 45 with value: 1.0.\n",
      "<ipython-input-37-1c6539846d38>:86: ExperimentalWarning:\n",
      "\n",
      "upload_artifact is experimental (supported from v3.3.0). The interface can change in the future.\n",
      "\n",
      "<ipython-input-37-1c6539846d38>:94: ExperimentalWarning:\n",
      "\n",
      "upload_artifact is experimental (supported from v3.3.0). The interface can change in the future.\n",
      "\n",
      "[I 2024-08-24 09:02:45,631] Trial 635 finished with value: 0.5196118968102456 and parameters: {'lambda_l1': 0.4356139881966095, 'lambda_l2': 7.131407823592344, 'num_leaves': 24, 'feature_fraction': 0.4655461472062581, 'bagging_fraction': 0.4524814109664196, 'bagging_freq': 2, 'min_child_samples': 35}. Best is trial 45 with value: 1.0.\n",
      "<ipython-input-37-1c6539846d38>:86: ExperimentalWarning:\n",
      "\n",
      "upload_artifact is experimental (supported from v3.3.0). The interface can change in the future.\n",
      "\n",
      "<ipython-input-37-1c6539846d38>:94: ExperimentalWarning:\n",
      "\n",
      "upload_artifact is experimental (supported from v3.3.0). The interface can change in the future.\n",
      "\n",
      "[I 2024-08-24 09:02:53,777] Trial 636 finished with value: 0.5234757728423781 and parameters: {'lambda_l1': 0.22008957950072058, 'lambda_l2': 1.391715736011916, 'num_leaves': 12, 'feature_fraction': 0.5318384673628015, 'bagging_fraction': 0.49315725425750107, 'bagging_freq': 1, 'min_child_samples': 27}. Best is trial 45 with value: 1.0.\n",
      "<ipython-input-37-1c6539846d38>:86: ExperimentalWarning:\n",
      "\n",
      "upload_artifact is experimental (supported from v3.3.0). The interface can change in the future.\n",
      "\n",
      "<ipython-input-37-1c6539846d38>:94: ExperimentalWarning:\n",
      "\n",
      "upload_artifact is experimental (supported from v3.3.0). The interface can change in the future.\n",
      "\n",
      "[I 2024-08-24 09:03:05,925] Trial 637 finished with value: 0.5249847067088036 and parameters: {'lambda_l1': 0.8681524206366344, 'lambda_l2': 3.425300032777844, 'num_leaves': 29, 'feature_fraction': 0.5666731335682855, 'bagging_fraction': 0.5243895523351384, 'bagging_freq': 2, 'min_child_samples': 6}. Best is trial 45 with value: 1.0.\n",
      "<ipython-input-37-1c6539846d38>:86: ExperimentalWarning:\n",
      "\n",
      "upload_artifact is experimental (supported from v3.3.0). The interface can change in the future.\n",
      "\n",
      "<ipython-input-37-1c6539846d38>:94: ExperimentalWarning:\n",
      "\n",
      "upload_artifact is experimental (supported from v3.3.0). The interface can change in the future.\n",
      "\n",
      "[I 2024-08-24 09:03:17,870] Trial 638 finished with value: 0.5203356162093346 and parameters: {'lambda_l1': 0.4656910340816318, 'lambda_l2': 0.003820873387867179, 'num_leaves': 39, 'feature_fraction': 0.5084938831012078, 'bagging_fraction': 0.4772857270550837, 'bagging_freq': 1, 'min_child_samples': 20}. Best is trial 45 with value: 1.0.\n",
      "<ipython-input-37-1c6539846d38>:86: ExperimentalWarning:\n",
      "\n",
      "upload_artifact is experimental (supported from v3.3.0). The interface can change in the future.\n",
      "\n",
      "<ipython-input-37-1c6539846d38>:94: ExperimentalWarning:\n",
      "\n",
      "upload_artifact is experimental (supported from v3.3.0). The interface can change in the future.\n",
      "\n",
      "[I 2024-08-24 09:03:28,589] Trial 639 finished with value: 0.514516864065332 and parameters: {'lambda_l1': 5.61868231208687, 'lambda_l2': 0.32332358645449955, 'num_leaves': 22, 'feature_fraction': 0.47901486255845005, 'bagging_fraction': 0.42332891914916454, 'bagging_freq': 3, 'min_child_samples': 25}. Best is trial 45 with value: 1.0.\n",
      "<ipython-input-37-1c6539846d38>:86: ExperimentalWarning:\n",
      "\n",
      "upload_artifact is experimental (supported from v3.3.0). The interface can change in the future.\n",
      "\n",
      "<ipython-input-37-1c6539846d38>:94: ExperimentalWarning:\n",
      "\n",
      "upload_artifact is experimental (supported from v3.3.0). The interface can change in the future.\n",
      "\n",
      "[I 2024-08-24 09:03:44,947] Trial 640 finished with value: 0.5195800117400532 and parameters: {'lambda_l1': 0.05480555539339335, 'lambda_l2': 5.1421390469451085, 'num_leaves': 17, 'feature_fraction': 0.4459583841485652, 'bagging_fraction': 0.4590873354029231, 'bagging_freq': 1, 'min_child_samples': 10}. Best is trial 45 with value: 1.0.\n",
      "<ipython-input-37-1c6539846d38>:86: ExperimentalWarning:\n",
      "\n",
      "upload_artifact is experimental (supported from v3.3.0). The interface can change in the future.\n",
      "\n",
      "<ipython-input-37-1c6539846d38>:94: ExperimentalWarning:\n",
      "\n",
      "upload_artifact is experimental (supported from v3.3.0). The interface can change in the future.\n",
      "\n",
      "[I 2024-08-24 09:04:01,701] Trial 641 finished with value: 0.5228435123391729 and parameters: {'lambda_l1': 0.30207740112483417, 'lambda_l2': 0.7859377806615706, 'num_leaves': 32, 'feature_fraction': 0.4961320874217023, 'bagging_fraction': 0.5107337764152571, 'bagging_freq': 2, 'min_child_samples': 23}. Best is trial 45 with value: 1.0.\n",
      "<ipython-input-37-1c6539846d38>:86: ExperimentalWarning:\n",
      "\n",
      "upload_artifact is experimental (supported from v3.3.0). The interface can change in the future.\n",
      "\n",
      "<ipython-input-37-1c6539846d38>:94: ExperimentalWarning:\n",
      "\n",
      "upload_artifact is experimental (supported from v3.3.0). The interface can change in the future.\n",
      "\n",
      "[I 2024-08-24 09:04:29,627] Trial 642 finished with value: 0.5191531475466155 and parameters: {'lambda_l1': 1.9698794290520782, 'lambda_l2': 9.873898736750728, 'num_leaves': 26, 'feature_fraction': 0.5527629298694245, 'bagging_fraction': 0.5479510908609664, 'bagging_freq': 1, 'min_child_samples': 13}. Best is trial 45 with value: 1.0.\n",
      "<ipython-input-37-1c6539846d38>:86: ExperimentalWarning:\n",
      "\n",
      "upload_artifact is experimental (supported from v3.3.0). The interface can change in the future.\n",
      "\n",
      "<ipython-input-37-1c6539846d38>:94: ExperimentalWarning:\n",
      "\n",
      "upload_artifact is experimental (supported from v3.3.0). The interface can change in the future.\n",
      "\n",
      "[I 2024-08-24 09:04:41,743] Trial 643 finished with value: 0.5180998320204536 and parameters: {'lambda_l1': 0.11710434357474118, 'lambda_l2': 2.0224482060819273, 'num_leaves': 20, 'feature_fraction': 0.5248084270589511, 'bagging_fraction': 0.48607364663326075, 'bagging_freq': 1, 'min_child_samples': 32}. Best is trial 45 with value: 1.0.\n",
      "<ipython-input-37-1c6539846d38>:86: ExperimentalWarning:\n",
      "\n",
      "upload_artifact is experimental (supported from v3.3.0). The interface can change in the future.\n",
      "\n",
      "<ipython-input-37-1c6539846d38>:94: ExperimentalWarning:\n",
      "\n",
      "upload_artifact is experimental (supported from v3.3.0). The interface can change in the future.\n",
      "\n",
      "[I 2024-08-24 09:04:55,279] Trial 644 finished with value: 0.5185109351513092 and parameters: {'lambda_l1': 3.9908180548388335, 'lambda_l2': 9.96514015880068, 'num_leaves': 12, 'feature_fraction': 0.5810274670947913, 'bagging_fraction': 0.4397349594175697, 'bagging_freq': 1, 'min_child_samples': 17}. Best is trial 45 with value: 1.0.\n",
      "<ipython-input-37-1c6539846d38>:86: ExperimentalWarning:\n",
      "\n",
      "upload_artifact is experimental (supported from v3.3.0). The interface can change in the future.\n",
      "\n",
      "<ipython-input-37-1c6539846d38>:94: ExperimentalWarning:\n",
      "\n",
      "upload_artifact is experimental (supported from v3.3.0). The interface can change in the future.\n",
      "\n",
      "[I 2024-08-24 09:05:15,133] Trial 645 finished with value: 0.5232994285571131 and parameters: {'lambda_l1': 0.6009086920874985, 'lambda_l2': 3.312962477661472, 'num_leaves': 16, 'feature_fraction': 0.457436837473278, 'bagging_fraction': 0.4696602486005988, 'bagging_freq': 2, 'min_child_samples': 19}. Best is trial 45 with value: 1.0.\n",
      "<ipython-input-37-1c6539846d38>:86: ExperimentalWarning:\n",
      "\n",
      "upload_artifact is experimental (supported from v3.3.0). The interface can change in the future.\n",
      "\n",
      "<ipython-input-37-1c6539846d38>:94: ExperimentalWarning:\n",
      "\n",
      "upload_artifact is experimental (supported from v3.3.0). The interface can change in the future.\n",
      "\n",
      "[I 2024-08-24 09:05:25,614] Trial 646 finished with value: 0.5098202442299092 and parameters: {'lambda_l1': 1.2055921370306604, 'lambda_l2': 3.2807857651152667e-06, 'num_leaves': 2, 'feature_fraction': 0.6095307177780183, 'bagging_fraction': 0.5312625972638146, 'bagging_freq': 5, 'min_child_samples': 15}. Best is trial 45 with value: 1.0.\n",
      "<ipython-input-37-1c6539846d38>:86: ExperimentalWarning:\n",
      "\n",
      "upload_artifact is experimental (supported from v3.3.0). The interface can change in the future.\n",
      "\n",
      "<ipython-input-37-1c6539846d38>:94: ExperimentalWarning:\n",
      "\n",
      "upload_artifact is experimental (supported from v3.3.0). The interface can change in the future.\n",
      "\n",
      "[I 2024-08-24 09:06:52,223] Trial 647 finished with value: 0.520201146019277 and parameters: {'lambda_l1': 0.029387014715655326, 'lambda_l2': 5.155276057081851, 'num_leaves': 50, 'feature_fraction': 0.5430487565530449, 'bagging_fraction': 0.499859475744334, 'bagging_freq': 2, 'min_child_samples': 29}. Best is trial 45 with value: 1.0.\n",
      "<ipython-input-37-1c6539846d38>:86: ExperimentalWarning:\n",
      "\n",
      "upload_artifact is experimental (supported from v3.3.0). The interface can change in the future.\n",
      "\n",
      "<ipython-input-37-1c6539846d38>:94: ExperimentalWarning:\n",
      "\n",
      "upload_artifact is experimental (supported from v3.3.0). The interface can change in the future.\n",
      "\n",
      "[I 2024-08-24 09:07:18,870] Trial 648 finished with value: 0.5237491121954367 and parameters: {'lambda_l1': 0.20723756729090795, 'lambda_l2': 0.11274144847312645, 'num_leaves': 8, 'feature_fraction': 0.5151800481555486, 'bagging_fraction': 0.5779375931183052, 'bagging_freq': 1, 'min_child_samples': 22}. Best is trial 45 with value: 1.0.\n",
      "<ipython-input-37-1c6539846d38>:86: ExperimentalWarning:\n",
      "\n",
      "upload_artifact is experimental (supported from v3.3.0). The interface can change in the future.\n",
      "\n",
      "<ipython-input-37-1c6539846d38>:94: ExperimentalWarning:\n",
      "\n",
      "upload_artifact is experimental (supported from v3.3.0). The interface can change in the future.\n",
      "\n",
      "[I 2024-08-24 09:07:38,608] Trial 649 finished with value: 0.5144963785931972 and parameters: {'lambda_l1': 9.598578263289516, 'lambda_l2': 6.967902482747806, 'num_leaves': 22, 'feature_fraction': 0.4865901332506138, 'bagging_fraction': 0.45062573311503, 'bagging_freq': 7, 'min_child_samples': 9}. Best is trial 45 with value: 1.0.\n",
      "<ipython-input-37-1c6539846d38>:86: ExperimentalWarning:\n",
      "\n",
      "upload_artifact is experimental (supported from v3.3.0). The interface can change in the future.\n",
      "\n",
      "<ipython-input-37-1c6539846d38>:94: ExperimentalWarning:\n",
      "\n",
      "upload_artifact is experimental (supported from v3.3.0). The interface can change in the future.\n",
      "\n",
      "[I 2024-08-24 09:07:54,584] Trial 650 finished with value: 0.5171423541824716 and parameters: {'lambda_l1': 0.33213996287010294, 'lambda_l2': 1.497920735114991, 'num_leaves': 28, 'feature_fraction': 0.4998800065372549, 'bagging_fraction': 0.514913658830058, 'bagging_freq': 1, 'min_child_samples': 26}. Best is trial 45 with value: 1.0.\n",
      "<ipython-input-37-1c6539846d38>:86: ExperimentalWarning:\n",
      "\n",
      "upload_artifact is experimental (supported from v3.3.0). The interface can change in the future.\n",
      "\n",
      "<ipython-input-37-1c6539846d38>:94: ExperimentalWarning:\n",
      "\n",
      "upload_artifact is experimental (supported from v3.3.0). The interface can change in the future.\n",
      "\n",
      "[I 2024-08-24 09:08:12,751] Trial 651 finished with value: 0.5089073586284407 and parameters: {'lambda_l1': 0.7188342850342754, 'lambda_l2': 2.3694836212425865, 'num_leaves': 36, 'feature_fraction': 0.4229854676712597, 'bagging_fraction': 0.42792482649686625, 'bagging_freq': 6, 'min_child_samples': 45}. Best is trial 45 with value: 1.0.\n",
      "<ipython-input-37-1c6539846d38>:86: ExperimentalWarning:\n",
      "\n",
      "upload_artifact is experimental (supported from v3.3.0). The interface can change in the future.\n",
      "\n",
      "<ipython-input-37-1c6539846d38>:94: ExperimentalWarning:\n",
      "\n",
      "upload_artifact is experimental (supported from v3.3.0). The interface can change in the future.\n",
      "\n",
      "[I 2024-08-24 09:08:27,945] Trial 652 finished with value: 0.5239281014336362 and parameters: {'lambda_l1': 0.1333798219688214, 'lambda_l2': 4.013550435748826, 'num_leaves': 18, 'feature_fraction': 0.47020759437370097, 'bagging_fraction': 0.4822919294436131, 'bagging_freq': 2, 'min_child_samples': 34}. Best is trial 45 with value: 1.0.\n",
      "<ipython-input-37-1c6539846d38>:86: ExperimentalWarning:\n",
      "\n",
      "upload_artifact is experimental (supported from v3.3.0). The interface can change in the future.\n",
      "\n",
      "<ipython-input-37-1c6539846d38>:94: ExperimentalWarning:\n",
      "\n",
      "upload_artifact is experimental (supported from v3.3.0). The interface can change in the future.\n",
      "\n",
      "[I 2024-08-24 09:08:53,354] Trial 653 finished with value: 0.505328221277231 and parameters: {'lambda_l1': 0.06790952736950098, 'lambda_l2': 0.5101005277108861, 'num_leaves': 177, 'feature_fraction': 0.5653884923152087, 'bagging_fraction': 0.41262893173428217, 'bagging_freq': 1, 'min_child_samples': 24}. Best is trial 45 with value: 1.0.\n",
      "<ipython-input-37-1c6539846d38>:86: ExperimentalWarning:\n",
      "\n",
      "upload_artifact is experimental (supported from v3.3.0). The interface can change in the future.\n",
      "\n",
      "<ipython-input-37-1c6539846d38>:94: ExperimentalWarning:\n",
      "\n",
      "upload_artifact is experimental (supported from v3.3.0). The interface can change in the future.\n",
      "\n",
      "[I 2024-08-24 09:09:09,317] Trial 654 finished with value: 0.5175075843106526 and parameters: {'lambda_l1': 2.5424122613688174, 'lambda_l2': 0.8956849904560955, 'num_leaves': 12, 'feature_fraction': 0.43967115219739494, 'bagging_fraction': 0.4619941728892864, 'bagging_freq': 4, 'min_child_samples': 11}. Best is trial 45 with value: 1.0.\n",
      "<ipython-input-37-1c6539846d38>:86: ExperimentalWarning:\n",
      "\n",
      "upload_artifact is experimental (supported from v3.3.0). The interface can change in the future.\n",
      "\n",
      "<ipython-input-37-1c6539846d38>:94: ExperimentalWarning:\n",
      "\n",
      "upload_artifact is experimental (supported from v3.3.0). The interface can change in the future.\n",
      "\n",
      "[I 2024-08-24 09:09:24,499] Trial 655 finished with value: 0.5145168692327864 and parameters: {'lambda_l1': 0.4128060270957995, 'lambda_l2': 6.958736581118326, 'num_leaves': 32, 'feature_fraction': 0.5280941075327483, 'bagging_fraction': 0.49364472503051876, 'bagging_freq': 2, 'min_child_samples': 20}. Best is trial 45 with value: 1.0.\n",
      "<ipython-input-37-1c6539846d38>:86: ExperimentalWarning:\n",
      "\n",
      "upload_artifact is experimental (supported from v3.3.0). The interface can change in the future.\n",
      "\n",
      "<ipython-input-37-1c6539846d38>:94: ExperimentalWarning:\n",
      "\n",
      "upload_artifact is experimental (supported from v3.3.0). The interface can change in the future.\n",
      "\n",
      "[I 2024-08-24 09:09:46,820] Trial 656 finished with value: 0.5266621525947833 and parameters: {'lambda_l1': 6.443052987725783e-05, 'lambda_l2': 2.9507521800102907, 'num_leaves': 24, 'feature_fraction': 0.4001972043057867, 'bagging_fraction': 0.9683280968197809, 'bagging_freq': 1, 'min_child_samples': 31}. Best is trial 45 with value: 1.0.\n",
      "<ipython-input-37-1c6539846d38>:86: ExperimentalWarning:\n",
      "\n",
      "upload_artifact is experimental (supported from v3.3.0). The interface can change in the future.\n",
      "\n",
      "<ipython-input-37-1c6539846d38>:94: ExperimentalWarning:\n",
      "\n",
      "upload_artifact is experimental (supported from v3.3.0). The interface can change in the future.\n",
      "\n",
      "[I 2024-08-24 09:10:00,024] Trial 657 finished with value: 0.5209366111920445 and parameters: {'lambda_l1': 0.9651422788639167, 'lambda_l2': 4.42582925180533, 'num_leaves': 41, 'feature_fraction': 0.5075345835675117, 'bagging_fraction': 0.8845966350309016, 'bagging_freq': 3, 'min_child_samples': 37}. Best is trial 45 with value: 1.0.\n",
      "<ipython-input-37-1c6539846d38>:86: ExperimentalWarning:\n",
      "\n",
      "upload_artifact is experimental (supported from v3.3.0). The interface can change in the future.\n",
      "\n",
      "<ipython-input-37-1c6539846d38>:94: ExperimentalWarning:\n",
      "\n",
      "upload_artifact is experimental (supported from v3.3.0). The interface can change in the future.\n",
      "\n",
      "[I 2024-08-24 09:10:14,701] Trial 658 finished with value: 0.5184358283562661 and parameters: {'lambda_l1': 5.157226122120745, 'lambda_l2': 0.0010137980906887408, 'num_leaves': 187, 'feature_fraction': 0.5388740567866116, 'bagging_fraction': 0.4443122985485008, 'bagging_freq': 1, 'min_child_samples': 13}. Best is trial 45 with value: 1.0.\n",
      "<ipython-input-37-1c6539846d38>:86: ExperimentalWarning:\n",
      "\n",
      "upload_artifact is experimental (supported from v3.3.0). The interface can change in the future.\n",
      "\n",
      "<ipython-input-37-1c6539846d38>:94: ExperimentalWarning:\n",
      "\n",
      "upload_artifact is experimental (supported from v3.3.0). The interface can change in the future.\n",
      "\n",
      "[I 2024-08-24 09:10:24,538] Trial 659 finished with value: 0.5118068185880261 and parameters: {'lambda_l1': 0.17541366732583366, 'lambda_l2': 0.019122561211127046, 'num_leaves': 7, 'feature_fraction': 0.49149357898919444, 'bagging_fraction': 0.5590944569277343, 'bagging_freq': 2, 'min_child_samples': 7}. Best is trial 45 with value: 1.0.\n",
      "<ipython-input-37-1c6539846d38>:86: ExperimentalWarning:\n",
      "\n",
      "upload_artifact is experimental (supported from v3.3.0). The interface can change in the future.\n",
      "\n",
      "<ipython-input-37-1c6539846d38>:94: ExperimentalWarning:\n",
      "\n",
      "upload_artifact is experimental (supported from v3.3.0). The interface can change in the future.\n",
      "\n",
      "[I 2024-08-24 09:10:36,946] Trial 660 finished with value: 0.5165845460124918 and parameters: {'lambda_l1': 0.09073413903099209, 'lambda_l2': 9.835643043919507, 'num_leaves': 27, 'feature_fraction': 0.47441770151407703, 'bagging_fraction': 0.47387264757747666, 'bagging_freq': 1, 'min_child_samples': 70}. Best is trial 45 with value: 1.0.\n",
      "<ipython-input-37-1c6539846d38>:86: ExperimentalWarning:\n",
      "\n",
      "upload_artifact is experimental (supported from v3.3.0). The interface can change in the future.\n",
      "\n",
      "<ipython-input-37-1c6539846d38>:94: ExperimentalWarning:\n",
      "\n",
      "upload_artifact is experimental (supported from v3.3.0). The interface can change in the future.\n",
      "\n",
      "[I 2024-08-24 09:10:50,602] Trial 661 finished with value: 0.5225075472584535 and parameters: {'lambda_l1': 0.26842433895972084, 'lambda_l2': 1.6454288898824565, 'num_leaves': 20, 'feature_fraction': 0.5208739845446253, 'bagging_fraction': 0.5388793435892836, 'bagging_freq': 2, 'min_child_samples': 18}. Best is trial 45 with value: 1.0.\n",
      "<ipython-input-37-1c6539846d38>:86: ExperimentalWarning:\n",
      "\n",
      "upload_artifact is experimental (supported from v3.3.0). The interface can change in the future.\n",
      "\n",
      "<ipython-input-37-1c6539846d38>:94: ExperimentalWarning:\n",
      "\n",
      "upload_artifact is experimental (supported from v3.3.0). The interface can change in the future.\n",
      "\n",
      "[I 2024-08-24 09:11:02,089] Trial 662 finished with value: 0.518435883419798 and parameters: {'lambda_l1': 0.5723934644701839, 'lambda_l2': 5.433011273122737, 'num_leaves': 16, 'feature_fraction': 0.5510912983027074, 'bagging_fraction': 0.5042452282201711, 'bagging_freq': 1, 'min_child_samples': 16}. Best is trial 45 with value: 1.0.\n",
      "<ipython-input-37-1c6539846d38>:86: ExperimentalWarning:\n",
      "\n",
      "upload_artifact is experimental (supported from v3.3.0). The interface can change in the future.\n",
      "\n",
      "<ipython-input-37-1c6539846d38>:94: ExperimentalWarning:\n",
      "\n",
      "upload_artifact is experimental (supported from v3.3.0). The interface can change in the future.\n",
      "\n",
      "[I 2024-08-24 09:11:28,848] Trial 663 finished with value: 0.5223962744877527 and parameters: {'lambda_l1': 0.04386279046308153, 'lambda_l2': 2.6275660030548837, 'num_leaves': 32, 'feature_fraction': 0.5042955996795258, 'bagging_fraction': 0.5213067013178889, 'bagging_freq': 1, 'min_child_samples': 22}. Best is trial 45 with value: 1.0.\n",
      "<ipython-input-37-1c6539846d38>:86: ExperimentalWarning:\n",
      "\n",
      "upload_artifact is experimental (supported from v3.3.0). The interface can change in the future.\n",
      "\n",
      "<ipython-input-37-1c6539846d38>:94: ExperimentalWarning:\n",
      "\n",
      "upload_artifact is experimental (supported from v3.3.0). The interface can change in the future.\n",
      "\n",
      "[I 2024-08-24 09:11:51,048] Trial 664 finished with value: 0.5139059674808473 and parameters: {'lambda_l1': 0.3885178700512783, 'lambda_l2': 1.094378810236597, 'num_leaves': 72, 'feature_fraction': 0.5928140301528722, 'bagging_fraction': 0.46129643833545503, 'bagging_freq': 2, 'min_child_samples': 24}. Best is trial 45 with value: 1.0.\n",
      "<ipython-input-37-1c6539846d38>:86: ExperimentalWarning:\n",
      "\n",
      "upload_artifact is experimental (supported from v3.3.0). The interface can change in the future.\n",
      "\n",
      "<ipython-input-37-1c6539846d38>:94: ExperimentalWarning:\n",
      "\n",
      "upload_artifact is experimental (supported from v3.3.0). The interface can change in the future.\n",
      "\n",
      "[I 2024-08-24 09:12:06,892] Trial 665 finished with value: 0.5177489780860939 and parameters: {'lambda_l1': 0.7950693638244545, 'lambda_l2': 6.872644131195648, 'num_leaves': 12, 'feature_fraction': 0.4561114430232777, 'bagging_fraction': 0.429060977160239, 'bagging_freq': 1, 'min_child_samples': 5}. Best is trial 45 with value: 1.0.\n",
      "<ipython-input-37-1c6539846d38>:86: ExperimentalWarning:\n",
      "\n",
      "upload_artifact is experimental (supported from v3.3.0). The interface can change in the future.\n",
      "\n",
      "<ipython-input-37-1c6539846d38>:94: ExperimentalWarning:\n",
      "\n",
      "upload_artifact is experimental (supported from v3.3.0). The interface can change in the future.\n",
      "\n",
      "[I 2024-08-24 09:12:25,687] Trial 666 finished with value: 0.5250122663755658 and parameters: {'lambda_l1': 1.5378502561038823, 'lambda_l2': 3.7646091838650797, 'num_leaves': 21, 'feature_fraction': 0.42989159253608467, 'bagging_fraction': 0.6815575148285621, 'bagging_freq': 2, 'min_child_samples': 28}. Best is trial 45 with value: 1.0.\n",
      "<ipython-input-37-1c6539846d38>:86: ExperimentalWarning:\n",
      "\n",
      "upload_artifact is experimental (supported from v3.3.0). The interface can change in the future.\n",
      "\n",
      "<ipython-input-37-1c6539846d38>:94: ExperimentalWarning:\n",
      "\n",
      "upload_artifact is experimental (supported from v3.3.0). The interface can change in the future.\n",
      "\n",
      "[I 2024-08-24 09:12:46,332] Trial 667 finished with value: 0.5226598800000514 and parameters: {'lambda_l1': 3.102158068493143, 'lambda_l2': 2.10720602668244, 'num_leaves': 26, 'feature_fraction': 0.5181776376786906, 'bagging_fraction': 0.491041648005144, 'bagging_freq': 1, 'min_child_samples': 9}. Best is trial 45 with value: 1.0.\n",
      "<ipython-input-37-1c6539846d38>:86: ExperimentalWarning:\n",
      "\n",
      "upload_artifact is experimental (supported from v3.3.0). The interface can change in the future.\n",
      "\n",
      "<ipython-input-37-1c6539846d38>:94: ExperimentalWarning:\n",
      "\n",
      "upload_artifact is experimental (supported from v3.3.0). The interface can change in the future.\n",
      "\n",
      "[I 2024-08-24 09:13:03,000] Trial 668 finished with value: 0.5138023585618658 and parameters: {'lambda_l1': 0.15490217282264687, 'lambda_l2': 5.150673619241022, 'num_leaves': 64, 'feature_fraction': 0.5799937223973105, 'bagging_fraction': 0.4736931401487147, 'bagging_freq': 1, 'min_child_samples': 14}. Best is trial 45 with value: 1.0.\n",
      "<ipython-input-37-1c6539846d38>:86: ExperimentalWarning:\n",
      "\n",
      "upload_artifact is experimental (supported from v3.3.0). The interface can change in the future.\n",
      "\n",
      "<ipython-input-37-1c6539846d38>:94: ExperimentalWarning:\n",
      "\n",
      "upload_artifact is experimental (supported from v3.3.0). The interface can change in the future.\n",
      "\n",
      "[I 2024-08-24 09:13:14,954] Trial 669 finished with value: 0.5135804621686956 and parameters: {'lambda_l1': 0.2854114059662743, 'lambda_l2': 3.249563379632704, 'num_leaves': 46, 'feature_fraction': 0.4863887028586268, 'bagging_fraction': 0.44825054985912516, 'bagging_freq': 3, 'min_child_samples': 33}. Best is trial 45 with value: 1.0.\n",
      "<ipython-input-37-1c6539846d38>:86: ExperimentalWarning:\n",
      "\n",
      "upload_artifact is experimental (supported from v3.3.0). The interface can change in the future.\n",
      "\n",
      "<ipython-input-37-1c6539846d38>:94: ExperimentalWarning:\n",
      "\n",
      "upload_artifact is experimental (supported from v3.3.0). The interface can change in the future.\n",
      "\n",
      "[I 2024-08-24 09:13:30,715] Trial 670 finished with value: 0.5223525341992138 and parameters: {'lambda_l1': 7.072661197976802, 'lambda_l2': 7.09899176737624, 'num_leaves': 15, 'feature_fraction': 0.5603889324717717, 'bagging_fraction': 0.5294114563042986, 'bagging_freq': 2, 'min_child_samples': 11}. Best is trial 45 with value: 1.0.\n"
     ]
    }
   ],
   "source": [
    "#Inicio el store de artefactos (archivos) de optuna\n",
    "artifact_store = FileSystemArtifactStore(base_path=PATH_TO_OPTUNA_ARTIFACTS)\n",
    "\n",
    "#Genero estudio\n",
    "study = optuna.create_study(direction='maximize',\n",
    "                            storage=\"sqlite:///work/db.sqlite3\",  # Specify the storage URL here.\n",
    "                            study_name=\"04 - LGB Multiclass CV\",\n",
    "                            load_if_exists = True)\n",
    "#Corro la optimizacion\n",
    "study.optimize(cv_es_lgb_objective, n_trials=100)"
   ]
  },
  {
   "cell_type": "markdown",
   "metadata": {},
   "source": [
    "Para ver el optuna dashboard tengo que correr este comando en la terminal"
   ]
  },
  {
   "cell_type": "code",
   "execution_count": 39,
   "metadata": {},
   "outputs": [
    {
     "name": "stdout",
     "output_type": "stream",
     "text": [
      "Requirement already satisfied: kaleido in c:\\users\\s1093678\\anaconda3\\lib\\site-packages (0.2.1)\n"
     ]
    }
   ],
   "source": [
    "!pip install kaleido\n"
   ]
  },
  {
   "cell_type": "code",
   "execution_count": 40,
   "metadata": {},
   "outputs": [
    {
     "name": "stderr",
     "output_type": "stream",
     "text": [
      "Traceback (most recent call last):\n",
      "  File \"c:\\users\\s1093678\\anaconda3\\lib\\runpy.py\", line 194, in _run_module_as_main\n",
      "    return _run_code(code, main_globals, None,\n",
      "  File \"c:\\users\\s1093678\\anaconda3\\lib\\runpy.py\", line 87, in _run_code\n",
      "    exec(code, run_globals)\n",
      "  File \"C:\\Users\\s1093678\\Anaconda3\\Scripts\\optuna-dashboard.exe\\__main__.py\", line 7, in <module>\n",
      "  File \"c:\\users\\s1093678\\anaconda3\\lib\\site-packages\\optuna_dashboard\\_cli.py\", line 119, in main\n",
      "    storage = get_storage(args.storage, storage_class=args.storage_class)\n",
      "  File \"c:\\users\\s1093678\\anaconda3\\lib\\site-packages\\optuna_dashboard\\_storage_url.py\", line 59, in get_storage\n",
      "    return guess_storage_from_url(storage)\n",
      "  File \"c:\\users\\s1093678\\anaconda3\\lib\\site-packages\\optuna_dashboard\\_storage_url.py\", line 84, in guess_storage_from_url\n",
      "    return get_rdb_storage(storage_url)\n",
      "  File \"c:\\users\\s1093678\\anaconda3\\lib\\site-packages\\optuna_dashboard\\_storage_url.py\", line 91, in get_rdb_storage\n",
      "    return RDBStorage(storage_url, skip_compatibility_check=True, skip_table_creation=True)\n",
      "  File \"c:\\users\\s1093678\\anaconda3\\lib\\site-packages\\optuna\\storages\\_rdb\\storage.py\", line 218, in __init__\n",
      "    self.engine = sqlalchemy.engine.create_engine(self.url, **self.engine_kwargs)\n",
      "  File \"<string>\", line 2, in create_engine\n",
      "  File \"c:\\users\\s1093678\\anaconda3\\lib\\site-packages\\sqlalchemy\\util\\deprecations.py\", line 298, in warned\n",
      "    return fn(*args, **kwargs)\n",
      "  File \"c:\\users\\s1093678\\anaconda3\\lib\\site-packages\\sqlalchemy\\engine\\create.py\", line 564, in create_engine\n",
      "    (cargs, cparams) = dialect.create_connect_args(u)\n",
      "  File \"c:\\users\\s1093678\\anaconda3\\lib\\site-packages\\sqlalchemy\\dialects\\sqlite\\pysqlite.py\", line 542, in create_connect_args\n",
      "    raise exc.ArgumentError(\n",
      "sqlalchemy.exc.ArgumentError: Invalid SQLite URL: sqlite://work/db.sqlite3\n",
      "Valid SQLite URL forms are:\n",
      " sqlite:///:memory: (or, sqlite://)\n",
      " sqlite:///relative/path/to/file.db\n",
      " sqlite:////absolute/path/to/file.db\n"
     ]
    }
   ],
   "source": [
    "!optuna-dashboard sqlite://work/db.sqlite3 --artifact-dir ../work/optuna_artifacts --port 8081"
   ]
  },
  {
   "cell_type": "code",
   "execution_count": 41,
   "metadata": {},
   "outputs": [],
   "source": [
    "#para proxima clase hacer feature engeneering (agregar feature, health , colores, etc) pq hasta aca solo s ehizo con los variables numericas\n",
    "#TENER UN MODELO CANDIDATO TABULAR PARA SEGUIR ADELANTE \n",
    "#VAMOS A VER LA EJECUCION DE UN MODELO PARA BUCAR HIPERPARAMETROS ETC \n",
    "#DAR CON UN MODELO GANADOR\n"
   ]
  }
 ],
 "metadata": {
  "kernelspec": {
   "display_name": "ldi2",
   "language": "python",
   "name": "python3"
  },
  "language_info": {
   "codemirror_mode": {
    "name": "ipython",
    "version": 3
   },
   "file_extension": ".py",
   "mimetype": "text/x-python",
   "name": "python",
   "nbconvert_exporter": "python",
   "pygments_lexer": "ipython3",
   "version": "3.8.8"
  }
 },
 "nbformat": 4,
 "nbformat_minor": 2
}
