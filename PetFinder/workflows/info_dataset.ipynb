{
 "cells": [
  {
   "cell_type": "markdown",
   "metadata": {},
   "source": [
    "## Pet Finder Competition\n",
    "\n",
    "https://www.kaggle.com/competitions/petfinder-adoption-prediction"
   ]
  },
  {
   "cell_type": "code",
   "execution_count": null,
   "metadata": {},
   "outputs": [],
   "source": [
    "import pandas as pd\n",
    "\n",
    "##############################################################\n",
    "# Lectura de dataset\n",
    "##############################################################\n",
    "\n",
    "# Dataset directory\n",
    "ruta_dataset = \"../dataset/test/\"\n",
    "\n",
    "file_path = ruta_dataset + 'test.csv'\n",
    "df = pd.read_csv(file_path)\n",
    "\n",
    "df.head()"
   ]
  },
  {
   "cell_type": "code",
   "execution_count": 18,
   "metadata": {},
   "outputs": [
    {
     "name": "stdout",
     "output_type": "stream",
     "text": [
      "(3972, 23)\n",
      "Index(['Type', 'Name', 'Age', 'Breed1', 'Breed2', 'Gender', 'Color1', 'Color2',\n",
      "       'Color3', 'MaturitySize', 'FurLength', 'Vaccinated', 'Dewormed',\n",
      "       'Sterilized', 'Health', 'Quantity', 'Fee', 'State', 'RescuerID',\n",
      "       'VideoAmt', 'Description', 'PetID', 'PhotoAmt'],\n",
      "      dtype='object')\n",
      "Type              0\n",
      "Name            414\n",
      "Age               0\n",
      "Breed1            0\n",
      "Breed2            0\n",
      "Gender            0\n",
      "Color1            0\n",
      "Color2            0\n",
      "Color3            0\n",
      "MaturitySize      0\n",
      "FurLength         0\n",
      "Vaccinated        0\n",
      "Dewormed          0\n",
      "Sterilized        0\n",
      "Health            0\n",
      "Quantity          0\n",
      "Fee               0\n",
      "State             0\n",
      "RescuerID         0\n",
      "VideoAmt          0\n",
      "Description       1\n",
      "PetID             0\n",
      "PhotoAmt          0\n",
      "dtype: int64\n"
     ]
    }
   ],
   "source": [
    "# Tamaño del dataset\n",
    "print(df.shape)\n",
    "\n",
    "# Name of columns\n",
    "print(df.columns)\n",
    "\n",
    "# Valores faltantes\n",
    "print(df.isnull().sum())"
   ]
  },
  {
   "cell_type": "code",
   "execution_count": 17,
   "metadata": {},
   "outputs": [
    {
     "name": "stdout",
     "output_type": "stream",
     "text": [
      "              Type          Age       Breed1       Breed2       Gender  \\\n",
      "count  3972.000000  3972.000000  3972.000000  3972.000000  3972.000000   \n",
      "mean      1.471299    11.290534   263.628651    66.110775     1.769889   \n",
      "std       0.499238    17.497150    60.241316   118.167713     0.688737   \n",
      "min       1.000000     0.000000     2.000000     0.000000     1.000000   \n",
      "25%       1.000000     2.000000   265.000000     0.000000     1.000000   \n",
      "50%       1.000000     4.000000   266.000000     0.000000     2.000000   \n",
      "75%       2.000000    12.000000   307.000000    45.250000     2.000000   \n",
      "max       2.000000   156.000000   307.000000   307.000000     3.000000   \n",
      "\n",
      "            Color1       Color2       Color3  MaturitySize    FurLength  \\\n",
      "count  3972.000000  3972.000000  3972.000000   3972.000000  3972.000000   \n",
      "mean      2.261581     3.277946     1.903575      1.848691     1.450655   \n",
      "std       1.785615     2.745439     2.974756      0.553386     0.601209   \n",
      "min       1.000000     0.000000     0.000000      1.000000     1.000000   \n",
      "25%       1.000000     0.000000     0.000000      2.000000     1.000000   \n",
      "50%       1.000000     2.000000     0.000000      2.000000     1.000000   \n",
      "75%       3.000000     6.000000     5.000000      2.000000     2.000000   \n",
      "max       7.000000     7.000000     7.000000      4.000000     3.000000   \n",
      "\n",
      "        Vaccinated     Dewormed   Sterilized       Health     Quantity  \\\n",
      "count  3972.000000  3972.000000  3972.000000  3972.000000  3972.000000   \n",
      "mean      1.697130     1.518127     1.895015     1.040534     1.597180   \n",
      "std       0.675627     0.685074     0.598248     0.208407     1.500566   \n",
      "min       1.000000     1.000000     1.000000     1.000000     1.000000   \n",
      "25%       1.000000     1.000000     2.000000     1.000000     1.000000   \n",
      "50%       2.000000     1.000000     2.000000     1.000000     1.000000   \n",
      "75%       2.000000     2.000000     2.000000     1.000000     1.000000   \n",
      "max       3.000000     3.000000     3.000000     3.000000    20.000000   \n",
      "\n",
      "               Fee         State     VideoAmt     PhotoAmt  \n",
      "count  3972.000000   3972.000000  3972.000000  3972.000000  \n",
      "mean     21.769637  41347.259063     0.042548     3.641742  \n",
      "std      79.283772     32.965854     0.302682     3.373247  \n",
      "min       0.000000  41324.000000     0.000000     0.000000  \n",
      "25%       0.000000  41326.000000     0.000000     1.000000  \n",
      "50%       0.000000  41327.000000     0.000000     3.000000  \n",
      "75%       0.000000  41401.000000     0.000000     5.000000  \n",
      "max    1500.000000  41415.000000     8.000000    30.000000  \n"
     ]
    }
   ],
   "source": [
    "# Dataset summary\n",
    "print(df.describe())"
   ]
  }
 ],
 "metadata": {
  "kernelspec": {
   "display_name": "base",
   "language": "python",
   "name": "python3"
  },
  "language_info": {
   "codemirror_mode": {
    "name": "ipython",
    "version": 3
   },
   "file_extension": ".py",
   "mimetype": "text/x-python",
   "name": "python",
   "nbconvert_exporter": "python",
   "pygments_lexer": "ipython3",
   "version": "3.12.4"
  }
 },
 "nbformat": 4,
 "nbformat_minor": 2
}
